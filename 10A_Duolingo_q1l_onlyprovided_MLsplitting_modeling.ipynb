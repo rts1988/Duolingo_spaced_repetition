{
  "cells": [
    {
      "cell_type": "markdown",
      "metadata": {
        "id": "view-in-github",
        "colab_type": "text"
      },
      "source": [
        "<a href=\"https://colab.research.google.com/github/rts1988/Duolingo_spaced_repetition/blob/main/10A_Duolingo_q1l_onlyprovided_MLsplitting_modeling.ipynb\" target=\"_parent\"><img src=\"https://colab.research.google.com/assets/colab-badge.svg\" alt=\"Open In Colab\"/></a>"
      ]
    },
    {
      "cell_type": "markdown",
      "source": [
        "<font color='cornflowerblue' size=4>Introduction</font>\n",
        "\n",
        "Looks at a baseline model using only what was provided by Duolingo - no derived features used. \n",
        "\n",
        "\n",
        "The training set contains around 8 million records with 16% records with forgotten words. Since the dataset is imbalanced, and the dataset is large enough, downsampling will be done.\n",
        "\n",
        "Plan:\n",
        "\n",
        "1. Split datasets into training and validation with 80-20. \n",
        "2. Downsample training set to equal class proportions.\n",
        "\n",
        "Classical ML models: understanding overall feature importances.\n",
        "Prep: from the downsampled training set, select at most 1 million records, and fit the following models\n",
        "\n",
        "1. Logistic Regression (L2 penalty, vary C and class weight)\n",
        "2. Decision Tree (vary max_depth, class_weight)\n",
        "\n",
        "\n",
        "Ensemble techniques:\n",
        "Prep: Use the full downsampled dataset\n",
        "1. Random Forest (vary n_estimators, )\n",
        "2. XGBoost\n",
        "3. AdaBoost\n",
        "\n",
        "Neural Net (keras)\n",
        "1. Dense architecture\n",
        "2\n"
      ],
      "metadata": {
        "id": "O70b2pW5u66c"
      }
    },
    {
      "cell_type": "markdown",
      "source": [
        "## <font color = 'cornflowerblue' size=4>Splitting trainingset into train and validation sets</font>"
      ],
      "metadata": {
        "id": "Jr38LEKQxR9z"
      }
    },
    {
      "cell_type": "markdown",
      "metadata": {
        "id": "KnpvNDT7lpB6"
      },
      "source": [
        "Importing libraries, mounting google drive, and getting Q1TRAIN pipe1 set. "
      ]
    },
    {
      "cell_type": "code",
      "execution_count": null,
      "metadata": {
        "colab": {
          "base_uri": "https://localhost:8080/"
        },
        "id": "R-WTApfQPI6o",
        "outputId": "4f13ec36-7521-49c3-e57d-82756d290e45"
      },
      "outputs": [
        {
          "output_type": "stream",
          "name": "stdout",
          "text": [
            "Mounted at /content/drive\n"
          ]
        }
      ],
      "source": [
        "import warnings\n",
        "warnings.filterwarnings('ignore')\n",
        "\n",
        "import bz2\n",
        "import pickle\n",
        "import _pickle as cPickle\n",
        "import pandas as pd\n",
        "import seaborn as sns\n",
        "import matplotlib.pyplot as plt\n",
        "import numpy as np\n",
        "\n",
        "from google.colab import drive\n",
        "drive.mount('/content/drive')\n",
        "\n",
        "def decompress_pickle(file):\n",
        " data = bz2.BZ2File(file, 'rb')\n",
        " data = cPickle.load(data)\n",
        " return data\n",
        "\n",
        "def compressed_pickle(title, data):  # do not add extension in filename\n",
        " with bz2.BZ2File(title + '.pbz2', 'w') as f: \n",
        "  cPickle.dump(data, f)\n",
        "\n",
        "path_name = '/content/drive/MyDrive/'"
      ]
    },
    {
      "cell_type": "code",
      "execution_count": null,
      "metadata": {
        "id": "EWDuQfNJPuhp"
      },
      "outputs": [],
      "source": [
        "q1trainXsp = decompress_pickle(path_name+\"Q1TRAIN_pipe4.pbz2\") "
      ]
    },
    {
      "cell_type": "code",
      "execution_count": null,
      "metadata": {
        "colab": {
          "base_uri": "https://localhost:8080/"
        },
        "id": "vhl6x5D-PvMh",
        "outputId": "53889227-92e2-45ad-9369-c00944f144e0"
      },
      "outputs": [
        {
          "output_type": "execute_result",
          "data": {
            "text/plain": [
              "((8070561, 28), 225.975708)"
            ]
          },
          "metadata": {},
          "execution_count": 3
        }
      ],
      "source": [
        "q1trainXsp.shape, q1trainXsp.size/10**6"
      ]
    },
    {
      "cell_type": "markdown",
      "source": [
        "Isolating the desired columns (that were provided in the dataset)"
      ],
      "metadata": {
        "id": "62egop9MYaqy"
      }
    },
    {
      "cell_type": "code",
      "source": [
        "q1trainXsp.columns"
      ],
      "metadata": {
        "colab": {
          "base_uri": "https://localhost:8080/"
        },
        "id": "70aNrUCXYaRD",
        "outputId": "b406034d-72ad-4f4c-c019-02980dbd7985"
      },
      "execution_count": null,
      "outputs": [
        {
          "output_type": "execute_result",
          "data": {
            "text/plain": [
              "Index([               'lexeme_id',                    'delta',\n",
              "                   'history_seen',             'history_frac',\n",
              "                    'simoverdiff',               'EnglishIDF',\n",
              "                      'sf_length', 'L_dist_sf_noaccents_norm',\n",
              "                                0,                          1,\n",
              "                                2,                          3,\n",
              "                                4,                          5,\n",
              "                                6,                          7,\n",
              "                                8,                          9,\n",
              "                               10,                         11,\n",
              "                               12,                         13,\n",
              "                               14,                         15,\n",
              "                               16,                         17,\n",
              "                               18,                         19],\n",
              "      dtype='object')"
            ]
          },
          "metadata": {},
          "execution_count": 4
        }
      ]
    },
    {
      "cell_type": "code",
      "source": [
        "q1trainXsp = q1trainXsp[['delta','history_seen','history_frac','simoverdiff']]"
      ],
      "metadata": {
        "id": "QQzdiFLiYo6k"
      },
      "execution_count": null,
      "outputs": []
    },
    {
      "cell_type": "code",
      "source": [
        "q1train_y = decompress_pickle(path_name+\"Q1TRAIN_Y_pipe4.pbz2\") "
      ],
      "metadata": {
        "id": "bj7cTP1sy-dY"
      },
      "execution_count": null,
      "outputs": []
    },
    {
      "cell_type": "code",
      "execution_count": null,
      "metadata": {
        "colab": {
          "base_uri": "https://localhost:8080/"
        },
        "id": "G9QMPnwGmpPT",
        "outputId": "77a15ef2-8be6-4e73-9119-92870b9a31ac"
      },
      "outputs": [
        {
          "output_type": "execute_result",
          "data": {
            "text/plain": [
              "(pandas.core.frame.DataFrame, pandas.core.series.Series)"
            ]
          },
          "metadata": {},
          "execution_count": 8
        }
      ],
      "source": [
        "type(q1trainXsp), type(q1train_y)"
      ]
    },
    {
      "cell_type": "markdown",
      "source": [
        "## Splitting into training and validation sets 90-10"
      ],
      "metadata": {
        "id": "BV2qGgX0zRQa"
      }
    },
    {
      "cell_type": "markdown",
      "metadata": {
        "id": "xnaMooTbn_2O"
      },
      "source": [
        "splitting into 80-20 training and validation set with a random state = 5. (had to remove stratify argument, because it doesn't work for sparse arrays)"
      ]
    },
    {
      "cell_type": "code",
      "execution_count": null,
      "metadata": {
        "id": "ZRtwPyivnH9X"
      },
      "outputs": [],
      "source": [
        "from sklearn.model_selection import train_test_split\n",
        "\n",
        "Xq1_train, Xq1_valid, yq1_train, yq1_valid = train_test_split(q1trainXsp,q1train_y,test_size=0.1,random_state=5)"
      ]
    },
    {
      "cell_type": "code",
      "execution_count": null,
      "metadata": {
        "colab": {
          "base_uri": "https://localhost:8080/"
        },
        "id": "nMhbmTs9oHd0",
        "outputId": "1d8f23e7-3dc5-4913-8aae-8f87abea3354"
      },
      "outputs": [
        {
          "output_type": "execute_result",
          "data": {
            "text/plain": [
              "((7263504, 4), (807057, 4), (7263504,), (807057,))"
            ]
          },
          "metadata": {},
          "execution_count": 10
        }
      ],
      "source": [
        "Xq1_train.shape, Xq1_valid.shape, yq1_train.shape, yq1_valid.shape"
      ]
    },
    {
      "cell_type": "markdown",
      "metadata": {
        "id": "3uYfRNqVpjFt"
      },
      "source": [
        "Fraction of ones in the train and validation sets"
      ]
    },
    {
      "cell_type": "code",
      "execution_count": null,
      "metadata": {
        "colab": {
          "base_uri": "https://localhost:8080/"
        },
        "id": "yrRvYfHeoNrA",
        "outputId": "acec6690-a699-4088-adf6-e82c8f0b8764"
      },
      "outputs": [
        {
          "output_type": "execute_result",
          "data": {
            "text/plain": [
              "(0.16344962431355445, 0.1641990590503521)"
            ]
          },
          "metadata": {},
          "execution_count": 11
        }
      ],
      "source": [
        "yq1_train.sum()/yq1_train.shape[0], yq1_valid.sum()/yq1_valid.shape[0]"
      ]
    },
    {
      "cell_type": "markdown",
      "source": [
        "## <font color = 'cornflowerblue' size=4>Classical models:\n",
        "\n",
        "The training set is now downsampled and reduced to 1 milion records for a quick run of classical models to see what the most important features are. "
      ],
      "metadata": {
        "id": "yZ6740n1yBxc"
      }
    },
    {
      "cell_type": "markdown",
      "source": [
        "### <font color = 'cornflowerblue' size=3>Downsampling training dataset</font>"
      ],
      "metadata": {
        "id": "_Wm1uNTRymID"
      }
    },
    {
      "cell_type": "code",
      "source": [
        "# creating sparse dataframe from sparse matrix\n",
        "df = pd.DataFrame(Xq1_train)\n",
        "# combining with y\n",
        "df['y'] = yq1_train\n",
        "\n",
        "# nsplitting sparse dataframe by class values\n",
        "df0 = df[df['y']==0]\n",
        "df1 = df[df['y']==1]\n",
        "\n",
        "# number of positive samples\n",
        "numdf1 = df1.shape[0]\n",
        "\n",
        "# what fraction of df0 do we need to equal the numbers of df1?\n",
        "fractiondf0 = numdf1/df0.shape[0]\n",
        "\n",
        "# sampling from negative class samples to get only the fraction needed \n",
        "df0_ = df0.sample(frac = fractiondf0,random_state = 15)\n",
        "\n",
        "# recombine and shuffle downsampled negative samples df0_ and all of positive samples df1:\n",
        "df_downsampled = pd.concat([df0_, df1],axis=0).sample(frac=1,random_state=20)\n",
        "\n"
      ],
      "metadata": {
        "id": "b27zX0afyQrB"
      },
      "execution_count": null,
      "outputs": []
    },
    {
      "cell_type": "code",
      "source": [
        "# create the sparse matrices ready for training\n",
        "yq1_train_ds = df_downsampled['y']\n",
        "Xq1_train_ds = df_downsampled.drop('y',axis=1)\n",
        "\n"
      ],
      "metadata": {
        "id": "0HrMjwbb3xHI"
      },
      "execution_count": null,
      "outputs": []
    },
    {
      "cell_type": "code",
      "source": [
        "Xq1_train_ds.shape, yq1_train_ds.shape, numdf1, df0_.shape, df1.shape, df0.shape, df.shape"
      ],
      "metadata": {
        "colab": {
          "base_uri": "https://localhost:8080/"
        },
        "id": "Wf6ans3p1Qrj",
        "outputId": "2ae009a9-80fc-43c0-a470-96b59fdef2f6"
      },
      "execution_count": null,
      "outputs": [
        {
          "output_type": "execute_result",
          "data": {
            "text/plain": [
              "((2374434, 4),\n",
              " (2374434,),\n",
              " 1187217,\n",
              " (1187217, 5),\n",
              " (1187217, 5),\n",
              " (6076287, 5),\n",
              " (7263504, 5))"
            ]
          },
          "metadata": {},
          "execution_count": 14
        }
      ]
    },
    {
      "cell_type": "code",
      "source": [
        "yq1_train_ds.sum()/yq1_train_ds.shape[0]"
      ],
      "metadata": {
        "colab": {
          "base_uri": "https://localhost:8080/"
        },
        "id": "IC5Tj7aC8U73",
        "outputId": "ab55e3fd-0a68-46ed-860a-783447a476d6"
      },
      "execution_count": null,
      "outputs": [
        {
          "output_type": "execute_result",
          "data": {
            "text/plain": [
              "0.5"
            ]
          },
          "metadata": {},
          "execution_count": 15
        }
      ]
    },
    {
      "cell_type": "markdown",
      "source": [
        "Since there are around 1.33 million records in the downsampled dataset, no more reduction is necessary. The number of positive and negative samples is equal. "
      ],
      "metadata": {
        "id": "Tv6CtVyV4PDo"
      }
    },
    {
      "cell_type": "markdown",
      "source": [
        "### <font color= 'cornflowerblue' size=3>Scaling downsampled dataset</font>"
      ],
      "metadata": {
        "id": "WNAeVzp15e7i"
      }
    },
    {
      "cell_type": "markdown",
      "metadata": {
        "id": "DWZtKI4Cppws"
      },
      "source": [
        "They are about the same, we will use this split to test a number of models. They are saved below:\n",
        "\n",
        "First, we scale and transform the data using the min-max scaler. "
      ]
    },
    {
      "cell_type": "code",
      "execution_count": null,
      "metadata": {
        "id": "Rchgc0dFqH_C"
      },
      "outputs": [],
      "source": [
        "from sklearn.preprocessing import MaxAbsScaler # used because sparse array not supported by MinMaxScaler\n",
        "mm_scaler = MaxAbsScaler()\n",
        "\n",
        "mm_scaler.fit(Xq1_train_ds[[col for col in Xq1_train_ds if col!='lexeme_id']])\n",
        "Xq1_mm_train_ds = mm_scaler.transform(Xq1_train_ds)\n",
        "Xq1_mm_valid_ds = mm_scaler.transform(Xq1_valid) # downsampled scaler is applied. \n"
      ]
    },
    {
      "cell_type": "code",
      "source": [
        "Xq1_mm_train_ds.shape"
      ],
      "metadata": {
        "colab": {
          "base_uri": "https://localhost:8080/"
        },
        "id": "yYZakC7HXOPL",
        "outputId": "a0e173dc-9b4b-4f73-af68-b5bd97171300"
      },
      "execution_count": null,
      "outputs": [
        {
          "output_type": "execute_result",
          "data": {
            "text/plain": [
              "(2374434, 4)"
            ]
          },
          "metadata": {},
          "execution_count": 17
        }
      ]
    },
    {
      "cell_type": "markdown",
      "metadata": {
        "id": "4Tz2u-0Cq-jR"
      },
      "source": [
        "###<font color = 'cornflowerblue' size= 3>Logistic regression</font>\n",
        "\n",
        "Hyperparamters:\n",
        "1. C\n",
        "2. class weights\n"
      ]
    },
    {
      "cell_type": "code",
      "source": [
        "from sklearn.linear_model import LogisticRegression\n",
        "\n",
        "from sklearn.model_selection import cross_validate # return scores for many metrics\n",
        "\n",
        "from sklearn.metrics import make_scorer # to define a list of scoring metrics to use\n",
        "\n",
        "from sklearn.model_selection import GridSearchCV # to search hyperparameters in a grid \n",
        "\n",
        "classweight_vals = [{0:0.9,1:0.1},{0:0.01,1:0.99}]\n",
        "C_vals = [10**(-3),1,10**3]\n",
        "\n",
        "para_dict =dict()\n",
        "para_dict['class_weight'] = classweight_vals\n",
        "para_dict['C'] = C_vals\n",
        "\n",
        "\n",
        "# iterate over \n",
        "logreg = LogisticRegression(solver = 'lbfgs',max_iter=50)\n",
        "scoring_metrics = ['accuracy','f1','average_precision','roc_auc','recall']\n",
        "\n",
        "gridsearch_obj = GridSearchCV(logreg, n_jobs = 4, param_grid = para_dict,cv=3,scoring = scoring_metrics, verbose=1,refit=False)\n",
        "\n",
        "gridsearch_obj.fit(Xq1_mm_train_ds,yq1_train_ds)"
      ],
      "metadata": {
        "colab": {
          "base_uri": "https://localhost:8080/"
        },
        "id": "RgViWIk06f_n",
        "outputId": "4845b576-5513-4813-96d9-c12910d0f361"
      },
      "execution_count": null,
      "outputs": [
        {
          "output_type": "stream",
          "name": "stdout",
          "text": [
            "Fitting 3 folds for each of 6 candidates, totalling 18 fits\n"
          ]
        },
        {
          "output_type": "execute_result",
          "data": {
            "text/plain": [
              "GridSearchCV(cv=3, estimator=LogisticRegression(max_iter=50), n_jobs=4,\n",
              "             param_grid={'C': [0.001, 1, 1000],\n",
              "                         'class_weight': [{0: 0.9, 1: 0.1},\n",
              "                                          {0: 0.01, 1: 0.99}]},\n",
              "             refit=False,\n",
              "             scoring=['accuracy', 'f1', 'average_precision', 'roc_auc',\n",
              "                      'recall'],\n",
              "             verbose=1)"
            ]
          },
          "metadata": {},
          "execution_count": 18
        }
      ]
    },
    {
      "cell_type": "code",
      "source": [
        "gridcv = pd.DataFrame(gridsearch_obj.cv_results_)\n",
        "np.around(gridcv[['param_class_weight','param_C','mean_fit_time',  'mean_score_time', \n",
        "       'mean_test_accuracy','mean_test_average_precision','mean_test_roc_auc','mean_test_f1','mean_test_recall']],2)"
      ],
      "metadata": {
        "colab": {
          "base_uri": "https://localhost:8080/",
          "height": 281
        },
        "id": "wewl2QoN77jD",
        "outputId": "a89e8e94-eb03-4410-e74e-8393ce91dd61"
      },
      "execution_count": null,
      "outputs": [
        {
          "output_type": "execute_result",
          "data": {
            "text/plain": [
              "   param_class_weight param_C  mean_fit_time  mean_score_time  \\\n",
              "0    {0: 0.9, 1: 0.1}   0.001           4.23             1.45   \n",
              "1  {0: 0.01, 1: 0.99}   0.001           2.86             1.71   \n",
              "2    {0: 0.9, 1: 0.1}       1           6.33             1.58   \n",
              "3  {0: 0.01, 1: 0.99}       1           6.79             1.71   \n",
              "4    {0: 0.9, 1: 0.1}    1000           6.25             1.61   \n",
              "5  {0: 0.01, 1: 0.99}    1000           6.15             1.31   \n",
              "\n",
              "   mean_test_accuracy  mean_test_average_precision  mean_test_roc_auc  \\\n",
              "0                 0.5                         0.59               0.59   \n",
              "1                 0.5                         0.58               0.59   \n",
              "2                 0.5                         0.59               0.59   \n",
              "3                 0.5                         0.59               0.59   \n",
              "4                 0.5                         0.59               0.59   \n",
              "5                 0.5                         0.59               0.59   \n",
              "\n",
              "   mean_test_f1  mean_test_recall  \n",
              "0          0.00               0.0  \n",
              "1          0.67               1.0  \n",
              "2          0.00               0.0  \n",
              "3          0.67               1.0  \n",
              "4          0.00               0.0  \n",
              "5          0.67               1.0  "
            ],
            "text/html": [
              "\n",
              "  <div id=\"df-de89a1b0-82cc-4ff7-8453-94f7276f4464\">\n",
              "    <div class=\"colab-df-container\">\n",
              "      <div>\n",
              "<style scoped>\n",
              "    .dataframe tbody tr th:only-of-type {\n",
              "        vertical-align: middle;\n",
              "    }\n",
              "\n",
              "    .dataframe tbody tr th {\n",
              "        vertical-align: top;\n",
              "    }\n",
              "\n",
              "    .dataframe thead th {\n",
              "        text-align: right;\n",
              "    }\n",
              "</style>\n",
              "<table border=\"1\" class=\"dataframe\">\n",
              "  <thead>\n",
              "    <tr style=\"text-align: right;\">\n",
              "      <th></th>\n",
              "      <th>param_class_weight</th>\n",
              "      <th>param_C</th>\n",
              "      <th>mean_fit_time</th>\n",
              "      <th>mean_score_time</th>\n",
              "      <th>mean_test_accuracy</th>\n",
              "      <th>mean_test_average_precision</th>\n",
              "      <th>mean_test_roc_auc</th>\n",
              "      <th>mean_test_f1</th>\n",
              "      <th>mean_test_recall</th>\n",
              "    </tr>\n",
              "  </thead>\n",
              "  <tbody>\n",
              "    <tr>\n",
              "      <th>0</th>\n",
              "      <td>{0: 0.9, 1: 0.1}</td>\n",
              "      <td>0.001</td>\n",
              "      <td>4.23</td>\n",
              "      <td>1.45</td>\n",
              "      <td>0.5</td>\n",
              "      <td>0.59</td>\n",
              "      <td>0.59</td>\n",
              "      <td>0.00</td>\n",
              "      <td>0.0</td>\n",
              "    </tr>\n",
              "    <tr>\n",
              "      <th>1</th>\n",
              "      <td>{0: 0.01, 1: 0.99}</td>\n",
              "      <td>0.001</td>\n",
              "      <td>2.86</td>\n",
              "      <td>1.71</td>\n",
              "      <td>0.5</td>\n",
              "      <td>0.58</td>\n",
              "      <td>0.59</td>\n",
              "      <td>0.67</td>\n",
              "      <td>1.0</td>\n",
              "    </tr>\n",
              "    <tr>\n",
              "      <th>2</th>\n",
              "      <td>{0: 0.9, 1: 0.1}</td>\n",
              "      <td>1</td>\n",
              "      <td>6.33</td>\n",
              "      <td>1.58</td>\n",
              "      <td>0.5</td>\n",
              "      <td>0.59</td>\n",
              "      <td>0.59</td>\n",
              "      <td>0.00</td>\n",
              "      <td>0.0</td>\n",
              "    </tr>\n",
              "    <tr>\n",
              "      <th>3</th>\n",
              "      <td>{0: 0.01, 1: 0.99}</td>\n",
              "      <td>1</td>\n",
              "      <td>6.79</td>\n",
              "      <td>1.71</td>\n",
              "      <td>0.5</td>\n",
              "      <td>0.59</td>\n",
              "      <td>0.59</td>\n",
              "      <td>0.67</td>\n",
              "      <td>1.0</td>\n",
              "    </tr>\n",
              "    <tr>\n",
              "      <th>4</th>\n",
              "      <td>{0: 0.9, 1: 0.1}</td>\n",
              "      <td>1000</td>\n",
              "      <td>6.25</td>\n",
              "      <td>1.61</td>\n",
              "      <td>0.5</td>\n",
              "      <td>0.59</td>\n",
              "      <td>0.59</td>\n",
              "      <td>0.00</td>\n",
              "      <td>0.0</td>\n",
              "    </tr>\n",
              "    <tr>\n",
              "      <th>5</th>\n",
              "      <td>{0: 0.01, 1: 0.99}</td>\n",
              "      <td>1000</td>\n",
              "      <td>6.15</td>\n",
              "      <td>1.31</td>\n",
              "      <td>0.5</td>\n",
              "      <td>0.59</td>\n",
              "      <td>0.59</td>\n",
              "      <td>0.67</td>\n",
              "      <td>1.0</td>\n",
              "    </tr>\n",
              "  </tbody>\n",
              "</table>\n",
              "</div>\n",
              "      <button class=\"colab-df-convert\" onclick=\"convertToInteractive('df-de89a1b0-82cc-4ff7-8453-94f7276f4464')\"\n",
              "              title=\"Convert this dataframe to an interactive table.\"\n",
              "              style=\"display:none;\">\n",
              "        \n",
              "  <svg xmlns=\"http://www.w3.org/2000/svg\" height=\"24px\"viewBox=\"0 0 24 24\"\n",
              "       width=\"24px\">\n",
              "    <path d=\"M0 0h24v24H0V0z\" fill=\"none\"/>\n",
              "    <path d=\"M18.56 5.44l.94 2.06.94-2.06 2.06-.94-2.06-.94-.94-2.06-.94 2.06-2.06.94zm-11 1L8.5 8.5l.94-2.06 2.06-.94-2.06-.94L8.5 2.5l-.94 2.06-2.06.94zm10 10l.94 2.06.94-2.06 2.06-.94-2.06-.94-.94-2.06-.94 2.06-2.06.94z\"/><path d=\"M17.41 7.96l-1.37-1.37c-.4-.4-.92-.59-1.43-.59-.52 0-1.04.2-1.43.59L10.3 9.45l-7.72 7.72c-.78.78-.78 2.05 0 2.83L4 21.41c.39.39.9.59 1.41.59.51 0 1.02-.2 1.41-.59l7.78-7.78 2.81-2.81c.8-.78.8-2.07 0-2.86zM5.41 20L4 18.59l7.72-7.72 1.47 1.35L5.41 20z\"/>\n",
              "  </svg>\n",
              "      </button>\n",
              "      \n",
              "  <style>\n",
              "    .colab-df-container {\n",
              "      display:flex;\n",
              "      flex-wrap:wrap;\n",
              "      gap: 12px;\n",
              "    }\n",
              "\n",
              "    .colab-df-convert {\n",
              "      background-color: #E8F0FE;\n",
              "      border: none;\n",
              "      border-radius: 50%;\n",
              "      cursor: pointer;\n",
              "      display: none;\n",
              "      fill: #1967D2;\n",
              "      height: 32px;\n",
              "      padding: 0 0 0 0;\n",
              "      width: 32px;\n",
              "    }\n",
              "\n",
              "    .colab-df-convert:hover {\n",
              "      background-color: #E2EBFA;\n",
              "      box-shadow: 0px 1px 2px rgba(60, 64, 67, 0.3), 0px 1px 3px 1px rgba(60, 64, 67, 0.15);\n",
              "      fill: #174EA6;\n",
              "    }\n",
              "\n",
              "    [theme=dark] .colab-df-convert {\n",
              "      background-color: #3B4455;\n",
              "      fill: #D2E3FC;\n",
              "    }\n",
              "\n",
              "    [theme=dark] .colab-df-convert:hover {\n",
              "      background-color: #434B5C;\n",
              "      box-shadow: 0px 1px 3px 1px rgba(0, 0, 0, 0.15);\n",
              "      filter: drop-shadow(0px 1px 2px rgba(0, 0, 0, 0.3));\n",
              "      fill: #FFFFFF;\n",
              "    }\n",
              "  </style>\n",
              "\n",
              "      <script>\n",
              "        const buttonEl =\n",
              "          document.querySelector('#df-de89a1b0-82cc-4ff7-8453-94f7276f4464 button.colab-df-convert');\n",
              "        buttonEl.style.display =\n",
              "          google.colab.kernel.accessAllowed ? 'block' : 'none';\n",
              "\n",
              "        async function convertToInteractive(key) {\n",
              "          const element = document.querySelector('#df-de89a1b0-82cc-4ff7-8453-94f7276f4464');\n",
              "          const dataTable =\n",
              "            await google.colab.kernel.invokeFunction('convertToInteractive',\n",
              "                                                     [key], {});\n",
              "          if (!dataTable) return;\n",
              "\n",
              "          const docLinkHtml = 'Like what you see? Visit the ' +\n",
              "            '<a target=\"_blank\" href=https://colab.research.google.com/notebooks/data_table.ipynb>data table notebook</a>'\n",
              "            + ' to learn more about interactive tables.';\n",
              "          element.innerHTML = '';\n",
              "          dataTable['output_type'] = 'display_data';\n",
              "          await google.colab.output.renderOutput(dataTable, element);\n",
              "          const docLink = document.createElement('div');\n",
              "          docLink.innerHTML = docLinkHtml;\n",
              "          element.appendChild(docLink);\n",
              "        }\n",
              "      </script>\n",
              "    </div>\n",
              "  </div>\n",
              "  "
            ]
          },
          "metadata": {},
          "execution_count": 19
        }
      ]
    },
    {
      "cell_type": "markdown",
      "source": [
        "Changing C had no real impact on the accuracy, which is still at the baseline value. Recall is either 1 or 0, indicating that the models either predict all 1s or all 0s.\n",
        "\n",
        "Logistic regression does not seem promising to train on the full dataset, nor is it likely at 0.5 accuracy to give any information of feature importance. \n",
        "\n",
        "Decision trees are tried next. "
      ],
      "metadata": {
        "id": "jAN6hlww8Kqz"
      }
    },
    {
      "cell_type": "markdown",
      "source": [
        "### <font color='cornflowerblue' size=3>Decision Trees</font>\n",
        "\n",
        "The downsampled dataset is trained on decision trees with varying class weight and max_depth."
      ],
      "metadata": {
        "id": "_sQ9h4WV9Ac0"
      }
    },
    {
      "cell_type": "code",
      "source": [
        "from sklearn.tree import DecisionTreeClassifier\n",
        "\n",
        "dtree = DecisionTreeClassifier()\n",
        "\n",
        "#classweight_vals = [{0:0.45,1:0.55},{0:0.55,1:0.45}]\n",
        "maxdepth_vals = [5,30]\n",
        "\n",
        "para_dict =dict()\n",
        "#para_dict['class_weight'] = classweight_vals\n",
        "para_dict['max_depth'] = maxdepth_vals\n",
        "\n",
        "\n",
        "scoring_metrics = ['accuracy','f1','average_precision','roc_auc','recall']\n",
        "\n",
        "gridsearch_obj = GridSearchCV(dtree, param_grid = para_dict,cv=3,scoring = scoring_metrics, verbose=3,refit=False)\n",
        "\n",
        "gridsearch_obj.fit(Xq1_mm_train_ds,yq1_train_ds)"
      ],
      "metadata": {
        "colab": {
          "base_uri": "https://localhost:8080/"
        },
        "id": "p63N_BS19N81",
        "outputId": "89dfb9e6-adb3-4789-a43d-08f228855d49"
      },
      "execution_count": null,
      "outputs": [
        {
          "output_type": "stream",
          "name": "stdout",
          "text": [
            "Fitting 3 folds for each of 2 candidates, totalling 6 fits\n",
            "[CV 1/3] END max_depth=5; accuracy: (test=0.572) average_precision: (test=0.592) f1: (test=0.542) recall: (test=0.506) roc_auc: (test=0.602) total time=   4.1s\n",
            "[CV 2/3] END max_depth=5; accuracy: (test=0.573) average_precision: (test=0.592) f1: (test=0.549) recall: (test=0.520) roc_auc: (test=0.602) total time=   4.3s\n",
            "[CV 3/3] END max_depth=5; accuracy: (test=0.573) average_precision: (test=0.594) f1: (test=0.556) recall: (test=0.535) roc_auc: (test=0.603) total time=   4.2s\n",
            "[CV 1/3] END max_depth=30; accuracy: (test=0.554) average_precision: (test=0.549) f1: (test=0.527) recall: (test=0.497) roc_auc: (test=0.563) total time=  11.1s\n",
            "[CV 2/3] END max_depth=30; accuracy: (test=0.555) average_precision: (test=0.552) f1: (test=0.523) recall: (test=0.488) roc_auc: (test=0.565) total time=  11.3s\n",
            "[CV 3/3] END max_depth=30; accuracy: (test=0.556) average_precision: (test=0.550) f1: (test=0.528) recall: (test=0.497) roc_auc: (test=0.565) total time=  11.2s\n"
          ]
        },
        {
          "output_type": "execute_result",
          "data": {
            "text/plain": [
              "GridSearchCV(cv=3, estimator=DecisionTreeClassifier(),\n",
              "             param_grid={'max_depth': [5, 30]}, refit=False,\n",
              "             scoring=['accuracy', 'f1', 'average_precision', 'roc_auc',\n",
              "                      'recall'],\n",
              "             verbose=3)"
            ]
          },
          "metadata": {},
          "execution_count": 20
        }
      ]
    },
    {
      "cell_type": "code",
      "source": [
        "gridcv = pd.DataFrame(gridsearch_obj.cv_results_)\n",
        "np.around(gridcv[['param_max_depth','mean_fit_time',  'mean_score_time', \n",
        "       'mean_test_accuracy','mean_test_average_precision','mean_test_roc_auc','mean_test_f1','mean_test_recall']],2)"
      ],
      "metadata": {
        "id": "CC9B-XDv9rtY",
        "colab": {
          "base_uri": "https://localhost:8080/",
          "height": 112
        },
        "outputId": "2783a67b-7a0b-4fc7-f1d9-70741bba3c8e"
      },
      "execution_count": null,
      "outputs": [
        {
          "output_type": "execute_result",
          "data": {
            "text/plain": [
              "  param_max_depth  mean_fit_time  mean_score_time  mean_test_accuracy  \\\n",
              "0               5           2.85             1.37                0.57   \n",
              "1              30           9.36             1.84                0.55   \n",
              "\n",
              "   mean_test_average_precision  mean_test_roc_auc  mean_test_f1  \\\n",
              "0                         0.59               0.60          0.55   \n",
              "1                         0.55               0.56          0.53   \n",
              "\n",
              "   mean_test_recall  \n",
              "0              0.52  \n",
              "1              0.49  "
            ],
            "text/html": [
              "\n",
              "  <div id=\"df-9fad323f-d294-4f1f-94a9-d9a68fd7740b\">\n",
              "    <div class=\"colab-df-container\">\n",
              "      <div>\n",
              "<style scoped>\n",
              "    .dataframe tbody tr th:only-of-type {\n",
              "        vertical-align: middle;\n",
              "    }\n",
              "\n",
              "    .dataframe tbody tr th {\n",
              "        vertical-align: top;\n",
              "    }\n",
              "\n",
              "    .dataframe thead th {\n",
              "        text-align: right;\n",
              "    }\n",
              "</style>\n",
              "<table border=\"1\" class=\"dataframe\">\n",
              "  <thead>\n",
              "    <tr style=\"text-align: right;\">\n",
              "      <th></th>\n",
              "      <th>param_max_depth</th>\n",
              "      <th>mean_fit_time</th>\n",
              "      <th>mean_score_time</th>\n",
              "      <th>mean_test_accuracy</th>\n",
              "      <th>mean_test_average_precision</th>\n",
              "      <th>mean_test_roc_auc</th>\n",
              "      <th>mean_test_f1</th>\n",
              "      <th>mean_test_recall</th>\n",
              "    </tr>\n",
              "  </thead>\n",
              "  <tbody>\n",
              "    <tr>\n",
              "      <th>0</th>\n",
              "      <td>5</td>\n",
              "      <td>2.85</td>\n",
              "      <td>1.37</td>\n",
              "      <td>0.57</td>\n",
              "      <td>0.59</td>\n",
              "      <td>0.60</td>\n",
              "      <td>0.55</td>\n",
              "      <td>0.52</td>\n",
              "    </tr>\n",
              "    <tr>\n",
              "      <th>1</th>\n",
              "      <td>30</td>\n",
              "      <td>9.36</td>\n",
              "      <td>1.84</td>\n",
              "      <td>0.55</td>\n",
              "      <td>0.55</td>\n",
              "      <td>0.56</td>\n",
              "      <td>0.53</td>\n",
              "      <td>0.49</td>\n",
              "    </tr>\n",
              "  </tbody>\n",
              "</table>\n",
              "</div>\n",
              "      <button class=\"colab-df-convert\" onclick=\"convertToInteractive('df-9fad323f-d294-4f1f-94a9-d9a68fd7740b')\"\n",
              "              title=\"Convert this dataframe to an interactive table.\"\n",
              "              style=\"display:none;\">\n",
              "        \n",
              "  <svg xmlns=\"http://www.w3.org/2000/svg\" height=\"24px\"viewBox=\"0 0 24 24\"\n",
              "       width=\"24px\">\n",
              "    <path d=\"M0 0h24v24H0V0z\" fill=\"none\"/>\n",
              "    <path d=\"M18.56 5.44l.94 2.06.94-2.06 2.06-.94-2.06-.94-.94-2.06-.94 2.06-2.06.94zm-11 1L8.5 8.5l.94-2.06 2.06-.94-2.06-.94L8.5 2.5l-.94 2.06-2.06.94zm10 10l.94 2.06.94-2.06 2.06-.94-2.06-.94-.94-2.06-.94 2.06-2.06.94z\"/><path d=\"M17.41 7.96l-1.37-1.37c-.4-.4-.92-.59-1.43-.59-.52 0-1.04.2-1.43.59L10.3 9.45l-7.72 7.72c-.78.78-.78 2.05 0 2.83L4 21.41c.39.39.9.59 1.41.59.51 0 1.02-.2 1.41-.59l7.78-7.78 2.81-2.81c.8-.78.8-2.07 0-2.86zM5.41 20L4 18.59l7.72-7.72 1.47 1.35L5.41 20z\"/>\n",
              "  </svg>\n",
              "      </button>\n",
              "      \n",
              "  <style>\n",
              "    .colab-df-container {\n",
              "      display:flex;\n",
              "      flex-wrap:wrap;\n",
              "      gap: 12px;\n",
              "    }\n",
              "\n",
              "    .colab-df-convert {\n",
              "      background-color: #E8F0FE;\n",
              "      border: none;\n",
              "      border-radius: 50%;\n",
              "      cursor: pointer;\n",
              "      display: none;\n",
              "      fill: #1967D2;\n",
              "      height: 32px;\n",
              "      padding: 0 0 0 0;\n",
              "      width: 32px;\n",
              "    }\n",
              "\n",
              "    .colab-df-convert:hover {\n",
              "      background-color: #E2EBFA;\n",
              "      box-shadow: 0px 1px 2px rgba(60, 64, 67, 0.3), 0px 1px 3px 1px rgba(60, 64, 67, 0.15);\n",
              "      fill: #174EA6;\n",
              "    }\n",
              "\n",
              "    [theme=dark] .colab-df-convert {\n",
              "      background-color: #3B4455;\n",
              "      fill: #D2E3FC;\n",
              "    }\n",
              "\n",
              "    [theme=dark] .colab-df-convert:hover {\n",
              "      background-color: #434B5C;\n",
              "      box-shadow: 0px 1px 3px 1px rgba(0, 0, 0, 0.15);\n",
              "      filter: drop-shadow(0px 1px 2px rgba(0, 0, 0, 0.3));\n",
              "      fill: #FFFFFF;\n",
              "    }\n",
              "  </style>\n",
              "\n",
              "      <script>\n",
              "        const buttonEl =\n",
              "          document.querySelector('#df-9fad323f-d294-4f1f-94a9-d9a68fd7740b button.colab-df-convert');\n",
              "        buttonEl.style.display =\n",
              "          google.colab.kernel.accessAllowed ? 'block' : 'none';\n",
              "\n",
              "        async function convertToInteractive(key) {\n",
              "          const element = document.querySelector('#df-9fad323f-d294-4f1f-94a9-d9a68fd7740b');\n",
              "          const dataTable =\n",
              "            await google.colab.kernel.invokeFunction('convertToInteractive',\n",
              "                                                     [key], {});\n",
              "          if (!dataTable) return;\n",
              "\n",
              "          const docLinkHtml = 'Like what you see? Visit the ' +\n",
              "            '<a target=\"_blank\" href=https://colab.research.google.com/notebooks/data_table.ipynb>data table notebook</a>'\n",
              "            + ' to learn more about interactive tables.';\n",
              "          element.innerHTML = '';\n",
              "          dataTable['output_type'] = 'display_data';\n",
              "          await google.colab.output.renderOutput(dataTable, element);\n",
              "          const docLink = document.createElement('div');\n",
              "          docLink.innerHTML = docLinkHtml;\n",
              "          element.appendChild(docLink);\n",
              "        }\n",
              "      </script>\n",
              "    </div>\n",
              "  </div>\n",
              "  "
            ]
          },
          "metadata": {},
          "execution_count": 21
        }
      ]
    },
    {
      "cell_type": "code",
      "source": [
        "dtree = DecisionTreeClassifier(max_features=4)\n",
        "\n",
        "\n",
        "maxdepth_vals = [6,10,15]\n",
        "\n",
        "para_dict =dict()\n",
        "\n",
        "para_dict['max_depth'] = maxdepth_vals\n",
        "\n",
        "\n",
        "scoring_metrics = ['accuracy','f1','average_precision','roc_auc','recall']\n",
        "\n",
        "gridsearch_obj = GridSearchCV(dtree, param_grid = para_dict,cv=3,scoring = scoring_metrics, verbose=3,refit=False)\n",
        "\n",
        "gridsearch_obj.fit(Xq1_mm_train_ds,yq1_train_ds)"
      ],
      "metadata": {
        "colab": {
          "base_uri": "https://localhost:8080/"
        },
        "id": "IJWR4dOOCIR7",
        "outputId": "851f4661-8f88-4699-8b31-5c6955bbaca8"
      },
      "execution_count": null,
      "outputs": [
        {
          "output_type": "stream",
          "name": "stdout",
          "text": [
            "Fitting 3 folds for each of 3 candidates, totalling 9 fits\n",
            "[CV 1/3] END max_depth=6; accuracy: (test=0.572) average_precision: (test=0.597) f1: (test=0.538) recall: (test=0.498) roc_auc: (test=0.604) total time=   5.0s\n",
            "[CV 2/3] END max_depth=6; accuracy: (test=0.573) average_precision: (test=0.597) f1: (test=0.556) recall: (test=0.534) roc_auc: (test=0.604) total time=   4.6s\n",
            "[CV 3/3] END max_depth=6; accuracy: (test=0.573) average_precision: (test=0.598) f1: (test=0.564) recall: (test=0.552) roc_auc: (test=0.605) total time=   4.7s\n",
            "[CV 1/3] END max_depth=10; accuracy: (test=0.574) average_precision: (test=0.601) f1: (test=0.546) recall: (test=0.513) roc_auc: (test=0.606) total time=   6.3s\n",
            "[CV 2/3] END max_depth=10; accuracy: (test=0.574) average_precision: (test=0.602) f1: (test=0.540) recall: (test=0.500) roc_auc: (test=0.606) total time=   6.3s\n",
            "[CV 3/3] END max_depth=10; accuracy: (test=0.575) average_precision: (test=0.602) f1: (test=0.541) recall: (test=0.502) roc_auc: (test=0.607) total time=   6.2s\n",
            "[CV 1/3] END max_depth=15; accuracy: (test=0.571) average_precision: (test=0.590) f1: (test=0.547) recall: (test=0.518) roc_auc: (test=0.600) total time=   8.1s\n",
            "[CV 2/3] END max_depth=15; accuracy: (test=0.571) average_precision: (test=0.591) f1: (test=0.544) recall: (test=0.513) roc_auc: (test=0.600) total time=   7.9s\n",
            "[CV 3/3] END max_depth=15; accuracy: (test=0.571) average_precision: (test=0.591) f1: (test=0.548) recall: (test=0.519) roc_auc: (test=0.601) total time=   7.9s\n"
          ]
        },
        {
          "output_type": "execute_result",
          "data": {
            "text/plain": [
              "GridSearchCV(cv=3, estimator=DecisionTreeClassifier(max_features=4),\n",
              "             param_grid={'max_depth': [6, 10, 15]}, refit=False,\n",
              "             scoring=['accuracy', 'f1', 'average_precision', 'roc_auc',\n",
              "                      'recall'],\n",
              "             verbose=3)"
            ]
          },
          "metadata": {},
          "execution_count": 24
        }
      ]
    },
    {
      "cell_type": "code",
      "source": [
        "gridcv = pd.DataFrame(gridsearch_obj.cv_results_)\n",
        "np.around(gridcv[['param_max_depth','mean_fit_time',  'mean_score_time', \n",
        "       'mean_test_accuracy','mean_test_average_precision','mean_test_roc_auc','mean_test_f1','mean_test_recall']],2)"
      ],
      "metadata": {
        "colab": {
          "base_uri": "https://localhost:8080/",
          "height": 143
        },
        "id": "xQhbE_nADmko",
        "outputId": "2da0cbbe-cce7-4ef8-fa4f-aa8ea7dd10b3"
      },
      "execution_count": null,
      "outputs": [
        {
          "output_type": "execute_result",
          "data": {
            "text/plain": [
              "  param_max_depth  mean_fit_time  mean_score_time  mean_test_accuracy  \\\n",
              "0               6           3.38             1.40                0.57   \n",
              "1              10           4.78             1.46                0.57   \n",
              "2              15           6.40             1.57                0.57   \n",
              "\n",
              "   mean_test_average_precision  mean_test_roc_auc  mean_test_f1  \\\n",
              "0                         0.60               0.60          0.55   \n",
              "1                         0.60               0.61          0.54   \n",
              "2                         0.59               0.60          0.55   \n",
              "\n",
              "   mean_test_recall  \n",
              "0              0.53  \n",
              "1              0.51  \n",
              "2              0.52  "
            ],
            "text/html": [
              "\n",
              "  <div id=\"df-8d3f2f3e-d2ef-4f94-8449-4b35db03d001\">\n",
              "    <div class=\"colab-df-container\">\n",
              "      <div>\n",
              "<style scoped>\n",
              "    .dataframe tbody tr th:only-of-type {\n",
              "        vertical-align: middle;\n",
              "    }\n",
              "\n",
              "    .dataframe tbody tr th {\n",
              "        vertical-align: top;\n",
              "    }\n",
              "\n",
              "    .dataframe thead th {\n",
              "        text-align: right;\n",
              "    }\n",
              "</style>\n",
              "<table border=\"1\" class=\"dataframe\">\n",
              "  <thead>\n",
              "    <tr style=\"text-align: right;\">\n",
              "      <th></th>\n",
              "      <th>param_max_depth</th>\n",
              "      <th>mean_fit_time</th>\n",
              "      <th>mean_score_time</th>\n",
              "      <th>mean_test_accuracy</th>\n",
              "      <th>mean_test_average_precision</th>\n",
              "      <th>mean_test_roc_auc</th>\n",
              "      <th>mean_test_f1</th>\n",
              "      <th>mean_test_recall</th>\n",
              "    </tr>\n",
              "  </thead>\n",
              "  <tbody>\n",
              "    <tr>\n",
              "      <th>0</th>\n",
              "      <td>6</td>\n",
              "      <td>3.38</td>\n",
              "      <td>1.40</td>\n",
              "      <td>0.57</td>\n",
              "      <td>0.60</td>\n",
              "      <td>0.60</td>\n",
              "      <td>0.55</td>\n",
              "      <td>0.53</td>\n",
              "    </tr>\n",
              "    <tr>\n",
              "      <th>1</th>\n",
              "      <td>10</td>\n",
              "      <td>4.78</td>\n",
              "      <td>1.46</td>\n",
              "      <td>0.57</td>\n",
              "      <td>0.60</td>\n",
              "      <td>0.61</td>\n",
              "      <td>0.54</td>\n",
              "      <td>0.51</td>\n",
              "    </tr>\n",
              "    <tr>\n",
              "      <th>2</th>\n",
              "      <td>15</td>\n",
              "      <td>6.40</td>\n",
              "      <td>1.57</td>\n",
              "      <td>0.57</td>\n",
              "      <td>0.59</td>\n",
              "      <td>0.60</td>\n",
              "      <td>0.55</td>\n",
              "      <td>0.52</td>\n",
              "    </tr>\n",
              "  </tbody>\n",
              "</table>\n",
              "</div>\n",
              "      <button class=\"colab-df-convert\" onclick=\"convertToInteractive('df-8d3f2f3e-d2ef-4f94-8449-4b35db03d001')\"\n",
              "              title=\"Convert this dataframe to an interactive table.\"\n",
              "              style=\"display:none;\">\n",
              "        \n",
              "  <svg xmlns=\"http://www.w3.org/2000/svg\" height=\"24px\"viewBox=\"0 0 24 24\"\n",
              "       width=\"24px\">\n",
              "    <path d=\"M0 0h24v24H0V0z\" fill=\"none\"/>\n",
              "    <path d=\"M18.56 5.44l.94 2.06.94-2.06 2.06-.94-2.06-.94-.94-2.06-.94 2.06-2.06.94zm-11 1L8.5 8.5l.94-2.06 2.06-.94-2.06-.94L8.5 2.5l-.94 2.06-2.06.94zm10 10l.94 2.06.94-2.06 2.06-.94-2.06-.94-.94-2.06-.94 2.06-2.06.94z\"/><path d=\"M17.41 7.96l-1.37-1.37c-.4-.4-.92-.59-1.43-.59-.52 0-1.04.2-1.43.59L10.3 9.45l-7.72 7.72c-.78.78-.78 2.05 0 2.83L4 21.41c.39.39.9.59 1.41.59.51 0 1.02-.2 1.41-.59l7.78-7.78 2.81-2.81c.8-.78.8-2.07 0-2.86zM5.41 20L4 18.59l7.72-7.72 1.47 1.35L5.41 20z\"/>\n",
              "  </svg>\n",
              "      </button>\n",
              "      \n",
              "  <style>\n",
              "    .colab-df-container {\n",
              "      display:flex;\n",
              "      flex-wrap:wrap;\n",
              "      gap: 12px;\n",
              "    }\n",
              "\n",
              "    .colab-df-convert {\n",
              "      background-color: #E8F0FE;\n",
              "      border: none;\n",
              "      border-radius: 50%;\n",
              "      cursor: pointer;\n",
              "      display: none;\n",
              "      fill: #1967D2;\n",
              "      height: 32px;\n",
              "      padding: 0 0 0 0;\n",
              "      width: 32px;\n",
              "    }\n",
              "\n",
              "    .colab-df-convert:hover {\n",
              "      background-color: #E2EBFA;\n",
              "      box-shadow: 0px 1px 2px rgba(60, 64, 67, 0.3), 0px 1px 3px 1px rgba(60, 64, 67, 0.15);\n",
              "      fill: #174EA6;\n",
              "    }\n",
              "\n",
              "    [theme=dark] .colab-df-convert {\n",
              "      background-color: #3B4455;\n",
              "      fill: #D2E3FC;\n",
              "    }\n",
              "\n",
              "    [theme=dark] .colab-df-convert:hover {\n",
              "      background-color: #434B5C;\n",
              "      box-shadow: 0px 1px 3px 1px rgba(0, 0, 0, 0.15);\n",
              "      filter: drop-shadow(0px 1px 2px rgba(0, 0, 0, 0.3));\n",
              "      fill: #FFFFFF;\n",
              "    }\n",
              "  </style>\n",
              "\n",
              "      <script>\n",
              "        const buttonEl =\n",
              "          document.querySelector('#df-8d3f2f3e-d2ef-4f94-8449-4b35db03d001 button.colab-df-convert');\n",
              "        buttonEl.style.display =\n",
              "          google.colab.kernel.accessAllowed ? 'block' : 'none';\n",
              "\n",
              "        async function convertToInteractive(key) {\n",
              "          const element = document.querySelector('#df-8d3f2f3e-d2ef-4f94-8449-4b35db03d001');\n",
              "          const dataTable =\n",
              "            await google.colab.kernel.invokeFunction('convertToInteractive',\n",
              "                                                     [key], {});\n",
              "          if (!dataTable) return;\n",
              "\n",
              "          const docLinkHtml = 'Like what you see? Visit the ' +\n",
              "            '<a target=\"_blank\" href=https://colab.research.google.com/notebooks/data_table.ipynb>data table notebook</a>'\n",
              "            + ' to learn more about interactive tables.';\n",
              "          element.innerHTML = '';\n",
              "          dataTable['output_type'] = 'display_data';\n",
              "          await google.colab.output.renderOutput(dataTable, element);\n",
              "          const docLink = document.createElement('div');\n",
              "          docLink.innerHTML = docLinkHtml;\n",
              "          element.appendChild(docLink);\n",
              "        }\n",
              "      </script>\n",
              "    </div>\n",
              "  </div>\n",
              "  "
            ]
          },
          "metadata": {},
          "execution_count": 25
        }
      ]
    },
    {
      "cell_type": "markdown",
      "source": [
        "The test precision is around 0.6. "
      ],
      "metadata": {
        "id": "d0apoViwDr5S"
      }
    },
    {
      "cell_type": "markdown",
      "source": [
        "Epxloring max_depth in more detail:"
      ],
      "metadata": {
        "id": "7YGAhbuw_V2Y"
      }
    },
    {
      "cell_type": "code",
      "source": [
        "from sklearn.metrics import accuracy_score,\\\n",
        " roc_auc_score, plot_roc_curve,f1_score,\\\n",
        "  confusion_matrix, classification_report,\\\n",
        "  precision_recall_curve\n",
        "\n",
        "\n",
        "# creating dictionaries to store metrics for different knn models\n",
        "valid_acc = dict()\n",
        "train_acc = dict()\n",
        "\n",
        "valid_AUC = dict()\n",
        "train_AUC = dict()\n",
        "\n",
        "train_cm = dict()\n",
        "valid_cm = dict()\n",
        "\n",
        "train_f1 = dict()\n",
        "valid_f1 = dict()\n",
        "\n",
        "train_prc = dict()\n",
        "valid_prc = dict()\n",
        "\n",
        "train_proba1 = dict()\n",
        "valid_proba1 = dict()\n",
        "\n",
        "\n",
        "# create subplots\n",
        "figs, axes = plt.subplots(1, 2, figsize=(20, 10))\n",
        "\n",
        "\n",
        "\n",
        "depths = range(10,16)\n",
        "\n",
        "for d in depths:\n",
        "  print(f\"Using max depth = {d}\")\n",
        "  DTCmodel = DecisionTreeClassifier(max_depth = d) # intitalize a Decision tree classifier model with a new max depth\n",
        "  DTCmodel.fit(Xq1_mm_train_ds,yq1_train_ds)\n",
        "\n",
        "  # predicting on training and validation sets\n",
        "  y_train_predicted = DTCmodel.predict(Xq1_mm_train_ds) \n",
        "  y_valid_predicted = DTCmodel.predict(Xq1_mm_valid_ds) \n",
        "\n",
        "  # soft predictions on training and validation data\n",
        "  y_train_proba = DTCmodel.predict_proba(Xq1_mm_train_ds) \n",
        "  y_valid_proba = DTCmodel.predict_proba(Xq1_mm_valid_ds)\n",
        "\n",
        "  # saving metrics for training and validayion data\n",
        "  # calculate accuracy\n",
        "  valid_acc[d] = accuracy_score(yq1_train_ds, y_train_predicted)\n",
        "  train_acc[d] = accuracy_score(yq1_valid,y_valid_predicted)\n",
        "\n",
        "  # getting roc_auc scores for training and validation sets \n",
        "  valid_AUC[d] = roc_auc_score(yq1_valid, y_valid_proba[:,1])\n",
        "  train_AUC[d] = roc_auc_score(yq1_train_ds, y_train_proba[:,1])\n",
        "\n",
        "  # getting confusion matrices\n",
        "  valid_cm[d] = confusion_matrix(yq1_valid, y_valid_predicted)\n",
        "  train_cm[d] = confusion_matrix(yq1_train_ds, y_train_predicted)\n",
        "\n",
        "  # F1 -scores\n",
        "  valid_f1[d] = f1_score(yq1_valid, y_valid_predicted)\n",
        "  train_f1[d] = f1_score(yq1_train_ds, y_train_predicted)\n",
        "\n",
        "  # precision recall curves\n",
        "  valid_prc[d] = precision_recall_curve(yq1_valid, y_valid_proba[:,1])\n",
        "  train_prc[d] = precision_recall_curve(yq1_train_ds, y_train_proba[:,1])\n",
        "\n",
        "  # saving probabilities of positive class\n",
        "  valid_proba1[d] = y_valid_proba[:,1]\n",
        "  train_proba1[d] = y_train_proba[:,1]\n",
        "  \n",
        "\n",
        "  # plot ROC curve for training and validation sets\n",
        "  plot_roc_curve(DTCmodel, Xq1_mm_train_ds, yq1_train_ds, ax=axes[0],name=f\"maxdepth = {d}\")\n",
        "  plot_roc_curve(DTCmodel, Xq1_mm_valid_ds, yq1_valid, ax=axes[1],name=f\"maxdepth = {d}\")\n",
        "\n",
        "  # Add line y=x and titls\n",
        "  for axis_num, plot_title in enumerate(['Training set', 'Validation set']):\n",
        "    axes[axis_num].plot([0,1], [0,1], color='black', linestyle='--')\n",
        "    axes[axis_num].set_title(plot_title)\n",
        "\n",
        "plt.show()\n"
      ],
      "metadata": {
        "colab": {
          "base_uri": "https://localhost:8080/",
          "height": 725
        },
        "id": "3W6LAkdZ_c3o",
        "outputId": "a5f56cda-4412-4662-9261-36aeeb746f88"
      },
      "execution_count": null,
      "outputs": [
        {
          "output_type": "stream",
          "name": "stdout",
          "text": [
            "Using max depth = 10\n",
            "Using max depth = 11\n",
            "Using max depth = 12\n",
            "Using max depth = 13\n",
            "Using max depth = 14\n",
            "Using max depth = 15\n"
          ]
        },
        {
          "output_type": "display_data",
          "data": {
            "text/plain": [
              "<Figure size 1440x720 with 2 Axes>"
            ],
            "image/png": "[encoded data removed]"
          },
          "metadata": {
            "needs_background": "light"
          }
        }
      ]
    },
    {
      "cell_type": "code",
      "source": [
        "dtree_metrics = pd.DataFrame()\n",
        "dtree_metrics['valid_accuracy'] = pd.Series(valid_acc)\n",
        "dtree_metrics['train_accuracy'] = pd.Series(train_acc)\n",
        "dtree_metrics['valid_AUC'] = pd.Series(valid_AUC)\n",
        "dtree_metrics['train_AUC'] = pd.Series(train_AUC)\n",
        "dtree_metrics['valid_f1'] = pd.Series(valid_f1)\n",
        "dtree_metrics['train_f1'] = pd.Series(train_f1)\n",
        "dtree_metrics = dtree_metrics.reset_index()\n",
        "dtree_metrics['Max_depth'] = dtree_metrics['index']\n",
        "dtree_metrics = dtree_metrics.drop('index',axis=1)\n",
        "display(np.around(dtree_metrics,2))"
      ],
      "metadata": {
        "colab": {
          "base_uri": "https://localhost:8080/",
          "height": 237
        },
        "id": "vxlaiPoy_c0v",
        "outputId": "0646f276-53a8-4687-927a-9cc6c1f8fc04"
      },
      "execution_count": null,
      "outputs": [
        {
          "output_type": "display_data",
          "data": {
            "text/plain": [
              "   valid_accuracy  train_accuracy  valid_AUC  train_AUC  valid_f1  train_f1  \\\n",
              "0            0.58            0.62       0.61       0.61      0.31      0.55   \n",
              "1            0.58            0.61       0.61       0.61      0.31      0.55   \n",
              "2            0.58            0.60       0.61       0.61      0.31      0.56   \n",
              "3            0.58            0.60       0.61       0.62      0.30      0.56   \n",
              "4            0.58            0.60       0.60       0.62      0.30      0.56   \n",
              "5            0.58            0.60       0.60       0.62      0.30      0.57   \n",
              "\n",
              "   Max_depth  \n",
              "0         10  \n",
              "1         11  \n",
              "2         12  \n",
              "3         13  \n",
              "4         14  \n",
              "5         15  "
            ],
            "text/html": [
              "\n",
              "  <div id=\"df-a6634c41-40ad-493c-b295-6fc5b2792bd7\">\n",
              "    <div class=\"colab-df-container\">\n",
              "      <div>\n",
              "<style scoped>\n",
              "    .dataframe tbody tr th:only-of-type {\n",
              "        vertical-align: middle;\n",
              "    }\n",
              "\n",
              "    .dataframe tbody tr th {\n",
              "        vertical-align: top;\n",
              "    }\n",
              "\n",
              "    .dataframe thead th {\n",
              "        text-align: right;\n",
              "    }\n",
              "</style>\n",
              "<table border=\"1\" class=\"dataframe\">\n",
              "  <thead>\n",
              "    <tr style=\"text-align: right;\">\n",
              "      <th></th>\n",
              "      <th>valid_accuracy</th>\n",
              "      <th>train_accuracy</th>\n",
              "      <th>valid_AUC</th>\n",
              "      <th>train_AUC</th>\n",
              "      <th>valid_f1</th>\n",
              "      <th>train_f1</th>\n",
              "      <th>Max_depth</th>\n",
              "    </tr>\n",
              "  </thead>\n",
              "  <tbody>\n",
              "    <tr>\n",
              "      <th>0</th>\n",
              "      <td>0.58</td>\n",
              "      <td>0.62</td>\n",
              "      <td>0.61</td>\n",
              "      <td>0.61</td>\n",
              "      <td>0.31</td>\n",
              "      <td>0.55</td>\n",
              "      <td>10</td>\n",
              "    </tr>\n",
              "    <tr>\n",
              "      <th>1</th>\n",
              "      <td>0.58</td>\n",
              "      <td>0.61</td>\n",
              "      <td>0.61</td>\n",
              "      <td>0.61</td>\n",
              "      <td>0.31</td>\n",
              "      <td>0.55</td>\n",
              "      <td>11</td>\n",
              "    </tr>\n",
              "    <tr>\n",
              "      <th>2</th>\n",
              "      <td>0.58</td>\n",
              "      <td>0.60</td>\n",
              "      <td>0.61</td>\n",
              "      <td>0.61</td>\n",
              "      <td>0.31</td>\n",
              "      <td>0.56</td>\n",
              "      <td>12</td>\n",
              "    </tr>\n",
              "    <tr>\n",
              "      <th>3</th>\n",
              "      <td>0.58</td>\n",
              "      <td>0.60</td>\n",
              "      <td>0.61</td>\n",
              "      <td>0.62</td>\n",
              "      <td>0.30</td>\n",
              "      <td>0.56</td>\n",
              "      <td>13</td>\n",
              "    </tr>\n",
              "    <tr>\n",
              "      <th>4</th>\n",
              "      <td>0.58</td>\n",
              "      <td>0.60</td>\n",
              "      <td>0.60</td>\n",
              "      <td>0.62</td>\n",
              "      <td>0.30</td>\n",
              "      <td>0.56</td>\n",
              "      <td>14</td>\n",
              "    </tr>\n",
              "    <tr>\n",
              "      <th>5</th>\n",
              "      <td>0.58</td>\n",
              "      <td>0.60</td>\n",
              "      <td>0.60</td>\n",
              "      <td>0.62</td>\n",
              "      <td>0.30</td>\n",
              "      <td>0.57</td>\n",
              "      <td>15</td>\n",
              "    </tr>\n",
              "  </tbody>\n",
              "</table>\n",
              "</div>\n",
              "      <button class=\"colab-df-convert\" onclick=\"convertToInteractive('df-a6634c41-40ad-493c-b295-6fc5b2792bd7')\"\n",
              "              title=\"Convert this dataframe to an interactive table.\"\n",
              "              style=\"display:none;\">\n",
              "        \n",
              "  <svg xmlns=\"http://www.w3.org/2000/svg\" height=\"24px\"viewBox=\"0 0 24 24\"\n",
              "       width=\"24px\">\n",
              "    <path d=\"M0 0h24v24H0V0z\" fill=\"none\"/>\n",
              "    <path d=\"M18.56 5.44l.94 2.06.94-2.06 2.06-.94-2.06-.94-.94-2.06-.94 2.06-2.06.94zm-11 1L8.5 8.5l.94-2.06 2.06-.94-2.06-.94L8.5 2.5l-.94 2.06-2.06.94zm10 10l.94 2.06.94-2.06 2.06-.94-2.06-.94-.94-2.06-.94 2.06-2.06.94z\"/><path d=\"M17.41 7.96l-1.37-1.37c-.4-.4-.92-.59-1.43-.59-.52 0-1.04.2-1.43.59L10.3 9.45l-7.72 7.72c-.78.78-.78 2.05 0 2.83L4 21.41c.39.39.9.59 1.41.59.51 0 1.02-.2 1.41-.59l7.78-7.78 2.81-2.81c.8-.78.8-2.07 0-2.86zM5.41 20L4 18.59l7.72-7.72 1.47 1.35L5.41 20z\"/>\n",
              "  </svg>\n",
              "      </button>\n",
              "      \n",
              "  <style>\n",
              "    .colab-df-container {\n",
              "      display:flex;\n",
              "      flex-wrap:wrap;\n",
              "      gap: 12px;\n",
              "    }\n",
              "\n",
              "    .colab-df-convert {\n",
              "      background-color: #E8F0FE;\n",
              "      border: none;\n",
              "      border-radius: 50%;\n",
              "      cursor: pointer;\n",
              "      display: none;\n",
              "      fill: #1967D2;\n",
              "      height: 32px;\n",
              "      padding: 0 0 0 0;\n",
              "      width: 32px;\n",
              "    }\n",
              "\n",
              "    .colab-df-convert:hover {\n",
              "      background-color: #E2EBFA;\n",
              "      box-shadow: 0px 1px 2px rgba(60, 64, 67, 0.3), 0px 1px 3px 1px rgba(60, 64, 67, 0.15);\n",
              "      fill: #174EA6;\n",
              "    }\n",
              "\n",
              "    [theme=dark] .colab-df-convert {\n",
              "      background-color: #3B4455;\n",
              "      fill: #D2E3FC;\n",
              "    }\n",
              "\n",
              "    [theme=dark] .colab-df-convert:hover {\n",
              "      background-color: #434B5C;\n",
              "      box-shadow: 0px 1px 3px 1px rgba(0, 0, 0, 0.15);\n",
              "      filter: drop-shadow(0px 1px 2px rgba(0, 0, 0, 0.3));\n",
              "      fill: #FFFFFF;\n",
              "    }\n",
              "  </style>\n",
              "\n",
              "      <script>\n",
              "        const buttonEl =\n",
              "          document.querySelector('#df-a6634c41-40ad-493c-b295-6fc5b2792bd7 button.colab-df-convert');\n",
              "        buttonEl.style.display =\n",
              "          google.colab.kernel.accessAllowed ? 'block' : 'none';\n",
              "\n",
              "        async function convertToInteractive(key) {\n",
              "          const element = document.querySelector('#df-a6634c41-40ad-493c-b295-6fc5b2792bd7');\n",
              "          const dataTable =\n",
              "            await google.colab.kernel.invokeFunction('convertToInteractive',\n",
              "                                                     [key], {});\n",
              "          if (!dataTable) return;\n",
              "\n",
              "          const docLinkHtml = 'Like what you see? Visit the ' +\n",
              "            '<a target=\"_blank\" href=https://colab.research.google.com/notebooks/data_table.ipynb>data table notebook</a>'\n",
              "            + ' to learn more about interactive tables.';\n",
              "          element.innerHTML = '';\n",
              "          dataTable['output_type'] = 'display_data';\n",
              "          await google.colab.output.renderOutput(dataTable, element);\n",
              "          const docLink = document.createElement('div');\n",
              "          docLink.innerHTML = docLinkHtml;\n",
              "          element.appendChild(docLink);\n",
              "        }\n",
              "      </script>\n",
              "    </div>\n",
              "  </div>\n",
              "  "
            ]
          },
          "metadata": {}
        }
      ]
    },
    {
      "cell_type": "code",
      "source": [
        "y_valid = yq1_valid\n",
        "y_train = yq1_train\n",
        "\n",
        "plt.subplots(1,3,figsize=(20,5))\n",
        "\n",
        "plt.subplot(1,3,1)\n",
        "plt.plot(dtree_metrics['Max_depth'],dtree_metrics['train_AUC'],'.-',label='Train_AUC')\n",
        "plt.plot(dtree_metrics['Max_depth'],dtree_metrics['valid_AUC'],'.-',label='Validation_AUC')\n",
        "plt.title(\"Figure 1:AUC vs Max depth\")\n",
        "plt.xlabel(\"Max depth\")\n",
        "plt.ylabel(\"ROC Area under curve\")\n",
        "plt.legend()\n",
        "\n",
        "plt.subplot(1,3,2)\n",
        "plt.plot(dtree_metrics['Max_depth'],dtree_metrics['train_f1'],'.-',label='Train_F1score')\n",
        "plt.plot(dtree_metrics['Max_depth'],dtree_metrics['valid_f1'],'.-',label='Validation_F1score')\n",
        "# getting accuracy for baseline model that always predicts 1 no matter what.\n",
        "baseline1_f1 = accuracy_score(y_valid, [1]*y_valid.shape[0])\n",
        "# getting accuracy for baseline model that always predicts 0 no matter what.\n",
        "baseline0_f1 = accuracy_score(y_valid, [0]*y_valid.shape[0])\n",
        "plt.axhline(baseline1_f1,color = 'red',linestyle = '--',label=\"always 1 baseline\")\n",
        "plt.axhline(baseline0_f1,color = 'black',linestyle = '--',label=\"always 0 baseline\")\n",
        "plt.xlabel(\"Max depth\")\n",
        "plt.ylabel(\"F1 score\")\n",
        "plt.title(\"Figure 2: F1score vs Max depth\")\n",
        "plt.legend()\n",
        "\n",
        "plt.subplot(1,3,3)\n",
        "plt.plot(dtree_metrics['Max_depth'],dtree_metrics['train_accuracy'],'.-',label='Train_Accuracy')\n",
        "plt.plot(dtree_metrics['Max_depth'],dtree_metrics['valid_accuracy'],'.-',label='Validation_Accuracy')\n",
        "# getting accuracy for baseline model that always predicts 1 no matter what.\n",
        "baseline1_acc = accuracy_score(y_valid, [1]*y_valid.shape[0])\n",
        "# getting accuracy for baseline model that always predicts 0 no matter what.\n",
        "baseline0_acc = accuracy_score(y_valid, [0]*y_valid.shape[0])\n",
        "plt.axhline(baseline1_acc,color = 'red',linestyle = '--',label=\"always 1 baseline\")\n",
        "plt.axhline(baseline0_acc,color = 'black',linestyle = '--',label=\"always 0 baseline\")\n",
        "plt.xlabel(\"Max depth\")\n",
        "plt.ylabel(\"Accuracy, \")\n",
        "plt.title(\"Figure 3: Accuracy  vs Max depth\")\n",
        "plt.legend()\n",
        "\n",
        "plt.show()"
      ],
      "metadata": {
        "colab": {
          "base_uri": "https://localhost:8080/",
          "height": 350
        },
        "id": "xpOVLAQxCtTX",
        "outputId": "a9f1333b-ae69-4a29-be0d-c647c36121da"
      },
      "execution_count": null,
      "outputs": [
        {
          "output_type": "display_data",
          "data": {
            "text/plain": [
              "<Figure size 1440x360 with 3 Axes>"
            ],
            "image/png": "[encoded data removed]"
          },
          "metadata": {
            "needs_background": "light"
          }
        }
      ]
    },
    {
      "cell_type": "code",
      "source": [
        "from sklearn.metrics import PrecisionRecallDisplay, precision_recall_curve\n",
        "\n",
        "precision3, recall3, thresholds3 = precision_recall_curve(y_valid,valid_proba1[10])\n",
        "precision3_t, recall3_t, thresholds3_t = precision_recall_curve(yq1_train_ds,train_proba1[10])\n",
        "plt.figure()\n",
        "ax =plt.gca()\n",
        "PrecisionRecallDisplay.from_predictions(yq1_train_ds,train_proba1[10], ax=ax,label=\"Trn\")\n",
        "PrecisionRecallDisplay.from_predictions(y_valid,valid_proba1[10], ax=ax,label=\"Val\")\n",
        "\n",
        "# interpolating to find precision at recall = 30%\n",
        "f = interpolate.interp1d(x = recall3, y=precision3)\n",
        "precision_at_recall3 = f(0.3)\n",
        "\n",
        "f1 = interpolate.interp1d(x = recall3_t, y=precision3_t)\n",
        "preciosn_at_recall3_t = f1(0.3)\n",
        "\n",
        "\n",
        "plt.title(\"Decision Tree Precision Recall Curve\")\n",
        "#precision_at_recall2 = np.interp(x= 0.3,xp = precision2[int(0.1*len(recall2)):int(0.8*len(recall2))],fp = recall2[int(0.1*len(recall2)):int(0.8*len(recall2))])\n",
        "\n",
        "plt.axhline(precision_at_recall3,color='green',linestyle = '--',label = f\"Precision at Recall-Val 30% = {np.around(precision_at_recall3*100,2)}%\")\n",
        "#plt.axhline(precision_at_recall3_t,color='green',linestyle = '--',label = f\"Precision at Recall-Trn 30% = {np.around(precision_at_recall3_t*100,2)}%\")\n",
        "plt.axvline(0.3,color='black',linestyle='--',label = 'Recall 30%')\n",
        "plt.legend()\n",
        "plt.show()"
      ],
      "metadata": {
        "colab": {
          "base_uri": "https://localhost:8080/",
          "height": 295
        },
        "id": "q_ErjILX_CNJ",
        "outputId": "0f4701e0-4216-459b-a0b8-fbe7ed909551"
      },
      "execution_count": null,
      "outputs": [
        {
          "output_type": "display_data",
          "data": {
            "text/plain": [
              "<Figure size 432x288 with 1 Axes>"
            ],
            "image/png": "[encoded data removed]"
          },
          "metadata": {
            "needs_background": "light"
          }
        }
      ]
    },
    {
      "cell_type": "code",
      "source": [
        "accuracy_score(y_valid,np.where(valid_proba1[10]>=0.5,1,0))"
      ],
      "metadata": {
        "colab": {
          "base_uri": "https://localhost:8080/"
        },
        "id": "6yy6eccQwTpq",
        "outputId": "a3e5cbcb-71c7-486f-ea3f-22eca6e834e7"
      },
      "execution_count": null,
      "outputs": [
        {
          "output_type": "execute_result",
          "data": {
            "text/plain": [
              "0.6168449068653143"
            ]
          },
          "metadata": {},
          "execution_count": 97
        }
      ]
    },
    {
      "cell_type": "markdown",
      "metadata": {
        "id": "foPGYkbXjS7z"
      },
      "source": [
        "Validation set precision is in around 25.21% at 30% recall, with an accuracy of 61% at a fraction of positive class samples of 16% in the validation set. "
      ]
    },
    {
      "cell_type": "markdown",
      "source": [
        "## <font color = 'cornflowerblue' size=4>Ensemble models</font>"
      ],
      "metadata": {
        "id": "nO8p8MfEVqEj"
      }
    },
    {
      "cell_type": "markdown",
      "source": [
        "### <font color = 'cornflowerblue' size = 3>XGBoost</font>"
      ],
      "metadata": {
        "id": "jrIwVc4AN-X3"
      }
    },
    {
      "cell_type": "code",
      "execution_count": null,
      "metadata": {
        "colab": {
          "base_uri": "https://localhost:8080/"
        },
        "id": "vrxhrNl_zMWp",
        "outputId": "2e050464-06f6-4eac-db67-91ee8f6f2679"
      },
      "outputs": [
        {
          "output_type": "stream",
          "name": "stdout",
          "text": [
            "XG Boost train set score: 0.5756546612792776\n",
            "XG Boost test set score: 0.6104401547846063\n"
          ]
        }
      ],
      "source": [
        "from xgboost import XGBClassifier\n",
        "\n",
        "\n",
        "XGB_model = XGBClassifier(num_feature = 60,subsample = 0.05)\n",
        "XGB_model.fit(Xq1_mm_train_ds, yq1_train_ds)\n",
        "print(f\"XG Boost train set score: {XGB_model.score(Xq1_mm_train_ds, yq1_train_ds)}\")\n",
        "print(f\"XG Boost test set score: {XGB_model.score(Xq1_mm_valid_ds, yq1_valid)}\")"
      ]
    },
    {
      "cell_type": "code",
      "source": [
        "yq1_train_preds_probs_xgb = XGB_model.predict_proba(Xq1_mm_train_ds)[:,1]\n",
        "yq1_valid_preds_probs_xgb = XGB_model.predict_proba(Xq1_mm_valid_ds)[:,1]\n"
      ],
      "metadata": {
        "id": "n9wFYT043lFI"
      },
      "execution_count": null,
      "outputs": []
    },
    {
      "cell_type": "code",
      "source": [
        "from scipy import interpolate\n",
        "\n",
        "\n",
        "# calculating precision, recall and thresholds for the model\n",
        "precision3, recall3, thresholds3 = precision_recall_curve(yq1_valid, yq1_valid_preds_probs_xgb)\n",
        "precision3_t, recall3_t, thresholds3_t = precision_recall_curve(yq1_train_ds, yq1_train_preds_probs_xgb)\n",
        "\n",
        "\n",
        "# plotting precision recall curve and calling out precision at 30% recall\n",
        "plt.figure()\n",
        "ax =plt.gca()\n",
        "# plotting precision-recall curve\n",
        "PrecisionRecallDisplay.from_predictions(yq1_train_ds,yq1_train_preds_probs_xgb, ax=ax,label=\"Trn\")\n",
        "PrecisionRecallDisplay.from_predictions(yq1_valid,yq1_valid_preds_probs_xgb, ax=ax,label=\"Val\")\n",
        "\n",
        "plt.title(\"XGBoost Precision Recall Curve\")\n",
        "\n",
        "# interpolating to find precision at recall = 30%\n",
        "f = interpolate.interp1d(x = recall3, y=precision3)\n",
        "precision_at_recall3 = f(0.3)\n",
        "\n",
        "f1 = interpolate.interp1d(x = recall3_t, y=precision3_t)\n",
        "preciosn_at_recall3_t = f1(0.3)\n",
        "\n",
        "# plotting vertical line for recall = 0.3\n",
        "plt.axvline(0.3,color='black',linestyle='--',label = 'Recall 30%')\n",
        "\n",
        "#plotting horizontal line for precision at recall = 0.3, label with rounded precision number\n",
        "plt.axhline(precision_at_recall3,color='green',linestyle = '--',label = f\"Val Prec at 30% Recall = {np.around(precision_at_recall3*100,2)}%\")\n",
        "\n",
        "plt.legend()\n",
        "plt.show()"
      ],
      "metadata": {
        "colab": {
          "base_uri": "https://localhost:8080/",
          "height": 295
        },
        "id": "tCCWKYZ8KCgf",
        "outputId": "6207f66c-c420-4cf1-bf46-9f8f49627cc0"
      },
      "execution_count": null,
      "outputs": [
        {
          "output_type": "display_data",
          "data": {
            "text/plain": [
              "<Figure size 432x288 with 1 Axes>"
            ],
            "image/png": "[encoded data removed]"
          },
          "metadata": {
            "needs_background": "light"
          }
        }
      ]
    },
    {
      "cell_type": "code",
      "source": [
        "from scipy import interpolate\n",
        "f = interpolate.interp1d(x = recall3, y=precision3)\n",
        "xnew = 0.3\n",
        "ynew = f(xnew)\n",
        "ynew"
      ],
      "metadata": {
        "colab": {
          "base_uri": "https://localhost:8080/"
        },
        "id": "890HqpJUsujW",
        "outputId": "f4b1d0ae-bd49-4fe4-f46c-54810a8bc80a"
      },
      "execution_count": null,
      "outputs": [
        {
          "output_type": "execute_result",
          "data": {
            "text/plain": [
              "array(0.25503947)"
            ]
          },
          "metadata": {},
          "execution_count": 81
        }
      ]
    },
    {
      "cell_type": "code",
      "source": [
        "XGB_feature_importances = pd.Series(XGB_model.feature_importances_,index=q1trainXsp.columns)\n",
        "XGB_feature_importances = XGB_feature_importances.sort_values(ascending=True)\n"
      ],
      "metadata": {
        "id": "zT4lmNfadHTw"
      },
      "execution_count": null,
      "outputs": []
    },
    {
      "cell_type": "code",
      "source": [
        "plt.figure()\n",
        "plt.title(\"Relative feature importances of Duolingo provided features\")\n",
        "plt.barh(y = XGB_feature_importances.index,width = XGB_feature_importances.values)\n",
        "plt.show()"
      ],
      "metadata": {
        "colab": {
          "base_uri": "https://localhost:8080/",
          "height": 281
        },
        "id": "8LynljjYu8L0",
        "outputId": "dfceb01a-1394-412d-c980-55372991b143"
      },
      "execution_count": null,
      "outputs": [
        {
          "output_type": "display_data",
          "data": {
            "text/plain": [
              "<Figure size 432x288 with 1 Axes>"
            ],
            "image/png": "[encoded data removed]"
          },
          "metadata": {
            "needs_background": "light"
          }
        }
      ]
    },
    {
      "cell_type": "markdown",
      "source": [
        "## <font color='cornflowerblue' size=4>Conclusions and Next Steps</font>\n",
        "\n",
        "The fraction of correct answers historically on a word by a student is the most important predictor of whether they remember it, which is unsurprising.\n",
        "\n",
        "Baseline modeling with only the features provided by Duoling has been tested. \n",
        "\n",
        "Overall, the validation set precision is in around 25.21% at 30% recall, with an accuracy of 61% at a fraction of positive class samples of 16% in the validation set. \n",
        "\n",
        "To justify the addition of any more features, there should be a corresponding improvement in predictive abilities. \n",
        "\n",
        "In the next notebooks, two different feature sets are considered for word based features, and modeled. The best model is tested on unseen words. "
      ],
      "metadata": {
        "id": "zvF6RC0MPZM0"
      }
    }
  ],
  "metadata": {
    "colab": {
      "collapsed_sections": [],
      "machine_shape": "hm",
      "provenance": [],
      "authorship_tag": "ABX9TyMDUwpw/MYnvjAqWcgSHy8Q",
      "include_colab_link": true
    },
    "gpuClass": "standard",
    "kernelspec": {
      "display_name": "Python 3",
      "name": "python3"
    },
    "language_info": {
      "name": "python"
    },
    "accelerator": "GPU"
  },
  "nbformat": 4,
  "nbformat_minor": 0
}