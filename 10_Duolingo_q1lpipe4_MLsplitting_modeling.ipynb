{
  "cells": [
    {
      "cell_type": "markdown",
      "metadata": {
        "id": "view-in-github",
        "colab_type": "text"
      },
      "source": [
        "<a href=\"https://colab.research.google.com/github/rts1988/Duolingo_spaced_repetition/blob/main/10_Duolingo_q1lpipe4_MLsplitting_modeling.ipynb\" target=\"_parent\"><img src=\"https://colab.research.google.com/assets/colab-badge.svg\" alt=\"Open In Colab\"/></a>"
      ]
    },
    {
      "cell_type": "markdown",
      "source": [
        "<font color='cornflowerblue' size=4>Introduction</font>\n",
        "\n",
        "Featureset4 for addressing Q1 (what makes a word easy or difficult to remember)with word vectors has been preprocessed.\n",
        "\n",
        "The training set contains around 8 million records with 16% records with forgotten words. Since the dataset is imbalanced, and the dataset is large enough, downsampling will be done.\n",
        "\n",
        "Plan:\n",
        "\n",
        "1. Split datasets into training and validation with 80-20. \n",
        "2. Downsample training set to equal class proportions.\n",
        "\n",
        "Classical ML models: understanding overall feature importances.\n",
        "Prep: from the downsampled training set, select at most 1 million records, and fit the following models\n",
        "\n",
        "1. Logistic Regression (L2 penalty, vary C and class weight)\n",
        "2. Decision Tree (vary max_depth, class_weight)\n",
        "\n",
        "\n",
        "Ensemble techniques:\n",
        "Prep: Use the full downsampled dataset\n",
        "1. Random Forest (vary n_estimators, )\n",
        "2. XGBoost\n",
        "3. AdaBoost\n",
        "\n",
        "Neural Net (keras)\n",
        "1. Dense architecture\n",
        "2\n"
      ],
      "metadata": {
        "id": "O70b2pW5u66c"
      }
    },
    {
      "cell_type": "markdown",
      "source": [
        "## <font color = 'cornflowerblue' size=4>Splitting trainingset into train and validation sets</font>"
      ],
      "metadata": {
        "id": "Jr38LEKQxR9z"
      }
    },
    {
      "cell_type": "markdown",
      "metadata": {
        "id": "KnpvNDT7lpB6"
      },
      "source": [
        "Importing libraries, mounting google drive, and getting Q1TRAIN pipe1 set. "
      ]
    },
    {
      "cell_type": "code",
      "execution_count": 1,
      "metadata": {
        "colab": {
          "base_uri": "https://localhost:8080/"
        },
        "id": "R-WTApfQPI6o",
        "outputId": "a85531ef-5576-4650-efd3-14c6315a6a7c"
      },
      "outputs": [
        {
          "output_type": "stream",
          "name": "stdout",
          "text": [
            "Mounted at /content/drive\n"
          ]
        }
      ],
      "source": [
        "import bz2\n",
        "import pickle\n",
        "import _pickle as cPickle\n",
        "import pandas as pd\n",
        "import seaborn as sns\n",
        "import matplotlib.pyplot as plt\n",
        "import numpy as np\n",
        "\n",
        "from google.colab import drive\n",
        "drive.mount('/content/drive')\n",
        "\n",
        "def decompress_pickle(file):\n",
        " data = bz2.BZ2File(file, 'rb')\n",
        " data = cPickle.load(data)\n",
        " return data\n",
        "\n",
        "def compressed_pickle(title, data):  # do not add extension in filename\n",
        " with bz2.BZ2File(title + '.pbz2', 'w') as f: \n",
        "  cPickle.dump(data, f)\n",
        "\n",
        "path_name = '/content/drive/MyDrive/'"
      ]
    },
    {
      "cell_type": "code",
      "execution_count": 2,
      "metadata": {
        "id": "EWDuQfNJPuhp"
      },
      "outputs": [],
      "source": [
        "q1trainXsp = decompress_pickle(path_name+\"Q1TRAIN_pipe4.pbz2\") "
      ]
    },
    {
      "cell_type": "code",
      "execution_count": 3,
      "metadata": {
        "colab": {
          "base_uri": "https://localhost:8080/"
        },
        "id": "vhl6x5D-PvMh",
        "outputId": "3e5494f1-3682-457f-8390-9729ed2a4cab"
      },
      "outputs": [
        {
          "output_type": "execute_result",
          "data": {
            "text/plain": [
              "((8070561, 28), 225.975708)"
            ]
          },
          "metadata": {},
          "execution_count": 3
        }
      ],
      "source": [
        "q1trainXsp.shape, q1trainXsp.size/10**6"
      ]
    },
    {
      "cell_type": "code",
      "source": [
        "q1trainXsp = q1trainXsp.drop('lexeme_id',axis=1)"
      ],
      "metadata": {
        "id": "P49dSAf-W13u"
      },
      "execution_count": 4,
      "outputs": []
    },
    {
      "cell_type": "code",
      "source": [
        "q1train_y = decompress_pickle(path_name+\"Q1TRAIN_Y_pipe4.pbz2\") "
      ],
      "metadata": {
        "id": "bj7cTP1sy-dY"
      },
      "execution_count": 5,
      "outputs": []
    },
    {
      "cell_type": "code",
      "execution_count": 6,
      "metadata": {
        "colab": {
          "base_uri": "https://localhost:8080/"
        },
        "id": "G9QMPnwGmpPT",
        "outputId": "bfd47815-aa08-40dc-c0e5-e35377f27ed4"
      },
      "outputs": [
        {
          "output_type": "execute_result",
          "data": {
            "text/plain": [
              "(pandas.core.frame.DataFrame, pandas.core.series.Series)"
            ]
          },
          "metadata": {},
          "execution_count": 6
        }
      ],
      "source": [
        "type(q1trainXsp), type(q1train_y)"
      ]
    },
    {
      "cell_type": "code",
      "execution_count": 44,
      "metadata": {
        "id": "Mzwo-xM9nAQn"
      },
      "outputs": [],
      "source": [
        "from scipy.sparse import coo_matrix"
      ]
    },
    {
      "cell_type": "markdown",
      "source": [
        "## Splitting into training and validation sets 90-10"
      ],
      "metadata": {
        "id": "BV2qGgX0zRQa"
      }
    },
    {
      "cell_type": "markdown",
      "metadata": {
        "id": "xnaMooTbn_2O"
      },
      "source": [
        "splitting into 80-20 training and validation set with a random state = 5. (had to remove stratify argument, because it doesn't work for sparse arrays)"
      ]
    },
    {
      "cell_type": "code",
      "execution_count": 7,
      "metadata": {
        "id": "ZRtwPyivnH9X"
      },
      "outputs": [],
      "source": [
        "from sklearn.model_selection import train_test_split\n",
        "\n",
        "Xq1_train, Xq1_valid, yq1_train, yq1_valid = train_test_split(q1trainXsp,q1train_y,test_size=0.1,random_state=5)"
      ]
    },
    {
      "cell_type": "code",
      "execution_count": 8,
      "metadata": {
        "colab": {
          "base_uri": "https://localhost:8080/"
        },
        "id": "nMhbmTs9oHd0",
        "outputId": "ce0359e6-5b0b-45d0-e404-ae5e3d5a4632"
      },
      "outputs": [
        {
          "output_type": "execute_result",
          "data": {
            "text/plain": [
              "((7263504, 27), (807057, 27), (7263504,), (807057,))"
            ]
          },
          "metadata": {},
          "execution_count": 8
        }
      ],
      "source": [
        "Xq1_train.shape, Xq1_valid.shape, yq1_train.shape, yq1_valid.shape"
      ]
    },
    {
      "cell_type": "markdown",
      "metadata": {
        "id": "3uYfRNqVpjFt"
      },
      "source": [
        "Fraction of ones in the train and validation sets"
      ]
    },
    {
      "cell_type": "code",
      "execution_count": 9,
      "metadata": {
        "colab": {
          "base_uri": "https://localhost:8080/"
        },
        "id": "yrRvYfHeoNrA",
        "outputId": "243248ab-e2d8-4393-e175-4f1a1d1db7fa"
      },
      "outputs": [
        {
          "output_type": "execute_result",
          "data": {
            "text/plain": [
              "(0.16344962431355445, 0.1641990590503521)"
            ]
          },
          "metadata": {},
          "execution_count": 9
        }
      ],
      "source": [
        "yq1_train.sum()/yq1_train.shape[0], yq1_valid.sum()/yq1_valid.shape[0]"
      ]
    },
    {
      "cell_type": "markdown",
      "source": [
        "## <font color = 'cornflowerblue' size=4>Classical models:\n",
        "\n",
        "The training set is now downsampled and reduced to 1 milion records for a quick run of classical models to see what the most important features are. "
      ],
      "metadata": {
        "id": "yZ6740n1yBxc"
      }
    },
    {
      "cell_type": "markdown",
      "source": [
        "### <font color = 'cornflowerblue' size=3>Downsampling training dataset</font>"
      ],
      "metadata": {
        "id": "_Wm1uNTRymID"
      }
    },
    {
      "cell_type": "code",
      "source": [
        "# creating sparse dataframe from sparse matrix\n",
        "df = pd.DataFrame(Xq1_train)\n",
        "# combining with y\n",
        "df['y'] = yq1_train\n",
        "\n",
        "# nsplitting sparse dataframe by class values\n",
        "df0 = df[df['y']==0]\n",
        "df1 = df[df['y']==1]\n",
        "\n",
        "# number of positive samples\n",
        "numdf1 = df1.shape[0]\n",
        "\n",
        "# what fraction of df0 do we need to equal the numbers of df1?\n",
        "fractiondf0 = numdf1/df0.shape[0]\n",
        "\n",
        "# sampling from negative class samples to get only the fraction needed \n",
        "df0_ = df0.sample(frac = fractiondf0,random_state = 15)\n",
        "\n",
        "# recombine and shuffle downsampled negative samples df0_ and all of positive samples df1:\n",
        "df_downsampled = pd.concat([df0_, df1],axis=0).sample(frac=1,random_state=20)\n",
        "\n"
      ],
      "metadata": {
        "id": "b27zX0afyQrB"
      },
      "execution_count": 10,
      "outputs": []
    },
    {
      "cell_type": "code",
      "source": [
        "# create the sparse matrices ready for training\n",
        "yq1_train_ds = df_downsampled['y']\n",
        "Xq1_train_ds = df_downsampled.drop('y',axis=1)\n",
        "\n"
      ],
      "metadata": {
        "id": "0HrMjwbb3xHI"
      },
      "execution_count": 11,
      "outputs": []
    },
    {
      "cell_type": "code",
      "source": [
        "Xq1_train_ds.shape, yq1_train_ds.shape, numdf1, df0_.shape, df1.shape, df0.shape, df.shape"
      ],
      "metadata": {
        "colab": {
          "base_uri": "https://localhost:8080/"
        },
        "id": "Wf6ans3p1Qrj",
        "outputId": "a520af5d-b375-43b1-b8b7-5a8d54db79f3"
      },
      "execution_count": 12,
      "outputs": [
        {
          "output_type": "execute_result",
          "data": {
            "text/plain": [
              "((2374434, 27),\n",
              " (2374434,),\n",
              " 1187217,\n",
              " (1187217, 28),\n",
              " (1187217, 28),\n",
              " (6076287, 28),\n",
              " (7263504, 28))"
            ]
          },
          "metadata": {},
          "execution_count": 12
        }
      ]
    },
    {
      "cell_type": "code",
      "source": [
        "yq1_train_ds.sum()/yq1_train_ds.shape[0]"
      ],
      "metadata": {
        "colab": {
          "base_uri": "https://localhost:8080/"
        },
        "id": "IC5Tj7aC8U73",
        "outputId": "c9e87bad-50be-464a-8875-2d71d3a426a5"
      },
      "execution_count": 13,
      "outputs": [
        {
          "output_type": "execute_result",
          "data": {
            "text/plain": [
              "0.5"
            ]
          },
          "metadata": {},
          "execution_count": 13
        }
      ]
    },
    {
      "cell_type": "markdown",
      "source": [
        "Since there are around 1.33 million records in the downsampled dataset, no more reduction is necessary. The number of positive and negative samples is equal. "
      ],
      "metadata": {
        "id": "Tv6CtVyV4PDo"
      }
    },
    {
      "cell_type": "markdown",
      "source": [
        "### <font color= 'cornflowerblue' size=3>Scaling downsampled dataset</font>"
      ],
      "metadata": {
        "id": "WNAeVzp15e7i"
      }
    },
    {
      "cell_type": "markdown",
      "metadata": {
        "id": "DWZtKI4Cppws"
      },
      "source": [
        "They are about the same, we will use this split to test a number of models. They are saved below:\n",
        "\n",
        "First, we scale and transform the data using the min-max scaler. "
      ]
    },
    {
      "cell_type": "code",
      "execution_count": 14,
      "metadata": {
        "id": "Rchgc0dFqH_C",
        "colab": {
          "base_uri": "https://localhost:8080/"
        },
        "outputId": "4325f0ef-104b-4d4d-cc7b-37da50781d50"
      },
      "outputs": [
        {
          "output_type": "stream",
          "name": "stderr",
          "text": [
            "/usr/local/lib/python3.7/dist-packages/sklearn/utils/validation.py:1692: FutureWarning: Feature names only support names that are all strings. Got feature names with dtypes: ['int', 'str']. An error will be raised in 1.2.\n",
            "  FutureWarning,\n",
            "/usr/local/lib/python3.7/dist-packages/sklearn/utils/validation.py:1692: FutureWarning: Feature names only support names that are all strings. Got feature names with dtypes: ['int', 'str']. An error will be raised in 1.2.\n",
            "  FutureWarning,\n",
            "/usr/local/lib/python3.7/dist-packages/sklearn/utils/validation.py:1692: FutureWarning: Feature names only support names that are all strings. Got feature names with dtypes: ['int', 'str']. An error will be raised in 1.2.\n",
            "  FutureWarning,\n"
          ]
        }
      ],
      "source": [
        "from sklearn.preprocessing import MaxAbsScaler # used because sparse array not supported by MinMaxScaler\n",
        "mm_scaler = MaxAbsScaler()\n",
        "\n",
        "mm_scaler.fit(Xq1_train_ds[[col for col in Xq1_train_ds if col!='lexeme_id']])\n",
        "Xq1_mm_train_ds = mm_scaler.transform(Xq1_train_ds)\n",
        "Xq1_mm_valid_ds = mm_scaler.transform(Xq1_valid) # downsampled scaler is applied. \n"
      ]
    },
    {
      "cell_type": "code",
      "source": [
        "Xq1_mm_train_ds.shape"
      ],
      "metadata": {
        "colab": {
          "base_uri": "https://localhost:8080/"
        },
        "id": "yYZakC7HXOPL",
        "outputId": "23bc728a-9df3-4ede-f432-28cd33fe877d"
      },
      "execution_count": 15,
      "outputs": [
        {
          "output_type": "execute_result",
          "data": {
            "text/plain": [
              "(2374434, 27)"
            ]
          },
          "metadata": {},
          "execution_count": 15
        }
      ]
    },
    {
      "cell_type": "markdown",
      "metadata": {
        "id": "4Tz2u-0Cq-jR"
      },
      "source": [
        "###<font color = 'cornflowerblue' size= 3>Logistic regression</font>\n",
        "\n",
        "Hyperparamters:\n",
        "1. C\n",
        "2. class weights\n"
      ]
    },
    {
      "cell_type": "code",
      "source": [
        "from sklearn.linear_model import LogisticRegression\n",
        "\n",
        "from sklearn.model_selection import cross_validate # return scores for many metrics\n",
        "\n",
        "from sklearn.metrics import make_scorer # to define a list of scoring metrics to use\n",
        "\n",
        "from sklearn.model_selection import GridSearchCV # to search hyperparameters in a grid \n",
        "\n",
        "classweight_vals = [{0:0.9,1:0.1},{0:0.01,1:0.99}]\n",
        "C_vals = [10**(-3),1,10**3]\n",
        "\n",
        "para_dict =dict()\n",
        "para_dict['class_weight'] = classweight_vals\n",
        "para_dict['C'] = C_vals\n",
        "\n",
        "\n",
        "# iterate over \n",
        "logreg = LogisticRegression(solver = 'lbfgs',max_iter=50)\n",
        "scoring_metrics = ['accuracy','f1','average_precision','roc_auc','recall']\n",
        "\n",
        "gridsearch_obj = GridSearchCV(logreg, n_jobs = 4, param_grid = para_dict,cv=3,scoring = scoring_metrics, verbose=1,refit=False)\n",
        "\n",
        "gridsearch_obj.fit(Xq1_mm_train_ds,yq1_train_ds)"
      ],
      "metadata": {
        "colab": {
          "base_uri": "https://localhost:8080/"
        },
        "id": "RgViWIk06f_n",
        "outputId": "71e34852-8de7-4887-b06c-7e6d6bdbb9d6"
      },
      "execution_count": 34,
      "outputs": [
        {
          "output_type": "stream",
          "name": "stdout",
          "text": [
            "Fitting 3 folds for each of 6 candidates, totalling 18 fits\n"
          ]
        },
        {
          "output_type": "execute_result",
          "data": {
            "text/plain": [
              "GridSearchCV(cv=3, estimator=LogisticRegression(max_iter=50), n_jobs=4,\n",
              "             param_grid={'C': [0.001, 1, 1000],\n",
              "                         'class_weight': [{0: 0.9, 1: 0.1},\n",
              "                                          {0: 0.01, 1: 0.99}]},\n",
              "             refit=False,\n",
              "             scoring=['accuracy', 'f1', 'average_precision', 'roc_auc',\n",
              "                      'recall'],\n",
              "             verbose=1)"
            ]
          },
          "metadata": {},
          "execution_count": 34
        }
      ]
    },
    {
      "cell_type": "code",
      "source": [
        "gridcv = pd.DataFrame(gridsearch_obj.cv_results_)\n",
        "np.around(gridcv[['param_class_weight','param_C','mean_fit_time',  'mean_score_time', \n",
        "       'mean_test_accuracy','mean_test_average_precision','mean_test_roc_auc','mean_test_f1','mean_test_recall']],2)"
      ],
      "metadata": {
        "colab": {
          "base_uri": "https://localhost:8080/",
          "height": 237
        },
        "id": "wewl2QoN77jD",
        "outputId": "94eeb61c-9bdb-402c-eb42-07ddcef01064"
      },
      "execution_count": 36,
      "outputs": [
        {
          "output_type": "execute_result",
          "data": {
            "text/plain": [
              "   param_class_weight param_C  mean_fit_time  mean_score_time  \\\n",
              "0    {0: 0.9, 1: 0.1}   0.001           9.80             1.99   \n",
              "1  {0: 0.01, 1: 0.99}   0.001           6.30             2.16   \n",
              "2    {0: 0.9, 1: 0.1}       1          17.95             1.87   \n",
              "3  {0: 0.01, 1: 0.99}       1          16.26             1.94   \n",
              "4    {0: 0.9, 1: 0.1}    1000          17.09             1.91   \n",
              "5  {0: 0.01, 1: 0.99}    1000          15.62             1.59   \n",
              "\n",
              "   mean_test_accuracy  mean_test_average_precision  mean_test_roc_auc  \\\n",
              "0                 0.5                         0.59               0.60   \n",
              "1                 0.5                         0.59               0.59   \n",
              "2                 0.5                         0.60               0.60   \n",
              "3                 0.5                         0.59               0.60   \n",
              "4                 0.5                         0.60               0.60   \n",
              "5                 0.5                         0.59               0.60   \n",
              "\n",
              "   mean_test_f1  mean_test_recall  \n",
              "0          0.00               0.0  \n",
              "1          0.67               1.0  \n",
              "2          0.00               0.0  \n",
              "3          0.67               1.0  \n",
              "4          0.00               0.0  \n",
              "5          0.67               1.0  "
            ],
            "text/html": [
              "\n",
              "  <div id=\"df-c8b38c2a-11ca-44ab-a637-e27e7507e23e\">\n",
              "    <div class=\"colab-df-container\">\n",
              "      <div>\n",
              "<style scoped>\n",
              "    .dataframe tbody tr th:only-of-type {\n",
              "        vertical-align: middle;\n",
              "    }\n",
              "\n",
              "    .dataframe tbody tr th {\n",
              "        vertical-align: top;\n",
              "    }\n",
              "\n",
              "    .dataframe thead th {\n",
              "        text-align: right;\n",
              "    }\n",
              "</style>\n",
              "<table border=\"1\" class=\"dataframe\">\n",
              "  <thead>\n",
              "    <tr style=\"text-align: right;\">\n",
              "      <th></th>\n",
              "      <th>param_class_weight</th>\n",
              "      <th>param_C</th>\n",
              "      <th>mean_fit_time</th>\n",
              "      <th>mean_score_time</th>\n",
              "      <th>mean_test_accuracy</th>\n",
              "      <th>mean_test_average_precision</th>\n",
              "      <th>mean_test_roc_auc</th>\n",
              "      <th>mean_test_f1</th>\n",
              "      <th>mean_test_recall</th>\n",
              "    </tr>\n",
              "  </thead>\n",
              "  <tbody>\n",
              "    <tr>\n",
              "      <th>0</th>\n",
              "      <td>{0: 0.9, 1: 0.1}</td>\n",
              "      <td>0.001</td>\n",
              "      <td>9.80</td>\n",
              "      <td>1.99</td>\n",
              "      <td>0.5</td>\n",
              "      <td>0.59</td>\n",
              "      <td>0.60</td>\n",
              "      <td>0.00</td>\n",
              "      <td>0.0</td>\n",
              "    </tr>\n",
              "    <tr>\n",
              "      <th>1</th>\n",
              "      <td>{0: 0.01, 1: 0.99}</td>\n",
              "      <td>0.001</td>\n",
              "      <td>6.30</td>\n",
              "      <td>2.16</td>\n",
              "      <td>0.5</td>\n",
              "      <td>0.59</td>\n",
              "      <td>0.59</td>\n",
              "      <td>0.67</td>\n",
              "      <td>1.0</td>\n",
              "    </tr>\n",
              "    <tr>\n",
              "      <th>2</th>\n",
              "      <td>{0: 0.9, 1: 0.1}</td>\n",
              "      <td>1</td>\n",
              "      <td>17.95</td>\n",
              "      <td>1.87</td>\n",
              "      <td>0.5</td>\n",
              "      <td>0.60</td>\n",
              "      <td>0.60</td>\n",
              "      <td>0.00</td>\n",
              "      <td>0.0</td>\n",
              "    </tr>\n",
              "    <tr>\n",
              "      <th>3</th>\n",
              "      <td>{0: 0.01, 1: 0.99}</td>\n",
              "      <td>1</td>\n",
              "      <td>16.26</td>\n",
              "      <td>1.94</td>\n",
              "      <td>0.5</td>\n",
              "      <td>0.59</td>\n",
              "      <td>0.60</td>\n",
              "      <td>0.67</td>\n",
              "      <td>1.0</td>\n",
              "    </tr>\n",
              "    <tr>\n",
              "      <th>4</th>\n",
              "      <td>{0: 0.9, 1: 0.1}</td>\n",
              "      <td>1000</td>\n",
              "      <td>17.09</td>\n",
              "      <td>1.91</td>\n",
              "      <td>0.5</td>\n",
              "      <td>0.60</td>\n",
              "      <td>0.60</td>\n",
              "      <td>0.00</td>\n",
              "      <td>0.0</td>\n",
              "    </tr>\n",
              "    <tr>\n",
              "      <th>5</th>\n",
              "      <td>{0: 0.01, 1: 0.99}</td>\n",
              "      <td>1000</td>\n",
              "      <td>15.62</td>\n",
              "      <td>1.59</td>\n",
              "      <td>0.5</td>\n",
              "      <td>0.59</td>\n",
              "      <td>0.60</td>\n",
              "      <td>0.67</td>\n",
              "      <td>1.0</td>\n",
              "    </tr>\n",
              "  </tbody>\n",
              "</table>\n",
              "</div>\n",
              "      <button class=\"colab-df-convert\" onclick=\"convertToInteractive('df-c8b38c2a-11ca-44ab-a637-e27e7507e23e')\"\n",
              "              title=\"Convert this dataframe to an interactive table.\"\n",
              "              style=\"display:none;\">\n",
              "        \n",
              "  <svg xmlns=\"http://www.w3.org/2000/svg\" height=\"24px\"viewBox=\"0 0 24 24\"\n",
              "       width=\"24px\">\n",
              "    <path d=\"M0 0h24v24H0V0z\" fill=\"none\"/>\n",
              "    <path d=\"M18.56 5.44l.94 2.06.94-2.06 2.06-.94-2.06-.94-.94-2.06-.94 2.06-2.06.94zm-11 1L8.5 8.5l.94-2.06 2.06-.94-2.06-.94L8.5 2.5l-.94 2.06-2.06.94zm10 10l.94 2.06.94-2.06 2.06-.94-2.06-.94-.94-2.06-.94 2.06-2.06.94z\"/><path d=\"M17.41 7.96l-1.37-1.37c-.4-.4-.92-.59-1.43-.59-.52 0-1.04.2-1.43.59L10.3 9.45l-7.72 7.72c-.78.78-.78 2.05 0 2.83L4 21.41c.39.39.9.59 1.41.59.51 0 1.02-.2 1.41-.59l7.78-7.78 2.81-2.81c.8-.78.8-2.07 0-2.86zM5.41 20L4 18.59l7.72-7.72 1.47 1.35L5.41 20z\"/>\n",
              "  </svg>\n",
              "      </button>\n",
              "      \n",
              "  <style>\n",
              "    .colab-df-container {\n",
              "      display:flex;\n",
              "      flex-wrap:wrap;\n",
              "      gap: 12px;\n",
              "    }\n",
              "\n",
              "    .colab-df-convert {\n",
              "      background-color: #E8F0FE;\n",
              "      border: none;\n",
              "      border-radius: 50%;\n",
              "      cursor: pointer;\n",
              "      display: none;\n",
              "      fill: #1967D2;\n",
              "      height: 32px;\n",
              "      padding: 0 0 0 0;\n",
              "      width: 32px;\n",
              "    }\n",
              "\n",
              "    .colab-df-convert:hover {\n",
              "      background-color: #E2EBFA;\n",
              "      box-shadow: 0px 1px 2px rgba(60, 64, 67, 0.3), 0px 1px 3px 1px rgba(60, 64, 67, 0.15);\n",
              "      fill: #174EA6;\n",
              "    }\n",
              "\n",
              "    [theme=dark] .colab-df-convert {\n",
              "      background-color: #3B4455;\n",
              "      fill: #D2E3FC;\n",
              "    }\n",
              "\n",
              "    [theme=dark] .colab-df-convert:hover {\n",
              "      background-color: #434B5C;\n",
              "      box-shadow: 0px 1px 3px 1px rgba(0, 0, 0, 0.15);\n",
              "      filter: drop-shadow(0px 1px 2px rgba(0, 0, 0, 0.3));\n",
              "      fill: #FFFFFF;\n",
              "    }\n",
              "  </style>\n",
              "\n",
              "      <script>\n",
              "        const buttonEl =\n",
              "          document.querySelector('#df-c8b38c2a-11ca-44ab-a637-e27e7507e23e button.colab-df-convert');\n",
              "        buttonEl.style.display =\n",
              "          google.colab.kernel.accessAllowed ? 'block' : 'none';\n",
              "\n",
              "        async function convertToInteractive(key) {\n",
              "          const element = document.querySelector('#df-c8b38c2a-11ca-44ab-a637-e27e7507e23e');\n",
              "          const dataTable =\n",
              "            await google.colab.kernel.invokeFunction('convertToInteractive',\n",
              "                                                     [key], {});\n",
              "          if (!dataTable) return;\n",
              "\n",
              "          const docLinkHtml = 'Like what you see? Visit the ' +\n",
              "            '<a target=\"_blank\" href=https://colab.research.google.com/notebooks/data_table.ipynb>data table notebook</a>'\n",
              "            + ' to learn more about interactive tables.';\n",
              "          element.innerHTML = '';\n",
              "          dataTable['output_type'] = 'display_data';\n",
              "          await google.colab.output.renderOutput(dataTable, element);\n",
              "          const docLink = document.createElement('div');\n",
              "          docLink.innerHTML = docLinkHtml;\n",
              "          element.appendChild(docLink);\n",
              "        }\n",
              "      </script>\n",
              "    </div>\n",
              "  </div>\n",
              "  "
            ]
          },
          "metadata": {},
          "execution_count": 36
        }
      ]
    },
    {
      "cell_type": "markdown",
      "source": [
        "Changing C had no real impact on the accuracy, which is still at the baseline value. Recall is either 1 or 0, indicating that the models either predict all 1s or all 0s.\n",
        "\n",
        "Logistic regression does not seem promising to train on the full dataset, nor is it likely at 0.5 accuracy to give any information of feature importance. \n",
        "\n",
        "Decision trees are tried next. "
      ],
      "metadata": {
        "id": "jAN6hlww8Kqz"
      }
    },
    {
      "cell_type": "markdown",
      "source": [
        "### <font color='cornflowerblue' size=3>Decision Trees</font>\n",
        "\n",
        "The downsampled dataset is trained on decision trees with varying class weight and max_depth."
      ],
      "metadata": {
        "id": "_sQ9h4WV9Ac0"
      }
    },
    {
      "cell_type": "code",
      "source": [
        "from sklearn.tree import DecisionTreeClassifier\n",
        "\n",
        "dtree = DecisionTreeClassifier()\n",
        "\n",
        "classweight_vals = [{0:0.45,1:0.55},{0:0.55,1:0.45}]\n",
        "maxdepth_vals = [5,30]\n",
        "\n",
        "para_dict =dict()\n",
        "para_dict['class_weight'] = classweight_vals\n",
        "para_dict['max_depth'] = maxdepth_vals\n",
        "\n",
        "\n",
        "scoring_metrics = ['accuracy','f1','average_precision','roc_auc','recall']\n",
        "\n",
        "gridsearch_obj = GridSearchCV(dtree, param_grid = para_dict,cv=3,scoring = scoring_metrics, verbose=3,refit=False)\n",
        "\n",
        "gridsearch_obj.fit(Xq1_mm_train_ds,yq1_train_ds)"
      ],
      "metadata": {
        "colab": {
          "base_uri": "https://localhost:8080/",
          "height": 505
        },
        "id": "p63N_BS19N81",
        "outputId": "9f14c73c-37da-4807-89cb-562fb69d9711"
      },
      "execution_count": 37,
      "outputs": [
        {
          "metadata": {
            "tags": null
          },
          "name": "stdout",
          "output_type": "stream",
          "text": [
            "Fitting 3 folds for each of 4 candidates, totalling 12 fits\n",
            "[CV 1/3] END class_weight={0: 0.45, 1: 0.55}, max_depth=5; accuracy: (test=0.564) average_precision: (test=0.599) f1: (test=0.639) recall: (test=0.772) roc_auc: (test=0.607) total time=  33.3s\n",
            "[CV 2/3] END class_weight={0: 0.45, 1: 0.55}, max_depth=5; accuracy: (test=0.567) average_precision: (test=0.598) f1: (test=0.635) recall: (test=0.755) roc_auc: (test=0.608) total time=  33.4s\n",
            "[CV 3/3] END class_weight={0: 0.45, 1: 0.55}, max_depth=5; accuracy: (test=0.560) average_precision: (test=0.599) f1: (test=0.643) recall: (test=0.791) roc_auc: (test=0.607) total time=  33.1s\n",
            "[CV 1/3] END class_weight={0: 0.45, 1: 0.55}, max_depth=30; accuracy: (test=0.554) average_precision: (test=0.533) f1: (test=0.579) recall: (test=0.612) roc_auc: (test=0.554) total time= 1.3min\n",
            "[CV 2/3] END class_weight={0: 0.45, 1: 0.55}, max_depth=30; accuracy: (test=0.555) average_precision: (test=0.535) f1: (test=0.578) recall: (test=0.609) roc_auc: (test=0.555) total time= 1.3min\n",
            "[CV 3/3] END class_weight={0: 0.45, 1: 0.55}, max_depth=30; accuracy: (test=0.554) average_precision: (test=0.533) f1: (test=0.576) recall: (test=0.607) roc_auc: (test=0.553) total time= 1.3min\n",
            "[CV 1/3] END class_weight={0: 0.55, 1: 0.45}, max_depth=5; accuracy: (test=0.567) average_precision: (test=0.599) f1: (test=0.440) recall: (test=0.340) roc_auc: (test=0.607) total time=  33.3s\n"
          ]
        },
        {
          "output_type": "error",
          "ename": "KeyboardInterrupt",
          "evalue": "ignored",
          "traceback": [
            "\u001b[0;31m---------------------------------------------------------------------------\u001b[0m",
            "\u001b[0;31mKeyboardInterrupt\u001b[0m                         Traceback (most recent call last)",
            "\u001b[0;32m<ipython-input-37-fca4cee2b97a>\u001b[0m in \u001b[0;36m<module>\u001b[0;34m()\u001b[0m\n\u001b[1;32m     15\u001b[0m \u001b[0mgridsearch_obj\u001b[0m \u001b[0;34m=\u001b[0m \u001b[0mGridSearchCV\u001b[0m\u001b[0;34m(\u001b[0m\u001b[0mdtree\u001b[0m\u001b[0;34m,\u001b[0m \u001b[0mparam_grid\u001b[0m \u001b[0;34m=\u001b[0m \u001b[0mpara_dict\u001b[0m\u001b[0;34m,\u001b[0m\u001b[0mcv\u001b[0m\u001b[0;34m=\u001b[0m\u001b[0;36m3\u001b[0m\u001b[0;34m,\u001b[0m\u001b[0mscoring\u001b[0m \u001b[0;34m=\u001b[0m \u001b[0mscoring_metrics\u001b[0m\u001b[0;34m,\u001b[0m \u001b[0mverbose\u001b[0m\u001b[0;34m=\u001b[0m\u001b[0;36m3\u001b[0m\u001b[0;34m,\u001b[0m\u001b[0mrefit\u001b[0m\u001b[0;34m=\u001b[0m\u001b[0;32mFalse\u001b[0m\u001b[0;34m)\u001b[0m\u001b[0;34m\u001b[0m\u001b[0;34m\u001b[0m\u001b[0m\n\u001b[1;32m     16\u001b[0m \u001b[0;34m\u001b[0m\u001b[0m\n\u001b[0;32m---> 17\u001b[0;31m \u001b[0mgridsearch_obj\u001b[0m\u001b[0;34m.\u001b[0m\u001b[0mfit\u001b[0m\u001b[0;34m(\u001b[0m\u001b[0mXq1_mm_train_ds\u001b[0m\u001b[0;34m,\u001b[0m\u001b[0myq1_train_ds\u001b[0m\u001b[0;34m)\u001b[0m\u001b[0;34m\u001b[0m\u001b[0;34m\u001b[0m\u001b[0m\n\u001b[0m",
            "\u001b[0;32m/usr/local/lib/python3.7/dist-packages/sklearn/model_selection/_search.py\u001b[0m in \u001b[0;36mfit\u001b[0;34m(self, X, y, groups, **fit_params)\u001b[0m\n\u001b[1;32m    889\u001b[0m                 \u001b[0;32mreturn\u001b[0m \u001b[0mresults\u001b[0m\u001b[0;34m\u001b[0m\u001b[0;34m\u001b[0m\u001b[0m\n\u001b[1;32m    890\u001b[0m \u001b[0;34m\u001b[0m\u001b[0m\n\u001b[0;32m--> 891\u001b[0;31m             \u001b[0mself\u001b[0m\u001b[0;34m.\u001b[0m\u001b[0m_run_search\u001b[0m\u001b[0;34m(\u001b[0m\u001b[0mevaluate_candidates\u001b[0m\u001b[0;34m)\u001b[0m\u001b[0;34m\u001b[0m\u001b[0;34m\u001b[0m\u001b[0m\n\u001b[0m\u001b[1;32m    892\u001b[0m \u001b[0;34m\u001b[0m\u001b[0m\n\u001b[1;32m    893\u001b[0m             \u001b[0;31m# multimetric is determined here because in the case of a callable\u001b[0m\u001b[0;34m\u001b[0m\u001b[0;34m\u001b[0m\u001b[0;34m\u001b[0m\u001b[0m\n",
            "\u001b[0;32m/usr/local/lib/python3.7/dist-packages/sklearn/model_selection/_search.py\u001b[0m in \u001b[0;36m_run_search\u001b[0;34m(self, evaluate_candidates)\u001b[0m\n\u001b[1;32m   1390\u001b[0m     \u001b[0;32mdef\u001b[0m \u001b[0m_run_search\u001b[0m\u001b[0;34m(\u001b[0m\u001b[0mself\u001b[0m\u001b[0;34m,\u001b[0m \u001b[0mevaluate_candidates\u001b[0m\u001b[0;34m)\u001b[0m\u001b[0;34m:\u001b[0m\u001b[0;34m\u001b[0m\u001b[0;34m\u001b[0m\u001b[0m\n\u001b[1;32m   1391\u001b[0m         \u001b[0;34m\"\"\"Search all candidates in param_grid\"\"\"\u001b[0m\u001b[0;34m\u001b[0m\u001b[0;34m\u001b[0m\u001b[0m\n\u001b[0;32m-> 1392\u001b[0;31m         \u001b[0mevaluate_candidates\u001b[0m\u001b[0;34m(\u001b[0m\u001b[0mParameterGrid\u001b[0m\u001b[0;34m(\u001b[0m\u001b[0mself\u001b[0m\u001b[0;34m.\u001b[0m\u001b[0mparam_grid\u001b[0m\u001b[0;34m)\u001b[0m\u001b[0;34m)\u001b[0m\u001b[0;34m\u001b[0m\u001b[0;34m\u001b[0m\u001b[0m\n\u001b[0m\u001b[1;32m   1393\u001b[0m \u001b[0;34m\u001b[0m\u001b[0m\n\u001b[1;32m   1394\u001b[0m \u001b[0;34m\u001b[0m\u001b[0m\n",
            "\u001b[0;32m/usr/local/lib/python3.7/dist-packages/sklearn/model_selection/_search.py\u001b[0m in \u001b[0;36mevaluate_candidates\u001b[0;34m(candidate_params, cv, more_results)\u001b[0m\n\u001b[1;32m    849\u001b[0m                     )\n\u001b[1;32m    850\u001b[0m                     for (cand_idx, parameters), (split_idx, (train, test)) in product(\n\u001b[0;32m--> 851\u001b[0;31m                         \u001b[0menumerate\u001b[0m\u001b[0;34m(\u001b[0m\u001b[0mcandidate_params\u001b[0m\u001b[0;34m)\u001b[0m\u001b[0;34m,\u001b[0m \u001b[0menumerate\u001b[0m\u001b[0;34m(\u001b[0m\u001b[0mcv\u001b[0m\u001b[0;34m.\u001b[0m\u001b[0msplit\u001b[0m\u001b[0;34m(\u001b[0m\u001b[0mX\u001b[0m\u001b[0;34m,\u001b[0m \u001b[0my\u001b[0m\u001b[0;34m,\u001b[0m \u001b[0mgroups\u001b[0m\u001b[0;34m)\u001b[0m\u001b[0;34m)\u001b[0m\u001b[0;34m\u001b[0m\u001b[0;34m\u001b[0m\u001b[0m\n\u001b[0m\u001b[1;32m    852\u001b[0m                     )\n\u001b[1;32m    853\u001b[0m                 )\n",
            "\u001b[0;32m/usr/local/lib/python3.7/dist-packages/joblib/parallel.py\u001b[0m in \u001b[0;36m__call__\u001b[0;34m(self, iterable)\u001b[0m\n\u001b[1;32m   1044\u001b[0m                 \u001b[0mself\u001b[0m\u001b[0;34m.\u001b[0m\u001b[0m_iterating\u001b[0m \u001b[0;34m=\u001b[0m \u001b[0mself\u001b[0m\u001b[0;34m.\u001b[0m\u001b[0m_original_iterator\u001b[0m \u001b[0;32mis\u001b[0m \u001b[0;32mnot\u001b[0m \u001b[0;32mNone\u001b[0m\u001b[0;34m\u001b[0m\u001b[0;34m\u001b[0m\u001b[0m\n\u001b[1;32m   1045\u001b[0m \u001b[0;34m\u001b[0m\u001b[0m\n\u001b[0;32m-> 1046\u001b[0;31m             \u001b[0;32mwhile\u001b[0m \u001b[0mself\u001b[0m\u001b[0;34m.\u001b[0m\u001b[0mdispatch_one_batch\u001b[0m\u001b[0;34m(\u001b[0m\u001b[0miterator\u001b[0m\u001b[0;34m)\u001b[0m\u001b[0;34m:\u001b[0m\u001b[0;34m\u001b[0m\u001b[0;34m\u001b[0m\u001b[0m\n\u001b[0m\u001b[1;32m   1047\u001b[0m                 \u001b[0;32mpass\u001b[0m\u001b[0;34m\u001b[0m\u001b[0;34m\u001b[0m\u001b[0m\n\u001b[1;32m   1048\u001b[0m \u001b[0;34m\u001b[0m\u001b[0m\n",
            "\u001b[0;32m/usr/local/lib/python3.7/dist-packages/joblib/parallel.py\u001b[0m in \u001b[0;36mdispatch_one_batch\u001b[0;34m(self, iterator)\u001b[0m\n\u001b[1;32m    859\u001b[0m                 \u001b[0;32mreturn\u001b[0m \u001b[0;32mFalse\u001b[0m\u001b[0;34m\u001b[0m\u001b[0;34m\u001b[0m\u001b[0m\n\u001b[1;32m    860\u001b[0m             \u001b[0;32melse\u001b[0m\u001b[0;34m:\u001b[0m\u001b[0;34m\u001b[0m\u001b[0;34m\u001b[0m\u001b[0m\n\u001b[0;32m--> 861\u001b[0;31m                 \u001b[0mself\u001b[0m\u001b[0;34m.\u001b[0m\u001b[0m_dispatch\u001b[0m\u001b[0;34m(\u001b[0m\u001b[0mtasks\u001b[0m\u001b[0;34m)\u001b[0m\u001b[0;34m\u001b[0m\u001b[0;34m\u001b[0m\u001b[0m\n\u001b[0m\u001b[1;32m    862\u001b[0m                 \u001b[0;32mreturn\u001b[0m \u001b[0;32mTrue\u001b[0m\u001b[0;34m\u001b[0m\u001b[0;34m\u001b[0m\u001b[0m\n\u001b[1;32m    863\u001b[0m \u001b[0;34m\u001b[0m\u001b[0m\n",
            "\u001b[0;32m/usr/local/lib/python3.7/dist-packages/joblib/parallel.py\u001b[0m in \u001b[0;36m_dispatch\u001b[0;34m(self, batch)\u001b[0m\n\u001b[1;32m    777\u001b[0m         \u001b[0;32mwith\u001b[0m \u001b[0mself\u001b[0m\u001b[0;34m.\u001b[0m\u001b[0m_lock\u001b[0m\u001b[0;34m:\u001b[0m\u001b[0;34m\u001b[0m\u001b[0;34m\u001b[0m\u001b[0m\n\u001b[1;32m    778\u001b[0m             \u001b[0mjob_idx\u001b[0m \u001b[0;34m=\u001b[0m \u001b[0mlen\u001b[0m\u001b[0;34m(\u001b[0m\u001b[0mself\u001b[0m\u001b[0;34m.\u001b[0m\u001b[0m_jobs\u001b[0m\u001b[0;34m)\u001b[0m\u001b[0;34m\u001b[0m\u001b[0;34m\u001b[0m\u001b[0m\n\u001b[0;32m--> 779\u001b[0;31m             \u001b[0mjob\u001b[0m \u001b[0;34m=\u001b[0m \u001b[0mself\u001b[0m\u001b[0;34m.\u001b[0m\u001b[0m_backend\u001b[0m\u001b[0;34m.\u001b[0m\u001b[0mapply_async\u001b[0m\u001b[0;34m(\u001b[0m\u001b[0mbatch\u001b[0m\u001b[0;34m,\u001b[0m \u001b[0mcallback\u001b[0m\u001b[0;34m=\u001b[0m\u001b[0mcb\u001b[0m\u001b[0;34m)\u001b[0m\u001b[0;34m\u001b[0m\u001b[0;34m\u001b[0m\u001b[0m\n\u001b[0m\u001b[1;32m    780\u001b[0m             \u001b[0;31m# A job can complete so quickly than its callback is\u001b[0m\u001b[0;34m\u001b[0m\u001b[0;34m\u001b[0m\u001b[0;34m\u001b[0m\u001b[0m\n\u001b[1;32m    781\u001b[0m             \u001b[0;31m# called before we get here, causing self._jobs to\u001b[0m\u001b[0;34m\u001b[0m\u001b[0;34m\u001b[0m\u001b[0;34m\u001b[0m\u001b[0m\n",
            "\u001b[0;32m/usr/local/lib/python3.7/dist-packages/joblib/_parallel_backends.py\u001b[0m in \u001b[0;36mapply_async\u001b[0;34m(self, func, callback)\u001b[0m\n\u001b[1;32m    206\u001b[0m     \u001b[0;32mdef\u001b[0m \u001b[0mapply_async\u001b[0m\u001b[0;34m(\u001b[0m\u001b[0mself\u001b[0m\u001b[0;34m,\u001b[0m \u001b[0mfunc\u001b[0m\u001b[0;34m,\u001b[0m \u001b[0mcallback\u001b[0m\u001b[0;34m=\u001b[0m\u001b[0;32mNone\u001b[0m\u001b[0;34m)\u001b[0m\u001b[0;34m:\u001b[0m\u001b[0;34m\u001b[0m\u001b[0;34m\u001b[0m\u001b[0m\n\u001b[1;32m    207\u001b[0m         \u001b[0;34m\"\"\"Schedule a func to be run\"\"\"\u001b[0m\u001b[0;34m\u001b[0m\u001b[0;34m\u001b[0m\u001b[0m\n\u001b[0;32m--> 208\u001b[0;31m         \u001b[0mresult\u001b[0m \u001b[0;34m=\u001b[0m \u001b[0mImmediateResult\u001b[0m\u001b[0;34m(\u001b[0m\u001b[0mfunc\u001b[0m\u001b[0;34m)\u001b[0m\u001b[0;34m\u001b[0m\u001b[0;34m\u001b[0m\u001b[0m\n\u001b[0m\u001b[1;32m    209\u001b[0m         \u001b[0;32mif\u001b[0m \u001b[0mcallback\u001b[0m\u001b[0;34m:\u001b[0m\u001b[0;34m\u001b[0m\u001b[0;34m\u001b[0m\u001b[0m\n\u001b[1;32m    210\u001b[0m             \u001b[0mcallback\u001b[0m\u001b[0;34m(\u001b[0m\u001b[0mresult\u001b[0m\u001b[0;34m)\u001b[0m\u001b[0;34m\u001b[0m\u001b[0;34m\u001b[0m\u001b[0m\n",
            "\u001b[0;32m/usr/local/lib/python3.7/dist-packages/joblib/_parallel_backends.py\u001b[0m in \u001b[0;36m__init__\u001b[0;34m(self, batch)\u001b[0m\n\u001b[1;32m    570\u001b[0m         \u001b[0;31m# Don't delay the application, to avoid keeping the input\u001b[0m\u001b[0;34m\u001b[0m\u001b[0;34m\u001b[0m\u001b[0;34m\u001b[0m\u001b[0m\n\u001b[1;32m    571\u001b[0m         \u001b[0;31m# arguments in memory\u001b[0m\u001b[0;34m\u001b[0m\u001b[0;34m\u001b[0m\u001b[0;34m\u001b[0m\u001b[0m\n\u001b[0;32m--> 572\u001b[0;31m         \u001b[0mself\u001b[0m\u001b[0;34m.\u001b[0m\u001b[0mresults\u001b[0m \u001b[0;34m=\u001b[0m \u001b[0mbatch\u001b[0m\u001b[0;34m(\u001b[0m\u001b[0;34m)\u001b[0m\u001b[0;34m\u001b[0m\u001b[0;34m\u001b[0m\u001b[0m\n\u001b[0m\u001b[1;32m    573\u001b[0m \u001b[0;34m\u001b[0m\u001b[0m\n\u001b[1;32m    574\u001b[0m     \u001b[0;32mdef\u001b[0m \u001b[0mget\u001b[0m\u001b[0;34m(\u001b[0m\u001b[0mself\u001b[0m\u001b[0;34m)\u001b[0m\u001b[0;34m:\u001b[0m\u001b[0;34m\u001b[0m\u001b[0;34m\u001b[0m\u001b[0m\n",
            "\u001b[0;32m/usr/local/lib/python3.7/dist-packages/joblib/parallel.py\u001b[0m in \u001b[0;36m__call__\u001b[0;34m(self)\u001b[0m\n\u001b[1;32m    261\u001b[0m         \u001b[0;32mwith\u001b[0m \u001b[0mparallel_backend\u001b[0m\u001b[0;34m(\u001b[0m\u001b[0mself\u001b[0m\u001b[0;34m.\u001b[0m\u001b[0m_backend\u001b[0m\u001b[0;34m,\u001b[0m \u001b[0mn_jobs\u001b[0m\u001b[0;34m=\u001b[0m\u001b[0mself\u001b[0m\u001b[0;34m.\u001b[0m\u001b[0m_n_jobs\u001b[0m\u001b[0;34m)\u001b[0m\u001b[0;34m:\u001b[0m\u001b[0;34m\u001b[0m\u001b[0;34m\u001b[0m\u001b[0m\n\u001b[1;32m    262\u001b[0m             return [func(*args, **kwargs)\n\u001b[0;32m--> 263\u001b[0;31m                     for func, args, kwargs in self.items]\n\u001b[0m\u001b[1;32m    264\u001b[0m \u001b[0;34m\u001b[0m\u001b[0m\n\u001b[1;32m    265\u001b[0m     \u001b[0;32mdef\u001b[0m \u001b[0m__reduce__\u001b[0m\u001b[0;34m(\u001b[0m\u001b[0mself\u001b[0m\u001b[0;34m)\u001b[0m\u001b[0;34m:\u001b[0m\u001b[0;34m\u001b[0m\u001b[0;34m\u001b[0m\u001b[0m\n",
            "\u001b[0;32m/usr/local/lib/python3.7/dist-packages/joblib/parallel.py\u001b[0m in \u001b[0;36m<listcomp>\u001b[0;34m(.0)\u001b[0m\n\u001b[1;32m    261\u001b[0m         \u001b[0;32mwith\u001b[0m \u001b[0mparallel_backend\u001b[0m\u001b[0;34m(\u001b[0m\u001b[0mself\u001b[0m\u001b[0;34m.\u001b[0m\u001b[0m_backend\u001b[0m\u001b[0;34m,\u001b[0m \u001b[0mn_jobs\u001b[0m\u001b[0;34m=\u001b[0m\u001b[0mself\u001b[0m\u001b[0;34m.\u001b[0m\u001b[0m_n_jobs\u001b[0m\u001b[0;34m)\u001b[0m\u001b[0;34m:\u001b[0m\u001b[0;34m\u001b[0m\u001b[0;34m\u001b[0m\u001b[0m\n\u001b[1;32m    262\u001b[0m             return [func(*args, **kwargs)\n\u001b[0;32m--> 263\u001b[0;31m                     for func, args, kwargs in self.items]\n\u001b[0m\u001b[1;32m    264\u001b[0m \u001b[0;34m\u001b[0m\u001b[0m\n\u001b[1;32m    265\u001b[0m     \u001b[0;32mdef\u001b[0m \u001b[0m__reduce__\u001b[0m\u001b[0;34m(\u001b[0m\u001b[0mself\u001b[0m\u001b[0;34m)\u001b[0m\u001b[0;34m:\u001b[0m\u001b[0;34m\u001b[0m\u001b[0;34m\u001b[0m\u001b[0m\n",
            "\u001b[0;32m/usr/local/lib/python3.7/dist-packages/sklearn/utils/fixes.py\u001b[0m in \u001b[0;36m__call__\u001b[0;34m(self, *args, **kwargs)\u001b[0m\n\u001b[1;32m    214\u001b[0m     \u001b[0;32mdef\u001b[0m \u001b[0m__call__\u001b[0m\u001b[0;34m(\u001b[0m\u001b[0mself\u001b[0m\u001b[0;34m,\u001b[0m \u001b[0;34m*\u001b[0m\u001b[0margs\u001b[0m\u001b[0;34m,\u001b[0m \u001b[0;34m**\u001b[0m\u001b[0mkwargs\u001b[0m\u001b[0;34m)\u001b[0m\u001b[0;34m:\u001b[0m\u001b[0;34m\u001b[0m\u001b[0;34m\u001b[0m\u001b[0m\n\u001b[1;32m    215\u001b[0m         \u001b[0;32mwith\u001b[0m \u001b[0mconfig_context\u001b[0m\u001b[0;34m(\u001b[0m\u001b[0;34m**\u001b[0m\u001b[0mself\u001b[0m\u001b[0;34m.\u001b[0m\u001b[0mconfig\u001b[0m\u001b[0;34m)\u001b[0m\u001b[0;34m:\u001b[0m\u001b[0;34m\u001b[0m\u001b[0;34m\u001b[0m\u001b[0m\n\u001b[0;32m--> 216\u001b[0;31m             \u001b[0;32mreturn\u001b[0m \u001b[0mself\u001b[0m\u001b[0;34m.\u001b[0m\u001b[0mfunction\u001b[0m\u001b[0;34m(\u001b[0m\u001b[0;34m*\u001b[0m\u001b[0margs\u001b[0m\u001b[0;34m,\u001b[0m \u001b[0;34m**\u001b[0m\u001b[0mkwargs\u001b[0m\u001b[0;34m)\u001b[0m\u001b[0;34m\u001b[0m\u001b[0;34m\u001b[0m\u001b[0m\n\u001b[0m\u001b[1;32m    217\u001b[0m \u001b[0;34m\u001b[0m\u001b[0m\n\u001b[1;32m    218\u001b[0m \u001b[0;34m\u001b[0m\u001b[0m\n",
            "\u001b[0;32m/usr/local/lib/python3.7/dist-packages/sklearn/model_selection/_validation.py\u001b[0m in \u001b[0;36m_fit_and_score\u001b[0;34m(estimator, X, y, scorer, train, test, verbose, parameters, fit_params, return_train_score, return_parameters, return_n_test_samples, return_times, return_estimator, split_progress, candidate_progress, error_score)\u001b[0m\n\u001b[1;32m    678\u001b[0m             \u001b[0mestimator\u001b[0m\u001b[0;34m.\u001b[0m\u001b[0mfit\u001b[0m\u001b[0;34m(\u001b[0m\u001b[0mX_train\u001b[0m\u001b[0;34m,\u001b[0m \u001b[0;34m**\u001b[0m\u001b[0mfit_params\u001b[0m\u001b[0;34m)\u001b[0m\u001b[0;34m\u001b[0m\u001b[0;34m\u001b[0m\u001b[0m\n\u001b[1;32m    679\u001b[0m         \u001b[0;32melse\u001b[0m\u001b[0;34m:\u001b[0m\u001b[0;34m\u001b[0m\u001b[0;34m\u001b[0m\u001b[0m\n\u001b[0;32m--> 680\u001b[0;31m             \u001b[0mestimator\u001b[0m\u001b[0;34m.\u001b[0m\u001b[0mfit\u001b[0m\u001b[0;34m(\u001b[0m\u001b[0mX_train\u001b[0m\u001b[0;34m,\u001b[0m \u001b[0my_train\u001b[0m\u001b[0;34m,\u001b[0m \u001b[0;34m**\u001b[0m\u001b[0mfit_params\u001b[0m\u001b[0;34m)\u001b[0m\u001b[0;34m\u001b[0m\u001b[0;34m\u001b[0m\u001b[0m\n\u001b[0m\u001b[1;32m    681\u001b[0m \u001b[0;34m\u001b[0m\u001b[0m\n\u001b[1;32m    682\u001b[0m     \u001b[0;32mexcept\u001b[0m \u001b[0mException\u001b[0m\u001b[0;34m:\u001b[0m\u001b[0;34m\u001b[0m\u001b[0;34m\u001b[0m\u001b[0m\n",
            "\u001b[0;32m/usr/local/lib/python3.7/dist-packages/sklearn/tree/_classes.py\u001b[0m in \u001b[0;36mfit\u001b[0;34m(self, X, y, sample_weight, check_input, X_idx_sorted)\u001b[0m\n\u001b[1;32m    940\u001b[0m             \u001b[0msample_weight\u001b[0m\u001b[0;34m=\u001b[0m\u001b[0msample_weight\u001b[0m\u001b[0;34m,\u001b[0m\u001b[0;34m\u001b[0m\u001b[0;34m\u001b[0m\u001b[0m\n\u001b[1;32m    941\u001b[0m             \u001b[0mcheck_input\u001b[0m\u001b[0;34m=\u001b[0m\u001b[0mcheck_input\u001b[0m\u001b[0;34m,\u001b[0m\u001b[0;34m\u001b[0m\u001b[0;34m\u001b[0m\u001b[0m\n\u001b[0;32m--> 942\u001b[0;31m             \u001b[0mX_idx_sorted\u001b[0m\u001b[0;34m=\u001b[0m\u001b[0mX_idx_sorted\u001b[0m\u001b[0;34m,\u001b[0m\u001b[0;34m\u001b[0m\u001b[0;34m\u001b[0m\u001b[0m\n\u001b[0m\u001b[1;32m    943\u001b[0m         )\n\u001b[1;32m    944\u001b[0m         \u001b[0;32mreturn\u001b[0m \u001b[0mself\u001b[0m\u001b[0;34m\u001b[0m\u001b[0;34m\u001b[0m\u001b[0m\n",
            "\u001b[0;32m/usr/local/lib/python3.7/dist-packages/sklearn/tree/_classes.py\u001b[0m in \u001b[0;36mfit\u001b[0;34m(self, X, y, sample_weight, check_input, X_idx_sorted)\u001b[0m\n\u001b[1;32m    418\u001b[0m             )\n\u001b[1;32m    419\u001b[0m \u001b[0;34m\u001b[0m\u001b[0m\n\u001b[0;32m--> 420\u001b[0;31m         \u001b[0mbuilder\u001b[0m\u001b[0;34m.\u001b[0m\u001b[0mbuild\u001b[0m\u001b[0;34m(\u001b[0m\u001b[0mself\u001b[0m\u001b[0;34m.\u001b[0m\u001b[0mtree_\u001b[0m\u001b[0;34m,\u001b[0m \u001b[0mX\u001b[0m\u001b[0;34m,\u001b[0m \u001b[0my\u001b[0m\u001b[0;34m,\u001b[0m \u001b[0msample_weight\u001b[0m\u001b[0;34m)\u001b[0m\u001b[0;34m\u001b[0m\u001b[0;34m\u001b[0m\u001b[0m\n\u001b[0m\u001b[1;32m    421\u001b[0m \u001b[0;34m\u001b[0m\u001b[0m\n\u001b[1;32m    422\u001b[0m         \u001b[0;32mif\u001b[0m \u001b[0mself\u001b[0m\u001b[0;34m.\u001b[0m\u001b[0mn_outputs_\u001b[0m \u001b[0;34m==\u001b[0m \u001b[0;36m1\u001b[0m \u001b[0;32mand\u001b[0m \u001b[0mis_classifier\u001b[0m\u001b[0;34m(\u001b[0m\u001b[0mself\u001b[0m\u001b[0;34m)\u001b[0m\u001b[0;34m:\u001b[0m\u001b[0;34m\u001b[0m\u001b[0;34m\u001b[0m\u001b[0m\n",
            "\u001b[0;31mKeyboardInterrupt\u001b[0m: "
          ]
        }
      ]
    },
    {
      "cell_type": "code",
      "source": [
        "gridcv = pd.DataFrame(gridsearch_obj.cv_results_)\n",
        "np.around(gridcv[['param_class_weight','param_max_depth','mean_fit_time',  'mean_score_time', \n",
        "       'mean_test_accuracy','mean_test_average_precision','mean_test_roc_auc','mean_test_f1','mean_test_recall']],2)"
      ],
      "metadata": {
        "id": "CC9B-XDv9rtY"
      },
      "execution_count": null,
      "outputs": []
    },
    {
      "cell_type": "code",
      "source": [
        "dtree = DecisionTreeClassifier(max_features=100)\n",
        "\n",
        "\n",
        "maxdepth_vals = [6,10,15]\n",
        "\n",
        "para_dict =dict()\n",
        "\n",
        "para_dict['max_depth'] = maxdepth_vals\n",
        "\n",
        "\n",
        "scoring_metrics = ['accuracy','f1','average_precision','roc_auc','recall']\n",
        "\n",
        "gridsearch_obj = GridSearchCV(dtree, param_grid = para_dict,cv=3,scoring = scoring_metrics, verbose=3,refit=False)\n",
        "\n",
        "gridsearch_obj.fit(Xq1_mm_train_ds,yq1_train_ds)"
      ],
      "metadata": {
        "colab": {
          "base_uri": "https://localhost:8080/",
          "height": 201
        },
        "id": "IJWR4dOOCIR7",
        "outputId": "ef3e0697-07dd-4b45-f9f3-fcf85e513101"
      },
      "execution_count": null,
      "outputs": [
        {
          "output_type": "error",
          "ename": "NameError",
          "evalue": "ignored",
          "traceback": [
            "\u001b[0;31m---------------------------------------------------------------------------\u001b[0m",
            "\u001b[0;31mNameError\u001b[0m                                 Traceback (most recent call last)",
            "\u001b[0;32m<ipython-input-63-e2e2ab06ca8a>\u001b[0m in \u001b[0;36m<module>\u001b[0;34m()\u001b[0m\n\u001b[1;32m     13\u001b[0m \u001b[0mgridsearch_obj\u001b[0m \u001b[0;34m=\u001b[0m \u001b[0mGridSearchCV\u001b[0m\u001b[0;34m(\u001b[0m\u001b[0mdtree\u001b[0m\u001b[0;34m,\u001b[0m \u001b[0mparam_grid\u001b[0m \u001b[0;34m=\u001b[0m \u001b[0mpara_dict\u001b[0m\u001b[0;34m,\u001b[0m\u001b[0mcv\u001b[0m\u001b[0;34m=\u001b[0m\u001b[0;36m3\u001b[0m\u001b[0;34m,\u001b[0m\u001b[0mscoring\u001b[0m \u001b[0;34m=\u001b[0m \u001b[0mscoring_metrics\u001b[0m\u001b[0;34m,\u001b[0m \u001b[0mverbose\u001b[0m\u001b[0;34m=\u001b[0m\u001b[0;36m3\u001b[0m\u001b[0;34m,\u001b[0m\u001b[0mrefit\u001b[0m\u001b[0;34m=\u001b[0m\u001b[0;32mFalse\u001b[0m\u001b[0;34m)\u001b[0m\u001b[0;34m\u001b[0m\u001b[0;34m\u001b[0m\u001b[0m\n\u001b[1;32m     14\u001b[0m \u001b[0;34m\u001b[0m\u001b[0m\n\u001b[0;32m---> 15\u001b[0;31m \u001b[0mgridsearch_obj\u001b[0m\u001b[0;34m.\u001b[0m\u001b[0mfit\u001b[0m\u001b[0;34m(\u001b[0m\u001b[0mXq1_mm_train_ds\u001b[0m\u001b[0;34m,\u001b[0m\u001b[0myq1_train_ds\u001b[0m\u001b[0;34m)\u001b[0m\u001b[0;34m\u001b[0m\u001b[0;34m\u001b[0m\u001b[0m\n\u001b[0m",
            "\u001b[0;31mNameError\u001b[0m: name 'Xq1_mm_train_ds' is not defined"
          ]
        }
      ]
    },
    {
      "cell_type": "code",
      "source": [
        "gridcv = pd.DataFrame(gridsearch_obj.cv_results_)\n",
        "np.around(gridcv[['param_max_depth','mean_fit_time',  'mean_score_time', \n",
        "       'mean_test_accuracy','mean_test_average_precision','mean_test_roc_auc','mean_test_f1','mean_test_recall']],2)"
      ],
      "metadata": {
        "colab": {
          "base_uri": "https://localhost:8080/",
          "height": 143
        },
        "id": "xQhbE_nADmko",
        "outputId": "49fd8a29-91aa-420f-da27-d8aecbf0ac53"
      },
      "execution_count": null,
      "outputs": [
        {
          "output_type": "execute_result",
          "data": {
            "text/plain": [
              "  param_max_depth  mean_fit_time  mean_score_time  mean_test_accuracy  \\\n",
              "0               6           4.25             1.09                 0.5   \n",
              "1              10           7.66             1.13                 0.5   \n",
              "2              15          14.17             1.15                 0.5   \n",
              "\n",
              "   mean_test_average_precision  mean_test_roc_auc  mean_test_f1  \\\n",
              "0                          0.5                0.5          0.52   \n",
              "1                          0.5                0.5          0.45   \n",
              "2                          0.5                0.5          0.44   \n",
              "\n",
              "   mean_test_recall  \n",
              "0              0.60  \n",
              "1              0.41  \n",
              "2              0.42  "
            ],
            "text/html": [
              "\n",
              "  <div id=\"df-c1aeeb7c-70e3-4689-8cee-5bc65421454c\">\n",
              "    <div class=\"colab-df-container\">\n",
              "      <div>\n",
              "<style scoped>\n",
              "    .dataframe tbody tr th:only-of-type {\n",
              "        vertical-align: middle;\n",
              "    }\n",
              "\n",
              "    .dataframe tbody tr th {\n",
              "        vertical-align: top;\n",
              "    }\n",
              "\n",
              "    .dataframe thead th {\n",
              "        text-align: right;\n",
              "    }\n",
              "</style>\n",
              "<table border=\"1\" class=\"dataframe\">\n",
              "  <thead>\n",
              "    <tr style=\"text-align: right;\">\n",
              "      <th></th>\n",
              "      <th>param_max_depth</th>\n",
              "      <th>mean_fit_time</th>\n",
              "      <th>mean_score_time</th>\n",
              "      <th>mean_test_accuracy</th>\n",
              "      <th>mean_test_average_precision</th>\n",
              "      <th>mean_test_roc_auc</th>\n",
              "      <th>mean_test_f1</th>\n",
              "      <th>mean_test_recall</th>\n",
              "    </tr>\n",
              "  </thead>\n",
              "  <tbody>\n",
              "    <tr>\n",
              "      <th>0</th>\n",
              "      <td>6</td>\n",
              "      <td>4.25</td>\n",
              "      <td>1.09</td>\n",
              "      <td>0.5</td>\n",
              "      <td>0.5</td>\n",
              "      <td>0.5</td>\n",
              "      <td>0.52</td>\n",
              "      <td>0.60</td>\n",
              "    </tr>\n",
              "    <tr>\n",
              "      <th>1</th>\n",
              "      <td>10</td>\n",
              "      <td>7.66</td>\n",
              "      <td>1.13</td>\n",
              "      <td>0.5</td>\n",
              "      <td>0.5</td>\n",
              "      <td>0.5</td>\n",
              "      <td>0.45</td>\n",
              "      <td>0.41</td>\n",
              "    </tr>\n",
              "    <tr>\n",
              "      <th>2</th>\n",
              "      <td>15</td>\n",
              "      <td>14.17</td>\n",
              "      <td>1.15</td>\n",
              "      <td>0.5</td>\n",
              "      <td>0.5</td>\n",
              "      <td>0.5</td>\n",
              "      <td>0.44</td>\n",
              "      <td>0.42</td>\n",
              "    </tr>\n",
              "  </tbody>\n",
              "</table>\n",
              "</div>\n",
              "      <button class=\"colab-df-convert\" onclick=\"convertToInteractive('df-c1aeeb7c-70e3-4689-8cee-5bc65421454c')\"\n",
              "              title=\"Convert this dataframe to an interactive table.\"\n",
              "              style=\"display:none;\">\n",
              "        \n",
              "  <svg xmlns=\"http://www.w3.org/2000/svg\" height=\"24px\"viewBox=\"0 0 24 24\"\n",
              "       width=\"24px\">\n",
              "    <path d=\"M0 0h24v24H0V0z\" fill=\"none\"/>\n",
              "    <path d=\"M18.56 5.44l.94 2.06.94-2.06 2.06-.94-2.06-.94-.94-2.06-.94 2.06-2.06.94zm-11 1L8.5 8.5l.94-2.06 2.06-.94-2.06-.94L8.5 2.5l-.94 2.06-2.06.94zm10 10l.94 2.06.94-2.06 2.06-.94-2.06-.94-.94-2.06-.94 2.06-2.06.94z\"/><path d=\"M17.41 7.96l-1.37-1.37c-.4-.4-.92-.59-1.43-.59-.52 0-1.04.2-1.43.59L10.3 9.45l-7.72 7.72c-.78.78-.78 2.05 0 2.83L4 21.41c.39.39.9.59 1.41.59.51 0 1.02-.2 1.41-.59l7.78-7.78 2.81-2.81c.8-.78.8-2.07 0-2.86zM5.41 20L4 18.59l7.72-7.72 1.47 1.35L5.41 20z\"/>\n",
              "  </svg>\n",
              "      </button>\n",
              "      \n",
              "  <style>\n",
              "    .colab-df-container {\n",
              "      display:flex;\n",
              "      flex-wrap:wrap;\n",
              "      gap: 12px;\n",
              "    }\n",
              "\n",
              "    .colab-df-convert {\n",
              "      background-color: #E8F0FE;\n",
              "      border: none;\n",
              "      border-radius: 50%;\n",
              "      cursor: pointer;\n",
              "      display: none;\n",
              "      fill: #1967D2;\n",
              "      height: 32px;\n",
              "      padding: 0 0 0 0;\n",
              "      width: 32px;\n",
              "    }\n",
              "\n",
              "    .colab-df-convert:hover {\n",
              "      background-color: #E2EBFA;\n",
              "      box-shadow: 0px 1px 2px rgba(60, 64, 67, 0.3), 0px 1px 3px 1px rgba(60, 64, 67, 0.15);\n",
              "      fill: #174EA6;\n",
              "    }\n",
              "\n",
              "    [theme=dark] .colab-df-convert {\n",
              "      background-color: #3B4455;\n",
              "      fill: #D2E3FC;\n",
              "    }\n",
              "\n",
              "    [theme=dark] .colab-df-convert:hover {\n",
              "      background-color: #434B5C;\n",
              "      box-shadow: 0px 1px 3px 1px rgba(0, 0, 0, 0.15);\n",
              "      filter: drop-shadow(0px 1px 2px rgba(0, 0, 0, 0.3));\n",
              "      fill: #FFFFFF;\n",
              "    }\n",
              "  </style>\n",
              "\n",
              "      <script>\n",
              "        const buttonEl =\n",
              "          document.querySelector('#df-c1aeeb7c-70e3-4689-8cee-5bc65421454c button.colab-df-convert');\n",
              "        buttonEl.style.display =\n",
              "          google.colab.kernel.accessAllowed ? 'block' : 'none';\n",
              "\n",
              "        async function convertToInteractive(key) {\n",
              "          const element = document.querySelector('#df-c1aeeb7c-70e3-4689-8cee-5bc65421454c');\n",
              "          const dataTable =\n",
              "            await google.colab.kernel.invokeFunction('convertToInteractive',\n",
              "                                                     [key], {});\n",
              "          if (!dataTable) return;\n",
              "\n",
              "          const docLinkHtml = 'Like what you see? Visit the ' +\n",
              "            '<a target=\"_blank\" href=https://colab.research.google.com/notebooks/data_table.ipynb>data table notebook</a>'\n",
              "            + ' to learn more about interactive tables.';\n",
              "          element.innerHTML = '';\n",
              "          dataTable['output_type'] = 'display_data';\n",
              "          await google.colab.output.renderOutput(dataTable, element);\n",
              "          const docLink = document.createElement('div');\n",
              "          docLink.innerHTML = docLinkHtml;\n",
              "          element.appendChild(docLink);\n",
              "        }\n",
              "      </script>\n",
              "    </div>\n",
              "  </div>\n",
              "  "
            ]
          },
          "metadata": {},
          "execution_count": 59
        }
      ]
    },
    {
      "cell_type": "markdown",
      "source": [
        "No improvement in precision is obtained from varying max_depth. "
      ],
      "metadata": {
        "id": "d0apoViwDr5S"
      }
    },
    {
      "cell_type": "code",
      "source": [
        "coefficients['EnglishIDF'], coefficients['sf_length'],coefficients['L_dist_sf_noaccents_norm']"
      ],
      "metadata": {
        "colab": {
          "base_uri": "https://localhost:8080/"
        },
        "id": "w7Q_3ndYDYd5",
        "outputId": "3c41c79e-60c5-4edc-c352-8c71ceaaa12e"
      },
      "execution_count": null,
      "outputs": [
        {
          "output_type": "execute_result",
          "data": {
            "text/plain": [
              "(-0.10264018301608246, -0.39245070230713114, 0.3866483915452818)"
            ]
          },
          "metadata": {},
          "execution_count": 29
        }
      ]
    },
    {
      "cell_type": "code",
      "execution_count": null,
      "metadata": {
        "id": "0JqAoq0gkKtA"
      },
      "outputs": [],
      "source": [
        "coefficients.to_csv(path_name+\"Logreg_L1_q1fulldataset_coefficients.csv\")"
      ]
    },
    {
      "cell_type": "markdown",
      "metadata": {
        "id": "foPGYkbXjS7z"
      },
      "source": [
        "Makes sense that lower history correct gives a greater chance of forgetting the word. "
      ]
    },
    {
      "cell_type": "code",
      "source": [
        "coefficients[coefficients<0.05].shape"
      ],
      "metadata": {
        "id": "R7OV4_2iEupD"
      },
      "execution_count": null,
      "outputs": []
    },
    {
      "cell_type": "markdown",
      "metadata": {
        "id": "fXBFf_E_io_E"
      },
      "source": [
        "Of the 2223 features, 2037 had non-zero coefficients. "
      ]
    },
    {
      "cell_type": "markdown",
      "source": [
        "## <font color = 'cornflowerblue' size=4>Ensemble models</font>"
      ],
      "metadata": {
        "id": "nO8p8MfEVqEj"
      }
    },
    {
      "cell_type": "markdown",
      "source": [
        "## <font color = 'cornflowerblue' size=3>Random Forest</font>"
      ],
      "metadata": {
        "id": "FqUeUcZLIb9N"
      }
    },
    {
      "cell_type": "markdown",
      "source": [
        "### <font color = 'cornflowerblue' size = 3>XGBoost</font>"
      ],
      "metadata": {
        "id": "jrIwVc4AN-X3"
      }
    },
    {
      "cell_type": "code",
      "execution_count": null,
      "metadata": {
        "colab": {
          "base_uri": "https://localhost:8080/"
        },
        "id": "vrxhrNl_zMWp",
        "outputId": "a52de697-3590-4d0d-bca8-9950620d06cc"
      },
      "outputs": [
        {
          "output_type": "stream",
          "name": "stdout",
          "text": [
            "XG Boost train set score: 0.5078464930309032\n",
            "XG Boost test set score: 0.5039507742327989\n"
          ]
        }
      ],
      "source": [
        "from xgboost import XGBClassifier\n",
        "\n",
        "\n",
        "XGB_model = XGBClassifier(num_feature = 60,subsample = 0.7)\n",
        "XGB_model.fit(Xq1_mm_train, yq1_train_ds)\n",
        "print(f\"XG Boost train set score: {XGB_model.score(Xq1_mm_train, yq1_train_ds)}\")\n",
        "print(f\"XG Boost test set score: {XGB_model.score(Xq1_mm_valid, yq1_valid)}\")"
      ]
    },
    {
      "cell_type": "code",
      "source": [
        "yq1_train_preds_probs_xgb = XGB_model.predict_proba(Xq1_mm_train)[:,1]\n",
        "yq1_valid_preds_probs_xgb = XGB_model.predict_proba(Xq1_mm_valid)[:,1]\n"
      ],
      "metadata": {
        "colab": {
          "base_uri": "https://localhost:8080/",
          "height": 201
        },
        "id": "n9wFYT043lFI",
        "outputId": "ae1df385-ac44-4d8e-ab49-32de4d596110"
      },
      "execution_count": null,
      "outputs": [
        {
          "output_type": "error",
          "ename": "NameError",
          "evalue": "ignored",
          "traceback": [
            "\u001b[0;31m---------------------------------------------------------------------------\u001b[0m",
            "\u001b[0;31mNameError\u001b[0m                                 Traceback (most recent call last)",
            "\u001b[0;32m<ipython-input-69-1c50c2212a7c>\u001b[0m in \u001b[0;36m<module>\u001b[0;34m()\u001b[0m\n\u001b[1;32m      1\u001b[0m \u001b[0myq1_train_preds_probs_xgb\u001b[0m \u001b[0;34m=\u001b[0m \u001b[0mXGB_model\u001b[0m\u001b[0;34m.\u001b[0m\u001b[0mpredict_proba\u001b[0m\u001b[0;34m(\u001b[0m\u001b[0mXq1_mm_train\u001b[0m\u001b[0;34m)\u001b[0m\u001b[0;34m[\u001b[0m\u001b[0;34m:\u001b[0m\u001b[0;34m,\u001b[0m\u001b[0;36m1\u001b[0m\u001b[0;34m]\u001b[0m\u001b[0;34m\u001b[0m\u001b[0;34m\u001b[0m\u001b[0m\n\u001b[1;32m      2\u001b[0m \u001b[0myq1_valid_preds_probs_xgb\u001b[0m \u001b[0;34m=\u001b[0m \u001b[0mXGB_model\u001b[0m\u001b[0;34m.\u001b[0m\u001b[0mpredict_proba\u001b[0m\u001b[0;34m(\u001b[0m\u001b[0mXq1_mm_valid\u001b[0m\u001b[0;34m)\u001b[0m\u001b[0;34m[\u001b[0m\u001b[0;34m:\u001b[0m\u001b[0;34m,\u001b[0m\u001b[0;36m1\u001b[0m\u001b[0;34m]\u001b[0m\u001b[0;34m\u001b[0m\u001b[0;34m\u001b[0m\u001b[0m\n\u001b[0;32m----> 3\u001b[0;31m \u001b[0mPrecisionRecallDisplay\u001b[0m\u001b[0;34m.\u001b[0m\u001b[0mfrom_predictions\u001b[0m\u001b[0;34m(\u001b[0m\u001b[0myq1_valid\u001b[0m\u001b[0;34m,\u001b[0m\u001b[0myq1_valid_preds_probs_xgb\u001b[0m\u001b[0;34m)\u001b[0m\u001b[0;34m\u001b[0m\u001b[0;34m\u001b[0m\u001b[0m\n\u001b[0m",
            "\u001b[0;31mNameError\u001b[0m: name 'PrecisionRecallDisplay' is not defined"
          ]
        }
      ]
    },
    {
      "cell_type": "code",
      "source": [
        "from sklearn.metrics import PrecisionRecallDisplay\n",
        "PrecisionRecallDisplay.from_predictions(yq1_valid,yq1_valid_preds_probs_xgb)"
      ],
      "metadata": {
        "colab": {
          "base_uri": "https://localhost:8080/",
          "height": 296
        },
        "id": "tCCWKYZ8KCgf",
        "outputId": "63913793-e5cd-4697-fa99-6c20eecdd634"
      },
      "execution_count": null,
      "outputs": [
        {
          "output_type": "execute_result",
          "data": {
            "text/plain": [
              "<sklearn.metrics._plot.precision_recall_curve.PrecisionRecallDisplay at 0x7f5f38281d50>"
            ]
          },
          "metadata": {},
          "execution_count": 70
        },
        {
          "output_type": "display_data",
          "data": {
            "text/plain": [
              "<Figure size 432x288 with 1 Axes>"
            ],
            "image/png": "[encoded data removed]"
          },
          "metadata": {
            "needs_background": "light"
          }
        }
      ]
    },
    {
      "cell_type": "code",
      "source": [
        "feature_names = decompress_pickle(path_name+\"q1fs1_column_names.pbz2\")\n",
        "XGBfeature_importances = pd.Series(XGB_model.feature_importances_,index=feature_names)\n",
        "XGBfeature_importances.sort_values(ascending=False).head(20)"
      ],
      "metadata": {
        "colab": {
          "base_uri": "https://localhost:8080/"
        },
        "id": "LdzsrYSN6DXp",
        "outputId": "1081d352-be87-4c84-9b11-4e67a2ce3cb9"
      },
      "execution_count": null,
      "outputs": [
        {
          "output_type": "execute_result",
          "data": {
            "text/plain": [
              "mod_x0_sint      0.021982\n",
              "mod_x0_*pers     0.021281\n",
              "mod_x0_itg       0.020207\n",
              "mod_x0_pp        0.020172\n",
              "pos_x0_cnjcoo    0.019916\n",
              "mod_x0_def       0.019458\n",
              "mod_x0_obj       0.018834\n",
              "lang_x0_en       0.018438\n",
              "mod_x0_mf        0.018357\n",
              "mod_x0_sp        0.017005\n",
              "mod_x0_enc       0.016570\n",
              "pos_x0_adv       0.015750\n",
              "mod_x0_*numb     0.015594\n",
              "pos_x0_cnjsub    0.015531\n",
              "simoverdiff      0.015501\n",
              "mod_x0_fti       0.015397\n",
              "mod_x0_tn        0.015206\n",
              "mod_x0_pro       0.015134\n",
              "pos_x0_adj       0.015110\n",
              "pos_x0_n         0.015038\n",
              "dtype: float32"
            ]
          },
          "metadata": {},
          "execution_count": 78
        }
      ]
    },
    {
      "cell_type": "code",
      "source": [
        "XGBfeature_importances.to_csv(path_name+\"XGB_feature_importances_q1_1.csv\")"
      ],
      "metadata": {
        "id": "q7blN1Uj6SJy"
      },
      "execution_count": null,
      "outputs": []
    },
    {
      "cell_type": "markdown",
      "source": [
        "## AdaBoost"
      ],
      "metadata": {
        "id": "Uhg3-9-QbdV9"
      }
    },
    {
      "cell_type": "code",
      "execution_count": null,
      "metadata": {
        "id": "WD1dTYGLzwo6"
      },
      "outputs": [],
      "source": [
        "from sklearn.ensemble import AdaBoostClassifier\n",
        "AB_model = AdaBoostClassifier(n_estimators=100, learning_rate=1)\n",
        "\n",
        "AB_model.fit(Xq1_mm_train,yq1_train)\n",
        "y_probaAB = AB_model.predict_proba(Xq1_mm_valid)[:,1]"
      ]
    },
    {
      "cell_type": "code",
      "source": [
        "yq1_train_preds_probs_AB = AB_model.predict_proba(Xq1_mm_train)[:,1]\n",
        "yq1_valid_preds_probs_AB = AB_model.predict_proba(Xq1_mm_valid)[:,1]\n",
        "PrecisionRecallDisplay.from_predictions(yq1_valid,yq1_valid_preds_probs_AB)"
      ],
      "metadata": {
        "id": "rOGp8rr3Faz5"
      },
      "execution_count": null,
      "outputs": []
    },
    {
      "cell_type": "code",
      "source": [
        "PrecisionRecallDisplay.from_predictions(yq1_train,yq1_train_preds_probs_AB)"
      ],
      "metadata": {
        "id": "w1TQvxCFG5gQ"
      },
      "execution_count": null,
      "outputs": []
    },
    {
      "cell_type": "code",
      "source": [
        "compressed_pickle(path_name+\"AB_modeln150_lr1\",AB_model)"
      ],
      "metadata": {
        "id": "ceeJhA-bF_93"
      },
      "execution_count": null,
      "outputs": []
    },
    {
      "cell_type": "code",
      "source": [
        "ABmodel_feature_importances = pd.Series(AB_model.feature_importances_,index=column_names)"
      ],
      "metadata": {
        "id": "BEXqfML9HG1K"
      },
      "execution_count": null,
      "outputs": []
    },
    {
      "cell_type": "code",
      "source": [
        "ABmodel_feature_importances.sort_values(ascending=False).head(10)"
      ],
      "metadata": {
        "colab": {
          "base_uri": "https://localhost:8080/"
        },
        "id": "ZMHHVVKyHUip",
        "outputId": "38bd6d38-4fca-4df3-dd17-e96084ab1364"
      },
      "execution_count": null,
      "outputs": [
        {
          "output_type": "execute_result",
          "data": {
            "text/plain": [
              "history_correct    0.173333\n",
              "history_seen       0.160000\n",
              "session_seen       0.080000\n",
              "delta              0.020000\n",
              "index              0.013333\n",
              "im                 0.013333\n",
              "du                 0.006667\n",
              "err                0.006667\n",
              "mo                 0.006667\n",
              "ug                 0.006667\n",
              "dtype: float64"
            ]
          },
          "metadata": {},
          "execution_count": 76
        }
      ]
    },
    {
      "cell_type": "code",
      "source": [
        "ABmodel_feature_importances.to_csv(path_name+\"ABmodelq1_1.csv\")"
      ],
      "metadata": {
        "id": "Vzo2Nz_FHgyE"
      },
      "execution_count": null,
      "outputs": []
    },
    {
      "cell_type": "markdown",
      "source": [
        "## <font color = 'cornflowerblue' size = 4>Nueral Nets</font>\n",
        "\n",
        "The runtime is restarted with GPU to run with CUDA.\n",
        "\n",
        "Since random_state is set during splitting, redoing it should give the same train and validation sets.\n",
        "\n",
        "Downsampling and scaling will have to be repeated. \n",
        "\n",
        "Both the downsampled and non-downsampled train sets will be tried."
      ],
      "metadata": {
        "id": "Kxcmw9cqW3Iz"
      }
    },
    {
      "cell_type": "markdown",
      "source": [
        "### <font color = 'cornflowerblue' size=3>Scaling non-downsampled train set</font>"
      ],
      "metadata": {
        "id": "-JozShsFYn0n"
      }
    },
    {
      "cell_type": "code",
      "source": [
        "Xq1_train = Xq1_train.drop('y',axis=1)"
      ],
      "metadata": {
        "id": "6-vAe7BwZjHu"
      },
      "execution_count": 16,
      "outputs": []
    },
    {
      "cell_type": "code",
      "source": [
        "from sklearn.preprocessing import MaxAbsScaler # used because sparse array not supported by MinMaxScaler\n",
        "mm_scaler1 = MaxAbsScaler()\n",
        "\n",
        "mm_scaler1.fit(Xq1_train_ds)\n",
        "Xq1_mm_train = mm_scaler1.transform(Xq1_train)\n",
        "Xq1_mm_valid = mm_scaler1.transform(Xq1_valid) # "
      ],
      "metadata": {
        "id": "kaAkd1QiXYDC",
        "colab": {
          "base_uri": "https://localhost:8080/"
        },
        "outputId": "5bc95728-3d76-4c54-e966-cff6d89d434a"
      },
      "execution_count": 17,
      "outputs": [
        {
          "output_type": "stream",
          "name": "stderr",
          "text": [
            "/usr/local/lib/python3.7/dist-packages/sklearn/utils/validation.py:1692: FutureWarning: Feature names only support names that are all strings. Got feature names with dtypes: ['int', 'str']. An error will be raised in 1.2.\n",
            "  FutureWarning,\n",
            "/usr/local/lib/python3.7/dist-packages/sklearn/utils/validation.py:1692: FutureWarning: Feature names only support names that are all strings. Got feature names with dtypes: ['int', 'str']. An error will be raised in 1.2.\n",
            "  FutureWarning,\n",
            "/usr/local/lib/python3.7/dist-packages/sklearn/utils/validation.py:1692: FutureWarning: Feature names only support names that are all strings. Got feature names with dtypes: ['int', 'str']. An error will be raised in 1.2.\n",
            "  FutureWarning,\n"
          ]
        }
      ]
    },
    {
      "cell_type": "code",
      "source": [
        "#!nvidia-smi\n",
        "!nvcc --version"
      ],
      "metadata": {
        "colab": {
          "base_uri": "https://localhost:8080/"
        },
        "id": "05rjSTqzY_rm",
        "outputId": "8b10e0e5-02e6-4878-db49-e86a8965f53a"
      },
      "execution_count": 18,
      "outputs": [
        {
          "output_type": "stream",
          "name": "stdout",
          "text": [
            "nvcc: NVIDIA (R) Cuda compiler driver\n",
            "Copyright (c) 2005-2020 NVIDIA Corporation\n",
            "Built on Mon_Oct_12_20:09:46_PDT_2020\n",
            "Cuda compilation tools, release 11.1, V11.1.105\n",
            "Build cuda_11.1.TC455_06.29190527_0\n"
          ]
        }
      ]
    },
    {
      "cell_type": "code",
      "source": [
        "import tensorflow as tf\n",
        "tf.test.gpu_device_name()"
      ],
      "metadata": {
        "colab": {
          "base_uri": "https://localhost:8080/",
          "height": 41
        },
        "id": "EaztSVjaY8XK",
        "outputId": "7eb38b9a-2af5-4023-f7ed-4e8df2bdf394"
      },
      "execution_count": 19,
      "outputs": [
        {
          "output_type": "execute_result",
          "data": {
            "text/plain": [
              "'/device:GPU:0'"
            ],
            "application/vnd.google.colaboratory.intrinsic+json": {
              "type": "string"
            }
          },
          "metadata": {},
          "execution_count": 19
        }
      ]
    },
    {
      "cell_type": "code",
      "source": [
        "!cat /usr/local/lib/python3.6/dist-packages/external/local_config_cuda/cuda/cuda/cuda_config.h |\\\n",
        "grep TF_CUDA_VERSION"
      ],
      "metadata": {
        "colab": {
          "base_uri": "https://localhost:8080/"
        },
        "id": "dOx0P2-FayJ9",
        "outputId": "fb71aa7e-8754-4d76-d728-fa062b23fc35"
      },
      "execution_count": 20,
      "outputs": [
        {
          "output_type": "stream",
          "name": "stdout",
          "text": [
            "cat: /usr/local/lib/python3.6/dist-packages/external/local_config_cuda/cuda/cuda/cuda_config.h: No such file or directory\n"
          ]
        }
      ]
    },
    {
      "cell_type": "code",
      "source": [
        "from tensorflow import keras\n",
        "from tensorflow.keras import layers"
      ],
      "metadata": {
        "id": "pIWxTHm3ZR7M"
      },
      "execution_count": 21,
      "outputs": []
    },
    {
      "cell_type": "markdown",
      "source": [
        "Converting Xq1_mm_train, and Xq1_mm_valid to sparse tensorflow tensor"
      ],
      "metadata": {
        "id": "-gVzo3XYaAA-"
      }
    },
    {
      "cell_type": "code",
      "source": [
        "Xq1_mm_train = Xq1_mm_train.tocoo()\n",
        "Xq1_mm_valid = Xq1_mm_valid.tocoo()"
      ],
      "metadata": {
        "id": "P_7uikInZoNd",
        "colab": {
          "base_uri": "https://localhost:8080/",
          "height": 183
        },
        "outputId": "b9cf0163-359b-4bcb-ab70-d797103c6fe6"
      },
      "execution_count": 67,
      "outputs": [
        {
          "output_type": "error",
          "ename": "AttributeError",
          "evalue": "ignored",
          "traceback": [
            "\u001b[0;31m---------------------------------------------------------------------------\u001b[0m",
            "\u001b[0;31mAttributeError\u001b[0m                            Traceback (most recent call last)",
            "\u001b[0;32m<ipython-input-67-01be64c1883c>\u001b[0m in \u001b[0;36m<module>\u001b[0;34m()\u001b[0m\n\u001b[0;32m----> 1\u001b[0;31m \u001b[0mXq1_mm_train\u001b[0m \u001b[0;34m=\u001b[0m \u001b[0mXq1_mm_train\u001b[0m\u001b[0;34m.\u001b[0m\u001b[0mto_coo\u001b[0m\u001b[0;34m(\u001b[0m\u001b[0;34m)\u001b[0m\u001b[0;34m\u001b[0m\u001b[0;34m\u001b[0m\u001b[0m\n\u001b[0m\u001b[1;32m      2\u001b[0m \u001b[0mXq1_mm_valid\u001b[0m \u001b[0;34m=\u001b[0m \u001b[0mXq1_mm_valid\u001b[0m\u001b[0;34m.\u001b[0m\u001b[0mto_coo\u001b[0m\u001b[0;34m(\u001b[0m\u001b[0;34m)\u001b[0m\u001b[0;34m\u001b[0m\u001b[0;34m\u001b[0m\u001b[0m\n",
            "\u001b[0;31mAttributeError\u001b[0m: 'numpy.ndarray' object has no attribute 'to_coo'"
          ]
        }
      ]
    },
    {
      "cell_type": "code",
      "source": [
        "indices_train = [[u,v] for u,v in zip(Xq1_mm_train.row,Xq1_mm_train.col)]\n",
        "indices_valid = [[u,v] for u,v in zip(Xq1_mm_valid.row,Xq1_mm_valid.col)]"
      ],
      "metadata": {
        "id": "76-NRl6uLZIe",
        "colab": {
          "base_uri": "https://localhost:8080/",
          "height": 183
        },
        "outputId": "83ae357b-4482-4aee-e9bf-52bd42ad5cfd"
      },
      "execution_count": 66,
      "outputs": [
        {
          "output_type": "error",
          "ename": "AttributeError",
          "evalue": "ignored",
          "traceback": [
            "\u001b[0;31m---------------------------------------------------------------------------\u001b[0m",
            "\u001b[0;31mAttributeError\u001b[0m                            Traceback (most recent call last)",
            "\u001b[0;32m<ipython-input-66-5f82cc0421c8>\u001b[0m in \u001b[0;36m<module>\u001b[0;34m()\u001b[0m\n\u001b[0;32m----> 1\u001b[0;31m \u001b[0mindices_train\u001b[0m \u001b[0;34m=\u001b[0m \u001b[0;34m[\u001b[0m\u001b[0;34m[\u001b[0m\u001b[0mu\u001b[0m\u001b[0;34m,\u001b[0m\u001b[0mv\u001b[0m\u001b[0;34m]\u001b[0m \u001b[0;32mfor\u001b[0m \u001b[0mu\u001b[0m\u001b[0;34m,\u001b[0m\u001b[0mv\u001b[0m \u001b[0;32min\u001b[0m \u001b[0mzip\u001b[0m\u001b[0;34m(\u001b[0m\u001b[0mXq1_mm_train\u001b[0m\u001b[0;34m.\u001b[0m\u001b[0mrow\u001b[0m\u001b[0;34m,\u001b[0m\u001b[0mXq1_mm_train\u001b[0m\u001b[0;34m.\u001b[0m\u001b[0mcol\u001b[0m\u001b[0;34m)\u001b[0m\u001b[0;34m]\u001b[0m\u001b[0;34m\u001b[0m\u001b[0;34m\u001b[0m\u001b[0m\n\u001b[0m\u001b[1;32m      2\u001b[0m \u001b[0mindices_valid\u001b[0m \u001b[0;34m=\u001b[0m \u001b[0;34m[\u001b[0m\u001b[0;34m[\u001b[0m\u001b[0mu\u001b[0m\u001b[0;34m,\u001b[0m\u001b[0mv\u001b[0m\u001b[0;34m]\u001b[0m \u001b[0;32mfor\u001b[0m \u001b[0mu\u001b[0m\u001b[0;34m,\u001b[0m\u001b[0mv\u001b[0m \u001b[0;32min\u001b[0m \u001b[0mzip\u001b[0m\u001b[0;34m(\u001b[0m\u001b[0mXq1_mm_valid\u001b[0m\u001b[0;34m.\u001b[0m\u001b[0mrow\u001b[0m\u001b[0;34m,\u001b[0m\u001b[0mXq1_mm_valid\u001b[0m\u001b[0;34m.\u001b[0m\u001b[0mcol\u001b[0m\u001b[0;34m)\u001b[0m\u001b[0;34m]\u001b[0m\u001b[0;34m\u001b[0m\u001b[0;34m\u001b[0m\u001b[0m\n",
            "\u001b[0;31mAttributeError\u001b[0m: 'numpy.ndarray' object has no attribute 'row'"
          ]
        }
      ]
    },
    {
      "cell_type": "code",
      "source": [
        "values_train = Xq1_mm_train.data\n",
        "values_valid = Xq1_mm_valid.data"
      ],
      "metadata": {
        "id": "rwxA6tIwUZx5"
      },
      "execution_count": null,
      "outputs": []
    },
    {
      "cell_type": "code",
      "source": [
        "dense_shape_train = [Xq1_mm_train.shape[0],Xq1_mm_train.shape[1]]\n",
        "dense_shape_valid = [Xq1_mm_valid.shape[0],Xq1_mm_valid.shape[1]]"
      ],
      "metadata": {
        "id": "iQkEQ3lyUrB6"
      },
      "execution_count": null,
      "outputs": []
    },
    {
      "cell_type": "code",
      "source": [
        "Xq1_mm_train_tf = tf.sparse.SparseTensor(indices=indices_train,\n",
        "                      values=values_train,\n",
        "                      dense_shape=dense_shape_train)"
      ],
      "metadata": {
        "id": "s96wXAS2U1kU"
      },
      "execution_count": null,
      "outputs": []
    },
    {
      "cell_type": "code",
      "source": [
        "Xq1_mm_valid_tf = tf.sparse.SparseTensor(indices=indices_valid,\n",
        "                      values=values_valid,\n",
        "                      dense_shape=dense_shape_valid)"
      ],
      "metadata": {
        "id": "upNJatwl8zAh"
      },
      "execution_count": null,
      "outputs": []
    },
    {
      "cell_type": "code",
      "source": [
        "yq1_train_np = np.array(yq1_train)\n",
        "yq1_valid_np = np.array(yq1_valid)"
      ],
      "metadata": {
        "id": "8eBH4iXhaJuw"
      },
      "execution_count": 22,
      "outputs": []
    },
    {
      "cell_type": "code",
      "source": [
        "# Create a new sequential model\n",
        "model = keras.Sequential()\n",
        "\n",
        "# Declare the hidden layers\n",
        "model.add(layers.Dense(27, activation=\"relu\"))\n",
        "model.add(layers.Dense(16, activation=\"relu\"))\n",
        "model.add(layers.Dense(8, activation=\"relu\"))\n",
        "model.add(layers.Dense(4, activation=\"relu\"))\n",
        "\n",
        "\n",
        "# Declare the output layer\n",
        "model.add(layers.Dense(1, activation=\"sigmoid\"))"
      ],
      "metadata": {
        "id": "s_LTwHwDIdxP"
      },
      "execution_count": 74,
      "outputs": []
    },
    {
      "cell_type": "code",
      "source": [
        "model.compile(\n",
        "    # Optimizer\n",
        "    optimizer=keras.optimizers.Adam(),  \n",
        "    # Loss function to minimize\n",
        "    loss=keras.losses.BinaryCrossentropy(),\n",
        "    # Metric used to evaluate model\n",
        "    metrics=[keras.metrics.BinaryAccuracy()]\n",
        ")"
      ],
      "metadata": {
        "id": "oC9dbFiFJOeM"
      },
      "execution_count": 75,
      "outputs": []
    },
    {
      "cell_type": "code",
      "source": [
        "history = model.fit(np.array(Xq1_mm_train), yq1_train_np, epochs=30, verbose=1, batch_size=40000,validation_data = (Xq1_mm_valid,yq1_valid_np))"
      ],
      "metadata": {
        "colab": {
          "base_uri": "https://localhost:8080/"
        },
        "id": "X460pCUkaSQU",
        "outputId": "8b3208ce-6f5c-4ab3-e808-1905cfbf2460"
      },
      "execution_count": 76,
      "outputs": [
        {
          "output_type": "stream",
          "name": "stdout",
          "text": [
            "Epoch 1/30\n",
            "182/182 [==============================] - 2s 7ms/step - loss: 0.4670 - binary_accuracy: 0.8302 - val_loss: 0.4410 - val_binary_accuracy: 0.8358\n",
            "Epoch 2/30\n",
            "182/182 [==============================] - 1s 5ms/step - loss: 0.4379 - binary_accuracy: 0.8366 - val_loss: 0.4369 - val_binary_accuracy: 0.8358\n",
            "Epoch 3/30\n",
            "182/182 [==============================] - 1s 5ms/step - loss: 0.4353 - binary_accuracy: 0.8366 - val_loss: 0.4359 - val_binary_accuracy: 0.8358\n",
            "Epoch 4/30\n",
            "182/182 [==============================] - 1s 5ms/step - loss: 0.4346 - binary_accuracy: 0.8366 - val_loss: 0.4353 - val_binary_accuracy: 0.8358\n",
            "Epoch 5/30\n",
            "182/182 [==============================] - 1s 5ms/step - loss: 0.4341 - binary_accuracy: 0.8366 - val_loss: 0.4349 - val_binary_accuracy: 0.8358\n",
            "Epoch 6/30\n",
            "182/182 [==============================] - 1s 5ms/step - loss: 0.4338 - binary_accuracy: 0.8366 - val_loss: 0.4346 - val_binary_accuracy: 0.8358\n",
            "Epoch 7/30\n",
            "182/182 [==============================] - 1s 5ms/step - loss: 0.4335 - binary_accuracy: 0.8366 - val_loss: 0.4344 - val_binary_accuracy: 0.8359\n",
            "Epoch 8/30\n",
            "182/182 [==============================] - 1s 5ms/step - loss: 0.4332 - binary_accuracy: 0.8367 - val_loss: 0.4342 - val_binary_accuracy: 0.8359\n",
            "Epoch 9/30\n",
            "182/182 [==============================] - 1s 5ms/step - loss: 0.4330 - binary_accuracy: 0.8367 - val_loss: 0.4339 - val_binary_accuracy: 0.8360\n",
            "Epoch 10/30\n",
            "182/182 [==============================] - 1s 5ms/step - loss: 0.4328 - binary_accuracy: 0.8368 - val_loss: 0.4338 - val_binary_accuracy: 0.8360\n",
            "Epoch 11/30\n",
            "182/182 [==============================] - 1s 5ms/step - loss: 0.4326 - binary_accuracy: 0.8368 - val_loss: 0.4336 - val_binary_accuracy: 0.8360\n",
            "Epoch 12/30\n",
            "182/182 [==============================] - 1s 5ms/step - loss: 0.4324 - binary_accuracy: 0.8368 - val_loss: 0.4334 - val_binary_accuracy: 0.8361\n",
            "Epoch 13/30\n",
            "182/182 [==============================] - 1s 5ms/step - loss: 0.4323 - binary_accuracy: 0.8369 - val_loss: 0.4333 - val_binary_accuracy: 0.8362\n",
            "Epoch 14/30\n",
            "182/182 [==============================] - 1s 5ms/step - loss: 0.4322 - binary_accuracy: 0.8369 - val_loss: 0.4331 - val_binary_accuracy: 0.8362\n",
            "Epoch 15/30\n",
            "182/182 [==============================] - 1s 5ms/step - loss: 0.4320 - binary_accuracy: 0.8369 - val_loss: 0.4330 - val_binary_accuracy: 0.8362\n",
            "Epoch 16/30\n",
            "182/182 [==============================] - 1s 5ms/step - loss: 0.4319 - binary_accuracy: 0.8370 - val_loss: 0.4329 - val_binary_accuracy: 0.8362\n",
            "Epoch 17/30\n",
            "182/182 [==============================] - 1s 5ms/step - loss: 0.4318 - binary_accuracy: 0.8370 - val_loss: 0.4329 - val_binary_accuracy: 0.8363\n",
            "Epoch 18/30\n",
            "182/182 [==============================] - 1s 5ms/step - loss: 0.4317 - binary_accuracy: 0.8370 - val_loss: 0.4327 - val_binary_accuracy: 0.8363\n",
            "Epoch 19/30\n",
            "182/182 [==============================] - 1s 5ms/step - loss: 0.4316 - binary_accuracy: 0.8370 - val_loss: 0.4326 - val_binary_accuracy: 0.8363\n",
            "Epoch 20/30\n",
            "182/182 [==============================] - 1s 5ms/step - loss: 0.4315 - binary_accuracy: 0.8370 - val_loss: 0.4326 - val_binary_accuracy: 0.8363\n",
            "Epoch 21/30\n",
            "182/182 [==============================] - 1s 5ms/step - loss: 0.4315 - binary_accuracy: 0.8370 - val_loss: 0.4327 - val_binary_accuracy: 0.8363\n",
            "Epoch 22/30\n",
            "182/182 [==============================] - 1s 5ms/step - loss: 0.4314 - binary_accuracy: 0.8370 - val_loss: 0.4324 - val_binary_accuracy: 0.8363\n",
            "Epoch 23/30\n",
            "182/182 [==============================] - 1s 5ms/step - loss: 0.4313 - binary_accuracy: 0.8370 - val_loss: 0.4324 - val_binary_accuracy: 0.8363\n",
            "Epoch 24/30\n",
            "182/182 [==============================] - 1s 5ms/step - loss: 0.4312 - binary_accuracy: 0.8370 - val_loss: 0.4323 - val_binary_accuracy: 0.8363\n",
            "Epoch 25/30\n",
            "182/182 [==============================] - 1s 5ms/step - loss: 0.4312 - binary_accuracy: 0.8371 - val_loss: 0.4322 - val_binary_accuracy: 0.8363\n",
            "Epoch 26/30\n",
            "182/182 [==============================] - 1s 5ms/step - loss: 0.4311 - binary_accuracy: 0.8371 - val_loss: 0.4322 - val_binary_accuracy: 0.8364\n",
            "Epoch 27/30\n",
            "182/182 [==============================] - 1s 5ms/step - loss: 0.4310 - binary_accuracy: 0.8371 - val_loss: 0.4322 - val_binary_accuracy: 0.8363\n",
            "Epoch 28/30\n",
            "182/182 [==============================] - 1s 5ms/step - loss: 0.4310 - binary_accuracy: 0.8371 - val_loss: 0.4321 - val_binary_accuracy: 0.8363\n",
            "Epoch 29/30\n",
            "182/182 [==============================] - 1s 5ms/step - loss: 0.4310 - binary_accuracy: 0.8371 - val_loss: 0.4321 - val_binary_accuracy: 0.8363\n",
            "Epoch 30/30\n",
            "182/182 [==============================] - 1s 5ms/step - loss: 0.4309 - binary_accuracy: 0.8371 - val_loss: 0.4320 - val_binary_accuracy: 0.8363\n"
          ]
        }
      ]
    },
    {
      "cell_type": "code",
      "source": [
        "plt.plot(history.history['binary_accuracy'])\n",
        "plt.plot(history.history['val_binary_accuracy'])\n",
        "plt.title('Model Accuracy')\n",
        "plt.ylabel('Accuracy')\n",
        "plt.ylim((.7,0.9))\n",
        "plt.xlabel('Epoch')\n",
        "plt.legend(['Train', 'Validation'])\n",
        "plt.show()"
      ],
      "metadata": {
        "colab": {
          "base_uri": "https://localhost:8080/",
          "height": 295
        },
        "id": "vuoL5IUP5Prs",
        "outputId": "a3ab28f7-71da-4dfd-f401-45bbfc8b99d2"
      },
      "execution_count": 77,
      "outputs": [
        {
          "output_type": "display_data",
          "data": {
            "text/plain": [
              "<Figure size 432x288 with 1 Axes>"
            ],
            "image/png": "[encoded data removed]"
          },
          "metadata": {
            "needs_background": "light"
          }
        }
      ]
    },
    {
      "cell_type": "code",
      "source": [
        "from sklearn.metrics import accuracy_score, PrecisionRecallDisplay, roc_auc_score\n",
        "yq1_valid_preds = model.predict(Xq1_mm_valid,batch_size=40000,verbose=2)\n",
        "PrecisionRecallDisplay.from_predictions(yq1_valid_np,yq1_valid_preds)"
      ],
      "metadata": {
        "colab": {
          "base_uri": "https://localhost:8080/",
          "height": 314
        },
        "id": "QjOcXHPngy6j",
        "outputId": "912292d4-d7f8-4ba6-ff64-e923985d5a67"
      },
      "execution_count": 78,
      "outputs": [
        {
          "output_type": "stream",
          "name": "stdout",
          "text": [
            "21/21 - 0s - 119ms/epoch - 6ms/step\n"
          ]
        },
        {
          "output_type": "execute_result",
          "data": {
            "text/plain": [
              "<sklearn.metrics._plot.precision_recall_curve.PrecisionRecallDisplay at 0x7f6558e53f90>"
            ]
          },
          "metadata": {},
          "execution_count": 78
        },
        {
          "output_type": "display_data",
          "data": {
            "text/plain": [
              "<Figure size 432x288 with 1 Axes>"
            ],
            "image/png": "[encoded data removed]"
          },
          "metadata": {
            "needs_background": "light"
          }
        }
      ]
    },
    {
      "cell_type": "code",
      "source": [
        "import joblib\n",
        "joblib.dump(model,path_name+\"Q1_FS4_nn1\")"
      ],
      "metadata": {
        "colab": {
          "base_uri": "https://localhost:8080/"
        },
        "id": "rs4ptKaN8BTm",
        "outputId": "66cc2cd3-2400-4874-d573-04cb5a7a1de4"
      },
      "execution_count": 79,
      "outputs": [
        {
          "output_type": "stream",
          "name": "stdout",
          "text": [
            "INFO:tensorflow:Assets written to: ram://e45f5002-0a7a-4d0e-90bd-114d6331ea70/assets\n"
          ]
        },
        {
          "output_type": "execute_result",
          "data": {
            "text/plain": [
              "['/content/drive/MyDrive/Q1_FS4_nn1']"
            ]
          },
          "metadata": {},
          "execution_count": 79
        }
      ]
    },
    {
      "cell_type": "code",
      "source": [
        "acc = dict()\n",
        "for i in range(1,10):\n",
        "  bc = i*.1\n",
        "  acc[i] = accuracy_score(yq1_valid_np,np.where(yq1_valid_preds>=bc,1,0))\n",
        "\n",
        "acc = pd.Series(acc)\n",
        "plt.figure()\n",
        "plt.xlabel(\"Boundary condition\")\n",
        "plt.ylabel(\"Accuracy\")\n",
        "plt.title(\"Accuracy vs boundary condition\")\n",
        "plt.plot(acc.index,acc,'.-')\n",
        "plt.show()\n"
      ],
      "metadata": {
        "colab": {
          "base_uri": "https://localhost:8080/",
          "height": 295
        },
        "id": "4vEtWqWB8SaK",
        "outputId": "a35e0c5c-c8f5-45c0-bad3-8206711066d1"
      },
      "execution_count": 82,
      "outputs": [
        {
          "output_type": "display_data",
          "data": {
            "text/plain": [
              "<Figure size 432x288 with 1 Axes>"
            ],
            "image/png": "[encoded data removed]"
          },
          "metadata": {
            "needs_background": "light"
          }
        }
      ]
    },
    {
      "cell_type": "markdown",
      "source": [
        "Create tensorflow tensor with downsampled dataset:"
      ],
      "metadata": {
        "id": "g6ovTEXlRXSz"
      }
    },
    {
      "cell_type": "code",
      "source": [
        "# Xq1_mm_train_ds = Xq1_mm_train_ds.tocoo()\n",
        "# Xq1_mm_valid_ds = Xq1_mm_valid_ds.tocoo()"
      ],
      "metadata": {
        "id": "Ol59vyR_Rdks"
      },
      "execution_count": null,
      "outputs": []
    },
    {
      "cell_type": "code",
      "source": [
        "# indices_train = [[u,v] for u,v in zip(Xq1_mm_train_ds.row,Xq1_mm_train_ds.col)]\n",
        "# indices_valid = [[u,v] for u,v in zip(Xq1_mm_valid_ds.row,Xq1_mm_valid_ds.col)]"
      ],
      "metadata": {
        "id": "4pgw2bdnRdkt"
      },
      "execution_count": null,
      "outputs": []
    },
    {
      "cell_type": "code",
      "source": [
        "# values_train = Xq1_mm_train_ds.data\n",
        "# values_valid = Xq1_mm_valid_ds.data"
      ],
      "metadata": {
        "id": "oonRI7cSRdkt"
      },
      "execution_count": null,
      "outputs": []
    },
    {
      "cell_type": "code",
      "source": [
        "# dense_shape_train_ds = [Xq1_mm_train_ds.shape[0],Xq1_mm_train_ds.shape[1]]\n",
        "# dense_shape_valid_ds = [Xq1_mm_valid_ds.shape[0],Xq1_mm_valid_ds.shape[1]]"
      ],
      "metadata": {
        "id": "Sp4XuW08Rdkt"
      },
      "execution_count": null,
      "outputs": []
    },
    {
      "cell_type": "code",
      "source": [
        "# Xq1_mm_train_tf_ds = tf.sparse.SparseTensor(indices=indices_train,\n",
        "#                       values=values_train,\n",
        "#                       dense_shape=dense_shape_train_ds)"
      ],
      "metadata": {
        "id": "T14PH04FRdkt"
      },
      "execution_count": null,
      "outputs": []
    },
    {
      "cell_type": "code",
      "source": [
        "# Xq1_mm_valid_tf_ds = tf.sparse.SparseTensor(indices=indices_valid,\n",
        "#                       values=values_valid,\n",
        "#                       dense_shape=dense_shape_valid_ds)"
      ],
      "metadata": {
        "id": "ctKQOt6GRdkt"
      },
      "execution_count": null,
      "outputs": []
    },
    {
      "cell_type": "code",
      "source": [
        "yq1_train_np_ds = np.array(yq1_train_ds)\n",
        "yq1_valid_np_ds = np.array(yq1_valid)"
      ],
      "metadata": {
        "id": "RA_ok-2bRdkt"
      },
      "execution_count": 29,
      "outputs": []
    },
    {
      "cell_type": "markdown",
      "source": [
        "The same architecture will be used:"
      ],
      "metadata": {
        "id": "iyL6kuQwSMGG"
      }
    },
    {
      "cell_type": "code",
      "source": [
        "history_ds = model.fit(Xq1_mm_train_ds, yq1_train_np_ds, epochs=25, verbose=1, batch_size=30000,validation_data = (Xq1_mm_valid_ds,yq1_valid_np_ds))"
      ],
      "metadata": {
        "colab": {
          "base_uri": "https://localhost:8080/"
        },
        "id": "0pToa7khSJTk",
        "outputId": "4b4e94d1-8374-43a8-9a0f-58402fe46e00"
      },
      "execution_count": 35,
      "outputs": [
        {
          "output_type": "stream",
          "name": "stdout",
          "text": [
            "Epoch 1/25\n",
            "80/80 [==============================] - 1s 7ms/step - loss: 0.6650 - binary_accuracy: 0.5923 - val_loss: 0.6661 - val_binary_accuracy: 0.5984\n",
            "Epoch 2/25\n",
            "80/80 [==============================] - 0s 5ms/step - loss: 0.6650 - binary_accuracy: 0.5926 - val_loss: 0.6653 - val_binary_accuracy: 0.5990\n",
            "Epoch 3/25\n",
            "80/80 [==============================] - 0s 5ms/step - loss: 0.6649 - binary_accuracy: 0.5926 - val_loss: 0.6705 - val_binary_accuracy: 0.5906\n",
            "Epoch 4/25\n",
            "80/80 [==============================] - 0s 5ms/step - loss: 0.6648 - binary_accuracy: 0.5929 - val_loss: 0.6620 - val_binary_accuracy: 0.6073\n",
            "Epoch 5/25\n",
            "80/80 [==============================] - 0s 5ms/step - loss: 0.6648 - binary_accuracy: 0.5927 - val_loss: 0.6686 - val_binary_accuracy: 0.5923\n",
            "Epoch 6/25\n",
            "80/80 [==============================] - 0s 6ms/step - loss: 0.6647 - binary_accuracy: 0.5928 - val_loss: 0.6636 - val_binary_accuracy: 0.6027\n",
            "Epoch 7/25\n",
            "80/80 [==============================] - 0s 5ms/step - loss: 0.6647 - binary_accuracy: 0.5929 - val_loss: 0.6617 - val_binary_accuracy: 0.6063\n",
            "Epoch 8/25\n",
            "80/80 [==============================] - 0s 5ms/step - loss: 0.6646 - binary_accuracy: 0.5931 - val_loss: 0.6614 - val_binary_accuracy: 0.6048\n",
            "Epoch 9/25\n",
            "80/80 [==============================] - 0s 5ms/step - loss: 0.6645 - binary_accuracy: 0.5934 - val_loss: 0.6733 - val_binary_accuracy: 0.5849\n",
            "Epoch 10/25\n",
            "80/80 [==============================] - 0s 5ms/step - loss: 0.6645 - binary_accuracy: 0.5934 - val_loss: 0.6729 - val_binary_accuracy: 0.5845\n",
            "Epoch 11/25\n",
            "80/80 [==============================] - 0s 5ms/step - loss: 0.6644 - binary_accuracy: 0.5935 - val_loss: 0.6626 - val_binary_accuracy: 0.6042\n",
            "Epoch 12/25\n",
            "80/80 [==============================] - 0s 5ms/step - loss: 0.6644 - binary_accuracy: 0.5935 - val_loss: 0.6701 - val_binary_accuracy: 0.5890\n",
            "Epoch 13/25\n",
            "80/80 [==============================] - 0s 5ms/step - loss: 0.6643 - binary_accuracy: 0.5936 - val_loss: 0.6684 - val_binary_accuracy: 0.5918\n",
            "Epoch 14/25\n",
            "80/80 [==============================] - 0s 5ms/step - loss: 0.6642 - binary_accuracy: 0.5937 - val_loss: 0.6701 - val_binary_accuracy: 0.5901\n",
            "Epoch 15/25\n",
            "80/80 [==============================] - 0s 5ms/step - loss: 0.6642 - binary_accuracy: 0.5938 - val_loss: 0.6803 - val_binary_accuracy: 0.5729\n",
            "Epoch 16/25\n",
            "80/80 [==============================] - 0s 5ms/step - loss: 0.6641 - binary_accuracy: 0.5939 - val_loss: 0.6548 - val_binary_accuracy: 0.6199\n",
            "Epoch 17/25\n",
            "80/80 [==============================] - 0s 5ms/step - loss: 0.6641 - binary_accuracy: 0.5937 - val_loss: 0.6750 - val_binary_accuracy: 0.5802\n",
            "Epoch 18/25\n",
            "80/80 [==============================] - 0s 5ms/step - loss: 0.6640 - binary_accuracy: 0.5941 - val_loss: 0.6635 - val_binary_accuracy: 0.6013\n",
            "Epoch 19/25\n",
            "80/80 [==============================] - 0s 5ms/step - loss: 0.6639 - binary_accuracy: 0.5943 - val_loss: 0.6686 - val_binary_accuracy: 0.5926\n",
            "Epoch 20/25\n",
            "80/80 [==============================] - 0s 5ms/step - loss: 0.6639 - binary_accuracy: 0.5943 - val_loss: 0.6514 - val_binary_accuracy: 0.6218\n",
            "Epoch 21/25\n",
            "80/80 [==============================] - 0s 5ms/step - loss: 0.6639 - binary_accuracy: 0.5943 - val_loss: 0.6593 - val_binary_accuracy: 0.6092\n",
            "Epoch 22/25\n",
            "80/80 [==============================] - 0s 5ms/step - loss: 0.6638 - binary_accuracy: 0.5943 - val_loss: 0.6643 - val_binary_accuracy: 0.6014\n",
            "Epoch 23/25\n",
            "80/80 [==============================] - 0s 5ms/step - loss: 0.6637 - binary_accuracy: 0.5945 - val_loss: 0.6685 - val_binary_accuracy: 0.5918\n",
            "Epoch 24/25\n",
            "80/80 [==============================] - 0s 5ms/step - loss: 0.6637 - binary_accuracy: 0.5947 - val_loss: 0.6508 - val_binary_accuracy: 0.6210\n",
            "Epoch 25/25\n",
            "80/80 [==============================] - 0s 5ms/step - loss: 0.6636 - binary_accuracy: 0.5947 - val_loss: 0.6736 - val_binary_accuracy: 0.5821\n"
          ]
        }
      ]
    },
    {
      "cell_type": "code",
      "source": [
        "plt.plot(history_ds.history['binary_accuracy'])\n",
        "plt.plot(history_ds.history['val_binary_accuracy'])\n",
        "plt.title('Model Accuracy')\n",
        "plt.ylabel('Accuracy')\n",
        "plt.xlabel('Epoch')\n",
        "plt.legend(['Train', 'Validation'])\n",
        "plt.show()"
      ],
      "metadata": {
        "colab": {
          "base_uri": "https://localhost:8080/",
          "height": 295
        },
        "id": "50I8Rqa96GIW",
        "outputId": "76211d8a-2aae-441d-8240-f6a805ea2ac1"
      },
      "execution_count": 37,
      "outputs": [
        {
          "output_type": "display_data",
          "data": {
            "text/plain": [
              "<Figure size 432x288 with 1 Axes>"
            ],
            "image/png": "[encoded data removed]"
          },
          "metadata": {
            "needs_background": "light"
          }
        }
      ]
    },
    {
      "cell_type": "code",
      "source": [
        "from sklearn.metrics import accuracy_score, PrecisionRecallDisplay, roc_auc_score\n",
        "yq1_valid_preds_ds = model.predict(Xq1_mm_valid_ds,batch_size=40000,verbose=2)\n",
        "PrecisionRecallDisplay.from_predictions(yq1_valid_np,yq1_valid_preds_ds)"
      ],
      "metadata": {
        "colab": {
          "base_uri": "https://localhost:8080/",
          "height": 314
        },
        "id": "uQ-6sVhfdN0j",
        "outputId": "3efaef31-d040-494a-d573-3a135568a2dd"
      },
      "execution_count": 38,
      "outputs": [
        {
          "output_type": "stream",
          "name": "stdout",
          "text": [
            "21/21 - 0s - 72ms/epoch - 3ms/step\n"
          ]
        },
        {
          "output_type": "execute_result",
          "data": {
            "text/plain": [
              "<sklearn.metrics._plot.precision_recall_curve.PrecisionRecallDisplay at 0x7f6559d1fc90>"
            ]
          },
          "metadata": {},
          "execution_count": 38
        },
        {
          "output_type": "display_data",
          "data": {
            "text/plain": [
              "<Figure size 432x288 with 1 Axes>"
            ],
            "image/png": "[encoded data removed]"
          },
          "metadata": {
            "needs_background": "light"
          }
        }
      ]
    },
    {
      "cell_type": "code",
      "source": [
        "import joblib\n",
        "joblib.dump(model,path_name+\"Q1_FS4_DS_nn1\")"
      ],
      "metadata": {
        "colab": {
          "base_uri": "https://localhost:8080/"
        },
        "id": "dmLRAfY7c2qk",
        "outputId": "819fb9c3-eb28-40f9-9eca-fdda82aba9cb"
      },
      "execution_count": 39,
      "outputs": [
        {
          "output_type": "stream",
          "name": "stdout",
          "text": [
            "INFO:tensorflow:Assets written to: ram://cea09e27-dd51-447c-b5df-b663d5eeaeee/assets\n"
          ]
        },
        {
          "output_type": "execute_result",
          "data": {
            "text/plain": [
              "['/content/drive/MyDrive/Q1_FS4_DS_nn1']"
            ]
          },
          "metadata": {},
          "execution_count": 39
        }
      ]
    },
    {
      "cell_type": "markdown",
      "source": [
        "Trying with regularization:\n",
        "\n"
      ],
      "metadata": {
        "id": "X_d7hk-TfJlV"
      }
    },
    {
      "cell_type": "code",
      "source": [
        "# Create a new sequential model\n",
        "model2 = keras.Sequential()\n",
        "# Create a regularizer with a factor of 0.005 and apply it to all hidden layers\n",
        "regularizer = keras.regularizers.l2(0.001)\n",
        "\n",
        "# Declare the hidden layers\n",
        "model2.add(layers.Dense(27, activation=\"relu\", kernel_regularizer=regularizer))\n",
        "model2.add(layers.Dense(16, activation=\"relu\", kernel_regularizer=regularizer))\n",
        "model2.add(layers.Dense(8, activation=\"relu\", kernel_regularizer=regularizer))\n",
        "\n",
        "# Declare the output layer\n",
        "model2.add(layers.Dense(1, activation=\"sigmoid\"))"
      ],
      "metadata": {
        "id": "BSyGUHuUdfzh"
      },
      "execution_count": 55,
      "outputs": []
    },
    {
      "cell_type": "code",
      "source": [
        "model2.compile(\n",
        "    # Optimizer\n",
        "    optimizer=keras.optimizers.Adam(),  \n",
        "    # Loss function to minimize\n",
        "    loss=keras.losses.BinaryCrossentropy(),\n",
        "    # Metric used to evaluate model\n",
        "    metrics=[keras.metrics.BinaryAccuracy()]\n",
        ")"
      ],
      "metadata": {
        "id": "2aumzvBUdjS9"
      },
      "execution_count": 56,
      "outputs": []
    },
    {
      "cell_type": "code",
      "source": [
        "history_reg = model2.fit(np.array(Xq1_mm_train), yq1_train_np, epochs=10, verbose=1, batch_size=40000,validation_data = (Xq1_mm_valid,yq1_valid_np))"
      ],
      "metadata": {
        "colab": {
          "base_uri": "https://localhost:8080/"
        },
        "id": "JcBMjXK_fMNq",
        "outputId": "e93fcefd-dcd7-4846-c7a7-c376ff1b91f7"
      },
      "execution_count": 57,
      "outputs": [
        {
          "output_type": "stream",
          "name": "stdout",
          "text": [
            "Epoch 1/10\n",
            "182/182 [==============================] - 2s 6ms/step - loss: 0.5034 - binary_accuracy: 0.8365 - val_loss: 0.4639 - val_binary_accuracy: 0.8358\n",
            "Epoch 2/10\n",
            "182/182 [==============================] - 1s 5ms/step - loss: 0.4552 - binary_accuracy: 0.8366 - val_loss: 0.4511 - val_binary_accuracy: 0.8358\n",
            "Epoch 3/10\n",
            "182/182 [==============================] - 1s 5ms/step - loss: 0.4478 - binary_accuracy: 0.8366 - val_loss: 0.4471 - val_binary_accuracy: 0.8358\n",
            "Epoch 4/10\n",
            "182/182 [==============================] - 1s 5ms/step - loss: 0.4451 - binary_accuracy: 0.8366 - val_loss: 0.4452 - val_binary_accuracy: 0.8358\n",
            "Epoch 5/10\n",
            "182/182 [==============================] - 1s 5ms/step - loss: 0.4436 - binary_accuracy: 0.8366 - val_loss: 0.4441 - val_binary_accuracy: 0.8358\n",
            "Epoch 6/10\n",
            "182/182 [==============================] - 1s 5ms/step - loss: 0.4426 - binary_accuracy: 0.8366 - val_loss: 0.4432 - val_binary_accuracy: 0.8358\n",
            "Epoch 7/10\n",
            "182/182 [==============================] - 1s 5ms/step - loss: 0.4419 - binary_accuracy: 0.8366 - val_loss: 0.4425 - val_binary_accuracy: 0.8358\n",
            "Epoch 8/10\n",
            "182/182 [==============================] - 1s 5ms/step - loss: 0.4413 - binary_accuracy: 0.8366 - val_loss: 0.4419 - val_binary_accuracy: 0.8358\n",
            "Epoch 9/10\n",
            "182/182 [==============================] - 1s 5ms/step - loss: 0.4408 - binary_accuracy: 0.8366 - val_loss: 0.4415 - val_binary_accuracy: 0.8358\n",
            "Epoch 10/10\n",
            "182/182 [==============================] - 1s 5ms/step - loss: 0.4404 - binary_accuracy: 0.8366 - val_loss: 0.4412 - val_binary_accuracy: 0.8358\n"
          ]
        }
      ]
    },
    {
      "cell_type": "code",
      "source": [
        "plt.plot(history_reg.history['binary_accuracy'])\n",
        "plt.plot(history_reg.history['val_binary_accuracy'])\n",
        "plt.title('Model Accuracy')\n",
        "plt.ylabel('Accuracy')\n",
        "plt.xlabel('Epoch')\n",
        "plt.legend(['Train', 'Validation'])\n",
        "plt.show()"
      ],
      "metadata": {
        "colab": {
          "base_uri": "https://localhost:8080/",
          "height": 295
        },
        "id": "ftObmwSh6cE0",
        "outputId": "da18d54c-6355-43c4-a539-a304b838493f"
      },
      "execution_count": 58,
      "outputs": [
        {
          "output_type": "display_data",
          "data": {
            "text/plain": [
              "<Figure size 432x288 with 1 Axes>"
            ],
            "image/png": "[encoded data removed]"
          },
          "metadata": {
            "needs_background": "light"
          }
        }
      ]
    },
    {
      "cell_type": "code",
      "source": [
        "from sklearn.metrics import accuracy_score, PrecisionRecallDisplay, roc_auc_score\n",
        "yq1_valid_preds= model2.predict(Xq1_mm_valid,batch_size=40000,verbose=2)\n",
        "PrecisionRecallDisplay.from_predictions(yq1_valid_np,yq1_valid_preds)"
      ],
      "metadata": {
        "colab": {
          "base_uri": "https://localhost:8080/",
          "height": 314
        },
        "id": "vtJaVdOvfhAz",
        "outputId": "909fe511-5f4d-4e9e-ea01-640e20d276a2"
      },
      "execution_count": 59,
      "outputs": [
        {
          "output_type": "stream",
          "name": "stdout",
          "text": [
            "21/21 - 0s - 99ms/epoch - 5ms/step\n"
          ]
        },
        {
          "output_type": "execute_result",
          "data": {
            "text/plain": [
              "<sklearn.metrics._plot.precision_recall_curve.PrecisionRecallDisplay at 0x7f6558f27850>"
            ]
          },
          "metadata": {},
          "execution_count": 59
        },
        {
          "output_type": "display_data",
          "data": {
            "text/plain": [
              "<Figure size 432x288 with 1 Axes>"
            ],
            "image/png": "[encoded data removed]"
          },
          "metadata": {
            "needs_background": "light"
          }
        }
      ]
    },
    {
      "cell_type": "code",
      "source": [
        "history_reg_ds = model2.fit(Xq1_mm_train_ds, yq1_train_np_ds, epochs=15, verbose=1, batch_size=30000,validation_data = (Xq1_mm_valid_ds,yq1_valid_np_ds))"
      ],
      "metadata": {
        "colab": {
          "base_uri": "https://localhost:8080/"
        },
        "id": "iry8KoYZfrdB",
        "outputId": "ea1f3ab9-8d6b-4f6b-e174-df388869f132"
      },
      "execution_count": 61,
      "outputs": [
        {
          "output_type": "stream",
          "name": "stdout",
          "text": [
            "Epoch 1/15\n",
            "80/80 [==============================] - 1s 8ms/step - loss: 0.6809 - binary_accuracy: 0.5725 - val_loss: 0.6798 - val_binary_accuracy: 0.6129\n",
            "Epoch 2/15\n",
            "80/80 [==============================] - 0s 6ms/step - loss: 0.6808 - binary_accuracy: 0.5727 - val_loss: 0.6825 - val_binary_accuracy: 0.6059\n",
            "Epoch 3/15\n",
            "80/80 [==============================] - 0s 6ms/step - loss: 0.6807 - binary_accuracy: 0.5726 - val_loss: 0.6743 - val_binary_accuracy: 0.6241\n",
            "Epoch 4/15\n",
            "80/80 [==============================] - 0s 5ms/step - loss: 0.6806 - binary_accuracy: 0.5728 - val_loss: 0.6790 - val_binary_accuracy: 0.6127\n",
            "Epoch 5/15\n",
            "80/80 [==============================] - 0s 5ms/step - loss: 0.6806 - binary_accuracy: 0.5728 - val_loss: 0.6865 - val_binary_accuracy: 0.5988\n",
            "Epoch 6/15\n",
            "80/80 [==============================] - 0s 5ms/step - loss: 0.6805 - binary_accuracy: 0.5728 - val_loss: 0.6808 - val_binary_accuracy: 0.6108\n",
            "Epoch 7/15\n",
            "80/80 [==============================] - 0s 5ms/step - loss: 0.6805 - binary_accuracy: 0.5726 - val_loss: 0.6845 - val_binary_accuracy: 0.6016\n",
            "Epoch 8/15\n",
            "80/80 [==============================] - 0s 5ms/step - loss: 0.6804 - binary_accuracy: 0.5728 - val_loss: 0.6830 - val_binary_accuracy: 0.6057\n",
            "Epoch 9/15\n",
            "80/80 [==============================] - 0s 5ms/step - loss: 0.6803 - binary_accuracy: 0.5727 - val_loss: 0.6799 - val_binary_accuracy: 0.6113\n",
            "Epoch 10/15\n",
            "80/80 [==============================] - 0s 5ms/step - loss: 0.6803 - binary_accuracy: 0.5728 - val_loss: 0.6773 - val_binary_accuracy: 0.6177\n",
            "Epoch 11/15\n",
            "80/80 [==============================] - 0s 5ms/step - loss: 0.6803 - binary_accuracy: 0.5727 - val_loss: 0.6820 - val_binary_accuracy: 0.6067\n",
            "Epoch 12/15\n",
            "80/80 [==============================] - 0s 5ms/step - loss: 0.6802 - binary_accuracy: 0.5729 - val_loss: 0.6784 - val_binary_accuracy: 0.6158\n",
            "Epoch 13/15\n",
            "80/80 [==============================] - 0s 5ms/step - loss: 0.6801 - binary_accuracy: 0.5728 - val_loss: 0.6807 - val_binary_accuracy: 0.6106\n",
            "Epoch 14/15\n",
            "80/80 [==============================] - 0s 5ms/step - loss: 0.6801 - binary_accuracy: 0.5728 - val_loss: 0.6845 - val_binary_accuracy: 0.6025\n",
            "Epoch 15/15\n",
            "80/80 [==============================] - 0s 5ms/step - loss: 0.6801 - binary_accuracy: 0.5728 - val_loss: 0.6845 - val_binary_accuracy: 0.6030\n"
          ]
        }
      ]
    },
    {
      "cell_type": "code",
      "source": [
        "plt.plot(history_reg_ds.history['binary_accuracy'])\n",
        "plt.plot(history_reg_ds.history['val_binary_accuracy'])\n",
        "plt.title('Model Accuracy')\n",
        "plt.ylabel('Accuracy')\n",
        "plt.xlabel('Epoch')\n",
        "plt.legend(['Train', 'Validation'])\n",
        "plt.show()"
      ],
      "metadata": {
        "colab": {
          "base_uri": "https://localhost:8080/",
          "height": 295
        },
        "id": "NEk2Qz4tf4Nr",
        "outputId": "4a99a700-4d1c-49a5-8179-de7aadfaa886"
      },
      "execution_count": 62,
      "outputs": [
        {
          "output_type": "display_data",
          "data": {
            "text/plain": [
              "<Figure size 432x288 with 1 Axes>"
            ],
            "image/png": "[encoded data removed]"
          },
          "metadata": {
            "needs_background": "light"
          }
        }
      ]
    },
    {
      "cell_type": "code",
      "source": [
        "from sklearn.metrics import accuracy_score, PrecisionRecallDisplay, roc_auc_score\n",
        "yq1_valid_preds= model2.predict(Xq1_mm_valid_ds,batch_size=40000,verbose=2)\n",
        "PrecisionRecallDisplay.from_predictions(yq1_valid_np,yq1_valid_preds)"
      ],
      "metadata": {
        "colab": {
          "base_uri": "https://localhost:8080/",
          "height": 314
        },
        "id": "sNncd604hVRA",
        "outputId": "861c8324-db68-4207-cc2c-c8f45228d463"
      },
      "execution_count": 63,
      "outputs": [
        {
          "output_type": "stream",
          "name": "stdout",
          "text": [
            "21/21 - 0s - 72ms/epoch - 3ms/step\n"
          ]
        },
        {
          "output_type": "execute_result",
          "data": {
            "text/plain": [
              "<sklearn.metrics._plot.precision_recall_curve.PrecisionRecallDisplay at 0x7f6558e58110>"
            ]
          },
          "metadata": {},
          "execution_count": 63
        },
        {
          "output_type": "display_data",
          "data": {
            "text/plain": [
              "<Figure size 432x288 with 1 Axes>"
            ],
            "image/png": "[encoded data removed]"
          },
          "metadata": {
            "needs_background": "light"
          }
        }
      ]
    },
    {
      "cell_type": "markdown",
      "source": [
        "Adding regularization has increased the average precision."
      ],
      "metadata": {
        "id": "hEHp-9gkhcFs"
      }
    },
    {
      "cell_type": "markdown",
      "source": [
        "Trying with drop out to reduce overfitting further:"
      ],
      "metadata": {
        "id": "8Je9T0t8dIHb"
      }
    },
    {
      "cell_type": "code",
      "source": [
        "# Create a new sequential model\n",
        "model3 = keras.Sequential()\n",
        "# Create a regularizer with a factor of 0.005 and apply it to all hidden layers\n",
        "regularizer = keras.regularizers.l2(0.001)\n",
        "\n",
        "# Declare the hidden layers\n",
        "model3.add(layers.Dense(27, activation=\"relu\", kernel_regularizer=regularizer))\n",
        "model3.add(layers.Dropout(0.2)) # Set 20% of the nodes to 0. \n",
        "model3.add(layers.Dense(16, activation=\"relu\", kernel_regularizer=regularizer))\n",
        "model3.add(layers.Dropout(0.2)) # Set 20% of the nodes to 0. \n",
        "model3.add(layers.Dense(8, activation=\"relu\", kernel_regularizer=regularizer))\n",
        "model3.add(layers.Dense(4, activation=\"relu\", kernel_regularizer=regularizer))\n",
        "\n",
        "# Declare the output layer\n",
        "model3.add(layers.Dense(1, activation=\"sigmoid\"))"
      ],
      "metadata": {
        "id": "kQ60bqbahQxS"
      },
      "execution_count": 68,
      "outputs": []
    },
    {
      "cell_type": "code",
      "source": [
        "model3.compile(\n",
        "    # Optimizer\n",
        "    optimizer=keras.optimizers.Adam(),  \n",
        "    # Loss function to minimize\n",
        "    loss=keras.losses.BinaryCrossentropy(),\n",
        "    # Metric used to evaluate model\n",
        "    metrics=[keras.metrics.BinaryAccuracy()]\n",
        ")"
      ],
      "metadata": {
        "id": "xzsp6E_KhQxW"
      },
      "execution_count": 69,
      "outputs": []
    },
    {
      "cell_type": "code",
      "source": [
        "history_reg_dropout = model3.fit(np.array(Xq1_mm_train), yq1_train_np, epochs=10, verbose=1, batch_size=40000,validation_data = (Xq1_mm_valid,yq1_valid_np))"
      ],
      "metadata": {
        "colab": {
          "base_uri": "https://localhost:8080/"
        },
        "id": "BVNu-RTDhxNX",
        "outputId": "18e6e9ae-1685-41ed-8138-80586f957cf9"
      },
      "execution_count": 70,
      "outputs": [
        {
          "output_type": "stream",
          "name": "stdout",
          "text": [
            "Epoch 1/10\n",
            "182/182 [==============================] - 2s 7ms/step - loss: 0.5478 - binary_accuracy: 0.8349 - val_loss: 0.4686 - val_binary_accuracy: 0.8358\n",
            "Epoch 2/10\n",
            "182/182 [==============================] - 1s 5ms/step - loss: 0.4636 - binary_accuracy: 0.8366 - val_loss: 0.4544 - val_binary_accuracy: 0.8358\n",
            "Epoch 3/10\n",
            "182/182 [==============================] - 1s 5ms/step - loss: 0.4530 - binary_accuracy: 0.8366 - val_loss: 0.4493 - val_binary_accuracy: 0.8358\n",
            "Epoch 4/10\n",
            "182/182 [==============================] - 1s 5ms/step - loss: 0.4484 - binary_accuracy: 0.8366 - val_loss: 0.4466 - val_binary_accuracy: 0.8358\n",
            "Epoch 5/10\n",
            "182/182 [==============================] - 1s 5ms/step - loss: 0.4460 - binary_accuracy: 0.8366 - val_loss: 0.4452 - val_binary_accuracy: 0.8358\n",
            "Epoch 6/10\n",
            "182/182 [==============================] - 1s 5ms/step - loss: 0.4447 - binary_accuracy: 0.8366 - val_loss: 0.4444 - val_binary_accuracy: 0.8358\n",
            "Epoch 7/10\n",
            "182/182 [==============================] - 1s 5ms/step - loss: 0.4440 - binary_accuracy: 0.8366 - val_loss: 0.4438 - val_binary_accuracy: 0.8358\n",
            "Epoch 8/10\n",
            "182/182 [==============================] - 1s 5ms/step - loss: 0.4435 - binary_accuracy: 0.8366 - val_loss: 0.4435 - val_binary_accuracy: 0.8358\n",
            "Epoch 9/10\n",
            "182/182 [==============================] - 1s 5ms/step - loss: 0.4432 - binary_accuracy: 0.8366 - val_loss: 0.4432 - val_binary_accuracy: 0.8358\n",
            "Epoch 10/10\n",
            "182/182 [==============================] - 1s 5ms/step - loss: 0.4429 - binary_accuracy: 0.8366 - val_loss: 0.4430 - val_binary_accuracy: 0.8358\n"
          ]
        }
      ]
    },
    {
      "cell_type": "code",
      "source": [
        "plt.plot(history_reg_dropout.history['binary_accuracy'])\n",
        "plt.plot(history_reg_dropout.history['val_binary_accuracy'])\n",
        "plt.title('Model Accuracy')\n",
        "plt.ylabel('Accuracy')\n",
        "plt.xlabel('Epoch')\n",
        "plt.legend(['Train', 'Validation'])\n",
        "plt.show()"
      ],
      "metadata": {
        "colab": {
          "base_uri": "https://localhost:8080/",
          "height": 295
        },
        "id": "JtlHuI8LiJBR",
        "outputId": "cfe1d64e-5fd0-4175-85e1-fa866f0d108a"
      },
      "execution_count": 71,
      "outputs": [
        {
          "output_type": "display_data",
          "data": {
            "text/plain": [
              "<Figure size 432x288 with 1 Axes>"
            ],
            "image/png": "[encoded data removed]"
          },
          "metadata": {
            "needs_background": "light"
          }
        }
      ]
    },
    {
      "cell_type": "code",
      "source": [
        "from sklearn.metrics import accuracy_score, PrecisionRecallDisplay, roc_auc_score\n",
        "yq1_valid_preds= model3.predict(Xq1_mm_valid_ds,batch_size=40000,verbose=2)\n",
        "PrecisionRecallDisplay.from_predictions(yq1_valid_np,yq1_valid_preds)"
      ],
      "metadata": {
        "colab": {
          "base_uri": "https://localhost:8080/",
          "height": 314
        },
        "id": "i-ImhqVxiTh8",
        "outputId": "87000248-1a37-4a99-d1e2-3b8fddc93a6b"
      },
      "execution_count": 72,
      "outputs": [
        {
          "output_type": "stream",
          "name": "stdout",
          "text": [
            "21/21 - 0s - 107ms/epoch - 5ms/step\n"
          ]
        },
        {
          "output_type": "execute_result",
          "data": {
            "text/plain": [
              "<sklearn.metrics._plot.precision_recall_curve.PrecisionRecallDisplay at 0x7f6558354a50>"
            ]
          },
          "metadata": {},
          "execution_count": 72
        },
        {
          "output_type": "display_data",
          "data": {
            "text/plain": [
              "<Figure size 432x288 with 1 Axes>"
            ],
            "image/png": "[encoded data removed]"
          },
          "metadata": {
            "needs_background": "light"
          }
        }
      ]
    },
    {
      "cell_type": "code",
      "source": [
        "history_reg_dropout_ds = model3.fit(np.array(Xq1_mm_train_ds), yq1_train_np_ds, epochs=10, verbose=1, batch_size=40000,validation_data = (Xq1_mm_valid_ds,yq1_valid_np))"
      ],
      "metadata": {
        "colab": {
          "base_uri": "https://localhost:8080/"
        },
        "id": "PzQgW43qiWdS",
        "outputId": "bb9e9e6f-cb1b-4d34-ba16-a2569774946f"
      },
      "execution_count": 73,
      "outputs": [
        {
          "output_type": "stream",
          "name": "stdout",
          "text": [
            "Epoch 1/10\n",
            "60/60 [==============================] - 1s 8ms/step - loss: 0.7453 - binary_accuracy: 0.5000 - val_loss: 0.6174 - val_binary_accuracy: 0.8358\n",
            "Epoch 2/10\n",
            "60/60 [==============================] - 0s 6ms/step - loss: 0.7006 - binary_accuracy: 0.5000 - val_loss: 0.6613 - val_binary_accuracy: 0.8358\n",
            "Epoch 3/10\n",
            "60/60 [==============================] - 0s 6ms/step - loss: 0.6966 - binary_accuracy: 0.5000 - val_loss: 0.6804 - val_binary_accuracy: 0.8358\n",
            "Epoch 4/10\n",
            "60/60 [==============================] - 0s 6ms/step - loss: 0.6956 - binary_accuracy: 0.5000 - val_loss: 0.6889 - val_binary_accuracy: 0.8358\n",
            "Epoch 5/10\n",
            "60/60 [==============================] - 0s 6ms/step - loss: 0.6953 - binary_accuracy: 0.5000 - val_loss: 0.6924 - val_binary_accuracy: 0.8358\n",
            "Epoch 6/10\n",
            "60/60 [==============================] - 0s 6ms/step - loss: 0.6950 - binary_accuracy: 0.5000 - val_loss: 0.6939 - val_binary_accuracy: 0.8358\n",
            "Epoch 7/10\n",
            "60/60 [==============================] - 0s 6ms/step - loss: 0.6949 - binary_accuracy: 0.5000 - val_loss: 0.6943 - val_binary_accuracy: 0.8358\n",
            "Epoch 8/10\n",
            "60/60 [==============================] - 0s 6ms/step - loss: 0.6947 - binary_accuracy: 0.5000 - val_loss: 0.6945 - val_binary_accuracy: 0.8358\n",
            "Epoch 9/10\n",
            "60/60 [==============================] - 0s 6ms/step - loss: 0.6946 - binary_accuracy: 0.4997 - val_loss: 0.6945 - val_binary_accuracy: 0.8358\n",
            "Epoch 10/10\n",
            "60/60 [==============================] - 0s 6ms/step - loss: 0.6945 - binary_accuracy: 0.4998 - val_loss: 0.6944 - val_binary_accuracy: 0.8358\n"
          ]
        }
      ]
    },
    {
      "cell_type": "markdown",
      "source": [
        "Drop out did not add to the optimization (underfitting)"
      ],
      "metadata": {
        "id": "gSQppC40ilxj"
      }
    },
    {
      "cell_type": "markdown",
      "source": [
        "## Q1 TEST"
      ],
      "metadata": {
        "id": "bkYezz4v9JA9"
      }
    },
    {
      "cell_type": "code",
      "execution_count": 94,
      "metadata": {
        "id": "grtBzBBe9QLn"
      },
      "outputs": [],
      "source": [
        "q1testXsp = decompress_pickle(path_name+\"Q1TEST_pipe4.pbz2\") "
      ]
    },
    {
      "cell_type": "code",
      "execution_count": 95,
      "metadata": {
        "colab": {
          "base_uri": "https://localhost:8080/"
        },
        "outputId": "03614876-45cb-4e6d-a24e-5e1e240db9c4",
        "id": "jKb65NYB9QLo"
      },
      "outputs": [
        {
          "output_type": "execute_result",
          "data": {
            "text/plain": [
              "((1795528, 28), 50.274784)"
            ]
          },
          "metadata": {},
          "execution_count": 95
        }
      ],
      "source": [
        "q1testXsp.shape, q1testXsp.size/10**6"
      ]
    },
    {
      "cell_type": "code",
      "source": [
        "q1testXsp = q1testXsp.drop('lexeme_id',axis=1)"
      ],
      "metadata": {
        "id": "DmJ1BMHB9QLo"
      },
      "execution_count": 96,
      "outputs": []
    },
    {
      "cell_type": "code",
      "source": [
        "q1test_y = decompress_pickle(path_name+\"Q1TEST_Y_pipe4.pbz2\") "
      ],
      "metadata": {
        "id": "RjBeh0I29QLo"
      },
      "execution_count": 97,
      "outputs": []
    },
    {
      "cell_type": "code",
      "execution_count": 98,
      "metadata": {
        "colab": {
          "base_uri": "https://localhost:8080/"
        },
        "outputId": "2aa5d2c5-d572-4f6e-c874-76bf65c69208",
        "id": "bSzjHist9QLo"
      },
      "outputs": [
        {
          "output_type": "execute_result",
          "data": {
            "text/plain": [
              "(pandas.core.frame.DataFrame, pandas.core.series.Series)"
            ]
          },
          "metadata": {},
          "execution_count": 98
        }
      ],
      "source": [
        "type(q1testXsp), type(q1test_y)"
      ]
    },
    {
      "cell_type": "code",
      "source": [
        "# scaling with mmscaler \n",
        "q1testXsp"
      ],
      "metadata": {
        "colab": {
          "base_uri": "https://localhost:8080/",
          "height": 488
        },
        "id": "nkdBp4ht9sap",
        "outputId": "6e5eacb8-ca63-4766-b272-62998173dae0"
      },
      "execution_count": 100,
      "outputs": [
        {
          "output_type": "execute_result",
          "data": {
            "text/plain": [
              "            delta  history_seen  history_frac  simoverdiff  EnglishIDF  \\\n",
              "23         444649             3      1.000000     0.000159    0.002856   \n",
              "26         678813             3      1.000000     0.000159    0.222868   \n",
              "30        8562343             3      1.000000     0.000159    1.106943   \n",
              "41        6645723             5      1.000000     0.000159    0.048971   \n",
              "50        7239420             3      0.666667     0.000159    3.385734   \n",
              "...           ...           ...           ...          ...         ...   \n",
              "12854159   441159             1      1.000000     0.000581    0.087485   \n",
              "12854165   441159             1      1.000000     0.000581    0.064179   \n",
              "12854166   441856             1      1.000000     0.000581    0.222868   \n",
              "12854203   177098             5      0.800000     0.000159    1.179408   \n",
              "12854209   409040             6      0.833333     0.000159    0.053036   \n",
              "\n",
              "          sf_length  L_dist_sf_noaccents_norm         0         1         2  \\\n",
              "23                1                  0.000000 -1.479051 -0.112675  0.246321   \n",
              "26                7                  1.000000 -1.425464 -0.863519 -0.095533   \n",
              "30                6                  0.666667 -1.505185  0.034833 -0.259207   \n",
              "41                2                  0.000000 -1.517464 -0.227870  0.089043   \n",
              "50                5                  0.200000 -1.502134  1.108158 -0.151994   \n",
              "...             ...                       ...       ...       ...       ...   \n",
              "12854159          4                  1.000000 -1.511092  0.100793 -0.249287   \n",
              "12854165          6                  0.666667 -1.517300  0.050340 -0.133527   \n",
              "12854166          6                  0.666667 -1.488297 -0.392285  0.178377   \n",
              "12854203         10                  0.200000 -1.543006  0.861492  0.137432   \n",
              "12854209          6                  0.833333 -1.481215 -0.238643  0.241258   \n",
              "\n",
              "          ...        10        11        12        13        14        15  \\\n",
              "23        ...  0.042690 -0.000190  0.012070 -0.009148 -0.025869  0.006845   \n",
              "26        ...  0.005911 -0.087069  0.075160 -0.206693  0.139943 -0.012878   \n",
              "30        ...  0.013261 -0.009184  0.015942  0.047982  0.000466 -0.050659   \n",
              "41        ... -0.026833  0.050615 -0.007909  0.016218 -0.015621  0.012019   \n",
              "50        ... -0.042713 -0.110415 -0.093129 -0.106432  0.120222 -0.036931   \n",
              "...       ...       ...       ...       ...       ...       ...       ...   \n",
              "12854159  ... -0.024546  0.013743 -0.017307  0.022002  0.008855  0.037489   \n",
              "12854165  ... -0.009789  0.031197  0.051799 -0.058076  0.014629  0.008831   \n",
              "12854166  ... -0.003565  0.004633 -0.067377  0.000899  0.009327 -0.025501   \n",
              "12854203  ... -0.019974 -0.054636 -0.101043 -0.060037  0.039488  0.001159   \n",
              "12854209  ... -0.001623 -0.020008 -0.018263 -0.007959 -0.057342 -0.036602   \n",
              "\n",
              "                16        17        18        19  \n",
              "23       -0.032530 -0.027243  0.018896 -0.009582  \n",
              "26       -0.040306  0.018671 -0.030123 -0.011078  \n",
              "30        0.068211  0.022031  0.022755 -0.027425  \n",
              "41       -0.001548 -0.014283 -0.003592 -0.016742  \n",
              "50        0.027935  0.040192  0.031517 -0.057896  \n",
              "...            ...       ...       ...       ...  \n",
              "12854159 -0.042158 -0.010851 -0.035558  0.003547  \n",
              "12854165  0.021586  0.022997 -0.074883  0.004688  \n",
              "12854166 -0.075739 -0.010130 -0.022092  0.023490  \n",
              "12854203 -0.045820 -0.001295 -0.095326 -0.068766  \n",
              "12854209 -0.042129 -0.060523  0.001147  0.031854  \n",
              "\n",
              "[1795528 rows x 27 columns]"
            ],
            "text/html": [
              "\n",
              "  <div id=\"df-53904854-a6d5-4065-9066-54f7e30c2da6\">\n",
              "    <div class=\"colab-df-container\">\n",
              "      <div>\n",
              "<style scoped>\n",
              "    .dataframe tbody tr th:only-of-type {\n",
              "        vertical-align: middle;\n",
              "    }\n",
              "\n",
              "    .dataframe tbody tr th {\n",
              "        vertical-align: top;\n",
              "    }\n",
              "\n",
              "    .dataframe thead th {\n",
              "        text-align: right;\n",
              "    }\n",
              "</style>\n",
              "<table border=\"1\" class=\"dataframe\">\n",
              "  <thead>\n",
              "    <tr style=\"text-align: right;\">\n",
              "      <th></th>\n",
              "      <th>delta</th>\n",
              "      <th>history_seen</th>\n",
              "      <th>history_frac</th>\n",
              "      <th>simoverdiff</th>\n",
              "      <th>EnglishIDF</th>\n",
              "      <th>sf_length</th>\n",
              "      <th>L_dist_sf_noaccents_norm</th>\n",
              "      <th>0</th>\n",
              "      <th>1</th>\n",
              "      <th>2</th>\n",
              "      <th>...</th>\n",
              "      <th>10</th>\n",
              "      <th>11</th>\n",
              "      <th>12</th>\n",
              "      <th>13</th>\n",
              "      <th>14</th>\n",
              "      <th>15</th>\n",
              "      <th>16</th>\n",
              "      <th>17</th>\n",
              "      <th>18</th>\n",
              "      <th>19</th>\n",
              "    </tr>\n",
              "  </thead>\n",
              "  <tbody>\n",
              "    <tr>\n",
              "      <th>23</th>\n",
              "      <td>444649</td>\n",
              "      <td>3</td>\n",
              "      <td>1.000000</td>\n",
              "      <td>0.000159</td>\n",
              "      <td>0.002856</td>\n",
              "      <td>1</td>\n",
              "      <td>0.000000</td>\n",
              "      <td>-1.479051</td>\n",
              "      <td>-0.112675</td>\n",
              "      <td>0.246321</td>\n",
              "      <td>...</td>\n",
              "      <td>0.042690</td>\n",
              "      <td>-0.000190</td>\n",
              "      <td>0.012070</td>\n",
              "      <td>-0.009148</td>\n",
              "      <td>-0.025869</td>\n",
              "      <td>0.006845</td>\n",
              "      <td>-0.032530</td>\n",
              "      <td>-0.027243</td>\n",
              "      <td>0.018896</td>\n",
              "      <td>-0.009582</td>\n",
              "    </tr>\n",
              "    <tr>\n",
              "      <th>26</th>\n",
              "      <td>678813</td>\n",
              "      <td>3</td>\n",
              "      <td>1.000000</td>\n",
              "      <td>0.000159</td>\n",
              "      <td>0.222868</td>\n",
              "      <td>7</td>\n",
              "      <td>1.000000</td>\n",
              "      <td>-1.425464</td>\n",
              "      <td>-0.863519</td>\n",
              "      <td>-0.095533</td>\n",
              "      <td>...</td>\n",
              "      <td>0.005911</td>\n",
              "      <td>-0.087069</td>\n",
              "      <td>0.075160</td>\n",
              "      <td>-0.206693</td>\n",
              "      <td>0.139943</td>\n",
              "      <td>-0.012878</td>\n",
              "      <td>-0.040306</td>\n",
              "      <td>0.018671</td>\n",
              "      <td>-0.030123</td>\n",
              "      <td>-0.011078</td>\n",
              "    </tr>\n",
              "    <tr>\n",
              "      <th>30</th>\n",
              "      <td>8562343</td>\n",
              "      <td>3</td>\n",
              "      <td>1.000000</td>\n",
              "      <td>0.000159</td>\n",
              "      <td>1.106943</td>\n",
              "      <td>6</td>\n",
              "      <td>0.666667</td>\n",
              "      <td>-1.505185</td>\n",
              "      <td>0.034833</td>\n",
              "      <td>-0.259207</td>\n",
              "      <td>...</td>\n",
              "      <td>0.013261</td>\n",
              "      <td>-0.009184</td>\n",
              "      <td>0.015942</td>\n",
              "      <td>0.047982</td>\n",
              "      <td>0.000466</td>\n",
              "      <td>-0.050659</td>\n",
              "      <td>0.068211</td>\n",
              "      <td>0.022031</td>\n",
              "      <td>0.022755</td>\n",
              "      <td>-0.027425</td>\n",
              "    </tr>\n",
              "    <tr>\n",
              "      <th>41</th>\n",
              "      <td>6645723</td>\n",
              "      <td>5</td>\n",
              "      <td>1.000000</td>\n",
              "      <td>0.000159</td>\n",
              "      <td>0.048971</td>\n",
              "      <td>2</td>\n",
              "      <td>0.000000</td>\n",
              "      <td>-1.517464</td>\n",
              "      <td>-0.227870</td>\n",
              "      <td>0.089043</td>\n",
              "      <td>...</td>\n",
              "      <td>-0.026833</td>\n",
              "      <td>0.050615</td>\n",
              "      <td>-0.007909</td>\n",
              "      <td>0.016218</td>\n",
              "      <td>-0.015621</td>\n",
              "      <td>0.012019</td>\n",
              "      <td>-0.001548</td>\n",
              "      <td>-0.014283</td>\n",
              "      <td>-0.003592</td>\n",
              "      <td>-0.016742</td>\n",
              "    </tr>\n",
              "    <tr>\n",
              "      <th>50</th>\n",
              "      <td>7239420</td>\n",
              "      <td>3</td>\n",
              "      <td>0.666667</td>\n",
              "      <td>0.000159</td>\n",
              "      <td>3.385734</td>\n",
              "      <td>5</td>\n",
              "      <td>0.200000</td>\n",
              "      <td>-1.502134</td>\n",
              "      <td>1.108158</td>\n",
              "      <td>-0.151994</td>\n",
              "      <td>...</td>\n",
              "      <td>-0.042713</td>\n",
              "      <td>-0.110415</td>\n",
              "      <td>-0.093129</td>\n",
              "      <td>-0.106432</td>\n",
              "      <td>0.120222</td>\n",
              "      <td>-0.036931</td>\n",
              "      <td>0.027935</td>\n",
              "      <td>0.040192</td>\n",
              "      <td>0.031517</td>\n",
              "      <td>-0.057896</td>\n",
              "    </tr>\n",
              "    <tr>\n",
              "      <th>...</th>\n",
              "      <td>...</td>\n",
              "      <td>...</td>\n",
              "      <td>...</td>\n",
              "      <td>...</td>\n",
              "      <td>...</td>\n",
              "      <td>...</td>\n",
              "      <td>...</td>\n",
              "      <td>...</td>\n",
              "      <td>...</td>\n",
              "      <td>...</td>\n",
              "      <td>...</td>\n",
              "      <td>...</td>\n",
              "      <td>...</td>\n",
              "      <td>...</td>\n",
              "      <td>...</td>\n",
              "      <td>...</td>\n",
              "      <td>...</td>\n",
              "      <td>...</td>\n",
              "      <td>...</td>\n",
              "      <td>...</td>\n",
              "      <td>...</td>\n",
              "    </tr>\n",
              "    <tr>\n",
              "      <th>12854159</th>\n",
              "      <td>441159</td>\n",
              "      <td>1</td>\n",
              "      <td>1.000000</td>\n",
              "      <td>0.000581</td>\n",
              "      <td>0.087485</td>\n",
              "      <td>4</td>\n",
              "      <td>1.000000</td>\n",
              "      <td>-1.511092</td>\n",
              "      <td>0.100793</td>\n",
              "      <td>-0.249287</td>\n",
              "      <td>...</td>\n",
              "      <td>-0.024546</td>\n",
              "      <td>0.013743</td>\n",
              "      <td>-0.017307</td>\n",
              "      <td>0.022002</td>\n",
              "      <td>0.008855</td>\n",
              "      <td>0.037489</td>\n",
              "      <td>-0.042158</td>\n",
              "      <td>-0.010851</td>\n",
              "      <td>-0.035558</td>\n",
              "      <td>0.003547</td>\n",
              "    </tr>\n",
              "    <tr>\n",
              "      <th>12854165</th>\n",
              "      <td>441159</td>\n",
              "      <td>1</td>\n",
              "      <td>1.000000</td>\n",
              "      <td>0.000581</td>\n",
              "      <td>0.064179</td>\n",
              "      <td>6</td>\n",
              "      <td>0.666667</td>\n",
              "      <td>-1.517300</td>\n",
              "      <td>0.050340</td>\n",
              "      <td>-0.133527</td>\n",
              "      <td>...</td>\n",
              "      <td>-0.009789</td>\n",
              "      <td>0.031197</td>\n",
              "      <td>0.051799</td>\n",
              "      <td>-0.058076</td>\n",
              "      <td>0.014629</td>\n",
              "      <td>0.008831</td>\n",
              "      <td>0.021586</td>\n",
              "      <td>0.022997</td>\n",
              "      <td>-0.074883</td>\n",
              "      <td>0.004688</td>\n",
              "    </tr>\n",
              "    <tr>\n",
              "      <th>12854166</th>\n",
              "      <td>441856</td>\n",
              "      <td>1</td>\n",
              "      <td>1.000000</td>\n",
              "      <td>0.000581</td>\n",
              "      <td>0.222868</td>\n",
              "      <td>6</td>\n",
              "      <td>0.666667</td>\n",
              "      <td>-1.488297</td>\n",
              "      <td>-0.392285</td>\n",
              "      <td>0.178377</td>\n",
              "      <td>...</td>\n",
              "      <td>-0.003565</td>\n",
              "      <td>0.004633</td>\n",
              "      <td>-0.067377</td>\n",
              "      <td>0.000899</td>\n",
              "      <td>0.009327</td>\n",
              "      <td>-0.025501</td>\n",
              "      <td>-0.075739</td>\n",
              "      <td>-0.010130</td>\n",
              "      <td>-0.022092</td>\n",
              "      <td>0.023490</td>\n",
              "    </tr>\n",
              "    <tr>\n",
              "      <th>12854203</th>\n",
              "      <td>177098</td>\n",
              "      <td>5</td>\n",
              "      <td>0.800000</td>\n",
              "      <td>0.000159</td>\n",
              "      <td>1.179408</td>\n",
              "      <td>10</td>\n",
              "      <td>0.200000</td>\n",
              "      <td>-1.543006</td>\n",
              "      <td>0.861492</td>\n",
              "      <td>0.137432</td>\n",
              "      <td>...</td>\n",
              "      <td>-0.019974</td>\n",
              "      <td>-0.054636</td>\n",
              "      <td>-0.101043</td>\n",
              "      <td>-0.060037</td>\n",
              "      <td>0.039488</td>\n",
              "      <td>0.001159</td>\n",
              "      <td>-0.045820</td>\n",
              "      <td>-0.001295</td>\n",
              "      <td>-0.095326</td>\n",
              "      <td>-0.068766</td>\n",
              "    </tr>\n",
              "    <tr>\n",
              "      <th>12854209</th>\n",
              "      <td>409040</td>\n",
              "      <td>6</td>\n",
              "      <td>0.833333</td>\n",
              "      <td>0.000159</td>\n",
              "      <td>0.053036</td>\n",
              "      <td>6</td>\n",
              "      <td>0.833333</td>\n",
              "      <td>-1.481215</td>\n",
              "      <td>-0.238643</td>\n",
              "      <td>0.241258</td>\n",
              "      <td>...</td>\n",
              "      <td>-0.001623</td>\n",
              "      <td>-0.020008</td>\n",
              "      <td>-0.018263</td>\n",
              "      <td>-0.007959</td>\n",
              "      <td>-0.057342</td>\n",
              "      <td>-0.036602</td>\n",
              "      <td>-0.042129</td>\n",
              "      <td>-0.060523</td>\n",
              "      <td>0.001147</td>\n",
              "      <td>0.031854</td>\n",
              "    </tr>\n",
              "  </tbody>\n",
              "</table>\n",
              "<p>1795528 rows × 27 columns</p>\n",
              "</div>\n",
              "      <button class=\"colab-df-convert\" onclick=\"convertToInteractive('df-53904854-a6d5-4065-9066-54f7e30c2da6')\"\n",
              "              title=\"Convert this dataframe to an interactive table.\"\n",
              "              style=\"display:none;\">\n",
              "        \n",
              "  <svg xmlns=\"http://www.w3.org/2000/svg\" height=\"24px\"viewBox=\"0 0 24 24\"\n",
              "       width=\"24px\">\n",
              "    <path d=\"M0 0h24v24H0V0z\" fill=\"none\"/>\n",
              "    <path d=\"M18.56 5.44l.94 2.06.94-2.06 2.06-.94-2.06-.94-.94-2.06-.94 2.06-2.06.94zm-11 1L8.5 8.5l.94-2.06 2.06-.94-2.06-.94L8.5 2.5l-.94 2.06-2.06.94zm10 10l.94 2.06.94-2.06 2.06-.94-2.06-.94-.94-2.06-.94 2.06-2.06.94z\"/><path d=\"M17.41 7.96l-1.37-1.37c-.4-.4-.92-.59-1.43-.59-.52 0-1.04.2-1.43.59L10.3 9.45l-7.72 7.72c-.78.78-.78 2.05 0 2.83L4 21.41c.39.39.9.59 1.41.59.51 0 1.02-.2 1.41-.59l7.78-7.78 2.81-2.81c.8-.78.8-2.07 0-2.86zM5.41 20L4 18.59l7.72-7.72 1.47 1.35L5.41 20z\"/>\n",
              "  </svg>\n",
              "      </button>\n",
              "      \n",
              "  <style>\n",
              "    .colab-df-container {\n",
              "      display:flex;\n",
              "      flex-wrap:wrap;\n",
              "      gap: 12px;\n",
              "    }\n",
              "\n",
              "    .colab-df-convert {\n",
              "      background-color: #E8F0FE;\n",
              "      border: none;\n",
              "      border-radius: 50%;\n",
              "      cursor: pointer;\n",
              "      display: none;\n",
              "      fill: #1967D2;\n",
              "      height: 32px;\n",
              "      padding: 0 0 0 0;\n",
              "      width: 32px;\n",
              "    }\n",
              "\n",
              "    .colab-df-convert:hover {\n",
              "      background-color: #E2EBFA;\n",
              "      box-shadow: 0px 1px 2px rgba(60, 64, 67, 0.3), 0px 1px 3px 1px rgba(60, 64, 67, 0.15);\n",
              "      fill: #174EA6;\n",
              "    }\n",
              "\n",
              "    [theme=dark] .colab-df-convert {\n",
              "      background-color: #3B4455;\n",
              "      fill: #D2E3FC;\n",
              "    }\n",
              "\n",
              "    [theme=dark] .colab-df-convert:hover {\n",
              "      background-color: #434B5C;\n",
              "      box-shadow: 0px 1px 3px 1px rgba(0, 0, 0, 0.15);\n",
              "      filter: drop-shadow(0px 1px 2px rgba(0, 0, 0, 0.3));\n",
              "      fill: #FFFFFF;\n",
              "    }\n",
              "  </style>\n",
              "\n",
              "      <script>\n",
              "        const buttonEl =\n",
              "          document.querySelector('#df-53904854-a6d5-4065-9066-54f7e30c2da6 button.colab-df-convert');\n",
              "        buttonEl.style.display =\n",
              "          google.colab.kernel.accessAllowed ? 'block' : 'none';\n",
              "\n",
              "        async function convertToInteractive(key) {\n",
              "          const element = document.querySelector('#df-53904854-a6d5-4065-9066-54f7e30c2da6');\n",
              "          const dataTable =\n",
              "            await google.colab.kernel.invokeFunction('convertToInteractive',\n",
              "                                                     [key], {});\n",
              "          if (!dataTable) return;\n",
              "\n",
              "          const docLinkHtml = 'Like what you see? Visit the ' +\n",
              "            '<a target=\"_blank\" href=https://colab.research.google.com/notebooks/data_table.ipynb>data table notebook</a>'\n",
              "            + ' to learn more about interactive tables.';\n",
              "          element.innerHTML = '';\n",
              "          dataTable['output_type'] = 'display_data';\n",
              "          await google.colab.output.renderOutput(dataTable, element);\n",
              "          const docLink = document.createElement('div');\n",
              "          docLink.innerHTML = docLinkHtml;\n",
              "          element.appendChild(docLink);\n",
              "        }\n",
              "      </script>\n",
              "    </div>\n",
              "  </div>\n",
              "  "
            ]
          },
          "metadata": {},
          "execution_count": 100
        }
      ]
    },
    {
      "cell_type": "code",
      "source": [
        "model_test = joblib.load(path_name+\"Q1_FS4_nn1\")"
      ],
      "metadata": {
        "id": "I2xtyyyn9f1v"
      },
      "execution_count": 101,
      "outputs": []
    },
    {
      "cell_type": "markdown",
      "source": [
        "scale the test set"
      ],
      "metadata": {
        "id": "TyDTkQqPDvxi"
      }
    },
    {
      "cell_type": "code",
      "source": [
        "q1testX_mm = mm_scaler1.transform(q1testXsp)"
      ],
      "metadata": {
        "colab": {
          "base_uri": "https://localhost:8080/"
        },
        "id": "uhUQIU4BDvHU",
        "outputId": "503aec21-ff86-487f-e296-f43e4f1613c1"
      },
      "execution_count": 103,
      "outputs": [
        {
          "output_type": "stream",
          "name": "stderr",
          "text": [
            "/usr/local/lib/python3.7/dist-packages/sklearn/utils/validation.py:1692: FutureWarning: Feature names only support names that are all strings. Got feature names with dtypes: ['int', 'str']. An error will be raised in 1.2.\n",
            "  FutureWarning,\n"
          ]
        }
      ]
    },
    {
      "cell_type": "code",
      "source": [
        "q1test_y_preds = model_test.predict(q1testX_mm)"
      ],
      "metadata": {
        "id": "u4hrjV-c9qC0"
      },
      "execution_count": 105,
      "outputs": []
    },
    {
      "cell_type": "code",
      "source": [
        "accuracy_score(q1test_y,np.where(q1test_y_preds>=0.5,1,0))"
      ],
      "metadata": {
        "colab": {
          "base_uri": "https://localhost:8080/"
        },
        "id": "XZP194THERuo",
        "outputId": "828c4a7e-65ff-46b6-c70a-d19c48c7532e"
      },
      "execution_count": 106,
      "outputs": [
        {
          "output_type": "execute_result",
          "data": {
            "text/plain": [
              "0.8450026955859223"
            ]
          },
          "metadata": {},
          "execution_count": 106
        }
      ]
    },
    {
      "cell_type": "code",
      "source": [
        "(q1test_y.shape[0] -q1test_y.sum())/q1test_y.shape[0]"
      ],
      "metadata": {
        "colab": {
          "base_uri": "https://localhost:8080/"
        },
        "id": "SoL0QNeiE4Cn",
        "outputId": "f176174e-aaef-4530-9a97-6bd9df5b725e"
      },
      "execution_count": 109,
      "outputs": [
        {
          "output_type": "execute_result",
          "data": {
            "text/plain": [
              "0.8445604858292379"
            ]
          },
          "metadata": {},
          "execution_count": 109
        }
      ]
    },
    {
      "cell_type": "code",
      "source": [
        "PrecisionRecallDisplay.from_predictions(q1test_y,q1test_y_preds)"
      ],
      "metadata": {
        "colab": {
          "base_uri": "https://localhost:8080/",
          "height": 296
        },
        "id": "YZLiTcaGFKvK",
        "outputId": "a46755a2-5a5b-4852-d13b-15eae5bccfee"
      },
      "execution_count": 111,
      "outputs": [
        {
          "output_type": "execute_result",
          "data": {
            "text/plain": [
              "<sklearn.metrics._plot.precision_recall_curve.PrecisionRecallDisplay at 0x7f6558346150>"
            ]
          },
          "metadata": {},
          "execution_count": 111
        },
        {
          "output_type": "display_data",
          "data": {
            "text/plain": [
              "<Figure size 432x288 with 1 Axes>"
            ],
            "image/png": "[encoded data removed]"
          },
          "metadata": {
            "needs_background": "light"
          }
        }
      ]
    },
    {
      "cell_type": "markdown",
      "source": [
        "Just above baseline. "
      ],
      "metadata": {
        "id": "ob1dGJ1lFF4I"
      }
    }
  ],
  "metadata": {
    "colab": {
      "collapsed_sections": [],
      "machine_shape": "hm",
      "name": "10_Duolingo_q1lpipe4_MLsplitting_modeling.ipynb",
      "provenance": [],
      "authorship_tag": "ABX9TyMShb7apOym9bb3TtPefMp0",
      "include_colab_link": true
    },
    "gpuClass": "standard",
    "kernelspec": {
      "display_name": "Python 3",
      "name": "python3"
    },
    "language_info": {
      "name": "python"
    },
    "accelerator": "GPU"
  },
  "nbformat": 4,
  "nbformat_minor": 0
}