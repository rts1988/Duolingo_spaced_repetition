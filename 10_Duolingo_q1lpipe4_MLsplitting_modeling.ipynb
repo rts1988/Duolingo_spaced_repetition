{
  "cells": [
    {
      "cell_type": "markdown",
      "metadata": {
        "id": "view-in-github",
        "colab_type": "text"
      },
      "source": [
        "<a href=\"https://colab.research.google.com/github/rts1988/Duolingo_spaced_repetition/blob/main/10_Duolingo_q1lpipe4_MLsplitting_modeling.ipynb\" target=\"_parent\"><img src=\"https://colab.research.google.com/assets/colab-badge.svg\" alt=\"Open In Colab\"/></a>"
      ]
    },
    {
      "cell_type": "markdown",
      "source": [
        "<font color='cornflowerblue' size=4>Introduction</font>\n",
        "\n",
        "Featureset4 for addressing Q1 (what makes a word easy or difficult to remember)with word vectors has been preprocessed.\n",
        "\n",
        "The training set contains around 8 million records with 16% records with forgotten words. Since the dataset is imbalanced, and the dataset is large enough, downsampling will be done.\n",
        "\n",
        "Plan:\n",
        "\n",
        "1. Split datasets into training and validation with 80-20. \n",
        "2. Downsample training set to equal class proportions.\n",
        "\n",
        "Classical ML models: understanding overall feature importances.\n",
        "Prep: from the downsampled training set, select at most 1 million records, and fit the following models\n",
        "\n",
        "1. Logistic Regression (L2 penalty, vary C and class weight)\n",
        "2. Decision Tree (vary max_depth, class_weight)\n",
        "\n",
        "\n",
        "Ensemble techniques:\n",
        "Prep: Use the full downsampled dataset\n",
        "1. Random Forest (vary n_estimators, )\n",
        "2. XGBoost\n",
        "3. AdaBoost\n",
        "\n",
        "Neural Net (keras)\n",
        "1. Dense architecture\n",
        "2\n"
      ],
      "metadata": {
        "id": "O70b2pW5u66c"
      }
    },
    {
      "cell_type": "markdown",
      "source": [
        "## <font color = 'cornflowerblue' size=4>Splitting trainingset into train and validation sets</font>"
      ],
      "metadata": {
        "id": "Jr38LEKQxR9z"
      }
    },
    {
      "cell_type": "markdown",
      "metadata": {
        "id": "KnpvNDT7lpB6"
      },
      "source": [
        "Importing libraries, mounting google drive, and getting Q1TRAIN pipe1 set. "
      ]
    },
    {
      "cell_type": "code",
      "execution_count": 1,
      "metadata": {
        "colab": {
          "base_uri": "https://localhost:8080/"
        },
        "id": "R-WTApfQPI6o",
        "outputId": "7c53ef4e-dee4-4395-98bc-c5f3a22a5f13"
      },
      "outputs": [
        {
          "output_type": "stream",
          "name": "stdout",
          "text": [
            "Mounted at /content/drive\n"
          ]
        }
      ],
      "source": [
        "import warnings\n",
        "warnings.filterwarnings('ignore')\n",
        "\n",
        "import bz2\n",
        "import pickle\n",
        "import _pickle as cPickle\n",
        "import pandas as pd\n",
        "import seaborn as sns\n",
        "import matplotlib.pyplot as plt\n",
        "import numpy as np\n",
        "\n",
        "from google.colab import drive\n",
        "drive.mount('/content/drive')\n",
        "\n",
        "def decompress_pickle(file):\n",
        " data = bz2.BZ2File(file, 'rb')\n",
        " data = cPickle.load(data)\n",
        " return data\n",
        "\n",
        "def compressed_pickle(title, data):  # do not add extension in filename\n",
        " with bz2.BZ2File(title + '.pbz2', 'w') as f: \n",
        "  cPickle.dump(data, f)\n",
        "\n",
        "path_name = '/content/drive/MyDrive/'"
      ]
    },
    {
      "cell_type": "code",
      "execution_count": 2,
      "metadata": {
        "id": "EWDuQfNJPuhp"
      },
      "outputs": [],
      "source": [
        "q1trainXsp = decompress_pickle(path_name+\"Q1TRAIN_pipe4.pbz2\") "
      ]
    },
    {
      "cell_type": "code",
      "execution_count": 3,
      "metadata": {
        "colab": {
          "base_uri": "https://localhost:8080/"
        },
        "id": "vhl6x5D-PvMh",
        "outputId": "ee43f243-67d7-4a87-abb7-c4f87d463480"
      },
      "outputs": [
        {
          "output_type": "execute_result",
          "data": {
            "text/plain": [
              "((8070561, 28), 225.975708)"
            ]
          },
          "metadata": {},
          "execution_count": 3
        }
      ],
      "source": [
        "q1trainXsp.shape, q1trainXsp.size/10**6"
      ]
    },
    {
      "cell_type": "code",
      "source": [
        "q1trainXsp = q1trainXsp.drop('lexeme_id',axis=1)"
      ],
      "metadata": {
        "id": "P49dSAf-W13u"
      },
      "execution_count": 4,
      "outputs": []
    },
    {
      "cell_type": "code",
      "source": [
        "q1train_y = decompress_pickle(path_name+\"Q1TRAIN_Y_pipe4.pbz2\") "
      ],
      "metadata": {
        "id": "bj7cTP1sy-dY"
      },
      "execution_count": 5,
      "outputs": []
    },
    {
      "cell_type": "code",
      "execution_count": 6,
      "metadata": {
        "colab": {
          "base_uri": "https://localhost:8080/"
        },
        "id": "G9QMPnwGmpPT",
        "outputId": "61931e64-5232-4de3-d913-d54520e5eb1b"
      },
      "outputs": [
        {
          "output_type": "execute_result",
          "data": {
            "text/plain": [
              "(pandas.core.frame.DataFrame, pandas.core.series.Series)"
            ]
          },
          "metadata": {},
          "execution_count": 6
        }
      ],
      "source": [
        "type(q1trainXsp), type(q1train_y)"
      ]
    },
    {
      "cell_type": "code",
      "execution_count": 7,
      "metadata": {
        "id": "Mzwo-xM9nAQn"
      },
      "outputs": [],
      "source": [
        "from scipy.sparse import coo_matrix"
      ]
    },
    {
      "cell_type": "markdown",
      "source": [
        "## Splitting into training and validation sets 90-10"
      ],
      "metadata": {
        "id": "BV2qGgX0zRQa"
      }
    },
    {
      "cell_type": "markdown",
      "metadata": {
        "id": "xnaMooTbn_2O"
      },
      "source": [
        "splitting into 80-20 training and validation set with a random state = 5. (had to remove stratify argument, because it doesn't work for sparse arrays)"
      ]
    },
    {
      "cell_type": "code",
      "execution_count": 8,
      "metadata": {
        "id": "ZRtwPyivnH9X"
      },
      "outputs": [],
      "source": [
        "from sklearn.model_selection import train_test_split\n",
        "\n",
        "Xq1_train, Xq1_valid, yq1_train, yq1_valid = train_test_split(q1trainXsp,q1train_y,test_size=0.1,random_state=5)"
      ]
    },
    {
      "cell_type": "code",
      "execution_count": 9,
      "metadata": {
        "colab": {
          "base_uri": "https://localhost:8080/"
        },
        "id": "nMhbmTs9oHd0",
        "outputId": "36dae99d-73cc-42b5-a811-0c5754b98c99"
      },
      "outputs": [
        {
          "output_type": "execute_result",
          "data": {
            "text/plain": [
              "((7263504, 27), (807057, 27), (7263504,), (807057,))"
            ]
          },
          "metadata": {},
          "execution_count": 9
        }
      ],
      "source": [
        "Xq1_train.shape, Xq1_valid.shape, yq1_train.shape, yq1_valid.shape"
      ]
    },
    {
      "cell_type": "markdown",
      "metadata": {
        "id": "3uYfRNqVpjFt"
      },
      "source": [
        "Fraction of ones in the train and validation sets"
      ]
    },
    {
      "cell_type": "code",
      "execution_count": 10,
      "metadata": {
        "colab": {
          "base_uri": "https://localhost:8080/"
        },
        "id": "yrRvYfHeoNrA",
        "outputId": "d487d6d3-6356-4cbe-c0c2-3daf10ce2a9b"
      },
      "outputs": [
        {
          "output_type": "execute_result",
          "data": {
            "text/plain": [
              "(0.16344962431355445, 0.1641990590503521)"
            ]
          },
          "metadata": {},
          "execution_count": 10
        }
      ],
      "source": [
        "yq1_train.sum()/yq1_train.shape[0], yq1_valid.sum()/yq1_valid.shape[0]"
      ]
    },
    {
      "cell_type": "markdown",
      "source": [
        "## <font color = 'cornflowerblue' size=4>Classical models:\n",
        "\n",
        "The training set is now downsampled and reduced to 1 milion records for a quick run of classical models to see what the most important features are. "
      ],
      "metadata": {
        "id": "yZ6740n1yBxc"
      }
    },
    {
      "cell_type": "markdown",
      "source": [
        "### <font color = 'cornflowerblue' size=3>Downsampling training dataset</font>"
      ],
      "metadata": {
        "id": "_Wm1uNTRymID"
      }
    },
    {
      "cell_type": "code",
      "source": [
        "# creating sparse dataframe from sparse matrix\n",
        "df = pd.DataFrame(Xq1_train)\n",
        "# combining with y\n",
        "df['y'] = yq1_train\n",
        "\n",
        "# nsplitting sparse dataframe by class values\n",
        "df0 = df[df['y']==0]\n",
        "df1 = df[df['y']==1]\n",
        "\n",
        "# number of positive samples\n",
        "numdf1 = df1.shape[0]\n",
        "\n",
        "# what fraction of df0 do we need to equal the numbers of df1?\n",
        "fractiondf0 = numdf1/df0.shape[0]\n",
        "\n",
        "# sampling from negative class samples to get only the fraction needed \n",
        "df0_ = df0.sample(frac = fractiondf0,random_state = 15)\n",
        "\n",
        "# recombine and shuffle downsampled negative samples df0_ and all of positive samples df1:\n",
        "df_downsampled = pd.concat([df0_, df1],axis=0).sample(frac=1,random_state=20)\n",
        "\n"
      ],
      "metadata": {
        "id": "b27zX0afyQrB"
      },
      "execution_count": 11,
      "outputs": []
    },
    {
      "cell_type": "code",
      "source": [
        "# create the sparse matrices ready for training\n",
        "yq1_train_ds = df_downsampled['y']\n",
        "Xq1_train_ds = df_downsampled.drop('y',axis=1)\n",
        "\n"
      ],
      "metadata": {
        "id": "0HrMjwbb3xHI"
      },
      "execution_count": 12,
      "outputs": []
    },
    {
      "cell_type": "code",
      "source": [
        "Xq1_train_ds.shape, yq1_train_ds.shape, numdf1, df0_.shape, df1.shape, df0.shape, df.shape"
      ],
      "metadata": {
        "colab": {
          "base_uri": "https://localhost:8080/"
        },
        "id": "Wf6ans3p1Qrj",
        "outputId": "da4753f5-d048-42e3-84f0-4945cf036f7d"
      },
      "execution_count": 13,
      "outputs": [
        {
          "output_type": "execute_result",
          "data": {
            "text/plain": [
              "((2374434, 27),\n",
              " (2374434,),\n",
              " 1187217,\n",
              " (1187217, 28),\n",
              " (1187217, 28),\n",
              " (6076287, 28),\n",
              " (7263504, 28))"
            ]
          },
          "metadata": {},
          "execution_count": 13
        }
      ]
    },
    {
      "cell_type": "code",
      "source": [
        "yq1_train_ds.sum()/yq1_train_ds.shape[0]"
      ],
      "metadata": {
        "colab": {
          "base_uri": "https://localhost:8080/"
        },
        "id": "IC5Tj7aC8U73",
        "outputId": "75c9870e-a5b5-49e1-b744-325a8f7e182e"
      },
      "execution_count": 14,
      "outputs": [
        {
          "output_type": "execute_result",
          "data": {
            "text/plain": [
              "0.5"
            ]
          },
          "metadata": {},
          "execution_count": 14
        }
      ]
    },
    {
      "cell_type": "markdown",
      "source": [
        "Since there are around 1.33 million records in the downsampled dataset, no more reduction is necessary. The number of positive and negative samples is equal. "
      ],
      "metadata": {
        "id": "Tv6CtVyV4PDo"
      }
    },
    {
      "cell_type": "markdown",
      "source": [
        "### <font color= 'cornflowerblue' size=3>Scaling downsampled dataset</font>"
      ],
      "metadata": {
        "id": "WNAeVzp15e7i"
      }
    },
    {
      "cell_type": "markdown",
      "metadata": {
        "id": "DWZtKI4Cppws"
      },
      "source": [
        "They are about the same, we will use this split to test a number of models. They are saved below:\n",
        "\n",
        "First, we scale and transform the data using the min-max scaler. "
      ]
    },
    {
      "cell_type": "code",
      "execution_count": 15,
      "metadata": {
        "id": "Rchgc0dFqH_C",
        "colab": {
          "base_uri": "https://localhost:8080/"
        },
        "outputId": "f876387f-05ae-46d6-f209-ac14fc647447"
      },
      "outputs": [
        {
          "output_type": "stream",
          "name": "stderr",
          "text": [
            "/usr/local/lib/python3.7/dist-packages/sklearn/utils/validation.py:1692: FutureWarning: Feature names only support names that are all strings. Got feature names with dtypes: ['int', 'str']. An error will be raised in 1.2.\n",
            "  FutureWarning,\n",
            "/usr/local/lib/python3.7/dist-packages/sklearn/utils/validation.py:1692: FutureWarning: Feature names only support names that are all strings. Got feature names with dtypes: ['int', 'str']. An error will be raised in 1.2.\n",
            "  FutureWarning,\n",
            "/usr/local/lib/python3.7/dist-packages/sklearn/utils/validation.py:1692: FutureWarning: Feature names only support names that are all strings. Got feature names with dtypes: ['int', 'str']. An error will be raised in 1.2.\n",
            "  FutureWarning,\n"
          ]
        }
      ],
      "source": [
        "from sklearn.preprocessing import MaxAbsScaler # used because sparse array not supported by MinMaxScaler\n",
        "mm_scaler = MaxAbsScaler()\n",
        "\n",
        "mm_scaler.fit(Xq1_train_ds[[col for col in Xq1_train_ds if col!='lexeme_id']])\n",
        "Xq1_mm_train_ds = mm_scaler.transform(Xq1_train_ds)\n",
        "Xq1_mm_valid_ds = mm_scaler.transform(Xq1_valid) # downsampled scaler is applied. \n"
      ]
    },
    {
      "cell_type": "code",
      "source": [
        "Xq1_mm_train_ds.shape"
      ],
      "metadata": {
        "colab": {
          "base_uri": "https://localhost:8080/"
        },
        "id": "yYZakC7HXOPL",
        "outputId": "5dda85b1-0da4-42aa-a2c9-54198a5faf64"
      },
      "execution_count": 16,
      "outputs": [
        {
          "output_type": "execute_result",
          "data": {
            "text/plain": [
              "(2374434, 27)"
            ]
          },
          "metadata": {},
          "execution_count": 16
        }
      ]
    },
    {
      "cell_type": "markdown",
      "metadata": {
        "id": "4Tz2u-0Cq-jR"
      },
      "source": [
        "###<font color = 'cornflowerblue' size= 3>Logistic regression</font>\n",
        "\n",
        "Hyperparamters:\n",
        "1. C\n",
        "2. class weights\n"
      ]
    },
    {
      "cell_type": "code",
      "source": [
        "from sklearn.linear_model import LogisticRegression\n",
        "\n",
        "from sklearn.model_selection import cross_validate # return scores for many metrics\n",
        "\n",
        "from sklearn.metrics import make_scorer # to define a list of scoring metrics to use\n",
        "\n",
        "from sklearn.model_selection import GridSearchCV # to search hyperparameters in a grid \n",
        "\n",
        "classweight_vals = [{0:0.9,1:0.1},{0:0.01,1:0.99}]\n",
        "C_vals = [10**(-3),1,10**3]\n",
        "\n",
        "para_dict =dict()\n",
        "para_dict['class_weight'] = classweight_vals\n",
        "para_dict['C'] = C_vals\n",
        "\n",
        "\n",
        "# iterate over \n",
        "logreg = LogisticRegression(solver = 'lbfgs',max_iter=50)\n",
        "scoring_metrics = ['accuracy','f1','average_precision','roc_auc','recall']\n",
        "\n",
        "gridsearch_obj = GridSearchCV(logreg, n_jobs = 4, param_grid = para_dict,cv=3,scoring = scoring_metrics, verbose=1,refit=False)\n",
        "\n",
        "gridsearch_obj.fit(Xq1_mm_train_ds,yq1_train_ds)"
      ],
      "metadata": {
        "colab": {
          "base_uri": "https://localhost:8080/"
        },
        "id": "RgViWIk06f_n",
        "outputId": "3b8e2c0f-81c3-4221-efce-717abcab2ae9"
      },
      "execution_count": 17,
      "outputs": [
        {
          "output_type": "stream",
          "name": "stdout",
          "text": [
            "Fitting 3 folds for each of 6 candidates, totalling 18 fits\n"
          ]
        },
        {
          "output_type": "execute_result",
          "data": {
            "text/plain": [
              "GridSearchCV(cv=3, estimator=LogisticRegression(max_iter=50), n_jobs=4,\n",
              "             param_grid={'C': [0.001, 1, 1000],\n",
              "                         'class_weight': [{0: 0.9, 1: 0.1},\n",
              "                                          {0: 0.01, 1: 0.99}]},\n",
              "             refit=False,\n",
              "             scoring=['accuracy', 'f1', 'average_precision', 'roc_auc',\n",
              "                      'recall'],\n",
              "             verbose=1)"
            ]
          },
          "metadata": {},
          "execution_count": 17
        }
      ]
    },
    {
      "cell_type": "code",
      "source": [
        "gridcv = pd.DataFrame(gridsearch_obj.cv_results_)\n",
        "np.around(gridcv[['param_class_weight','param_C','mean_fit_time',  'mean_score_time', \n",
        "       'mean_test_accuracy','mean_test_average_precision','mean_test_roc_auc','mean_test_f1','mean_test_recall']],2)"
      ],
      "metadata": {
        "colab": {
          "base_uri": "https://localhost:8080/",
          "height": 346
        },
        "id": "wewl2QoN77jD",
        "outputId": "9a600575-7f43-49c9-c292-1078f5d0b689"
      },
      "execution_count": 21,
      "outputs": [
        {
          "output_type": "error",
          "ename": "KeyError",
          "evalue": "ignored",
          "traceback": [
            "\u001b[0;31m---------------------------------------------------------------------------\u001b[0m",
            "\u001b[0;31mKeyError\u001b[0m                                  Traceback (most recent call last)",
            "\u001b[0;32m<ipython-input-21-e797c2323218>\u001b[0m in \u001b[0;36m<module>\u001b[0;34m()\u001b[0m\n\u001b[1;32m      1\u001b[0m \u001b[0mgridcv\u001b[0m \u001b[0;34m=\u001b[0m \u001b[0mpd\u001b[0m\u001b[0;34m.\u001b[0m\u001b[0mDataFrame\u001b[0m\u001b[0;34m(\u001b[0m\u001b[0mgridsearch_obj\u001b[0m\u001b[0;34m.\u001b[0m\u001b[0mcv_results_\u001b[0m\u001b[0;34m)\u001b[0m\u001b[0;34m\u001b[0m\u001b[0;34m\u001b[0m\u001b[0m\n\u001b[1;32m      2\u001b[0m np.around(gridcv[['param_C','mean_fit_time',  'mean_score_time', \n\u001b[0;32m----> 3\u001b[0;31m        'mean_test_accuracy','mean_test_average_precision','mean_test_roc_auc','mean_test_f1','mean_test_recall']],2)\n\u001b[0m",
            "\u001b[0;32m/usr/local/lib/python3.7/dist-packages/pandas/core/frame.py\u001b[0m in \u001b[0;36m__getitem__\u001b[0;34m(self, key)\u001b[0m\n\u001b[1;32m   3462\u001b[0m             \u001b[0;32mif\u001b[0m \u001b[0mis_iterator\u001b[0m\u001b[0;34m(\u001b[0m\u001b[0mkey\u001b[0m\u001b[0;34m)\u001b[0m\u001b[0;34m:\u001b[0m\u001b[0;34m\u001b[0m\u001b[0;34m\u001b[0m\u001b[0m\n\u001b[1;32m   3463\u001b[0m                 \u001b[0mkey\u001b[0m \u001b[0;34m=\u001b[0m \u001b[0mlist\u001b[0m\u001b[0;34m(\u001b[0m\u001b[0mkey\u001b[0m\u001b[0;34m)\u001b[0m\u001b[0;34m\u001b[0m\u001b[0;34m\u001b[0m\u001b[0m\n\u001b[0;32m-> 3464\u001b[0;31m             \u001b[0mindexer\u001b[0m \u001b[0;34m=\u001b[0m \u001b[0mself\u001b[0m\u001b[0;34m.\u001b[0m\u001b[0mloc\u001b[0m\u001b[0;34m.\u001b[0m\u001b[0m_get_listlike_indexer\u001b[0m\u001b[0;34m(\u001b[0m\u001b[0mkey\u001b[0m\u001b[0;34m,\u001b[0m \u001b[0maxis\u001b[0m\u001b[0;34m=\u001b[0m\u001b[0;36m1\u001b[0m\u001b[0;34m)\u001b[0m\u001b[0;34m[\u001b[0m\u001b[0;36m1\u001b[0m\u001b[0;34m]\u001b[0m\u001b[0;34m\u001b[0m\u001b[0;34m\u001b[0m\u001b[0m\n\u001b[0m\u001b[1;32m   3465\u001b[0m \u001b[0;34m\u001b[0m\u001b[0m\n\u001b[1;32m   3466\u001b[0m         \u001b[0;31m# take() does not accept boolean indexers\u001b[0m\u001b[0;34m\u001b[0m\u001b[0;34m\u001b[0m\u001b[0;34m\u001b[0m\u001b[0m\n",
            "\u001b[0;32m/usr/local/lib/python3.7/dist-packages/pandas/core/indexing.py\u001b[0m in \u001b[0;36m_get_listlike_indexer\u001b[0;34m(self, key, axis)\u001b[0m\n\u001b[1;32m   1312\u001b[0m             \u001b[0mkeyarr\u001b[0m\u001b[0;34m,\u001b[0m \u001b[0mindexer\u001b[0m\u001b[0;34m,\u001b[0m \u001b[0mnew_indexer\u001b[0m \u001b[0;34m=\u001b[0m \u001b[0max\u001b[0m\u001b[0;34m.\u001b[0m\u001b[0m_reindex_non_unique\u001b[0m\u001b[0;34m(\u001b[0m\u001b[0mkeyarr\u001b[0m\u001b[0;34m)\u001b[0m\u001b[0;34m\u001b[0m\u001b[0;34m\u001b[0m\u001b[0m\n\u001b[1;32m   1313\u001b[0m \u001b[0;34m\u001b[0m\u001b[0m\n\u001b[0;32m-> 1314\u001b[0;31m         \u001b[0mself\u001b[0m\u001b[0;34m.\u001b[0m\u001b[0m_validate_read_indexer\u001b[0m\u001b[0;34m(\u001b[0m\u001b[0mkeyarr\u001b[0m\u001b[0;34m,\u001b[0m \u001b[0mindexer\u001b[0m\u001b[0;34m,\u001b[0m \u001b[0maxis\u001b[0m\u001b[0;34m)\u001b[0m\u001b[0;34m\u001b[0m\u001b[0;34m\u001b[0m\u001b[0m\n\u001b[0m\u001b[1;32m   1315\u001b[0m \u001b[0;34m\u001b[0m\u001b[0m\n\u001b[1;32m   1316\u001b[0m         if needs_i8_conversion(ax.dtype) or isinstance(\n",
            "\u001b[0;32m/usr/local/lib/python3.7/dist-packages/pandas/core/indexing.py\u001b[0m in \u001b[0;36m_validate_read_indexer\u001b[0;34m(self, key, indexer, axis)\u001b[0m\n\u001b[1;32m   1375\u001b[0m \u001b[0;34m\u001b[0m\u001b[0m\n\u001b[1;32m   1376\u001b[0m             \u001b[0mnot_found\u001b[0m \u001b[0;34m=\u001b[0m \u001b[0mlist\u001b[0m\u001b[0;34m(\u001b[0m\u001b[0mensure_index\u001b[0m\u001b[0;34m(\u001b[0m\u001b[0mkey\u001b[0m\u001b[0;34m)\u001b[0m\u001b[0;34m[\u001b[0m\u001b[0mmissing_mask\u001b[0m\u001b[0;34m.\u001b[0m\u001b[0mnonzero\u001b[0m\u001b[0;34m(\u001b[0m\u001b[0;34m)\u001b[0m\u001b[0;34m[\u001b[0m\u001b[0;36m0\u001b[0m\u001b[0;34m]\u001b[0m\u001b[0;34m]\u001b[0m\u001b[0;34m.\u001b[0m\u001b[0munique\u001b[0m\u001b[0;34m(\u001b[0m\u001b[0;34m)\u001b[0m\u001b[0;34m)\u001b[0m\u001b[0;34m\u001b[0m\u001b[0;34m\u001b[0m\u001b[0m\n\u001b[0;32m-> 1377\u001b[0;31m             \u001b[0;32mraise\u001b[0m \u001b[0mKeyError\u001b[0m\u001b[0;34m(\u001b[0m\u001b[0;34mf\"{not_found} not in index\"\u001b[0m\u001b[0;34m)\u001b[0m\u001b[0;34m\u001b[0m\u001b[0;34m\u001b[0m\u001b[0m\n\u001b[0m\u001b[1;32m   1378\u001b[0m \u001b[0;34m\u001b[0m\u001b[0m\n\u001b[1;32m   1379\u001b[0m \u001b[0;34m\u001b[0m\u001b[0m\n",
            "\u001b[0;31mKeyError\u001b[0m: \"['param_C'] not in index\""
          ]
        }
      ]
    },
    {
      "cell_type": "markdown",
      "source": [
        "Changing C had no real impact on the accuracy, which is still at the baseline value. Recall is either 1 or 0, indicating that the models either predict all 1s or all 0s.\n",
        "\n",
        "Logistic regression does not seem promising to train on the full dataset, nor is it likely at 0.5 accuracy to give any information of feature importance. \n",
        "\n",
        "Decision trees are tried next. "
      ],
      "metadata": {
        "id": "jAN6hlww8Kqz"
      }
    },
    {
      "cell_type": "markdown",
      "source": [
        "### <font color='cornflowerblue' size=3>Decision Trees</font>\n",
        "\n",
        "The downsampled dataset is trained on decision trees with varying class weight and max_depth."
      ],
      "metadata": {
        "id": "_sQ9h4WV9Ac0"
      }
    },
    {
      "cell_type": "code",
      "source": [
        "from sklearn.tree import DecisionTreeClassifier\n",
        "\n",
        "dtree = DecisionTreeClassifier()\n",
        "\n",
        "#classweight_vals = [{0:0.45,1:0.55},{0:0.55,1:0.45}]\n",
        "maxdepth_vals = [5,30]\n",
        "\n",
        "para_dict =dict()\n",
        "#para_dict['class_weight'] = classweight_vals\n",
        "para_dict['max_depth'] = maxdepth_vals\n",
        "\n",
        "\n",
        "scoring_metrics = ['accuracy','f1','average_precision','roc_auc','recall']\n",
        "\n",
        "gridsearch_obj = GridSearchCV(dtree, param_grid = para_dict,cv=3,scoring = scoring_metrics, verbose=3,refit=False)\n",
        "\n",
        "gridsearch_obj.fit(Xq1_mm_train_ds,yq1_train_ds)"
      ],
      "metadata": {
        "colab": {
          "base_uri": "https://localhost:8080/"
        },
        "id": "p63N_BS19N81",
        "outputId": "ff7a6fd2-e2a3-43e3-b00e-1875584107d0"
      },
      "execution_count": 19,
      "outputs": [
        {
          "output_type": "stream",
          "name": "stdout",
          "text": [
            "Fitting 3 folds for each of 2 candidates, totalling 6 fits\n",
            "[CV 1/3] END max_depth=5; accuracy: (test=0.575) average_precision: (test=0.599) f1: (test=0.540) recall: (test=0.498) roc_auc: (test=0.607) total time=  12.9s\n",
            "[CV 2/3] END max_depth=5; accuracy: (test=0.576) average_precision: (test=0.598) f1: (test=0.541) recall: (test=0.499) roc_auc: (test=0.608) total time=  12.6s\n",
            "[CV 3/3] END max_depth=5; accuracy: (test=0.576) average_precision: (test=0.599) f1: (test=0.536) recall: (test=0.490) roc_auc: (test=0.607) total time=  12.7s\n",
            "[CV 1/3] END max_depth=30; accuracy: (test=0.556) average_precision: (test=0.534) f1: (test=0.557) recall: (test=0.559) roc_auc: (test=0.554) total time=  36.8s\n",
            "[CV 2/3] END max_depth=30; accuracy: (test=0.556) average_precision: (test=0.536) f1: (test=0.554) recall: (test=0.552) roc_auc: (test=0.555) total time=  38.3s\n",
            "[CV 3/3] END max_depth=30; accuracy: (test=0.555) average_precision: (test=0.534) f1: (test=0.554) recall: (test=0.553) roc_auc: (test=0.553) total time=  38.5s\n"
          ]
        },
        {
          "output_type": "execute_result",
          "data": {
            "text/plain": [
              "GridSearchCV(cv=3, estimator=DecisionTreeClassifier(),\n",
              "             param_grid={'max_depth': [5, 30]}, refit=False,\n",
              "             scoring=['accuracy', 'f1', 'average_precision', 'roc_auc',\n",
              "                      'recall'],\n",
              "             verbose=3)"
            ]
          },
          "metadata": {},
          "execution_count": 19
        }
      ]
    },
    {
      "cell_type": "code",
      "source": [
        "gridcv = pd.DataFrame(gridsearch_obj.cv_results_)\n",
        "np.around(gridcv[['param_max_depth','mean_fit_time',  'mean_score_time', \n",
        "       'mean_test_accuracy','mean_test_average_precision','mean_test_roc_auc','mean_test_f1','mean_test_recall']],2)"
      ],
      "metadata": {
        "id": "CC9B-XDv9rtY",
        "colab": {
          "base_uri": "https://localhost:8080/",
          "height": 112
        },
        "outputId": "b14f06a1-eee7-465b-8a68-15d1de2b81d8"
      },
      "execution_count": 22,
      "outputs": [
        {
          "output_type": "execute_result",
          "data": {
            "text/plain": [
              "  param_max_depth  mean_fit_time  mean_score_time  mean_test_accuracy  \\\n",
              "0               5          11.27             1.46                0.58   \n",
              "1              30          35.44             2.44                0.56   \n",
              "\n",
              "   mean_test_average_precision  mean_test_roc_auc  mean_test_f1  \\\n",
              "0                         0.60               0.61          0.54   \n",
              "1                         0.53               0.55          0.56   \n",
              "\n",
              "   mean_test_recall  \n",
              "0              0.50  \n",
              "1              0.55  "
            ],
            "text/html": [
              "\n",
              "  <div id=\"df-c3431bb5-d25f-40f1-b482-e4578b648862\">\n",
              "    <div class=\"colab-df-container\">\n",
              "      <div>\n",
              "<style scoped>\n",
              "    .dataframe tbody tr th:only-of-type {\n",
              "        vertical-align: middle;\n",
              "    }\n",
              "\n",
              "    .dataframe tbody tr th {\n",
              "        vertical-align: top;\n",
              "    }\n",
              "\n",
              "    .dataframe thead th {\n",
              "        text-align: right;\n",
              "    }\n",
              "</style>\n",
              "<table border=\"1\" class=\"dataframe\">\n",
              "  <thead>\n",
              "    <tr style=\"text-align: right;\">\n",
              "      <th></th>\n",
              "      <th>param_max_depth</th>\n",
              "      <th>mean_fit_time</th>\n",
              "      <th>mean_score_time</th>\n",
              "      <th>mean_test_accuracy</th>\n",
              "      <th>mean_test_average_precision</th>\n",
              "      <th>mean_test_roc_auc</th>\n",
              "      <th>mean_test_f1</th>\n",
              "      <th>mean_test_recall</th>\n",
              "    </tr>\n",
              "  </thead>\n",
              "  <tbody>\n",
              "    <tr>\n",
              "      <th>0</th>\n",
              "      <td>5</td>\n",
              "      <td>11.27</td>\n",
              "      <td>1.46</td>\n",
              "      <td>0.58</td>\n",
              "      <td>0.60</td>\n",
              "      <td>0.61</td>\n",
              "      <td>0.54</td>\n",
              "      <td>0.50</td>\n",
              "    </tr>\n",
              "    <tr>\n",
              "      <th>1</th>\n",
              "      <td>30</td>\n",
              "      <td>35.44</td>\n",
              "      <td>2.44</td>\n",
              "      <td>0.56</td>\n",
              "      <td>0.53</td>\n",
              "      <td>0.55</td>\n",
              "      <td>0.56</td>\n",
              "      <td>0.55</td>\n",
              "    </tr>\n",
              "  </tbody>\n",
              "</table>\n",
              "</div>\n",
              "      <button class=\"colab-df-convert\" onclick=\"convertToInteractive('df-c3431bb5-d25f-40f1-b482-e4578b648862')\"\n",
              "              title=\"Convert this dataframe to an interactive table.\"\n",
              "              style=\"display:none;\">\n",
              "        \n",
              "  <svg xmlns=\"http://www.w3.org/2000/svg\" height=\"24px\"viewBox=\"0 0 24 24\"\n",
              "       width=\"24px\">\n",
              "    <path d=\"M0 0h24v24H0V0z\" fill=\"none\"/>\n",
              "    <path d=\"M18.56 5.44l.94 2.06.94-2.06 2.06-.94-2.06-.94-.94-2.06-.94 2.06-2.06.94zm-11 1L8.5 8.5l.94-2.06 2.06-.94-2.06-.94L8.5 2.5l-.94 2.06-2.06.94zm10 10l.94 2.06.94-2.06 2.06-.94-2.06-.94-.94-2.06-.94 2.06-2.06.94z\"/><path d=\"M17.41 7.96l-1.37-1.37c-.4-.4-.92-.59-1.43-.59-.52 0-1.04.2-1.43.59L10.3 9.45l-7.72 7.72c-.78.78-.78 2.05 0 2.83L4 21.41c.39.39.9.59 1.41.59.51 0 1.02-.2 1.41-.59l7.78-7.78 2.81-2.81c.8-.78.8-2.07 0-2.86zM5.41 20L4 18.59l7.72-7.72 1.47 1.35L5.41 20z\"/>\n",
              "  </svg>\n",
              "      </button>\n",
              "      \n",
              "  <style>\n",
              "    .colab-df-container {\n",
              "      display:flex;\n",
              "      flex-wrap:wrap;\n",
              "      gap: 12px;\n",
              "    }\n",
              "\n",
              "    .colab-df-convert {\n",
              "      background-color: #E8F0FE;\n",
              "      border: none;\n",
              "      border-radius: 50%;\n",
              "      cursor: pointer;\n",
              "      display: none;\n",
              "      fill: #1967D2;\n",
              "      height: 32px;\n",
              "      padding: 0 0 0 0;\n",
              "      width: 32px;\n",
              "    }\n",
              "\n",
              "    .colab-df-convert:hover {\n",
              "      background-color: #E2EBFA;\n",
              "      box-shadow: 0px 1px 2px rgba(60, 64, 67, 0.3), 0px 1px 3px 1px rgba(60, 64, 67, 0.15);\n",
              "      fill: #174EA6;\n",
              "    }\n",
              "\n",
              "    [theme=dark] .colab-df-convert {\n",
              "      background-color: #3B4455;\n",
              "      fill: #D2E3FC;\n",
              "    }\n",
              "\n",
              "    [theme=dark] .colab-df-convert:hover {\n",
              "      background-color: #434B5C;\n",
              "      box-shadow: 0px 1px 3px 1px rgba(0, 0, 0, 0.15);\n",
              "      filter: drop-shadow(0px 1px 2px rgba(0, 0, 0, 0.3));\n",
              "      fill: #FFFFFF;\n",
              "    }\n",
              "  </style>\n",
              "\n",
              "      <script>\n",
              "        const buttonEl =\n",
              "          document.querySelector('#df-c3431bb5-d25f-40f1-b482-e4578b648862 button.colab-df-convert');\n",
              "        buttonEl.style.display =\n",
              "          google.colab.kernel.accessAllowed ? 'block' : 'none';\n",
              "\n",
              "        async function convertToInteractive(key) {\n",
              "          const element = document.querySelector('#df-c3431bb5-d25f-40f1-b482-e4578b648862');\n",
              "          const dataTable =\n",
              "            await google.colab.kernel.invokeFunction('convertToInteractive',\n",
              "                                                     [key], {});\n",
              "          if (!dataTable) return;\n",
              "\n",
              "          const docLinkHtml = 'Like what you see? Visit the ' +\n",
              "            '<a target=\"_blank\" href=https://colab.research.google.com/notebooks/data_table.ipynb>data table notebook</a>'\n",
              "            + ' to learn more about interactive tables.';\n",
              "          element.innerHTML = '';\n",
              "          dataTable['output_type'] = 'display_data';\n",
              "          await google.colab.output.renderOutput(dataTable, element);\n",
              "          const docLink = document.createElement('div');\n",
              "          docLink.innerHTML = docLinkHtml;\n",
              "          element.appendChild(docLink);\n",
              "        }\n",
              "      </script>\n",
              "    </div>\n",
              "  </div>\n",
              "  "
            ]
          },
          "metadata": {},
          "execution_count": 22
        }
      ]
    },
    {
      "cell_type": "code",
      "source": [
        "dtree = DecisionTreeClassifier(max_features=10)\n",
        "\n",
        "\n",
        "maxdepth_vals = [6,10,15]\n",
        "\n",
        "para_dict =dict()\n",
        "\n",
        "para_dict['max_depth'] = maxdepth_vals\n",
        "\n",
        "\n",
        "scoring_metrics = ['accuracy','f1','average_precision','roc_auc','recall']\n",
        "\n",
        "gridsearch_obj = GridSearchCV(dtree, param_grid = para_dict,cv=3,scoring = scoring_metrics, verbose=3,refit=False)\n",
        "\n",
        "gridsearch_obj.fit(Xq1_mm_train_ds,yq1_train_ds)"
      ],
      "metadata": {
        "colab": {
          "base_uri": "https://localhost:8080/"
        },
        "id": "IJWR4dOOCIR7",
        "outputId": "94dfffe9-762f-41af-ca38-411b5fd84199"
      },
      "execution_count": 25,
      "outputs": [
        {
          "output_type": "stream",
          "name": "stdout",
          "text": [
            "Fitting 3 folds for each of 3 candidates, totalling 9 fits\n",
            "[CV 1/3] END max_depth=6; accuracy: (test=0.573) average_precision: (test=0.594) f1: (test=0.550) recall: (test=0.522) roc_auc: (test=0.605) total time=   6.7s\n",
            "[CV 2/3] END max_depth=6; accuracy: (test=0.578) average_precision: (test=0.601) f1: (test=0.575) recall: (test=0.570) roc_auc: (test=0.609) total time=   6.8s\n",
            "[CV 3/3] END max_depth=6; accuracy: (test=0.571) average_precision: (test=0.589) f1: (test=0.513) recall: (test=0.452) roc_auc: (test=0.601) total time=   6.5s\n",
            "[CV 1/3] END max_depth=10; accuracy: (test=0.585) average_precision: (test=0.612) f1: (test=0.583) recall: (test=0.582) roc_auc: (test=0.620) total time=   9.3s\n",
            "[CV 2/3] END max_depth=10; accuracy: (test=0.586) average_precision: (test=0.615) f1: (test=0.590) recall: (test=0.596) roc_auc: (test=0.623) total time=   9.1s\n",
            "[CV 3/3] END max_depth=10; accuracy: (test=0.585) average_precision: (test=0.614) f1: (test=0.591) recall: (test=0.600) roc_auc: (test=0.620) total time=   9.7s\n",
            "[CV 1/3] END max_depth=15; accuracy: (test=0.593) average_precision: (test=0.613) f1: (test=0.592) recall: (test=0.591) roc_auc: (test=0.629) total time=  11.2s\n",
            "[CV 2/3] END max_depth=15; accuracy: (test=0.592) average_precision: (test=0.612) f1: (test=0.597) recall: (test=0.603) roc_auc: (test=0.629) total time=  11.6s\n",
            "[CV 3/3] END max_depth=15; accuracy: (test=0.593) average_precision: (test=0.613) f1: (test=0.594) recall: (test=0.596) roc_auc: (test=0.629) total time=  11.4s\n"
          ]
        },
        {
          "output_type": "execute_result",
          "data": {
            "text/plain": [
              "GridSearchCV(cv=3, estimator=DecisionTreeClassifier(max_features=10),\n",
              "             param_grid={'max_depth': [6, 10, 15]}, refit=False,\n",
              "             scoring=['accuracy', 'f1', 'average_precision', 'roc_auc',\n",
              "                      'recall'],\n",
              "             verbose=3)"
            ]
          },
          "metadata": {},
          "execution_count": 25
        }
      ]
    },
    {
      "cell_type": "code",
      "source": [
        "gridcv = pd.DataFrame(gridsearch_obj.cv_results_)\n",
        "np.around(gridcv[['param_max_depth','mean_fit_time',  'mean_score_time', \n",
        "       'mean_test_accuracy','mean_test_average_precision','mean_test_roc_auc','mean_test_f1','mean_test_recall']],2)"
      ],
      "metadata": {
        "colab": {
          "base_uri": "https://localhost:8080/",
          "height": 143
        },
        "id": "xQhbE_nADmko",
        "outputId": "46280b05-e5c1-4fba-e320-3654b4b2b69c"
      },
      "execution_count": 26,
      "outputs": [
        {
          "output_type": "execute_result",
          "data": {
            "text/plain": [
              "  param_max_depth  mean_fit_time  mean_score_time  mean_test_accuracy  \\\n",
              "0               6           5.17             1.50                0.57   \n",
              "1              10           7.78             1.59                0.59   \n",
              "2              15           9.63             1.76                0.59   \n",
              "\n",
              "   mean_test_average_precision  mean_test_roc_auc  mean_test_f1  \\\n",
              "0                         0.59               0.61          0.55   \n",
              "1                         0.61               0.62          0.59   \n",
              "2                         0.61               0.63          0.59   \n",
              "\n",
              "   mean_test_recall  \n",
              "0              0.51  \n",
              "1              0.59  \n",
              "2              0.60  "
            ],
            "text/html": [
              "\n",
              "  <div id=\"df-e327a91a-e648-4651-a58e-c84c9dae46c1\">\n",
              "    <div class=\"colab-df-container\">\n",
              "      <div>\n",
              "<style scoped>\n",
              "    .dataframe tbody tr th:only-of-type {\n",
              "        vertical-align: middle;\n",
              "    }\n",
              "\n",
              "    .dataframe tbody tr th {\n",
              "        vertical-align: top;\n",
              "    }\n",
              "\n",
              "    .dataframe thead th {\n",
              "        text-align: right;\n",
              "    }\n",
              "</style>\n",
              "<table border=\"1\" class=\"dataframe\">\n",
              "  <thead>\n",
              "    <tr style=\"text-align: right;\">\n",
              "      <th></th>\n",
              "      <th>param_max_depth</th>\n",
              "      <th>mean_fit_time</th>\n",
              "      <th>mean_score_time</th>\n",
              "      <th>mean_test_accuracy</th>\n",
              "      <th>mean_test_average_precision</th>\n",
              "      <th>mean_test_roc_auc</th>\n",
              "      <th>mean_test_f1</th>\n",
              "      <th>mean_test_recall</th>\n",
              "    </tr>\n",
              "  </thead>\n",
              "  <tbody>\n",
              "    <tr>\n",
              "      <th>0</th>\n",
              "      <td>6</td>\n",
              "      <td>5.17</td>\n",
              "      <td>1.50</td>\n",
              "      <td>0.57</td>\n",
              "      <td>0.59</td>\n",
              "      <td>0.61</td>\n",
              "      <td>0.55</td>\n",
              "      <td>0.51</td>\n",
              "    </tr>\n",
              "    <tr>\n",
              "      <th>1</th>\n",
              "      <td>10</td>\n",
              "      <td>7.78</td>\n",
              "      <td>1.59</td>\n",
              "      <td>0.59</td>\n",
              "      <td>0.61</td>\n",
              "      <td>0.62</td>\n",
              "      <td>0.59</td>\n",
              "      <td>0.59</td>\n",
              "    </tr>\n",
              "    <tr>\n",
              "      <th>2</th>\n",
              "      <td>15</td>\n",
              "      <td>9.63</td>\n",
              "      <td>1.76</td>\n",
              "      <td>0.59</td>\n",
              "      <td>0.61</td>\n",
              "      <td>0.63</td>\n",
              "      <td>0.59</td>\n",
              "      <td>0.60</td>\n",
              "    </tr>\n",
              "  </tbody>\n",
              "</table>\n",
              "</div>\n",
              "      <button class=\"colab-df-convert\" onclick=\"convertToInteractive('df-e327a91a-e648-4651-a58e-c84c9dae46c1')\"\n",
              "              title=\"Convert this dataframe to an interactive table.\"\n",
              "              style=\"display:none;\">\n",
              "        \n",
              "  <svg xmlns=\"http://www.w3.org/2000/svg\" height=\"24px\"viewBox=\"0 0 24 24\"\n",
              "       width=\"24px\">\n",
              "    <path d=\"M0 0h24v24H0V0z\" fill=\"none\"/>\n",
              "    <path d=\"M18.56 5.44l.94 2.06.94-2.06 2.06-.94-2.06-.94-.94-2.06-.94 2.06-2.06.94zm-11 1L8.5 8.5l.94-2.06 2.06-.94-2.06-.94L8.5 2.5l-.94 2.06-2.06.94zm10 10l.94 2.06.94-2.06 2.06-.94-2.06-.94-.94-2.06-.94 2.06-2.06.94z\"/><path d=\"M17.41 7.96l-1.37-1.37c-.4-.4-.92-.59-1.43-.59-.52 0-1.04.2-1.43.59L10.3 9.45l-7.72 7.72c-.78.78-.78 2.05 0 2.83L4 21.41c.39.39.9.59 1.41.59.51 0 1.02-.2 1.41-.59l7.78-7.78 2.81-2.81c.8-.78.8-2.07 0-2.86zM5.41 20L4 18.59l7.72-7.72 1.47 1.35L5.41 20z\"/>\n",
              "  </svg>\n",
              "      </button>\n",
              "      \n",
              "  <style>\n",
              "    .colab-df-container {\n",
              "      display:flex;\n",
              "      flex-wrap:wrap;\n",
              "      gap: 12px;\n",
              "    }\n",
              "\n",
              "    .colab-df-convert {\n",
              "      background-color: #E8F0FE;\n",
              "      border: none;\n",
              "      border-radius: 50%;\n",
              "      cursor: pointer;\n",
              "      display: none;\n",
              "      fill: #1967D2;\n",
              "      height: 32px;\n",
              "      padding: 0 0 0 0;\n",
              "      width: 32px;\n",
              "    }\n",
              "\n",
              "    .colab-df-convert:hover {\n",
              "      background-color: #E2EBFA;\n",
              "      box-shadow: 0px 1px 2px rgba(60, 64, 67, 0.3), 0px 1px 3px 1px rgba(60, 64, 67, 0.15);\n",
              "      fill: #174EA6;\n",
              "    }\n",
              "\n",
              "    [theme=dark] .colab-df-convert {\n",
              "      background-color: #3B4455;\n",
              "      fill: #D2E3FC;\n",
              "    }\n",
              "\n",
              "    [theme=dark] .colab-df-convert:hover {\n",
              "      background-color: #434B5C;\n",
              "      box-shadow: 0px 1px 3px 1px rgba(0, 0, 0, 0.15);\n",
              "      filter: drop-shadow(0px 1px 2px rgba(0, 0, 0, 0.3));\n",
              "      fill: #FFFFFF;\n",
              "    }\n",
              "  </style>\n",
              "\n",
              "      <script>\n",
              "        const buttonEl =\n",
              "          document.querySelector('#df-e327a91a-e648-4651-a58e-c84c9dae46c1 button.colab-df-convert');\n",
              "        buttonEl.style.display =\n",
              "          google.colab.kernel.accessAllowed ? 'block' : 'none';\n",
              "\n",
              "        async function convertToInteractive(key) {\n",
              "          const element = document.querySelector('#df-e327a91a-e648-4651-a58e-c84c9dae46c1');\n",
              "          const dataTable =\n",
              "            await google.colab.kernel.invokeFunction('convertToInteractive',\n",
              "                                                     [key], {});\n",
              "          if (!dataTable) return;\n",
              "\n",
              "          const docLinkHtml = 'Like what you see? Visit the ' +\n",
              "            '<a target=\"_blank\" href=https://colab.research.google.com/notebooks/data_table.ipynb>data table notebook</a>'\n",
              "            + ' to learn more about interactive tables.';\n",
              "          element.innerHTML = '';\n",
              "          dataTable['output_type'] = 'display_data';\n",
              "          await google.colab.output.renderOutput(dataTable, element);\n",
              "          const docLink = document.createElement('div');\n",
              "          docLink.innerHTML = docLinkHtml;\n",
              "          element.appendChild(docLink);\n",
              "        }\n",
              "      </script>\n",
              "    </div>\n",
              "  </div>\n",
              "  "
            ]
          },
          "metadata": {},
          "execution_count": 26
        }
      ]
    },
    {
      "cell_type": "markdown",
      "source": [
        "The test precision is around 0.6. "
      ],
      "metadata": {
        "id": "d0apoViwDr5S"
      }
    },
    {
      "cell_type": "markdown",
      "source": [
        "Epxloring max_depth in more detail:"
      ],
      "metadata": {
        "id": "7YGAhbuw_V2Y"
      }
    },
    {
      "cell_type": "code",
      "source": [
        "from sklearn.metrics import accuracy_score,\\\n",
        " roc_auc_score, plot_roc_curve,f1_score,\\\n",
        "  confusion_matrix, classification_report,\\\n",
        "  precision_recall_curve\n",
        "\n",
        "\n",
        "# creating dictionaries to store metrics for different knn models\n",
        "valid_acc = dict()\n",
        "train_acc = dict()\n",
        "\n",
        "valid_AUC = dict()\n",
        "train_AUC = dict()\n",
        "\n",
        "train_cm = dict()\n",
        "valid_cm = dict()\n",
        "\n",
        "train_f1 = dict()\n",
        "valid_f1 = dict()\n",
        "\n",
        "train_prc = dict()\n",
        "valid_prc = dict()\n",
        "\n",
        "train_proba1 = dict()\n",
        "valid_proba1 = dict()\n",
        "\n",
        "\n",
        "# create subplots\n",
        "figs, axes = plt.subplots(1, 2, figsize=(20, 10))\n",
        "\n",
        "\n",
        "\n",
        "depths = range(2,14)\n",
        "\n",
        "for d in depths:\n",
        "  print(f\"Using max depth = {d}\")\n",
        "  DTCmodel = DecisionTreeClassifier(max_depth = d,class_weight={0:.01,1:0.99}) # intitalize a Decision tree classifier model with a new max depth\n",
        "  DTCmodel.fit(Xq1_mm_train_ds,yq1_train_ds)\n",
        "\n",
        "  # predicting on training and validation sets\n",
        "  y_train_predicted = DTCmodel.predict(Xq1_mm_train_ds) \n",
        "  y_valid_predicted = DTCmodel.predict(Xq1_mm_valid_ds) \n",
        "\n",
        "  # soft predictions on training and validation data\n",
        "  y_train_proba = DTCmodel.predict_proba(Xq1_mm_train_ds) \n",
        "  y_valid_proba = DTCmodel.predict_proba(Xq1_mm_valid_ds)\n",
        "\n",
        "  # saving metrics for training and validayion data\n",
        "  # calculate accuracy\n",
        "  valid_acc[d] = accuracy_score(yq1_train_ds, y_train_predicted)\n",
        "  train_acc[d] = accuracy_score(yq1_valid,y_valid_predicted)\n",
        "\n",
        "  # getting roc_auc scores for training and validation sets \n",
        "  valid_AUC[d] = roc_auc_score(yq1_valid, y_valid_proba[:,1])\n",
        "  train_AUC[d] = roc_auc_score(yq1_train_ds, y_train_proba[:,1])\n",
        "\n",
        "  # getting confusion matrices\n",
        "  valid_cm[d] = confusion_matrix(yq1_valid, y_valid_predicted)\n",
        "  train_cm[d] = confusion_matrix(yq1_train_ds, y_train_predicted)\n",
        "\n",
        "  # F1 -scores\n",
        "  valid_f1[d] = f1_score(yq1_valid, y_valid_predicted)\n",
        "  train_f1[d] = f1_score(yq1_train_ds, y_train_predicted)\n",
        "\n",
        "  # precision recall curves\n",
        "  valid_prc[d] = precision_recall_curve(yq1_valid, y_valid_proba[:,1])\n",
        "  train_prc[d] = precision_recall_curve(yq1_train_ds, y_train_proba[:,1])\n",
        "\n",
        "  # saving probabilities of positive class\n",
        "  valid_proba1[d] = y_valid_proba[:,1]\n",
        "  train_proba1[d] = y_train_proba[:,1]\n",
        "  \n",
        "\n",
        "  # plot ROC curve for training and validation sets\n",
        "  plot_roc_curve(DTCmodel, Xq1_mm_train_ds, yq1_train_ds, ax=axes[0],name=f\"maxdepth = {d}\")\n",
        "  plot_roc_curve(DTCmodel, Xq1_mm_valid_ds, yq1_valid, ax=axes[1],name=f\"maxdepth = {d}\")\n",
        "\n",
        "  # Add line y=x and titls\n",
        "  for axis_num, plot_title in enumerate(['Training set', 'Validation set']):\n",
        "    axes[axis_num].plot([0,1], [0,1], color='black', linestyle='--')\n",
        "    axes[axis_num].set_title(plot_title)\n",
        "\n",
        "plt.show()\n"
      ],
      "metadata": {
        "colab": {
          "base_uri": "https://localhost:8080/",
          "height": 1000
        },
        "id": "3W6LAkdZ_c3o",
        "outputId": "57cd220a-0bcd-404d-f54c-1abf49140bed"
      },
      "execution_count": 30,
      "outputs": [
        {
          "output_type": "stream",
          "name": "stdout",
          "text": [
            "Using max depth = 2\n"
          ]
        },
        {
          "output_type": "stream",
          "name": "stderr",
          "text": [
            "/usr/local/lib/python3.7/dist-packages/sklearn/utils/deprecation.py:87: FutureWarning: Function plot_roc_curve is deprecated; Function :func:`plot_roc_curve` is deprecated in 1.0 and will be removed in 1.2. Use one of the class methods: :meth:`sklearn.metric.RocCurveDisplay.from_predictions` or :meth:`sklearn.metric.RocCurveDisplay.from_estimator`.\n",
            "  warnings.warn(msg, category=FutureWarning)\n",
            "/usr/local/lib/python3.7/dist-packages/sklearn/utils/deprecation.py:87: FutureWarning: Function plot_roc_curve is deprecated; Function :func:`plot_roc_curve` is deprecated in 1.0 and will be removed in 1.2. Use one of the class methods: :meth:`sklearn.metric.RocCurveDisplay.from_predictions` or :meth:`sklearn.metric.RocCurveDisplay.from_estimator`.\n",
            "  warnings.warn(msg, category=FutureWarning)\n"
          ]
        },
        {
          "output_type": "stream",
          "name": "stdout",
          "text": [
            "Using max depth = 3\n"
          ]
        },
        {
          "output_type": "stream",
          "name": "stderr",
          "text": [
            "/usr/local/lib/python3.7/dist-packages/sklearn/utils/deprecation.py:87: FutureWarning: Function plot_roc_curve is deprecated; Function :func:`plot_roc_curve` is deprecated in 1.0 and will be removed in 1.2. Use one of the class methods: :meth:`sklearn.metric.RocCurveDisplay.from_predictions` or :meth:`sklearn.metric.RocCurveDisplay.from_estimator`.\n",
            "  warnings.warn(msg, category=FutureWarning)\n",
            "/usr/local/lib/python3.7/dist-packages/sklearn/utils/deprecation.py:87: FutureWarning: Function plot_roc_curve is deprecated; Function :func:`plot_roc_curve` is deprecated in 1.0 and will be removed in 1.2. Use one of the class methods: :meth:`sklearn.metric.RocCurveDisplay.from_predictions` or :meth:`sklearn.metric.RocCurveDisplay.from_estimator`.\n",
            "  warnings.warn(msg, category=FutureWarning)\n"
          ]
        },
        {
          "output_type": "stream",
          "name": "stdout",
          "text": [
            "Using max depth = 4\n"
          ]
        },
        {
          "output_type": "stream",
          "name": "stderr",
          "text": [
            "/usr/local/lib/python3.7/dist-packages/sklearn/utils/deprecation.py:87: FutureWarning: Function plot_roc_curve is deprecated; Function :func:`plot_roc_curve` is deprecated in 1.0 and will be removed in 1.2. Use one of the class methods: :meth:`sklearn.metric.RocCurveDisplay.from_predictions` or :meth:`sklearn.metric.RocCurveDisplay.from_estimator`.\n",
            "  warnings.warn(msg, category=FutureWarning)\n",
            "/usr/local/lib/python3.7/dist-packages/sklearn/utils/deprecation.py:87: FutureWarning: Function plot_roc_curve is deprecated; Function :func:`plot_roc_curve` is deprecated in 1.0 and will be removed in 1.2. Use one of the class methods: :meth:`sklearn.metric.RocCurveDisplay.from_predictions` or :meth:`sklearn.metric.RocCurveDisplay.from_estimator`.\n",
            "  warnings.warn(msg, category=FutureWarning)\n"
          ]
        },
        {
          "output_type": "stream",
          "name": "stdout",
          "text": [
            "Using max depth = 5\n"
          ]
        },
        {
          "output_type": "stream",
          "name": "stderr",
          "text": [
            "/usr/local/lib/python3.7/dist-packages/sklearn/utils/deprecation.py:87: FutureWarning: Function plot_roc_curve is deprecated; Function :func:`plot_roc_curve` is deprecated in 1.0 and will be removed in 1.2. Use one of the class methods: :meth:`sklearn.metric.RocCurveDisplay.from_predictions` or :meth:`sklearn.metric.RocCurveDisplay.from_estimator`.\n",
            "  warnings.warn(msg, category=FutureWarning)\n",
            "/usr/local/lib/python3.7/dist-packages/sklearn/utils/deprecation.py:87: FutureWarning: Function plot_roc_curve is deprecated; Function :func:`plot_roc_curve` is deprecated in 1.0 and will be removed in 1.2. Use one of the class methods: :meth:`sklearn.metric.RocCurveDisplay.from_predictions` or :meth:`sklearn.metric.RocCurveDisplay.from_estimator`.\n",
            "  warnings.warn(msg, category=FutureWarning)\n"
          ]
        },
        {
          "output_type": "stream",
          "name": "stdout",
          "text": [
            "Using max depth = 6\n"
          ]
        },
        {
          "output_type": "stream",
          "name": "stderr",
          "text": [
            "/usr/local/lib/python3.7/dist-packages/sklearn/utils/deprecation.py:87: FutureWarning: Function plot_roc_curve is deprecated; Function :func:`plot_roc_curve` is deprecated in 1.0 and will be removed in 1.2. Use one of the class methods: :meth:`sklearn.metric.RocCurveDisplay.from_predictions` or :meth:`sklearn.metric.RocCurveDisplay.from_estimator`.\n",
            "  warnings.warn(msg, category=FutureWarning)\n",
            "/usr/local/lib/python3.7/dist-packages/sklearn/utils/deprecation.py:87: FutureWarning: Function plot_roc_curve is deprecated; Function :func:`plot_roc_curve` is deprecated in 1.0 and will be removed in 1.2. Use one of the class methods: :meth:`sklearn.metric.RocCurveDisplay.from_predictions` or :meth:`sklearn.metric.RocCurveDisplay.from_estimator`.\n",
            "  warnings.warn(msg, category=FutureWarning)\n"
          ]
        },
        {
          "output_type": "stream",
          "name": "stdout",
          "text": [
            "Using max depth = 7\n"
          ]
        },
        {
          "output_type": "stream",
          "name": "stderr",
          "text": [
            "/usr/local/lib/python3.7/dist-packages/sklearn/utils/deprecation.py:87: FutureWarning: Function plot_roc_curve is deprecated; Function :func:`plot_roc_curve` is deprecated in 1.0 and will be removed in 1.2. Use one of the class methods: :meth:`sklearn.metric.RocCurveDisplay.from_predictions` or :meth:`sklearn.metric.RocCurveDisplay.from_estimator`.\n",
            "  warnings.warn(msg, category=FutureWarning)\n",
            "/usr/local/lib/python3.7/dist-packages/sklearn/utils/deprecation.py:87: FutureWarning: Function plot_roc_curve is deprecated; Function :func:`plot_roc_curve` is deprecated in 1.0 and will be removed in 1.2. Use one of the class methods: :meth:`sklearn.metric.RocCurveDisplay.from_predictions` or :meth:`sklearn.metric.RocCurveDisplay.from_estimator`.\n",
            "  warnings.warn(msg, category=FutureWarning)\n"
          ]
        },
        {
          "output_type": "stream",
          "name": "stdout",
          "text": [
            "Using max depth = 8\n"
          ]
        },
        {
          "output_type": "stream",
          "name": "stderr",
          "text": [
            "/usr/local/lib/python3.7/dist-packages/sklearn/utils/deprecation.py:87: FutureWarning: Function plot_roc_curve is deprecated; Function :func:`plot_roc_curve` is deprecated in 1.0 and will be removed in 1.2. Use one of the class methods: :meth:`sklearn.metric.RocCurveDisplay.from_predictions` or :meth:`sklearn.metric.RocCurveDisplay.from_estimator`.\n",
            "  warnings.warn(msg, category=FutureWarning)\n",
            "/usr/local/lib/python3.7/dist-packages/sklearn/utils/deprecation.py:87: FutureWarning: Function plot_roc_curve is deprecated; Function :func:`plot_roc_curve` is deprecated in 1.0 and will be removed in 1.2. Use one of the class methods: :meth:`sklearn.metric.RocCurveDisplay.from_predictions` or :meth:`sklearn.metric.RocCurveDisplay.from_estimator`.\n",
            "  warnings.warn(msg, category=FutureWarning)\n"
          ]
        },
        {
          "output_type": "stream",
          "name": "stdout",
          "text": [
            "Using max depth = 9\n"
          ]
        },
        {
          "output_type": "stream",
          "name": "stderr",
          "text": [
            "/usr/local/lib/python3.7/dist-packages/sklearn/utils/deprecation.py:87: FutureWarning: Function plot_roc_curve is deprecated; Function :func:`plot_roc_curve` is deprecated in 1.0 and will be removed in 1.2. Use one of the class methods: :meth:`sklearn.metric.RocCurveDisplay.from_predictions` or :meth:`sklearn.metric.RocCurveDisplay.from_estimator`.\n",
            "  warnings.warn(msg, category=FutureWarning)\n",
            "/usr/local/lib/python3.7/dist-packages/sklearn/utils/deprecation.py:87: FutureWarning: Function plot_roc_curve is deprecated; Function :func:`plot_roc_curve` is deprecated in 1.0 and will be removed in 1.2. Use one of the class methods: :meth:`sklearn.metric.RocCurveDisplay.from_predictions` or :meth:`sklearn.metric.RocCurveDisplay.from_estimator`.\n",
            "  warnings.warn(msg, category=FutureWarning)\n"
          ]
        },
        {
          "output_type": "stream",
          "name": "stdout",
          "text": [
            "Using max depth = 10\n"
          ]
        },
        {
          "output_type": "stream",
          "name": "stderr",
          "text": [
            "/usr/local/lib/python3.7/dist-packages/sklearn/utils/deprecation.py:87: FutureWarning: Function plot_roc_curve is deprecated; Function :func:`plot_roc_curve` is deprecated in 1.0 and will be removed in 1.2. Use one of the class methods: :meth:`sklearn.metric.RocCurveDisplay.from_predictions` or :meth:`sklearn.metric.RocCurveDisplay.from_estimator`.\n",
            "  warnings.warn(msg, category=FutureWarning)\n",
            "/usr/local/lib/python3.7/dist-packages/sklearn/utils/deprecation.py:87: FutureWarning: Function plot_roc_curve is deprecated; Function :func:`plot_roc_curve` is deprecated in 1.0 and will be removed in 1.2. Use one of the class methods: :meth:`sklearn.metric.RocCurveDisplay.from_predictions` or :meth:`sklearn.metric.RocCurveDisplay.from_estimator`.\n",
            "  warnings.warn(msg, category=FutureWarning)\n"
          ]
        },
        {
          "output_type": "stream",
          "name": "stdout",
          "text": [
            "Using max depth = 11\n"
          ]
        },
        {
          "output_type": "stream",
          "name": "stderr",
          "text": [
            "/usr/local/lib/python3.7/dist-packages/sklearn/utils/deprecation.py:87: FutureWarning: Function plot_roc_curve is deprecated; Function :func:`plot_roc_curve` is deprecated in 1.0 and will be removed in 1.2. Use one of the class methods: :meth:`sklearn.metric.RocCurveDisplay.from_predictions` or :meth:`sklearn.metric.RocCurveDisplay.from_estimator`.\n",
            "  warnings.warn(msg, category=FutureWarning)\n",
            "/usr/local/lib/python3.7/dist-packages/sklearn/utils/deprecation.py:87: FutureWarning: Function plot_roc_curve is deprecated; Function :func:`plot_roc_curve` is deprecated in 1.0 and will be removed in 1.2. Use one of the class methods: :meth:`sklearn.metric.RocCurveDisplay.from_predictions` or :meth:`sklearn.metric.RocCurveDisplay.from_estimator`.\n",
            "  warnings.warn(msg, category=FutureWarning)\n"
          ]
        },
        {
          "output_type": "stream",
          "name": "stdout",
          "text": [
            "Using max depth = 12\n"
          ]
        },
        {
          "output_type": "stream",
          "name": "stderr",
          "text": [
            "/usr/local/lib/python3.7/dist-packages/sklearn/utils/deprecation.py:87: FutureWarning: Function plot_roc_curve is deprecated; Function :func:`plot_roc_curve` is deprecated in 1.0 and will be removed in 1.2. Use one of the class methods: :meth:`sklearn.metric.RocCurveDisplay.from_predictions` or :meth:`sklearn.metric.RocCurveDisplay.from_estimator`.\n",
            "  warnings.warn(msg, category=FutureWarning)\n",
            "/usr/local/lib/python3.7/dist-packages/sklearn/utils/deprecation.py:87: FutureWarning: Function plot_roc_curve is deprecated; Function :func:`plot_roc_curve` is deprecated in 1.0 and will be removed in 1.2. Use one of the class methods: :meth:`sklearn.metric.RocCurveDisplay.from_predictions` or :meth:`sklearn.metric.RocCurveDisplay.from_estimator`.\n",
            "  warnings.warn(msg, category=FutureWarning)\n"
          ]
        },
        {
          "output_type": "stream",
          "name": "stdout",
          "text": [
            "Using max depth = 13\n"
          ]
        },
        {
          "output_type": "stream",
          "name": "stderr",
          "text": [
            "/usr/local/lib/python3.7/dist-packages/sklearn/utils/deprecation.py:87: FutureWarning: Function plot_roc_curve is deprecated; Function :func:`plot_roc_curve` is deprecated in 1.0 and will be removed in 1.2. Use one of the class methods: :meth:`sklearn.metric.RocCurveDisplay.from_predictions` or :meth:`sklearn.metric.RocCurveDisplay.from_estimator`.\n",
            "  warnings.warn(msg, category=FutureWarning)\n",
            "/usr/local/lib/python3.7/dist-packages/sklearn/utils/deprecation.py:87: FutureWarning: Function plot_roc_curve is deprecated; Function :func:`plot_roc_curve` is deprecated in 1.0 and will be removed in 1.2. Use one of the class methods: :meth:`sklearn.metric.RocCurveDisplay.from_predictions` or :meth:`sklearn.metric.RocCurveDisplay.from_estimator`.\n",
            "  warnings.warn(msg, category=FutureWarning)\n"
          ]
        },
        {
          "output_type": "display_data",
          "data": {
            "text/plain": [
              "<Figure size 1440x720 with 2 Axes>"
            ],
            "image/png": "[encoded data removed]"
          },
          "metadata": {
            "needs_background": "light"
          }
        }
      ]
    },
    {
      "cell_type": "code",
      "source": [
        "dtree_metrics = pd.DataFrame()\n",
        "dtree_metrics['valid_accuracy'] = pd.Series(valid_acc)\n",
        "dtree_metrics['train_accuracy'] = pd.Series(train_acc)\n",
        "dtree_metrics['valid_AUC'] = pd.Series(valid_AUC)\n",
        "dtree_metrics['train_AUC'] = pd.Series(train_AUC)\n",
        "dtree_metrics['valid_f1'] = pd.Series(valid_f1)\n",
        "dtree_metrics['train_f1'] = pd.Series(train_f1)\n",
        "dtree_metrics = dtree_metrics.reset_index()\n",
        "dtree_metrics['Max_depth'] = dtree_metrics['index']\n",
        "dtree_metrics = dtree_metrics.drop('index',axis=1)\n",
        "display(np.around(dtree_metrics,2))"
      ],
      "metadata": {
        "colab": {
          "base_uri": "https://localhost:8080/",
          "height": 426
        },
        "id": "vxlaiPoy_c0v",
        "outputId": "ddb18be4-78a9-4856-ac75-834988820a74"
      },
      "execution_count": 31,
      "outputs": [
        {
          "output_type": "display_data",
          "data": {
            "text/plain": [
              "    valid_accuracy  train_accuracy  valid_AUC  train_AUC  valid_f1  train_f1  \\\n",
              "0              0.5            0.16       0.59       0.59      0.28      0.67   \n",
              "1              0.5            0.16       0.60       0.60      0.28      0.67   \n",
              "2              0.5            0.16       0.60       0.60      0.28      0.67   \n",
              "3              0.5            0.16       0.61       0.61      0.28      0.67   \n",
              "4              0.5            0.16       0.61       0.61      0.28      0.67   \n",
              "5              0.5            0.16       0.62       0.62      0.28      0.67   \n",
              "6              0.5            0.16       0.62       0.62      0.28      0.67   \n",
              "7              0.5            0.16       0.62       0.62      0.28      0.67   \n",
              "8              0.5            0.16       0.62       0.62      0.28      0.67   \n",
              "9              0.5            0.17       0.62       0.62      0.28      0.67   \n",
              "10             0.5            0.17       0.62       0.63      0.28      0.67   \n",
              "11             0.5            0.17       0.62       0.63      0.28      0.67   \n",
              "\n",
              "    Max_depth  \n",
              "0           2  \n",
              "1           3  \n",
              "2           4  \n",
              "3           5  \n",
              "4           6  \n",
              "5           7  \n",
              "6           8  \n",
              "7           9  \n",
              "8          10  \n",
              "9          11  \n",
              "10         12  \n",
              "11         13  "
            ],
            "text/html": [
              "\n",
              "  <div id=\"df-3b647fe6-73f7-4644-abf9-f222b3fbbb3c\">\n",
              "    <div class=\"colab-df-container\">\n",
              "      <div>\n",
              "<style scoped>\n",
              "    .dataframe tbody tr th:only-of-type {\n",
              "        vertical-align: middle;\n",
              "    }\n",
              "\n",
              "    .dataframe tbody tr th {\n",
              "        vertical-align: top;\n",
              "    }\n",
              "\n",
              "    .dataframe thead th {\n",
              "        text-align: right;\n",
              "    }\n",
              "</style>\n",
              "<table border=\"1\" class=\"dataframe\">\n",
              "  <thead>\n",
              "    <tr style=\"text-align: right;\">\n",
              "      <th></th>\n",
              "      <th>valid_accuracy</th>\n",
              "      <th>train_accuracy</th>\n",
              "      <th>valid_AUC</th>\n",
              "      <th>train_AUC</th>\n",
              "      <th>valid_f1</th>\n",
              "      <th>train_f1</th>\n",
              "      <th>Max_depth</th>\n",
              "    </tr>\n",
              "  </thead>\n",
              "  <tbody>\n",
              "    <tr>\n",
              "      <th>0</th>\n",
              "      <td>0.5</td>\n",
              "      <td>0.16</td>\n",
              "      <td>0.59</td>\n",
              "      <td>0.59</td>\n",
              "      <td>0.28</td>\n",
              "      <td>0.67</td>\n",
              "      <td>2</td>\n",
              "    </tr>\n",
              "    <tr>\n",
              "      <th>1</th>\n",
              "      <td>0.5</td>\n",
              "      <td>0.16</td>\n",
              "      <td>0.60</td>\n",
              "      <td>0.60</td>\n",
              "      <td>0.28</td>\n",
              "      <td>0.67</td>\n",
              "      <td>3</td>\n",
              "    </tr>\n",
              "    <tr>\n",
              "      <th>2</th>\n",
              "      <td>0.5</td>\n",
              "      <td>0.16</td>\n",
              "      <td>0.60</td>\n",
              "      <td>0.60</td>\n",
              "      <td>0.28</td>\n",
              "      <td>0.67</td>\n",
              "      <td>4</td>\n",
              "    </tr>\n",
              "    <tr>\n",
              "      <th>3</th>\n",
              "      <td>0.5</td>\n",
              "      <td>0.16</td>\n",
              "      <td>0.61</td>\n",
              "      <td>0.61</td>\n",
              "      <td>0.28</td>\n",
              "      <td>0.67</td>\n",
              "      <td>5</td>\n",
              "    </tr>\n",
              "    <tr>\n",
              "      <th>4</th>\n",
              "      <td>0.5</td>\n",
              "      <td>0.16</td>\n",
              "      <td>0.61</td>\n",
              "      <td>0.61</td>\n",
              "      <td>0.28</td>\n",
              "      <td>0.67</td>\n",
              "      <td>6</td>\n",
              "    </tr>\n",
              "    <tr>\n",
              "      <th>5</th>\n",
              "      <td>0.5</td>\n",
              "      <td>0.16</td>\n",
              "      <td>0.62</td>\n",
              "      <td>0.62</td>\n",
              "      <td>0.28</td>\n",
              "      <td>0.67</td>\n",
              "      <td>7</td>\n",
              "    </tr>\n",
              "    <tr>\n",
              "      <th>6</th>\n",
              "      <td>0.5</td>\n",
              "      <td>0.16</td>\n",
              "      <td>0.62</td>\n",
              "      <td>0.62</td>\n",
              "      <td>0.28</td>\n",
              "      <td>0.67</td>\n",
              "      <td>8</td>\n",
              "    </tr>\n",
              "    <tr>\n",
              "      <th>7</th>\n",
              "      <td>0.5</td>\n",
              "      <td>0.16</td>\n",
              "      <td>0.62</td>\n",
              "      <td>0.62</td>\n",
              "      <td>0.28</td>\n",
              "      <td>0.67</td>\n",
              "      <td>9</td>\n",
              "    </tr>\n",
              "    <tr>\n",
              "      <th>8</th>\n",
              "      <td>0.5</td>\n",
              "      <td>0.16</td>\n",
              "      <td>0.62</td>\n",
              "      <td>0.62</td>\n",
              "      <td>0.28</td>\n",
              "      <td>0.67</td>\n",
              "      <td>10</td>\n",
              "    </tr>\n",
              "    <tr>\n",
              "      <th>9</th>\n",
              "      <td>0.5</td>\n",
              "      <td>0.17</td>\n",
              "      <td>0.62</td>\n",
              "      <td>0.62</td>\n",
              "      <td>0.28</td>\n",
              "      <td>0.67</td>\n",
              "      <td>11</td>\n",
              "    </tr>\n",
              "    <tr>\n",
              "      <th>10</th>\n",
              "      <td>0.5</td>\n",
              "      <td>0.17</td>\n",
              "      <td>0.62</td>\n",
              "      <td>0.63</td>\n",
              "      <td>0.28</td>\n",
              "      <td>0.67</td>\n",
              "      <td>12</td>\n",
              "    </tr>\n",
              "    <tr>\n",
              "      <th>11</th>\n",
              "      <td>0.5</td>\n",
              "      <td>0.17</td>\n",
              "      <td>0.62</td>\n",
              "      <td>0.63</td>\n",
              "      <td>0.28</td>\n",
              "      <td>0.67</td>\n",
              "      <td>13</td>\n",
              "    </tr>\n",
              "  </tbody>\n",
              "</table>\n",
              "</div>\n",
              "      <button class=\"colab-df-convert\" onclick=\"convertToInteractive('df-3b647fe6-73f7-4644-abf9-f222b3fbbb3c')\"\n",
              "              title=\"Convert this dataframe to an interactive table.\"\n",
              "              style=\"display:none;\">\n",
              "        \n",
              "  <svg xmlns=\"http://www.w3.org/2000/svg\" height=\"24px\"viewBox=\"0 0 24 24\"\n",
              "       width=\"24px\">\n",
              "    <path d=\"M0 0h24v24H0V0z\" fill=\"none\"/>\n",
              "    <path d=\"M18.56 5.44l.94 2.06.94-2.06 2.06-.94-2.06-.94-.94-2.06-.94 2.06-2.06.94zm-11 1L8.5 8.5l.94-2.06 2.06-.94-2.06-.94L8.5 2.5l-.94 2.06-2.06.94zm10 10l.94 2.06.94-2.06 2.06-.94-2.06-.94-.94-2.06-.94 2.06-2.06.94z\"/><path d=\"M17.41 7.96l-1.37-1.37c-.4-.4-.92-.59-1.43-.59-.52 0-1.04.2-1.43.59L10.3 9.45l-7.72 7.72c-.78.78-.78 2.05 0 2.83L4 21.41c.39.39.9.59 1.41.59.51 0 1.02-.2 1.41-.59l7.78-7.78 2.81-2.81c.8-.78.8-2.07 0-2.86zM5.41 20L4 18.59l7.72-7.72 1.47 1.35L5.41 20z\"/>\n",
              "  </svg>\n",
              "      </button>\n",
              "      \n",
              "  <style>\n",
              "    .colab-df-container {\n",
              "      display:flex;\n",
              "      flex-wrap:wrap;\n",
              "      gap: 12px;\n",
              "    }\n",
              "\n",
              "    .colab-df-convert {\n",
              "      background-color: #E8F0FE;\n",
              "      border: none;\n",
              "      border-radius: 50%;\n",
              "      cursor: pointer;\n",
              "      display: none;\n",
              "      fill: #1967D2;\n",
              "      height: 32px;\n",
              "      padding: 0 0 0 0;\n",
              "      width: 32px;\n",
              "    }\n",
              "\n",
              "    .colab-df-convert:hover {\n",
              "      background-color: #E2EBFA;\n",
              "      box-shadow: 0px 1px 2px rgba(60, 64, 67, 0.3), 0px 1px 3px 1px rgba(60, 64, 67, 0.15);\n",
              "      fill: #174EA6;\n",
              "    }\n",
              "\n",
              "    [theme=dark] .colab-df-convert {\n",
              "      background-color: #3B4455;\n",
              "      fill: #D2E3FC;\n",
              "    }\n",
              "\n",
              "    [theme=dark] .colab-df-convert:hover {\n",
              "      background-color: #434B5C;\n",
              "      box-shadow: 0px 1px 3px 1px rgba(0, 0, 0, 0.15);\n",
              "      filter: drop-shadow(0px 1px 2px rgba(0, 0, 0, 0.3));\n",
              "      fill: #FFFFFF;\n",
              "    }\n",
              "  </style>\n",
              "\n",
              "      <script>\n",
              "        const buttonEl =\n",
              "          document.querySelector('#df-3b647fe6-73f7-4644-abf9-f222b3fbbb3c button.colab-df-convert');\n",
              "        buttonEl.style.display =\n",
              "          google.colab.kernel.accessAllowed ? 'block' : 'none';\n",
              "\n",
              "        async function convertToInteractive(key) {\n",
              "          const element = document.querySelector('#df-3b647fe6-73f7-4644-abf9-f222b3fbbb3c');\n",
              "          const dataTable =\n",
              "            await google.colab.kernel.invokeFunction('convertToInteractive',\n",
              "                                                     [key], {});\n",
              "          if (!dataTable) return;\n",
              "\n",
              "          const docLinkHtml = 'Like what you see? Visit the ' +\n",
              "            '<a target=\"_blank\" href=https://colab.research.google.com/notebooks/data_table.ipynb>data table notebook</a>'\n",
              "            + ' to learn more about interactive tables.';\n",
              "          element.innerHTML = '';\n",
              "          dataTable['output_type'] = 'display_data';\n",
              "          await google.colab.output.renderOutput(dataTable, element);\n",
              "          const docLink = document.createElement('div');\n",
              "          docLink.innerHTML = docLinkHtml;\n",
              "          element.appendChild(docLink);\n",
              "        }\n",
              "      </script>\n",
              "    </div>\n",
              "  </div>\n",
              "  "
            ]
          },
          "metadata": {}
        }
      ]
    },
    {
      "cell_type": "code",
      "source": [
        "y_valid = yq1_valid\n",
        "y_train = yq1_train\n",
        "\n",
        "plt.subplots(1,3,figsize=(20,5))\n",
        "\n",
        "plt.subplot(1,3,1)\n",
        "plt.plot(dtree_metrics['train_AUC'],'.-',label='Train_AUC')\n",
        "plt.plot(dtree_metrics['valid_AUC'],'.-',label='Validation_AUC')\n",
        "plt.title(\"Figure 1:AUC vs Max depth\")\n",
        "plt.xlabel(\"Max depth\")\n",
        "plt.ylabel(\"ROC Area under curve\")\n",
        "plt.legend()\n",
        "\n",
        "plt.subplot(1,3,2)\n",
        "plt.plot(dtree_metrics['train_f1'],'.-',label='Train_F1score')\n",
        "plt.plot(dtree_metrics['valid_f1'],'.-',label='Validation_F1score')\n",
        "# getting accuracy for baseline model that always predicts 1 no matter what.\n",
        "baseline1_f1 = accuracy_score(y_valid, [1]*y_valid.shape[0])\n",
        "# getting accuracy for baseline model that always predicts 0 no matter what.\n",
        "baseline0_f1 = accuracy_score(y_valid, [0]*y_valid.shape[0])\n",
        "plt.axhline(baseline1_f1,color = 'red',linestyle = '--',label=\"always 1 baseline\")\n",
        "plt.axhline(baseline0_f1,color = 'black',linestyle = '--',label=\"always 0 baseline\")\n",
        "plt.xlabel(\"Max depth\")\n",
        "plt.ylabel(\"F1 score\")\n",
        "plt.title(\"Figure 2: F1score vs Max depth\")\n",
        "plt.legend()\n",
        "\n",
        "plt.subplot(1,3,3)\n",
        "plt.plot(dtree_metrics['train_accuracy'],'.-',label='Train_Accuracy')\n",
        "plt.plot(dtree_metrics['valid_accuracy'],'.-',label='Validation_Accuracy')\n",
        "# getting accuracy for baseline model that always predicts 1 no matter what.\n",
        "baseline1_acc = accuracy_score(y_valid, [1]*y_valid.shape[0])\n",
        "# getting accuracy for baseline model that always predicts 0 no matter what.\n",
        "baseline0_acc = accuracy_score(y_valid, [0]*y_valid.shape[0])\n",
        "plt.axhline(baseline1_acc,color = 'red',linestyle = '--',label=\"always 1 baseline\")\n",
        "plt.axhline(baseline0_acc,color = 'black',linestyle = '--',label=\"always 0 baseline\")\n",
        "plt.xlabel(\"Max depth\")\n",
        "plt.ylabel(\"Accuracy, \")\n",
        "plt.title(\"Figure 3: Accuracy  vs Max depth\")\n",
        "plt.legend()\n",
        "\n",
        "plt.show()"
      ],
      "metadata": {
        "colab": {
          "base_uri": "https://localhost:8080/",
          "height": 350
        },
        "id": "xpOVLAQxCtTX",
        "outputId": "55f31223-620c-4c2f-dd86-98fea3d23eaa"
      },
      "execution_count": 33,
      "outputs": [
        {
          "output_type": "display_data",
          "data": {
            "text/plain": [
              "<Figure size 1440x360 with 3 Axes>"
            ],
            "image/png": "[encoded data removed]"
          },
          "metadata": {
            "needs_background": "light"
          }
        }
      ]
    },
    {
      "cell_type": "code",
      "source": [
        "from sklearn.metrics import PrecisionRecallDisplay, precision_recall_curve\n",
        "\n",
        "precision3, recall3, thresholds3 = precision_recall_curve(y_valid,valid_proba1[2])\n",
        "precision3_t, recall3_t, thresholds3_t = precision_recall_curve(yq1_train_ds,train_proba1[8])\n",
        "plt.figure()\n",
        "ax =plt.gca()\n",
        "PrecisionRecallDisplay.from_predictions(yq1_train_ds,train_proba1[8], ax=ax,label=\"Trn\")\n",
        "PrecisionRecallDisplay.from_predictions(y_valid,valid_proba1[8], ax=ax,label=\"Val\")\n",
        "\n",
        "plt.title(\"Decision Tree Precision Recall Curve\")\n",
        "#precision_at_recall2 = np.interp(x= 0.3,xp = precision2[int(0.1*len(recall2)):int(0.8*len(recall2))],fp = recall2[int(0.1*len(recall2)):int(0.8*len(recall2))])\n",
        "precision_at_recall3 = np.interp(x= 0.3,fp = precision3,xp = recall3)\n",
        "precision_at_recall3_t = np.interp(x= 0.3,fp = precision3_t,xp = recall3_t)\n",
        "#plt.axhline(precision_at_recall3,color='green',linestyle = '--',label = f\"Precision at Recall-Val 30% = 20%\")\n",
        "#plt.axhline(precision_at_recall3_t,color='green',linestyle = '--',label = f\"Precision at Recall-Trn 30% = 20%\")\n",
        "plt.axvline(0.3,color='black',linestyle='--',label = 'Recall 30%')\n",
        "plt.legend()\n",
        "plt.show()"
      ],
      "metadata": {
        "colab": {
          "base_uri": "https://localhost:8080/",
          "height": 295
        },
        "id": "q_ErjILX_CNJ",
        "outputId": "4aff4825-dcdf-4ca9-ad8f-3c03f6b6bfd0"
      },
      "execution_count": 39,
      "outputs": [
        {
          "output_type": "display_data",
          "data": {
            "text/plain": [
              "<Figure size 432x288 with 1 Axes>"
            ],
            "image/png": "[encoded data removed]"
          },
          "metadata": {
            "needs_background": "light"
          }
        }
      ]
    },
    {
      "cell_type": "markdown",
      "metadata": {
        "id": "foPGYkbXjS7z"
      },
      "source": [
        "Makes sense that lower history correct gives a greater chance of forgetting the word. "
      ]
    },
    {
      "cell_type": "markdown",
      "source": [
        "## <font color = 'cornflowerblue' size=4>Ensemble models</font>"
      ],
      "metadata": {
        "id": "nO8p8MfEVqEj"
      }
    },
    {
      "cell_type": "markdown",
      "source": [
        "## <font color = 'cornflowerblue' size=3>Random Forest</font>"
      ],
      "metadata": {
        "id": "FqUeUcZLIb9N"
      }
    },
    {
      "cell_type": "markdown",
      "source": [
        "### <font color = 'cornflowerblue' size = 3>XGBoost</font>"
      ],
      "metadata": {
        "id": "jrIwVc4AN-X3"
      }
    },
    {
      "cell_type": "code",
      "execution_count": 42,
      "metadata": {
        "colab": {
          "base_uri": "https://localhost:8080/"
        },
        "id": "vrxhrNl_zMWp",
        "outputId": "8b0cac1a-11b5-4775-9b3d-a366a5238e43"
      },
      "outputs": [
        {
          "output_type": "stream",
          "name": "stdout",
          "text": [
            "XG Boost train set score: 0.5939524956263261\n",
            "XG Boost test set score: 0.6086050923292903\n"
          ]
        }
      ],
      "source": [
        "from xgboost import XGBClassifier\n",
        "\n",
        "\n",
        "XGB_model = XGBClassifier(num_feature = 60,subsample = 0.3)\n",
        "XGB_model.fit(Xq1_mm_train_ds, yq1_train_ds)\n",
        "print(f\"XG Boost train set score: {XGB_model.score(Xq1_mm_train_ds, yq1_train_ds)}\")\n",
        "print(f\"XG Boost test set score: {XGB_model.score(Xq1_mm_valid_ds, yq1_valid)}\")"
      ]
    },
    {
      "cell_type": "code",
      "source": [
        "yq1_train_preds_probs_xgb = XGB_model.predict_proba(Xq1_mm_train_ds)[:,1]\n",
        "yq1_valid_preds_probs_xgb = XGB_model.predict_proba(Xq1_mm_valid_ds)[:,1]\n"
      ],
      "metadata": {
        "id": "n9wFYT043lFI"
      },
      "execution_count": 44,
      "outputs": []
    },
    {
      "cell_type": "code",
      "source": [
        "# calculating precision, recall and thresholds for the model\n",
        "precision3, recall3, thresholds3 = precision_recall_curve(yq1_valid, yq1_valid_preds_probs_xgb)\n",
        "precision3_t, recall3_t, thresholds3_t = precision_recall_curve(yq1_train_ds, yq1_train_preds_probs_xgb)\n",
        "\n",
        "\n",
        "# plotting precision recall curve and calling out precision at 30% recall\n",
        "plt.figure()\n",
        "ax =plt.gca()\n",
        "# plotting precision-recall curve\n",
        "PrecisionRecallDisplay.from_predictions(yq1_train_ds,yq1_train_preds_probs_xgb, ax=ax,label=\"Trn\")\n",
        "PrecisionRecallDisplay.from_predictions(yq1_valid,yq1_valid_preds_probs_xgb, ax=ax,label=\"Val\")\n",
        "\n",
        "plt.title(\"XGBoost Precision Recall Curve\")\n",
        "\n",
        "# interpolating to find precision at recall = 30%\n",
        "precision_at_recall3 = np.interp(x= 0.3,xp = precision3,fp = recall3)\n",
        "precision_at_recall3_t = np.interp(x= 0.3,xp = precision3_t,fp = recall3_t)\n",
        "\n",
        "# plotting vertical line for recall = 0.3\n",
        "plt.axvline(0.3,color='black',linestyle='--',label = 'Recall 30%')\n",
        "\n",
        "# plotting horizontal line for precision at recall = 0.3, label with rounded precision number\n",
        "#plt.axhline(precision_at_recall3,color='green',linestyle = '--',label = f\"Precision at Recall 30% = {np.around(precision_at_recall2*100,2)}%\")\n",
        "\n",
        "plt.legend()\n",
        "plt.show()"
      ],
      "metadata": {
        "colab": {
          "base_uri": "https://localhost:8080/",
          "height": 295
        },
        "id": "tCCWKYZ8KCgf",
        "outputId": "a36dbcca-691b-4ee6-86e5-733820a97f37"
      },
      "execution_count": 50,
      "outputs": [
        {
          "output_type": "display_data",
          "data": {
            "text/plain": [
              "<Figure size 432x288 with 1 Axes>"
            ],
            "image/png": "[encoded data removed]"
          },
          "metadata": {
            "needs_background": "light"
          }
        }
      ]
    },
    {
      "cell_type": "markdown",
      "source": [
        "## AdaBoost"
      ],
      "metadata": {
        "id": "Uhg3-9-QbdV9"
      }
    },
    {
      "cell_type": "code",
      "execution_count": 53,
      "metadata": {
        "id": "WD1dTYGLzwo6"
      },
      "outputs": [],
      "source": [
        "from sklearn.ensemble import AdaBoostClassifier\n",
        "AB_model = AdaBoostClassifier(n_estimators=100, learning_rate=1)\n",
        "\n",
        "AB_model.fit(Xq1_mm_train_ds,yq1_train_ds)\n",
        "y_probaAB = AB_model.predict_proba(Xq1_mm_valid_ds)[:,1]"
      ]
    },
    {
      "cell_type": "code",
      "source": [
        "yq1_train_preds_probs_AB = AB_model.predict_proba(Xq1_mm_train_ds)[:,1]\n",
        "yq1_valid_preds_probs_AB = AB_model.predict_proba(Xq1_mm_valid_ds)[:,1]\n"
      ],
      "metadata": {
        "id": "rOGp8rr3Faz5",
        "colab": {
          "base_uri": "https://localhost:8080/",
          "height": 296
        },
        "outputId": "8bbfb13f-bcce-4a1c-ea4e-a0cbce632d04"
      },
      "execution_count": 54,
      "outputs": [
        {
          "output_type": "execute_result",
          "data": {
            "text/plain": [
              "<sklearn.metrics._plot.precision_recall_curve.PrecisionRecallDisplay at 0x7f3b459ee810>"
            ]
          },
          "metadata": {},
          "execution_count": 54
        },
        {
          "output_type": "display_data",
          "data": {
            "text/plain": [
              "<Figure size 432x288 with 1 Axes>"
            ],
            "image/png": "[encoded data removed]"
          },
          "metadata": {
            "needs_background": "light"
          }
        }
      ]
    },
    {
      "cell_type": "code",
      "source": [
        "# calculating precision, recall and thresholds for the model\n",
        "precision3, recall3, thresholds3 = precision_recall_curve(yq1_valid, yq1_valid_preds_probs_AB)\n",
        "precision3_t, recall3_t, thresholds3_t = precision_recall_curve(yq1_train_ds, yq1_train_preds_probs_AB)\n",
        "\n",
        "\n",
        "# plotting precision recall curve and calling out precision at 30% recall\n",
        "plt.figure()\n",
        "ax =plt.gca()\n",
        "# plotting precision-recall curve\n",
        "PrecisionRecallDisplay.from_predictions(yq1_train_ds,yq1_train_preds_probs_AB, ax=ax,label=\"Trn\")\n",
        "PrecisionRecallDisplay.from_predictions(yq1_valid,yq1_valid_preds_probs_AB, ax=ax,label=\"Val\")\n",
        "\n",
        "plt.title(\"XGBoost Precision Recall Curve\")\n",
        "\n",
        "# interpolating to find precision at recall = 30%\n",
        "precision_at_recall3 = np.interp(x= 0.3,xp = precision3,fp = recall3)\n",
        "precision_at_recall3_t = np.interp(x= 0.3,xp = precision3_t,fp = recall3_t)\n",
        "\n",
        "# plotting vertical line for recall = 0.3\n",
        "plt.axvline(0.3,color='black',linestyle='--',label = 'Recall 30%')\n",
        "\n",
        "# plotting horizontal line for precision at recall = 0.3, label with rounded precision number\n",
        "#plt.axhline(precision_at_recall3,color='green',linestyle = '--',label = f\"Precision at Recall 30% = {np.around(precision_at_recall2*100,2)}%\")\n",
        "\n",
        "plt.legend()\n",
        "plt.show()"
      ],
      "metadata": {
        "id": "w1TQvxCFG5gQ",
        "colab": {
          "base_uri": "https://localhost:8080/",
          "height": 295
        },
        "outputId": "c9304a39-2a6e-4922-dc98-113fe204ab6a"
      },
      "execution_count": 55,
      "outputs": [
        {
          "output_type": "display_data",
          "data": {
            "text/plain": [
              "<Figure size 432x288 with 1 Axes>"
            ],
            "image/png": "[encoded data removed]"
          },
          "metadata": {
            "needs_background": "light"
          }
        }
      ]
    },
    {
      "cell_type": "code",
      "source": [
        "compressed_pickle(path_name+\"AB_modeln150_lr1\",AB_model)"
      ],
      "metadata": {
        "id": "ceeJhA-bF_93"
      },
      "execution_count": 56,
      "outputs": []
    },
    {
      "cell_type": "markdown",
      "source": [
        "## <font color = 'cornflowerblue' size = 4>Neural Nets</font>\n",
        "\n",
        "The runtime is restarted with GPU to run with CUDA.\n",
        "\n",
        "Since random_state is set during splitting, redoing it should give the same train and validation sets.\n",
        "\n",
        "Downsampling and scaling will have to be repeated. \n",
        "\n",
        "Both the downsampled and non-downsampled train sets will be tried."
      ],
      "metadata": {
        "id": "Kxcmw9cqW3Iz"
      }
    },
    {
      "cell_type": "markdown",
      "source": [
        "### <font color = 'cornflowerblue' size=3>Scaling non-downsampled train set</font>"
      ],
      "metadata": {
        "id": "-JozShsFYn0n"
      }
    },
    {
      "cell_type": "code",
      "source": [
        "Xq1_train = Xq1_train.drop('y',axis=1)"
      ],
      "metadata": {
        "id": "6-vAe7BwZjHu"
      },
      "execution_count": 58,
      "outputs": []
    },
    {
      "cell_type": "code",
      "source": [
        "Xq1_train.shape"
      ],
      "metadata": {
        "colab": {
          "base_uri": "https://localhost:8080/"
        },
        "id": "LKQMJze2IzZO",
        "outputId": "f478b5fa-6e9c-415e-c6b0-086079ac9146"
      },
      "execution_count": 66,
      "outputs": [
        {
          "output_type": "execute_result",
          "data": {
            "text/plain": [
              "(7263504, 27)"
            ]
          },
          "metadata": {},
          "execution_count": 66
        }
      ]
    },
    {
      "cell_type": "code",
      "source": [
        "from sklearn.preprocessing import MaxAbsScaler # used because sparse array not supported by MinMaxScaler\n",
        "mm_scaler1 = MaxAbsScaler()\n",
        "\n",
        "mm_scaler1.fit(Xq1_train_ds)\n",
        "Xq1_mm_train = mm_scaler1.transform(Xq1_train)\n",
        "Xq1_mm_valid = mm_scaler1.transform(Xq1_valid) # "
      ],
      "metadata": {
        "id": "kaAkd1QiXYDC",
        "colab": {
          "base_uri": "https://localhost:8080/"
        },
        "outputId": "f41e761b-b926-4198-8d9d-39fa3a9df6bf"
      },
      "execution_count": 59,
      "outputs": [
        {
          "output_type": "stream",
          "name": "stderr",
          "text": [
            "/usr/local/lib/python3.7/dist-packages/sklearn/utils/validation.py:1692: FutureWarning: Feature names only support names that are all strings. Got feature names with dtypes: ['int', 'str']. An error will be raised in 1.2.\n",
            "  FutureWarning,\n",
            "/usr/local/lib/python3.7/dist-packages/sklearn/utils/validation.py:1692: FutureWarning: Feature names only support names that are all strings. Got feature names with dtypes: ['int', 'str']. An error will be raised in 1.2.\n",
            "  FutureWarning,\n",
            "/usr/local/lib/python3.7/dist-packages/sklearn/utils/validation.py:1692: FutureWarning: Feature names only support names that are all strings. Got feature names with dtypes: ['int', 'str']. An error will be raised in 1.2.\n",
            "  FutureWarning,\n"
          ]
        }
      ]
    },
    {
      "cell_type": "code",
      "source": [
        "#!nvidia-smi\n",
        "!nvcc --version"
      ],
      "metadata": {
        "colab": {
          "base_uri": "https://localhost:8080/"
        },
        "id": "05rjSTqzY_rm",
        "outputId": "80890957-0466-48e0-8d1b-459a60db0822"
      },
      "execution_count": 60,
      "outputs": [
        {
          "output_type": "stream",
          "name": "stdout",
          "text": [
            "nvcc: NVIDIA (R) Cuda compiler driver\n",
            "Copyright (c) 2005-2020 NVIDIA Corporation\n",
            "Built on Mon_Oct_12_20:09:46_PDT_2020\n",
            "Cuda compilation tools, release 11.1, V11.1.105\n",
            "Build cuda_11.1.TC455_06.29190527_0\n"
          ]
        }
      ]
    },
    {
      "cell_type": "code",
      "source": [
        "import tensorflow as tf\n",
        "tf.test.gpu_device_name()"
      ],
      "metadata": {
        "colab": {
          "base_uri": "https://localhost:8080/",
          "height": 41
        },
        "id": "EaztSVjaY8XK",
        "outputId": "27676732-7834-4d5e-a1d9-dd6c027cace2"
      },
      "execution_count": 61,
      "outputs": [
        {
          "output_type": "execute_result",
          "data": {
            "text/plain": [
              "'/device:GPU:0'"
            ],
            "application/vnd.google.colaboratory.intrinsic+json": {
              "type": "string"
            }
          },
          "metadata": {},
          "execution_count": 61
        }
      ]
    },
    {
      "cell_type": "code",
      "source": [
        "!cat /usr/local/lib/python3.6/dist-packages/external/local_config_cuda/cuda/cuda/cuda_config.h |\\\n",
        "grep TF_CUDA_VERSION"
      ],
      "metadata": {
        "colab": {
          "base_uri": "https://localhost:8080/"
        },
        "id": "dOx0P2-FayJ9",
        "outputId": "c440e550-8839-4228-beaf-2a66029b5d0d"
      },
      "execution_count": 62,
      "outputs": [
        {
          "output_type": "stream",
          "name": "stdout",
          "text": [
            "cat: /usr/local/lib/python3.6/dist-packages/external/local_config_cuda/cuda/cuda/cuda_config.h: No such file or directory\n"
          ]
        }
      ]
    },
    {
      "cell_type": "code",
      "source": [
        "from tensorflow import keras\n",
        "from tensorflow.keras import layers"
      ],
      "metadata": {
        "id": "pIWxTHm3ZR7M"
      },
      "execution_count": 63,
      "outputs": []
    },
    {
      "cell_type": "markdown",
      "source": [
        "Converting Xq1_mm_train, and Xq1_mm_valid to sparse tensorflow tensor"
      ],
      "metadata": {
        "id": "-gVzo3XYaAA-"
      }
    },
    {
      "cell_type": "code",
      "source": [
        "yq1_train_np = np.array(yq1_train)\n",
        "yq1_valid_np = np.array(yq1_valid)"
      ],
      "metadata": {
        "id": "8eBH4iXhaJuw"
      },
      "execution_count": 65,
      "outputs": []
    },
    {
      "cell_type": "code",
      "source": [
        "# Create a new sequential model\n",
        "model = tf.keras.Sequential()\n",
        "\n",
        "regularizer = keras.regularizers.l2(0.001)\n",
        "\n",
        "# Declare the hidden layers\n",
        "model.add(layers.Dense(27, activation=\"relu\",kernel_regularizer=regularizer))\n",
        "model.add(layers.Dense(16, activation=\"relu\",kernel_regularizer=regularizer))\n",
        "model.add(layers.Dense(4, activation=\"relu\",kernel_regularizer=regularizer))\n",
        "\n",
        "# Declare the output layer\n",
        "model.add(layers.Dense(1, activation=\"sigmoid\"))"
      ],
      "metadata": {
        "id": "s_LTwHwDIdxP"
      },
      "execution_count": 67,
      "outputs": []
    },
    {
      "cell_type": "code",
      "source": [
        "model.compile(\n",
        "    # Optimizer\n",
        "    optimizer=keras.optimizers.Adam(),  \n",
        "    # Loss function to minimize\n",
        "     \n",
        "    loss=keras.losses.BinaryCrossentropy(),\n",
        "    # Metric used to evaluate model\n",
        "    metrics=[tf.keras.metrics.PrecisionAtRecall(recall=0.3)]\n",
        ")"
      ],
      "metadata": {
        "id": "oC9dbFiFJOeM"
      },
      "execution_count": 68,
      "outputs": []
    },
    {
      "cell_type": "code",
      "source": [
        "history = model.fit(np.array(Xq1_mm_train), yq1_train_np, epochs=30, verbose=1, batch_size=40000,validation_data = (Xq1_mm_valid,yq1_valid_np))"
      ],
      "metadata": {
        "colab": {
          "base_uri": "https://localhost:8080/"
        },
        "id": "X460pCUkaSQU",
        "outputId": "2596e267-2eac-4179-c12b-26e93e874804"
      },
      "execution_count": 69,
      "outputs": [
        {
          "output_type": "stream",
          "name": "stdout",
          "text": [
            "Epoch 1/30\n",
            "182/182 [==============================] - 6s 8ms/step - loss: 0.5475 - precision_at_recall: 0.1738 - val_loss: 0.4649 - val_precision_at_recall: 0.2400\n",
            "Epoch 2/30\n",
            "182/182 [==============================] - 1s 6ms/step - loss: 0.4573 - precision_at_recall: 0.2428 - val_loss: 0.4538 - val_precision_at_recall: 0.2465\n",
            "Epoch 3/30\n",
            "182/182 [==============================] - 1s 6ms/step - loss: 0.4505 - precision_at_recall: 0.2459 - val_loss: 0.4498 - val_precision_at_recall: 0.2488\n",
            "Epoch 4/30\n",
            "182/182 [==============================] - 1s 6ms/step - loss: 0.4477 - precision_at_recall: 0.2456 - val_loss: 0.4479 - val_precision_at_recall: 0.2500\n",
            "Epoch 5/30\n",
            "182/182 [==============================] - 1s 6ms/step - loss: 0.4461 - precision_at_recall: 0.2448 - val_loss: 0.4466 - val_precision_at_recall: 0.2489\n",
            "Epoch 6/30\n",
            "182/182 [==============================] - 1s 6ms/step - loss: 0.4450 - precision_at_recall: 0.2419 - val_loss: 0.4455 - val_precision_at_recall: 0.2510\n",
            "Epoch 7/30\n",
            "182/182 [==============================] - 1s 6ms/step - loss: 0.4441 - precision_at_recall: 0.2475 - val_loss: 0.4447 - val_precision_at_recall: 0.2495\n",
            "Epoch 8/30\n",
            "182/182 [==============================] - 1s 6ms/step - loss: 0.4433 - precision_at_recall: 0.2443 - val_loss: 0.4440 - val_precision_at_recall: 0.2494\n",
            "Epoch 9/30\n",
            "182/182 [==============================] - 1s 6ms/step - loss: 0.4427 - precision_at_recall: 0.2491 - val_loss: 0.4434 - val_precision_at_recall: 0.2553\n",
            "Epoch 10/30\n",
            "182/182 [==============================] - 1s 6ms/step - loss: 0.4422 - precision_at_recall: 0.2479 - val_loss: 0.4429 - val_precision_at_recall: 0.2533\n",
            "Epoch 11/30\n",
            "182/182 [==============================] - 1s 6ms/step - loss: 0.4417 - precision_at_recall: 0.2471 - val_loss: 0.4426 - val_precision_at_recall: 0.2498\n",
            "Epoch 12/30\n",
            "182/182 [==============================] - 1s 6ms/step - loss: 0.4414 - precision_at_recall: 0.2467 - val_loss: 0.4422 - val_precision_at_recall: 0.2493\n",
            "Epoch 13/30\n",
            "182/182 [==============================] - 1s 6ms/step - loss: 0.4411 - precision_at_recall: 0.2465 - val_loss: 0.4419 - val_precision_at_recall: 0.2512\n",
            "Epoch 14/30\n",
            "182/182 [==============================] - 1s 6ms/step - loss: 0.4408 - precision_at_recall: 0.2459 - val_loss: 0.4416 - val_precision_at_recall: 0.2521\n",
            "Epoch 15/30\n",
            "182/182 [==============================] - 1s 6ms/step - loss: 0.4406 - precision_at_recall: 0.2459 - val_loss: 0.4414 - val_precision_at_recall: 0.2536\n",
            "Epoch 16/30\n",
            "182/182 [==============================] - 1s 6ms/step - loss: 0.4404 - precision_at_recall: 0.2513 - val_loss: 0.4412 - val_precision_at_recall: 0.2553\n",
            "Epoch 17/30\n",
            "182/182 [==============================] - 1s 6ms/step - loss: 0.4402 - precision_at_recall: 0.2513 - val_loss: 0.4411 - val_precision_at_recall: 0.2551\n",
            "Epoch 18/30\n",
            "182/182 [==============================] - 1s 6ms/step - loss: 0.4400 - precision_at_recall: 0.2511 - val_loss: 0.4408 - val_precision_at_recall: 0.2533\n",
            "Epoch 19/30\n",
            "182/182 [==============================] - 1s 6ms/step - loss: 0.4399 - precision_at_recall: 0.2511 - val_loss: 0.4409 - val_precision_at_recall: 0.2521\n",
            "Epoch 20/30\n",
            "182/182 [==============================] - 1s 6ms/step - loss: 0.4397 - precision_at_recall: 0.2510 - val_loss: 0.4406 - val_precision_at_recall: 0.2533\n",
            "Epoch 21/30\n",
            "182/182 [==============================] - 1s 6ms/step - loss: 0.4396 - precision_at_recall: 0.2509 - val_loss: 0.4404 - val_precision_at_recall: 0.2550\n",
            "Epoch 22/30\n",
            "182/182 [==============================] - 1s 6ms/step - loss: 0.4394 - precision_at_recall: 0.2508 - val_loss: 0.4403 - val_precision_at_recall: 0.2557\n",
            "Epoch 23/30\n",
            "182/182 [==============================] - 1s 6ms/step - loss: 0.4393 - precision_at_recall: 0.2504 - val_loss: 0.4402 - val_precision_at_recall: 0.2538\n",
            "Epoch 24/30\n",
            "182/182 [==============================] - 1s 6ms/step - loss: 0.4392 - precision_at_recall: 0.2502 - val_loss: 0.4401 - val_precision_at_recall: 0.2556\n",
            "Epoch 25/30\n",
            "182/182 [==============================] - 1s 6ms/step - loss: 0.4391 - precision_at_recall: 0.2503 - val_loss: 0.4400 - val_precision_at_recall: 0.2557\n",
            "Epoch 26/30\n",
            "182/182 [==============================] - 1s 6ms/step - loss: 0.4390 - precision_at_recall: 0.2501 - val_loss: 0.4399 - val_precision_at_recall: 0.2521\n",
            "Epoch 27/30\n",
            "182/182 [==============================] - 1s 6ms/step - loss: 0.4390 - precision_at_recall: 0.2499 - val_loss: 0.4398 - val_precision_at_recall: 0.2537\n",
            "Epoch 28/30\n",
            "182/182 [==============================] - 1s 6ms/step - loss: 0.4389 - precision_at_recall: 0.2501 - val_loss: 0.4398 - val_precision_at_recall: 0.2541\n",
            "Epoch 29/30\n",
            "182/182 [==============================] - 1s 6ms/step - loss: 0.4388 - precision_at_recall: 0.2499 - val_loss: 0.4397 - val_precision_at_recall: 0.2533\n",
            "Epoch 30/30\n",
            "182/182 [==============================] - 1s 6ms/step - loss: 0.4387 - precision_at_recall: 0.2498 - val_loss: 0.4396 - val_precision_at_recall: 0.2530\n"
          ]
        }
      ]
    },
    {
      "cell_type": "code",
      "source": [
        "plt.plot(history.history['precision_at_recall'])\n",
        "plt.plot(history.history['val_precision_at_recall'])\n",
        "plt.title('Precision at Recall = 0.3 vs Epoch number')\n",
        "plt.ylabel('Precision')\n",
        "plt.xlabel('Epoch')\n",
        "plt.legend(['Train', 'Validation'])\n",
        "plt.show()"
      ],
      "metadata": {
        "colab": {
          "base_uri": "https://localhost:8080/",
          "height": 295
        },
        "id": "vuoL5IUP5Prs",
        "outputId": "1ffe401d-ffd5-49f5-a5a1-7c0ff75bff1d"
      },
      "execution_count": 70,
      "outputs": [
        {
          "output_type": "display_data",
          "data": {
            "text/plain": [
              "<Figure size 432x288 with 1 Axes>"
            ],
            "image/png": "[encoded data removed]"
          },
          "metadata": {
            "needs_background": "light"
          }
        }
      ]
    },
    {
      "cell_type": "code",
      "source": [
        "from sklearn.metrics import precision_recall_curve, PrecisionRecallDisplay\n",
        "yq1_valid_preds_probs_nn = model.predict(Xq1_mm_valid)\n",
        "yq1_train_preds_probs_nn = model.predict(Xq1_mm_train)\n",
        "\n",
        "# calculating precision, recall and thresholds for the model\n",
        "precision3, recall3, thresholds3 = precision_recall_curve(yq1_valid, yq1_valid_preds_probs_nn)\n",
        "precision3_t, recall3_t, thresholds3_t = precision_recall_curve(yq1_train, yq1_train_preds_probs_nn)\n",
        "\n",
        "\n",
        "# plotting precision recall curve and calling out precision at 30% recall\n",
        "plt.figure()\n",
        "ax =plt.gca()\n",
        "# plotting precision-recall curve\n",
        "PrecisionRecallDisplay.from_predictions(yq1_train,yq1_train_preds_probs_nn, ax=ax,label=\"Trn\")\n",
        "PrecisionRecallDisplay.from_predictions(yq1_valid,yq1_valid_preds_probs_nn, ax=ax,label=\"Val\")\n",
        "\n",
        "plt.title(\"Neural Net Precision Recall Curve\")\n",
        "\n",
        "# interpolating to find precision at recall = 30%\n",
        "#precision_at_recall3 = np.interp(x= 0.3,fp = precision3,xp = recall3)\n",
        "#precision_at_recall3_t = np.interp(x= 0.3,xp = precision3_t,fp = recall3_t)\n",
        "\n",
        "# plotting vertical line for recall = 0.3\n",
        "plt.axvline(0.3,color='black',linestyle='--',label = 'Recall 30%')\n",
        "\n",
        "# plotting horizontal line for precision at recall = 0.3, label with rounded precision number\n",
        "#plt.axhline(precision_at_recall3,color='green',linestyle = '--',label = f\"Precision at Recall 30% = {np.around(precision_at_recall3*100,2)}%\")\n",
        "\n",
        "plt.legend()\n",
        "plt.show()"
      ],
      "metadata": {
        "colab": {
          "base_uri": "https://localhost:8080/",
          "height": 295
        },
        "id": "QjOcXHPngy6j",
        "outputId": "5f78697d-8851-488b-8cef-fdaea3a67bac"
      },
      "execution_count": 72,
      "outputs": [
        {
          "output_type": "display_data",
          "data": {
            "text/plain": [
              "<Figure size 432x288 with 1 Axes>"
            ],
            "image/png": "[encoded data removed]"
          },
          "metadata": {
            "needs_background": "light"
          }
        }
      ]
    },
    {
      "cell_type": "code",
      "source": [
        "import joblib\n",
        "joblib.dump(model,path_name+\"Q1_FS4_nn1\")"
      ],
      "metadata": {
        "colab": {
          "base_uri": "https://localhost:8080/"
        },
        "id": "rs4ptKaN8BTm",
        "outputId": "4106c080-02b3-4517-ad1a-53a16f3f4ad6"
      },
      "execution_count": 73,
      "outputs": [
        {
          "output_type": "stream",
          "name": "stdout",
          "text": [
            "INFO:tensorflow:Assets written to: ram://8da3bef5-d7fb-4a5e-b04b-b9eb66c66051/assets\n"
          ]
        },
        {
          "output_type": "execute_result",
          "data": {
            "text/plain": [
              "['/content/drive/MyDrive/Q1_FS4_nn1']"
            ]
          },
          "metadata": {},
          "execution_count": 73
        }
      ]
    },
    {
      "cell_type": "code",
      "source": [
        "acc = dict()\n",
        "for i in range(1,10):\n",
        "  bc = i*.1\n",
        "  acc[i] = accuracy_score(yq1_valid_np,np.where(yq1_valid_preds_probs_nn>=bc,1,0))\n",
        "\n",
        "acc = pd.Series(acc)\n",
        "plt.figure()\n",
        "plt.xlabel(\"Boundary condition\")\n",
        "plt.ylabel(\"Accuracy\")\n",
        "plt.title(\"Accuracy vs boundary condition\")\n",
        "plt.plot(acc.index,acc,'.-')\n",
        "plt.show()\n"
      ],
      "metadata": {
        "colab": {
          "base_uri": "https://localhost:8080/",
          "height": 295
        },
        "id": "4vEtWqWB8SaK",
        "outputId": "2d7e2ef1-080d-4c62-f41b-665a4145477b"
      },
      "execution_count": 75,
      "outputs": [
        {
          "output_type": "display_data",
          "data": {
            "text/plain": [
              "<Figure size 432x288 with 1 Axes>"
            ],
            "image/png": "[encoded data removed]"
          },
          "metadata": {
            "needs_background": "light"
          }
        }
      ]
    },
    {
      "cell_type": "markdown",
      "source": [
        "Trying neural net with down-sampled dataset."
      ],
      "metadata": {
        "id": "rh-eLFS5LMXo"
      }
    },
    {
      "cell_type": "code",
      "source": [
        "yq1_train_np_ds = np.array(yq1_train_ds)\n",
        "yq1_valid_np_ds = np.array(yq1_valid)"
      ],
      "metadata": {
        "id": "RA_ok-2bRdkt"
      },
      "execution_count": 76,
      "outputs": []
    },
    {
      "cell_type": "markdown",
      "source": [
        "The same architecture will be used:"
      ],
      "metadata": {
        "id": "iyL6kuQwSMGG"
      }
    },
    {
      "cell_type": "code",
      "source": [
        "history_ds = model.fit(Xq1_mm_train_ds, yq1_train_np_ds, epochs=15, verbose=1, batch_size=30000,validation_data = (Xq1_mm_valid_ds,yq1_valid_np_ds))"
      ],
      "metadata": {
        "colab": {
          "base_uri": "https://localhost:8080/"
        },
        "id": "0pToa7khSJTk",
        "outputId": "606e6cc4-4755-484c-89a2-cb69984b3df0"
      },
      "execution_count": 77,
      "outputs": [
        {
          "output_type": "stream",
          "name": "stdout",
          "text": [
            "Epoch 1/25\n",
            "80/80 [==============================] - 1s 8ms/step - loss: 0.6979 - precision_at_recall: 0.5736 - val_loss: 0.6743 - val_precision_at_recall: 0.2479\n",
            "Epoch 2/25\n",
            "80/80 [==============================] - 0s 6ms/step - loss: 0.6822 - precision_at_recall: 0.6228 - val_loss: 0.6759 - val_precision_at_recall: 0.2479\n",
            "Epoch 3/25\n",
            "80/80 [==============================] - 0s 6ms/step - loss: 0.6815 - precision_at_recall: 0.6260 - val_loss: 0.6742 - val_precision_at_recall: 0.2478\n",
            "Epoch 4/25\n",
            "80/80 [==============================] - 0s 6ms/step - loss: 0.6809 - precision_at_recall: 0.6244 - val_loss: 0.6807 - val_precision_at_recall: 0.2511\n",
            "Epoch 5/25\n",
            "80/80 [==============================] - 0s 6ms/step - loss: 0.6805 - precision_at_recall: 0.6287 - val_loss: 0.6832 - val_precision_at_recall: 0.2513\n",
            "Epoch 6/25\n",
            "80/80 [==============================] - 0s 6ms/step - loss: 0.6802 - precision_at_recall: 0.6316 - val_loss: 0.6815 - val_precision_at_recall: 0.2517\n",
            "Epoch 7/25\n",
            "80/80 [==============================] - 0s 6ms/step - loss: 0.6800 - precision_at_recall: 0.6303 - val_loss: 0.6780 - val_precision_at_recall: 0.2529\n",
            "Epoch 8/25\n",
            "80/80 [==============================] - 0s 6ms/step - loss: 0.6799 - precision_at_recall: 0.6289 - val_loss: 0.6748 - val_precision_at_recall: 0.2539\n",
            "Epoch 9/25\n",
            "80/80 [==============================] - 0s 6ms/step - loss: 0.6798 - precision_at_recall: 0.6284 - val_loss: 0.6777 - val_precision_at_recall: 0.2553\n",
            "Epoch 10/25\n",
            "80/80 [==============================] - 0s 6ms/step - loss: 0.6797 - precision_at_recall: 0.6324 - val_loss: 0.6784 - val_precision_at_recall: 0.2553\n",
            "Epoch 11/25\n",
            "80/80 [==============================] - 0s 6ms/step - loss: 0.6797 - precision_at_recall: 0.6320 - val_loss: 0.6786 - val_precision_at_recall: 0.2543\n",
            "Epoch 12/25\n",
            "80/80 [==============================] - 0s 6ms/step - loss: 0.6797 - precision_at_recall: 0.6316 - val_loss: 0.6784 - val_precision_at_recall: 0.2543\n",
            "Epoch 13/25\n",
            "80/80 [==============================] - 0s 6ms/step - loss: 0.6796 - precision_at_recall: 0.6309 - val_loss: 0.6688 - val_precision_at_recall: 0.2558\n",
            "Epoch 14/25\n",
            "80/80 [==============================] - 0s 6ms/step - loss: 0.6796 - precision_at_recall: 0.6311 - val_loss: 0.6886 - val_precision_at_recall: 0.2560\n",
            "Epoch 15/25\n",
            "80/80 [==============================] - 0s 6ms/step - loss: 0.6796 - precision_at_recall: 0.6311 - val_loss: 0.6789 - val_precision_at_recall: 0.2536\n",
            "Epoch 16/25\n",
            "80/80 [==============================] - 0s 6ms/step - loss: 0.6796 - precision_at_recall: 0.6307 - val_loss: 0.6748 - val_precision_at_recall: 0.2560\n",
            "Epoch 17/25\n",
            "80/80 [==============================] - 0s 6ms/step - loss: 0.6796 - precision_at_recall: 0.6306 - val_loss: 0.6811 - val_precision_at_recall: 0.2560\n",
            "Epoch 18/25\n",
            "80/80 [==============================] - 0s 6ms/step - loss: 0.6795 - precision_at_recall: 0.6307 - val_loss: 0.6781 - val_precision_at_recall: 0.2535\n",
            "Epoch 19/25\n",
            "80/80 [==============================] - 0s 6ms/step - loss: 0.6795 - precision_at_recall: 0.6303 - val_loss: 0.6880 - val_precision_at_recall: 0.2564\n",
            "Epoch 20/25\n",
            "80/80 [==============================] - 0s 6ms/step - loss: 0.6795 - precision_at_recall: 0.6305 - val_loss: 0.6737 - val_precision_at_recall: 0.2562\n",
            "Epoch 21/25\n",
            "80/80 [==============================] - 0s 6ms/step - loss: 0.6795 - precision_at_recall: 0.6306 - val_loss: 0.6846 - val_precision_at_recall: 0.2537\n",
            "Epoch 22/25\n",
            "80/80 [==============================] - 0s 6ms/step - loss: 0.6795 - precision_at_recall: 0.6306 - val_loss: 0.6854 - val_precision_at_recall: 0.2537\n",
            "Epoch 23/25\n",
            "80/80 [==============================] - 0s 6ms/step - loss: 0.6795 - precision_at_recall: 0.6302 - val_loss: 0.6782 - val_precision_at_recall: 0.2535\n",
            "Epoch 24/25\n",
            "80/80 [==============================] - 0s 6ms/step - loss: 0.6794 - precision_at_recall: 0.6306 - val_loss: 0.6844 - val_precision_at_recall: 0.2540\n",
            "Epoch 25/25\n",
            "80/80 [==============================] - 0s 6ms/step - loss: 0.6794 - precision_at_recall: 0.6302 - val_loss: 0.6859 - val_precision_at_recall: 0.2537\n"
          ]
        }
      ]
    },
    {
      "cell_type": "code",
      "source": [
        "plt.plot(history.history['precision_at_recall'])\n",
        "plt.plot(history.history['val_precision_at_recall'])\n",
        "plt.title('Precision at Recall = 0.3 vs Epoch number')\n",
        "plt.ylabel('Precision')\n",
        "plt.xlabel('Epoch')\n",
        "plt.legend(['Train', 'Validation'])\n",
        "plt.show()"
      ],
      "metadata": {
        "colab": {
          "base_uri": "https://localhost:8080/",
          "height": 295
        },
        "id": "50I8Rqa96GIW",
        "outputId": "d87a0975-f509-4b80-e7f9-2d583b652ccc"
      },
      "execution_count": 79,
      "outputs": [
        {
          "output_type": "display_data",
          "data": {
            "text/plain": [
              "<Figure size 432x288 with 1 Axes>"
            ],
            "image/png": "[encoded data removed]"
          },
          "metadata": {
            "needs_background": "light"
          }
        }
      ]
    },
    {
      "cell_type": "markdown",
      "source": [
        "From comparing with the non-downsampled dataset, the downsampled-dataset does not seem to offer an advantage in validation performance. "
      ],
      "metadata": {
        "id": "nuDmfOC8LRZo"
      }
    },
    {
      "cell_type": "markdown",
      "source": [
        "Trying with drop out to reduce overfitting further:"
      ],
      "metadata": {
        "id": "8Je9T0t8dIHb"
      }
    },
    {
      "cell_type": "code",
      "source": [
        "# Create a new sequential model\n",
        "model3 = keras.Sequential()\n",
        "# Create a regularizer with a factor of 0.005 and apply it to all hidden layers\n",
        "regularizer = keras.regularizers.l2(0.001)\n",
        "\n",
        "# Declare the hidden layers\n",
        "model3.add(layers.Dense(27, activation=\"relu\", kernel_regularizer=regularizer))\n",
        "model3.add(layers.Dropout(0.2)) # Set 20% of the nodes to 0. \n",
        "model3.add(layers.Dense(16, activation=\"relu\", kernel_regularizer=regularizer))\n",
        "model3.add(layers.Dropout(0.2)) # Set 20% of the nodes to 0. \n",
        "model3.add(layers.Dense(8, activation=\"relu\", kernel_regularizer=regularizer))\n",
        "model3.add(layers.Dense(4, activation=\"relu\", kernel_regularizer=regularizer))\n",
        "\n",
        "# Declare the output layer\n",
        "model3.add(layers.Dense(1, activation=\"sigmoid\"))"
      ],
      "metadata": {
        "id": "kQ60bqbahQxS"
      },
      "execution_count": 80,
      "outputs": []
    },
    {
      "cell_type": "code",
      "source": [
        "model3.compile(\n",
        "    # Optimizer\n",
        "    optimizer=keras.optimizers.Adam(),  \n",
        "    # Loss function to minimize\n",
        "    loss=keras.losses.BinaryCrossentropy(),\n",
        "    # Metric used to evaluate model\n",
        "    metrics=[tf.keras.metrics.PrecisionAtRecall(recall=0.3)]\n",
        ")"
      ],
      "metadata": {
        "id": "xzsp6E_KhQxW"
      },
      "execution_count": 81,
      "outputs": []
    },
    {
      "cell_type": "code",
      "source": [
        "history_reg_dropout = model3.fit(np.array(Xq1_mm_train), yq1_train_np, epochs=10, verbose=1, batch_size=40000,validation_data = (Xq1_mm_valid,yq1_valid_np))"
      ],
      "metadata": {
        "colab": {
          "base_uri": "https://localhost:8080/"
        },
        "id": "BVNu-RTDhxNX",
        "outputId": "2e800c60-1a7c-4f3d-ec4a-7d71afd74cf0"
      },
      "execution_count": 82,
      "outputs": [
        {
          "output_type": "stream",
          "name": "stdout",
          "text": [
            "Epoch 1/10\n",
            "182/182 [==============================] - 2s 8ms/step - loss: 0.7012 - precision_at_recall_1: 0.1634 - val_loss: 0.6551 - val_precision_at_recall_1: 0.1642\n",
            "Epoch 2/10\n",
            "182/182 [==============================] - 1s 6ms/step - loss: 0.6242 - precision_at_recall_1: 0.1636 - val_loss: 0.5977 - val_precision_at_recall_1: 0.1642\n",
            "Epoch 3/10\n",
            "182/182 [==============================] - 1s 6ms/step - loss: 0.5770 - precision_at_recall_1: 0.1637 - val_loss: 0.5589 - val_precision_at_recall_1: 0.1642\n",
            "Epoch 4/10\n",
            "182/182 [==============================] - 1s 6ms/step - loss: 0.5435 - precision_at_recall_1: 0.1635 - val_loss: 0.5300 - val_precision_at_recall_1: 0.1642\n",
            "Epoch 5/10\n",
            "182/182 [==============================] - 1s 6ms/step - loss: 0.5181 - precision_at_recall_1: 0.1634 - val_loss: 0.5081 - val_precision_at_recall_1: 0.1642\n",
            "Epoch 6/10\n",
            "182/182 [==============================] - 1s 6ms/step - loss: 0.4988 - precision_at_recall_1: 0.1635 - val_loss: 0.4913 - val_precision_at_recall_1: 0.1642\n",
            "Epoch 7/10\n",
            "182/182 [==============================] - 1s 6ms/step - loss: 0.4840 - precision_at_recall_1: 0.1636 - val_loss: 0.4786 - val_precision_at_recall_1: 0.1642\n",
            "Epoch 8/10\n",
            "182/182 [==============================] - 1s 6ms/step - loss: 0.4729 - precision_at_recall_1: 0.1635 - val_loss: 0.4692 - val_precision_at_recall_1: 0.1642\n",
            "Epoch 9/10\n",
            "182/182 [==============================] - 1s 6ms/step - loss: 0.4647 - precision_at_recall_1: 0.1637 - val_loss: 0.4622 - val_precision_at_recall_1: 0.1642\n",
            "Epoch 10/10\n",
            "182/182 [==============================] - 1s 6ms/step - loss: 0.4586 - precision_at_recall_1: 0.1634 - val_loss: 0.4571 - val_precision_at_recall_1: 0.1642\n"
          ]
        }
      ]
    },
    {
      "cell_type": "markdown",
      "source": [
        "It appears that this model is underfitting. "
      ],
      "metadata": {
        "id": "lH5VzADzLury"
      }
    },
    {
      "cell_type": "code",
      "source": [
        "history_reg_dropout.history.keys()"
      ],
      "metadata": {
        "colab": {
          "base_uri": "https://localhost:8080/"
        },
        "id": "w08g--k2L4_q",
        "outputId": "503bed58-5b6e-4596-c78a-9c058aedd709"
      },
      "execution_count": 85,
      "outputs": [
        {
          "output_type": "execute_result",
          "data": {
            "text/plain": [
              "dict_keys(['loss', 'precision_at_recall_1', 'val_loss', 'val_precision_at_recall_1'])"
            ]
          },
          "metadata": {},
          "execution_count": 85
        }
      ]
    },
    {
      "cell_type": "code",
      "source": [
        "plt.plot(history_reg_dropout.history['precision_at_recall_1'])\n",
        "plt.plot(history_reg_dropout.history['val_precision_at_recall_1'])\n",
        "plt.title('Precision at Recall = 0.3 vs Epoch number')\n",
        "plt.ylabel('Precision')\n",
        "plt.xlabel('Epoch')\n",
        "plt.legend(['Train', 'Validation'])\n",
        "plt.show()"
      ],
      "metadata": {
        "colab": {
          "base_uri": "https://localhost:8080/",
          "height": 295
        },
        "id": "JtlHuI8LiJBR",
        "outputId": "fdd8039a-d101-483f-fe3f-efed72a1d530"
      },
      "execution_count": 86,
      "outputs": [
        {
          "output_type": "display_data",
          "data": {
            "text/plain": [
              "<Figure size 432x288 with 1 Axes>"
            ],
            "image/png": "[encoded data removed]"
          },
          "metadata": {
            "needs_background": "light"
          }
        }
      ]
    },
    {
      "cell_type": "markdown",
      "source": [
        "Drop out did not add to the optimization (underfitting)"
      ],
      "metadata": {
        "id": "gSQppC40ilxj"
      }
    },
    {
      "cell_type": "markdown",
      "source": [
        "## Q1 TEST"
      ],
      "metadata": {
        "id": "bkYezz4v9JA9"
      }
    },
    {
      "cell_type": "code",
      "execution_count": 90,
      "metadata": {
        "id": "grtBzBBe9QLn"
      },
      "outputs": [],
      "source": [
        "q1testXsp = decompress_pickle(path_name+\"Q1TEST_pipe4.pbz2\") "
      ]
    },
    {
      "cell_type": "code",
      "execution_count": 91,
      "metadata": {
        "colab": {
          "base_uri": "https://localhost:8080/"
        },
        "outputId": "c30d3242-a0f4-4611-acee-48365d07d258",
        "id": "jKb65NYB9QLo"
      },
      "outputs": [
        {
          "output_type": "execute_result",
          "data": {
            "text/plain": [
              "((1795528, 28), 50.274784)"
            ]
          },
          "metadata": {},
          "execution_count": 91
        }
      ],
      "source": [
        "q1testXsp.shape, q1testXsp.size/10**6"
      ]
    },
    {
      "cell_type": "code",
      "source": [
        "q1testXsp = q1testXsp.drop('lexeme_id',axis=1)"
      ],
      "metadata": {
        "id": "DmJ1BMHB9QLo"
      },
      "execution_count": 92,
      "outputs": []
    },
    {
      "cell_type": "code",
      "source": [
        "q1test_y = decompress_pickle(path_name+\"Q1TEST_Y_pipe4.pbz2\") "
      ],
      "metadata": {
        "id": "RjBeh0I29QLo"
      },
      "execution_count": 93,
      "outputs": []
    },
    {
      "cell_type": "code",
      "execution_count": 94,
      "metadata": {
        "colab": {
          "base_uri": "https://localhost:8080/"
        },
        "outputId": "602e6f9a-048d-4678-cb8e-d79a55d838ae",
        "id": "bSzjHist9QLo"
      },
      "outputs": [
        {
          "output_type": "execute_result",
          "data": {
            "text/plain": [
              "(pandas.core.frame.DataFrame, pandas.core.series.Series)"
            ]
          },
          "metadata": {},
          "execution_count": 94
        }
      ],
      "source": [
        "type(q1testXsp), type(q1test_y)"
      ]
    },
    {
      "cell_type": "code",
      "source": [
        "# scaling with mmscaler \n",
        "q1testXsp"
      ],
      "metadata": {
        "colab": {
          "base_uri": "https://localhost:8080/",
          "height": 488
        },
        "id": "nkdBp4ht9sap",
        "outputId": "00cbbaf5-3606-48ea-b27b-e65b3a380350"
      },
      "execution_count": 95,
      "outputs": [
        {
          "output_type": "execute_result",
          "data": {
            "text/plain": [
              "            delta  history_seen  history_frac  simoverdiff  EnglishIDF  \\\n",
              "23         444649             3      1.000000     0.000159    0.002856   \n",
              "26         678813             3      1.000000     0.000159    0.222868   \n",
              "30        8562343             3      1.000000     0.000159    1.106943   \n",
              "41        6645723             5      1.000000     0.000159    0.048971   \n",
              "50        7239420             3      0.666667     0.000159    3.385734   \n",
              "...           ...           ...           ...          ...         ...   \n",
              "12854159   441159             1      1.000000     0.000581    0.087485   \n",
              "12854165   441159             1      1.000000     0.000581    0.064179   \n",
              "12854166   441856             1      1.000000     0.000581    0.222868   \n",
              "12854203   177098             5      0.800000     0.000159    1.179408   \n",
              "12854209   409040             6      0.833333     0.000159    0.053036   \n",
              "\n",
              "          sf_length  L_dist_sf_noaccents_norm         0         1         2  \\\n",
              "23                1                  0.000000 -1.479051 -0.112675  0.246321   \n",
              "26                7                  1.000000 -1.425464 -0.863519 -0.095533   \n",
              "30                6                  0.666667 -1.505185  0.034833 -0.259207   \n",
              "41                2                  0.000000 -1.517464 -0.227870  0.089043   \n",
              "50                5                  0.200000 -1.502134  1.108158 -0.151994   \n",
              "...             ...                       ...       ...       ...       ...   \n",
              "12854159          4                  1.000000 -1.511092  0.100793 -0.249287   \n",
              "12854165          6                  0.666667 -1.517300  0.050340 -0.133527   \n",
              "12854166          6                  0.666667 -1.488297 -0.392285  0.178377   \n",
              "12854203         10                  0.200000 -1.543006  0.861492  0.137432   \n",
              "12854209          6                  0.833333 -1.481215 -0.238643  0.241258   \n",
              "\n",
              "          ...        10        11        12        13        14        15  \\\n",
              "23        ...  0.042690 -0.000190  0.012070 -0.009148 -0.025869  0.006845   \n",
              "26        ...  0.005911 -0.087069  0.075160 -0.206693  0.139943 -0.012878   \n",
              "30        ...  0.013261 -0.009184  0.015942  0.047982  0.000466 -0.050659   \n",
              "41        ... -0.026833  0.050615 -0.007909  0.016218 -0.015621  0.012019   \n",
              "50        ... -0.042713 -0.110415 -0.093129 -0.106432  0.120222 -0.036931   \n",
              "...       ...       ...       ...       ...       ...       ...       ...   \n",
              "12854159  ... -0.024546  0.013743 -0.017307  0.022002  0.008855  0.037489   \n",
              "12854165  ... -0.009789  0.031197  0.051799 -0.058076  0.014629  0.008831   \n",
              "12854166  ... -0.003565  0.004633 -0.067377  0.000899  0.009327 -0.025501   \n",
              "12854203  ... -0.019974 -0.054636 -0.101043 -0.060037  0.039488  0.001159   \n",
              "12854209  ... -0.001623 -0.020008 -0.018263 -0.007959 -0.057342 -0.036602   \n",
              "\n",
              "                16        17        18        19  \n",
              "23       -0.032530 -0.027243  0.018896 -0.009582  \n",
              "26       -0.040306  0.018671 -0.030123 -0.011078  \n",
              "30        0.068211  0.022031  0.022755 -0.027425  \n",
              "41       -0.001548 -0.014283 -0.003592 -0.016742  \n",
              "50        0.027935  0.040192  0.031517 -0.057896  \n",
              "...            ...       ...       ...       ...  \n",
              "12854159 -0.042158 -0.010851 -0.035558  0.003547  \n",
              "12854165  0.021586  0.022997 -0.074883  0.004688  \n",
              "12854166 -0.075739 -0.010130 -0.022092  0.023490  \n",
              "12854203 -0.045820 -0.001295 -0.095326 -0.068766  \n",
              "12854209 -0.042129 -0.060523  0.001147  0.031854  \n",
              "\n",
              "[1795528 rows x 27 columns]"
            ],
            "text/html": [
              "\n",
              "  <div id=\"df-6336e95f-f94e-4dcb-af3a-fde20033998b\">\n",
              "    <div class=\"colab-df-container\">\n",
              "      <div>\n",
              "<style scoped>\n",
              "    .dataframe tbody tr th:only-of-type {\n",
              "        vertical-align: middle;\n",
              "    }\n",
              "\n",
              "    .dataframe tbody tr th {\n",
              "        vertical-align: top;\n",
              "    }\n",
              "\n",
              "    .dataframe thead th {\n",
              "        text-align: right;\n",
              "    }\n",
              "</style>\n",
              "<table border=\"1\" class=\"dataframe\">\n",
              "  <thead>\n",
              "    <tr style=\"text-align: right;\">\n",
              "      <th></th>\n",
              "      <th>delta</th>\n",
              "      <th>history_seen</th>\n",
              "      <th>history_frac</th>\n",
              "      <th>simoverdiff</th>\n",
              "      <th>EnglishIDF</th>\n",
              "      <th>sf_length</th>\n",
              "      <th>L_dist_sf_noaccents_norm</th>\n",
              "      <th>0</th>\n",
              "      <th>1</th>\n",
              "      <th>2</th>\n",
              "      <th>...</th>\n",
              "      <th>10</th>\n",
              "      <th>11</th>\n",
              "      <th>12</th>\n",
              "      <th>13</th>\n",
              "      <th>14</th>\n",
              "      <th>15</th>\n",
              "      <th>16</th>\n",
              "      <th>17</th>\n",
              "      <th>18</th>\n",
              "      <th>19</th>\n",
              "    </tr>\n",
              "  </thead>\n",
              "  <tbody>\n",
              "    <tr>\n",
              "      <th>23</th>\n",
              "      <td>444649</td>\n",
              "      <td>3</td>\n",
              "      <td>1.000000</td>\n",
              "      <td>0.000159</td>\n",
              "      <td>0.002856</td>\n",
              "      <td>1</td>\n",
              "      <td>0.000000</td>\n",
              "      <td>-1.479051</td>\n",
              "      <td>-0.112675</td>\n",
              "      <td>0.246321</td>\n",
              "      <td>...</td>\n",
              "      <td>0.042690</td>\n",
              "      <td>-0.000190</td>\n",
              "      <td>0.012070</td>\n",
              "      <td>-0.009148</td>\n",
              "      <td>-0.025869</td>\n",
              "      <td>0.006845</td>\n",
              "      <td>-0.032530</td>\n",
              "      <td>-0.027243</td>\n",
              "      <td>0.018896</td>\n",
              "      <td>-0.009582</td>\n",
              "    </tr>\n",
              "    <tr>\n",
              "      <th>26</th>\n",
              "      <td>678813</td>\n",
              "      <td>3</td>\n",
              "      <td>1.000000</td>\n",
              "      <td>0.000159</td>\n",
              "      <td>0.222868</td>\n",
              "      <td>7</td>\n",
              "      <td>1.000000</td>\n",
              "      <td>-1.425464</td>\n",
              "      <td>-0.863519</td>\n",
              "      <td>-0.095533</td>\n",
              "      <td>...</td>\n",
              "      <td>0.005911</td>\n",
              "      <td>-0.087069</td>\n",
              "      <td>0.075160</td>\n",
              "      <td>-0.206693</td>\n",
              "      <td>0.139943</td>\n",
              "      <td>-0.012878</td>\n",
              "      <td>-0.040306</td>\n",
              "      <td>0.018671</td>\n",
              "      <td>-0.030123</td>\n",
              "      <td>-0.011078</td>\n",
              "    </tr>\n",
              "    <tr>\n",
              "      <th>30</th>\n",
              "      <td>8562343</td>\n",
              "      <td>3</td>\n",
              "      <td>1.000000</td>\n",
              "      <td>0.000159</td>\n",
              "      <td>1.106943</td>\n",
              "      <td>6</td>\n",
              "      <td>0.666667</td>\n",
              "      <td>-1.505185</td>\n",
              "      <td>0.034833</td>\n",
              "      <td>-0.259207</td>\n",
              "      <td>...</td>\n",
              "      <td>0.013261</td>\n",
              "      <td>-0.009184</td>\n",
              "      <td>0.015942</td>\n",
              "      <td>0.047982</td>\n",
              "      <td>0.000466</td>\n",
              "      <td>-0.050659</td>\n",
              "      <td>0.068211</td>\n",
              "      <td>0.022031</td>\n",
              "      <td>0.022755</td>\n",
              "      <td>-0.027425</td>\n",
              "    </tr>\n",
              "    <tr>\n",
              "      <th>41</th>\n",
              "      <td>6645723</td>\n",
              "      <td>5</td>\n",
              "      <td>1.000000</td>\n",
              "      <td>0.000159</td>\n",
              "      <td>0.048971</td>\n",
              "      <td>2</td>\n",
              "      <td>0.000000</td>\n",
              "      <td>-1.517464</td>\n",
              "      <td>-0.227870</td>\n",
              "      <td>0.089043</td>\n",
              "      <td>...</td>\n",
              "      <td>-0.026833</td>\n",
              "      <td>0.050615</td>\n",
              "      <td>-0.007909</td>\n",
              "      <td>0.016218</td>\n",
              "      <td>-0.015621</td>\n",
              "      <td>0.012019</td>\n",
              "      <td>-0.001548</td>\n",
              "      <td>-0.014283</td>\n",
              "      <td>-0.003592</td>\n",
              "      <td>-0.016742</td>\n",
              "    </tr>\n",
              "    <tr>\n",
              "      <th>50</th>\n",
              "      <td>7239420</td>\n",
              "      <td>3</td>\n",
              "      <td>0.666667</td>\n",
              "      <td>0.000159</td>\n",
              "      <td>3.385734</td>\n",
              "      <td>5</td>\n",
              "      <td>0.200000</td>\n",
              "      <td>-1.502134</td>\n",
              "      <td>1.108158</td>\n",
              "      <td>-0.151994</td>\n",
              "      <td>...</td>\n",
              "      <td>-0.042713</td>\n",
              "      <td>-0.110415</td>\n",
              "      <td>-0.093129</td>\n",
              "      <td>-0.106432</td>\n",
              "      <td>0.120222</td>\n",
              "      <td>-0.036931</td>\n",
              "      <td>0.027935</td>\n",
              "      <td>0.040192</td>\n",
              "      <td>0.031517</td>\n",
              "      <td>-0.057896</td>\n",
              "    </tr>\n",
              "    <tr>\n",
              "      <th>...</th>\n",
              "      <td>...</td>\n",
              "      <td>...</td>\n",
              "      <td>...</td>\n",
              "      <td>...</td>\n",
              "      <td>...</td>\n",
              "      <td>...</td>\n",
              "      <td>...</td>\n",
              "      <td>...</td>\n",
              "      <td>...</td>\n",
              "      <td>...</td>\n",
              "      <td>...</td>\n",
              "      <td>...</td>\n",
              "      <td>...</td>\n",
              "      <td>...</td>\n",
              "      <td>...</td>\n",
              "      <td>...</td>\n",
              "      <td>...</td>\n",
              "      <td>...</td>\n",
              "      <td>...</td>\n",
              "      <td>...</td>\n",
              "      <td>...</td>\n",
              "    </tr>\n",
              "    <tr>\n",
              "      <th>12854159</th>\n",
              "      <td>441159</td>\n",
              "      <td>1</td>\n",
              "      <td>1.000000</td>\n",
              "      <td>0.000581</td>\n",
              "      <td>0.087485</td>\n",
              "      <td>4</td>\n",
              "      <td>1.000000</td>\n",
              "      <td>-1.511092</td>\n",
              "      <td>0.100793</td>\n",
              "      <td>-0.249287</td>\n",
              "      <td>...</td>\n",
              "      <td>-0.024546</td>\n",
              "      <td>0.013743</td>\n",
              "      <td>-0.017307</td>\n",
              "      <td>0.022002</td>\n",
              "      <td>0.008855</td>\n",
              "      <td>0.037489</td>\n",
              "      <td>-0.042158</td>\n",
              "      <td>-0.010851</td>\n",
              "      <td>-0.035558</td>\n",
              "      <td>0.003547</td>\n",
              "    </tr>\n",
              "    <tr>\n",
              "      <th>12854165</th>\n",
              "      <td>441159</td>\n",
              "      <td>1</td>\n",
              "      <td>1.000000</td>\n",
              "      <td>0.000581</td>\n",
              "      <td>0.064179</td>\n",
              "      <td>6</td>\n",
              "      <td>0.666667</td>\n",
              "      <td>-1.517300</td>\n",
              "      <td>0.050340</td>\n",
              "      <td>-0.133527</td>\n",
              "      <td>...</td>\n",
              "      <td>-0.009789</td>\n",
              "      <td>0.031197</td>\n",
              "      <td>0.051799</td>\n",
              "      <td>-0.058076</td>\n",
              "      <td>0.014629</td>\n",
              "      <td>0.008831</td>\n",
              "      <td>0.021586</td>\n",
              "      <td>0.022997</td>\n",
              "      <td>-0.074883</td>\n",
              "      <td>0.004688</td>\n",
              "    </tr>\n",
              "    <tr>\n",
              "      <th>12854166</th>\n",
              "      <td>441856</td>\n",
              "      <td>1</td>\n",
              "      <td>1.000000</td>\n",
              "      <td>0.000581</td>\n",
              "      <td>0.222868</td>\n",
              "      <td>6</td>\n",
              "      <td>0.666667</td>\n",
              "      <td>-1.488297</td>\n",
              "      <td>-0.392285</td>\n",
              "      <td>0.178377</td>\n",
              "      <td>...</td>\n",
              "      <td>-0.003565</td>\n",
              "      <td>0.004633</td>\n",
              "      <td>-0.067377</td>\n",
              "      <td>0.000899</td>\n",
              "      <td>0.009327</td>\n",
              "      <td>-0.025501</td>\n",
              "      <td>-0.075739</td>\n",
              "      <td>-0.010130</td>\n",
              "      <td>-0.022092</td>\n",
              "      <td>0.023490</td>\n",
              "    </tr>\n",
              "    <tr>\n",
              "      <th>12854203</th>\n",
              "      <td>177098</td>\n",
              "      <td>5</td>\n",
              "      <td>0.800000</td>\n",
              "      <td>0.000159</td>\n",
              "      <td>1.179408</td>\n",
              "      <td>10</td>\n",
              "      <td>0.200000</td>\n",
              "      <td>-1.543006</td>\n",
              "      <td>0.861492</td>\n",
              "      <td>0.137432</td>\n",
              "      <td>...</td>\n",
              "      <td>-0.019974</td>\n",
              "      <td>-0.054636</td>\n",
              "      <td>-0.101043</td>\n",
              "      <td>-0.060037</td>\n",
              "      <td>0.039488</td>\n",
              "      <td>0.001159</td>\n",
              "      <td>-0.045820</td>\n",
              "      <td>-0.001295</td>\n",
              "      <td>-0.095326</td>\n",
              "      <td>-0.068766</td>\n",
              "    </tr>\n",
              "    <tr>\n",
              "      <th>12854209</th>\n",
              "      <td>409040</td>\n",
              "      <td>6</td>\n",
              "      <td>0.833333</td>\n",
              "      <td>0.000159</td>\n",
              "      <td>0.053036</td>\n",
              "      <td>6</td>\n",
              "      <td>0.833333</td>\n",
              "      <td>-1.481215</td>\n",
              "      <td>-0.238643</td>\n",
              "      <td>0.241258</td>\n",
              "      <td>...</td>\n",
              "      <td>-0.001623</td>\n",
              "      <td>-0.020008</td>\n",
              "      <td>-0.018263</td>\n",
              "      <td>-0.007959</td>\n",
              "      <td>-0.057342</td>\n",
              "      <td>-0.036602</td>\n",
              "      <td>-0.042129</td>\n",
              "      <td>-0.060523</td>\n",
              "      <td>0.001147</td>\n",
              "      <td>0.031854</td>\n",
              "    </tr>\n",
              "  </tbody>\n",
              "</table>\n",
              "<p>1795528 rows × 27 columns</p>\n",
              "</div>\n",
              "      <button class=\"colab-df-convert\" onclick=\"convertToInteractive('df-6336e95f-f94e-4dcb-af3a-fde20033998b')\"\n",
              "              title=\"Convert this dataframe to an interactive table.\"\n",
              "              style=\"display:none;\">\n",
              "        \n",
              "  <svg xmlns=\"http://www.w3.org/2000/svg\" height=\"24px\"viewBox=\"0 0 24 24\"\n",
              "       width=\"24px\">\n",
              "    <path d=\"M0 0h24v24H0V0z\" fill=\"none\"/>\n",
              "    <path d=\"M18.56 5.44l.94 2.06.94-2.06 2.06-.94-2.06-.94-.94-2.06-.94 2.06-2.06.94zm-11 1L8.5 8.5l.94-2.06 2.06-.94-2.06-.94L8.5 2.5l-.94 2.06-2.06.94zm10 10l.94 2.06.94-2.06 2.06-.94-2.06-.94-.94-2.06-.94 2.06-2.06.94z\"/><path d=\"M17.41 7.96l-1.37-1.37c-.4-.4-.92-.59-1.43-.59-.52 0-1.04.2-1.43.59L10.3 9.45l-7.72 7.72c-.78.78-.78 2.05 0 2.83L4 21.41c.39.39.9.59 1.41.59.51 0 1.02-.2 1.41-.59l7.78-7.78 2.81-2.81c.8-.78.8-2.07 0-2.86zM5.41 20L4 18.59l7.72-7.72 1.47 1.35L5.41 20z\"/>\n",
              "  </svg>\n",
              "      </button>\n",
              "      \n",
              "  <style>\n",
              "    .colab-df-container {\n",
              "      display:flex;\n",
              "      flex-wrap:wrap;\n",
              "      gap: 12px;\n",
              "    }\n",
              "\n",
              "    .colab-df-convert {\n",
              "      background-color: #E8F0FE;\n",
              "      border: none;\n",
              "      border-radius: 50%;\n",
              "      cursor: pointer;\n",
              "      display: none;\n",
              "      fill: #1967D2;\n",
              "      height: 32px;\n",
              "      padding: 0 0 0 0;\n",
              "      width: 32px;\n",
              "    }\n",
              "\n",
              "    .colab-df-convert:hover {\n",
              "      background-color: #E2EBFA;\n",
              "      box-shadow: 0px 1px 2px rgba(60, 64, 67, 0.3), 0px 1px 3px 1px rgba(60, 64, 67, 0.15);\n",
              "      fill: #174EA6;\n",
              "    }\n",
              "\n",
              "    [theme=dark] .colab-df-convert {\n",
              "      background-color: #3B4455;\n",
              "      fill: #D2E3FC;\n",
              "    }\n",
              "\n",
              "    [theme=dark] .colab-df-convert:hover {\n",
              "      background-color: #434B5C;\n",
              "      box-shadow: 0px 1px 3px 1px rgba(0, 0, 0, 0.15);\n",
              "      filter: drop-shadow(0px 1px 2px rgba(0, 0, 0, 0.3));\n",
              "      fill: #FFFFFF;\n",
              "    }\n",
              "  </style>\n",
              "\n",
              "      <script>\n",
              "        const buttonEl =\n",
              "          document.querySelector('#df-6336e95f-f94e-4dcb-af3a-fde20033998b button.colab-df-convert');\n",
              "        buttonEl.style.display =\n",
              "          google.colab.kernel.accessAllowed ? 'block' : 'none';\n",
              "\n",
              "        async function convertToInteractive(key) {\n",
              "          const element = document.querySelector('#df-6336e95f-f94e-4dcb-af3a-fde20033998b');\n",
              "          const dataTable =\n",
              "            await google.colab.kernel.invokeFunction('convertToInteractive',\n",
              "                                                     [key], {});\n",
              "          if (!dataTable) return;\n",
              "\n",
              "          const docLinkHtml = 'Like what you see? Visit the ' +\n",
              "            '<a target=\"_blank\" href=https://colab.research.google.com/notebooks/data_table.ipynb>data table notebook</a>'\n",
              "            + ' to learn more about interactive tables.';\n",
              "          element.innerHTML = '';\n",
              "          dataTable['output_type'] = 'display_data';\n",
              "          await google.colab.output.renderOutput(dataTable, element);\n",
              "          const docLink = document.createElement('div');\n",
              "          docLink.innerHTML = docLinkHtml;\n",
              "          element.appendChild(docLink);\n",
              "        }\n",
              "      </script>\n",
              "    </div>\n",
              "  </div>\n",
              "  "
            ]
          },
          "metadata": {},
          "execution_count": 95
        }
      ]
    },
    {
      "cell_type": "code",
      "source": [
        "model_test = joblib.load(path_name+\"Q1_FS4_nn1\")"
      ],
      "metadata": {
        "id": "I2xtyyyn9f1v"
      },
      "execution_count": 96,
      "outputs": []
    },
    {
      "cell_type": "markdown",
      "source": [
        "scale the test set"
      ],
      "metadata": {
        "id": "TyDTkQqPDvxi"
      }
    },
    {
      "cell_type": "code",
      "source": [
        "q1testX_mm = mm_scaler1.transform(q1testXsp)"
      ],
      "metadata": {
        "colab": {
          "base_uri": "https://localhost:8080/"
        },
        "id": "uhUQIU4BDvHU",
        "outputId": "43af3ce5-7f89-400a-dc24-f246f5c493ec"
      },
      "execution_count": 97,
      "outputs": [
        {
          "output_type": "stream",
          "name": "stderr",
          "text": [
            "/usr/local/lib/python3.7/dist-packages/sklearn/utils/validation.py:1692: FutureWarning: Feature names only support names that are all strings. Got feature names with dtypes: ['int', 'str']. An error will be raised in 1.2.\n",
            "  FutureWarning,\n"
          ]
        }
      ]
    },
    {
      "cell_type": "code",
      "source": [
        "q1test_y_preds = model_test.predict(q1testX_mm)\n",
        "q1train_y_preds = model_test.predict(Xq1_mm_train)\n"
      ],
      "metadata": {
        "id": "u4hrjV-c9qC0"
      },
      "execution_count": 98,
      "outputs": []
    },
    {
      "cell_type": "code",
      "source": [
        "q1valid_y_preds = model_test.predict(Xq1_mm_valid)"
      ],
      "metadata": {
        "id": "0XPGTn3tNLD9"
      },
      "execution_count": 100,
      "outputs": []
    },
    {
      "cell_type": "code",
      "source": [
        "\n",
        "\n",
        "# plotting precision recall curve and calling out precision at 30% recall\n",
        "plt.figure()\n",
        "ax =plt.gca()\n",
        "# plotting precision-recall curve\n",
        "PrecisionRecallDisplay.from_predictions(yq1_train_np,q1train_y_preds, ax=ax,label=\"Trn\")\n",
        "PrecisionRecallDisplay.from_predictions(yq1_valid_np,q1valid_y_preds, ax=ax,label=\"Val\")\n",
        "PrecisionRecallDisplay.from_predictions(q1test_y,q1test_y_preds, ax=ax,label=\"TEST\")\n",
        "#PrecisionRecallDisplay.from_predictions(yq3test_entode,yq3_test_entode_preds_probs_nn, ax=ax,label=\"En to De\")\n",
        "\n",
        "plt.title(\"Neural Net Precision Recall Curve\")\n",
        "\n",
        "# interpolating to find precision at recall = 30%\n",
        "#precision_at_recall3 = np.interp(x= 0.3,fp = precision3,xp = recall3)\n",
        "#precision_at_recall3_t = np.interp(x= 0.3,xp = precision3_t,fp = recall3_t)\n",
        "\n",
        "# plotting vertical line for recall = 0.3\n",
        "plt.axvline(0.3,color='black',linestyle='--',label = 'Recall 30%')\n",
        "\n",
        "# plotting horizontal line for precision at recall = 0.3, label with rounded precision number\n",
        "#plt.axhline(precision_at_recall3,color='green',linestyle = '--',label = f\"Precision at Recall 30% = {np.around(precision_at_recall3*100,2)}%\")\n",
        "\n",
        "plt.legend()\n",
        "plt.show()"
      ],
      "metadata": {
        "colab": {
          "base_uri": "https://localhost:8080/",
          "height": 295
        },
        "id": "YZLiTcaGFKvK",
        "outputId": "ba9747d9-097c-46f3-d33c-24327af7f4d7"
      },
      "execution_count": 102,
      "outputs": [
        {
          "output_type": "display_data",
          "data": {
            "text/plain": [
              "<Figure size 432x288 with 1 Axes>"
            ],
            "image/png": "[encoded data removed]"
          },
          "metadata": {
            "needs_background": "light"
          }
        }
      ]
    },
    {
      "cell_type": "markdown",
      "source": [
        "At recall of 30%, there is just about 21% on the Test set. Performance matches well with the training and validation set. "
      ],
      "metadata": {
        "id": "ob1dGJ1lFF4I"
      }
    }
  ],
  "metadata": {
    "colab": {
      "collapsed_sections": [],
      "machine_shape": "hm",
      "name": "10_Duolingo_q1lpipe4_MLsplitting_modeling.ipynb",
      "provenance": [],
      "authorship_tag": "ABX9TyMSvpei410quD31ec8frdec",
      "include_colab_link": true
    },
    "gpuClass": "standard",
    "kernelspec": {
      "display_name": "Python 3",
      "name": "python3"
    },
    "language_info": {
      "name": "python"
    },
    "accelerator": "GPU"
  },
  "nbformat": 4,
  "nbformat_minor": 0
}