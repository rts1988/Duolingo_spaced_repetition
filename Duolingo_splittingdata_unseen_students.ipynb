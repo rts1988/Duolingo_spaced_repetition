{
  "nbformat": 4,
  "nbformat_minor": 0,
  "metadata": {
    "colab": {
      "name": "Duolingo_splittingdata_unseen_students.ipynb",
      "provenance": [],
      "authorship_tag": "ABX9TyNLvQ0VkHoZjcDPeRA8WKZ+",
      "include_colab_link": true
    },
    "kernelspec": {
      "name": "python3",
      "display_name": "Python 3"
    },
    "language_info": {
      "name": "python"
    }
  },
  "cells": [
    {
      "cell_type": "markdown",
      "metadata": {
        "id": "view-in-github",
        "colab_type": "text"
      },
      "source": [
        "<a href=\"https://colab.research.google.com/github/rts1988/Duolingo_spaced_repetition/blob/main/Duolingo_splittingdata_unseen_students.ipynb\" target=\"_parent\"><img src=\"https://colab.research.google.com/assets/colab-badge.svg\" alt=\"Open In Colab\"/></a>"
      ]
    },
    {
      "cell_type": "markdown",
      "source": [
        "This notebook is for splitting data into train and test for the unseen students question.\n",
        "\n",
        "We will try to answer the following questions in order.\n",
        "\n",
        "1. Can we train a model to predict whether a student would have forgotten a certain word when they encounter is after some time? \n",
        "2. Based on their performance on one word for a known student, can we improve our prediction on other words? \n",
        "3. Can we extract word-based features that can predict the ease and difficulty of remembering them?\n",
        "4. Can we extract student and session based features that can predict if a word is forgotten?\n",
        "4. Can we predict how easy or difficult a word is to remember for a new language based on our learnings?\n",
        "\n",
        "Splitting the dataset:\n",
        "\n",
        "1. first split - keep two languages aside for cold-start testing - done\n",
        "2. second split - keep some unseen students aside for testing on seen words. include some low and high trace lengths (10%?) - in this notebook. should include all the remaining languages.\n",
        "3. third split - keep some unseen words aside for testing on seen students. include some low and high trace lengths. (20%?)\n",
        "4. the rest. - student word pairings left.   "
      ],
      "metadata": {
        "id": "hg92T939Rfe0"
      }
    },
    {
      "cell_type": "code",
      "execution_count": 1,
      "metadata": {
        "id": "-gOQAkVrRc6t",
        "colab": {
          "base_uri": "https://localhost:8080/"
        },
        "outputId": "d0a0d4d1-8538-4873-b273-c974b5b3bbe1"
      },
      "outputs": [
        {
          "output_type": "stream",
          "name": "stdout",
          "text": [
            "Mounted at /content/drive\n"
          ]
        }
      ],
      "source": [
        "import bz2\n",
        "import pickle\n",
        "import _pickle as cPickle\n",
        "import pandas as pd\n",
        "import seaborn as sns\n",
        "import matplotlib.pyplot as plt\n",
        "import numpy as np\n",
        "\n",
        "from google.colab import drive\n",
        "drive.mount('/content/drive')\n",
        "\n",
        "def decompress_pickle(file):\n",
        " data = bz2.BZ2File(file, 'rb')\n",
        " data = cPickle.load(data)\n",
        " return data\n",
        "\n",
        "def compressed_pickle(title, data):  # do not add extension in filename\n",
        " with bz2.BZ2File(title + '.pbz2', 'w') as f: \n",
        "  cPickle.dump(data, f)\n",
        "\n",
        "path_name = '/content/drive/MyDrive/'"
      ]
    },
    {
      "cell_type": "markdown",
      "source": [
        "We will start with what is leftover from separating out the cold start test sets."
      ],
      "metadata": {
        "id": "MOzM7N7BDhwI"
      }
    },
    {
      "cell_type": "code",
      "source": [
        "datadf2 = decompress_pickle(path_name+\"Coldstart_train.pbz2\")"
      ],
      "metadata": {
        "id": "092mhbh0AaPq"
      },
      "execution_count": 3,
      "outputs": []
    },
    {
      "cell_type": "code",
      "source": [
        "datadf2.shape"
      ],
      "metadata": {
        "colab": {
          "base_uri": "https://localhost:8080/"
        },
        "id": "lH9jzbynDc2q",
        "outputId": "197b02fb-0ec6-4b29-d70f-bbf4f6d99e46"
      },
      "execution_count": 4,
      "outputs": [
        {
          "output_type": "execute_result",
          "data": {
            "text/plain": [
              "(10977396, 12)"
            ]
          },
          "metadata": {},
          "execution_count": 4
        }
      ]
    },
    {
      "cell_type": "markdown",
      "source": [
        "We will prepare the next split of unseen students in the following steps:\n",
        "\n",
        "1. Couple students and native languages\n",
        "2. Get lengths of traces for each\n",
        "3. Get some students with longer traces, some with shorter. The students should be from every language learning group. \n",
        "4. separate out to roughly 10% of the dataset (~109,000 records), ensure target variable p_forgot_bin is stratified. \n"
      ],
      "metadata": {
        "id": "7TwEtBixDmYz"
      }
    },
    {
      "cell_type": "markdown",
      "source": [
        "Checking that native language and student are many-to-one mappings."
      ],
      "metadata": {
        "id": "H0cr_doQF58V"
      }
    },
    {
      "cell_type": "code",
      "source": [
        "datadf2['student_lang'] = datadf2[['user_id','ui_language']].apply(lambda x: (x[0],x[1]),axis=1)"
      ],
      "metadata": {
        "id": "ctHfmMMpDg7y"
      },
      "execution_count": 7,
      "outputs": []
    },
    {
      "cell_type": "code",
      "source": [
        "datadf2.shape"
      ],
      "metadata": {
        "colab": {
          "base_uri": "https://localhost:8080/"
        },
        "id": "jYsLRZ5Uh2Ia",
        "outputId": "df7fd5ae-a923-475c-a6cf-0c43d0ad9a5e"
      },
      "execution_count": 18,
      "outputs": [
        {
          "output_type": "execute_result",
          "data": {
            "text/plain": [
              "(10977396, 14)"
            ]
          },
          "metadata": {},
          "execution_count": 18
        }
      ]
    },
    {
      "cell_type": "code",
      "source": [
        "len(datadf2['student_lang'].unique()), len(datadf2['user_id'].unique()), len(datadf2['ui_language'].unique())"
      ],
      "metadata": {
        "colab": {
          "base_uri": "https://localhost:8080/"
        },
        "id": "Etd-rHV-FSwr",
        "outputId": "a75a36de-9eba-4386-cde7-1173d386bbfc"
      },
      "execution_count": 10,
      "outputs": [
        {
          "output_type": "execute_result",
          "data": {
            "text/plain": [
              "(99027, 98860, 3)"
            ]
          },
          "metadata": {},
          "execution_count": 10
        }
      ]
    },
    {
      "cell_type": "markdown",
      "source": [
        "There are 99027 unique pairings of student and ui language, but only 98860 unique students. Surprisingly, there are some students studying from several native langugaes. let us look at them:\n",
        "\n",
        "num_uilang will hold how many ui languages for each student"
      ],
      "metadata": {
        "id": "RLzB3k7FGcnp"
      }
    },
    {
      "cell_type": "code",
      "source": [
        "num_uilang = datadf2.groupby('user_id')['ui_language'].unique().apply(len)"
      ],
      "metadata": {
        "id": "iRtWx3KmGcVM"
      },
      "execution_count": 11,
      "outputs": []
    },
    {
      "cell_type": "markdown",
      "source": [
        "Filtering to students with more than one ui language"
      ],
      "metadata": {
        "id": "cqqVzuRpHuZR"
      }
    },
    {
      "cell_type": "code",
      "source": [
        "num_uilang[num_uilang>1].sort_values (ascending=False)"
      ],
      "metadata": {
        "colab": {
          "base_uri": "https://localhost:8080/"
        },
        "id": "S0lsbQhAHiXP",
        "outputId": "b7400cc6-57b8-4689-d658-7bc46933d252"
      },
      "execution_count": 14,
      "outputs": [
        {
          "output_type": "execute_result",
          "data": {
            "text/plain": [
              "user_id\n",
              "u:-Ap     2\n",
              "u:i7bd    2\n",
              "u:i9Dt    2\n",
              "u:iAG2    2\n",
              "u:iBC7    2\n",
              "         ..\n",
              "u:gQM_    2\n",
              "u:gWmp    2\n",
              "u:gXXY    2\n",
              "u:g_Dt    2\n",
              "u:q6O     2\n",
              "Name: ui_language, Length: 167, dtype: int64"
            ]
          },
          "metadata": {},
          "execution_count": 14
        }
      ]
    },
    {
      "cell_type": "markdown",
      "source": [
        "There are several (167). Let's leave them in our training set. We will subset students from those who have only one native language and make our unseen student test set from there. "
      ],
      "metadata": {
        "id": "IZuKsoTuHxoC"
      }
    },
    {
      "cell_type": "code",
      "source": [
        "one_uilang_students = list(num_uilang[num_uilang==1].index)"
      ],
      "metadata": {
        "id": "3JzbSpoYIHMW"
      },
      "execution_count": 15,
      "outputs": []
    },
    {
      "cell_type": "markdown",
      "source": [
        "We get the cross tabulation of number of students learning each language:"
      ],
      "metadata": {
        "id": "BYhioDPAIOf4"
      }
    },
    {
      "cell_type": "code",
      "source": [
        "datadf2_oneui = datadf2.loc[datadf2['user_id'].isin(one_uilang_students),:]"
      ],
      "metadata": {
        "id": "acsuCNFeIXzV"
      },
      "execution_count": 16,
      "outputs": []
    },
    {
      "cell_type": "code",
      "source": [
        "datadf2_oneui.shape[0]/datadf2.shape[0]*100"
      ],
      "metadata": {
        "colab": {
          "base_uri": "https://localhost:8080/"
        },
        "id": "oLrcRHO5hujB",
        "outputId": "e91d8b39-1aaf-487e-9dc2-f812115b1f27"
      },
      "execution_count": 20,
      "outputs": [
        {
          "output_type": "execute_result",
          "data": {
            "text/plain": [
              "99.45995389070413"
            ]
          },
          "metadata": {},
          "execution_count": 20
        }
      ]
    },
    {
      "cell_type": "markdown",
      "source": [
        "Let us get the number of students from each learning group that have only one ui"
      ],
      "metadata": {
        "id": "d49j2vcSiiQl"
      }
    },
    {
      "cell_type": "code",
      "source": [
        "lang_pair_counts = datadf2_oneui.groupby(['learning_language','ui_language'])['user_id'].unique().apply(len)"
      ],
      "metadata": {
        "id": "qk1v16JeiKki"
      },
      "execution_count": 21,
      "outputs": []
    },
    {
      "cell_type": "code",
      "source": [
        "lang_pair_counts"
      ],
      "metadata": {
        "colab": {
          "base_uri": "https://localhost:8080/"
        },
        "id": "sTAec4C9iKLT",
        "outputId": "f5b8e257-55f3-4c80-aa47-fe1a898fc20a"
      },
      "execution_count": 22,
      "outputs": [
        {
          "output_type": "execute_result",
          "data": {
            "text/plain": [
              "learning_language  ui_language\n",
              "en                 es             31613\n",
              "                   pt              8591\n",
              "es                 en             31104\n",
              "fr                 en             19878\n",
              "it                 en              6463\n",
              "pt                 en              2679\n",
              "Name: user_id, dtype: int64"
            ]
          },
          "metadata": {},
          "execution_count": 22
        }
      ]
    },
    {
      "cell_type": "code",
      "source": [
        "lang_pair_counts = pd.DataFrame(lang_pair_counts)\n",
        "lang_pair_counts['testset_counts'] = lang_pair_counts*0.1\n",
        "lang_pair_counts"
      ],
      "metadata": {
        "colab": {
          "base_uri": "https://localhost:8080/",
          "height": 352
        },
        "id": "RuP_TL8sivqK",
        "outputId": "25d5d1a0-394a-4ea1-fac3-a83cd2070f8d"
      },
      "execution_count": 108,
      "outputs": [
        {
          "output_type": "error",
          "ename": "ValueError",
          "evalue": "ignored",
          "traceback": [
            "\u001b[0;31m---------------------------------------------------------------------------\u001b[0m",
            "\u001b[0;31mValueError\u001b[0m                                Traceback (most recent call last)",
            "\u001b[0;32m<ipython-input-108-8979aa39345b>\u001b[0m in \u001b[0;36m<module>\u001b[0;34m()\u001b[0m\n\u001b[1;32m      1\u001b[0m \u001b[0mlang_pair_counts\u001b[0m \u001b[0;34m=\u001b[0m \u001b[0mpd\u001b[0m\u001b[0;34m.\u001b[0m\u001b[0mDataFrame\u001b[0m\u001b[0;34m(\u001b[0m\u001b[0mlang_pair_counts\u001b[0m\u001b[0;34m)\u001b[0m\u001b[0;34m\u001b[0m\u001b[0;34m\u001b[0m\u001b[0m\n\u001b[0;32m----> 2\u001b[0;31m \u001b[0mlang_pair_counts\u001b[0m\u001b[0;34m[\u001b[0m\u001b[0;34m'testset_counts'\u001b[0m\u001b[0;34m]\u001b[0m \u001b[0;34m=\u001b[0m \u001b[0mlang_pair_counts\u001b[0m\u001b[0;34m*\u001b[0m\u001b[0;36m0.1\u001b[0m\u001b[0;34m\u001b[0m\u001b[0;34m\u001b[0m\u001b[0m\n\u001b[0m\u001b[1;32m      3\u001b[0m \u001b[0mlang_pair_counts\u001b[0m\u001b[0;34m\u001b[0m\u001b[0;34m\u001b[0m\u001b[0m\n",
            "\u001b[0;32m/usr/local/lib/python3.7/dist-packages/pandas/core/frame.py\u001b[0m in \u001b[0;36m__setitem__\u001b[0;34m(self, key, value)\u001b[0m\n\u001b[1;32m   3600\u001b[0m             \u001b[0mself\u001b[0m\u001b[0;34m.\u001b[0m\u001b[0m_setitem_array\u001b[0m\u001b[0;34m(\u001b[0m\u001b[0mkey\u001b[0m\u001b[0;34m,\u001b[0m \u001b[0mvalue\u001b[0m\u001b[0;34m)\u001b[0m\u001b[0;34m\u001b[0m\u001b[0;34m\u001b[0m\u001b[0m\n\u001b[1;32m   3601\u001b[0m         \u001b[0;32melif\u001b[0m \u001b[0misinstance\u001b[0m\u001b[0;34m(\u001b[0m\u001b[0mvalue\u001b[0m\u001b[0;34m,\u001b[0m \u001b[0mDataFrame\u001b[0m\u001b[0;34m)\u001b[0m\u001b[0;34m:\u001b[0m\u001b[0;34m\u001b[0m\u001b[0;34m\u001b[0m\u001b[0m\n\u001b[0;32m-> 3602\u001b[0;31m             \u001b[0mself\u001b[0m\u001b[0;34m.\u001b[0m\u001b[0m_set_item_frame_value\u001b[0m\u001b[0;34m(\u001b[0m\u001b[0mkey\u001b[0m\u001b[0;34m,\u001b[0m \u001b[0mvalue\u001b[0m\u001b[0;34m)\u001b[0m\u001b[0;34m\u001b[0m\u001b[0;34m\u001b[0m\u001b[0m\n\u001b[0m\u001b[1;32m   3603\u001b[0m         elif (\n\u001b[1;32m   3604\u001b[0m             \u001b[0mis_list_like\u001b[0m\u001b[0;34m(\u001b[0m\u001b[0mvalue\u001b[0m\u001b[0;34m)\u001b[0m\u001b[0;34m\u001b[0m\u001b[0;34m\u001b[0m\u001b[0m\n",
            "\u001b[0;32m/usr/local/lib/python3.7/dist-packages/pandas/core/frame.py\u001b[0m in \u001b[0;36m_set_item_frame_value\u001b[0;34m(self, key, value)\u001b[0m\n\u001b[1;32m   3727\u001b[0m             \u001b[0mlen_cols\u001b[0m \u001b[0;34m=\u001b[0m \u001b[0;36m1\u001b[0m \u001b[0;32mif\u001b[0m \u001b[0mis_scalar\u001b[0m\u001b[0;34m(\u001b[0m\u001b[0mcols\u001b[0m\u001b[0;34m)\u001b[0m \u001b[0;32melse\u001b[0m \u001b[0mlen\u001b[0m\u001b[0;34m(\u001b[0m\u001b[0mcols\u001b[0m\u001b[0;34m)\u001b[0m\u001b[0;34m\u001b[0m\u001b[0;34m\u001b[0m\u001b[0m\n\u001b[1;32m   3728\u001b[0m             \u001b[0;32mif\u001b[0m \u001b[0mlen_cols\u001b[0m \u001b[0;34m!=\u001b[0m \u001b[0mlen\u001b[0m\u001b[0;34m(\u001b[0m\u001b[0mvalue\u001b[0m\u001b[0;34m.\u001b[0m\u001b[0mcolumns\u001b[0m\u001b[0;34m)\u001b[0m\u001b[0;34m:\u001b[0m\u001b[0;34m\u001b[0m\u001b[0;34m\u001b[0m\u001b[0m\n\u001b[0;32m-> 3729\u001b[0;31m                 \u001b[0;32mraise\u001b[0m \u001b[0mValueError\u001b[0m\u001b[0;34m(\u001b[0m\u001b[0;34m\"Columns must be same length as key\"\u001b[0m\u001b[0;34m)\u001b[0m\u001b[0;34m\u001b[0m\u001b[0;34m\u001b[0m\u001b[0m\n\u001b[0m\u001b[1;32m   3730\u001b[0m \u001b[0;34m\u001b[0m\u001b[0m\n\u001b[1;32m   3731\u001b[0m             \u001b[0;31m# align right-hand-side columns if self.columns\u001b[0m\u001b[0;34m\u001b[0m\u001b[0;34m\u001b[0m\u001b[0;34m\u001b[0m\u001b[0m\n",
            "\u001b[0;31mValueError\u001b[0m: Columns must be same length as key"
          ]
        }
      ]
    },
    {
      "cell_type": "markdown",
      "source": [
        "Now we know how many students to get from each language group. Now we will try and stratify further by # of words, # of records. "
      ],
      "metadata": {
        "id": "c33lX7adjP5M"
      }
    },
    {
      "cell_type": "code",
      "source": [
        "num_words = datadf2_oneui.groupby('user_id')['lexeme_id'].unique().apply(len)"
      ],
      "metadata": {
        "id": "idcNEE7Ui8Tk"
      },
      "execution_count": 37,
      "outputs": []
    },
    {
      "cell_type": "code",
      "source": [
        "num_records = datadf2_oneui.groupby('user_id')['p_recall'].count()"
      ],
      "metadata": {
        "id": "Ny-0Sg-Ej45z"
      },
      "execution_count": 38,
      "outputs": []
    },
    {
      "cell_type": "code",
      "source": [
        "student_details = pd.DataFrame({'num_words':num_words,'num_records':num_records})\n",
        "student_details.head()"
      ],
      "metadata": {
        "colab": {
          "base_uri": "https://localhost:8080/",
          "height": 237
        },
        "id": "uUTis_XCj_nZ",
        "outputId": "e8268ff5-8cc5-4f38-ba51-6cefd197da76"
      },
      "execution_count": 39,
      "outputs": [
        {
          "output_type": "execute_result",
          "data": {
            "text/plain": [
              "         num_words  num_records\n",
              "user_id                        \n",
              "u:-3I           13           14\n",
              "u:-3n          112          124\n",
              "u:-4V           13           26\n",
              "u:-4y           26           68\n",
              "u:-69           15           15"
            ],
            "text/html": [
              "\n",
              "  <div id=\"df-48d04983-adfd-4d91-b792-a1fa41802820\">\n",
              "    <div class=\"colab-df-container\">\n",
              "      <div>\n",
              "<style scoped>\n",
              "    .dataframe tbody tr th:only-of-type {\n",
              "        vertical-align: middle;\n",
              "    }\n",
              "\n",
              "    .dataframe tbody tr th {\n",
              "        vertical-align: top;\n",
              "    }\n",
              "\n",
              "    .dataframe thead th {\n",
              "        text-align: right;\n",
              "    }\n",
              "</style>\n",
              "<table border=\"1\" class=\"dataframe\">\n",
              "  <thead>\n",
              "    <tr style=\"text-align: right;\">\n",
              "      <th></th>\n",
              "      <th>num_words</th>\n",
              "      <th>num_records</th>\n",
              "    </tr>\n",
              "    <tr>\n",
              "      <th>user_id</th>\n",
              "      <th></th>\n",
              "      <th></th>\n",
              "    </tr>\n",
              "  </thead>\n",
              "  <tbody>\n",
              "    <tr>\n",
              "      <th>u:-3I</th>\n",
              "      <td>13</td>\n",
              "      <td>14</td>\n",
              "    </tr>\n",
              "    <tr>\n",
              "      <th>u:-3n</th>\n",
              "      <td>112</td>\n",
              "      <td>124</td>\n",
              "    </tr>\n",
              "    <tr>\n",
              "      <th>u:-4V</th>\n",
              "      <td>13</td>\n",
              "      <td>26</td>\n",
              "    </tr>\n",
              "    <tr>\n",
              "      <th>u:-4y</th>\n",
              "      <td>26</td>\n",
              "      <td>68</td>\n",
              "    </tr>\n",
              "    <tr>\n",
              "      <th>u:-69</th>\n",
              "      <td>15</td>\n",
              "      <td>15</td>\n",
              "    </tr>\n",
              "  </tbody>\n",
              "</table>\n",
              "</div>\n",
              "      <button class=\"colab-df-convert\" onclick=\"convertToInteractive('df-48d04983-adfd-4d91-b792-a1fa41802820')\"\n",
              "              title=\"Convert this dataframe to an interactive table.\"\n",
              "              style=\"display:none;\">\n",
              "        \n",
              "  <svg xmlns=\"http://www.w3.org/2000/svg\" height=\"24px\"viewBox=\"0 0 24 24\"\n",
              "       width=\"24px\">\n",
              "    <path d=\"M0 0h24v24H0V0z\" fill=\"none\"/>\n",
              "    <path d=\"M18.56 5.44l.94 2.06.94-2.06 2.06-.94-2.06-.94-.94-2.06-.94 2.06-2.06.94zm-11 1L8.5 8.5l.94-2.06 2.06-.94-2.06-.94L8.5 2.5l-.94 2.06-2.06.94zm10 10l.94 2.06.94-2.06 2.06-.94-2.06-.94-.94-2.06-.94 2.06-2.06.94z\"/><path d=\"M17.41 7.96l-1.37-1.37c-.4-.4-.92-.59-1.43-.59-.52 0-1.04.2-1.43.59L10.3 9.45l-7.72 7.72c-.78.78-.78 2.05 0 2.83L4 21.41c.39.39.9.59 1.41.59.51 0 1.02-.2 1.41-.59l7.78-7.78 2.81-2.81c.8-.78.8-2.07 0-2.86zM5.41 20L4 18.59l7.72-7.72 1.47 1.35L5.41 20z\"/>\n",
              "  </svg>\n",
              "      </button>\n",
              "      \n",
              "  <style>\n",
              "    .colab-df-container {\n",
              "      display:flex;\n",
              "      flex-wrap:wrap;\n",
              "      gap: 12px;\n",
              "    }\n",
              "\n",
              "    .colab-df-convert {\n",
              "      background-color: #E8F0FE;\n",
              "      border: none;\n",
              "      border-radius: 50%;\n",
              "      cursor: pointer;\n",
              "      display: none;\n",
              "      fill: #1967D2;\n",
              "      height: 32px;\n",
              "      padding: 0 0 0 0;\n",
              "      width: 32px;\n",
              "    }\n",
              "\n",
              "    .colab-df-convert:hover {\n",
              "      background-color: #E2EBFA;\n",
              "      box-shadow: 0px 1px 2px rgba(60, 64, 67, 0.3), 0px 1px 3px 1px rgba(60, 64, 67, 0.15);\n",
              "      fill: #174EA6;\n",
              "    }\n",
              "\n",
              "    [theme=dark] .colab-df-convert {\n",
              "      background-color: #3B4455;\n",
              "      fill: #D2E3FC;\n",
              "    }\n",
              "\n",
              "    [theme=dark] .colab-df-convert:hover {\n",
              "      background-color: #434B5C;\n",
              "      box-shadow: 0px 1px 3px 1px rgba(0, 0, 0, 0.15);\n",
              "      filter: drop-shadow(0px 1px 2px rgba(0, 0, 0, 0.3));\n",
              "      fill: #FFFFFF;\n",
              "    }\n",
              "  </style>\n",
              "\n",
              "      <script>\n",
              "        const buttonEl =\n",
              "          document.querySelector('#df-48d04983-adfd-4d91-b792-a1fa41802820 button.colab-df-convert');\n",
              "        buttonEl.style.display =\n",
              "          google.colab.kernel.accessAllowed ? 'block' : 'none';\n",
              "\n",
              "        async function convertToInteractive(key) {\n",
              "          const element = document.querySelector('#df-48d04983-adfd-4d91-b792-a1fa41802820');\n",
              "          const dataTable =\n",
              "            await google.colab.kernel.invokeFunction('convertToInteractive',\n",
              "                                                     [key], {});\n",
              "          if (!dataTable) return;\n",
              "\n",
              "          const docLinkHtml = 'Like what you see? Visit the ' +\n",
              "            '<a target=\"_blank\" href=https://colab.research.google.com/notebooks/data_table.ipynb>data table notebook</a>'\n",
              "            + ' to learn more about interactive tables.';\n",
              "          element.innerHTML = '';\n",
              "          dataTable['output_type'] = 'display_data';\n",
              "          await google.colab.output.renderOutput(dataTable, element);\n",
              "          const docLink = document.createElement('div');\n",
              "          docLink.innerHTML = docLinkHtml;\n",
              "          element.appendChild(docLink);\n",
              "        }\n",
              "      </script>\n",
              "    </div>\n",
              "  </div>\n",
              "  "
            ]
          },
          "metadata": {},
          "execution_count": 39
        }
      ]
    },
    {
      "cell_type": "code",
      "source": [
        "student_details['Average_rec_per_word'] = student_details['num_records']/student_details['num_words']"
      ],
      "metadata": {
        "id": "QN70aPlSkhla"
      },
      "execution_count": 40,
      "outputs": []
    },
    {
      "cell_type": "markdown",
      "source": [
        "The distribution of average records per word (number of sessions per word) is plotted below: (log scale)"
      ],
      "metadata": {
        "id": "fBUILoF2lFSO"
      }
    },
    {
      "cell_type": "code",
      "source": [
        "student_details['Average_rec_per_word'].hist(log=True,bins=20)"
      ],
      "metadata": {
        "colab": {
          "base_uri": "https://localhost:8080/",
          "height": 283
        },
        "id": "BLpvJIo9kxqO",
        "outputId": "648c3234-e9f8-43d4-f95a-03e811b5ff5d"
      },
      "execution_count": 43,
      "outputs": [
        {
          "output_type": "execute_result",
          "data": {
            "text/plain": [
              "<matplotlib.axes._subplots.AxesSubplot at 0x7fa94f289250>"
            ]
          },
          "metadata": {},
          "execution_count": 43
        },
        {
          "output_type": "display_data",
          "data": {
            "text/plain": [
              "<Figure size 432x288 with 1 Axes>"
            ],
            "image/png": "[encoded data removed]"
          },
          "metadata": {
            "needs_background": "light"
          }
        }
      ]
    },
    {
      "cell_type": "markdown",
      "source": [
        "The distribution of the number of records per word for each student is skewed to the right. Most students had fewer than 10 records per word. \n",
        "\n",
        "The distribution of number of words learned per student is below:"
      ],
      "metadata": {
        "id": "mcrYKD8wk-64"
      }
    },
    {
      "cell_type": "code",
      "source": [
        "student_details['num_words'].hist(log=True,bins=20)"
      ],
      "metadata": {
        "colab": {
          "base_uri": "https://localhost:8080/",
          "height": 283
        },
        "id": "7Uls0xrClZvm",
        "outputId": "c2682d51-e86b-4593-af96-62fa3b908b7a"
      },
      "execution_count": 45,
      "outputs": [
        {
          "output_type": "execute_result",
          "data": {
            "text/plain": [
              "<matplotlib.axes._subplots.AxesSubplot at 0x7fa98fad4ed0>"
            ]
          },
          "metadata": {},
          "execution_count": 45
        },
        {
          "output_type": "display_data",
          "data": {
            "text/plain": [
              "<Figure size 432x288 with 1 Axes>"
            ],
            "image/png": "[encoded data removed]"
          },
          "metadata": {
            "needs_background": "light"
          }
        }
      ]
    },
    {
      "cell_type": "markdown",
      "source": [
        "Most students practiced ~0- 100 words in the two week period. \n",
        "\n",
        "The distribution of number of records is below:"
      ],
      "metadata": {
        "id": "Ov4mdDzrll1R"
      }
    },
    {
      "cell_type": "code",
      "source": [
        "student_details['num_records'].hist(log=True,bins=20)"
      ],
      "metadata": {
        "colab": {
          "base_uri": "https://localhost:8080/",
          "height": 283
        },
        "id": "Q_mZj1MZlyGZ",
        "outputId": "624d0c4d-cc93-4ae7-c326-0175de286c7b"
      },
      "execution_count": 46,
      "outputs": [
        {
          "output_type": "execute_result",
          "data": {
            "text/plain": [
              "<matplotlib.axes._subplots.AxesSubplot at 0x7fa98d746150>"
            ]
          },
          "metadata": {},
          "execution_count": 46
        },
        {
          "output_type": "display_data",
          "data": {
            "text/plain": [
              "<Figure size 432x288 with 1 Axes>"
            ],
            "image/png": "[encoded data removed]"
          },
          "metadata": {
            "needs_background": "light"
          }
        }
      ]
    },
    {
      "cell_type": "markdown",
      "source": [
        "Most students have less than 1000 records, although there are around 10 students with > 17,500 records. Our test set should have a similar shaped distribution.\n",
        "\n",
        "Now we will get the language group for each student."
      ],
      "metadata": {
        "id": "geR-tFsnmIUr"
      }
    },
    {
      "cell_type": "code",
      "source": [
        "lang_pairs = list(zip(datadf2_oneui['ui_language'],datadf2_oneui['learning_language']))\n",
        "stud_lang_dict = dict(zip(list(datadf2_oneui['user_id']),lang_pairs))"
      ],
      "metadata": {
        "id": "2ku7dDDikowL"
      },
      "execution_count": 54,
      "outputs": []
    },
    {
      "cell_type": "code",
      "source": [
        "len(stud_lang_dict.keys())"
      ],
      "metadata": {
        "colab": {
          "base_uri": "https://localhost:8080/"
        },
        "id": "XUKZiZL7nC9g",
        "outputId": "f8260ab9-70d3-4e19-eac9-ac6a192f80ef"
      },
      "execution_count": 56,
      "outputs": [
        {
          "output_type": "execute_result",
          "data": {
            "text/plain": [
              "98693"
            ]
          },
          "metadata": {},
          "execution_count": 56
        }
      ]
    },
    {
      "cell_type": "code",
      "source": [
        "student_details = student_details.reset_index()\n",
        "student_details.head()"
      ],
      "metadata": {
        "colab": {
          "base_uri": "https://localhost:8080/",
          "height": 206
        },
        "id": "JmyD6y_DoEJJ",
        "outputId": "a5ab4cc2-8329-4d95-cf73-d494bbe597a5"
      },
      "execution_count": 59,
      "outputs": [
        {
          "output_type": "execute_result",
          "data": {
            "text/plain": [
              "  user_id  num_words  num_records  Average_rec_per_word\n",
              "0   u:-3I         13           14              1.076923\n",
              "1   u:-3n        112          124              1.107143\n",
              "2   u:-4V         13           26              2.000000\n",
              "3   u:-4y         26           68              2.615385\n",
              "4   u:-69         15           15              1.000000"
            ],
            "text/html": [
              "\n",
              "  <div id=\"df-b4f1a2ef-4dfd-4e20-88dc-1dcc3df60bc4\">\n",
              "    <div class=\"colab-df-container\">\n",
              "      <div>\n",
              "<style scoped>\n",
              "    .dataframe tbody tr th:only-of-type {\n",
              "        vertical-align: middle;\n",
              "    }\n",
              "\n",
              "    .dataframe tbody tr th {\n",
              "        vertical-align: top;\n",
              "    }\n",
              "\n",
              "    .dataframe thead th {\n",
              "        text-align: right;\n",
              "    }\n",
              "</style>\n",
              "<table border=\"1\" class=\"dataframe\">\n",
              "  <thead>\n",
              "    <tr style=\"text-align: right;\">\n",
              "      <th></th>\n",
              "      <th>user_id</th>\n",
              "      <th>num_words</th>\n",
              "      <th>num_records</th>\n",
              "      <th>Average_rec_per_word</th>\n",
              "    </tr>\n",
              "  </thead>\n",
              "  <tbody>\n",
              "    <tr>\n",
              "      <th>0</th>\n",
              "      <td>u:-3I</td>\n",
              "      <td>13</td>\n",
              "      <td>14</td>\n",
              "      <td>1.076923</td>\n",
              "    </tr>\n",
              "    <tr>\n",
              "      <th>1</th>\n",
              "      <td>u:-3n</td>\n",
              "      <td>112</td>\n",
              "      <td>124</td>\n",
              "      <td>1.107143</td>\n",
              "    </tr>\n",
              "    <tr>\n",
              "      <th>2</th>\n",
              "      <td>u:-4V</td>\n",
              "      <td>13</td>\n",
              "      <td>26</td>\n",
              "      <td>2.000000</td>\n",
              "    </tr>\n",
              "    <tr>\n",
              "      <th>3</th>\n",
              "      <td>u:-4y</td>\n",
              "      <td>26</td>\n",
              "      <td>68</td>\n",
              "      <td>2.615385</td>\n",
              "    </tr>\n",
              "    <tr>\n",
              "      <th>4</th>\n",
              "      <td>u:-69</td>\n",
              "      <td>15</td>\n",
              "      <td>15</td>\n",
              "      <td>1.000000</td>\n",
              "    </tr>\n",
              "  </tbody>\n",
              "</table>\n",
              "</div>\n",
              "      <button class=\"colab-df-convert\" onclick=\"convertToInteractive('df-b4f1a2ef-4dfd-4e20-88dc-1dcc3df60bc4')\"\n",
              "              title=\"Convert this dataframe to an interactive table.\"\n",
              "              style=\"display:none;\">\n",
              "        \n",
              "  <svg xmlns=\"http://www.w3.org/2000/svg\" height=\"24px\"viewBox=\"0 0 24 24\"\n",
              "       width=\"24px\">\n",
              "    <path d=\"M0 0h24v24H0V0z\" fill=\"none\"/>\n",
              "    <path d=\"M18.56 5.44l.94 2.06.94-2.06 2.06-.94-2.06-.94-.94-2.06-.94 2.06-2.06.94zm-11 1L8.5 8.5l.94-2.06 2.06-.94-2.06-.94L8.5 2.5l-.94 2.06-2.06.94zm10 10l.94 2.06.94-2.06 2.06-.94-2.06-.94-.94-2.06-.94 2.06-2.06.94z\"/><path d=\"M17.41 7.96l-1.37-1.37c-.4-.4-.92-.59-1.43-.59-.52 0-1.04.2-1.43.59L10.3 9.45l-7.72 7.72c-.78.78-.78 2.05 0 2.83L4 21.41c.39.39.9.59 1.41.59.51 0 1.02-.2 1.41-.59l7.78-7.78 2.81-2.81c.8-.78.8-2.07 0-2.86zM5.41 20L4 18.59l7.72-7.72 1.47 1.35L5.41 20z\"/>\n",
              "  </svg>\n",
              "      </button>\n",
              "      \n",
              "  <style>\n",
              "    .colab-df-container {\n",
              "      display:flex;\n",
              "      flex-wrap:wrap;\n",
              "      gap: 12px;\n",
              "    }\n",
              "\n",
              "    .colab-df-convert {\n",
              "      background-color: #E8F0FE;\n",
              "      border: none;\n",
              "      border-radius: 50%;\n",
              "      cursor: pointer;\n",
              "      display: none;\n",
              "      fill: #1967D2;\n",
              "      height: 32px;\n",
              "      padding: 0 0 0 0;\n",
              "      width: 32px;\n",
              "    }\n",
              "\n",
              "    .colab-df-convert:hover {\n",
              "      background-color: #E2EBFA;\n",
              "      box-shadow: 0px 1px 2px rgba(60, 64, 67, 0.3), 0px 1px 3px 1px rgba(60, 64, 67, 0.15);\n",
              "      fill: #174EA6;\n",
              "    }\n",
              "\n",
              "    [theme=dark] .colab-df-convert {\n",
              "      background-color: #3B4455;\n",
              "      fill: #D2E3FC;\n",
              "    }\n",
              "\n",
              "    [theme=dark] .colab-df-convert:hover {\n",
              "      background-color: #434B5C;\n",
              "      box-shadow: 0px 1px 3px 1px rgba(0, 0, 0, 0.15);\n",
              "      filter: drop-shadow(0px 1px 2px rgba(0, 0, 0, 0.3));\n",
              "      fill: #FFFFFF;\n",
              "    }\n",
              "  </style>\n",
              "\n",
              "      <script>\n",
              "        const buttonEl =\n",
              "          document.querySelector('#df-b4f1a2ef-4dfd-4e20-88dc-1dcc3df60bc4 button.colab-df-convert');\n",
              "        buttonEl.style.display =\n",
              "          google.colab.kernel.accessAllowed ? 'block' : 'none';\n",
              "\n",
              "        async function convertToInteractive(key) {\n",
              "          const element = document.querySelector('#df-b4f1a2ef-4dfd-4e20-88dc-1dcc3df60bc4');\n",
              "          const dataTable =\n",
              "            await google.colab.kernel.invokeFunction('convertToInteractive',\n",
              "                                                     [key], {});\n",
              "          if (!dataTable) return;\n",
              "\n",
              "          const docLinkHtml = 'Like what you see? Visit the ' +\n",
              "            '<a target=\"_blank\" href=https://colab.research.google.com/notebooks/data_table.ipynb>data table notebook</a>'\n",
              "            + ' to learn more about interactive tables.';\n",
              "          element.innerHTML = '';\n",
              "          dataTable['output_type'] = 'display_data';\n",
              "          await google.colab.output.renderOutput(dataTable, element);\n",
              "          const docLink = document.createElement('div');\n",
              "          docLink.innerHTML = docLinkHtml;\n",
              "          element.appendChild(docLink);\n",
              "        }\n",
              "      </script>\n",
              "    </div>\n",
              "  </div>\n",
              "  "
            ]
          },
          "metadata": {},
          "execution_count": 59
        }
      ]
    },
    {
      "cell_type": "code",
      "source": [
        "student_details['lang_group'] = student_details['user_id'].map(stud_lang_dict)"
      ],
      "metadata": {
        "id": "sAqi3tmYnwFf"
      },
      "execution_count": 60,
      "outputs": []
    },
    {
      "cell_type": "code",
      "source": [
        "student_details.head()"
      ],
      "metadata": {
        "colab": {
          "base_uri": "https://localhost:8080/",
          "height": 206
        },
        "id": "ha0UwMUxoJ7P",
        "outputId": "776e5b40-923b-4345-b371-7af17d71ec69"
      },
      "execution_count": 61,
      "outputs": [
        {
          "output_type": "execute_result",
          "data": {
            "text/plain": [
              "  user_id  num_words  num_records  Average_rec_per_word lang_group\n",
              "0   u:-3I         13           14              1.076923   (en, fr)\n",
              "1   u:-3n        112          124              1.107143   (en, es)\n",
              "2   u:-4V         13           26              2.000000   (en, fr)\n",
              "3   u:-4y         26           68              2.615385   (en, es)\n",
              "4   u:-69         15           15              1.000000   (en, fr)"
            ],
            "text/html": [
              "\n",
              "  <div id=\"df-8493face-2223-461c-9472-890af5d7cf3a\">\n",
              "    <div class=\"colab-df-container\">\n",
              "      <div>\n",
              "<style scoped>\n",
              "    .dataframe tbody tr th:only-of-type {\n",
              "        vertical-align: middle;\n",
              "    }\n",
              "\n",
              "    .dataframe tbody tr th {\n",
              "        vertical-align: top;\n",
              "    }\n",
              "\n",
              "    .dataframe thead th {\n",
              "        text-align: right;\n",
              "    }\n",
              "</style>\n",
              "<table border=\"1\" class=\"dataframe\">\n",
              "  <thead>\n",
              "    <tr style=\"text-align: right;\">\n",
              "      <th></th>\n",
              "      <th>user_id</th>\n",
              "      <th>num_words</th>\n",
              "      <th>num_records</th>\n",
              "      <th>Average_rec_per_word</th>\n",
              "      <th>lang_group</th>\n",
              "    </tr>\n",
              "  </thead>\n",
              "  <tbody>\n",
              "    <tr>\n",
              "      <th>0</th>\n",
              "      <td>u:-3I</td>\n",
              "      <td>13</td>\n",
              "      <td>14</td>\n",
              "      <td>1.076923</td>\n",
              "      <td>(en, fr)</td>\n",
              "    </tr>\n",
              "    <tr>\n",
              "      <th>1</th>\n",
              "      <td>u:-3n</td>\n",
              "      <td>112</td>\n",
              "      <td>124</td>\n",
              "      <td>1.107143</td>\n",
              "      <td>(en, es)</td>\n",
              "    </tr>\n",
              "    <tr>\n",
              "      <th>2</th>\n",
              "      <td>u:-4V</td>\n",
              "      <td>13</td>\n",
              "      <td>26</td>\n",
              "      <td>2.000000</td>\n",
              "      <td>(en, fr)</td>\n",
              "    </tr>\n",
              "    <tr>\n",
              "      <th>3</th>\n",
              "      <td>u:-4y</td>\n",
              "      <td>26</td>\n",
              "      <td>68</td>\n",
              "      <td>2.615385</td>\n",
              "      <td>(en, es)</td>\n",
              "    </tr>\n",
              "    <tr>\n",
              "      <th>4</th>\n",
              "      <td>u:-69</td>\n",
              "      <td>15</td>\n",
              "      <td>15</td>\n",
              "      <td>1.000000</td>\n",
              "      <td>(en, fr)</td>\n",
              "    </tr>\n",
              "  </tbody>\n",
              "</table>\n",
              "</div>\n",
              "      <button class=\"colab-df-convert\" onclick=\"convertToInteractive('df-8493face-2223-461c-9472-890af5d7cf3a')\"\n",
              "              title=\"Convert this dataframe to an interactive table.\"\n",
              "              style=\"display:none;\">\n",
              "        \n",
              "  <svg xmlns=\"http://www.w3.org/2000/svg\" height=\"24px\"viewBox=\"0 0 24 24\"\n",
              "       width=\"24px\">\n",
              "    <path d=\"M0 0h24v24H0V0z\" fill=\"none\"/>\n",
              "    <path d=\"M18.56 5.44l.94 2.06.94-2.06 2.06-.94-2.06-.94-.94-2.06-.94 2.06-2.06.94zm-11 1L8.5 8.5l.94-2.06 2.06-.94-2.06-.94L8.5 2.5l-.94 2.06-2.06.94zm10 10l.94 2.06.94-2.06 2.06-.94-2.06-.94-.94-2.06-.94 2.06-2.06.94z\"/><path d=\"M17.41 7.96l-1.37-1.37c-.4-.4-.92-.59-1.43-.59-.52 0-1.04.2-1.43.59L10.3 9.45l-7.72 7.72c-.78.78-.78 2.05 0 2.83L4 21.41c.39.39.9.59 1.41.59.51 0 1.02-.2 1.41-.59l7.78-7.78 2.81-2.81c.8-.78.8-2.07 0-2.86zM5.41 20L4 18.59l7.72-7.72 1.47 1.35L5.41 20z\"/>\n",
              "  </svg>\n",
              "      </button>\n",
              "      \n",
              "  <style>\n",
              "    .colab-df-container {\n",
              "      display:flex;\n",
              "      flex-wrap:wrap;\n",
              "      gap: 12px;\n",
              "    }\n",
              "\n",
              "    .colab-df-convert {\n",
              "      background-color: #E8F0FE;\n",
              "      border: none;\n",
              "      border-radius: 50%;\n",
              "      cursor: pointer;\n",
              "      display: none;\n",
              "      fill: #1967D2;\n",
              "      height: 32px;\n",
              "      padding: 0 0 0 0;\n",
              "      width: 32px;\n",
              "    }\n",
              "\n",
              "    .colab-df-convert:hover {\n",
              "      background-color: #E2EBFA;\n",
              "      box-shadow: 0px 1px 2px rgba(60, 64, 67, 0.3), 0px 1px 3px 1px rgba(60, 64, 67, 0.15);\n",
              "      fill: #174EA6;\n",
              "    }\n",
              "\n",
              "    [theme=dark] .colab-df-convert {\n",
              "      background-color: #3B4455;\n",
              "      fill: #D2E3FC;\n",
              "    }\n",
              "\n",
              "    [theme=dark] .colab-df-convert:hover {\n",
              "      background-color: #434B5C;\n",
              "      box-shadow: 0px 1px 3px 1px rgba(0, 0, 0, 0.15);\n",
              "      filter: drop-shadow(0px 1px 2px rgba(0, 0, 0, 0.3));\n",
              "      fill: #FFFFFF;\n",
              "    }\n",
              "  </style>\n",
              "\n",
              "      <script>\n",
              "        const buttonEl =\n",
              "          document.querySelector('#df-8493face-2223-461c-9472-890af5d7cf3a button.colab-df-convert');\n",
              "        buttonEl.style.display =\n",
              "          google.colab.kernel.accessAllowed ? 'block' : 'none';\n",
              "\n",
              "        async function convertToInteractive(key) {\n",
              "          const element = document.querySelector('#df-8493face-2223-461c-9472-890af5d7cf3a');\n",
              "          const dataTable =\n",
              "            await google.colab.kernel.invokeFunction('convertToInteractive',\n",
              "                                                     [key], {});\n",
              "          if (!dataTable) return;\n",
              "\n",
              "          const docLinkHtml = 'Like what you see? Visit the ' +\n",
              "            '<a target=\"_blank\" href=https://colab.research.google.com/notebooks/data_table.ipynb>data table notebook</a>'\n",
              "            + ' to learn more about interactive tables.';\n",
              "          element.innerHTML = '';\n",
              "          dataTable['output_type'] = 'display_data';\n",
              "          await google.colab.output.renderOutput(dataTable, element);\n",
              "          const docLink = document.createElement('div');\n",
              "          docLink.innerHTML = docLinkHtml;\n",
              "          element.appendChild(docLink);\n",
              "        }\n",
              "      </script>\n",
              "    </div>\n",
              "  </div>\n",
              "  "
            ]
          },
          "metadata": {},
          "execution_count": 61
        }
      ]
    },
    {
      "cell_type": "markdown",
      "source": [
        "We will go through each language group (ui , learning langugae), and get a random cut of 10% of the students, stratifying by average records per word. "
      ],
      "metadata": {
        "id": "NlMVOlbui70e"
      }
    },
    {
      "cell_type": "code",
      "source": [
        "from sklearn.model_selection import train_test_split"
      ],
      "metadata": {
        "id": "l3K47IZii60M"
      },
      "execution_count": 63,
      "outputs": []
    },
    {
      "cell_type": "code",
      "source": [
        "lang_pair_counts"
      ],
      "metadata": {
        "colab": {
          "base_uri": "https://localhost:8080/",
          "height": 269
        },
        "id": "28TWVTGJojx_",
        "outputId": "c308cca5-e893-4243-8eed-039887237b2a"
      },
      "execution_count": 64,
      "outputs": [
        {
          "output_type": "execute_result",
          "data": {
            "text/plain": [
              "                               user_id  testset_counts\n",
              "learning_language ui_language                         \n",
              "en                es             31613          3161.3\n",
              "                  pt              8591           859.1\n",
              "es                en             31104          3110.4\n",
              "fr                en             19878          1987.8\n",
              "it                en              6463           646.3\n",
              "pt                en              2679           267.9"
            ],
            "text/html": [
              "\n",
              "  <div id=\"df-215517d2-dfe8-4295-82df-dee5c320f158\">\n",
              "    <div class=\"colab-df-container\">\n",
              "      <div>\n",
              "<style scoped>\n",
              "    .dataframe tbody tr th:only-of-type {\n",
              "        vertical-align: middle;\n",
              "    }\n",
              "\n",
              "    .dataframe tbody tr th {\n",
              "        vertical-align: top;\n",
              "    }\n",
              "\n",
              "    .dataframe thead th {\n",
              "        text-align: right;\n",
              "    }\n",
              "</style>\n",
              "<table border=\"1\" class=\"dataframe\">\n",
              "  <thead>\n",
              "    <tr style=\"text-align: right;\">\n",
              "      <th></th>\n",
              "      <th></th>\n",
              "      <th>user_id</th>\n",
              "      <th>testset_counts</th>\n",
              "    </tr>\n",
              "    <tr>\n",
              "      <th>learning_language</th>\n",
              "      <th>ui_language</th>\n",
              "      <th></th>\n",
              "      <th></th>\n",
              "    </tr>\n",
              "  </thead>\n",
              "  <tbody>\n",
              "    <tr>\n",
              "      <th rowspan=\"2\" valign=\"top\">en</th>\n",
              "      <th>es</th>\n",
              "      <td>31613</td>\n",
              "      <td>3161.3</td>\n",
              "    </tr>\n",
              "    <tr>\n",
              "      <th>pt</th>\n",
              "      <td>8591</td>\n",
              "      <td>859.1</td>\n",
              "    </tr>\n",
              "    <tr>\n",
              "      <th>es</th>\n",
              "      <th>en</th>\n",
              "      <td>31104</td>\n",
              "      <td>3110.4</td>\n",
              "    </tr>\n",
              "    <tr>\n",
              "      <th>fr</th>\n",
              "      <th>en</th>\n",
              "      <td>19878</td>\n",
              "      <td>1987.8</td>\n",
              "    </tr>\n",
              "    <tr>\n",
              "      <th>it</th>\n",
              "      <th>en</th>\n",
              "      <td>6463</td>\n",
              "      <td>646.3</td>\n",
              "    </tr>\n",
              "    <tr>\n",
              "      <th>pt</th>\n",
              "      <th>en</th>\n",
              "      <td>2679</td>\n",
              "      <td>267.9</td>\n",
              "    </tr>\n",
              "  </tbody>\n",
              "</table>\n",
              "</div>\n",
              "      <button class=\"colab-df-convert\" onclick=\"convertToInteractive('df-215517d2-dfe8-4295-82df-dee5c320f158')\"\n",
              "              title=\"Convert this dataframe to an interactive table.\"\n",
              "              style=\"display:none;\">\n",
              "        \n",
              "  <svg xmlns=\"http://www.w3.org/2000/svg\" height=\"24px\"viewBox=\"0 0 24 24\"\n",
              "       width=\"24px\">\n",
              "    <path d=\"M0 0h24v24H0V0z\" fill=\"none\"/>\n",
              "    <path d=\"M18.56 5.44l.94 2.06.94-2.06 2.06-.94-2.06-.94-.94-2.06-.94 2.06-2.06.94zm-11 1L8.5 8.5l.94-2.06 2.06-.94-2.06-.94L8.5 2.5l-.94 2.06-2.06.94zm10 10l.94 2.06.94-2.06 2.06-.94-2.06-.94-.94-2.06-.94 2.06-2.06.94z\"/><path d=\"M17.41 7.96l-1.37-1.37c-.4-.4-.92-.59-1.43-.59-.52 0-1.04.2-1.43.59L10.3 9.45l-7.72 7.72c-.78.78-.78 2.05 0 2.83L4 21.41c.39.39.9.59 1.41.59.51 0 1.02-.2 1.41-.59l7.78-7.78 2.81-2.81c.8-.78.8-2.07 0-2.86zM5.41 20L4 18.59l7.72-7.72 1.47 1.35L5.41 20z\"/>\n",
              "  </svg>\n",
              "      </button>\n",
              "      \n",
              "  <style>\n",
              "    .colab-df-container {\n",
              "      display:flex;\n",
              "      flex-wrap:wrap;\n",
              "      gap: 12px;\n",
              "    }\n",
              "\n",
              "    .colab-df-convert {\n",
              "      background-color: #E8F0FE;\n",
              "      border: none;\n",
              "      border-radius: 50%;\n",
              "      cursor: pointer;\n",
              "      display: none;\n",
              "      fill: #1967D2;\n",
              "      height: 32px;\n",
              "      padding: 0 0 0 0;\n",
              "      width: 32px;\n",
              "    }\n",
              "\n",
              "    .colab-df-convert:hover {\n",
              "      background-color: #E2EBFA;\n",
              "      box-shadow: 0px 1px 2px rgba(60, 64, 67, 0.3), 0px 1px 3px 1px rgba(60, 64, 67, 0.15);\n",
              "      fill: #174EA6;\n",
              "    }\n",
              "\n",
              "    [theme=dark] .colab-df-convert {\n",
              "      background-color: #3B4455;\n",
              "      fill: #D2E3FC;\n",
              "    }\n",
              "\n",
              "    [theme=dark] .colab-df-convert:hover {\n",
              "      background-color: #434B5C;\n",
              "      box-shadow: 0px 1px 3px 1px rgba(0, 0, 0, 0.15);\n",
              "      filter: drop-shadow(0px 1px 2px rgba(0, 0, 0, 0.3));\n",
              "      fill: #FFFFFF;\n",
              "    }\n",
              "  </style>\n",
              "\n",
              "      <script>\n",
              "        const buttonEl =\n",
              "          document.querySelector('#df-215517d2-dfe8-4295-82df-dee5c320f158 button.colab-df-convert');\n",
              "        buttonEl.style.display =\n",
              "          google.colab.kernel.accessAllowed ? 'block' : 'none';\n",
              "\n",
              "        async function convertToInteractive(key) {\n",
              "          const element = document.querySelector('#df-215517d2-dfe8-4295-82df-dee5c320f158');\n",
              "          const dataTable =\n",
              "            await google.colab.kernel.invokeFunction('convertToInteractive',\n",
              "                                                     [key], {});\n",
              "          if (!dataTable) return;\n",
              "\n",
              "          const docLinkHtml = 'Like what you see? Visit the ' +\n",
              "            '<a target=\"_blank\" href=https://colab.research.google.com/notebooks/data_table.ipynb>data table notebook</a>'\n",
              "            + ' to learn more about interactive tables.';\n",
              "          element.innerHTML = '';\n",
              "          dataTable['output_type'] = 'display_data';\n",
              "          await google.colab.output.renderOutput(dataTable, element);\n",
              "          const docLink = document.createElement('div');\n",
              "          docLink.innerHTML = docLinkHtml;\n",
              "          element.appendChild(docLink);\n",
              "        }\n",
              "      </script>\n",
              "    </div>\n",
              "  </div>\n",
              "  "
            ]
          },
          "metadata": {},
          "execution_count": 64
        }
      ]
    },
    {
      "cell_type": "markdown",
      "source": [
        "We will filter by each language group and split students.\n",
        "\n",
        "English to Spanish"
      ],
      "metadata": {
        "id": "CZxwfSIuopWC"
      }
    },
    {
      "cell_type": "code",
      "source": [
        ""
      ],
      "metadata": {
        "colab": {
          "base_uri": "https://localhost:8080/",
          "height": 206
        },
        "id": "_zisSSAovjCC",
        "outputId": "5627dc4d-bd87-4638-e8c4-2fe9ba86b9f4"
      },
      "execution_count": 99,
      "outputs": [
        {
          "output_type": "execute_result",
          "data": {
            "text/plain": [
              "  user_id  num_words  num_records  Average_rec_per_word lang_group\n",
              "0   u:-3I         13           14              1.076923   (en, fr)\n",
              "1   u:-3n        112          124              1.107143   (en, es)\n",
              "2   u:-4V         13           26              2.000000   (en, fr)\n",
              "3   u:-4y         26           68              2.615385   (en, es)\n",
              "4   u:-69         15           15              1.000000   (en, fr)"
            ],
            "text/html": [
              "\n",
              "  <div id=\"df-1487980d-8716-46f1-aaa7-795edc7ab5a9\">\n",
              "    <div class=\"colab-df-container\">\n",
              "      <div>\n",
              "<style scoped>\n",
              "    .dataframe tbody tr th:only-of-type {\n",
              "        vertical-align: middle;\n",
              "    }\n",
              "\n",
              "    .dataframe tbody tr th {\n",
              "        vertical-align: top;\n",
              "    }\n",
              "\n",
              "    .dataframe thead th {\n",
              "        text-align: right;\n",
              "    }\n",
              "</style>\n",
              "<table border=\"1\" class=\"dataframe\">\n",
              "  <thead>\n",
              "    <tr style=\"text-align: right;\">\n",
              "      <th></th>\n",
              "      <th>user_id</th>\n",
              "      <th>num_words</th>\n",
              "      <th>num_records</th>\n",
              "      <th>Average_rec_per_word</th>\n",
              "      <th>lang_group</th>\n",
              "    </tr>\n",
              "  </thead>\n",
              "  <tbody>\n",
              "    <tr>\n",
              "      <th>0</th>\n",
              "      <td>u:-3I</td>\n",
              "      <td>13</td>\n",
              "      <td>14</td>\n",
              "      <td>1.076923</td>\n",
              "      <td>(en, fr)</td>\n",
              "    </tr>\n",
              "    <tr>\n",
              "      <th>1</th>\n",
              "      <td>u:-3n</td>\n",
              "      <td>112</td>\n",
              "      <td>124</td>\n",
              "      <td>1.107143</td>\n",
              "      <td>(en, es)</td>\n",
              "    </tr>\n",
              "    <tr>\n",
              "      <th>2</th>\n",
              "      <td>u:-4V</td>\n",
              "      <td>13</td>\n",
              "      <td>26</td>\n",
              "      <td>2.000000</td>\n",
              "      <td>(en, fr)</td>\n",
              "    </tr>\n",
              "    <tr>\n",
              "      <th>3</th>\n",
              "      <td>u:-4y</td>\n",
              "      <td>26</td>\n",
              "      <td>68</td>\n",
              "      <td>2.615385</td>\n",
              "      <td>(en, es)</td>\n",
              "    </tr>\n",
              "    <tr>\n",
              "      <th>4</th>\n",
              "      <td>u:-69</td>\n",
              "      <td>15</td>\n",
              "      <td>15</td>\n",
              "      <td>1.000000</td>\n",
              "      <td>(en, fr)</td>\n",
              "    </tr>\n",
              "  </tbody>\n",
              "</table>\n",
              "</div>\n",
              "      <button class=\"colab-df-convert\" onclick=\"convertToInteractive('df-1487980d-8716-46f1-aaa7-795edc7ab5a9')\"\n",
              "              title=\"Convert this dataframe to an interactive table.\"\n",
              "              style=\"display:none;\">\n",
              "        \n",
              "  <svg xmlns=\"http://www.w3.org/2000/svg\" height=\"24px\"viewBox=\"0 0 24 24\"\n",
              "       width=\"24px\">\n",
              "    <path d=\"M0 0h24v24H0V0z\" fill=\"none\"/>\n",
              "    <path d=\"M18.56 5.44l.94 2.06.94-2.06 2.06-.94-2.06-.94-.94-2.06-.94 2.06-2.06.94zm-11 1L8.5 8.5l.94-2.06 2.06-.94-2.06-.94L8.5 2.5l-.94 2.06-2.06.94zm10 10l.94 2.06.94-2.06 2.06-.94-2.06-.94-.94-2.06-.94 2.06-2.06.94z\"/><path d=\"M17.41 7.96l-1.37-1.37c-.4-.4-.92-.59-1.43-.59-.52 0-1.04.2-1.43.59L10.3 9.45l-7.72 7.72c-.78.78-.78 2.05 0 2.83L4 21.41c.39.39.9.59 1.41.59.51 0 1.02-.2 1.41-.59l7.78-7.78 2.81-2.81c.8-.78.8-2.07 0-2.86zM5.41 20L4 18.59l7.72-7.72 1.47 1.35L5.41 20z\"/>\n",
              "  </svg>\n",
              "      </button>\n",
              "      \n",
              "  <style>\n",
              "    .colab-df-container {\n",
              "      display:flex;\n",
              "      flex-wrap:wrap;\n",
              "      gap: 12px;\n",
              "    }\n",
              "\n",
              "    .colab-df-convert {\n",
              "      background-color: #E8F0FE;\n",
              "      border: none;\n",
              "      border-radius: 50%;\n",
              "      cursor: pointer;\n",
              "      display: none;\n",
              "      fill: #1967D2;\n",
              "      height: 32px;\n",
              "      padding: 0 0 0 0;\n",
              "      width: 32px;\n",
              "    }\n",
              "\n",
              "    .colab-df-convert:hover {\n",
              "      background-color: #E2EBFA;\n",
              "      box-shadow: 0px 1px 2px rgba(60, 64, 67, 0.3), 0px 1px 3px 1px rgba(60, 64, 67, 0.15);\n",
              "      fill: #174EA6;\n",
              "    }\n",
              "\n",
              "    [theme=dark] .colab-df-convert {\n",
              "      background-color: #3B4455;\n",
              "      fill: #D2E3FC;\n",
              "    }\n",
              "\n",
              "    [theme=dark] .colab-df-convert:hover {\n",
              "      background-color: #434B5C;\n",
              "      box-shadow: 0px 1px 3px 1px rgba(0, 0, 0, 0.15);\n",
              "      filter: drop-shadow(0px 1px 2px rgba(0, 0, 0, 0.3));\n",
              "      fill: #FFFFFF;\n",
              "    }\n",
              "  </style>\n",
              "\n",
              "      <script>\n",
              "        const buttonEl =\n",
              "          document.querySelector('#df-1487980d-8716-46f1-aaa7-795edc7ab5a9 button.colab-df-convert');\n",
              "        buttonEl.style.display =\n",
              "          google.colab.kernel.accessAllowed ? 'block' : 'none';\n",
              "\n",
              "        async function convertToInteractive(key) {\n",
              "          const element = document.querySelector('#df-1487980d-8716-46f1-aaa7-795edc7ab5a9');\n",
              "          const dataTable =\n",
              "            await google.colab.kernel.invokeFunction('convertToInteractive',\n",
              "                                                     [key], {});\n",
              "          if (!dataTable) return;\n",
              "\n",
              "          const docLinkHtml = 'Like what you see? Visit the ' +\n",
              "            '<a target=\"_blank\" href=https://colab.research.google.com/notebooks/data_table.ipynb>data table notebook</a>'\n",
              "            + ' to learn more about interactive tables.';\n",
              "          element.innerHTML = '';\n",
              "          dataTable['output_type'] = 'display_data';\n",
              "          await google.colab.output.renderOutput(dataTable, element);\n",
              "          const docLink = document.createElement('div');\n",
              "          docLink.innerHTML = docLinkHtml;\n",
              "          element.appendChild(docLink);\n",
              "        }\n",
              "      </script>\n",
              "    </div>\n",
              "  </div>\n",
              "  "
            ]
          },
          "metadata": {},
          "execution_count": 99
        }
      ]
    },
    {
      "cell_type": "code",
      "source": [
        "en_to_es = student_details.loc[student_details['lang_group']==('en','es')]\n",
        "en_to_es_remaining, en_to_es_unseen_students, y_remaining, y_unseen_students = train_test_split(en_to_es[['user_id','num_words','num_records']],en_to_es['Average_rec_per_word'],test_size=0.1)"
      ],
      "metadata": {
        "id": "G9gJKGDyowZc"
      },
      "execution_count": 84,
      "outputs": []
    },
    {
      "cell_type": "code",
      "source": [
        "en_to_es_unseen_students['Average_rec_per_word'] = y_unseen_students"
      ],
      "metadata": {
        "id": "qbL5Ag50sHVt"
      },
      "execution_count": 85,
      "outputs": []
    },
    {
      "cell_type": "code",
      "source": [
        "plt.subplots(1,2,figsize=(10,4))\n",
        "plt.subplot(1,2,1)\n",
        "plt.title(\"Original Average rec per word distribution\")\n",
        "plt.xlabel(\"Average rec per word\")\n",
        "plt.ylabel(\"Frequency coutns\")\n",
        "en_to_es['Average_rec_per_word'].hist(log=True,bins=20)\n",
        "plt.subplot(1,2,2)\n",
        "plt.title(\"Test set Average rec per word distribution\")\n",
        "plt.xlabel(\"Average rec per word\")\n",
        "plt.ylabel(\"Frequency coutns\")\n",
        "en_to_es_unseen_students['Average_rec_per_word'].hist(log=True,bins=20)"
      ],
      "metadata": {
        "colab": {
          "base_uri": "https://localhost:8080/",
          "height": 313
        },
        "id": "Gj618rmNrUlc",
        "outputId": "2fa7d786-fda9-487b-b4df-713d1d2e1c38"
      },
      "execution_count": 90,
      "outputs": [
        {
          "output_type": "execute_result",
          "data": {
            "text/plain": [
              "<matplotlib.axes._subplots.AxesSubplot at 0x7fa8b8555fd0>"
            ]
          },
          "metadata": {},
          "execution_count": 90
        },
        {
          "output_type": "display_data",
          "data": {
            "text/plain": [
              "<Figure size 720x288 with 2 Axes>"
            ],
            "image/png": "[encoded data removed]"
          },
          "metadata": {
            "needs_background": "light"
          }
        }
      ]
    },
    {
      "cell_type": "code",
      "source": [
        "en_to_es_unseen_students.shape"
      ],
      "metadata": {
        "colab": {
          "base_uri": "https://localhost:8080/"
        },
        "id": "Uvwd2O25wOLI",
        "outputId": "fee30489-1eba-4fb0-cd86-b320cc6e77ea"
      },
      "execution_count": 101,
      "outputs": [
        {
          "output_type": "execute_result",
          "data": {
            "text/plain": [
              "(3055, 4)"
            ]
          },
          "metadata": {},
          "execution_count": 101
        }
      ]
    },
    {
      "cell_type": "markdown",
      "source": [
        "This will work. We will follow the same process for the other language groups, and then get the groups of user_id for training and testing, then split the datadf2 dataframe accordingly. \n",
        "\n",
        "en to pt"
      ],
      "metadata": {
        "id": "DqEL-DG2tNvv"
      }
    },
    {
      "cell_type": "code",
      "source": [
        "en_to_pt = student_details.loc[student_details['lang_group']==('en','pt')]\n",
        "en_to_pt_remaining, en_to_pt_unseen_students, y_remaining, y_unseen_students = train_test_split(en_to_pt[['user_id','num_words','num_records']],en_to_pt['Average_rec_per_word'],test_size=0.1)\n",
        "en_to_pt_unseen_students['Average_rec_per_word'] = y_unseen_students\n",
        "plt.subplots(1,2,figsize=(10,4))\n",
        "plt.subplot(1,2,1)\n",
        "plt.title(\"Original Average rec per word distribution\")\n",
        "plt.xlabel(\"Average rec per word\")\n",
        "plt.ylabel(\"Frequency coutns\")\n",
        "en_to_pt['Average_rec_per_word'].hist(log=True,bins=20)\n",
        "plt.subplot(1,2,2)\n",
        "plt.title(\"Tptt set Average rec per word distribution\")\n",
        "plt.xlabel(\"Average rec per word\")\n",
        "plt.ylabel(\"Frequency coutns\")\n",
        "en_to_pt_unseen_students['Average_rec_per_word'].hist(log=True,bins=20)"
      ],
      "metadata": {
        "colab": {
          "base_uri": "https://localhost:8080/",
          "height": 313
        },
        "id": "vPApmcwWtjYU",
        "outputId": "659300fd-790a-46db-8d53-d9d43fda4349"
      },
      "execution_count": 93,
      "outputs": [
        {
          "output_type": "execute_result",
          "data": {
            "text/plain": [
              "<matplotlib.axes._subplots.AxesSubplot at 0x7fa8b8258e10>"
            ]
          },
          "metadata": {},
          "execution_count": 93
        },
        {
          "output_type": "display_data",
          "data": {
            "text/plain": [
              "<Figure size 720x288 with 2 Axes>"
            ],
            "image/png": "[encoded data removed]"
          },
          "metadata": {
            "needs_background": "light"
          }
        }
      ]
    },
    {
      "cell_type": "code",
      "source": [
        "en_to_pt_unseen_students.shape"
      ],
      "metadata": {
        "colab": {
          "base_uri": "https://localhost:8080/"
        },
        "id": "DDq47nd5wSXd",
        "outputId": "1979593e-3a44-4840-fe0a-1708304a60b3"
      },
      "execution_count": 102,
      "outputs": [
        {
          "output_type": "execute_result",
          "data": {
            "text/plain": [
              "(254, 4)"
            ]
          },
          "metadata": {},
          "execution_count": 102
        }
      ]
    },
    {
      "cell_type": "markdown",
      "source": [
        "es to en:"
      ],
      "metadata": {
        "id": "qceCjusnuWiw"
      }
    },
    {
      "cell_type": "code",
      "source": [
        "es_to_en = student_details.loc[student_details['lang_group']==('es','en')]\n",
        "es_to_en_remaining, es_to_en_unseen_students, y_remaining, y_unseen_students = train_test_split(es_to_en[['user_id','num_words','num_records']],es_to_en['Average_rec_per_word'],test_size=0.1)\n",
        "es_to_en_unseen_students['Average_rec_per_word'] = y_unseen_students\n",
        "plt.subplots(1,2,figsize=(10,4))\n",
        "plt.subplot(1,2,1)\n",
        "plt.title(\"Original Average rec per word distribution\")\n",
        "plt.xlabel(\"Average rec per word\")\n",
        "plt.ylabel(\"Frequency coutns\")\n",
        "es_to_en['Average_rec_per_word'].hist(log=True,bins=20)\n",
        "plt.subplot(1,2,2)\n",
        "plt.title(\"Test set Average rec per word distribution\")\n",
        "plt.xlabel(\"Average rec per word\")\n",
        "plt.ylabel(\"Frequency coutns\")\n",
        "es_to_en_unseen_students['Average_rec_per_word'].hist(log=True,bins=20)"
      ],
      "metadata": {
        "colab": {
          "base_uri": "https://localhost:8080/",
          "height": 313
        },
        "id": "uP6AiAfwuV8J",
        "outputId": "a8bd4241-db1f-4fa7-b4fd-8d3f4bf5c691"
      },
      "execution_count": 94,
      "outputs": [
        {
          "output_type": "execute_result",
          "data": {
            "text/plain": [
              "<matplotlib.axes._subplots.AxesSubplot at 0x7fa8b80ca050>"
            ]
          },
          "metadata": {},
          "execution_count": 94
        },
        {
          "output_type": "display_data",
          "data": {
            "text/plain": [
              "<Figure size 720x288 with 2 Axes>"
            ],
            "image/png": "[encoded data removed]"
          },
          "metadata": {
            "needs_background": "light"
          }
        }
      ]
    },
    {
      "cell_type": "markdown",
      "source": [
        "English to French"
      ],
      "metadata": {
        "id": "WFr81F2zu5Ab"
      }
    },
    {
      "cell_type": "code",
      "source": [
        "en_to_fr = student_details.loc[student_details['lang_group']==('en','fr')]\n",
        "en_to_fr_remaining, en_to_fr_unseen_students, y_remaining, y_unseen_students = train_test_split(en_to_fr[['user_id','num_words','num_records']],en_to_fr['Average_rec_per_word'],test_size=0.1)\n",
        "en_to_fr_unseen_students['Average_rec_per_word'] = y_unseen_students\n",
        "plt.subplots(1,2,figsize=(10,4))\n",
        "plt.subplot(1,2,1)\n",
        "plt.title(\"Original Average rec per word distribution\")\n",
        "plt.xlabel(\"Average rec per word\")\n",
        "plt.ylabel(\"Frequency coutns\")\n",
        "en_to_fr['Average_rec_per_word'].hist(log=True,bins=20)\n",
        "plt.subplot(1,2,2)\n",
        "plt.title(\"Tptt set Average rec per word distribution\")\n",
        "plt.xlabel(\"Average rec per word\")\n",
        "plt.ylabel(\"Frequency counts\")\n",
        "en_to_fr_unseen_students['Average_rec_per_word'].hist(log=True,bins=20)"
      ],
      "metadata": {
        "colab": {
          "base_uri": "https://localhost:8080/",
          "height": 313
        },
        "id": "CYI6S3Evukkd",
        "outputId": "e19b4c51-9b9f-403a-afc5-24530cc500b9"
      },
      "execution_count": 100,
      "outputs": [
        {
          "output_type": "execute_result",
          "data": {
            "text/plain": [
              "<matplotlib.axes._subplots.AxesSubplot at 0x7fa8b7d97610>"
            ]
          },
          "metadata": {},
          "execution_count": 100
        },
        {
          "output_type": "display_data",
          "data": {
            "text/plain": [
              "<Figure size 720x288 with 2 Axes>"
            ],
            "image/png": "[encoded data removed]"
          },
          "metadata": {
            "needs_background": "light"
          }
        }
      ]
    },
    {
      "cell_type": "code",
      "source": [
        "en_to_fr_unseen_students.shape"
      ],
      "metadata": {
        "colab": {
          "base_uri": "https://localhost:8080/"
        },
        "id": "S5wS0WukwDAS",
        "outputId": "fca1d685-f8eb-405b-9fa4-0d4a0cb2d577"
      },
      "execution_count": 103,
      "outputs": [
        {
          "output_type": "execute_result",
          "data": {
            "text/plain": [
              "(1924, 4)"
            ]
          },
          "metadata": {},
          "execution_count": 103
        }
      ]
    },
    {
      "cell_type": "markdown",
      "source": [
        "English to italian"
      ],
      "metadata": {
        "id": "sP60AT-0wk6l"
      }
    },
    {
      "cell_type": "code",
      "source": [
        "en_to_it = student_details.loc[student_details['lang_group']==('en','it')]\n",
        "en_to_it_remaining, en_to_it_unseen_students, y_remaining, y_unseen_students = train_test_split(en_to_it[['user_id','num_words','num_records']],en_to_it['Average_rec_per_word'],test_size=0.1)\n",
        "en_to_it_unseen_students['Average_rec_per_word'] = y_unseen_students\n",
        "plt.subplots(1,2,figsize=(10,4))\n",
        "plt.subplot(1,2,1)\n",
        "plt.title(\"Original Average rec per word distribution\")\n",
        "plt.xlabel(\"Average rec per word\")\n",
        "plt.ylabel(\"Frequency coutns\")\n",
        "en_to_it['Average_rec_per_word'].hist(log=True,bins=20)\n",
        "plt.subplot(1,2,2)\n",
        "plt.title(\"Tptt set Average rec per word distribution\")\n",
        "plt.xlabel(\"Average rec per word\")\n",
        "plt.ylabel(\"Frequency counts\")\n",
        "en_to_it_unseen_students['Average_rec_per_word'].hist(log=True,bins=20)"
      ],
      "metadata": {
        "colab": {
          "base_uri": "https://localhost:8080/",
          "height": 313
        },
        "id": "XyUwQJOYwmep",
        "outputId": "ee120926-ff86-438e-a806-38558d6ecef1"
      },
      "execution_count": 104,
      "outputs": [
        {
          "output_type": "execute_result",
          "data": {
            "text/plain": [
              "<matplotlib.axes._subplots.AxesSubplot at 0x7fa8b7a5e890>"
            ]
          },
          "metadata": {},
          "execution_count": 104
        },
        {
          "output_type": "display_data",
          "data": {
            "text/plain": [
              "<Figure size 720x288 with 2 Axes>"
            ],
            "image/png": "[encoded data removed]"
          },
          "metadata": {
            "needs_background": "light"
          }
        }
      ]
    },
    {
      "cell_type": "code",
      "source": [
        "en_to_it_unseen_students.shape"
      ],
      "metadata": {
        "colab": {
          "base_uri": "https://localhost:8080/"
        },
        "id": "U5lzrn9EwxaN",
        "outputId": "4aecfac2-440a-46f4-a5bd-a4f4fba4335d"
      },
      "execution_count": 105,
      "outputs": [
        {
          "output_type": "execute_result",
          "data": {
            "text/plain": [
              "(617, 4)"
            ]
          },
          "metadata": {},
          "execution_count": 105
        }
      ]
    },
    {
      "cell_type": "code",
      "source": [
        "pt_to_en = student_details.loc[student_details['lang_group']==('pt','en')]\n",
        "pt_to_en_remaining, pt_to_en_unseen_students, y_remaining, y_unseen_students = train_test_split(pt_to_en[['user_id','num_words','num_records']],pt_to_en['Average_rec_per_word'],test_size=0.1)\n",
        "pt_to_en_unseen_students['Average_rec_per_word'] = y_unseen_students\n",
        "plt.subplots(1,2,figsize=(10,4))\n",
        "plt.subplot(1,2,1)\n",
        "plt.title(\"Original Average rec per word distribution\")\n",
        "plt.xlabel(\"Average rec per word\")\n",
        "plt.ylabel(\"Frequency coutns\")\n",
        "pt_to_en['Average_rec_per_word'].hist(log=True,bins=20)\n",
        "plt.subplot(1,2,2)\n",
        "plt.title(\"Tptt set Average rec per word distribution\")\n",
        "plt.xlabel(\"Average rec per word\")\n",
        "plt.ylabel(\"Frequency counts\")\n",
        "pt_to_en_unseen_students['Average_rec_per_word'].hist(log=True,bins=20)"
      ],
      "metadata": {
        "colab": {
          "base_uri": "https://localhost:8080/",
          "height": 313
        },
        "id": "qwVTYsTnxHTj",
        "outputId": "837d8305-67f1-4493-c927-bc8a95ba1cd8"
      },
      "execution_count": 106,
      "outputs": [
        {
          "output_type": "execute_result",
          "data": {
            "text/plain": [
              "<matplotlib.axes._subplots.AxesSubplot at 0x7fa8b82af090>"
            ]
          },
          "metadata": {},
          "execution_count": 106
        },
        {
          "output_type": "display_data",
          "data": {
            "text/plain": [
              "<Figure size 720x288 with 2 Axes>"
            ],
            "image/png": "[encoded data removed]"
          },
          "metadata": {
            "needs_background": "light"
          }
        }
      ]
    },
    {
      "cell_type": "code",
      "source": [
        "pt_to_en_unseen_students.shape"
      ],
      "metadata": {
        "colab": {
          "base_uri": "https://localhost:8080/"
        },
        "id": "jY1TbxFoxJFU",
        "outputId": "66dd8a25-2d1a-498d-de56-33fe2ef39d79"
      },
      "execution_count": 107,
      "outputs": [
        {
          "output_type": "execute_result",
          "data": {
            "text/plain": [
              "(860, 4)"
            ]
          },
          "metadata": {},
          "execution_count": 107
        }
      ]
    },
    {
      "cell_type": "code",
      "source": [
        "unseen_students = list(en_to_es_unseen_students['user_id']) + list(en_to_pt_unseen_students['user_id'])\\\n",
        "+list(es_to_en_unseen_students['user_id']) + list(en_to_fr_unseen_students['user_id'])\\\n",
        "+list(en_to_it_unseen_students['user_id']) + list(pt_to_en_unseen_students['user_id'])"
      ],
      "metadata": {
        "id": "ivv0pRoyyVu0"
      },
      "execution_count": 109,
      "outputs": []
    },
    {
      "cell_type": "code",
      "source": [
        "unseen_students = set(unseen_students)"
      ],
      "metadata": {
        "id": "PuGpCUwJzbYT"
      },
      "execution_count": 110,
      "outputs": []
    },
    {
      "cell_type": "markdown",
      "source": [
        "Now we have the test set user_id. "
      ],
      "metadata": {
        "id": "z0-YXJoZzpl4"
      }
    },
    {
      "cell_type": "code",
      "source": [
        "unseen_students_test_set = datadf2.loc[datadf2['user_id'].isin(unseen_students),:]\n",
        "unseen_students_test_set.shape"
      ],
      "metadata": {
        "colab": {
          "base_uri": "https://localhost:8080/"
        },
        "id": "eA4lfae4zna0",
        "outputId": "2fe90dfd-7f4c-4267-c23b-ed477c6f9929"
      },
      "execution_count": 112,
      "outputs": [
        {
          "output_type": "execute_result",
          "data": {
            "text/plain": [
              "(1057521, 14)"
            ]
          },
          "metadata": {},
          "execution_count": 112
        }
      ]
    },
    {
      "cell_type": "code",
      "source": [
        "unseen_students_test_set.shape[0]/datadf2.shape[0]*100"
      ],
      "metadata": {
        "colab": {
          "base_uri": "https://localhost:8080/"
        },
        "id": "2i336Imq0qj1",
        "outputId": "3a97388a-5f1b-4ddc-f46d-de7e9df2fce5"
      },
      "execution_count": 115,
      "outputs": [
        {
          "output_type": "execute_result",
          "data": {
            "text/plain": [
              "9.63362349322189"
            ]
          },
          "metadata": {},
          "execution_count": 115
        }
      ]
    },
    {
      "cell_type": "markdown",
      "source": [
        "We have 10% of the dataset set apart for unseen students. We will save it as a compressed pickle file."
      ],
      "metadata": {
        "id": "8AtbmEsC0vnU"
      }
    },
    {
      "cell_type": "code",
      "source": [
        "compressed_pickle(path_name+'Unseen_students_test_set',unseen_students_test_set)"
      ],
      "metadata": {
        "id": "Egf0lMGk1PxT"
      },
      "execution_count": 117,
      "outputs": []
    },
    {
      "cell_type": "code",
      "source": [
        "datadf3 = datadf2.drop(unseen_students_test_set.index)"
      ],
      "metadata": {
        "id": "eB2Vt5Jc1lG6"
      },
      "execution_count": 118,
      "outputs": []
    },
    {
      "cell_type": "code",
      "source": [
        "compressed_pickle(path_name+'Unseen_students_training_set',datadf3)"
      ],
      "metadata": {
        "id": "pwL981Wr1sbU"
      },
      "execution_count": 119,
      "outputs": []
    }
  ]
}