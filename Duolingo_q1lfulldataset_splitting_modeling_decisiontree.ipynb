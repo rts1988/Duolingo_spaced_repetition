{
  "nbformat": 4,
  "nbformat_minor": 0,
  "metadata": {
    "colab": {
      "name": "Duolingo_q1lfulldataset_splitting_modeling_decisiontree.ipynb",
      "provenance": [],
      "machine_shape": "hm",
      "collapsed_sections": [],
      "authorship_tag": "ABX9TyNqBwuJJzseWwciBIokvmxu",
      "include_colab_link": true
    },
    "kernelspec": {
      "name": "python3",
      "display_name": "Python 3"
    },
    "language_info": {
      "name": "python"
    },
    "gpuClass": "standard"
  },
  "cells": [
    {
      "cell_type": "markdown",
      "metadata": {
        "id": "view-in-github",
        "colab_type": "text"
      },
      "source": [
        "<a href=\"https://colab.research.google.com/github/rts1988/Duolingo_spaced_repetition/blob/main/Duolingo_q1lfulldataset_splitting_modeling_decisiontree.ipynb\" target=\"_parent\"><img src=\"https://colab.research.google.com/assets/colab-badge.svg\" alt=\"Open In Colab\"/></a>"
      ]
    },
    {
      "cell_type": "markdown",
      "source": [
        "Approach: \n",
        "Split Xq1 and yq1 into 80-20 train validation split.\n",
        "save them as separate. \n",
        "\n",
        "looking at\n",
        "1. log reg\n",
        "2. decision tree\n",
        "3. skipping svm and knn.\n",
        "4. random forest\n",
        "5. adaboost\n",
        "6. xgboost\n",
        "7. neural net dense in keras\n",
        "\n",
        "compare best performances for each type of model. "
      ],
      "metadata": {
        "id": "E5X6w6X5PQcc"
      }
    },
    {
      "cell_type": "markdown",
      "source": [
        "Getting yq1 and Xq1:\n",
        "\n",
        "Getting yq1 from datadfq1"
      ],
      "metadata": {
        "id": "KnpvNDT7lpB6"
      }
    },
    {
      "cell_type": "code",
      "execution_count": 2,
      "metadata": {
        "id": "R-WTApfQPI6o",
        "colab": {
          "base_uri": "https://localhost:8080/"
        },
        "outputId": "02a61291-0ca8-4d1d-deb3-64688e1384a8"
      },
      "outputs": [
        {
          "output_type": "stream",
          "name": "stdout",
          "text": [
            "Drive already mounted at /content/drive; to attempt to forcibly remount, call drive.mount(\"/content/drive\", force_remount=True).\n"
          ]
        }
      ],
      "source": [
        "import bz2\n",
        "import pickle\n",
        "import _pickle as cPickle\n",
        "import pandas as pd\n",
        "import seaborn as sns\n",
        "import matplotlib.pyplot as plt\n",
        "import numpy as np\n",
        "\n",
        "from google.colab import drive\n",
        "drive.mount('/content/drive')\n",
        "\n",
        "def decompress_pickle(file):\n",
        " data = bz2.BZ2File(file, 'rb')\n",
        " data = cPickle.load(data)\n",
        " return data\n",
        "\n",
        "def compressed_pickle(title, data):  # do not add extension in filename\n",
        " with bz2.BZ2File(title + '.pbz2', 'w') as f: \n",
        "  cPickle.dump(data, f)\n",
        "\n",
        "path_name = '/content/drive/MyDrive/'"
      ]
    },
    {
      "cell_type": "markdown",
      "source": [
        "Getting saved yq1 from drive:"
      ],
      "metadata": {
        "id": "JRRJQTRsvDQm"
      }
    },
    {
      "cell_type": "markdown",
      "source": [
        "Gatting Xq1 from drive"
      ],
      "metadata": {
        "id": "D6YprWvGmWgx"
      }
    },
    {
      "cell_type": "code",
      "source": [
        "Xq1 = decompress_pickle(path_name+\"Xq1all.pbz2\") \n",
        "yq1 = decompress_pickle(path_name+\"yq1all.pbz2\") "
      ],
      "metadata": {
        "id": "xiXT2KTQmV5Y"
      },
      "execution_count": 3,
      "outputs": []
    },
    {
      "cell_type": "code",
      "source": [
        "type(Xq1), type(yq1)"
      ],
      "metadata": {
        "colab": {
          "base_uri": "https://localhost:8080/"
        },
        "id": "G9QMPnwGmpPT",
        "outputId": "77be9ce2-1228-489b-8635-2666af5d26cd"
      },
      "execution_count": 4,
      "outputs": [
        {
          "output_type": "execute_result",
          "data": {
            "text/plain": [
              "(scipy.sparse.coo.coo_matrix, pandas.core.series.Series)"
            ]
          },
          "metadata": {},
          "execution_count": 4
        }
      ]
    },
    {
      "cell_type": "code",
      "source": [
        "from scipy.sparse import coo_matrix"
      ],
      "metadata": {
        "id": "Mzwo-xM9nAQn"
      },
      "execution_count": 5,
      "outputs": []
    },
    {
      "cell_type": "code",
      "source": [
        "Xq1.shape, yq1.shape"
      ],
      "metadata": {
        "colab": {
          "base_uri": "https://localhost:8080/"
        },
        "id": "MP9Rke5lnXG_",
        "outputId": "9e79bcfe-a7b8-441f-fded-a4aef472b52a"
      },
      "execution_count": 6,
      "outputs": [
        {
          "output_type": "execute_result",
          "data": {
            "text/plain": [
              "((7313354, 2233), (7313354,))"
            ]
          },
          "metadata": {},
          "execution_count": 6
        }
      ]
    },
    {
      "cell_type": "markdown",
      "source": [
        "splitting into 80-20 training and validation set with a random state = 5. (had to remove stratify argument, because it doesn't work for sparse arrays)"
      ],
      "metadata": {
        "id": "xnaMooTbn_2O"
      }
    },
    {
      "cell_type": "code",
      "source": [
        "from sklearn.model_selection import train_test_split\n",
        "\n",
        "Xq1_train, Xq1_valid, yq1_train, yq1_valid = train_test_split(Xq1,yq1,test_size=0.2,random_state=5)"
      ],
      "metadata": {
        "id": "ZRtwPyivnH9X"
      },
      "execution_count": 7,
      "outputs": []
    },
    {
      "cell_type": "code",
      "source": [
        "Xq1_train.shape, Xq1_valid.shape, yq1_train.shape, yq1_valid.shape"
      ],
      "metadata": {
        "colab": {
          "base_uri": "https://localhost:8080/"
        },
        "id": "nMhbmTs9oHd0",
        "outputId": "3dfacebf-7c96-4374-f6c4-4370562f8751"
      },
      "execution_count": 8,
      "outputs": [
        {
          "output_type": "execute_result",
          "data": {
            "text/plain": [
              "((5850683, 2233), (1462671, 2233), (5850683,), (1462671,))"
            ]
          },
          "metadata": {},
          "execution_count": 8
        }
      ]
    },
    {
      "cell_type": "markdown",
      "source": [
        "Fraction of ones in the train and validation sets"
      ],
      "metadata": {
        "id": "3uYfRNqVpjFt"
      }
    },
    {
      "cell_type": "code",
      "source": [
        "yq1_train.sum()/yq1_train.shape[0], yq1_valid.sum()/yq1_valid.shape[0]"
      ],
      "metadata": {
        "colab": {
          "base_uri": "https://localhost:8080/"
        },
        "id": "yrRvYfHeoNrA",
        "outputId": "477359a6-0f47-43f9-e307-25b3277522c6"
      },
      "execution_count": 9,
      "outputs": [
        {
          "output_type": "execute_result",
          "data": {
            "text/plain": [
              "(0.1611603294863181, 0.16108748994134703)"
            ]
          },
          "metadata": {},
          "execution_count": 9
        }
      ]
    },
    {
      "cell_type": "markdown",
      "source": [
        "They are about the same, we will use this split to test a number of models. They are saved below:\n",
        "\n",
        "First, we scale and transform the data using the min-max scaler. "
      ],
      "metadata": {
        "id": "DWZtKI4Cppws"
      }
    },
    {
      "cell_type": "code",
      "source": [
        "from sklearn.preprocessing import MaxAbsScaler # used because sparse array not supported by MinMaxScaler\n",
        "mm_scaler = MaxAbsScaler()\n",
        "\n",
        "mm_scaler.fit(Xq1_train)\n",
        "Xq1_mm_train = mm_scaler.transform(Xq1_train)\n",
        "Xq1_mm_valid = mm_scaler.transform(Xq1_valid)\n"
      ],
      "metadata": {
        "id": "Rchgc0dFqH_C"
      },
      "execution_count": 10,
      "outputs": []
    },
    {
      "cell_type": "markdown",
      "source": [
        "### Decision tree classifier\n",
        " \n"
      ],
      "metadata": {
        "id": "4Tz2u-0Cq-jR"
      }
    },
    {
      "cell_type": "code",
      "source": [
        "from sklearn.tree import DecisionTreeClassifier\n",
        "dtree = DecisionTreeClassifier(max_depth=9)\n",
        "dtree.fit(Xq1_train,yq1_train)"
      ],
      "metadata": {
        "colab": {
          "base_uri": "https://localhost:8080/"
        },
        "id": "mpcKKFU9b1vI",
        "outputId": "0dbca690-505b-4d54-8bf7-169fab126d8f"
      },
      "execution_count": 38,
      "outputs": [
        {
          "output_type": "execute_result",
          "data": {
            "text/plain": [
              "DecisionTreeClassifier(max_depth=9)"
            ]
          },
          "metadata": {},
          "execution_count": 38
        }
      ]
    },
    {
      "cell_type": "code",
      "source": [
        "yq1_train_preds_proba = dtree.predict_proba(Xq1_train)[:,1]\n",
        "yq1_valid_preds_proba = dtree.predict_proba(Xq1_valid)[:,1]"
      ],
      "metadata": {
        "id": "tpBLWFkLcBHi"
      },
      "execution_count": 45,
      "outputs": []
    },
    {
      "cell_type": "code",
      "source": [
        "from sklearn.metrics import accuracy_score, PrecisionRecallDisplay, roc_auc_score\n"
      ],
      "metadata": {
        "id": "qBC8NBhNk2sH"
      },
      "execution_count": 40,
      "outputs": []
    },
    {
      "cell_type": "code",
      "source": [
        "accuracy_score(yq1_valid,np.where(yq1_valid_preds_proba>0.5,1,0))"
      ],
      "metadata": {
        "colab": {
          "base_uri": "https://localhost:8080/"
        },
        "id": "ND3AFc9T9a5D",
        "outputId": "e7d5d2d9-f94e-4cc3-9220-bf3ac5792acd"
      },
      "execution_count": 41,
      "outputs": [
        {
          "output_type": "execute_result",
          "data": {
            "text/plain": [
              "0.8398395811498279"
            ]
          },
          "metadata": {},
          "execution_count": 41
        }
      ]
    },
    {
      "cell_type": "code",
      "source": [
        "PrecisionRecallDisplay.from_predictions(yq1_valid,yq1_valid_preds_proba)"
      ],
      "metadata": {
        "colab": {
          "base_uri": "https://localhost:8080/",
          "height": 297
        },
        "id": "O-d0is9F9rYG",
        "outputId": "8f52900d-c675-422f-d05f-0887fee2e74c"
      },
      "execution_count": 46,
      "outputs": [
        {
          "output_type": "execute_result",
          "data": {
            "text/plain": [
              "<sklearn.metrics._plot.precision_recall_curve.PrecisionRecallDisplay at 0x7fc0fae56390>"
            ]
          },
          "metadata": {},
          "execution_count": 46
        },
        {
          "output_type": "display_data",
          "data": {
            "text/plain": [
              "<Figure size 432x288 with 1 Axes>"
            ],
            "image/png": "[encoded data removed]"
          },
          "metadata": {
            "needs_background": "light"
          }
        }
      ]
    },
    {
      "cell_type": "code",
      "source": [
        "PrecisionRecallDisplay.from_predictions(yq1_train,yq1_train_preds_proba)"
      ],
      "metadata": {
        "colab": {
          "base_uri": "https://localhost:8080/",
          "height": 297
        },
        "id": "5xJdXs9t-JYU",
        "outputId": "59f4dc8f-90b9-46cd-df00-46beb3c4017a"
      },
      "execution_count": 47,
      "outputs": [
        {
          "output_type": "execute_result",
          "data": {
            "text/plain": [
              "<sklearn.metrics._plot.precision_recall_curve.PrecisionRecallDisplay at 0x7fc0fad0a810>"
            ]
          },
          "metadata": {},
          "execution_count": 47
        },
        {
          "output_type": "display_data",
          "data": {
            "text/plain": [
              "<Figure size 432x288 with 1 Axes>"
            ],
            "image/png": "[encoded data removed]"
          },
          "metadata": {
            "needs_background": "light"
          }
        }
      ]
    },
    {
      "cell_type": "code",
      "source": [
        "roc_auc_score(yq1_valid,yq1_valid_preds_proba)"
      ],
      "metadata": {
        "colab": {
          "base_uri": "https://localhost:8080/"
        },
        "id": "O4IxhOUl9xKE",
        "outputId": "ee935ff4-5581-4c86-f0ed-932791699752"
      },
      "execution_count": 44,
      "outputs": [
        {
          "output_type": "execute_result",
          "data": {
            "text/plain": [
              "0.6512656160788077"
            ]
          },
          "metadata": {},
          "execution_count": 44
        }
      ]
    },
    {
      "cell_type": "code",
      "source": [
        "compressed_pickle(path_name+\"Decisiontreemd9_q1_1\",dtree)"
      ],
      "metadata": {
        "id": "ByiZLlr392bI"
      },
      "execution_count": 37,
      "outputs": []
    },
    {
      "cell_type": "code",
      "source": [
        "from sklearn.model_selection import ShuffleSplit\n",
        "#cv = KFold(n_splits=5, test_size=0.3, random_state=0)\n",
        "\n",
        "from sklearn.linear_model import LogisticRegression\n",
        "logreg = LogisticRegression()\n",
        "\n",
        "from sklearn.model_selection import cross_validate\n",
        "\n",
        "from sklearn.metrics import make_scorer # to define a list of scoring metrics to use\n",
        "\n",
        "from sklearn.model_selection import GridSearchCV\n",
        "\n",
        "# iterate over \n",
        "logreg = LogisticRegression(max_iter = 100,solver='liblinear',verbose=10,penalty='l1')\n",
        "logreg.fit(Xq1_mm_train,yq1_train)\n",
        "yq1_train_preds = logreg.predict(Xq1_mm_train)\n",
        "\n",
        "#scoring_metrics = ['accuracy','f1','average_precision','roc_auc','recall']\n",
        "\n",
        "#cv_results = cross_validate(logreg,Xq1_mm_train,yq1_train,cv=cv,scoring=scoring_metrics,verbose=10,return_estimator = True)\n",
        "\n",
        "#sorted(cv_results.keys())"
      ],
      "metadata": {
        "colab": {
          "base_uri": "https://localhost:8080/"
        },
        "id": "NlDb6k0rqpAt",
        "outputId": "aea842e3-a583-43f1-d93a-b7e759ed6c11"
      },
      "execution_count": null,
      "outputs": [
        {
          "output_type": "stream",
          "name": "stdout",
          "text": [
            "[LibLinear]"
          ]
        }
      ]
    },
    {
      "cell_type": "code",
      "source": [
        ""
      ],
      "metadata": {
        "colab": {
          "base_uri": "https://localhost:8080/",
          "height": 292
        },
        "id": "QsCfayKDsMtN",
        "outputId": "ef08eae5-fbc8-4522-80ed-ffc5c1997947"
      },
      "execution_count": null,
      "outputs": [
        {
          "output_type": "error",
          "ename": "TypeError",
          "evalue": "ignored",
          "traceback": [
            "\u001b[0;31m---------------------------------------------------------------------------\u001b[0m",
            "\u001b[0;31mTypeError\u001b[0m                                 Traceback (most recent call last)",
            "\u001b[0;32m<ipython-input-31-0c12b44b2010>\u001b[0m in \u001b[0;36m<module>\u001b[0;34m()\u001b[0m\n\u001b[0;32m----> 1\u001b[0;31m \u001b[0mlen\u001b[0m\u001b[0;34m(\u001b[0m\u001b[0mXq1_mm_train\u001b[0m\u001b[0;34m)\u001b[0m\u001b[0;34m\u001b[0m\u001b[0;34m\u001b[0m\u001b[0m\n\u001b[0m",
            "\u001b[0;32m/usr/local/lib/python3.7/dist-packages/scipy/sparse/base.py\u001b[0m in \u001b[0;36m__len__\u001b[0;34m(self)\u001b[0m\n\u001b[1;32m    293\u001b[0m     \u001b[0;31m# non-zeros is more important.  For now, raise an exception!\u001b[0m\u001b[0;34m\u001b[0m\u001b[0;34m\u001b[0m\u001b[0;34m\u001b[0m\u001b[0m\n\u001b[1;32m    294\u001b[0m     \u001b[0;32mdef\u001b[0m \u001b[0m__len__\u001b[0m\u001b[0;34m(\u001b[0m\u001b[0mself\u001b[0m\u001b[0;34m)\u001b[0m\u001b[0;34m:\u001b[0m\u001b[0;34m\u001b[0m\u001b[0;34m\u001b[0m\u001b[0m\n\u001b[0;32m--> 295\u001b[0;31m         raise TypeError(\"sparse matrix length is ambiguous; use getnnz()\"\n\u001b[0m\u001b[1;32m    296\u001b[0m                         \" or shape[0]\")\n\u001b[1;32m    297\u001b[0m \u001b[0;34m\u001b[0m\u001b[0m\n",
            "\u001b[0;31mTypeError\u001b[0m: sparse matrix length is ambiguous; use getnnz() or shape[0]"
          ]
        }
      ]
    },
    {
      "cell_type": "code",
      "source": [
        "from xgboost import XGBClassifier\n",
        "from sklearn.preprocessing import MinMaxScaler\n",
        "\n",
        "mm_scaler = MinMaxScaler()\n",
        "mm_scaler.fit(X_train_unscaled)\n",
        "X_mm_train = mm_scaler.transform(X_train_unscaled)\n",
        "X_mm_test = mm_scaler.transform(X_test_unscaled)\n",
        "XGB_model = XGBClassifier(num_feature = 5,subsample = 0.5)\n",
        "XGB_model.fit(X_mm_train, y_train)\n",
        "print(f\"XG Boost train set score: {XGB_model.score(X_mm_train, y_train)}\")\n",
        "print(f\"XG Boost test set score: {XGB_model.score(X_mm_test, y_test)}\")"
      ],
      "metadata": {
        "colab": {
          "base_uri": "https://localhost:8080/"
        },
        "outputId": "21256f2d-22d5-4960-ca59-44089268375c",
        "id": "vrxhrNl_zMWp"
      },
      "execution_count": null,
      "outputs": [
        {
          "output_type": "stream",
          "name": "stdout",
          "text": [
            "XG Boost train set score: 0.8408690367669401\n",
            "XG Boost test set score: 0.8364779874213837\n"
          ]
        }
      ]
    },
    {
      "cell_type": "code",
      "source": [
        "y_train.value_counts(normalize=True)"
      ],
      "metadata": {
        "colab": {
          "base_uri": "https://localhost:8080/"
        },
        "id": "TAnUwRIU84TZ",
        "outputId": "9c1c1eae-edf2-4dea-d48c-b978cd14df02"
      },
      "execution_count": null,
      "outputs": [
        {
          "output_type": "execute_result",
          "data": {
            "text/plain": [
              "0    0.838074\n",
              "1    0.161926\n",
              "Name: p_forgot_bin, dtype: float64"
            ]
          },
          "metadata": {},
          "execution_count": 48
        }
      ]
    },
    {
      "cell_type": "code",
      "source": [
        "y_probaXGB = XGB_model.predict_proba(X_mm_test)[:,1]"
      ],
      "metadata": {
        "id": "omVX8S9tzMWp"
      },
      "execution_count": null,
      "outputs": []
    },
    {
      "cell_type": "code",
      "source": [
        "from sklearn.metrics import PrecisionRecallDisplay\n",
        "PrecisionRecallDisplay.from_predictions(y_test,y_probaXGB)"
      ],
      "metadata": {
        "colab": {
          "base_uri": "https://localhost:8080/",
          "height": 297
        },
        "outputId": "fd6a57c9-dcd9-446a-95ba-93b19cbfc524",
        "id": "sANHRri2zMWp"
      },
      "execution_count": null,
      "outputs": [
        {
          "output_type": "execute_result",
          "data": {
            "text/plain": [
              "<sklearn.metrics._plot.precision_recall_curve.PrecisionRecallDisplay at 0x7f64eadea350>"
            ]
          },
          "metadata": {},
          "execution_count": 50
        },
        {
          "output_type": "display_data",
          "data": {
            "text/plain": [
              "<Figure size 432x288 with 1 Axes>"
            ],
            "image/png": "[encoded data removed]"
          },
          "metadata": {
            "needs_background": "light"
          }
        }
      ]
    },
    {
      "cell_type": "code",
      "source": [
        "from sklearn.ensemble import AdaBoostClassifier\n",
        "AB_model = AdaBoostClassifier(n_estimators=150, learning_rate=1)\n",
        "\n",
        "AB_model.fit(X_train_unscaled,y_train)\n",
        "y_probaAB = AB_model.predict_proba(X_test_unscaled)[:,1]"
      ],
      "metadata": {
        "id": "WD1dTYGLzwo6"
      },
      "execution_count": null,
      "outputs": []
    },
    {
      "cell_type": "code",
      "source": [
        "from sklearn.metrics import accuracy_score, PrecisionRecallDisplay\n",
        "plt.figure()\n",
        "ax = plt.gca()\n",
        "PrecisionRecallDisplay.from_predictions(y_test,y_probaAB,ax=ax,label=\"AdaBoost\")\n",
        "PrecisionRecallDisplay.from_predictions(y_test,y_probaXGB,ax=ax,label=\"XGBoost\")\n",
        "plt.legend()\n",
        "plt.show()"
      ],
      "metadata": {
        "colab": {
          "base_uri": "https://localhost:8080/",
          "height": 279
        },
        "outputId": "3d036ebd-8dcd-4611-9f59-02924637ef84",
        "id": "a1Kz22lnzwo7"
      },
      "execution_count": null,
      "outputs": [
        {
          "output_type": "display_data",
          "data": {
            "text/plain": [
              "<Figure size 432x288 with 1 Axes>"
            ],
            "image/png": "[encoded data removed]"
          },
          "metadata": {
            "needs_background": "light"
          }
        }
      ]
    },
    {
      "cell_type": "code",
      "source": [
        "pd.Series(dict(zip(X_test_unscaled.columns,AB_model.feature_importances_))).sort_values(ascending=False).head(10)"
      ],
      "metadata": {
        "colab": {
          "base_uri": "https://localhost:8080/"
        },
        "id": "b3A7PoJ30gSG",
        "outputId": "329faf50-bdf9-4341-d563-6211c62f9cff"
      },
      "execution_count": null,
      "outputs": [
        {
          "output_type": "execute_result",
          "data": {
            "text/plain": [
              "delta           0.046667\n",
              "session_seen    0.046667\n",
              "history_frac    0.040000\n",
              "history_seen    0.020000\n",
              "dos             0.013333\n",
              "fa              0.006667\n",
              "form            0.006667\n",
              "ff              0.006667\n",
              "fes             0.006667\n",
              "fami            0.006667\n",
              "dtype: float64"
            ]
          },
          "metadata": {},
          "execution_count": 52
        }
      ]
    },
    {
      "cell_type": "markdown",
      "source": [
        "Take a subset of 20,000, and use all features. expect around baseline accuracy. "
      ],
      "metadata": {
        "id": "fxmlJII52he0"
      }
    },
    {
      "cell_type": "code",
      "source": [
        "q1lexemes['sf_length']"
      ],
      "metadata": {
        "colab": {
          "base_uri": "https://localhost:8080/"
        },
        "id": "AX2HmqkaFDq9",
        "outputId": "8825466d-c113-4cf2-c22a-0ba4192450c7"
      },
      "execution_count": null,
      "outputs": [
        {
          "output_type": "execute_result",
          "data": {
            "text/plain": [
              "0         4\n",
              "1         5\n",
              "2         3\n",
              "3         5\n",
              "4         1\n",
              "         ..\n",
              "12155     5\n",
              "12156    10\n",
              "12157     5\n",
              "12158     3\n",
              "12159     9\n",
              "Name: sf_length, Length: 12160, dtype: int64"
            ]
          },
          "metadata": {},
          "execution_count": 21
        }
      ]
    },
    {
      "cell_type": "code",
      "source": [
        "dataffq1 = pd.merge(left = datadfq1, right = q1lexemes[['lexeme_id','sf_length']],how=\"left\",left_on='lexeme_id',right_on='lexeme_id')"
      ],
      "metadata": {
        "id": "x2P-AkDKFH5a"
      },
      "execution_count": null,
      "outputs": []
    },
    {
      "cell_type": "code",
      "source": [
        "dataffq1['p_forgot_bin'] = np.where(1 - dataffq1['p_recall']>0,1,0)"
      ],
      "metadata": {
        "id": "vA7QcladFYd5"
      },
      "execution_count": null,
      "outputs": []
    },
    {
      "cell_type": "code",
      "source": [
        "sns.boxplot(dataffq1['p_forgot_bin'],dataffq1['sf_length'])"
      ],
      "metadata": {
        "colab": {
          "base_uri": "https://localhost:8080/",
          "height": 353
        },
        "id": "bUtZDpYLFsOi",
        "outputId": "063e097e-cdc8-4dc7-ac40-e87b96a6ee32"
      },
      "execution_count": null,
      "outputs": [
        {
          "output_type": "stream",
          "name": "stderr",
          "text": [
            "/usr/local/lib/python3.7/dist-packages/seaborn/_decorators.py:43: FutureWarning: Pass the following variables as keyword args: x, y. From version 0.12, the only valid positional argument will be `data`, and passing other arguments without an explicit keyword will result in an error or misinterpretation.\n",
            "  FutureWarning\n"
          ]
        },
        {
          "output_type": "execute_result",
          "data": {
            "text/plain": [
              "<matplotlib.axes._subplots.AxesSubplot at 0x7f942fab82d0>"
            ]
          },
          "metadata": {},
          "execution_count": 27
        },
        {
          "output_type": "display_data",
          "data": {
            "text/plain": [
              "<Figure size 432x288 with 1 Axes>"
            ],
            "image/png": "[encoded data removed]"
          },
          "metadata": {
            "needs_background": "light"
          }
        }
      ]
    },
    {
      "cell_type": "code",
      "source": [
        ""
      ],
      "metadata": {
        "id": "QOg7Emqhk-6_"
      },
      "execution_count": null,
      "outputs": []
    }
  ]
}