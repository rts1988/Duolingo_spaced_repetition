{
  "nbformat": 4,
  "nbformat_minor": 0,
  "metadata": {
    "colab": {
      "name": "Duolingo_q1lfulldataset_splitting_modeling_decisiontree.ipynb",
      "provenance": [],
      "machine_shape": "hm",
      "collapsed_sections": [],
      "authorship_tag": "ABX9TyPxsgzRSc2X1axQlg6me4a6",
      "include_colab_link": true
    },
    "kernelspec": {
      "name": "python3",
      "display_name": "Python 3"
    },
    "language_info": {
      "name": "python"
    },
    "gpuClass": "standard"
  },
  "cells": [
    {
      "cell_type": "markdown",
      "metadata": {
        "id": "view-in-github",
        "colab_type": "text"
      },
      "source": [
        "<a href=\"https://colab.research.google.com/github/rts1988/Duolingo_spaced_repetition/blob/main/Duolingo_q1lfulldataset_splitting_modeling_decisiontree.ipynb\" target=\"_parent\"><img src=\"https://colab.research.google.com/assets/colab-badge.svg\" alt=\"Open In Colab\"/></a>"
      ]
    },
    {
      "cell_type": "markdown",
      "source": [
        "Approach: \n",
        "Split Xq1 and yq1 into 80-20 train validation split.\n",
        "save them as separate. \n",
        "\n",
        "looking at\n",
        "1. log reg\n",
        "2. decision tree\n",
        "3. skipping svm and knn.\n",
        "4. random forest\n",
        "5. adaboost\n",
        "6. xgboost\n",
        "7. neural net dense in keras\n",
        "\n",
        "compare best performances for each type of model. "
      ],
      "metadata": {
        "id": "E5X6w6X5PQcc"
      }
    },
    {
      "cell_type": "markdown",
      "source": [
        "Getting yq1 and Xq1:\n",
        "\n",
        "Getting yq1 from datadfq1"
      ],
      "metadata": {
        "id": "KnpvNDT7lpB6"
      }
    },
    {
      "cell_type": "code",
      "execution_count": 2,
      "metadata": {
        "id": "R-WTApfQPI6o",
        "colab": {
          "base_uri": "https://localhost:8080/"
        },
        "outputId": "02a61291-0ca8-4d1d-deb3-64688e1384a8"
      },
      "outputs": [
        {
          "output_type": "stream",
          "name": "stdout",
          "text": [
            "Drive already mounted at /content/drive; to attempt to forcibly remount, call drive.mount(\"/content/drive\", force_remount=True).\n"
          ]
        }
      ],
      "source": [
        "import bz2\n",
        "import pickle\n",
        "import _pickle as cPickle\n",
        "import pandas as pd\n",
        "import seaborn as sns\n",
        "import matplotlib.pyplot as plt\n",
        "import numpy as np\n",
        "\n",
        "from google.colab import drive\n",
        "drive.mount('/content/drive')\n",
        "\n",
        "def decompress_pickle(file):\n",
        " data = bz2.BZ2File(file, 'rb')\n",
        " data = cPickle.load(data)\n",
        " return data\n",
        "\n",
        "def compressed_pickle(title, data):  # do not add extension in filename\n",
        " with bz2.BZ2File(title + '.pbz2', 'w') as f: \n",
        "  cPickle.dump(data, f)\n",
        "\n",
        "path_name = '/content/drive/MyDrive/'"
      ]
    },
    {
      "cell_type": "markdown",
      "source": [
        "Getting saved yq1 from drive:"
      ],
      "metadata": {
        "id": "JRRJQTRsvDQm"
      }
    },
    {
      "cell_type": "markdown",
      "source": [
        "Gatting Xq1 from drive"
      ],
      "metadata": {
        "id": "D6YprWvGmWgx"
      }
    },
    {
      "cell_type": "code",
      "source": [
        "Xq1 = decompress_pickle(path_name+\"Xq1all.pbz2\") \n",
        "yq1 = decompress_pickle(path_name+\"yq1all.pbz2\") "
      ],
      "metadata": {
        "id": "xiXT2KTQmV5Y"
      },
      "execution_count": 3,
      "outputs": []
    },
    {
      "cell_type": "code",
      "source": [
        "type(Xq1), type(yq1)"
      ],
      "metadata": {
        "colab": {
          "base_uri": "https://localhost:8080/"
        },
        "id": "G9QMPnwGmpPT",
        "outputId": "77be9ce2-1228-489b-8635-2666af5d26cd"
      },
      "execution_count": 4,
      "outputs": [
        {
          "output_type": "execute_result",
          "data": {
            "text/plain": [
              "(scipy.sparse.coo.coo_matrix, pandas.core.series.Series)"
            ]
          },
          "metadata": {},
          "execution_count": 4
        }
      ]
    },
    {
      "cell_type": "code",
      "source": [
        "from scipy.sparse import coo_matrix"
      ],
      "metadata": {
        "id": "Mzwo-xM9nAQn"
      },
      "execution_count": 5,
      "outputs": []
    },
    {
      "cell_type": "code",
      "source": [
        "Xq1.shape, yq1.shape"
      ],
      "metadata": {
        "colab": {
          "base_uri": "https://localhost:8080/"
        },
        "id": "MP9Rke5lnXG_",
        "outputId": "9e79bcfe-a7b8-441f-fded-a4aef472b52a"
      },
      "execution_count": 6,
      "outputs": [
        {
          "output_type": "execute_result",
          "data": {
            "text/plain": [
              "((7313354, 2233), (7313354,))"
            ]
          },
          "metadata": {},
          "execution_count": 6
        }
      ]
    },
    {
      "cell_type": "markdown",
      "source": [
        "splitting into 80-20 training and validation set with a random state = 5. (had to remove stratify argument, because it doesn't work for sparse arrays)"
      ],
      "metadata": {
        "id": "xnaMooTbn_2O"
      }
    },
    {
      "cell_type": "code",
      "source": [
        "from sklearn.model_selection import train_test_split\n",
        "\n",
        "Xq1_train, Xq1_valid, yq1_train, yq1_valid = train_test_split(Xq1,yq1,test_size=0.2,random_state=5)"
      ],
      "metadata": {
        "id": "ZRtwPyivnH9X"
      },
      "execution_count": 7,
      "outputs": []
    },
    {
      "cell_type": "code",
      "source": [
        "Xq1_train.shape, Xq1_valid.shape, yq1_train.shape, yq1_valid.shape"
      ],
      "metadata": {
        "colab": {
          "base_uri": "https://localhost:8080/"
        },
        "id": "nMhbmTs9oHd0",
        "outputId": "3dfacebf-7c96-4374-f6c4-4370562f8751"
      },
      "execution_count": 8,
      "outputs": [
        {
          "output_type": "execute_result",
          "data": {
            "text/plain": [
              "((5850683, 2233), (1462671, 2233), (5850683,), (1462671,))"
            ]
          },
          "metadata": {},
          "execution_count": 8
        }
      ]
    },
    {
      "cell_type": "markdown",
      "source": [
        "Fraction of ones in the train and validation sets"
      ],
      "metadata": {
        "id": "3uYfRNqVpjFt"
      }
    },
    {
      "cell_type": "code",
      "source": [
        "yq1_train.sum()/yq1_train.shape[0], yq1_valid.sum()/yq1_valid.shape[0]"
      ],
      "metadata": {
        "colab": {
          "base_uri": "https://localhost:8080/"
        },
        "id": "yrRvYfHeoNrA",
        "outputId": "477359a6-0f47-43f9-e307-25b3277522c6"
      },
      "execution_count": 9,
      "outputs": [
        {
          "output_type": "execute_result",
          "data": {
            "text/plain": [
              "(0.1611603294863181, 0.16108748994134703)"
            ]
          },
          "metadata": {},
          "execution_count": 9
        }
      ]
    },
    {
      "cell_type": "markdown",
      "source": [
        "They are about the same, we will use this split to test a number of models. They are saved below:\n",
        "\n",
        "First, we scale and transform the data using the min-max scaler. "
      ],
      "metadata": {
        "id": "DWZtKI4Cppws"
      }
    },
    {
      "cell_type": "code",
      "source": [
        "from sklearn.preprocessing import MaxAbsScaler # used because sparse array not supported by MinMaxScaler\n",
        "mm_scaler = MaxAbsScaler()\n",
        "\n",
        "mm_scaler.fit(Xq1_train)\n",
        "Xq1_mm_train = mm_scaler.transform(Xq1_train)\n",
        "Xq1_mm_valid = mm_scaler.transform(Xq1_valid)\n"
      ],
      "metadata": {
        "id": "Rchgc0dFqH_C"
      },
      "execution_count": 10,
      "outputs": []
    },
    {
      "cell_type": "markdown",
      "source": [
        "### Decision tree classifier\n",
        " \n"
      ],
      "metadata": {
        "id": "4Tz2u-0Cq-jR"
      }
    },
    {
      "cell_type": "code",
      "source": [
        "from sklearn.tree import DecisionTreeClassifier\n",
        "dtree = DecisionTreeClassifier(max_depth=9)\n",
        "dtree.fit(Xq1_train,yq1_train)"
      ],
      "metadata": {
        "colab": {
          "base_uri": "https://localhost:8080/"
        },
        "id": "mpcKKFU9b1vI",
        "outputId": "0dbca690-505b-4d54-8bf7-169fab126d8f"
      },
      "execution_count": 38,
      "outputs": [
        {
          "output_type": "execute_result",
          "data": {
            "text/plain": [
              "DecisionTreeClassifier(max_depth=9)"
            ]
          },
          "metadata": {},
          "execution_count": 38
        }
      ]
    },
    {
      "cell_type": "code",
      "source": [
        "yq1_train_preds_proba = dtree.predict_proba(Xq1_train)[:,1]\n",
        "yq1_valid_preds_proba = dtree.predict_proba(Xq1_valid)[:,1]"
      ],
      "metadata": {
        "id": "tpBLWFkLcBHi"
      },
      "execution_count": 45,
      "outputs": []
    },
    {
      "cell_type": "code",
      "source": [
        "from sklearn.metrics import accuracy_score, PrecisionRecallDisplay, roc_auc_score\n"
      ],
      "metadata": {
        "id": "qBC8NBhNk2sH"
      },
      "execution_count": 40,
      "outputs": []
    },
    {
      "cell_type": "code",
      "source": [
        "accuracy_score(yq1_valid,np.where(yq1_valid_preds_proba>0.5,1,0))"
      ],
      "metadata": {
        "colab": {
          "base_uri": "https://localhost:8080/"
        },
        "id": "ND3AFc9T9a5D",
        "outputId": "e7d5d2d9-f94e-4cc3-9220-bf3ac5792acd"
      },
      "execution_count": 41,
      "outputs": [
        {
          "output_type": "execute_result",
          "data": {
            "text/plain": [
              "0.8398395811498279"
            ]
          },
          "metadata": {},
          "execution_count": 41
        }
      ]
    },
    {
      "cell_type": "code",
      "source": [
        "PrecisionRecallDisplay.from_predictions(yq1_valid,yq1_valid_preds_proba)"
      ],
      "metadata": {
        "colab": {
          "base_uri": "https://localhost:8080/",
          "height": 297
        },
        "id": "O-d0is9F9rYG",
        "outputId": "8f52900d-c675-422f-d05f-0887fee2e74c"
      },
      "execution_count": 46,
      "outputs": [
        {
          "output_type": "execute_result",
          "data": {
            "text/plain": [
              "<sklearn.metrics._plot.precision_recall_curve.PrecisionRecallDisplay at 0x7fc0fae56390>"
            ]
          },
          "metadata": {},
          "execution_count": 46
        },
        {
          "output_type": "display_data",
          "data": {
            "text/plain": [
              "<Figure size 432x288 with 1 Axes>"
            ],
            "image/png": "[encoded data removed]"
          },
          "metadata": {
            "needs_background": "light"
          }
        }
      ]
    },
    {
      "cell_type": "code",
      "source": [
        "PrecisionRecallDisplay.from_predictions(yq1_train,yq1_train_preds_proba)"
      ],
      "metadata": {
        "colab": {
          "base_uri": "https://localhost:8080/",
          "height": 297
        },
        "id": "5xJdXs9t-JYU",
        "outputId": "59f4dc8f-90b9-46cd-df00-46beb3c4017a"
      },
      "execution_count": 47,
      "outputs": [
        {
          "output_type": "execute_result",
          "data": {
            "text/plain": [
              "<sklearn.metrics._plot.precision_recall_curve.PrecisionRecallDisplay at 0x7fc0fad0a810>"
            ]
          },
          "metadata": {},
          "execution_count": 47
        },
        {
          "output_type": "display_data",
          "data": {
            "text/plain": [
              "<Figure size 432x288 with 1 Axes>"
            ],
            "image/png": "[encoded data removed]"
          },
          "metadata": {
            "needs_background": "light"
          }
        }
      ]
    },
    {
      "cell_type": "code",
      "source": [
        "roc_auc_score(yq1_valid,yq1_valid_preds_proba)"
      ],
      "metadata": {
        "colab": {
          "base_uri": "https://localhost:8080/"
        },
        "id": "O4IxhOUl9xKE",
        "outputId": "ee935ff4-5581-4c86-f0ed-932791699752"
      },
      "execution_count": 44,
      "outputs": [
        {
          "output_type": "execute_result",
          "data": {
            "text/plain": [
              "0.6512656160788077"
            ]
          },
          "metadata": {},
          "execution_count": 44
        }
      ]
    },
    {
      "cell_type": "code",
      "source": [
        "compressed_pickle(path_name+\"Decisiontreemd9_q1_1\",dtree)"
      ],
      "metadata": {
        "id": "ByiZLlr392bI"
      },
      "execution_count": 48,
      "outputs": []
    }
  ]
}