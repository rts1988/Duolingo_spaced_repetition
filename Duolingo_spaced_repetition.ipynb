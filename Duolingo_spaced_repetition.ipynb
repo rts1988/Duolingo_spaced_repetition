{
  "nbformat": 4,
  "nbformat_minor": 0,
  "metadata": {
    "colab": {
      "name": "Duolingo_spaced_repetition.ipynb",
      "provenance": [],
      "collapsed_sections": [],
      "machine_shape": "hm",
      "authorship_tag": "ABX9TyNUqXLfFyXOv1Om2CIWBYuH",
      "include_colab_link": true
    },
    "kernelspec": {
      "name": "python3",
      "display_name": "Python 3"
    },
    "language_info": {
      "name": "python"
    }
  },
  "cells": [
    {
      "cell_type": "markdown",
      "metadata": {
        "id": "view-in-github",
        "colab_type": "text"
      },
      "source": [
        "<a href=\"https://colab.research.google.com/github/rts1988/Duolingo_spaced_repetition/blob/main/Duolingo_spaced_repetition.ipynb\" target=\"_parent\"><img src=\"https://colab.research.google.com/assets/colab-badge.svg\" alt=\"Open In Colab\"/></a>"
      ]
    },
    {
      "cell_type": "markdown",
      "source": [
        "Spaced repetition data ~13mill records of students answering language learning questions. time traces. \n",
        "https://paperswithcode.com/dataset/duolingo-spaced-repetition-data\n",
        "\n",
        "Data dictionary: \n",
        "\n",
        "-   `p_recall` - proportion of exercises from this lesson/practice where the word/lexeme was correctly recalled\n",
        "-   `timestamp` - UNIX timestamp of the current lesson/practice\n",
        "-   `delta` - time (in seconds) since the last lesson/practice that included this word/lexeme\n",
        "-   `user_id` - student user ID who did the lesson/practice (anonymized)\n",
        "-   `learning_language` - language being learned\n",
        "-   `ui_language` - user interface language (presumably native to the student)\n",
        "-   `lexeme_id` - system ID for the lexeme tag (i.e., word)\n",
        "-   `lexeme_string` - lexeme tag (see below)\n",
        "-   `history_seen` - total times user has seen the word/lexeme prior to this lesson/practice\n",
        "-   `history_correct` - total times user has been correct for the word/lexeme prior to this lesson/practice\n",
        "-   `session_seen` - times the user saw the word/lexeme during this lesson/practice\n",
        "-   `session_correct` - times the user got the word/lexeme correct during this lesson/practice"
      ],
      "metadata": {
        "id": "3VvXhd3Sft_p"
      }
    },
    {
      "cell_type": "code",
      "execution_count": null,
      "metadata": {
        "id": "JjWMLs1EQ8R6"
      },
      "outputs": [],
      "source": [
        "from pydrive.auth import GoogleAuth\n",
        "from pydrive.drive import GoogleDrive\n",
        "from google.colab import auth\n",
        "from oauth2client.client import GoogleCredentials\n",
        "\n",
        "# Authenticate and create the PyDrive client.\n",
        "auth.authenticate_user()\n",
        "gauth = GoogleAuth()\n",
        "gauth.credentials = GoogleCredentials.get_application_default()\n",
        "drive = GoogleDrive(gauth)\n",
        "\n",
        "fileid = \"1MdLRV3GQ76-xqSGkH1QUDQ1MHrg_JtU_\"\n",
        "filename = \"settles.acl16.learning_traces.13m.csv.gz\"\n",
        "\n",
        "\n",
        "downloaded = drive.CreateFile({'id':fileid}) \n",
        "downloaded.GetContentFile(filename)"
      ]
    },
    {
      "cell_type": "code",
      "source": [
        "# from https://www.tutorialspoint.com/python-support-for-gzip-files-gzip\n",
        "import gzip\n",
        "import shutil\n",
        "import pandas as pd\n",
        "import seaborn as sns\n",
        "import matplotlib.pyplot as plt\n",
        "import numpy as np\n",
        "datacsv = []\n",
        "with gzip.open(\"settles.acl16.learning_traces.13m.csv.gz\", 'rb') as f_in:\n",
        "  with open(\"settles.acl16.learning_traces.13m.csv\", 'wb') as f_out:\n",
        "    shutil.copyfileobj(f_in, f_out)"
      ],
      "metadata": {
        "id": "ffn51ky9Vmir"
      },
      "execution_count": null,
      "outputs": []
    },
    {
      "cell_type": "code",
      "source": [
        "datadf = pd.read_csv(\"settles.acl16.learning_traces.13m.csv\")"
      ],
      "metadata": {
        "id": "1d3K9ybIe9TC"
      },
      "execution_count": null,
      "outputs": []
    },
    {
      "cell_type": "code",
      "source": [
        "datadf.head(4)"
      ],
      "metadata": {
        "colab": {
          "base_uri": "https://localhost:8080/",
          "height": 308
        },
        "id": "RZXL7ow4fEg7",
        "outputId": "9bdd4af8-34e7-4e56-8ee8-91bdceb5f70a"
      },
      "execution_count": null,
      "outputs": [
        {
          "output_type": "execute_result",
          "data": {
            "text/plain": [
              "   p_recall   timestamp     delta user_id learning_language ui_language  \\\n",
              "0       1.0  1362076081  27649635    u:FO                de          en   \n",
              "1       0.5  1362076081  27649635    u:FO                de          en   \n",
              "2       1.0  1362076081  27649635    u:FO                de          en   \n",
              "3       0.5  1362076081  27649635    u:FO                de          en   \n",
              "\n",
              "                          lexeme_id                     lexeme_string  \\\n",
              "0  76390c1350a8dac31186187e2fe1e178  lernt/lernen<vblex><pri><p3><sg>   \n",
              "1  7dfd7086f3671685e2cf1c1da72796d7     die/die<det><def><f><sg><nom>   \n",
              "2  35a54c25a2cda8127343f6a82e6f6b7d          mann/mann<n><m><sg><nom>   \n",
              "3  0cf63ffe3dda158bc3dbd55682b355ae          frau/frau<n><f><sg><nom>   \n",
              "\n",
              "   history_seen  history_correct  session_seen  session_correct  \n",
              "0             6                4             2                2  \n",
              "1             4                4             2                1  \n",
              "2             5                4             1                1  \n",
              "3             6                5             2                1  "
            ],
            "text/html": [
              "\n",
              "  <div id=\"df-4b996c34-3406-48a8-8e75-5c0fbbca7e63\">\n",
              "    <div class=\"colab-df-container\">\n",
              "      <div>\n",
              "<style scoped>\n",
              "    .dataframe tbody tr th:only-of-type {\n",
              "        vertical-align: middle;\n",
              "    }\n",
              "\n",
              "    .dataframe tbody tr th {\n",
              "        vertical-align: top;\n",
              "    }\n",
              "\n",
              "    .dataframe thead th {\n",
              "        text-align: right;\n",
              "    }\n",
              "</style>\n",
              "<table border=\"1\" class=\"dataframe\">\n",
              "  <thead>\n",
              "    <tr style=\"text-align: right;\">\n",
              "      <th></th>\n",
              "      <th>p_recall</th>\n",
              "      <th>timestamp</th>\n",
              "      <th>delta</th>\n",
              "      <th>user_id</th>\n",
              "      <th>learning_language</th>\n",
              "      <th>ui_language</th>\n",
              "      <th>lexeme_id</th>\n",
              "      <th>lexeme_string</th>\n",
              "      <th>history_seen</th>\n",
              "      <th>history_correct</th>\n",
              "      <th>session_seen</th>\n",
              "      <th>session_correct</th>\n",
              "    </tr>\n",
              "  </thead>\n",
              "  <tbody>\n",
              "    <tr>\n",
              "      <th>0</th>\n",
              "      <td>1.0</td>\n",
              "      <td>1362076081</td>\n",
              "      <td>27649635</td>\n",
              "      <td>u:FO</td>\n",
              "      <td>de</td>\n",
              "      <td>en</td>\n",
              "      <td>76390c1350a8dac31186187e2fe1e178</td>\n",
              "      <td>lernt/lernen&lt;vblex&gt;&lt;pri&gt;&lt;p3&gt;&lt;sg&gt;</td>\n",
              "      <td>6</td>\n",
              "      <td>4</td>\n",
              "      <td>2</td>\n",
              "      <td>2</td>\n",
              "    </tr>\n",
              "    <tr>\n",
              "      <th>1</th>\n",
              "      <td>0.5</td>\n",
              "      <td>1362076081</td>\n",
              "      <td>27649635</td>\n",
              "      <td>u:FO</td>\n",
              "      <td>de</td>\n",
              "      <td>en</td>\n",
              "      <td>7dfd7086f3671685e2cf1c1da72796d7</td>\n",
              "      <td>die/die&lt;det&gt;&lt;def&gt;&lt;f&gt;&lt;sg&gt;&lt;nom&gt;</td>\n",
              "      <td>4</td>\n",
              "      <td>4</td>\n",
              "      <td>2</td>\n",
              "      <td>1</td>\n",
              "    </tr>\n",
              "    <tr>\n",
              "      <th>2</th>\n",
              "      <td>1.0</td>\n",
              "      <td>1362076081</td>\n",
              "      <td>27649635</td>\n",
              "      <td>u:FO</td>\n",
              "      <td>de</td>\n",
              "      <td>en</td>\n",
              "      <td>35a54c25a2cda8127343f6a82e6f6b7d</td>\n",
              "      <td>mann/mann&lt;n&gt;&lt;m&gt;&lt;sg&gt;&lt;nom&gt;</td>\n",
              "      <td>5</td>\n",
              "      <td>4</td>\n",
              "      <td>1</td>\n",
              "      <td>1</td>\n",
              "    </tr>\n",
              "    <tr>\n",
              "      <th>3</th>\n",
              "      <td>0.5</td>\n",
              "      <td>1362076081</td>\n",
              "      <td>27649635</td>\n",
              "      <td>u:FO</td>\n",
              "      <td>de</td>\n",
              "      <td>en</td>\n",
              "      <td>0cf63ffe3dda158bc3dbd55682b355ae</td>\n",
              "      <td>frau/frau&lt;n&gt;&lt;f&gt;&lt;sg&gt;&lt;nom&gt;</td>\n",
              "      <td>6</td>\n",
              "      <td>5</td>\n",
              "      <td>2</td>\n",
              "      <td>1</td>\n",
              "    </tr>\n",
              "  </tbody>\n",
              "</table>\n",
              "</div>\n",
              "      <button class=\"colab-df-convert\" onclick=\"convertToInteractive('df-4b996c34-3406-48a8-8e75-5c0fbbca7e63')\"\n",
              "              title=\"Convert this dataframe to an interactive table.\"\n",
              "              style=\"display:none;\">\n",
              "        \n",
              "  <svg xmlns=\"http://www.w3.org/2000/svg\" height=\"24px\"viewBox=\"0 0 24 24\"\n",
              "       width=\"24px\">\n",
              "    <path d=\"M0 0h24v24H0V0z\" fill=\"none\"/>\n",
              "    <path d=\"M18.56 5.44l.94 2.06.94-2.06 2.06-.94-2.06-.94-.94-2.06-.94 2.06-2.06.94zm-11 1L8.5 8.5l.94-2.06 2.06-.94-2.06-.94L8.5 2.5l-.94 2.06-2.06.94zm10 10l.94 2.06.94-2.06 2.06-.94-2.06-.94-.94-2.06-.94 2.06-2.06.94z\"/><path d=\"M17.41 7.96l-1.37-1.37c-.4-.4-.92-.59-1.43-.59-.52 0-1.04.2-1.43.59L10.3 9.45l-7.72 7.72c-.78.78-.78 2.05 0 2.83L4 21.41c.39.39.9.59 1.41.59.51 0 1.02-.2 1.41-.59l7.78-7.78 2.81-2.81c.8-.78.8-2.07 0-2.86zM5.41 20L4 18.59l7.72-7.72 1.47 1.35L5.41 20z\"/>\n",
              "  </svg>\n",
              "      </button>\n",
              "      \n",
              "  <style>\n",
              "    .colab-df-container {\n",
              "      display:flex;\n",
              "      flex-wrap:wrap;\n",
              "      gap: 12px;\n",
              "    }\n",
              "\n",
              "    .colab-df-convert {\n",
              "      background-color: #E8F0FE;\n",
              "      border: none;\n",
              "      border-radius: 50%;\n",
              "      cursor: pointer;\n",
              "      display: none;\n",
              "      fill: #1967D2;\n",
              "      height: 32px;\n",
              "      padding: 0 0 0 0;\n",
              "      width: 32px;\n",
              "    }\n",
              "\n",
              "    .colab-df-convert:hover {\n",
              "      background-color: #E2EBFA;\n",
              "      box-shadow: 0px 1px 2px rgba(60, 64, 67, 0.3), 0px 1px 3px 1px rgba(60, 64, 67, 0.15);\n",
              "      fill: #174EA6;\n",
              "    }\n",
              "\n",
              "    [theme=dark] .colab-df-convert {\n",
              "      background-color: #3B4455;\n",
              "      fill: #D2E3FC;\n",
              "    }\n",
              "\n",
              "    [theme=dark] .colab-df-convert:hover {\n",
              "      background-color: #434B5C;\n",
              "      box-shadow: 0px 1px 3px 1px rgba(0, 0, 0, 0.15);\n",
              "      filter: drop-shadow(0px 1px 2px rgba(0, 0, 0, 0.3));\n",
              "      fill: #FFFFFF;\n",
              "    }\n",
              "  </style>\n",
              "\n",
              "      <script>\n",
              "        const buttonEl =\n",
              "          document.querySelector('#df-4b996c34-3406-48a8-8e75-5c0fbbca7e63 button.colab-df-convert');\n",
              "        buttonEl.style.display =\n",
              "          google.colab.kernel.accessAllowed ? 'block' : 'none';\n",
              "\n",
              "        async function convertToInteractive(key) {\n",
              "          const element = document.querySelector('#df-4b996c34-3406-48a8-8e75-5c0fbbca7e63');\n",
              "          const dataTable =\n",
              "            await google.colab.kernel.invokeFunction('convertToInteractive',\n",
              "                                                     [key], {});\n",
              "          if (!dataTable) return;\n",
              "\n",
              "          const docLinkHtml = 'Like what you see? Visit the ' +\n",
              "            '<a target=\"_blank\" href=https://colab.research.google.com/notebooks/data_table.ipynb>data table notebook</a>'\n",
              "            + ' to learn more about interactive tables.';\n",
              "          element.innerHTML = '';\n",
              "          dataTable['output_type'] = 'display_data';\n",
              "          await google.colab.output.renderOutput(dataTable, element);\n",
              "          const docLink = document.createElement('div');\n",
              "          docLink.innerHTML = docLinkHtml;\n",
              "          element.appendChild(docLink);\n",
              "        }\n",
              "      </script>\n",
              "    </div>\n",
              "  </div>\n",
              "  "
            ]
          },
          "metadata": {},
          "execution_count": 91
        }
      ]
    },
    {
      "cell_type": "code",
      "source": [
        "datadf['delta'].describe()"
      ],
      "metadata": {
        "colab": {
          "base_uri": "https://localhost:8080/"
        },
        "id": "sH2iqE7mLHoJ",
        "outputId": "038deec3-b2c5-4aa3-8f57-d51a3b1459d1"
      },
      "execution_count": null,
      "outputs": [
        {
          "output_type": "execute_result",
          "data": {
            "text/plain": [
              "count    1.285423e+07\n",
              "mean     7.295811e+05\n",
              "std      2.246499e+06\n",
              "min      1.000000e+00\n",
              "25%      5.320000e+02\n",
              "50%      7.713400e+04\n",
              "75%      4.425070e+05\n",
              "max      4.032836e+07\n",
              "Name: delta, dtype: float64"
            ]
          },
          "metadata": {},
          "execution_count": 96
        }
      ]
    },
    {
      "cell_type": "code",
      "source": [
        "datadf['p_forgot'] = 1- datadf['p_recall']"
      ],
      "metadata": {
        "id": "XMv5ssgu15Ep"
      },
      "execution_count": null,
      "outputs": []
    },
    {
      "cell_type": "code",
      "source": [
        "plt.figure()\n",
        "plt.xlabel(\"Probability of forgetting a word (p_forgot)\")\n",
        "plt.ylabel(\"Frequency counts\")\n",
        "plt.title(\"Distribution of target variable: highly imbalanced\")\n",
        "datadf['p_forgot'].hist(bins=20)"
      ],
      "metadata": {
        "colab": {
          "base_uri": "https://localhost:8080/",
          "height": 314
        },
        "id": "XHsbOG5_7uGh",
        "outputId": "17c99a85-f3bc-44c4-8437-19eeb9e8e19c"
      },
      "execution_count": null,
      "outputs": [
        {
          "output_type": "execute_result",
          "data": {
            "text/plain": [
              "<matplotlib.axes._subplots.AxesSubplot at 0x7ff25ec59e10>"
            ]
          },
          "metadata": {},
          "execution_count": 94
        },
        {
          "output_type": "display_data",
          "data": {
            "text/plain": [
              "<Figure size 432x288 with 1 Axes>"
            ],
            "image/png": "[encoded data removed]"
          },
          "metadata": {
            "needs_background": "light"
          }
        }
      ]
    },
    {
      "cell_type": "code",
      "source": [
        "datadf['p_forgot_bin'] = np.where(datadf['p_forgot']>0,1,0)\n"
      ],
      "metadata": {
        "id": "HVUT32h42eA7"
      },
      "execution_count": null,
      "outputs": []
    },
    {
      "cell_type": "code",
      "source": [
        "datadf['p_forgot_bin'].value_counts(normalize=True)*100"
      ],
      "metadata": {
        "colab": {
          "base_uri": "https://localhost:8080/"
        },
        "id": "hmMNDjeF2n_f",
        "outputId": "a10259d2-596a-4bf4-df6f-d0c59c37c44b"
      },
      "execution_count": null,
      "outputs": [
        {
          "output_type": "execute_result",
          "data": {
            "text/plain": [
              "0    83.886358\n",
              "1    16.113642\n",
              "Name: p_forgot_bin, dtype: float64"
            ]
          },
          "metadata": {},
          "execution_count": 99
        }
      ]
    },
    {
      "cell_type": "code",
      "source": [
        "plt.figure()\n",
        "plt.xlabel(\"Probability of forgetting a word (p_forgot)\")\n",
        "plt.ylabel(\"Frequency counts\")\n",
        "plt.title(\"Distribution of target variable: highly imbalanced\")\n",
        "datadf['p_forgot_bin'].hist(bins=20)"
      ],
      "metadata": {
        "colab": {
          "base_uri": "https://localhost:8080/",
          "height": 314
        },
        "id": "iF3-Vjhc25YD",
        "outputId": "47bd46f6-de96-44a5-9f2d-bc273553c85e"
      },
      "execution_count": null,
      "outputs": [
        {
          "output_type": "execute_result",
          "data": {
            "text/plain": [
              "<matplotlib.axes._subplots.AxesSubplot at 0x7ff2625b3d10>"
            ]
          },
          "metadata": {},
          "execution_count": 18
        },
        {
          "output_type": "display_data",
          "data": {
            "text/plain": [
              "<Figure size 432x288 with 1 Axes>"
            ],
            "image/png": "[encoded data removed]"
          },
          "metadata": {
            "needs_background": "light"
          }
        }
      ]
    },
    {
      "cell_type": "code",
      "source": [
        "counts = datadf['p_forgot_bin'].value_counts()\n",
        "plt.figure(figsize=(6,4))\n",
        "plt.bar(counts.index,counts)\n",
        "plt.xticks([0,1],fontsize=12)\n",
        "plt.yticks(fontsize=12)\n",
        "plt.ylabel(\"Frequency counts ($10^7$)\",fontsize=14)\n",
        "plt.xlabel(\"Probability of forgetting a word\",fontsize=14)\n",
        "plt.title(\"Distribution of target variable; highly imbalanced\",fontsize=16)\n",
        "plt.show()"
      ],
      "metadata": {
        "colab": {
          "base_uri": "https://localhost:8080/",
          "height": 304
        },
        "id": "ksa7q7w63FFH",
        "outputId": "b5e15500-9632-430e-f850-c32af4ad119d"
      },
      "execution_count": null,
      "outputs": [
        {
          "output_type": "display_data",
          "data": {
            "text/plain": [
              "<Figure size 432x288 with 1 Axes>"
            ],
            "image/png": "[encoded data removed]"
          },
          "metadata": {
            "needs_background": "light"
          }
        }
      ]
    },
    {
      "cell_type": "code",
      "source": [
        "counts = np.around(datadf['p_forgot_bin'].value_counts(normalize=True)*100,2)\n",
        "plt.figure(figsize=(6,5))\n",
        "plt.bar(counts.index,counts)\n",
        "plt.xticks([0,1],fontsize=12,labels = ['No','Yes'])\n",
        "plt.yticks(fontsize=12)\n",
        "plt.ylabel(\"Frequency counts (%)\",fontsize=14)\n",
        "plt.xlabel(\"Word was forgotten\",fontsize=14)\n",
        "plt.title(\"Distribution of target variable; highly imbalanced\",fontsize=16)\n",
        "plt.annotate(\"83.9%\",(0-.15,78),fontsize=18,c='black')\n",
        "plt.annotate(\"16.1%\",(1-.15,10),fontsize=18,c='black')\n",
        "plt.show()"
      ],
      "metadata": {
        "colab": {
          "base_uri": "https://localhost:8080/",
          "height": 359
        },
        "id": "sen8IoVc4dRc",
        "outputId": "505c98ba-b3af-42f0-edce-75d7e457089d"
      },
      "execution_count": null,
      "outputs": [
        {
          "output_type": "display_data",
          "data": {
            "text/plain": [
              "<Figure size 432x360 with 1 Axes>"
            ],
            "image/png": "[encoded data removed]"
          },
          "metadata": {
            "needs_background": "light"
          }
        }
      ]
    },
    {
      "cell_type": "markdown",
      "source": [
        "Majority of p_Recall is 1. Imbalanced dataset, because we are interested in predicting if a student has forgotten. We can define a new target variable here. p_forgot=1-p_recall"
      ],
      "metadata": {
        "id": "QfSwBCFatKuQ"
      }
    },
    {
      "cell_type": "code",
      "source": [
        "language_difficulty = datadf.groupby(['ui_language','learning_language'])['p_forgot_bin'].mean().sort_values(ascending=False).apply(lambda x: np.around(x*100,1))"
      ],
      "metadata": {
        "id": "4_aZvXpjdTdJ"
      },
      "execution_count": null,
      "outputs": []
    },
    {
      "cell_type": "code",
      "source": [
        "language_difficulty = pd.DataFrame(language_difficulty)"
      ],
      "metadata": {
        "id": "m0kQU40oeB_t"
      },
      "execution_count": null,
      "outputs": []
    },
    {
      "cell_type": "code",
      "source": [
        "language_difficulty.to_csv('languagedifficult.csv')\n",
        "from google.colab import files\n",
        "files.download('languagedifficult.csv')"
      ],
      "metadata": {
        "colab": {
          "base_uri": "https://localhost:8080/",
          "height": 17
        },
        "id": "dmARna8QeIdn",
        "outputId": "9acafb93-807e-4bbd-a246-6a33092aa03b"
      },
      "execution_count": null,
      "outputs": [
        {
          "output_type": "display_data",
          "data": {
            "text/plain": [
              "<IPython.core.display.Javascript object>"
            ],
            "application/javascript": [
              "\n",
              "    async function download(id, filename, size) {\n",
              "      if (!google.colab.kernel.accessAllowed) {\n",
              "        return;\n",
              "      }\n",
              "      const div = document.createElement('div');\n",
              "      const label = document.createElement('label');\n",
              "      label.textContent = `Downloading \"${filename}\": `;\n",
              "      div.appendChild(label);\n",
              "      const progress = document.createElement('progress');\n",
              "      progress.max = size;\n",
              "      div.appendChild(progress);\n",
              "      document.body.appendChild(div);\n",
              "\n",
              "      const buffers = [];\n",
              "      let downloaded = 0;\n",
              "\n",
              "      const channel = await google.colab.kernel.comms.open(id);\n",
              "      // Send a message to notify the kernel that we're ready.\n",
              "      channel.send({})\n",
              "\n",
              "      for await (const message of channel.messages) {\n",
              "        // Send a message to notify the kernel that we're ready.\n",
              "        channel.send({})\n",
              "        if (message.buffers) {\n",
              "          for (const buffer of message.buffers) {\n",
              "            buffers.push(buffer);\n",
              "            downloaded += buffer.byteLength;\n",
              "            progress.value = downloaded;\n",
              "          }\n",
              "        }\n",
              "      }\n",
              "      const blob = new Blob(buffers, {type: 'application/binary'});\n",
              "      const a = document.createElement('a');\n",
              "      a.href = window.URL.createObjectURL(blob);\n",
              "      a.download = filename;\n",
              "      div.appendChild(a);\n",
              "      a.click();\n",
              "      div.remove();\n",
              "    }\n",
              "  "
            ]
          },
          "metadata": {}
        },
        {
          "output_type": "display_data",
          "data": {
            "text/plain": [
              "<IPython.core.display.Javascript object>"
            ],
            "application/javascript": [
              "download(\"download_75cae167-f04c-4692-987a-af83b90925d9\", \"languagedifficult.csv\", 131)"
            ]
          },
          "metadata": {}
        }
      ]
    },
    {
      "cell_type": "code",
      "source": [
        "datadf.loc[datadf['p_forgot_bin']==1,'delta_days']"
      ],
      "metadata": {
        "colab": {
          "base_uri": "https://localhost:8080/",
          "height": 512
        },
        "id": "5xPA2wAsBhkj",
        "outputId": "48690e42-4b09-4f90-8ff0-73013a2edde3"
      },
      "execution_count": null,
      "outputs": [
        {
          "output_type": "error",
          "ename": "KeyError",
          "evalue": "ignored",
          "traceback": [
            "\u001b[0;31m---------------------------------------------------------------------------\u001b[0m",
            "\u001b[0;31mKeyError\u001b[0m                                  Traceback (most recent call last)",
            "\u001b[0;32m/usr/local/lib/python3.7/dist-packages/pandas/core/indexes/base.py\u001b[0m in \u001b[0;36mget_loc\u001b[0;34m(self, key, method, tolerance)\u001b[0m\n\u001b[1;32m   3360\u001b[0m             \u001b[0;32mtry\u001b[0m\u001b[0;34m:\u001b[0m\u001b[0;34m\u001b[0m\u001b[0;34m\u001b[0m\u001b[0m\n\u001b[0;32m-> 3361\u001b[0;31m                 \u001b[0;32mreturn\u001b[0m \u001b[0mself\u001b[0m\u001b[0;34m.\u001b[0m\u001b[0m_engine\u001b[0m\u001b[0;34m.\u001b[0m\u001b[0mget_loc\u001b[0m\u001b[0;34m(\u001b[0m\u001b[0mcasted_key\u001b[0m\u001b[0;34m)\u001b[0m\u001b[0;34m\u001b[0m\u001b[0;34m\u001b[0m\u001b[0m\n\u001b[0m\u001b[1;32m   3362\u001b[0m             \u001b[0;32mexcept\u001b[0m \u001b[0mKeyError\u001b[0m \u001b[0;32mas\u001b[0m \u001b[0merr\u001b[0m\u001b[0;34m:\u001b[0m\u001b[0;34m\u001b[0m\u001b[0;34m\u001b[0m\u001b[0m\n",
            "\u001b[0;32m/usr/local/lib/python3.7/dist-packages/pandas/_libs/index.pyx\u001b[0m in \u001b[0;36mpandas._libs.index.IndexEngine.get_loc\u001b[0;34m()\u001b[0m\n",
            "\u001b[0;32m/usr/local/lib/python3.7/dist-packages/pandas/_libs/index.pyx\u001b[0m in \u001b[0;36mpandas._libs.index.IndexEngine.get_loc\u001b[0;34m()\u001b[0m\n",
            "\u001b[0;32mpandas/_libs/hashtable_class_helper.pxi\u001b[0m in \u001b[0;36mpandas._libs.hashtable.PyObjectHashTable.get_item\u001b[0;34m()\u001b[0m\n",
            "\u001b[0;32mpandas/_libs/hashtable_class_helper.pxi\u001b[0m in \u001b[0;36mpandas._libs.hashtable.PyObjectHashTable.get_item\u001b[0;34m()\u001b[0m\n",
            "\u001b[0;31mKeyError\u001b[0m: 'delta_days'",
            "\nThe above exception was the direct cause of the following exception:\n",
            "\u001b[0;31mKeyError\u001b[0m                                  Traceback (most recent call last)",
            "\u001b[0;32m<ipython-input-130-3c0005e84667>\u001b[0m in \u001b[0;36m<module>\u001b[0;34m()\u001b[0m\n\u001b[0;32m----> 1\u001b[0;31m \u001b[0mdatadf\u001b[0m\u001b[0;34m.\u001b[0m\u001b[0mloc\u001b[0m\u001b[0;34m[\u001b[0m\u001b[0mdatadf\u001b[0m\u001b[0;34m[\u001b[0m\u001b[0;34m'p_forgot_bin'\u001b[0m\u001b[0;34m]\u001b[0m\u001b[0;34m==\u001b[0m\u001b[0;36m1\u001b[0m\u001b[0;34m,\u001b[0m\u001b[0;34m'delta_days'\u001b[0m\u001b[0;34m]\u001b[0m\u001b[0;34m\u001b[0m\u001b[0;34m\u001b[0m\u001b[0m\n\u001b[0m",
            "\u001b[0;32m/usr/local/lib/python3.7/dist-packages/pandas/core/indexing.py\u001b[0m in \u001b[0;36m__getitem__\u001b[0;34m(self, key)\u001b[0m\n\u001b[1;32m    923\u001b[0m                 \u001b[0;32mwith\u001b[0m \u001b[0msuppress\u001b[0m\u001b[0;34m(\u001b[0m\u001b[0mKeyError\u001b[0m\u001b[0;34m,\u001b[0m \u001b[0mIndexError\u001b[0m\u001b[0;34m)\u001b[0m\u001b[0;34m:\u001b[0m\u001b[0;34m\u001b[0m\u001b[0;34m\u001b[0m\u001b[0m\n\u001b[1;32m    924\u001b[0m                     \u001b[0;32mreturn\u001b[0m \u001b[0mself\u001b[0m\u001b[0;34m.\u001b[0m\u001b[0mobj\u001b[0m\u001b[0;34m.\u001b[0m\u001b[0m_get_value\u001b[0m\u001b[0;34m(\u001b[0m\u001b[0;34m*\u001b[0m\u001b[0mkey\u001b[0m\u001b[0;34m,\u001b[0m \u001b[0mtakeable\u001b[0m\u001b[0;34m=\u001b[0m\u001b[0mself\u001b[0m\u001b[0;34m.\u001b[0m\u001b[0m_takeable\u001b[0m\u001b[0;34m)\u001b[0m\u001b[0;34m\u001b[0m\u001b[0;34m\u001b[0m\u001b[0m\n\u001b[0;32m--> 925\u001b[0;31m             \u001b[0;32mreturn\u001b[0m \u001b[0mself\u001b[0m\u001b[0;34m.\u001b[0m\u001b[0m_getitem_tuple\u001b[0m\u001b[0;34m(\u001b[0m\u001b[0mkey\u001b[0m\u001b[0;34m)\u001b[0m\u001b[0;34m\u001b[0m\u001b[0;34m\u001b[0m\u001b[0m\n\u001b[0m\u001b[1;32m    926\u001b[0m         \u001b[0;32melse\u001b[0m\u001b[0;34m:\u001b[0m\u001b[0;34m\u001b[0m\u001b[0;34m\u001b[0m\u001b[0m\n\u001b[1;32m    927\u001b[0m             \u001b[0;31m# we by definition only have the 0th axis\u001b[0m\u001b[0;34m\u001b[0m\u001b[0;34m\u001b[0m\u001b[0;34m\u001b[0m\u001b[0m\n",
            "\u001b[0;32m/usr/local/lib/python3.7/dist-packages/pandas/core/indexing.py\u001b[0m in \u001b[0;36m_getitem_tuple\u001b[0;34m(self, tup)\u001b[0m\n\u001b[1;32m   1098\u001b[0m     \u001b[0;32mdef\u001b[0m \u001b[0m_getitem_tuple\u001b[0m\u001b[0;34m(\u001b[0m\u001b[0mself\u001b[0m\u001b[0;34m,\u001b[0m \u001b[0mtup\u001b[0m\u001b[0;34m:\u001b[0m \u001b[0mtuple\u001b[0m\u001b[0;34m)\u001b[0m\u001b[0;34m:\u001b[0m\u001b[0;34m\u001b[0m\u001b[0;34m\u001b[0m\u001b[0m\n\u001b[1;32m   1099\u001b[0m         \u001b[0;32mwith\u001b[0m \u001b[0msuppress\u001b[0m\u001b[0;34m(\u001b[0m\u001b[0mIndexingError\u001b[0m\u001b[0;34m)\u001b[0m\u001b[0;34m:\u001b[0m\u001b[0;34m\u001b[0m\u001b[0;34m\u001b[0m\u001b[0m\n\u001b[0;32m-> 1100\u001b[0;31m             \u001b[0;32mreturn\u001b[0m \u001b[0mself\u001b[0m\u001b[0;34m.\u001b[0m\u001b[0m_getitem_lowerdim\u001b[0m\u001b[0;34m(\u001b[0m\u001b[0mtup\u001b[0m\u001b[0;34m)\u001b[0m\u001b[0;34m\u001b[0m\u001b[0;34m\u001b[0m\u001b[0m\n\u001b[0m\u001b[1;32m   1101\u001b[0m \u001b[0;34m\u001b[0m\u001b[0m\n\u001b[1;32m   1102\u001b[0m         \u001b[0;31m# no multi-index, so validate all of the indexers\u001b[0m\u001b[0;34m\u001b[0m\u001b[0;34m\u001b[0m\u001b[0;34m\u001b[0m\u001b[0m\n",
            "\u001b[0;32m/usr/local/lib/python3.7/dist-packages/pandas/core/indexing.py\u001b[0m in \u001b[0;36m_getitem_lowerdim\u001b[0;34m(self, tup)\u001b[0m\n\u001b[1;32m    836\u001b[0m                 \u001b[0;31m# We don't need to check for tuples here because those are\u001b[0m\u001b[0;34m\u001b[0m\u001b[0;34m\u001b[0m\u001b[0;34m\u001b[0m\u001b[0m\n\u001b[1;32m    837\u001b[0m                 \u001b[0;31m#  caught by the _is_nested_tuple_indexer check above.\u001b[0m\u001b[0;34m\u001b[0m\u001b[0;34m\u001b[0m\u001b[0;34m\u001b[0m\u001b[0m\n\u001b[0;32m--> 838\u001b[0;31m                 \u001b[0msection\u001b[0m \u001b[0;34m=\u001b[0m \u001b[0mself\u001b[0m\u001b[0;34m.\u001b[0m\u001b[0m_getitem_axis\u001b[0m\u001b[0;34m(\u001b[0m\u001b[0mkey\u001b[0m\u001b[0;34m,\u001b[0m \u001b[0maxis\u001b[0m\u001b[0;34m=\u001b[0m\u001b[0mi\u001b[0m\u001b[0;34m)\u001b[0m\u001b[0;34m\u001b[0m\u001b[0;34m\u001b[0m\u001b[0m\n\u001b[0m\u001b[1;32m    839\u001b[0m \u001b[0;34m\u001b[0m\u001b[0m\n\u001b[1;32m    840\u001b[0m                 \u001b[0;31m# We should never have a scalar section here, because\u001b[0m\u001b[0;34m\u001b[0m\u001b[0;34m\u001b[0m\u001b[0;34m\u001b[0m\u001b[0m\n",
            "\u001b[0;32m/usr/local/lib/python3.7/dist-packages/pandas/core/indexing.py\u001b[0m in \u001b[0;36m_getitem_axis\u001b[0;34m(self, key, axis)\u001b[0m\n\u001b[1;32m   1162\u001b[0m         \u001b[0;31m# fall thru to straight lookup\u001b[0m\u001b[0;34m\u001b[0m\u001b[0;34m\u001b[0m\u001b[0;34m\u001b[0m\u001b[0m\n\u001b[1;32m   1163\u001b[0m         \u001b[0mself\u001b[0m\u001b[0;34m.\u001b[0m\u001b[0m_validate_key\u001b[0m\u001b[0;34m(\u001b[0m\u001b[0mkey\u001b[0m\u001b[0;34m,\u001b[0m \u001b[0maxis\u001b[0m\u001b[0;34m)\u001b[0m\u001b[0;34m\u001b[0m\u001b[0;34m\u001b[0m\u001b[0m\n\u001b[0;32m-> 1164\u001b[0;31m         \u001b[0;32mreturn\u001b[0m \u001b[0mself\u001b[0m\u001b[0;34m.\u001b[0m\u001b[0m_get_label\u001b[0m\u001b[0;34m(\u001b[0m\u001b[0mkey\u001b[0m\u001b[0;34m,\u001b[0m \u001b[0maxis\u001b[0m\u001b[0;34m=\u001b[0m\u001b[0maxis\u001b[0m\u001b[0;34m)\u001b[0m\u001b[0;34m\u001b[0m\u001b[0;34m\u001b[0m\u001b[0m\n\u001b[0m\u001b[1;32m   1165\u001b[0m \u001b[0;34m\u001b[0m\u001b[0m\n\u001b[1;32m   1166\u001b[0m     \u001b[0;32mdef\u001b[0m \u001b[0m_get_slice_axis\u001b[0m\u001b[0;34m(\u001b[0m\u001b[0mself\u001b[0m\u001b[0;34m,\u001b[0m \u001b[0mslice_obj\u001b[0m\u001b[0;34m:\u001b[0m \u001b[0mslice\u001b[0m\u001b[0;34m,\u001b[0m \u001b[0maxis\u001b[0m\u001b[0;34m:\u001b[0m \u001b[0mint\u001b[0m\u001b[0;34m)\u001b[0m\u001b[0;34m:\u001b[0m\u001b[0;34m\u001b[0m\u001b[0;34m\u001b[0m\u001b[0m\n",
            "\u001b[0;32m/usr/local/lib/python3.7/dist-packages/pandas/core/indexing.py\u001b[0m in \u001b[0;36m_get_label\u001b[0;34m(self, label, axis)\u001b[0m\n\u001b[1;32m   1111\u001b[0m     \u001b[0;32mdef\u001b[0m \u001b[0m_get_label\u001b[0m\u001b[0;34m(\u001b[0m\u001b[0mself\u001b[0m\u001b[0;34m,\u001b[0m \u001b[0mlabel\u001b[0m\u001b[0;34m,\u001b[0m \u001b[0maxis\u001b[0m\u001b[0;34m:\u001b[0m \u001b[0mint\u001b[0m\u001b[0;34m)\u001b[0m\u001b[0;34m:\u001b[0m\u001b[0;34m\u001b[0m\u001b[0;34m\u001b[0m\u001b[0m\n\u001b[1;32m   1112\u001b[0m         \u001b[0;31m# GH#5667 this will fail if the label is not present in the axis.\u001b[0m\u001b[0;34m\u001b[0m\u001b[0;34m\u001b[0m\u001b[0;34m\u001b[0m\u001b[0m\n\u001b[0;32m-> 1113\u001b[0;31m         \u001b[0;32mreturn\u001b[0m \u001b[0mself\u001b[0m\u001b[0;34m.\u001b[0m\u001b[0mobj\u001b[0m\u001b[0;34m.\u001b[0m\u001b[0mxs\u001b[0m\u001b[0;34m(\u001b[0m\u001b[0mlabel\u001b[0m\u001b[0;34m,\u001b[0m \u001b[0maxis\u001b[0m\u001b[0;34m=\u001b[0m\u001b[0maxis\u001b[0m\u001b[0;34m)\u001b[0m\u001b[0;34m\u001b[0m\u001b[0;34m\u001b[0m\u001b[0m\n\u001b[0m\u001b[1;32m   1114\u001b[0m \u001b[0;34m\u001b[0m\u001b[0m\n\u001b[1;32m   1115\u001b[0m     \u001b[0;32mdef\u001b[0m \u001b[0m_handle_lowerdim_multi_index_axis0\u001b[0m\u001b[0;34m(\u001b[0m\u001b[0mself\u001b[0m\u001b[0;34m,\u001b[0m \u001b[0mtup\u001b[0m\u001b[0;34m:\u001b[0m \u001b[0mtuple\u001b[0m\u001b[0;34m)\u001b[0m\u001b[0;34m:\u001b[0m\u001b[0;34m\u001b[0m\u001b[0;34m\u001b[0m\u001b[0m\n",
            "\u001b[0;32m/usr/local/lib/python3.7/dist-packages/pandas/core/generic.py\u001b[0m in \u001b[0;36mxs\u001b[0;34m(self, key, axis, level, drop_level)\u001b[0m\n\u001b[1;32m   3759\u001b[0m         \u001b[0;32mif\u001b[0m \u001b[0maxis\u001b[0m \u001b[0;34m==\u001b[0m \u001b[0;36m1\u001b[0m\u001b[0;34m:\u001b[0m\u001b[0;34m\u001b[0m\u001b[0;34m\u001b[0m\u001b[0m\n\u001b[1;32m   3760\u001b[0m             \u001b[0;32mif\u001b[0m \u001b[0mdrop_level\u001b[0m\u001b[0;34m:\u001b[0m\u001b[0;34m\u001b[0m\u001b[0;34m\u001b[0m\u001b[0m\n\u001b[0;32m-> 3761\u001b[0;31m                 \u001b[0;32mreturn\u001b[0m \u001b[0mself\u001b[0m\u001b[0;34m[\u001b[0m\u001b[0mkey\u001b[0m\u001b[0;34m]\u001b[0m\u001b[0;34m\u001b[0m\u001b[0;34m\u001b[0m\u001b[0m\n\u001b[0m\u001b[1;32m   3762\u001b[0m             \u001b[0mindex\u001b[0m \u001b[0;34m=\u001b[0m \u001b[0mself\u001b[0m\u001b[0;34m.\u001b[0m\u001b[0mcolumns\u001b[0m\u001b[0;34m\u001b[0m\u001b[0;34m\u001b[0m\u001b[0m\n\u001b[1;32m   3763\u001b[0m         \u001b[0;32melse\u001b[0m\u001b[0;34m:\u001b[0m\u001b[0;34m\u001b[0m\u001b[0;34m\u001b[0m\u001b[0m\n",
            "\u001b[0;32m/usr/local/lib/python3.7/dist-packages/pandas/core/frame.py\u001b[0m in \u001b[0;36m__getitem__\u001b[0;34m(self, key)\u001b[0m\n\u001b[1;32m   3456\u001b[0m             \u001b[0;32mif\u001b[0m \u001b[0mself\u001b[0m\u001b[0;34m.\u001b[0m\u001b[0mcolumns\u001b[0m\u001b[0;34m.\u001b[0m\u001b[0mnlevels\u001b[0m \u001b[0;34m>\u001b[0m \u001b[0;36m1\u001b[0m\u001b[0;34m:\u001b[0m\u001b[0;34m\u001b[0m\u001b[0;34m\u001b[0m\u001b[0m\n\u001b[1;32m   3457\u001b[0m                 \u001b[0;32mreturn\u001b[0m \u001b[0mself\u001b[0m\u001b[0;34m.\u001b[0m\u001b[0m_getitem_multilevel\u001b[0m\u001b[0;34m(\u001b[0m\u001b[0mkey\u001b[0m\u001b[0;34m)\u001b[0m\u001b[0;34m\u001b[0m\u001b[0;34m\u001b[0m\u001b[0m\n\u001b[0;32m-> 3458\u001b[0;31m             \u001b[0mindexer\u001b[0m \u001b[0;34m=\u001b[0m \u001b[0mself\u001b[0m\u001b[0;34m.\u001b[0m\u001b[0mcolumns\u001b[0m\u001b[0;34m.\u001b[0m\u001b[0mget_loc\u001b[0m\u001b[0;34m(\u001b[0m\u001b[0mkey\u001b[0m\u001b[0;34m)\u001b[0m\u001b[0;34m\u001b[0m\u001b[0;34m\u001b[0m\u001b[0m\n\u001b[0m\u001b[1;32m   3459\u001b[0m             \u001b[0;32mif\u001b[0m \u001b[0mis_integer\u001b[0m\u001b[0;34m(\u001b[0m\u001b[0mindexer\u001b[0m\u001b[0;34m)\u001b[0m\u001b[0;34m:\u001b[0m\u001b[0;34m\u001b[0m\u001b[0;34m\u001b[0m\u001b[0m\n\u001b[1;32m   3460\u001b[0m                 \u001b[0mindexer\u001b[0m \u001b[0;34m=\u001b[0m \u001b[0;34m[\u001b[0m\u001b[0mindexer\u001b[0m\u001b[0;34m]\u001b[0m\u001b[0;34m\u001b[0m\u001b[0;34m\u001b[0m\u001b[0m\n",
            "\u001b[0;32m/usr/local/lib/python3.7/dist-packages/pandas/core/indexes/base.py\u001b[0m in \u001b[0;36mget_loc\u001b[0;34m(self, key, method, tolerance)\u001b[0m\n\u001b[1;32m   3361\u001b[0m                 \u001b[0;32mreturn\u001b[0m \u001b[0mself\u001b[0m\u001b[0;34m.\u001b[0m\u001b[0m_engine\u001b[0m\u001b[0;34m.\u001b[0m\u001b[0mget_loc\u001b[0m\u001b[0;34m(\u001b[0m\u001b[0mcasted_key\u001b[0m\u001b[0;34m)\u001b[0m\u001b[0;34m\u001b[0m\u001b[0;34m\u001b[0m\u001b[0m\n\u001b[1;32m   3362\u001b[0m             \u001b[0;32mexcept\u001b[0m \u001b[0mKeyError\u001b[0m \u001b[0;32mas\u001b[0m \u001b[0merr\u001b[0m\u001b[0;34m:\u001b[0m\u001b[0;34m\u001b[0m\u001b[0;34m\u001b[0m\u001b[0m\n\u001b[0;32m-> 3363\u001b[0;31m                 \u001b[0;32mraise\u001b[0m \u001b[0mKeyError\u001b[0m\u001b[0;34m(\u001b[0m\u001b[0mkey\u001b[0m\u001b[0;34m)\u001b[0m \u001b[0;32mfrom\u001b[0m \u001b[0merr\u001b[0m\u001b[0;34m\u001b[0m\u001b[0;34m\u001b[0m\u001b[0m\n\u001b[0m\u001b[1;32m   3364\u001b[0m \u001b[0;34m\u001b[0m\u001b[0m\n\u001b[1;32m   3365\u001b[0m         \u001b[0;32mif\u001b[0m \u001b[0mis_scalar\u001b[0m\u001b[0;34m(\u001b[0m\u001b[0mkey\u001b[0m\u001b[0;34m)\u001b[0m \u001b[0;32mand\u001b[0m \u001b[0misna\u001b[0m\u001b[0;34m(\u001b[0m\u001b[0mkey\u001b[0m\u001b[0;34m)\u001b[0m \u001b[0;32mand\u001b[0m \u001b[0;32mnot\u001b[0m \u001b[0mself\u001b[0m\u001b[0;34m.\u001b[0m\u001b[0mhasnans\u001b[0m\u001b[0;34m:\u001b[0m\u001b[0;34m\u001b[0m\u001b[0;34m\u001b[0m\u001b[0m\n",
            "\u001b[0;31mKeyError\u001b[0m: 'delta_days'"
          ]
        }
      ]
    },
    {
      "cell_type": "code",
      "source": [
        "sns.boxplot(datadf['p_forgot_bin'],np.log(datadf['delta']))"
      ],
      "metadata": {
        "colab": {
          "base_uri": "https://localhost:8080/",
          "height": 353
        },
        "id": "-19lajKwBnUL",
        "outputId": "af6522a4-88e2-4aed-c2a8-da234b934335"
      },
      "execution_count": null,
      "outputs": [
        {
          "output_type": "stream",
          "name": "stderr",
          "text": [
            "/usr/local/lib/python3.7/dist-packages/seaborn/_decorators.py:43: FutureWarning: Pass the following variables as keyword args: x, y. From version 0.12, the only valid positional argument will be `data`, and passing other arguments without an explicit keyword will result in an error or misinterpretation.\n",
            "  FutureWarning\n"
          ]
        },
        {
          "output_type": "execute_result",
          "data": {
            "text/plain": [
              "<matplotlib.axes._subplots.AxesSubplot at 0x7ff252b8c810>"
            ]
          },
          "metadata": {},
          "execution_count": 101
        },
        {
          "output_type": "display_data",
          "data": {
            "text/plain": [
              "<Figure size 432x288 with 1 Axes>"
            ],
            "image/png": "[encoded data removed]"
          },
          "metadata": {
            "needs_background": "light"
          }
        }
      ]
    },
    {
      "cell_type": "code",
      "source": [
        "datadf['history_frac'] = datadf['history_correct']/datadf['history_seen']"
      ],
      "metadata": {
        "id": "QqdN0WUFCDUF"
      },
      "execution_count": null,
      "outputs": []
    },
    {
      "cell_type": "code",
      "source": [
        "sns.boxplot(datadf['p_forgot_bin'],datadf['history_frac'])"
      ],
      "metadata": {
        "colab": {
          "base_uri": "https://localhost:8080/",
          "height": 353
        },
        "id": "rf0_kHQrB7YR",
        "outputId": "57d70b91-aefa-4e60-bc14-bc4e1d60577e"
      },
      "execution_count": null,
      "outputs": [
        {
          "output_type": "stream",
          "name": "stderr",
          "text": [
            "/usr/local/lib/python3.7/dist-packages/seaborn/_decorators.py:43: FutureWarning: Pass the following variables as keyword args: x, y. From version 0.12, the only valid positional argument will be `data`, and passing other arguments without an explicit keyword will result in an error or misinterpretation.\n",
            "  FutureWarning\n"
          ]
        },
        {
          "output_type": "execute_result",
          "data": {
            "text/plain": [
              "<matplotlib.axes._subplots.AxesSubplot at 0x7ff252b7e6d0>"
            ]
          },
          "metadata": {},
          "execution_count": 103
        },
        {
          "output_type": "display_data",
          "data": {
            "text/plain": [
              "<Figure size 432x288 with 1 Axes>"
            ],
            "image/png": "[encoded data removed]"
          },
          "metadata": {
            "needs_background": "light"
          }
        }
      ]
    },
    {
      "cell_type": "code",
      "source": [
        "datadf['history_seen'].median()"
      ],
      "metadata": {
        "colab": {
          "base_uri": "https://localhost:8080/"
        },
        "id": "v6ECwDhvVHqW",
        "outputId": "294b303e-7929-48d8-b946-b3849f64a361"
      },
      "execution_count": null,
      "outputs": [
        {
          "output_type": "execute_result",
          "data": {
            "text/plain": [
              "6.0"
            ]
          },
          "metadata": {},
          "execution_count": 110
        }
      ]
    },
    {
      "cell_type": "code",
      "source": [
        "sns.boxplot(np.where(datadf['p_recall']>0.5,1,0),datadf['history_seen'])\n",
        "plt.ylim((0,50))\n",
        "plt.show()"
      ],
      "metadata": {
        "colab": {
          "base_uri": "https://localhost:8080/",
          "height": 325
        },
        "id": "Hd8FK7pKUrBF",
        "outputId": "8fbd9563-9d2a-44c7-a616-b7689245920e"
      },
      "execution_count": null,
      "outputs": [
        {
          "output_type": "stream",
          "name": "stderr",
          "text": [
            "/usr/local/lib/python3.7/dist-packages/seaborn/_decorators.py:43: FutureWarning: Pass the following variables as keyword args: x, y. From version 0.12, the only valid positional argument will be `data`, and passing other arguments without an explicit keyword will result in an error or misinterpretation.\n",
            "  FutureWarning\n"
          ]
        },
        {
          "output_type": "display_data",
          "data": {
            "text/plain": [
              "<Figure size 432x288 with 1 Axes>"
            ],
            "image/png": "[encoded data removed]"
          },
          "metadata": {
            "needs_background": "light"
          }
        }
      ]
    },
    {
      "cell_type": "code",
      "source": [
        "sns.boxplot(datadf['session_seen'],datadf['p_forgot_bin'],orient='h')"
      ],
      "metadata": {
        "colab": {
          "base_uri": "https://localhost:8080/",
          "height": 353
        },
        "id": "egavgdasCeor",
        "outputId": "eae8b6f8-fdbd-4134-9467-d2ec7f0beb78"
      },
      "execution_count": null,
      "outputs": [
        {
          "output_type": "stream",
          "name": "stderr",
          "text": [
            "/usr/local/lib/python3.7/dist-packages/seaborn/_decorators.py:43: FutureWarning: Pass the following variables as keyword args: x, y. From version 0.12, the only valid positional argument will be `data`, and passing other arguments without an explicit keyword will result in an error or misinterpretation.\n",
            "  FutureWarning\n"
          ]
        },
        {
          "output_type": "execute_result",
          "data": {
            "text/plain": [
              "<matplotlib.axes._subplots.AxesSubplot at 0x7ff260c3a590>"
            ]
          },
          "metadata": {},
          "execution_count": 87
        },
        {
          "output_type": "display_data",
          "data": {
            "text/plain": [
              "<Figure size 432x288 with 1 Axes>"
            ],
            "image/png": "[encoded data removed]"
          },
          "metadata": {
            "needs_background": "light"
          }
        }
      ]
    },
    {
      "cell_type": "code",
      "source": [
        "datadf.loc[datadf['session_seen']<3,'p_forgot_bin'].hist(alpha=0.2)\n",
        "datadf.loc[datadf['session_seen']>3,'p_forgot_bin'].hist(alpha=0.2)"
      ],
      "metadata": {
        "colab": {
          "base_uri": "https://localhost:8080/",
          "height": 294
        },
        "id": "I4Qf527KZNVf",
        "outputId": "14f6ed92-1139-4c8f-918a-5dc7668b8175"
      },
      "execution_count": null,
      "outputs": [
        {
          "output_type": "execute_result",
          "data": {
            "text/plain": [
              "<matplotlib.axes._subplots.AxesSubplot at 0x7ff252564550>"
            ]
          },
          "metadata": {},
          "execution_count": 123
        },
        {
          "output_type": "display_data",
          "data": {
            "text/plain": [
              "<Figure size 432x288 with 1 Axes>"
            ],
            "image/png": "[encoded data removed]"
          },
          "metadata": {
            "needs_background": "light"
          }
        }
      ]
    },
    {
      "cell_type": "markdown",
      "source": [
        "p_recall is being calculated by the number of questions in the session answered correctly, as is p_forgot. There are two potential issues with this:\n",
        "\n",
        "1. The first time the student encounters a question, if they answer it wrong, they get immediate feedback on the correct answer. The delta for subsequent questions then cannot accurately be considered the same as the first question. \n",
        "2. Distribution of p_recall depends on the number of questions answered. If the student answers 1 question on the word in the session, I have a lower confidence of it not being a co-incidence than if they answered more questions correctly.\n",
        " - we could consider the threshold for converting to a binary target variable to depend on the number of questions answered. \n",
        " - we could ignore the single trace records, or model them separately.\n",
        "\n",
        "The p_recall is stored as a float with 4 decimal sig figs. We probably don't need this level of differentiation, so we can change it to be correct to two decimal digits. (Possibly 1)\n"
      ],
      "metadata": {
        "id": "mGJDbz1ataqR"
      }
    },
    {
      "cell_type": "markdown",
      "source": [
        "p_recall is rounded to two digits, and a distribution is tabulated. This is quite slow. "
      ],
      "metadata": {
        "id": "BfBV3KhRvPFJ"
      }
    },
    {
      "cell_type": "code",
      "source": [
        "datadf.loc[datadf['delta']<24*60*60,:].shape[0]/datadf.shape[0]*100"
      ],
      "metadata": {
        "id": "jzoGrxkiAdCp",
        "colab": {
          "base_uri": "https://localhost:8080/"
        },
        "outputId": "7f7089e3-0501-434d-8e78-17a2029f6256"
      },
      "execution_count": null,
      "outputs": [
        {
          "output_type": "execute_result",
          "data": {
            "text/plain": [
              "52.972438791725"
            ]
          },
          "metadata": {},
          "execution_count": 113
        }
      ]
    },
    {
      "cell_type": "code",
      "source": [
        ""
      ],
      "metadata": {
        "id": "YT4Cr4UmWD1e"
      },
      "execution_count": null,
      "outputs": []
    },
    {
      "cell_type": "code",
      "source": [
        "run_slow = True\n",
        "\n",
        "if run_slow:\n",
        "  datadf['p_recall_trunc'] = np.around(datadf['p_recall'],2)\n",
        "  p_distribution = pd.DataFrame(datadf['p_recall_trunc'].value_counts(normalize=True).sort_index(ascending=False))\n",
        "  display(p_distribution.head(10))"
      ],
      "metadata": {
        "colab": {
          "base_uri": "https://localhost:8080/",
          "height": 363
        },
        "id": "XBnrjL-D73rP",
        "outputId": "45571139-6be1-4b8f-d7e0-3a5e9c454b21"
      },
      "execution_count": null,
      "outputs": [
        {
          "output_type": "display_data",
          "data": {
            "text/plain": [
              "      p_recall_trunc\n",
              "1.00        0.838864\n",
              "0.95        0.000012\n",
              "0.94        0.000080\n",
              "0.93        0.000103\n",
              "0.92        0.000174\n",
              "0.91        0.000172\n",
              "0.90        0.000318\n",
              "0.89        0.000501\n",
              "0.88        0.000874\n",
              "0.87        0.000026"
            ],
            "text/html": [
              "\n",
              "  <div id=\"df-49e7f55a-dd65-461f-ba87-89a5972926dd\">\n",
              "    <div class=\"colab-df-container\">\n",
              "      <div>\n",
              "<style scoped>\n",
              "    .dataframe tbody tr th:only-of-type {\n",
              "        vertical-align: middle;\n",
              "    }\n",
              "\n",
              "    .dataframe tbody tr th {\n",
              "        vertical-align: top;\n",
              "    }\n",
              "\n",
              "    .dataframe thead th {\n",
              "        text-align: right;\n",
              "    }\n",
              "</style>\n",
              "<table border=\"1\" class=\"dataframe\">\n",
              "  <thead>\n",
              "    <tr style=\"text-align: right;\">\n",
              "      <th></th>\n",
              "      <th>p_recall_trunc</th>\n",
              "    </tr>\n",
              "  </thead>\n",
              "  <tbody>\n",
              "    <tr>\n",
              "      <th>1.00</th>\n",
              "      <td>0.838864</td>\n",
              "    </tr>\n",
              "    <tr>\n",
              "      <th>0.95</th>\n",
              "      <td>0.000012</td>\n",
              "    </tr>\n",
              "    <tr>\n",
              "      <th>0.94</th>\n",
              "      <td>0.000080</td>\n",
              "    </tr>\n",
              "    <tr>\n",
              "      <th>0.93</th>\n",
              "      <td>0.000103</td>\n",
              "    </tr>\n",
              "    <tr>\n",
              "      <th>0.92</th>\n",
              "      <td>0.000174</td>\n",
              "    </tr>\n",
              "    <tr>\n",
              "      <th>0.91</th>\n",
              "      <td>0.000172</td>\n",
              "    </tr>\n",
              "    <tr>\n",
              "      <th>0.90</th>\n",
              "      <td>0.000318</td>\n",
              "    </tr>\n",
              "    <tr>\n",
              "      <th>0.89</th>\n",
              "      <td>0.000501</td>\n",
              "    </tr>\n",
              "    <tr>\n",
              "      <th>0.88</th>\n",
              "      <td>0.000874</td>\n",
              "    </tr>\n",
              "    <tr>\n",
              "      <th>0.87</th>\n",
              "      <td>0.000026</td>\n",
              "    </tr>\n",
              "  </tbody>\n",
              "</table>\n",
              "</div>\n",
              "      <button class=\"colab-df-convert\" onclick=\"convertToInteractive('df-49e7f55a-dd65-461f-ba87-89a5972926dd')\"\n",
              "              title=\"Convert this dataframe to an interactive table.\"\n",
              "              style=\"display:none;\">\n",
              "        \n",
              "  <svg xmlns=\"http://www.w3.org/2000/svg\" height=\"24px\"viewBox=\"0 0 24 24\"\n",
              "       width=\"24px\">\n",
              "    <path d=\"M0 0h24v24H0V0z\" fill=\"none\"/>\n",
              "    <path d=\"M18.56 5.44l.94 2.06.94-2.06 2.06-.94-2.06-.94-.94-2.06-.94 2.06-2.06.94zm-11 1L8.5 8.5l.94-2.06 2.06-.94-2.06-.94L8.5 2.5l-.94 2.06-2.06.94zm10 10l.94 2.06.94-2.06 2.06-.94-2.06-.94-.94-2.06-.94 2.06-2.06.94z\"/><path d=\"M17.41 7.96l-1.37-1.37c-.4-.4-.92-.59-1.43-.59-.52 0-1.04.2-1.43.59L10.3 9.45l-7.72 7.72c-.78.78-.78 2.05 0 2.83L4 21.41c.39.39.9.59 1.41.59.51 0 1.02-.2 1.41-.59l7.78-7.78 2.81-2.81c.8-.78.8-2.07 0-2.86zM5.41 20L4 18.59l7.72-7.72 1.47 1.35L5.41 20z\"/>\n",
              "  </svg>\n",
              "      </button>\n",
              "      \n",
              "  <style>\n",
              "    .colab-df-container {\n",
              "      display:flex;\n",
              "      flex-wrap:wrap;\n",
              "      gap: 12px;\n",
              "    }\n",
              "\n",
              "    .colab-df-convert {\n",
              "      background-color: #E8F0FE;\n",
              "      border: none;\n",
              "      border-radius: 50%;\n",
              "      cursor: pointer;\n",
              "      display: none;\n",
              "      fill: #1967D2;\n",
              "      height: 32px;\n",
              "      padding: 0 0 0 0;\n",
              "      width: 32px;\n",
              "    }\n",
              "\n",
              "    .colab-df-convert:hover {\n",
              "      background-color: #E2EBFA;\n",
              "      box-shadow: 0px 1px 2px rgba(60, 64, 67, 0.3), 0px 1px 3px 1px rgba(60, 64, 67, 0.15);\n",
              "      fill: #174EA6;\n",
              "    }\n",
              "\n",
              "    [theme=dark] .colab-df-convert {\n",
              "      background-color: #3B4455;\n",
              "      fill: #D2E3FC;\n",
              "    }\n",
              "\n",
              "    [theme=dark] .colab-df-convert:hover {\n",
              "      background-color: #434B5C;\n",
              "      box-shadow: 0px 1px 3px 1px rgba(0, 0, 0, 0.15);\n",
              "      filter: drop-shadow(0px 1px 2px rgba(0, 0, 0, 0.3));\n",
              "      fill: #FFFFFF;\n",
              "    }\n",
              "  </style>\n",
              "\n",
              "      <script>\n",
              "        const buttonEl =\n",
              "          document.querySelector('#df-49e7f55a-dd65-461f-ba87-89a5972926dd button.colab-df-convert');\n",
              "        buttonEl.style.display =\n",
              "          google.colab.kernel.accessAllowed ? 'block' : 'none';\n",
              "\n",
              "        async function convertToInteractive(key) {\n",
              "          const element = document.querySelector('#df-49e7f55a-dd65-461f-ba87-89a5972926dd');\n",
              "          const dataTable =\n",
              "            await google.colab.kernel.invokeFunction('convertToInteractive',\n",
              "                                                     [key], {});\n",
              "          if (!dataTable) return;\n",
              "\n",
              "          const docLinkHtml = 'Like what you see? Visit the ' +\n",
              "            '<a target=\"_blank\" href=https://colab.research.google.com/notebooks/data_table.ipynb>data table notebook</a>'\n",
              "            + ' to learn more about interactive tables.';\n",
              "          element.innerHTML = '';\n",
              "          dataTable['output_type'] = 'display_data';\n",
              "          await google.colab.output.renderOutput(dataTable, element);\n",
              "          const docLink = document.createElement('div');\n",
              "          docLink.innerHTML = docLinkHtml;\n",
              "          element.appendChild(docLink);\n",
              "        }\n",
              "      </script>\n",
              "    </div>\n",
              "  </div>\n",
              "  "
            ]
          },
          "metadata": {}
        }
      ]
    },
    {
      "cell_type": "markdown",
      "source": [
        "Plotted below as histogram:"
      ],
      "metadata": {
        "id": "9EmgGPbvv6dU"
      }
    },
    {
      "cell_type": "code",
      "source": [
        "datadf['p_recall_trunc'].hist(bins=20)"
      ],
      "metadata": {
        "colab": {
          "base_uri": "https://localhost:8080/",
          "height": 294
        },
        "id": "vEyrTikrwGu5",
        "outputId": "a9b39d9d-71be-47e7-e5a8-7a8d6b4d7113"
      },
      "execution_count": null,
      "outputs": [
        {
          "output_type": "execute_result",
          "data": {
            "text/plain": [
              "<matplotlib.axes._subplots.AxesSubplot at 0x7f50269e2b50>"
            ]
          },
          "metadata": {},
          "execution_count": 9
        },
        {
          "output_type": "display_data",
          "data": {
            "text/plain": [
              "<Figure size 432x288 with 1 Axes>"
            ],
            "image/png": "[encoded data removed]"
          },
          "metadata": {
            "needs_background": "light"
          }
        }
      ]
    },
    {
      "cell_type": "markdown",
      "source": [
        "There are pockets between 0.5 to 0.85, but the overwhelming majority of the records show complete recall. We can assume that if a student remembers the word, they will answer the question correctly. We also assume that if they answered correctly, it is not becuase they got lucky with their guess. So all probabilities below one can be grouped as 'forgot', and p_recall = 1 can be 'hasn't forgotten'. We will compute p_forgot_bin (binary variable) as 1, if p_recall < 1.0, and 0 in all other cases. "
      ],
      "metadata": {
        "id": "RcU-tK2rvOMR"
      }
    },
    {
      "cell_type": "code",
      "source": [
        "datadf['p_forgot_bin'] = np.where(datadf['p_forgot']==0,0,1)"
      ],
      "metadata": {
        "id": "YaRnvvRjxi-D"
      },
      "execution_count": null,
      "outputs": []
    },
    {
      "cell_type": "code",
      "source": [
        "datadf['p_forgot_bin'].value_counts(normalize=True)"
      ],
      "metadata": {
        "colab": {
          "base_uri": "https://localhost:8080/"
        },
        "id": "BF58NHycyhUW",
        "outputId": "a5005971-d225-4ec2-acd7-43b2a086ee52"
      },
      "execution_count": null,
      "outputs": [
        {
          "output_type": "execute_result",
          "data": {
            "text/plain": [
              "0    0.838864\n",
              "1    0.161136\n",
              "Name: p_forgot_bin, dtype: float64"
            ]
          },
          "metadata": {},
          "execution_count": 11
        }
      ]
    },
    {
      "cell_type": "code",
      "source": [
        "datadf['delta_days'] = datadf['delta']/60/60/24"
      ],
      "metadata": {
        "id": "FGkirixP5zmN"
      },
      "execution_count": null,
      "outputs": []
    },
    {
      "cell_type": "code",
      "source": [
        "datadf['delta_days'].head()"
      ],
      "metadata": {
        "colab": {
          "base_uri": "https://localhost:8080/"
        },
        "id": "urWn1Qps6KRD",
        "outputId": "33439cd9-bae3-4959-b00e-07233e7f0002"
      },
      "execution_count": null,
      "outputs": [
        {
          "output_type": "execute_result",
          "data": {
            "text/plain": [
              "0    320.018924\n",
              "1    320.018924\n",
              "2    320.018924\n",
              "3    320.018924\n",
              "4    320.018924\n",
              "Name: delta_days, dtype: float64"
            ]
          },
          "metadata": {},
          "execution_count": 63
        }
      ]
    },
    {
      "cell_type": "code",
      "source": [
        "datadf['delta_days'].astype(int).value_counts(normalize=True).hist(bins=20)"
      ],
      "metadata": {
        "colab": {
          "base_uri": "https://localhost:8080/",
          "height": 283
        },
        "id": "xDu45Bro58Sh",
        "outputId": "ae7b7fb9-218d-4f37-f342-eee9c7bbc6c0"
      },
      "execution_count": null,
      "outputs": [
        {
          "output_type": "execute_result",
          "data": {
            "text/plain": [
              "<matplotlib.axes._subplots.AxesSubplot at 0x7ff2615e74d0>"
            ]
          },
          "metadata": {},
          "execution_count": 65
        },
        {
          "output_type": "display_data",
          "data": {
            "text/plain": [
              "<Figure size 432x288 with 1 Axes>"
            ],
            "image/png": "[encoded data removed]"
          },
          "metadata": {
            "needs_background": "light"
          }
        }
      ]
    },
    {
      "cell_type": "code",
      "source": [
        "datadf[datadf['delta_days'].astype(int)<1].shape[0]/datadf.shape[0]*100"
      ],
      "metadata": {
        "colab": {
          "base_uri": "https://localhost:8080/"
        },
        "id": "X-HNI4fi6hX2",
        "outputId": "69dc62b1-7853-45e0-e161-7e233855ea86"
      },
      "execution_count": null,
      "outputs": [
        {
          "output_type": "execute_result",
          "data": {
            "text/plain": [
              "52.972438791725"
            ]
          },
          "metadata": {},
          "execution_count": 69
        }
      ]
    },
    {
      "cell_type": "markdown",
      "source": [
        "53% of the rows involve deltas from learning sessions less than 24 hours apart.\n",
        "\n",
        "\n",
        "- we should look into whether the ones and zeros are mainly from single question sessions, and make a call on whether to use them for our predictions. If we use them, is it possible to evaluate models on their predictions on many-question sessions separately from single question sessions?"
      ],
      "metadata": {
        "id": "MNjsSjhi65Eu"
      }
    },
    {
      "cell_type": "code",
      "source": [
        "datadf[datadf['session_seen']==1].shape[0]/datadf.shape[0]*100"
      ],
      "metadata": {
        "colab": {
          "base_uri": "https://localhost:8080/"
        },
        "id": "r_YvPBj47ML9",
        "outputId": "8f9a8737-dde3-4c50-fb3a-e62cab295546"
      },
      "execution_count": null,
      "outputs": [
        {
          "output_type": "execute_result",
          "data": {
            "text/plain": [
              "58.93713864996617"
            ]
          },
          "metadata": {},
          "execution_count": 70
        }
      ]
    },
    {
      "cell_type": "markdown",
      "source": [
        "59% of the records involve encountering a word only once in a session. "
      ],
      "metadata": {
        "id": "6mBH7L--96B7"
      }
    },
    {
      "cell_type": "markdown",
      "source": [
        "Imbalanced dataset. will need to look into changing the weight of the classes, or up/down sampling. "
      ],
      "metadata": {
        "id": "JNipsidaxYji"
      }
    },
    {
      "cell_type": "markdown",
      "source": [
        "This is a highly imbalanced dataset. \n",
        "\n",
        "\n",
        "Let's get the number of student-word pairs that only show up once in the whole dataset.\n",
        "\n",
        "The series tracelen stores the number of records linked to a unique student-word pairing. The number of student-word pairs with only one record is computed. "
      ],
      "metadata": {
        "id": "28XMXyk49vjC"
      }
    },
    {
      "cell_type": "code",
      "source": [
        "tracelen = datadf.groupby(['user_id','lexeme_id'])['p_forgot_bin'].count()"
      ],
      "metadata": {
        "id": "Tjx6m0YYBHpj"
      },
      "execution_count": null,
      "outputs": []
    },
    {
      "cell_type": "code",
      "source": [
        "tracelen[tracelen==1].shape[0]/tracelen.shape[0]*100"
      ],
      "metadata": {
        "colab": {
          "base_uri": "https://localhost:8080/"
        },
        "id": "SUuapy_gCvdi",
        "outputId": "db4fb002-f727-49bb-f8db-67b6bb913caa"
      },
      "execution_count": null,
      "outputs": [
        {
          "output_type": "execute_result",
          "data": {
            "text/plain": [
              "56.14807760777764"
            ]
          },
          "metadata": {},
          "execution_count": 73
        }
      ]
    },
    {
      "cell_type": "code",
      "source": [
        "tracelen[tracelen==1].shape[0]/datadf.shape[0]*100"
      ],
      "metadata": {
        "colab": {
          "base_uri": "https://localhost:8080/"
        },
        "id": "pStGS8pvDCcD",
        "outputId": "1d87d3c5-b838-4f59-ccd8-392451b13182"
      },
      "execution_count": null,
      "outputs": [
        {
          "output_type": "execute_result",
          "data": {
            "text/plain": [
              "25.603968687029464"
            ]
          },
          "metadata": {},
          "execution_count": 14
        }
      ]
    },
    {
      "cell_type": "markdown",
      "source": [
        "Student word pairings with only one record in the 2 week dataset are 25% of the dataset. The distribution of # of records per student-word pair is below:"
      ],
      "metadata": {
        "id": "D7l-78AYDHHM"
      }
    },
    {
      "cell_type": "code",
      "source": [
        "plt.figure()\n",
        "tracelen.hist(bins=20)\n",
        "plt.xlabel(\"Number of records for a student-word pairing\")\n",
        "plt.ylabel(\"Frequency counts\")\n",
        "plt.title(\"Histogram of number of records for a student-word pairing\")\n",
        "plt.show()"
      ],
      "metadata": {
        "colab": {
          "base_uri": "https://localhost:8080/",
          "height": 295
        },
        "id": "-lNXA1zsDPsL",
        "outputId": "c90ef1bf-770c-4a3c-b878-e99b657e63d0"
      },
      "execution_count": null,
      "outputs": [
        {
          "output_type": "display_data",
          "data": {
            "text/plain": [
              "<Figure size 432x288 with 1 Axes>"
            ],
            "image/png": "[encoded data removed]"
          },
          "metadata": {
            "needs_background": "light"
          }
        }
      ]
    },
    {
      "cell_type": "markdown",
      "source": [
        "Replotting on a log scale. "
      ],
      "metadata": {
        "id": "jpPZMv4YD8eR"
      }
    },
    {
      "cell_type": "code",
      "source": [
        "plt.figure()\n",
        "tracelen.hist(log=True,bins=200)\n",
        "plt.xlabel(\"Number of records for a student-word pairing\")\n",
        "plt.ylabel(\"Frequency counts (log scale)\")\n",
        "plt.title(\"Histogram of number of records for a student-word pairing\")\n",
        "plt.show()"
      ],
      "metadata": {
        "colab": {
          "base_uri": "https://localhost:8080/",
          "height": 295
        },
        "id": "JUwimRd7D-k1",
        "outputId": "cdefb1e9-798c-48ee-c71b-9911c5972d57"
      },
      "execution_count": null,
      "outputs": [
        {
          "output_type": "display_data",
          "data": {
            "text/plain": [
              "<Figure size 432x288 with 1 Axes>"
            ],
            "image/png": "[encoded data removed]"
          },
          "metadata": {
            "needs_background": "light"
          }
        }
      ]
    },
    {
      "cell_type": "markdown",
      "source": [
        "Although the majority of the student-word pairs have only one record or few records, there are a sizable # with more than 50 records in the two week span."
      ],
      "metadata": {
        "id": "zIyAQPJ-FA3z"
      }
    },
    {
      "cell_type": "code",
      "source": [
        ""
      ],
      "metadata": {
        "id": "2c9fpM6BRZU_"
      },
      "execution_count": null,
      "outputs": []
    },
    {
      "cell_type": "markdown",
      "source": [
        "Can we cluster students based on profile? Can we use these clusters for predicting if they have forgotten a word or not?\n",
        "\n",
        "1. Number of records.\n",
        "2. number of languages learning actively\n",
        "3. native language\n",
        "4. learning language\n",
        "5. average delta\n",
        "8. std deviation of delta\n",
        "9. average p_forgot_bin\n",
        "10. average p_forgot\n",
        "11. delta after lowest performance session?\n",
        "12. delta of lowest performance session?\n",
        "13. delta after highest performance session?\n",
        "14. delta of highest performance session?\n",
        "15. average # of sessions logged in per week\n",
        "16. average words per session. \n",
        "17. average length of session\n",
        "\n",
        "We can try to find learning sessions by clustering by timestamp using DBSCAN. \n",
        "\n",
        "splitting will have to take into account time series considerations - so if we are trying to predict, we should split by time, and also \n"
      ],
      "metadata": {
        "id": "a_BJjl6EF8kr"
      }
    },
    {
      "cell_type": "code",
      "source": [
        "datadf['p_recall'] = np.where(datadf['p_recall']==0,0.0001,datadf['p_recall']/(1.0001)) # modified to prevent log 0 errors in math below"
      ],
      "metadata": {
        "id": "96Y3_4QtY07a"
      },
      "execution_count": null,
      "outputs": []
    },
    {
      "cell_type": "code",
      "source": [
        "import math\n",
        "import numpy as np\n",
        "\n",
        "datadf['logp_recall'] = np.log2(datadf['p_recall'])\n"
      ],
      "metadata": {
        "id": "iMpEagahESpz"
      },
      "execution_count": null,
      "outputs": []
    },
    {
      "cell_type": "code",
      "source": [
        "import matplotlib.pyplot as plt\n",
        "plt.figure()\n",
        "plt.plot(-datadf['delta'],datadf['logp_recall'],'.',alpha=0.2)\n",
        "plt.xlabel(\"- delta\")\n",
        "plt.ylabel(\"log2 (p_recall)\")\n",
        "\n",
        "plt.show()"
      ],
      "metadata": {
        "colab": {
          "base_uri": "https://localhost:8080/",
          "height": 279
        },
        "id": "mQQVc9uBEjWJ",
        "outputId": "c1717e16-7f36-4228-cdf0-842cc246de1d"
      },
      "execution_count": null,
      "outputs": [
        {
          "output_type": "display_data",
          "data": {
            "text/plain": [
              "<Figure size 432x288 with 1 Axes>"
            ],
            "image/png": "[encoded data removed]"
          },
          "metadata": {
            "needs_background": "light"
          }
        }
      ]
    },
    {
      "cell_type": "markdown",
      "source": [
        "1/h would be the slope if h was constant. but it is not. so it is not linear. there are many h."
      ],
      "metadata": {
        "id": "uCsApg-hFn4u"
      }
    },
    {
      "cell_type": "code",
      "source": [
        ""
      ],
      "metadata": {
        "id": "DTJCc9DcMU1S"
      },
      "execution_count": null,
      "outputs": []
    },
    {
      "cell_type": "code",
      "source": [
        "# plotting the calculated h(t) from the experimental p_recall(t) vs # of exposures and deltas\n",
        "import math\n",
        "import numpy as np\n",
        "#datadf['logp_recall_2'] = datadf['p_recall'].apply(lambda x: math.log(x,2))\n",
        "#datadf['calc_h'] = - datadf['delta']/datadf['logp_recall_2']\n",
        "trace = datadf.loc[(datadf['user_id']=='u:bcH_')&\\\n",
        "           (datadf['lexeme_string']=='my/my<det><pos><sp>'),:].\\\n",
        "           sort_values(by='Datetime',ascending=True)\n",
        "trace.head()\n",
        "# also getting an idea of the sensitivity of p to h."
      ],
      "metadata": {
        "colab": {
          "base_uri": "https://localhost:8080/",
          "height": 405
        },
        "id": "NbS-xE0UX1bC",
        "outputId": "50581ac6-3431-43f2-c127-0541c55a9997"
      },
      "execution_count": null,
      "outputs": [
        {
          "output_type": "error",
          "ename": "KeyError",
          "evalue": "ignored",
          "traceback": [
            "\u001b[0;31m---------------------------------------------------------------------------\u001b[0m",
            "\u001b[0;31mKeyError\u001b[0m                                  Traceback (most recent call last)",
            "\u001b[0;32m<ipython-input-43-1634ebb3ae72>\u001b[0m in \u001b[0;36m<module>\u001b[0;34m()\u001b[0m\n\u001b[1;32m      4\u001b[0m \u001b[0;31m#datadf['logp_recall_2'] = datadf['p_recall'].apply(lambda x: math.log(x,2))\u001b[0m\u001b[0;34m\u001b[0m\u001b[0;34m\u001b[0m\u001b[0;34m\u001b[0m\u001b[0m\n\u001b[1;32m      5\u001b[0m \u001b[0;31m#datadf['calc_h'] = - datadf['delta']/datadf['logp_recall_2']\u001b[0m\u001b[0;34m\u001b[0m\u001b[0;34m\u001b[0m\u001b[0;34m\u001b[0m\u001b[0m\n\u001b[0;32m----> 6\u001b[0;31m \u001b[0mtrace\u001b[0m \u001b[0;34m=\u001b[0m \u001b[0mdatadf\u001b[0m\u001b[0;34m.\u001b[0m\u001b[0mloc\u001b[0m\u001b[0;34m[\u001b[0m\u001b[0;34m(\u001b[0m\u001b[0mdatadf\u001b[0m\u001b[0;34m[\u001b[0m\u001b[0;34m'user_id'\u001b[0m\u001b[0;34m]\u001b[0m\u001b[0;34m==\u001b[0m\u001b[0;34m'u:bcH_'\u001b[0m\u001b[0;34m)\u001b[0m\u001b[0;34m&\u001b[0m           \u001b[0;34m(\u001b[0m\u001b[0mdatadf\u001b[0m\u001b[0;34m[\u001b[0m\u001b[0;34m'lexeme_string'\u001b[0m\u001b[0;34m]\u001b[0m\u001b[0;34m==\u001b[0m\u001b[0;34m'my/my<det><pos><sp>'\u001b[0m\u001b[0;34m)\u001b[0m\u001b[0;34m,\u001b[0m\u001b[0;34m:\u001b[0m\u001b[0;34m]\u001b[0m\u001b[0;34m.\u001b[0m           \u001b[0msort_values\u001b[0m\u001b[0;34m(\u001b[0m\u001b[0mby\u001b[0m\u001b[0;34m=\u001b[0m\u001b[0;34m'Datetime'\u001b[0m\u001b[0;34m,\u001b[0m\u001b[0mascending\u001b[0m\u001b[0;34m=\u001b[0m\u001b[0;32mTrue\u001b[0m\u001b[0;34m)\u001b[0m\u001b[0;34m\u001b[0m\u001b[0;34m\u001b[0m\u001b[0m\n\u001b[0m\u001b[1;32m      7\u001b[0m \u001b[0mtrace\u001b[0m\u001b[0;34m.\u001b[0m\u001b[0mhead\u001b[0m\u001b[0;34m(\u001b[0m\u001b[0;34m)\u001b[0m\u001b[0;34m\u001b[0m\u001b[0;34m\u001b[0m\u001b[0m\n\u001b[1;32m      8\u001b[0m \u001b[0;31m# also getting an idea of the sensitivity of p to h.\u001b[0m\u001b[0;34m\u001b[0m\u001b[0;34m\u001b[0m\u001b[0;34m\u001b[0m\u001b[0m\n",
            "\u001b[0;32m/usr/local/lib/python3.7/dist-packages/pandas/util/_decorators.py\u001b[0m in \u001b[0;36mwrapper\u001b[0;34m(*args, **kwargs)\u001b[0m\n\u001b[1;32m    309\u001b[0m                     \u001b[0mstacklevel\u001b[0m\u001b[0;34m=\u001b[0m\u001b[0mstacklevel\u001b[0m\u001b[0;34m,\u001b[0m\u001b[0;34m\u001b[0m\u001b[0;34m\u001b[0m\u001b[0m\n\u001b[1;32m    310\u001b[0m                 )\n\u001b[0;32m--> 311\u001b[0;31m             \u001b[0;32mreturn\u001b[0m \u001b[0mfunc\u001b[0m\u001b[0;34m(\u001b[0m\u001b[0;34m*\u001b[0m\u001b[0margs\u001b[0m\u001b[0;34m,\u001b[0m \u001b[0;34m**\u001b[0m\u001b[0mkwargs\u001b[0m\u001b[0;34m)\u001b[0m\u001b[0;34m\u001b[0m\u001b[0;34m\u001b[0m\u001b[0m\n\u001b[0m\u001b[1;32m    312\u001b[0m \u001b[0;34m\u001b[0m\u001b[0m\n\u001b[1;32m    313\u001b[0m         \u001b[0;32mreturn\u001b[0m \u001b[0mwrapper\u001b[0m\u001b[0;34m\u001b[0m\u001b[0;34m\u001b[0m\u001b[0m\n",
            "\u001b[0;32m/usr/local/lib/python3.7/dist-packages/pandas/core/frame.py\u001b[0m in \u001b[0;36msort_values\u001b[0;34m(self, by, axis, ascending, inplace, kind, na_position, ignore_index, key)\u001b[0m\n\u001b[1;32m   6257\u001b[0m \u001b[0;34m\u001b[0m\u001b[0m\n\u001b[1;32m   6258\u001b[0m             \u001b[0mby\u001b[0m \u001b[0;34m=\u001b[0m \u001b[0mby\u001b[0m\u001b[0;34m[\u001b[0m\u001b[0;36m0\u001b[0m\u001b[0;34m]\u001b[0m\u001b[0;34m\u001b[0m\u001b[0;34m\u001b[0m\u001b[0m\n\u001b[0;32m-> 6259\u001b[0;31m             \u001b[0mk\u001b[0m \u001b[0;34m=\u001b[0m \u001b[0mself\u001b[0m\u001b[0;34m.\u001b[0m\u001b[0m_get_label_or_level_values\u001b[0m\u001b[0;34m(\u001b[0m\u001b[0mby\u001b[0m\u001b[0;34m,\u001b[0m \u001b[0maxis\u001b[0m\u001b[0;34m=\u001b[0m\u001b[0maxis\u001b[0m\u001b[0;34m)\u001b[0m\u001b[0;34m\u001b[0m\u001b[0;34m\u001b[0m\u001b[0m\n\u001b[0m\u001b[1;32m   6260\u001b[0m \u001b[0;34m\u001b[0m\u001b[0m\n\u001b[1;32m   6261\u001b[0m             \u001b[0;31m# need to rewrap column in Series to apply key function\u001b[0m\u001b[0;34m\u001b[0m\u001b[0;34m\u001b[0m\u001b[0;34m\u001b[0m\u001b[0m\n",
            "\u001b[0;32m/usr/local/lib/python3.7/dist-packages/pandas/core/generic.py\u001b[0m in \u001b[0;36m_get_label_or_level_values\u001b[0;34m(self, key, axis)\u001b[0m\n\u001b[1;32m   1777\u001b[0m             \u001b[0mvalues\u001b[0m \u001b[0;34m=\u001b[0m \u001b[0mself\u001b[0m\u001b[0;34m.\u001b[0m\u001b[0maxes\u001b[0m\u001b[0;34m[\u001b[0m\u001b[0maxis\u001b[0m\u001b[0;34m]\u001b[0m\u001b[0;34m.\u001b[0m\u001b[0mget_level_values\u001b[0m\u001b[0;34m(\u001b[0m\u001b[0mkey\u001b[0m\u001b[0;34m)\u001b[0m\u001b[0;34m.\u001b[0m\u001b[0m_values\u001b[0m\u001b[0;34m\u001b[0m\u001b[0;34m\u001b[0m\u001b[0m\n\u001b[1;32m   1778\u001b[0m         \u001b[0;32melse\u001b[0m\u001b[0;34m:\u001b[0m\u001b[0;34m\u001b[0m\u001b[0;34m\u001b[0m\u001b[0m\n\u001b[0;32m-> 1779\u001b[0;31m             \u001b[0;32mraise\u001b[0m \u001b[0mKeyError\u001b[0m\u001b[0;34m(\u001b[0m\u001b[0mkey\u001b[0m\u001b[0;34m)\u001b[0m\u001b[0;34m\u001b[0m\u001b[0;34m\u001b[0m\u001b[0m\n\u001b[0m\u001b[1;32m   1780\u001b[0m \u001b[0;34m\u001b[0m\u001b[0m\n\u001b[1;32m   1781\u001b[0m         \u001b[0;31m# Check for duplicates\u001b[0m\u001b[0;34m\u001b[0m\u001b[0;34m\u001b[0m\u001b[0;34m\u001b[0m\u001b[0m\n",
            "\u001b[0;31mKeyError\u001b[0m: 'Datetime'"
          ]
        }
      ]
    },
    {
      "cell_type": "markdown",
      "source": [
        "Get the dimensions of the dataset"
      ],
      "metadata": {
        "id": "Of53G2XiIvv_"
      }
    },
    {
      "cell_type": "code",
      "source": [
        "datadf.shape"
      ],
      "metadata": {
        "colab": {
          "base_uri": "https://localhost:8080/"
        },
        "id": "WYWlmX-xIvUT",
        "outputId": "b660f9b9-f502-4c16-bf70-3e12f610f8bb"
      },
      "execution_count": null,
      "outputs": [
        {
          "output_type": "execute_result",
          "data": {
            "text/plain": [
              "(12854226, 14)"
            ]
          },
          "metadata": {},
          "execution_count": 25
        }
      ]
    },
    {
      "cell_type": "markdown",
      "source": [
        "Check for duplicates"
      ],
      "metadata": {
        "id": "AK6TTs3lIrAK"
      }
    },
    {
      "cell_type": "code",
      "source": [
        "# check for dupliacates?\n",
        "datadf.duplicated().sum()"
      ],
      "metadata": {
        "colab": {
          "base_uri": "https://localhost:8080/"
        },
        "id": "CZkR2USwyC_H",
        "outputId": "d3aaa862-f2a4-416e-f216-1e35ab6412ad"
      },
      "execution_count": null,
      "outputs": [
        {
          "output_type": "execute_result",
          "data": {
            "text/plain": [
              "81"
            ]
          },
          "metadata": {},
          "execution_count": 26
        }
      ]
    },
    {
      "cell_type": "code",
      "source": [
        "datadf[datadf.duplicated()]"
      ],
      "metadata": {
        "colab": {
          "base_uri": "https://localhost:8080/",
          "height": 540
        },
        "id": "Q7na0BeYlpiS",
        "outputId": "a22708c5-23ae-439c-c3c4-ea17c7b39941"
      },
      "execution_count": null,
      "outputs": [
        {
          "output_type": "execute_result",
          "data": {
            "text/plain": [
              "         p_recall   timestamp    delta user_id learning_language ui_language  \\\n",
              "3067848  0.749775  1362334650  6037137  u:fyCE                es          en   \n",
              "3067849  0.799760  1362334650  6037137  u:fyCE                es          en   \n",
              "3402349  0.499850  1362353111   426085   u:zD_                fr          en   \n",
              "3402354  0.000100  1362353111  3906547   u:zD_                fr          en   \n",
              "3402355  0.999700  1362353111   435992   u:zD_                fr          en   \n",
              "...           ...         ...      ...     ...               ...         ...   \n",
              "7702861  0.999700  1362683117       82  u:i5X3                en          es   \n",
              "7722347  0.999700  1362684186   331356  u:gMHD                en          es   \n",
              "7722348  0.000100  1362684186   330165  u:gMHD                en          es   \n",
              "7722349  0.000100  1362684186    77803  u:gMHD                en          es   \n",
              "7722350  0.000100  1362684186   696547  u:gMHD                en          es   \n",
              "\n",
              "                                lexeme_id  \\\n",
              "3067848  86584daef5933b284384453795bbf0ed   \n",
              "3067849  605a1c36da2cf22706eaad95b0b7eeee   \n",
              "3402349  c5059c4d9d73f25a415904bade8a1337   \n",
              "3402354  22ba409694ae64f3768d993f4b81708f   \n",
              "3402355  c4d97966fdca70e0964004f50ff50d66   \n",
              "...                                   ...   \n",
              "7702861  c52ab45d4e22ee7580041911159e3c0c   \n",
              "7722347  1849080c74cfc80bb39a5a493e85efe8   \n",
              "7722348  019e69c0c7349a49fff531b7c5fc263c   \n",
              "7722349  e09b138d58a98c83f120ffbc898ce818   \n",
              "7722350  563cc940cf4f3edeecc73ee5e6ab45d1   \n",
              "\n",
              "                                        lexeme_string  history_seen  \\\n",
              "3067848                       hombre/hombre<n><m><sg>             4   \n",
              "3067849                           niño/niño<n><m><sg>             3   \n",
              "3402349  posé/poser<vblex><pp><m><sg><@compound_past>            25   \n",
              "3402354            parliez/parler<vblex><pii><p2><pl>             1   \n",
              "3402355                  entièrement/entièrement<adv>            20   \n",
              "...                                               ...           ...   \n",
              "7702861                            water/water<n><sg>             5   \n",
              "7722347                           see/see<vblex><inf>            17   \n",
              "7722348    have/have<vbhaver><pres><@present_perfect>            73   \n",
              "7722349                                     at/at<pr>            61   \n",
              "7722350                        tuesday/tuesday<n><sg>            12   \n",
              "\n",
              "         history_correct  session_seen  session_correct  logp_recall_2  \\\n",
              "3067848                3             4                3      -0.415470   \n",
              "3067849                3             5                4      -0.322361   \n",
              "3402349               12             2                1      -1.000433   \n",
              "3402354                1             1                0     -13.287857   \n",
              "3402355               11             1                1      -0.000433   \n",
              "...                  ...           ...              ...            ...   \n",
              "7702861                4             1                1      -0.000433   \n",
              "7722347               15             1                1      -0.000433   \n",
              "7722348               66             1                0     -13.287857   \n",
              "7722349               54             1                0     -13.287857   \n",
              "7722350                9             1                0     -13.287857   \n",
              "\n",
              "               calc_h  \n",
              "3067848  1.453085e+07  \n",
              "3067849  1.872788e+07  \n",
              "3402349  4.259007e+05  \n",
              "3402354  2.939938e+05  \n",
              "3402355  1.007372e+09  \n",
              "...               ...  \n",
              "7702861  1.894634e+05  \n",
              "7722347  7.656077e+08  \n",
              "7722348  2.484712e+04  \n",
              "7722349  5.855196e+03  \n",
              "7722350  5.241982e+04  \n",
              "\n",
              "[81 rows x 14 columns]"
            ],
            "text/html": [
              "\n",
              "  <div id=\"df-57da7b21-fff8-4975-8a52-b527666fdd3f\">\n",
              "    <div class=\"colab-df-container\">\n",
              "      <div>\n",
              "<style scoped>\n",
              "    .dataframe tbody tr th:only-of-type {\n",
              "        vertical-align: middle;\n",
              "    }\n",
              "\n",
              "    .dataframe tbody tr th {\n",
              "        vertical-align: top;\n",
              "    }\n",
              "\n",
              "    .dataframe thead th {\n",
              "        text-align: right;\n",
              "    }\n",
              "</style>\n",
              "<table border=\"1\" class=\"dataframe\">\n",
              "  <thead>\n",
              "    <tr style=\"text-align: right;\">\n",
              "      <th></th>\n",
              "      <th>p_recall</th>\n",
              "      <th>timestamp</th>\n",
              "      <th>delta</th>\n",
              "      <th>user_id</th>\n",
              "      <th>learning_language</th>\n",
              "      <th>ui_language</th>\n",
              "      <th>lexeme_id</th>\n",
              "      <th>lexeme_string</th>\n",
              "      <th>history_seen</th>\n",
              "      <th>history_correct</th>\n",
              "      <th>session_seen</th>\n",
              "      <th>session_correct</th>\n",
              "      <th>logp_recall_2</th>\n",
              "      <th>calc_h</th>\n",
              "    </tr>\n",
              "  </thead>\n",
              "  <tbody>\n",
              "    <tr>\n",
              "      <th>3067848</th>\n",
              "      <td>0.749775</td>\n",
              "      <td>1362334650</td>\n",
              "      <td>6037137</td>\n",
              "      <td>u:fyCE</td>\n",
              "      <td>es</td>\n",
              "      <td>en</td>\n",
              "      <td>86584daef5933b284384453795bbf0ed</td>\n",
              "      <td>hombre/hombre&lt;n&gt;&lt;m&gt;&lt;sg&gt;</td>\n",
              "      <td>4</td>\n",
              "      <td>3</td>\n",
              "      <td>4</td>\n",
              "      <td>3</td>\n",
              "      <td>-0.415470</td>\n",
              "      <td>1.453085e+07</td>\n",
              "    </tr>\n",
              "    <tr>\n",
              "      <th>3067849</th>\n",
              "      <td>0.799760</td>\n",
              "      <td>1362334650</td>\n",
              "      <td>6037137</td>\n",
              "      <td>u:fyCE</td>\n",
              "      <td>es</td>\n",
              "      <td>en</td>\n",
              "      <td>605a1c36da2cf22706eaad95b0b7eeee</td>\n",
              "      <td>niño/niño&lt;n&gt;&lt;m&gt;&lt;sg&gt;</td>\n",
              "      <td>3</td>\n",
              "      <td>3</td>\n",
              "      <td>5</td>\n",
              "      <td>4</td>\n",
              "      <td>-0.322361</td>\n",
              "      <td>1.872788e+07</td>\n",
              "    </tr>\n",
              "    <tr>\n",
              "      <th>3402349</th>\n",
              "      <td>0.499850</td>\n",
              "      <td>1362353111</td>\n",
              "      <td>426085</td>\n",
              "      <td>u:zD_</td>\n",
              "      <td>fr</td>\n",
              "      <td>en</td>\n",
              "      <td>c5059c4d9d73f25a415904bade8a1337</td>\n",
              "      <td>posé/poser&lt;vblex&gt;&lt;pp&gt;&lt;m&gt;&lt;sg&gt;&lt;@compound_past&gt;</td>\n",
              "      <td>25</td>\n",
              "      <td>12</td>\n",
              "      <td>2</td>\n",
              "      <td>1</td>\n",
              "      <td>-1.000433</td>\n",
              "      <td>4.259007e+05</td>\n",
              "    </tr>\n",
              "    <tr>\n",
              "      <th>3402354</th>\n",
              "      <td>0.000100</td>\n",
              "      <td>1362353111</td>\n",
              "      <td>3906547</td>\n",
              "      <td>u:zD_</td>\n",
              "      <td>fr</td>\n",
              "      <td>en</td>\n",
              "      <td>22ba409694ae64f3768d993f4b81708f</td>\n",
              "      <td>parliez/parler&lt;vblex&gt;&lt;pii&gt;&lt;p2&gt;&lt;pl&gt;</td>\n",
              "      <td>1</td>\n",
              "      <td>1</td>\n",
              "      <td>1</td>\n",
              "      <td>0</td>\n",
              "      <td>-13.287857</td>\n",
              "      <td>2.939938e+05</td>\n",
              "    </tr>\n",
              "    <tr>\n",
              "      <th>3402355</th>\n",
              "      <td>0.999700</td>\n",
              "      <td>1362353111</td>\n",
              "      <td>435992</td>\n",
              "      <td>u:zD_</td>\n",
              "      <td>fr</td>\n",
              "      <td>en</td>\n",
              "      <td>c4d97966fdca70e0964004f50ff50d66</td>\n",
              "      <td>entièrement/entièrement&lt;adv&gt;</td>\n",
              "      <td>20</td>\n",
              "      <td>11</td>\n",
              "      <td>1</td>\n",
              "      <td>1</td>\n",
              "      <td>-0.000433</td>\n",
              "      <td>1.007372e+09</td>\n",
              "    </tr>\n",
              "    <tr>\n",
              "      <th>...</th>\n",
              "      <td>...</td>\n",
              "      <td>...</td>\n",
              "      <td>...</td>\n",
              "      <td>...</td>\n",
              "      <td>...</td>\n",
              "      <td>...</td>\n",
              "      <td>...</td>\n",
              "      <td>...</td>\n",
              "      <td>...</td>\n",
              "      <td>...</td>\n",
              "      <td>...</td>\n",
              "      <td>...</td>\n",
              "      <td>...</td>\n",
              "      <td>...</td>\n",
              "    </tr>\n",
              "    <tr>\n",
              "      <th>7702861</th>\n",
              "      <td>0.999700</td>\n",
              "      <td>1362683117</td>\n",
              "      <td>82</td>\n",
              "      <td>u:i5X3</td>\n",
              "      <td>en</td>\n",
              "      <td>es</td>\n",
              "      <td>c52ab45d4e22ee7580041911159e3c0c</td>\n",
              "      <td>water/water&lt;n&gt;&lt;sg&gt;</td>\n",
              "      <td>5</td>\n",
              "      <td>4</td>\n",
              "      <td>1</td>\n",
              "      <td>1</td>\n",
              "      <td>-0.000433</td>\n",
              "      <td>1.894634e+05</td>\n",
              "    </tr>\n",
              "    <tr>\n",
              "      <th>7722347</th>\n",
              "      <td>0.999700</td>\n",
              "      <td>1362684186</td>\n",
              "      <td>331356</td>\n",
              "      <td>u:gMHD</td>\n",
              "      <td>en</td>\n",
              "      <td>es</td>\n",
              "      <td>1849080c74cfc80bb39a5a493e85efe8</td>\n",
              "      <td>see/see&lt;vblex&gt;&lt;inf&gt;</td>\n",
              "      <td>17</td>\n",
              "      <td>15</td>\n",
              "      <td>1</td>\n",
              "      <td>1</td>\n",
              "      <td>-0.000433</td>\n",
              "      <td>7.656077e+08</td>\n",
              "    </tr>\n",
              "    <tr>\n",
              "      <th>7722348</th>\n",
              "      <td>0.000100</td>\n",
              "      <td>1362684186</td>\n",
              "      <td>330165</td>\n",
              "      <td>u:gMHD</td>\n",
              "      <td>en</td>\n",
              "      <td>es</td>\n",
              "      <td>019e69c0c7349a49fff531b7c5fc263c</td>\n",
              "      <td>have/have&lt;vbhaver&gt;&lt;pres&gt;&lt;@present_perfect&gt;</td>\n",
              "      <td>73</td>\n",
              "      <td>66</td>\n",
              "      <td>1</td>\n",
              "      <td>0</td>\n",
              "      <td>-13.287857</td>\n",
              "      <td>2.484712e+04</td>\n",
              "    </tr>\n",
              "    <tr>\n",
              "      <th>7722349</th>\n",
              "      <td>0.000100</td>\n",
              "      <td>1362684186</td>\n",
              "      <td>77803</td>\n",
              "      <td>u:gMHD</td>\n",
              "      <td>en</td>\n",
              "      <td>es</td>\n",
              "      <td>e09b138d58a98c83f120ffbc898ce818</td>\n",
              "      <td>at/at&lt;pr&gt;</td>\n",
              "      <td>61</td>\n",
              "      <td>54</td>\n",
              "      <td>1</td>\n",
              "      <td>0</td>\n",
              "      <td>-13.287857</td>\n",
              "      <td>5.855196e+03</td>\n",
              "    </tr>\n",
              "    <tr>\n",
              "      <th>7722350</th>\n",
              "      <td>0.000100</td>\n",
              "      <td>1362684186</td>\n",
              "      <td>696547</td>\n",
              "      <td>u:gMHD</td>\n",
              "      <td>en</td>\n",
              "      <td>es</td>\n",
              "      <td>563cc940cf4f3edeecc73ee5e6ab45d1</td>\n",
              "      <td>tuesday/tuesday&lt;n&gt;&lt;sg&gt;</td>\n",
              "      <td>12</td>\n",
              "      <td>9</td>\n",
              "      <td>1</td>\n",
              "      <td>0</td>\n",
              "      <td>-13.287857</td>\n",
              "      <td>5.241982e+04</td>\n",
              "    </tr>\n",
              "  </tbody>\n",
              "</table>\n",
              "<p>81 rows × 14 columns</p>\n",
              "</div>\n",
              "      <button class=\"colab-df-convert\" onclick=\"convertToInteractive('df-57da7b21-fff8-4975-8a52-b527666fdd3f')\"\n",
              "              title=\"Convert this dataframe to an interactive table.\"\n",
              "              style=\"display:none;\">\n",
              "        \n",
              "  <svg xmlns=\"http://www.w3.org/2000/svg\" height=\"24px\"viewBox=\"0 0 24 24\"\n",
              "       width=\"24px\">\n",
              "    <path d=\"M0 0h24v24H0V0z\" fill=\"none\"/>\n",
              "    <path d=\"M18.56 5.44l.94 2.06.94-2.06 2.06-.94-2.06-.94-.94-2.06-.94 2.06-2.06.94zm-11 1L8.5 8.5l.94-2.06 2.06-.94-2.06-.94L8.5 2.5l-.94 2.06-2.06.94zm10 10l.94 2.06.94-2.06 2.06-.94-2.06-.94-.94-2.06-.94 2.06-2.06.94z\"/><path d=\"M17.41 7.96l-1.37-1.37c-.4-.4-.92-.59-1.43-.59-.52 0-1.04.2-1.43.59L10.3 9.45l-7.72 7.72c-.78.78-.78 2.05 0 2.83L4 21.41c.39.39.9.59 1.41.59.51 0 1.02-.2 1.41-.59l7.78-7.78 2.81-2.81c.8-.78.8-2.07 0-2.86zM5.41 20L4 18.59l7.72-7.72 1.47 1.35L5.41 20z\"/>\n",
              "  </svg>\n",
              "      </button>\n",
              "      \n",
              "  <style>\n",
              "    .colab-df-container {\n",
              "      display:flex;\n",
              "      flex-wrap:wrap;\n",
              "      gap: 12px;\n",
              "    }\n",
              "\n",
              "    .colab-df-convert {\n",
              "      background-color: #E8F0FE;\n",
              "      border: none;\n",
              "      border-radius: 50%;\n",
              "      cursor: pointer;\n",
              "      display: none;\n",
              "      fill: #1967D2;\n",
              "      height: 32px;\n",
              "      padding: 0 0 0 0;\n",
              "      width: 32px;\n",
              "    }\n",
              "\n",
              "    .colab-df-convert:hover {\n",
              "      background-color: #E2EBFA;\n",
              "      box-shadow: 0px 1px 2px rgba(60, 64, 67, 0.3), 0px 1px 3px 1px rgba(60, 64, 67, 0.15);\n",
              "      fill: #174EA6;\n",
              "    }\n",
              "\n",
              "    [theme=dark] .colab-df-convert {\n",
              "      background-color: #3B4455;\n",
              "      fill: #D2E3FC;\n",
              "    }\n",
              "\n",
              "    [theme=dark] .colab-df-convert:hover {\n",
              "      background-color: #434B5C;\n",
              "      box-shadow: 0px 1px 3px 1px rgba(0, 0, 0, 0.15);\n",
              "      filter: drop-shadow(0px 1px 2px rgba(0, 0, 0, 0.3));\n",
              "      fill: #FFFFFF;\n",
              "    }\n",
              "  </style>\n",
              "\n",
              "      <script>\n",
              "        const buttonEl =\n",
              "          document.querySelector('#df-57da7b21-fff8-4975-8a52-b527666fdd3f button.colab-df-convert');\n",
              "        buttonEl.style.display =\n",
              "          google.colab.kernel.accessAllowed ? 'block' : 'none';\n",
              "\n",
              "        async function convertToInteractive(key) {\n",
              "          const element = document.querySelector('#df-57da7b21-fff8-4975-8a52-b527666fdd3f');\n",
              "          const dataTable =\n",
              "            await google.colab.kernel.invokeFunction('convertToInteractive',\n",
              "                                                     [key], {});\n",
              "          if (!dataTable) return;\n",
              "\n",
              "          const docLinkHtml = 'Like what you see? Visit the ' +\n",
              "            '<a target=\"_blank\" href=https://colab.research.google.com/notebooks/data_table.ipynb>data table notebook</a>'\n",
              "            + ' to learn more about interactive tables.';\n",
              "          element.innerHTML = '';\n",
              "          dataTable['output_type'] = 'display_data';\n",
              "          await google.colab.output.renderOutput(dataTable, element);\n",
              "          const docLink = document.createElement('div');\n",
              "          docLink.innerHTML = docLinkHtml;\n",
              "          element.appendChild(docLink);\n",
              "        }\n",
              "      </script>\n",
              "    </div>\n",
              "  </div>\n",
              "  "
            ]
          },
          "metadata": {},
          "execution_count": 27
        }
      ]
    },
    {
      "cell_type": "code",
      "source": [
        "# unclear whether duplicated data, or just multiple times encountering the same word in thst session.\n",
        "#datadf = datadf[~datadf.duplicated()]"
      ],
      "metadata": {
        "id": "gnOYWNOjl5Xw"
      },
      "execution_count": null,
      "outputs": []
    },
    {
      "cell_type": "markdown",
      "source": [
        "only 81 records of duplicated data"
      ],
      "metadata": {
        "id": "MfrkjT5nIqKK"
      }
    },
    {
      "cell_type": "code",
      "source": [
        "datadf.info()"
      ],
      "metadata": {
        "colab": {
          "base_uri": "https://localhost:8080/"
        },
        "id": "su03jGXHImap",
        "outputId": "0f6a865b-ff8c-43b2-f985-2c23422404ca"
      },
      "execution_count": null,
      "outputs": [
        {
          "output_type": "stream",
          "name": "stdout",
          "text": [
            "<class 'pandas.core.frame.DataFrame'>\n",
            "RangeIndex: 12854226 entries, 0 to 12854225\n",
            "Data columns (total 14 columns):\n",
            " #   Column             Dtype  \n",
            "---  ------             -----  \n",
            " 0   p_recall           float64\n",
            " 1   timestamp          int64  \n",
            " 2   delta              int64  \n",
            " 3   user_id            object \n",
            " 4   learning_language  object \n",
            " 5   ui_language        object \n",
            " 6   lexeme_id          object \n",
            " 7   lexeme_string      object \n",
            " 8   history_seen       int64  \n",
            " 9   history_correct    int64  \n",
            " 10  session_seen       int64  \n",
            " 11  session_correct    int64  \n",
            " 12  logp_recall_2      float64\n",
            " 13  calc_h             float64\n",
            "dtypes: float64(3), int64(6), object(5)\n",
            "memory usage: 1.3+ GB\n"
          ]
        }
      ]
    },
    {
      "cell_type": "code",
      "source": [
        "datadf.isna().any()"
      ],
      "metadata": {
        "colab": {
          "base_uri": "https://localhost:8080/"
        },
        "id": "b1iRwHReT5EJ",
        "outputId": "b5482db2-702e-4053-c7b6-c2a2b9bbd396"
      },
      "execution_count": null,
      "outputs": [
        {
          "output_type": "execute_result",
          "data": {
            "text/plain": [
              "p_recall             False\n",
              "timestamp            False\n",
              "delta                False\n",
              "user_id              False\n",
              "learning_language    False\n",
              "ui_language          False\n",
              "lexeme_id            False\n",
              "lexeme_string        False\n",
              "history_seen         False\n",
              "history_correct      False\n",
              "session_seen         False\n",
              "session_correct      False\n",
              "logp_recall_2        False\n",
              "calc_h               False\n",
              "dtype: bool"
            ]
          },
          "metadata": {},
          "execution_count": 29
        }
      ]
    },
    {
      "cell_type": "code",
      "source": [
        "datadfcat = datadf.select_dtypes('object')"
      ],
      "metadata": {
        "id": "gFupQ70OT_Cb"
      },
      "execution_count": null,
      "outputs": []
    },
    {
      "cell_type": "code",
      "source": [
        "datadfcat.columns"
      ],
      "metadata": {
        "colab": {
          "base_uri": "https://localhost:8080/"
        },
        "id": "vC4BgBTbUUOc",
        "outputId": "6cdadbe6-2198-4f6b-d066-6932b8c3c122"
      },
      "execution_count": null,
      "outputs": [
        {
          "output_type": "execute_result",
          "data": {
            "text/plain": [
              "Index(['user_id', 'learning_language', 'ui_language', 'lexeme_id',\n",
              "       'lexeme_string'],\n",
              "      dtype='object')"
            ]
          },
          "metadata": {},
          "execution_count": 18
        }
      ]
    },
    {
      "cell_type": "code",
      "source": [
        "user_id_vals = datadfcat['user_id'].unique()\n",
        "print(user_id_vals)"
      ],
      "metadata": {
        "colab": {
          "base_uri": "https://localhost:8080/"
        },
        "id": "xcaBe0OBUXa0",
        "outputId": "5f157086-be18-4c71-9881-e34efd8b1593"
      },
      "execution_count": null,
      "outputs": [
        {
          "output_type": "stream",
          "name": "stdout",
          "text": [
            "['u:FO' 'u:dDwF' 'u:g3WM' ... 'u:f_W4' 'u:i8m1' 'u:h8_Y']\n"
          ]
        }
      ]
    },
    {
      "cell_type": "code",
      "source": [
        "len(user_id_vals)"
      ],
      "metadata": {
        "colab": {
          "base_uri": "https://localhost:8080/"
        },
        "id": "pL3XfTcXUlPQ",
        "outputId": "62fe3284-96a8-4669-a4b4-3888ccdc1fdc"
      },
      "execution_count": null,
      "outputs": [
        {
          "output_type": "execute_result",
          "data": {
            "text/plain": [
              "115222"
            ]
          },
          "metadata": {},
          "execution_count": 20
        }
      ]
    },
    {
      "cell_type": "markdown",
      "source": [
        "there are 115,222 individual language learners in the dataset."
      ],
      "metadata": {
        "id": "Ceky8d1RUnMb"
      }
    },
    {
      "cell_type": "code",
      "source": [
        "uilang_vals = datadf['ui_language'].unique()"
      ],
      "metadata": {
        "id": "FIv0OV4uUuCG"
      },
      "execution_count": null,
      "outputs": []
    },
    {
      "cell_type": "code",
      "source": [
        "print(len(uilang_vals),uilang_vals)"
      ],
      "metadata": {
        "colab": {
          "base_uri": "https://localhost:8080/"
        },
        "id": "FIjhcZWgU40u",
        "outputId": "e9df3fdc-7d4c-4c3c-dd8b-e3068f0e52f8"
      },
      "execution_count": null,
      "outputs": [
        {
          "output_type": "stream",
          "name": "stdout",
          "text": [
            "4 ['en' 'pt' 'es' 'it']\n"
          ]
        }
      ]
    },
    {
      "cell_type": "markdown",
      "source": [
        "The dataset contains students whose first language is English, Portugese, Spanish and Italian."
      ],
      "metadata": {
        "id": "TPQCCjQMVDch"
      }
    },
    {
      "cell_type": "code",
      "source": [
        "lelang_vals = datadf['learning_language'].unique()"
      ],
      "metadata": {
        "id": "wrg9ZwMfU7MQ"
      },
      "execution_count": null,
      "outputs": []
    },
    {
      "cell_type": "code",
      "source": [
        "print(lelang_vals)"
      ],
      "metadata": {
        "colab": {
          "base_uri": "https://localhost:8080/"
        },
        "id": "P2BiVjdmVbfy",
        "outputId": "6c8c8d20-4a7a-4a2b-f2c8-302869ef3288"
      },
      "execution_count": null,
      "outputs": [
        {
          "output_type": "stream",
          "name": "stdout",
          "text": [
            "['de' 'es' 'pt' 'en' 'fr' 'it']\n"
          ]
        }
      ]
    },
    {
      "cell_type": "markdown",
      "source": [
        "Languages being learned are German, Spanish, Portugese, English, French, and Italian. "
      ],
      "metadata": {
        "id": "aQ6a-_HkVd3v"
      }
    },
    {
      "cell_type": "code",
      "source": [
        "pd.crosstab(datadf['ui_language'],datadf['learning_language'])"
      ],
      "metadata": {
        "colab": {
          "base_uri": "https://localhost:8080/",
          "height": 206
        },
        "id": "yrfB8cbsVdlg",
        "outputId": "24947770-bc46-4721-8b8b-8db392443cd0"
      },
      "execution_count": null,
      "outputs": [
        {
          "output_type": "execute_result",
          "data": {
            "text/plain": [
              "learning_language       de       en       es       fr      it      pt\n",
              "ui_language                                                          \n",
              "en                 1452597        0  3407689  1873734  793935  311480\n",
              "es                       0  3641179        0        0       0       0\n",
              "it                       0   424152        0        0       0       0\n",
              "pt                       0   949460        0        0       0       0"
            ],
            "text/html": [
              "\n",
              "  <div id=\"df-a1c7cba0-0883-4827-a35b-a9ecb185c084\">\n",
              "    <div class=\"colab-df-container\">\n",
              "      <div>\n",
              "<style scoped>\n",
              "    .dataframe tbody tr th:only-of-type {\n",
              "        vertical-align: middle;\n",
              "    }\n",
              "\n",
              "    .dataframe tbody tr th {\n",
              "        vertical-align: top;\n",
              "    }\n",
              "\n",
              "    .dataframe thead th {\n",
              "        text-align: right;\n",
              "    }\n",
              "</style>\n",
              "<table border=\"1\" class=\"dataframe\">\n",
              "  <thead>\n",
              "    <tr style=\"text-align: right;\">\n",
              "      <th>learning_language</th>\n",
              "      <th>de</th>\n",
              "      <th>en</th>\n",
              "      <th>es</th>\n",
              "      <th>fr</th>\n",
              "      <th>it</th>\n",
              "      <th>pt</th>\n",
              "    </tr>\n",
              "    <tr>\n",
              "      <th>ui_language</th>\n",
              "      <th></th>\n",
              "      <th></th>\n",
              "      <th></th>\n",
              "      <th></th>\n",
              "      <th></th>\n",
              "      <th></th>\n",
              "    </tr>\n",
              "  </thead>\n",
              "  <tbody>\n",
              "    <tr>\n",
              "      <th>en</th>\n",
              "      <td>1452597</td>\n",
              "      <td>0</td>\n",
              "      <td>3407689</td>\n",
              "      <td>1873734</td>\n",
              "      <td>793935</td>\n",
              "      <td>311480</td>\n",
              "    </tr>\n",
              "    <tr>\n",
              "      <th>es</th>\n",
              "      <td>0</td>\n",
              "      <td>3641179</td>\n",
              "      <td>0</td>\n",
              "      <td>0</td>\n",
              "      <td>0</td>\n",
              "      <td>0</td>\n",
              "    </tr>\n",
              "    <tr>\n",
              "      <th>it</th>\n",
              "      <td>0</td>\n",
              "      <td>424152</td>\n",
              "      <td>0</td>\n",
              "      <td>0</td>\n",
              "      <td>0</td>\n",
              "      <td>0</td>\n",
              "    </tr>\n",
              "    <tr>\n",
              "      <th>pt</th>\n",
              "      <td>0</td>\n",
              "      <td>949460</td>\n",
              "      <td>0</td>\n",
              "      <td>0</td>\n",
              "      <td>0</td>\n",
              "      <td>0</td>\n",
              "    </tr>\n",
              "  </tbody>\n",
              "</table>\n",
              "</div>\n",
              "      <button class=\"colab-df-convert\" onclick=\"convertToInteractive('df-a1c7cba0-0883-4827-a35b-a9ecb185c084')\"\n",
              "              title=\"Convert this dataframe to an interactive table.\"\n",
              "              style=\"display:none;\">\n",
              "        \n",
              "  <svg xmlns=\"http://www.w3.org/2000/svg\" height=\"24px\"viewBox=\"0 0 24 24\"\n",
              "       width=\"24px\">\n",
              "    <path d=\"M0 0h24v24H0V0z\" fill=\"none\"/>\n",
              "    <path d=\"M18.56 5.44l.94 2.06.94-2.06 2.06-.94-2.06-.94-.94-2.06-.94 2.06-2.06.94zm-11 1L8.5 8.5l.94-2.06 2.06-.94-2.06-.94L8.5 2.5l-.94 2.06-2.06.94zm10 10l.94 2.06.94-2.06 2.06-.94-2.06-.94-.94-2.06-.94 2.06-2.06.94z\"/><path d=\"M17.41 7.96l-1.37-1.37c-.4-.4-.92-.59-1.43-.59-.52 0-1.04.2-1.43.59L10.3 9.45l-7.72 7.72c-.78.78-.78 2.05 0 2.83L4 21.41c.39.39.9.59 1.41.59.51 0 1.02-.2 1.41-.59l7.78-7.78 2.81-2.81c.8-.78.8-2.07 0-2.86zM5.41 20L4 18.59l7.72-7.72 1.47 1.35L5.41 20z\"/>\n",
              "  </svg>\n",
              "      </button>\n",
              "      \n",
              "  <style>\n",
              "    .colab-df-container {\n",
              "      display:flex;\n",
              "      flex-wrap:wrap;\n",
              "      gap: 12px;\n",
              "    }\n",
              "\n",
              "    .colab-df-convert {\n",
              "      background-color: #E8F0FE;\n",
              "      border: none;\n",
              "      border-radius: 50%;\n",
              "      cursor: pointer;\n",
              "      display: none;\n",
              "      fill: #1967D2;\n",
              "      height: 32px;\n",
              "      padding: 0 0 0 0;\n",
              "      width: 32px;\n",
              "    }\n",
              "\n",
              "    .colab-df-convert:hover {\n",
              "      background-color: #E2EBFA;\n",
              "      box-shadow: 0px 1px 2px rgba(60, 64, 67, 0.3), 0px 1px 3px 1px rgba(60, 64, 67, 0.15);\n",
              "      fill: #174EA6;\n",
              "    }\n",
              "\n",
              "    [theme=dark] .colab-df-convert {\n",
              "      background-color: #3B4455;\n",
              "      fill: #D2E3FC;\n",
              "    }\n",
              "\n",
              "    [theme=dark] .colab-df-convert:hover {\n",
              "      background-color: #434B5C;\n",
              "      box-shadow: 0px 1px 3px 1px rgba(0, 0, 0, 0.15);\n",
              "      filter: drop-shadow(0px 1px 2px rgba(0, 0, 0, 0.3));\n",
              "      fill: #FFFFFF;\n",
              "    }\n",
              "  </style>\n",
              "\n",
              "      <script>\n",
              "        const buttonEl =\n",
              "          document.querySelector('#df-a1c7cba0-0883-4827-a35b-a9ecb185c084 button.colab-df-convert');\n",
              "        buttonEl.style.display =\n",
              "          google.colab.kernel.accessAllowed ? 'block' : 'none';\n",
              "\n",
              "        async function convertToInteractive(key) {\n",
              "          const element = document.querySelector('#df-a1c7cba0-0883-4827-a35b-a9ecb185c084');\n",
              "          const dataTable =\n",
              "            await google.colab.kernel.invokeFunction('convertToInteractive',\n",
              "                                                     [key], {});\n",
              "          if (!dataTable) return;\n",
              "\n",
              "          const docLinkHtml = 'Like what you see? Visit the ' +\n",
              "            '<a target=\"_blank\" href=https://colab.research.google.com/notebooks/data_table.ipynb>data table notebook</a>'\n",
              "            + ' to learn more about interactive tables.';\n",
              "          element.innerHTML = '';\n",
              "          dataTable['output_type'] = 'display_data';\n",
              "          await google.colab.output.renderOutput(dataTable, element);\n",
              "          const docLink = document.createElement('div');\n",
              "          docLink.innerHTML = docLinkHtml;\n",
              "          element.appendChild(docLink);\n",
              "        }\n",
              "      </script>\n",
              "    </div>\n",
              "  </div>\n",
              "  "
            ]
          },
          "metadata": {},
          "execution_count": 25
        }
      ]
    },
    {
      "cell_type": "markdown",
      "source": [
        "The dataset has Spanish, Italian and Portugese students learning Englush, and English students learning German, Spanish, Italian, Portugese, French, and German. \n",
        "No odd values like learning language and native language being the same. We should confirm the meaning of ui_language and learning_language. "
      ],
      "metadata": {
        "id": "nU1tpOACVudQ"
      }
    },
    {
      "cell_type": "code",
      "source": [
        "datadf['lexeme_id'].head(5)"
      ],
      "metadata": {
        "colab": {
          "base_uri": "https://localhost:8080/"
        },
        "id": "x-tF5G_EWHFJ",
        "outputId": "9da6dca9-33b1-4041-bf12-24095b1f5c8e"
      },
      "execution_count": null,
      "outputs": [
        {
          "output_type": "execute_result",
          "data": {
            "text/plain": [
              "0    76390c1350a8dac31186187e2fe1e178\n",
              "1    7dfd7086f3671685e2cf1c1da72796d7\n",
              "2    35a54c25a2cda8127343f6a82e6f6b7d\n",
              "3    0cf63ffe3dda158bc3dbd55682b355ae\n",
              "4    84920990d78044db53c1b012f5bf9ab5\n",
              "Name: lexeme_id, dtype: object"
            ]
          },
          "metadata": {},
          "execution_count": 26
        }
      ]
    },
    {
      "cell_type": "code",
      "source": [
        "datadf['lexeme_string']"
      ],
      "metadata": {
        "colab": {
          "base_uri": "https://localhost:8080/"
        },
        "id": "BxT4V701WPyY",
        "outputId": "060d61f8-e7de-45d5-8314-fbab018a68e1"
      },
      "execution_count": null,
      "outputs": [
        {
          "output_type": "execute_result",
          "data": {
            "text/plain": [
              "0           lernt/lernen<vblex><pri><p3><sg>\n",
              "1              die/die<det><def><f><sg><nom>\n",
              "2                   mann/mann<n><m><sg><nom>\n",
              "3                   frau/frau<n><f><sg><nom>\n",
              "4             das/das<det><def><nt><sg><nom>\n",
              "                          ...               \n",
              "12854221               the/the<det><def><sp>\n",
              "12854222                eat/eat<vblex><pres>\n",
              "12854223                  bread/bread<n><sg>\n",
              "12854224            drink/drink<vblex><pres>\n",
              "12854225                  water/water<n><sg>\n",
              "Name: lexeme_string, Length: 12854226, dtype: object"
            ]
          },
          "metadata": {},
          "execution_count": 27
        }
      ]
    },
    {
      "cell_type": "code",
      "source": [
        "lexid_vals = datadf['lexeme_id'].unique()\n",
        "print(len(lexid_vals))"
      ],
      "metadata": {
        "colab": {
          "base_uri": "https://localhost:8080/"
        },
        "id": "HmUIF-G3WktG",
        "outputId": "7ef36449-8f6f-4d77-98b1-da9c547b5315"
      },
      "execution_count": null,
      "outputs": [
        {
          "output_type": "stream",
          "name": "stdout",
          "text": [
            "19279\n"
          ]
        }
      ]
    },
    {
      "cell_type": "code",
      "source": [
        "lex_vals = datadf['lexeme_string'].unique()\n",
        "print(len(lex_vals))"
      ],
      "metadata": {
        "colab": {
          "base_uri": "https://localhost:8080/"
        },
        "id": "y-DTvZqOWsp3",
        "outputId": "599a1b54-c610-45cb-d218-cfb2b684752d"
      },
      "execution_count": null,
      "outputs": [
        {
          "output_type": "stream",
          "name": "stdout",
          "text": [
            "18781\n"
          ]
        }
      ]
    },
    {
      "cell_type": "markdown",
      "source": [
        "Odd that it doesn't seem to be a one to one mapping between lexeme id and lexeme string. Must be a many to one mapping. "
      ],
      "metadata": {
        "id": "-U2w3KEdW7mx"
      }
    },
    {
      "cell_type": "code",
      "source": [
        "lexeme_lang = pd.crosstab(datadf['lexeme_id'],datadf['learning_language'])"
      ],
      "metadata": {
        "id": "aiNnqi8tW6WT"
      },
      "execution_count": null,
      "outputs": []
    },
    {
      "cell_type": "code",
      "source": [
        "lexeme_lang_bool = lexeme_lang.astype(bool).sum(axis=1)\n",
        "lexeme_lang_bool[lexeme_lang_bool!=1]"
      ],
      "metadata": {
        "colab": {
          "base_uri": "https://localhost:8080/"
        },
        "id": "FnH5rWQZYlL3",
        "outputId": "0ae0f4c3-8fc1-4cf1-d4ee-01f485f71818"
      },
      "execution_count": null,
      "outputs": [
        {
          "output_type": "execute_result",
          "data": {
            "text/plain": [
              "Series([], dtype: int64)"
            ]
          },
          "metadata": {},
          "execution_count": 31
        }
      ]
    },
    {
      "cell_type": "markdown",
      "source": [
        "Lexeme id to language is a many to one mapping. How about lexeme string to language?"
      ],
      "metadata": {
        "id": "4hhzQ0YQYzTW"
      }
    },
    {
      "cell_type": "code",
      "source": [
        "lexs_lang = pd.crosstab(datadf['lexeme_string'],datadf['learning_language'])"
      ],
      "metadata": {
        "id": "h4BmTTBqY7H8"
      },
      "execution_count": null,
      "outputs": []
    },
    {
      "cell_type": "code",
      "source": [
        "lexs_lang_bool = lexs_lang.astype(bool).sum(axis=1)\n",
        "lexs_lang_bool[lexs_lang_bool!=1].sort_values(ascending=False)"
      ],
      "metadata": {
        "colab": {
          "base_uri": "https://localhost:8080/"
        },
        "id": "lcnKP-UOZxro",
        "outputId": "dcfcf930-2fb6-4e71-9d0b-fc235ab4610c"
      },
      "execution_count": null,
      "outputs": [
        {
          "output_type": "execute_result",
          "data": {
            "text/plain": [
              "lexeme_string\n",
              "sentir/sentir<vblex><inf>                   3\n",
              "carne/carne<n><f><sg>                       3\n",
              "tu/tu<prn><tn><p2><mf><sg>                  3\n",
              "<*sf>/sala<n><f><*numb>                     3\n",
              "principalmente/principalmente<adv>          3\n",
              "                                           ..\n",
              "antes/antes<adv>                            2\n",
              "andar/andar<vblex><inf><@future_phrasal>    2\n",
              "anda/andar<vblex><pri><p3><sg>              2\n",
              "amigos/amigo<n><m><pl>                      2\n",
              "zoo/zoo<n><m><sg>                           2\n",
              "Length: 462, dtype: int64"
            ]
          },
          "metadata": {},
          "execution_count": 33
        }
      ]
    },
    {
      "cell_type": "markdown",
      "source": [
        "The above are the lexeme strings that are in more than one language. For instance, \"sentir/\\<vblex\\>\\<inf>\\\" is in 3 languages. We should see if lexeme strings that English has in common with other languages are answered correctly more often. Let's see which lexeme strings are in English and other languages."
      ],
      "metadata": {
        "id": "5peWAiERZ__4"
      }
    },
    {
      "cell_type": "code",
      "source": [
        "lexs_lang[(lexs_lang_bool!=1) & (lexs_lang['en']>1)]"
      ],
      "metadata": {
        "colab": {
          "base_uri": "https://localhost:8080/",
          "height": 206
        },
        "id": "KRxQnm3Oa7iP",
        "outputId": "1290a587-9e44-49aa-b127-987910a49a24"
      },
      "execution_count": null,
      "outputs": [
        {
          "output_type": "execute_result",
          "data": {
            "text/plain": [
              "learning_language  de     en     es  fr    it  pt\n",
              "lexeme_string                                    \n",
              "also/also<adv>     16   1142      0   0     0   0\n",
              "in/in<pr>           0  14102      0   0   345   0\n",
              "no/no<adv>          0  13437  37234   0  2744   0\n",
              "per/per<pr>         0    534      0   0   452   0"
            ],
            "text/html": [
              "\n",
              "  <div id=\"df-9bd1b97a-2c30-4541-b356-c69e7c96915c\">\n",
              "    <div class=\"colab-df-container\">\n",
              "      <div>\n",
              "<style scoped>\n",
              "    .dataframe tbody tr th:only-of-type {\n",
              "        vertical-align: middle;\n",
              "    }\n",
              "\n",
              "    .dataframe tbody tr th {\n",
              "        vertical-align: top;\n",
              "    }\n",
              "\n",
              "    .dataframe thead th {\n",
              "        text-align: right;\n",
              "    }\n",
              "</style>\n",
              "<table border=\"1\" class=\"dataframe\">\n",
              "  <thead>\n",
              "    <tr style=\"text-align: right;\">\n",
              "      <th>learning_language</th>\n",
              "      <th>de</th>\n",
              "      <th>en</th>\n",
              "      <th>es</th>\n",
              "      <th>fr</th>\n",
              "      <th>it</th>\n",
              "      <th>pt</th>\n",
              "    </tr>\n",
              "    <tr>\n",
              "      <th>lexeme_string</th>\n",
              "      <th></th>\n",
              "      <th></th>\n",
              "      <th></th>\n",
              "      <th></th>\n",
              "      <th></th>\n",
              "      <th></th>\n",
              "    </tr>\n",
              "  </thead>\n",
              "  <tbody>\n",
              "    <tr>\n",
              "      <th>also/also&lt;adv&gt;</th>\n",
              "      <td>16</td>\n",
              "      <td>1142</td>\n",
              "      <td>0</td>\n",
              "      <td>0</td>\n",
              "      <td>0</td>\n",
              "      <td>0</td>\n",
              "    </tr>\n",
              "    <tr>\n",
              "      <th>in/in&lt;pr&gt;</th>\n",
              "      <td>0</td>\n",
              "      <td>14102</td>\n",
              "      <td>0</td>\n",
              "      <td>0</td>\n",
              "      <td>345</td>\n",
              "      <td>0</td>\n",
              "    </tr>\n",
              "    <tr>\n",
              "      <th>no/no&lt;adv&gt;</th>\n",
              "      <td>0</td>\n",
              "      <td>13437</td>\n",
              "      <td>37234</td>\n",
              "      <td>0</td>\n",
              "      <td>2744</td>\n",
              "      <td>0</td>\n",
              "    </tr>\n",
              "    <tr>\n",
              "      <th>per/per&lt;pr&gt;</th>\n",
              "      <td>0</td>\n",
              "      <td>534</td>\n",
              "      <td>0</td>\n",
              "      <td>0</td>\n",
              "      <td>452</td>\n",
              "      <td>0</td>\n",
              "    </tr>\n",
              "  </tbody>\n",
              "</table>\n",
              "</div>\n",
              "      <button class=\"colab-df-convert\" onclick=\"convertToInteractive('df-9bd1b97a-2c30-4541-b356-c69e7c96915c')\"\n",
              "              title=\"Convert this dataframe to an interactive table.\"\n",
              "              style=\"display:none;\">\n",
              "        \n",
              "  <svg xmlns=\"http://www.w3.org/2000/svg\" height=\"24px\"viewBox=\"0 0 24 24\"\n",
              "       width=\"24px\">\n",
              "    <path d=\"M0 0h24v24H0V0z\" fill=\"none\"/>\n",
              "    <path d=\"M18.56 5.44l.94 2.06.94-2.06 2.06-.94-2.06-.94-.94-2.06-.94 2.06-2.06.94zm-11 1L8.5 8.5l.94-2.06 2.06-.94-2.06-.94L8.5 2.5l-.94 2.06-2.06.94zm10 10l.94 2.06.94-2.06 2.06-.94-2.06-.94-.94-2.06-.94 2.06-2.06.94z\"/><path d=\"M17.41 7.96l-1.37-1.37c-.4-.4-.92-.59-1.43-.59-.52 0-1.04.2-1.43.59L10.3 9.45l-7.72 7.72c-.78.78-.78 2.05 0 2.83L4 21.41c.39.39.9.59 1.41.59.51 0 1.02-.2 1.41-.59l7.78-7.78 2.81-2.81c.8-.78.8-2.07 0-2.86zM5.41 20L4 18.59l7.72-7.72 1.47 1.35L5.41 20z\"/>\n",
              "  </svg>\n",
              "      </button>\n",
              "      \n",
              "  <style>\n",
              "    .colab-df-container {\n",
              "      display:flex;\n",
              "      flex-wrap:wrap;\n",
              "      gap: 12px;\n",
              "    }\n",
              "\n",
              "    .colab-df-convert {\n",
              "      background-color: #E8F0FE;\n",
              "      border: none;\n",
              "      border-radius: 50%;\n",
              "      cursor: pointer;\n",
              "      display: none;\n",
              "      fill: #1967D2;\n",
              "      height: 32px;\n",
              "      padding: 0 0 0 0;\n",
              "      width: 32px;\n",
              "    }\n",
              "\n",
              "    .colab-df-convert:hover {\n",
              "      background-color: #E2EBFA;\n",
              "      box-shadow: 0px 1px 2px rgba(60, 64, 67, 0.3), 0px 1px 3px 1px rgba(60, 64, 67, 0.15);\n",
              "      fill: #174EA6;\n",
              "    }\n",
              "\n",
              "    [theme=dark] .colab-df-convert {\n",
              "      background-color: #3B4455;\n",
              "      fill: #D2E3FC;\n",
              "    }\n",
              "\n",
              "    [theme=dark] .colab-df-convert:hover {\n",
              "      background-color: #434B5C;\n",
              "      box-shadow: 0px 1px 3px 1px rgba(0, 0, 0, 0.15);\n",
              "      filter: drop-shadow(0px 1px 2px rgba(0, 0, 0, 0.3));\n",
              "      fill: #FFFFFF;\n",
              "    }\n",
              "  </style>\n",
              "\n",
              "      <script>\n",
              "        const buttonEl =\n",
              "          document.querySelector('#df-9bd1b97a-2c30-4541-b356-c69e7c96915c button.colab-df-convert');\n",
              "        buttonEl.style.display =\n",
              "          google.colab.kernel.accessAllowed ? 'block' : 'none';\n",
              "\n",
              "        async function convertToInteractive(key) {\n",
              "          const element = document.querySelector('#df-9bd1b97a-2c30-4541-b356-c69e7c96915c');\n",
              "          const dataTable =\n",
              "            await google.colab.kernel.invokeFunction('convertToInteractive',\n",
              "                                                     [key], {});\n",
              "          if (!dataTable) return;\n",
              "\n",
              "          const docLinkHtml = 'Like what you see? Visit the ' +\n",
              "            '<a target=\"_blank\" href=https://colab.research.google.com/notebooks/data_table.ipynb>data table notebook</a>'\n",
              "            + ' to learn more about interactive tables.';\n",
              "          element.innerHTML = '';\n",
              "          dataTable['output_type'] = 'display_data';\n",
              "          await google.colab.output.renderOutput(dataTable, element);\n",
              "          const docLink = document.createElement('div');\n",
              "          docLink.innerHTML = docLinkHtml;\n",
              "          element.appendChild(docLink);\n",
              "        }\n",
              "      </script>\n",
              "    </div>\n",
              "  </div>\n",
              "  "
            ]
          },
          "metadata": {},
          "execution_count": 34
        }
      ]
    },
    {
      "cell_type": "markdown",
      "source": [
        "There are only 4 examples of lexemes that English shares with other languages. We should see if non-English speakers guess these correctly more often and vice versa."
      ],
      "metadata": {
        "id": "D9F6BWsHbQbJ"
      }
    },
    {
      "cell_type": "markdown",
      "source": [
        "How many students are learning more than one language at once?"
      ],
      "metadata": {
        "id": "MjQWgQq_YP1x"
      }
    },
    {
      "cell_type": "code",
      "source": [
        "pd.crosstab(datadf['user_id'],datadf['learning_language']).astype(bool).sum(axis=1).sort_values(ascending=False).head(10)"
      ],
      "metadata": {
        "colab": {
          "base_uri": "https://localhost:8080/"
        },
        "id": "M5FzsR6Xbrrt",
        "outputId": "71599e67-6c59-4ac0-c060-0fde2819e065"
      },
      "execution_count": null,
      "outputs": [
        {
          "output_type": "execute_result",
          "data": {
            "text/plain": [
              "user_id\n",
              "u:cEsp    6\n",
              "u:iv01    5\n",
              "u:goSi    5\n",
              "u:b5GM    5\n",
              "u:hz37    5\n",
              "u:iCe2    5\n",
              "u:iRSg    5\n",
              "u:iOwb    5\n",
              "u:hnb-    5\n",
              "u:cxnU    5\n",
              "dtype: int64"
            ]
          },
          "metadata": {},
          "execution_count": 35
        }
      ]
    },
    {
      "cell_type": "code",
      "source": [
        "datadf.loc[datadf['user_id']=='u:cEsp','learning_language'].value_counts().index"
      ],
      "metadata": {
        "colab": {
          "base_uri": "https://localhost:8080/"
        },
        "id": "FJv6CSIBcV89",
        "outputId": "420899bb-810b-43d5-fe7e-2cefeac6b8b3"
      },
      "execution_count": null,
      "outputs": [
        {
          "output_type": "execute_result",
          "data": {
            "text/plain": [
              "Index(['en', 'it', 'pt', 'fr', 'es', 'de'], dtype='object')"
            ]
          },
          "metadata": {},
          "execution_count": 36
        }
      ]
    },
    {
      "cell_type": "markdown",
      "source": [
        "There are some users who are learning multiple languages at the same time. "
      ],
      "metadata": {
        "id": "zpaZwzVzcycM"
      }
    },
    {
      "cell_type": "code",
      "source": [
        "datadf['Datetime'] = pd.to_datetime(datadf['timestamp'])"
      ],
      "metadata": {
        "id": "dO9z9aARcxZI"
      },
      "execution_count": null,
      "outputs": []
    },
    {
      "cell_type": "code",
      "source": [
        "datadf['timestamp'].describe()"
      ],
      "metadata": {
        "colab": {
          "base_uri": "https://localhost:8080/"
        },
        "id": "sBpEJv3idlnm",
        "outputId": "7ebc9ae9-056a-439f-dc88-bd866f6e50ff"
      },
      "execution_count": null,
      "outputs": [
        {
          "output_type": "execute_result",
          "data": {
            "text/plain": [
              "count    1.285423e+07\n",
              "mean     1.362589e+09\n",
              "std      2.932082e+05\n",
              "min      1.362076e+09\n",
              "25%      1.362343e+09\n",
              "50%      1.362591e+09\n",
              "75%      1.362846e+09\n",
              "max      1.363105e+09\n",
              "Name: timestamp, dtype: float64"
            ]
          },
          "metadata": {},
          "execution_count": 38
        }
      ]
    },
    {
      "cell_type": "code",
      "source": [
        "from datetime import datetime\n",
        "\n",
        "# current date and time\n",
        "now = datetime.now()\n",
        "\n",
        "timestamp = datetime.timestamp(now)\n",
        "print(\"timestamp =\", timestamp)"
      ],
      "metadata": {
        "colab": {
          "base_uri": "https://localhost:8080/"
        },
        "id": "kr2MxHSRd_YP",
        "outputId": "f1231fd2-f0b8-4712-c2e0-a61afdbef8f5"
      },
      "execution_count": null,
      "outputs": [
        {
          "output_type": "stream",
          "name": "stdout",
          "text": [
            "timestamp = 1653450834.503986\n"
          ]
        }
      ]
    },
    {
      "cell_type": "code",
      "source": [
        "dt_object = datetime.fromtimestamp(timestamp)\n",
        "dt_object"
      ],
      "metadata": {
        "colab": {
          "base_uri": "https://localhost:8080/"
        },
        "id": "BFC7HInweMXm",
        "outputId": "27369765-9baf-4439-f753-3536adce13c6"
      },
      "execution_count": null,
      "outputs": [
        {
          "output_type": "execute_result",
          "data": {
            "text/plain": [
              "datetime.datetime(2022, 5, 25, 3, 53, 54, 503986)"
            ]
          },
          "metadata": {},
          "execution_count": 45
        }
      ]
    },
    {
      "cell_type": "markdown",
      "source": [
        ""
      ],
      "metadata": {
        "id": "tJP_Tgc1dOC1"
      }
    },
    {
      "cell_type": "code",
      "source": [
        "datadf['Datetime'] = datadf['timestamp'].apply(lambda x: datetime.fromtimestamp(x))"
      ],
      "metadata": {
        "id": "RAWxIDmab9Ae"
      },
      "execution_count": null,
      "outputs": []
    },
    {
      "cell_type": "code",
      "source": [
        "datadf['Datetime'].head()"
      ],
      "metadata": {
        "colab": {
          "base_uri": "https://localhost:8080/"
        },
        "id": "3ZZ6atrDesvH",
        "outputId": "15849103-49f7-4143-a7d7-c821a1e79aa9"
      },
      "execution_count": null,
      "outputs": [
        {
          "output_type": "execute_result",
          "data": {
            "text/plain": [
              "0   2013-02-28 18:28:01\n",
              "1   2013-02-28 18:28:01\n",
              "2   2013-02-28 18:28:01\n",
              "3   2013-02-28 18:28:01\n",
              "4   2013-02-28 18:28:01\n",
              "Name: Datetime, dtype: datetime64[ns]"
            ]
          },
          "metadata": {},
          "execution_count": 47
        }
      ]
    },
    {
      "cell_type": "code",
      "source": [
        "datadf['Datetime'].describe()"
      ],
      "metadata": {
        "colab": {
          "base_uri": "https://localhost:8080/"
        },
        "id": "fk-lNwGWew7Q",
        "outputId": "7fb69cb0-611e-48c8-bf45-e4cb708dcad2"
      },
      "execution_count": null,
      "outputs": [
        {
          "output_type": "stream",
          "name": "stderr",
          "text": [
            "/usr/local/lib/python3.7/dist-packages/ipykernel_launcher.py:1: FutureWarning: Treating datetime data as categorical rather than numeric in `.describe` is deprecated and will be removed in a future version of pandas. Specify `datetime_is_numeric=True` to silence this warning and adopt the future behavior now.\n",
            "  \"\"\"Entry point for launching an IPython kernel.\n"
          ]
        },
        {
          "output_type": "execute_result",
          "data": {
            "text/plain": [
              "count                12854226\n",
              "unique                 574814\n",
              "top       2013-03-05 21:09:36\n",
              "freq                      217\n",
              "first     2013-02-28 18:28:01\n",
              "last      2013-03-12 16:14:57\n",
              "Name: Datetime, dtype: object"
            ]
          },
          "metadata": {},
          "execution_count": 34
        }
      ]
    },
    {
      "cell_type": "code",
      "source": [
        "mintimestamp = datadf['timestamp'].min()\n",
        "maxtimestamp = datadf['timestamp'].max()\n",
        "print(datetime.fromtimestamp(mintimestamp))\n",
        "print(datetime.fromtimestamp(maxtimestamp))"
      ],
      "metadata": {
        "colab": {
          "base_uri": "https://localhost:8080/"
        },
        "id": "JbeoQRRXkU4C",
        "outputId": "85e5b747-5340-4470-a45d-4ff64d6dabf4"
      },
      "execution_count": null,
      "outputs": [
        {
          "output_type": "stream",
          "name": "stdout",
          "text": [
            "2013-02-28 18:28:01\n",
            "2013-03-12 16:14:57\n"
          ]
        }
      ]
    },
    {
      "cell_type": "markdown",
      "source": [
        "Data spans from Feb 28, 2013 to Mar 12, 2013. "
      ],
      "metadata": {
        "id": "IBJQwGiJnQZT"
      }
    },
    {
      "cell_type": "code",
      "source": [
        "# What is delta??? is it the time since the last session? it has to be. in what unit is it though?\n",
        "# 10^6 seconds?\n",
        "datadf['delta_dt'] = datadf['delta'].apply(lambda x:pd.Timedelta(x,unit='s'))\n"
      ],
      "metadata": {
        "id": "nfTpp5t3e8id"
      },
      "execution_count": null,
      "outputs": []
    },
    {
      "cell_type": "code",
      "source": [
        "datadf['delta'].hist(log=True)\n",
        "datadf['delta'].describe()"
      ],
      "metadata": {
        "colab": {
          "base_uri": "https://localhost:8080/",
          "height": 438
        },
        "id": "6XNLoDaQiTYx",
        "outputId": "48aeb986-70dd-4cc7-dcbe-37468c14787a"
      },
      "execution_count": null,
      "outputs": [
        {
          "output_type": "execute_result",
          "data": {
            "text/plain": [
              "count    1.285423e+07\n",
              "mean     7.295811e+05\n",
              "std      2.246499e+06\n",
              "min      1.000000e+00\n",
              "25%      5.320000e+02\n",
              "50%      7.713400e+04\n",
              "75%      4.425070e+05\n",
              "max      4.032836e+07\n",
              "Name: delta, dtype: float64"
            ]
          },
          "metadata": {},
          "execution_count": 36
        },
        {
          "output_type": "display_data",
          "data": {
            "text/plain": [
              "<Figure size 432x288 with 1 Axes>"
            ],
            "image/png": "[encoded data removed]"
          },
          "metadata": {
            "needs_background": "light"
          }
        }
      ]
    },
    {
      "cell_type": "markdown",
      "source": [
        "Histogram is skewed heavily to left, with most words being encountered almost immediately after the previous time.  "
      ],
      "metadata": {
        "id": "ccv4f17qj4eX"
      }
    },
    {
      "cell_type": "markdown",
      "source": [
        "Need to shift p_recall so next one is in previous record. save as next, then calculate the actual h for it. try different delta units"
      ],
      "metadata": {
        "id": "GqphJntIbczB"
      }
    },
    {
      "cell_type": "code",
      "source": [
        "# using days difference as delta instead\n",
        "# plotting the calculated h(t) from the experimental p_recall(t) vs # of exposures and deltas\n",
        "import math\n",
        "import numpy as np\n",
        "#datadf['p_recall'] = np.where(datadf['p_recall']==0,0.0001,datadf['p_recall']/(1.0001))\n",
        "#datadf['logp_recall_2'] = datadf['p_recall'].apply(lambda x: math.log(x,2))\n",
        "#datadf['calc_h'] = - datadf['delta']/datadf['logp_recall_2']\n",
        "trace = datadf.loc[(datadf['user_id']=='u:bcH_')&\\\n",
        "           (datadf['lexeme_string']=='my/my<det><pos><sp>'),:].\\\n",
        "           sort_values(by='Datetime',ascending=True)\n",
        "trace.head()\n",
        "# also getting an idea of the sensitivity of p to h."
      ],
      "metadata": {
        "colab": {
          "base_uri": "https://localhost:8080/",
          "height": 444
        },
        "id": "W7GthL4paJfD",
        "outputId": "72407702-69dc-4b80-df4f-d21a4cad084a"
      },
      "execution_count": null,
      "outputs": [
        {
          "output_type": "execute_result",
          "data": {
            "text/plain": [
              "        p_recall   timestamp  delta user_id learning_language ui_language  \\\n",
              "193836    0.3333  1362092353  61015  u:bcH_                en          es   \n",
              "196490    0.9999  1362092494    141  u:bcH_                en          es   \n",
              "198265    0.9999  1362092593    100  u:bcH_                en          es   \n",
              "202449    0.9999  1362092801    208  u:bcH_                en          es   \n",
              "203745    0.9999  1362092866     65  u:bcH_                en          es   \n",
              "\n",
              "                               lexeme_id        lexeme_string  history_seen  \\\n",
              "193836  1e1f8d730c4ba99ad2873a7608324cf6  my/my<det><pos><sp>          4766   \n",
              "196490  1e1f8d730c4ba99ad2873a7608324cf6  my/my<det><pos><sp>          4769   \n",
              "198265  1e1f8d730c4ba99ad2873a7608324cf6  my/my<det><pos><sp>          4771   \n",
              "202449  1e1f8d730c4ba99ad2873a7608324cf6  my/my<det><pos><sp>          4772   \n",
              "203745  1e1f8d730c4ba99ad2873a7608324cf6  my/my<det><pos><sp>          4773   \n",
              "\n",
              "        history_correct  session_seen  session_correct            Datetime  \\\n",
              "193836             2899             3                1 2013-02-28 22:59:13   \n",
              "196490             2900             2                2 2013-02-28 23:01:34   \n",
              "198265             2902             1                1 2013-02-28 23:03:13   \n",
              "202449             2903             1                1 2013-02-28 23:06:41   \n",
              "203745             2904             1                1 2013-02-28 23:07:46   \n",
              "\n",
              "              delta_dt  \n",
              "193836 0 days 16:56:55  \n",
              "196490 0 days 00:02:21  \n",
              "198265 0 days 00:01:40  \n",
              "202449 0 days 00:03:28  \n",
              "203745 0 days 00:01:05  "
            ],
            "text/html": [
              "\n",
              "  <div id=\"df-5a8f3289-cb12-4d4d-8904-eb8f67ceb068\">\n",
              "    <div class=\"colab-df-container\">\n",
              "      <div>\n",
              "<style scoped>\n",
              "    .dataframe tbody tr th:only-of-type {\n",
              "        vertical-align: middle;\n",
              "    }\n",
              "\n",
              "    .dataframe tbody tr th {\n",
              "        vertical-align: top;\n",
              "    }\n",
              "\n",
              "    .dataframe thead th {\n",
              "        text-align: right;\n",
              "    }\n",
              "</style>\n",
              "<table border=\"1\" class=\"dataframe\">\n",
              "  <thead>\n",
              "    <tr style=\"text-align: right;\">\n",
              "      <th></th>\n",
              "      <th>p_recall</th>\n",
              "      <th>timestamp</th>\n",
              "      <th>delta</th>\n",
              "      <th>user_id</th>\n",
              "      <th>learning_language</th>\n",
              "      <th>ui_language</th>\n",
              "      <th>lexeme_id</th>\n",
              "      <th>lexeme_string</th>\n",
              "      <th>history_seen</th>\n",
              "      <th>history_correct</th>\n",
              "      <th>session_seen</th>\n",
              "      <th>session_correct</th>\n",
              "      <th>Datetime</th>\n",
              "      <th>delta_dt</th>\n",
              "    </tr>\n",
              "  </thead>\n",
              "  <tbody>\n",
              "    <tr>\n",
              "      <th>193836</th>\n",
              "      <td>0.3333</td>\n",
              "      <td>1362092353</td>\n",
              "      <td>61015</td>\n",
              "      <td>u:bcH_</td>\n",
              "      <td>en</td>\n",
              "      <td>es</td>\n",
              "      <td>1e1f8d730c4ba99ad2873a7608324cf6</td>\n",
              "      <td>my/my&lt;det&gt;&lt;pos&gt;&lt;sp&gt;</td>\n",
              "      <td>4766</td>\n",
              "      <td>2899</td>\n",
              "      <td>3</td>\n",
              "      <td>1</td>\n",
              "      <td>2013-02-28 22:59:13</td>\n",
              "      <td>0 days 16:56:55</td>\n",
              "    </tr>\n",
              "    <tr>\n",
              "      <th>196490</th>\n",
              "      <td>0.9999</td>\n",
              "      <td>1362092494</td>\n",
              "      <td>141</td>\n",
              "      <td>u:bcH_</td>\n",
              "      <td>en</td>\n",
              "      <td>es</td>\n",
              "      <td>1e1f8d730c4ba99ad2873a7608324cf6</td>\n",
              "      <td>my/my&lt;det&gt;&lt;pos&gt;&lt;sp&gt;</td>\n",
              "      <td>4769</td>\n",
              "      <td>2900</td>\n",
              "      <td>2</td>\n",
              "      <td>2</td>\n",
              "      <td>2013-02-28 23:01:34</td>\n",
              "      <td>0 days 00:02:21</td>\n",
              "    </tr>\n",
              "    <tr>\n",
              "      <th>198265</th>\n",
              "      <td>0.9999</td>\n",
              "      <td>1362092593</td>\n",
              "      <td>100</td>\n",
              "      <td>u:bcH_</td>\n",
              "      <td>en</td>\n",
              "      <td>es</td>\n",
              "      <td>1e1f8d730c4ba99ad2873a7608324cf6</td>\n",
              "      <td>my/my&lt;det&gt;&lt;pos&gt;&lt;sp&gt;</td>\n",
              "      <td>4771</td>\n",
              "      <td>2902</td>\n",
              "      <td>1</td>\n",
              "      <td>1</td>\n",
              "      <td>2013-02-28 23:03:13</td>\n",
              "      <td>0 days 00:01:40</td>\n",
              "    </tr>\n",
              "    <tr>\n",
              "      <th>202449</th>\n",
              "      <td>0.9999</td>\n",
              "      <td>1362092801</td>\n",
              "      <td>208</td>\n",
              "      <td>u:bcH_</td>\n",
              "      <td>en</td>\n",
              "      <td>es</td>\n",
              "      <td>1e1f8d730c4ba99ad2873a7608324cf6</td>\n",
              "      <td>my/my&lt;det&gt;&lt;pos&gt;&lt;sp&gt;</td>\n",
              "      <td>4772</td>\n",
              "      <td>2903</td>\n",
              "      <td>1</td>\n",
              "      <td>1</td>\n",
              "      <td>2013-02-28 23:06:41</td>\n",
              "      <td>0 days 00:03:28</td>\n",
              "    </tr>\n",
              "    <tr>\n",
              "      <th>203745</th>\n",
              "      <td>0.9999</td>\n",
              "      <td>1362092866</td>\n",
              "      <td>65</td>\n",
              "      <td>u:bcH_</td>\n",
              "      <td>en</td>\n",
              "      <td>es</td>\n",
              "      <td>1e1f8d730c4ba99ad2873a7608324cf6</td>\n",
              "      <td>my/my&lt;det&gt;&lt;pos&gt;&lt;sp&gt;</td>\n",
              "      <td>4773</td>\n",
              "      <td>2904</td>\n",
              "      <td>1</td>\n",
              "      <td>1</td>\n",
              "      <td>2013-02-28 23:07:46</td>\n",
              "      <td>0 days 00:01:05</td>\n",
              "    </tr>\n",
              "  </tbody>\n",
              "</table>\n",
              "</div>\n",
              "      <button class=\"colab-df-convert\" onclick=\"convertToInteractive('df-5a8f3289-cb12-4d4d-8904-eb8f67ceb068')\"\n",
              "              title=\"Convert this dataframe to an interactive table.\"\n",
              "              style=\"display:none;\">\n",
              "        \n",
              "  <svg xmlns=\"http://www.w3.org/2000/svg\" height=\"24px\"viewBox=\"0 0 24 24\"\n",
              "       width=\"24px\">\n",
              "    <path d=\"M0 0h24v24H0V0z\" fill=\"none\"/>\n",
              "    <path d=\"M18.56 5.44l.94 2.06.94-2.06 2.06-.94-2.06-.94-.94-2.06-.94 2.06-2.06.94zm-11 1L8.5 8.5l.94-2.06 2.06-.94-2.06-.94L8.5 2.5l-.94 2.06-2.06.94zm10 10l.94 2.06.94-2.06 2.06-.94-2.06-.94-.94-2.06-.94 2.06-2.06.94z\"/><path d=\"M17.41 7.96l-1.37-1.37c-.4-.4-.92-.59-1.43-.59-.52 0-1.04.2-1.43.59L10.3 9.45l-7.72 7.72c-.78.78-.78 2.05 0 2.83L4 21.41c.39.39.9.59 1.41.59.51 0 1.02-.2 1.41-.59l7.78-7.78 2.81-2.81c.8-.78.8-2.07 0-2.86zM5.41 20L4 18.59l7.72-7.72 1.47 1.35L5.41 20z\"/>\n",
              "  </svg>\n",
              "      </button>\n",
              "      \n",
              "  <style>\n",
              "    .colab-df-container {\n",
              "      display:flex;\n",
              "      flex-wrap:wrap;\n",
              "      gap: 12px;\n",
              "    }\n",
              "\n",
              "    .colab-df-convert {\n",
              "      background-color: #E8F0FE;\n",
              "      border: none;\n",
              "      border-radius: 50%;\n",
              "      cursor: pointer;\n",
              "      display: none;\n",
              "      fill: #1967D2;\n",
              "      height: 32px;\n",
              "      padding: 0 0 0 0;\n",
              "      width: 32px;\n",
              "    }\n",
              "\n",
              "    .colab-df-convert:hover {\n",
              "      background-color: #E2EBFA;\n",
              "      box-shadow: 0px 1px 2px rgba(60, 64, 67, 0.3), 0px 1px 3px 1px rgba(60, 64, 67, 0.15);\n",
              "      fill: #174EA6;\n",
              "    }\n",
              "\n",
              "    [theme=dark] .colab-df-convert {\n",
              "      background-color: #3B4455;\n",
              "      fill: #D2E3FC;\n",
              "    }\n",
              "\n",
              "    [theme=dark] .colab-df-convert:hover {\n",
              "      background-color: #434B5C;\n",
              "      box-shadow: 0px 1px 3px 1px rgba(0, 0, 0, 0.15);\n",
              "      filter: drop-shadow(0px 1px 2px rgba(0, 0, 0, 0.3));\n",
              "      fill: #FFFFFF;\n",
              "    }\n",
              "  </style>\n",
              "\n",
              "      <script>\n",
              "        const buttonEl =\n",
              "          document.querySelector('#df-5a8f3289-cb12-4d4d-8904-eb8f67ceb068 button.colab-df-convert');\n",
              "        buttonEl.style.display =\n",
              "          google.colab.kernel.accessAllowed ? 'block' : 'none';\n",
              "\n",
              "        async function convertToInteractive(key) {\n",
              "          const element = document.querySelector('#df-5a8f3289-cb12-4d4d-8904-eb8f67ceb068');\n",
              "          const dataTable =\n",
              "            await google.colab.kernel.invokeFunction('convertToInteractive',\n",
              "                                                     [key], {});\n",
              "          if (!dataTable) return;\n",
              "\n",
              "          const docLinkHtml = 'Like what you see? Visit the ' +\n",
              "            '<a target=\"_blank\" href=https://colab.research.google.com/notebooks/data_table.ipynb>data table notebook</a>'\n",
              "            + ' to learn more about interactive tables.';\n",
              "          element.innerHTML = '';\n",
              "          dataTable['output_type'] = 'display_data';\n",
              "          await google.colab.output.renderOutput(dataTable, element);\n",
              "          const docLink = document.createElement('div');\n",
              "          docLink.innerHTML = docLinkHtml;\n",
              "          element.appendChild(docLink);\n",
              "        }\n",
              "      </script>\n",
              "    </div>\n",
              "  </div>\n",
              "  "
            ]
          },
          "metadata": {},
          "execution_count": 50
        }
      ]
    },
    {
      "cell_type": "code",
      "source": [
        "\n",
        "trace['p_recall_next'] = trace['p_recall'].shift(-1)\n",
        "trace['delta_dt_next'] = trace['delta_dt'].shift(-1)\n",
        "trace.head(15)"
      ],
      "metadata": {
        "colab": {
          "base_uri": "https://localhost:8080/",
          "height": 1000
        },
        "id": "k3MQ5FUmXGzN",
        "outputId": "cd5a52a1-2012-4b0f-86a4-4ff9be16928a"
      },
      "execution_count": null,
      "outputs": [
        {
          "output_type": "execute_result",
          "data": {
            "text/plain": [
              "        p_recall   timestamp  delta user_id learning_language ui_language  \\\n",
              "193836  0.333300  1362092353  61015  u:bcH_                en          es   \n",
              "196490  0.999900  1362092494    141  u:bcH_                en          es   \n",
              "198265  0.999900  1362092593    100  u:bcH_                en          es   \n",
              "202449  0.999900  1362092801    208  u:bcH_                en          es   \n",
              "203745  0.999900  1362092866     65  u:bcH_                en          es   \n",
              "205739  0.249975  1362092964     98  u:bcH_                en          es   \n",
              "208223  0.499950  1362093070    106  u:bcH_                en          es   \n",
              "211558  0.000100  1362093238    168  u:bcH_                en          es   \n",
              "213372  0.000100  1362093328     91  u:bcH_                en          es   \n",
              "215074  0.499950  1362093425     97  u:bcH_                en          es   \n",
              "216290  0.000100  1362093486     62  u:bcH_                en          es   \n",
              "218331  0.499950  1362093616    130  u:bcH_                en          es   \n",
              "219987  0.499950  1362093700     84  u:bcH_                en          es   \n",
              "221488  0.000100  1362093792     92  u:bcH_                en          es   \n",
              "223721  0.000100  1362093909    118  u:bcH_                en          es   \n",
              "\n",
              "                               lexeme_id        lexeme_string  history_seen  \\\n",
              "193836  1e1f8d730c4ba99ad2873a7608324cf6  my/my<det><pos><sp>          4766   \n",
              "196490  1e1f8d730c4ba99ad2873a7608324cf6  my/my<det><pos><sp>          4769   \n",
              "198265  1e1f8d730c4ba99ad2873a7608324cf6  my/my<det><pos><sp>          4771   \n",
              "202449  1e1f8d730c4ba99ad2873a7608324cf6  my/my<det><pos><sp>          4772   \n",
              "203745  1e1f8d730c4ba99ad2873a7608324cf6  my/my<det><pos><sp>          4773   \n",
              "205739  1e1f8d730c4ba99ad2873a7608324cf6  my/my<det><pos><sp>          4774   \n",
              "208223  1e1f8d730c4ba99ad2873a7608324cf6  my/my<det><pos><sp>          4778   \n",
              "211558  1e1f8d730c4ba99ad2873a7608324cf6  my/my<det><pos><sp>          4780   \n",
              "213372  1e1f8d730c4ba99ad2873a7608324cf6  my/my<det><pos><sp>          4781   \n",
              "215074  1e1f8d730c4ba99ad2873a7608324cf6  my/my<det><pos><sp>          4782   \n",
              "216290  1e1f8d730c4ba99ad2873a7608324cf6  my/my<det><pos><sp>          4784   \n",
              "218331  1e1f8d730c4ba99ad2873a7608324cf6  my/my<det><pos><sp>          4785   \n",
              "219987  1e1f8d730c4ba99ad2873a7608324cf6  my/my<det><pos><sp>          4787   \n",
              "221488  1e1f8d730c4ba99ad2873a7608324cf6  my/my<det><pos><sp>          4789   \n",
              "223721  1e1f8d730c4ba99ad2873a7608324cf6  my/my<det><pos><sp>          4790   \n",
              "\n",
              "        history_correct  session_seen  session_correct            Datetime  \\\n",
              "193836             2899             3                1 2013-02-28 22:59:13   \n",
              "196490             2900             2                2 2013-02-28 23:01:34   \n",
              "198265             2902             1                1 2013-02-28 23:03:13   \n",
              "202449             2903             1                1 2013-02-28 23:06:41   \n",
              "203745             2904             1                1 2013-02-28 23:07:46   \n",
              "205739             2905             4                1 2013-02-28 23:09:24   \n",
              "208223             2906             2                1 2013-02-28 23:11:10   \n",
              "211558             2907             1                0 2013-02-28 23:13:58   \n",
              "213372             2907             1                0 2013-02-28 23:15:28   \n",
              "215074             2907             2                1 2013-02-28 23:17:05   \n",
              "216290             2908             1                0 2013-02-28 23:18:06   \n",
              "218331             2908             2                1 2013-02-28 23:20:16   \n",
              "219987             2909             2                1 2013-02-28 23:21:40   \n",
              "221488             2910             1                0 2013-02-28 23:23:12   \n",
              "223721             2910             3                0 2013-02-28 23:25:09   \n",
              "\n",
              "              delta_dt  logpnext_recall_2        calc_h  p_recall_next  \\\n",
              "193836 0 days 16:56:55          -0.000144  4.229449e+08       0.999900   \n",
              "196490 0 days 00:02:21          -0.000144  9.773864e+05       0.999900   \n",
              "198265 0 days 00:01:40          -0.000144  6.931818e+05       0.999900   \n",
              "202449 0 days 00:03:28          -0.000144  1.441818e+06       0.999900   \n",
              "203745 0 days 00:01:05          -2.000144  3.249766e+01       0.249975   \n",
              "205739 0 days 00:01:38          -1.000144  9.798586e+01       0.499950   \n",
              "208223 0 days 00:01:46         -13.287712  7.977295e+00       0.000100   \n",
              "211558 0 days 00:02:48         -13.287712  1.264326e+01       0.000100   \n",
              "213372 0 days 00:01:31          -1.000144  9.098687e+01       0.499950   \n",
              "215074 0 days 00:01:37         -13.287712  7.299977e+00       0.000100   \n",
              "216290 0 days 00:01:02          -1.000144  6.199106e+01       0.499950   \n",
              "218331 0 days 00:02:10          -1.000144  1.299812e+02       0.499950   \n",
              "219987 0 days 00:01:24         -13.287712  6.321630e+00       0.000100   \n",
              "221488 0 days 00:01:32         -13.287712  6.923690e+00       0.000100   \n",
              "223721 0 days 00:01:58         -13.287712  8.880385e+00       0.000100   \n",
              "\n",
              "         delta_dt_next  \n",
              "193836 0 days 00:02:21  \n",
              "196490 0 days 00:01:40  \n",
              "198265 0 days 00:03:28  \n",
              "202449 0 days 00:01:05  \n",
              "203745 0 days 00:01:38  \n",
              "205739 0 days 00:01:46  \n",
              "208223 0 days 00:02:48  \n",
              "211558 0 days 00:01:31  \n",
              "213372 0 days 00:01:37  \n",
              "215074 0 days 00:01:02  \n",
              "216290 0 days 00:02:10  \n",
              "218331 0 days 00:01:24  \n",
              "219987 0 days 00:01:32  \n",
              "221488 0 days 00:01:58  \n",
              "223721 0 days 00:01:41  "
            ],
            "text/html": [
              "\n",
              "  <div id=\"df-0eaab7d4-d950-4e26-a718-b16de46d5f2c\">\n",
              "    <div class=\"colab-df-container\">\n",
              "      <div>\n",
              "<style scoped>\n",
              "    .dataframe tbody tr th:only-of-type {\n",
              "        vertical-align: middle;\n",
              "    }\n",
              "\n",
              "    .dataframe tbody tr th {\n",
              "        vertical-align: top;\n",
              "    }\n",
              "\n",
              "    .dataframe thead th {\n",
              "        text-align: right;\n",
              "    }\n",
              "</style>\n",
              "<table border=\"1\" class=\"dataframe\">\n",
              "  <thead>\n",
              "    <tr style=\"text-align: right;\">\n",
              "      <th></th>\n",
              "      <th>p_recall</th>\n",
              "      <th>timestamp</th>\n",
              "      <th>delta</th>\n",
              "      <th>user_id</th>\n",
              "      <th>learning_language</th>\n",
              "      <th>ui_language</th>\n",
              "      <th>lexeme_id</th>\n",
              "      <th>lexeme_string</th>\n",
              "      <th>history_seen</th>\n",
              "      <th>history_correct</th>\n",
              "      <th>session_seen</th>\n",
              "      <th>session_correct</th>\n",
              "      <th>Datetime</th>\n",
              "      <th>delta_dt</th>\n",
              "      <th>logpnext_recall_2</th>\n",
              "      <th>calc_h</th>\n",
              "      <th>p_recall_next</th>\n",
              "      <th>delta_dt_next</th>\n",
              "    </tr>\n",
              "  </thead>\n",
              "  <tbody>\n",
              "    <tr>\n",
              "      <th>193836</th>\n",
              "      <td>0.333300</td>\n",
              "      <td>1362092353</td>\n",
              "      <td>61015</td>\n",
              "      <td>u:bcH_</td>\n",
              "      <td>en</td>\n",
              "      <td>es</td>\n",
              "      <td>1e1f8d730c4ba99ad2873a7608324cf6</td>\n",
              "      <td>my/my&lt;det&gt;&lt;pos&gt;&lt;sp&gt;</td>\n",
              "      <td>4766</td>\n",
              "      <td>2899</td>\n",
              "      <td>3</td>\n",
              "      <td>1</td>\n",
              "      <td>2013-02-28 22:59:13</td>\n",
              "      <td>0 days 16:56:55</td>\n",
              "      <td>-0.000144</td>\n",
              "      <td>4.229449e+08</td>\n",
              "      <td>0.999900</td>\n",
              "      <td>0 days 00:02:21</td>\n",
              "    </tr>\n",
              "    <tr>\n",
              "      <th>196490</th>\n",
              "      <td>0.999900</td>\n",
              "      <td>1362092494</td>\n",
              "      <td>141</td>\n",
              "      <td>u:bcH_</td>\n",
              "      <td>en</td>\n",
              "      <td>es</td>\n",
              "      <td>1e1f8d730c4ba99ad2873a7608324cf6</td>\n",
              "      <td>my/my&lt;det&gt;&lt;pos&gt;&lt;sp&gt;</td>\n",
              "      <td>4769</td>\n",
              "      <td>2900</td>\n",
              "      <td>2</td>\n",
              "      <td>2</td>\n",
              "      <td>2013-02-28 23:01:34</td>\n",
              "      <td>0 days 00:02:21</td>\n",
              "      <td>-0.000144</td>\n",
              "      <td>9.773864e+05</td>\n",
              "      <td>0.999900</td>\n",
              "      <td>0 days 00:01:40</td>\n",
              "    </tr>\n",
              "    <tr>\n",
              "      <th>198265</th>\n",
              "      <td>0.999900</td>\n",
              "      <td>1362092593</td>\n",
              "      <td>100</td>\n",
              "      <td>u:bcH_</td>\n",
              "      <td>en</td>\n",
              "      <td>es</td>\n",
              "      <td>1e1f8d730c4ba99ad2873a7608324cf6</td>\n",
              "      <td>my/my&lt;det&gt;&lt;pos&gt;&lt;sp&gt;</td>\n",
              "      <td>4771</td>\n",
              "      <td>2902</td>\n",
              "      <td>1</td>\n",
              "      <td>1</td>\n",
              "      <td>2013-02-28 23:03:13</td>\n",
              "      <td>0 days 00:01:40</td>\n",
              "      <td>-0.000144</td>\n",
              "      <td>6.931818e+05</td>\n",
              "      <td>0.999900</td>\n",
              "      <td>0 days 00:03:28</td>\n",
              "    </tr>\n",
              "    <tr>\n",
              "      <th>202449</th>\n",
              "      <td>0.999900</td>\n",
              "      <td>1362092801</td>\n",
              "      <td>208</td>\n",
              "      <td>u:bcH_</td>\n",
              "      <td>en</td>\n",
              "      <td>es</td>\n",
              "      <td>1e1f8d730c4ba99ad2873a7608324cf6</td>\n",
              "      <td>my/my&lt;det&gt;&lt;pos&gt;&lt;sp&gt;</td>\n",
              "      <td>4772</td>\n",
              "      <td>2903</td>\n",
              "      <td>1</td>\n",
              "      <td>1</td>\n",
              "      <td>2013-02-28 23:06:41</td>\n",
              "      <td>0 days 00:03:28</td>\n",
              "      <td>-0.000144</td>\n",
              "      <td>1.441818e+06</td>\n",
              "      <td>0.999900</td>\n",
              "      <td>0 days 00:01:05</td>\n",
              "    </tr>\n",
              "    <tr>\n",
              "      <th>203745</th>\n",
              "      <td>0.999900</td>\n",
              "      <td>1362092866</td>\n",
              "      <td>65</td>\n",
              "      <td>u:bcH_</td>\n",
              "      <td>en</td>\n",
              "      <td>es</td>\n",
              "      <td>1e1f8d730c4ba99ad2873a7608324cf6</td>\n",
              "      <td>my/my&lt;det&gt;&lt;pos&gt;&lt;sp&gt;</td>\n",
              "      <td>4773</td>\n",
              "      <td>2904</td>\n",
              "      <td>1</td>\n",
              "      <td>1</td>\n",
              "      <td>2013-02-28 23:07:46</td>\n",
              "      <td>0 days 00:01:05</td>\n",
              "      <td>-2.000144</td>\n",
              "      <td>3.249766e+01</td>\n",
              "      <td>0.249975</td>\n",
              "      <td>0 days 00:01:38</td>\n",
              "    </tr>\n",
              "    <tr>\n",
              "      <th>205739</th>\n",
              "      <td>0.249975</td>\n",
              "      <td>1362092964</td>\n",
              "      <td>98</td>\n",
              "      <td>u:bcH_</td>\n",
              "      <td>en</td>\n",
              "      <td>es</td>\n",
              "      <td>1e1f8d730c4ba99ad2873a7608324cf6</td>\n",
              "      <td>my/my&lt;det&gt;&lt;pos&gt;&lt;sp&gt;</td>\n",
              "      <td>4774</td>\n",
              "      <td>2905</td>\n",
              "      <td>4</td>\n",
              "      <td>1</td>\n",
              "      <td>2013-02-28 23:09:24</td>\n",
              "      <td>0 days 00:01:38</td>\n",
              "      <td>-1.000144</td>\n",
              "      <td>9.798586e+01</td>\n",
              "      <td>0.499950</td>\n",
              "      <td>0 days 00:01:46</td>\n",
              "    </tr>\n",
              "    <tr>\n",
              "      <th>208223</th>\n",
              "      <td>0.499950</td>\n",
              "      <td>1362093070</td>\n",
              "      <td>106</td>\n",
              "      <td>u:bcH_</td>\n",
              "      <td>en</td>\n",
              "      <td>es</td>\n",
              "      <td>1e1f8d730c4ba99ad2873a7608324cf6</td>\n",
              "      <td>my/my&lt;det&gt;&lt;pos&gt;&lt;sp&gt;</td>\n",
              "      <td>4778</td>\n",
              "      <td>2906</td>\n",
              "      <td>2</td>\n",
              "      <td>1</td>\n",
              "      <td>2013-02-28 23:11:10</td>\n",
              "      <td>0 days 00:01:46</td>\n",
              "      <td>-13.287712</td>\n",
              "      <td>7.977295e+00</td>\n",
              "      <td>0.000100</td>\n",
              "      <td>0 days 00:02:48</td>\n",
              "    </tr>\n",
              "    <tr>\n",
              "      <th>211558</th>\n",
              "      <td>0.000100</td>\n",
              "      <td>1362093238</td>\n",
              "      <td>168</td>\n",
              "      <td>u:bcH_</td>\n",
              "      <td>en</td>\n",
              "      <td>es</td>\n",
              "      <td>1e1f8d730c4ba99ad2873a7608324cf6</td>\n",
              "      <td>my/my&lt;det&gt;&lt;pos&gt;&lt;sp&gt;</td>\n",
              "      <td>4780</td>\n",
              "      <td>2907</td>\n",
              "      <td>1</td>\n",
              "      <td>0</td>\n",
              "      <td>2013-02-28 23:13:58</td>\n",
              "      <td>0 days 00:02:48</td>\n",
              "      <td>-13.287712</td>\n",
              "      <td>1.264326e+01</td>\n",
              "      <td>0.000100</td>\n",
              "      <td>0 days 00:01:31</td>\n",
              "    </tr>\n",
              "    <tr>\n",
              "      <th>213372</th>\n",
              "      <td>0.000100</td>\n",
              "      <td>1362093328</td>\n",
              "      <td>91</td>\n",
              "      <td>u:bcH_</td>\n",
              "      <td>en</td>\n",
              "      <td>es</td>\n",
              "      <td>1e1f8d730c4ba99ad2873a7608324cf6</td>\n",
              "      <td>my/my&lt;det&gt;&lt;pos&gt;&lt;sp&gt;</td>\n",
              "      <td>4781</td>\n",
              "      <td>2907</td>\n",
              "      <td>1</td>\n",
              "      <td>0</td>\n",
              "      <td>2013-02-28 23:15:28</td>\n",
              "      <td>0 days 00:01:31</td>\n",
              "      <td>-1.000144</td>\n",
              "      <td>9.098687e+01</td>\n",
              "      <td>0.499950</td>\n",
              "      <td>0 days 00:01:37</td>\n",
              "    </tr>\n",
              "    <tr>\n",
              "      <th>215074</th>\n",
              "      <td>0.499950</td>\n",
              "      <td>1362093425</td>\n",
              "      <td>97</td>\n",
              "      <td>u:bcH_</td>\n",
              "      <td>en</td>\n",
              "      <td>es</td>\n",
              "      <td>1e1f8d730c4ba99ad2873a7608324cf6</td>\n",
              "      <td>my/my&lt;det&gt;&lt;pos&gt;&lt;sp&gt;</td>\n",
              "      <td>4782</td>\n",
              "      <td>2907</td>\n",
              "      <td>2</td>\n",
              "      <td>1</td>\n",
              "      <td>2013-02-28 23:17:05</td>\n",
              "      <td>0 days 00:01:37</td>\n",
              "      <td>-13.287712</td>\n",
              "      <td>7.299977e+00</td>\n",
              "      <td>0.000100</td>\n",
              "      <td>0 days 00:01:02</td>\n",
              "    </tr>\n",
              "    <tr>\n",
              "      <th>216290</th>\n",
              "      <td>0.000100</td>\n",
              "      <td>1362093486</td>\n",
              "      <td>62</td>\n",
              "      <td>u:bcH_</td>\n",
              "      <td>en</td>\n",
              "      <td>es</td>\n",
              "      <td>1e1f8d730c4ba99ad2873a7608324cf6</td>\n",
              "      <td>my/my&lt;det&gt;&lt;pos&gt;&lt;sp&gt;</td>\n",
              "      <td>4784</td>\n",
              "      <td>2908</td>\n",
              "      <td>1</td>\n",
              "      <td>0</td>\n",
              "      <td>2013-02-28 23:18:06</td>\n",
              "      <td>0 days 00:01:02</td>\n",
              "      <td>-1.000144</td>\n",
              "      <td>6.199106e+01</td>\n",
              "      <td>0.499950</td>\n",
              "      <td>0 days 00:02:10</td>\n",
              "    </tr>\n",
              "    <tr>\n",
              "      <th>218331</th>\n",
              "      <td>0.499950</td>\n",
              "      <td>1362093616</td>\n",
              "      <td>130</td>\n",
              "      <td>u:bcH_</td>\n",
              "      <td>en</td>\n",
              "      <td>es</td>\n",
              "      <td>1e1f8d730c4ba99ad2873a7608324cf6</td>\n",
              "      <td>my/my&lt;det&gt;&lt;pos&gt;&lt;sp&gt;</td>\n",
              "      <td>4785</td>\n",
              "      <td>2908</td>\n",
              "      <td>2</td>\n",
              "      <td>1</td>\n",
              "      <td>2013-02-28 23:20:16</td>\n",
              "      <td>0 days 00:02:10</td>\n",
              "      <td>-1.000144</td>\n",
              "      <td>1.299812e+02</td>\n",
              "      <td>0.499950</td>\n",
              "      <td>0 days 00:01:24</td>\n",
              "    </tr>\n",
              "    <tr>\n",
              "      <th>219987</th>\n",
              "      <td>0.499950</td>\n",
              "      <td>1362093700</td>\n",
              "      <td>84</td>\n",
              "      <td>u:bcH_</td>\n",
              "      <td>en</td>\n",
              "      <td>es</td>\n",
              "      <td>1e1f8d730c4ba99ad2873a7608324cf6</td>\n",
              "      <td>my/my&lt;det&gt;&lt;pos&gt;&lt;sp&gt;</td>\n",
              "      <td>4787</td>\n",
              "      <td>2909</td>\n",
              "      <td>2</td>\n",
              "      <td>1</td>\n",
              "      <td>2013-02-28 23:21:40</td>\n",
              "      <td>0 days 00:01:24</td>\n",
              "      <td>-13.287712</td>\n",
              "      <td>6.321630e+00</td>\n",
              "      <td>0.000100</td>\n",
              "      <td>0 days 00:01:32</td>\n",
              "    </tr>\n",
              "    <tr>\n",
              "      <th>221488</th>\n",
              "      <td>0.000100</td>\n",
              "      <td>1362093792</td>\n",
              "      <td>92</td>\n",
              "      <td>u:bcH_</td>\n",
              "      <td>en</td>\n",
              "      <td>es</td>\n",
              "      <td>1e1f8d730c4ba99ad2873a7608324cf6</td>\n",
              "      <td>my/my&lt;det&gt;&lt;pos&gt;&lt;sp&gt;</td>\n",
              "      <td>4789</td>\n",
              "      <td>2910</td>\n",
              "      <td>1</td>\n",
              "      <td>0</td>\n",
              "      <td>2013-02-28 23:23:12</td>\n",
              "      <td>0 days 00:01:32</td>\n",
              "      <td>-13.287712</td>\n",
              "      <td>6.923690e+00</td>\n",
              "      <td>0.000100</td>\n",
              "      <td>0 days 00:01:58</td>\n",
              "    </tr>\n",
              "    <tr>\n",
              "      <th>223721</th>\n",
              "      <td>0.000100</td>\n",
              "      <td>1362093909</td>\n",
              "      <td>118</td>\n",
              "      <td>u:bcH_</td>\n",
              "      <td>en</td>\n",
              "      <td>es</td>\n",
              "      <td>1e1f8d730c4ba99ad2873a7608324cf6</td>\n",
              "      <td>my/my&lt;det&gt;&lt;pos&gt;&lt;sp&gt;</td>\n",
              "      <td>4790</td>\n",
              "      <td>2910</td>\n",
              "      <td>3</td>\n",
              "      <td>0</td>\n",
              "      <td>2013-02-28 23:25:09</td>\n",
              "      <td>0 days 00:01:58</td>\n",
              "      <td>-13.287712</td>\n",
              "      <td>8.880385e+00</td>\n",
              "      <td>0.000100</td>\n",
              "      <td>0 days 00:01:41</td>\n",
              "    </tr>\n",
              "  </tbody>\n",
              "</table>\n",
              "</div>\n",
              "      <button class=\"colab-df-convert\" onclick=\"convertToInteractive('df-0eaab7d4-d950-4e26-a718-b16de46d5f2c')\"\n",
              "              title=\"Convert this dataframe to an interactive table.\"\n",
              "              style=\"display:none;\">\n",
              "        \n",
              "  <svg xmlns=\"http://www.w3.org/2000/svg\" height=\"24px\"viewBox=\"0 0 24 24\"\n",
              "       width=\"24px\">\n",
              "    <path d=\"M0 0h24v24H0V0z\" fill=\"none\"/>\n",
              "    <path d=\"M18.56 5.44l.94 2.06.94-2.06 2.06-.94-2.06-.94-.94-2.06-.94 2.06-2.06.94zm-11 1L8.5 8.5l.94-2.06 2.06-.94-2.06-.94L8.5 2.5l-.94 2.06-2.06.94zm10 10l.94 2.06.94-2.06 2.06-.94-2.06-.94-.94-2.06-.94 2.06-2.06.94z\"/><path d=\"M17.41 7.96l-1.37-1.37c-.4-.4-.92-.59-1.43-.59-.52 0-1.04.2-1.43.59L10.3 9.45l-7.72 7.72c-.78.78-.78 2.05 0 2.83L4 21.41c.39.39.9.59 1.41.59.51 0 1.02-.2 1.41-.59l7.78-7.78 2.81-2.81c.8-.78.8-2.07 0-2.86zM5.41 20L4 18.59l7.72-7.72 1.47 1.35L5.41 20z\"/>\n",
              "  </svg>\n",
              "      </button>\n",
              "      \n",
              "  <style>\n",
              "    .colab-df-container {\n",
              "      display:flex;\n",
              "      flex-wrap:wrap;\n",
              "      gap: 12px;\n",
              "    }\n",
              "\n",
              "    .colab-df-convert {\n",
              "      background-color: #E8F0FE;\n",
              "      border: none;\n",
              "      border-radius: 50%;\n",
              "      cursor: pointer;\n",
              "      display: none;\n",
              "      fill: #1967D2;\n",
              "      height: 32px;\n",
              "      padding: 0 0 0 0;\n",
              "      width: 32px;\n",
              "    }\n",
              "\n",
              "    .colab-df-convert:hover {\n",
              "      background-color: #E2EBFA;\n",
              "      box-shadow: 0px 1px 2px rgba(60, 64, 67, 0.3), 0px 1px 3px 1px rgba(60, 64, 67, 0.15);\n",
              "      fill: #174EA6;\n",
              "    }\n",
              "\n",
              "    [theme=dark] .colab-df-convert {\n",
              "      background-color: #3B4455;\n",
              "      fill: #D2E3FC;\n",
              "    }\n",
              "\n",
              "    [theme=dark] .colab-df-convert:hover {\n",
              "      background-color: #434B5C;\n",
              "      box-shadow: 0px 1px 3px 1px rgba(0, 0, 0, 0.15);\n",
              "      filter: drop-shadow(0px 1px 2px rgba(0, 0, 0, 0.3));\n",
              "      fill: #FFFFFF;\n",
              "    }\n",
              "  </style>\n",
              "\n",
              "      <script>\n",
              "        const buttonEl =\n",
              "          document.querySelector('#df-0eaab7d4-d950-4e26-a718-b16de46d5f2c button.colab-df-convert');\n",
              "        buttonEl.style.display =\n",
              "          google.colab.kernel.accessAllowed ? 'block' : 'none';\n",
              "\n",
              "        async function convertToInteractive(key) {\n",
              "          const element = document.querySelector('#df-0eaab7d4-d950-4e26-a718-b16de46d5f2c');\n",
              "          const dataTable =\n",
              "            await google.colab.kernel.invokeFunction('convertToInteractive',\n",
              "                                                     [key], {});\n",
              "          if (!dataTable) return;\n",
              "\n",
              "          const docLinkHtml = 'Like what you see? Visit the ' +\n",
              "            '<a target=\"_blank\" href=https://colab.research.google.com/notebooks/data_table.ipynb>data table notebook</a>'\n",
              "            + ' to learn more about interactive tables.';\n",
              "          element.innerHTML = '';\n",
              "          dataTable['output_type'] = 'display_data';\n",
              "          await google.colab.output.renderOutput(dataTable, element);\n",
              "          const docLink = document.createElement('div');\n",
              "          docLink.innerHTML = docLinkHtml;\n",
              "          element.appendChild(docLink);\n",
              "        }\n",
              "      </script>\n",
              "    </div>\n",
              "  </div>\n",
              "  "
            ]
          },
          "metadata": {},
          "execution_count": 85
        }
      ]
    },
    {
      "cell_type": "code",
      "source": [
        "trace['logpnext_recall_2'] = trace['p_recall_next'].apply(lambda x: math.log(x,2))\n",
        "trace['calc_h'] = - trace['delta_dt_next']/trace['logpnext_recall_2']\n"
      ],
      "metadata": {
        "id": "IrzEJ6PLXnz5"
      },
      "execution_count": null,
      "outputs": []
    },
    {
      "cell_type": "code",
      "source": [
        "plt.plot(trace['calc_h'],'o',alpha=0.25)\n",
        "plt.show()\n",
        "plt.figure()"
      ],
      "metadata": {
        "colab": {
          "base_uri": "https://localhost:8080/",
          "height": 325
        },
        "id": "gwmDCBe4X8JM",
        "outputId": "d86ea94b-e1e7-4089-c4d6-3db0e3af5af0"
      },
      "execution_count": null,
      "outputs": [
        {
          "output_type": "display_data",
          "data": {
            "text/plain": [
              "<Figure size 432x288 with 1 Axes>"
            ],
            "image/png": "[encoded data removed]"
          },
          "metadata": {
            "needs_background": "light"
          }
        },
        {
          "output_type": "execute_result",
          "data": {
            "text/plain": [
              "<Figure size 432x288 with 0 Axes>"
            ]
          },
          "metadata": {},
          "execution_count": 87
        },
        {
          "output_type": "display_data",
          "data": {
            "text/plain": [
              "<Figure size 432x288 with 0 Axes>"
            ]
          },
          "metadata": {}
        }
      ]
    },
    {
      "cell_type": "code",
      "source": [
        "trace['calc_h'].describe()"
      ],
      "metadata": {
        "colab": {
          "base_uri": "https://localhost:8080/"
        },
        "id": "UuG2sZixaonM",
        "outputId": "603c4b09-8a44-4d69-cd17-efa53c655b31"
      },
      "execution_count": null,
      "outputs": [
        {
          "output_type": "execute_result",
          "data": {
            "text/plain": [
              "count                             351\n",
              "mean      101 days 09:46:16.410693107\n",
              "std       769 days 02:28:45.701714088\n",
              "min         0 days 00:00:00.075257498\n",
              "25%         0 days 00:00:08.353582379\n",
              "50%         0 days 00:01:28.322126475\n",
              "75%         0 days 00:03:33.636224877\n",
              "max      6847 days 08:05:02.715648896\n",
              "Name: calc_h, dtype: object"
            ]
          },
          "metadata": {},
          "execution_count": 88
        }
      ]
    },
    {
      "cell_type": "code",
      "source": [
        "plt.figure()\n",
        "trace['calc_h'].plot()\n",
        "#plt.ylim((0,10000000))\n"
      ],
      "metadata": {
        "colab": {
          "base_uri": "https://localhost:8080/",
          "height": 307
        },
        "id": "d6wLYNE-a8EX",
        "outputId": "46f9548e-bd37-4cfb-f0a0-e829e447a68b"
      },
      "execution_count": null,
      "outputs": [
        {
          "output_type": "execute_result",
          "data": {
            "text/plain": [
              "<matplotlib.axes._subplots.AxesSubplot at 0x7fa2879bef10>"
            ]
          },
          "metadata": {},
          "execution_count": 90
        },
        {
          "output_type": "display_data",
          "data": {
            "text/plain": [
              "<Figure size 432x288 with 1 Axes>"
            ],
            "image/png": "[encoded data removed]"
          },
          "metadata": {
            "needs_background": "light"
          }
        }
      ]
    },
    {
      "cell_type": "code",
      "source": [
        "trace['Date'] = trace['Datetime'].dt.date"
      ],
      "metadata": {
        "id": "oGVSLvE0czF3"
      },
      "execution_count": null,
      "outputs": []
    },
    {
      "cell_type": "code",
      "source": [
        "trace1 = trace.groupby('Date').agg(session_seen_ = pd.NamedAgg('session_seen','sum'),session_correct_ = pd.NamedAgg('session_correct','sum'))"
      ],
      "metadata": {
        "id": "AG3eB_wQc7gJ"
      },
      "execution_count": null,
      "outputs": []
    },
    {
      "cell_type": "code",
      "source": [
        "trace1['p_recall'] = trace1['session_correct_']/trace1['session_seen_']\n",
        "trace1.head()"
      ],
      "metadata": {
        "colab": {
          "base_uri": "https://localhost:8080/",
          "height": 237
        },
        "id": "Ycyfz6KkdcnS",
        "outputId": "829e967c-a175-424d-c8b1-eafb7f1dc45f"
      },
      "execution_count": null,
      "outputs": [
        {
          "output_type": "execute_result",
          "data": {
            "text/plain": [
              "            session_seen_  session_correct_  p_recall\n",
              "Date                                                 \n",
              "2013-02-28             51                21  0.411765\n",
              "2013-03-01             14                 3  0.214286\n",
              "2013-03-02             45                22  0.488889\n",
              "2013-03-03             63                27  0.428571\n",
              "2013-03-04             53                22  0.415094"
            ],
            "text/html": [
              "\n",
              "  <div id=\"df-3f69b67d-2aa2-4fbd-9711-f3f58e211403\">\n",
              "    <div class=\"colab-df-container\">\n",
              "      <div>\n",
              "<style scoped>\n",
              "    .dataframe tbody tr th:only-of-type {\n",
              "        vertical-align: middle;\n",
              "    }\n",
              "\n",
              "    .dataframe tbody tr th {\n",
              "        vertical-align: top;\n",
              "    }\n",
              "\n",
              "    .dataframe thead th {\n",
              "        text-align: right;\n",
              "    }\n",
              "</style>\n",
              "<table border=\"1\" class=\"dataframe\">\n",
              "  <thead>\n",
              "    <tr style=\"text-align: right;\">\n",
              "      <th></th>\n",
              "      <th>session_seen_</th>\n",
              "      <th>session_correct_</th>\n",
              "      <th>p_recall</th>\n",
              "    </tr>\n",
              "    <tr>\n",
              "      <th>Date</th>\n",
              "      <th></th>\n",
              "      <th></th>\n",
              "      <th></th>\n",
              "    </tr>\n",
              "  </thead>\n",
              "  <tbody>\n",
              "    <tr>\n",
              "      <th>2013-02-28</th>\n",
              "      <td>51</td>\n",
              "      <td>21</td>\n",
              "      <td>0.411765</td>\n",
              "    </tr>\n",
              "    <tr>\n",
              "      <th>2013-03-01</th>\n",
              "      <td>14</td>\n",
              "      <td>3</td>\n",
              "      <td>0.214286</td>\n",
              "    </tr>\n",
              "    <tr>\n",
              "      <th>2013-03-02</th>\n",
              "      <td>45</td>\n",
              "      <td>22</td>\n",
              "      <td>0.488889</td>\n",
              "    </tr>\n",
              "    <tr>\n",
              "      <th>2013-03-03</th>\n",
              "      <td>63</td>\n",
              "      <td>27</td>\n",
              "      <td>0.428571</td>\n",
              "    </tr>\n",
              "    <tr>\n",
              "      <th>2013-03-04</th>\n",
              "      <td>53</td>\n",
              "      <td>22</td>\n",
              "      <td>0.415094</td>\n",
              "    </tr>\n",
              "  </tbody>\n",
              "</table>\n",
              "</div>\n",
              "      <button class=\"colab-df-convert\" onclick=\"convertToInteractive('df-3f69b67d-2aa2-4fbd-9711-f3f58e211403')\"\n",
              "              title=\"Convert this dataframe to an interactive table.\"\n",
              "              style=\"display:none;\">\n",
              "        \n",
              "  <svg xmlns=\"http://www.w3.org/2000/svg\" height=\"24px\"viewBox=\"0 0 24 24\"\n",
              "       width=\"24px\">\n",
              "    <path d=\"M0 0h24v24H0V0z\" fill=\"none\"/>\n",
              "    <path d=\"M18.56 5.44l.94 2.06.94-2.06 2.06-.94-2.06-.94-.94-2.06-.94 2.06-2.06.94zm-11 1L8.5 8.5l.94-2.06 2.06-.94-2.06-.94L8.5 2.5l-.94 2.06-2.06.94zm10 10l.94 2.06.94-2.06 2.06-.94-2.06-.94-.94-2.06-.94 2.06-2.06.94z\"/><path d=\"M17.41 7.96l-1.37-1.37c-.4-.4-.92-.59-1.43-.59-.52 0-1.04.2-1.43.59L10.3 9.45l-7.72 7.72c-.78.78-.78 2.05 0 2.83L4 21.41c.39.39.9.59 1.41.59.51 0 1.02-.2 1.41-.59l7.78-7.78 2.81-2.81c.8-.78.8-2.07 0-2.86zM5.41 20L4 18.59l7.72-7.72 1.47 1.35L5.41 20z\"/>\n",
              "  </svg>\n",
              "      </button>\n",
              "      \n",
              "  <style>\n",
              "    .colab-df-container {\n",
              "      display:flex;\n",
              "      flex-wrap:wrap;\n",
              "      gap: 12px;\n",
              "    }\n",
              "\n",
              "    .colab-df-convert {\n",
              "      background-color: #E8F0FE;\n",
              "      border: none;\n",
              "      border-radius: 50%;\n",
              "      cursor: pointer;\n",
              "      display: none;\n",
              "      fill: #1967D2;\n",
              "      height: 32px;\n",
              "      padding: 0 0 0 0;\n",
              "      width: 32px;\n",
              "    }\n",
              "\n",
              "    .colab-df-convert:hover {\n",
              "      background-color: #E2EBFA;\n",
              "      box-shadow: 0px 1px 2px rgba(60, 64, 67, 0.3), 0px 1px 3px 1px rgba(60, 64, 67, 0.15);\n",
              "      fill: #174EA6;\n",
              "    }\n",
              "\n",
              "    [theme=dark] .colab-df-convert {\n",
              "      background-color: #3B4455;\n",
              "      fill: #D2E3FC;\n",
              "    }\n",
              "\n",
              "    [theme=dark] .colab-df-convert:hover {\n",
              "      background-color: #434B5C;\n",
              "      box-shadow: 0px 1px 3px 1px rgba(0, 0, 0, 0.15);\n",
              "      filter: drop-shadow(0px 1px 2px rgba(0, 0, 0, 0.3));\n",
              "      fill: #FFFFFF;\n",
              "    }\n",
              "  </style>\n",
              "\n",
              "      <script>\n",
              "        const buttonEl =\n",
              "          document.querySelector('#df-3f69b67d-2aa2-4fbd-9711-f3f58e211403 button.colab-df-convert');\n",
              "        buttonEl.style.display =\n",
              "          google.colab.kernel.accessAllowed ? 'block' : 'none';\n",
              "\n",
              "        async function convertToInteractive(key) {\n",
              "          const element = document.querySelector('#df-3f69b67d-2aa2-4fbd-9711-f3f58e211403');\n",
              "          const dataTable =\n",
              "            await google.colab.kernel.invokeFunction('convertToInteractive',\n",
              "                                                     [key], {});\n",
              "          if (!dataTable) return;\n",
              "\n",
              "          const docLinkHtml = 'Like what you see? Visit the ' +\n",
              "            '<a target=\"_blank\" href=https://colab.research.google.com/notebooks/data_table.ipynb>data table notebook</a>'\n",
              "            + ' to learn more about interactive tables.';\n",
              "          element.innerHTML = '';\n",
              "          dataTable['output_type'] = 'display_data';\n",
              "          await google.colab.output.renderOutput(dataTable, element);\n",
              "          const docLink = document.createElement('div');\n",
              "          docLink.innerHTML = docLinkHtml;\n",
              "          element.appendChild(docLink);\n",
              "        }\n",
              "      </script>\n",
              "    </div>\n",
              "  </div>\n",
              "  "
            ]
          },
          "metadata": {},
          "execution_count": 94
        }
      ]
    },
    {
      "cell_type": "code",
      "source": [
        "#trace1 = trace1.reset_index()\n",
        "trace1['next_date'] = trace1['Date'].shift(-1)\n",
        "trace1['delta_'] = trace1['next_date'] - trace1['Date']"
      ],
      "metadata": {
        "id": "VTZBuNpRdrIg"
      },
      "execution_count": null,
      "outputs": []
    },
    {
      "cell_type": "code",
      "source": [
        "trace1.head()"
      ],
      "metadata": {
        "colab": {
          "base_uri": "https://localhost:8080/",
          "height": 206
        },
        "id": "xTWtlB1ieuQy",
        "outputId": "c34d61d8-b158-419e-85ef-0d5f46cf5760"
      },
      "execution_count": null,
      "outputs": [
        {
          "output_type": "execute_result",
          "data": {
            "text/plain": [
              "         Date  session_seen_  session_correct_  p_recall   next_date delta_\n",
              "0  2013-02-28             51                21  0.411765  2013-03-01 1 days\n",
              "1  2013-03-01             14                 3  0.214286  2013-03-02 1 days\n",
              "2  2013-03-02             45                22  0.488889  2013-03-03 1 days\n",
              "3  2013-03-03             63                27  0.428571  2013-03-04 1 days\n",
              "4  2013-03-04             53                22  0.415094  2013-03-05 1 days"
            ],
            "text/html": [
              "\n",
              "  <div id=\"df-88e2e162-9bda-4818-8138-3ec033956931\">\n",
              "    <div class=\"colab-df-container\">\n",
              "      <div>\n",
              "<style scoped>\n",
              "    .dataframe tbody tr th:only-of-type {\n",
              "        vertical-align: middle;\n",
              "    }\n",
              "\n",
              "    .dataframe tbody tr th {\n",
              "        vertical-align: top;\n",
              "    }\n",
              "\n",
              "    .dataframe thead th {\n",
              "        text-align: right;\n",
              "    }\n",
              "</style>\n",
              "<table border=\"1\" class=\"dataframe\">\n",
              "  <thead>\n",
              "    <tr style=\"text-align: right;\">\n",
              "      <th></th>\n",
              "      <th>Date</th>\n",
              "      <th>session_seen_</th>\n",
              "      <th>session_correct_</th>\n",
              "      <th>p_recall</th>\n",
              "      <th>next_date</th>\n",
              "      <th>delta_</th>\n",
              "    </tr>\n",
              "  </thead>\n",
              "  <tbody>\n",
              "    <tr>\n",
              "      <th>0</th>\n",
              "      <td>2013-02-28</td>\n",
              "      <td>51</td>\n",
              "      <td>21</td>\n",
              "      <td>0.411765</td>\n",
              "      <td>2013-03-01</td>\n",
              "      <td>1 days</td>\n",
              "    </tr>\n",
              "    <tr>\n",
              "      <th>1</th>\n",
              "      <td>2013-03-01</td>\n",
              "      <td>14</td>\n",
              "      <td>3</td>\n",
              "      <td>0.214286</td>\n",
              "      <td>2013-03-02</td>\n",
              "      <td>1 days</td>\n",
              "    </tr>\n",
              "    <tr>\n",
              "      <th>2</th>\n",
              "      <td>2013-03-02</td>\n",
              "      <td>45</td>\n",
              "      <td>22</td>\n",
              "      <td>0.488889</td>\n",
              "      <td>2013-03-03</td>\n",
              "      <td>1 days</td>\n",
              "    </tr>\n",
              "    <tr>\n",
              "      <th>3</th>\n",
              "      <td>2013-03-03</td>\n",
              "      <td>63</td>\n",
              "      <td>27</td>\n",
              "      <td>0.428571</td>\n",
              "      <td>2013-03-04</td>\n",
              "      <td>1 days</td>\n",
              "    </tr>\n",
              "    <tr>\n",
              "      <th>4</th>\n",
              "      <td>2013-03-04</td>\n",
              "      <td>53</td>\n",
              "      <td>22</td>\n",
              "      <td>0.415094</td>\n",
              "      <td>2013-03-05</td>\n",
              "      <td>1 days</td>\n",
              "    </tr>\n",
              "  </tbody>\n",
              "</table>\n",
              "</div>\n",
              "      <button class=\"colab-df-convert\" onclick=\"convertToInteractive('df-88e2e162-9bda-4818-8138-3ec033956931')\"\n",
              "              title=\"Convert this dataframe to an interactive table.\"\n",
              "              style=\"display:none;\">\n",
              "        \n",
              "  <svg xmlns=\"http://www.w3.org/2000/svg\" height=\"24px\"viewBox=\"0 0 24 24\"\n",
              "       width=\"24px\">\n",
              "    <path d=\"M0 0h24v24H0V0z\" fill=\"none\"/>\n",
              "    <path d=\"M18.56 5.44l.94 2.06.94-2.06 2.06-.94-2.06-.94-.94-2.06-.94 2.06-2.06.94zm-11 1L8.5 8.5l.94-2.06 2.06-.94-2.06-.94L8.5 2.5l-.94 2.06-2.06.94zm10 10l.94 2.06.94-2.06 2.06-.94-2.06-.94-.94-2.06-.94 2.06-2.06.94z\"/><path d=\"M17.41 7.96l-1.37-1.37c-.4-.4-.92-.59-1.43-.59-.52 0-1.04.2-1.43.59L10.3 9.45l-7.72 7.72c-.78.78-.78 2.05 0 2.83L4 21.41c.39.39.9.59 1.41.59.51 0 1.02-.2 1.41-.59l7.78-7.78 2.81-2.81c.8-.78.8-2.07 0-2.86zM5.41 20L4 18.59l7.72-7.72 1.47 1.35L5.41 20z\"/>\n",
              "  </svg>\n",
              "      </button>\n",
              "      \n",
              "  <style>\n",
              "    .colab-df-container {\n",
              "      display:flex;\n",
              "      flex-wrap:wrap;\n",
              "      gap: 12px;\n",
              "    }\n",
              "\n",
              "    .colab-df-convert {\n",
              "      background-color: #E8F0FE;\n",
              "      border: none;\n",
              "      border-radius: 50%;\n",
              "      cursor: pointer;\n",
              "      display: none;\n",
              "      fill: #1967D2;\n",
              "      height: 32px;\n",
              "      padding: 0 0 0 0;\n",
              "      width: 32px;\n",
              "    }\n",
              "\n",
              "    .colab-df-convert:hover {\n",
              "      background-color: #E2EBFA;\n",
              "      box-shadow: 0px 1px 2px rgba(60, 64, 67, 0.3), 0px 1px 3px 1px rgba(60, 64, 67, 0.15);\n",
              "      fill: #174EA6;\n",
              "    }\n",
              "\n",
              "    [theme=dark] .colab-df-convert {\n",
              "      background-color: #3B4455;\n",
              "      fill: #D2E3FC;\n",
              "    }\n",
              "\n",
              "    [theme=dark] .colab-df-convert:hover {\n",
              "      background-color: #434B5C;\n",
              "      box-shadow: 0px 1px 3px 1px rgba(0, 0, 0, 0.15);\n",
              "      filter: drop-shadow(0px 1px 2px rgba(0, 0, 0, 0.3));\n",
              "      fill: #FFFFFF;\n",
              "    }\n",
              "  </style>\n",
              "\n",
              "      <script>\n",
              "        const buttonEl =\n",
              "          document.querySelector('#df-88e2e162-9bda-4818-8138-3ec033956931 button.colab-df-convert');\n",
              "        buttonEl.style.display =\n",
              "          google.colab.kernel.accessAllowed ? 'block' : 'none';\n",
              "\n",
              "        async function convertToInteractive(key) {\n",
              "          const element = document.querySelector('#df-88e2e162-9bda-4818-8138-3ec033956931');\n",
              "          const dataTable =\n",
              "            await google.colab.kernel.invokeFunction('convertToInteractive',\n",
              "                                                     [key], {});\n",
              "          if (!dataTable) return;\n",
              "\n",
              "          const docLinkHtml = 'Like what you see? Visit the ' +\n",
              "            '<a target=\"_blank\" href=https://colab.research.google.com/notebooks/data_table.ipynb>data table notebook</a>'\n",
              "            + ' to learn more about interactive tables.';\n",
              "          element.innerHTML = '';\n",
              "          dataTable['output_type'] = 'display_data';\n",
              "          await google.colab.output.renderOutput(dataTable, element);\n",
              "          const docLink = document.createElement('div');\n",
              "          docLink.innerHTML = docLinkHtml;\n",
              "          element.appendChild(docLink);\n",
              "        }\n",
              "      </script>\n",
              "    </div>\n",
              "  </div>\n",
              "  "
            ]
          },
          "metadata": {},
          "execution_count": 100
        }
      ]
    },
    {
      "cell_type": "code",
      "source": [
        "trace1['p_recall'] = np.where(trace1['p_recall']==0,0.0001,trace1['p_recall']/1.0001)"
      ],
      "metadata": {
        "id": "Efc8FnBzexWG"
      },
      "execution_count": null,
      "outputs": []
    },
    {
      "cell_type": "code",
      "source": [
        "trace1['p_recall_next'] = trace1['p_recall'].shift(-1)\n",
        "trace1['delta_next'] = trace1['delta_'].shift(-1)"
      ],
      "metadata": {
        "id": "Gyw9LmwLe7-d"
      },
      "execution_count": null,
      "outputs": []
    },
    {
      "cell_type": "code",
      "source": [
        "trace1"
      ],
      "metadata": {
        "colab": {
          "base_uri": "https://localhost:8080/",
          "height": 747
        },
        "id": "X_fkMmw0fAnu",
        "outputId": "330d0f18-85bc-490a-9a31-582d2d633edc"
      },
      "execution_count": null,
      "outputs": [
        {
          "output_type": "execute_result",
          "data": {
            "text/plain": [
              "          Date  session_seen_  session_correct_  p_recall   next_date delta_  \\\n",
              "0   2013-02-28             51                21  0.411724  2013-03-01 1 days   \n",
              "1   2013-03-01             14                 3  0.214264  2013-03-02 1 days   \n",
              "2   2013-03-02             45                22  0.488840  2013-03-03 1 days   \n",
              "3   2013-03-03             63                27  0.428529  2013-03-04 1 days   \n",
              "4   2013-03-04             53                22  0.415053  2013-03-05 1 days   \n",
              "5   2013-03-05             72                27  0.374963  2013-03-06 1 days   \n",
              "6   2013-03-06             57                20  0.350842  2013-03-07 1 days   \n",
              "7   2013-03-07             65                30  0.461492  2013-03-08 1 days   \n",
              "8   2013-03-08            102                39  0.382315  2013-03-09 1 days   \n",
              "9   2013-03-09             62                24  0.387058  2013-03-10 1 days   \n",
              "10  2013-03-10            129                49  0.379807  2013-03-11 1 days   \n",
              "11  2013-03-11             52                24  0.461492  2013-03-12 1 days   \n",
              "12  2013-03-12             60                24  0.399960         NaN    NaT   \n",
              "\n",
              "    p_recall_next delta_next  log_pnext                    calc_h  \n",
              "0        0.214264     1 days  -2.251539 0 days 10:39:33.756324558  \n",
              "1        0.488840     1 days  -1.029146 0 days 23:19:13.074666588  \n",
              "2        0.428529     1 days  -1.217591 0 days 19:42:39.763276296  \n",
              "3        0.415053     1 days  -1.251539 0 days 19:10:35.016955474  \n",
              "4        0.374963     1 days  -1.434403 0 days 16:43:54.125690217  \n",
              "5        0.350842     1 days  -1.514573 0 days 15:50:45.774710623  \n",
              "6        0.461492     1 days  -1.120294 0 days 21:25:22.596367634  \n",
              "7        0.382315     1 days  -1.395929 0 days 17:11:34.279747215  \n",
              "8        0.387058     1 days  -1.358454 0 days 17:40:01.713307934  \n",
              "9        0.379807     1 days  -1.395929 0 days 17:11:34.279747215  \n",
              "10       0.461492     1 days  -1.120294 0 days 21:25:22.596367634  \n",
              "11       0.399960        NaT  -1.321928                       NaT  \n",
              "12            NaN        NaT        NaN                       NaT  "
            ],
            "text/html": [
              "\n",
              "  <div id=\"df-3cfb554f-cb8a-4c9c-8800-bc0efc45c66d\">\n",
              "    <div class=\"colab-df-container\">\n",
              "      <div>\n",
              "<style scoped>\n",
              "    .dataframe tbody tr th:only-of-type {\n",
              "        vertical-align: middle;\n",
              "    }\n",
              "\n",
              "    .dataframe tbody tr th {\n",
              "        vertical-align: top;\n",
              "    }\n",
              "\n",
              "    .dataframe thead th {\n",
              "        text-align: right;\n",
              "    }\n",
              "</style>\n",
              "<table border=\"1\" class=\"dataframe\">\n",
              "  <thead>\n",
              "    <tr style=\"text-align: right;\">\n",
              "      <th></th>\n",
              "      <th>Date</th>\n",
              "      <th>session_seen_</th>\n",
              "      <th>session_correct_</th>\n",
              "      <th>p_recall</th>\n",
              "      <th>next_date</th>\n",
              "      <th>delta_</th>\n",
              "      <th>p_recall_next</th>\n",
              "      <th>delta_next</th>\n",
              "      <th>log_pnext</th>\n",
              "      <th>calc_h</th>\n",
              "    </tr>\n",
              "  </thead>\n",
              "  <tbody>\n",
              "    <tr>\n",
              "      <th>0</th>\n",
              "      <td>2013-02-28</td>\n",
              "      <td>51</td>\n",
              "      <td>21</td>\n",
              "      <td>0.411724</td>\n",
              "      <td>2013-03-01</td>\n",
              "      <td>1 days</td>\n",
              "      <td>0.214264</td>\n",
              "      <td>1 days</td>\n",
              "      <td>-2.251539</td>\n",
              "      <td>0 days 10:39:33.756324558</td>\n",
              "    </tr>\n",
              "    <tr>\n",
              "      <th>1</th>\n",
              "      <td>2013-03-01</td>\n",
              "      <td>14</td>\n",
              "      <td>3</td>\n",
              "      <td>0.214264</td>\n",
              "      <td>2013-03-02</td>\n",
              "      <td>1 days</td>\n",
              "      <td>0.488840</td>\n",
              "      <td>1 days</td>\n",
              "      <td>-1.029146</td>\n",
              "      <td>0 days 23:19:13.074666588</td>\n",
              "    </tr>\n",
              "    <tr>\n",
              "      <th>2</th>\n",
              "      <td>2013-03-02</td>\n",
              "      <td>45</td>\n",
              "      <td>22</td>\n",
              "      <td>0.488840</td>\n",
              "      <td>2013-03-03</td>\n",
              "      <td>1 days</td>\n",
              "      <td>0.428529</td>\n",
              "      <td>1 days</td>\n",
              "      <td>-1.217591</td>\n",
              "      <td>0 days 19:42:39.763276296</td>\n",
              "    </tr>\n",
              "    <tr>\n",
              "      <th>3</th>\n",
              "      <td>2013-03-03</td>\n",
              "      <td>63</td>\n",
              "      <td>27</td>\n",
              "      <td>0.428529</td>\n",
              "      <td>2013-03-04</td>\n",
              "      <td>1 days</td>\n",
              "      <td>0.415053</td>\n",
              "      <td>1 days</td>\n",
              "      <td>-1.251539</td>\n",
              "      <td>0 days 19:10:35.016955474</td>\n",
              "    </tr>\n",
              "    <tr>\n",
              "      <th>4</th>\n",
              "      <td>2013-03-04</td>\n",
              "      <td>53</td>\n",
              "      <td>22</td>\n",
              "      <td>0.415053</td>\n",
              "      <td>2013-03-05</td>\n",
              "      <td>1 days</td>\n",
              "      <td>0.374963</td>\n",
              "      <td>1 days</td>\n",
              "      <td>-1.434403</td>\n",
              "      <td>0 days 16:43:54.125690217</td>\n",
              "    </tr>\n",
              "    <tr>\n",
              "      <th>5</th>\n",
              "      <td>2013-03-05</td>\n",
              "      <td>72</td>\n",
              "      <td>27</td>\n",
              "      <td>0.374963</td>\n",
              "      <td>2013-03-06</td>\n",
              "      <td>1 days</td>\n",
              "      <td>0.350842</td>\n",
              "      <td>1 days</td>\n",
              "      <td>-1.514573</td>\n",
              "      <td>0 days 15:50:45.774710623</td>\n",
              "    </tr>\n",
              "    <tr>\n",
              "      <th>6</th>\n",
              "      <td>2013-03-06</td>\n",
              "      <td>57</td>\n",
              "      <td>20</td>\n",
              "      <td>0.350842</td>\n",
              "      <td>2013-03-07</td>\n",
              "      <td>1 days</td>\n",
              "      <td>0.461492</td>\n",
              "      <td>1 days</td>\n",
              "      <td>-1.120294</td>\n",
              "      <td>0 days 21:25:22.596367634</td>\n",
              "    </tr>\n",
              "    <tr>\n",
              "      <th>7</th>\n",
              "      <td>2013-03-07</td>\n",
              "      <td>65</td>\n",
              "      <td>30</td>\n",
              "      <td>0.461492</td>\n",
              "      <td>2013-03-08</td>\n",
              "      <td>1 days</td>\n",
              "      <td>0.382315</td>\n",
              "      <td>1 days</td>\n",
              "      <td>-1.395929</td>\n",
              "      <td>0 days 17:11:34.279747215</td>\n",
              "    </tr>\n",
              "    <tr>\n",
              "      <th>8</th>\n",
              "      <td>2013-03-08</td>\n",
              "      <td>102</td>\n",
              "      <td>39</td>\n",
              "      <td>0.382315</td>\n",
              "      <td>2013-03-09</td>\n",
              "      <td>1 days</td>\n",
              "      <td>0.387058</td>\n",
              "      <td>1 days</td>\n",
              "      <td>-1.358454</td>\n",
              "      <td>0 days 17:40:01.713307934</td>\n",
              "    </tr>\n",
              "    <tr>\n",
              "      <th>9</th>\n",
              "      <td>2013-03-09</td>\n",
              "      <td>62</td>\n",
              "      <td>24</td>\n",
              "      <td>0.387058</td>\n",
              "      <td>2013-03-10</td>\n",
              "      <td>1 days</td>\n",
              "      <td>0.379807</td>\n",
              "      <td>1 days</td>\n",
              "      <td>-1.395929</td>\n",
              "      <td>0 days 17:11:34.279747215</td>\n",
              "    </tr>\n",
              "    <tr>\n",
              "      <th>10</th>\n",
              "      <td>2013-03-10</td>\n",
              "      <td>129</td>\n",
              "      <td>49</td>\n",
              "      <td>0.379807</td>\n",
              "      <td>2013-03-11</td>\n",
              "      <td>1 days</td>\n",
              "      <td>0.461492</td>\n",
              "      <td>1 days</td>\n",
              "      <td>-1.120294</td>\n",
              "      <td>0 days 21:25:22.596367634</td>\n",
              "    </tr>\n",
              "    <tr>\n",
              "      <th>11</th>\n",
              "      <td>2013-03-11</td>\n",
              "      <td>52</td>\n",
              "      <td>24</td>\n",
              "      <td>0.461492</td>\n",
              "      <td>2013-03-12</td>\n",
              "      <td>1 days</td>\n",
              "      <td>0.399960</td>\n",
              "      <td>NaT</td>\n",
              "      <td>-1.321928</td>\n",
              "      <td>NaT</td>\n",
              "    </tr>\n",
              "    <tr>\n",
              "      <th>12</th>\n",
              "      <td>2013-03-12</td>\n",
              "      <td>60</td>\n",
              "      <td>24</td>\n",
              "      <td>0.399960</td>\n",
              "      <td>NaN</td>\n",
              "      <td>NaT</td>\n",
              "      <td>NaN</td>\n",
              "      <td>NaT</td>\n",
              "      <td>NaN</td>\n",
              "      <td>NaT</td>\n",
              "    </tr>\n",
              "  </tbody>\n",
              "</table>\n",
              "</div>\n",
              "      <button class=\"colab-df-convert\" onclick=\"convertToInteractive('df-3cfb554f-cb8a-4c9c-8800-bc0efc45c66d')\"\n",
              "              title=\"Convert this dataframe to an interactive table.\"\n",
              "              style=\"display:none;\">\n",
              "        \n",
              "  <svg xmlns=\"http://www.w3.org/2000/svg\" height=\"24px\"viewBox=\"0 0 24 24\"\n",
              "       width=\"24px\">\n",
              "    <path d=\"M0 0h24v24H0V0z\" fill=\"none\"/>\n",
              "    <path d=\"M18.56 5.44l.94 2.06.94-2.06 2.06-.94-2.06-.94-.94-2.06-.94 2.06-2.06.94zm-11 1L8.5 8.5l.94-2.06 2.06-.94-2.06-.94L8.5 2.5l-.94 2.06-2.06.94zm10 10l.94 2.06.94-2.06 2.06-.94-2.06-.94-.94-2.06-.94 2.06-2.06.94z\"/><path d=\"M17.41 7.96l-1.37-1.37c-.4-.4-.92-.59-1.43-.59-.52 0-1.04.2-1.43.59L10.3 9.45l-7.72 7.72c-.78.78-.78 2.05 0 2.83L4 21.41c.39.39.9.59 1.41.59.51 0 1.02-.2 1.41-.59l7.78-7.78 2.81-2.81c.8-.78.8-2.07 0-2.86zM5.41 20L4 18.59l7.72-7.72 1.47 1.35L5.41 20z\"/>\n",
              "  </svg>\n",
              "      </button>\n",
              "      \n",
              "  <style>\n",
              "    .colab-df-container {\n",
              "      display:flex;\n",
              "      flex-wrap:wrap;\n",
              "      gap: 12px;\n",
              "    }\n",
              "\n",
              "    .colab-df-convert {\n",
              "      background-color: #E8F0FE;\n",
              "      border: none;\n",
              "      border-radius: 50%;\n",
              "      cursor: pointer;\n",
              "      display: none;\n",
              "      fill: #1967D2;\n",
              "      height: 32px;\n",
              "      padding: 0 0 0 0;\n",
              "      width: 32px;\n",
              "    }\n",
              "\n",
              "    .colab-df-convert:hover {\n",
              "      background-color: #E2EBFA;\n",
              "      box-shadow: 0px 1px 2px rgba(60, 64, 67, 0.3), 0px 1px 3px 1px rgba(60, 64, 67, 0.15);\n",
              "      fill: #174EA6;\n",
              "    }\n",
              "\n",
              "    [theme=dark] .colab-df-convert {\n",
              "      background-color: #3B4455;\n",
              "      fill: #D2E3FC;\n",
              "    }\n",
              "\n",
              "    [theme=dark] .colab-df-convert:hover {\n",
              "      background-color: #434B5C;\n",
              "      box-shadow: 0px 1px 3px 1px rgba(0, 0, 0, 0.15);\n",
              "      filter: drop-shadow(0px 1px 2px rgba(0, 0, 0, 0.3));\n",
              "      fill: #FFFFFF;\n",
              "    }\n",
              "  </style>\n",
              "\n",
              "      <script>\n",
              "        const buttonEl =\n",
              "          document.querySelector('#df-3cfb554f-cb8a-4c9c-8800-bc0efc45c66d button.colab-df-convert');\n",
              "        buttonEl.style.display =\n",
              "          google.colab.kernel.accessAllowed ? 'block' : 'none';\n",
              "\n",
              "        async function convertToInteractive(key) {\n",
              "          const element = document.querySelector('#df-3cfb554f-cb8a-4c9c-8800-bc0efc45c66d');\n",
              "          const dataTable =\n",
              "            await google.colab.kernel.invokeFunction('convertToInteractive',\n",
              "                                                     [key], {});\n",
              "          if (!dataTable) return;\n",
              "\n",
              "          const docLinkHtml = 'Like what you see? Visit the ' +\n",
              "            '<a target=\"_blank\" href=https://colab.research.google.com/notebooks/data_table.ipynb>data table notebook</a>'\n",
              "            + ' to learn more about interactive tables.';\n",
              "          element.innerHTML = '';\n",
              "          dataTable['output_type'] = 'display_data';\n",
              "          await google.colab.output.renderOutput(dataTable, element);\n",
              "          const docLink = document.createElement('div');\n",
              "          docLink.innerHTML = docLinkHtml;\n",
              "          element.appendChild(docLink);\n",
              "        }\n",
              "      </script>\n",
              "    </div>\n",
              "  </div>\n",
              "  "
            ]
          },
          "metadata": {},
          "execution_count": 128
        }
      ]
    },
    {
      "cell_type": "code",
      "source": [
        "trace1['log_pnext'] = trace1['p_recall_next'].apply(lambda x: math.log(np.around(x,2),2))"
      ],
      "metadata": {
        "id": "1qXUSDD8fLAA"
      },
      "execution_count": null,
      "outputs": []
    },
    {
      "cell_type": "code",
      "source": [
        "trace1['calc_h'] = -trace1['delta_next']/trace1['log_pnext']"
      ],
      "metadata": {
        "id": "nBOvoEAjfYR5"
      },
      "execution_count": null,
      "outputs": []
    },
    {
      "cell_type": "code",
      "source": [
        "plt.figure()\n",
        "plt.plot(trace1['Date'][:-2],trace1['calc_h'][:-2],'o-')\n",
        "plt.ylabel('calculated half-life')\n",
        "plt.xlabel('date')\n",
        "plt.legend(['exposure'])\n",
        "plt.figure()\n",
        "plt.plot(trace1['p_recall'])"
      ],
      "metadata": {
        "colab": {
          "base_uri": "https://localhost:8080/",
          "height": 558
        },
        "id": "GJ38aru4fdzO",
        "outputId": "341b7b1e-01ff-43cd-b2a6-7ec533f739b1"
      },
      "execution_count": null,
      "outputs": [
        {
          "output_type": "execute_result",
          "data": {
            "text/plain": [
              "[<matplotlib.lines.Line2D at 0x7fa286f1d610>]"
            ]
          },
          "metadata": {},
          "execution_count": 127
        },
        {
          "output_type": "display_data",
          "data": {
            "text/plain": [
              "<Figure size 432x288 with 1 Axes>"
            ],
            "image/png": "[encoded data removed]"
          },
          "metadata": {
            "needs_background": "light"
          }
        },
        {
          "output_type": "display_data",
          "data": {
            "text/plain": [
              "<Figure size 432x288 with 1 Axes>"
            ],
            "image/png": "[encoded data removed]"
          },
          "metadata": {
            "needs_background": "light"
          }
        }
      ]
    },
    {
      "cell_type": "markdown",
      "source": [
        "Half-life is not montonically increasing here, or even non-decreasing. Is the assumption of how half-life increases really justified? Is this maybe because the style of questions changes? maybe transfer learning only happens after some more exposure. \n",
        "\n",
        "Try rolling windows after looking at some more curves?"
      ],
      "metadata": {
        "id": "0r_S42pYglXK"
      }
    },
    {
      "cell_type": "code",
      "source": [
        ""
      ],
      "metadata": {
        "id": "YyAcUp2sgsj7"
      },
      "execution_count": null,
      "outputs": []
    },
    {
      "cell_type": "code",
      "source": [
        "# how many reasonable long time traces do we have\n",
        "timetraces = datadf.groupby(['user_id','lexeme_string'])['p_recall'].count()\\\n",
        ".sort_values(ascending=False)\n",
        "timetraces.head(20)"
      ],
      "metadata": {
        "colab": {
          "base_uri": "https://localhost:8080/"
        },
        "id": "XofRVEbqrYYO",
        "outputId": "887ee615-e3f1-44ad-825e-52bef25bd7cd"
      },
      "execution_count": null,
      "outputs": [
        {
          "output_type": "execute_result",
          "data": {
            "text/plain": [
              "user_id  lexeme_string                             \n",
              "u:bcH_   my/my<det><pos><sp>                           352\n",
              "         to/to<pr>                                     328\n",
              "         not/not<adv>                                  316\n",
              "         a/a<det><ind><sg>                             295\n",
              "         is/be<vbser><pri><p3><sg>                     278\n",
              "         we/prpers<prn><subj><p1><mf><pl>              260\n",
              "u:bkiW   <*sf>/difference<n><*numb>                    231\n",
              "u:bcH_   will/will<vaux><pres><@future>                230\n",
              "         at/at<pr>                                     227\n",
              "u:cpBu   is/be<vbser><pri><p3><sg>                     224\n",
              "         a/a<det><ind><sg>                             216\n",
              "u:bcH_   they/prpers<prn><subj><p3><mf><pl>            208\n",
              "u:bkiW   personality/personality<n><sg>                208\n",
              "u:bcH_   on/on<pr>                                     204\n",
              "         are/be<vbser><pres>                           202\n",
              "         have/have<vbhaver><pres><@present_perfect>    202\n",
              "         that/that<det><dem><sg>                       200\n",
              "         in/in<pr>                                     197\n",
              "u:IY_    to/to<pr>                                     190\n",
              "u:bkiW   luck/luck<n><sg>                              183\n",
              "Name: p_recall, dtype: int64"
            ]
          },
          "metadata": {},
          "execution_count": 47
        }
      ]
    },
    {
      "cell_type": "markdown",
      "source": [
        "The purposr of plottin the histogram below is to estimate how many time traces are in the dataset with a certain length"
      ],
      "metadata": {
        "id": "4XkZeGv6RNtb"
      }
    },
    {
      "cell_type": "code",
      "source": [
        "timetraces.hist(log=True,bins=200)"
      ],
      "metadata": {
        "colab": {
          "base_uri": "https://localhost:8080/",
          "height": 283
        },
        "id": "7GSqNfejseJN",
        "outputId": "d8d3befd-5b0b-4352-e30a-1652a520b356"
      },
      "execution_count": null,
      "outputs": [
        {
          "output_type": "execute_result",
          "data": {
            "text/plain": [
              "<matplotlib.axes._subplots.AxesSubplot at 0x7f9b7f557f50>"
            ]
          },
          "metadata": {},
          "execution_count": 48
        },
        {
          "output_type": "display_data",
          "data": {
            "text/plain": [
              "<Figure size 432x288 with 1 Axes>"
            ],
            "image/png": "[encoded data removed]"
          },
          "metadata": {
            "needs_background": "light"
          }
        }
      ]
    },
    {
      "cell_type": "code",
      "source": [
        "timetraces[timetraces>25].count()"
      ],
      "metadata": {
        "colab": {
          "base_uri": "https://localhost:8080/"
        },
        "id": "HwhVDCFGWcsT",
        "outputId": "25ebf709-3027-4cff-f267-39b7b6461412"
      },
      "execution_count": null,
      "outputs": [
        {
          "output_type": "execute_result",
          "data": {
            "text/plain": [
              "9143"
            ]
          },
          "metadata": {},
          "execution_count": 49
        }
      ]
    },
    {
      "cell_type": "markdown",
      "source": [
        "There are 9143 traces that are at least 25 records long. "
      ],
      "metadata": {
        "id": "PAJphWVfZiIg"
      }
    },
    {
      "cell_type": "code",
      "source": [
        "timetraces[0]"
      ],
      "metadata": {
        "colab": {
          "base_uri": "https://localhost:8080/"
        },
        "id": "SEKi5pm1WB5t",
        "outputId": "ba6c71b6-1613-466b-b893-74e1cad27f5b"
      },
      "execution_count": null,
      "outputs": [
        {
          "output_type": "execute_result",
          "data": {
            "text/plain": [
              "352"
            ]
          },
          "metadata": {},
          "execution_count": 50
        }
      ]
    },
    {
      "cell_type": "markdown",
      "source": [
        "We have a decent number of traceable learning for a number of words. >9000 with atleast 25 differnt sessions. let's trace one. "
      ],
      "metadata": {
        "id": "TvLhdrhxsM59"
      }
    },
    {
      "cell_type": "code",
      "source": [
        "# let us check if it is indeed log normal\n",
        "import scipy\n",
        "from scipy import stats\n",
        "plt.figure()\n",
        "#scipy.stats.probplot(timetraces, dist='lognorm', fit=True, plot=plt, rvalue=False)\n",
        "plt.show()"
      ],
      "metadata": {
        "colab": {
          "base_uri": "https://localhost:8080/",
          "height": 35
        },
        "id": "1YFlrdn2Pdnh",
        "outputId": "0ff53e04-eb74-4196-8dcd-2f28d1707c5e"
      },
      "execution_count": null,
      "outputs": [
        {
          "output_type": "display_data",
          "data": {
            "text/plain": [
              "<Figure size 432x288 with 0 Axes>"
            ]
          },
          "metadata": {}
        }
      ]
    },
    {
      "cell_type": "code",
      "source": [
        "datadf.loc[(datadf['user_id']=='u:bcH_')&\\\n",
        "           (datadf['lexeme_string']=='my/my<det><pos><sp>'),:].\\\n",
        "           sort_values(by='Datetime',ascending=True)\n",
        "  "
      ],
      "metadata": {
        "colab": {
          "base_uri": "https://localhost:8080/",
          "height": 835
        },
        "id": "d9DZ5y92s7Mm",
        "outputId": "905f40ff-3377-449f-cbe2-31a76cd45a1b"
      },
      "execution_count": null,
      "outputs": [
        {
          "output_type": "execute_result",
          "data": {
            "text/plain": [
              "          p_recall   timestamp  delta user_id learning_language ui_language  \\\n",
              "193836    0.333333  1362092353  61015  u:bcH_                en          es   \n",
              "196490    1.000000  1362092494    141  u:bcH_                en          es   \n",
              "198265    1.000000  1362092593    100  u:bcH_                en          es   \n",
              "202449    1.000000  1362092801    208  u:bcH_                en          es   \n",
              "203745    1.000000  1362092866     65  u:bcH_                en          es   \n",
              "...            ...         ...    ...     ...               ...         ...   \n",
              "12500094  0.000000  1363065747     75  u:bcH_                en          es   \n",
              "12501031  0.600000  1363065850    103  u:bcH_                en          es   \n",
              "12502104  0.666667  1363065958    108  u:bcH_                en          es   \n",
              "12503021  0.000000  1363066057    100  u:bcH_                en          es   \n",
              "12504245  0.500000  1363066201    144  u:bcH_                en          es   \n",
              "\n",
              "                                 lexeme_id        lexeme_string  history_seen  \\\n",
              "193836    1e1f8d730c4ba99ad2873a7608324cf6  my/my<det><pos><sp>          4766   \n",
              "196490    1e1f8d730c4ba99ad2873a7608324cf6  my/my<det><pos><sp>          4769   \n",
              "198265    1e1f8d730c4ba99ad2873a7608324cf6  my/my<det><pos><sp>          4771   \n",
              "202449    1e1f8d730c4ba99ad2873a7608324cf6  my/my<det><pos><sp>          4772   \n",
              "203745    1e1f8d730c4ba99ad2873a7608324cf6  my/my<det><pos><sp>          4773   \n",
              "...                                    ...                  ...           ...   \n",
              "12500094  1e1f8d730c4ba99ad2873a7608324cf6  my/my<det><pos><sp>          5577   \n",
              "12501031  1e1f8d730c4ba99ad2873a7608324cf6  my/my<det><pos><sp>          5578   \n",
              "12502104  1e1f8d730c4ba99ad2873a7608324cf6  my/my<det><pos><sp>          5583   \n",
              "12503021  1e1f8d730c4ba99ad2873a7608324cf6  my/my<det><pos><sp>          5586   \n",
              "12504245  1e1f8d730c4ba99ad2873a7608324cf6  my/my<det><pos><sp>          5589   \n",
              "\n",
              "          history_correct  session_seen  session_correct            Datetime  \\\n",
              "193836               2899             3                1 2013-02-28 22:59:13   \n",
              "196490               2900             2                2 2013-02-28 23:01:34   \n",
              "198265               2902             1                1 2013-02-28 23:03:13   \n",
              "202449               2903             1                1 2013-02-28 23:06:41   \n",
              "203745               2904             1                1 2013-02-28 23:07:46   \n",
              "...                   ...           ...              ...                 ...   \n",
              "12500094             3225             1                0 2013-03-12 05:22:27   \n",
              "12501031             3225             5                3 2013-03-12 05:24:10   \n",
              "12502104             3228             3                2 2013-03-12 05:25:58   \n",
              "12503021             3230             3                0 2013-03-12 05:27:37   \n",
              "12504245             3230             2                1 2013-03-12 05:30:01   \n",
              "\n",
              "                delta_dt  \n",
              "193836   0 days 16:56:55  \n",
              "196490   0 days 00:02:21  \n",
              "198265   0 days 00:01:40  \n",
              "202449   0 days 00:03:28  \n",
              "203745   0 days 00:01:05  \n",
              "...                  ...  \n",
              "12500094 0 days 00:01:15  \n",
              "12501031 0 days 00:01:43  \n",
              "12502104 0 days 00:01:48  \n",
              "12503021 0 days 00:01:40  \n",
              "12504245 0 days 00:02:24  \n",
              "\n",
              "[352 rows x 14 columns]"
            ],
            "text/html": [
              "\n",
              "  <div id=\"df-19ac555d-f62b-4a99-a196-0fb4c6bf7aee\">\n",
              "    <div class=\"colab-df-container\">\n",
              "      <div>\n",
              "<style scoped>\n",
              "    .dataframe tbody tr th:only-of-type {\n",
              "        vertical-align: middle;\n",
              "    }\n",
              "\n",
              "    .dataframe tbody tr th {\n",
              "        vertical-align: top;\n",
              "    }\n",
              "\n",
              "    .dataframe thead th {\n",
              "        text-align: right;\n",
              "    }\n",
              "</style>\n",
              "<table border=\"1\" class=\"dataframe\">\n",
              "  <thead>\n",
              "    <tr style=\"text-align: right;\">\n",
              "      <th></th>\n",
              "      <th>p_recall</th>\n",
              "      <th>timestamp</th>\n",
              "      <th>delta</th>\n",
              "      <th>user_id</th>\n",
              "      <th>learning_language</th>\n",
              "      <th>ui_language</th>\n",
              "      <th>lexeme_id</th>\n",
              "      <th>lexeme_string</th>\n",
              "      <th>history_seen</th>\n",
              "      <th>history_correct</th>\n",
              "      <th>session_seen</th>\n",
              "      <th>session_correct</th>\n",
              "      <th>Datetime</th>\n",
              "      <th>delta_dt</th>\n",
              "    </tr>\n",
              "  </thead>\n",
              "  <tbody>\n",
              "    <tr>\n",
              "      <th>193836</th>\n",
              "      <td>0.333333</td>\n",
              "      <td>1362092353</td>\n",
              "      <td>61015</td>\n",
              "      <td>u:bcH_</td>\n",
              "      <td>en</td>\n",
              "      <td>es</td>\n",
              "      <td>1e1f8d730c4ba99ad2873a7608324cf6</td>\n",
              "      <td>my/my&lt;det&gt;&lt;pos&gt;&lt;sp&gt;</td>\n",
              "      <td>4766</td>\n",
              "      <td>2899</td>\n",
              "      <td>3</td>\n",
              "      <td>1</td>\n",
              "      <td>2013-02-28 22:59:13</td>\n",
              "      <td>0 days 16:56:55</td>\n",
              "    </tr>\n",
              "    <tr>\n",
              "      <th>196490</th>\n",
              "      <td>1.000000</td>\n",
              "      <td>1362092494</td>\n",
              "      <td>141</td>\n",
              "      <td>u:bcH_</td>\n",
              "      <td>en</td>\n",
              "      <td>es</td>\n",
              "      <td>1e1f8d730c4ba99ad2873a7608324cf6</td>\n",
              "      <td>my/my&lt;det&gt;&lt;pos&gt;&lt;sp&gt;</td>\n",
              "      <td>4769</td>\n",
              "      <td>2900</td>\n",
              "      <td>2</td>\n",
              "      <td>2</td>\n",
              "      <td>2013-02-28 23:01:34</td>\n",
              "      <td>0 days 00:02:21</td>\n",
              "    </tr>\n",
              "    <tr>\n",
              "      <th>198265</th>\n",
              "      <td>1.000000</td>\n",
              "      <td>1362092593</td>\n",
              "      <td>100</td>\n",
              "      <td>u:bcH_</td>\n",
              "      <td>en</td>\n",
              "      <td>es</td>\n",
              "      <td>1e1f8d730c4ba99ad2873a7608324cf6</td>\n",
              "      <td>my/my&lt;det&gt;&lt;pos&gt;&lt;sp&gt;</td>\n",
              "      <td>4771</td>\n",
              "      <td>2902</td>\n",
              "      <td>1</td>\n",
              "      <td>1</td>\n",
              "      <td>2013-02-28 23:03:13</td>\n",
              "      <td>0 days 00:01:40</td>\n",
              "    </tr>\n",
              "    <tr>\n",
              "      <th>202449</th>\n",
              "      <td>1.000000</td>\n",
              "      <td>1362092801</td>\n",
              "      <td>208</td>\n",
              "      <td>u:bcH_</td>\n",
              "      <td>en</td>\n",
              "      <td>es</td>\n",
              "      <td>1e1f8d730c4ba99ad2873a7608324cf6</td>\n",
              "      <td>my/my&lt;det&gt;&lt;pos&gt;&lt;sp&gt;</td>\n",
              "      <td>4772</td>\n",
              "      <td>2903</td>\n",
              "      <td>1</td>\n",
              "      <td>1</td>\n",
              "      <td>2013-02-28 23:06:41</td>\n",
              "      <td>0 days 00:03:28</td>\n",
              "    </tr>\n",
              "    <tr>\n",
              "      <th>203745</th>\n",
              "      <td>1.000000</td>\n",
              "      <td>1362092866</td>\n",
              "      <td>65</td>\n",
              "      <td>u:bcH_</td>\n",
              "      <td>en</td>\n",
              "      <td>es</td>\n",
              "      <td>1e1f8d730c4ba99ad2873a7608324cf6</td>\n",
              "      <td>my/my&lt;det&gt;&lt;pos&gt;&lt;sp&gt;</td>\n",
              "      <td>4773</td>\n",
              "      <td>2904</td>\n",
              "      <td>1</td>\n",
              "      <td>1</td>\n",
              "      <td>2013-02-28 23:07:46</td>\n",
              "      <td>0 days 00:01:05</td>\n",
              "    </tr>\n",
              "    <tr>\n",
              "      <th>...</th>\n",
              "      <td>...</td>\n",
              "      <td>...</td>\n",
              "      <td>...</td>\n",
              "      <td>...</td>\n",
              "      <td>...</td>\n",
              "      <td>...</td>\n",
              "      <td>...</td>\n",
              "      <td>...</td>\n",
              "      <td>...</td>\n",
              "      <td>...</td>\n",
              "      <td>...</td>\n",
              "      <td>...</td>\n",
              "      <td>...</td>\n",
              "      <td>...</td>\n",
              "    </tr>\n",
              "    <tr>\n",
              "      <th>12500094</th>\n",
              "      <td>0.000000</td>\n",
              "      <td>1363065747</td>\n",
              "      <td>75</td>\n",
              "      <td>u:bcH_</td>\n",
              "      <td>en</td>\n",
              "      <td>es</td>\n",
              "      <td>1e1f8d730c4ba99ad2873a7608324cf6</td>\n",
              "      <td>my/my&lt;det&gt;&lt;pos&gt;&lt;sp&gt;</td>\n",
              "      <td>5577</td>\n",
              "      <td>3225</td>\n",
              "      <td>1</td>\n",
              "      <td>0</td>\n",
              "      <td>2013-03-12 05:22:27</td>\n",
              "      <td>0 days 00:01:15</td>\n",
              "    </tr>\n",
              "    <tr>\n",
              "      <th>12501031</th>\n",
              "      <td>0.600000</td>\n",
              "      <td>1363065850</td>\n",
              "      <td>103</td>\n",
              "      <td>u:bcH_</td>\n",
              "      <td>en</td>\n",
              "      <td>es</td>\n",
              "      <td>1e1f8d730c4ba99ad2873a7608324cf6</td>\n",
              "      <td>my/my&lt;det&gt;&lt;pos&gt;&lt;sp&gt;</td>\n",
              "      <td>5578</td>\n",
              "      <td>3225</td>\n",
              "      <td>5</td>\n",
              "      <td>3</td>\n",
              "      <td>2013-03-12 05:24:10</td>\n",
              "      <td>0 days 00:01:43</td>\n",
              "    </tr>\n",
              "    <tr>\n",
              "      <th>12502104</th>\n",
              "      <td>0.666667</td>\n",
              "      <td>1363065958</td>\n",
              "      <td>108</td>\n",
              "      <td>u:bcH_</td>\n",
              "      <td>en</td>\n",
              "      <td>es</td>\n",
              "      <td>1e1f8d730c4ba99ad2873a7608324cf6</td>\n",
              "      <td>my/my&lt;det&gt;&lt;pos&gt;&lt;sp&gt;</td>\n",
              "      <td>5583</td>\n",
              "      <td>3228</td>\n",
              "      <td>3</td>\n",
              "      <td>2</td>\n",
              "      <td>2013-03-12 05:25:58</td>\n",
              "      <td>0 days 00:01:48</td>\n",
              "    </tr>\n",
              "    <tr>\n",
              "      <th>12503021</th>\n",
              "      <td>0.000000</td>\n",
              "      <td>1363066057</td>\n",
              "      <td>100</td>\n",
              "      <td>u:bcH_</td>\n",
              "      <td>en</td>\n",
              "      <td>es</td>\n",
              "      <td>1e1f8d730c4ba99ad2873a7608324cf6</td>\n",
              "      <td>my/my&lt;det&gt;&lt;pos&gt;&lt;sp&gt;</td>\n",
              "      <td>5586</td>\n",
              "      <td>3230</td>\n",
              "      <td>3</td>\n",
              "      <td>0</td>\n",
              "      <td>2013-03-12 05:27:37</td>\n",
              "      <td>0 days 00:01:40</td>\n",
              "    </tr>\n",
              "    <tr>\n",
              "      <th>12504245</th>\n",
              "      <td>0.500000</td>\n",
              "      <td>1363066201</td>\n",
              "      <td>144</td>\n",
              "      <td>u:bcH_</td>\n",
              "      <td>en</td>\n",
              "      <td>es</td>\n",
              "      <td>1e1f8d730c4ba99ad2873a7608324cf6</td>\n",
              "      <td>my/my&lt;det&gt;&lt;pos&gt;&lt;sp&gt;</td>\n",
              "      <td>5589</td>\n",
              "      <td>3230</td>\n",
              "      <td>2</td>\n",
              "      <td>1</td>\n",
              "      <td>2013-03-12 05:30:01</td>\n",
              "      <td>0 days 00:02:24</td>\n",
              "    </tr>\n",
              "  </tbody>\n",
              "</table>\n",
              "<p>352 rows × 14 columns</p>\n",
              "</div>\n",
              "      <button class=\"colab-df-convert\" onclick=\"convertToInteractive('df-19ac555d-f62b-4a99-a196-0fb4c6bf7aee')\"\n",
              "              title=\"Convert this dataframe to an interactive table.\"\n",
              "              style=\"display:none;\">\n",
              "        \n",
              "  <svg xmlns=\"http://www.w3.org/2000/svg\" height=\"24px\"viewBox=\"0 0 24 24\"\n",
              "       width=\"24px\">\n",
              "    <path d=\"M0 0h24v24H0V0z\" fill=\"none\"/>\n",
              "    <path d=\"M18.56 5.44l.94 2.06.94-2.06 2.06-.94-2.06-.94-.94-2.06-.94 2.06-2.06.94zm-11 1L8.5 8.5l.94-2.06 2.06-.94-2.06-.94L8.5 2.5l-.94 2.06-2.06.94zm10 10l.94 2.06.94-2.06 2.06-.94-2.06-.94-.94-2.06-.94 2.06-2.06.94z\"/><path d=\"M17.41 7.96l-1.37-1.37c-.4-.4-.92-.59-1.43-.59-.52 0-1.04.2-1.43.59L10.3 9.45l-7.72 7.72c-.78.78-.78 2.05 0 2.83L4 21.41c.39.39.9.59 1.41.59.51 0 1.02-.2 1.41-.59l7.78-7.78 2.81-2.81c.8-.78.8-2.07 0-2.86zM5.41 20L4 18.59l7.72-7.72 1.47 1.35L5.41 20z\"/>\n",
              "  </svg>\n",
              "      </button>\n",
              "      \n",
              "  <style>\n",
              "    .colab-df-container {\n",
              "      display:flex;\n",
              "      flex-wrap:wrap;\n",
              "      gap: 12px;\n",
              "    }\n",
              "\n",
              "    .colab-df-convert {\n",
              "      background-color: #E8F0FE;\n",
              "      border: none;\n",
              "      border-radius: 50%;\n",
              "      cursor: pointer;\n",
              "      display: none;\n",
              "      fill: #1967D2;\n",
              "      height: 32px;\n",
              "      padding: 0 0 0 0;\n",
              "      width: 32px;\n",
              "    }\n",
              "\n",
              "    .colab-df-convert:hover {\n",
              "      background-color: #E2EBFA;\n",
              "      box-shadow: 0px 1px 2px rgba(60, 64, 67, 0.3), 0px 1px 3px 1px rgba(60, 64, 67, 0.15);\n",
              "      fill: #174EA6;\n",
              "    }\n",
              "\n",
              "    [theme=dark] .colab-df-convert {\n",
              "      background-color: #3B4455;\n",
              "      fill: #D2E3FC;\n",
              "    }\n",
              "\n",
              "    [theme=dark] .colab-df-convert:hover {\n",
              "      background-color: #434B5C;\n",
              "      box-shadow: 0px 1px 3px 1px rgba(0, 0, 0, 0.15);\n",
              "      filter: drop-shadow(0px 1px 2px rgba(0, 0, 0, 0.3));\n",
              "      fill: #FFFFFF;\n",
              "    }\n",
              "  </style>\n",
              "\n",
              "      <script>\n",
              "        const buttonEl =\n",
              "          document.querySelector('#df-19ac555d-f62b-4a99-a196-0fb4c6bf7aee button.colab-df-convert');\n",
              "        buttonEl.style.display =\n",
              "          google.colab.kernel.accessAllowed ? 'block' : 'none';\n",
              "\n",
              "        async function convertToInteractive(key) {\n",
              "          const element = document.querySelector('#df-19ac555d-f62b-4a99-a196-0fb4c6bf7aee');\n",
              "          const dataTable =\n",
              "            await google.colab.kernel.invokeFunction('convertToInteractive',\n",
              "                                                     [key], {});\n",
              "          if (!dataTable) return;\n",
              "\n",
              "          const docLinkHtml = 'Like what you see? Visit the ' +\n",
              "            '<a target=\"_blank\" href=https://colab.research.google.com/notebooks/data_table.ipynb>data table notebook</a>'\n",
              "            + ' to learn more about interactive tables.';\n",
              "          element.innerHTML = '';\n",
              "          dataTable['output_type'] = 'display_data';\n",
              "          await google.colab.output.renderOutput(dataTable, element);\n",
              "          const docLink = document.createElement('div');\n",
              "          docLink.innerHTML = docLinkHtml;\n",
              "          element.appendChild(docLink);\n",
              "        }\n",
              "      </script>\n",
              "    </div>\n",
              "  </div>\n",
              "  "
            ]
          },
          "metadata": {},
          "execution_count": 52
        }
      ]
    },
    {
      "cell_type": "markdown",
      "source": [
        "It looks like columns history seen, and history correct are computed as:\n",
        "previous history seen + prev record session seen = \n",
        "\n",
        "Are there any traces for users encountering a word for the first time ever? (in duolingo)"
      ],
      "metadata": {
        "id": "b-R0NuGNZ-E6"
      }
    },
    {
      "cell_type": "code",
      "source": [
        "datadf.loc[datadf['history_seen']==1]"
      ],
      "metadata": {
        "colab": {
          "base_uri": "https://localhost:8080/",
          "height": 835
        },
        "id": "b71GPQzRZ9hH",
        "outputId": "282ce1ce-4d78-4222-acf9-69c61d6a0819"
      },
      "execution_count": null,
      "outputs": [
        {
          "output_type": "execute_result",
          "data": {
            "text/plain": [
              "          p_recall   timestamp   delta user_id learning_language ui_language  \\\n",
              "18             0.0  1362082194    6032    u:FO                de          en   \n",
              "19             1.0  1362082194    6032    u:FO                de          en   \n",
              "53             1.0  1362082297    6135    u:FO                de          en   \n",
              "54             1.0  1362082297    6135    u:FO                de          en   \n",
              "56             0.0  1362082297    6135    u:FO                de          en   \n",
              "...            ...         ...     ...     ...               ...         ...   \n",
              "12854163       1.0  1363104894  441159  u:iWSo                it          en   \n",
              "12854164       1.0  1363104894  441159  u:iWSo                it          en   \n",
              "12854165       0.0  1363104894  441159  u:iWSo                it          en   \n",
              "12854166       1.0  1363104894  441856  u:iWSo                it          en   \n",
              "12854169       1.0  1363104890   90341  u:iZE_                de          en   \n",
              "\n",
              "                                 lexeme_id  \\\n",
              "18        4fcb6bb8e44d7b618999721071862827   \n",
              "19        a6834806c43ea1be9eb3e4fdae6f98db   \n",
              "53        dd34978165d17f7e729a2ef331a7600d   \n",
              "54        495f763ef6027e020c53431484aa5ede   \n",
              "56        46b112cd07fdcc98db8670a5d71c613d   \n",
              "...                                    ...   \n",
              "12854163  8444bc37386d7ed98cb791fd5b7ea401   \n",
              "12854164  de46e1de082bb5af5570e57755a21f9b   \n",
              "12854165  b708ce1bd3baae7ed88fee2d81cd7174   \n",
              "12854166  105e0792b33a6062b5e7b5e60e8fe36c   \n",
              "12854169  7a1fe30ca8c6b8927e775e87a17f990c   \n",
              "\n",
              "                                    lexeme_string  history_seen  \\\n",
              "18                mädchen/mädchen<n><nt><sg><nom>             1   \n",
              "19                     apfel/apfel<n><m><sg><nom>             1   \n",
              "53                     er/er<prn><p3><m><sg><nom>             1   \n",
              "54                 isst/essen<vblex><pri><p3><sg>             1   \n",
              "56                   sie/sie<prn><p3><f><sg><nom>             1   \n",
              "...                                           ...           ...   \n",
              "12854163   <*sf>/sapere<vblex><pri><*pers><*numb>             1   \n",
              "12854164  <*sf>/trovare<vblex><pri><*pers><*numb>             1   \n",
              "12854165   <*sf>/vedere<vblex><pri><*pers><*numb>             1   \n",
              "12854166   <*sf>/volere<vbmod><pri><*pers><*numb>             1   \n",
              "12854169                 wein/wein<n><m><sg><acc>             1   \n",
              "\n",
              "          history_correct  session_seen  session_correct            Datetime  \\\n",
              "18                      1             1                0 2013-02-28 20:09:54   \n",
              "19                      1             1                1 2013-02-28 20:09:54   \n",
              "53                      1             1                1 2013-02-28 20:11:37   \n",
              "54                      1             1                1 2013-02-28 20:11:37   \n",
              "56                      1             1                0 2013-02-28 20:11:37   \n",
              "...                   ...           ...              ...                 ...   \n",
              "12854163                1             1                1 2013-03-12 16:14:54   \n",
              "12854164                1             1                1 2013-03-12 16:14:54   \n",
              "12854165                1             1                0 2013-03-12 16:14:54   \n",
              "12854166                1             1                1 2013-03-12 16:14:54   \n",
              "12854169                1             1                1 2013-03-12 16:14:50   \n",
              "\n",
              "                delta_dt  \n",
              "18       0 days 01:40:32  \n",
              "19       0 days 01:40:32  \n",
              "53       0 days 01:42:15  \n",
              "54       0 days 01:42:15  \n",
              "56       0 days 01:42:15  \n",
              "...                  ...  \n",
              "12854163 5 days 02:32:39  \n",
              "12854164 5 days 02:32:39  \n",
              "12854165 5 days 02:32:39  \n",
              "12854166 5 days 02:44:16  \n",
              "12854169 1 days 01:05:41  \n",
              "\n",
              "[559900 rows x 14 columns]"
            ],
            "text/html": [
              "\n",
              "  <div id=\"df-ad9fb1f5-23c2-4a28-88f4-450ca5de1d9d\">\n",
              "    <div class=\"colab-df-container\">\n",
              "      <div>\n",
              "<style scoped>\n",
              "    .dataframe tbody tr th:only-of-type {\n",
              "        vertical-align: middle;\n",
              "    }\n",
              "\n",
              "    .dataframe tbody tr th {\n",
              "        vertical-align: top;\n",
              "    }\n",
              "\n",
              "    .dataframe thead th {\n",
              "        text-align: right;\n",
              "    }\n",
              "</style>\n",
              "<table border=\"1\" class=\"dataframe\">\n",
              "  <thead>\n",
              "    <tr style=\"text-align: right;\">\n",
              "      <th></th>\n",
              "      <th>p_recall</th>\n",
              "      <th>timestamp</th>\n",
              "      <th>delta</th>\n",
              "      <th>user_id</th>\n",
              "      <th>learning_language</th>\n",
              "      <th>ui_language</th>\n",
              "      <th>lexeme_id</th>\n",
              "      <th>lexeme_string</th>\n",
              "      <th>history_seen</th>\n",
              "      <th>history_correct</th>\n",
              "      <th>session_seen</th>\n",
              "      <th>session_correct</th>\n",
              "      <th>Datetime</th>\n",
              "      <th>delta_dt</th>\n",
              "    </tr>\n",
              "  </thead>\n",
              "  <tbody>\n",
              "    <tr>\n",
              "      <th>18</th>\n",
              "      <td>0.0</td>\n",
              "      <td>1362082194</td>\n",
              "      <td>6032</td>\n",
              "      <td>u:FO</td>\n",
              "      <td>de</td>\n",
              "      <td>en</td>\n",
              "      <td>4fcb6bb8e44d7b618999721071862827</td>\n",
              "      <td>mädchen/mädchen&lt;n&gt;&lt;nt&gt;&lt;sg&gt;&lt;nom&gt;</td>\n",
              "      <td>1</td>\n",
              "      <td>1</td>\n",
              "      <td>1</td>\n",
              "      <td>0</td>\n",
              "      <td>2013-02-28 20:09:54</td>\n",
              "      <td>0 days 01:40:32</td>\n",
              "    </tr>\n",
              "    <tr>\n",
              "      <th>19</th>\n",
              "      <td>1.0</td>\n",
              "      <td>1362082194</td>\n",
              "      <td>6032</td>\n",
              "      <td>u:FO</td>\n",
              "      <td>de</td>\n",
              "      <td>en</td>\n",
              "      <td>a6834806c43ea1be9eb3e4fdae6f98db</td>\n",
              "      <td>apfel/apfel&lt;n&gt;&lt;m&gt;&lt;sg&gt;&lt;nom&gt;</td>\n",
              "      <td>1</td>\n",
              "      <td>1</td>\n",
              "      <td>1</td>\n",
              "      <td>1</td>\n",
              "      <td>2013-02-28 20:09:54</td>\n",
              "      <td>0 days 01:40:32</td>\n",
              "    </tr>\n",
              "    <tr>\n",
              "      <th>53</th>\n",
              "      <td>1.0</td>\n",
              "      <td>1362082297</td>\n",
              "      <td>6135</td>\n",
              "      <td>u:FO</td>\n",
              "      <td>de</td>\n",
              "      <td>en</td>\n",
              "      <td>dd34978165d17f7e729a2ef331a7600d</td>\n",
              "      <td>er/er&lt;prn&gt;&lt;p3&gt;&lt;m&gt;&lt;sg&gt;&lt;nom&gt;</td>\n",
              "      <td>1</td>\n",
              "      <td>1</td>\n",
              "      <td>1</td>\n",
              "      <td>1</td>\n",
              "      <td>2013-02-28 20:11:37</td>\n",
              "      <td>0 days 01:42:15</td>\n",
              "    </tr>\n",
              "    <tr>\n",
              "      <th>54</th>\n",
              "      <td>1.0</td>\n",
              "      <td>1362082297</td>\n",
              "      <td>6135</td>\n",
              "      <td>u:FO</td>\n",
              "      <td>de</td>\n",
              "      <td>en</td>\n",
              "      <td>495f763ef6027e020c53431484aa5ede</td>\n",
              "      <td>isst/essen&lt;vblex&gt;&lt;pri&gt;&lt;p3&gt;&lt;sg&gt;</td>\n",
              "      <td>1</td>\n",
              "      <td>1</td>\n",
              "      <td>1</td>\n",
              "      <td>1</td>\n",
              "      <td>2013-02-28 20:11:37</td>\n",
              "      <td>0 days 01:42:15</td>\n",
              "    </tr>\n",
              "    <tr>\n",
              "      <th>56</th>\n",
              "      <td>0.0</td>\n",
              "      <td>1362082297</td>\n",
              "      <td>6135</td>\n",
              "      <td>u:FO</td>\n",
              "      <td>de</td>\n",
              "      <td>en</td>\n",
              "      <td>46b112cd07fdcc98db8670a5d71c613d</td>\n",
              "      <td>sie/sie&lt;prn&gt;&lt;p3&gt;&lt;f&gt;&lt;sg&gt;&lt;nom&gt;</td>\n",
              "      <td>1</td>\n",
              "      <td>1</td>\n",
              "      <td>1</td>\n",
              "      <td>0</td>\n",
              "      <td>2013-02-28 20:11:37</td>\n",
              "      <td>0 days 01:42:15</td>\n",
              "    </tr>\n",
              "    <tr>\n",
              "      <th>...</th>\n",
              "      <td>...</td>\n",
              "      <td>...</td>\n",
              "      <td>...</td>\n",
              "      <td>...</td>\n",
              "      <td>...</td>\n",
              "      <td>...</td>\n",
              "      <td>...</td>\n",
              "      <td>...</td>\n",
              "      <td>...</td>\n",
              "      <td>...</td>\n",
              "      <td>...</td>\n",
              "      <td>...</td>\n",
              "      <td>...</td>\n",
              "      <td>...</td>\n",
              "    </tr>\n",
              "    <tr>\n",
              "      <th>12854163</th>\n",
              "      <td>1.0</td>\n",
              "      <td>1363104894</td>\n",
              "      <td>441159</td>\n",
              "      <td>u:iWSo</td>\n",
              "      <td>it</td>\n",
              "      <td>en</td>\n",
              "      <td>8444bc37386d7ed98cb791fd5b7ea401</td>\n",
              "      <td>&lt;*sf&gt;/sapere&lt;vblex&gt;&lt;pri&gt;&lt;*pers&gt;&lt;*numb&gt;</td>\n",
              "      <td>1</td>\n",
              "      <td>1</td>\n",
              "      <td>1</td>\n",
              "      <td>1</td>\n",
              "      <td>2013-03-12 16:14:54</td>\n",
              "      <td>5 days 02:32:39</td>\n",
              "    </tr>\n",
              "    <tr>\n",
              "      <th>12854164</th>\n",
              "      <td>1.0</td>\n",
              "      <td>1363104894</td>\n",
              "      <td>441159</td>\n",
              "      <td>u:iWSo</td>\n",
              "      <td>it</td>\n",
              "      <td>en</td>\n",
              "      <td>de46e1de082bb5af5570e57755a21f9b</td>\n",
              "      <td>&lt;*sf&gt;/trovare&lt;vblex&gt;&lt;pri&gt;&lt;*pers&gt;&lt;*numb&gt;</td>\n",
              "      <td>1</td>\n",
              "      <td>1</td>\n",
              "      <td>1</td>\n",
              "      <td>1</td>\n",
              "      <td>2013-03-12 16:14:54</td>\n",
              "      <td>5 days 02:32:39</td>\n",
              "    </tr>\n",
              "    <tr>\n",
              "      <th>12854165</th>\n",
              "      <td>0.0</td>\n",
              "      <td>1363104894</td>\n",
              "      <td>441159</td>\n",
              "      <td>u:iWSo</td>\n",
              "      <td>it</td>\n",
              "      <td>en</td>\n",
              "      <td>b708ce1bd3baae7ed88fee2d81cd7174</td>\n",
              "      <td>&lt;*sf&gt;/vedere&lt;vblex&gt;&lt;pri&gt;&lt;*pers&gt;&lt;*numb&gt;</td>\n",
              "      <td>1</td>\n",
              "      <td>1</td>\n",
              "      <td>1</td>\n",
              "      <td>0</td>\n",
              "      <td>2013-03-12 16:14:54</td>\n",
              "      <td>5 days 02:32:39</td>\n",
              "    </tr>\n",
              "    <tr>\n",
              "      <th>12854166</th>\n",
              "      <td>1.0</td>\n",
              "      <td>1363104894</td>\n",
              "      <td>441856</td>\n",
              "      <td>u:iWSo</td>\n",
              "      <td>it</td>\n",
              "      <td>en</td>\n",
              "      <td>105e0792b33a6062b5e7b5e60e8fe36c</td>\n",
              "      <td>&lt;*sf&gt;/volere&lt;vbmod&gt;&lt;pri&gt;&lt;*pers&gt;&lt;*numb&gt;</td>\n",
              "      <td>1</td>\n",
              "      <td>1</td>\n",
              "      <td>1</td>\n",
              "      <td>1</td>\n",
              "      <td>2013-03-12 16:14:54</td>\n",
              "      <td>5 days 02:44:16</td>\n",
              "    </tr>\n",
              "    <tr>\n",
              "      <th>12854169</th>\n",
              "      <td>1.0</td>\n",
              "      <td>1363104890</td>\n",
              "      <td>90341</td>\n",
              "      <td>u:iZE_</td>\n",
              "      <td>de</td>\n",
              "      <td>en</td>\n",
              "      <td>7a1fe30ca8c6b8927e775e87a17f990c</td>\n",
              "      <td>wein/wein&lt;n&gt;&lt;m&gt;&lt;sg&gt;&lt;acc&gt;</td>\n",
              "      <td>1</td>\n",
              "      <td>1</td>\n",
              "      <td>1</td>\n",
              "      <td>1</td>\n",
              "      <td>2013-03-12 16:14:50</td>\n",
              "      <td>1 days 01:05:41</td>\n",
              "    </tr>\n",
              "  </tbody>\n",
              "</table>\n",
              "<p>559900 rows × 14 columns</p>\n",
              "</div>\n",
              "      <button class=\"colab-df-convert\" onclick=\"convertToInteractive('df-ad9fb1f5-23c2-4a28-88f4-450ca5de1d9d')\"\n",
              "              title=\"Convert this dataframe to an interactive table.\"\n",
              "              style=\"display:none;\">\n",
              "        \n",
              "  <svg xmlns=\"http://www.w3.org/2000/svg\" height=\"24px\"viewBox=\"0 0 24 24\"\n",
              "       width=\"24px\">\n",
              "    <path d=\"M0 0h24v24H0V0z\" fill=\"none\"/>\n",
              "    <path d=\"M18.56 5.44l.94 2.06.94-2.06 2.06-.94-2.06-.94-.94-2.06-.94 2.06-2.06.94zm-11 1L8.5 8.5l.94-2.06 2.06-.94-2.06-.94L8.5 2.5l-.94 2.06-2.06.94zm10 10l.94 2.06.94-2.06 2.06-.94-2.06-.94-.94-2.06-.94 2.06-2.06.94z\"/><path d=\"M17.41 7.96l-1.37-1.37c-.4-.4-.92-.59-1.43-.59-.52 0-1.04.2-1.43.59L10.3 9.45l-7.72 7.72c-.78.78-.78 2.05 0 2.83L4 21.41c.39.39.9.59 1.41.59.51 0 1.02-.2 1.41-.59l7.78-7.78 2.81-2.81c.8-.78.8-2.07 0-2.86zM5.41 20L4 18.59l7.72-7.72 1.47 1.35L5.41 20z\"/>\n",
              "  </svg>\n",
              "      </button>\n",
              "      \n",
              "  <style>\n",
              "    .colab-df-container {\n",
              "      display:flex;\n",
              "      flex-wrap:wrap;\n",
              "      gap: 12px;\n",
              "    }\n",
              "\n",
              "    .colab-df-convert {\n",
              "      background-color: #E8F0FE;\n",
              "      border: none;\n",
              "      border-radius: 50%;\n",
              "      cursor: pointer;\n",
              "      display: none;\n",
              "      fill: #1967D2;\n",
              "      height: 32px;\n",
              "      padding: 0 0 0 0;\n",
              "      width: 32px;\n",
              "    }\n",
              "\n",
              "    .colab-df-convert:hover {\n",
              "      background-color: #E2EBFA;\n",
              "      box-shadow: 0px 1px 2px rgba(60, 64, 67, 0.3), 0px 1px 3px 1px rgba(60, 64, 67, 0.15);\n",
              "      fill: #174EA6;\n",
              "    }\n",
              "\n",
              "    [theme=dark] .colab-df-convert {\n",
              "      background-color: #3B4455;\n",
              "      fill: #D2E3FC;\n",
              "    }\n",
              "\n",
              "    [theme=dark] .colab-df-convert:hover {\n",
              "      background-color: #434B5C;\n",
              "      box-shadow: 0px 1px 3px 1px rgba(0, 0, 0, 0.15);\n",
              "      filter: drop-shadow(0px 1px 2px rgba(0, 0, 0, 0.3));\n",
              "      fill: #FFFFFF;\n",
              "    }\n",
              "  </style>\n",
              "\n",
              "      <script>\n",
              "        const buttonEl =\n",
              "          document.querySelector('#df-ad9fb1f5-23c2-4a28-88f4-450ca5de1d9d button.colab-df-convert');\n",
              "        buttonEl.style.display =\n",
              "          google.colab.kernel.accessAllowed ? 'block' : 'none';\n",
              "\n",
              "        async function convertToInteractive(key) {\n",
              "          const element = document.querySelector('#df-ad9fb1f5-23c2-4a28-88f4-450ca5de1d9d');\n",
              "          const dataTable =\n",
              "            await google.colab.kernel.invokeFunction('convertToInteractive',\n",
              "                                                     [key], {});\n",
              "          if (!dataTable) return;\n",
              "\n",
              "          const docLinkHtml = 'Like what you see? Visit the ' +\n",
              "            '<a target=\"_blank\" href=https://colab.research.google.com/notebooks/data_table.ipynb>data table notebook</a>'\n",
              "            + ' to learn more about interactive tables.';\n",
              "          element.innerHTML = '';\n",
              "          dataTable['output_type'] = 'display_data';\n",
              "          await google.colab.output.renderOutput(dataTable, element);\n",
              "          const docLink = document.createElement('div');\n",
              "          docLink.innerHTML = docLinkHtml;\n",
              "          element.appendChild(docLink);\n",
              "        }\n",
              "      </script>\n",
              "    </div>\n",
              "  </div>\n",
              "  "
            ]
          },
          "metadata": {},
          "execution_count": 53
        }
      ]
    },
    {
      "cell_type": "markdown",
      "source": [
        "The minimum value history seen takes is 1. Not sure what that means. Will ask so-and-so. so there are no traces of the word being encountered for the first time? I guess you can use the delta to back calculate what the very first time was. "
      ],
      "metadata": {
        "id": "zBCIgvN5aLjz"
      }
    },
    {
      "cell_type": "code",
      "source": [
        "datadf.loc[(datadf['user_id']=='u:FO') & (datadf['lexeme_string']=='er/er<prn><p3><m><sg><nom>'),:]"
      ],
      "metadata": {
        "colab": {
          "base_uri": "https://localhost:8080/",
          "height": 245
        },
        "id": "4ggy-odjaK_o",
        "outputId": "8440d88f-473b-4181-effd-c7d333961624"
      },
      "execution_count": null,
      "outputs": [
        {
          "output_type": "execute_result",
          "data": {
            "text/plain": [
              "    p_recall   timestamp  delta user_id learning_language ui_language  \\\n",
              "53       1.0  1362082297   6135    u:FO                de          en   \n",
              "58       1.0  1362082362     65    u:FO                de          en   \n",
              "\n",
              "                           lexeme_id               lexeme_string  \\\n",
              "53  dd34978165d17f7e729a2ef331a7600d  er/er<prn><p3><m><sg><nom>   \n",
              "58  dd34978165d17f7e729a2ef331a7600d  er/er<prn><p3><m><sg><nom>   \n",
              "\n",
              "    history_seen  history_correct  session_seen  session_correct  \\\n",
              "53             1                1             1                1   \n",
              "58             2                2             1                1   \n",
              "\n",
              "              Datetime        delta_dt  \n",
              "53 2013-02-28 20:11:37 0 days 01:42:15  \n",
              "58 2013-02-28 20:12:42 0 days 00:01:05  "
            ],
            "text/html": [
              "\n",
              "  <div id=\"df-1b2b4151-38fa-4eb7-9a7b-b737268f9015\">\n",
              "    <div class=\"colab-df-container\">\n",
              "      <div>\n",
              "<style scoped>\n",
              "    .dataframe tbody tr th:only-of-type {\n",
              "        vertical-align: middle;\n",
              "    }\n",
              "\n",
              "    .dataframe tbody tr th {\n",
              "        vertical-align: top;\n",
              "    }\n",
              "\n",
              "    .dataframe thead th {\n",
              "        text-align: right;\n",
              "    }\n",
              "</style>\n",
              "<table border=\"1\" class=\"dataframe\">\n",
              "  <thead>\n",
              "    <tr style=\"text-align: right;\">\n",
              "      <th></th>\n",
              "      <th>p_recall</th>\n",
              "      <th>timestamp</th>\n",
              "      <th>delta</th>\n",
              "      <th>user_id</th>\n",
              "      <th>learning_language</th>\n",
              "      <th>ui_language</th>\n",
              "      <th>lexeme_id</th>\n",
              "      <th>lexeme_string</th>\n",
              "      <th>history_seen</th>\n",
              "      <th>history_correct</th>\n",
              "      <th>session_seen</th>\n",
              "      <th>session_correct</th>\n",
              "      <th>Datetime</th>\n",
              "      <th>delta_dt</th>\n",
              "    </tr>\n",
              "  </thead>\n",
              "  <tbody>\n",
              "    <tr>\n",
              "      <th>53</th>\n",
              "      <td>1.0</td>\n",
              "      <td>1362082297</td>\n",
              "      <td>6135</td>\n",
              "      <td>u:FO</td>\n",
              "      <td>de</td>\n",
              "      <td>en</td>\n",
              "      <td>dd34978165d17f7e729a2ef331a7600d</td>\n",
              "      <td>er/er&lt;prn&gt;&lt;p3&gt;&lt;m&gt;&lt;sg&gt;&lt;nom&gt;</td>\n",
              "      <td>1</td>\n",
              "      <td>1</td>\n",
              "      <td>1</td>\n",
              "      <td>1</td>\n",
              "      <td>2013-02-28 20:11:37</td>\n",
              "      <td>0 days 01:42:15</td>\n",
              "    </tr>\n",
              "    <tr>\n",
              "      <th>58</th>\n",
              "      <td>1.0</td>\n",
              "      <td>1362082362</td>\n",
              "      <td>65</td>\n",
              "      <td>u:FO</td>\n",
              "      <td>de</td>\n",
              "      <td>en</td>\n",
              "      <td>dd34978165d17f7e729a2ef331a7600d</td>\n",
              "      <td>er/er&lt;prn&gt;&lt;p3&gt;&lt;m&gt;&lt;sg&gt;&lt;nom&gt;</td>\n",
              "      <td>2</td>\n",
              "      <td>2</td>\n",
              "      <td>1</td>\n",
              "      <td>1</td>\n",
              "      <td>2013-02-28 20:12:42</td>\n",
              "      <td>0 days 00:01:05</td>\n",
              "    </tr>\n",
              "  </tbody>\n",
              "</table>\n",
              "</div>\n",
              "      <button class=\"colab-df-convert\" onclick=\"convertToInteractive('df-1b2b4151-38fa-4eb7-9a7b-b737268f9015')\"\n",
              "              title=\"Convert this dataframe to an interactive table.\"\n",
              "              style=\"display:none;\">\n",
              "        \n",
              "  <svg xmlns=\"http://www.w3.org/2000/svg\" height=\"24px\"viewBox=\"0 0 24 24\"\n",
              "       width=\"24px\">\n",
              "    <path d=\"M0 0h24v24H0V0z\" fill=\"none\"/>\n",
              "    <path d=\"M18.56 5.44l.94 2.06.94-2.06 2.06-.94-2.06-.94-.94-2.06-.94 2.06-2.06.94zm-11 1L8.5 8.5l.94-2.06 2.06-.94-2.06-.94L8.5 2.5l-.94 2.06-2.06.94zm10 10l.94 2.06.94-2.06 2.06-.94-2.06-.94-.94-2.06-.94 2.06-2.06.94z\"/><path d=\"M17.41 7.96l-1.37-1.37c-.4-.4-.92-.59-1.43-.59-.52 0-1.04.2-1.43.59L10.3 9.45l-7.72 7.72c-.78.78-.78 2.05 0 2.83L4 21.41c.39.39.9.59 1.41.59.51 0 1.02-.2 1.41-.59l7.78-7.78 2.81-2.81c.8-.78.8-2.07 0-2.86zM5.41 20L4 18.59l7.72-7.72 1.47 1.35L5.41 20z\"/>\n",
              "  </svg>\n",
              "      </button>\n",
              "      \n",
              "  <style>\n",
              "    .colab-df-container {\n",
              "      display:flex;\n",
              "      flex-wrap:wrap;\n",
              "      gap: 12px;\n",
              "    }\n",
              "\n",
              "    .colab-df-convert {\n",
              "      background-color: #E8F0FE;\n",
              "      border: none;\n",
              "      border-radius: 50%;\n",
              "      cursor: pointer;\n",
              "      display: none;\n",
              "      fill: #1967D2;\n",
              "      height: 32px;\n",
              "      padding: 0 0 0 0;\n",
              "      width: 32px;\n",
              "    }\n",
              "\n",
              "    .colab-df-convert:hover {\n",
              "      background-color: #E2EBFA;\n",
              "      box-shadow: 0px 1px 2px rgba(60, 64, 67, 0.3), 0px 1px 3px 1px rgba(60, 64, 67, 0.15);\n",
              "      fill: #174EA6;\n",
              "    }\n",
              "\n",
              "    [theme=dark] .colab-df-convert {\n",
              "      background-color: #3B4455;\n",
              "      fill: #D2E3FC;\n",
              "    }\n",
              "\n",
              "    [theme=dark] .colab-df-convert:hover {\n",
              "      background-color: #434B5C;\n",
              "      box-shadow: 0px 1px 3px 1px rgba(0, 0, 0, 0.15);\n",
              "      filter: drop-shadow(0px 1px 2px rgba(0, 0, 0, 0.3));\n",
              "      fill: #FFFFFF;\n",
              "    }\n",
              "  </style>\n",
              "\n",
              "      <script>\n",
              "        const buttonEl =\n",
              "          document.querySelector('#df-1b2b4151-38fa-4eb7-9a7b-b737268f9015 button.colab-df-convert');\n",
              "        buttonEl.style.display =\n",
              "          google.colab.kernel.accessAllowed ? 'block' : 'none';\n",
              "\n",
              "        async function convertToInteractive(key) {\n",
              "          const element = document.querySelector('#df-1b2b4151-38fa-4eb7-9a7b-b737268f9015');\n",
              "          const dataTable =\n",
              "            await google.colab.kernel.invokeFunction('convertToInteractive',\n",
              "                                                     [key], {});\n",
              "          if (!dataTable) return;\n",
              "\n",
              "          const docLinkHtml = 'Like what you see? Visit the ' +\n",
              "            '<a target=\"_blank\" href=https://colab.research.google.com/notebooks/data_table.ipynb>data table notebook</a>'\n",
              "            + ' to learn more about interactive tables.';\n",
              "          element.innerHTML = '';\n",
              "          dataTable['output_type'] = 'display_data';\n",
              "          await google.colab.output.renderOutput(dataTable, element);\n",
              "          const docLink = document.createElement('div');\n",
              "          docLink.innerHTML = docLinkHtml;\n",
              "          element.appendChild(docLink);\n",
              "        }\n",
              "      </script>\n",
              "    </div>\n",
              "  </div>\n",
              "  "
            ]
          },
          "metadata": {},
          "execution_count": 54
        }
      ]
    },
    {
      "cell_type": "markdown",
      "source": [
        "Can we parse out what words were encountered in a single \"session\"?\n",
        "basically group by user_id,and then within 15 minutes of each other?\n",
        "\n",
        "First let's do it by day, then by hour, then calculate as 'morning','afternoon','evening'/ or should we cluster the timestamps for a day, and do a dbscan? is that overkill?"
      ],
      "metadata": {
        "id": "hrG8bUqleu91"
      }
    },
    {
      "cell_type": "markdown",
      "source": [
        "How does average p_recall change with time since last encountering the word?"
      ],
      "metadata": {
        "id": "XXIiemY0SpQP"
      }
    },
    {
      "cell_type": "code",
      "source": [
        "datadf['cut_delta'] = pd.cut(datadf['delta'],10)\n",
        "datadf['cut_delta'].head()\n",
        "plt.figure()\n",
        "plt.plot(datadf.groupby('cut_delta')['p_recall'].mean(),'o-')\n",
        "plt.title('How delta affects average p_recall')\n",
        "plt.xlabel('delta dectile')\n",
        "plt.ylabel('p_recall')\n",
        "#sns.barplot(x = 'cut_delta',y = 'p_recall',data = datadf)"
      ],
      "metadata": {
        "colab": {
          "base_uri": "https://localhost:8080/",
          "height": 368
        },
        "id": "4ZIENHNIjxFV",
        "outputId": "ffb86c36-333f-495f-f0f1-e9123a590cd5"
      },
      "execution_count": null,
      "outputs": [
        {
          "output_type": "stream",
          "name": "stderr",
          "text": [
            "/usr/local/lib/python3.7/dist-packages/matplotlib/axes/_base.py:348: FutureWarning: Support for multi-dimensional indexing (e.g. `obj[:, None]`) is deprecated and will be removed in a future version.  Convert to a numpy array before indexing instead.\n",
            "  x = x[:, np.newaxis]\n"
          ]
        },
        {
          "output_type": "execute_result",
          "data": {
            "text/plain": [
              "Text(0, 0.5, 'p_recall')"
            ]
          },
          "metadata": {},
          "execution_count": 55
        },
        {
          "output_type": "display_data",
          "data": {
            "text/plain": [
              "<Figure size 432x288 with 1 Axes>"
            ],
            "image/png": "[encoded data removed]"
          },
          "metadata": {
            "needs_background": "light"
          }
        }
      ]
    },
    {
      "cell_type": "markdown",
      "source": [
        "How history_seen affects p_recall"
      ],
      "metadata": {
        "id": "G--Zsku6orhl"
      }
    },
    {
      "cell_type": "code",
      "source": [
        "plt.figure()\n",
        "plt.plot(datadf.groupby('history_correct')['p_recall'].mean(),'o')\n",
        "plt.title('How history correct affects average p_recall')\n",
        "plt.xlabel('history correct')\n",
        "plt.ylabel('p_recall')\n",
        "plt.xlim((0,2000))"
      ],
      "metadata": {
        "colab": {
          "base_uri": "https://localhost:8080/",
          "height": 313
        },
        "id": "znXxmt2wouFt",
        "outputId": "9ade1837-6271-4bc4-c8e1-925e5a30e0b6"
      },
      "execution_count": null,
      "outputs": [
        {
          "output_type": "execute_result",
          "data": {
            "text/plain": [
              "(0.0, 2000.0)"
            ]
          },
          "metadata": {},
          "execution_count": 15
        },
        {
          "output_type": "display_data",
          "data": {
            "text/plain": [
              "<Figure size 432x288 with 1 Axes>"
            ],
            "image/png": "[encoded data removed]"
          },
          "metadata": {
            "needs_background": "light"
          }
        }
      ]
    },
    {
      "cell_type": "code",
      "source": [
        "datadf[['delta','history_seen','p_recall']].corr()"
      ],
      "metadata": {
        "colab": {
          "base_uri": "https://localhost:8080/",
          "height": 143
        },
        "id": "_eqsjE7dp3cf",
        "outputId": "98188ee7-e981-4665-85ec-5c9fea3b44a0"
      },
      "execution_count": null,
      "outputs": [
        {
          "output_type": "execute_result",
          "data": {
            "text/plain": [
              "                 delta  history_seen  p_recall\n",
              "delta         1.000000     -0.030382 -0.030221\n",
              "history_seen -0.030382      1.000000 -0.022747\n",
              "p_recall     -0.030221     -0.022747  1.000000"
            ],
            "text/html": [
              "\n",
              "  <div id=\"df-2985ccc5-b276-4b82-9bf2-013bf7669c60\">\n",
              "    <div class=\"colab-df-container\">\n",
              "      <div>\n",
              "<style scoped>\n",
              "    .dataframe tbody tr th:only-of-type {\n",
              "        vertical-align: middle;\n",
              "    }\n",
              "\n",
              "    .dataframe tbody tr th {\n",
              "        vertical-align: top;\n",
              "    }\n",
              "\n",
              "    .dataframe thead th {\n",
              "        text-align: right;\n",
              "    }\n",
              "</style>\n",
              "<table border=\"1\" class=\"dataframe\">\n",
              "  <thead>\n",
              "    <tr style=\"text-align: right;\">\n",
              "      <th></th>\n",
              "      <th>delta</th>\n",
              "      <th>history_seen</th>\n",
              "      <th>p_recall</th>\n",
              "    </tr>\n",
              "  </thead>\n",
              "  <tbody>\n",
              "    <tr>\n",
              "      <th>delta</th>\n",
              "      <td>1.000000</td>\n",
              "      <td>-0.030382</td>\n",
              "      <td>-0.030221</td>\n",
              "    </tr>\n",
              "    <tr>\n",
              "      <th>history_seen</th>\n",
              "      <td>-0.030382</td>\n",
              "      <td>1.000000</td>\n",
              "      <td>-0.022747</td>\n",
              "    </tr>\n",
              "    <tr>\n",
              "      <th>p_recall</th>\n",
              "      <td>-0.030221</td>\n",
              "      <td>-0.022747</td>\n",
              "      <td>1.000000</td>\n",
              "    </tr>\n",
              "  </tbody>\n",
              "</table>\n",
              "</div>\n",
              "      <button class=\"colab-df-convert\" onclick=\"convertToInteractive('df-2985ccc5-b276-4b82-9bf2-013bf7669c60')\"\n",
              "              title=\"Convert this dataframe to an interactive table.\"\n",
              "              style=\"display:none;\">\n",
              "        \n",
              "  <svg xmlns=\"http://www.w3.org/2000/svg\" height=\"24px\"viewBox=\"0 0 24 24\"\n",
              "       width=\"24px\">\n",
              "    <path d=\"M0 0h24v24H0V0z\" fill=\"none\"/>\n",
              "    <path d=\"M18.56 5.44l.94 2.06.94-2.06 2.06-.94-2.06-.94-.94-2.06-.94 2.06-2.06.94zm-11 1L8.5 8.5l.94-2.06 2.06-.94-2.06-.94L8.5 2.5l-.94 2.06-2.06.94zm10 10l.94 2.06.94-2.06 2.06-.94-2.06-.94-.94-2.06-.94 2.06-2.06.94z\"/><path d=\"M17.41 7.96l-1.37-1.37c-.4-.4-.92-.59-1.43-.59-.52 0-1.04.2-1.43.59L10.3 9.45l-7.72 7.72c-.78.78-.78 2.05 0 2.83L4 21.41c.39.39.9.59 1.41.59.51 0 1.02-.2 1.41-.59l7.78-7.78 2.81-2.81c.8-.78.8-2.07 0-2.86zM5.41 20L4 18.59l7.72-7.72 1.47 1.35L5.41 20z\"/>\n",
              "  </svg>\n",
              "      </button>\n",
              "      \n",
              "  <style>\n",
              "    .colab-df-container {\n",
              "      display:flex;\n",
              "      flex-wrap:wrap;\n",
              "      gap: 12px;\n",
              "    }\n",
              "\n",
              "    .colab-df-convert {\n",
              "      background-color: #E8F0FE;\n",
              "      border: none;\n",
              "      border-radius: 50%;\n",
              "      cursor: pointer;\n",
              "      display: none;\n",
              "      fill: #1967D2;\n",
              "      height: 32px;\n",
              "      padding: 0 0 0 0;\n",
              "      width: 32px;\n",
              "    }\n",
              "\n",
              "    .colab-df-convert:hover {\n",
              "      background-color: #E2EBFA;\n",
              "      box-shadow: 0px 1px 2px rgba(60, 64, 67, 0.3), 0px 1px 3px 1px rgba(60, 64, 67, 0.15);\n",
              "      fill: #174EA6;\n",
              "    }\n",
              "\n",
              "    [theme=dark] .colab-df-convert {\n",
              "      background-color: #3B4455;\n",
              "      fill: #D2E3FC;\n",
              "    }\n",
              "\n",
              "    [theme=dark] .colab-df-convert:hover {\n",
              "      background-color: #434B5C;\n",
              "      box-shadow: 0px 1px 3px 1px rgba(0, 0, 0, 0.15);\n",
              "      filter: drop-shadow(0px 1px 2px rgba(0, 0, 0, 0.3));\n",
              "      fill: #FFFFFF;\n",
              "    }\n",
              "  </style>\n",
              "\n",
              "      <script>\n",
              "        const buttonEl =\n",
              "          document.querySelector('#df-2985ccc5-b276-4b82-9bf2-013bf7669c60 button.colab-df-convert');\n",
              "        buttonEl.style.display =\n",
              "          google.colab.kernel.accessAllowed ? 'block' : 'none';\n",
              "\n",
              "        async function convertToInteractive(key) {\n",
              "          const element = document.querySelector('#df-2985ccc5-b276-4b82-9bf2-013bf7669c60');\n",
              "          const dataTable =\n",
              "            await google.colab.kernel.invokeFunction('convertToInteractive',\n",
              "                                                     [key], {});\n",
              "          if (!dataTable) return;\n",
              "\n",
              "          const docLinkHtml = 'Like what you see? Visit the ' +\n",
              "            '<a target=\"_blank\" href=https://colab.research.google.com/notebooks/data_table.ipynb>data table notebook</a>'\n",
              "            + ' to learn more about interactive tables.';\n",
              "          element.innerHTML = '';\n",
              "          dataTable['output_type'] = 'display_data';\n",
              "          await google.colab.output.renderOutput(dataTable, element);\n",
              "          const docLink = document.createElement('div');\n",
              "          docLink.innerHTML = docLinkHtml;\n",
              "          element.appendChild(docLink);\n",
              "        }\n",
              "      </script>\n",
              "    </div>\n",
              "  </div>\n",
              "  "
            ]
          },
          "metadata": {},
          "execution_count": 57
        }
      ]
    },
    {
      "cell_type": "code",
      "source": [
        "# seaborn is a bad idea\n",
        "# sns.pairplot(datadf[['delta','history_seen','p_recall']])\n",
        "plt.plot(datadf['delta'],datadf['history_seen'],'.',alpha=0.25)"
      ],
      "metadata": {
        "colab": {
          "base_uri": "https://localhost:8080/",
          "height": 298
        },
        "id": "bjrSD_DiqJJX",
        "outputId": "4cc35b30-e52a-4670-df4a-5f1ca300e3ae"
      },
      "execution_count": null,
      "outputs": [
        {
          "output_type": "execute_result",
          "data": {
            "text/plain": [
              "[<matplotlib.lines.Line2D at 0x7f95ef313f90>]"
            ]
          },
          "metadata": {},
          "execution_count": 16
        },
        {
          "output_type": "display_data",
          "data": {
            "text/plain": [
              "<Figure size 432x288 with 1 Axes>"
            ],
            "image/png": "[encoded data removed]"
          },
          "metadata": {
            "needs_background": "light"
          }
        }
      ]
    },
    {
      "cell_type": "markdown",
      "source": [
        "Its possible this slope is less steep than anticipated, because you encounter only words you've learned well at longer deltas (if the SRS is following a Leitner-ish model)"
      ],
      "metadata": {
        "id": "purGvAS_Tw7b"
      }
    },
    {
      "cell_type": "markdown",
      "source": [
        "Let's see with what ease students who are native speakers learn a language. \n",
        "Let's look at average p_recall for groupings of students from each native to learning language"
      ],
      "metadata": {
        "id": "JIPC7TYfSvUj"
      }
    },
    {
      "cell_type": "code",
      "source": [
        "# create column for coupling native to learning language\n",
        "datadf['lang_tup'] = datadf.loc[:,['ui_language','learning_language']].apply(lambda x: (x[0],x[1]),axis=1)\n",
        "datadf['lang_tup'].head()"
      ],
      "metadata": {
        "colab": {
          "base_uri": "https://localhost:8080/"
        },
        "id": "PJxvqgctSu5N",
        "outputId": "815f6245-fb27-422c-db5f-5e1e51173bbf"
      },
      "execution_count": null,
      "outputs": [
        {
          "output_type": "execute_result",
          "data": {
            "text/plain": [
              "0    (en, de)\n",
              "1    (en, de)\n",
              "2    (en, de)\n",
              "3    (en, de)\n",
              "4    (en, de)\n",
              "Name: lang_tup, dtype: object"
            ]
          },
          "metadata": {},
          "execution_count": 59
        }
      ]
    },
    {
      "cell_type": "code",
      "source": [
        "datadf.groupby('lang_tup')['p_recall'].mean()"
      ],
      "metadata": {
        "colab": {
          "base_uri": "https://localhost:8080/"
        },
        "id": "68R6WWqwUDey",
        "outputId": "974b40b2-a2b1-47b1-e8bb-862b316dfee6"
      },
      "execution_count": null,
      "outputs": [
        {
          "output_type": "execute_result",
          "data": {
            "text/plain": [
              "lang_tup\n",
              "(en, de)    0.892786\n",
              "(en, es)    0.898489\n",
              "(en, fr)    0.882750\n",
              "(en, it)    0.908592\n",
              "(en, pt)    0.905512\n",
              "(es, en)    0.896289\n",
              "(it, en)    0.909596\n",
              "(pt, en)    0.898728\n",
              "Name: p_recall, dtype: float64"
            ]
          },
          "metadata": {},
          "execution_count": 60
        }
      ]
    },
    {
      "cell_type": "markdown",
      "source": [
        "It looks like there is very little difference among the different student groups in their recall (on average). "
      ],
      "metadata": {
        "id": "pOSaiM8jUQbJ"
      }
    },
    {
      "cell_type": "markdown",
      "source": [
        "Does time of day of learning matter? (There is no timezone information here, is there/ Italian students could be sitting anywhere in the world and leanring English. - So we cannot really figure this one out.) We could make some assumptions, but the calculations would be quite annoying to do. and also assumes timestamps from possibly multiple servers are the exact same. Let's stick with date as our most granular unit. "
      ],
      "metadata": {
        "id": "dXwwTJrJU19R"
      }
    },
    {
      "cell_type": "markdown",
      "source": [
        "Let's get the words per date for each user."
      ],
      "metadata": {
        "id": "aE8vsUxmWAv9"
      }
    },
    {
      "cell_type": "code",
      "source": [
        "datadf['Date'] = datadf['Datetime'].dt.date"
      ],
      "metadata": {
        "id": "J2VzEQdOV2wq",
        "colab": {
          "base_uri": "https://localhost:8080/",
          "height": 512
        },
        "outputId": "72cf6969-f220-4e20-a545-45e391558e60"
      },
      "execution_count": null,
      "outputs": [
        {
          "output_type": "error",
          "ename": "KeyError",
          "evalue": "ignored",
          "traceback": [
            "\u001b[0;31m---------------------------------------------------------------------------\u001b[0m",
            "\u001b[0;31mKeyError\u001b[0m                                  Traceback (most recent call last)",
            "\u001b[0;32m/usr/local/lib/python3.7/dist-packages/pandas/core/indexes/base.py\u001b[0m in \u001b[0;36mget_loc\u001b[0;34m(self, key, method, tolerance)\u001b[0m\n\u001b[1;32m   3360\u001b[0m             \u001b[0;32mtry\u001b[0m\u001b[0;34m:\u001b[0m\u001b[0;34m\u001b[0m\u001b[0;34m\u001b[0m\u001b[0m\n\u001b[0;32m-> 3361\u001b[0;31m                 \u001b[0;32mreturn\u001b[0m \u001b[0mself\u001b[0m\u001b[0;34m.\u001b[0m\u001b[0m_engine\u001b[0m\u001b[0;34m.\u001b[0m\u001b[0mget_loc\u001b[0m\u001b[0;34m(\u001b[0m\u001b[0mcasted_key\u001b[0m\u001b[0;34m)\u001b[0m\u001b[0;34m\u001b[0m\u001b[0;34m\u001b[0m\u001b[0m\n\u001b[0m\u001b[1;32m   3362\u001b[0m             \u001b[0;32mexcept\u001b[0m \u001b[0mKeyError\u001b[0m \u001b[0;32mas\u001b[0m \u001b[0merr\u001b[0m\u001b[0;34m:\u001b[0m\u001b[0;34m\u001b[0m\u001b[0;34m\u001b[0m\u001b[0m\n",
            "\u001b[0;32m/usr/local/lib/python3.7/dist-packages/pandas/_libs/index.pyx\u001b[0m in \u001b[0;36mpandas._libs.index.IndexEngine.get_loc\u001b[0;34m()\u001b[0m\n",
            "\u001b[0;32m/usr/local/lib/python3.7/dist-packages/pandas/_libs/index.pyx\u001b[0m in \u001b[0;36mpandas._libs.index.IndexEngine.get_loc\u001b[0;34m()\u001b[0m\n",
            "\u001b[0;32mpandas/_libs/hashtable_class_helper.pxi\u001b[0m in \u001b[0;36mpandas._libs.hashtable.PyObjectHashTable.get_item\u001b[0;34m()\u001b[0m\n",
            "\u001b[0;32mpandas/_libs/hashtable_class_helper.pxi\u001b[0m in \u001b[0;36mpandas._libs.hashtable.PyObjectHashTable.get_item\u001b[0;34m()\u001b[0m\n",
            "\u001b[0;31mKeyError\u001b[0m: 'Datetime'",
            "\nThe above exception was the direct cause of the following exception:\n",
            "\u001b[0;31mKeyError\u001b[0m                                  Traceback (most recent call last)",
            "\u001b[0;32m<ipython-input-17-39f504eb9d46>\u001b[0m in \u001b[0;36m<module>\u001b[0;34m()\u001b[0m\n\u001b[0;32m----> 1\u001b[0;31m \u001b[0mdatadf\u001b[0m\u001b[0;34m[\u001b[0m\u001b[0;34m'Date'\u001b[0m\u001b[0;34m]\u001b[0m \u001b[0;34m=\u001b[0m \u001b[0mdatadf\u001b[0m\u001b[0;34m[\u001b[0m\u001b[0;34m'Datetime'\u001b[0m\u001b[0;34m]\u001b[0m\u001b[0;34m.\u001b[0m\u001b[0mdt\u001b[0m\u001b[0;34m.\u001b[0m\u001b[0mdate\u001b[0m\u001b[0;34m\u001b[0m\u001b[0;34m\u001b[0m\u001b[0m\n\u001b[0m",
            "\u001b[0;32m/usr/local/lib/python3.7/dist-packages/pandas/core/frame.py\u001b[0m in \u001b[0;36m__getitem__\u001b[0;34m(self, key)\u001b[0m\n\u001b[1;32m   3456\u001b[0m             \u001b[0;32mif\u001b[0m \u001b[0mself\u001b[0m\u001b[0;34m.\u001b[0m\u001b[0mcolumns\u001b[0m\u001b[0;34m.\u001b[0m\u001b[0mnlevels\u001b[0m \u001b[0;34m>\u001b[0m \u001b[0;36m1\u001b[0m\u001b[0;34m:\u001b[0m\u001b[0;34m\u001b[0m\u001b[0;34m\u001b[0m\u001b[0m\n\u001b[1;32m   3457\u001b[0m                 \u001b[0;32mreturn\u001b[0m \u001b[0mself\u001b[0m\u001b[0;34m.\u001b[0m\u001b[0m_getitem_multilevel\u001b[0m\u001b[0;34m(\u001b[0m\u001b[0mkey\u001b[0m\u001b[0;34m)\u001b[0m\u001b[0;34m\u001b[0m\u001b[0;34m\u001b[0m\u001b[0m\n\u001b[0;32m-> 3458\u001b[0;31m             \u001b[0mindexer\u001b[0m \u001b[0;34m=\u001b[0m \u001b[0mself\u001b[0m\u001b[0;34m.\u001b[0m\u001b[0mcolumns\u001b[0m\u001b[0;34m.\u001b[0m\u001b[0mget_loc\u001b[0m\u001b[0;34m(\u001b[0m\u001b[0mkey\u001b[0m\u001b[0;34m)\u001b[0m\u001b[0;34m\u001b[0m\u001b[0;34m\u001b[0m\u001b[0m\n\u001b[0m\u001b[1;32m   3459\u001b[0m             \u001b[0;32mif\u001b[0m \u001b[0mis_integer\u001b[0m\u001b[0;34m(\u001b[0m\u001b[0mindexer\u001b[0m\u001b[0;34m)\u001b[0m\u001b[0;34m:\u001b[0m\u001b[0;34m\u001b[0m\u001b[0;34m\u001b[0m\u001b[0m\n\u001b[1;32m   3460\u001b[0m                 \u001b[0mindexer\u001b[0m \u001b[0;34m=\u001b[0m \u001b[0;34m[\u001b[0m\u001b[0mindexer\u001b[0m\u001b[0;34m]\u001b[0m\u001b[0;34m\u001b[0m\u001b[0;34m\u001b[0m\u001b[0m\n",
            "\u001b[0;32m/usr/local/lib/python3.7/dist-packages/pandas/core/indexes/base.py\u001b[0m in \u001b[0;36mget_loc\u001b[0;34m(self, key, method, tolerance)\u001b[0m\n\u001b[1;32m   3361\u001b[0m                 \u001b[0;32mreturn\u001b[0m \u001b[0mself\u001b[0m\u001b[0;34m.\u001b[0m\u001b[0m_engine\u001b[0m\u001b[0;34m.\u001b[0m\u001b[0mget_loc\u001b[0m\u001b[0;34m(\u001b[0m\u001b[0mcasted_key\u001b[0m\u001b[0;34m)\u001b[0m\u001b[0;34m\u001b[0m\u001b[0;34m\u001b[0m\u001b[0m\n\u001b[1;32m   3362\u001b[0m             \u001b[0;32mexcept\u001b[0m \u001b[0mKeyError\u001b[0m \u001b[0;32mas\u001b[0m \u001b[0merr\u001b[0m\u001b[0;34m:\u001b[0m\u001b[0;34m\u001b[0m\u001b[0;34m\u001b[0m\u001b[0m\n\u001b[0;32m-> 3363\u001b[0;31m                 \u001b[0;32mraise\u001b[0m \u001b[0mKeyError\u001b[0m\u001b[0;34m(\u001b[0m\u001b[0mkey\u001b[0m\u001b[0;34m)\u001b[0m \u001b[0;32mfrom\u001b[0m \u001b[0merr\u001b[0m\u001b[0;34m\u001b[0m\u001b[0;34m\u001b[0m\u001b[0m\n\u001b[0m\u001b[1;32m   3364\u001b[0m \u001b[0;34m\u001b[0m\u001b[0m\n\u001b[1;32m   3365\u001b[0m         \u001b[0;32mif\u001b[0m \u001b[0mis_scalar\u001b[0m\u001b[0;34m(\u001b[0m\u001b[0mkey\u001b[0m\u001b[0;34m)\u001b[0m \u001b[0;32mand\u001b[0m \u001b[0misna\u001b[0m\u001b[0;34m(\u001b[0m\u001b[0mkey\u001b[0m\u001b[0;34m)\u001b[0m \u001b[0;32mand\u001b[0m \u001b[0;32mnot\u001b[0m \u001b[0mself\u001b[0m\u001b[0;34m.\u001b[0m\u001b[0mhasnans\u001b[0m\u001b[0;34m:\u001b[0m\u001b[0;34m\u001b[0m\u001b[0;34m\u001b[0m\u001b[0m\n",
            "\u001b[0;31mKeyError\u001b[0m: 'Datetime'"
          ]
        }
      ]
    },
    {
      "cell_type": "code",
      "source": [
        "session_words = datadf.groupby(['user_id','Date'])['lexeme_string'].unique().reset_index()"
      ],
      "metadata": {
        "id": "3K3IyX1_Wojv"
      },
      "execution_count": null,
      "outputs": []
    },
    {
      "cell_type": "code",
      "source": [
        "session_words.head()"
      ],
      "metadata": {
        "colab": {
          "base_uri": "https://localhost:8080/",
          "height": 206
        },
        "id": "m9iR09YLWkB2",
        "outputId": "09bd52be-50c2-4425-d07b-bcb934469f15"
      },
      "execution_count": null,
      "outputs": [
        {
          "output_type": "execute_result",
          "data": {
            "text/plain": [
              "  user_id        Date                                      lexeme_string\n",
              "0   u:--N  2013-03-02  [dem/das<det><def><nt><sg><dat>, im/in<pr>, ma...\n",
              "1   u:--U  2013-03-11  [großes/groß<adj><pst><nt><sg><acc><mix>, klei...\n",
              "2   u:-3I  2013-03-05  [buvez/boire<vblex><pri><p2><pl>, mangeons/man...\n",
              "3   u:-3n  2013-03-07  [negra/negro<adj><f><sg>, nuevas/nuevo<adj><f>...\n",
              "4   u:-4V  2013-03-07  [kaffee/kaffee<n><m><sg><acc>, fisch/fisch<n><..."
            ],
            "text/html": [
              "\n",
              "  <div id=\"df-c1019d45-1b0f-4259-ba18-d9b5e6ae3e21\">\n",
              "    <div class=\"colab-df-container\">\n",
              "      <div>\n",
              "<style scoped>\n",
              "    .dataframe tbody tr th:only-of-type {\n",
              "        vertical-align: middle;\n",
              "    }\n",
              "\n",
              "    .dataframe tbody tr th {\n",
              "        vertical-align: top;\n",
              "    }\n",
              "\n",
              "    .dataframe thead th {\n",
              "        text-align: right;\n",
              "    }\n",
              "</style>\n",
              "<table border=\"1\" class=\"dataframe\">\n",
              "  <thead>\n",
              "    <tr style=\"text-align: right;\">\n",
              "      <th></th>\n",
              "      <th>user_id</th>\n",
              "      <th>Date</th>\n",
              "      <th>lexeme_string</th>\n",
              "    </tr>\n",
              "  </thead>\n",
              "  <tbody>\n",
              "    <tr>\n",
              "      <th>0</th>\n",
              "      <td>u:--N</td>\n",
              "      <td>2013-03-02</td>\n",
              "      <td>[dem/das&lt;det&gt;&lt;def&gt;&lt;nt&gt;&lt;sg&gt;&lt;dat&gt;, im/in&lt;pr&gt;, ma...</td>\n",
              "    </tr>\n",
              "    <tr>\n",
              "      <th>1</th>\n",
              "      <td>u:--U</td>\n",
              "      <td>2013-03-11</td>\n",
              "      <td>[großes/groß&lt;adj&gt;&lt;pst&gt;&lt;nt&gt;&lt;sg&gt;&lt;acc&gt;&lt;mix&gt;, klei...</td>\n",
              "    </tr>\n",
              "    <tr>\n",
              "      <th>2</th>\n",
              "      <td>u:-3I</td>\n",
              "      <td>2013-03-05</td>\n",
              "      <td>[buvez/boire&lt;vblex&gt;&lt;pri&gt;&lt;p2&gt;&lt;pl&gt;, mangeons/man...</td>\n",
              "    </tr>\n",
              "    <tr>\n",
              "      <th>3</th>\n",
              "      <td>u:-3n</td>\n",
              "      <td>2013-03-07</td>\n",
              "      <td>[negra/negro&lt;adj&gt;&lt;f&gt;&lt;sg&gt;, nuevas/nuevo&lt;adj&gt;&lt;f&gt;...</td>\n",
              "    </tr>\n",
              "    <tr>\n",
              "      <th>4</th>\n",
              "      <td>u:-4V</td>\n",
              "      <td>2013-03-07</td>\n",
              "      <td>[kaffee/kaffee&lt;n&gt;&lt;m&gt;&lt;sg&gt;&lt;acc&gt;, fisch/fisch&lt;n&gt;&lt;...</td>\n",
              "    </tr>\n",
              "  </tbody>\n",
              "</table>\n",
              "</div>\n",
              "      <button class=\"colab-df-convert\" onclick=\"convertToInteractive('df-c1019d45-1b0f-4259-ba18-d9b5e6ae3e21')\"\n",
              "              title=\"Convert this dataframe to an interactive table.\"\n",
              "              style=\"display:none;\">\n",
              "        \n",
              "  <svg xmlns=\"http://www.w3.org/2000/svg\" height=\"24px\"viewBox=\"0 0 24 24\"\n",
              "       width=\"24px\">\n",
              "    <path d=\"M0 0h24v24H0V0z\" fill=\"none\"/>\n",
              "    <path d=\"M18.56 5.44l.94 2.06.94-2.06 2.06-.94-2.06-.94-.94-2.06-.94 2.06-2.06.94zm-11 1L8.5 8.5l.94-2.06 2.06-.94-2.06-.94L8.5 2.5l-.94 2.06-2.06.94zm10 10l.94 2.06.94-2.06 2.06-.94-2.06-.94-.94-2.06-.94 2.06-2.06.94z\"/><path d=\"M17.41 7.96l-1.37-1.37c-.4-.4-.92-.59-1.43-.59-.52 0-1.04.2-1.43.59L10.3 9.45l-7.72 7.72c-.78.78-.78 2.05 0 2.83L4 21.41c.39.39.9.59 1.41.59.51 0 1.02-.2 1.41-.59l7.78-7.78 2.81-2.81c.8-.78.8-2.07 0-2.86zM5.41 20L4 18.59l7.72-7.72 1.47 1.35L5.41 20z\"/>\n",
              "  </svg>\n",
              "      </button>\n",
              "      \n",
              "  <style>\n",
              "    .colab-df-container {\n",
              "      display:flex;\n",
              "      flex-wrap:wrap;\n",
              "      gap: 12px;\n",
              "    }\n",
              "\n",
              "    .colab-df-convert {\n",
              "      background-color: #E8F0FE;\n",
              "      border: none;\n",
              "      border-radius: 50%;\n",
              "      cursor: pointer;\n",
              "      display: none;\n",
              "      fill: #1967D2;\n",
              "      height: 32px;\n",
              "      padding: 0 0 0 0;\n",
              "      width: 32px;\n",
              "    }\n",
              "\n",
              "    .colab-df-convert:hover {\n",
              "      background-color: #E2EBFA;\n",
              "      box-shadow: 0px 1px 2px rgba(60, 64, 67, 0.3), 0px 1px 3px 1px rgba(60, 64, 67, 0.15);\n",
              "      fill: #174EA6;\n",
              "    }\n",
              "\n",
              "    [theme=dark] .colab-df-convert {\n",
              "      background-color: #3B4455;\n",
              "      fill: #D2E3FC;\n",
              "    }\n",
              "\n",
              "    [theme=dark] .colab-df-convert:hover {\n",
              "      background-color: #434B5C;\n",
              "      box-shadow: 0px 1px 3px 1px rgba(0, 0, 0, 0.15);\n",
              "      filter: drop-shadow(0px 1px 2px rgba(0, 0, 0, 0.3));\n",
              "      fill: #FFFFFF;\n",
              "    }\n",
              "  </style>\n",
              "\n",
              "      <script>\n",
              "        const buttonEl =\n",
              "          document.querySelector('#df-c1019d45-1b0f-4259-ba18-d9b5e6ae3e21 button.colab-df-convert');\n",
              "        buttonEl.style.display =\n",
              "          google.colab.kernel.accessAllowed ? 'block' : 'none';\n",
              "\n",
              "        async function convertToInteractive(key) {\n",
              "          const element = document.querySelector('#df-c1019d45-1b0f-4259-ba18-d9b5e6ae3e21');\n",
              "          const dataTable =\n",
              "            await google.colab.kernel.invokeFunction('convertToInteractive',\n",
              "                                                     [key], {});\n",
              "          if (!dataTable) return;\n",
              "\n",
              "          const docLinkHtml = 'Like what you see? Visit the ' +\n",
              "            '<a target=\"_blank\" href=https://colab.research.google.com/notebooks/data_table.ipynb>data table notebook</a>'\n",
              "            + ' to learn more about interactive tables.';\n",
              "          element.innerHTML = '';\n",
              "          dataTable['output_type'] = 'display_data';\n",
              "          await google.colab.output.renderOutput(dataTable, element);\n",
              "          const docLink = document.createElement('div');\n",
              "          docLink.innerHTML = docLinkHtml;\n",
              "          element.appendChild(docLink);\n",
              "        }\n",
              "      </script>\n",
              "    </div>\n",
              "  </div>\n",
              "  "
            ]
          },
          "metadata": {},
          "execution_count": 63
        }
      ]
    },
    {
      "cell_type": "code",
      "source": [
        "num_sessions = session_words.groupby('user_id')['Date'].unique()"
      ],
      "metadata": {
        "id": "NMq-TqnmUPPs"
      },
      "execution_count": null,
      "outputs": []
    },
    {
      "cell_type": "code",
      "source": [
        "num_sessions = pd.DataFrame(num_sessions)\n",
        "num_sessions['num'] = num_sessions['Date'].apply(lambda x: len(x))"
      ],
      "metadata": {
        "id": "Ac19y6EcYzfS"
      },
      "execution_count": null,
      "outputs": []
    },
    {
      "cell_type": "code",
      "source": [
        "num_sessions.sort_values(by='num',ascending=False).head()"
      ],
      "metadata": {
        "colab": {
          "base_uri": "https://localhost:8080/",
          "height": 237
        },
        "id": "qzk48VDrZGIC",
        "outputId": "b4b12dfa-12f9-484d-aec3-e8d8d5850001"
      },
      "execution_count": null,
      "outputs": [
        {
          "output_type": "execute_result",
          "data": {
            "text/plain": [
              "                                                      Date  num\n",
              "user_id                                                        \n",
              "u:db7q   [2013-02-28, 2013-03-01, 2013-03-02, 2013-03-0...   13\n",
              "u:h82e   [2013-02-28, 2013-03-01, 2013-03-02, 2013-03-0...   13\n",
              "u:fzXO   [2013-02-28, 2013-03-01, 2013-03-02, 2013-03-0...   13\n",
              "u:bcH_   [2013-02-28, 2013-03-01, 2013-03-02, 2013-03-0...   13\n",
              "u:fP8x   [2013-02-28, 2013-03-01, 2013-03-02, 2013-03-0...   13"
            ],
            "text/html": [
              "\n",
              "  <div id=\"df-f98237fa-7fd4-4669-86c3-c064a844848f\">\n",
              "    <div class=\"colab-df-container\">\n",
              "      <div>\n",
              "<style scoped>\n",
              "    .dataframe tbody tr th:only-of-type {\n",
              "        vertical-align: middle;\n",
              "    }\n",
              "\n",
              "    .dataframe tbody tr th {\n",
              "        vertical-align: top;\n",
              "    }\n",
              "\n",
              "    .dataframe thead th {\n",
              "        text-align: right;\n",
              "    }\n",
              "</style>\n",
              "<table border=\"1\" class=\"dataframe\">\n",
              "  <thead>\n",
              "    <tr style=\"text-align: right;\">\n",
              "      <th></th>\n",
              "      <th>Date</th>\n",
              "      <th>num</th>\n",
              "    </tr>\n",
              "    <tr>\n",
              "      <th>user_id</th>\n",
              "      <th></th>\n",
              "      <th></th>\n",
              "    </tr>\n",
              "  </thead>\n",
              "  <tbody>\n",
              "    <tr>\n",
              "      <th>u:db7q</th>\n",
              "      <td>[2013-02-28, 2013-03-01, 2013-03-02, 2013-03-0...</td>\n",
              "      <td>13</td>\n",
              "    </tr>\n",
              "    <tr>\n",
              "      <th>u:h82e</th>\n",
              "      <td>[2013-02-28, 2013-03-01, 2013-03-02, 2013-03-0...</td>\n",
              "      <td>13</td>\n",
              "    </tr>\n",
              "    <tr>\n",
              "      <th>u:fzXO</th>\n",
              "      <td>[2013-02-28, 2013-03-01, 2013-03-02, 2013-03-0...</td>\n",
              "      <td>13</td>\n",
              "    </tr>\n",
              "    <tr>\n",
              "      <th>u:bcH_</th>\n",
              "      <td>[2013-02-28, 2013-03-01, 2013-03-02, 2013-03-0...</td>\n",
              "      <td>13</td>\n",
              "    </tr>\n",
              "    <tr>\n",
              "      <th>u:fP8x</th>\n",
              "      <td>[2013-02-28, 2013-03-01, 2013-03-02, 2013-03-0...</td>\n",
              "      <td>13</td>\n",
              "    </tr>\n",
              "  </tbody>\n",
              "</table>\n",
              "</div>\n",
              "      <button class=\"colab-df-convert\" onclick=\"convertToInteractive('df-f98237fa-7fd4-4669-86c3-c064a844848f')\"\n",
              "              title=\"Convert this dataframe to an interactive table.\"\n",
              "              style=\"display:none;\">\n",
              "        \n",
              "  <svg xmlns=\"http://www.w3.org/2000/svg\" height=\"24px\"viewBox=\"0 0 24 24\"\n",
              "       width=\"24px\">\n",
              "    <path d=\"M0 0h24v24H0V0z\" fill=\"none\"/>\n",
              "    <path d=\"M18.56 5.44l.94 2.06.94-2.06 2.06-.94-2.06-.94-.94-2.06-.94 2.06-2.06.94zm-11 1L8.5 8.5l.94-2.06 2.06-.94-2.06-.94L8.5 2.5l-.94 2.06-2.06.94zm10 10l.94 2.06.94-2.06 2.06-.94-2.06-.94-.94-2.06-.94 2.06-2.06.94z\"/><path d=\"M17.41 7.96l-1.37-1.37c-.4-.4-.92-.59-1.43-.59-.52 0-1.04.2-1.43.59L10.3 9.45l-7.72 7.72c-.78.78-.78 2.05 0 2.83L4 21.41c.39.39.9.59 1.41.59.51 0 1.02-.2 1.41-.59l7.78-7.78 2.81-2.81c.8-.78.8-2.07 0-2.86zM5.41 20L4 18.59l7.72-7.72 1.47 1.35L5.41 20z\"/>\n",
              "  </svg>\n",
              "      </button>\n",
              "      \n",
              "  <style>\n",
              "    .colab-df-container {\n",
              "      display:flex;\n",
              "      flex-wrap:wrap;\n",
              "      gap: 12px;\n",
              "    }\n",
              "\n",
              "    .colab-df-convert {\n",
              "      background-color: #E8F0FE;\n",
              "      border: none;\n",
              "      border-radius: 50%;\n",
              "      cursor: pointer;\n",
              "      display: none;\n",
              "      fill: #1967D2;\n",
              "      height: 32px;\n",
              "      padding: 0 0 0 0;\n",
              "      width: 32px;\n",
              "    }\n",
              "\n",
              "    .colab-df-convert:hover {\n",
              "      background-color: #E2EBFA;\n",
              "      box-shadow: 0px 1px 2px rgba(60, 64, 67, 0.3), 0px 1px 3px 1px rgba(60, 64, 67, 0.15);\n",
              "      fill: #174EA6;\n",
              "    }\n",
              "\n",
              "    [theme=dark] .colab-df-convert {\n",
              "      background-color: #3B4455;\n",
              "      fill: #D2E3FC;\n",
              "    }\n",
              "\n",
              "    [theme=dark] .colab-df-convert:hover {\n",
              "      background-color: #434B5C;\n",
              "      box-shadow: 0px 1px 3px 1px rgba(0, 0, 0, 0.15);\n",
              "      filter: drop-shadow(0px 1px 2px rgba(0, 0, 0, 0.3));\n",
              "      fill: #FFFFFF;\n",
              "    }\n",
              "  </style>\n",
              "\n",
              "      <script>\n",
              "        const buttonEl =\n",
              "          document.querySelector('#df-f98237fa-7fd4-4669-86c3-c064a844848f button.colab-df-convert');\n",
              "        buttonEl.style.display =\n",
              "          google.colab.kernel.accessAllowed ? 'block' : 'none';\n",
              "\n",
              "        async function convertToInteractive(key) {\n",
              "          const element = document.querySelector('#df-f98237fa-7fd4-4669-86c3-c064a844848f');\n",
              "          const dataTable =\n",
              "            await google.colab.kernel.invokeFunction('convertToInteractive',\n",
              "                                                     [key], {});\n",
              "          if (!dataTable) return;\n",
              "\n",
              "          const docLinkHtml = 'Like what you see? Visit the ' +\n",
              "            '<a target=\"_blank\" href=https://colab.research.google.com/notebooks/data_table.ipynb>data table notebook</a>'\n",
              "            + ' to learn more about interactive tables.';\n",
              "          element.innerHTML = '';\n",
              "          dataTable['output_type'] = 'display_data';\n",
              "          await google.colab.output.renderOutput(dataTable, element);\n",
              "          const docLink = document.createElement('div');\n",
              "          docLink.innerHTML = docLinkHtml;\n",
              "          element.appendChild(docLink);\n",
              "        }\n",
              "      </script>\n",
              "    </div>\n",
              "  </div>\n",
              "  "
            ]
          },
          "metadata": {},
          "execution_count": 66
        }
      ]
    },
    {
      "cell_type": "code",
      "source": [
        ""
      ],
      "metadata": {
        "id": "6IIEW_BRGXMp"
      },
      "execution_count": null,
      "outputs": []
    },
    {
      "cell_type": "code",
      "source": [
        "#how would we divide train and test data for time series? how would we cross validate?\n"
      ],
      "metadata": {
        "id": "wP1UEJhygRlw"
      },
      "execution_count": null,
      "outputs": []
    },
    {
      "cell_type": "markdown",
      "source": [
        "Let's look at how p_recall changes in real time for some traces."
      ],
      "metadata": {
        "id": "jc_WApG0hIU9"
      }
    },
    {
      "cell_type": "code",
      "source": [
        "trace = datadf.loc[(datadf['user_id']=='u:bcH_')&\\\n",
        "           (datadf['lexeme_string']=='my/my<det><pos><sp>'),:].\\\n",
        "           sort_values(by='Datetime',ascending=True)\n",
        "trace.head()"
      ],
      "metadata": {
        "colab": {
          "base_uri": "https://localhost:8080/",
          "height": 444
        },
        "id": "s5VDip9dgqTq",
        "outputId": "bcc5caa5-e977-40f3-eebd-085710376421"
      },
      "execution_count": null,
      "outputs": [
        {
          "output_type": "execute_result",
          "data": {
            "text/plain": [
              "        p_recall   timestamp  delta user_id learning_language ui_language  \\\n",
              "193836  0.333333  1362092353  61015  u:bcH_                en          es   \n",
              "196490  1.000000  1362092494    141  u:bcH_                en          es   \n",
              "198265  1.000000  1362092593    100  u:bcH_                en          es   \n",
              "202449  1.000000  1362092801    208  u:bcH_                en          es   \n",
              "203745  1.000000  1362092866     65  u:bcH_                en          es   \n",
              "\n",
              "                               lexeme_id        lexeme_string  history_seen  \\\n",
              "193836  1e1f8d730c4ba99ad2873a7608324cf6  my/my<det><pos><sp>          4766   \n",
              "196490  1e1f8d730c4ba99ad2873a7608324cf6  my/my<det><pos><sp>          4769   \n",
              "198265  1e1f8d730c4ba99ad2873a7608324cf6  my/my<det><pos><sp>          4771   \n",
              "202449  1e1f8d730c4ba99ad2873a7608324cf6  my/my<det><pos><sp>          4772   \n",
              "203745  1e1f8d730c4ba99ad2873a7608324cf6  my/my<det><pos><sp>          4773   \n",
              "\n",
              "        history_correct  session_seen  session_correct            Datetime  \\\n",
              "193836             2899             3                1 2013-02-28 22:59:13   \n",
              "196490             2900             2                2 2013-02-28 23:01:34   \n",
              "198265             2902             1                1 2013-02-28 23:03:13   \n",
              "202449             2903             1                1 2013-02-28 23:06:41   \n",
              "203745             2904             1                1 2013-02-28 23:07:46   \n",
              "\n",
              "              delta_dt                cut_delta  lang_tup        Date  \n",
              "193836 0 days 16:56:55  (-40327.361, 4032837.1]  (es, en)  2013-02-28  \n",
              "196490 0 days 00:02:21  (-40327.361, 4032837.1]  (es, en)  2013-02-28  \n",
              "198265 0 days 00:01:40  (-40327.361, 4032837.1]  (es, en)  2013-02-28  \n",
              "202449 0 days 00:03:28  (-40327.361, 4032837.1]  (es, en)  2013-02-28  \n",
              "203745 0 days 00:01:05  (-40327.361, 4032837.1]  (es, en)  2013-02-28  "
            ],
            "text/html": [
              "\n",
              "  <div id=\"df-0f3050ff-aa92-4da3-9bfb-6e727e6637d0\">\n",
              "    <div class=\"colab-df-container\">\n",
              "      <div>\n",
              "<style scoped>\n",
              "    .dataframe tbody tr th:only-of-type {\n",
              "        vertical-align: middle;\n",
              "    }\n",
              "\n",
              "    .dataframe tbody tr th {\n",
              "        vertical-align: top;\n",
              "    }\n",
              "\n",
              "    .dataframe thead th {\n",
              "        text-align: right;\n",
              "    }\n",
              "</style>\n",
              "<table border=\"1\" class=\"dataframe\">\n",
              "  <thead>\n",
              "    <tr style=\"text-align: right;\">\n",
              "      <th></th>\n",
              "      <th>p_recall</th>\n",
              "      <th>timestamp</th>\n",
              "      <th>delta</th>\n",
              "      <th>user_id</th>\n",
              "      <th>learning_language</th>\n",
              "      <th>ui_language</th>\n",
              "      <th>lexeme_id</th>\n",
              "      <th>lexeme_string</th>\n",
              "      <th>history_seen</th>\n",
              "      <th>history_correct</th>\n",
              "      <th>session_seen</th>\n",
              "      <th>session_correct</th>\n",
              "      <th>Datetime</th>\n",
              "      <th>delta_dt</th>\n",
              "      <th>cut_delta</th>\n",
              "      <th>lang_tup</th>\n",
              "      <th>Date</th>\n",
              "    </tr>\n",
              "  </thead>\n",
              "  <tbody>\n",
              "    <tr>\n",
              "      <th>193836</th>\n",
              "      <td>0.333333</td>\n",
              "      <td>1362092353</td>\n",
              "      <td>61015</td>\n",
              "      <td>u:bcH_</td>\n",
              "      <td>en</td>\n",
              "      <td>es</td>\n",
              "      <td>1e1f8d730c4ba99ad2873a7608324cf6</td>\n",
              "      <td>my/my&lt;det&gt;&lt;pos&gt;&lt;sp&gt;</td>\n",
              "      <td>4766</td>\n",
              "      <td>2899</td>\n",
              "      <td>3</td>\n",
              "      <td>1</td>\n",
              "      <td>2013-02-28 22:59:13</td>\n",
              "      <td>0 days 16:56:55</td>\n",
              "      <td>(-40327.361, 4032837.1]</td>\n",
              "      <td>(es, en)</td>\n",
              "      <td>2013-02-28</td>\n",
              "    </tr>\n",
              "    <tr>\n",
              "      <th>196490</th>\n",
              "      <td>1.000000</td>\n",
              "      <td>1362092494</td>\n",
              "      <td>141</td>\n",
              "      <td>u:bcH_</td>\n",
              "      <td>en</td>\n",
              "      <td>es</td>\n",
              "      <td>1e1f8d730c4ba99ad2873a7608324cf6</td>\n",
              "      <td>my/my&lt;det&gt;&lt;pos&gt;&lt;sp&gt;</td>\n",
              "      <td>4769</td>\n",
              "      <td>2900</td>\n",
              "      <td>2</td>\n",
              "      <td>2</td>\n",
              "      <td>2013-02-28 23:01:34</td>\n",
              "      <td>0 days 00:02:21</td>\n",
              "      <td>(-40327.361, 4032837.1]</td>\n",
              "      <td>(es, en)</td>\n",
              "      <td>2013-02-28</td>\n",
              "    </tr>\n",
              "    <tr>\n",
              "      <th>198265</th>\n",
              "      <td>1.000000</td>\n",
              "      <td>1362092593</td>\n",
              "      <td>100</td>\n",
              "      <td>u:bcH_</td>\n",
              "      <td>en</td>\n",
              "      <td>es</td>\n",
              "      <td>1e1f8d730c4ba99ad2873a7608324cf6</td>\n",
              "      <td>my/my&lt;det&gt;&lt;pos&gt;&lt;sp&gt;</td>\n",
              "      <td>4771</td>\n",
              "      <td>2902</td>\n",
              "      <td>1</td>\n",
              "      <td>1</td>\n",
              "      <td>2013-02-28 23:03:13</td>\n",
              "      <td>0 days 00:01:40</td>\n",
              "      <td>(-40327.361, 4032837.1]</td>\n",
              "      <td>(es, en)</td>\n",
              "      <td>2013-02-28</td>\n",
              "    </tr>\n",
              "    <tr>\n",
              "      <th>202449</th>\n",
              "      <td>1.000000</td>\n",
              "      <td>1362092801</td>\n",
              "      <td>208</td>\n",
              "      <td>u:bcH_</td>\n",
              "      <td>en</td>\n",
              "      <td>es</td>\n",
              "      <td>1e1f8d730c4ba99ad2873a7608324cf6</td>\n",
              "      <td>my/my&lt;det&gt;&lt;pos&gt;&lt;sp&gt;</td>\n",
              "      <td>4772</td>\n",
              "      <td>2903</td>\n",
              "      <td>1</td>\n",
              "      <td>1</td>\n",
              "      <td>2013-02-28 23:06:41</td>\n",
              "      <td>0 days 00:03:28</td>\n",
              "      <td>(-40327.361, 4032837.1]</td>\n",
              "      <td>(es, en)</td>\n",
              "      <td>2013-02-28</td>\n",
              "    </tr>\n",
              "    <tr>\n",
              "      <th>203745</th>\n",
              "      <td>1.000000</td>\n",
              "      <td>1362092866</td>\n",
              "      <td>65</td>\n",
              "      <td>u:bcH_</td>\n",
              "      <td>en</td>\n",
              "      <td>es</td>\n",
              "      <td>1e1f8d730c4ba99ad2873a7608324cf6</td>\n",
              "      <td>my/my&lt;det&gt;&lt;pos&gt;&lt;sp&gt;</td>\n",
              "      <td>4773</td>\n",
              "      <td>2904</td>\n",
              "      <td>1</td>\n",
              "      <td>1</td>\n",
              "      <td>2013-02-28 23:07:46</td>\n",
              "      <td>0 days 00:01:05</td>\n",
              "      <td>(-40327.361, 4032837.1]</td>\n",
              "      <td>(es, en)</td>\n",
              "      <td>2013-02-28</td>\n",
              "    </tr>\n",
              "  </tbody>\n",
              "</table>\n",
              "</div>\n",
              "      <button class=\"colab-df-convert\" onclick=\"convertToInteractive('df-0f3050ff-aa92-4da3-9bfb-6e727e6637d0')\"\n",
              "              title=\"Convert this dataframe to an interactive table.\"\n",
              "              style=\"display:none;\">\n",
              "        \n",
              "  <svg xmlns=\"http://www.w3.org/2000/svg\" height=\"24px\"viewBox=\"0 0 24 24\"\n",
              "       width=\"24px\">\n",
              "    <path d=\"M0 0h24v24H0V0z\" fill=\"none\"/>\n",
              "    <path d=\"M18.56 5.44l.94 2.06.94-2.06 2.06-.94-2.06-.94-.94-2.06-.94 2.06-2.06.94zm-11 1L8.5 8.5l.94-2.06 2.06-.94-2.06-.94L8.5 2.5l-.94 2.06-2.06.94zm10 10l.94 2.06.94-2.06 2.06-.94-2.06-.94-.94-2.06-.94 2.06-2.06.94z\"/><path d=\"M17.41 7.96l-1.37-1.37c-.4-.4-.92-.59-1.43-.59-.52 0-1.04.2-1.43.59L10.3 9.45l-7.72 7.72c-.78.78-.78 2.05 0 2.83L4 21.41c.39.39.9.59 1.41.59.51 0 1.02-.2 1.41-.59l7.78-7.78 2.81-2.81c.8-.78.8-2.07 0-2.86zM5.41 20L4 18.59l7.72-7.72 1.47 1.35L5.41 20z\"/>\n",
              "  </svg>\n",
              "      </button>\n",
              "      \n",
              "  <style>\n",
              "    .colab-df-container {\n",
              "      display:flex;\n",
              "      flex-wrap:wrap;\n",
              "      gap: 12px;\n",
              "    }\n",
              "\n",
              "    .colab-df-convert {\n",
              "      background-color: #E8F0FE;\n",
              "      border: none;\n",
              "      border-radius: 50%;\n",
              "      cursor: pointer;\n",
              "      display: none;\n",
              "      fill: #1967D2;\n",
              "      height: 32px;\n",
              "      padding: 0 0 0 0;\n",
              "      width: 32px;\n",
              "    }\n",
              "\n",
              "    .colab-df-convert:hover {\n",
              "      background-color: #E2EBFA;\n",
              "      box-shadow: 0px 1px 2px rgba(60, 64, 67, 0.3), 0px 1px 3px 1px rgba(60, 64, 67, 0.15);\n",
              "      fill: #174EA6;\n",
              "    }\n",
              "\n",
              "    [theme=dark] .colab-df-convert {\n",
              "      background-color: #3B4455;\n",
              "      fill: #D2E3FC;\n",
              "    }\n",
              "\n",
              "    [theme=dark] .colab-df-convert:hover {\n",
              "      background-color: #434B5C;\n",
              "      box-shadow: 0px 1px 3px 1px rgba(0, 0, 0, 0.15);\n",
              "      filter: drop-shadow(0px 1px 2px rgba(0, 0, 0, 0.3));\n",
              "      fill: #FFFFFF;\n",
              "    }\n",
              "  </style>\n",
              "\n",
              "      <script>\n",
              "        const buttonEl =\n",
              "          document.querySelector('#df-0f3050ff-aa92-4da3-9bfb-6e727e6637d0 button.colab-df-convert');\n",
              "        buttonEl.style.display =\n",
              "          google.colab.kernel.accessAllowed ? 'block' : 'none';\n",
              "\n",
              "        async function convertToInteractive(key) {\n",
              "          const element = document.querySelector('#df-0f3050ff-aa92-4da3-9bfb-6e727e6637d0');\n",
              "          const dataTable =\n",
              "            await google.colab.kernel.invokeFunction('convertToInteractive',\n",
              "                                                     [key], {});\n",
              "          if (!dataTable) return;\n",
              "\n",
              "          const docLinkHtml = 'Like what you see? Visit the ' +\n",
              "            '<a target=\"_blank\" href=https://colab.research.google.com/notebooks/data_table.ipynb>data table notebook</a>'\n",
              "            + ' to learn more about interactive tables.';\n",
              "          element.innerHTML = '';\n",
              "          dataTable['output_type'] = 'display_data';\n",
              "          await google.colab.output.renderOutput(dataTable, element);\n",
              "          const docLink = document.createElement('div');\n",
              "          docLink.innerHTML = docLinkHtml;\n",
              "          element.appendChild(docLink);\n",
              "        }\n",
              "      </script>\n",
              "    </div>\n",
              "  </div>\n",
              "  "
            ]
          },
          "metadata": {},
          "execution_count": 68
        }
      ]
    },
    {
      "cell_type": "code",
      "source": [
        "plt.plot(trace['Datetime'],trace['p_recall'],'o',alpha=0.25)"
      ],
      "metadata": {
        "colab": {
          "base_uri": "https://localhost:8080/",
          "height": 283
        },
        "id": "CoF0Xb7-hjM7",
        "outputId": "2fe97935-a51e-47e1-8101-c20ac0a699a6"
      },
      "execution_count": null,
      "outputs": [
        {
          "output_type": "execute_result",
          "data": {
            "text/plain": [
              "[<matplotlib.lines.Line2D at 0x7f9b8c38d5d0>]"
            ]
          },
          "metadata": {},
          "execution_count": 69
        },
        {
          "output_type": "display_data",
          "data": {
            "text/plain": [
              "<Figure size 432x288 with 1 Axes>"
            ],
            "image/png": "[encoded data removed]"
          },
          "metadata": {
            "needs_background": "light"
          }
        }
      ]
    },
    {
      "cell_type": "markdown",
      "source": [
        "There are multiple p_values for each date for the same word and same user. we should look at the first p-recall for each day. as well as the average over the day"
      ],
      "metadata": {
        "id": "--F_vLygh3-q"
      }
    },
    {
      "cell_type": "code",
      "source": [
        "trace_first = trace.groupby('Date')['p_recall'].first()\n",
        "plt.plot(trace_first,'o-')\n",
        "plt.xticks(trace_first.index,rotation = 90)\n",
        "plt.ylabel('First p_recall of the day')\n",
        "plt.xlabel('Date')\n",
        "plt.title(\"Trace for u:bcH_, my/my<det><pos><sp>\")\n",
        "plt.show()"
      ],
      "metadata": {
        "colab": {
          "base_uri": "https://localhost:8080/",
          "height": 343
        },
        "id": "B1IgoXhSh-7S",
        "outputId": "ddd7aa5c-dc41-4cd9-aa55-f32ef8d1d495"
      },
      "execution_count": null,
      "outputs": [
        {
          "output_type": "display_data",
          "data": {
            "text/plain": [
              "<Figure size 432x288 with 1 Axes>"
            ],
            "image/png": "[encoded data removed]"
          },
          "metadata": {
            "needs_background": "light"
          }
        }
      ]
    },
    {
      "cell_type": "code",
      "source": [
        "trace_mean = trace.groupby('Date')['p_recall'].mean()\n",
        "plt.plot(trace_mean,'o-')\n",
        "plt.xticks(trace_first.index,rotation = 90)\n",
        "plt.ylabel('Average p_recall of the day')\n",
        "plt.xlabel('Date')\n",
        "plt.title(\"Trace for u:bcH_, my/my<det><pos><sp>\")\n",
        "plt.show()"
      ],
      "metadata": {
        "colab": {
          "base_uri": "https://localhost:8080/",
          "height": 343
        },
        "id": "k3ge4iYzipev",
        "outputId": "46fa8fef-982e-44bc-eb72-43c54ba81304"
      },
      "execution_count": null,
      "outputs": [
        {
          "output_type": "display_data",
          "data": {
            "text/plain": [
              "<Figure size 432x288 with 1 Axes>"
            ],
            "image/png": "[encoded data removed]"
          },
          "metadata": {
            "needs_background": "light"
          }
        }
      ]
    },
    {
      "cell_type": "markdown",
      "source": [
        "Can we look at all the traces for one student grouping for one word? Do we care about exact deltas or do we need only day differences?"
      ],
      "metadata": {
        "id": "E4EVf4qPkFrB"
      }
    },
    {
      "cell_type": "code",
      "source": [
        "#lang_tup = ('en','sp')\n",
        "lexeme_string = \"my/my<det><pos><sp>\"\n",
        "\n",
        "user_id_list = datadf.loc[(datadf['lexeme_string']==lexeme_string) , 'user_id'].unique()\n",
        "\n",
        "plt.figure()\n",
        "\n",
        "num_students = 1\n",
        "\n",
        "for user_id in user_id_list:\n",
        "  trace = datadf.loc[(datadf['user_id']==user_id)&\\\n",
        "           (datadf['lexeme_string']==lexeme_string),:].\\\n",
        "           sort_values(by='Datetime',ascending=True)\n",
        "  if trace.shape[0]>1:\n",
        "    trace_first = trace.groupby('Date')['p_recall'].first()\n",
        "    plt.plot(trace_first,'.-',label = user_id)\n",
        "    plt.xticks(rotation = 90)\n",
        "    num_students += 1\n",
        "  if num_students > 10:\n",
        "    break\n",
        "plt.legend()\n",
        "plt.show()"
      ],
      "metadata": {
        "colab": {
          "base_uri": "https://localhost:8080/",
          "height": 313
        },
        "id": "XC3cxyg9kBf5",
        "outputId": "13be683d-afc0-419d-c4e6-282192b6ea9a"
      },
      "execution_count": null,
      "outputs": [
        {
          "output_type": "display_data",
          "data": {
            "text/plain": [
              "<Figure size 432x288 with 1 Axes>"
            ],
            "image/png": "[encoded data removed]"
          },
          "metadata": {
            "needs_background": "light"
          }
        }
      ]
    },
    {
      "cell_type": "code",
      "source": [
        "traces = pd.DataFrame(traces)\n",
        "traces = traces.reset_index()\n",
        "traces.head()"
      ],
      "metadata": {
        "colab": {
          "base_uri": "https://localhost:8080/",
          "height": 203
        },
        "id": "P5cuPaJMlSR-",
        "outputId": "775ae411-1f7b-410a-edea-585fc0ff9450"
      },
      "execution_count": null,
      "outputs": [
        {
          "output_type": "error",
          "ename": "NameError",
          "evalue": "ignored",
          "traceback": [
            "\u001b[0;31m---------------------------------------------------------------------------\u001b[0m",
            "\u001b[0;31mNameError\u001b[0m                                 Traceback (most recent call last)",
            "\u001b[0;32m<ipython-input-73-d662c61b68fc>\u001b[0m in \u001b[0;36m<module>\u001b[0;34m()\u001b[0m\n\u001b[0;32m----> 1\u001b[0;31m \u001b[0mtraces\u001b[0m \u001b[0;34m=\u001b[0m \u001b[0mpd\u001b[0m\u001b[0;34m.\u001b[0m\u001b[0mDataFrame\u001b[0m\u001b[0;34m(\u001b[0m\u001b[0mtraces\u001b[0m\u001b[0;34m)\u001b[0m\u001b[0;34m\u001b[0m\u001b[0;34m\u001b[0m\u001b[0m\n\u001b[0m\u001b[1;32m      2\u001b[0m \u001b[0mtraces\u001b[0m \u001b[0;34m=\u001b[0m \u001b[0mtraces\u001b[0m\u001b[0;34m.\u001b[0m\u001b[0mreset_index\u001b[0m\u001b[0;34m(\u001b[0m\u001b[0;34m)\u001b[0m\u001b[0;34m\u001b[0m\u001b[0;34m\u001b[0m\u001b[0m\n\u001b[1;32m      3\u001b[0m \u001b[0mtraces\u001b[0m\u001b[0;34m.\u001b[0m\u001b[0mhead\u001b[0m\u001b[0;34m(\u001b[0m\u001b[0;34m)\u001b[0m\u001b[0;34m\u001b[0m\u001b[0;34m\u001b[0m\u001b[0m\n",
            "\u001b[0;31mNameError\u001b[0m: name 'traces' is not defined"
          ]
        }
      ]
    },
    {
      "cell_type": "code",
      "source": [
        "# Sessions previously seen and answered correctly tallies with the previous row's values. \n",
        "\n",
        "# with what confidence can we predict the proportion of times a student will recall the \n",
        "# correct answer for a given word, and time for a trace that already exists?\n",
        "\n",
        "# can we predict what the p_recall would be for a time trace that does not exist, given 3 or 4 rows of previous? \n",
        "# would these have to be consecutive?\n",
        "\n",
        "# should we use more than just the previous session as features?\n",
        "\n",
        "# might overpracticing lead to disengagement? - how to define disengagement?\n",
        "# might underpracticint lead to overwhelm?\n",
        "\n",
        "# could we predict based on language learning, ui language, performance on other words, what would the performance on a new word look like?\n",
        "# at different times? as in would they find that word hard or easy?\n",
        "\n",
        "# can we predict when student should encounter word again to maximize retention?\n",
        "\n",
        "# what are the state of the art approaches?\n",
        "\n",
        "# can we cluster similar students by background? \n",
        "\n",
        "# can we see something like - if they have an easy time with this word, they also havw an easy time with this other word?\n",
        "## can we see if TFIDF and common roots with a word encountered before matters?\n",
        "# might the word vector matter? \n",
        "# might time or day of week matter. would need time zone information\n",
        "# might priming impact things - as in encountering two words in the same session again has a helping effect?\n",
        "# encountering late or early in a session?\n",
        "# what is different about engaged vs not engaged students - when does it drop off\n",
        "\n",
        "# does performance impact engagement, and return rates?\n"
      ],
      "metadata": {
        "id": "rR5Q_LYuwt1t"
      },
      "execution_count": null,
      "outputs": []
    },
    {
      "cell_type": "code",
      "source": [
        "# how many of these traces look at the first time a word is encountered?\n",
        "\n",
        "# should what language you are native at change how the duolingo lesson works?\n",
        "\n",
        "# can you recommend words for the next session based on current performance?"
      ],
      "metadata": {
        "id": "5qT4MenSNvHX"
      },
      "execution_count": null,
      "outputs": []
    },
    {
      "cell_type": "code",
      "source": [
        "# lets set up a simple linear regression model\n",
        "# with just delta, history_seen, history_correct as a fraction, and try fitting it . let's see what happens. \n",
        "X = datadf[['delta','history_seen','history_correct','session_seen']]\n",
        "X['history_correct'] = X['history_correct']/X['history_seen']\n",
        "X.head()"
      ],
      "metadata": {
        "id": "-G0DNVCgtFta"
      },
      "execution_count": null,
      "outputs": []
    },
    {
      "cell_type": "code",
      "source": [
        "y = datadf['p_recall']"
      ],
      "metadata": {
        "id": "XzDpPwb5tqAF"
      },
      "execution_count": null,
      "outputs": []
    },
    {
      "cell_type": "code",
      "source": [
        "import numpy as np\n",
        "from scipy import stats\n",
        "from scipy.stats import norm #used for plotting\n",
        "import statsmodels.api as sm"
      ],
      "metadata": {
        "id": "bddziP2Attem"
      },
      "execution_count": null,
      "outputs": []
    },
    {
      "cell_type": "code",
      "source": [
        "def colinearity_check(X,threshold_abs_corr= 0.25):\n",
        "    \"\"\"\n",
        "    To check if there is colinearity in parameters before modeling:\n",
        "    1. Computes correlation matrix for parameters, and displays as a heatmap.\n",
        "    2. Displays correlation coefficients in order of strength\n",
        "    3. Plots the strongest positive and negative correlations\n",
        "    =========================================================\n",
        "    Requires libraries:\n",
        "    seasborn as sns\n",
        "    matplotlib.pyplot as plt\n",
        "    pandas as pd\n",
        "    =============================================================\n",
        "    Arguments: \n",
        "    X: pandas dataframe of parameters\n",
        "    threshold_abs_corr: the minimum absolute value of correlation \n",
        "                        coefficient, above which it is considered \n",
        "                        a strong correlation, default value: 0.25\n",
        "    =============================================================\n",
        "    Returns:\n",
        "    None\n",
        "    \"\"\"\n",
        "    \n",
        "    corr_matrix = X.corr()\n",
        "    scale = X.shape[1]*0.9\n",
        "    plt.figure(figsize=(scale,scale))\n",
        "    plt.title(\"Correlation matrix of parameters\")\n",
        "    sns.heatmap(corr_matrix, vmin=-1, vmax =1, center = 0, mask = np.triu(corr_matrix),cmap = \"coolwarm\",annot=True)\n",
        "    plt.show()\n",
        "    \n",
        "    # order correlations by strength.\n",
        "    # get correlation matrix as stacked dataframe\n",
        "    corr_matrix = corr_matrix.stack().reset_index()\n",
        "    corr_matrix.columns = ['Param1','Param2','CorrCoef']\n",
        "    \n",
        "    # drop correlations of parameters with themselves\n",
        "    corr_matrix = corr_matrix.drop(corr_matrix[corr_matrix['Param1']==corr_matrix['Param2']].index)\n",
        "\n",
        "    # drop duplicates (param1,param2) or (param2,param1)\n",
        "    corr_matrix['coupled'] = corr_matrix[['Param1','Param2']].apply(lambda x: frozenset([x[0],x[1]]),axis=1)\n",
        "    corr_matrix = corr_matrix.drop_duplicates(subset='coupled')\n",
        "    corr_matrix = corr_matrix.drop('coupled',axis=1)\n",
        "    \n",
        "    # get strongest correlations above a threshold. \n",
        "    corr_matrix['AbsCorrCoef'] = abs(corr_matrix['CorrCoef'])\n",
        "    strong_corr = corr_matrix.loc[corr_matrix['AbsCorrCoef']>=threshold_abs_corr,:]\n",
        "    #strong_subset = set(corr_matrix['Param1']).union(set(corr_matrix['Param2']))\n",
        "    totalplot_num = strong_corr.shape[0]\n",
        "    if totalplot_num%3==0:\n",
        "        fig_rows = totalplot_num/3\n",
        "    else:\n",
        "        fig_rows = int(totalplot_num/3)+1\n",
        "    \n",
        "    strong_corr = strong_corr.sort_values(by = 'AbsCorrCoef',ascending=False)\n",
        "    # Generate plots for strong correlations\n",
        "    display(HTML(\"Pair plots\"))\n",
        "    print(f\"(|Correlation coefficient| > {threshold_abs_corr})\")\n",
        "    plt.subplots(int(fig_rows),3,figsize=(15,fig_rows*4.5))\n",
        "    plot_num = 1\n",
        "    for i,row in strong_corr.iterrows():\n",
        "        \n",
        "        plt.subplot(int(fig_rows),3, plot_num)\n",
        "\n",
        "        plt.title(row['Param2']+' vs '+row['Param1']+', Corr='+str(np.round(row['CorrCoef'],2)))\n",
        "        plt.xlabel(row['Param1'])\n",
        "        plt.ylabel(row['Param2'])\n",
        "        if X[row['Param1']].dtype==int or X[row['Param1']].dtype==bool: # check if column is discrete numeric\n",
        "            if row['Param1'] in ['Year','Week','Month']: # if time, plot a line plot\n",
        "                sns.lineplot(x = row['Param1'], y= row['Param2'],data=X)\n",
        "            else:\n",
        "                sns.boxplot(x = row['Param1'],y= row['Param2'],data=X) # if discrete numeric, plot a boxplot\n",
        "        else:\n",
        "            plt.plot(X[row['Param1']],X[row['Param2']],'o',alpha = 0.05) # if continuous numeric, plot a scatter plot\n",
        "        plot_num +=1\n",
        "\n",
        "    plt.tight_layout()\n",
        "    plt.show()\n",
        "\n",
        "def run_OLS_model(X,y):\n",
        "  \"\"\"\n",
        "  Runs an ordinary least square model for a given X and y\n",
        "\n",
        "  Warning: does not check for data compatibility exhaustively\n",
        "  =====================================================\n",
        "  Requires libraries:\n",
        "  pandas as pd\n",
        "  stats.scipy as stats\n",
        "  statsmodels.api as sm\n",
        "  =====================================================\n",
        "  Arguments:\n",
        "  X: the predictor variables (not including constant), matrix of numeric variables\n",
        "  y: target variable, vector of numeric variable\n",
        "  =====================================================\n",
        "  Returns:\n",
        "  myreg1_results: statsmodels OLS model regression results wrapper object (object returned by OLS model fit method)\n",
        "  \"\"\"\n",
        "  assert X.shape[0]==y.shape[0], \"Dimensions for X and y do not match, rows should be same\"\n",
        "  # adding constant to X\n",
        "  X_withc = sm.add_constant(X)\n",
        "\n",
        "  # 1. Instantiate Model\n",
        "  myreg1 = sm.OLS(y, X_withc)\n",
        "\n",
        "  # 2. Fit Model (this returns a seperate object with the parameters)\n",
        "  myreg1_results = myreg1.fit()\n",
        "\n",
        "  # Display at the summary\n",
        "  myreg1_results.summary()\n",
        "  return myreg1_results    \n",
        "    \n",
        "\n",
        "def evaluate_LR_model(mylogreg_results,X):\n",
        "    \"\"\"\n",
        "    Compute the accuracy of a logistic regression model\n",
        "    Return the accuracy at 0.5,\n",
        "    Plot accuracy as a function of boundary condition\n",
        "    Return best accuracy and its corresponding boundary condition\n",
        "    ==============================================\n",
        "    Required libraries:\n",
        "    matplotlib.pyplot as plt\n",
        "    pandas as pd\n",
        "    stats.scipy as stats\n",
        "    statsmodels.api as sm\n",
        "    ===============================================\n",
        "    Arguments:\n",
        "    mylogreg_results: statsmodels logistic regression fit object\n",
        "    X : the parameter dataset\n",
        "    ===============================================\n",
        "    Returns:\n",
        "    accuracy: Accuracy at boundary condition 0.5\n",
        "    max_accuracy : max accuracy obtained\n",
        "    best_bc : boundary condition corresponding to maximum accuracy\n",
        "    \"\"\"\n",
        "    \n",
        "    # get probabilities (y_predicted)\n",
        "    probs = mylogreg_results.predict(sm.add_constant(X))\n",
        "    \n",
        "    # compute accuracy for a range of boundary conditions, save to dict\n",
        "    bc_list = np.arange(0.1,1,step=0.1)\n",
        "    predictions = dict()\n",
        "    accuracy = dict()\n",
        "    total_preds = len(probs)\n",
        "    accuracy = dict()\n",
        "    for bc in bc_list:\n",
        "        predictions[bc] = np.where(probs > bc,1,0)\n",
        "        accuracy[bc] = (y==predictions[bc]).sum()/total_preds*100\n",
        "    \n",
        "    # plot line plot of accuracy vs boundary condition\n",
        "    plt.figure()\n",
        "    plt.title(\"Accuracy vs boundary condition\")\n",
        "    plt.plot(accuracy.keys(),accuracy.values())\n",
        "    plt.show()\n",
        "\n",
        "    # get max accuracy achieved, and the corresponding boundary condition\n",
        "    max_accuracy = max(list(accuracy.values()))\n",
        "    for key in accuracy:\n",
        "        if accuracy[key] == max_accuracy:\n",
        "            best_bc = key\n",
        "            break\n",
        "\n",
        "    # print results and return\n",
        "    print(f\"Accuracy at boundary_condition=0.5 = {accuracy[0.5]}%\")\n",
        "    print(f\"Highest accuracy is at boundary_condition={best_bc} = {max_accuracy}%\")\n",
        "    \n",
        "    return accuracy[0.5],max_accuracy, best_bc\n",
        "\n",
        "\n",
        "def OLS_residual_analysis(myreg_results):\n",
        "  \"\"\" \n",
        "  Takes in an OLS model and does the following residual analyses for model evaluation:\n",
        "  1. Shapiro Wilk Test for normality\n",
        "  2. Histogram of residuals - checking for normality\n",
        "  3. Q-Q plot of residual distribution\n",
        "  4. Residuals vs fitted values scatter plot\n",
        "  ===============================================================================\n",
        "  Arguments:\n",
        "  myreg_results: statsmodels OLS model regression results wrapper object (object returned by OLS model fit method)\n",
        "  ===============================================================================\n",
        "  Returns:\n",
        "  none.(plots are displayed from within function)\n",
        "  ===============================================================================\n",
        "  Requires libraries:\n",
        "  import matplotlib.pyplot as plt\n",
        "  import pandas as pd\n",
        "  import numpy as np\n",
        "  import scipy.stats as stats\n",
        "  \"\"\"\n",
        "  print()\n",
        "  print(\"============================================\")\n",
        "  print(\"Residual Analysis of OLS model: \")\n",
        "  print(\"Testing the assumption that model residuals are normally disitributed:\")\n",
        "  print(\"1. Shapiro-Wilk Test for Normality\")\n",
        "  print(\"Null Hypothesis H0 : The residuals are normally distributed\")\n",
        "  print(\"Alternate Hypothesis Ha: The residuals are not normally distributed\")\n",
        "  print()\n",
        "  print(\"Shapiro-Wilk Test Results:\")\n",
        "\n",
        "  # calculating the shapiro test statisic and its p-value\n",
        "  SWteststat, SWpvalue = stats.shapiro(myreg_results.resid)\n",
        "  print(f\"Test statistic: {SWteststat}\")\n",
        "  print(f\"p-value: {SWpvalue}\")\n",
        "  if SWpvalue < 0.05:\n",
        "    print(\"Since the p-value is less than 0.05, there is a statistically significant chance of the residuals not being normally distributed.\")\n",
        "  else:\n",
        "    print(\"Since the p-value is more than 0.05, we do not reject the null hypothesis that the residuals are normally distributed.\")\n",
        "  print()\n",
        "  print(\"============================================\")\n",
        "  print()\n",
        "  \n",
        "  \n",
        "  # getting histogram of residuals\n",
        "  print(\"2. Histogram of residuals is below.\")\n",
        "  plt.subplots(1,3,figsize=(15,5))\n",
        "  plt.subplot(1,3,1)\n",
        "  plt.hist(myreg_results.resid)\n",
        "  plt.xlabel(\"Binned Residuals\")\n",
        "  plt.ylabel(\"Frequency counts\")\n",
        "  plt.axvline(myreg_results.resid.mean(),color='black',linewidth = 3)\n",
        "  plt.axvline(myreg_results.resid.median(),color='red',linewidth = 3)\n",
        "  plt.title(\"Distribution of residuals\")\n",
        "  plt.legend(['Mean','Median','Counts'])\n",
        "  \n",
        "\n",
        "  # getting skewness results\n",
        "  skew = myreg_results.resid.skew()\n",
        "  print(F\"Skew of distribution is {skew}\")\n",
        "  if skew>1:\n",
        "    print(\"Distribution is skewed slightly to the right\")\n",
        "  elif skew > 3:\n",
        "    print(\"Distribution is right skewed\")\n",
        "  elif skew<-1:\n",
        "    print(\"Distribution is skewed slightly to the left\")\n",
        "  elif skew <-3:\n",
        "    print(\"Distribution is left skewed\")\n",
        "  else:\n",
        "    print(\"Distribution is not heavily skewed\")\n",
        "\n",
        "  print()\n",
        "  print(\"============================================\")\n",
        "  print()\n",
        "\n",
        "  # getting Q-Q plot test for normality of residuals\n",
        "  print(\"3. Q-Q plot is below\")\n",
        "  plt.subplot(1,3,2)\n",
        "  #plt.figure()\n",
        "  plt.title(\"Q-Q plot of residuals\")\n",
        "  stats.probplot(myreg_results.resid,dist=\"norm\", plot = plt)\n",
        "  plt.legend(['Residuals','Perfect normal trend line'])\n",
        "  #plt.show()\n",
        "  print()\n",
        "  print(\"============================================\")\n",
        "  print()\n",
        "\n",
        "  # getting scatter plot of model residual variance with fitted values \n",
        "  print(\"4. Scatter plot of residuals vs model fitted values is below.\")\n",
        "  plt.subplot(1,3,3)\n",
        "  plt.plot(myreg_results.fittedvalues,myreg_results.resid,'o',alpha=0.25)\n",
        "  plt.title(\"Model residuals vs model fitted values\")\n",
        "  plt.xlabel(\"Model fitted values (y_predicted)\")\n",
        "  plt.ylabel(\"Model residuals (y_real-y_predicted)\")\n",
        "  \n",
        "  plt.tight_layout()\n",
        "  plt.show()\n",
        "\n",
        "\n",
        "def one_way_anova_summary(cat_v, num_v, df, exclude = []):\n",
        "  \"\"\"\n",
        "  Gives a summary of one-way ANOVA test results for a categorical and numerical variable in a pandas dataframe,\n",
        "  including hypotheses, values, and a boxplot. \n",
        "  ===========================================\n",
        "  Requires libraries: \n",
        "\n",
        "  matplotlib.pyplot as plt\n",
        "  seaborn as sns\n",
        "  stats from scipy\n",
        "  pandas as pd\n",
        "  ===========================================\n",
        "  Arguments:\n",
        "\n",
        "  cat_v: categorical variable name in dataframe, string type\n",
        "  num_v: numerical variable name in dataframe, string type\n",
        "  df: dataframe of interest\n",
        "  exclude : categorical values to exclude, list type, default is empty list\n",
        "  ===========================================\n",
        "  Returns:\n",
        "  statval: test statistic value for one-way ANOVA test\n",
        "  pval: p-value for one-way ANOVA test with categorical and numerical variable in dataframe\n",
        "  pltobj : matplotlib plot object showing a boxplot of the groups\n",
        "  ============================================\n",
        "  \"\"\"\n",
        "  assert type(cat_v)==str, \"Categorical variable name has to be a string\"\n",
        "  assert cat_v in df.columns, \"Categorical variable not found in dataframe\"\n",
        "  assert type(num_v)==str, \"Numerical variable name has to be a string\"\n",
        "  assert num_v in df.columns, \"Numerical variable not found in dataframe\"\n",
        "  assert type(exclude)==list, \"Exclude argument has to be a list\"\n",
        "  \n",
        "  catv_anova = dict()\n",
        "  catv_vals = df[cat_v].unique()\n",
        "\n",
        "\n",
        "  for val in catv_vals:\n",
        "    if val not in exclude:\n",
        "      catv_anova[val] = df.loc[df[cat_v]==val,num_v]\n",
        "  \n",
        "  catv_args = tuple([item[1] for item in catv_anova.items()])\n",
        "\n",
        "  statval,pval = stats.f_oneway(*catv_args)\n",
        "\n",
        "  print(f\"{cat_v} & {num_v} one-way ANOVA Test:\")\n",
        "  print(\"=\"*30)\n",
        "  print()\n",
        "  print(\"Groups tested:\")\n",
        "  print(\"=\"*30)\n",
        "  print(list(catv_anova.keys()))\n",
        "  print()\n",
        "  print(f\"Null hypothesis H0: The mean value of {num_v} is the same across the groups in {cat_v}\")\n",
        "  print(f\"Alternate hypothesis Ha: The mean value of {num_v} is different for at least one group in {cat_v}\")\n",
        "  print(\"=\"*30)\n",
        "  print()\n",
        "  print(f\"{cat_v} & {num_v} one-way ANOVA Results:\")\n",
        "  print(f\"test_statistic = {statval}, p-value = {pval}\")\n",
        "  print()\n",
        "\n",
        "  if pval<0.05:\n",
        "    print(f\"Based on the p-value of {pval}, we can reject the null hypothesis that the mean {num_v} is the same for all groups.\")\n",
        "    print(f\"At least one group in {cat_v} has a different mean value of {num_v}\")\n",
        "  else:\n",
        "    print(f\"Based on the p-value of {pval}, we cannot reject the null hypothesis that the mean {num_v} is the same for all groups.\")\n",
        "\n",
        "  \n",
        "  pltobj = sns.boxplot(x=num_v, y=cat_v, data=df.loc[~df[cat_v].isin(exclude)])\n",
        "  try:\n",
        "    pltobj.title(num_v+\" by \"+cat_v)\n",
        "  except:\n",
        "    pltobj.set_title(num_v+\" by \"+cat_v) \n",
        "\n",
        "  \n",
        "  return statval,pval,pltobj\n",
        "\n",
        "\n",
        "def interpret_OLS_results(myreg1_results):\n",
        "  \"\"\" \n",
        "  Interprets the results of an ordinary least squares model:\n",
        "  1. points out the parameters with a p-value > 0.05 \n",
        "  2. displays statistically significant coefficients in descending order in table and bar chart\n",
        "  =========================================================\n",
        "  Requires libraries:\n",
        "  matplotlib.pyplot as plt\n",
        "  pandas as pd\n",
        "  scipy.stats as stats\n",
        "  =========================================================\n",
        "  Arguments:\n",
        "  myreg1_results: statsmodels OLS model regression results wrapper object (object returned by OLS model fit method)\n",
        "  =========================================================\n",
        "  Returns:\n",
        "  None (plots displayed from within function)\n",
        "  \"\"\"\n",
        "  \n",
        "  # get coefficients and pvalues into dataframe\n",
        "  modeldf = pd.DataFrame(data = {'coefficients':myreg1_results.params,'pvalues':myreg1_results.pvalues})\n",
        "  modeldf = modeldf.reset_index()\n",
        "\n",
        "  # get coefficients with p-values >0.05 and display\n",
        "  highp = modeldf[modeldf['pvalues']>=0.0500]\n",
        "  if highp.shape[0]>0:\n",
        "    print()\n",
        "    print(\"Consider removing these predictors with pvalues > 0.05. We cannot reject the null hypothesis that the population coefficient values are zero.\")\n",
        "    display(highp.loc[:,['index','pvalues']])\n",
        "  else:\n",
        "    print(\"No coefficients with pvalues > 0.05\")\n",
        "\n",
        "  # display the coefficients table in descending order  \n",
        "  print(\"\\n\")\n",
        "  print(\"The below predictors had statistically significant coefficients. We can reject the null hypothesis that the population coefficients of these parameters are zero.\")\n",
        "  print(\"We can accept that the population coefficient values are non-zero\")\n",
        "  display(modeldf.loc[modeldf['pvalues']<0.0500,['index','coefficients','pvalues']].sort_values(by = 'coefficients',ascending=False))\n",
        "\n",
        "  # plot bar chart showing scale of coefficients for easy interpreting\n",
        "  plt.figure()\n",
        "  #plt.figure(figsize = (7,min(int(modeldf.shape[0]*0.25),3)))\n",
        "  sns.barplot(x = 'coefficients',y='index',data=modeldf.sort_values(by='coefficients',ascending=False), color='blue')\n",
        "  plt.title(\"Model parameter coefficients\")\n",
        "  plt.xlabel('Coefficients')\n",
        "  plt.ylabel('Parameters')\n",
        "  plt.show()\n",
        "\n",
        "def run_LR_model(X,y):\n",
        "    \"\"\" \n",
        "    Run logistic regression model from statsmodels\n",
        "    \n",
        "    Warning: does not check for data compatibility exhaustively\n",
        "    =====================================================\n",
        "    Requires libraries:\n",
        "    pandas as pd\n",
        "    stats.scipy as stats\n",
        "    statsmodels.api as sm\n",
        "    =====================================================\n",
        "    Arguments:\n",
        "    X: the predictor variables (not including constant), matrix of numeric variables\n",
        "    y: target variable, vector of numeric variable\n",
        "    =====================================================\n",
        "    Returns:\n",
        "    logreg_results: statsmodels logit model regression results wrapper object (object returned by logit model fit method)\n",
        "    \"\"\"\n",
        "    # 0. add constant\n",
        "    X_withc = sm.add_constant(X)\n",
        "    # 1. Instantiate model\n",
        "    logreg= sm.Logit(y,X_withc)\n",
        "    # 2. Fit model\n",
        "    logreg_results = logreg.fit()\n",
        "    # Look at summary\n",
        "    logreg_results.summary()\n",
        "    \n",
        "    return logreg_results\n",
        "\n",
        "\n",
        "\n",
        "\n",
        "  "
      ],
      "metadata": {
        "id": "XB15d01It9qc"
      },
      "execution_count": null,
      "outputs": []
    },
    {
      "cell_type": "code",
      "source": [
        "import scipy.stats as stats\n",
        "from scipy.stats import norm \n",
        "import statsmodels.api as sm"
      ],
      "metadata": {
        "id": "psoWdRCDt-2W",
        "colab": {
          "base_uri": "https://localhost:8080/"
        },
        "outputId": "4873d1ec-66a2-4977-cc5f-f2166e073b16"
      },
      "execution_count": null,
      "outputs": [
        {
          "output_type": "stream",
          "name": "stderr",
          "text": [
            "/usr/local/lib/python3.7/dist-packages/statsmodels/tools/_testing.py:19: FutureWarning: pandas.util.testing is deprecated. Use the functions in the public API at pandas.testing instead.\n",
            "  import pandas.util.testing as tm\n"
          ]
        }
      ]
    },
    {
      "cell_type": "code",
      "source": [
        "modeldict = dict()\n",
        "modeldict['M0'] = run_OLS_model(X,y)"
      ],
      "metadata": {
        "colab": {
          "base_uri": "https://localhost:8080/"
        },
        "id": "XDSMtVg3IBQw",
        "outputId": "d568e91a-9bf7-42a7-b48c-1fb81be091fd"
      },
      "execution_count": null,
      "outputs": [
        {
          "output_type": "stream",
          "name": "stderr",
          "text": [
            "/usr/local/lib/python3.7/dist-packages/statsmodels/tsa/tsatools.py:117: FutureWarning: In a future version of pandas all arguments of concat except for the argument 'objs' will be keyword-only\n",
            "  x = pd.concat(x[::order], 1)\n"
          ]
        }
      ]
    },
    {
      "cell_type": "code",
      "source": [
        "modeldict['M0'].summary()"
      ],
      "metadata": {
        "colab": {
          "base_uri": "https://localhost:8080/",
          "height": 473
        },
        "id": "Aos1X9nHI0MS",
        "outputId": "04c445b8-b6ff-41aa-b3ae-9f922d8b73b7"
      },
      "execution_count": null,
      "outputs": [
        {
          "output_type": "execute_result",
          "data": {
            "text/plain": [
              "<class 'statsmodels.iolib.summary.Summary'>\n",
              "\"\"\"\n",
              "                            OLS Regression Results                            \n",
              "==============================================================================\n",
              "Dep. Variable:               p_recall   R-squared:                       0.009\n",
              "Model:                            OLS   Adj. R-squared:                 -0.062\n",
              "Method:                 Least Squares   F-statistic:                    0.1216\n",
              "Date:                Mon, 23 May 2022   Prob (F-statistic):              0.886\n",
              "Time:                        05:48:52   Log-Likelihood:                -17.073\n",
              "No. Observations:                  31   AIC:                             40.15\n",
              "Df Residuals:                      28   BIC:                             44.45\n",
              "Df Model:                           2                                         \n",
              "Covariance Type:            nonrobust                                         \n",
              "==============================================================================\n",
              "                 coef    std err          t      P>|t|      [0.025      0.975]\n",
              "------------------------------------------------------------------------------\n",
              "const          0.7351      0.704      1.044      0.306      -0.708       2.178\n",
              "history_p     -0.0528      0.784     -0.067      0.947      -1.659       1.554\n",
              "inv_delta     -5.4030     10.958     -0.493      0.626     -27.850      17.044\n",
              "==============================================================================\n",
              "Omnibus:                        7.998   Durbin-Watson:                   2.097\n",
              "Prob(Omnibus):                  0.018   Jarque-Bera (JB):                4.917\n",
              "Skew:                          -0.800   Prob(JB):                       0.0856\n",
              "Kurtosis:                       1.884   Cond. No.                         185.\n",
              "==============================================================================\n",
              "\n",
              "Warnings:\n",
              "[1] Standard Errors assume that the covariance matrix of the errors is correctly specified.\n",
              "\"\"\""
            ],
            "text/html": [
              "<table class=\"simpletable\">\n",
              "<caption>OLS Regression Results</caption>\n",
              "<tr>\n",
              "  <th>Dep. Variable:</th>        <td>p_recall</td>     <th>  R-squared:         </th> <td>   0.009</td>\n",
              "</tr>\n",
              "<tr>\n",
              "  <th>Model:</th>                   <td>OLS</td>       <th>  Adj. R-squared:    </th> <td>  -0.062</td>\n",
              "</tr>\n",
              "<tr>\n",
              "  <th>Method:</th>             <td>Least Squares</td>  <th>  F-statistic:       </th> <td>  0.1216</td>\n",
              "</tr>\n",
              "<tr>\n",
              "  <th>Date:</th>             <td>Mon, 23 May 2022</td> <th>  Prob (F-statistic):</th>  <td> 0.886</td> \n",
              "</tr>\n",
              "<tr>\n",
              "  <th>Time:</th>                 <td>05:48:52</td>     <th>  Log-Likelihood:    </th> <td> -17.073</td>\n",
              "</tr>\n",
              "<tr>\n",
              "  <th>No. Observations:</th>      <td>    31</td>      <th>  AIC:               </th> <td>   40.15</td>\n",
              "</tr>\n",
              "<tr>\n",
              "  <th>Df Residuals:</th>          <td>    28</td>      <th>  BIC:               </th> <td>   44.45</td>\n",
              "</tr>\n",
              "<tr>\n",
              "  <th>Df Model:</th>              <td>     2</td>      <th>                     </th>     <td> </td>   \n",
              "</tr>\n",
              "<tr>\n",
              "  <th>Covariance Type:</th>      <td>nonrobust</td>    <th>                     </th>     <td> </td>   \n",
              "</tr>\n",
              "</table>\n",
              "<table class=\"simpletable\">\n",
              "<tr>\n",
              "      <td></td>         <th>coef</th>     <th>std err</th>      <th>t</th>      <th>P>|t|</th>  <th>[0.025</th>    <th>0.975]</th>  \n",
              "</tr>\n",
              "<tr>\n",
              "  <th>const</th>     <td>    0.7351</td> <td>    0.704</td> <td>    1.044</td> <td> 0.306</td> <td>   -0.708</td> <td>    2.178</td>\n",
              "</tr>\n",
              "<tr>\n",
              "  <th>history_p</th> <td>   -0.0528</td> <td>    0.784</td> <td>   -0.067</td> <td> 0.947</td> <td>   -1.659</td> <td>    1.554</td>\n",
              "</tr>\n",
              "<tr>\n",
              "  <th>inv_delta</th> <td>   -5.4030</td> <td>   10.958</td> <td>   -0.493</td> <td> 0.626</td> <td>  -27.850</td> <td>   17.044</td>\n",
              "</tr>\n",
              "</table>\n",
              "<table class=\"simpletable\">\n",
              "<tr>\n",
              "  <th>Omnibus:</th>       <td> 7.998</td> <th>  Durbin-Watson:     </th> <td>   2.097</td>\n",
              "</tr>\n",
              "<tr>\n",
              "  <th>Prob(Omnibus):</th> <td> 0.018</td> <th>  Jarque-Bera (JB):  </th> <td>   4.917</td>\n",
              "</tr>\n",
              "<tr>\n",
              "  <th>Skew:</th>          <td>-0.800</td> <th>  Prob(JB):          </th> <td>  0.0856</td>\n",
              "</tr>\n",
              "<tr>\n",
              "  <th>Kurtosis:</th>      <td> 1.884</td> <th>  Cond. No.          </th> <td>    185.</td>\n",
              "</tr>\n",
              "</table><br/><br/>Warnings:<br/>[1] Standard Errors assume that the covariance matrix of the errors is correctly specified."
            ]
          },
          "metadata": {},
          "execution_count": 79
        }
      ]
    },
    {
      "cell_type": "code",
      "source": [
        "interpret_OLS_results(modeldict['M0'])"
      ],
      "metadata": {
        "colab": {
          "base_uri": "https://localhost:8080/",
          "height": 580
        },
        "id": "KanF6f6LJGC7",
        "outputId": "8c8a99e1-c0f4-43d3-c061-295d12971457"
      },
      "execution_count": null,
      "outputs": [
        {
          "output_type": "stream",
          "name": "stdout",
          "text": [
            "\n",
            "Consider removing these predictors with pvalues > 0.05. We cannot reject the null hypothesis that the population coefficient values are zero.\n"
          ]
        },
        {
          "output_type": "display_data",
          "data": {
            "text/plain": [
              "       index   pvalues\n",
              "0      const  0.305529\n",
              "1  history_p  0.946763\n",
              "2  inv_delta  0.625815"
            ],
            "text/html": [
              "\n",
              "  <div id=\"df-563666be-301d-41da-baac-0a9fcb81e209\">\n",
              "    <div class=\"colab-df-container\">\n",
              "      <div>\n",
              "<style scoped>\n",
              "    .dataframe tbody tr th:only-of-type {\n",
              "        vertical-align: middle;\n",
              "    }\n",
              "\n",
              "    .dataframe tbody tr th {\n",
              "        vertical-align: top;\n",
              "    }\n",
              "\n",
              "    .dataframe thead th {\n",
              "        text-align: right;\n",
              "    }\n",
              "</style>\n",
              "<table border=\"1\" class=\"dataframe\">\n",
              "  <thead>\n",
              "    <tr style=\"text-align: right;\">\n",
              "      <th></th>\n",
              "      <th>index</th>\n",
              "      <th>pvalues</th>\n",
              "    </tr>\n",
              "  </thead>\n",
              "  <tbody>\n",
              "    <tr>\n",
              "      <th>0</th>\n",
              "      <td>const</td>\n",
              "      <td>0.305529</td>\n",
              "    </tr>\n",
              "    <tr>\n",
              "      <th>1</th>\n",
              "      <td>history_p</td>\n",
              "      <td>0.946763</td>\n",
              "    </tr>\n",
              "    <tr>\n",
              "      <th>2</th>\n",
              "      <td>inv_delta</td>\n",
              "      <td>0.625815</td>\n",
              "    </tr>\n",
              "  </tbody>\n",
              "</table>\n",
              "</div>\n",
              "      <button class=\"colab-df-convert\" onclick=\"convertToInteractive('df-563666be-301d-41da-baac-0a9fcb81e209')\"\n",
              "              title=\"Convert this dataframe to an interactive table.\"\n",
              "              style=\"display:none;\">\n",
              "        \n",
              "  <svg xmlns=\"http://www.w3.org/2000/svg\" height=\"24px\"viewBox=\"0 0 24 24\"\n",
              "       width=\"24px\">\n",
              "    <path d=\"M0 0h24v24H0V0z\" fill=\"none\"/>\n",
              "    <path d=\"M18.56 5.44l.94 2.06.94-2.06 2.06-.94-2.06-.94-.94-2.06-.94 2.06-2.06.94zm-11 1L8.5 8.5l.94-2.06 2.06-.94-2.06-.94L8.5 2.5l-.94 2.06-2.06.94zm10 10l.94 2.06.94-2.06 2.06-.94-2.06-.94-.94-2.06-.94 2.06-2.06.94z\"/><path d=\"M17.41 7.96l-1.37-1.37c-.4-.4-.92-.59-1.43-.59-.52 0-1.04.2-1.43.59L10.3 9.45l-7.72 7.72c-.78.78-.78 2.05 0 2.83L4 21.41c.39.39.9.59 1.41.59.51 0 1.02-.2 1.41-.59l7.78-7.78 2.81-2.81c.8-.78.8-2.07 0-2.86zM5.41 20L4 18.59l7.72-7.72 1.47 1.35L5.41 20z\"/>\n",
              "  </svg>\n",
              "      </button>\n",
              "      \n",
              "  <style>\n",
              "    .colab-df-container {\n",
              "      display:flex;\n",
              "      flex-wrap:wrap;\n",
              "      gap: 12px;\n",
              "    }\n",
              "\n",
              "    .colab-df-convert {\n",
              "      background-color: #E8F0FE;\n",
              "      border: none;\n",
              "      border-radius: 50%;\n",
              "      cursor: pointer;\n",
              "      display: none;\n",
              "      fill: #1967D2;\n",
              "      height: 32px;\n",
              "      padding: 0 0 0 0;\n",
              "      width: 32px;\n",
              "    }\n",
              "\n",
              "    .colab-df-convert:hover {\n",
              "      background-color: #E2EBFA;\n",
              "      box-shadow: 0px 1px 2px rgba(60, 64, 67, 0.3), 0px 1px 3px 1px rgba(60, 64, 67, 0.15);\n",
              "      fill: #174EA6;\n",
              "    }\n",
              "\n",
              "    [theme=dark] .colab-df-convert {\n",
              "      background-color: #3B4455;\n",
              "      fill: #D2E3FC;\n",
              "    }\n",
              "\n",
              "    [theme=dark] .colab-df-convert:hover {\n",
              "      background-color: #434B5C;\n",
              "      box-shadow: 0px 1px 3px 1px rgba(0, 0, 0, 0.15);\n",
              "      filter: drop-shadow(0px 1px 2px rgba(0, 0, 0, 0.3));\n",
              "      fill: #FFFFFF;\n",
              "    }\n",
              "  </style>\n",
              "\n",
              "      <script>\n",
              "        const buttonEl =\n",
              "          document.querySelector('#df-563666be-301d-41da-baac-0a9fcb81e209 button.colab-df-convert');\n",
              "        buttonEl.style.display =\n",
              "          google.colab.kernel.accessAllowed ? 'block' : 'none';\n",
              "\n",
              "        async function convertToInteractive(key) {\n",
              "          const element = document.querySelector('#df-563666be-301d-41da-baac-0a9fcb81e209');\n",
              "          const dataTable =\n",
              "            await google.colab.kernel.invokeFunction('convertToInteractive',\n",
              "                                                     [key], {});\n",
              "          if (!dataTable) return;\n",
              "\n",
              "          const docLinkHtml = 'Like what you see? Visit the ' +\n",
              "            '<a target=\"_blank\" href=https://colab.research.google.com/notebooks/data_table.ipynb>data table notebook</a>'\n",
              "            + ' to learn more about interactive tables.';\n",
              "          element.innerHTML = '';\n",
              "          dataTable['output_type'] = 'display_data';\n",
              "          await google.colab.output.renderOutput(dataTable, element);\n",
              "          const docLink = document.createElement('div');\n",
              "          docLink.innerHTML = docLinkHtml;\n",
              "          element.appendChild(docLink);\n",
              "        }\n",
              "      </script>\n",
              "    </div>\n",
              "  </div>\n",
              "  "
            ]
          },
          "metadata": {}
        },
        {
          "output_type": "stream",
          "name": "stdout",
          "text": [
            "\n",
            "\n",
            "The below predictors had statistically significant coefficients. We can reject the null hypothesis that the population coefficients of these parameters are zero.\n",
            "We can accept that the population coefficient values are non-zero\n"
          ]
        },
        {
          "output_type": "display_data",
          "data": {
            "text/plain": [
              "Empty DataFrame\n",
              "Columns: [index, coefficients, pvalues]\n",
              "Index: []"
            ],
            "text/html": [
              "\n",
              "  <div id=\"df-3ba82382-41b4-4640-8461-dba68296e347\">\n",
              "    <div class=\"colab-df-container\">\n",
              "      <div>\n",
              "<style scoped>\n",
              "    .dataframe tbody tr th:only-of-type {\n",
              "        vertical-align: middle;\n",
              "    }\n",
              "\n",
              "    .dataframe tbody tr th {\n",
              "        vertical-align: top;\n",
              "    }\n",
              "\n",
              "    .dataframe thead th {\n",
              "        text-align: right;\n",
              "    }\n",
              "</style>\n",
              "<table border=\"1\" class=\"dataframe\">\n",
              "  <thead>\n",
              "    <tr style=\"text-align: right;\">\n",
              "      <th></th>\n",
              "      <th>index</th>\n",
              "      <th>coefficients</th>\n",
              "      <th>pvalues</th>\n",
              "    </tr>\n",
              "  </thead>\n",
              "  <tbody>\n",
              "  </tbody>\n",
              "</table>\n",
              "</div>\n",
              "      <button class=\"colab-df-convert\" onclick=\"convertToInteractive('df-3ba82382-41b4-4640-8461-dba68296e347')\"\n",
              "              title=\"Convert this dataframe to an interactive table.\"\n",
              "              style=\"display:none;\">\n",
              "        \n",
              "  <svg xmlns=\"http://www.w3.org/2000/svg\" height=\"24px\"viewBox=\"0 0 24 24\"\n",
              "       width=\"24px\">\n",
              "    <path d=\"M0 0h24v24H0V0z\" fill=\"none\"/>\n",
              "    <path d=\"M18.56 5.44l.94 2.06.94-2.06 2.06-.94-2.06-.94-.94-2.06-.94 2.06-2.06.94zm-11 1L8.5 8.5l.94-2.06 2.06-.94-2.06-.94L8.5 2.5l-.94 2.06-2.06.94zm10 10l.94 2.06.94-2.06 2.06-.94-2.06-.94-.94-2.06-.94 2.06-2.06.94z\"/><path d=\"M17.41 7.96l-1.37-1.37c-.4-.4-.92-.59-1.43-.59-.52 0-1.04.2-1.43.59L10.3 9.45l-7.72 7.72c-.78.78-.78 2.05 0 2.83L4 21.41c.39.39.9.59 1.41.59.51 0 1.02-.2 1.41-.59l7.78-7.78 2.81-2.81c.8-.78.8-2.07 0-2.86zM5.41 20L4 18.59l7.72-7.72 1.47 1.35L5.41 20z\"/>\n",
              "  </svg>\n",
              "      </button>\n",
              "      \n",
              "  <style>\n",
              "    .colab-df-container {\n",
              "      display:flex;\n",
              "      flex-wrap:wrap;\n",
              "      gap: 12px;\n",
              "    }\n",
              "\n",
              "    .colab-df-convert {\n",
              "      background-color: #E8F0FE;\n",
              "      border: none;\n",
              "      border-radius: 50%;\n",
              "      cursor: pointer;\n",
              "      display: none;\n",
              "      fill: #1967D2;\n",
              "      height: 32px;\n",
              "      padding: 0 0 0 0;\n",
              "      width: 32px;\n",
              "    }\n",
              "\n",
              "    .colab-df-convert:hover {\n",
              "      background-color: #E2EBFA;\n",
              "      box-shadow: 0px 1px 2px rgba(60, 64, 67, 0.3), 0px 1px 3px 1px rgba(60, 64, 67, 0.15);\n",
              "      fill: #174EA6;\n",
              "    }\n",
              "\n",
              "    [theme=dark] .colab-df-convert {\n",
              "      background-color: #3B4455;\n",
              "      fill: #D2E3FC;\n",
              "    }\n",
              "\n",
              "    [theme=dark] .colab-df-convert:hover {\n",
              "      background-color: #434B5C;\n",
              "      box-shadow: 0px 1px 3px 1px rgba(0, 0, 0, 0.15);\n",
              "      filter: drop-shadow(0px 1px 2px rgba(0, 0, 0, 0.3));\n",
              "      fill: #FFFFFF;\n",
              "    }\n",
              "  </style>\n",
              "\n",
              "      <script>\n",
              "        const buttonEl =\n",
              "          document.querySelector('#df-3ba82382-41b4-4640-8461-dba68296e347 button.colab-df-convert');\n",
              "        buttonEl.style.display =\n",
              "          google.colab.kernel.accessAllowed ? 'block' : 'none';\n",
              "\n",
              "        async function convertToInteractive(key) {\n",
              "          const element = document.querySelector('#df-3ba82382-41b4-4640-8461-dba68296e347');\n",
              "          const dataTable =\n",
              "            await google.colab.kernel.invokeFunction('convertToInteractive',\n",
              "                                                     [key], {});\n",
              "          if (!dataTable) return;\n",
              "\n",
              "          const docLinkHtml = 'Like what you see? Visit the ' +\n",
              "            '<a target=\"_blank\" href=https://colab.research.google.com/notebooks/data_table.ipynb>data table notebook</a>'\n",
              "            + ' to learn more about interactive tables.';\n",
              "          element.innerHTML = '';\n",
              "          dataTable['output_type'] = 'display_data';\n",
              "          await google.colab.output.renderOutput(dataTable, element);\n",
              "          const docLink = document.createElement('div');\n",
              "          docLink.innerHTML = docLinkHtml;\n",
              "          element.appendChild(docLink);\n",
              "        }\n",
              "      </script>\n",
              "    </div>\n",
              "  </div>\n",
              "  "
            ]
          },
          "metadata": {}
        },
        {
          "output_type": "display_data",
          "data": {
            "text/plain": [
              "<Figure size 432x288 with 1 Axes>"
            ],
            "image/png": "[encoded data removed]"
          },
          "metadata": {
            "needs_background": "light"
          }
        }
      ]
    },
    {
      "cell_type": "code",
      "source": [
        "plt.plot(X['session_seen'],y,'.',alpha=0.25)"
      ],
      "metadata": {
        "id": "EkbUzGRVJTfr"
      },
      "execution_count": null,
      "outputs": []
    },
    {
      "cell_type": "markdown",
      "source": [
        "Yikes. What about separating out for each user?"
      ],
      "metadata": {
        "id": "s9txarbcVtMX"
      }
    },
    {
      "cell_type": "code",
      "source": [
        "usersp = datadf.loc[datadf['user_id']=='u:FO']\n",
        "usersp['history_p'] = usersp['history_correct']/usersp['history_seen']\n",
        "usersp['inv_delta'] = 1/usersp['delta']\n",
        "usersp['p_delta'] = usersp['history_p']*usersp['inv_delta']\n",
        "X = usersp[['p_delta']]\n",
        "y = usersp['p_recall']\n",
        "print(usersp.shape[0])\n",
        "run_OLS_model(X,y).summary()"
      ],
      "metadata": {
        "colab": {
          "base_uri": "https://localhost:8080/",
          "height": 844
        },
        "id": "JwFL33NaV0xZ",
        "outputId": "bc3a144e-7bb3-4aa8-eb37-9e52abee8009"
      },
      "execution_count": null,
      "outputs": [
        {
          "output_type": "stream",
          "name": "stdout",
          "text": [
            "31\n"
          ]
        },
        {
          "output_type": "stream",
          "name": "stderr",
          "text": [
            "/usr/local/lib/python3.7/dist-packages/ipykernel_launcher.py:2: SettingWithCopyWarning: \n",
            "A value is trying to be set on a copy of a slice from a DataFrame.\n",
            "Try using .loc[row_indexer,col_indexer] = value instead\n",
            "\n",
            "See the caveats in the documentation: https://pandas.pydata.org/pandas-docs/stable/user_guide/indexing.html#returning-a-view-versus-a-copy\n",
            "  \n",
            "/usr/local/lib/python3.7/dist-packages/ipykernel_launcher.py:3: SettingWithCopyWarning: \n",
            "A value is trying to be set on a copy of a slice from a DataFrame.\n",
            "Try using .loc[row_indexer,col_indexer] = value instead\n",
            "\n",
            "See the caveats in the documentation: https://pandas.pydata.org/pandas-docs/stable/user_guide/indexing.html#returning-a-view-versus-a-copy\n",
            "  This is separate from the ipykernel package so we can avoid doing imports until\n",
            "/usr/local/lib/python3.7/dist-packages/ipykernel_launcher.py:4: SettingWithCopyWarning: \n",
            "A value is trying to be set on a copy of a slice from a DataFrame.\n",
            "Try using .loc[row_indexer,col_indexer] = value instead\n",
            "\n",
            "See the caveats in the documentation: https://pandas.pydata.org/pandas-docs/stable/user_guide/indexing.html#returning-a-view-versus-a-copy\n",
            "  after removing the cwd from sys.path.\n",
            "/usr/local/lib/python3.7/dist-packages/statsmodels/tsa/tsatools.py:117: FutureWarning: In a future version of pandas all arguments of concat except for the argument 'objs' will be keyword-only\n",
            "  x = pd.concat(x[::order], 1)\n"
          ]
        },
        {
          "output_type": "execute_result",
          "data": {
            "text/plain": [
              "<class 'statsmodels.iolib.summary.Summary'>\n",
              "\"\"\"\n",
              "                            OLS Regression Results                            \n",
              "==============================================================================\n",
              "Dep. Variable:               p_recall   R-squared:                       0.007\n",
              "Model:                            OLS   Adj. R-squared:                 -0.027\n",
              "Method:                 Least Squares   F-statistic:                    0.2043\n",
              "Date:                Mon, 23 May 2022   Prob (F-statistic):              0.655\n",
              "Time:                        06:09:07   Log-Likelihood:                -17.099\n",
              "No. Observations:                  31   AIC:                             38.20\n",
              "Df Residuals:                      29   BIC:                             41.07\n",
              "Df Model:                           1                                         \n",
              "Covariance Type:            nonrobust                                         \n",
              "==============================================================================\n",
              "                 coef    std err          t      P>|t|      [0.025      0.975]\n",
              "------------------------------------------------------------------------------\n",
              "const          0.6867      0.087      7.865      0.000       0.508       0.865\n",
              "p_delta       -5.7759     12.779     -0.452      0.655     -31.913      20.361\n",
              "==============================================================================\n",
              "Omnibus:                        8.044   Durbin-Watson:                   2.095\n",
              "Prob(Omnibus):                  0.018   Jarque-Bera (JB):                4.910\n",
              "Skew:                          -0.798   Prob(JB):                       0.0859\n",
              "Kurtosis:                       1.879   Cond. No.                         164.\n",
              "==============================================================================\n",
              "\n",
              "Warnings:\n",
              "[1] Standard Errors assume that the covariance matrix of the errors is correctly specified.\n",
              "\"\"\""
            ],
            "text/html": [
              "<table class=\"simpletable\">\n",
              "<caption>OLS Regression Results</caption>\n",
              "<tr>\n",
              "  <th>Dep. Variable:</th>        <td>p_recall</td>     <th>  R-squared:         </th> <td>   0.007</td>\n",
              "</tr>\n",
              "<tr>\n",
              "  <th>Model:</th>                   <td>OLS</td>       <th>  Adj. R-squared:    </th> <td>  -0.027</td>\n",
              "</tr>\n",
              "<tr>\n",
              "  <th>Method:</th>             <td>Least Squares</td>  <th>  F-statistic:       </th> <td>  0.2043</td>\n",
              "</tr>\n",
              "<tr>\n",
              "  <th>Date:</th>             <td>Mon, 23 May 2022</td> <th>  Prob (F-statistic):</th>  <td> 0.655</td> \n",
              "</tr>\n",
              "<tr>\n",
              "  <th>Time:</th>                 <td>06:09:07</td>     <th>  Log-Likelihood:    </th> <td> -17.099</td>\n",
              "</tr>\n",
              "<tr>\n",
              "  <th>No. Observations:</th>      <td>    31</td>      <th>  AIC:               </th> <td>   38.20</td>\n",
              "</tr>\n",
              "<tr>\n",
              "  <th>Df Residuals:</th>          <td>    29</td>      <th>  BIC:               </th> <td>   41.07</td>\n",
              "</tr>\n",
              "<tr>\n",
              "  <th>Df Model:</th>              <td>     1</td>      <th>                     </th>     <td> </td>   \n",
              "</tr>\n",
              "<tr>\n",
              "  <th>Covariance Type:</th>      <td>nonrobust</td>    <th>                     </th>     <td> </td>   \n",
              "</tr>\n",
              "</table>\n",
              "<table class=\"simpletable\">\n",
              "<tr>\n",
              "     <td></td>        <th>coef</th>     <th>std err</th>      <th>t</th>      <th>P>|t|</th>  <th>[0.025</th>    <th>0.975]</th>  \n",
              "</tr>\n",
              "<tr>\n",
              "  <th>const</th>   <td>    0.6867</td> <td>    0.087</td> <td>    7.865</td> <td> 0.000</td> <td>    0.508</td> <td>    0.865</td>\n",
              "</tr>\n",
              "<tr>\n",
              "  <th>p_delta</th> <td>   -5.7759</td> <td>   12.779</td> <td>   -0.452</td> <td> 0.655</td> <td>  -31.913</td> <td>   20.361</td>\n",
              "</tr>\n",
              "</table>\n",
              "<table class=\"simpletable\">\n",
              "<tr>\n",
              "  <th>Omnibus:</th>       <td> 8.044</td> <th>  Durbin-Watson:     </th> <td>   2.095</td>\n",
              "</tr>\n",
              "<tr>\n",
              "  <th>Prob(Omnibus):</th> <td> 0.018</td> <th>  Jarque-Bera (JB):  </th> <td>   4.910</td>\n",
              "</tr>\n",
              "<tr>\n",
              "  <th>Skew:</th>          <td>-0.798</td> <th>  Prob(JB):          </th> <td>  0.0859</td>\n",
              "</tr>\n",
              "<tr>\n",
              "  <th>Kurtosis:</th>      <td> 1.879</td> <th>  Cond. No.          </th> <td>    164.</td>\n",
              "</tr>\n",
              "</table><br/><br/>Warnings:<br/>[1] Standard Errors assume that the covariance matrix of the errors is correctly specified."
            ]
          },
          "metadata": {},
          "execution_count": 84
        }
      ]
    },
    {
      "cell_type": "markdown",
      "source": [
        "All student traces for one particular word, looking at history correct, delta, history seen to predict p_recall. "
      ],
      "metadata": {
        "id": "5bYcIgvZQQRA"
      }
    },
    {
      "cell_type": "code",
      "source": [
        "wordsp = datadf.loc[datadf['lexeme_string']=='no/no<adv>']\n",
        "X = wordsp[['history_seen','delta','history_correct']]\n",
        "X['history_correct'] = X['history_correct']/X['history_seen']\n",
        "y = wordsp['p_recall']\n",
        "print(wordsp.shape[0])\n",
        "run_OLS_model(X,y).summary()"
      ],
      "metadata": {
        "id": "8KTq0vf_Ws2P"
      },
      "execution_count": null,
      "outputs": []
    },
    {
      "cell_type": "markdown",
      "source": [
        "history_correct/history_seen & 1/delta as the predictors?\n",
        "\n",
        "Get columns of previous session's p_recall for each trace. "
      ],
      "metadata": {
        "id": "lZXRloQHRlmI"
      }
    },
    {
      "cell_type": "code",
      "source": [
        "trace.head()"
      ],
      "metadata": {
        "id": "ITxJp-N21u90",
        "colab": {
          "base_uri": "https://localhost:8080/",
          "height": 378
        },
        "outputId": "d9f7db24-68f0-4902-f725-75f4dba5a718"
      },
      "execution_count": null,
      "outputs": [
        {
          "output_type": "execute_result",
          "data": {
            "text/plain": [
              "         p_recall   timestamp   delta user_id learning_language ui_language  \\\n",
              "2436          1.0  1362082652     319  u:iGhR                en          es   \n",
              "11937         1.0  1362083170     518  u:iGhR                en          es   \n",
              "862817        1.0  1362152282   69112  u:iGhR                en          es   \n",
              "4032636       1.0  1362414439  262157  u:iGhR                en          es   \n",
              "\n",
              "                                lexeme_id        lexeme_string  history_seen  \\\n",
              "2436     1e1f8d730c4ba99ad2873a7608324cf6  my/my<det><pos><sp>             8   \n",
              "11937    1e1f8d730c4ba99ad2873a7608324cf6  my/my<det><pos><sp>             9   \n",
              "862817   1e1f8d730c4ba99ad2873a7608324cf6  my/my<det><pos><sp>            10   \n",
              "4032636  1e1f8d730c4ba99ad2873a7608324cf6  my/my<det><pos><sp>            11   \n",
              "\n",
              "         history_correct  session_seen  session_correct            Datetime  \\\n",
              "2436                   8             1                1 2013-02-28 20:17:32   \n",
              "11937                  9             1                1 2013-02-28 20:26:10   \n",
              "862817                10             1                1 2013-03-01 15:38:02   \n",
              "4032636               11             2                2 2013-03-04 16:27:19   \n",
              "\n",
              "               delta_dt                cut_delta  lang_tup        Date  \n",
              "2436    0 days 00:05:19  (-40327.361, 4032837.1]  (es, en)  2013-02-28  \n",
              "11937   0 days 00:08:38  (-40327.361, 4032837.1]  (es, en)  2013-02-28  \n",
              "862817  0 days 19:11:52  (-40327.361, 4032837.1]  (es, en)  2013-03-01  \n",
              "4032636 3 days 00:49:17  (-40327.361, 4032837.1]  (es, en)  2013-03-04  "
            ],
            "text/html": [
              "\n",
              "  <div id=\"df-82794d45-0478-4dbe-a816-1683cb92567b\">\n",
              "    <div class=\"colab-df-container\">\n",
              "      <div>\n",
              "<style scoped>\n",
              "    .dataframe tbody tr th:only-of-type {\n",
              "        vertical-align: middle;\n",
              "    }\n",
              "\n",
              "    .dataframe tbody tr th {\n",
              "        vertical-align: top;\n",
              "    }\n",
              "\n",
              "    .dataframe thead th {\n",
              "        text-align: right;\n",
              "    }\n",
              "</style>\n",
              "<table border=\"1\" class=\"dataframe\">\n",
              "  <thead>\n",
              "    <tr style=\"text-align: right;\">\n",
              "      <th></th>\n",
              "      <th>p_recall</th>\n",
              "      <th>timestamp</th>\n",
              "      <th>delta</th>\n",
              "      <th>user_id</th>\n",
              "      <th>learning_language</th>\n",
              "      <th>ui_language</th>\n",
              "      <th>lexeme_id</th>\n",
              "      <th>lexeme_string</th>\n",
              "      <th>history_seen</th>\n",
              "      <th>history_correct</th>\n",
              "      <th>session_seen</th>\n",
              "      <th>session_correct</th>\n",
              "      <th>Datetime</th>\n",
              "      <th>delta_dt</th>\n",
              "      <th>cut_delta</th>\n",
              "      <th>lang_tup</th>\n",
              "      <th>Date</th>\n",
              "    </tr>\n",
              "  </thead>\n",
              "  <tbody>\n",
              "    <tr>\n",
              "      <th>2436</th>\n",
              "      <td>1.0</td>\n",
              "      <td>1362082652</td>\n",
              "      <td>319</td>\n",
              "      <td>u:iGhR</td>\n",
              "      <td>en</td>\n",
              "      <td>es</td>\n",
              "      <td>1e1f8d730c4ba99ad2873a7608324cf6</td>\n",
              "      <td>my/my&lt;det&gt;&lt;pos&gt;&lt;sp&gt;</td>\n",
              "      <td>8</td>\n",
              "      <td>8</td>\n",
              "      <td>1</td>\n",
              "      <td>1</td>\n",
              "      <td>2013-02-28 20:17:32</td>\n",
              "      <td>0 days 00:05:19</td>\n",
              "      <td>(-40327.361, 4032837.1]</td>\n",
              "      <td>(es, en)</td>\n",
              "      <td>2013-02-28</td>\n",
              "    </tr>\n",
              "    <tr>\n",
              "      <th>11937</th>\n",
              "      <td>1.0</td>\n",
              "      <td>1362083170</td>\n",
              "      <td>518</td>\n",
              "      <td>u:iGhR</td>\n",
              "      <td>en</td>\n",
              "      <td>es</td>\n",
              "      <td>1e1f8d730c4ba99ad2873a7608324cf6</td>\n",
              "      <td>my/my&lt;det&gt;&lt;pos&gt;&lt;sp&gt;</td>\n",
              "      <td>9</td>\n",
              "      <td>9</td>\n",
              "      <td>1</td>\n",
              "      <td>1</td>\n",
              "      <td>2013-02-28 20:26:10</td>\n",
              "      <td>0 days 00:08:38</td>\n",
              "      <td>(-40327.361, 4032837.1]</td>\n",
              "      <td>(es, en)</td>\n",
              "      <td>2013-02-28</td>\n",
              "    </tr>\n",
              "    <tr>\n",
              "      <th>862817</th>\n",
              "      <td>1.0</td>\n",
              "      <td>1362152282</td>\n",
              "      <td>69112</td>\n",
              "      <td>u:iGhR</td>\n",
              "      <td>en</td>\n",
              "      <td>es</td>\n",
              "      <td>1e1f8d730c4ba99ad2873a7608324cf6</td>\n",
              "      <td>my/my&lt;det&gt;&lt;pos&gt;&lt;sp&gt;</td>\n",
              "      <td>10</td>\n",
              "      <td>10</td>\n",
              "      <td>1</td>\n",
              "      <td>1</td>\n",
              "      <td>2013-03-01 15:38:02</td>\n",
              "      <td>0 days 19:11:52</td>\n",
              "      <td>(-40327.361, 4032837.1]</td>\n",
              "      <td>(es, en)</td>\n",
              "      <td>2013-03-01</td>\n",
              "    </tr>\n",
              "    <tr>\n",
              "      <th>4032636</th>\n",
              "      <td>1.0</td>\n",
              "      <td>1362414439</td>\n",
              "      <td>262157</td>\n",
              "      <td>u:iGhR</td>\n",
              "      <td>en</td>\n",
              "      <td>es</td>\n",
              "      <td>1e1f8d730c4ba99ad2873a7608324cf6</td>\n",
              "      <td>my/my&lt;det&gt;&lt;pos&gt;&lt;sp&gt;</td>\n",
              "      <td>11</td>\n",
              "      <td>11</td>\n",
              "      <td>2</td>\n",
              "      <td>2</td>\n",
              "      <td>2013-03-04 16:27:19</td>\n",
              "      <td>3 days 00:49:17</td>\n",
              "      <td>(-40327.361, 4032837.1]</td>\n",
              "      <td>(es, en)</td>\n",
              "      <td>2013-03-04</td>\n",
              "    </tr>\n",
              "  </tbody>\n",
              "</table>\n",
              "</div>\n",
              "      <button class=\"colab-df-convert\" onclick=\"convertToInteractive('df-82794d45-0478-4dbe-a816-1683cb92567b')\"\n",
              "              title=\"Convert this dataframe to an interactive table.\"\n",
              "              style=\"display:none;\">\n",
              "        \n",
              "  <svg xmlns=\"http://www.w3.org/2000/svg\" height=\"24px\"viewBox=\"0 0 24 24\"\n",
              "       width=\"24px\">\n",
              "    <path d=\"M0 0h24v24H0V0z\" fill=\"none\"/>\n",
              "    <path d=\"M18.56 5.44l.94 2.06.94-2.06 2.06-.94-2.06-.94-.94-2.06-.94 2.06-2.06.94zm-11 1L8.5 8.5l.94-2.06 2.06-.94-2.06-.94L8.5 2.5l-.94 2.06-2.06.94zm10 10l.94 2.06.94-2.06 2.06-.94-2.06-.94-.94-2.06-.94 2.06-2.06.94z\"/><path d=\"M17.41 7.96l-1.37-1.37c-.4-.4-.92-.59-1.43-.59-.52 0-1.04.2-1.43.59L10.3 9.45l-7.72 7.72c-.78.78-.78 2.05 0 2.83L4 21.41c.39.39.9.59 1.41.59.51 0 1.02-.2 1.41-.59l7.78-7.78 2.81-2.81c.8-.78.8-2.07 0-2.86zM5.41 20L4 18.59l7.72-7.72 1.47 1.35L5.41 20z\"/>\n",
              "  </svg>\n",
              "      </button>\n",
              "      \n",
              "  <style>\n",
              "    .colab-df-container {\n",
              "      display:flex;\n",
              "      flex-wrap:wrap;\n",
              "      gap: 12px;\n",
              "    }\n",
              "\n",
              "    .colab-df-convert {\n",
              "      background-color: #E8F0FE;\n",
              "      border: none;\n",
              "      border-radius: 50%;\n",
              "      cursor: pointer;\n",
              "      display: none;\n",
              "      fill: #1967D2;\n",
              "      height: 32px;\n",
              "      padding: 0 0 0 0;\n",
              "      width: 32px;\n",
              "    }\n",
              "\n",
              "    .colab-df-convert:hover {\n",
              "      background-color: #E2EBFA;\n",
              "      box-shadow: 0px 1px 2px rgba(60, 64, 67, 0.3), 0px 1px 3px 1px rgba(60, 64, 67, 0.15);\n",
              "      fill: #174EA6;\n",
              "    }\n",
              "\n",
              "    [theme=dark] .colab-df-convert {\n",
              "      background-color: #3B4455;\n",
              "      fill: #D2E3FC;\n",
              "    }\n",
              "\n",
              "    [theme=dark] .colab-df-convert:hover {\n",
              "      background-color: #434B5C;\n",
              "      box-shadow: 0px 1px 3px 1px rgba(0, 0, 0, 0.15);\n",
              "      filter: drop-shadow(0px 1px 2px rgba(0, 0, 0, 0.3));\n",
              "      fill: #FFFFFF;\n",
              "    }\n",
              "  </style>\n",
              "\n",
              "      <script>\n",
              "        const buttonEl =\n",
              "          document.querySelector('#df-82794d45-0478-4dbe-a816-1683cb92567b button.colab-df-convert');\n",
              "        buttonEl.style.display =\n",
              "          google.colab.kernel.accessAllowed ? 'block' : 'none';\n",
              "\n",
              "        async function convertToInteractive(key) {\n",
              "          const element = document.querySelector('#df-82794d45-0478-4dbe-a816-1683cb92567b');\n",
              "          const dataTable =\n",
              "            await google.colab.kernel.invokeFunction('convertToInteractive',\n",
              "                                                     [key], {});\n",
              "          if (!dataTable) return;\n",
              "\n",
              "          const docLinkHtml = 'Like what you see? Visit the ' +\n",
              "            '<a target=\"_blank\" href=https://colab.research.google.com/notebooks/data_table.ipynb>data table notebook</a>'\n",
              "            + ' to learn more about interactive tables.';\n",
              "          element.innerHTML = '';\n",
              "          dataTable['output_type'] = 'display_data';\n",
              "          await google.colab.output.renderOutput(dataTable, element);\n",
              "          const docLink = document.createElement('div');\n",
              "          docLink.innerHTML = docLinkHtml;\n",
              "          element.appendChild(docLink);\n",
              "        }\n",
              "      </script>\n",
              "    </div>\n",
              "  </div>\n",
              "  "
            ]
          },
          "metadata": {},
          "execution_count": 74
        }
      ]
    },
    {
      "cell_type": "code",
      "source": [
        "# previous session p_recalls?\n",
        "trace\n"
      ],
      "metadata": {
        "colab": {
          "base_uri": "https://localhost:8080/",
          "height": 378
        },
        "id": "ZMUPw55Kd3zu",
        "outputId": "44043633-86c3-4f1c-d124-ffe88b2fdbd3"
      },
      "execution_count": null,
      "outputs": [
        {
          "output_type": "execute_result",
          "data": {
            "text/plain": [
              "         p_recall   timestamp   delta user_id learning_language ui_language  \\\n",
              "2436          1.0  1362082652     319  u:iGhR                en          es   \n",
              "11937         1.0  1362083170     518  u:iGhR                en          es   \n",
              "862817        1.0  1362152282   69112  u:iGhR                en          es   \n",
              "4032636       1.0  1362414439  262157  u:iGhR                en          es   \n",
              "\n",
              "                                lexeme_id        lexeme_string  history_seen  \\\n",
              "2436     1e1f8d730c4ba99ad2873a7608324cf6  my/my<det><pos><sp>             8   \n",
              "11937    1e1f8d730c4ba99ad2873a7608324cf6  my/my<det><pos><sp>             9   \n",
              "862817   1e1f8d730c4ba99ad2873a7608324cf6  my/my<det><pos><sp>            10   \n",
              "4032636  1e1f8d730c4ba99ad2873a7608324cf6  my/my<det><pos><sp>            11   \n",
              "\n",
              "         history_correct  session_seen  session_correct            Datetime  \\\n",
              "2436                   8             1                1 2013-02-28 20:17:32   \n",
              "11937                  9             1                1 2013-02-28 20:26:10   \n",
              "862817                10             1                1 2013-03-01 15:38:02   \n",
              "4032636               11             2                2 2013-03-04 16:27:19   \n",
              "\n",
              "               delta_dt                cut_delta  lang_tup        Date  \n",
              "2436    0 days 00:05:19  (-40327.361, 4032837.1]  (es, en)  2013-02-28  \n",
              "11937   0 days 00:08:38  (-40327.361, 4032837.1]  (es, en)  2013-02-28  \n",
              "862817  0 days 19:11:52  (-40327.361, 4032837.1]  (es, en)  2013-03-01  \n",
              "4032636 3 days 00:49:17  (-40327.361, 4032837.1]  (es, en)  2013-03-04  "
            ],
            "text/html": [
              "\n",
              "  <div id=\"df-16ebfb5e-6b84-4694-b37b-c331aa7b993b\">\n",
              "    <div class=\"colab-df-container\">\n",
              "      <div>\n",
              "<style scoped>\n",
              "    .dataframe tbody tr th:only-of-type {\n",
              "        vertical-align: middle;\n",
              "    }\n",
              "\n",
              "    .dataframe tbody tr th {\n",
              "        vertical-align: top;\n",
              "    }\n",
              "\n",
              "    .dataframe thead th {\n",
              "        text-align: right;\n",
              "    }\n",
              "</style>\n",
              "<table border=\"1\" class=\"dataframe\">\n",
              "  <thead>\n",
              "    <tr style=\"text-align: right;\">\n",
              "      <th></th>\n",
              "      <th>p_recall</th>\n",
              "      <th>timestamp</th>\n",
              "      <th>delta</th>\n",
              "      <th>user_id</th>\n",
              "      <th>learning_language</th>\n",
              "      <th>ui_language</th>\n",
              "      <th>lexeme_id</th>\n",
              "      <th>lexeme_string</th>\n",
              "      <th>history_seen</th>\n",
              "      <th>history_correct</th>\n",
              "      <th>session_seen</th>\n",
              "      <th>session_correct</th>\n",
              "      <th>Datetime</th>\n",
              "      <th>delta_dt</th>\n",
              "      <th>cut_delta</th>\n",
              "      <th>lang_tup</th>\n",
              "      <th>Date</th>\n",
              "    </tr>\n",
              "  </thead>\n",
              "  <tbody>\n",
              "    <tr>\n",
              "      <th>2436</th>\n",
              "      <td>1.0</td>\n",
              "      <td>1362082652</td>\n",
              "      <td>319</td>\n",
              "      <td>u:iGhR</td>\n",
              "      <td>en</td>\n",
              "      <td>es</td>\n",
              "      <td>1e1f8d730c4ba99ad2873a7608324cf6</td>\n",
              "      <td>my/my&lt;det&gt;&lt;pos&gt;&lt;sp&gt;</td>\n",
              "      <td>8</td>\n",
              "      <td>8</td>\n",
              "      <td>1</td>\n",
              "      <td>1</td>\n",
              "      <td>2013-02-28 20:17:32</td>\n",
              "      <td>0 days 00:05:19</td>\n",
              "      <td>(-40327.361, 4032837.1]</td>\n",
              "      <td>(es, en)</td>\n",
              "      <td>2013-02-28</td>\n",
              "    </tr>\n",
              "    <tr>\n",
              "      <th>11937</th>\n",
              "      <td>1.0</td>\n",
              "      <td>1362083170</td>\n",
              "      <td>518</td>\n",
              "      <td>u:iGhR</td>\n",
              "      <td>en</td>\n",
              "      <td>es</td>\n",
              "      <td>1e1f8d730c4ba99ad2873a7608324cf6</td>\n",
              "      <td>my/my&lt;det&gt;&lt;pos&gt;&lt;sp&gt;</td>\n",
              "      <td>9</td>\n",
              "      <td>9</td>\n",
              "      <td>1</td>\n",
              "      <td>1</td>\n",
              "      <td>2013-02-28 20:26:10</td>\n",
              "      <td>0 days 00:08:38</td>\n",
              "      <td>(-40327.361, 4032837.1]</td>\n",
              "      <td>(es, en)</td>\n",
              "      <td>2013-02-28</td>\n",
              "    </tr>\n",
              "    <tr>\n",
              "      <th>862817</th>\n",
              "      <td>1.0</td>\n",
              "      <td>1362152282</td>\n",
              "      <td>69112</td>\n",
              "      <td>u:iGhR</td>\n",
              "      <td>en</td>\n",
              "      <td>es</td>\n",
              "      <td>1e1f8d730c4ba99ad2873a7608324cf6</td>\n",
              "      <td>my/my&lt;det&gt;&lt;pos&gt;&lt;sp&gt;</td>\n",
              "      <td>10</td>\n",
              "      <td>10</td>\n",
              "      <td>1</td>\n",
              "      <td>1</td>\n",
              "      <td>2013-03-01 15:38:02</td>\n",
              "      <td>0 days 19:11:52</td>\n",
              "      <td>(-40327.361, 4032837.1]</td>\n",
              "      <td>(es, en)</td>\n",
              "      <td>2013-03-01</td>\n",
              "    </tr>\n",
              "    <tr>\n",
              "      <th>4032636</th>\n",
              "      <td>1.0</td>\n",
              "      <td>1362414439</td>\n",
              "      <td>262157</td>\n",
              "      <td>u:iGhR</td>\n",
              "      <td>en</td>\n",
              "      <td>es</td>\n",
              "      <td>1e1f8d730c4ba99ad2873a7608324cf6</td>\n",
              "      <td>my/my&lt;det&gt;&lt;pos&gt;&lt;sp&gt;</td>\n",
              "      <td>11</td>\n",
              "      <td>11</td>\n",
              "      <td>2</td>\n",
              "      <td>2</td>\n",
              "      <td>2013-03-04 16:27:19</td>\n",
              "      <td>3 days 00:49:17</td>\n",
              "      <td>(-40327.361, 4032837.1]</td>\n",
              "      <td>(es, en)</td>\n",
              "      <td>2013-03-04</td>\n",
              "    </tr>\n",
              "  </tbody>\n",
              "</table>\n",
              "</div>\n",
              "      <button class=\"colab-df-convert\" onclick=\"convertToInteractive('df-16ebfb5e-6b84-4694-b37b-c331aa7b993b')\"\n",
              "              title=\"Convert this dataframe to an interactive table.\"\n",
              "              style=\"display:none;\">\n",
              "        \n",
              "  <svg xmlns=\"http://www.w3.org/2000/svg\" height=\"24px\"viewBox=\"0 0 24 24\"\n",
              "       width=\"24px\">\n",
              "    <path d=\"M0 0h24v24H0V0z\" fill=\"none\"/>\n",
              "    <path d=\"M18.56 5.44l.94 2.06.94-2.06 2.06-.94-2.06-.94-.94-2.06-.94 2.06-2.06.94zm-11 1L8.5 8.5l.94-2.06 2.06-.94-2.06-.94L8.5 2.5l-.94 2.06-2.06.94zm10 10l.94 2.06.94-2.06 2.06-.94-2.06-.94-.94-2.06-.94 2.06-2.06.94z\"/><path d=\"M17.41 7.96l-1.37-1.37c-.4-.4-.92-.59-1.43-.59-.52 0-1.04.2-1.43.59L10.3 9.45l-7.72 7.72c-.78.78-.78 2.05 0 2.83L4 21.41c.39.39.9.59 1.41.59.51 0 1.02-.2 1.41-.59l7.78-7.78 2.81-2.81c.8-.78.8-2.07 0-2.86zM5.41 20L4 18.59l7.72-7.72 1.47 1.35L5.41 20z\"/>\n",
              "  </svg>\n",
              "      </button>\n",
              "      \n",
              "  <style>\n",
              "    .colab-df-container {\n",
              "      display:flex;\n",
              "      flex-wrap:wrap;\n",
              "      gap: 12px;\n",
              "    }\n",
              "\n",
              "    .colab-df-convert {\n",
              "      background-color: #E8F0FE;\n",
              "      border: none;\n",
              "      border-radius: 50%;\n",
              "      cursor: pointer;\n",
              "      display: none;\n",
              "      fill: #1967D2;\n",
              "      height: 32px;\n",
              "      padding: 0 0 0 0;\n",
              "      width: 32px;\n",
              "    }\n",
              "\n",
              "    .colab-df-convert:hover {\n",
              "      background-color: #E2EBFA;\n",
              "      box-shadow: 0px 1px 2px rgba(60, 64, 67, 0.3), 0px 1px 3px 1px rgba(60, 64, 67, 0.15);\n",
              "      fill: #174EA6;\n",
              "    }\n",
              "\n",
              "    [theme=dark] .colab-df-convert {\n",
              "      background-color: #3B4455;\n",
              "      fill: #D2E3FC;\n",
              "    }\n",
              "\n",
              "    [theme=dark] .colab-df-convert:hover {\n",
              "      background-color: #434B5C;\n",
              "      box-shadow: 0px 1px 3px 1px rgba(0, 0, 0, 0.15);\n",
              "      filter: drop-shadow(0px 1px 2px rgba(0, 0, 0, 0.3));\n",
              "      fill: #FFFFFF;\n",
              "    }\n",
              "  </style>\n",
              "\n",
              "      <script>\n",
              "        const buttonEl =\n",
              "          document.querySelector('#df-16ebfb5e-6b84-4694-b37b-c331aa7b993b button.colab-df-convert');\n",
              "        buttonEl.style.display =\n",
              "          google.colab.kernel.accessAllowed ? 'block' : 'none';\n",
              "\n",
              "        async function convertToInteractive(key) {\n",
              "          const element = document.querySelector('#df-16ebfb5e-6b84-4694-b37b-c331aa7b993b');\n",
              "          const dataTable =\n",
              "            await google.colab.kernel.invokeFunction('convertToInteractive',\n",
              "                                                     [key], {});\n",
              "          if (!dataTable) return;\n",
              "\n",
              "          const docLinkHtml = 'Like what you see? Visit the ' +\n",
              "            '<a target=\"_blank\" href=https://colab.research.google.com/notebooks/data_table.ipynb>data table notebook</a>'\n",
              "            + ' to learn more about interactive tables.';\n",
              "          element.innerHTML = '';\n",
              "          dataTable['output_type'] = 'display_data';\n",
              "          await google.colab.output.renderOutput(dataTable, element);\n",
              "          const docLink = document.createElement('div');\n",
              "          docLink.innerHTML = docLinkHtml;\n",
              "          element.appendChild(docLink);\n",
              "        }\n",
              "      </script>\n",
              "    </div>\n",
              "  </div>\n",
              "  "
            ]
          },
          "metadata": {},
          "execution_count": 87
        }
      ]
    },
    {
      "cell_type": "code",
      "source": [
        "datadf['delta'].hist()"
      ],
      "metadata": {
        "colab": {
          "base_uri": "https://localhost:8080/",
          "height": 168
        },
        "id": "Aejiy6t5K0V_",
        "outputId": "20d17b4f-e000-42fa-b04a-191d62de90bc"
      },
      "execution_count": null,
      "outputs": [
        {
          "output_type": "error",
          "ename": "NameError",
          "evalue": "ignored",
          "traceback": [
            "\u001b[0;31m---------------------------------------------------------------------------\u001b[0m",
            "\u001b[0;31mNameError\u001b[0m                                 Traceback (most recent call last)",
            "\u001b[0;32m<ipython-input-1-034b43dd966d>\u001b[0m in \u001b[0;36m<module>\u001b[0;34m()\u001b[0m\n\u001b[0;32m----> 1\u001b[0;31m \u001b[0mdatadf\u001b[0m\u001b[0;34m[\u001b[0m\u001b[0;34m'delta'\u001b[0m\u001b[0;34m]\u001b[0m\u001b[0;34m.\u001b[0m\u001b[0mhist\u001b[0m\u001b[0;34m(\u001b[0m\u001b[0;34m)\u001b[0m\u001b[0;34m\u001b[0m\u001b[0;34m\u001b[0m\u001b[0m\n\u001b[0m",
            "\u001b[0;31mNameError\u001b[0m: name 'datadf' is not defined"
          ]
        }
      ]
    }
  ]
}