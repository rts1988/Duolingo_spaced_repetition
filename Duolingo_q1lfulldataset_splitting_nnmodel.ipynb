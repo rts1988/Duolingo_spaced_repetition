{
  "nbformat": 4,
  "nbformat_minor": 0,
  "metadata": {
    "colab": {
      "name": "Duolingo_q1lfulldataset_splitting_nnmodel.ipynb",
      "provenance": [],
      "machine_shape": "hm",
      "collapsed_sections": [],
      "authorship_tag": "ABX9TyPW1iaWmGJjOtxotip7rwQI",
      "include_colab_link": true
    },
    "kernelspec": {
      "name": "python3",
      "display_name": "Python 3"
    },
    "language_info": {
      "name": "python"
    },
    "gpuClass": "standard",
    "accelerator": "GPU"
  },
  "cells": [
    {
      "cell_type": "markdown",
      "metadata": {
        "id": "view-in-github",
        "colab_type": "text"
      },
      "source": [
        "<a href=\"https://colab.research.google.com/github/rts1988/Duolingo_spaced_repetition/blob/main/Duolingo_q1lfulldataset_splitting_nnmodel.ipynb\" target=\"_parent\"><img src=\"https://colab.research.google.com/assets/colab-badge.svg\" alt=\"Open In Colab\"/></a>"
      ]
    },
    {
      "cell_type": "markdown",
      "source": [
        "Approach: \n",
        "Split Xq1 and yq1 into 80-20 train validation split.\n",
        "save them as separate. \n",
        "\n",
        "looking at\n",
        "1. log reg\n",
        "2. decision tree\n",
        "3. skipping svm and knn.\n",
        "4. random forest\n",
        "5. adaboost\n",
        "6. xgboost\n",
        "7. neural net dense in keras\n",
        "\n",
        "compare best performances for each type of model. "
      ],
      "metadata": {
        "id": "E5X6w6X5PQcc"
      }
    },
    {
      "cell_type": "code",
      "source": [
        "#!nvidia-smi\n",
        "!nvcc --version"
      ],
      "metadata": {
        "colab": {
          "base_uri": "https://localhost:8080/"
        },
        "id": "hfouXk18aS9I",
        "outputId": "405365ce-e19b-46c0-c2ac-b6765b2df71f"
      },
      "execution_count": 1,
      "outputs": [
        {
          "output_type": "stream",
          "name": "stdout",
          "text": [
            "nvcc: NVIDIA (R) Cuda compiler driver\n",
            "Copyright (c) 2005-2020 NVIDIA Corporation\n",
            "Built on Mon_Oct_12_20:09:46_PDT_2020\n",
            "Cuda compilation tools, release 11.1, V11.1.105\n",
            "Build cuda_11.1.TC455_06.29190527_0\n"
          ]
        }
      ]
    },
    {
      "cell_type": "code",
      "source": [
        "import tensorflow as tf\n",
        "tf.test.gpu_device_name()"
      ],
      "metadata": {
        "colab": {
          "base_uri": "https://localhost:8080/",
          "height": 41
        },
        "id": "k62Md2hlakAE",
        "outputId": "5a0df4e0-aad9-48c4-b8ae-a9362adc574e"
      },
      "execution_count": 2,
      "outputs": [
        {
          "output_type": "execute_result",
          "data": {
            "text/plain": [
              "'/device:GPU:0'"
            ],
            "application/vnd.google.colaboratory.intrinsic+json": {
              "type": "string"
            }
          },
          "metadata": {},
          "execution_count": 2
        }
      ]
    },
    {
      "cell_type": "code",
      "source": [
        "!cat /usr/local/lib/python3.6/dist-packages/external/local_config_cuda/cuda/cuda/cuda_config.h |\\\n",
        "grep TF_CUDA_VERSION"
      ],
      "metadata": {
        "colab": {
          "base_uri": "https://localhost:8080/"
        },
        "id": "dOx0P2-FayJ9",
        "outputId": "ed8cbfc7-2819-456c-cda3-9765bb6083b9"
      },
      "execution_count": 3,
      "outputs": [
        {
          "output_type": "stream",
          "name": "stdout",
          "text": [
            "cat: /usr/local/lib/python3.6/dist-packages/external/local_config_cuda/cuda/cuda/cuda_config.h: No such file or directory\n"
          ]
        }
      ]
    },
    {
      "cell_type": "code",
      "source": [
        "!pip install mxnet-cu80\n",
        "import mxnet as mx"
      ],
      "metadata": {
        "colab": {
          "base_uri": "https://localhost:8080/",
          "height": 745
        },
        "id": "FJjBILvFa-TY",
        "outputId": "36095f60-9022-43b4-8805-99e9e438ff95"
      },
      "execution_count": null,
      "outputs": [
        {
          "output_type": "stream",
          "name": "stdout",
          "text": [
            "Looking in indexes: https://pypi.org/simple, https://us-python.pkg.dev/colab-wheels/public/simple/\n",
            "Collecting mxnet-cu80\n",
            "  Downloading mxnet_cu80-1.5.0-py2.py3-none-manylinux1_x86_64.whl (372.1 MB)\n",
            "\u001b[K     |████████████████████████████████| 372.1 MB 25 kB/s \n",
            "\u001b[?25hRequirement already satisfied: requests<3,>=2.20.0 in /usr/local/lib/python3.7/dist-packages (from mxnet-cu80) (2.23.0)\n",
            "Requirement already satisfied: numpy<2.0.0,>1.16.0 in /usr/local/lib/python3.7/dist-packages (from mxnet-cu80) (1.21.6)\n",
            "Collecting graphviz<0.9.0,>=0.8.1\n",
            "  Downloading graphviz-0.8.4-py2.py3-none-any.whl (16 kB)\n",
            "Requirement already satisfied: certifi>=2017.4.17 in /usr/local/lib/python3.7/dist-packages (from requests<3,>=2.20.0->mxnet-cu80) (2022.6.15)\n",
            "Requirement already satisfied: chardet<4,>=3.0.2 in /usr/local/lib/python3.7/dist-packages (from requests<3,>=2.20.0->mxnet-cu80) (3.0.4)\n",
            "Requirement already satisfied: idna<3,>=2.5 in /usr/local/lib/python3.7/dist-packages (from requests<3,>=2.20.0->mxnet-cu80) (2.10)\n",
            "Requirement already satisfied: urllib3!=1.25.0,!=1.25.1,<1.26,>=1.21.1 in /usr/local/lib/python3.7/dist-packages (from requests<3,>=2.20.0->mxnet-cu80) (1.24.3)\n",
            "Installing collected packages: graphviz, mxnet-cu80\n",
            "  Attempting uninstall: graphviz\n",
            "    Found existing installation: graphviz 0.10.1\n",
            "    Uninstalling graphviz-0.10.1:\n",
            "      Successfully uninstalled graphviz-0.10.1\n",
            "Successfully installed graphviz-0.8.4 mxnet-cu80-1.5.0\n"
          ]
        },
        {
          "output_type": "error",
          "ename": "OSError",
          "evalue": "ignored",
          "traceback": [
            "\u001b[0;31m---------------------------------------------------------------------------\u001b[0m",
            "\u001b[0;31mOSError\u001b[0m                                   Traceback (most recent call last)",
            "\u001b[0;32m<ipython-input-6-efb1b77d8eef>\u001b[0m in \u001b[0;36m<module>\u001b[0;34m()\u001b[0m\n\u001b[1;32m      1\u001b[0m \u001b[0mget_ipython\u001b[0m\u001b[0;34m(\u001b[0m\u001b[0;34m)\u001b[0m\u001b[0;34m.\u001b[0m\u001b[0msystem\u001b[0m\u001b[0;34m(\u001b[0m\u001b[0;34m'pip install mxnet-cu80'\u001b[0m\u001b[0;34m)\u001b[0m\u001b[0;34m\u001b[0m\u001b[0;34m\u001b[0m\u001b[0m\n\u001b[0;32m----> 2\u001b[0;31m \u001b[0;32mimport\u001b[0m \u001b[0mmxnet\u001b[0m \u001b[0;32mas\u001b[0m \u001b[0mmx\u001b[0m\u001b[0;34m\u001b[0m\u001b[0;34m\u001b[0m\u001b[0m\n\u001b[0m",
            "\u001b[0;32m/usr/local/lib/python3.7/dist-packages/mxnet/__init__.py\u001b[0m in \u001b[0;36m<module>\u001b[0;34m()\u001b[0m\n\u001b[1;32m     22\u001b[0m \u001b[0;32mfrom\u001b[0m \u001b[0m__future__\u001b[0m \u001b[0;32mimport\u001b[0m \u001b[0mabsolute_import\u001b[0m\u001b[0;34m\u001b[0m\u001b[0;34m\u001b[0m\u001b[0m\n\u001b[1;32m     23\u001b[0m \u001b[0;34m\u001b[0m\u001b[0m\n\u001b[0;32m---> 24\u001b[0;31m \u001b[0;32mfrom\u001b[0m \u001b[0;34m.\u001b[0m\u001b[0mcontext\u001b[0m \u001b[0;32mimport\u001b[0m \u001b[0mContext\u001b[0m\u001b[0;34m,\u001b[0m \u001b[0mcurrent_context\u001b[0m\u001b[0;34m,\u001b[0m \u001b[0mcpu\u001b[0m\u001b[0;34m,\u001b[0m \u001b[0mgpu\u001b[0m\u001b[0;34m,\u001b[0m \u001b[0mcpu_pinned\u001b[0m\u001b[0;34m\u001b[0m\u001b[0;34m\u001b[0m\u001b[0m\n\u001b[0m\u001b[1;32m     25\u001b[0m \u001b[0;32mfrom\u001b[0m \u001b[0;34m.\u001b[0m \u001b[0;32mimport\u001b[0m \u001b[0mengine\u001b[0m\u001b[0;34m\u001b[0m\u001b[0;34m\u001b[0m\u001b[0m\n\u001b[1;32m     26\u001b[0m \u001b[0;32mfrom\u001b[0m \u001b[0;34m.\u001b[0m\u001b[0mbase\u001b[0m \u001b[0;32mimport\u001b[0m \u001b[0mMXNetError\u001b[0m\u001b[0;34m\u001b[0m\u001b[0;34m\u001b[0m\u001b[0m\n",
            "\u001b[0;32m/usr/local/lib/python3.7/dist-packages/mxnet/context.py\u001b[0m in \u001b[0;36m<module>\u001b[0;34m()\u001b[0m\n\u001b[1;32m     22\u001b[0m \u001b[0;32mimport\u001b[0m \u001b[0mwarnings\u001b[0m\u001b[0;34m\u001b[0m\u001b[0;34m\u001b[0m\u001b[0m\n\u001b[1;32m     23\u001b[0m \u001b[0;32mimport\u001b[0m \u001b[0mctypes\u001b[0m\u001b[0;34m\u001b[0m\u001b[0;34m\u001b[0m\u001b[0m\n\u001b[0;32m---> 24\u001b[0;31m \u001b[0;32mfrom\u001b[0m \u001b[0;34m.\u001b[0m\u001b[0mbase\u001b[0m \u001b[0;32mimport\u001b[0m \u001b[0mclassproperty\u001b[0m\u001b[0;34m,\u001b[0m \u001b[0mwith_metaclass\u001b[0m\u001b[0;34m,\u001b[0m \u001b[0m_MXClassPropertyMetaClass\u001b[0m\u001b[0;34m\u001b[0m\u001b[0;34m\u001b[0m\u001b[0m\n\u001b[0m\u001b[1;32m     25\u001b[0m \u001b[0;32mfrom\u001b[0m \u001b[0;34m.\u001b[0m\u001b[0mbase\u001b[0m \u001b[0;32mimport\u001b[0m \u001b[0m_LIB\u001b[0m\u001b[0;34m\u001b[0m\u001b[0;34m\u001b[0m\u001b[0m\n\u001b[1;32m     26\u001b[0m \u001b[0;32mfrom\u001b[0m \u001b[0;34m.\u001b[0m\u001b[0mbase\u001b[0m \u001b[0;32mimport\u001b[0m \u001b[0mcheck_call\u001b[0m\u001b[0;34m\u001b[0m\u001b[0;34m\u001b[0m\u001b[0m\n",
            "\u001b[0;32m/usr/local/lib/python3.7/dist-packages/mxnet/base.py\u001b[0m in \u001b[0;36m<module>\u001b[0;34m()\u001b[0m\n\u001b[1;32m    211\u001b[0m \u001b[0m__version__\u001b[0m \u001b[0;34m=\u001b[0m \u001b[0mlibinfo\u001b[0m\u001b[0;34m.\u001b[0m\u001b[0m__version__\u001b[0m\u001b[0;34m\u001b[0m\u001b[0;34m\u001b[0m\u001b[0m\n\u001b[1;32m    212\u001b[0m \u001b[0;31m# library instance of mxnet\u001b[0m\u001b[0;34m\u001b[0m\u001b[0;34m\u001b[0m\u001b[0;34m\u001b[0m\u001b[0m\n\u001b[0;32m--> 213\u001b[0;31m \u001b[0m_LIB\u001b[0m \u001b[0;34m=\u001b[0m \u001b[0m_load_lib\u001b[0m\u001b[0;34m(\u001b[0m\u001b[0;34m)\u001b[0m\u001b[0;34m\u001b[0m\u001b[0;34m\u001b[0m\u001b[0m\n\u001b[0m\u001b[1;32m    214\u001b[0m \u001b[0;34m\u001b[0m\u001b[0m\n\u001b[1;32m    215\u001b[0m \u001b[0;31m# type definitions\u001b[0m\u001b[0;34m\u001b[0m\u001b[0;34m\u001b[0m\u001b[0;34m\u001b[0m\u001b[0m\n",
            "\u001b[0;32m/usr/local/lib/python3.7/dist-packages/mxnet/base.py\u001b[0m in \u001b[0;36m_load_lib\u001b[0;34m()\u001b[0m\n\u001b[1;32m    202\u001b[0m     \u001b[0;34m\"\"\"Load library by searching possible path.\"\"\"\u001b[0m\u001b[0;34m\u001b[0m\u001b[0;34m\u001b[0m\u001b[0m\n\u001b[1;32m    203\u001b[0m     \u001b[0mlib_path\u001b[0m \u001b[0;34m=\u001b[0m \u001b[0mlibinfo\u001b[0m\u001b[0;34m.\u001b[0m\u001b[0mfind_lib_path\u001b[0m\u001b[0;34m(\u001b[0m\u001b[0;34m)\u001b[0m\u001b[0;34m\u001b[0m\u001b[0;34m\u001b[0m\u001b[0m\n\u001b[0;32m--> 204\u001b[0;31m     \u001b[0mlib\u001b[0m \u001b[0;34m=\u001b[0m \u001b[0mctypes\u001b[0m\u001b[0;34m.\u001b[0m\u001b[0mCDLL\u001b[0m\u001b[0;34m(\u001b[0m\u001b[0mlib_path\u001b[0m\u001b[0;34m[\u001b[0m\u001b[0;36m0\u001b[0m\u001b[0;34m]\u001b[0m\u001b[0;34m,\u001b[0m \u001b[0mctypes\u001b[0m\u001b[0;34m.\u001b[0m\u001b[0mRTLD_LOCAL\u001b[0m\u001b[0;34m)\u001b[0m\u001b[0;34m\u001b[0m\u001b[0;34m\u001b[0m\u001b[0m\n\u001b[0m\u001b[1;32m    205\u001b[0m     \u001b[0;31m# DMatrix functions\u001b[0m\u001b[0;34m\u001b[0m\u001b[0;34m\u001b[0m\u001b[0;34m\u001b[0m\u001b[0m\n\u001b[1;32m    206\u001b[0m     \u001b[0mlib\u001b[0m\u001b[0;34m.\u001b[0m\u001b[0mMXGetLastError\u001b[0m\u001b[0;34m.\u001b[0m\u001b[0mrestype\u001b[0m \u001b[0;34m=\u001b[0m \u001b[0mctypes\u001b[0m\u001b[0;34m.\u001b[0m\u001b[0mc_char_p\u001b[0m\u001b[0;34m\u001b[0m\u001b[0;34m\u001b[0m\u001b[0m\n",
            "\u001b[0;32m/usr/lib/python3.7/ctypes/__init__.py\u001b[0m in \u001b[0;36m__init__\u001b[0;34m(self, name, mode, handle, use_errno, use_last_error)\u001b[0m\n\u001b[1;32m    362\u001b[0m \u001b[0;34m\u001b[0m\u001b[0m\n\u001b[1;32m    363\u001b[0m         \u001b[0;32mif\u001b[0m \u001b[0mhandle\u001b[0m \u001b[0;32mis\u001b[0m \u001b[0;32mNone\u001b[0m\u001b[0;34m:\u001b[0m\u001b[0;34m\u001b[0m\u001b[0;34m\u001b[0m\u001b[0m\n\u001b[0;32m--> 364\u001b[0;31m             \u001b[0mself\u001b[0m\u001b[0;34m.\u001b[0m\u001b[0m_handle\u001b[0m \u001b[0;34m=\u001b[0m \u001b[0m_dlopen\u001b[0m\u001b[0;34m(\u001b[0m\u001b[0mself\u001b[0m\u001b[0;34m.\u001b[0m\u001b[0m_name\u001b[0m\u001b[0;34m,\u001b[0m \u001b[0mmode\u001b[0m\u001b[0;34m)\u001b[0m\u001b[0;34m\u001b[0m\u001b[0;34m\u001b[0m\u001b[0m\n\u001b[0m\u001b[1;32m    365\u001b[0m         \u001b[0;32melse\u001b[0m\u001b[0;34m:\u001b[0m\u001b[0;34m\u001b[0m\u001b[0;34m\u001b[0m\u001b[0m\n\u001b[1;32m    366\u001b[0m             \u001b[0mself\u001b[0m\u001b[0;34m.\u001b[0m\u001b[0m_handle\u001b[0m \u001b[0;34m=\u001b[0m \u001b[0mhandle\u001b[0m\u001b[0;34m\u001b[0m\u001b[0;34m\u001b[0m\u001b[0m\n",
            "\u001b[0;31mOSError\u001b[0m: libcudart.so.8.0: cannot open shared object file: No such file or directory"
          ]
        }
      ]
    },
    {
      "cell_type": "code",
      "source": [
        "a = mx.nd.ones((2, 3), mx.gpu())\n",
        "b = a * 2 + 1\n",
        "b.asnumpy()"
      ],
      "metadata": {
        "id": "R4aBfVF5bBCS"
      },
      "execution_count": null,
      "outputs": []
    },
    {
      "cell_type": "markdown",
      "source": [
        "Getting yq1 and Xq1:\n",
        "\n",
        "Getting yq1 from datadfq1"
      ],
      "metadata": {
        "id": "KnpvNDT7lpB6"
      }
    },
    {
      "cell_type": "code",
      "execution_count": 4,
      "metadata": {
        "id": "R-WTApfQPI6o",
        "colab": {
          "base_uri": "https://localhost:8080/"
        },
        "outputId": "2fe3abd0-aa0a-4efb-c40c-a8e0f427dfe2"
      },
      "outputs": [
        {
          "output_type": "stream",
          "name": "stdout",
          "text": [
            "Mounted at /content/drive\n"
          ]
        }
      ],
      "source": [
        "import bz2\n",
        "import pickle\n",
        "import _pickle as cPickle\n",
        "import pandas as pd\n",
        "import seaborn as sns\n",
        "import matplotlib.pyplot as plt\n",
        "import numpy as np\n",
        "\n",
        "from google.colab import drive\n",
        "drive.mount('/content/drive')\n",
        "\n",
        "def decompress_pickle(file):\n",
        " data = bz2.BZ2File(file, 'rb')\n",
        " data = cPickle.load(data)\n",
        " return data\n",
        "\n",
        "def compressed_pickle(title, data):  # do not add extension in filename\n",
        " with bz2.BZ2File(title + '.pbz2', 'w') as f: \n",
        "  cPickle.dump(data, f)\n",
        "\n",
        "path_name = '/content/drive/MyDrive/'"
      ]
    },
    {
      "cell_type": "markdown",
      "source": [
        "Getting saved yq1 from drive:"
      ],
      "metadata": {
        "id": "JRRJQTRsvDQm"
      }
    },
    {
      "cell_type": "markdown",
      "source": [
        "Gatting Xq1 from drive"
      ],
      "metadata": {
        "id": "D6YprWvGmWgx"
      }
    },
    {
      "cell_type": "code",
      "source": [
        "Xq1 = decompress_pickle(path_name+\"Xq1all.pbz2\") \n",
        "yq1 = decompress_pickle(path_name+\"yq1all.pbz2\") "
      ],
      "metadata": {
        "id": "xiXT2KTQmV5Y"
      },
      "execution_count": 5,
      "outputs": []
    },
    {
      "cell_type": "code",
      "source": [
        "type(Xq1), type(yq1)"
      ],
      "metadata": {
        "colab": {
          "base_uri": "https://localhost:8080/"
        },
        "id": "G9QMPnwGmpPT",
        "outputId": "ae4c2cac-51f2-44ce-e264-1c02ae372b40"
      },
      "execution_count": 6,
      "outputs": [
        {
          "output_type": "execute_result",
          "data": {
            "text/plain": [
              "(scipy.sparse.coo.coo_matrix, pandas.core.series.Series)"
            ]
          },
          "metadata": {},
          "execution_count": 6
        }
      ]
    },
    {
      "cell_type": "code",
      "source": [
        "from scipy.sparse import coo_matrix"
      ],
      "metadata": {
        "id": "Mzwo-xM9nAQn"
      },
      "execution_count": 7,
      "outputs": []
    },
    {
      "cell_type": "code",
      "source": [
        "Xq1.shape, yq1.shape"
      ],
      "metadata": {
        "colab": {
          "base_uri": "https://localhost:8080/"
        },
        "id": "MP9Rke5lnXG_",
        "outputId": "e6c48189-1c03-43f1-b4c2-7e33c48deb7b"
      },
      "execution_count": 8,
      "outputs": [
        {
          "output_type": "execute_result",
          "data": {
            "text/plain": [
              "((7313354, 2233), (7313354,))"
            ]
          },
          "metadata": {},
          "execution_count": 8
        }
      ]
    },
    {
      "cell_type": "markdown",
      "source": [
        "splitting into 80-20 training and validation set with a random state = 5. (had to remove stratify argument, because it doesn't work for sparse arrays)"
      ],
      "metadata": {
        "id": "xnaMooTbn_2O"
      }
    },
    {
      "cell_type": "code",
      "source": [
        "from sklearn.model_selection import train_test_split\n",
        "\n",
        "Xq1_train, Xq1_valid, yq1_train, yq1_valid = train_test_split(Xq1,yq1,test_size=0.2,random_state=5)"
      ],
      "metadata": {
        "id": "ZRtwPyivnH9X"
      },
      "execution_count": 9,
      "outputs": []
    },
    {
      "cell_type": "code",
      "source": [
        "Xq1_train.shape, Xq1_valid.shape, yq1_train.shape, yq1_valid.shape"
      ],
      "metadata": {
        "colab": {
          "base_uri": "https://localhost:8080/"
        },
        "id": "nMhbmTs9oHd0",
        "outputId": "2bc12446-34b2-4119-cf8c-423094603e7f"
      },
      "execution_count": 10,
      "outputs": [
        {
          "output_type": "execute_result",
          "data": {
            "text/plain": [
              "((5850683, 2233), (1462671, 2233), (5850683,), (1462671,))"
            ]
          },
          "metadata": {},
          "execution_count": 10
        }
      ]
    },
    {
      "cell_type": "markdown",
      "source": [
        "Fraction of ones in the train and validation sets"
      ],
      "metadata": {
        "id": "3uYfRNqVpjFt"
      }
    },
    {
      "cell_type": "code",
      "source": [
        "yq1_train.sum()/yq1_train.shape[0], yq1_valid.sum()/yq1_valid.shape[0]"
      ],
      "metadata": {
        "colab": {
          "base_uri": "https://localhost:8080/"
        },
        "id": "yrRvYfHeoNrA",
        "outputId": "122ea07d-4e45-4141-a7dd-e40de9f7159e"
      },
      "execution_count": 11,
      "outputs": [
        {
          "output_type": "execute_result",
          "data": {
            "text/plain": [
              "(0.1611603294863181, 0.16108748994134703)"
            ]
          },
          "metadata": {},
          "execution_count": 11
        }
      ]
    },
    {
      "cell_type": "markdown",
      "source": [
        "They are about the same, we will use this split to test a number of models. They are saved below:\n",
        "\n",
        "First, we scale and transform the data using the min-max scaler. "
      ],
      "metadata": {
        "id": "DWZtKI4Cppws"
      }
    },
    {
      "cell_type": "code",
      "source": [
        "from sklearn.preprocessing import MaxAbsScaler # used because sparse array not supported by MinMaxScaler\n",
        "mm_scaler = MaxAbsScaler()\n",
        "\n",
        "mm_scaler.fit(Xq1_train)\n",
        "Xq1_mm_train = mm_scaler.transform(Xq1_train)\n",
        "Xq1_mm_valid = mm_scaler.transform(Xq1_valid)\n"
      ],
      "metadata": {
        "id": "Rchgc0dFqH_C"
      },
      "execution_count": 12,
      "outputs": []
    },
    {
      "cell_type": "markdown",
      "source": [
        "### Keras Neural Net\n",
        " \n"
      ],
      "metadata": {
        "id": "4Tz2u-0Cq-jR"
      }
    },
    {
      "cell_type": "code",
      "source": [
        "import tensorflow as tf\n",
        "from tensorflow import keras\n",
        "from tensorflow.keras import layers"
      ],
      "metadata": {
        "id": "c2Pgzx6WJZVR"
      },
      "execution_count": 13,
      "outputs": []
    },
    {
      "cell_type": "markdown",
      "source": [
        "Converting Xq1 to sparse tensorflow tensor"
      ],
      "metadata": {
        "id": "2puKznUoK_Az"
      }
    },
    {
      "cell_type": "code",
      "source": [
        "Xq1_mm_train = Xq1_mm_train.tocoo()\n",
        "Xq1_mm_valid = Xq1_mm_valid.tocoo()"
      ],
      "metadata": {
        "id": "r0IFxAVdV5XB"
      },
      "execution_count": 17,
      "outputs": []
    },
    {
      "cell_type": "code",
      "source": [
        "indices_train = [[u,v] for u,v in zip(Xq1_mm_train.row,Xq1_mm_train.col)]\n",
        "indices_valid = [[u,v] for u,v in zip(Xq1_mm_valid.row,Xq1_mm_valid.col)]"
      ],
      "metadata": {
        "id": "76-NRl6uLZIe"
      },
      "execution_count": 18,
      "outputs": []
    },
    {
      "cell_type": "code",
      "source": [
        "values_train = Xq1_mm_train.data\n",
        "values_valid = Xq1_mm_valid.data"
      ],
      "metadata": {
        "id": "rwxA6tIwUZx5"
      },
      "execution_count": 19,
      "outputs": []
    },
    {
      "cell_type": "code",
      "source": [
        "dense_shape_train = [Xq1_mm_train.shape[0],Xq1_mm_train.shape[1]]\n",
        "dense_shape_valid = [Xq1_mm_valid.shape[0],Xq1_mm_valid.shape[1]]"
      ],
      "metadata": {
        "id": "iQkEQ3lyUrB6"
      },
      "execution_count": 20,
      "outputs": []
    },
    {
      "cell_type": "code",
      "source": [
        "Xq1_mm_train_tf = tf.sparse.SparseTensor(indices=indices_train,\n",
        "                      values=values_train,\n",
        "                      dense_shape=dense_shape_train)"
      ],
      "metadata": {
        "id": "s96wXAS2U1kU"
      },
      "execution_count": 21,
      "outputs": []
    },
    {
      "cell_type": "code",
      "source": [
        "Xq1_mm_valid_tf = tf.sparse.SparseTensor(indices=indices_valid,\n",
        "                      values=values_valid,\n",
        "                      dense_shape=dense_shape_valid)"
      ],
      "metadata": {
        "id": "upNJatwl8zAh"
      },
      "execution_count": 22,
      "outputs": []
    },
    {
      "cell_type": "code",
      "source": [
        "compressed_pickle(path_name+'sparse_tensor_Xq1_mm_train_tf',Xq1_mm_train_tf)\n",
        "compressed_pickle(path_name+'sparse_tensor_Xq1_mm_valid_tf',Xq1_mm_valid_tf)"
      ],
      "metadata": {
        "id": "p05LEluyWXPy"
      },
      "execution_count": 23,
      "outputs": []
    },
    {
      "cell_type": "code",
      "source": [
        "yq1_train_np = np.array(yq1_train)\n",
        "yq1_valid_np = np.array(yq1_valid)"
      ],
      "metadata": {
        "id": "05t96PYbWvVt"
      },
      "execution_count": 24,
      "outputs": []
    },
    {
      "cell_type": "code",
      "source": [
        "compressed_pickle(path_name+'yq1_train_nparray',yq1_train_np)\n",
        "compressed_pickle(path_name+'yq1_valid_nparray',yq1_train_np)"
      ],
      "metadata": {
        "id": "VdMLsAJ2Xj5h"
      },
      "execution_count": 28,
      "outputs": []
    },
    {
      "cell_type": "code",
      "source": [
        "# Create a new sequential model\n",
        "model = keras.Sequential()\n",
        "\n",
        "# Declare the hidden layers\n",
        "model.add(layers.Dense(2233, activation=\"relu\"))\n",
        "model.add(layers.Dense(2233, activation=\"relu\"))\n",
        "model.add(layers.Dense(1024, activation=\"relu\"))\n",
        "model.add(layers.Dense(256, activation=\"relu\"))\n",
        "model.add(layers.Dense(64, activation=\"relu\"))\n",
        "model.add(layers.Dense(16, activation=\"relu\"))\n",
        "\n",
        "# Declare the output layer\n",
        "model.add(layers.Dense(1, activation=\"sigmoid\"))"
      ],
      "metadata": {
        "id": "s_LTwHwDIdxP"
      },
      "execution_count": 25,
      "outputs": []
    },
    {
      "cell_type": "code",
      "source": [
        "model.compile(\n",
        "    # Optimizer\n",
        "    optimizer=keras.optimizers.Adam(),  \n",
        "    # Loss function to minimize\n",
        "    loss=keras.losses.BinaryCrossentropy(),\n",
        "    # Metric used to evaluate model\n",
        "    metrics=[keras.metrics.BinaryAccuracy()]\n",
        ")"
      ],
      "metadata": {
        "id": "oC9dbFiFJOeM"
      },
      "execution_count": 26,
      "outputs": []
    },
    {
      "cell_type": "markdown",
      "source": [
        "I've learned that increasing batch size to optimize run time is effective. "
      ],
      "metadata": {
        "id": "2yytS8TNOZII"
      }
    },
    {
      "cell_type": "code",
      "source": [
        "history = model.fit(Xq1_mm_train_tf, yq1_train_np, epochs=5, verbose=1, batch_size=40000,validation_data = (Xq1_mm_valid,yq1_valid_np))"
      ],
      "metadata": {
        "colab": {
          "base_uri": "https://localhost:8080/"
        },
        "id": "Cc39cXIfJTQf",
        "outputId": "e74621b2-41b9-4498-d7fd-805c7877c12c"
      },
      "execution_count": 30,
      "outputs": [
        {
          "output_type": "stream",
          "name": "stdout",
          "text": [
            "Epoch 1/5\n"
          ]
        },
        {
          "output_type": "stream",
          "name": "stderr",
          "text": [
            "/usr/local/lib/python3.7/dist-packages/tensorflow/python/framework/indexed_slices.py:446: UserWarning: Converting sparse IndexedSlices(IndexedSlices(indices=Tensor(\"gradient_tape/sequential/dense/embedding_lookup_sparse/Reshape_1:0\", shape=(None,), dtype=int32), values=Tensor(\"gradient_tape/sequential/dense/embedding_lookup_sparse/Reshape:0\", shape=(None, 2233), dtype=float32), dense_shape=Tensor(\"gradient_tape/sequential/dense/embedding_lookup_sparse/Cast:0\", shape=(2,), dtype=int32))) to a dense Tensor of unknown shape. This may consume a large amount of memory.\n",
            "  \"shape. This may consume a large amount of memory.\" % value)\n"
          ]
        },
        {
          "output_type": "stream",
          "name": "stdout",
          "text": [
            "147/147 [==============================] - 90s 495ms/step - loss: 0.4310 - binary_accuracy: 0.8342 - val_loss: 0.4168 - val_binary_accuracy: 0.8389\n",
            "Epoch 2/5\n",
            "147/147 [==============================] - 86s 491ms/step - loss: 0.4158 - binary_accuracy: 0.8396 - val_loss: 0.4155 - val_binary_accuracy: 0.8398\n",
            "Epoch 3/5\n",
            "147/147 [==============================] - 86s 494ms/step - loss: 0.4148 - binary_accuracy: 0.8400 - val_loss: 0.4150 - val_binary_accuracy: 0.8400\n",
            "Epoch 4/5\n",
            "147/147 [==============================] - 86s 494ms/step - loss: 0.4143 - binary_accuracy: 0.8400 - val_loss: 0.4148 - val_binary_accuracy: 0.8401\n",
            "Epoch 5/5\n",
            "147/147 [==============================] - 86s 495ms/step - loss: 0.4139 - binary_accuracy: 0.8401 - val_loss: 0.4150 - val_binary_accuracy: 0.8400\n"
          ]
        }
      ]
    },
    {
      "cell_type": "code",
      "source": [
        "compressed_pickle(path_name+\"history\",history)"
      ],
      "metadata": {
        "colab": {
          "base_uri": "https://localhost:8080/"
        },
        "id": "lnhWXQIWe0ga",
        "outputId": "a9118f10-5962-414d-9da9-61c61b8f7897"
      },
      "execution_count": 31,
      "outputs": [
        {
          "output_type": "stream",
          "name": "stdout",
          "text": [
            "INFO:tensorflow:Assets written to: ram://d6678e4a-2dd2-4f01-bdb1-e6637de3852c/assets\n"
          ]
        }
      ]
    },
    {
      "cell_type": "code",
      "source": [
        "yq1_valid_preds = model.predict(Xq1_mm_valid,batch_size=40000,verbose=2)"
      ],
      "metadata": {
        "colab": {
          "base_uri": "https://localhost:8080/"
        },
        "id": "m9gzQPNYJVW_",
        "outputId": "90e222ed-2066-4e2e-9256-e11209060c58"
      },
      "execution_count": 39,
      "outputs": [
        {
          "output_type": "stream",
          "name": "stdout",
          "text": [
            "37/37 - 6s - 6s/epoch - 173ms/step\n"
          ]
        }
      ]
    },
    {
      "cell_type": "code",
      "source": [
        ""
      ],
      "metadata": {
        "colab": {
          "base_uri": "https://localhost:8080/"
        },
        "id": "83jzqmFTKSkP",
        "outputId": "2b460b80-73ea-47a0-e6fa-93eb0e4de5f3"
      },
      "execution_count": 40,
      "outputs": [
        {
          "output_type": "execute_result",
          "data": {
            "text/plain": [
              "array([[0.21313871],\n",
              "       [0.10361329],\n",
              "       [0.09185846],\n",
              "       ...,\n",
              "       [0.0820886 ],\n",
              "       [0.1581438 ],\n",
              "       [0.12379754]], dtype=float32)"
            ]
          },
          "metadata": {},
          "execution_count": 40
        }
      ]
    },
    {
      "cell_type": "code",
      "source": [
        "from sklearn.metrics import accuracy_score, PrecisionRecallDisplay, roc_auc_score"
      ],
      "metadata": {
        "id": "XS4B0uVLJsyS"
      },
      "execution_count": 36,
      "outputs": []
    },
    {
      "cell_type": "code",
      "source": [
        "PrecisionRecallDisplay.from_predictions(yq1_valid_np,yq1_valid_preds)"
      ],
      "metadata": {
        "colab": {
          "base_uri": "https://localhost:8080/",
          "height": 297
        },
        "id": "hoX2g9I9Jvhl",
        "outputId": "5129d12f-3183-4950-b20f-c91aae15ace5"
      },
      "execution_count": 41,
      "outputs": [
        {
          "output_type": "execute_result",
          "data": {
            "text/plain": [
              "<sklearn.metrics._plot.precision_recall_curve.PrecisionRecallDisplay at 0x7f77009ec090>"
            ]
          },
          "metadata": {},
          "execution_count": 41
        },
        {
          "output_type": "display_data",
          "data": {
            "text/plain": [
              "<Figure size 432x288 with 1 Axes>"
            ],
            "image/png": "[encoded data removed]"
          },
          "metadata": {
            "needs_background": "light"
          }
        }
      ]
    },
    {
      "cell_type": "markdown",
      "source": [
        "Performance is equivalent to l1 penalty logistic regression without any class weight changes. "
      ],
      "metadata": {
        "id": "xC3k0lGIKdZ1"
      }
    }
  ]
}