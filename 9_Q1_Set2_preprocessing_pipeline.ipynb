{
  "nbformat": 4,
  "nbformat_minor": 0,
  "metadata": {
    "colab": {
      "name": "9_Q1_Set2_preprocessing_pipeline.ipynb",
      "provenance": [],
      "machine_shape": "hm",
      "collapsed_sections": [],
      "authorship_tag": "ABX9TyNMy8P7or+jSMzkD+tkLZPQ",
      "include_colab_link": true
    },
    "kernelspec": {
      "name": "python3",
      "display_name": "Python 3"
    },
    "language_info": {
      "name": "python"
    },
    "gpuClass": "standard"
  },
  "cells": [
    {
      "cell_type": "markdown",
      "metadata": {
        "id": "view-in-github",
        "colab_type": "text"
      },
      "source": [
        "<a href=\"https://colab.research.google.com/github/rts1988/Duolingo_spaced_repetition/blob/main/9_Q1_Set2_preprocessing_pipeline.ipynb\" target=\"_parent\"><img src=\"https://colab.research.google.com/assets/colab-badge.svg\" alt=\"Open In Colab\"/></a>"
      ]
    },
    {
      "cell_type": "markdown",
      "source": [
        "## <font color = 'cornflowerblue' size=4>Introduction</font>\n",
        "\n",
        "In this notebook, word vectors in addition to the lexeme strings and word features derived in previous notebooks are used as a feature set.\n",
        "\n",
        "Dimension reduction by PCA is done to bring the dataset to a reasonable size. \n",
        "\n",
        "After, the  features are joined to the main Q1 training set as compressed sparse matrix. \n",
        "\n",
        "The same preprocessing pipeline will be used to transform the Q1test set. \n",
        "\n",
        "This will make both datasets ready for modeling. \n",
        "\n",
        "Since larger dimensions are being dealt with, high-RAM option is selected:"
      ],
      "metadata": {
        "id": "VlsUIwyQ5Dsr"
      }
    },
    {
      "cell_type": "code",
      "execution_count": 1,
      "metadata": {
        "colab": {
          "base_uri": "https://localhost:8080/"
        },
        "id": "gUfGiXccKpih",
        "outputId": "508cd2ca-1178-4b39-9888-7cd46ef25f11"
      },
      "outputs": [
        {
          "output_type": "stream",
          "name": "stdout",
          "text": [
            "Your runtime has 54.8 gigabytes of available RAM\n",
            "\n"
          ]
        }
      ],
      "source": [
        "from psutil import virtual_memory\n",
        "ram_gb = virtual_memory().total / 1e9\n",
        "print('Your runtime has {:.1f} gigabytes of available RAM\\n'.format(ram_gb))"
      ]
    },
    {
      "cell_type": "markdown",
      "source": [
        "Importing libraries and mounting google drive:"
      ],
      "metadata": {
        "id": "KXHUqwRH6SUz"
      }
    },
    {
      "cell_type": "code",
      "source": [
        "import bz2\n",
        "import pickle\n",
        "import _pickle as cPickle\n",
        "import pandas as pd\n",
        "import seaborn as sns\n",
        "import matplotlib.pyplot as plt\n",
        "import numpy as np\n",
        "\n",
        "from google.colab import drive\n",
        "drive.mount('/content/drive')\n",
        "\n",
        "def decompress_pickle(file):\n",
        " data = bz2.BZ2File(file, 'rb')\n",
        " data = cPickle.load(data)\n",
        " return data\n",
        "\n",
        "def compressed_pickle(title, data):  # do not add extension in filename\n",
        " with bz2.BZ2File(title + '.pbz2', 'w') as f: \n",
        "  cPickle.dump(data, f)\n",
        "\n",
        "path_name = '/content/drive/MyDrive/'"
      ],
      "metadata": {
        "colab": {
          "base_uri": "https://localhost:8080/"
        },
        "id": "UA8ZfcqKLCX9",
        "outputId": "fc6e66f4-0277-4fd7-ed84-d1eafd150a01"
      },
      "execution_count": 5,
      "outputs": [
        {
          "output_type": "stream",
          "name": "stdout",
          "text": [
            "Drive already mounted at /content/drive; to attempt to forcibly remount, call drive.mount(\"/content/drive\", force_remount=True).\n"
          ]
        }
      ]
    },
    {
      "cell_type": "markdown",
      "source": [
        "Loading Q1 train set:"
      ],
      "metadata": {
        "id": "zkV1ZUvZ6c-X"
      }
    },
    {
      "cell_type": "code",
      "source": [
        "q1train = decompress_pickle(path_name+\"Q1TRAIN.pbz2\") "
      ],
      "metadata": {
        "id": "dtSXcCK2LLU0"
      },
      "execution_count": 3,
      "outputs": []
    },
    {
      "cell_type": "code",
      "source": [
        "q1train.head()"
      ],
      "metadata": {
        "colab": {
          "base_uri": "https://localhost:8080/",
          "height": 444
        },
        "id": "3cSN-QQl7KFL",
        "outputId": "b28be682-024f-456c-e28b-de61a60cd181"
      },
      "execution_count": 4,
      "outputs": [
        {
          "output_type": "execute_result",
          "data": {
            "text/plain": [
              "     timestamp    delta user_id learning_language ui_language  \\\n",
              "7   1362082032   444407  u:dDwF                es          en   \n",
              "15  1362082130       77  u:dDwF                es          en   \n",
              "20  1362082274  1634777  u:dDwF                es          en   \n",
              "21  1362082274  1708699  u:dDwF                es          en   \n",
              "22  1362082274  1708699  u:dDwF                es          en   \n",
              "\n",
              "                           lexeme_id                 lexeme_string  \\\n",
              "7   73eecb492ca758ddab5371cf7b5cca32                 bajo/bajo<pr>   \n",
              "15  73eecb492ca758ddab5371cf7b5cca32                 bajo/bajo<pr>   \n",
              "20  c84476c460737d9fb905dca3d35ec995          niños/niño<n><m><pl>   \n",
              "21  1a913f2ded424985b9c02d0436008511  leo/leer<vblex><pri><p1><sg>   \n",
              "22  38b770e66595fea718366523b4f7db3f         libro/libro<n><m><sg>   \n",
              "\n",
              "    history_seen  history_correct  session_seen  session_correct  \\\n",
              "7              3                3             1                1   \n",
              "15             5                5             1                1   \n",
              "20             9                8             2                2   \n",
              "21             7                5             2                2   \n",
              "22             8                8             4                4   \n",
              "\n",
              "    p_forgot_bin  simoverdiff lang_frozenset            Datetime  delta_days  \\\n",
              "7              0     0.000159       (en, es) 2013-02-28 20:07:12    5.143600   \n",
              "15             0     0.000159       (en, es) 2013-02-28 20:08:50    0.000891   \n",
              "20             0     0.000159       (en, es) 2013-02-28 20:11:14   18.921030   \n",
              "21             0     0.000159       (en, es) 2013-02-28 20:11:14   19.776609   \n",
              "22             0     0.000159       (en, es) 2013-02-28 20:11:14   19.776609   \n",
              "\n",
              "    history_frac  \n",
              "7       1.000000  \n",
              "15      1.000000  \n",
              "20      0.888889  \n",
              "21      0.714286  \n",
              "22      1.000000  "
            ],
            "text/html": [
              "\n",
              "  <div id=\"df-a417453a-106c-4bc9-9bdb-c3e5a9df7f43\">\n",
              "    <div class=\"colab-df-container\">\n",
              "      <div>\n",
              "<style scoped>\n",
              "    .dataframe tbody tr th:only-of-type {\n",
              "        vertical-align: middle;\n",
              "    }\n",
              "\n",
              "    .dataframe tbody tr th {\n",
              "        vertical-align: top;\n",
              "    }\n",
              "\n",
              "    .dataframe thead th {\n",
              "        text-align: right;\n",
              "    }\n",
              "</style>\n",
              "<table border=\"1\" class=\"dataframe\">\n",
              "  <thead>\n",
              "    <tr style=\"text-align: right;\">\n",
              "      <th></th>\n",
              "      <th>timestamp</th>\n",
              "      <th>delta</th>\n",
              "      <th>user_id</th>\n",
              "      <th>learning_language</th>\n",
              "      <th>ui_language</th>\n",
              "      <th>lexeme_id</th>\n",
              "      <th>lexeme_string</th>\n",
              "      <th>history_seen</th>\n",
              "      <th>history_correct</th>\n",
              "      <th>session_seen</th>\n",
              "      <th>session_correct</th>\n",
              "      <th>p_forgot_bin</th>\n",
              "      <th>simoverdiff</th>\n",
              "      <th>lang_frozenset</th>\n",
              "      <th>Datetime</th>\n",
              "      <th>delta_days</th>\n",
              "      <th>history_frac</th>\n",
              "    </tr>\n",
              "  </thead>\n",
              "  <tbody>\n",
              "    <tr>\n",
              "      <th>7</th>\n",
              "      <td>1362082032</td>\n",
              "      <td>444407</td>\n",
              "      <td>u:dDwF</td>\n",
              "      <td>es</td>\n",
              "      <td>en</td>\n",
              "      <td>73eecb492ca758ddab5371cf7b5cca32</td>\n",
              "      <td>bajo/bajo&lt;pr&gt;</td>\n",
              "      <td>3</td>\n",
              "      <td>3</td>\n",
              "      <td>1</td>\n",
              "      <td>1</td>\n",
              "      <td>0</td>\n",
              "      <td>0.000159</td>\n",
              "      <td>(en, es)</td>\n",
              "      <td>2013-02-28 20:07:12</td>\n",
              "      <td>5.143600</td>\n",
              "      <td>1.000000</td>\n",
              "    </tr>\n",
              "    <tr>\n",
              "      <th>15</th>\n",
              "      <td>1362082130</td>\n",
              "      <td>77</td>\n",
              "      <td>u:dDwF</td>\n",
              "      <td>es</td>\n",
              "      <td>en</td>\n",
              "      <td>73eecb492ca758ddab5371cf7b5cca32</td>\n",
              "      <td>bajo/bajo&lt;pr&gt;</td>\n",
              "      <td>5</td>\n",
              "      <td>5</td>\n",
              "      <td>1</td>\n",
              "      <td>1</td>\n",
              "      <td>0</td>\n",
              "      <td>0.000159</td>\n",
              "      <td>(en, es)</td>\n",
              "      <td>2013-02-28 20:08:50</td>\n",
              "      <td>0.000891</td>\n",
              "      <td>1.000000</td>\n",
              "    </tr>\n",
              "    <tr>\n",
              "      <th>20</th>\n",
              "      <td>1362082274</td>\n",
              "      <td>1634777</td>\n",
              "      <td>u:dDwF</td>\n",
              "      <td>es</td>\n",
              "      <td>en</td>\n",
              "      <td>c84476c460737d9fb905dca3d35ec995</td>\n",
              "      <td>niños/niño&lt;n&gt;&lt;m&gt;&lt;pl&gt;</td>\n",
              "      <td>9</td>\n",
              "      <td>8</td>\n",
              "      <td>2</td>\n",
              "      <td>2</td>\n",
              "      <td>0</td>\n",
              "      <td>0.000159</td>\n",
              "      <td>(en, es)</td>\n",
              "      <td>2013-02-28 20:11:14</td>\n",
              "      <td>18.921030</td>\n",
              "      <td>0.888889</td>\n",
              "    </tr>\n",
              "    <tr>\n",
              "      <th>21</th>\n",
              "      <td>1362082274</td>\n",
              "      <td>1708699</td>\n",
              "      <td>u:dDwF</td>\n",
              "      <td>es</td>\n",
              "      <td>en</td>\n",
              "      <td>1a913f2ded424985b9c02d0436008511</td>\n",
              "      <td>leo/leer&lt;vblex&gt;&lt;pri&gt;&lt;p1&gt;&lt;sg&gt;</td>\n",
              "      <td>7</td>\n",
              "      <td>5</td>\n",
              "      <td>2</td>\n",
              "      <td>2</td>\n",
              "      <td>0</td>\n",
              "      <td>0.000159</td>\n",
              "      <td>(en, es)</td>\n",
              "      <td>2013-02-28 20:11:14</td>\n",
              "      <td>19.776609</td>\n",
              "      <td>0.714286</td>\n",
              "    </tr>\n",
              "    <tr>\n",
              "      <th>22</th>\n",
              "      <td>1362082274</td>\n",
              "      <td>1708699</td>\n",
              "      <td>u:dDwF</td>\n",
              "      <td>es</td>\n",
              "      <td>en</td>\n",
              "      <td>38b770e66595fea718366523b4f7db3f</td>\n",
              "      <td>libro/libro&lt;n&gt;&lt;m&gt;&lt;sg&gt;</td>\n",
              "      <td>8</td>\n",
              "      <td>8</td>\n",
              "      <td>4</td>\n",
              "      <td>4</td>\n",
              "      <td>0</td>\n",
              "      <td>0.000159</td>\n",
              "      <td>(en, es)</td>\n",
              "      <td>2013-02-28 20:11:14</td>\n",
              "      <td>19.776609</td>\n",
              "      <td>1.000000</td>\n",
              "    </tr>\n",
              "  </tbody>\n",
              "</table>\n",
              "</div>\n",
              "      <button class=\"colab-df-convert\" onclick=\"convertToInteractive('df-a417453a-106c-4bc9-9bdb-c3e5a9df7f43')\"\n",
              "              title=\"Convert this dataframe to an interactive table.\"\n",
              "              style=\"display:none;\">\n",
              "        \n",
              "  <svg xmlns=\"http://www.w3.org/2000/svg\" height=\"24px\"viewBox=\"0 0 24 24\"\n",
              "       width=\"24px\">\n",
              "    <path d=\"M0 0h24v24H0V0z\" fill=\"none\"/>\n",
              "    <path d=\"M18.56 5.44l.94 2.06.94-2.06 2.06-.94-2.06-.94-.94-2.06-.94 2.06-2.06.94zm-11 1L8.5 8.5l.94-2.06 2.06-.94-2.06-.94L8.5 2.5l-.94 2.06-2.06.94zm10 10l.94 2.06.94-2.06 2.06-.94-2.06-.94-.94-2.06-.94 2.06-2.06.94z\"/><path d=\"M17.41 7.96l-1.37-1.37c-.4-.4-.92-.59-1.43-.59-.52 0-1.04.2-1.43.59L10.3 9.45l-7.72 7.72c-.78.78-.78 2.05 0 2.83L4 21.41c.39.39.9.59 1.41.59.51 0 1.02-.2 1.41-.59l7.78-7.78 2.81-2.81c.8-.78.8-2.07 0-2.86zM5.41 20L4 18.59l7.72-7.72 1.47 1.35L5.41 20z\"/>\n",
              "  </svg>\n",
              "      </button>\n",
              "      \n",
              "  <style>\n",
              "    .colab-df-container {\n",
              "      display:flex;\n",
              "      flex-wrap:wrap;\n",
              "      gap: 12px;\n",
              "    }\n",
              "\n",
              "    .colab-df-convert {\n",
              "      background-color: #E8F0FE;\n",
              "      border: none;\n",
              "      border-radius: 50%;\n",
              "      cursor: pointer;\n",
              "      display: none;\n",
              "      fill: #1967D2;\n",
              "      height: 32px;\n",
              "      padding: 0 0 0 0;\n",
              "      width: 32px;\n",
              "    }\n",
              "\n",
              "    .colab-df-convert:hover {\n",
              "      background-color: #E2EBFA;\n",
              "      box-shadow: 0px 1px 2px rgba(60, 64, 67, 0.3), 0px 1px 3px 1px rgba(60, 64, 67, 0.15);\n",
              "      fill: #174EA6;\n",
              "    }\n",
              "\n",
              "    [theme=dark] .colab-df-convert {\n",
              "      background-color: #3B4455;\n",
              "      fill: #D2E3FC;\n",
              "    }\n",
              "\n",
              "    [theme=dark] .colab-df-convert:hover {\n",
              "      background-color: #434B5C;\n",
              "      box-shadow: 0px 1px 3px 1px rgba(0, 0, 0, 0.15);\n",
              "      filter: drop-shadow(0px 1px 2px rgba(0, 0, 0, 0.3));\n",
              "      fill: #FFFFFF;\n",
              "    }\n",
              "  </style>\n",
              "\n",
              "      <script>\n",
              "        const buttonEl =\n",
              "          document.querySelector('#df-a417453a-106c-4bc9-9bdb-c3e5a9df7f43 button.colab-df-convert');\n",
              "        buttonEl.style.display =\n",
              "          google.colab.kernel.accessAllowed ? 'block' : 'none';\n",
              "\n",
              "        async function convertToInteractive(key) {\n",
              "          const element = document.querySelector('#df-a417453a-106c-4bc9-9bdb-c3e5a9df7f43');\n",
              "          const dataTable =\n",
              "            await google.colab.kernel.invokeFunction('convertToInteractive',\n",
              "                                                     [key], {});\n",
              "          if (!dataTable) return;\n",
              "\n",
              "          const docLinkHtml = 'Like what you see? Visit the ' +\n",
              "            '<a target=\"_blank\" href=https://colab.research.google.com/notebooks/data_table.ipynb>data table notebook</a>'\n",
              "            + ' to learn more about interactive tables.';\n",
              "          element.innerHTML = '';\n",
              "          dataTable['output_type'] = 'display_data';\n",
              "          await google.colab.output.renderOutput(dataTable, element);\n",
              "          const docLink = document.createElement('div');\n",
              "          docLink.innerHTML = docLinkHtml;\n",
              "          element.appendChild(docLink);\n",
              "        }\n",
              "      </script>\n",
              "    </div>\n",
              "  </div>\n",
              "  "
            ]
          },
          "metadata": {},
          "execution_count": 4
        }
      ]
    },
    {
      "cell_type": "markdown",
      "source": [
        "To recap, above is a quick look at the contents of Q1TRAIN, the main dataframe. \n"
      ],
      "metadata": {
        "id": "BvfeHiEjtjmK"
      }
    },
    {
      "cell_type": "markdown",
      "source": [
        "Loading Q1 test set:"
      ],
      "metadata": {
        "id": "J49yAIM6_eqV"
      }
    },
    {
      "cell_type": "code",
      "source": [
        "q1test = decompress_pickle(path_name+\"Q1TEST.pbz2\")"
      ],
      "metadata": {
        "id": "3G8jzcA-_gEn"
      },
      "execution_count": 6,
      "outputs": []
    },
    {
      "cell_type": "code",
      "source": [
        "q1test.head()"
      ],
      "metadata": {
        "colab": {
          "base_uri": "https://localhost:8080/",
          "height": 444
        },
        "id": "NoX878F47MAC",
        "outputId": "17e2a6f7-f77a-474d-8d0d-2768bf5606f2"
      },
      "execution_count": 7,
      "outputs": [
        {
          "output_type": "execute_result",
          "data": {
            "text/plain": [
              "     timestamp    delta user_id learning_language ui_language  \\\n",
              "23  1362082274   444649  u:dDwF                es          en   \n",
              "26  1362082274   678813  u:dDwF                es          en   \n",
              "30  1362082274  8562343  u:dDwF                es          en   \n",
              "41  1362082274  6645723  u:dDwF                es          en   \n",
              "50  1362082274  7239420  u:dDwF                es          en   \n",
              "\n",
              "                           lexeme_id                       lexeme_string  \\\n",
              "23  4bdb859f599fa07dd5eecdab0acc2d34                             a/a<pr>   \n",
              "26  64f2b1bdc5c91bb3f6ca1bb7a808b60a  quieres/querer<vblex><pri><p2><sg>   \n",
              "30  edf5a0ef6c836c4df4f3b3de76ca63ba             diario/diario<n><m><sg>   \n",
              "41  c2c8a202a12411858f87d4dcef5b2998                          no/no<adv>   \n",
              "50  81fe07635e2aa79cd36709cf1bdd81be               limón/limón<n><m><sg>   \n",
              "\n",
              "    history_seen  history_correct  session_seen  session_correct  \\\n",
              "23             3                3             1                1   \n",
              "26             3                3             1                1   \n",
              "30             3                3             3                3   \n",
              "41             5                5             1                1   \n",
              "50             3                2             2                2   \n",
              "\n",
              "    p_forgot_bin  simoverdiff lang_frozenset            Datetime  delta_days  \\\n",
              "23             0     0.000159       (en, es) 2013-02-28 20:11:14    5.146400   \n",
              "26             0     0.000159       (en, es) 2013-02-28 20:11:14    7.856632   \n",
              "30             0     0.000159       (en, es) 2013-02-28 20:11:14   99.101192   \n",
              "41             0     0.000159       (en, es) 2013-02-28 20:11:14   76.918090   \n",
              "50             0     0.000159       (en, es) 2013-02-28 20:11:14   83.789583   \n",
              "\n",
              "    history_frac  \n",
              "23      1.000000  \n",
              "26      1.000000  \n",
              "30      1.000000  \n",
              "41      1.000000  \n",
              "50      0.666667  "
            ],
            "text/html": [
              "\n",
              "  <div id=\"df-75e212ff-c1c3-45bc-b510-cb292269abb2\">\n",
              "    <div class=\"colab-df-container\">\n",
              "      <div>\n",
              "<style scoped>\n",
              "    .dataframe tbody tr th:only-of-type {\n",
              "        vertical-align: middle;\n",
              "    }\n",
              "\n",
              "    .dataframe tbody tr th {\n",
              "        vertical-align: top;\n",
              "    }\n",
              "\n",
              "    .dataframe thead th {\n",
              "        text-align: right;\n",
              "    }\n",
              "</style>\n",
              "<table border=\"1\" class=\"dataframe\">\n",
              "  <thead>\n",
              "    <tr style=\"text-align: right;\">\n",
              "      <th></th>\n",
              "      <th>timestamp</th>\n",
              "      <th>delta</th>\n",
              "      <th>user_id</th>\n",
              "      <th>learning_language</th>\n",
              "      <th>ui_language</th>\n",
              "      <th>lexeme_id</th>\n",
              "      <th>lexeme_string</th>\n",
              "      <th>history_seen</th>\n",
              "      <th>history_correct</th>\n",
              "      <th>session_seen</th>\n",
              "      <th>session_correct</th>\n",
              "      <th>p_forgot_bin</th>\n",
              "      <th>simoverdiff</th>\n",
              "      <th>lang_frozenset</th>\n",
              "      <th>Datetime</th>\n",
              "      <th>delta_days</th>\n",
              "      <th>history_frac</th>\n",
              "    </tr>\n",
              "  </thead>\n",
              "  <tbody>\n",
              "    <tr>\n",
              "      <th>23</th>\n",
              "      <td>1362082274</td>\n",
              "      <td>444649</td>\n",
              "      <td>u:dDwF</td>\n",
              "      <td>es</td>\n",
              "      <td>en</td>\n",
              "      <td>4bdb859f599fa07dd5eecdab0acc2d34</td>\n",
              "      <td>a/a&lt;pr&gt;</td>\n",
              "      <td>3</td>\n",
              "      <td>3</td>\n",
              "      <td>1</td>\n",
              "      <td>1</td>\n",
              "      <td>0</td>\n",
              "      <td>0.000159</td>\n",
              "      <td>(en, es)</td>\n",
              "      <td>2013-02-28 20:11:14</td>\n",
              "      <td>5.146400</td>\n",
              "      <td>1.000000</td>\n",
              "    </tr>\n",
              "    <tr>\n",
              "      <th>26</th>\n",
              "      <td>1362082274</td>\n",
              "      <td>678813</td>\n",
              "      <td>u:dDwF</td>\n",
              "      <td>es</td>\n",
              "      <td>en</td>\n",
              "      <td>64f2b1bdc5c91bb3f6ca1bb7a808b60a</td>\n",
              "      <td>quieres/querer&lt;vblex&gt;&lt;pri&gt;&lt;p2&gt;&lt;sg&gt;</td>\n",
              "      <td>3</td>\n",
              "      <td>3</td>\n",
              "      <td>1</td>\n",
              "      <td>1</td>\n",
              "      <td>0</td>\n",
              "      <td>0.000159</td>\n",
              "      <td>(en, es)</td>\n",
              "      <td>2013-02-28 20:11:14</td>\n",
              "      <td>7.856632</td>\n",
              "      <td>1.000000</td>\n",
              "    </tr>\n",
              "    <tr>\n",
              "      <th>30</th>\n",
              "      <td>1362082274</td>\n",
              "      <td>8562343</td>\n",
              "      <td>u:dDwF</td>\n",
              "      <td>es</td>\n",
              "      <td>en</td>\n",
              "      <td>edf5a0ef6c836c4df4f3b3de76ca63ba</td>\n",
              "      <td>diario/diario&lt;n&gt;&lt;m&gt;&lt;sg&gt;</td>\n",
              "      <td>3</td>\n",
              "      <td>3</td>\n",
              "      <td>3</td>\n",
              "      <td>3</td>\n",
              "      <td>0</td>\n",
              "      <td>0.000159</td>\n",
              "      <td>(en, es)</td>\n",
              "      <td>2013-02-28 20:11:14</td>\n",
              "      <td>99.101192</td>\n",
              "      <td>1.000000</td>\n",
              "    </tr>\n",
              "    <tr>\n",
              "      <th>41</th>\n",
              "      <td>1362082274</td>\n",
              "      <td>6645723</td>\n",
              "      <td>u:dDwF</td>\n",
              "      <td>es</td>\n",
              "      <td>en</td>\n",
              "      <td>c2c8a202a12411858f87d4dcef5b2998</td>\n",
              "      <td>no/no&lt;adv&gt;</td>\n",
              "      <td>5</td>\n",
              "      <td>5</td>\n",
              "      <td>1</td>\n",
              "      <td>1</td>\n",
              "      <td>0</td>\n",
              "      <td>0.000159</td>\n",
              "      <td>(en, es)</td>\n",
              "      <td>2013-02-28 20:11:14</td>\n",
              "      <td>76.918090</td>\n",
              "      <td>1.000000</td>\n",
              "    </tr>\n",
              "    <tr>\n",
              "      <th>50</th>\n",
              "      <td>1362082274</td>\n",
              "      <td>7239420</td>\n",
              "      <td>u:dDwF</td>\n",
              "      <td>es</td>\n",
              "      <td>en</td>\n",
              "      <td>81fe07635e2aa79cd36709cf1bdd81be</td>\n",
              "      <td>limón/limón&lt;n&gt;&lt;m&gt;&lt;sg&gt;</td>\n",
              "      <td>3</td>\n",
              "      <td>2</td>\n",
              "      <td>2</td>\n",
              "      <td>2</td>\n",
              "      <td>0</td>\n",
              "      <td>0.000159</td>\n",
              "      <td>(en, es)</td>\n",
              "      <td>2013-02-28 20:11:14</td>\n",
              "      <td>83.789583</td>\n",
              "      <td>0.666667</td>\n",
              "    </tr>\n",
              "  </tbody>\n",
              "</table>\n",
              "</div>\n",
              "      <button class=\"colab-df-convert\" onclick=\"convertToInteractive('df-75e212ff-c1c3-45bc-b510-cb292269abb2')\"\n",
              "              title=\"Convert this dataframe to an interactive table.\"\n",
              "              style=\"display:none;\">\n",
              "        \n",
              "  <svg xmlns=\"http://www.w3.org/2000/svg\" height=\"24px\"viewBox=\"0 0 24 24\"\n",
              "       width=\"24px\">\n",
              "    <path d=\"M0 0h24v24H0V0z\" fill=\"none\"/>\n",
              "    <path d=\"M18.56 5.44l.94 2.06.94-2.06 2.06-.94-2.06-.94-.94-2.06-.94 2.06-2.06.94zm-11 1L8.5 8.5l.94-2.06 2.06-.94-2.06-.94L8.5 2.5l-.94 2.06-2.06.94zm10 10l.94 2.06.94-2.06 2.06-.94-2.06-.94-.94-2.06-.94 2.06-2.06.94z\"/><path d=\"M17.41 7.96l-1.37-1.37c-.4-.4-.92-.59-1.43-.59-.52 0-1.04.2-1.43.59L10.3 9.45l-7.72 7.72c-.78.78-.78 2.05 0 2.83L4 21.41c.39.39.9.59 1.41.59.51 0 1.02-.2 1.41-.59l7.78-7.78 2.81-2.81c.8-.78.8-2.07 0-2.86zM5.41 20L4 18.59l7.72-7.72 1.47 1.35L5.41 20z\"/>\n",
              "  </svg>\n",
              "      </button>\n",
              "      \n",
              "  <style>\n",
              "    .colab-df-container {\n",
              "      display:flex;\n",
              "      flex-wrap:wrap;\n",
              "      gap: 12px;\n",
              "    }\n",
              "\n",
              "    .colab-df-convert {\n",
              "      background-color: #E8F0FE;\n",
              "      border: none;\n",
              "      border-radius: 50%;\n",
              "      cursor: pointer;\n",
              "      display: none;\n",
              "      fill: #1967D2;\n",
              "      height: 32px;\n",
              "      padding: 0 0 0 0;\n",
              "      width: 32px;\n",
              "    }\n",
              "\n",
              "    .colab-df-convert:hover {\n",
              "      background-color: #E2EBFA;\n",
              "      box-shadow: 0px 1px 2px rgba(60, 64, 67, 0.3), 0px 1px 3px 1px rgba(60, 64, 67, 0.15);\n",
              "      fill: #174EA6;\n",
              "    }\n",
              "\n",
              "    [theme=dark] .colab-df-convert {\n",
              "      background-color: #3B4455;\n",
              "      fill: #D2E3FC;\n",
              "    }\n",
              "\n",
              "    [theme=dark] .colab-df-convert:hover {\n",
              "      background-color: #434B5C;\n",
              "      box-shadow: 0px 1px 3px 1px rgba(0, 0, 0, 0.15);\n",
              "      filter: drop-shadow(0px 1px 2px rgba(0, 0, 0, 0.3));\n",
              "      fill: #FFFFFF;\n",
              "    }\n",
              "  </style>\n",
              "\n",
              "      <script>\n",
              "        const buttonEl =\n",
              "          document.querySelector('#df-75e212ff-c1c3-45bc-b510-cb292269abb2 button.colab-df-convert');\n",
              "        buttonEl.style.display =\n",
              "          google.colab.kernel.accessAllowed ? 'block' : 'none';\n",
              "\n",
              "        async function convertToInteractive(key) {\n",
              "          const element = document.querySelector('#df-75e212ff-c1c3-45bc-b510-cb292269abb2');\n",
              "          const dataTable =\n",
              "            await google.colab.kernel.invokeFunction('convertToInteractive',\n",
              "                                                     [key], {});\n",
              "          if (!dataTable) return;\n",
              "\n",
              "          const docLinkHtml = 'Like what you see? Visit the ' +\n",
              "            '<a target=\"_blank\" href=https://colab.research.google.com/notebooks/data_table.ipynb>data table notebook</a>'\n",
              "            + ' to learn more about interactive tables.';\n",
              "          element.innerHTML = '';\n",
              "          dataTable['output_type'] = 'display_data';\n",
              "          await google.colab.output.renderOutput(dataTable, element);\n",
              "          const docLink = document.createElement('div');\n",
              "          docLink.innerHTML = docLinkHtml;\n",
              "          element.appendChild(docLink);\n",
              "        }\n",
              "      </script>\n",
              "    </div>\n",
              "  </div>\n",
              "  "
            ]
          },
          "metadata": {},
          "execution_count": 7
        }
      ]
    },
    {
      "cell_type": "markdown",
      "source": [
        "Confirming the shapes:"
      ],
      "metadata": {
        "id": "JwJIA6Fv6mnj"
      }
    },
    {
      "cell_type": "code",
      "source": [
        "q1train.shape, q1test.shape"
      ],
      "metadata": {
        "colab": {
          "base_uri": "https://localhost:8080/"
        },
        "id": "TJXD-QmwLNve",
        "outputId": "c40a8a3d-c190-4f2d-ff03-12d6eaab504c"
      },
      "execution_count": 8,
      "outputs": [
        {
          "output_type": "execute_result",
          "data": {
            "text/plain": [
              "((8070561, 17), (1795528, 17))"
            ]
          },
          "metadata": {},
          "execution_count": 8
        }
      ]
    },
    {
      "cell_type": "code",
      "source": [
        "q1train.size/10**6, q1test.size/10**6"
      ],
      "metadata": {
        "colab": {
          "base_uri": "https://localhost:8080/"
        },
        "id": "JtF6GiR3Lgxd",
        "outputId": "ce6f2878-3cbc-4743-cdfc-a4c7f4d8d390"
      },
      "execution_count": 9,
      "outputs": [
        {
          "output_type": "execute_result",
          "data": {
            "text/plain": [
              "(137.199537, 30.523976)"
            ]
          },
          "metadata": {},
          "execution_count": 9
        }
      ]
    },
    {
      "cell_type": "markdown",
      "source": [
        "List of lexeme ids in q1train dataframe:"
      ],
      "metadata": {
        "id": "vIzfbEK57CQS"
      }
    },
    {
      "cell_type": "code",
      "source": [
        "q1train_lexemelist = q1train['lexeme_id'].unique()"
      ],
      "metadata": {
        "id": "fbrcMnSj7EmP"
      },
      "execution_count": 82,
      "outputs": []
    },
    {
      "cell_type": "code",
      "source": [
        "all_lexemes = decompress_pickle(path_name+\"Duolingo_all_lexemes.pbz2\")"
      ],
      "metadata": {
        "id": "DPG56uwYLPzE"
      },
      "execution_count": 11,
      "outputs": []
    },
    {
      "cell_type": "code",
      "source": [
        "all_lexemes.shape"
      ],
      "metadata": {
        "colab": {
          "base_uri": "https://localhost:8080/"
        },
        "id": "ySoYJV_4Lcyz",
        "outputId": "9b78ea33-c38c-4f0e-d6ae-78e9377e4ad5"
      },
      "execution_count": 12,
      "outputs": [
        {
          "output_type": "execute_result",
          "data": {
            "text/plain": [
              "(19279, 17)"
            ]
          },
          "metadata": {},
          "execution_count": 12
        }
      ]
    },
    {
      "cell_type": "markdown",
      "source": [
        "Filtering to only the words in the training set "
      ],
      "metadata": {
        "id": "24M_qimM64r0"
      }
    },
    {
      "cell_type": "code",
      "source": [
        "q1trainlexemes = all_lexemes.loc[all_lexemes['lexeme_id'].isin(q1train_lexemelist),:]"
      ],
      "metadata": {
        "id": "KSFtS9sMLe6m"
      },
      "execution_count": 83,
      "outputs": []
    },
    {
      "cell_type": "code",
      "source": [
        "q1trainlexemes.columns, q1trainlexemes.shape"
      ],
      "metadata": {
        "colab": {
          "base_uri": "https://localhost:8080/"
        },
        "id": "1rkDyqxT9C1J",
        "outputId": "77db5917-5910-4dcd-e215-78bfd21a5cb3"
      },
      "execution_count": 84,
      "outputs": [
        {
          "output_type": "execute_result",
          "data": {
            "text/plain": [
              "(Index(['lexeme_id', 'learning_language', 'lexeme_string', 'surface_form',\n",
              "        'lemma_form', 'pos', 'modstrings', 'sf_length', 'sf_translation',\n",
              "        'lf_translation', 'surface_form_no_accents', 'lemma_form_no_accents',\n",
              "        'L_dist_word_tup_sf_noaccents', 'L_dist_sf_noaccents',\n",
              "        'L_dist_sf_noaccents_norm', 'IDFword', 'EnglishIDF'],\n",
              "       dtype='object'), (12446, 17))"
            ]
          },
          "metadata": {},
          "execution_count": 84
        }
      ]
    },
    {
      "cell_type": "markdown",
      "source": [
        "Filtering out test set lexemes dataframe for transformation:"
      ],
      "metadata": {
        "id": "lpwzVtVUIq_I"
      }
    },
    {
      "cell_type": "code",
      "source": [
        "q1test_lexemelist = q1test['lexeme_id'].unique()\n",
        "q1testlexemes = all_lexemes.loc[all_lexemes['lexeme_id'].isin(q1test_lexemelist),:]"
      ],
      "metadata": {
        "id": "2u7AuHk6It7i"
      },
      "execution_count": 85,
      "outputs": []
    },
    {
      "cell_type": "code",
      "source": [
        "q1testlexemes.shape"
      ],
      "metadata": {
        "colab": {
          "base_uri": "https://localhost:8080/"
        },
        "id": "4evzTh5lI-OR",
        "outputId": "058e98ea-dbb2-49b3-f552-44175554ff72"
      },
      "execution_count": 86,
      "outputs": [
        {
          "output_type": "execute_result",
          "data": {
            "text/plain": [
              "(2776, 17)"
            ]
          },
          "metadata": {},
          "execution_count": 86
        }
      ]
    },
    {
      "cell_type": "markdown",
      "source": [
        "Getting wordvectors."
      ],
      "metadata": {
        "id": "oZSyNfv3mAKY"
      }
    },
    {
      "cell_type": "code",
      "source": [
        "wordvecs = decompress_pickle(path_name+\"Duolingo_wordvectors.pbz2\")"
      ],
      "metadata": {
        "id": "vuogH73hl_nz"
      },
      "execution_count": 17,
      "outputs": []
    },
    {
      "cell_type": "code",
      "source": [
        "wordvecs.head()"
      ],
      "metadata": {
        "colab": {
          "base_uri": "https://localhost:8080/",
          "height": 206
        },
        "id": "OFYCbVi34DFf",
        "outputId": "289c3e76-5496-405c-ca61-be4266b34104"
      },
      "execution_count": 18,
      "outputs": [
        {
          "output_type": "execute_result",
          "data": {
            "text/plain": [
              "                          lexeme_id  \\\n",
              "0  76390c1350a8dac31186187e2fe1e178   \n",
              "1  7dfd7086f3671685e2cf1c1da72796d7   \n",
              "2  35a54c25a2cda8127343f6a82e6f6b7d   \n",
              "3  0cf63ffe3dda158bc3dbd55682b355ae   \n",
              "4  84920990d78044db53c1b012f5bf9ab5   \n",
              "\n",
              "                                          vectorlist  \n",
              "0  [-0.12485239869, 0.403838020553, -0.3502961037...  \n",
              "1  [0.0432688036856, -0.0914570974226, -0.1884847...  \n",
              "2  [-0.0895643525954, 0.208577167333, -0.06067782...  \n",
              "3  [0.0156379608103, 0.37910027723, -0.2013124868...  \n",
              "4  [0.0388741864242, 0.160898776301, -0.105828861...  "
            ],
            "text/html": [
              "\n",
              "  <div id=\"df-6d70ea8c-cb22-4c8a-8500-61657230d9f1\">\n",
              "    <div class=\"colab-df-container\">\n",
              "      <div>\n",
              "<style scoped>\n",
              "    .dataframe tbody tr th:only-of-type {\n",
              "        vertical-align: middle;\n",
              "    }\n",
              "\n",
              "    .dataframe tbody tr th {\n",
              "        vertical-align: top;\n",
              "    }\n",
              "\n",
              "    .dataframe thead th {\n",
              "        text-align: right;\n",
              "    }\n",
              "</style>\n",
              "<table border=\"1\" class=\"dataframe\">\n",
              "  <thead>\n",
              "    <tr style=\"text-align: right;\">\n",
              "      <th></th>\n",
              "      <th>lexeme_id</th>\n",
              "      <th>vectorlist</th>\n",
              "    </tr>\n",
              "  </thead>\n",
              "  <tbody>\n",
              "    <tr>\n",
              "      <th>0</th>\n",
              "      <td>76390c1350a8dac31186187e2fe1e178</td>\n",
              "      <td>[-0.12485239869, 0.403838020553, -0.3502961037...</td>\n",
              "    </tr>\n",
              "    <tr>\n",
              "      <th>1</th>\n",
              "      <td>7dfd7086f3671685e2cf1c1da72796d7</td>\n",
              "      <td>[0.0432688036856, -0.0914570974226, -0.1884847...</td>\n",
              "    </tr>\n",
              "    <tr>\n",
              "      <th>2</th>\n",
              "      <td>35a54c25a2cda8127343f6a82e6f6b7d</td>\n",
              "      <td>[-0.0895643525954, 0.208577167333, -0.06067782...</td>\n",
              "    </tr>\n",
              "    <tr>\n",
              "      <th>3</th>\n",
              "      <td>0cf63ffe3dda158bc3dbd55682b355ae</td>\n",
              "      <td>[0.0156379608103, 0.37910027723, -0.2013124868...</td>\n",
              "    </tr>\n",
              "    <tr>\n",
              "      <th>4</th>\n",
              "      <td>84920990d78044db53c1b012f5bf9ab5</td>\n",
              "      <td>[0.0388741864242, 0.160898776301, -0.105828861...</td>\n",
              "    </tr>\n",
              "  </tbody>\n",
              "</table>\n",
              "</div>\n",
              "      <button class=\"colab-df-convert\" onclick=\"convertToInteractive('df-6d70ea8c-cb22-4c8a-8500-61657230d9f1')\"\n",
              "              title=\"Convert this dataframe to an interactive table.\"\n",
              "              style=\"display:none;\">\n",
              "        \n",
              "  <svg xmlns=\"http://www.w3.org/2000/svg\" height=\"24px\"viewBox=\"0 0 24 24\"\n",
              "       width=\"24px\">\n",
              "    <path d=\"M0 0h24v24H0V0z\" fill=\"none\"/>\n",
              "    <path d=\"M18.56 5.44l.94 2.06.94-2.06 2.06-.94-2.06-.94-.94-2.06-.94 2.06-2.06.94zm-11 1L8.5 8.5l.94-2.06 2.06-.94-2.06-.94L8.5 2.5l-.94 2.06-2.06.94zm10 10l.94 2.06.94-2.06 2.06-.94-2.06-.94-.94-2.06-.94 2.06-2.06.94z\"/><path d=\"M17.41 7.96l-1.37-1.37c-.4-.4-.92-.59-1.43-.59-.52 0-1.04.2-1.43.59L10.3 9.45l-7.72 7.72c-.78.78-.78 2.05 0 2.83L4 21.41c.39.39.9.59 1.41.59.51 0 1.02-.2 1.41-.59l7.78-7.78 2.81-2.81c.8-.78.8-2.07 0-2.86zM5.41 20L4 18.59l7.72-7.72 1.47 1.35L5.41 20z\"/>\n",
              "  </svg>\n",
              "      </button>\n",
              "      \n",
              "  <style>\n",
              "    .colab-df-container {\n",
              "      display:flex;\n",
              "      flex-wrap:wrap;\n",
              "      gap: 12px;\n",
              "    }\n",
              "\n",
              "    .colab-df-convert {\n",
              "      background-color: #E8F0FE;\n",
              "      border: none;\n",
              "      border-radius: 50%;\n",
              "      cursor: pointer;\n",
              "      display: none;\n",
              "      fill: #1967D2;\n",
              "      height: 32px;\n",
              "      padding: 0 0 0 0;\n",
              "      width: 32px;\n",
              "    }\n",
              "\n",
              "    .colab-df-convert:hover {\n",
              "      background-color: #E2EBFA;\n",
              "      box-shadow: 0px 1px 2px rgba(60, 64, 67, 0.3), 0px 1px 3px 1px rgba(60, 64, 67, 0.15);\n",
              "      fill: #174EA6;\n",
              "    }\n",
              "\n",
              "    [theme=dark] .colab-df-convert {\n",
              "      background-color: #3B4455;\n",
              "      fill: #D2E3FC;\n",
              "    }\n",
              "\n",
              "    [theme=dark] .colab-df-convert:hover {\n",
              "      background-color: #434B5C;\n",
              "      box-shadow: 0px 1px 3px 1px rgba(0, 0, 0, 0.15);\n",
              "      filter: drop-shadow(0px 1px 2px rgba(0, 0, 0, 0.3));\n",
              "      fill: #FFFFFF;\n",
              "    }\n",
              "  </style>\n",
              "\n",
              "      <script>\n",
              "        const buttonEl =\n",
              "          document.querySelector('#df-6d70ea8c-cb22-4c8a-8500-61657230d9f1 button.colab-df-convert');\n",
              "        buttonEl.style.display =\n",
              "          google.colab.kernel.accessAllowed ? 'block' : 'none';\n",
              "\n",
              "        async function convertToInteractive(key) {\n",
              "          const element = document.querySelector('#df-6d70ea8c-cb22-4c8a-8500-61657230d9f1');\n",
              "          const dataTable =\n",
              "            await google.colab.kernel.invokeFunction('convertToInteractive',\n",
              "                                                     [key], {});\n",
              "          if (!dataTable) return;\n",
              "\n",
              "          const docLinkHtml = 'Like what you see? Visit the ' +\n",
              "            '<a target=\"_blank\" href=https://colab.research.google.com/notebooks/data_table.ipynb>data table notebook</a>'\n",
              "            + ' to learn more about interactive tables.';\n",
              "          element.innerHTML = '';\n",
              "          dataTable['output_type'] = 'display_data';\n",
              "          await google.colab.output.renderOutput(dataTable, element);\n",
              "          const docLink = document.createElement('div');\n",
              "          docLink.innerHTML = docLinkHtml;\n",
              "          element.appendChild(docLink);\n",
              "        }\n",
              "      </script>\n",
              "    </div>\n",
              "  </div>\n",
              "  "
            ]
          },
          "metadata": {},
          "execution_count": 18
        }
      ]
    },
    {
      "cell_type": "markdown",
      "source": [
        "The vectors are currently contained in a single column holding numpy arrays. \n",
        "There are also some null values"
      ],
      "metadata": {
        "id": "1WeG7WuBvV-B"
      }
    },
    {
      "cell_type": "code",
      "source": [
        "wordvecs.isna().sum()"
      ],
      "metadata": {
        "colab": {
          "base_uri": "https://localhost:8080/"
        },
        "id": "8VNrsijRvdSk",
        "outputId": "6f5a6263-49ae-4d05-bb64-5b08ef579209"
      },
      "execution_count": 20,
      "outputs": [
        {
          "output_type": "execute_result",
          "data": {
            "text/plain": [
              "lexeme_id       0\n",
              "vectorlist    176\n",
              "dtype: int64"
            ]
          },
          "metadata": {},
          "execution_count": 20
        }
      ]
    },
    {
      "cell_type": "code",
      "source": [
        "176/wordvecs.shape[0]*100"
      ],
      "metadata": {
        "colab": {
          "base_uri": "https://localhost:8080/"
        },
        "id": "EVhBewwAvjQ9",
        "outputId": "e64eb951-3b06-40af-e52a-b98e4b2477d8"
      },
      "execution_count": 21,
      "outputs": [
        {
          "output_type": "execute_result",
          "data": {
            "text/plain": [
              "0.9129104206649722"
            ]
          },
          "metadata": {},
          "execution_count": 21
        }
      ]
    },
    {
      "cell_type": "markdown",
      "source": [
        "Almost 1% of the vectors are null. \n",
        "They will be imputed. "
      ],
      "metadata": {
        "id": "YljXhl9-vmtc"
      }
    },
    {
      "cell_type": "code",
      "source": [
        "q1trainvecs = wordvecs.loc[wordvecs['lexeme_id'].isin(q1train_lexemelist),:]\n",
        "\n",
        "# for non-na values\n",
        "notna = q1trainvecs.loc[~q1trainvecs['vectorlist'].isna(),:]\n",
        "q1trainvecs_notna_expanded = pd.DataFrame(notna['vectorlist'].tolist(),index = notna['lexeme_id'])\n",
        "\n",
        "\n",
        "# computing centroid for imputation of nulls \n",
        "q1trainvecs_centroid = q1trainvecs_notna_expanded.sum(axis=0)\n",
        "\n",
        "# separating out null valued rows\n",
        "is_na = q1trainvecs.loc[q1trainvecs['vectorlist'].isna(),:]\n",
        "is_na.index = is_na['lexeme_id']\n",
        "\n",
        "# imputing with centroid\n",
        "q1trainvecs_na_expanded = pd.concat([pd.DataFrame(q1trainvecs_centroid).transpose()]*92,axis=0)\n",
        "q1trainvecs_na_expanded.index = is_na.index\n",
        "\n",
        "# joining imputed null with the rest, keeping index consistent\n",
        "q1trainvecs_expanded = pd.concat([q1trainvecs_na_expanded,q1trainvecs_notna_expanded],axis=0)\n",
        "\n",
        "# viewing first few rows:\n",
        "q1trainvecs_expanded.head()"
      ],
      "metadata": {
        "colab": {
          "base_uri": "https://localhost:8080/",
          "height": 331
        },
        "id": "cYCbFC7S4NeV",
        "outputId": "abdb24c6-6144-45a5-f0c5-457e7456e657"
      },
      "execution_count": 87,
      "outputs": [
        {
          "output_type": "execute_result",
          "data": {
            "text/plain": [
              "                                          0            1            2    \\\n",
              "lexeme_id                                                                 \n",
              "5377c84560aaf45988067be11302d1d8  1921.703736  2113.669326 -2173.573581   \n",
              "eca9cad5e0a5d96f5db19271e2e3e122  1921.703736  2113.669326 -2173.573581   \n",
              "5d09ea8ec2581f32fbfd1ce09fc21221  1921.703736  2113.669326 -2173.573581   \n",
              "26133676f75f829992c823dd7402f9a3  1921.703736  2113.669326 -2173.573581   \n",
              "276598aa526cf531bf27a78173452baf  1921.703736  2113.669326 -2173.573581   \n",
              "\n",
              "                                        3            4          5    \\\n",
              "lexeme_id                                                             \n",
              "5377c84560aaf45988067be11302d1d8 -74.189575  1497.442477 -33.039358   \n",
              "eca9cad5e0a5d96f5db19271e2e3e122 -74.189575  1497.442477 -33.039358   \n",
              "5d09ea8ec2581f32fbfd1ce09fc21221 -74.189575  1497.442477 -33.039358   \n",
              "26133676f75f829992c823dd7402f9a3 -74.189575  1497.442477 -33.039358   \n",
              "276598aa526cf531bf27a78173452baf -74.189575  1497.442477 -33.039358   \n",
              "\n",
              "                                         6           7            8    \\\n",
              "lexeme_id                                                               \n",
              "5377c84560aaf45988067be11302d1d8 -258.911471 -773.852607  1150.354816   \n",
              "eca9cad5e0a5d96f5db19271e2e3e122 -258.911471 -773.852607  1150.354816   \n",
              "5d09ea8ec2581f32fbfd1ce09fc21221 -258.911471 -773.852607  1150.354816   \n",
              "26133676f75f829992c823dd7402f9a3 -258.911471 -773.852607  1150.354816   \n",
              "276598aa526cf531bf27a78173452baf -258.911471 -773.852607  1150.354816   \n",
              "\n",
              "                                           9    ...          290        291  \\\n",
              "lexeme_id                                       ...                           \n",
              "5377c84560aaf45988067be11302d1d8  15039.361016  ... -1958.877268  982.64572   \n",
              "eca9cad5e0a5d96f5db19271e2e3e122  15039.361016  ... -1958.877268  982.64572   \n",
              "5d09ea8ec2581f32fbfd1ce09fc21221  15039.361016  ... -1958.877268  982.64572   \n",
              "26133676f75f829992c823dd7402f9a3  15039.361016  ... -1958.877268  982.64572   \n",
              "276598aa526cf531bf27a78173452baf  15039.361016  ... -1958.877268  982.64572   \n",
              "\n",
              "                                          292         293       294  \\\n",
              "lexeme_id                                                             \n",
              "5377c84560aaf45988067be11302d1d8 -1496.365879 -640.790628 -41.80336   \n",
              "eca9cad5e0a5d96f5db19271e2e3e122 -1496.365879 -640.790628 -41.80336   \n",
              "5d09ea8ec2581f32fbfd1ce09fc21221 -1496.365879 -640.790628 -41.80336   \n",
              "26133676f75f829992c823dd7402f9a3 -1496.365879 -640.790628 -41.80336   \n",
              "276598aa526cf531bf27a78173452baf -1496.365879 -640.790628 -41.80336   \n",
              "\n",
              "                                        295         296         297  \\\n",
              "lexeme_id                                                             \n",
              "5377c84560aaf45988067be11302d1d8  40.623469 -437.983046  273.050123   \n",
              "eca9cad5e0a5d96f5db19271e2e3e122  40.623469 -437.983046  273.050123   \n",
              "5d09ea8ec2581f32fbfd1ce09fc21221  40.623469 -437.983046  273.050123   \n",
              "26133676f75f829992c823dd7402f9a3  40.623469 -437.983046  273.050123   \n",
              "276598aa526cf531bf27a78173452baf  40.623469 -437.983046  273.050123   \n",
              "\n",
              "                                         298         299  \n",
              "lexeme_id                                                 \n",
              "5377c84560aaf45988067be11302d1d8 -993.870587  678.062785  \n",
              "eca9cad5e0a5d96f5db19271e2e3e122 -993.870587  678.062785  \n",
              "5d09ea8ec2581f32fbfd1ce09fc21221 -993.870587  678.062785  \n",
              "26133676f75f829992c823dd7402f9a3 -993.870587  678.062785  \n",
              "276598aa526cf531bf27a78173452baf -993.870587  678.062785  \n",
              "\n",
              "[5 rows x 300 columns]"
            ],
            "text/html": [
              "\n",
              "  <div id=\"df-893085de-b71e-4d99-be54-112c3cb19147\">\n",
              "    <div class=\"colab-df-container\">\n",
              "      <div>\n",
              "<style scoped>\n",
              "    .dataframe tbody tr th:only-of-type {\n",
              "        vertical-align: middle;\n",
              "    }\n",
              "\n",
              "    .dataframe tbody tr th {\n",
              "        vertical-align: top;\n",
              "    }\n",
              "\n",
              "    .dataframe thead th {\n",
              "        text-align: right;\n",
              "    }\n",
              "</style>\n",
              "<table border=\"1\" class=\"dataframe\">\n",
              "  <thead>\n",
              "    <tr style=\"text-align: right;\">\n",
              "      <th></th>\n",
              "      <th>0</th>\n",
              "      <th>1</th>\n",
              "      <th>2</th>\n",
              "      <th>3</th>\n",
              "      <th>4</th>\n",
              "      <th>5</th>\n",
              "      <th>6</th>\n",
              "      <th>7</th>\n",
              "      <th>8</th>\n",
              "      <th>9</th>\n",
              "      <th>...</th>\n",
              "      <th>290</th>\n",
              "      <th>291</th>\n",
              "      <th>292</th>\n",
              "      <th>293</th>\n",
              "      <th>294</th>\n",
              "      <th>295</th>\n",
              "      <th>296</th>\n",
              "      <th>297</th>\n",
              "      <th>298</th>\n",
              "      <th>299</th>\n",
              "    </tr>\n",
              "    <tr>\n",
              "      <th>lexeme_id</th>\n",
              "      <th></th>\n",
              "      <th></th>\n",
              "      <th></th>\n",
              "      <th></th>\n",
              "      <th></th>\n",
              "      <th></th>\n",
              "      <th></th>\n",
              "      <th></th>\n",
              "      <th></th>\n",
              "      <th></th>\n",
              "      <th></th>\n",
              "      <th></th>\n",
              "      <th></th>\n",
              "      <th></th>\n",
              "      <th></th>\n",
              "      <th></th>\n",
              "      <th></th>\n",
              "      <th></th>\n",
              "      <th></th>\n",
              "      <th></th>\n",
              "      <th></th>\n",
              "    </tr>\n",
              "  </thead>\n",
              "  <tbody>\n",
              "    <tr>\n",
              "      <th>5377c84560aaf45988067be11302d1d8</th>\n",
              "      <td>1921.703736</td>\n",
              "      <td>2113.669326</td>\n",
              "      <td>-2173.573581</td>\n",
              "      <td>-74.189575</td>\n",
              "      <td>1497.442477</td>\n",
              "      <td>-33.039358</td>\n",
              "      <td>-258.911471</td>\n",
              "      <td>-773.852607</td>\n",
              "      <td>1150.354816</td>\n",
              "      <td>15039.361016</td>\n",
              "      <td>...</td>\n",
              "      <td>-1958.877268</td>\n",
              "      <td>982.64572</td>\n",
              "      <td>-1496.365879</td>\n",
              "      <td>-640.790628</td>\n",
              "      <td>-41.80336</td>\n",
              "      <td>40.623469</td>\n",
              "      <td>-437.983046</td>\n",
              "      <td>273.050123</td>\n",
              "      <td>-993.870587</td>\n",
              "      <td>678.062785</td>\n",
              "    </tr>\n",
              "    <tr>\n",
              "      <th>eca9cad5e0a5d96f5db19271e2e3e122</th>\n",
              "      <td>1921.703736</td>\n",
              "      <td>2113.669326</td>\n",
              "      <td>-2173.573581</td>\n",
              "      <td>-74.189575</td>\n",
              "      <td>1497.442477</td>\n",
              "      <td>-33.039358</td>\n",
              "      <td>-258.911471</td>\n",
              "      <td>-773.852607</td>\n",
              "      <td>1150.354816</td>\n",
              "      <td>15039.361016</td>\n",
              "      <td>...</td>\n",
              "      <td>-1958.877268</td>\n",
              "      <td>982.64572</td>\n",
              "      <td>-1496.365879</td>\n",
              "      <td>-640.790628</td>\n",
              "      <td>-41.80336</td>\n",
              "      <td>40.623469</td>\n",
              "      <td>-437.983046</td>\n",
              "      <td>273.050123</td>\n",
              "      <td>-993.870587</td>\n",
              "      <td>678.062785</td>\n",
              "    </tr>\n",
              "    <tr>\n",
              "      <th>5d09ea8ec2581f32fbfd1ce09fc21221</th>\n",
              "      <td>1921.703736</td>\n",
              "      <td>2113.669326</td>\n",
              "      <td>-2173.573581</td>\n",
              "      <td>-74.189575</td>\n",
              "      <td>1497.442477</td>\n",
              "      <td>-33.039358</td>\n",
              "      <td>-258.911471</td>\n",
              "      <td>-773.852607</td>\n",
              "      <td>1150.354816</td>\n",
              "      <td>15039.361016</td>\n",
              "      <td>...</td>\n",
              "      <td>-1958.877268</td>\n",
              "      <td>982.64572</td>\n",
              "      <td>-1496.365879</td>\n",
              "      <td>-640.790628</td>\n",
              "      <td>-41.80336</td>\n",
              "      <td>40.623469</td>\n",
              "      <td>-437.983046</td>\n",
              "      <td>273.050123</td>\n",
              "      <td>-993.870587</td>\n",
              "      <td>678.062785</td>\n",
              "    </tr>\n",
              "    <tr>\n",
              "      <th>26133676f75f829992c823dd7402f9a3</th>\n",
              "      <td>1921.703736</td>\n",
              "      <td>2113.669326</td>\n",
              "      <td>-2173.573581</td>\n",
              "      <td>-74.189575</td>\n",
              "      <td>1497.442477</td>\n",
              "      <td>-33.039358</td>\n",
              "      <td>-258.911471</td>\n",
              "      <td>-773.852607</td>\n",
              "      <td>1150.354816</td>\n",
              "      <td>15039.361016</td>\n",
              "      <td>...</td>\n",
              "      <td>-1958.877268</td>\n",
              "      <td>982.64572</td>\n",
              "      <td>-1496.365879</td>\n",
              "      <td>-640.790628</td>\n",
              "      <td>-41.80336</td>\n",
              "      <td>40.623469</td>\n",
              "      <td>-437.983046</td>\n",
              "      <td>273.050123</td>\n",
              "      <td>-993.870587</td>\n",
              "      <td>678.062785</td>\n",
              "    </tr>\n",
              "    <tr>\n",
              "      <th>276598aa526cf531bf27a78173452baf</th>\n",
              "      <td>1921.703736</td>\n",
              "      <td>2113.669326</td>\n",
              "      <td>-2173.573581</td>\n",
              "      <td>-74.189575</td>\n",
              "      <td>1497.442477</td>\n",
              "      <td>-33.039358</td>\n",
              "      <td>-258.911471</td>\n",
              "      <td>-773.852607</td>\n",
              "      <td>1150.354816</td>\n",
              "      <td>15039.361016</td>\n",
              "      <td>...</td>\n",
              "      <td>-1958.877268</td>\n",
              "      <td>982.64572</td>\n",
              "      <td>-1496.365879</td>\n",
              "      <td>-640.790628</td>\n",
              "      <td>-41.80336</td>\n",
              "      <td>40.623469</td>\n",
              "      <td>-437.983046</td>\n",
              "      <td>273.050123</td>\n",
              "      <td>-993.870587</td>\n",
              "      <td>678.062785</td>\n",
              "    </tr>\n",
              "  </tbody>\n",
              "</table>\n",
              "<p>5 rows × 300 columns</p>\n",
              "</div>\n",
              "      <button class=\"colab-df-convert\" onclick=\"convertToInteractive('df-893085de-b71e-4d99-be54-112c3cb19147')\"\n",
              "              title=\"Convert this dataframe to an interactive table.\"\n",
              "              style=\"display:none;\">\n",
              "        \n",
              "  <svg xmlns=\"http://www.w3.org/2000/svg\" height=\"24px\"viewBox=\"0 0 24 24\"\n",
              "       width=\"24px\">\n",
              "    <path d=\"M0 0h24v24H0V0z\" fill=\"none\"/>\n",
              "    <path d=\"M18.56 5.44l.94 2.06.94-2.06 2.06-.94-2.06-.94-.94-2.06-.94 2.06-2.06.94zm-11 1L8.5 8.5l.94-2.06 2.06-.94-2.06-.94L8.5 2.5l-.94 2.06-2.06.94zm10 10l.94 2.06.94-2.06 2.06-.94-2.06-.94-.94-2.06-.94 2.06-2.06.94z\"/><path d=\"M17.41 7.96l-1.37-1.37c-.4-.4-.92-.59-1.43-.59-.52 0-1.04.2-1.43.59L10.3 9.45l-7.72 7.72c-.78.78-.78 2.05 0 2.83L4 21.41c.39.39.9.59 1.41.59.51 0 1.02-.2 1.41-.59l7.78-7.78 2.81-2.81c.8-.78.8-2.07 0-2.86zM5.41 20L4 18.59l7.72-7.72 1.47 1.35L5.41 20z\"/>\n",
              "  </svg>\n",
              "      </button>\n",
              "      \n",
              "  <style>\n",
              "    .colab-df-container {\n",
              "      display:flex;\n",
              "      flex-wrap:wrap;\n",
              "      gap: 12px;\n",
              "    }\n",
              "\n",
              "    .colab-df-convert {\n",
              "      background-color: #E8F0FE;\n",
              "      border: none;\n",
              "      border-radius: 50%;\n",
              "      cursor: pointer;\n",
              "      display: none;\n",
              "      fill: #1967D2;\n",
              "      height: 32px;\n",
              "      padding: 0 0 0 0;\n",
              "      width: 32px;\n",
              "    }\n",
              "\n",
              "    .colab-df-convert:hover {\n",
              "      background-color: #E2EBFA;\n",
              "      box-shadow: 0px 1px 2px rgba(60, 64, 67, 0.3), 0px 1px 3px 1px rgba(60, 64, 67, 0.15);\n",
              "      fill: #174EA6;\n",
              "    }\n",
              "\n",
              "    [theme=dark] .colab-df-convert {\n",
              "      background-color: #3B4455;\n",
              "      fill: #D2E3FC;\n",
              "    }\n",
              "\n",
              "    [theme=dark] .colab-df-convert:hover {\n",
              "      background-color: #434B5C;\n",
              "      box-shadow: 0px 1px 3px 1px rgba(0, 0, 0, 0.15);\n",
              "      filter: drop-shadow(0px 1px 2px rgba(0, 0, 0, 0.3));\n",
              "      fill: #FFFFFF;\n",
              "    }\n",
              "  </style>\n",
              "\n",
              "      <script>\n",
              "        const buttonEl =\n",
              "          document.querySelector('#df-893085de-b71e-4d99-be54-112c3cb19147 button.colab-df-convert');\n",
              "        buttonEl.style.display =\n",
              "          google.colab.kernel.accessAllowed ? 'block' : 'none';\n",
              "\n",
              "        async function convertToInteractive(key) {\n",
              "          const element = document.querySelector('#df-893085de-b71e-4d99-be54-112c3cb19147');\n",
              "          const dataTable =\n",
              "            await google.colab.kernel.invokeFunction('convertToInteractive',\n",
              "                                                     [key], {});\n",
              "          if (!dataTable) return;\n",
              "\n",
              "          const docLinkHtml = 'Like what you see? Visit the ' +\n",
              "            '<a target=\"_blank\" href=https://colab.research.google.com/notebooks/data_table.ipynb>data table notebook</a>'\n",
              "            + ' to learn more about interactive tables.';\n",
              "          element.innerHTML = '';\n",
              "          dataTable['output_type'] = 'display_data';\n",
              "          await google.colab.output.renderOutput(dataTable, element);\n",
              "          const docLink = document.createElement('div');\n",
              "          docLink.innerHTML = docLinkHtml;\n",
              "          element.appendChild(docLink);\n",
              "        }\n",
              "      </script>\n",
              "    </div>\n",
              "  </div>\n",
              "  "
            ]
          },
          "metadata": {},
          "execution_count": 87
        }
      ]
    },
    {
      "cell_type": "markdown",
      "source": [
        "The first few rows contain the now imputed with centroid rows.\n",
        "\n",
        "The wordvectors are combined with the train lexemes set to make feature set 2. "
      ],
      "metadata": {
        "id": "sTWT9M2UwF2D"
      }
    },
    {
      "cell_type": "code",
      "source": [
        "q1trainvecs = pd.merge(left = q1trainlexemes, right = q1trainvecs_expanded, how = \"left\",left_on = 'lexeme_id',right_index = True)\n",
        "q1trainvecs.shape"
      ],
      "metadata": {
        "colab": {
          "base_uri": "https://localhost:8080/"
        },
        "id": "IXCq6_WGpyW3",
        "outputId": "f1a2c79b-fa7a-4d39-d977-176a75a89187"
      },
      "execution_count": 88,
      "outputs": [
        {
          "output_type": "execute_result",
          "data": {
            "text/plain": [
              "(12446, 317)"
            ]
          },
          "metadata": {},
          "execution_count": 88
        }
      ]
    },
    {
      "cell_type": "markdown",
      "source": [
        "The rest of the preprocessing is similar to that done in feature set 1: \n",
        "one-hot-encoding the language, part of speech and modifiers. \n",
        "\n",
        "A look at the current columns of q1trainlexemes:"
      ],
      "metadata": {
        "id": "SfaKc3-mwQg_"
      }
    },
    {
      "cell_type": "code",
      "source": [
        "q1trainlexemes = q1trainvecs\n",
        "q1trainlexemes.columns"
      ],
      "metadata": {
        "colab": {
          "base_uri": "https://localhost:8080/"
        },
        "id": "Uf3RQtpkqGvS",
        "outputId": "c2f2bc27-394f-4c52-cbf9-f14d406dadb1"
      },
      "execution_count": 89,
      "outputs": [
        {
          "output_type": "execute_result",
          "data": {
            "text/plain": [
              "Index([        'lexeme_id', 'learning_language',     'lexeme_string',\n",
              "            'surface_form',        'lemma_form',               'pos',\n",
              "              'modstrings',         'sf_length',    'sf_translation',\n",
              "          'lf_translation',\n",
              "       ...\n",
              "                       290,                 291,                 292,\n",
              "                       293,                 294,                 295,\n",
              "                       296,                 297,                 298,\n",
              "                       299],\n",
              "      dtype='object', length=317)"
            ]
          },
          "metadata": {},
          "execution_count": 89
        }
      ]
    },
    {
      "cell_type": "markdown",
      "source": [
        "At this point, Test set word vectors are prepared in the same way.\n",
        "\n",
        "The centroid computed above frmo the train set is used to impute missing vectors in the test set. "
      ],
      "metadata": {
        "id": "diGbgbOV79SS"
      }
    },
    {
      "cell_type": "code",
      "source": [
        "q1testvecs = wordvecs.loc[wordvecs['lexeme_id'].isin(q1test_lexemelist),:]\n",
        "\n",
        "# for non-na values, expanding the vectorlist columns so that one value is in one column: \n",
        "notna = q1testvecs.loc[~q1testvecs['vectorlist'].isna(),:]\n",
        "q1testvecs_notna_expanded = pd.DataFrame(notna['vectorlist'].tolist(),index = notna['lexeme_id'])\n",
        "\n",
        "\n",
        "# separating the null valued vectors\n",
        "is_na = q1testvecs.loc[q1testvecs['vectorlist'].isna(),:]\n",
        "numnulls = is_na.shape[0]\n",
        "print(numnulls)\n",
        "is_na.index = is_na['lexeme_id']\n",
        "\n",
        "# imputing null valued vector rows with centroid\n",
        "q1testvecs_na_expanded = pd.concat([pd.DataFrame(q1trainvecs_centroid).transpose()]*numnulls,axis=0)\n",
        "q1testvecs_na_expanded.index = is_na.index\n",
        "\n",
        "q1testvecs_expanded = pd.concat([q1testvecs_na_expanded,q1testvecs_notna_expanded],axis=0)\n",
        "\n",
        "# look at the first few rows:\n",
        "q1testvecs_expanded.head()"
      ],
      "metadata": {
        "colab": {
          "base_uri": "https://localhost:8080/",
          "height": 348
        },
        "outputId": "b07f3635-d308-4111-d1a5-66ba1bd95992",
        "id": "tlKa5NBr7_fi"
      },
      "execution_count": 90,
      "outputs": [
        {
          "output_type": "stream",
          "name": "stdout",
          "text": [
            "19\n"
          ]
        },
        {
          "output_type": "execute_result",
          "data": {
            "text/plain": [
              "                                          0            1            2    \\\n",
              "lexeme_id                                                                 \n",
              "3baca3559289e14345edc0c53f516033  1921.703736  2113.669326 -2173.573581   \n",
              "883996f36cc186da5983b13384230a9f  1921.703736  2113.669326 -2173.573581   \n",
              "fc1b93172eef30156a0b8c388c72571c  1921.703736  2113.669326 -2173.573581   \n",
              "0c7c00989ed4b87cc6e704712beec291  1921.703736  2113.669326 -2173.573581   \n",
              "a45c0dfd77553cf466546d8f42f2d34a  1921.703736  2113.669326 -2173.573581   \n",
              "\n",
              "                                        3            4          5    \\\n",
              "lexeme_id                                                             \n",
              "3baca3559289e14345edc0c53f516033 -74.189575  1497.442477 -33.039358   \n",
              "883996f36cc186da5983b13384230a9f -74.189575  1497.442477 -33.039358   \n",
              "fc1b93172eef30156a0b8c388c72571c -74.189575  1497.442477 -33.039358   \n",
              "0c7c00989ed4b87cc6e704712beec291 -74.189575  1497.442477 -33.039358   \n",
              "a45c0dfd77553cf466546d8f42f2d34a -74.189575  1497.442477 -33.039358   \n",
              "\n",
              "                                         6           7            8    \\\n",
              "lexeme_id                                                               \n",
              "3baca3559289e14345edc0c53f516033 -258.911471 -773.852607  1150.354816   \n",
              "883996f36cc186da5983b13384230a9f -258.911471 -773.852607  1150.354816   \n",
              "fc1b93172eef30156a0b8c388c72571c -258.911471 -773.852607  1150.354816   \n",
              "0c7c00989ed4b87cc6e704712beec291 -258.911471 -773.852607  1150.354816   \n",
              "a45c0dfd77553cf466546d8f42f2d34a -258.911471 -773.852607  1150.354816   \n",
              "\n",
              "                                           9    ...          290        291  \\\n",
              "lexeme_id                                       ...                           \n",
              "3baca3559289e14345edc0c53f516033  15039.361016  ... -1958.877268  982.64572   \n",
              "883996f36cc186da5983b13384230a9f  15039.361016  ... -1958.877268  982.64572   \n",
              "fc1b93172eef30156a0b8c388c72571c  15039.361016  ... -1958.877268  982.64572   \n",
              "0c7c00989ed4b87cc6e704712beec291  15039.361016  ... -1958.877268  982.64572   \n",
              "a45c0dfd77553cf466546d8f42f2d34a  15039.361016  ... -1958.877268  982.64572   \n",
              "\n",
              "                                          292         293       294  \\\n",
              "lexeme_id                                                             \n",
              "3baca3559289e14345edc0c53f516033 -1496.365879 -640.790628 -41.80336   \n",
              "883996f36cc186da5983b13384230a9f -1496.365879 -640.790628 -41.80336   \n",
              "fc1b93172eef30156a0b8c388c72571c -1496.365879 -640.790628 -41.80336   \n",
              "0c7c00989ed4b87cc6e704712beec291 -1496.365879 -640.790628 -41.80336   \n",
              "a45c0dfd77553cf466546d8f42f2d34a -1496.365879 -640.790628 -41.80336   \n",
              "\n",
              "                                        295         296         297  \\\n",
              "lexeme_id                                                             \n",
              "3baca3559289e14345edc0c53f516033  40.623469 -437.983046  273.050123   \n",
              "883996f36cc186da5983b13384230a9f  40.623469 -437.983046  273.050123   \n",
              "fc1b93172eef30156a0b8c388c72571c  40.623469 -437.983046  273.050123   \n",
              "0c7c00989ed4b87cc6e704712beec291  40.623469 -437.983046  273.050123   \n",
              "a45c0dfd77553cf466546d8f42f2d34a  40.623469 -437.983046  273.050123   \n",
              "\n",
              "                                         298         299  \n",
              "lexeme_id                                                 \n",
              "3baca3559289e14345edc0c53f516033 -993.870587  678.062785  \n",
              "883996f36cc186da5983b13384230a9f -993.870587  678.062785  \n",
              "fc1b93172eef30156a0b8c388c72571c -993.870587  678.062785  \n",
              "0c7c00989ed4b87cc6e704712beec291 -993.870587  678.062785  \n",
              "a45c0dfd77553cf466546d8f42f2d34a -993.870587  678.062785  \n",
              "\n",
              "[5 rows x 300 columns]"
            ],
            "text/html": [
              "\n",
              "  <div id=\"df-de067c2c-99cc-4a2a-9fad-f6879b0a317f\">\n",
              "    <div class=\"colab-df-container\">\n",
              "      <div>\n",
              "<style scoped>\n",
              "    .dataframe tbody tr th:only-of-type {\n",
              "        vertical-align: middle;\n",
              "    }\n",
              "\n",
              "    .dataframe tbody tr th {\n",
              "        vertical-align: top;\n",
              "    }\n",
              "\n",
              "    .dataframe thead th {\n",
              "        text-align: right;\n",
              "    }\n",
              "</style>\n",
              "<table border=\"1\" class=\"dataframe\">\n",
              "  <thead>\n",
              "    <tr style=\"text-align: right;\">\n",
              "      <th></th>\n",
              "      <th>0</th>\n",
              "      <th>1</th>\n",
              "      <th>2</th>\n",
              "      <th>3</th>\n",
              "      <th>4</th>\n",
              "      <th>5</th>\n",
              "      <th>6</th>\n",
              "      <th>7</th>\n",
              "      <th>8</th>\n",
              "      <th>9</th>\n",
              "      <th>...</th>\n",
              "      <th>290</th>\n",
              "      <th>291</th>\n",
              "      <th>292</th>\n",
              "      <th>293</th>\n",
              "      <th>294</th>\n",
              "      <th>295</th>\n",
              "      <th>296</th>\n",
              "      <th>297</th>\n",
              "      <th>298</th>\n",
              "      <th>299</th>\n",
              "    </tr>\n",
              "    <tr>\n",
              "      <th>lexeme_id</th>\n",
              "      <th></th>\n",
              "      <th></th>\n",
              "      <th></th>\n",
              "      <th></th>\n",
              "      <th></th>\n",
              "      <th></th>\n",
              "      <th></th>\n",
              "      <th></th>\n",
              "      <th></th>\n",
              "      <th></th>\n",
              "      <th></th>\n",
              "      <th></th>\n",
              "      <th></th>\n",
              "      <th></th>\n",
              "      <th></th>\n",
              "      <th></th>\n",
              "      <th></th>\n",
              "      <th></th>\n",
              "      <th></th>\n",
              "      <th></th>\n",
              "      <th></th>\n",
              "    </tr>\n",
              "  </thead>\n",
              "  <tbody>\n",
              "    <tr>\n",
              "      <th>3baca3559289e14345edc0c53f516033</th>\n",
              "      <td>1921.703736</td>\n",
              "      <td>2113.669326</td>\n",
              "      <td>-2173.573581</td>\n",
              "      <td>-74.189575</td>\n",
              "      <td>1497.442477</td>\n",
              "      <td>-33.039358</td>\n",
              "      <td>-258.911471</td>\n",
              "      <td>-773.852607</td>\n",
              "      <td>1150.354816</td>\n",
              "      <td>15039.361016</td>\n",
              "      <td>...</td>\n",
              "      <td>-1958.877268</td>\n",
              "      <td>982.64572</td>\n",
              "      <td>-1496.365879</td>\n",
              "      <td>-640.790628</td>\n",
              "      <td>-41.80336</td>\n",
              "      <td>40.623469</td>\n",
              "      <td>-437.983046</td>\n",
              "      <td>273.050123</td>\n",
              "      <td>-993.870587</td>\n",
              "      <td>678.062785</td>\n",
              "    </tr>\n",
              "    <tr>\n",
              "      <th>883996f36cc186da5983b13384230a9f</th>\n",
              "      <td>1921.703736</td>\n",
              "      <td>2113.669326</td>\n",
              "      <td>-2173.573581</td>\n",
              "      <td>-74.189575</td>\n",
              "      <td>1497.442477</td>\n",
              "      <td>-33.039358</td>\n",
              "      <td>-258.911471</td>\n",
              "      <td>-773.852607</td>\n",
              "      <td>1150.354816</td>\n",
              "      <td>15039.361016</td>\n",
              "      <td>...</td>\n",
              "      <td>-1958.877268</td>\n",
              "      <td>982.64572</td>\n",
              "      <td>-1496.365879</td>\n",
              "      <td>-640.790628</td>\n",
              "      <td>-41.80336</td>\n",
              "      <td>40.623469</td>\n",
              "      <td>-437.983046</td>\n",
              "      <td>273.050123</td>\n",
              "      <td>-993.870587</td>\n",
              "      <td>678.062785</td>\n",
              "    </tr>\n",
              "    <tr>\n",
              "      <th>fc1b93172eef30156a0b8c388c72571c</th>\n",
              "      <td>1921.703736</td>\n",
              "      <td>2113.669326</td>\n",
              "      <td>-2173.573581</td>\n",
              "      <td>-74.189575</td>\n",
              "      <td>1497.442477</td>\n",
              "      <td>-33.039358</td>\n",
              "      <td>-258.911471</td>\n",
              "      <td>-773.852607</td>\n",
              "      <td>1150.354816</td>\n",
              "      <td>15039.361016</td>\n",
              "      <td>...</td>\n",
              "      <td>-1958.877268</td>\n",
              "      <td>982.64572</td>\n",
              "      <td>-1496.365879</td>\n",
              "      <td>-640.790628</td>\n",
              "      <td>-41.80336</td>\n",
              "      <td>40.623469</td>\n",
              "      <td>-437.983046</td>\n",
              "      <td>273.050123</td>\n",
              "      <td>-993.870587</td>\n",
              "      <td>678.062785</td>\n",
              "    </tr>\n",
              "    <tr>\n",
              "      <th>0c7c00989ed4b87cc6e704712beec291</th>\n",
              "      <td>1921.703736</td>\n",
              "      <td>2113.669326</td>\n",
              "      <td>-2173.573581</td>\n",
              "      <td>-74.189575</td>\n",
              "      <td>1497.442477</td>\n",
              "      <td>-33.039358</td>\n",
              "      <td>-258.911471</td>\n",
              "      <td>-773.852607</td>\n",
              "      <td>1150.354816</td>\n",
              "      <td>15039.361016</td>\n",
              "      <td>...</td>\n",
              "      <td>-1958.877268</td>\n",
              "      <td>982.64572</td>\n",
              "      <td>-1496.365879</td>\n",
              "      <td>-640.790628</td>\n",
              "      <td>-41.80336</td>\n",
              "      <td>40.623469</td>\n",
              "      <td>-437.983046</td>\n",
              "      <td>273.050123</td>\n",
              "      <td>-993.870587</td>\n",
              "      <td>678.062785</td>\n",
              "    </tr>\n",
              "    <tr>\n",
              "      <th>a45c0dfd77553cf466546d8f42f2d34a</th>\n",
              "      <td>1921.703736</td>\n",
              "      <td>2113.669326</td>\n",
              "      <td>-2173.573581</td>\n",
              "      <td>-74.189575</td>\n",
              "      <td>1497.442477</td>\n",
              "      <td>-33.039358</td>\n",
              "      <td>-258.911471</td>\n",
              "      <td>-773.852607</td>\n",
              "      <td>1150.354816</td>\n",
              "      <td>15039.361016</td>\n",
              "      <td>...</td>\n",
              "      <td>-1958.877268</td>\n",
              "      <td>982.64572</td>\n",
              "      <td>-1496.365879</td>\n",
              "      <td>-640.790628</td>\n",
              "      <td>-41.80336</td>\n",
              "      <td>40.623469</td>\n",
              "      <td>-437.983046</td>\n",
              "      <td>273.050123</td>\n",
              "      <td>-993.870587</td>\n",
              "      <td>678.062785</td>\n",
              "    </tr>\n",
              "  </tbody>\n",
              "</table>\n",
              "<p>5 rows × 300 columns</p>\n",
              "</div>\n",
              "      <button class=\"colab-df-convert\" onclick=\"convertToInteractive('df-de067c2c-99cc-4a2a-9fad-f6879b0a317f')\"\n",
              "              title=\"Convert this dataframe to an interactive table.\"\n",
              "              style=\"display:none;\">\n",
              "        \n",
              "  <svg xmlns=\"http://www.w3.org/2000/svg\" height=\"24px\"viewBox=\"0 0 24 24\"\n",
              "       width=\"24px\">\n",
              "    <path d=\"M0 0h24v24H0V0z\" fill=\"none\"/>\n",
              "    <path d=\"M18.56 5.44l.94 2.06.94-2.06 2.06-.94-2.06-.94-.94-2.06-.94 2.06-2.06.94zm-11 1L8.5 8.5l.94-2.06 2.06-.94-2.06-.94L8.5 2.5l-.94 2.06-2.06.94zm10 10l.94 2.06.94-2.06 2.06-.94-2.06-.94-.94-2.06-.94 2.06-2.06.94z\"/><path d=\"M17.41 7.96l-1.37-1.37c-.4-.4-.92-.59-1.43-.59-.52 0-1.04.2-1.43.59L10.3 9.45l-7.72 7.72c-.78.78-.78 2.05 0 2.83L4 21.41c.39.39.9.59 1.41.59.51 0 1.02-.2 1.41-.59l7.78-7.78 2.81-2.81c.8-.78.8-2.07 0-2.86zM5.41 20L4 18.59l7.72-7.72 1.47 1.35L5.41 20z\"/>\n",
              "  </svg>\n",
              "      </button>\n",
              "      \n",
              "  <style>\n",
              "    .colab-df-container {\n",
              "      display:flex;\n",
              "      flex-wrap:wrap;\n",
              "      gap: 12px;\n",
              "    }\n",
              "\n",
              "    .colab-df-convert {\n",
              "      background-color: #E8F0FE;\n",
              "      border: none;\n",
              "      border-radius: 50%;\n",
              "      cursor: pointer;\n",
              "      display: none;\n",
              "      fill: #1967D2;\n",
              "      height: 32px;\n",
              "      padding: 0 0 0 0;\n",
              "      width: 32px;\n",
              "    }\n",
              "\n",
              "    .colab-df-convert:hover {\n",
              "      background-color: #E2EBFA;\n",
              "      box-shadow: 0px 1px 2px rgba(60, 64, 67, 0.3), 0px 1px 3px 1px rgba(60, 64, 67, 0.15);\n",
              "      fill: #174EA6;\n",
              "    }\n",
              "\n",
              "    [theme=dark] .colab-df-convert {\n",
              "      background-color: #3B4455;\n",
              "      fill: #D2E3FC;\n",
              "    }\n",
              "\n",
              "    [theme=dark] .colab-df-convert:hover {\n",
              "      background-color: #434B5C;\n",
              "      box-shadow: 0px 1px 3px 1px rgba(0, 0, 0, 0.15);\n",
              "      filter: drop-shadow(0px 1px 2px rgba(0, 0, 0, 0.3));\n",
              "      fill: #FFFFFF;\n",
              "    }\n",
              "  </style>\n",
              "\n",
              "      <script>\n",
              "        const buttonEl =\n",
              "          document.querySelector('#df-de067c2c-99cc-4a2a-9fad-f6879b0a317f button.colab-df-convert');\n",
              "        buttonEl.style.display =\n",
              "          google.colab.kernel.accessAllowed ? 'block' : 'none';\n",
              "\n",
              "        async function convertToInteractive(key) {\n",
              "          const element = document.querySelector('#df-de067c2c-99cc-4a2a-9fad-f6879b0a317f');\n",
              "          const dataTable =\n",
              "            await google.colab.kernel.invokeFunction('convertToInteractive',\n",
              "                                                     [key], {});\n",
              "          if (!dataTable) return;\n",
              "\n",
              "          const docLinkHtml = 'Like what you see? Visit the ' +\n",
              "            '<a target=\"_blank\" href=https://colab.research.google.com/notebooks/data_table.ipynb>data table notebook</a>'\n",
              "            + ' to learn more about interactive tables.';\n",
              "          element.innerHTML = '';\n",
              "          dataTable['output_type'] = 'display_data';\n",
              "          await google.colab.output.renderOutput(dataTable, element);\n",
              "          const docLink = document.createElement('div');\n",
              "          docLink.innerHTML = docLinkHtml;\n",
              "          element.appendChild(docLink);\n",
              "        }\n",
              "      </script>\n",
              "    </div>\n",
              "  </div>\n",
              "  "
            ]
          },
          "metadata": {},
          "execution_count": 90
        }
      ]
    },
    {
      "cell_type": "markdown",
      "source": [
        "Combining the test set expanded vectors with the q1testlexemes"
      ],
      "metadata": {
        "id": "2gpG-JOOxZPX"
      }
    },
    {
      "cell_type": "code",
      "source": [
        "q1testvecs = pd.merge(left = q1testlexemes, right = q1testvecs_expanded, how = \"left\",left_on = 'lexeme_id',right_index = True)\n",
        "q1testvecs.shape"
      ],
      "metadata": {
        "colab": {
          "base_uri": "https://localhost:8080/"
        },
        "outputId": "2b19f2ae-7074-4bb0-a1da-196a659c9336",
        "id": "gQ11siDx7_fi"
      },
      "execution_count": 91,
      "outputs": [
        {
          "output_type": "execute_result",
          "data": {
            "text/plain": [
              "(2776, 317)"
            ]
          },
          "metadata": {},
          "execution_count": 91
        }
      ]
    },
    {
      "cell_type": "code",
      "source": [
        "q1testlexemes = q1testvecs\n",
        "q1testlexemes.columns"
      ],
      "metadata": {
        "colab": {
          "base_uri": "https://localhost:8080/"
        },
        "outputId": "f0da5daf-d26c-4d95-dab3-0f611d1e2545",
        "id": "0WoYGSr_7_fi"
      },
      "execution_count": 92,
      "outputs": [
        {
          "output_type": "execute_result",
          "data": {
            "text/plain": [
              "Index([        'lexeme_id', 'learning_language',     'lexeme_string',\n",
              "            'surface_form',        'lemma_form',               'pos',\n",
              "              'modstrings',         'sf_length',    'sf_translation',\n",
              "          'lf_translation',\n",
              "       ...\n",
              "                       290,                 291,                 292,\n",
              "                       293,                 294,                 295,\n",
              "                       296,                 297,                 298,\n",
              "                       299],\n",
              "      dtype='object', length=317)"
            ]
          },
          "metadata": {},
          "execution_count": 92
        }
      ]
    },
    {
      "cell_type": "markdown",
      "source": [
        "## <font color = 'cornflowerblue' size=4>Preprocessing and PCA</font>"
      ],
      "metadata": {
        "id": "PJE84YdT8DEl"
      }
    },
    {
      "cell_type": "markdown",
      "source": [
        "### <font color = 'cornflowerblue' size=3>One hot encoding of categoricals</font>\n",
        "The learning language, pos and mostrings are further converted to binary dummies: "
      ],
      "metadata": {
        "id": "lA1zFUID7ZnB"
      }
    },
    {
      "cell_type": "code",
      "source": [
        "from sklearn.preprocessing import OneHotEncoder\n",
        "\n",
        "enc_lang = OneHotEncoder(sparse=False,handle_unknown='ignore')\n",
        "enc_pos = OneHotEncoder(sparse = False,handle_unknown = 'ignore')\n",
        "enc_mods = OneHotEncoder(sparse=False,handle_unknown='ignore')\n",
        "\n",
        "# get one hot encoded learning language\n",
        "enc_lang.fit(np.array(q1trainlexemes['learning_language']).reshape(-1, 1))\n",
        "q1train_lang = pd.DataFrame(enc_lang.transform(np.array(q1trainlexemes['learning_language']).reshape(-1, 1)),index=q1trainlexemes.index)\n",
        "\n",
        "# get one hot encoded part of speech:\n",
        "enc_pos.fit(np.array(q1trainlexemes['pos']).reshape(-1, 1))\n",
        "q1train_pos = pd.DataFrame(enc_pos.transform(np.array(q1trainlexemes['pos']).reshape(-1, 1)),index=q1trainlexemes.index)\n"
      ],
      "metadata": {
        "id": "OT8Nh5XT94dZ"
      },
      "execution_count": 93,
      "outputs": []
    },
    {
      "cell_type": "code",
      "source": [
        "# get one hot encoded modstrings\n",
        "q1trainlexemes['modstrings'].head()"
      ],
      "metadata": {
        "colab": {
          "base_uri": "https://localhost:8080/"
        },
        "id": "1xJtlMPRAxyM",
        "outputId": "098fdbd9-00ca-482f-fd2a-7763f0cf39ac"
      },
      "execution_count": 94,
      "outputs": [
        {
          "output_type": "execute_result",
          "data": {
            "text/plain": [
              "7                []\n",
              "20          [m, pl]\n",
              "21    [pri, p1, sg]\n",
              "22          [m, sg]\n",
              "24    [pri, p3, sg]\n",
              "Name: modstrings, dtype: object"
            ]
          },
          "metadata": {},
          "execution_count": 94
        }
      ]
    },
    {
      "cell_type": "markdown",
      "source": [
        "Since modstrings are saved as a list of strings, some more processing needs to be done before passing to the one hot encoder. "
      ],
      "metadata": {
        "id": "dOLCdf5pA1SV"
      }
    },
    {
      "cell_type": "code",
      "source": [
        "# explode values of list so a separate record is created for each element of the list. \n",
        "q1trainlexemes['modstrings'].explode()\n",
        "enc_mods.fit(np.array(q1trainlexemes['modstrings'].explode()).reshape(-1,1))\n",
        "q1train_mods_exploded =enc_mods.transform(np.array(q1trainlexemes['modstrings'].explode()).reshape(-1,1))\n",
        "\n",
        "q1train_modsdf_exploded = pd.DataFrame(q1train_mods_exploded, index = q1trainlexemes['modstrings'].explode().index)\n",
        "\n",
        "# group the exploded one-hot dataframe by the q1lexemes index, sum up the exploded records (since one word can have many modifiers in its list)\n",
        "q1train_modsdf = q1train_modsdf_exploded.groupby(q1train_modsdf_exploded.index).sum()\n",
        "#np.concatenate([np.array(q1trainlexemes['modstrings'].explode().index).reshape(-1,1),q1train_mods],axis=1)"
      ],
      "metadata": {
        "id": "5MnQB_n9_7zf"
      },
      "execution_count": 95,
      "outputs": []
    },
    {
      "cell_type": "code",
      "source": [
        "q1train_modsdf.shape, q1trainlexemes.shape"
      ],
      "metadata": {
        "colab": {
          "base_uri": "https://localhost:8080/"
        },
        "id": "YSf7EfBND8P7",
        "outputId": "46b2fa57-c96c-46ad-a20a-174696132810"
      },
      "execution_count": 96,
      "outputs": [
        {
          "output_type": "execute_result",
          "data": {
            "text/plain": [
              "((12446, 86), (12446, 317))"
            ]
          },
          "metadata": {},
          "execution_count": 96
        }
      ]
    },
    {
      "cell_type": "markdown",
      "source": [
        "The summed shape of the mods dataframe is the same length as the q1trainlexemes dataframe. \n",
        "\n",
        "Now the language, pos and mod sparse columns are combined along with numerical word features to make the first feature set. "
      ],
      "metadata": {
        "id": "SuIB3cPXFUxp"
      }
    },
    {
      "cell_type": "code",
      "source": [
        "q1trainlexemes[['sf_length', 'L_dist_sf_noaccents_norm', 'EnglishIDF','lexeme_id']+list(range(0,300))].shape"
      ],
      "metadata": {
        "colab": {
          "base_uri": "https://localhost:8080/"
        },
        "id": "Jg5-TVGy7b_Z",
        "outputId": "716b4069-a760-462c-f6db-2433d462506e"
      },
      "execution_count": 97,
      "outputs": [
        {
          "output_type": "execute_result",
          "data": {
            "text/plain": [
              "(12446, 304)"
            ]
          },
          "metadata": {},
          "execution_count": 97
        }
      ]
    },
    {
      "cell_type": "code",
      "source": [
        "q1trainfeatureset2 = pd.concat([q1trainlexemes[['sf_length', 'L_dist_sf_noaccents_norm', 'EnglishIDF','lexeme_id']+list(range(0,300))],\n",
        "                                q1train_lang, \n",
        "                                q1train_pos, \n",
        "                                q1train_modsdf, \n",
        "                                ],axis=1)"
      ],
      "metadata": {
        "id": "w97c1rnUFinJ"
      },
      "execution_count": 98,
      "outputs": []
    },
    {
      "cell_type": "code",
      "source": [
        "q1trainfeatureset2.shape"
      ],
      "metadata": {
        "colab": {
          "base_uri": "https://localhost:8080/"
        },
        "id": "66xiW_TAGn9H",
        "outputId": "2dcd62b5-6e40-40be-fe1e-8e7d98647167"
      },
      "execution_count": 99,
      "outputs": [
        {
          "output_type": "execute_result",
          "data": {
            "text/plain": [
              "(12446, 467)"
            ]
          },
          "metadata": {},
          "execution_count": 99
        }
      ]
    },
    {
      "cell_type": "code",
      "source": [
        "q1trainfeatureset2.columns = ['sf_length', 'L_dist_sf_noaccents_norm', 'EnglishIDF','lexeme_id'] + list(range(0,300)) + ['lang_'+c for c in list(enc_lang.get_feature_names_out())] + ['pos_' + c for c in list(enc_pos.get_feature_names_out())] + ['mod_' + c for c in list(enc_mods.get_feature_names_out())]"
      ],
      "metadata": {
        "id": "Jx4xT0Zx7_54"
      },
      "execution_count": 100,
      "outputs": []
    },
    {
      "cell_type": "markdown",
      "source": [
        "Checking if there are generated column names that are duplicates:"
      ],
      "metadata": {
        "id": "KifTkOkfxwF9"
      }
    },
    {
      "cell_type": "code",
      "source": [
        "len(list(q1trainfeatureset2.columns)) - len(set(q1trainfeatureset2.columns))"
      ],
      "metadata": {
        "colab": {
          "base_uri": "https://localhost:8080/"
        },
        "id": "L42lWP3J8WV0",
        "outputId": "47c8b766-0dde-452e-964a-4a4bdfbf1a4f"
      },
      "execution_count": 101,
      "outputs": [
        {
          "output_type": "execute_result",
          "data": {
            "text/plain": [
              "0"
            ]
          },
          "metadata": {},
          "execution_count": 101
        }
      ]
    },
    {
      "cell_type": "code",
      "source": [
        "q1trainfeatureset2.head()"
      ],
      "metadata": {
        "colab": {
          "base_uri": "https://localhost:8080/",
          "height": 299
        },
        "id": "Q1F5YrAW745w",
        "outputId": "9c81c17d-c28b-4485-9be9-ef7cd7102b69"
      },
      "execution_count": 102,
      "outputs": [
        {
          "output_type": "execute_result",
          "data": {
            "text/plain": [
              "    sf_length  L_dist_sf_noaccents_norm  EnglishIDF  \\\n",
              "7           4                       0.5    3.733996   \n",
              "20          5                       0.6   10.981924   \n",
              "21          3                       0.0    4.051187   \n",
              "22          5                       0.8    0.438409   \n",
              "24          3                       1.0    0.502649   \n",
              "\n",
              "                           lexeme_id         0         1         2         3  \\\n",
              "7   73eecb492ca758ddab5371cf7b5cca32 -0.269015 -0.041727 -0.045045  0.069940   \n",
              "20  c84476c460737d9fb905dca3d35ec995 -0.007808  0.188679 -0.264520 -0.134410   \n",
              "21  1a913f2ded424985b9c02d0436008511  0.820083  0.677704 -0.500191 -0.140807   \n",
              "22  38b770e66595fea718366523b4f7db3f  0.020896  0.318951 -0.269169  0.024149   \n",
              "24  faa6fd18132b358958e440322ee82b4b  0.129024  0.423030 -0.457697  0.013778   \n",
              "\n",
              "           4         5  ...  mod_x0_prs  mod_x0_qnt  mod_x0_ref  mod_x0_sg  \\\n",
              "7   0.067316  0.135177  ...         0.0         0.0         0.0        0.0   \n",
              "20  0.025235 -0.095146  ...         0.0         0.0         0.0        0.0   \n",
              "21  0.549122  0.634742  ...         0.0         0.0         0.0        1.0   \n",
              "22  0.415287  0.331545  ...         0.0         0.0         0.0        1.0   \n",
              "24  0.316385  0.414319  ...         0.0         0.0         0.0        1.0   \n",
              "\n",
              "    mod_x0_sint  mod_x0_sp  mod_x0_subj  mod_x0_sup  mod_x0_tn  mod_x0_nan  \n",
              "7           0.0        0.0          0.0         0.0        0.0         1.0  \n",
              "20          0.0        0.0          0.0         0.0        0.0         0.0  \n",
              "21          0.0        0.0          0.0         0.0        0.0         0.0  \n",
              "22          0.0        0.0          0.0         0.0        0.0         0.0  \n",
              "24          0.0        0.0          0.0         0.0        0.0         0.0  \n",
              "\n",
              "[5 rows x 467 columns]"
            ],
            "text/html": [
              "\n",
              "  <div id=\"df-9c4ee037-c99d-4714-8107-c84b678ed644\">\n",
              "    <div class=\"colab-df-container\">\n",
              "      <div>\n",
              "<style scoped>\n",
              "    .dataframe tbody tr th:only-of-type {\n",
              "        vertical-align: middle;\n",
              "    }\n",
              "\n",
              "    .dataframe tbody tr th {\n",
              "        vertical-align: top;\n",
              "    }\n",
              "\n",
              "    .dataframe thead th {\n",
              "        text-align: right;\n",
              "    }\n",
              "</style>\n",
              "<table border=\"1\" class=\"dataframe\">\n",
              "  <thead>\n",
              "    <tr style=\"text-align: right;\">\n",
              "      <th></th>\n",
              "      <th>sf_length</th>\n",
              "      <th>L_dist_sf_noaccents_norm</th>\n",
              "      <th>EnglishIDF</th>\n",
              "      <th>lexeme_id</th>\n",
              "      <th>0</th>\n",
              "      <th>1</th>\n",
              "      <th>2</th>\n",
              "      <th>3</th>\n",
              "      <th>4</th>\n",
              "      <th>5</th>\n",
              "      <th>...</th>\n",
              "      <th>mod_x0_prs</th>\n",
              "      <th>mod_x0_qnt</th>\n",
              "      <th>mod_x0_ref</th>\n",
              "      <th>mod_x0_sg</th>\n",
              "      <th>mod_x0_sint</th>\n",
              "      <th>mod_x0_sp</th>\n",
              "      <th>mod_x0_subj</th>\n",
              "      <th>mod_x0_sup</th>\n",
              "      <th>mod_x0_tn</th>\n",
              "      <th>mod_x0_nan</th>\n",
              "    </tr>\n",
              "  </thead>\n",
              "  <tbody>\n",
              "    <tr>\n",
              "      <th>7</th>\n",
              "      <td>4</td>\n",
              "      <td>0.5</td>\n",
              "      <td>3.733996</td>\n",
              "      <td>73eecb492ca758ddab5371cf7b5cca32</td>\n",
              "      <td>-0.269015</td>\n",
              "      <td>-0.041727</td>\n",
              "      <td>-0.045045</td>\n",
              "      <td>0.069940</td>\n",
              "      <td>0.067316</td>\n",
              "      <td>0.135177</td>\n",
              "      <td>...</td>\n",
              "      <td>0.0</td>\n",
              "      <td>0.0</td>\n",
              "      <td>0.0</td>\n",
              "      <td>0.0</td>\n",
              "      <td>0.0</td>\n",
              "      <td>0.0</td>\n",
              "      <td>0.0</td>\n",
              "      <td>0.0</td>\n",
              "      <td>0.0</td>\n",
              "      <td>1.0</td>\n",
              "    </tr>\n",
              "    <tr>\n",
              "      <th>20</th>\n",
              "      <td>5</td>\n",
              "      <td>0.6</td>\n",
              "      <td>10.981924</td>\n",
              "      <td>c84476c460737d9fb905dca3d35ec995</td>\n",
              "      <td>-0.007808</td>\n",
              "      <td>0.188679</td>\n",
              "      <td>-0.264520</td>\n",
              "      <td>-0.134410</td>\n",
              "      <td>0.025235</td>\n",
              "      <td>-0.095146</td>\n",
              "      <td>...</td>\n",
              "      <td>0.0</td>\n",
              "      <td>0.0</td>\n",
              "      <td>0.0</td>\n",
              "      <td>0.0</td>\n",
              "      <td>0.0</td>\n",
              "      <td>0.0</td>\n",
              "      <td>0.0</td>\n",
              "      <td>0.0</td>\n",
              "      <td>0.0</td>\n",
              "      <td>0.0</td>\n",
              "    </tr>\n",
              "    <tr>\n",
              "      <th>21</th>\n",
              "      <td>3</td>\n",
              "      <td>0.0</td>\n",
              "      <td>4.051187</td>\n",
              "      <td>1a913f2ded424985b9c02d0436008511</td>\n",
              "      <td>0.820083</td>\n",
              "      <td>0.677704</td>\n",
              "      <td>-0.500191</td>\n",
              "      <td>-0.140807</td>\n",
              "      <td>0.549122</td>\n",
              "      <td>0.634742</td>\n",
              "      <td>...</td>\n",
              "      <td>0.0</td>\n",
              "      <td>0.0</td>\n",
              "      <td>0.0</td>\n",
              "      <td>1.0</td>\n",
              "      <td>0.0</td>\n",
              "      <td>0.0</td>\n",
              "      <td>0.0</td>\n",
              "      <td>0.0</td>\n",
              "      <td>0.0</td>\n",
              "      <td>0.0</td>\n",
              "    </tr>\n",
              "    <tr>\n",
              "      <th>22</th>\n",
              "      <td>5</td>\n",
              "      <td>0.8</td>\n",
              "      <td>0.438409</td>\n",
              "      <td>38b770e66595fea718366523b4f7db3f</td>\n",
              "      <td>0.020896</td>\n",
              "      <td>0.318951</td>\n",
              "      <td>-0.269169</td>\n",
              "      <td>0.024149</td>\n",
              "      <td>0.415287</td>\n",
              "      <td>0.331545</td>\n",
              "      <td>...</td>\n",
              "      <td>0.0</td>\n",
              "      <td>0.0</td>\n",
              "      <td>0.0</td>\n",
              "      <td>1.0</td>\n",
              "      <td>0.0</td>\n",
              "      <td>0.0</td>\n",
              "      <td>0.0</td>\n",
              "      <td>0.0</td>\n",
              "      <td>0.0</td>\n",
              "      <td>0.0</td>\n",
              "    </tr>\n",
              "    <tr>\n",
              "      <th>24</th>\n",
              "      <td>3</td>\n",
              "      <td>1.0</td>\n",
              "      <td>0.502649</td>\n",
              "      <td>faa6fd18132b358958e440322ee82b4b</td>\n",
              "      <td>0.129024</td>\n",
              "      <td>0.423030</td>\n",
              "      <td>-0.457697</td>\n",
              "      <td>0.013778</td>\n",
              "      <td>0.316385</td>\n",
              "      <td>0.414319</td>\n",
              "      <td>...</td>\n",
              "      <td>0.0</td>\n",
              "      <td>0.0</td>\n",
              "      <td>0.0</td>\n",
              "      <td>1.0</td>\n",
              "      <td>0.0</td>\n",
              "      <td>0.0</td>\n",
              "      <td>0.0</td>\n",
              "      <td>0.0</td>\n",
              "      <td>0.0</td>\n",
              "      <td>0.0</td>\n",
              "    </tr>\n",
              "  </tbody>\n",
              "</table>\n",
              "<p>5 rows × 467 columns</p>\n",
              "</div>\n",
              "      <button class=\"colab-df-convert\" onclick=\"convertToInteractive('df-9c4ee037-c99d-4714-8107-c84b678ed644')\"\n",
              "              title=\"Convert this dataframe to an interactive table.\"\n",
              "              style=\"display:none;\">\n",
              "        \n",
              "  <svg xmlns=\"http://www.w3.org/2000/svg\" height=\"24px\"viewBox=\"0 0 24 24\"\n",
              "       width=\"24px\">\n",
              "    <path d=\"M0 0h24v24H0V0z\" fill=\"none\"/>\n",
              "    <path d=\"M18.56 5.44l.94 2.06.94-2.06 2.06-.94-2.06-.94-.94-2.06-.94 2.06-2.06.94zm-11 1L8.5 8.5l.94-2.06 2.06-.94-2.06-.94L8.5 2.5l-.94 2.06-2.06.94zm10 10l.94 2.06.94-2.06 2.06-.94-2.06-.94-.94-2.06-.94 2.06-2.06.94z\"/><path d=\"M17.41 7.96l-1.37-1.37c-.4-.4-.92-.59-1.43-.59-.52 0-1.04.2-1.43.59L10.3 9.45l-7.72 7.72c-.78.78-.78 2.05 0 2.83L4 21.41c.39.39.9.59 1.41.59.51 0 1.02-.2 1.41-.59l7.78-7.78 2.81-2.81c.8-.78.8-2.07 0-2.86zM5.41 20L4 18.59l7.72-7.72 1.47 1.35L5.41 20z\"/>\n",
              "  </svg>\n",
              "      </button>\n",
              "      \n",
              "  <style>\n",
              "    .colab-df-container {\n",
              "      display:flex;\n",
              "      flex-wrap:wrap;\n",
              "      gap: 12px;\n",
              "    }\n",
              "\n",
              "    .colab-df-convert {\n",
              "      background-color: #E8F0FE;\n",
              "      border: none;\n",
              "      border-radius: 50%;\n",
              "      cursor: pointer;\n",
              "      display: none;\n",
              "      fill: #1967D2;\n",
              "      height: 32px;\n",
              "      padding: 0 0 0 0;\n",
              "      width: 32px;\n",
              "    }\n",
              "\n",
              "    .colab-df-convert:hover {\n",
              "      background-color: #E2EBFA;\n",
              "      box-shadow: 0px 1px 2px rgba(60, 64, 67, 0.3), 0px 1px 3px 1px rgba(60, 64, 67, 0.15);\n",
              "      fill: #174EA6;\n",
              "    }\n",
              "\n",
              "    [theme=dark] .colab-df-convert {\n",
              "      background-color: #3B4455;\n",
              "      fill: #D2E3FC;\n",
              "    }\n",
              "\n",
              "    [theme=dark] .colab-df-convert:hover {\n",
              "      background-color: #434B5C;\n",
              "      box-shadow: 0px 1px 3px 1px rgba(0, 0, 0, 0.15);\n",
              "      filter: drop-shadow(0px 1px 2px rgba(0, 0, 0, 0.3));\n",
              "      fill: #FFFFFF;\n",
              "    }\n",
              "  </style>\n",
              "\n",
              "      <script>\n",
              "        const buttonEl =\n",
              "          document.querySelector('#df-9c4ee037-c99d-4714-8107-c84b678ed644 button.colab-df-convert');\n",
              "        buttonEl.style.display =\n",
              "          google.colab.kernel.accessAllowed ? 'block' : 'none';\n",
              "\n",
              "        async function convertToInteractive(key) {\n",
              "          const element = document.querySelector('#df-9c4ee037-c99d-4714-8107-c84b678ed644');\n",
              "          const dataTable =\n",
              "            await google.colab.kernel.invokeFunction('convertToInteractive',\n",
              "                                                     [key], {});\n",
              "          if (!dataTable) return;\n",
              "\n",
              "          const docLinkHtml = 'Like what you see? Visit the ' +\n",
              "            '<a target=\"_blank\" href=https://colab.research.google.com/notebooks/data_table.ipynb>data table notebook</a>'\n",
              "            + ' to learn more about interactive tables.';\n",
              "          element.innerHTML = '';\n",
              "          dataTable['output_type'] = 'display_data';\n",
              "          await google.colab.output.renderOutput(dataTable, element);\n",
              "          const docLink = document.createElement('div');\n",
              "          docLink.innerHTML = docLinkHtml;\n",
              "          element.appendChild(docLink);\n",
              "        }\n",
              "      </script>\n",
              "    </div>\n",
              "  </div>\n",
              "  "
            ]
          },
          "metadata": {},
          "execution_count": 102
        }
      ]
    },
    {
      "cell_type": "markdown",
      "source": [
        "The feature set has 467 columns, containing derived word features such as sf_length, EnglishIDF and the word vectors, followed by one-hot encoded values of the cateogorical columns provided in the duolingo dataset. \n",
        "\n",
        "Checking for any null values:"
      ],
      "metadata": {
        "id": "0w9M0GziG5RK"
      }
    },
    {
      "cell_type": "code",
      "source": [
        "q1trainfeatureset2.isna().sum()"
      ],
      "metadata": {
        "colab": {
          "base_uri": "https://localhost:8080/"
        },
        "outputId": "9a01c1ce-ff19-4146-9138-e5464c59b875",
        "id": "1VL1X0aEyYXj"
      },
      "execution_count": 103,
      "outputs": [
        {
          "output_type": "execute_result",
          "data": {
            "text/plain": [
              "sf_length                     0\n",
              "L_dist_sf_noaccents_norm      0\n",
              "EnglishIDF                  267\n",
              "lexeme_id                     0\n",
              "0                             0\n",
              "                           ... \n",
              "mod_x0_sp                     0\n",
              "mod_x0_subj                   0\n",
              "mod_x0_sup                    0\n",
              "mod_x0_tn                     0\n",
              "mod_x0_nan                    0\n",
              "Length: 467, dtype: int64"
            ]
          },
          "metadata": {},
          "execution_count": 103
        }
      ]
    },
    {
      "cell_type": "markdown",
      "source": [
        "EnglishIDF has 267 null values. These are imputed with the median IDF value. "
      ],
      "metadata": {
        "id": "J52xo6u7yfk5"
      }
    },
    {
      "cell_type": "code",
      "source": [
        "plt.figure()\n",
        "plt.title(\"Distribution of EnglishIDF\")\n",
        "plt.xlabel(\"English IDF value from BNC corpus\")\n",
        "plt.ylabel(\"Frequency counts\")\n",
        "q1trainfeatureset2['EnglishIDF'].hist()\n",
        "plt.axvline(q1trainfeatureset2['EnglishIDF'].median(),color='black')\n",
        "plt.show()"
      ],
      "metadata": {
        "colab": {
          "base_uri": "https://localhost:8080/",
          "height": 295
        },
        "outputId": "468c3bb5-e316-4da1-8d10-dd970c7d6020",
        "id": "xQPshLy6yYXk"
      },
      "execution_count": 104,
      "outputs": [
        {
          "output_type": "display_data",
          "data": {
            "text/plain": [
              "<Figure size 432x288 with 1 Axes>"
            ],
            "image/png": "[encoded data removed]"
          },
          "metadata": {
            "needs_background": "light"
          }
        }
      ]
    },
    {
      "cell_type": "markdown",
      "source": [
        "Imputing:"
      ],
      "metadata": {
        "id": "FeTVxop0yYXk"
      }
    },
    {
      "cell_type": "code",
      "source": [
        "medianIDF = q1trainfeatureset2['EnglishIDF'].median()\n",
        "q1trainfeatureset2.loc[q1trainfeatureset2['EnglishIDF'].isna(),'EnglishIDF'] = medianIDF"
      ],
      "metadata": {
        "id": "jmvJC5lfyYXk"
      },
      "execution_count": 105,
      "outputs": []
    },
    {
      "cell_type": "markdown",
      "source": [
        "Checking for any null values left post imputing:"
      ],
      "metadata": {
        "id": "Hs5fmEuDyz8N"
      }
    },
    {
      "cell_type": "code",
      "source": [
        "q1trainfeatureset2.isna().sum().sum()"
      ],
      "metadata": {
        "colab": {
          "base_uri": "https://localhost:8080/"
        },
        "outputId": "ae1bbc9b-5e5d-45ee-9342-7858d489c425",
        "id": "GaSsf1eiyYXk"
      },
      "execution_count": 106,
      "outputs": [
        {
          "output_type": "execute_result",
          "data": {
            "text/plain": [
              "0"
            ]
          },
          "metadata": {},
          "execution_count": 106
        }
      ]
    },
    {
      "cell_type": "markdown",
      "source": [
        "\n",
        "Applying the same transformations to the test set lexemes:"
      ],
      "metadata": {
        "id": "yq2_WTUbybji"
      }
    },
    {
      "cell_type": "code",
      "source": [
        "len(q1test_lexemelist)"
      ],
      "metadata": {
        "colab": {
          "base_uri": "https://localhost:8080/"
        },
        "id": "IxDHPPvj2Vk6",
        "outputId": "90b30249-8b02-4a3b-89dd-1f7f062fe5b2"
      },
      "execution_count": 107,
      "outputs": [
        {
          "output_type": "execute_result",
          "data": {
            "text/plain": [
              "2776"
            ]
          },
          "metadata": {},
          "execution_count": 107
        }
      ]
    },
    {
      "cell_type": "code",
      "source": [
        "# transforming the language column based on already fit one hot encoder:\n",
        "q1test_lang = pd.DataFrame(enc_lang.transform(np.array(q1testlexemes['learning_language']).reshape(-1, 1)),index=q1testlexemes.index)\n",
        "\n",
        "# get one hot encoded part of speech:\n",
        "q1test_pos = pd.DataFrame(enc_pos.transform(np.array(q1testlexemes['pos']).reshape(-1, 1)),index=q1testlexemes.index)\n"
      ],
      "metadata": {
        "id": "dGIkcT4BJVX_"
      },
      "execution_count": 108,
      "outputs": []
    },
    {
      "cell_type": "code",
      "source": [
        "# explode values of list so a separate record is created for each element of the list. \n",
        "q1testlexemes['modstrings'].explode()\n",
        "#enc_mods.fit(np.array(q1trainlexemes['modstrings'].explode()).reshape(-1,1))\n",
        "q1test_mods_exploded =enc_mods.transform(np.array(q1testlexemes['modstrings'].explode()).reshape(-1,1))\n",
        "\n",
        "q1test_modsdf_exploded = pd.DataFrame(q1test_mods_exploded, index = q1testlexemes['modstrings'].explode().index)\n",
        "\n",
        "# group the exploded one-hot dataframe by the q1lexemes index, sum up the exploded records (since one word can have many modifiers in its list)\n",
        "q1test_modsdf = q1test_modsdf_exploded.groupby(q1test_modsdf_exploded.index).sum()\n",
        "#np.concatenate([np.array(q1trainlexemes['modstrings'].explode().index).reshape(-1,1),q1train_mods],axis=1)"
      ],
      "metadata": {
        "id": "RB4SE2EPJVYB"
      },
      "execution_count": 109,
      "outputs": []
    },
    {
      "cell_type": "code",
      "source": [
        "q1test_modsdf.shape, q1testlexemes.shape"
      ],
      "metadata": {
        "colab": {
          "base_uri": "https://localhost:8080/"
        },
        "outputId": "c9980df4-1675-4c00-bc42-f68ed3b2e787",
        "id": "14mK8h_PJVYB"
      },
      "execution_count": 110,
      "outputs": [
        {
          "output_type": "execute_result",
          "data": {
            "text/plain": [
              "((2776, 86), (2776, 317))"
            ]
          },
          "metadata": {},
          "execution_count": 110
        }
      ]
    },
    {
      "cell_type": "markdown",
      "source": [
        "The summed shape of the mods dataframe is the same length as the q1trainlexemes dataframe. \n",
        "\n",
        "Now the language, pos and mod sparse columns are combined along with numerical word features to make the first feature set. "
      ],
      "metadata": {
        "id": "DXgOm8y0JVYB"
      }
    },
    {
      "cell_type": "code",
      "source": [
        "q1testfeatureset2 = pd.concat([q1testlexemes[['sf_length', 'L_dist_sf_noaccents_norm', 'EnglishIDF','lexeme_id'] + list(range(0,300))],\n",
        "                                q1test_lang, \n",
        "                                q1test_pos, \n",
        "                                q1test_modsdf, \n",
        "                                ],axis=1)"
      ],
      "metadata": {
        "id": "GtDW4vRMJVYB"
      },
      "execution_count": 111,
      "outputs": []
    },
    {
      "cell_type": "code",
      "source": [
        "q1testfeatureset2.shape"
      ],
      "metadata": {
        "colab": {
          "base_uri": "https://localhost:8080/"
        },
        "outputId": "76e0acd9-eb2d-410d-a265-fbdd204601b7",
        "id": "H2OecOY0JVYB"
      },
      "execution_count": 112,
      "outputs": [
        {
          "output_type": "execute_result",
          "data": {
            "text/plain": [
              "(2776, 467)"
            ]
          },
          "metadata": {},
          "execution_count": 112
        }
      ]
    },
    {
      "cell_type": "code",
      "source": [
        "q1testfeatureset2.columns = q1trainfeatureset2.columns"
      ],
      "metadata": {
        "id": "Docu9vsR9Eox"
      },
      "execution_count": 113,
      "outputs": []
    },
    {
      "cell_type": "code",
      "source": [
        "# checking for null values \n",
        "q1testfeatureset2.isna().sum()"
      ],
      "metadata": {
        "colab": {
          "base_uri": "https://localhost:8080/"
        },
        "id": "Eyp2AHQty9mf",
        "outputId": "cebca669-8b47-4782-8947-63c879798f54"
      },
      "execution_count": 114,
      "outputs": [
        {
          "output_type": "execute_result",
          "data": {
            "text/plain": [
              "sf_length                    0\n",
              "L_dist_sf_noaccents_norm     0\n",
              "EnglishIDF                  55\n",
              "lexeme_id                    0\n",
              "0                            0\n",
              "                            ..\n",
              "mod_x0_sp                    0\n",
              "mod_x0_subj                  0\n",
              "mod_x0_sup                   0\n",
              "mod_x0_tn                    0\n",
              "mod_x0_nan                   0\n",
              "Length: 467, dtype: int64"
            ]
          },
          "metadata": {},
          "execution_count": 114
        }
      ]
    },
    {
      "cell_type": "markdown",
      "source": [
        "Imputing the 55 missing values of EnglishIDF with the train set median:"
      ],
      "metadata": {
        "id": "ZnJ0uy4f2zMt"
      }
    },
    {
      "cell_type": "code",
      "source": [
        "q1testfeatureset2.loc[q1testfeatureset2['EnglishIDF'].isna(),'EnglishIDF'] = medianIDF"
      ],
      "metadata": {
        "id": "NQhPXEPH26zl"
      },
      "execution_count": 115,
      "outputs": []
    },
    {
      "cell_type": "markdown",
      "source": [
        "Checking for any null values left post imputing:"
      ],
      "metadata": {
        "id": "HBy35K3p26zl"
      }
    },
    {
      "cell_type": "code",
      "source": [
        "q1testfeatureset2.isna().sum().sum()"
      ],
      "metadata": {
        "colab": {
          "base_uri": "https://localhost:8080/"
        },
        "outputId": "484ec691-a34d-4c48-85c4-eb59a3dc2787",
        "id": "X6TkHd6_26zl"
      },
      "execution_count": 117,
      "outputs": [
        {
          "output_type": "execute_result",
          "data": {
            "text/plain": [
              "0"
            ]
          },
          "metadata": {},
          "execution_count": 117
        }
      ]
    },
    {
      "cell_type": "markdown",
      "source": [
        "Saving both feature sets:"
      ],
      "metadata": {
        "id": "b0SvgRi04BB1"
      }
    },
    {
      "cell_type": "code",
      "source": [
        "compressed_pickle(path_name+\"Q1TRAIN_lexemesFS2\",q1trainfeatureset2)\n",
        "compressed_pickle(path_name+\"Q1TEST_lexemesFS2\",q1testfeatureset2)"
      ],
      "metadata": {
        "id": "V42QKqKR4Asz"
      },
      "execution_count": 119,
      "outputs": []
    },
    {
      "cell_type": "markdown",
      "source": [
        "The number of dimensions matches for train and test post binarizing categorical columns. They are saved as compressed pickle files. "
      ],
      "metadata": {
        "id": "WFoRQubnLblE"
      }
    },
    {
      "cell_type": "code",
      "source": [
        "q1trainfeatureset2.shape, q1testfeatureset2.shape"
      ],
      "metadata": {
        "id": "WmmZmhPZLjrk",
        "colab": {
          "base_uri": "https://localhost:8080/"
        },
        "outputId": "9afca507-17d1-4c52-e437-b6bac082478c"
      },
      "execution_count": 118,
      "outputs": [
        {
          "output_type": "execute_result",
          "data": {
            "text/plain": [
              "((12446, 467), (2776, 467))"
            ]
          },
          "metadata": {},
          "execution_count": 118
        }
      ]
    },
    {
      "cell_type": "markdown",
      "source": [
        "Estimate of total size of dataset once joined. "
      ],
      "metadata": {
        "id": "qLaQu-zkLwMJ"
      }
    },
    {
      "cell_type": "code",
      "source": [
        "(q1trainfeatureset2.size/10**6)/q1trainfeatureset2.shape[0]*q1train.shape[0] + q1train.size/10**6"
      ],
      "metadata": {
        "colab": {
          "base_uri": "https://localhost:8080/"
        },
        "id": "4CT573OULmzp",
        "outputId": "a84df636-43b9-4831-d33f-2638cf64b0a7"
      },
      "execution_count": 58,
      "outputs": [
        {
          "output_type": "execute_result",
          "data": {
            "text/plain": [
              "3906.151524"
            ]
          },
          "metadata": {},
          "execution_count": 58
        }
      ]
    },
    {
      "cell_type": "markdown",
      "source": [
        "The estimated size of a full combined feature set without any dimension reduction is 3.9GB. \n",
        "\n",
        "Attempts to combine it all at once failed even with high RAM.\n",
        "\n",
        "```\n",
        "# getting lexeme id for the full feature set 1\n",
        "q1trainfeatureset1['lexeme_id'] = q1trainlexemes.loc[q1trainfeatureset1.index,'lexeme_id']\n",
        "\n",
        "# joining with main dataframe on lexeme id\n",
        "q1train_withfs1 = pd.merge(left= q1train,right=q1train,left_on='lexeme_id',right_on = 'lexeme_id',how=\"left\")\n",
        "```"
      ],
      "metadata": {
        "id": "pGkVOi0DMJJR"
      }
    },
    {
      "cell_type": "markdown",
      "source": [
        "The workaround of splitting the main dataframe and combining, changing to sparse and stacking did not work (RAM flooded)"
      ],
      "metadata": {
        "id": "Irj2M4afLzll"
      }
    },
    {
      "cell_type": "markdown",
      "source": [
        "## PCA\n"
      ],
      "metadata": {
        "id": "fRrU5JyI3zT_"
      }
    },
    {
      "cell_type": "code",
      "source": [
        "q1trainfeatureset2 = q1trainfeatureset2.set_index('lexeme_id')"
      ],
      "metadata": {
        "id": "e9r8boVI4S-o"
      },
      "execution_count": 124,
      "outputs": []
    },
    {
      "cell_type": "code",
      "source": [
        "q1trainfeatureset2.head()"
      ],
      "metadata": {
        "colab": {
          "base_uri": "https://localhost:8080/",
          "height": 331
        },
        "id": "5alOCnwr4b51",
        "outputId": "fa36aaec-7746-4863-b855-1813470334c9"
      },
      "execution_count": 125,
      "outputs": [
        {
          "output_type": "execute_result",
          "data": {
            "text/plain": [
              "                                  sf_length  L_dist_sf_noaccents_norm  \\\n",
              "lexeme_id                                                               \n",
              "73eecb492ca758ddab5371cf7b5cca32          4                       0.5   \n",
              "c84476c460737d9fb905dca3d35ec995          5                       0.6   \n",
              "1a913f2ded424985b9c02d0436008511          3                       0.0   \n",
              "38b770e66595fea718366523b4f7db3f          5                       0.8   \n",
              "faa6fd18132b358958e440322ee82b4b          3                       1.0   \n",
              "\n",
              "                                  EnglishIDF         0         1         2  \\\n",
              "lexeme_id                                                                    \n",
              "73eecb492ca758ddab5371cf7b5cca32    3.733996 -0.269015 -0.041727 -0.045045   \n",
              "c84476c460737d9fb905dca3d35ec995   10.981924 -0.007808  0.188679 -0.264520   \n",
              "1a913f2ded424985b9c02d0436008511    4.051187  0.820083  0.677704 -0.500191   \n",
              "38b770e66595fea718366523b4f7db3f    0.438409  0.020896  0.318951 -0.269169   \n",
              "faa6fd18132b358958e440322ee82b4b    0.502649  0.129024  0.423030 -0.457697   \n",
              "\n",
              "                                         3         4         5         6  ...  \\\n",
              "lexeme_id                                                                 ...   \n",
              "73eecb492ca758ddab5371cf7b5cca32  0.069940  0.067316  0.135177 -0.383724  ...   \n",
              "c84476c460737d9fb905dca3d35ec995 -0.134410  0.025235 -0.095146  0.455226  ...   \n",
              "1a913f2ded424985b9c02d0436008511 -0.140807  0.549122  0.634742 -0.355794  ...   \n",
              "38b770e66595fea718366523b4f7db3f  0.024149  0.415287  0.331545 -0.228645  ...   \n",
              "faa6fd18132b358958e440322ee82b4b  0.013778  0.316385  0.414319  0.270645  ...   \n",
              "\n",
              "                                  mod_x0_prs  mod_x0_qnt  mod_x0_ref  \\\n",
              "lexeme_id                                                              \n",
              "73eecb492ca758ddab5371cf7b5cca32         0.0         0.0         0.0   \n",
              "c84476c460737d9fb905dca3d35ec995         0.0         0.0         0.0   \n",
              "1a913f2ded424985b9c02d0436008511         0.0         0.0         0.0   \n",
              "38b770e66595fea718366523b4f7db3f         0.0         0.0         0.0   \n",
              "faa6fd18132b358958e440322ee82b4b         0.0         0.0         0.0   \n",
              "\n",
              "                                  mod_x0_sg  mod_x0_sint  mod_x0_sp  \\\n",
              "lexeme_id                                                             \n",
              "73eecb492ca758ddab5371cf7b5cca32        0.0          0.0        0.0   \n",
              "c84476c460737d9fb905dca3d35ec995        0.0          0.0        0.0   \n",
              "1a913f2ded424985b9c02d0436008511        1.0          0.0        0.0   \n",
              "38b770e66595fea718366523b4f7db3f        1.0          0.0        0.0   \n",
              "faa6fd18132b358958e440322ee82b4b        1.0          0.0        0.0   \n",
              "\n",
              "                                  mod_x0_subj  mod_x0_sup  mod_x0_tn  \\\n",
              "lexeme_id                                                              \n",
              "73eecb492ca758ddab5371cf7b5cca32          0.0         0.0        0.0   \n",
              "c84476c460737d9fb905dca3d35ec995          0.0         0.0        0.0   \n",
              "1a913f2ded424985b9c02d0436008511          0.0         0.0        0.0   \n",
              "38b770e66595fea718366523b4f7db3f          0.0         0.0        0.0   \n",
              "faa6fd18132b358958e440322ee82b4b          0.0         0.0        0.0   \n",
              "\n",
              "                                  mod_x0_nan  \n",
              "lexeme_id                                     \n",
              "73eecb492ca758ddab5371cf7b5cca32         1.0  \n",
              "c84476c460737d9fb905dca3d35ec995         0.0  \n",
              "1a913f2ded424985b9c02d0436008511         0.0  \n",
              "38b770e66595fea718366523b4f7db3f         0.0  \n",
              "faa6fd18132b358958e440322ee82b4b         0.0  \n",
              "\n",
              "[5 rows x 466 columns]"
            ],
            "text/html": [
              "\n",
              "  <div id=\"df-abe26167-22ac-49e4-ac2e-e98d9b88197b\">\n",
              "    <div class=\"colab-df-container\">\n",
              "      <div>\n",
              "<style scoped>\n",
              "    .dataframe tbody tr th:only-of-type {\n",
              "        vertical-align: middle;\n",
              "    }\n",
              "\n",
              "    .dataframe tbody tr th {\n",
              "        vertical-align: top;\n",
              "    }\n",
              "\n",
              "    .dataframe thead th {\n",
              "        text-align: right;\n",
              "    }\n",
              "</style>\n",
              "<table border=\"1\" class=\"dataframe\">\n",
              "  <thead>\n",
              "    <tr style=\"text-align: right;\">\n",
              "      <th></th>\n",
              "      <th>sf_length</th>\n",
              "      <th>L_dist_sf_noaccents_norm</th>\n",
              "      <th>EnglishIDF</th>\n",
              "      <th>0</th>\n",
              "      <th>1</th>\n",
              "      <th>2</th>\n",
              "      <th>3</th>\n",
              "      <th>4</th>\n",
              "      <th>5</th>\n",
              "      <th>6</th>\n",
              "      <th>...</th>\n",
              "      <th>mod_x0_prs</th>\n",
              "      <th>mod_x0_qnt</th>\n",
              "      <th>mod_x0_ref</th>\n",
              "      <th>mod_x0_sg</th>\n",
              "      <th>mod_x0_sint</th>\n",
              "      <th>mod_x0_sp</th>\n",
              "      <th>mod_x0_subj</th>\n",
              "      <th>mod_x0_sup</th>\n",
              "      <th>mod_x0_tn</th>\n",
              "      <th>mod_x0_nan</th>\n",
              "    </tr>\n",
              "    <tr>\n",
              "      <th>lexeme_id</th>\n",
              "      <th></th>\n",
              "      <th></th>\n",
              "      <th></th>\n",
              "      <th></th>\n",
              "      <th></th>\n",
              "      <th></th>\n",
              "      <th></th>\n",
              "      <th></th>\n",
              "      <th></th>\n",
              "      <th></th>\n",
              "      <th></th>\n",
              "      <th></th>\n",
              "      <th></th>\n",
              "      <th></th>\n",
              "      <th></th>\n",
              "      <th></th>\n",
              "      <th></th>\n",
              "      <th></th>\n",
              "      <th></th>\n",
              "      <th></th>\n",
              "      <th></th>\n",
              "    </tr>\n",
              "  </thead>\n",
              "  <tbody>\n",
              "    <tr>\n",
              "      <th>73eecb492ca758ddab5371cf7b5cca32</th>\n",
              "      <td>4</td>\n",
              "      <td>0.5</td>\n",
              "      <td>3.733996</td>\n",
              "      <td>-0.269015</td>\n",
              "      <td>-0.041727</td>\n",
              "      <td>-0.045045</td>\n",
              "      <td>0.069940</td>\n",
              "      <td>0.067316</td>\n",
              "      <td>0.135177</td>\n",
              "      <td>-0.383724</td>\n",
              "      <td>...</td>\n",
              "      <td>0.0</td>\n",
              "      <td>0.0</td>\n",
              "      <td>0.0</td>\n",
              "      <td>0.0</td>\n",
              "      <td>0.0</td>\n",
              "      <td>0.0</td>\n",
              "      <td>0.0</td>\n",
              "      <td>0.0</td>\n",
              "      <td>0.0</td>\n",
              "      <td>1.0</td>\n",
              "    </tr>\n",
              "    <tr>\n",
              "      <th>c84476c460737d9fb905dca3d35ec995</th>\n",
              "      <td>5</td>\n",
              "      <td>0.6</td>\n",
              "      <td>10.981924</td>\n",
              "      <td>-0.007808</td>\n",
              "      <td>0.188679</td>\n",
              "      <td>-0.264520</td>\n",
              "      <td>-0.134410</td>\n",
              "      <td>0.025235</td>\n",
              "      <td>-0.095146</td>\n",
              "      <td>0.455226</td>\n",
              "      <td>...</td>\n",
              "      <td>0.0</td>\n",
              "      <td>0.0</td>\n",
              "      <td>0.0</td>\n",
              "      <td>0.0</td>\n",
              "      <td>0.0</td>\n",
              "      <td>0.0</td>\n",
              "      <td>0.0</td>\n",
              "      <td>0.0</td>\n",
              "      <td>0.0</td>\n",
              "      <td>0.0</td>\n",
              "    </tr>\n",
              "    <tr>\n",
              "      <th>1a913f2ded424985b9c02d0436008511</th>\n",
              "      <td>3</td>\n",
              "      <td>0.0</td>\n",
              "      <td>4.051187</td>\n",
              "      <td>0.820083</td>\n",
              "      <td>0.677704</td>\n",
              "      <td>-0.500191</td>\n",
              "      <td>-0.140807</td>\n",
              "      <td>0.549122</td>\n",
              "      <td>0.634742</td>\n",
              "      <td>-0.355794</td>\n",
              "      <td>...</td>\n",
              "      <td>0.0</td>\n",
              "      <td>0.0</td>\n",
              "      <td>0.0</td>\n",
              "      <td>1.0</td>\n",
              "      <td>0.0</td>\n",
              "      <td>0.0</td>\n",
              "      <td>0.0</td>\n",
              "      <td>0.0</td>\n",
              "      <td>0.0</td>\n",
              "      <td>0.0</td>\n",
              "    </tr>\n",
              "    <tr>\n",
              "      <th>38b770e66595fea718366523b4f7db3f</th>\n",
              "      <td>5</td>\n",
              "      <td>0.8</td>\n",
              "      <td>0.438409</td>\n",
              "      <td>0.020896</td>\n",
              "      <td>0.318951</td>\n",
              "      <td>-0.269169</td>\n",
              "      <td>0.024149</td>\n",
              "      <td>0.415287</td>\n",
              "      <td>0.331545</td>\n",
              "      <td>-0.228645</td>\n",
              "      <td>...</td>\n",
              "      <td>0.0</td>\n",
              "      <td>0.0</td>\n",
              "      <td>0.0</td>\n",
              "      <td>1.0</td>\n",
              "      <td>0.0</td>\n",
              "      <td>0.0</td>\n",
              "      <td>0.0</td>\n",
              "      <td>0.0</td>\n",
              "      <td>0.0</td>\n",
              "      <td>0.0</td>\n",
              "    </tr>\n",
              "    <tr>\n",
              "      <th>faa6fd18132b358958e440322ee82b4b</th>\n",
              "      <td>3</td>\n",
              "      <td>1.0</td>\n",
              "      <td>0.502649</td>\n",
              "      <td>0.129024</td>\n",
              "      <td>0.423030</td>\n",
              "      <td>-0.457697</td>\n",
              "      <td>0.013778</td>\n",
              "      <td>0.316385</td>\n",
              "      <td>0.414319</td>\n",
              "      <td>0.270645</td>\n",
              "      <td>...</td>\n",
              "      <td>0.0</td>\n",
              "      <td>0.0</td>\n",
              "      <td>0.0</td>\n",
              "      <td>1.0</td>\n",
              "      <td>0.0</td>\n",
              "      <td>0.0</td>\n",
              "      <td>0.0</td>\n",
              "      <td>0.0</td>\n",
              "      <td>0.0</td>\n",
              "      <td>0.0</td>\n",
              "    </tr>\n",
              "  </tbody>\n",
              "</table>\n",
              "<p>5 rows × 466 columns</p>\n",
              "</div>\n",
              "      <button class=\"colab-df-convert\" onclick=\"convertToInteractive('df-abe26167-22ac-49e4-ac2e-e98d9b88197b')\"\n",
              "              title=\"Convert this dataframe to an interactive table.\"\n",
              "              style=\"display:none;\">\n",
              "        \n",
              "  <svg xmlns=\"http://www.w3.org/2000/svg\" height=\"24px\"viewBox=\"0 0 24 24\"\n",
              "       width=\"24px\">\n",
              "    <path d=\"M0 0h24v24H0V0z\" fill=\"none\"/>\n",
              "    <path d=\"M18.56 5.44l.94 2.06.94-2.06 2.06-.94-2.06-.94-.94-2.06-.94 2.06-2.06.94zm-11 1L8.5 8.5l.94-2.06 2.06-.94-2.06-.94L8.5 2.5l-.94 2.06-2.06.94zm10 10l.94 2.06.94-2.06 2.06-.94-2.06-.94-.94-2.06-.94 2.06-2.06.94z\"/><path d=\"M17.41 7.96l-1.37-1.37c-.4-.4-.92-.59-1.43-.59-.52 0-1.04.2-1.43.59L10.3 9.45l-7.72 7.72c-.78.78-.78 2.05 0 2.83L4 21.41c.39.39.9.59 1.41.59.51 0 1.02-.2 1.41-.59l7.78-7.78 2.81-2.81c.8-.78.8-2.07 0-2.86zM5.41 20L4 18.59l7.72-7.72 1.47 1.35L5.41 20z\"/>\n",
              "  </svg>\n",
              "      </button>\n",
              "      \n",
              "  <style>\n",
              "    .colab-df-container {\n",
              "      display:flex;\n",
              "      flex-wrap:wrap;\n",
              "      gap: 12px;\n",
              "    }\n",
              "\n",
              "    .colab-df-convert {\n",
              "      background-color: #E8F0FE;\n",
              "      border: none;\n",
              "      border-radius: 50%;\n",
              "      cursor: pointer;\n",
              "      display: none;\n",
              "      fill: #1967D2;\n",
              "      height: 32px;\n",
              "      padding: 0 0 0 0;\n",
              "      width: 32px;\n",
              "    }\n",
              "\n",
              "    .colab-df-convert:hover {\n",
              "      background-color: #E2EBFA;\n",
              "      box-shadow: 0px 1px 2px rgba(60, 64, 67, 0.3), 0px 1px 3px 1px rgba(60, 64, 67, 0.15);\n",
              "      fill: #174EA6;\n",
              "    }\n",
              "\n",
              "    [theme=dark] .colab-df-convert {\n",
              "      background-color: #3B4455;\n",
              "      fill: #D2E3FC;\n",
              "    }\n",
              "\n",
              "    [theme=dark] .colab-df-convert:hover {\n",
              "      background-color: #434B5C;\n",
              "      box-shadow: 0px 1px 3px 1px rgba(0, 0, 0, 0.15);\n",
              "      filter: drop-shadow(0px 1px 2px rgba(0, 0, 0, 0.3));\n",
              "      fill: #FFFFFF;\n",
              "    }\n",
              "  </style>\n",
              "\n",
              "      <script>\n",
              "        const buttonEl =\n",
              "          document.querySelector('#df-abe26167-22ac-49e4-ac2e-e98d9b88197b button.colab-df-convert');\n",
              "        buttonEl.style.display =\n",
              "          google.colab.kernel.accessAllowed ? 'block' : 'none';\n",
              "\n",
              "        async function convertToInteractive(key) {\n",
              "          const element = document.querySelector('#df-abe26167-22ac-49e4-ac2e-e98d9b88197b');\n",
              "          const dataTable =\n",
              "            await google.colab.kernel.invokeFunction('convertToInteractive',\n",
              "                                                     [key], {});\n",
              "          if (!dataTable) return;\n",
              "\n",
              "          const docLinkHtml = 'Like what you see? Visit the ' +\n",
              "            '<a target=\"_blank\" href=https://colab.research.google.com/notebooks/data_table.ipynb>data table notebook</a>'\n",
              "            + ' to learn more about interactive tables.';\n",
              "          element.innerHTML = '';\n",
              "          dataTable['output_type'] = 'display_data';\n",
              "          await google.colab.output.renderOutput(dataTable, element);\n",
              "          const docLink = document.createElement('div');\n",
              "          docLink.innerHTML = docLinkHtml;\n",
              "          element.appendChild(docLink);\n",
              "        }\n",
              "      </script>\n",
              "    </div>\n",
              "  </div>\n",
              "  "
            ]
          },
          "metadata": {},
          "execution_count": 125
        }
      ]
    },
    {
      "cell_type": "markdown",
      "source": [
        "Checking for any non-numeric columns left:"
      ],
      "metadata": {
        "id": "0yxWkyw94m0X"
      }
    },
    {
      "cell_type": "code",
      "source": [
        "q1trainfeatureset2.select_dtypes('object').columns"
      ],
      "metadata": {
        "colab": {
          "base_uri": "https://localhost:8080/"
        },
        "id": "nuBzkTek4lvg",
        "outputId": "03bb5484-37db-471e-86d2-ca7700d4158d"
      },
      "execution_count": 126,
      "outputs": [
        {
          "output_type": "execute_result",
          "data": {
            "text/plain": [
              "Index([], dtype='object')"
            ]
          },
          "metadata": {},
          "execution_count": 126
        }
      ]
    },
    {
      "cell_type": "code",
      "source": [
        "q1trainfeatureset2.shape"
      ],
      "metadata": {
        "colab": {
          "base_uri": "https://localhost:8080/"
        },
        "id": "SIIPVGPg7Ehb",
        "outputId": "340511a1-3728-4411-9437-2941bfac8246"
      },
      "execution_count": 135,
      "outputs": [
        {
          "output_type": "execute_result",
          "data": {
            "text/plain": [
              "(12446, 466)"
            ]
          },
          "metadata": {},
          "execution_count": 135
        }
      ]
    },
    {
      "cell_type": "markdown",
      "source": [
        "Data is first scaled to make it mean-centered to prepare it for PCA. "
      ],
      "metadata": {
        "id": "_274ftqz4JE7"
      }
    },
    {
      "cell_type": "code",
      "source": [
        "from sklearn.preprocessing import StandardScaler\n",
        "stdscaler = StandardScaler()\n",
        "q1trainfearureset2_ss = stdscaler.fit_transform(q1trainfeatureset2)\n",
        "\n",
        "\n",
        "from sklearn.decomposition import PCA\n",
        "pca9 = PCA(n_components=0.9)\n",
        "\n",
        "# fitting\n",
        "q1trainfeatureset2_red9 = pca9.fit_transform(q1trainfearureset2_ss)"
      ],
      "metadata": {
        "colab": {
          "base_uri": "https://localhost:8080/"
        },
        "id": "WAxLWfem36uT",
        "outputId": "c84acdd2-22ca-4081-f6ca-4179ae111b8c"
      },
      "execution_count": 153,
      "outputs": [
        {
          "output_type": "stream",
          "name": "stderr",
          "text": [
            "/usr/local/lib/python3.7/dist-packages/sklearn/utils/validation.py:1692: FutureWarning: Feature names only support names that are all strings. Got feature names with dtypes: ['int', 'str']. An error will be raised in 1.2.\n",
            "  FutureWarning,\n",
            "/usr/local/lib/python3.7/dist-packages/sklearn/utils/validation.py:1692: FutureWarning: Feature names only support names that are all strings. Got feature names with dtypes: ['int', 'str']. An error will be raised in 1.2.\n",
            "  FutureWarning,\n"
          ]
        }
      ]
    },
    {
      "cell_type": "code",
      "source": [
        "q1trainfeatureset2_red9.shape"
      ],
      "metadata": {
        "colab": {
          "base_uri": "https://localhost:8080/"
        },
        "id": "YZXL_hDI4vQk",
        "outputId": "12a404fe-ac24-4223-f2ff-f36be495e8be"
      },
      "execution_count": 154,
      "outputs": [
        {
          "output_type": "execute_result",
          "data": {
            "text/plain": [
              "(12446, 100)"
            ]
          },
          "metadata": {},
          "execution_count": 154
        }
      ]
    },
    {
      "cell_type": "markdown",
      "source": [
        "90% variance explained by just 100 columns. \n",
        "\n",
        "We should keep in mind that these are standard scaled, so the other columns in the main dataframe should have a std scaler applied to them prior to joining. \n",
        "\n",
        "The loadings are investigated below:"
      ],
      "metadata": {
        "id": "98wVX0W-4xk9"
      }
    },
    {
      "cell_type": "code",
      "source": [
        "loadings = pd.DataFrame(pca9.components_, columns=q1trainfeatureset2.columns)\n",
        "loadings"
      ],
      "metadata": {
        "colab": {
          "base_uri": "https://localhost:8080/",
          "height": 661
        },
        "id": "Eanyyjpy5QY3",
        "outputId": "a3f3d74a-c6fd-492b-a91e-2737f07b4db0"
      },
      "execution_count": 158,
      "outputs": [
        {
          "output_type": "execute_result",
          "data": {
            "text/plain": [
              "       sf_length  L_dist_sf_noaccents_norm    EnglishIDF             0  \\\n",
              "0   4.803750e-03             -1.080932e-03  2.837841e-03  5.776775e-02   \n",
              "1  -1.100604e-01              1.403836e-01 -9.650981e-02  7.303431e-05   \n",
              "2  -2.248877e-01              2.261170e-01 -4.598120e-02  7.828340e-06   \n",
              "3   1.328205e-01             -1.587119e-01  2.373987e-01  3.565336e-04   \n",
              "4   1.057000e-02             -9.011936e-02 -3.017214e-02 -3.415637e-05   \n",
              "..           ...                       ...           ...           ...   \n",
              "95 -1.219853e-06             -1.059657e-06 -2.290706e-06  9.745666e-06   \n",
              "96  3.634098e-07             -2.796816e-06  1.746574e-06 -4.079735e-06   \n",
              "97 -1.936942e-06             -1.669422e-06 -7.713324e-07 -7.298827e-06   \n",
              "98 -0.000000e+00             -1.592016e-15  8.180960e-16 -1.211501e-15   \n",
              "99 -0.000000e+00             -1.828412e-15  5.469476e-16 -4.085679e-16   \n",
              "\n",
              "               1             2             3             4             5  \\\n",
              "0   5.776790e-02 -5.776791e-02 -5.770025e-02  5.776781e-02 -5.729927e-02   \n",
              "1   3.338322e-04 -3.986256e-04  5.715752e-04  3.216017e-04 -8.415568e-03   \n",
              "2   2.123085e-04 -2.495364e-04 -4.702913e-03  2.409151e-04  4.264413e-03   \n",
              "3   1.148475e-04 -1.050106e-04 -1.632324e-03  8.674615e-05  3.258129e-03   \n",
              "4  -1.245002e-04  1.371019e-04  1.084419e-03 -4.836612e-05 -2.190988e-03   \n",
              "..           ...           ...           ...           ...           ...   \n",
              "95 -9.111846e-06  1.427829e-06 -4.244303e-05  9.797361e-06 -4.238805e-05   \n",
              "96  2.816961e-06 -2.985179e-06 -9.753926e-06  2.772413e-07  8.585970e-06   \n",
              "97 -3.036128e-06  9.372286e-06  1.167769e-04 -9.561638e-06 -2.690716e-05   \n",
              "98 -5.825549e-16  1.158785e-15 -1.977229e-14 -1.902431e-15  1.420763e-14   \n",
              "99 -1.231602e-15  2.040314e-15  6.255901e-15 -1.680994e-15  8.443046e-15   \n",
              "\n",
              "               6  ...    mod_x0_prs    mod_x0_qnt    mod_x0_ref     mod_x0_sg  \\\n",
              "0  -5.775797e-02  ...  2.757875e-04 -1.734040e-04 -1.689972e-04 -1.491958e-03   \n",
              "1   2.173606e-04  ...  7.619867e-02 -1.370110e-02  7.166658e-03 -1.114934e-01   \n",
              "2  -1.018580e-04  ... -5.908976e-03  3.770637e-02  1.232040e-01  1.939869e-01   \n",
              "3   2.626035e-04  ...  1.814421e-02 -1.317711e-02 -2.436018e-02  3.148211e-01   \n",
              "4   2.568150e-04  ...  9.192196e-03  2.722766e-03  1.175867e-01 -5.948095e-03   \n",
              "..           ...  ...           ...           ...           ...           ...   \n",
              "95 -2.144673e-04  ...  2.537507e-06 -4.350085e-04  6.133300e-04 -3.982180e-05   \n",
              "96 -1.027087e-04  ...  1.426722e-06 -1.261531e-04  5.296609e-06 -7.656802e-05   \n",
              "97 -4.656227e-05  ...  1.462176e-06  1.495430e-04 -1.921623e-06  2.940042e-05   \n",
              "98 -4.388578e-14  ...  2.728217e-16 -1.828852e-13  9.586156e-14 -2.674094e-14   \n",
              "99 -1.705383e-14  ...  2.833922e-15 -2.974058e-13  9.239151e-14 -2.849792e-14   \n",
              "\n",
              "     mod_x0_sint     mod_x0_sp   mod_x0_subj    mod_x0_sup     mod_x0_tn  \\\n",
              "0  -3.082647e-04  1.514097e-03 -1.034573e-04 -4.588901e-05 -5.888767e-04   \n",
              "1  -2.227013e-03 -4.146647e-02  6.325821e-03  2.191874e-04 -9.379826e-03   \n",
              "2   1.593828e-02  1.162312e-01  6.096585e-02  4.424417e-03  2.582835e-01   \n",
              "3  -4.652595e-02 -1.189101e-01 -1.043167e-02 -1.159190e-02 -4.942863e-02   \n",
              "4  -3.452468e-02  1.440023e-01  3.832373e-02 -8.147917e-03  2.553610e-01   \n",
              "..           ...           ...           ...           ...           ...   \n",
              "95 -1.816411e-06  4.110836e-06 -9.273671e-04 -2.393292e-03 -6.008840e-07   \n",
              "96  1.679352e-06 -1.795978e-05 -1.912462e-03  1.387523e-03  8.923714e-07   \n",
              "97  1.862406e-06  4.256040e-06  5.760118e-04 -6.974682e-04 -9.377649e-07   \n",
              "98  2.149277e-16 -4.905097e-15 -7.336296e-13  1.742826e-12  1.103517e-15   \n",
              "99  1.263984e-16 -1.555198e-15 -6.720643e-13  6.751532e-13 -2.373319e-16   \n",
              "\n",
              "      mod_x0_nan  \n",
              "0   8.955891e-04  \n",
              "1   9.505783e-03  \n",
              "2   9.499561e-02  \n",
              "3  -3.127539e-01  \n",
              "4  -3.100791e-01  \n",
              "..           ...  \n",
              "95 -1.664629e-05  \n",
              "96 -2.853079e-05  \n",
              "97  1.092160e-05  \n",
              "98 -1.564499e-14  \n",
              "99 -1.398936e-14  \n",
              "\n",
              "[100 rows x 466 columns]"
            ],
            "text/html": [
              "\n",
              "  <div id=\"df-73f43b9c-cd93-4815-a69a-fe1a7980a0e2\">\n",
              "    <div class=\"colab-df-container\">\n",
              "      <div>\n",
              "<style scoped>\n",
              "    .dataframe tbody tr th:only-of-type {\n",
              "        vertical-align: middle;\n",
              "    }\n",
              "\n",
              "    .dataframe tbody tr th {\n",
              "        vertical-align: top;\n",
              "    }\n",
              "\n",
              "    .dataframe thead th {\n",
              "        text-align: right;\n",
              "    }\n",
              "</style>\n",
              "<table border=\"1\" class=\"dataframe\">\n",
              "  <thead>\n",
              "    <tr style=\"text-align: right;\">\n",
              "      <th></th>\n",
              "      <th>sf_length</th>\n",
              "      <th>L_dist_sf_noaccents_norm</th>\n",
              "      <th>EnglishIDF</th>\n",
              "      <th>0</th>\n",
              "      <th>1</th>\n",
              "      <th>2</th>\n",
              "      <th>3</th>\n",
              "      <th>4</th>\n",
              "      <th>5</th>\n",
              "      <th>6</th>\n",
              "      <th>...</th>\n",
              "      <th>mod_x0_prs</th>\n",
              "      <th>mod_x0_qnt</th>\n",
              "      <th>mod_x0_ref</th>\n",
              "      <th>mod_x0_sg</th>\n",
              "      <th>mod_x0_sint</th>\n",
              "      <th>mod_x0_sp</th>\n",
              "      <th>mod_x0_subj</th>\n",
              "      <th>mod_x0_sup</th>\n",
              "      <th>mod_x0_tn</th>\n",
              "      <th>mod_x0_nan</th>\n",
              "    </tr>\n",
              "  </thead>\n",
              "  <tbody>\n",
              "    <tr>\n",
              "      <th>0</th>\n",
              "      <td>4.803750e-03</td>\n",
              "      <td>-1.080932e-03</td>\n",
              "      <td>2.837841e-03</td>\n",
              "      <td>5.776775e-02</td>\n",
              "      <td>5.776790e-02</td>\n",
              "      <td>-5.776791e-02</td>\n",
              "      <td>-5.770025e-02</td>\n",
              "      <td>5.776781e-02</td>\n",
              "      <td>-5.729927e-02</td>\n",
              "      <td>-5.775797e-02</td>\n",
              "      <td>...</td>\n",
              "      <td>2.757875e-04</td>\n",
              "      <td>-1.734040e-04</td>\n",
              "      <td>-1.689972e-04</td>\n",
              "      <td>-1.491958e-03</td>\n",
              "      <td>-3.082647e-04</td>\n",
              "      <td>1.514097e-03</td>\n",
              "      <td>-1.034573e-04</td>\n",
              "      <td>-4.588901e-05</td>\n",
              "      <td>-5.888767e-04</td>\n",
              "      <td>8.955891e-04</td>\n",
              "    </tr>\n",
              "    <tr>\n",
              "      <th>1</th>\n",
              "      <td>-1.100604e-01</td>\n",
              "      <td>1.403836e-01</td>\n",
              "      <td>-9.650981e-02</td>\n",
              "      <td>7.303431e-05</td>\n",
              "      <td>3.338322e-04</td>\n",
              "      <td>-3.986256e-04</td>\n",
              "      <td>5.715752e-04</td>\n",
              "      <td>3.216017e-04</td>\n",
              "      <td>-8.415568e-03</td>\n",
              "      <td>2.173606e-04</td>\n",
              "      <td>...</td>\n",
              "      <td>7.619867e-02</td>\n",
              "      <td>-1.370110e-02</td>\n",
              "      <td>7.166658e-03</td>\n",
              "      <td>-1.114934e-01</td>\n",
              "      <td>-2.227013e-03</td>\n",
              "      <td>-4.146647e-02</td>\n",
              "      <td>6.325821e-03</td>\n",
              "      <td>2.191874e-04</td>\n",
              "      <td>-9.379826e-03</td>\n",
              "      <td>9.505783e-03</td>\n",
              "    </tr>\n",
              "    <tr>\n",
              "      <th>2</th>\n",
              "      <td>-2.248877e-01</td>\n",
              "      <td>2.261170e-01</td>\n",
              "      <td>-4.598120e-02</td>\n",
              "      <td>7.828340e-06</td>\n",
              "      <td>2.123085e-04</td>\n",
              "      <td>-2.495364e-04</td>\n",
              "      <td>-4.702913e-03</td>\n",
              "      <td>2.409151e-04</td>\n",
              "      <td>4.264413e-03</td>\n",
              "      <td>-1.018580e-04</td>\n",
              "      <td>...</td>\n",
              "      <td>-5.908976e-03</td>\n",
              "      <td>3.770637e-02</td>\n",
              "      <td>1.232040e-01</td>\n",
              "      <td>1.939869e-01</td>\n",
              "      <td>1.593828e-02</td>\n",
              "      <td>1.162312e-01</td>\n",
              "      <td>6.096585e-02</td>\n",
              "      <td>4.424417e-03</td>\n",
              "      <td>2.582835e-01</td>\n",
              "      <td>9.499561e-02</td>\n",
              "    </tr>\n",
              "    <tr>\n",
              "      <th>3</th>\n",
              "      <td>1.328205e-01</td>\n",
              "      <td>-1.587119e-01</td>\n",
              "      <td>2.373987e-01</td>\n",
              "      <td>3.565336e-04</td>\n",
              "      <td>1.148475e-04</td>\n",
              "      <td>-1.050106e-04</td>\n",
              "      <td>-1.632324e-03</td>\n",
              "      <td>8.674615e-05</td>\n",
              "      <td>3.258129e-03</td>\n",
              "      <td>2.626035e-04</td>\n",
              "      <td>...</td>\n",
              "      <td>1.814421e-02</td>\n",
              "      <td>-1.317711e-02</td>\n",
              "      <td>-2.436018e-02</td>\n",
              "      <td>3.148211e-01</td>\n",
              "      <td>-4.652595e-02</td>\n",
              "      <td>-1.189101e-01</td>\n",
              "      <td>-1.043167e-02</td>\n",
              "      <td>-1.159190e-02</td>\n",
              "      <td>-4.942863e-02</td>\n",
              "      <td>-3.127539e-01</td>\n",
              "    </tr>\n",
              "    <tr>\n",
              "      <th>4</th>\n",
              "      <td>1.057000e-02</td>\n",
              "      <td>-9.011936e-02</td>\n",
              "      <td>-3.017214e-02</td>\n",
              "      <td>-3.415637e-05</td>\n",
              "      <td>-1.245002e-04</td>\n",
              "      <td>1.371019e-04</td>\n",
              "      <td>1.084419e-03</td>\n",
              "      <td>-4.836612e-05</td>\n",
              "      <td>-2.190988e-03</td>\n",
              "      <td>2.568150e-04</td>\n",
              "      <td>...</td>\n",
              "      <td>9.192196e-03</td>\n",
              "      <td>2.722766e-03</td>\n",
              "      <td>1.175867e-01</td>\n",
              "      <td>-5.948095e-03</td>\n",
              "      <td>-3.452468e-02</td>\n",
              "      <td>1.440023e-01</td>\n",
              "      <td>3.832373e-02</td>\n",
              "      <td>-8.147917e-03</td>\n",
              "      <td>2.553610e-01</td>\n",
              "      <td>-3.100791e-01</td>\n",
              "    </tr>\n",
              "    <tr>\n",
              "      <th>...</th>\n",
              "      <td>...</td>\n",
              "      <td>...</td>\n",
              "      <td>...</td>\n",
              "      <td>...</td>\n",
              "      <td>...</td>\n",
              "      <td>...</td>\n",
              "      <td>...</td>\n",
              "      <td>...</td>\n",
              "      <td>...</td>\n",
              "      <td>...</td>\n",
              "      <td>...</td>\n",
              "      <td>...</td>\n",
              "      <td>...</td>\n",
              "      <td>...</td>\n",
              "      <td>...</td>\n",
              "      <td>...</td>\n",
              "      <td>...</td>\n",
              "      <td>...</td>\n",
              "      <td>...</td>\n",
              "      <td>...</td>\n",
              "      <td>...</td>\n",
              "    </tr>\n",
              "    <tr>\n",
              "      <th>95</th>\n",
              "      <td>-1.219853e-06</td>\n",
              "      <td>-1.059657e-06</td>\n",
              "      <td>-2.290706e-06</td>\n",
              "      <td>9.745666e-06</td>\n",
              "      <td>-9.111846e-06</td>\n",
              "      <td>1.427829e-06</td>\n",
              "      <td>-4.244303e-05</td>\n",
              "      <td>9.797361e-06</td>\n",
              "      <td>-4.238805e-05</td>\n",
              "      <td>-2.144673e-04</td>\n",
              "      <td>...</td>\n",
              "      <td>2.537507e-06</td>\n",
              "      <td>-4.350085e-04</td>\n",
              "      <td>6.133300e-04</td>\n",
              "      <td>-3.982180e-05</td>\n",
              "      <td>-1.816411e-06</td>\n",
              "      <td>4.110836e-06</td>\n",
              "      <td>-9.273671e-04</td>\n",
              "      <td>-2.393292e-03</td>\n",
              "      <td>-6.008840e-07</td>\n",
              "      <td>-1.664629e-05</td>\n",
              "    </tr>\n",
              "    <tr>\n",
              "      <th>96</th>\n",
              "      <td>3.634098e-07</td>\n",
              "      <td>-2.796816e-06</td>\n",
              "      <td>1.746574e-06</td>\n",
              "      <td>-4.079735e-06</td>\n",
              "      <td>2.816961e-06</td>\n",
              "      <td>-2.985179e-06</td>\n",
              "      <td>-9.753926e-06</td>\n",
              "      <td>2.772413e-07</td>\n",
              "      <td>8.585970e-06</td>\n",
              "      <td>-1.027087e-04</td>\n",
              "      <td>...</td>\n",
              "      <td>1.426722e-06</td>\n",
              "      <td>-1.261531e-04</td>\n",
              "      <td>5.296609e-06</td>\n",
              "      <td>-7.656802e-05</td>\n",
              "      <td>1.679352e-06</td>\n",
              "      <td>-1.795978e-05</td>\n",
              "      <td>-1.912462e-03</td>\n",
              "      <td>1.387523e-03</td>\n",
              "      <td>8.923714e-07</td>\n",
              "      <td>-2.853079e-05</td>\n",
              "    </tr>\n",
              "    <tr>\n",
              "      <th>97</th>\n",
              "      <td>-1.936942e-06</td>\n",
              "      <td>-1.669422e-06</td>\n",
              "      <td>-7.713324e-07</td>\n",
              "      <td>-7.298827e-06</td>\n",
              "      <td>-3.036128e-06</td>\n",
              "      <td>9.372286e-06</td>\n",
              "      <td>1.167769e-04</td>\n",
              "      <td>-9.561638e-06</td>\n",
              "      <td>-2.690716e-05</td>\n",
              "      <td>-4.656227e-05</td>\n",
              "      <td>...</td>\n",
              "      <td>1.462176e-06</td>\n",
              "      <td>1.495430e-04</td>\n",
              "      <td>-1.921623e-06</td>\n",
              "      <td>2.940042e-05</td>\n",
              "      <td>1.862406e-06</td>\n",
              "      <td>4.256040e-06</td>\n",
              "      <td>5.760118e-04</td>\n",
              "      <td>-6.974682e-04</td>\n",
              "      <td>-9.377649e-07</td>\n",
              "      <td>1.092160e-05</td>\n",
              "    </tr>\n",
              "    <tr>\n",
              "      <th>98</th>\n",
              "      <td>-0.000000e+00</td>\n",
              "      <td>-1.592016e-15</td>\n",
              "      <td>8.180960e-16</td>\n",
              "      <td>-1.211501e-15</td>\n",
              "      <td>-5.825549e-16</td>\n",
              "      <td>1.158785e-15</td>\n",
              "      <td>-1.977229e-14</td>\n",
              "      <td>-1.902431e-15</td>\n",
              "      <td>1.420763e-14</td>\n",
              "      <td>-4.388578e-14</td>\n",
              "      <td>...</td>\n",
              "      <td>2.728217e-16</td>\n",
              "      <td>-1.828852e-13</td>\n",
              "      <td>9.586156e-14</td>\n",
              "      <td>-2.674094e-14</td>\n",
              "      <td>2.149277e-16</td>\n",
              "      <td>-4.905097e-15</td>\n",
              "      <td>-7.336296e-13</td>\n",
              "      <td>1.742826e-12</td>\n",
              "      <td>1.103517e-15</td>\n",
              "      <td>-1.564499e-14</td>\n",
              "    </tr>\n",
              "    <tr>\n",
              "      <th>99</th>\n",
              "      <td>-0.000000e+00</td>\n",
              "      <td>-1.828412e-15</td>\n",
              "      <td>5.469476e-16</td>\n",
              "      <td>-4.085679e-16</td>\n",
              "      <td>-1.231602e-15</td>\n",
              "      <td>2.040314e-15</td>\n",
              "      <td>6.255901e-15</td>\n",
              "      <td>-1.680994e-15</td>\n",
              "      <td>8.443046e-15</td>\n",
              "      <td>-1.705383e-14</td>\n",
              "      <td>...</td>\n",
              "      <td>2.833922e-15</td>\n",
              "      <td>-2.974058e-13</td>\n",
              "      <td>9.239151e-14</td>\n",
              "      <td>-2.849792e-14</td>\n",
              "      <td>1.263984e-16</td>\n",
              "      <td>-1.555198e-15</td>\n",
              "      <td>-6.720643e-13</td>\n",
              "      <td>6.751532e-13</td>\n",
              "      <td>-2.373319e-16</td>\n",
              "      <td>-1.398936e-14</td>\n",
              "    </tr>\n",
              "  </tbody>\n",
              "</table>\n",
              "<p>100 rows × 466 columns</p>\n",
              "</div>\n",
              "      <button class=\"colab-df-convert\" onclick=\"convertToInteractive('df-73f43b9c-cd93-4815-a69a-fe1a7980a0e2')\"\n",
              "              title=\"Convert this dataframe to an interactive table.\"\n",
              "              style=\"display:none;\">\n",
              "        \n",
              "  <svg xmlns=\"http://www.w3.org/2000/svg\" height=\"24px\"viewBox=\"0 0 24 24\"\n",
              "       width=\"24px\">\n",
              "    <path d=\"M0 0h24v24H0V0z\" fill=\"none\"/>\n",
              "    <path d=\"M18.56 5.44l.94 2.06.94-2.06 2.06-.94-2.06-.94-.94-2.06-.94 2.06-2.06.94zm-11 1L8.5 8.5l.94-2.06 2.06-.94-2.06-.94L8.5 2.5l-.94 2.06-2.06.94zm10 10l.94 2.06.94-2.06 2.06-.94-2.06-.94-.94-2.06-.94 2.06-2.06.94z\"/><path d=\"M17.41 7.96l-1.37-1.37c-.4-.4-.92-.59-1.43-.59-.52 0-1.04.2-1.43.59L10.3 9.45l-7.72 7.72c-.78.78-.78 2.05 0 2.83L4 21.41c.39.39.9.59 1.41.59.51 0 1.02-.2 1.41-.59l7.78-7.78 2.81-2.81c.8-.78.8-2.07 0-2.86zM5.41 20L4 18.59l7.72-7.72 1.47 1.35L5.41 20z\"/>\n",
              "  </svg>\n",
              "      </button>\n",
              "      \n",
              "  <style>\n",
              "    .colab-df-container {\n",
              "      display:flex;\n",
              "      flex-wrap:wrap;\n",
              "      gap: 12px;\n",
              "    }\n",
              "\n",
              "    .colab-df-convert {\n",
              "      background-color: #E8F0FE;\n",
              "      border: none;\n",
              "      border-radius: 50%;\n",
              "      cursor: pointer;\n",
              "      display: none;\n",
              "      fill: #1967D2;\n",
              "      height: 32px;\n",
              "      padding: 0 0 0 0;\n",
              "      width: 32px;\n",
              "    }\n",
              "\n",
              "    .colab-df-convert:hover {\n",
              "      background-color: #E2EBFA;\n",
              "      box-shadow: 0px 1px 2px rgba(60, 64, 67, 0.3), 0px 1px 3px 1px rgba(60, 64, 67, 0.15);\n",
              "      fill: #174EA6;\n",
              "    }\n",
              "\n",
              "    [theme=dark] .colab-df-convert {\n",
              "      background-color: #3B4455;\n",
              "      fill: #D2E3FC;\n",
              "    }\n",
              "\n",
              "    [theme=dark] .colab-df-convert:hover {\n",
              "      background-color: #434B5C;\n",
              "      box-shadow: 0px 1px 3px 1px rgba(0, 0, 0, 0.15);\n",
              "      filter: drop-shadow(0px 1px 2px rgba(0, 0, 0, 0.3));\n",
              "      fill: #FFFFFF;\n",
              "    }\n",
              "  </style>\n",
              "\n",
              "      <script>\n",
              "        const buttonEl =\n",
              "          document.querySelector('#df-73f43b9c-cd93-4815-a69a-fe1a7980a0e2 button.colab-df-convert');\n",
              "        buttonEl.style.display =\n",
              "          google.colab.kernel.accessAllowed ? 'block' : 'none';\n",
              "\n",
              "        async function convertToInteractive(key) {\n",
              "          const element = document.querySelector('#df-73f43b9c-cd93-4815-a69a-fe1a7980a0e2');\n",
              "          const dataTable =\n",
              "            await google.colab.kernel.invokeFunction('convertToInteractive',\n",
              "                                                     [key], {});\n",
              "          if (!dataTable) return;\n",
              "\n",
              "          const docLinkHtml = 'Like what you see? Visit the ' +\n",
              "            '<a target=\"_blank\" href=https://colab.research.google.com/notebooks/data_table.ipynb>data table notebook</a>'\n",
              "            + ' to learn more about interactive tables.';\n",
              "          element.innerHTML = '';\n",
              "          dataTable['output_type'] = 'display_data';\n",
              "          await google.colab.output.renderOutput(dataTable, element);\n",
              "          const docLink = document.createElement('div');\n",
              "          docLink.innerHTML = docLinkHtml;\n",
              "          element.appendChild(docLink);\n",
              "        }\n",
              "      </script>\n",
              "    </div>\n",
              "  </div>\n",
              "  "
            ]
          },
          "metadata": {},
          "execution_count": 158
        }
      ]
    },
    {
      "cell_type": "markdown",
      "source": [
        "In the above dataframe, each row represents a principal component, starting from the directin of highest variance decreasing to the lowest, until 90% of the variance in the original dataset is explained. \n",
        "\n",
        "The loadings in each principal component of each feature in the original dataset is summed up in the series below:"
      ],
      "metadata": {
        "id": "kaAySGKk7KN_"
      }
    },
    {
      "cell_type": "code",
      "source": [
        "loadingsum = loadings.sum(axis=0)\n",
        "loadingsum"
      ],
      "metadata": {
        "colab": {
          "base_uri": "https://localhost:8080/"
        },
        "id": "0tRLtNg17wml",
        "outputId": "e6e70539-237b-4def-a0b9-a8e719cc9f8e"
      },
      "execution_count": 159,
      "outputs": [
        {
          "output_type": "execute_result",
          "data": {
            "text/plain": [
              "sf_length                   0.025526\n",
              "L_dist_sf_noaccents_norm   -0.017580\n",
              "EnglishIDF                  0.286646\n",
              "0                           0.058213\n",
              "1                           0.058893\n",
              "                              ...   \n",
              "mod_x0_sp                  -0.802727\n",
              "mod_x0_subj                -0.233291\n",
              "mod_x0_sup                  0.813166\n",
              "mod_x0_tn                  -0.065981\n",
              "mod_x0_nan                 -0.414299\n",
              "Length: 466, dtype: float64"
            ]
          },
          "metadata": {},
          "execution_count": 159
        }
      ]
    },
    {
      "cell_type": "code",
      "source": [
        "loadingsum.abs().sort_values(ascending=False).head(20)"
      ],
      "metadata": {
        "colab": {
          "base_uri": "https://localhost:8080/"
        },
        "id": "HhpiAFzE79-L",
        "outputId": "b55abc77-b68e-4027-b2e9-197d5fc4a7ad"
      },
      "execution_count": 160,
      "outputs": [
        {
          "output_type": "execute_result",
          "data": {
            "text/plain": [
              "pos_x0_@common_phrases:ca_va_bien    1.776378\n",
              "pos_x0_@cnj:du_fait_que              1.759146\n",
              "mod_x0_pron                          1.586753\n",
              "mod_x0_@prn:quelque_chose            1.568285\n",
              "pos_x0_@cnj:parce_que                1.547828\n",
              "pos_x0_@cnj:des_que                  1.544119\n",
              "mod_x0_@prn:le_meme                  1.497632\n",
              "pos_x0_@common_phrases:a_demain      1.485157\n",
              "mod_x0_ind                           1.434816\n",
              "mod_x0_enc                           1.381238\n",
              "mod_x0_@present_perfect              1.378514\n",
              "pos_x0_@cnj:apres_que                1.378390\n",
              "mod_x0_@prn:celui_la                 1.377853\n",
              "mod_x0_ant                           1.365204\n",
              "mod_x0_prn                           1.361853\n",
              "pos_x0_cnjadv                        1.352992\n",
              "mod_x0_@formal                       1.346166\n",
              "lang_x0_it                           1.270985\n",
              "pos_x0_vbhaver                       1.262025\n",
              "pos_x0_@neg:pas_du_tout              1.255799\n",
              "dtype: float64"
            ]
          },
          "metadata": {},
          "execution_count": 160
        }
      ]
    },
    {
      "cell_type": "markdown",
      "source": [
        "The components have higher loadings for the part of speech and modifer binary columns. "
      ],
      "metadata": {
        "id": "xy7JjugU8Otl"
      }
    },
    {
      "cell_type": "code",
      "source": [
        "pca7 = PCA(n_components=0.7)\n",
        "# fitting\n",
        "q1trainfeatureset2_red7 = pca7.fit_transform(q1trainfearureset2_ss)"
      ],
      "metadata": {
        "id": "3arsNZYq83v2"
      },
      "execution_count": 140,
      "outputs": []
    },
    {
      "cell_type": "code",
      "source": [
        "q1trainfeatureset2_red7.shape"
      ],
      "metadata": {
        "colab": {
          "base_uri": "https://localhost:8080/"
        },
        "id": "105Mkxng8_B4",
        "outputId": "bc592ee4-242c-4e22-da0d-fb0c86c4901b"
      },
      "execution_count": 141,
      "outputs": [
        {
          "output_type": "execute_result",
          "data": {
            "text/plain": [
              "(12446, 13)"
            ]
          },
          "metadata": {},
          "execution_count": 141
        }
      ]
    },
    {
      "cell_type": "markdown",
      "source": [
        "The great reduction in number of components for a relatively small reduction in explained variance indicates that there might be a significant amount of collinearity in the binary columns. \n",
        "\n",
        "Fot instance, some of the modifiers are only present in certain languages. \n",
        "\n",
        "An alternative feature set is considered: FS3, that contains the langugage dummies, pos dummies and word vectors, but the modifier one-hot columns are removed.\n",
        "\n"
      ],
      "metadata": {
        "id": "Y5LpoouD9OrZ"
      }
    },
    {
      "cell_type": "code",
      "source": [
        "q1trainfeatureset3 = q1trainfeatureset2[[col for col in q1trainfeatureset2 if not (str(col).startswith('mod_') or str(col).startswith('pos_'))]]\n",
        "q1trainfeatureset3.shape"
      ],
      "metadata": {
        "colab": {
          "base_uri": "https://localhost:8080/"
        },
        "id": "DhjP7w0O-bU7",
        "outputId": "4ad4d2ac-ebf6-43a6-ec77-7e7ee082568b"
      },
      "execution_count": 161,
      "outputs": [
        {
          "output_type": "execute_result",
          "data": {
            "text/plain": [
              "(12446, 308)"
            ]
          },
          "metadata": {},
          "execution_count": 161
        }
      ]
    },
    {
      "cell_type": "markdown",
      "source": [
        "Form the original 466 columns, there are 380 columns left after removing the modifier binary columns. \n",
        "\n",
        "PCA is done on this third feature set:"
      ],
      "metadata": {
        "id": "dIfNwklq-r-t"
      }
    },
    {
      "cell_type": "code",
      "source": [
        "stdscaler = StandardScaler()\n",
        "q1trainfearureset3_ss = stdscaler.fit_transform(q1trainfeatureset3)\n",
        "\n",
        "\n",
        "from sklearn.decomposition import PCA\n",
        "pca9 = PCA(n_components=100)\n",
        "\n",
        "# fitting\n",
        "q1trainfeatureset3_red9 = pca9.fit_transform(q1trainfearureset3_ss)"
      ],
      "metadata": {
        "colab": {
          "base_uri": "https://localhost:8080/"
        },
        "id": "5YO_cON_DxEr",
        "outputId": "0a09776e-60d3-4c20-9952-c574c8ec477f"
      },
      "execution_count": 166,
      "outputs": [
        {
          "output_type": "stream",
          "name": "stderr",
          "text": [
            "/usr/local/lib/python3.7/dist-packages/sklearn/utils/validation.py:1692: FutureWarning: Feature names only support names that are all strings. Got feature names with dtypes: ['int', 'str']. An error will be raised in 1.2.\n",
            "  FutureWarning,\n",
            "/usr/local/lib/python3.7/dist-packages/sklearn/utils/validation.py:1692: FutureWarning: Feature names only support names that are all strings. Got feature names with dtypes: ['int', 'str']. An error will be raised in 1.2.\n",
            "  FutureWarning,\n"
          ]
        }
      ]
    },
    {
      "cell_type": "code",
      "source": [
        "q1trainfeatureset3_red9.shape"
      ],
      "metadata": {
        "colab": {
          "base_uri": "https://localhost:8080/"
        },
        "id": "hgJv2OSzD04e",
        "outputId": "0c6f8e6e-55c3-4fbd-9fb8-50b7e194a2f3"
      },
      "execution_count": 171,
      "outputs": [
        {
          "output_type": "execute_result",
          "data": {
            "text/plain": [
              "(12446, 100)"
            ]
          },
          "metadata": {},
          "execution_count": 171
        }
      ]
    },
    {
      "cell_type": "code",
      "source": [
        "pca9.explained_variance_ratio_"
      ],
      "metadata": {
        "id": "JEq4otU4Gbto",
        "outputId": "64d353a6-ed30-4eba-c89e-31fbc6ef4c2a",
        "colab": {
          "base_uri": "https://localhost:8080/"
        }
      },
      "execution_count": 174,
      "outputs": [
        {
          "output_type": "execute_result",
          "data": {
            "text/plain": [
              "array([9.72822510e-01, 5.50439321e-03, 4.37184066e-03, 4.07585138e-03,\n",
              "       3.89721397e-03, 3.68531055e-03, 2.90948995e-03, 1.49641911e-03,\n",
              "       3.83061125e-04, 2.15781753e-04, 1.85606755e-04, 1.10446444e-04,\n",
              "       5.64755342e-05, 5.04020705e-05, 4.37554902e-05, 2.81300521e-05,\n",
              "       1.76236043e-05, 1.19508171e-05, 1.08805655e-05, 9.54438066e-06,\n",
              "       8.08067275e-06, 6.89217699e-06, 6.45349157e-06, 5.60792926e-06,\n",
              "       5.32172148e-06, 4.66479564e-06, 4.60574398e-06, 4.32482616e-06,\n",
              "       4.06661326e-06, 3.73741445e-06, 3.54947376e-06, 3.11350667e-06,\n",
              "       2.95912743e-06, 2.74534585e-06, 2.51818811e-06, 2.46480919e-06,\n",
              "       2.31922394e-06, 2.13644967e-06, 1.91432981e-06, 1.80625546e-06,\n",
              "       1.68739624e-06, 1.49864718e-06, 1.41847970e-06, 1.35486304e-06,\n",
              "       1.20513293e-06, 1.16899188e-06, 1.13007149e-06, 1.00000044e-06,\n",
              "       9.05846441e-07, 8.72125139e-07, 8.25474970e-07, 7.75918684e-07,\n",
              "       7.53701985e-07, 6.73382878e-07, 6.36395083e-07, 6.27990877e-07,\n",
              "       5.92727536e-07, 5.51729667e-07, 5.32439322e-07, 5.28681575e-07,\n",
              "       4.89557966e-07, 4.37665041e-07, 4.22992048e-07, 4.06972548e-07,\n",
              "       3.75577587e-07, 3.60380135e-07, 3.44047672e-07, 3.26706693e-07,\n",
              "       3.26508161e-07, 3.08837589e-07, 2.95400698e-07, 2.91990482e-07,\n",
              "       2.89055790e-07, 2.76839685e-07, 2.64298351e-07, 2.51753641e-07,\n",
              "       2.40938055e-07, 2.36217434e-07, 2.24829458e-07, 2.21771083e-07,\n",
              "       2.20138621e-07, 2.13599942e-07, 2.01780116e-07, 1.93355962e-07,\n",
              "       1.91962413e-07, 1.81741056e-07, 1.79835260e-07, 1.73838313e-07,\n",
              "       1.65326123e-07, 1.62027498e-07, 1.52971477e-07, 1.49216055e-07,\n",
              "       1.45399481e-07, 1.40505447e-07, 1.35522689e-07, 1.34560563e-07,\n",
              "       1.29156435e-07, 1.27936676e-07, 1.21474094e-07, 1.21016252e-07])"
            ]
          },
          "metadata": {},
          "execution_count": 174
        }
      ]
    },
    {
      "cell_type": "markdown",
      "source": [
        "97% of the variance is explained by just the first principal component.\n",
        "\n",
        "Looking at the loadings:"
      ],
      "metadata": {
        "id": "ofzaFwAqGsMN"
      }
    },
    {
      "cell_type": "code",
      "source": [
        "loading_first_component = pd.DataFrame(pca9.components_[0],index=q1trainfeatureset3.columns)\n",
        "loading_first_component\n"
      ],
      "metadata": {
        "id": "n2BYzwMuG9Fw",
        "outputId": "54b91273-1676-46bd-ad01-c8cb4e5c0e85",
        "colab": {
          "base_uri": "https://localhost:8080/",
          "height": 424
        }
      },
      "execution_count": 183,
      "outputs": [
        {
          "output_type": "execute_result",
          "data": {
            "text/plain": [
              "                                 0\n",
              "sf_length                 0.004800\n",
              "L_dist_sf_noaccents_norm -0.001076\n",
              "EnglishIDF                0.002839\n",
              "0                         0.057770\n",
              "1                         0.057771\n",
              "...                            ...\n",
              "lang_x0_en               -0.002322\n",
              "lang_x0_es               -0.002008\n",
              "lang_x0_fr                0.000899\n",
              "lang_x0_it                0.000710\n",
              "lang_x0_pt                0.002767\n",
              "\n",
              "[308 rows x 1 columns]"
            ],
            "text/html": [
              "\n",
              "  <div id=\"df-2a2d4cba-3452-4c91-bddb-85049e5db9cc\">\n",
              "    <div class=\"colab-df-container\">\n",
              "      <div>\n",
              "<style scoped>\n",
              "    .dataframe tbody tr th:only-of-type {\n",
              "        vertical-align: middle;\n",
              "    }\n",
              "\n",
              "    .dataframe tbody tr th {\n",
              "        vertical-align: top;\n",
              "    }\n",
              "\n",
              "    .dataframe thead th {\n",
              "        text-align: right;\n",
              "    }\n",
              "</style>\n",
              "<table border=\"1\" class=\"dataframe\">\n",
              "  <thead>\n",
              "    <tr style=\"text-align: right;\">\n",
              "      <th></th>\n",
              "      <th>0</th>\n",
              "    </tr>\n",
              "  </thead>\n",
              "  <tbody>\n",
              "    <tr>\n",
              "      <th>sf_length</th>\n",
              "      <td>0.004800</td>\n",
              "    </tr>\n",
              "    <tr>\n",
              "      <th>L_dist_sf_noaccents_norm</th>\n",
              "      <td>-0.001076</td>\n",
              "    </tr>\n",
              "    <tr>\n",
              "      <th>EnglishIDF</th>\n",
              "      <td>0.002839</td>\n",
              "    </tr>\n",
              "    <tr>\n",
              "      <th>0</th>\n",
              "      <td>0.057770</td>\n",
              "    </tr>\n",
              "    <tr>\n",
              "      <th>1</th>\n",
              "      <td>0.057771</td>\n",
              "    </tr>\n",
              "    <tr>\n",
              "      <th>...</th>\n",
              "      <td>...</td>\n",
              "    </tr>\n",
              "    <tr>\n",
              "      <th>lang_x0_en</th>\n",
              "      <td>-0.002322</td>\n",
              "    </tr>\n",
              "    <tr>\n",
              "      <th>lang_x0_es</th>\n",
              "      <td>-0.002008</td>\n",
              "    </tr>\n",
              "    <tr>\n",
              "      <th>lang_x0_fr</th>\n",
              "      <td>0.000899</td>\n",
              "    </tr>\n",
              "    <tr>\n",
              "      <th>lang_x0_it</th>\n",
              "      <td>0.000710</td>\n",
              "    </tr>\n",
              "    <tr>\n",
              "      <th>lang_x0_pt</th>\n",
              "      <td>0.002767</td>\n",
              "    </tr>\n",
              "  </tbody>\n",
              "</table>\n",
              "<p>308 rows × 1 columns</p>\n",
              "</div>\n",
              "      <button class=\"colab-df-convert\" onclick=\"convertToInteractive('df-2a2d4cba-3452-4c91-bddb-85049e5db9cc')\"\n",
              "              title=\"Convert this dataframe to an interactive table.\"\n",
              "              style=\"display:none;\">\n",
              "        \n",
              "  <svg xmlns=\"http://www.w3.org/2000/svg\" height=\"24px\"viewBox=\"0 0 24 24\"\n",
              "       width=\"24px\">\n",
              "    <path d=\"M0 0h24v24H0V0z\" fill=\"none\"/>\n",
              "    <path d=\"M18.56 5.44l.94 2.06.94-2.06 2.06-.94-2.06-.94-.94-2.06-.94 2.06-2.06.94zm-11 1L8.5 8.5l.94-2.06 2.06-.94-2.06-.94L8.5 2.5l-.94 2.06-2.06.94zm10 10l.94 2.06.94-2.06 2.06-.94-2.06-.94-.94-2.06-.94 2.06-2.06.94z\"/><path d=\"M17.41 7.96l-1.37-1.37c-.4-.4-.92-.59-1.43-.59-.52 0-1.04.2-1.43.59L10.3 9.45l-7.72 7.72c-.78.78-.78 2.05 0 2.83L4 21.41c.39.39.9.59 1.41.59.51 0 1.02-.2 1.41-.59l7.78-7.78 2.81-2.81c.8-.78.8-2.07 0-2.86zM5.41 20L4 18.59l7.72-7.72 1.47 1.35L5.41 20z\"/>\n",
              "  </svg>\n",
              "      </button>\n",
              "      \n",
              "  <style>\n",
              "    .colab-df-container {\n",
              "      display:flex;\n",
              "      flex-wrap:wrap;\n",
              "      gap: 12px;\n",
              "    }\n",
              "\n",
              "    .colab-df-convert {\n",
              "      background-color: #E8F0FE;\n",
              "      border: none;\n",
              "      border-radius: 50%;\n",
              "      cursor: pointer;\n",
              "      display: none;\n",
              "      fill: #1967D2;\n",
              "      height: 32px;\n",
              "      padding: 0 0 0 0;\n",
              "      width: 32px;\n",
              "    }\n",
              "\n",
              "    .colab-df-convert:hover {\n",
              "      background-color: #E2EBFA;\n",
              "      box-shadow: 0px 1px 2px rgba(60, 64, 67, 0.3), 0px 1px 3px 1px rgba(60, 64, 67, 0.15);\n",
              "      fill: #174EA6;\n",
              "    }\n",
              "\n",
              "    [theme=dark] .colab-df-convert {\n",
              "      background-color: #3B4455;\n",
              "      fill: #D2E3FC;\n",
              "    }\n",
              "\n",
              "    [theme=dark] .colab-df-convert:hover {\n",
              "      background-color: #434B5C;\n",
              "      box-shadow: 0px 1px 3px 1px rgba(0, 0, 0, 0.15);\n",
              "      filter: drop-shadow(0px 1px 2px rgba(0, 0, 0, 0.3));\n",
              "      fill: #FFFFFF;\n",
              "    }\n",
              "  </style>\n",
              "\n",
              "      <script>\n",
              "        const buttonEl =\n",
              "          document.querySelector('#df-2a2d4cba-3452-4c91-bddb-85049e5db9cc button.colab-df-convert');\n",
              "        buttonEl.style.display =\n",
              "          google.colab.kernel.accessAllowed ? 'block' : 'none';\n",
              "\n",
              "        async function convertToInteractive(key) {\n",
              "          const element = document.querySelector('#df-2a2d4cba-3452-4c91-bddb-85049e5db9cc');\n",
              "          const dataTable =\n",
              "            await google.colab.kernel.invokeFunction('convertToInteractive',\n",
              "                                                     [key], {});\n",
              "          if (!dataTable) return;\n",
              "\n",
              "          const docLinkHtml = 'Like what you see? Visit the ' +\n",
              "            '<a target=\"_blank\" href=https://colab.research.google.com/notebooks/data_table.ipynb>data table notebook</a>'\n",
              "            + ' to learn more about interactive tables.';\n",
              "          element.innerHTML = '';\n",
              "          dataTable['output_type'] = 'display_data';\n",
              "          await google.colab.output.renderOutput(dataTable, element);\n",
              "          const docLink = document.createElement('div');\n",
              "          docLink.innerHTML = docLinkHtml;\n",
              "          element.appendChild(docLink);\n",
              "        }\n",
              "      </script>\n",
              "    </div>\n",
              "  </div>\n",
              "  "
            ]
          },
          "metadata": {},
          "execution_count": 183
        }
      ]
    },
    {
      "cell_type": "markdown",
      "source": [
        "Loadings of language column in first component:"
      ],
      "metadata": {
        "id": "kvEWWnH2H7FO"
      }
    },
    {
      "cell_type": "code",
      "source": [
        "loading_first_component.loc[[ind for ind in loading_first_component.index if str(ind).startswith('lang_')],:]"
      ],
      "metadata": {
        "id": "vS3tdIUJHp5_",
        "outputId": "d44bedc1-09f7-491f-c744-7d33d824583b",
        "colab": {
          "base_uri": "https://localhost:8080/",
          "height": 206
        }
      },
      "execution_count": 185,
      "outputs": [
        {
          "output_type": "execute_result",
          "data": {
            "text/plain": [
              "                   0\n",
              "lang_x0_en -0.002322\n",
              "lang_x0_es -0.002008\n",
              "lang_x0_fr  0.000899\n",
              "lang_x0_it  0.000710\n",
              "lang_x0_pt  0.002767"
            ],
            "text/html": [
              "\n",
              "  <div id=\"df-e3784198-8148-43e7-aa4a-386751d9007c\">\n",
              "    <div class=\"colab-df-container\">\n",
              "      <div>\n",
              "<style scoped>\n",
              "    .dataframe tbody tr th:only-of-type {\n",
              "        vertical-align: middle;\n",
              "    }\n",
              "\n",
              "    .dataframe tbody tr th {\n",
              "        vertical-align: top;\n",
              "    }\n",
              "\n",
              "    .dataframe thead th {\n",
              "        text-align: right;\n",
              "    }\n",
              "</style>\n",
              "<table border=\"1\" class=\"dataframe\">\n",
              "  <thead>\n",
              "    <tr style=\"text-align: right;\">\n",
              "      <th></th>\n",
              "      <th>0</th>\n",
              "    </tr>\n",
              "  </thead>\n",
              "  <tbody>\n",
              "    <tr>\n",
              "      <th>lang_x0_en</th>\n",
              "      <td>-0.002322</td>\n",
              "    </tr>\n",
              "    <tr>\n",
              "      <th>lang_x0_es</th>\n",
              "      <td>-0.002008</td>\n",
              "    </tr>\n",
              "    <tr>\n",
              "      <th>lang_x0_fr</th>\n",
              "      <td>0.000899</td>\n",
              "    </tr>\n",
              "    <tr>\n",
              "      <th>lang_x0_it</th>\n",
              "      <td>0.000710</td>\n",
              "    </tr>\n",
              "    <tr>\n",
              "      <th>lang_x0_pt</th>\n",
              "      <td>0.002767</td>\n",
              "    </tr>\n",
              "  </tbody>\n",
              "</table>\n",
              "</div>\n",
              "      <button class=\"colab-df-convert\" onclick=\"convertToInteractive('df-e3784198-8148-43e7-aa4a-386751d9007c')\"\n",
              "              title=\"Convert this dataframe to an interactive table.\"\n",
              "              style=\"display:none;\">\n",
              "        \n",
              "  <svg xmlns=\"http://www.w3.org/2000/svg\" height=\"24px\"viewBox=\"0 0 24 24\"\n",
              "       width=\"24px\">\n",
              "    <path d=\"M0 0h24v24H0V0z\" fill=\"none\"/>\n",
              "    <path d=\"M18.56 5.44l.94 2.06.94-2.06 2.06-.94-2.06-.94-.94-2.06-.94 2.06-2.06.94zm-11 1L8.5 8.5l.94-2.06 2.06-.94-2.06-.94L8.5 2.5l-.94 2.06-2.06.94zm10 10l.94 2.06.94-2.06 2.06-.94-2.06-.94-.94-2.06-.94 2.06-2.06.94z\"/><path d=\"M17.41 7.96l-1.37-1.37c-.4-.4-.92-.59-1.43-.59-.52 0-1.04.2-1.43.59L10.3 9.45l-7.72 7.72c-.78.78-.78 2.05 0 2.83L4 21.41c.39.39.9.59 1.41.59.51 0 1.02-.2 1.41-.59l7.78-7.78 2.81-2.81c.8-.78.8-2.07 0-2.86zM5.41 20L4 18.59l7.72-7.72 1.47 1.35L5.41 20z\"/>\n",
              "  </svg>\n",
              "      </button>\n",
              "      \n",
              "  <style>\n",
              "    .colab-df-container {\n",
              "      display:flex;\n",
              "      flex-wrap:wrap;\n",
              "      gap: 12px;\n",
              "    }\n",
              "\n",
              "    .colab-df-convert {\n",
              "      background-color: #E8F0FE;\n",
              "      border: none;\n",
              "      border-radius: 50%;\n",
              "      cursor: pointer;\n",
              "      display: none;\n",
              "      fill: #1967D2;\n",
              "      height: 32px;\n",
              "      padding: 0 0 0 0;\n",
              "      width: 32px;\n",
              "    }\n",
              "\n",
              "    .colab-df-convert:hover {\n",
              "      background-color: #E2EBFA;\n",
              "      box-shadow: 0px 1px 2px rgba(60, 64, 67, 0.3), 0px 1px 3px 1px rgba(60, 64, 67, 0.15);\n",
              "      fill: #174EA6;\n",
              "    }\n",
              "\n",
              "    [theme=dark] .colab-df-convert {\n",
              "      background-color: #3B4455;\n",
              "      fill: #D2E3FC;\n",
              "    }\n",
              "\n",
              "    [theme=dark] .colab-df-convert:hover {\n",
              "      background-color: #434B5C;\n",
              "      box-shadow: 0px 1px 3px 1px rgba(0, 0, 0, 0.15);\n",
              "      filter: drop-shadow(0px 1px 2px rgba(0, 0, 0, 0.3));\n",
              "      fill: #FFFFFF;\n",
              "    }\n",
              "  </style>\n",
              "\n",
              "      <script>\n",
              "        const buttonEl =\n",
              "          document.querySelector('#df-e3784198-8148-43e7-aa4a-386751d9007c button.colab-df-convert');\n",
              "        buttonEl.style.display =\n",
              "          google.colab.kernel.accessAllowed ? 'block' : 'none';\n",
              "\n",
              "        async function convertToInteractive(key) {\n",
              "          const element = document.querySelector('#df-e3784198-8148-43e7-aa4a-386751d9007c');\n",
              "          const dataTable =\n",
              "            await google.colab.kernel.invokeFunction('convertToInteractive',\n",
              "                                                     [key], {});\n",
              "          if (!dataTable) return;\n",
              "\n",
              "          const docLinkHtml = 'Like what you see? Visit the ' +\n",
              "            '<a target=\"_blank\" href=https://colab.research.google.com/notebooks/data_table.ipynb>data table notebook</a>'\n",
              "            + ' to learn more about interactive tables.';\n",
              "          element.innerHTML = '';\n",
              "          dataTable['output_type'] = 'display_data';\n",
              "          await google.colab.output.renderOutput(dataTable, element);\n",
              "          const docLink = document.createElement('div');\n",
              "          docLink.innerHTML = docLinkHtml;\n",
              "          element.appendChild(docLink);\n",
              "        }\n",
              "      </script>\n",
              "    </div>\n",
              "  </div>\n",
              "  "
            ]
          },
          "metadata": {},
          "execution_count": 185
        }
      ]
    },
    {
      "cell_type": "markdown",
      "source": [
        "Loadings of word vectors in first component:"
      ],
      "metadata": {
        "id": "w0BkT04XH9We"
      }
    },
    {
      "cell_type": "code",
      "source": [
        "loading_first_component.loc[[ind for ind in loading_first_component.index if type(ind)==int],:]"
      ],
      "metadata": {
        "id": "uGj1LhrUH_6g",
        "outputId": "ab3f9ea8-240d-43b9-9c70-13d3e9b6318b",
        "colab": {
          "base_uri": "https://localhost:8080/",
          "height": 424
        }
      },
      "execution_count": 188,
      "outputs": [
        {
          "output_type": "execute_result",
          "data": {
            "text/plain": [
              "            0\n",
              "0    0.057770\n",
              "1    0.057771\n",
              "2   -0.057771\n",
              "3   -0.057703\n",
              "4    0.057770\n",
              "..        ...\n",
              "295  0.057272\n",
              "296 -0.057769\n",
              "297  0.057762\n",
              "298 -0.057770\n",
              "299  0.057770\n",
              "\n",
              "[300 rows x 1 columns]"
            ],
            "text/html": [
              "\n",
              "  <div id=\"df-534e5033-c9a2-47a1-b4d2-9f58e93b5b55\">\n",
              "    <div class=\"colab-df-container\">\n",
              "      <div>\n",
              "<style scoped>\n",
              "    .dataframe tbody tr th:only-of-type {\n",
              "        vertical-align: middle;\n",
              "    }\n",
              "\n",
              "    .dataframe tbody tr th {\n",
              "        vertical-align: top;\n",
              "    }\n",
              "\n",
              "    .dataframe thead th {\n",
              "        text-align: right;\n",
              "    }\n",
              "</style>\n",
              "<table border=\"1\" class=\"dataframe\">\n",
              "  <thead>\n",
              "    <tr style=\"text-align: right;\">\n",
              "      <th></th>\n",
              "      <th>0</th>\n",
              "    </tr>\n",
              "  </thead>\n",
              "  <tbody>\n",
              "    <tr>\n",
              "      <th>0</th>\n",
              "      <td>0.057770</td>\n",
              "    </tr>\n",
              "    <tr>\n",
              "      <th>1</th>\n",
              "      <td>0.057771</td>\n",
              "    </tr>\n",
              "    <tr>\n",
              "      <th>2</th>\n",
              "      <td>-0.057771</td>\n",
              "    </tr>\n",
              "    <tr>\n",
              "      <th>3</th>\n",
              "      <td>-0.057703</td>\n",
              "    </tr>\n",
              "    <tr>\n",
              "      <th>4</th>\n",
              "      <td>0.057770</td>\n",
              "    </tr>\n",
              "    <tr>\n",
              "      <th>...</th>\n",
              "      <td>...</td>\n",
              "    </tr>\n",
              "    <tr>\n",
              "      <th>295</th>\n",
              "      <td>0.057272</td>\n",
              "    </tr>\n",
              "    <tr>\n",
              "      <th>296</th>\n",
              "      <td>-0.057769</td>\n",
              "    </tr>\n",
              "    <tr>\n",
              "      <th>297</th>\n",
              "      <td>0.057762</td>\n",
              "    </tr>\n",
              "    <tr>\n",
              "      <th>298</th>\n",
              "      <td>-0.057770</td>\n",
              "    </tr>\n",
              "    <tr>\n",
              "      <th>299</th>\n",
              "      <td>0.057770</td>\n",
              "    </tr>\n",
              "  </tbody>\n",
              "</table>\n",
              "<p>300 rows × 1 columns</p>\n",
              "</div>\n",
              "      <button class=\"colab-df-convert\" onclick=\"convertToInteractive('df-534e5033-c9a2-47a1-b4d2-9f58e93b5b55')\"\n",
              "              title=\"Convert this dataframe to an interactive table.\"\n",
              "              style=\"display:none;\">\n",
              "        \n",
              "  <svg xmlns=\"http://www.w3.org/2000/svg\" height=\"24px\"viewBox=\"0 0 24 24\"\n",
              "       width=\"24px\">\n",
              "    <path d=\"M0 0h24v24H0V0z\" fill=\"none\"/>\n",
              "    <path d=\"M18.56 5.44l.94 2.06.94-2.06 2.06-.94-2.06-.94-.94-2.06-.94 2.06-2.06.94zm-11 1L8.5 8.5l.94-2.06 2.06-.94-2.06-.94L8.5 2.5l-.94 2.06-2.06.94zm10 10l.94 2.06.94-2.06 2.06-.94-2.06-.94-.94-2.06-.94 2.06-2.06.94z\"/><path d=\"M17.41 7.96l-1.37-1.37c-.4-.4-.92-.59-1.43-.59-.52 0-1.04.2-1.43.59L10.3 9.45l-7.72 7.72c-.78.78-.78 2.05 0 2.83L4 21.41c.39.39.9.59 1.41.59.51 0 1.02-.2 1.41-.59l7.78-7.78 2.81-2.81c.8-.78.8-2.07 0-2.86zM5.41 20L4 18.59l7.72-7.72 1.47 1.35L5.41 20z\"/>\n",
              "  </svg>\n",
              "      </button>\n",
              "      \n",
              "  <style>\n",
              "    .colab-df-container {\n",
              "      display:flex;\n",
              "      flex-wrap:wrap;\n",
              "      gap: 12px;\n",
              "    }\n",
              "\n",
              "    .colab-df-convert {\n",
              "      background-color: #E8F0FE;\n",
              "      border: none;\n",
              "      border-radius: 50%;\n",
              "      cursor: pointer;\n",
              "      display: none;\n",
              "      fill: #1967D2;\n",
              "      height: 32px;\n",
              "      padding: 0 0 0 0;\n",
              "      width: 32px;\n",
              "    }\n",
              "\n",
              "    .colab-df-convert:hover {\n",
              "      background-color: #E2EBFA;\n",
              "      box-shadow: 0px 1px 2px rgba(60, 64, 67, 0.3), 0px 1px 3px 1px rgba(60, 64, 67, 0.15);\n",
              "      fill: #174EA6;\n",
              "    }\n",
              "\n",
              "    [theme=dark] .colab-df-convert {\n",
              "      background-color: #3B4455;\n",
              "      fill: #D2E3FC;\n",
              "    }\n",
              "\n",
              "    [theme=dark] .colab-df-convert:hover {\n",
              "      background-color: #434B5C;\n",
              "      box-shadow: 0px 1px 3px 1px rgba(0, 0, 0, 0.15);\n",
              "      filter: drop-shadow(0px 1px 2px rgba(0, 0, 0, 0.3));\n",
              "      fill: #FFFFFF;\n",
              "    }\n",
              "  </style>\n",
              "\n",
              "      <script>\n",
              "        const buttonEl =\n",
              "          document.querySelector('#df-534e5033-c9a2-47a1-b4d2-9f58e93b5b55 button.colab-df-convert');\n",
              "        buttonEl.style.display =\n",
              "          google.colab.kernel.accessAllowed ? 'block' : 'none';\n",
              "\n",
              "        async function convertToInteractive(key) {\n",
              "          const element = document.querySelector('#df-534e5033-c9a2-47a1-b4d2-9f58e93b5b55');\n",
              "          const dataTable =\n",
              "            await google.colab.kernel.invokeFunction('convertToInteractive',\n",
              "                                                     [key], {});\n",
              "          if (!dataTable) return;\n",
              "\n",
              "          const docLinkHtml = 'Like what you see? Visit the ' +\n",
              "            '<a target=\"_blank\" href=https://colab.research.google.com/notebooks/data_table.ipynb>data table notebook</a>'\n",
              "            + ' to learn more about interactive tables.';\n",
              "          element.innerHTML = '';\n",
              "          dataTable['output_type'] = 'display_data';\n",
              "          await google.colab.output.renderOutput(dataTable, element);\n",
              "          const docLink = document.createElement('div');\n",
              "          docLink.innerHTML = docLinkHtml;\n",
              "          element.appendChild(docLink);\n",
              "        }\n",
              "      </script>\n",
              "    </div>\n",
              "  </div>\n",
              "  "
            ]
          },
          "metadata": {},
          "execution_count": 188
        }
      ]
    },
    {
      "cell_type": "code",
      "source": [
        "loading_first_component.loc[['EnglishIDF','sf_length','L_dist_sf_noaccents_norm'],:]"
      ],
      "metadata": {
        "id": "2lLP5wrwIUAd",
        "outputId": "91b644e2-6538-4098-ece3-0bc04d763796",
        "colab": {
          "base_uri": "https://localhost:8080/",
          "height": 143
        }
      },
      "execution_count": 189,
      "outputs": [
        {
          "output_type": "execute_result",
          "data": {
            "text/plain": [
              "                                 0\n",
              "EnglishIDF                0.002839\n",
              "sf_length                 0.004800\n",
              "L_dist_sf_noaccents_norm -0.001076"
            ],
            "text/html": [
              "\n",
              "  <div id=\"df-894d9e73-6c4f-4acf-98e3-451d785c611d\">\n",
              "    <div class=\"colab-df-container\">\n",
              "      <div>\n",
              "<style scoped>\n",
              "    .dataframe tbody tr th:only-of-type {\n",
              "        vertical-align: middle;\n",
              "    }\n",
              "\n",
              "    .dataframe tbody tr th {\n",
              "        vertical-align: top;\n",
              "    }\n",
              "\n",
              "    .dataframe thead th {\n",
              "        text-align: right;\n",
              "    }\n",
              "</style>\n",
              "<table border=\"1\" class=\"dataframe\">\n",
              "  <thead>\n",
              "    <tr style=\"text-align: right;\">\n",
              "      <th></th>\n",
              "      <th>0</th>\n",
              "    </tr>\n",
              "  </thead>\n",
              "  <tbody>\n",
              "    <tr>\n",
              "      <th>EnglishIDF</th>\n",
              "      <td>0.002839</td>\n",
              "    </tr>\n",
              "    <tr>\n",
              "      <th>sf_length</th>\n",
              "      <td>0.004800</td>\n",
              "    </tr>\n",
              "    <tr>\n",
              "      <th>L_dist_sf_noaccents_norm</th>\n",
              "      <td>-0.001076</td>\n",
              "    </tr>\n",
              "  </tbody>\n",
              "</table>\n",
              "</div>\n",
              "      <button class=\"colab-df-convert\" onclick=\"convertToInteractive('df-894d9e73-6c4f-4acf-98e3-451d785c611d')\"\n",
              "              title=\"Convert this dataframe to an interactive table.\"\n",
              "              style=\"display:none;\">\n",
              "        \n",
              "  <svg xmlns=\"http://www.w3.org/2000/svg\" height=\"24px\"viewBox=\"0 0 24 24\"\n",
              "       width=\"24px\">\n",
              "    <path d=\"M0 0h24v24H0V0z\" fill=\"none\"/>\n",
              "    <path d=\"M18.56 5.44l.94 2.06.94-2.06 2.06-.94-2.06-.94-.94-2.06-.94 2.06-2.06.94zm-11 1L8.5 8.5l.94-2.06 2.06-.94-2.06-.94L8.5 2.5l-.94 2.06-2.06.94zm10 10l.94 2.06.94-2.06 2.06-.94-2.06-.94-.94-2.06-.94 2.06-2.06.94z\"/><path d=\"M17.41 7.96l-1.37-1.37c-.4-.4-.92-.59-1.43-.59-.52 0-1.04.2-1.43.59L10.3 9.45l-7.72 7.72c-.78.78-.78 2.05 0 2.83L4 21.41c.39.39.9.59 1.41.59.51 0 1.02-.2 1.41-.59l7.78-7.78 2.81-2.81c.8-.78.8-2.07 0-2.86zM5.41 20L4 18.59l7.72-7.72 1.47 1.35L5.41 20z\"/>\n",
              "  </svg>\n",
              "      </button>\n",
              "      \n",
              "  <style>\n",
              "    .colab-df-container {\n",
              "      display:flex;\n",
              "      flex-wrap:wrap;\n",
              "      gap: 12px;\n",
              "    }\n",
              "\n",
              "    .colab-df-convert {\n",
              "      background-color: #E8F0FE;\n",
              "      border: none;\n",
              "      border-radius: 50%;\n",
              "      cursor: pointer;\n",
              "      display: none;\n",
              "      fill: #1967D2;\n",
              "      height: 32px;\n",
              "      padding: 0 0 0 0;\n",
              "      width: 32px;\n",
              "    }\n",
              "\n",
              "    .colab-df-convert:hover {\n",
              "      background-color: #E2EBFA;\n",
              "      box-shadow: 0px 1px 2px rgba(60, 64, 67, 0.3), 0px 1px 3px 1px rgba(60, 64, 67, 0.15);\n",
              "      fill: #174EA6;\n",
              "    }\n",
              "\n",
              "    [theme=dark] .colab-df-convert {\n",
              "      background-color: #3B4455;\n",
              "      fill: #D2E3FC;\n",
              "    }\n",
              "\n",
              "    [theme=dark] .colab-df-convert:hover {\n",
              "      background-color: #434B5C;\n",
              "      box-shadow: 0px 1px 3px 1px rgba(0, 0, 0, 0.15);\n",
              "      filter: drop-shadow(0px 1px 2px rgba(0, 0, 0, 0.3));\n",
              "      fill: #FFFFFF;\n",
              "    }\n",
              "  </style>\n",
              "\n",
              "      <script>\n",
              "        const buttonEl =\n",
              "          document.querySelector('#df-894d9e73-6c4f-4acf-98e3-451d785c611d button.colab-df-convert');\n",
              "        buttonEl.style.display =\n",
              "          google.colab.kernel.accessAllowed ? 'block' : 'none';\n",
              "\n",
              "        async function convertToInteractive(key) {\n",
              "          const element = document.querySelector('#df-894d9e73-6c4f-4acf-98e3-451d785c611d');\n",
              "          const dataTable =\n",
              "            await google.colab.kernel.invokeFunction('convertToInteractive',\n",
              "                                                     [key], {});\n",
              "          if (!dataTable) return;\n",
              "\n",
              "          const docLinkHtml = 'Like what you see? Visit the ' +\n",
              "            '<a target=\"_blank\" href=https://colab.research.google.com/notebooks/data_table.ipynb>data table notebook</a>'\n",
              "            + ' to learn more about interactive tables.';\n",
              "          element.innerHTML = '';\n",
              "          dataTable['output_type'] = 'display_data';\n",
              "          await google.colab.output.renderOutput(dataTable, element);\n",
              "          const docLink = document.createElement('div');\n",
              "          docLink.innerHTML = docLinkHtml;\n",
              "          element.appendChild(docLink);\n",
              "        }\n",
              "      </script>\n",
              "    </div>\n",
              "  </div>\n",
              "  "
            ]
          },
          "metadata": {},
          "execution_count": 189
        }
      ]
    },
    {
      "cell_type": "markdown",
      "source": [
        "It appears that just the word vectors are being represented. \n",
        "\n",
        "We will reduce just the word vectors to around 50 columns, and combined with the derived word features of IDF, levenshtein and word length, for the second featureset. "
      ],
      "metadata": {
        "id": "Dh3AblWDI0Q8"
      }
    },
    {
      "cell_type": "code",
      "source": [
        "q1train_vectors_only = q1trainfeatureset2[[col for col in q1trainfeatureset2.columns if type(col)==int]]"
      ],
      "metadata": {
        "id": "OjSnGbHxJ1wc"
      },
      "execution_count": 190,
      "outputs": []
    },
    {
      "cell_type": "code",
      "source": [
        "q1train_vectors_only.shape"
      ],
      "metadata": {
        "colab": {
          "base_uri": "https://localhost:8080/"
        },
        "id": "H4GEWiB2KI_n",
        "outputId": "1e7425f2-42de-4453-cd25-3ef5df23dbdf"
      },
      "execution_count": 191,
      "outputs": [
        {
          "output_type": "execute_result",
          "data": {
            "text/plain": [
              "(12446, 300)"
            ]
          },
          "metadata": {},
          "execution_count": 191
        }
      ]
    },
    {
      "cell_type": "markdown",
      "source": [
        "PCA to reduce to 50 components."
      ],
      "metadata": {
        "id": "R-fSTQz9KMne"
      }
    },
    {
      "cell_type": "code",
      "source": [
        "stdscaler = StandardScaler()\n",
        "q1train_vectors_only_ss = stdscaler.fit_transform(q1train_vectors_only)\n",
        "\n",
        "\n",
        "from sklearn.decomposition import PCA\n",
        "pca_vectors_only = PCA(n_components=20)\n",
        "\n",
        "# fitting\n",
        "q1train_vecs = pca_vectors_only.fit_transform(q1train_vectors_only_ss)\n",
        "q1train_vecs = pd.DataFrame(q1train_vecs,index=q1train_vectors_only.index)\n",
        "q1train_vecs.head()"
      ],
      "metadata": {
        "id": "uw7N2X60KLKi",
        "outputId": "fabf87f7-ad7d-41fc-91dd-6bc8a9ce5811",
        "colab": {
          "base_uri": "https://localhost:8080/",
          "height": 301
        }
      },
      "execution_count": 206,
      "outputs": [
        {
          "output_type": "execute_result",
          "data": {
            "text/plain": [
              "                                        0         1         2         3   \\\n",
              "lexeme_id                                                                  \n",
              "73eecb492ca758ddab5371cf7b5cca32 -1.479945 -0.030556  0.298429 -0.222701   \n",
              "c84476c460737d9fb905dca3d35ec995 -1.491590 -0.099870  0.117657 -0.001287   \n",
              "1a913f2ded424985b9c02d0436008511 -1.539365  0.056805 -0.322041  0.120513   \n",
              "38b770e66595fea718366523b4f7db3f -1.515906 -0.042695 -0.118140  0.044631   \n",
              "faa6fd18132b358958e440322ee82b4b -1.498606 -0.036745 -0.143273 -0.023157   \n",
              "\n",
              "                                        4         5         6         7   \\\n",
              "lexeme_id                                                                  \n",
              "73eecb492ca758ddab5371cf7b5cca32  0.021525 -0.082350 -0.045993  0.039523   \n",
              "c84476c460737d9fb905dca3d35ec995  0.103669 -0.111745  0.020349  0.080407   \n",
              "1a913f2ded424985b9c02d0436008511 -0.022774 -0.016248 -0.017513 -0.332716   \n",
              "38b770e66595fea718366523b4f7db3f  0.094940  0.128514 -0.049396 -0.186567   \n",
              "faa6fd18132b358958e440322ee82b4b  0.054643  0.160397 -0.209076 -0.061633   \n",
              "\n",
              "                                        8         9         10        11  \\\n",
              "lexeme_id                                                                  \n",
              "73eecb492ca758ddab5371cf7b5cca32  0.048605 -0.086556  0.013250  0.025168   \n",
              "c84476c460737d9fb905dca3d35ec995  0.036805  0.025947  0.019593  0.052589   \n",
              "1a913f2ded424985b9c02d0436008511 -0.039060 -0.005725  0.046025  0.068479   \n",
              "38b770e66595fea718366523b4f7db3f  0.198649  0.121732 -0.063734 -0.024520   \n",
              "faa6fd18132b358958e440322ee82b4b -0.083070 -0.023424 -0.036397 -0.064442   \n",
              "\n",
              "                                        12        13        14        15  \\\n",
              "lexeme_id                                                                  \n",
              "73eecb492ca758ddab5371cf7b5cca32 -0.012956  0.006396 -0.013712 -0.046602   \n",
              "c84476c460737d9fb905dca3d35ec995 -0.041085  0.031443  0.018741  0.025835   \n",
              "1a913f2ded424985b9c02d0436008511  0.126669 -0.044556 -0.002113  0.104250   \n",
              "38b770e66595fea718366523b4f7db3f -0.039866 -0.035972 -0.006096  0.005581   \n",
              "faa6fd18132b358958e440322ee82b4b -0.064128 -0.009733  0.031801 -0.017645   \n",
              "\n",
              "                                        16        17        18        19  \n",
              "lexeme_id                                                                 \n",
              "73eecb492ca758ddab5371cf7b5cca32  0.031118  0.006337 -0.022328  0.036536  \n",
              "c84476c460737d9fb905dca3d35ec995  0.048392  0.004428  0.001244  0.036001  \n",
              "1a913f2ded424985b9c02d0436008511  0.035571 -0.007927 -0.053901  0.020444  \n",
              "38b770e66595fea718366523b4f7db3f  0.095154 -0.004338  0.008275 -0.013140  \n",
              "faa6fd18132b358958e440322ee82b4b  0.030858  0.030928  0.021029  0.062665  "
            ],
            "text/html": [
              "\n",
              "  <div id=\"df-47b08f52-96d3-46e8-a280-e6e0ce1b952b\">\n",
              "    <div class=\"colab-df-container\">\n",
              "      <div>\n",
              "<style scoped>\n",
              "    .dataframe tbody tr th:only-of-type {\n",
              "        vertical-align: middle;\n",
              "    }\n",
              "\n",
              "    .dataframe tbody tr th {\n",
              "        vertical-align: top;\n",
              "    }\n",
              "\n",
              "    .dataframe thead th {\n",
              "        text-align: right;\n",
              "    }\n",
              "</style>\n",
              "<table border=\"1\" class=\"dataframe\">\n",
              "  <thead>\n",
              "    <tr style=\"text-align: right;\">\n",
              "      <th></th>\n",
              "      <th>0</th>\n",
              "      <th>1</th>\n",
              "      <th>2</th>\n",
              "      <th>3</th>\n",
              "      <th>4</th>\n",
              "      <th>5</th>\n",
              "      <th>6</th>\n",
              "      <th>7</th>\n",
              "      <th>8</th>\n",
              "      <th>9</th>\n",
              "      <th>10</th>\n",
              "      <th>11</th>\n",
              "      <th>12</th>\n",
              "      <th>13</th>\n",
              "      <th>14</th>\n",
              "      <th>15</th>\n",
              "      <th>16</th>\n",
              "      <th>17</th>\n",
              "      <th>18</th>\n",
              "      <th>19</th>\n",
              "    </tr>\n",
              "    <tr>\n",
              "      <th>lexeme_id</th>\n",
              "      <th></th>\n",
              "      <th></th>\n",
              "      <th></th>\n",
              "      <th></th>\n",
              "      <th></th>\n",
              "      <th></th>\n",
              "      <th></th>\n",
              "      <th></th>\n",
              "      <th></th>\n",
              "      <th></th>\n",
              "      <th></th>\n",
              "      <th></th>\n",
              "      <th></th>\n",
              "      <th></th>\n",
              "      <th></th>\n",
              "      <th></th>\n",
              "      <th></th>\n",
              "      <th></th>\n",
              "      <th></th>\n",
              "      <th></th>\n",
              "    </tr>\n",
              "  </thead>\n",
              "  <tbody>\n",
              "    <tr>\n",
              "      <th>73eecb492ca758ddab5371cf7b5cca32</th>\n",
              "      <td>-1.479945</td>\n",
              "      <td>-0.030556</td>\n",
              "      <td>0.298429</td>\n",
              "      <td>-0.222701</td>\n",
              "      <td>0.021525</td>\n",
              "      <td>-0.082350</td>\n",
              "      <td>-0.045993</td>\n",
              "      <td>0.039523</td>\n",
              "      <td>0.048605</td>\n",
              "      <td>-0.086556</td>\n",
              "      <td>0.013250</td>\n",
              "      <td>0.025168</td>\n",
              "      <td>-0.012956</td>\n",
              "      <td>0.006396</td>\n",
              "      <td>-0.013712</td>\n",
              "      <td>-0.046602</td>\n",
              "      <td>0.031118</td>\n",
              "      <td>0.006337</td>\n",
              "      <td>-0.022328</td>\n",
              "      <td>0.036536</td>\n",
              "    </tr>\n",
              "    <tr>\n",
              "      <th>c84476c460737d9fb905dca3d35ec995</th>\n",
              "      <td>-1.491590</td>\n",
              "      <td>-0.099870</td>\n",
              "      <td>0.117657</td>\n",
              "      <td>-0.001287</td>\n",
              "      <td>0.103669</td>\n",
              "      <td>-0.111745</td>\n",
              "      <td>0.020349</td>\n",
              "      <td>0.080407</td>\n",
              "      <td>0.036805</td>\n",
              "      <td>0.025947</td>\n",
              "      <td>0.019593</td>\n",
              "      <td>0.052589</td>\n",
              "      <td>-0.041085</td>\n",
              "      <td>0.031443</td>\n",
              "      <td>0.018741</td>\n",
              "      <td>0.025835</td>\n",
              "      <td>0.048392</td>\n",
              "      <td>0.004428</td>\n",
              "      <td>0.001244</td>\n",
              "      <td>0.036001</td>\n",
              "    </tr>\n",
              "    <tr>\n",
              "      <th>1a913f2ded424985b9c02d0436008511</th>\n",
              "      <td>-1.539365</td>\n",
              "      <td>0.056805</td>\n",
              "      <td>-0.322041</td>\n",
              "      <td>0.120513</td>\n",
              "      <td>-0.022774</td>\n",
              "      <td>-0.016248</td>\n",
              "      <td>-0.017513</td>\n",
              "      <td>-0.332716</td>\n",
              "      <td>-0.039060</td>\n",
              "      <td>-0.005725</td>\n",
              "      <td>0.046025</td>\n",
              "      <td>0.068479</td>\n",
              "      <td>0.126669</td>\n",
              "      <td>-0.044556</td>\n",
              "      <td>-0.002113</td>\n",
              "      <td>0.104250</td>\n",
              "      <td>0.035571</td>\n",
              "      <td>-0.007927</td>\n",
              "      <td>-0.053901</td>\n",
              "      <td>0.020444</td>\n",
              "    </tr>\n",
              "    <tr>\n",
              "      <th>38b770e66595fea718366523b4f7db3f</th>\n",
              "      <td>-1.515906</td>\n",
              "      <td>-0.042695</td>\n",
              "      <td>-0.118140</td>\n",
              "      <td>0.044631</td>\n",
              "      <td>0.094940</td>\n",
              "      <td>0.128514</td>\n",
              "      <td>-0.049396</td>\n",
              "      <td>-0.186567</td>\n",
              "      <td>0.198649</td>\n",
              "      <td>0.121732</td>\n",
              "      <td>-0.063734</td>\n",
              "      <td>-0.024520</td>\n",
              "      <td>-0.039866</td>\n",
              "      <td>-0.035972</td>\n",
              "      <td>-0.006096</td>\n",
              "      <td>0.005581</td>\n",
              "      <td>0.095154</td>\n",
              "      <td>-0.004338</td>\n",
              "      <td>0.008275</td>\n",
              "      <td>-0.013140</td>\n",
              "    </tr>\n",
              "    <tr>\n",
              "      <th>faa6fd18132b358958e440322ee82b4b</th>\n",
              "      <td>-1.498606</td>\n",
              "      <td>-0.036745</td>\n",
              "      <td>-0.143273</td>\n",
              "      <td>-0.023157</td>\n",
              "      <td>0.054643</td>\n",
              "      <td>0.160397</td>\n",
              "      <td>-0.209076</td>\n",
              "      <td>-0.061633</td>\n",
              "      <td>-0.083070</td>\n",
              "      <td>-0.023424</td>\n",
              "      <td>-0.036397</td>\n",
              "      <td>-0.064442</td>\n",
              "      <td>-0.064128</td>\n",
              "      <td>-0.009733</td>\n",
              "      <td>0.031801</td>\n",
              "      <td>-0.017645</td>\n",
              "      <td>0.030858</td>\n",
              "      <td>0.030928</td>\n",
              "      <td>0.021029</td>\n",
              "      <td>0.062665</td>\n",
              "    </tr>\n",
              "  </tbody>\n",
              "</table>\n",
              "</div>\n",
              "      <button class=\"colab-df-convert\" onclick=\"convertToInteractive('df-47b08f52-96d3-46e8-a280-e6e0ce1b952b')\"\n",
              "              title=\"Convert this dataframe to an interactive table.\"\n",
              "              style=\"display:none;\">\n",
              "        \n",
              "  <svg xmlns=\"http://www.w3.org/2000/svg\" height=\"24px\"viewBox=\"0 0 24 24\"\n",
              "       width=\"24px\">\n",
              "    <path d=\"M0 0h24v24H0V0z\" fill=\"none\"/>\n",
              "    <path d=\"M18.56 5.44l.94 2.06.94-2.06 2.06-.94-2.06-.94-.94-2.06-.94 2.06-2.06.94zm-11 1L8.5 8.5l.94-2.06 2.06-.94-2.06-.94L8.5 2.5l-.94 2.06-2.06.94zm10 10l.94 2.06.94-2.06 2.06-.94-2.06-.94-.94-2.06-.94 2.06-2.06.94z\"/><path d=\"M17.41 7.96l-1.37-1.37c-.4-.4-.92-.59-1.43-.59-.52 0-1.04.2-1.43.59L10.3 9.45l-7.72 7.72c-.78.78-.78 2.05 0 2.83L4 21.41c.39.39.9.59 1.41.59.51 0 1.02-.2 1.41-.59l7.78-7.78 2.81-2.81c.8-.78.8-2.07 0-2.86zM5.41 20L4 18.59l7.72-7.72 1.47 1.35L5.41 20z\"/>\n",
              "  </svg>\n",
              "      </button>\n",
              "      \n",
              "  <style>\n",
              "    .colab-df-container {\n",
              "      display:flex;\n",
              "      flex-wrap:wrap;\n",
              "      gap: 12px;\n",
              "    }\n",
              "\n",
              "    .colab-df-convert {\n",
              "      background-color: #E8F0FE;\n",
              "      border: none;\n",
              "      border-radius: 50%;\n",
              "      cursor: pointer;\n",
              "      display: none;\n",
              "      fill: #1967D2;\n",
              "      height: 32px;\n",
              "      padding: 0 0 0 0;\n",
              "      width: 32px;\n",
              "    }\n",
              "\n",
              "    .colab-df-convert:hover {\n",
              "      background-color: #E2EBFA;\n",
              "      box-shadow: 0px 1px 2px rgba(60, 64, 67, 0.3), 0px 1px 3px 1px rgba(60, 64, 67, 0.15);\n",
              "      fill: #174EA6;\n",
              "    }\n",
              "\n",
              "    [theme=dark] .colab-df-convert {\n",
              "      background-color: #3B4455;\n",
              "      fill: #D2E3FC;\n",
              "    }\n",
              "\n",
              "    [theme=dark] .colab-df-convert:hover {\n",
              "      background-color: #434B5C;\n",
              "      box-shadow: 0px 1px 3px 1px rgba(0, 0, 0, 0.15);\n",
              "      filter: drop-shadow(0px 1px 2px rgba(0, 0, 0, 0.3));\n",
              "      fill: #FFFFFF;\n",
              "    }\n",
              "  </style>\n",
              "\n",
              "      <script>\n",
              "        const buttonEl =\n",
              "          document.querySelector('#df-47b08f52-96d3-46e8-a280-e6e0ce1b952b button.colab-df-convert');\n",
              "        buttonEl.style.display =\n",
              "          google.colab.kernel.accessAllowed ? 'block' : 'none';\n",
              "\n",
              "        async function convertToInteractive(key) {\n",
              "          const element = document.querySelector('#df-47b08f52-96d3-46e8-a280-e6e0ce1b952b');\n",
              "          const dataTable =\n",
              "            await google.colab.kernel.invokeFunction('convertToInteractive',\n",
              "                                                     [key], {});\n",
              "          if (!dataTable) return;\n",
              "\n",
              "          const docLinkHtml = 'Like what you see? Visit the ' +\n",
              "            '<a target=\"_blank\" href=https://colab.research.google.com/notebooks/data_table.ipynb>data table notebook</a>'\n",
              "            + ' to learn more about interactive tables.';\n",
              "          element.innerHTML = '';\n",
              "          dataTable['output_type'] = 'display_data';\n",
              "          await google.colab.output.renderOutput(dataTable, element);\n",
              "          const docLink = document.createElement('div');\n",
              "          docLink.innerHTML = docLinkHtml;\n",
              "          element.appendChild(docLink);\n",
              "        }\n",
              "      </script>\n",
              "    </div>\n",
              "  </div>\n",
              "  "
            ]
          },
          "metadata": {},
          "execution_count": 206
        }
      ]
    },
    {
      "cell_type": "markdown",
      "source": [
        "Dropping extraneous columns from q1train, and q1trainfeatureset1"
      ],
      "metadata": {
        "id": "sPAvRSs8ONNi"
      }
    },
    {
      "cell_type": "code",
      "source": [
        "q1trainfeatureset4 = pd.merge(left = q1trainfeatureset2[['EnglishIDF','sf_length','L_dist_sf_noaccents_norm']],right=q1train_vecs,how=\"left\",right_index=True, left_index=True)"
      ],
      "metadata": {
        "id": "f4cIwlq3LSN7"
      },
      "execution_count": 208,
      "outputs": []
    },
    {
      "cell_type": "code",
      "source": [
        "q1trainfeatureset4.shape"
      ],
      "metadata": {
        "colab": {
          "base_uri": "https://localhost:8080/"
        },
        "id": "w64fPeIJMXQ6",
        "outputId": "74313bf3-42d5-45b4-f799-f815f9d4d1e5"
      },
      "execution_count": 209,
      "outputs": [
        {
          "output_type": "execute_result",
          "data": {
            "text/plain": [
              "(12446, 23)"
            ]
          },
          "metadata": {},
          "execution_count": 209
        }
      ]
    },
    {
      "cell_type": "markdown",
      "source": [
        "The columns needed for merging with lexemes for q1train_X: delta, lexeme_id, history_seen, history_frac, simoverdiff, \n",
        "\n",
        "The columns needed for q1train_y: p_forgot_bin\n"
      ],
      "metadata": {
        "id": "6NG3Yrs8PLUM"
      }
    },
    {
      "cell_type": "code",
      "source": [
        "q1train_X = q1train[['lexeme_id','delta','history_seen','history_frac','simoverdiff',]]\n",
        "\n",
        "q1train_y = q1train['p_forgot_bin']"
      ],
      "metadata": {
        "id": "043tTOlkPKtV"
      },
      "execution_count": 216,
      "outputs": []
    },
    {
      "cell_type": "code",
      "source": [
        "q1train_X.columns"
      ],
      "metadata": {
        "colab": {
          "base_uri": "https://localhost:8080/"
        },
        "id": "zXkr7CctnCV4",
        "outputId": "2eba386b-f1f0-4716-ba7e-eb6eabb27116"
      },
      "execution_count": 217,
      "outputs": [
        {
          "output_type": "execute_result",
          "data": {
            "text/plain": [
              "Index(['lexeme_id', 'delta', 'history_seen', 'history_frac', 'simoverdiff'], dtype='object')"
            ]
          },
          "metadata": {},
          "execution_count": 217
        }
      ]
    },
    {
      "cell_type": "code",
      "source": [
        "q1train_X.isna().sum()"
      ],
      "metadata": {
        "colab": {
          "base_uri": "https://localhost:8080/"
        },
        "id": "Pmm1_uVa6O12",
        "outputId": "2c14f4bb-08a3-43cf-a312-2c1dde73e250"
      },
      "execution_count": 218,
      "outputs": [
        {
          "output_type": "execute_result",
          "data": {
            "text/plain": [
              "lexeme_id       0\n",
              "delta           0\n",
              "history_seen    0\n",
              "history_frac    0\n",
              "simoverdiff     0\n",
              "dtype: int64"
            ]
          },
          "metadata": {},
          "execution_count": 218
        }
      ]
    },
    {
      "cell_type": "markdown",
      "source": [
        "All other non-numerical columns have been dropped. \n",
        "\n",
        "Merging q1train_X and q1trainfeatureset4"
      ],
      "metadata": {
        "id": "u3d2Oi8fnFz8"
      }
    },
    {
      "cell_type": "code",
      "source": [
        "q1train_X4 = pd.merge(left = q1train_X,right=q1trainfeatureset4,how=\"left\",left_on = 'lexeme_id',right_index=True)"
      ],
      "metadata": {
        "id": "_oNKExg0mRzI"
      },
      "execution_count": 219,
      "outputs": []
    },
    {
      "cell_type": "code",
      "source": [
        "q1train_X4.shape"
      ],
      "metadata": {
        "colab": {
          "base_uri": "https://localhost:8080/"
        },
        "id": "xKcvNbpHNHoH",
        "outputId": "28990014-de93-4614-9e28-0490a83e74a1"
      },
      "execution_count": 220,
      "outputs": [
        {
          "output_type": "execute_result",
          "data": {
            "text/plain": [
              "(8070561, 28)"
            ]
          },
          "metadata": {},
          "execution_count": 220
        }
      ]
    },
    {
      "cell_type": "markdown",
      "source": [
        "Combining test set similarly:"
      ],
      "metadata": {
        "id": "SHWav1nBNLke"
      }
    },
    {
      "cell_type": "code",
      "source": [
        "q1test_vectors_only = q1testfeatureset2[[col for col in q1testfeatureset2.columns if type(col)==int]]"
      ],
      "metadata": {
        "id": "8HexVzEsNdeU"
      },
      "execution_count": 221,
      "outputs": []
    },
    {
      "cell_type": "code",
      "source": [
        "q1test_vectors_only.shape"
      ],
      "metadata": {
        "outputId": "5b92339e-438d-47f6-e4f7-dac7fca9cd32",
        "colab": {
          "base_uri": "https://localhost:8080/"
        },
        "id": "5mTX-YU2NdeU"
      },
      "execution_count": 222,
      "outputs": [
        {
          "output_type": "execute_result",
          "data": {
            "text/plain": [
              "(2776, 300)"
            ]
          },
          "metadata": {},
          "execution_count": 222
        }
      ]
    },
    {
      "cell_type": "code",
      "source": [
        "# transform with std scaler and PCA\n",
        "\n",
        "q1test_vectors_only_ss = stdscaler.transform(q1test_vectors_only)\n",
        "\n",
        "\n",
        "from sklearn.decomposition import PCA\n",
        "pca_vectors_only = PCA(n_components=20)\n",
        "\n",
        "# fitting\n",
        "q1test_vecs = pca_vectors_only.fit_transform(q1test_vectors_only_ss)\n",
        "q1test_vecs = pd.DataFrame(q1test_vecs,index=q1test_vectors_only.index)\n",
        "q1test_vecs.head()"
      ],
      "metadata": {
        "id": "dTvPB4AKNLK5",
        "outputId": "7fd74a8f-18bd-430c-a2dd-12a092ac60a1",
        "colab": {
          "base_uri": "https://localhost:8080/",
          "height": 270
        }
      },
      "execution_count": 223,
      "outputs": [
        {
          "output_type": "execute_result",
          "data": {
            "text/plain": [
              "          0         1         2         3         4         5         6   \\\n",
              "23 -1.366357 -0.121765  0.282459 -0.112891  0.072199 -0.155650 -0.058429   \n",
              "26 -1.312778 -0.844684 -0.080055  0.233270  0.222186 -0.146283  0.054360   \n",
              "30 -1.392530  0.021422 -0.242432 -0.074025 -0.089048  0.003402  0.082626   \n",
              "41 -1.404764 -0.170103  0.031976  0.621581 -0.182285  0.186289  0.044171   \n",
              "50 -1.389476  1.105090 -0.177252  0.069358 -0.212080 -0.119515 -0.054130   \n",
              "\n",
              "          7         8         9         10        11        12        13  \\\n",
              "23  0.020008  0.002860 -0.049278  0.057129 -0.019453  0.009037 -0.001110   \n",
              "26  0.076761  0.020825 -0.066904  0.051562  0.054523 -0.023573  0.244493   \n",
              "30 -0.195476 -0.137162  0.037278  0.013813  0.011601  0.024339 -0.036953   \n",
              "41 -0.108554 -0.022361 -0.041205 -0.051607 -0.033038  0.002263 -0.032289   \n",
              "50  0.105851  0.208040 -0.065247  0.026019  0.109338 -0.129122  0.094372   \n",
              "\n",
              "          14        15        16        17        18        19  \n",
              "23 -0.009885  0.015470 -0.039924 -0.018742  0.004855 -0.019293  \n",
              "26  0.087351 -0.036084  0.027143 -0.018312 -0.006508 -0.037210  \n",
              "30 -0.041535 -0.034381  0.039607  0.058248 -0.052162  0.034341  \n",
              "41 -0.006227  0.012838 -0.009732  0.016435  0.035814 -0.061946  \n",
              "50  0.060245 -0.096237  0.034341  0.059933 -0.042863  0.036443  "
            ],
            "text/html": [
              "\n",
              "  <div id=\"df-675d4293-8ac4-4baa-99db-4cde70060923\">\n",
              "    <div class=\"colab-df-container\">\n",
              "      <div>\n",
              "<style scoped>\n",
              "    .dataframe tbody tr th:only-of-type {\n",
              "        vertical-align: middle;\n",
              "    }\n",
              "\n",
              "    .dataframe tbody tr th {\n",
              "        vertical-align: top;\n",
              "    }\n",
              "\n",
              "    .dataframe thead th {\n",
              "        text-align: right;\n",
              "    }\n",
              "</style>\n",
              "<table border=\"1\" class=\"dataframe\">\n",
              "  <thead>\n",
              "    <tr style=\"text-align: right;\">\n",
              "      <th></th>\n",
              "      <th>0</th>\n",
              "      <th>1</th>\n",
              "      <th>2</th>\n",
              "      <th>3</th>\n",
              "      <th>4</th>\n",
              "      <th>5</th>\n",
              "      <th>6</th>\n",
              "      <th>7</th>\n",
              "      <th>8</th>\n",
              "      <th>9</th>\n",
              "      <th>10</th>\n",
              "      <th>11</th>\n",
              "      <th>12</th>\n",
              "      <th>13</th>\n",
              "      <th>14</th>\n",
              "      <th>15</th>\n",
              "      <th>16</th>\n",
              "      <th>17</th>\n",
              "      <th>18</th>\n",
              "      <th>19</th>\n",
              "    </tr>\n",
              "  </thead>\n",
              "  <tbody>\n",
              "    <tr>\n",
              "      <th>23</th>\n",
              "      <td>-1.366357</td>\n",
              "      <td>-0.121765</td>\n",
              "      <td>0.282459</td>\n",
              "      <td>-0.112891</td>\n",
              "      <td>0.072199</td>\n",
              "      <td>-0.155650</td>\n",
              "      <td>-0.058429</td>\n",
              "      <td>0.020008</td>\n",
              "      <td>0.002860</td>\n",
              "      <td>-0.049278</td>\n",
              "      <td>0.057129</td>\n",
              "      <td>-0.019453</td>\n",
              "      <td>0.009037</td>\n",
              "      <td>-0.001110</td>\n",
              "      <td>-0.009885</td>\n",
              "      <td>0.015470</td>\n",
              "      <td>-0.039924</td>\n",
              "      <td>-0.018742</td>\n",
              "      <td>0.004855</td>\n",
              "      <td>-0.019293</td>\n",
              "    </tr>\n",
              "    <tr>\n",
              "      <th>26</th>\n",
              "      <td>-1.312778</td>\n",
              "      <td>-0.844684</td>\n",
              "      <td>-0.080055</td>\n",
              "      <td>0.233270</td>\n",
              "      <td>0.222186</td>\n",
              "      <td>-0.146283</td>\n",
              "      <td>0.054360</td>\n",
              "      <td>0.076761</td>\n",
              "      <td>0.020825</td>\n",
              "      <td>-0.066904</td>\n",
              "      <td>0.051562</td>\n",
              "      <td>0.054523</td>\n",
              "      <td>-0.023573</td>\n",
              "      <td>0.244493</td>\n",
              "      <td>0.087351</td>\n",
              "      <td>-0.036084</td>\n",
              "      <td>0.027143</td>\n",
              "      <td>-0.018312</td>\n",
              "      <td>-0.006508</td>\n",
              "      <td>-0.037210</td>\n",
              "    </tr>\n",
              "    <tr>\n",
              "      <th>30</th>\n",
              "      <td>-1.392530</td>\n",
              "      <td>0.021422</td>\n",
              "      <td>-0.242432</td>\n",
              "      <td>-0.074025</td>\n",
              "      <td>-0.089048</td>\n",
              "      <td>0.003402</td>\n",
              "      <td>0.082626</td>\n",
              "      <td>-0.195476</td>\n",
              "      <td>-0.137162</td>\n",
              "      <td>0.037278</td>\n",
              "      <td>0.013813</td>\n",
              "      <td>0.011601</td>\n",
              "      <td>0.024339</td>\n",
              "      <td>-0.036953</td>\n",
              "      <td>-0.041535</td>\n",
              "      <td>-0.034381</td>\n",
              "      <td>0.039607</td>\n",
              "      <td>0.058248</td>\n",
              "      <td>-0.052162</td>\n",
              "      <td>0.034341</td>\n",
              "    </tr>\n",
              "    <tr>\n",
              "      <th>41</th>\n",
              "      <td>-1.404764</td>\n",
              "      <td>-0.170103</td>\n",
              "      <td>0.031976</td>\n",
              "      <td>0.621581</td>\n",
              "      <td>-0.182285</td>\n",
              "      <td>0.186289</td>\n",
              "      <td>0.044171</td>\n",
              "      <td>-0.108554</td>\n",
              "      <td>-0.022361</td>\n",
              "      <td>-0.041205</td>\n",
              "      <td>-0.051607</td>\n",
              "      <td>-0.033038</td>\n",
              "      <td>0.002263</td>\n",
              "      <td>-0.032289</td>\n",
              "      <td>-0.006227</td>\n",
              "      <td>0.012838</td>\n",
              "      <td>-0.009732</td>\n",
              "      <td>0.016435</td>\n",
              "      <td>0.035814</td>\n",
              "      <td>-0.061946</td>\n",
              "    </tr>\n",
              "    <tr>\n",
              "      <th>50</th>\n",
              "      <td>-1.389476</td>\n",
              "      <td>1.105090</td>\n",
              "      <td>-0.177252</td>\n",
              "      <td>0.069358</td>\n",
              "      <td>-0.212080</td>\n",
              "      <td>-0.119515</td>\n",
              "      <td>-0.054130</td>\n",
              "      <td>0.105851</td>\n",
              "      <td>0.208040</td>\n",
              "      <td>-0.065247</td>\n",
              "      <td>0.026019</td>\n",
              "      <td>0.109338</td>\n",
              "      <td>-0.129122</td>\n",
              "      <td>0.094372</td>\n",
              "      <td>0.060245</td>\n",
              "      <td>-0.096237</td>\n",
              "      <td>0.034341</td>\n",
              "      <td>0.059933</td>\n",
              "      <td>-0.042863</td>\n",
              "      <td>0.036443</td>\n",
              "    </tr>\n",
              "  </tbody>\n",
              "</table>\n",
              "</div>\n",
              "      <button class=\"colab-df-convert\" onclick=\"convertToInteractive('df-675d4293-8ac4-4baa-99db-4cde70060923')\"\n",
              "              title=\"Convert this dataframe to an interactive table.\"\n",
              "              style=\"display:none;\">\n",
              "        \n",
              "  <svg xmlns=\"http://www.w3.org/2000/svg\" height=\"24px\"viewBox=\"0 0 24 24\"\n",
              "       width=\"24px\">\n",
              "    <path d=\"M0 0h24v24H0V0z\" fill=\"none\"/>\n",
              "    <path d=\"M18.56 5.44l.94 2.06.94-2.06 2.06-.94-2.06-.94-.94-2.06-.94 2.06-2.06.94zm-11 1L8.5 8.5l.94-2.06 2.06-.94-2.06-.94L8.5 2.5l-.94 2.06-2.06.94zm10 10l.94 2.06.94-2.06 2.06-.94-2.06-.94-.94-2.06-.94 2.06-2.06.94z\"/><path d=\"M17.41 7.96l-1.37-1.37c-.4-.4-.92-.59-1.43-.59-.52 0-1.04.2-1.43.59L10.3 9.45l-7.72 7.72c-.78.78-.78 2.05 0 2.83L4 21.41c.39.39.9.59 1.41.59.51 0 1.02-.2 1.41-.59l7.78-7.78 2.81-2.81c.8-.78.8-2.07 0-2.86zM5.41 20L4 18.59l7.72-7.72 1.47 1.35L5.41 20z\"/>\n",
              "  </svg>\n",
              "      </button>\n",
              "      \n",
              "  <style>\n",
              "    .colab-df-container {\n",
              "      display:flex;\n",
              "      flex-wrap:wrap;\n",
              "      gap: 12px;\n",
              "    }\n",
              "\n",
              "    .colab-df-convert {\n",
              "      background-color: #E8F0FE;\n",
              "      border: none;\n",
              "      border-radius: 50%;\n",
              "      cursor: pointer;\n",
              "      display: none;\n",
              "      fill: #1967D2;\n",
              "      height: 32px;\n",
              "      padding: 0 0 0 0;\n",
              "      width: 32px;\n",
              "    }\n",
              "\n",
              "    .colab-df-convert:hover {\n",
              "      background-color: #E2EBFA;\n",
              "      box-shadow: 0px 1px 2px rgba(60, 64, 67, 0.3), 0px 1px 3px 1px rgba(60, 64, 67, 0.15);\n",
              "      fill: #174EA6;\n",
              "    }\n",
              "\n",
              "    [theme=dark] .colab-df-convert {\n",
              "      background-color: #3B4455;\n",
              "      fill: #D2E3FC;\n",
              "    }\n",
              "\n",
              "    [theme=dark] .colab-df-convert:hover {\n",
              "      background-color: #434B5C;\n",
              "      box-shadow: 0px 1px 3px 1px rgba(0, 0, 0, 0.15);\n",
              "      filter: drop-shadow(0px 1px 2px rgba(0, 0, 0, 0.3));\n",
              "      fill: #FFFFFF;\n",
              "    }\n",
              "  </style>\n",
              "\n",
              "      <script>\n",
              "        const buttonEl =\n",
              "          document.querySelector('#df-675d4293-8ac4-4baa-99db-4cde70060923 button.colab-df-convert');\n",
              "        buttonEl.style.display =\n",
              "          google.colab.kernel.accessAllowed ? 'block' : 'none';\n",
              "\n",
              "        async function convertToInteractive(key) {\n",
              "          const element = document.querySelector('#df-675d4293-8ac4-4baa-99db-4cde70060923');\n",
              "          const dataTable =\n",
              "            await google.colab.kernel.invokeFunction('convertToInteractive',\n",
              "                                                     [key], {});\n",
              "          if (!dataTable) return;\n",
              "\n",
              "          const docLinkHtml = 'Like what you see? Visit the ' +\n",
              "            '<a target=\"_blank\" href=https://colab.research.google.com/notebooks/data_table.ipynb>data table notebook</a>'\n",
              "            + ' to learn more about interactive tables.';\n",
              "          element.innerHTML = '';\n",
              "          dataTable['output_type'] = 'display_data';\n",
              "          await google.colab.output.renderOutput(dataTable, element);\n",
              "          const docLink = document.createElement('div');\n",
              "          docLink.innerHTML = docLinkHtml;\n",
              "          element.appendChild(docLink);\n",
              "        }\n",
              "      </script>\n",
              "    </div>\n",
              "  </div>\n",
              "  "
            ]
          },
          "metadata": {},
          "execution_count": 223
        }
      ]
    },
    {
      "cell_type": "code",
      "source": [
        "q1testfeatureset4 = pd.merge(left = q1testfeatureset2[['EnglishIDF','sf_length','L_dist_sf_noaccents_norm']],right=q1test_vecs,how=\"left\",right_index=True, left_index=True)"
      ],
      "metadata": {
        "id": "wW3A4uSHNvko"
      },
      "execution_count": 224,
      "outputs": []
    },
    {
      "cell_type": "code",
      "source": [
        "q1testfeatureset4.shape"
      ],
      "metadata": {
        "outputId": "63291732-a377-45a0-cd99-e4e31b0bbeb2",
        "colab": {
          "base_uri": "https://localhost:8080/"
        },
        "id": "ogodpEzxNvko"
      },
      "execution_count": 225,
      "outputs": [
        {
          "output_type": "execute_result",
          "data": {
            "text/plain": [
              "(2776, 23)"
            ]
          },
          "metadata": {},
          "execution_count": 225
        }
      ]
    },
    {
      "cell_type": "markdown",
      "source": [
        "The columns needed for merging with lexemes for q1train_X: delta, lexeme_id, history_seen, history_frac, simoverdiff, \n",
        "\n",
        "The columns needed for q1train_y: p_forgot_bin\n"
      ],
      "metadata": {
        "id": "hCM8fURMNvko"
      }
    },
    {
      "cell_type": "code",
      "source": [
        "q1test_X = q1test[['lexeme_id','delta','history_seen','history_frac','simoverdiff',]]\n",
        "\n",
        "q1test_y = q1test['p_forgot_bin']"
      ],
      "metadata": {
        "id": "Ua2uc8phNvko"
      },
      "execution_count": 226,
      "outputs": []
    },
    {
      "cell_type": "code",
      "source": [
        "q1test_X.columns"
      ],
      "metadata": {
        "colab": {
          "base_uri": "https://localhost:8080/"
        },
        "outputId": "8ecf2e26-32f2-4511-dbb8-d0f1973d9315",
        "id": "UOr1VvtzNvko"
      },
      "execution_count": 227,
      "outputs": [
        {
          "output_type": "execute_result",
          "data": {
            "text/plain": [
              "Index(['lexeme_id', 'delta', 'history_seen', 'history_frac', 'simoverdiff'], dtype='object')"
            ]
          },
          "metadata": {},
          "execution_count": 227
        }
      ]
    },
    {
      "cell_type": "code",
      "source": [
        "q1test_X.isna().sum()"
      ],
      "metadata": {
        "colab": {
          "base_uri": "https://localhost:8080/"
        },
        "outputId": "a6533755-19fd-4274-bb07-e66894bb5aa9",
        "id": "0GH8AOsZNvko"
      },
      "execution_count": 228,
      "outputs": [
        {
          "output_type": "execute_result",
          "data": {
            "text/plain": [
              "lexeme_id       0\n",
              "delta           0\n",
              "history_seen    0\n",
              "history_frac    0\n",
              "simoverdiff     0\n",
              "dtype: int64"
            ]
          },
          "metadata": {},
          "execution_count": 228
        }
      ]
    },
    {
      "cell_type": "markdown",
      "source": [
        "All other non-numerical columns have been dropped. \n",
        "\n",
        "Merging q1train_X and q1trainfeatureset4"
      ],
      "metadata": {
        "id": "A7-kQDtVNvko"
      }
    },
    {
      "cell_type": "code",
      "source": [
        "q1test_X4 = pd.merge(left = q1train_X,right=q1trainfeatureset4,how=\"left\",left_on = 'lexeme_id',right_index=True)"
      ],
      "metadata": {
        "id": "CU1EhrNJNvkp"
      },
      "execution_count": 229,
      "outputs": []
    },
    {
      "cell_type": "code",
      "source": [
        "q1test_X4.shape"
      ],
      "metadata": {
        "outputId": "72e62e6a-df45-4435-fe67-609aacad2ccb",
        "colab": {
          "base_uri": "https://localhost:8080/"
        },
        "id": "u5PDqv51Nvkp"
      },
      "execution_count": 230,
      "outputs": [
        {
          "output_type": "execute_result",
          "data": {
            "text/plain": [
              "(8070561, 28)"
            ]
          },
          "metadata": {},
          "execution_count": 230
        }
      ]
    },
    {
      "cell_type": "code",
      "source": [
        "compressed_pickle(\"Q1TRAIN_pipe4\",q1train_X4)\n",
        "compressed_pickle(\"Q1TEST_pipe4\",q1test_X4)\n",
        "\n",
        "compressed_pickle(\"Q1TRAIN_Y_pipe4\",q1train_y)\n",
        "compressed_pickle(\"Q1TEST_Y_pipe4\",q1test_y)\n"
      ],
      "metadata": {
        "id": "LUT_HZ2pOAxX"
      },
      "execution_count": null,
      "outputs": []
    },
    {
      "cell_type": "code",
      "source": [
        "compressed_pickle(path_name+\"q1fs4_column_names\",q1trainfeatureset4.columns)"
      ],
      "metadata": {
        "id": "pwoR6KhvyaYF"
      },
      "execution_count": null,
      "outputs": []
    },
    {
      "cell_type": "markdown",
      "source": [
        "## <font color = 'cornflowerblue' size=4>Conclusions and Next Steps</font>\n",
        "\n",
        "Word based features have been joined to the Q1 train and test dataframes, and stored as compressed sparse matrices. \n",
        "\n",
        "scaling will be done before modeling. \n",
        "\n",
        "Next steps:\n",
        "\n",
        "For pipe1:\n",
        "\n",
        "Further split q1train_featureset1 into training and validation sets (90-10) split. \n",
        "\n",
        "1. Model with classical machine learning techniques\n",
        "- downsample or upsample or adjust class weight hyperparameter\n",
        "- logistic regression\n",
        "- decision tree\n",
        "- Naive Bayes classification\n",
        "- downsampled kNN\n",
        "- doensampled SVM\n",
        "\n",
        "2. Ensemble techniques\n",
        "- Random Forest\n",
        "- AdaBoost\n",
        "- XGBoost\n",
        "\n",
        "3. Neural net\n",
        "- Dense neural net. \n",
        "\n",
        "Model performance of pipe1 will be compared with validation set performance average precision and ROC AUC, with a baseline model with no word based features. \n",
        "\n"
      ],
      "metadata": {
        "id": "jNQSCoofsDWT"
      }
    },
    {
      "cell_type": "code",
      "source": [
        "q1train_X.columns"
      ],
      "metadata": {
        "colab": {
          "base_uri": "https://localhost:8080/"
        },
        "id": "mU-JuJP4wWR6",
        "outputId": "62a0df8c-86a0-4c52-d491-573738655fc3"
      },
      "execution_count": null,
      "outputs": [
        {
          "output_type": "execute_result",
          "data": {
            "text/plain": [
              "Index(['lexeme_id', 'delta', 'history_seen', 'history_frac', 'simoverdiff'], dtype='object')"
            ]
          },
          "metadata": {},
          "execution_count": 102
        }
      ]
    }
  ]
}