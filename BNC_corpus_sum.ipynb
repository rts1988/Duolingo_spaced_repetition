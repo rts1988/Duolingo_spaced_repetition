{
  "nbformat": 4,
  "nbformat_minor": 0,
  "metadata": {
    "colab": {
      "provenance": [],
      "authorship_tag": "ABX9TyMn4zqgrZWWLGoXb2qCOCbf",
      "include_colab_link": true
    },
    "kernelspec": {
      "display_name": "Python 3",
      "name": "python3"
    },
    "language_info": {
      "name": "python"
    }
  },
  "cells": [
    {
      "cell_type": "markdown",
      "metadata": {
        "id": "view-in-github",
        "colab_type": "text"
      },
      "source": [
        "<a href=\"https://colab.research.google.com/github/rts1988/Duolingo_spaced_repetition/blob/main/BNC_corpus_sum.ipynb\" target=\"_parent\"><img src=\"https://colab.research.google.com/assets/colab-badge.svg\" alt=\"Open In Colab\"/></a>"
      ]
    },
    {
      "cell_type": "markdown",
      "metadata": {
        "id": "WHLugZirCIyS"
      },
      "source": [
        "# BNC corpus combining from individual frequency dictionaries \n",
        "##Combine all the csv files into one, and calculate the document frequency of each word. \n",
        "## Also compute the frequency of the non-lemmatized forms of each word\n",
        "## Compare with Reuters idf dict"
      ]
    },
    {
      "cell_type": "code",
      "metadata": {
        "colab": {
          "base_uri": "https://localhost:8080/"
        },
        "id": "OSUjWjuFCCVF",
        "outputId": "cea256df-a959-4381-d823-a8209ad6964d"
      },
      "source": [
        "import os\n",
        "from google.colab import drive\n",
        "drive.mount('/content/drive/',force_remount=True)"
      ],
      "execution_count": null,
      "outputs": [
        {
          "output_type": "stream",
          "name": "stdout",
          "text": [
            "Mounted at /content/drive/\n"
          ]
        }
      ]
    },
    {
      "cell_type": "code",
      "metadata": {
        "id": "W8YObMmwC0gN"
      },
      "source": [
        "path = \"/content/drive/MyDrive/BNC_lemmafiles/\"\n",
        "os.chdir(path)\n",
        "fileids = os.listdir()\n",
        "\n",
        "def forms_freq(listforms):\n",
        "  forms_dict=dict()\n",
        "  for lf in listforms:\n",
        "    if lf in forms_dict:\n",
        "      forms_dict[lf] +=1\n",
        "    else:\n",
        "      forms_dict[lf] = 1\n",
        "  return [(k, v) for k, v in forms_dict.items()]"
      ],
      "execution_count": null,
      "outputs": []
    },
    {
      "cell_type": "code",
      "metadata": {
        "colab": {
          "base_uri": "https://localhost:8080/"
        },
        "id": "KGYv9BQ4q8Mt",
        "outputId": "d9d0adea-d027-4426-c485-9a071e13cc17"
      },
      "source": [
        "len(fileids)"
      ],
      "execution_count": null,
      "outputs": [
        {
          "output_type": "execute_result",
          "data": {
            "text/plain": [
              "4050"
            ]
          },
          "metadata": {},
          "execution_count": 4
        }
      ]
    },
    {
      "cell_type": "code",
      "metadata": {
        "id": "_VXGj_Syq-gv"
      },
      "source": [
        "import numpy as num\n",
        "fileidslist = [fileids[i:i+20] for i in num.arange(start=0,stop=len(fileids),step=20)]\n"
      ],
      "execution_count": null,
      "outputs": []
    },
    {
      "cell_type": "code",
      "source": [
        "len(fileidslist)"
      ],
      "metadata": {
        "id": "zALkQzwrmm3a",
        "outputId": "96ee9db2-ebd5-4860-e0cd-f8bc32d845b9",
        "colab": {
          "base_uri": "https://localhost:8080/"
        }
      },
      "execution_count": null,
      "outputs": [
        {
          "output_type": "execute_result",
          "data": {
            "text/plain": [
              "203"
            ]
          },
          "metadata": {},
          "execution_count": 5
        }
      ]
    },
    {
      "cell_type": "code",
      "metadata": {
        "id": "vaUvIaV9DHtN"
      },
      "source": [
        "import pandas as pd\n",
        "df = pd.read_csv('H_HU_HU1_count9459463_lemmacount.csv')"
      ],
      "execution_count": null,
      "outputs": []
    },
    {
      "cell_type": "code",
      "metadata": {
        "id": "sjBsc4PlEBVn"
      },
      "source": [
        "df['forms'] = df['forms'].apply(eval)\n",
        "df.columns = ['lemma','count','forms']\n",
        "df['forms_freq'] = df['forms'].apply(forms_freq)\n",
        "alldf = df.copy()\n",
        "alldf['doc_count'] = 1\n",
        "del alldf['forms']"
      ],
      "execution_count": null,
      "outputs": []
    },
    {
      "cell_type": "code",
      "metadata": {
        "colab": {
          "base_uri": "https://localhost:8080/",
          "height": 205
        },
        "id": "7Kj6_s6LXp5j",
        "outputId": "85e137d8-b689-41bc-c10b-ea4933fe8e57"
      },
      "source": [
        "alldf.head()\n",
        "#del alldf['forms']"
      ],
      "execution_count": null,
      "outputs": [
        {
          "data": {
            "text/html": [
              "<div>\n",
              "<style scoped>\n",
              "    .dataframe tbody tr th:only-of-type {\n",
              "        vertical-align: middle;\n",
              "    }\n",
              "\n",
              "    .dataframe tbody tr th {\n",
              "        vertical-align: top;\n",
              "    }\n",
              "\n",
              "    .dataframe thead th {\n",
              "        text-align: right;\n",
              "    }\n",
              "</style>\n",
              "<table border=\"1\" class=\"dataframe\">\n",
              "  <thead>\n",
              "    <tr style=\"text-align: right;\">\n",
              "      <th></th>\n",
              "      <th>lemma</th>\n",
              "      <th>count</th>\n",
              "      <th>forms_freq</th>\n",
              "      <th>doc_count</th>\n",
              "    </tr>\n",
              "  </thead>\n",
              "  <tbody>\n",
              "    <tr>\n",
              "      <th>0</th>\n",
              "      <td>the</td>\n",
              "      <td>1343</td>\n",
              "      <td>[(The, 204), (the, 1128), (THE, 11)]</td>\n",
              "      <td>1</td>\n",
              "    </tr>\n",
              "    <tr>\n",
              "      <th>1</th>\n",
              "      <td>1993</td>\n",
              "      <td>21</td>\n",
              "      <td>[(1993, 21)]</td>\n",
              "      <td>1</td>\n",
              "    </tr>\n",
              "    <tr>\n",
              "      <th>2</th>\n",
              "      <td>conference</td>\n",
              "      <td>28</td>\n",
              "      <td>[(Conference, 14), (conferences, 1), (conferen...</td>\n",
              "      <td>1</td>\n",
              "    </tr>\n",
              "    <tr>\n",
              "      <th>3</th>\n",
              "      <td>—</td>\n",
              "      <td>32</td>\n",
              "      <td>[(—, 32)]</td>\n",
              "      <td>1</td>\n",
              "    </tr>\n",
              "    <tr>\n",
              "      <th>4</th>\n",
              "      <td>peebles</td>\n",
              "      <td>8</td>\n",
              "      <td>[(Peebles, 8)]</td>\n",
              "      <td>1</td>\n",
              "    </tr>\n",
              "  </tbody>\n",
              "</table>\n",
              "</div>"
            ],
            "text/plain": [
              "        lemma  ...  doc_count\n",
              "0         the  ...          1\n",
              "1        1993  ...          1\n",
              "2  conference  ...          1\n",
              "3           —  ...          1\n",
              "4     peebles  ...          1\n",
              "\n",
              "[5 rows x 4 columns]"
            ]
          },
          "execution_count": 134,
          "metadata": {},
          "output_type": "execute_result"
        }
      ]
    },
    {
      "cell_type": "code",
      "metadata": {
        "colab": {
          "base_uri": "https://localhost:8080/",
          "height": 1000
        },
        "id": "OrbT-JtTU2z5",
        "outputId": "57fb1ba8-76b5-4719-f2d8-9dc42706acbf"
      },
      "source": [
        "count = 0\n",
        "for fileid in fileids[1:]:\n",
        "  print(fileid)\n",
        "  df = pd.read_csv(fileid)\n",
        "  df['forms'] = df['forms'].apply(eval)\n",
        "  df.columns = ['lemma','count','forms']\n",
        "  df['forms_freq'] = df['forms'].apply(forms_freq)\n",
        "  for i,row in df.iterrows():\n",
        "    subdf = alldf.loc[alldf['lemma']==row['lemma'],:]\n",
        "    if len(subdf)>0:\n",
        "      alldf.loc[alldf['lemma']==row['lemma'],'doc_count'] +=1\n",
        "      alldf.loc[alldf['lemma']==row['lemma'],'count'] = subdf['count'] + row['count']\n",
        "      \n",
        "      #allforms_freq = alldf.loc[alldf['lemma']==row['lemma'],'forms_freq']\n",
        "      allforms_dict = dict(zip([tup[0] for tup in row['forms_freq']],[tup[1] for tup in row['forms_freq']]))\n",
        "      newforms_freq = row['forms_freq']\n",
        "      newforms_dict = dict(zip([tup[0] for tup in newforms_freq],[tup[1] for tup in newforms_freq]))\n",
        "      allforms_keys = set([k for (k,v) in allforms_dict.items()])\n",
        "      newforms_keys = set([k for (k,v) in newforms_dict.items()])\n",
        "      common_keys = allforms_keys.intersection(newforms_keys)\n",
        "      new_keys = newforms_keys.difference(allforms_keys)\n",
        "      for ck in common_keys:\n",
        "        allforms_dict[ck] = allforms_dict[ck] + newforms_dict[ck]\n",
        "      for nk in new_keys:\n",
        "        allforms_dict[nk] = newforms_dict[nk]\n",
        "      alldf.loc[alldf['lemma']==row['lemma'],'forms_freq'].apply(lambda _:[(k,v) for (k,v) in allforms_dict.items()].copy())\n",
        "    else:\n",
        "      alldf = alldf.append({'lemma':row['lemma'],'count':row['count'],'forms_freq':row['forms_freq'],'doc_count':1},ignore_index=True)\n",
        "  count +=1\n",
        "  if count%10==0:\n",
        "    print('finished ',count)\n",
        "    \n",
        "\n",
        "      \n"
      ],
      "execution_count": null,
      "outputs": [
        {
          "name": "stdout",
          "output_type": "stream",
          "text": [
            "H_HU_HU2_count9469247_lemmacount.csv\n",
            "H_HU_HU3_count9479258_lemmacount.csv\n",
            "H_HU_HU4_count9489332_lemmacount.csv\n",
            "H_HU_HU5_count9491476_lemmacount.csv\n",
            "H_HU_HU6_count9492791_lemmacount.csv\n",
            "H_HU_HU7_count9494459_lemmacount.csv\n",
            "H_HU_HU8_count9496569_lemmacount.csv\n",
            "H_HU_HU9_count9499479_lemmacount.csv\n",
            "H_HU_HUA_count9501659_lemmacount.csv\n",
            "H_HU_HUB_count9504786_lemmacount.csv\n",
            "finished  10\n",
            "H_HU_HUC_count9506422_lemmacount.csv\n",
            "H_HU_HUD_count9507888_lemmacount.csv\n",
            "H_HU_HUE_count9509808_lemmacount.csv\n",
            "H_HU_HUF_count9510771_lemmacount.csv\n",
            "H_HU_HUG_count9511208_lemmacount.csv\n",
            "H_HU_HUH_count9512430_lemmacount.csv\n",
            "H_HU_HUJ_count9514143_lemmacount.csv\n",
            "H_HU_HUK_count9515791_lemmacount.csv\n",
            "H_HU_HUL_count9517301_lemmacount.csv\n",
            "H_HU_HUM_count9519029_lemmacount.csv\n",
            "finished  20\n",
            "H_HU_HUN_count9520746_lemmacount.csv\n",
            "H_HU_HUP_count9522140_lemmacount.csv\n",
            "H_HU_HUR_count9522495_lemmacount.csv\n",
            "H_HU_HUS_count9522850_lemmacount.csv\n",
            "H_HU_HUT_count9523770_lemmacount.csv\n",
            "H_HU_HUU_count9524696_lemmacount.csv\n",
            "H_HU_HUV_count9526341_lemmacount.csv\n",
            "H_HU_HUW_count9527758_lemmacount.csv\n",
            "H_HU_HUX_count9528704_lemmacount.csv\n",
            "H_HU_HUY_count9529732_lemmacount.csv\n",
            "finished  30\n",
            "H_HV_HV0_count9531448_lemmacount.csv\n",
            "H_HV_HV1_count9532309_lemmacount.csv\n",
            "H_HV_HV2_count9533197_lemmacount.csv\n",
            "H_HV_HV3_count9533888_lemmacount.csv\n",
            "H_HV_HV4_count9534211_lemmacount.csv\n",
            "H_HV_HV5_count9534822_lemmacount.csv\n",
            "H_HV_HV6_count9535462_lemmacount.csv\n",
            "H_HV_HV7_count9535855_lemmacount.csv\n",
            "H_HV_HV8_count9536147_lemmacount.csv\n",
            "H_HV_HV9_count9536868_lemmacount.csv\n",
            "finished  40\n",
            "H_HV_HVA_count9537135_lemmacount.csv\n",
            "H_HV_HVB_count9537506_lemmacount.csv\n",
            "H_HV_HVC_count9538352_lemmacount.csv\n",
            "H_HV_HVD_count9539201_lemmacount.csv\n",
            "H_HV_HVE_count9539833_lemmacount.csv\n",
            "H_HV_HVF_count9541567_lemmacount.csv\n",
            "H_HV_HVG_count9543045_lemmacount.csv\n",
            "H_HV_HVH_count9544836_lemmacount.csv\n",
            "H_HV_HVJ_count9546561_lemmacount.csv\n",
            "H_HV_HVK_count9548441_lemmacount.csv\n",
            "finished  50\n",
            "H_HW_HW8_count9553187_lemmacount.csv\n",
            "H_HW_HW9_count9555443_lemmacount.csv\n",
            "H_HW_HWA_count9560547_lemmacount.csv\n",
            "H_HW_HWB_count9564596_lemmacount.csv\n"
          ]
        },
        {
          "ename": "KeyboardInterrupt",
          "evalue": "ignored",
          "output_type": "error",
          "traceback": [
            "\u001b[0;31m---------------------------------------------------------------------------\u001b[0m",
            "\u001b[0;31mKeyboardInterrupt\u001b[0m                         Traceback (most recent call last)",
            "\u001b[0;32m<ipython-input-135-c73135c19efe>\u001b[0m in \u001b[0;36m<module>\u001b[0;34m()\u001b[0m\n\u001b[1;32m     10\u001b[0m     \u001b[0;32mif\u001b[0m \u001b[0mlen\u001b[0m\u001b[0;34m(\u001b[0m\u001b[0msubdf\u001b[0m\u001b[0;34m)\u001b[0m\u001b[0;34m>\u001b[0m\u001b[0;36m0\u001b[0m\u001b[0;34m:\u001b[0m\u001b[0;34m\u001b[0m\u001b[0;34m\u001b[0m\u001b[0m\n\u001b[1;32m     11\u001b[0m       \u001b[0malldf\u001b[0m\u001b[0;34m.\u001b[0m\u001b[0mloc\u001b[0m\u001b[0;34m[\u001b[0m\u001b[0malldf\u001b[0m\u001b[0;34m[\u001b[0m\u001b[0;34m'lemma'\u001b[0m\u001b[0;34m]\u001b[0m\u001b[0;34m==\u001b[0m\u001b[0mrow\u001b[0m\u001b[0;34m[\u001b[0m\u001b[0;34m'lemma'\u001b[0m\u001b[0;34m]\u001b[0m\u001b[0;34m,\u001b[0m\u001b[0;34m'doc_count'\u001b[0m\u001b[0;34m]\u001b[0m \u001b[0;34m+=\u001b[0m\u001b[0;36m1\u001b[0m\u001b[0;34m\u001b[0m\u001b[0;34m\u001b[0m\u001b[0m\n\u001b[0;32m---> 12\u001b[0;31m       \u001b[0malldf\u001b[0m\u001b[0;34m.\u001b[0m\u001b[0mloc\u001b[0m\u001b[0;34m[\u001b[0m\u001b[0malldf\u001b[0m\u001b[0;34m[\u001b[0m\u001b[0;34m'lemma'\u001b[0m\u001b[0;34m]\u001b[0m\u001b[0;34m==\u001b[0m\u001b[0mrow\u001b[0m\u001b[0;34m[\u001b[0m\u001b[0;34m'lemma'\u001b[0m\u001b[0;34m]\u001b[0m\u001b[0;34m,\u001b[0m\u001b[0;34m'count'\u001b[0m\u001b[0;34m]\u001b[0m \u001b[0;34m=\u001b[0m \u001b[0msubdf\u001b[0m\u001b[0;34m[\u001b[0m\u001b[0;34m'count'\u001b[0m\u001b[0;34m]\u001b[0m \u001b[0;34m+\u001b[0m \u001b[0mrow\u001b[0m\u001b[0;34m[\u001b[0m\u001b[0;34m'count'\u001b[0m\u001b[0;34m]\u001b[0m\u001b[0;34m\u001b[0m\u001b[0;34m\u001b[0m\u001b[0m\n\u001b[0m\u001b[1;32m     13\u001b[0m \u001b[0;34m\u001b[0m\u001b[0m\n\u001b[1;32m     14\u001b[0m       \u001b[0;31m#allforms_freq = alldf.loc[alldf['lemma']==row['lemma'],'forms_freq']\u001b[0m\u001b[0;34m\u001b[0m\u001b[0;34m\u001b[0m\u001b[0;34m\u001b[0m\u001b[0m\n",
            "\u001b[0;32m/usr/local/lib/python3.7/dist-packages/pandas/core/ops/common.py\u001b[0m in \u001b[0;36mnew_method\u001b[0;34m(self, other)\u001b[0m\n\u001b[1;32m     63\u001b[0m         \u001b[0mother\u001b[0m \u001b[0;34m=\u001b[0m \u001b[0mitem_from_zerodim\u001b[0m\u001b[0;34m(\u001b[0m\u001b[0mother\u001b[0m\u001b[0;34m)\u001b[0m\u001b[0;34m\u001b[0m\u001b[0;34m\u001b[0m\u001b[0m\n\u001b[1;32m     64\u001b[0m \u001b[0;34m\u001b[0m\u001b[0m\n\u001b[0;32m---> 65\u001b[0;31m         \u001b[0;32mreturn\u001b[0m \u001b[0mmethod\u001b[0m\u001b[0;34m(\u001b[0m\u001b[0mself\u001b[0m\u001b[0;34m,\u001b[0m \u001b[0mother\u001b[0m\u001b[0;34m)\u001b[0m\u001b[0;34m\u001b[0m\u001b[0;34m\u001b[0m\u001b[0m\n\u001b[0m\u001b[1;32m     66\u001b[0m \u001b[0;34m\u001b[0m\u001b[0m\n\u001b[1;32m     67\u001b[0m     \u001b[0;32mreturn\u001b[0m \u001b[0mnew_method\u001b[0m\u001b[0;34m\u001b[0m\u001b[0;34m\u001b[0m\u001b[0m\n",
            "\u001b[0;32m/usr/local/lib/python3.7/dist-packages/pandas/core/ops/__init__.py\u001b[0m in \u001b[0;36mwrapper\u001b[0;34m(self, other)\u001b[0m\n\u001b[1;32m    368\u001b[0m         \u001b[0mrvalues\u001b[0m \u001b[0;34m=\u001b[0m \u001b[0mextract_array\u001b[0m\u001b[0;34m(\u001b[0m\u001b[0mother\u001b[0m\u001b[0;34m,\u001b[0m \u001b[0mextract_numpy\u001b[0m\u001b[0;34m=\u001b[0m\u001b[0;32mTrue\u001b[0m\u001b[0;34m)\u001b[0m\u001b[0;34m\u001b[0m\u001b[0;34m\u001b[0m\u001b[0m\n\u001b[1;32m    369\u001b[0m \u001b[0;34m\u001b[0m\u001b[0m\n\u001b[0;32m--> 370\u001b[0;31m         \u001b[0mres_values\u001b[0m \u001b[0;34m=\u001b[0m \u001b[0mcomparison_op\u001b[0m\u001b[0;34m(\u001b[0m\u001b[0mlvalues\u001b[0m\u001b[0;34m,\u001b[0m \u001b[0mrvalues\u001b[0m\u001b[0;34m,\u001b[0m \u001b[0mop\u001b[0m\u001b[0;34m)\u001b[0m\u001b[0;34m\u001b[0m\u001b[0;34m\u001b[0m\u001b[0m\n\u001b[0m\u001b[1;32m    371\u001b[0m \u001b[0;34m\u001b[0m\u001b[0m\n\u001b[1;32m    372\u001b[0m         \u001b[0;32mreturn\u001b[0m \u001b[0mself\u001b[0m\u001b[0;34m.\u001b[0m\u001b[0m_construct_result\u001b[0m\u001b[0;34m(\u001b[0m\u001b[0mres_values\u001b[0m\u001b[0;34m,\u001b[0m \u001b[0mname\u001b[0m\u001b[0;34m=\u001b[0m\u001b[0mres_name\u001b[0m\u001b[0;34m)\u001b[0m\u001b[0;34m\u001b[0m\u001b[0;34m\u001b[0m\u001b[0m\n",
            "\u001b[0;32m/usr/local/lib/python3.7/dist-packages/pandas/core/ops/array_ops.py\u001b[0m in \u001b[0;36mcomparison_op\u001b[0;34m(left, right, op)\u001b[0m\n\u001b[1;32m    242\u001b[0m \u001b[0;34m\u001b[0m\u001b[0m\n\u001b[1;32m    243\u001b[0m     \u001b[0;32melif\u001b[0m \u001b[0mis_object_dtype\u001b[0m\u001b[0;34m(\u001b[0m\u001b[0mlvalues\u001b[0m\u001b[0;34m.\u001b[0m\u001b[0mdtype\u001b[0m\u001b[0;34m)\u001b[0m\u001b[0;34m:\u001b[0m\u001b[0;34m\u001b[0m\u001b[0;34m\u001b[0m\u001b[0m\n\u001b[0;32m--> 244\u001b[0;31m         \u001b[0mres_values\u001b[0m \u001b[0;34m=\u001b[0m \u001b[0mcomp_method_OBJECT_ARRAY\u001b[0m\u001b[0;34m(\u001b[0m\u001b[0mop\u001b[0m\u001b[0;34m,\u001b[0m \u001b[0mlvalues\u001b[0m\u001b[0;34m,\u001b[0m \u001b[0mrvalues\u001b[0m\u001b[0;34m)\u001b[0m\u001b[0;34m\u001b[0m\u001b[0;34m\u001b[0m\u001b[0m\n\u001b[0m\u001b[1;32m    245\u001b[0m \u001b[0;34m\u001b[0m\u001b[0m\n\u001b[1;32m    246\u001b[0m     \u001b[0;32melse\u001b[0m\u001b[0;34m:\u001b[0m\u001b[0;34m\u001b[0m\u001b[0;34m\u001b[0m\u001b[0m\n",
            "\u001b[0;32m/usr/local/lib/python3.7/dist-packages/pandas/core/ops/array_ops.py\u001b[0m in \u001b[0;36mcomp_method_OBJECT_ARRAY\u001b[0;34m(op, x, y)\u001b[0m\n\u001b[1;32m     54\u001b[0m         \u001b[0mresult\u001b[0m \u001b[0;34m=\u001b[0m \u001b[0mlibops\u001b[0m\u001b[0;34m.\u001b[0m\u001b[0mvec_compare\u001b[0m\u001b[0;34m(\u001b[0m\u001b[0mx\u001b[0m\u001b[0;34m.\u001b[0m\u001b[0mravel\u001b[0m\u001b[0;34m(\u001b[0m\u001b[0;34m)\u001b[0m\u001b[0;34m,\u001b[0m \u001b[0my\u001b[0m\u001b[0;34m.\u001b[0m\u001b[0mravel\u001b[0m\u001b[0;34m(\u001b[0m\u001b[0;34m)\u001b[0m\u001b[0;34m,\u001b[0m \u001b[0mop\u001b[0m\u001b[0;34m)\u001b[0m\u001b[0;34m\u001b[0m\u001b[0;34m\u001b[0m\u001b[0m\n\u001b[1;32m     55\u001b[0m     \u001b[0;32melse\u001b[0m\u001b[0;34m:\u001b[0m\u001b[0;34m\u001b[0m\u001b[0;34m\u001b[0m\u001b[0m\n\u001b[0;32m---> 56\u001b[0;31m         \u001b[0mresult\u001b[0m \u001b[0;34m=\u001b[0m \u001b[0mlibops\u001b[0m\u001b[0;34m.\u001b[0m\u001b[0mscalar_compare\u001b[0m\u001b[0;34m(\u001b[0m\u001b[0mx\u001b[0m\u001b[0;34m.\u001b[0m\u001b[0mravel\u001b[0m\u001b[0;34m(\u001b[0m\u001b[0;34m)\u001b[0m\u001b[0;34m,\u001b[0m \u001b[0my\u001b[0m\u001b[0;34m,\u001b[0m \u001b[0mop\u001b[0m\u001b[0;34m)\u001b[0m\u001b[0;34m\u001b[0m\u001b[0;34m\u001b[0m\u001b[0m\n\u001b[0m\u001b[1;32m     57\u001b[0m     \u001b[0;32mreturn\u001b[0m \u001b[0mresult\u001b[0m\u001b[0;34m.\u001b[0m\u001b[0mreshape\u001b[0m\u001b[0;34m(\u001b[0m\u001b[0mx\u001b[0m\u001b[0;34m.\u001b[0m\u001b[0mshape\u001b[0m\u001b[0;34m)\u001b[0m\u001b[0;34m\u001b[0m\u001b[0;34m\u001b[0m\u001b[0m\n\u001b[1;32m     58\u001b[0m \u001b[0;34m\u001b[0m\u001b[0m\n",
            "\u001b[0;31mKeyboardInterrupt\u001b[0m: "
          ]
        }
      ]
    },
    {
      "cell_type": "code",
      "metadata": {
        "colab": {
          "base_uri": "https://localhost:8080/"
        },
        "id": "ampoMw445GK2",
        "outputId": "14b6837d-5297-4c21-d18f-aade18592f95"
      },
      "source": [
        "fileids.index(fileid)"
      ],
      "execution_count": null,
      "outputs": [
        {
          "data": {
            "text/plain": [
              "708"
            ]
          },
          "execution_count": 128,
          "metadata": {},
          "output_type": "execute_result"
        }
      ]
    },
    {
      "cell_type": "code",
      "metadata": {
        "colab": {
          "base_uri": "https://localhost:8080/",
          "height": 17
        },
        "id": "hhTG3HPFVHhC",
        "outputId": "8a1f5a5d-894b-4163-cef6-0d2cdf4e4783"
      },
      "source": [
        "#dict(zip([tup[0] for tup in row['forms_freq']],[tup[1] for tup in row['forms_freq']]))\n",
        "alldf.to_csv('BNC_DICT.csv')\n",
        "from google.colab import files\n",
        "files.download('BNC_DICT.csv')"
      ],
      "execution_count": null,
      "outputs": [
        {
          "data": {
            "application/javascript": [
              "\n",
              "    async function download(id, filename, size) {\n",
              "      if (!google.colab.kernel.accessAllowed) {\n",
              "        return;\n",
              "      }\n",
              "      const div = document.createElement('div');\n",
              "      const label = document.createElement('label');\n",
              "      label.textContent = `Downloading \"${filename}\": `;\n",
              "      div.appendChild(label);\n",
              "      const progress = document.createElement('progress');\n",
              "      progress.max = size;\n",
              "      div.appendChild(progress);\n",
              "      document.body.appendChild(div);\n",
              "\n",
              "      const buffers = [];\n",
              "      let downloaded = 0;\n",
              "\n",
              "      const channel = await google.colab.kernel.comms.open(id);\n",
              "      // Send a message to notify the kernel that we're ready.\n",
              "      channel.send({})\n",
              "\n",
              "      for await (const message of channel.messages) {\n",
              "        // Send a message to notify the kernel that we're ready.\n",
              "        channel.send({})\n",
              "        if (message.buffers) {\n",
              "          for (const buffer of message.buffers) {\n",
              "            buffers.push(buffer);\n",
              "            downloaded += buffer.byteLength;\n",
              "            progress.value = downloaded;\n",
              "          }\n",
              "        }\n",
              "      }\n",
              "      const blob = new Blob(buffers, {type: 'application/binary'});\n",
              "      const a = document.createElement('a');\n",
              "      a.href = window.URL.createObjectURL(blob);\n",
              "      a.download = filename;\n",
              "      div.appendChild(a);\n",
              "      a.click();\n",
              "      div.remove();\n",
              "    }\n",
              "  "
            ],
            "text/plain": [
              "<IPython.core.display.Javascript object>"
            ]
          },
          "metadata": {},
          "output_type": "display_data"
        },
        {
          "data": {
            "application/javascript": [
              "download(\"download_2f313bbe-b60a-420b-9cff-2c19a32245f6\", \"BNC_DICT.csv\", 6877256)"
            ],
            "text/plain": [
              "<IPython.core.display.Javascript object>"
            ]
          },
          "metadata": {},
          "output_type": "display_data"
        }
      ]
    },
    {
      "cell_type": "markdown",
      "metadata": {
        "id": "OXZPvpqQCjTg"
      },
      "source": [
        "dnaq's answer on multiprocessing and queueing \n",
        "https://stackoverflow.com/questions/12538485/python-multiprocess-update-dictionary-synchronously"
      ]
    },
    {
      "cell_type": "code",
      "metadata": {
        "id": "ohY1CwZ0Z79S"
      },
      "source": [
        "# from multiprocessing.pool import ThreadPool as Pool\n",
        "# # from multiprocessing import Pool\n",
        "\n",
        "# pool_size = 5  # your \"parallelness\"\n",
        "\n",
        "# # define worker function before a Pool is instantiated\n",
        "# def worker(item):\n",
        "#     try:\n",
        "#         api.my_operation(item)\n",
        "#     except:\n",
        "#         print('error with item')\n",
        "\n",
        "# pool = Pool(pool_size)\n",
        "\n",
        "# for item in items:\n",
        "#     pool.apply_async(worker, (item,))\n",
        "\n",
        "# pool.close()\n",
        "# pool.join()\n",
        "import datetime\n",
        "\n",
        "\n",
        "\n",
        "import multiprocessing.pool\n",
        "concurrent = 20\n",
        "\n",
        "def run_repeatedly(item):\n",
        "  # doing something here\n",
        "  return item+'done'+str(datetime.datetime.now())\n",
        "\n",
        "\n",
        "def main():\n",
        "  stringlist = ['arati']*100 + ['vaibhav']*100 + ['shankar']*100\n",
        "\n",
        "  # a thread pool that implements the process pool API.\n",
        "  pool = multiprocessing.pool.ThreadPool(processes=concurrent)\n",
        "  return_list = pool.map(run_repeatedly, stringlist, chunksize=100)\n",
        "  pool.close()\n",
        "  for data in return_list:\n",
        "    print(data)\n",
        "  \n",
        "\n",
        "main()"
      ],
      "execution_count": null,
      "outputs": []
    },
    {
      "cell_type": "code",
      "metadata": {
        "id": "1VWVgWizh6v1"
      },
      "source": [
        "# each process will run this function\n",
        "import pandas as pd\n",
        "\n",
        "def forms_freq(listforms):\n",
        "  forms_dict=dict()\n",
        "  for lf in listforms:\n",
        "    if lf in forms_dict:\n",
        "      forms_dict[lf] +=1\n",
        "    else:\n",
        "      forms_dict[lf] = 1\n",
        "  return [(k, v) for k, v in forms_dict.items()]\n",
        "\n",
        "def combine(fileids):\n",
        "  #print(fileids)\n",
        "  \n",
        "  def combine_lists(serieslist):\n",
        "    alllist = []\n",
        "    for sl in serieslist:\n",
        "      alllist = alllist + sl\n",
        "    return alllist\n",
        "\n",
        "  count = 0\n",
        "  alldf = pd.DataFrame()\n",
        "  combineddf = pd.DataFrame()\n",
        "  for f in fileids:\n",
        "    try:\n",
        "      df = pd.read_csv(f)\n",
        "    except:\n",
        "      print('could not read ',f)\n",
        "    try:\n",
        "      df['forms'] = df['forms'].apply(eval)\n",
        "    except:\n",
        "      print('errored out on forms eval',f)\n",
        "    try:\n",
        "      df.columns = ['lemma','count','forms']\n",
        "    except:\n",
        "      print('errored out on column renaming',f)\n",
        "    try:\n",
        "      alldf = alldf.append(df,ignore_index=True)\n",
        "    except:\n",
        "      print('errored out on appending df to alldf',f)\n",
        "    count +=1\n",
        "    print('done file: ',f)\n",
        "  #print(len(alldf))\n",
        "  print('loaded all files, groupby operations starting')\n",
        "  try:\n",
        "    combineddf['lemma_count'] = alldf.groupby('lemma')['count'].sum()\n",
        "    combineddf['doc_count'] = alldf['lemma'].value_counts()\n",
        "    combineddf['allforms'] = alldf.groupby('lemma')['forms'].apply(combine_lists)\n",
        "    combineddf['formsfreq'] = combineddf['allforms'].apply(forms_freq)\n",
        "  except:\n",
        "    print('Erroring out on combining the dfs',fileids)\n",
        "  del combineddf['allforms'],alldf,df\n",
        "  combineddf = combineddf.reset_index()\n",
        "  print('Done chunk ',fileids[-1])\n",
        "  return combineddf"
      ],
      "execution_count": null,
      "outputs": []
    },
    {
      "cell_type": "code",
      "metadata": {
        "colab": {
          "base_uri": "https://localhost:8080/"
        },
        "id": "liUFRrUKDPi9",
        "outputId": "d0fb969b-0e94-443a-c291-af285ad90463"
      },
      "source": [
        "combineddf1 = combine(fileidslist[0])"
      ],
      "execution_count": null,
      "outputs": [
        {
          "output_type": "stream",
          "name": "stdout",
          "text": [
            "done file:  H_HU_HU2_count9469247_lemmacount.csv\n",
            "done file:  H_HU_HU3_count9479258_lemmacount.csv\n",
            "done file:  H_HU_HU4_count9489332_lemmacount.csv\n",
            "done file:  H_HU_HU5_count9491476_lemmacount.csv\n",
            "done file:  H_HU_HU6_count9492791_lemmacount.csv\n",
            "done file:  H_HU_HU7_count9494459_lemmacount.csv\n",
            "done file:  H_HU_HU8_count9496569_lemmacount.csv\n",
            "done file:  H_HU_HU9_count9499479_lemmacount.csv\n",
            "done file:  H_HU_HUA_count9501659_lemmacount.csv\n",
            "done file:  H_HU_HUB_count9504786_lemmacount.csv\n",
            "done file:  H_HU_HUC_count9506422_lemmacount.csv\n",
            "done file:  H_HU_HUD_count9507888_lemmacount.csv\n",
            "done file:  H_HU_HUE_count9509808_lemmacount.csv\n",
            "done file:  H_HU_HUF_count9510771_lemmacount.csv\n",
            "done file:  H_HU_HUG_count9511208_lemmacount.csv\n",
            "done file:  H_HU_HUH_count9512430_lemmacount.csv\n",
            "done file:  H_HU_HUJ_count9514143_lemmacount.csv\n",
            "done file:  H_HU_HUK_count9515791_lemmacount.csv\n",
            "done file:  H_HU_HUL_count9517301_lemmacount.csv\n",
            "done file:  H_HU_HUM_count9519029_lemmacount.csv\n",
            "loaded all files, groupby operations starting\n",
            "Done chunk  H_HU_HUM_count9519029_lemmacount.csv\n"
          ]
        }
      ]
    },
    {
      "cell_type": "code",
      "metadata": {
        "colab": {
          "base_uri": "https://localhost:8080/",
          "height": 422
        },
        "id": "9aHuw6hTDbFq",
        "outputId": "c259375d-df11-4d49-9827-ba4445fc0eac"
      },
      "source": [
        "combineddf1"
      ],
      "execution_count": null,
      "outputs": [
        {
          "output_type": "execute_result",
          "data": {
            "text/html": [
              "<div>\n",
              "<style scoped>\n",
              "    .dataframe tbody tr th:only-of-type {\n",
              "        vertical-align: middle;\n",
              "    }\n",
              "\n",
              "    .dataframe tbody tr th {\n",
              "        vertical-align: top;\n",
              "    }\n",
              "\n",
              "    .dataframe thead th {\n",
              "        text-align: right;\n",
              "    }\n",
              "</style>\n",
              "<table border=\"1\" class=\"dataframe\">\n",
              "  <thead>\n",
              "    <tr style=\"text-align: right;\">\n",
              "      <th></th>\n",
              "      <th>lemma</th>\n",
              "      <th>lemma_count</th>\n",
              "      <th>doc_count</th>\n",
              "      <th>formsfreq</th>\n",
              "    </tr>\n",
              "  </thead>\n",
              "  <tbody>\n",
              "    <tr>\n",
              "      <th>0</th>\n",
              "      <td>!</td>\n",
              "      <td>169</td>\n",
              "      <td>9</td>\n",
              "      <td>[(!, 169)]</td>\n",
              "    </tr>\n",
              "    <tr>\n",
              "      <th>1</th>\n",
              "      <td>$1,340</td>\n",
              "      <td>1</td>\n",
              "      <td>1</td>\n",
              "      <td>[($1,340, 1)]</td>\n",
              "    </tr>\n",
              "    <tr>\n",
              "      <th>2</th>\n",
              "      <td>$1099.00</td>\n",
              "      <td>1</td>\n",
              "      <td>1</td>\n",
              "      <td>[($1099.00, 1)]</td>\n",
              "    </tr>\n",
              "    <tr>\n",
              "      <th>3</th>\n",
              "      <td>$1148.00</td>\n",
              "      <td>1</td>\n",
              "      <td>1</td>\n",
              "      <td>[($1148.00, 1)]</td>\n",
              "    </tr>\n",
              "    <tr>\n",
              "      <th>4</th>\n",
              "      <td>$327</td>\n",
              "      <td>1</td>\n",
              "      <td>1</td>\n",
              "      <td>[($327, 1)]</td>\n",
              "    </tr>\n",
              "    <tr>\n",
              "      <th>...</th>\n",
              "      <td>...</td>\n",
              "      <td>...</td>\n",
              "      <td>...</td>\n",
              "      <td>...</td>\n",
              "    </tr>\n",
              "    <tr>\n",
              "      <th>25565</th>\n",
              "      <td>≤4</td>\n",
              "      <td>2</td>\n",
              "      <td>1</td>\n",
              "      <td>[(≤4, 2)]</td>\n",
              "    </tr>\n",
              "    <tr>\n",
              "      <th>25566</th>\n",
              "      <td>≤50000/mm</td>\n",
              "      <td>1</td>\n",
              "      <td>1</td>\n",
              "      <td>[(≤50000/mm, 1)]</td>\n",
              "    </tr>\n",
              "    <tr>\n",
              "      <th>25567</th>\n",
              "      <td>≤6</td>\n",
              "      <td>1</td>\n",
              "      <td>1</td>\n",
              "      <td>[(≤6, 1)]</td>\n",
              "    </tr>\n",
              "    <tr>\n",
              "      <th>25568</th>\n",
              "      <td>≤90%</td>\n",
              "      <td>1</td>\n",
              "      <td>1</td>\n",
              "      <td>[(≤90%, 1)]</td>\n",
              "    </tr>\n",
              "    <tr>\n",
              "      <th>25569</th>\n",
              "      <td>≥0.05</td>\n",
              "      <td>1</td>\n",
              "      <td>1</td>\n",
              "      <td>[(≥0.05, 1)]</td>\n",
              "    </tr>\n",
              "  </tbody>\n",
              "</table>\n",
              "<p>25570 rows × 4 columns</p>\n",
              "</div>"
            ],
            "text/plain": [
              "           lemma  lemma_count  doc_count         formsfreq\n",
              "0              !          169          9        [(!, 169)]\n",
              "1         $1,340            1          1     [($1,340, 1)]\n",
              "2       $1099.00            1          1   [($1099.00, 1)]\n",
              "3       $1148.00            1          1   [($1148.00, 1)]\n",
              "4           $327            1          1       [($327, 1)]\n",
              "...          ...          ...        ...               ...\n",
              "25565         ≤4            2          1         [(≤4, 2)]\n",
              "25566  ≤50000/mm            1          1  [(≤50000/mm, 1)]\n",
              "25567         ≤6            1          1         [(≤6, 1)]\n",
              "25568       ≤90%            1          1       [(≤90%, 1)]\n",
              "25569      ≥0.05            1          1      [(≥0.05, 1)]\n",
              "\n",
              "[25570 rows x 4 columns]"
            ]
          },
          "metadata": {},
          "execution_count": 18
        }
      ]
    },
    {
      "cell_type": "code",
      "metadata": {
        "id": "qVTiz4XiknSZ"
      },
      "source": [
        "import multiprocessing.pool\n",
        "concurrent = 203\n",
        "\n",
        "# def run_repeatedly(item):\n",
        "#   # doing something here\n",
        "#   return item+'done'+str(datetime.datetime.now())\n",
        "\n",
        "\n",
        "def main():\n",
        "\n",
        "  # a thread pool that implements the process pool API.\n",
        "  pool = multiprocessing.pool.ThreadPool(processes=concurrent)\n",
        "  return_list = pool.map(combine, fileidslist, chunksize=1)\n",
        "  pool.close()\n",
        "\n",
        "  combineddata = pd.DataFrame()\n",
        "  for data in return_list:\n",
        "    combineddata = combineddata.append(data,ignore_index=True)\n",
        "  return combineddata\n",
        "\n",
        "combineddata = main()\n",
        "combineddata.to_csv('BNC_dict20211024_2.csv')"
      ],
      "execution_count": null,
      "outputs": []
    },
    {
      "cell_type": "code",
      "metadata": {
        "id": "sarJeqD_HzP-"
      },
      "source": [
        "def combine_lists(serieslist):\n",
        "  alllist = []\n",
        "  for sl in serieslist:\n",
        "    alllist = alllist + sl\n",
        "  return alllist"
      ],
      "execution_count": null,
      "outputs": []
    },
    {
      "cell_type": "code",
      "metadata": {
        "colab": {
          "base_uri": "https://localhost:8080/",
          "height": 175
        },
        "id": "9J5huIvwxZC2",
        "outputId": "fcdefdab-e16d-4e89-be3f-ebeb2f54d44e"
      },
      "source": [
        "comb2round = pd.DataFrame()\n",
        "comb2round['lemma_count'] = combineddata.groupby('lemma')['lemma_count'].sum()\n",
        "comb2round['doc_count'] = combineddata.groupby('lemma')['doc_count'].sum()\n",
        "comb2round['formsfreq'] = combineddata.groupby('lemma')['formsfreq'].apply(combine_lists)\n",
        "comb2round.head(3)"
      ],
      "execution_count": null,
      "outputs": [
        {
          "output_type": "execute_result",
          "data": {
            "text/html": [
              "<div>\n",
              "<style scoped>\n",
              "    .dataframe tbody tr th:only-of-type {\n",
              "        vertical-align: middle;\n",
              "    }\n",
              "\n",
              "    .dataframe tbody tr th {\n",
              "        vertical-align: top;\n",
              "    }\n",
              "\n",
              "    .dataframe thead th {\n",
              "        text-align: right;\n",
              "    }\n",
              "</style>\n",
              "<table border=\"1\" class=\"dataframe\">\n",
              "  <thead>\n",
              "    <tr style=\"text-align: right;\">\n",
              "      <th></th>\n",
              "      <th>lemma_count</th>\n",
              "      <th>doc_count</th>\n",
              "      <th>formsfreq</th>\n",
              "    </tr>\n",
              "    <tr>\n",
              "      <th>lemma</th>\n",
              "      <th></th>\n",
              "      <th></th>\n",
              "      <th></th>\n",
              "    </tr>\n",
              "  </thead>\n",
              "  <tbody>\n",
              "    <tr>\n",
              "      <th>!</th>\n",
              "      <td>141559</td>\n",
              "      <td>2493</td>\n",
              "      <td>[(!, 169), (!, 3), (!, 414), (!, 784), (!, 158...</td>\n",
              "    </tr>\n",
              "    <tr>\n",
              "      <th>! $%;</th>\n",
              "      <td>1</td>\n",
              "      <td>1</td>\n",
              "      <td>[(! $%;, 1)]</td>\n",
              "    </tr>\n",
              "    <tr>\n",
              "      <th>\"</th>\n",
              "      <td>141554</td>\n",
              "      <td>368</td>\n",
              "      <td>[(\", 7537), (\", 7148), (\", 1), (\", 1834), (\", ...</td>\n",
              "    </tr>\n",
              "  </tbody>\n",
              "</table>\n",
              "</div>"
            ],
            "text/plain": [
              "       lemma_count  ...                                          formsfreq\n",
              "lemma               ...                                                   \n",
              "!           141559  ...  [(!, 169), (!, 3), (!, 414), (!, 784), (!, 158...\n",
              "! $%;            1  ...                                       [(! $%;, 1)]\n",
              "\"           141554  ...  [(\", 7537), (\", 7148), (\", 1), (\", 1834), (\", ...\n",
              "\n",
              "[3 rows x 3 columns]"
            ]
          },
          "metadata": {},
          "execution_count": 31
        }
      ]
    },
    {
      "cell_type": "code",
      "metadata": {
        "id": "g6pUBPloCfM-"
      },
      "source": [
        "def combformfreq(listseries):\n",
        "  listtup = combine_lists(listseries) \n",
        "  freqdict = dict()\n",
        "  for tup in listtup:\n",
        "    if tup[0] in freqdict:\n",
        "      freqdict[tup[0]] = freqdict[tup[0]] + tup[1]\n",
        "    else:\n",
        "      freqdict[tup[0]] = tup[1]\n",
        "  tuple_list = [(k,v) for (k,v) in freqdict.items()]\n",
        "  return tuple_list\n",
        "\n"
      ],
      "execution_count": null,
      "outputs": []
    },
    {
      "cell_type": "code",
      "metadata": {
        "id": "zLJiOReOLNKX"
      },
      "source": [
        "comb2round['formsfreq'] = combineddata.groupby('lemma')['formsfreq'].apply(combformfreq)"
      ],
      "execution_count": null,
      "outputs": []
    },
    {
      "cell_type": "code",
      "metadata": {
        "colab": {
          "base_uri": "https://localhost:8080/",
          "height": 393
        },
        "id": "XjnsmDXXLj9P",
        "outputId": "8bbd7437-8b84-45a0-8469-c38a0c454cc3"
      },
      "source": [
        "comb2round.head(10)"
      ],
      "execution_count": null,
      "outputs": [
        {
          "output_type": "execute_result",
          "data": {
            "text/html": [
              "<div>\n",
              "<style scoped>\n",
              "    .dataframe tbody tr th:only-of-type {\n",
              "        vertical-align: middle;\n",
              "    }\n",
              "\n",
              "    .dataframe tbody tr th {\n",
              "        vertical-align: top;\n",
              "    }\n",
              "\n",
              "    .dataframe thead th {\n",
              "        text-align: right;\n",
              "    }\n",
              "</style>\n",
              "<table border=\"1\" class=\"dataframe\">\n",
              "  <thead>\n",
              "    <tr style=\"text-align: right;\">\n",
              "      <th></th>\n",
              "      <th>lemma_count</th>\n",
              "      <th>doc_count</th>\n",
              "      <th>formsfreq</th>\n",
              "    </tr>\n",
              "    <tr>\n",
              "      <th>lemma</th>\n",
              "      <th></th>\n",
              "      <th></th>\n",
              "      <th></th>\n",
              "    </tr>\n",
              "  </thead>\n",
              "  <tbody>\n",
              "    <tr>\n",
              "      <th>!</th>\n",
              "      <td>141559</td>\n",
              "      <td>2493</td>\n",
              "      <td>[(!, 141559)]</td>\n",
              "    </tr>\n",
              "    <tr>\n",
              "      <th>! $%;</th>\n",
              "      <td>1</td>\n",
              "      <td>1</td>\n",
              "      <td>[(! $%;, 1)]</td>\n",
              "    </tr>\n",
              "    <tr>\n",
              "      <th>\"</th>\n",
              "      <td>141554</td>\n",
              "      <td>368</td>\n",
              "      <td>[(\", 141554)]</td>\n",
              "    </tr>\n",
              "    <tr>\n",
              "      <th>#</th>\n",
              "      <td>5</td>\n",
              "      <td>3</td>\n",
              "      <td>[(#, 5)]</td>\n",
              "    </tr>\n",
              "    <tr>\n",
              "      <th>#1</th>\n",
              "      <td>2</td>\n",
              "      <td>2</td>\n",
              "      <td>[(#1, 2)]</td>\n",
              "    </tr>\n",
              "    <tr>\n",
              "      <th>#150,000,000</th>\n",
              "      <td>1</td>\n",
              "      <td>1</td>\n",
              "      <td>[(#150,000,000, 1)]</td>\n",
              "    </tr>\n",
              "    <tr>\n",
              "      <th>#5</th>\n",
              "      <td>1</td>\n",
              "      <td>1</td>\n",
              "      <td>[(#5, 1)]</td>\n",
              "    </tr>\n",
              "    <tr>\n",
              "      <th>#6</th>\n",
              "      <td>1</td>\n",
              "      <td>1</td>\n",
              "      <td>[(#6, 1)]</td>\n",
              "    </tr>\n",
              "    <tr>\n",
              "      <th>#elected</th>\n",
              "      <td>1</td>\n",
              "      <td>1</td>\n",
              "      <td>[(#Elected, 1)]</td>\n",
              "    </tr>\n",
              "    <tr>\n",
              "      <th>#l</th>\n",
              "      <td>1</td>\n",
              "      <td>1</td>\n",
              "      <td>[(#l, 1)]</td>\n",
              "    </tr>\n",
              "  </tbody>\n",
              "</table>\n",
              "</div>"
            ],
            "text/plain": [
              "              lemma_count  doc_count            formsfreq\n",
              "lemma                                                    \n",
              "!                  141559       2493        [(!, 141559)]\n",
              "! $%;                   1          1         [(! $%;, 1)]\n",
              "\"                  141554        368        [(\", 141554)]\n",
              "#                       5          3             [(#, 5)]\n",
              "#1                      2          2            [(#1, 2)]\n",
              "#150,000,000            1          1  [(#150,000,000, 1)]\n",
              "#5                      1          1            [(#5, 1)]\n",
              "#6                      1          1            [(#6, 1)]\n",
              "#elected                1          1      [(#Elected, 1)]\n",
              "#l                      1          1            [(#l, 1)]"
            ]
          },
          "metadata": {},
          "execution_count": 34
        }
      ]
    },
    {
      "cell_type": "code",
      "metadata": {
        "id": "nMfcKIJ2MMSy"
      },
      "source": [
        "import math\n",
        "comb2round['IDF'] = comb2round['doc_count'].apply(lambda x: math.log(4045/(1 + x),2))"
      ],
      "execution_count": null,
      "outputs": []
    },
    {
      "cell_type": "code",
      "metadata": {
        "colab": {
          "base_uri": "https://localhost:8080/",
          "height": 705
        },
        "id": "R6hvmM2TM8r8",
        "outputId": "a4cd473d-5bfc-4fae-8a10-e8250f2ed183"
      },
      "source": [
        "comb2round.head(20)"
      ],
      "execution_count": null,
      "outputs": [
        {
          "output_type": "execute_result",
          "data": {
            "text/html": [
              "<div>\n",
              "<style scoped>\n",
              "    .dataframe tbody tr th:only-of-type {\n",
              "        vertical-align: middle;\n",
              "    }\n",
              "\n",
              "    .dataframe tbody tr th {\n",
              "        vertical-align: top;\n",
              "    }\n",
              "\n",
              "    .dataframe thead th {\n",
              "        text-align: right;\n",
              "    }\n",
              "</style>\n",
              "<table border=\"1\" class=\"dataframe\">\n",
              "  <thead>\n",
              "    <tr style=\"text-align: right;\">\n",
              "      <th></th>\n",
              "      <th>lemma_count</th>\n",
              "      <th>doc_count</th>\n",
              "      <th>formsfreq</th>\n",
              "      <th>IDF</th>\n",
              "    </tr>\n",
              "    <tr>\n",
              "      <th>lemma</th>\n",
              "      <th></th>\n",
              "      <th></th>\n",
              "      <th></th>\n",
              "      <th></th>\n",
              "    </tr>\n",
              "  </thead>\n",
              "  <tbody>\n",
              "    <tr>\n",
              "      <th>!</th>\n",
              "      <td>141559</td>\n",
              "      <td>2493</td>\n",
              "      <td>[(!, 141559)]</td>\n",
              "      <td>0.697678</td>\n",
              "    </tr>\n",
              "    <tr>\n",
              "      <th>! $%;</th>\n",
              "      <td>1</td>\n",
              "      <td>1</td>\n",
              "      <td>[(! $%;, 1)]</td>\n",
              "      <td>10.981924</td>\n",
              "    </tr>\n",
              "    <tr>\n",
              "      <th>\"</th>\n",
              "      <td>141554</td>\n",
              "      <td>368</td>\n",
              "      <td>[(\", 141554)]</td>\n",
              "      <td>3.454447</td>\n",
              "    </tr>\n",
              "    <tr>\n",
              "      <th>#</th>\n",
              "      <td>5</td>\n",
              "      <td>3</td>\n",
              "      <td>[(#, 5)]</td>\n",
              "      <td>9.981924</td>\n",
              "    </tr>\n",
              "    <tr>\n",
              "      <th>#1</th>\n",
              "      <td>2</td>\n",
              "      <td>2</td>\n",
              "      <td>[(#1, 2)]</td>\n",
              "      <td>10.396961</td>\n",
              "    </tr>\n",
              "    <tr>\n",
              "      <th>#150,000,000</th>\n",
              "      <td>1</td>\n",
              "      <td>1</td>\n",
              "      <td>[(#150,000,000, 1)]</td>\n",
              "      <td>10.981924</td>\n",
              "    </tr>\n",
              "    <tr>\n",
              "      <th>#5</th>\n",
              "      <td>1</td>\n",
              "      <td>1</td>\n",
              "      <td>[(#5, 1)]</td>\n",
              "      <td>10.981924</td>\n",
              "    </tr>\n",
              "    <tr>\n",
              "      <th>#6</th>\n",
              "      <td>1</td>\n",
              "      <td>1</td>\n",
              "      <td>[(#6, 1)]</td>\n",
              "      <td>10.981924</td>\n",
              "    </tr>\n",
              "    <tr>\n",
              "      <th>#elected</th>\n",
              "      <td>1</td>\n",
              "      <td>1</td>\n",
              "      <td>[(#Elected, 1)]</td>\n",
              "      <td>10.981924</td>\n",
              "    </tr>\n",
              "    <tr>\n",
              "      <th>#l</th>\n",
              "      <td>1</td>\n",
              "      <td>1</td>\n",
              "      <td>[(#l, 1)]</td>\n",
              "      <td>10.981924</td>\n",
              "    </tr>\n",
              "    <tr>\n",
              "      <th>$</th>\n",
              "      <td>280</td>\n",
              "      <td>53</td>\n",
              "      <td>[($, 280)]</td>\n",
              "      <td>6.227036</td>\n",
              "    </tr>\n",
              "    <tr>\n",
              "      <th>$$</th>\n",
              "      <td>2</td>\n",
              "      <td>2</td>\n",
              "      <td>[($$, 2)]</td>\n",
              "      <td>10.396961</td>\n",
              "    </tr>\n",
              "    <tr>\n",
              "      <th>$$176,131</th>\n",
              "      <td>1</td>\n",
              "      <td>1</td>\n",
              "      <td>[($$176,131, 1)]</td>\n",
              "      <td>10.981924</td>\n",
              "    </tr>\n",
              "    <tr>\n",
              "      <th>$$53.4m</th>\n",
              "      <td>1</td>\n",
              "      <td>1</td>\n",
              "      <td>[($$53.4m, 1)]</td>\n",
              "      <td>10.981924</td>\n",
              "    </tr>\n",
              "    <tr>\n",
              "      <th>$%;</th>\n",
              "      <td>2</td>\n",
              "      <td>2</td>\n",
              "      <td>[($%;, 2)]</td>\n",
              "      <td>10.396961</td>\n",
              "    </tr>\n",
              "    <tr>\n",
              "      <th>$'39.95;</th>\n",
              "      <td>1</td>\n",
              "      <td>1</td>\n",
              "      <td>[($'39.95;, 1)]</td>\n",
              "      <td>10.981924</td>\n",
              "    </tr>\n",
              "    <tr>\n",
              "      <th>$.1*75</th>\n",
              "      <td>1</td>\n",
              "      <td>1</td>\n",
              "      <td>[($.1*75, 1)]</td>\n",
              "      <td>10.981924</td>\n",
              "    </tr>\n",
              "    <tr>\n",
              "      <th>$.10</th>\n",
              "      <td>1</td>\n",
              "      <td>1</td>\n",
              "      <td>[($.10, 1)]</td>\n",
              "      <td>10.981924</td>\n",
              "    </tr>\n",
              "    <tr>\n",
              "      <th>$/dfl;</th>\n",
              "      <td>1</td>\n",
              "      <td>1</td>\n",
              "      <td>[($/DFL;, 1)]</td>\n",
              "      <td>10.981924</td>\n",
              "    </tr>\n",
              "    <tr>\n",
              "      <th>$/dm;</th>\n",
              "      <td>1</td>\n",
              "      <td>1</td>\n",
              "      <td>[($/DM;, 1)]</td>\n",
              "      <td>10.981924</td>\n",
              "    </tr>\n",
              "  </tbody>\n",
              "</table>\n",
              "</div>"
            ],
            "text/plain": [
              "              lemma_count  doc_count            formsfreq        IDF\n",
              "lemma                                                               \n",
              "!                  141559       2493        [(!, 141559)]   0.697678\n",
              "! $%;                   1          1         [(! $%;, 1)]  10.981924\n",
              "\"                  141554        368        [(\", 141554)]   3.454447\n",
              "#                       5          3             [(#, 5)]   9.981924\n",
              "#1                      2          2            [(#1, 2)]  10.396961\n",
              "#150,000,000            1          1  [(#150,000,000, 1)]  10.981924\n",
              "#5                      1          1            [(#5, 1)]  10.981924\n",
              "#6                      1          1            [(#6, 1)]  10.981924\n",
              "#elected                1          1      [(#Elected, 1)]  10.981924\n",
              "#l                      1          1            [(#l, 1)]  10.981924\n",
              "$                     280         53           [($, 280)]   6.227036\n",
              "$$                      2          2            [($$, 2)]  10.396961\n",
              "$$176,131               1          1     [($$176,131, 1)]  10.981924\n",
              "$$53.4m                 1          1       [($$53.4m, 1)]  10.981924\n",
              "$%;                     2          2           [($%;, 2)]  10.396961\n",
              "$'39.95;                1          1      [($'39.95;, 1)]  10.981924\n",
              "$.1*75                  1          1        [($.1*75, 1)]  10.981924\n",
              "$.10                    1          1          [($.10, 1)]  10.981924\n",
              "$/dfl;                  1          1        [($/DFL;, 1)]  10.981924\n",
              "$/dm;                   1          1         [($/DM;, 1)]  10.981924"
            ]
          },
          "metadata": {},
          "execution_count": 40
        }
      ]
    },
    {
      "cell_type": "code",
      "metadata": {
        "id": "0Rz_b8U3NNML"
      },
      "source": [
        "filename = 'BNC_IDFdict.csv'\n",
        "comb2round.to_csv(filename)\n"
      ],
      "execution_count": null,
      "outputs": []
    },
    {
      "cell_type": "code",
      "metadata": {
        "colab": {
          "base_uri": "https://localhost:8080/"
        },
        "id": "ujEMSPT1NaBe",
        "outputId": "d7a1e8bd-18ff-415b-ca17-ed4ab02ce179"
      },
      "source": [],
      "execution_count": null,
      "outputs": [
        {
          "output_type": "execute_result",
          "data": {
            "text/plain": [
              "lemma_count                                    539\n",
              "doc_count                                       82\n",
              "formsfreq      [(Beth, 535), (BETH, 2), (beth, 2)]\n",
              "IDF                                        5.60688\n",
              "Name: beth, dtype: object"
            ]
          },
          "metadata": {},
          "execution_count": 50
        }
      ]
    },
    {
      "cell_type": "code",
      "metadata": {
        "colab": {
          "base_uri": "https://localhost:8080/"
        },
        "id": "BhUnEfOwNyLq",
        "outputId": "f4df4339-3081-4fd2-cce9-732c655a3fb9"
      },
      "source": [
        "math.log(4045,2)"
      ],
      "execution_count": null,
      "outputs": [
        {
          "output_type": "execute_result",
          "data": {
            "text/plain": [
              "11.98192398731734"
            ]
          },
          "metadata": {},
          "execution_count": 49
        }
      ]
    },
    {
      "cell_type": "code",
      "metadata": {
        "colab": {
          "base_uri": "https://localhost:8080/",
          "height": 414
        },
        "id": "Psr6vGXXnY_F",
        "outputId": "f2654b70-4bfb-4cfe-fd83-2bc3c43dbb4f"
      },
      "source": [
        "%%time\n",
        "combineddf = combine(fileids)"
      ],
      "execution_count": null,
      "outputs": [
        {
          "name": "stdout",
          "output_type": "stream",
          "text": [
            "100 docs done\n",
            "200 docs done\n"
          ]
        },
        {
          "ename": "KeyboardInterrupt",
          "evalue": "ignored",
          "output_type": "error",
          "traceback": [
            "\u001b[0;31m---------------------------------------------------------------------------\u001b[0m",
            "\u001b[0;31mKeyboardInterrupt\u001b[0m                         Traceback (most recent call last)",
            "\u001b[0;32m<ipython-input-6-35603ecc07ac>\u001b[0m in \u001b[0;36m<module>\u001b[0;34m()\u001b[0m\n\u001b[0;32m----> 1\u001b[0;31m \u001b[0mget_ipython\u001b[0m\u001b[0;34m(\u001b[0m\u001b[0;34m)\u001b[0m\u001b[0;34m.\u001b[0m\u001b[0mrun_cell_magic\u001b[0m\u001b[0;34m(\u001b[0m\u001b[0;34m'time'\u001b[0m\u001b[0;34m,\u001b[0m \u001b[0;34m''\u001b[0m\u001b[0;34m,\u001b[0m \u001b[0;34m'combineddf = combine(fileids)'\u001b[0m\u001b[0;34m)\u001b[0m\u001b[0;34m\u001b[0m\u001b[0;34m\u001b[0m\u001b[0m\n\u001b[0m",
            "\u001b[0;32m/usr/local/lib/python3.7/dist-packages/IPython/core/interactiveshell.py\u001b[0m in \u001b[0;36mrun_cell_magic\u001b[0;34m(self, magic_name, line, cell)\u001b[0m\n\u001b[1;32m   2115\u001b[0m             \u001b[0mmagic_arg_s\u001b[0m \u001b[0;34m=\u001b[0m \u001b[0mself\u001b[0m\u001b[0;34m.\u001b[0m\u001b[0mvar_expand\u001b[0m\u001b[0;34m(\u001b[0m\u001b[0mline\u001b[0m\u001b[0;34m,\u001b[0m \u001b[0mstack_depth\u001b[0m\u001b[0;34m)\u001b[0m\u001b[0;34m\u001b[0m\u001b[0;34m\u001b[0m\u001b[0m\n\u001b[1;32m   2116\u001b[0m             \u001b[0;32mwith\u001b[0m \u001b[0mself\u001b[0m\u001b[0;34m.\u001b[0m\u001b[0mbuiltin_trap\u001b[0m\u001b[0;34m:\u001b[0m\u001b[0;34m\u001b[0m\u001b[0;34m\u001b[0m\u001b[0m\n\u001b[0;32m-> 2117\u001b[0;31m                 \u001b[0mresult\u001b[0m \u001b[0;34m=\u001b[0m \u001b[0mfn\u001b[0m\u001b[0;34m(\u001b[0m\u001b[0mmagic_arg_s\u001b[0m\u001b[0;34m,\u001b[0m \u001b[0mcell\u001b[0m\u001b[0;34m)\u001b[0m\u001b[0;34m\u001b[0m\u001b[0;34m\u001b[0m\u001b[0m\n\u001b[0m\u001b[1;32m   2118\u001b[0m             \u001b[0;32mreturn\u001b[0m \u001b[0mresult\u001b[0m\u001b[0;34m\u001b[0m\u001b[0;34m\u001b[0m\u001b[0m\n\u001b[1;32m   2119\u001b[0m \u001b[0;34m\u001b[0m\u001b[0m\n",
            "\u001b[0;32m<decorator-gen-53>\u001b[0m in \u001b[0;36mtime\u001b[0;34m(self, line, cell, local_ns)\u001b[0m\n",
            "\u001b[0;32m/usr/local/lib/python3.7/dist-packages/IPython/core/magic.py\u001b[0m in \u001b[0;36m<lambda>\u001b[0;34m(f, *a, **k)\u001b[0m\n\u001b[1;32m    186\u001b[0m     \u001b[0;31m# but it's overkill for just that one bit of state.\u001b[0m\u001b[0;34m\u001b[0m\u001b[0;34m\u001b[0m\u001b[0;34m\u001b[0m\u001b[0m\n\u001b[1;32m    187\u001b[0m     \u001b[0;32mdef\u001b[0m \u001b[0mmagic_deco\u001b[0m\u001b[0;34m(\u001b[0m\u001b[0marg\u001b[0m\u001b[0;34m)\u001b[0m\u001b[0;34m:\u001b[0m\u001b[0;34m\u001b[0m\u001b[0;34m\u001b[0m\u001b[0m\n\u001b[0;32m--> 188\u001b[0;31m         \u001b[0mcall\u001b[0m \u001b[0;34m=\u001b[0m \u001b[0;32mlambda\u001b[0m \u001b[0mf\u001b[0m\u001b[0;34m,\u001b[0m \u001b[0;34m*\u001b[0m\u001b[0ma\u001b[0m\u001b[0;34m,\u001b[0m \u001b[0;34m**\u001b[0m\u001b[0mk\u001b[0m\u001b[0;34m:\u001b[0m \u001b[0mf\u001b[0m\u001b[0;34m(\u001b[0m\u001b[0;34m*\u001b[0m\u001b[0ma\u001b[0m\u001b[0;34m,\u001b[0m \u001b[0;34m**\u001b[0m\u001b[0mk\u001b[0m\u001b[0;34m)\u001b[0m\u001b[0;34m\u001b[0m\u001b[0;34m\u001b[0m\u001b[0m\n\u001b[0m\u001b[1;32m    189\u001b[0m \u001b[0;34m\u001b[0m\u001b[0m\n\u001b[1;32m    190\u001b[0m         \u001b[0;32mif\u001b[0m \u001b[0mcallable\u001b[0m\u001b[0;34m(\u001b[0m\u001b[0marg\u001b[0m\u001b[0;34m)\u001b[0m\u001b[0;34m:\u001b[0m\u001b[0;34m\u001b[0m\u001b[0;34m\u001b[0m\u001b[0m\n",
            "\u001b[0;32m/usr/local/lib/python3.7/dist-packages/IPython/core/magics/execution.py\u001b[0m in \u001b[0;36mtime\u001b[0;34m(self, line, cell, local_ns)\u001b[0m\n\u001b[1;32m   1191\u001b[0m         \u001b[0;32melse\u001b[0m\u001b[0;34m:\u001b[0m\u001b[0;34m\u001b[0m\u001b[0;34m\u001b[0m\u001b[0m\n\u001b[1;32m   1192\u001b[0m             \u001b[0mst\u001b[0m \u001b[0;34m=\u001b[0m \u001b[0mclock2\u001b[0m\u001b[0;34m(\u001b[0m\u001b[0;34m)\u001b[0m\u001b[0;34m\u001b[0m\u001b[0;34m\u001b[0m\u001b[0m\n\u001b[0;32m-> 1193\u001b[0;31m             \u001b[0mexec\u001b[0m\u001b[0;34m(\u001b[0m\u001b[0mcode\u001b[0m\u001b[0;34m,\u001b[0m \u001b[0mglob\u001b[0m\u001b[0;34m,\u001b[0m \u001b[0mlocal_ns\u001b[0m\u001b[0;34m)\u001b[0m\u001b[0;34m\u001b[0m\u001b[0;34m\u001b[0m\u001b[0m\n\u001b[0m\u001b[1;32m   1194\u001b[0m             \u001b[0mend\u001b[0m \u001b[0;34m=\u001b[0m \u001b[0mclock2\u001b[0m\u001b[0;34m(\u001b[0m\u001b[0;34m)\u001b[0m\u001b[0;34m\u001b[0m\u001b[0;34m\u001b[0m\u001b[0m\n\u001b[1;32m   1195\u001b[0m             \u001b[0mout\u001b[0m \u001b[0;34m=\u001b[0m \u001b[0;32mNone\u001b[0m\u001b[0;34m\u001b[0m\u001b[0;34m\u001b[0m\u001b[0m\n",
            "\u001b[0;32m<timed exec>\u001b[0m in \u001b[0;36m<module>\u001b[0;34m()\u001b[0m\n",
            "\u001b[0;32m<ipython-input-5-b8fcad6a66bd>\u001b[0m in \u001b[0;36mcombine\u001b[0;34m(fileids)\u001b[0m\n\u001b[1;32m     28\u001b[0m     \u001b[0mdf\u001b[0m\u001b[0;34m[\u001b[0m\u001b[0;34m'forms'\u001b[0m\u001b[0;34m]\u001b[0m \u001b[0;34m=\u001b[0m \u001b[0mdf\u001b[0m\u001b[0;34m[\u001b[0m\u001b[0;34m'forms'\u001b[0m\u001b[0;34m]\u001b[0m\u001b[0;34m.\u001b[0m\u001b[0mapply\u001b[0m\u001b[0;34m(\u001b[0m\u001b[0meval\u001b[0m\u001b[0;34m)\u001b[0m\u001b[0;34m\u001b[0m\u001b[0;34m\u001b[0m\u001b[0m\n\u001b[1;32m     29\u001b[0m     \u001b[0mdf\u001b[0m\u001b[0;34m.\u001b[0m\u001b[0mcolumns\u001b[0m \u001b[0;34m=\u001b[0m \u001b[0;34m[\u001b[0m\u001b[0;34m'lemma'\u001b[0m\u001b[0;34m,\u001b[0m\u001b[0;34m'count'\u001b[0m\u001b[0;34m,\u001b[0m\u001b[0;34m'forms'\u001b[0m\u001b[0;34m]\u001b[0m\u001b[0;34m\u001b[0m\u001b[0;34m\u001b[0m\u001b[0m\n\u001b[0;32m---> 30\u001b[0;31m     \u001b[0malldf\u001b[0m \u001b[0;34m=\u001b[0m \u001b[0malldf\u001b[0m\u001b[0;34m.\u001b[0m\u001b[0mappend\u001b[0m\u001b[0;34m(\u001b[0m\u001b[0mdf\u001b[0m\u001b[0;34m,\u001b[0m\u001b[0mignore_index\u001b[0m\u001b[0;34m=\u001b[0m\u001b[0;32mTrue\u001b[0m\u001b[0;34m)\u001b[0m\u001b[0;34m\u001b[0m\u001b[0;34m\u001b[0m\u001b[0m\n\u001b[0m\u001b[1;32m     31\u001b[0m     \u001b[0mcount\u001b[0m \u001b[0;34m+=\u001b[0m\u001b[0;36m1\u001b[0m\u001b[0;34m\u001b[0m\u001b[0;34m\u001b[0m\u001b[0m\n\u001b[1;32m     32\u001b[0m     \u001b[0;32mif\u001b[0m \u001b[0mcount\u001b[0m\u001b[0;34m%\u001b[0m\u001b[0;36m100\u001b[0m\u001b[0;34m==\u001b[0m\u001b[0;36m0\u001b[0m\u001b[0;34m:\u001b[0m\u001b[0;34m\u001b[0m\u001b[0;34m\u001b[0m\u001b[0m\n",
            "\u001b[0;32m/usr/local/lib/python3.7/dist-packages/pandas/core/frame.py\u001b[0m in \u001b[0;36mappend\u001b[0;34m(self, other, ignore_index, verify_integrity, sort)\u001b[0m\n\u001b[1;32m   7749\u001b[0m             \u001b[0mignore_index\u001b[0m\u001b[0;34m=\u001b[0m\u001b[0mignore_index\u001b[0m\u001b[0;34m,\u001b[0m\u001b[0;34m\u001b[0m\u001b[0;34m\u001b[0m\u001b[0m\n\u001b[1;32m   7750\u001b[0m             \u001b[0mverify_integrity\u001b[0m\u001b[0;34m=\u001b[0m\u001b[0mverify_integrity\u001b[0m\u001b[0;34m,\u001b[0m\u001b[0;34m\u001b[0m\u001b[0;34m\u001b[0m\u001b[0m\n\u001b[0;32m-> 7751\u001b[0;31m             \u001b[0msort\u001b[0m\u001b[0;34m=\u001b[0m\u001b[0msort\u001b[0m\u001b[0;34m,\u001b[0m\u001b[0;34m\u001b[0m\u001b[0;34m\u001b[0m\u001b[0m\n\u001b[0m\u001b[1;32m   7752\u001b[0m         )\n\u001b[1;32m   7753\u001b[0m \u001b[0;34m\u001b[0m\u001b[0m\n",
            "\u001b[0;32m/usr/local/lib/python3.7/dist-packages/pandas/core/reshape/concat.py\u001b[0m in \u001b[0;36mconcat\u001b[0;34m(objs, axis, join, ignore_index, keys, levels, names, verify_integrity, sort, copy)\u001b[0m\n\u001b[1;32m    285\u001b[0m     )\n\u001b[1;32m    286\u001b[0m \u001b[0;34m\u001b[0m\u001b[0m\n\u001b[0;32m--> 287\u001b[0;31m     \u001b[0;32mreturn\u001b[0m \u001b[0mop\u001b[0m\u001b[0;34m.\u001b[0m\u001b[0mget_result\u001b[0m\u001b[0;34m(\u001b[0m\u001b[0;34m)\u001b[0m\u001b[0;34m\u001b[0m\u001b[0;34m\u001b[0m\u001b[0m\n\u001b[0m\u001b[1;32m    288\u001b[0m \u001b[0;34m\u001b[0m\u001b[0m\n\u001b[1;32m    289\u001b[0m \u001b[0;34m\u001b[0m\u001b[0m\n",
            "\u001b[0;32m/usr/local/lib/python3.7/dist-packages/pandas/core/reshape/concat.py\u001b[0m in \u001b[0;36mget_result\u001b[0;34m(self)\u001b[0m\n\u001b[1;32m    501\u001b[0m \u001b[0;34m\u001b[0m\u001b[0m\n\u001b[1;32m    502\u001b[0m             new_data = concatenate_block_managers(\n\u001b[0;32m--> 503\u001b[0;31m                 \u001b[0mmgrs_indexers\u001b[0m\u001b[0;34m,\u001b[0m \u001b[0mself\u001b[0m\u001b[0;34m.\u001b[0m\u001b[0mnew_axes\u001b[0m\u001b[0;34m,\u001b[0m \u001b[0mconcat_axis\u001b[0m\u001b[0;34m=\u001b[0m\u001b[0mself\u001b[0m\u001b[0;34m.\u001b[0m\u001b[0mbm_axis\u001b[0m\u001b[0;34m,\u001b[0m \u001b[0mcopy\u001b[0m\u001b[0;34m=\u001b[0m\u001b[0mself\u001b[0m\u001b[0;34m.\u001b[0m\u001b[0mcopy\u001b[0m\u001b[0;34m,\u001b[0m\u001b[0;34m\u001b[0m\u001b[0;34m\u001b[0m\u001b[0m\n\u001b[0m\u001b[1;32m    504\u001b[0m             )\n\u001b[1;32m    505\u001b[0m             \u001b[0;32mif\u001b[0m \u001b[0;32mnot\u001b[0m \u001b[0mself\u001b[0m\u001b[0;34m.\u001b[0m\u001b[0mcopy\u001b[0m\u001b[0;34m:\u001b[0m\u001b[0;34m\u001b[0m\u001b[0;34m\u001b[0m\u001b[0m\n",
            "\u001b[0;32m/usr/local/lib/python3.7/dist-packages/pandas/core/internals/concat.py\u001b[0m in \u001b[0;36mconcatenate_block_managers\u001b[0;34m(mgrs_indexers, axes, concat_axis, copy)\u001b[0m\n\u001b[1;32m     77\u001b[0m         \u001b[0;32melse\u001b[0m\u001b[0;34m:\u001b[0m\u001b[0;34m\u001b[0m\u001b[0;34m\u001b[0m\u001b[0m\n\u001b[1;32m     78\u001b[0m             b = make_block(\n\u001b[0;32m---> 79\u001b[0;31m                 \u001b[0m_concatenate_join_units\u001b[0m\u001b[0;34m(\u001b[0m\u001b[0mjoin_units\u001b[0m\u001b[0;34m,\u001b[0m \u001b[0mconcat_axis\u001b[0m\u001b[0;34m,\u001b[0m \u001b[0mcopy\u001b[0m\u001b[0;34m=\u001b[0m\u001b[0mcopy\u001b[0m\u001b[0;34m,\u001b[0m\u001b[0;34m)\u001b[0m\u001b[0;34m,\u001b[0m\u001b[0;34m\u001b[0m\u001b[0;34m\u001b[0m\u001b[0m\n\u001b[0m\u001b[1;32m     80\u001b[0m                 \u001b[0mplacement\u001b[0m\u001b[0;34m=\u001b[0m\u001b[0mplacement\u001b[0m\u001b[0;34m,\u001b[0m\u001b[0;34m\u001b[0m\u001b[0;34m\u001b[0m\u001b[0m\n\u001b[1;32m     81\u001b[0m             )\n",
            "\u001b[0;32m/usr/local/lib/python3.7/dist-packages/pandas/core/internals/concat.py\u001b[0m in \u001b[0;36m_concatenate_join_units\u001b[0;34m(join_units, concat_axis, copy)\u001b[0m\n\u001b[1;32m    316\u001b[0m     to_concat = [\n\u001b[1;32m    317\u001b[0m         \u001b[0mju\u001b[0m\u001b[0;34m.\u001b[0m\u001b[0mget_reindexed_values\u001b[0m\u001b[0;34m(\u001b[0m\u001b[0mempty_dtype\u001b[0m\u001b[0;34m=\u001b[0m\u001b[0mempty_dtype\u001b[0m\u001b[0;34m,\u001b[0m \u001b[0mupcasted_na\u001b[0m\u001b[0;34m=\u001b[0m\u001b[0mupcasted_na\u001b[0m\u001b[0;34m)\u001b[0m\u001b[0;34m\u001b[0m\u001b[0;34m\u001b[0m\u001b[0m\n\u001b[0;32m--> 318\u001b[0;31m         \u001b[0;32mfor\u001b[0m \u001b[0mju\u001b[0m \u001b[0;32min\u001b[0m \u001b[0mjoin_units\u001b[0m\u001b[0;34m\u001b[0m\u001b[0;34m\u001b[0m\u001b[0m\n\u001b[0m\u001b[1;32m    319\u001b[0m     ]\n\u001b[1;32m    320\u001b[0m \u001b[0;34m\u001b[0m\u001b[0m\n",
            "\u001b[0;32m/usr/local/lib/python3.7/dist-packages/pandas/core/internals/concat.py\u001b[0m in \u001b[0;36m<listcomp>\u001b[0;34m(.0)\u001b[0m\n\u001b[1;32m    316\u001b[0m     to_concat = [\n\u001b[1;32m    317\u001b[0m         \u001b[0mju\u001b[0m\u001b[0;34m.\u001b[0m\u001b[0mget_reindexed_values\u001b[0m\u001b[0;34m(\u001b[0m\u001b[0mempty_dtype\u001b[0m\u001b[0;34m=\u001b[0m\u001b[0mempty_dtype\u001b[0m\u001b[0;34m,\u001b[0m \u001b[0mupcasted_na\u001b[0m\u001b[0;34m=\u001b[0m\u001b[0mupcasted_na\u001b[0m\u001b[0;34m)\u001b[0m\u001b[0;34m\u001b[0m\u001b[0;34m\u001b[0m\u001b[0m\n\u001b[0;32m--> 318\u001b[0;31m         \u001b[0;32mfor\u001b[0m \u001b[0mju\u001b[0m \u001b[0;32min\u001b[0m \u001b[0mjoin_units\u001b[0m\u001b[0;34m\u001b[0m\u001b[0;34m\u001b[0m\u001b[0m\n\u001b[0m\u001b[1;32m    319\u001b[0m     ]\n\u001b[1;32m    320\u001b[0m \u001b[0;34m\u001b[0m\u001b[0m\n",
            "\u001b[0;32m/usr/local/lib/python3.7/dist-packages/pandas/core/internals/concat.py\u001b[0m in \u001b[0;36mget_reindexed_values\u001b[0;34m(self, empty_dtype, upcasted_na)\u001b[0m\n\u001b[1;32m    299\u001b[0m         \u001b[0;32melse\u001b[0m\u001b[0;34m:\u001b[0m\u001b[0;34m\u001b[0m\u001b[0;34m\u001b[0m\u001b[0m\n\u001b[1;32m    300\u001b[0m             \u001b[0;32mfor\u001b[0m \u001b[0max\u001b[0m\u001b[0;34m,\u001b[0m \u001b[0mindexer\u001b[0m \u001b[0;32min\u001b[0m \u001b[0mself\u001b[0m\u001b[0;34m.\u001b[0m\u001b[0mindexers\u001b[0m\u001b[0;34m.\u001b[0m\u001b[0mitems\u001b[0m\u001b[0;34m(\u001b[0m\u001b[0;34m)\u001b[0m\u001b[0;34m:\u001b[0m\u001b[0;34m\u001b[0m\u001b[0;34m\u001b[0m\u001b[0m\n\u001b[0;32m--> 301\u001b[0;31m                 \u001b[0mvalues\u001b[0m \u001b[0;34m=\u001b[0m \u001b[0malgos\u001b[0m\u001b[0;34m.\u001b[0m\u001b[0mtake_nd\u001b[0m\u001b[0;34m(\u001b[0m\u001b[0mvalues\u001b[0m\u001b[0;34m,\u001b[0m \u001b[0mindexer\u001b[0m\u001b[0;34m,\u001b[0m \u001b[0maxis\u001b[0m\u001b[0;34m=\u001b[0m\u001b[0max\u001b[0m\u001b[0;34m,\u001b[0m \u001b[0mfill_value\u001b[0m\u001b[0;34m=\u001b[0m\u001b[0mfill_value\u001b[0m\u001b[0;34m)\u001b[0m\u001b[0;34m\u001b[0m\u001b[0;34m\u001b[0m\u001b[0m\n\u001b[0m\u001b[1;32m    302\u001b[0m \u001b[0;34m\u001b[0m\u001b[0m\n\u001b[1;32m    303\u001b[0m         \u001b[0;32mreturn\u001b[0m \u001b[0mvalues\u001b[0m\u001b[0;34m\u001b[0m\u001b[0;34m\u001b[0m\u001b[0m\n",
            "\u001b[0;32m/usr/local/lib/python3.7/dist-packages/pandas/core/algorithms.py\u001b[0m in \u001b[0;36mtake_nd\u001b[0;34m(arr, indexer, axis, out, fill_value, allow_fill)\u001b[0m\n\u001b[1;32m   1730\u001b[0m             \u001b[0mout\u001b[0m \u001b[0;34m=\u001b[0m \u001b[0mnp\u001b[0m\u001b[0;34m.\u001b[0m\u001b[0mempty\u001b[0m\u001b[0;34m(\u001b[0m\u001b[0mout_shape\u001b[0m\u001b[0;34m,\u001b[0m \u001b[0mdtype\u001b[0m\u001b[0;34m=\u001b[0m\u001b[0mdtype\u001b[0m\u001b[0;34m,\u001b[0m \u001b[0morder\u001b[0m\u001b[0;34m=\u001b[0m\u001b[0;34m\"F\"\u001b[0m\u001b[0;34m)\u001b[0m\u001b[0;34m\u001b[0m\u001b[0;34m\u001b[0m\u001b[0m\n\u001b[1;32m   1731\u001b[0m         \u001b[0;32melse\u001b[0m\u001b[0;34m:\u001b[0m\u001b[0;34m\u001b[0m\u001b[0;34m\u001b[0m\u001b[0m\n\u001b[0;32m-> 1732\u001b[0;31m             \u001b[0mout\u001b[0m \u001b[0;34m=\u001b[0m \u001b[0mnp\u001b[0m\u001b[0;34m.\u001b[0m\u001b[0mempty\u001b[0m\u001b[0;34m(\u001b[0m\u001b[0mout_shape\u001b[0m\u001b[0;34m,\u001b[0m \u001b[0mdtype\u001b[0m\u001b[0;34m=\u001b[0m\u001b[0mdtype\u001b[0m\u001b[0;34m)\u001b[0m\u001b[0;34m\u001b[0m\u001b[0;34m\u001b[0m\u001b[0m\n\u001b[0m\u001b[1;32m   1733\u001b[0m \u001b[0;34m\u001b[0m\u001b[0m\n\u001b[1;32m   1734\u001b[0m     func = _get_take_nd_function(\n",
            "\u001b[0;31mKeyboardInterrupt\u001b[0m: "
          ]
        }
      ]
    }
  ]
}