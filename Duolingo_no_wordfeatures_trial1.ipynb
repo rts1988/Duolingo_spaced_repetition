{
  "nbformat": 4,
  "nbformat_minor": 0,
  "metadata": {
    "colab": {
      "name": "Duolingo_no_wordfeatures_trial1.ipynb",
      "provenance": [],
      "collapsed_sections": [],
      "machine_shape": "hm",
      "background_execution": "on",
      "authorship_tag": "ABX9TyPVyYzaJqnNa2trmM8AjCJP",
      "include_colab_link": true
    },
    "kernelspec": {
      "name": "python3",
      "display_name": "Python 3"
    },
    "language_info": {
      "name": "python"
    },
    "gpuClass": "standard"
  },
  "cells": [
    {
      "cell_type": "markdown",
      "metadata": {
        "id": "view-in-github",
        "colab_type": "text"
      },
      "source": [
        "<a href=\"https://colab.research.google.com/github/rts1988/Duolingo_spaced_repetition/blob/main/Duolingo_no_wordfeatures_trial1.ipynb\" target=\"_parent\"><img src=\"https://colab.research.google.com/assets/colab-badge.svg\" alt=\"Open In Colab\"/></a>"
      ]
    },
    {
      "cell_type": "markdown",
      "source": [
        "We will first get a baseline for how far we are able to get with features not including anything about the words. \n",
        "\n",
        "\n",
        "\n",
        "1. Trial 1: just the delta, history correct, history seen, p_forgot_bin, ui language dummies, and learning language dummies. - this notebook. \n",
        "\n",
        "The dataset (training+val) would have ~7 mill records, with 11 variables. Target variable is p_forgot_bin. \n",
        "\n",
        "We have the rest still available to act as test set (6 mill records)\n",
        "\n",
        "Split 80-20 training and validation. \n",
        "We will first cross validate 10 fold, and then test on our 'validation set'. (Test set is after adding word features, here we are getting baselines, so we know how much the word features help.)\n",
        "\n",
        "We will try both the std scaler, and the min max scaler. \n",
        "\n",
        "We will try the following models:\n",
        "\n",
        "1. logistic regression L2, with different class weights and regularization strength parameter hyperparameter tuning. (since it is a very imbalanced dataset).\n",
        "3. decision tree with hyperparameters max_depth, class_weight, random_state should be fixed in case of ties. \n",
        "4. SVM with different solvers (linear and radial) - try downsampling, mostly down and a little up and so on. \n",
        "5. kNN with different k, keeping reasonable run times. - different metrics\n",
        "6. Random forest clasifier, play with random states, also cross-validate\n",
        "7. VotingClassifier - with perhaps the better performing classic models.\n",
        "\n"
      ],
      "metadata": {
        "id": "GqhPj2HiuhG7"
      }
    },
    {
      "cell_type": "code",
      "execution_count": 3,
      "metadata": {
        "colab": {
          "base_uri": "https://localhost:8080/"
        },
        "id": "PfCflkVSsxjM",
        "outputId": "8e6b2ed4-725c-4b0e-92a8-abed3069e986"
      },
      "outputs": [
        {
          "output_type": "stream",
          "name": "stdout",
          "text": [
            "Mounted at /content/drive\n"
          ]
        }
      ],
      "source": [
        "import bz2\n",
        "import pickle\n",
        "import _pickle as cPickle\n",
        "import pandas as pd\n",
        "import seaborn as sns\n",
        "import matplotlib.pyplot as plt\n",
        "import numpy as np\n",
        "\n",
        "from google.colab import drive\n",
        "drive.mount('/content/drive')\n",
        "\n",
        "def decompress_pickle(file):\n",
        " data = bz2.BZ2File(file, 'rb')\n",
        " data = cPickle.load(data)\n",
        " return data\n",
        "\n",
        "def compressed_pickle(title, data):  # do not add extension in filename\n",
        " with bz2.BZ2File(title + '.pbz2', 'w') as f: \n",
        "  cPickle.dump(data, f)\n",
        "\n",
        "path_name = '/content/drive/MyDrive/'"
      ]
    },
    {
      "cell_type": "code",
      "source": [
        "q1df1 = decompress_pickle(path_name+\"q1_fulldataset_wordsonly.pbz2\")"
      ],
      "metadata": {
        "id": "KlJNu6pas9Pm"
      },
      "execution_count": 4,
      "outputs": []
    },
    {
      "cell_type": "code",
      "source": [
        "q1df1.head()"
      ],
      "metadata": {
        "colab": {
          "base_uri": "https://localhost:8080/",
          "height": 250
        },
        "id": "x-t3sEkEucqh",
        "outputId": "053e46ae-e09d-450a-c3b6-8ec5f3f40e38"
      },
      "execution_count": 5,
      "outputs": [
        {
          "output_type": "execute_result",
          "data": {
            "text/plain": [
              "      delta  history_seen  history_correct  p_forgot_bin  LL__en  LL__es  \\\n",
              "7    444407             3                3             0       0       1   \n",
              "15       77             5                5             0       0       1   \n",
              "20  1634777             9                8             0       0       1   \n",
              "21  1708699             7                5             0       0       1   \n",
              "22  1708699             8                8             0       0       1   \n",
              "\n",
              "    LL__fr  LL__it  LL__pt  UIL__en  UIL__es  UIL__pt  \n",
              "7        0       0       0        1        0        0  \n",
              "15       0       0       0        1        0        0  \n",
              "20       0       0       0        1        0        0  \n",
              "21       0       0       0        1        0        0  \n",
              "22       0       0       0        1        0        0  "
            ],
            "text/html": [
              "\n",
              "  <div id=\"df-3364627f-e53d-4eaf-8cdf-f885416464c3\">\n",
              "    <div class=\"colab-df-container\">\n",
              "      <div>\n",
              "<style scoped>\n",
              "    .dataframe tbody tr th:only-of-type {\n",
              "        vertical-align: middle;\n",
              "    }\n",
              "\n",
              "    .dataframe tbody tr th {\n",
              "        vertical-align: top;\n",
              "    }\n",
              "\n",
              "    .dataframe thead th {\n",
              "        text-align: right;\n",
              "    }\n",
              "</style>\n",
              "<table border=\"1\" class=\"dataframe\">\n",
              "  <thead>\n",
              "    <tr style=\"text-align: right;\">\n",
              "      <th></th>\n",
              "      <th>delta</th>\n",
              "      <th>history_seen</th>\n",
              "      <th>history_correct</th>\n",
              "      <th>p_forgot_bin</th>\n",
              "      <th>LL__en</th>\n",
              "      <th>LL__es</th>\n",
              "      <th>LL__fr</th>\n",
              "      <th>LL__it</th>\n",
              "      <th>LL__pt</th>\n",
              "      <th>UIL__en</th>\n",
              "      <th>UIL__es</th>\n",
              "      <th>UIL__pt</th>\n",
              "    </tr>\n",
              "  </thead>\n",
              "  <tbody>\n",
              "    <tr>\n",
              "      <th>7</th>\n",
              "      <td>444407</td>\n",
              "      <td>3</td>\n",
              "      <td>3</td>\n",
              "      <td>0</td>\n",
              "      <td>0</td>\n",
              "      <td>1</td>\n",
              "      <td>0</td>\n",
              "      <td>0</td>\n",
              "      <td>0</td>\n",
              "      <td>1</td>\n",
              "      <td>0</td>\n",
              "      <td>0</td>\n",
              "    </tr>\n",
              "    <tr>\n",
              "      <th>15</th>\n",
              "      <td>77</td>\n",
              "      <td>5</td>\n",
              "      <td>5</td>\n",
              "      <td>0</td>\n",
              "      <td>0</td>\n",
              "      <td>1</td>\n",
              "      <td>0</td>\n",
              "      <td>0</td>\n",
              "      <td>0</td>\n",
              "      <td>1</td>\n",
              "      <td>0</td>\n",
              "      <td>0</td>\n",
              "    </tr>\n",
              "    <tr>\n",
              "      <th>20</th>\n",
              "      <td>1634777</td>\n",
              "      <td>9</td>\n",
              "      <td>8</td>\n",
              "      <td>0</td>\n",
              "      <td>0</td>\n",
              "      <td>1</td>\n",
              "      <td>0</td>\n",
              "      <td>0</td>\n",
              "      <td>0</td>\n",
              "      <td>1</td>\n",
              "      <td>0</td>\n",
              "      <td>0</td>\n",
              "    </tr>\n",
              "    <tr>\n",
              "      <th>21</th>\n",
              "      <td>1708699</td>\n",
              "      <td>7</td>\n",
              "      <td>5</td>\n",
              "      <td>0</td>\n",
              "      <td>0</td>\n",
              "      <td>1</td>\n",
              "      <td>0</td>\n",
              "      <td>0</td>\n",
              "      <td>0</td>\n",
              "      <td>1</td>\n",
              "      <td>0</td>\n",
              "      <td>0</td>\n",
              "    </tr>\n",
              "    <tr>\n",
              "      <th>22</th>\n",
              "      <td>1708699</td>\n",
              "      <td>8</td>\n",
              "      <td>8</td>\n",
              "      <td>0</td>\n",
              "      <td>0</td>\n",
              "      <td>1</td>\n",
              "      <td>0</td>\n",
              "      <td>0</td>\n",
              "      <td>0</td>\n",
              "      <td>1</td>\n",
              "      <td>0</td>\n",
              "      <td>0</td>\n",
              "    </tr>\n",
              "  </tbody>\n",
              "</table>\n",
              "</div>\n",
              "      <button class=\"colab-df-convert\" onclick=\"convertToInteractive('df-3364627f-e53d-4eaf-8cdf-f885416464c3')\"\n",
              "              title=\"Convert this dataframe to an interactive table.\"\n",
              "              style=\"display:none;\">\n",
              "        \n",
              "  <svg xmlns=\"http://www.w3.org/2000/svg\" height=\"24px\"viewBox=\"0 0 24 24\"\n",
              "       width=\"24px\">\n",
              "    <path d=\"M0 0h24v24H0V0z\" fill=\"none\"/>\n",
              "    <path d=\"M18.56 5.44l.94 2.06.94-2.06 2.06-.94-2.06-.94-.94-2.06-.94 2.06-2.06.94zm-11 1L8.5 8.5l.94-2.06 2.06-.94-2.06-.94L8.5 2.5l-.94 2.06-2.06.94zm10 10l.94 2.06.94-2.06 2.06-.94-2.06-.94-.94-2.06-.94 2.06-2.06.94z\"/><path d=\"M17.41 7.96l-1.37-1.37c-.4-.4-.92-.59-1.43-.59-.52 0-1.04.2-1.43.59L10.3 9.45l-7.72 7.72c-.78.78-.78 2.05 0 2.83L4 21.41c.39.39.9.59 1.41.59.51 0 1.02-.2 1.41-.59l7.78-7.78 2.81-2.81c.8-.78.8-2.07 0-2.86zM5.41 20L4 18.59l7.72-7.72 1.47 1.35L5.41 20z\"/>\n",
              "  </svg>\n",
              "      </button>\n",
              "      \n",
              "  <style>\n",
              "    .colab-df-container {\n",
              "      display:flex;\n",
              "      flex-wrap:wrap;\n",
              "      gap: 12px;\n",
              "    }\n",
              "\n",
              "    .colab-df-convert {\n",
              "      background-color: #E8F0FE;\n",
              "      border: none;\n",
              "      border-radius: 50%;\n",
              "      cursor: pointer;\n",
              "      display: none;\n",
              "      fill: #1967D2;\n",
              "      height: 32px;\n",
              "      padding: 0 0 0 0;\n",
              "      width: 32px;\n",
              "    }\n",
              "\n",
              "    .colab-df-convert:hover {\n",
              "      background-color: #E2EBFA;\n",
              "      box-shadow: 0px 1px 2px rgba(60, 64, 67, 0.3), 0px 1px 3px 1px rgba(60, 64, 67, 0.15);\n",
              "      fill: #174EA6;\n",
              "    }\n",
              "\n",
              "    [theme=dark] .colab-df-convert {\n",
              "      background-color: #3B4455;\n",
              "      fill: #D2E3FC;\n",
              "    }\n",
              "\n",
              "    [theme=dark] .colab-df-convert:hover {\n",
              "      background-color: #434B5C;\n",
              "      box-shadow: 0px 1px 3px 1px rgba(0, 0, 0, 0.15);\n",
              "      filter: drop-shadow(0px 1px 2px rgba(0, 0, 0, 0.3));\n",
              "      fill: #FFFFFF;\n",
              "    }\n",
              "  </style>\n",
              "\n",
              "      <script>\n",
              "        const buttonEl =\n",
              "          document.querySelector('#df-3364627f-e53d-4eaf-8cdf-f885416464c3 button.colab-df-convert');\n",
              "        buttonEl.style.display =\n",
              "          google.colab.kernel.accessAllowed ? 'block' : 'none';\n",
              "\n",
              "        async function convertToInteractive(key) {\n",
              "          const element = document.querySelector('#df-3364627f-e53d-4eaf-8cdf-f885416464c3');\n",
              "          const dataTable =\n",
              "            await google.colab.kernel.invokeFunction('convertToInteractive',\n",
              "                                                     [key], {});\n",
              "          if (!dataTable) return;\n",
              "\n",
              "          const docLinkHtml = 'Like what you see? Visit the ' +\n",
              "            '<a target=\"_blank\" href=https://colab.research.google.com/notebooks/data_table.ipynb>data table notebook</a>'\n",
              "            + ' to learn more about interactive tables.';\n",
              "          element.innerHTML = '';\n",
              "          dataTable['output_type'] = 'display_data';\n",
              "          await google.colab.output.renderOutput(dataTable, element);\n",
              "          const docLink = document.createElement('div');\n",
              "          docLink.innerHTML = docLinkHtml;\n",
              "          element.appendChild(docLink);\n",
              "        }\n",
              "      </script>\n",
              "    </div>\n",
              "  </div>\n",
              "  "
            ]
          },
          "metadata": {},
          "execution_count": 5
        }
      ]
    },
    {
      "cell_type": "markdown",
      "source": [
        "Checking the target variable value proportions:"
      ],
      "metadata": {
        "id": "jWqbcoFRy8hI"
      }
    },
    {
      "cell_type": "code",
      "source": [
        "q1df1['p_forgot_bin'].value_counts(normalize=True)"
      ],
      "metadata": {
        "colab": {
          "base_uri": "https://localhost:8080/"
        },
        "id": "T8y6po2CyyAP",
        "outputId": "2c5e1658-99d1-4a3e-e86c-147a77a0cca9"
      },
      "execution_count": 6,
      "outputs": [
        {
          "output_type": "execute_result",
          "data": {
            "text/plain": [
              "0    0.838854\n",
              "1    0.161146\n",
              "Name: p_forgot_bin, dtype: float64"
            ]
          },
          "metadata": {},
          "execution_count": 6
        }
      ]
    },
    {
      "cell_type": "markdown",
      "source": [
        "Only 16% of the dataset are 0.16."
      ],
      "metadata": {
        "id": "28xNLq6UzGs3"
      }
    },
    {
      "cell_type": "markdown",
      "source": [
        "Splitting the dataset. 80-20 ratio. \n",
        "\n",
        "We will upsample/downsample adjust class weights based on the models."
      ],
      "metadata": {
        "id": "uhSgAODJ0ADJ"
      }
    },
    {
      "cell_type": "code",
      "source": [
        "from sklearn.model_selection import train_test_split\n",
        "\n",
        "X = q1df1.drop('p_forgot_bin',axis=1)\n",
        "y = q1df1['p_forgot_bin']\n",
        "\n",
        "X_train_unscaled,X_test_unscaled,y_train,y_test = train_test_split(X,y,test_size=0.2,stratify = q1df1['p_forgot_bin'],random_state=1)"
      ],
      "metadata": {
        "id": "EoR7GQynzkwu"
      },
      "execution_count": 7,
      "outputs": []
    },
    {
      "cell_type": "code",
      "source": [
        "y_train.value_counts(normalize=True), y_test.value_counts(normalize=True)"
      ],
      "metadata": {
        "colab": {
          "base_uri": "https://localhost:8080/"
        },
        "id": "b-A3hO8N01Sj",
        "outputId": "3d234706-50b1-4d11-f4fb-8cc20c2354ce"
      },
      "execution_count": 8,
      "outputs": [
        {
          "output_type": "execute_result",
          "data": {
            "text/plain": [
              "(0    0.838854\n",
              " 1    0.161146\n",
              " Name: p_forgot_bin, dtype: float64, 0    0.838854\n",
              " 1    0.161146\n",
              " Name: p_forgot_bin, dtype: float64)"
            ]
          },
          "metadata": {},
          "execution_count": 8
        }
      ]
    },
    {
      "cell_type": "markdown",
      "source": [
        "The datasets are stratified so the porportions are about the same. "
      ],
      "metadata": {
        "id": "SxO6FywY0-qp"
      }
    },
    {
      "cell_type": "markdown",
      "source": [
        "### 1. Logistic Regression with L2 regulatization\n",
        "\n"
      ],
      "metadata": {
        "id": "6HVN1iN_yt_Z"
      }
    },
    {
      "cell_type": "code",
      "source": [
        "from sklearn.preprocessing import MinMaxScaler # Import the scaler\n",
        "\n",
        "# importing metrics\n",
        "from sklearn.metrics import accuracy_score,\\\n",
        " roc_auc_score, plot_roc_curve,f1_score,\\\n",
        "  confusion_matrix, classification_report,\\\n",
        "  precision_recall_curve\n",
        "\n",
        "\n",
        "# 1. make a scaler\n",
        "minmax_scaler = MinMaxScaler()\n",
        "\n",
        "# 2. fit the scaler to training set\n",
        "minmax_scaler.fit(X_train_unscaled)\n",
        "\n",
        "# 3. transforming training and testing sets based on scaler\n",
        "X_mm_train = minmax_scaler.transform(X_train_unscaled)\n",
        "X_mm_test = minmax_scaler.transform(X_test_unscaled)\n",
        "\n"
      ],
      "metadata": {
        "id": "ApnWPy_DzU0T"
      },
      "execution_count": 9,
      "outputs": []
    },
    {
      "cell_type": "code",
      "source": [
        "from sklearn.linear_model import LogisticRegression\n",
        "logreg1 = LogisticRegression(solver = 'lbfgs',max_iter=1000,penalty='l2',class_weight = {0:0.01,1:0.99},C=10,verbose=10)\n",
        "\n",
        "logreg1.fit(X_mm_train,y_train)"
      ],
      "metadata": {
        "colab": {
          "base_uri": "https://localhost:8080/"
        },
        "id": "UyCCu0ds5l41",
        "outputId": "a7ee5ad9-bfc5-46b6-9c42-f11e65629f6a"
      },
      "execution_count": 10,
      "outputs": [
        {
          "output_type": "stream",
          "name": "stderr",
          "text": [
            "[Parallel(n_jobs=1)]: Using backend SequentialBackend with 1 concurrent workers.\n",
            "[Parallel(n_jobs=1)]: Done   1 out of   1 | elapsed:   43.6s remaining:    0.0s\n",
            "[Parallel(n_jobs=1)]: Done   1 out of   1 | elapsed:   43.6s finished\n"
          ]
        },
        {
          "output_type": "execute_result",
          "data": {
            "text/plain": [
              "LogisticRegression(C=10, class_weight={0: 0.01, 1: 0.99}, max_iter=1000,\n",
              "                   verbose=10)"
            ]
          },
          "metadata": {},
          "execution_count": 10
        }
      ]
    },
    {
      "cell_type": "code",
      "source": [
        "y_predicted = logreg1.predict(X_mm_test)\n",
        "\n",
        "print(classification_report(y_test,y_predicted))"
      ],
      "metadata": {
        "colab": {
          "base_uri": "https://localhost:8080/"
        },
        "id": "dKWMv2H_6a66",
        "outputId": "63ac8058-cafc-45ed-a5dd-1f614f6c978e"
      },
      "execution_count": 17,
      "outputs": [
        {
          "output_type": "stream",
          "name": "stderr",
          "text": [
            "/usr/local/lib/python3.7/dist-packages/sklearn/metrics/_classification.py:1318: UndefinedMetricWarning: Precision and F-score are ill-defined and being set to 0.0 in labels with no predicted samples. Use `zero_division` parameter to control this behavior.\n",
            "  _warn_prf(average, modifier, msg_start, len(result))\n",
            "/usr/local/lib/python3.7/dist-packages/sklearn/metrics/_classification.py:1318: UndefinedMetricWarning: Precision and F-score are ill-defined and being set to 0.0 in labels with no predicted samples. Use `zero_division` parameter to control this behavior.\n",
            "  _warn_prf(average, modifier, msg_start, len(result))\n"
          ]
        },
        {
          "output_type": "stream",
          "name": "stdout",
          "text": [
            "              precision    recall  f1-score   support\n",
            "\n",
            "           0       0.00      0.00      0.00   1226968\n",
            "           1       0.16      1.00      0.28    235703\n",
            "\n",
            "    accuracy                           0.16   1462671\n",
            "   macro avg       0.08      0.50      0.14   1462671\n",
            "weighted avg       0.03      0.16      0.04   1462671\n",
            "\n"
          ]
        },
        {
          "output_type": "stream",
          "name": "stderr",
          "text": [
            "/usr/local/lib/python3.7/dist-packages/sklearn/metrics/_classification.py:1318: UndefinedMetricWarning: Precision and F-score are ill-defined and being set to 0.0 in labels with no predicted samples. Use `zero_division` parameter to control this behavior.\n",
            "  _warn_prf(average, modifier, msg_start, len(result))\n"
          ]
        }
      ]
    },
    {
      "cell_type": "markdown",
      "source": [
        "Precision is not great. It is unlikely that logistic regression with no additional will give us predictive ability. \n",
        "\n",
        "We will try one pass with tuning class weight and regularization strength. "
      ],
      "metadata": {
        "id": "SKNLJ3hP7Ky2"
      }
    },
    {
      "cell_type": "markdown",
      "source": [
        "Pass1: class weights = {0:0.5, 1:0.5}, {0:0.3, 1:0.7}, {0:0.05,1:0.95}, C = .0001, 1, 100"
      ],
      "metadata": {
        "id": "AuyUpTXp5nrB"
      }
    },
    {
      "cell_type": "code",
      "source": [
        "from sklearn.model_selection import cross_validate\n",
        "\n",
        "from sklearn.preprocessing import MinMaxScaler,StandardScaler\n",
        "\n",
        "from sklearn.metrics import make_scorer # to define a list of scoring metrics to use\n",
        "\n",
        "from sklearn.model_selection import GridSearchCV\n",
        "\n",
        "classweight_vals = [{0:0.5, 1:0.5}, {0:0.3, 1:0.7}, {0:0.05,1:0.95}]\n",
        "C_vals = [.0001, 1, 100]\n",
        "\n",
        "para_dict =dict()\n",
        "para_dict['class_weight'] = classweight_vals\n",
        "para_dict['C'] = C_vals\n",
        "\n",
        "\n",
        "# iterate over \n",
        "logreg1 = LogisticRegression(solver = 'lbfgs',max_iter=1000,penalty='l2')\n",
        "scoring_metrics = ['accuracy','f1','average_precision','roc_auc','recall']\n",
        "\n",
        "gridsearch_obj = GridSearchCV(logreg1, param_grid = para_dict,cv=4,scoring = scoring_metrics, verbose=15,refit=False,return_train_score=True)\n",
        "\n",
        "gridsearch_obj.fit(X_mm_train,y_train)"
      ],
      "metadata": {
        "colab": {
          "base_uri": "https://localhost:8080/"
        },
        "id": "B3nL8Q8f1R7I",
        "outputId": "a2d01e66-9346-4097-e9d7-34676d086607"
      },
      "execution_count": 18,
      "outputs": [
        {
          "output_type": "stream",
          "name": "stdout",
          "text": [
            "Fitting 4 folds for each of 9 candidates, totalling 36 fits\n",
            "[CV 1/4; 1/9] START C=0.0001, class_weight={0: 0.5, 1: 0.5}.....................\n",
            "[CV 1/4; 1/9] END C=0.0001, class_weight={0: 0.5, 1: 0.5}; accuracy: (train=0.839, test=0.839) average_precision: (train=0.179, test=0.179) f1: (train=0.000, test=0.000) recall: (train=0.000, test=0.000) roc_auc: (train=0.533, test=0.534) total time=  13.6s\n",
            "[CV 2/4; 1/9] START C=0.0001, class_weight={0: 0.5, 1: 0.5}.....................\n",
            "[CV 2/4; 1/9] END C=0.0001, class_weight={0: 0.5, 1: 0.5}; accuracy: (train=0.839, test=0.839) average_precision: (train=0.179, test=0.179) f1: (train=0.000, test=0.000) recall: (train=0.000, test=0.000) roc_auc: (train=0.534, test=0.533) total time=  13.2s\n",
            "[CV 3/4; 1/9] START C=0.0001, class_weight={0: 0.5, 1: 0.5}.....................\n",
            "[CV 3/4; 1/9] END C=0.0001, class_weight={0: 0.5, 1: 0.5}; accuracy: (train=0.839, test=0.839) average_precision: (train=0.179, test=0.179) f1: (train=0.000, test=0.000) recall: (train=0.000, test=0.000) roc_auc: (train=0.534, test=0.534) total time=  13.5s\n",
            "[CV 4/4; 1/9] START C=0.0001, class_weight={0: 0.5, 1: 0.5}.....................\n",
            "[CV 4/4; 1/9] END C=0.0001, class_weight={0: 0.5, 1: 0.5}; accuracy: (train=0.839, test=0.839) average_precision: (train=0.179, test=0.179) f1: (train=0.000, test=0.000) recall: (train=0.000, test=0.000) roc_auc: (train=0.534, test=0.533) total time=  13.8s\n",
            "[CV 1/4; 2/9] START C=0.0001, class_weight={0: 0.3, 1: 0.7}.....................\n",
            "[CV 1/4; 2/9] END C=0.0001, class_weight={0: 0.3, 1: 0.7}; accuracy: (train=0.839, test=0.839) average_precision: (train=0.179, test=0.179) f1: (train=0.000, test=0.000) recall: (train=0.000, test=0.000) roc_auc: (train=0.534, test=0.534) total time=  12.3s\n",
            "[CV 2/4; 2/9] START C=0.0001, class_weight={0: 0.3, 1: 0.7}.....................\n",
            "[CV 2/4; 2/9] END C=0.0001, class_weight={0: 0.3, 1: 0.7}; accuracy: (train=0.839, test=0.839) average_precision: (train=0.179, test=0.179) f1: (train=0.000, test=0.000) recall: (train=0.000, test=0.000) roc_auc: (train=0.534, test=0.533) total time=  12.7s\n",
            "[CV 3/4; 2/9] START C=0.0001, class_weight={0: 0.3, 1: 0.7}.....................\n",
            "[CV 3/4; 2/9] END C=0.0001, class_weight={0: 0.3, 1: 0.7}; accuracy: (train=0.839, test=0.839) average_precision: (train=0.179, test=0.179) f1: (train=0.000, test=0.000) recall: (train=0.000, test=0.000) roc_auc: (train=0.534, test=0.534) total time=  12.7s\n",
            "[CV 4/4; 2/9] START C=0.0001, class_weight={0: 0.3, 1: 0.7}.....................\n",
            "[CV 4/4; 2/9] END C=0.0001, class_weight={0: 0.3, 1: 0.7}; accuracy: (train=0.839, test=0.839) average_precision: (train=0.179, test=0.179) f1: (train=0.000, test=0.000) recall: (train=0.000, test=0.000) roc_auc: (train=0.534, test=0.533) total time=  12.2s\n",
            "[CV 1/4; 3/9] START C=0.0001, class_weight={0: 0.05, 1: 0.95}...................\n",
            "[CV 1/4; 3/9] END C=0.0001, class_weight={0: 0.05, 1: 0.95}; accuracy: (train=0.161, test=0.161) average_precision: (train=0.179, test=0.179) f1: (train=0.278, test=0.278) recall: (train=1.000, test=1.000) roc_auc: (train=0.533, test=0.534) total time=  11.3s\n",
            "[CV 2/4; 3/9] START C=0.0001, class_weight={0: 0.05, 1: 0.95}...................\n",
            "[CV 2/4; 3/9] END C=0.0001, class_weight={0: 0.05, 1: 0.95}; accuracy: (train=0.161, test=0.161) average_precision: (train=0.179, test=0.178) f1: (train=0.278, test=0.278) recall: (train=1.000, test=1.000) roc_auc: (train=0.533, test=0.533) total time=  11.3s\n",
            "[CV 3/4; 3/9] START C=0.0001, class_weight={0: 0.05, 1: 0.95}...................\n",
            "[CV 3/4; 3/9] END C=0.0001, class_weight={0: 0.05, 1: 0.95}; accuracy: (train=0.161, test=0.161) average_precision: (train=0.179, test=0.179) f1: (train=0.278, test=0.278) recall: (train=1.000, test=1.000) roc_auc: (train=0.533, test=0.533) total time=  11.3s\n",
            "[CV 4/4; 3/9] START C=0.0001, class_weight={0: 0.05, 1: 0.95}...................\n",
            "[CV 4/4; 3/9] END C=0.0001, class_weight={0: 0.05, 1: 0.95}; accuracy: (train=0.161, test=0.161) average_precision: (train=0.179, test=0.179) f1: (train=0.278, test=0.278) recall: (train=1.000, test=1.000) roc_auc: (train=0.533, test=0.533) total time=  11.3s\n",
            "[CV 1/4; 4/9] START C=1, class_weight={0: 0.5, 1: 0.5}..........................\n",
            "[CV 1/4; 4/9] END C=1, class_weight={0: 0.5, 1: 0.5}; accuracy: (train=0.839, test=0.839) average_precision: (train=0.188, test=0.189) f1: (train=0.001, test=0.001) recall: (train=0.001, test=0.001) roc_auc: (train=0.545, test=0.546) total time=  28.7s\n",
            "[CV 2/4; 4/9] START C=1, class_weight={0: 0.5, 1: 0.5}..........................\n",
            "[CV 2/4; 4/9] END C=1, class_weight={0: 0.5, 1: 0.5}; accuracy: (train=0.839, test=0.839) average_precision: (train=0.188, test=0.188) f1: (train=0.001, test=0.001) recall: (train=0.001, test=0.001) roc_auc: (train=0.545, test=0.545) total time=  28.9s\n",
            "[CV 3/4; 4/9] START C=1, class_weight={0: 0.5, 1: 0.5}..........................\n",
            "[CV 3/4; 4/9] END C=1, class_weight={0: 0.5, 1: 0.5}; accuracy: (train=0.839, test=0.839) average_precision: (train=0.188, test=0.188) f1: (train=0.001, test=0.001) recall: (train=0.001, test=0.001) roc_auc: (train=0.545, test=0.545) total time=  32.9s\n",
            "[CV 4/4; 4/9] START C=1, class_weight={0: 0.5, 1: 0.5}..........................\n",
            "[CV 4/4; 4/9] END C=1, class_weight={0: 0.5, 1: 0.5}; accuracy: (train=0.839, test=0.839) average_precision: (train=0.188, test=0.187) f1: (train=0.001, test=0.001) recall: (train=0.001, test=0.001) roc_auc: (train=0.544, test=0.544) total time=  37.0s\n",
            "[CV 1/4; 5/9] START C=1, class_weight={0: 0.3, 1: 0.7}..........................\n",
            "[CV 1/4; 5/9] END C=1, class_weight={0: 0.3, 1: 0.7}; accuracy: (train=0.839, test=0.839) average_precision: (train=0.188, test=0.189) f1: (train=0.005, test=0.005) recall: (train=0.003, test=0.003) roc_auc: (train=0.546, test=0.546) total time=  43.3s\n",
            "[CV 2/4; 5/9] START C=1, class_weight={0: 0.3, 1: 0.7}..........................\n",
            "[CV 2/4; 5/9] END C=1, class_weight={0: 0.3, 1: 0.7}; accuracy: (train=0.839, test=0.839) average_precision: (train=0.189, test=0.188) f1: (train=0.005, test=0.006) recall: (train=0.003, test=0.003) roc_auc: (train=0.545, test=0.545) total time=  35.2s\n",
            "[CV 3/4; 5/9] START C=1, class_weight={0: 0.3, 1: 0.7}..........................\n",
            "[CV 3/4; 5/9] END C=1, class_weight={0: 0.3, 1: 0.7}; accuracy: (train=0.839, test=0.839) average_precision: (train=0.189, test=0.189) f1: (train=0.005, test=0.006) recall: (train=0.003, test=0.003) roc_auc: (train=0.546, test=0.545) total time=  33.5s\n",
            "[CV 4/4; 5/9] START C=1, class_weight={0: 0.3, 1: 0.7}..........................\n",
            "[CV 4/4; 5/9] END C=1, class_weight={0: 0.3, 1: 0.7}; accuracy: (train=0.839, test=0.839) average_precision: (train=0.189, test=0.188) f1: (train=0.006, test=0.005) recall: (train=0.003, test=0.003) roc_auc: (train=0.545, test=0.545) total time=  34.5s\n",
            "[CV 1/4; 6/9] START C=1, class_weight={0: 0.05, 1: 0.95}........................\n",
            "[CV 1/4; 6/9] END C=1, class_weight={0: 0.05, 1: 0.95}; accuracy: (train=0.161, test=0.161) average_precision: (train=0.184, test=0.185) f1: (train=0.278, test=0.278) recall: (train=1.000, test=1.000) roc_auc: (train=0.541, test=0.542) total time=  30.1s\n",
            "[CV 2/4; 6/9] START C=1, class_weight={0: 0.05, 1: 0.95}........................\n",
            "[CV 2/4; 6/9] END C=1, class_weight={0: 0.05, 1: 0.95}; accuracy: (train=0.161, test=0.161) average_precision: (train=0.184, test=0.184) f1: (train=0.278, test=0.278) recall: (train=1.000, test=1.000) roc_auc: (train=0.541, test=0.540) total time=  32.2s\n",
            "[CV 3/4; 6/9] START C=1, class_weight={0: 0.05, 1: 0.95}........................\n",
            "[CV 3/4; 6/9] END C=1, class_weight={0: 0.05, 1: 0.95}; accuracy: (train=0.161, test=0.161) average_precision: (train=0.184, test=0.184) f1: (train=0.278, test=0.278) recall: (train=1.000, test=1.000) roc_auc: (train=0.541, test=0.540) total time=  34.8s\n",
            "[CV 4/4; 6/9] START C=1, class_weight={0: 0.05, 1: 0.95}........................\n",
            "[CV 4/4; 6/9] END C=1, class_weight={0: 0.05, 1: 0.95}; accuracy: (train=0.161, test=0.161) average_precision: (train=0.184, test=0.184) f1: (train=0.278, test=0.278) recall: (train=1.000, test=1.000) roc_auc: (train=0.540, test=0.540) total time=  31.0s\n",
            "[CV 1/4; 7/9] START C=100, class_weight={0: 0.5, 1: 0.5}........................\n",
            "[CV 1/4; 7/9] END C=100, class_weight={0: 0.5, 1: 0.5}; accuracy: (train=0.839, test=0.839) average_precision: (train=0.201, test=0.203) f1: (train=0.007, test=0.008) recall: (train=0.004, test=0.004) roc_auc: (train=0.564, test=0.564) total time=  37.3s\n",
            "[CV 2/4; 7/9] START C=100, class_weight={0: 0.5, 1: 0.5}........................\n",
            "[CV 2/4; 7/9] END C=100, class_weight={0: 0.5, 1: 0.5}; accuracy: (train=0.839, test=0.839) average_precision: (train=0.201, test=0.201) f1: (train=0.007, test=0.008) recall: (train=0.004, test=0.004) roc_auc: (train=0.562, test=0.562) total time=  33.2s\n",
            "[CV 3/4; 7/9] START C=100, class_weight={0: 0.5, 1: 0.5}........................\n",
            "[CV 3/4; 7/9] END C=100, class_weight={0: 0.5, 1: 0.5}; accuracy: (train=0.839, test=0.839) average_precision: (train=0.201, test=0.201) f1: (train=0.007, test=0.008) recall: (train=0.004, test=0.004) roc_auc: (train=0.562, test=0.562) total time=  34.8s\n",
            "[CV 4/4; 7/9] START C=100, class_weight={0: 0.5, 1: 0.5}........................\n",
            "[CV 4/4; 7/9] END C=100, class_weight={0: 0.5, 1: 0.5}; accuracy: (train=0.839, test=0.839) average_precision: (train=0.201, test=0.200) f1: (train=0.008, test=0.007) recall: (train=0.004, test=0.004) roc_auc: (train=0.562, test=0.562) total time=  37.7s\n",
            "[CV 1/4; 8/9] START C=100, class_weight={0: 0.3, 1: 0.7}........................\n",
            "[CV 1/4; 8/9] END C=100, class_weight={0: 0.3, 1: 0.7}; accuracy: (train=0.839, test=0.839) average_precision: (train=0.204, test=0.205) f1: (train=0.017, test=0.018) recall: (train=0.009, test=0.009) roc_auc: (train=0.569, test=0.569) total time=  41.5s\n",
            "[CV 2/4; 8/9] START C=100, class_weight={0: 0.3, 1: 0.7}........................\n",
            "[CV 2/4; 8/9] END C=100, class_weight={0: 0.3, 1: 0.7}; accuracy: (train=0.839, test=0.839) average_precision: (train=0.204, test=0.204) f1: (train=0.017, test=0.017) recall: (train=0.009, test=0.009) roc_auc: (train=0.567, test=0.567) total time=  40.3s\n",
            "[CV 3/4; 8/9] START C=100, class_weight={0: 0.3, 1: 0.7}........................\n",
            "[CV 3/4; 8/9] END C=100, class_weight={0: 0.3, 1: 0.7}; accuracy: (train=0.839, test=0.839) average_precision: (train=0.204, test=0.204) f1: (train=0.017, test=0.017) recall: (train=0.009, test=0.009) roc_auc: (train=0.568, test=0.567) total time=  51.7s\n",
            "[CV 4/4; 8/9] START C=100, class_weight={0: 0.3, 1: 0.7}........................\n",
            "[CV 4/4; 8/9] END C=100, class_weight={0: 0.3, 1: 0.7}; accuracy: (train=0.839, test=0.839) average_precision: (train=0.204, test=0.203) f1: (train=0.018, test=0.017) recall: (train=0.009, test=0.008) roc_auc: (train=0.567, test=0.567) total time=  42.6s\n",
            "[CV 1/4; 9/9] START C=100, class_weight={0: 0.05, 1: 0.95}......................\n",
            "[CV 1/4; 9/9] END C=100, class_weight={0: 0.05, 1: 0.95}; accuracy: (train=0.161, test=0.161) average_precision: (train=0.204, test=0.205) f1: (train=0.278, test=0.278) recall: (train=1.000, test=1.000) roc_auc: (train=0.569, test=0.570) total time=  33.0s\n",
            "[CV 2/4; 9/9] START C=100, class_weight={0: 0.05, 1: 0.95}......................\n",
            "[CV 2/4; 9/9] END C=100, class_weight={0: 0.05, 1: 0.95}; accuracy: (train=0.161, test=0.161) average_precision: (train=0.203, test=0.203) f1: (train=0.278, test=0.278) recall: (train=1.000, test=1.000) roc_auc: (train=0.568, test=0.568) total time=  38.4s\n",
            "[CV 3/4; 9/9] START C=100, class_weight={0: 0.05, 1: 0.95}......................\n",
            "[CV 3/4; 9/9] END C=100, class_weight={0: 0.05, 1: 0.95}; accuracy: (train=0.161, test=0.161) average_precision: (train=0.204, test=0.204) f1: (train=0.278, test=0.278) recall: (train=1.000, test=1.000) roc_auc: (train=0.568, test=0.568) total time=  37.2s\n",
            "[CV 4/4; 9/9] START C=100, class_weight={0: 0.05, 1: 0.95}......................\n",
            "[CV 4/4; 9/9] END C=100, class_weight={0: 0.05, 1: 0.95}; accuracy: (train=0.161, test=0.161) average_precision: (train=0.204, test=0.202) f1: (train=0.278, test=0.278) recall: (train=1.000, test=1.000) roc_auc: (train=0.568, test=0.567) total time=  35.3s\n"
          ]
        },
        {
          "output_type": "execute_result",
          "data": {
            "text/plain": [
              "GridSearchCV(cv=4, estimator=LogisticRegression(max_iter=1000),\n",
              "             param_grid={'C': [0.0001, 1, 100],\n",
              "                         'class_weight': [{0: 0.5, 1: 0.5}, {0: 0.3, 1: 0.7},\n",
              "                                          {0: 0.05, 1: 0.95}]},\n",
              "             refit=False, return_train_score=True,\n",
              "             scoring=['accuracy', 'f1', 'average_precision', 'roc_auc',\n",
              "                      'recall'],\n",
              "             verbose=15)"
            ]
          },
          "metadata": {},
          "execution_count": 18
        }
      ]
    },
    {
      "cell_type": "markdown",
      "source": [
        "Pass 2: higher C value: 10^4, 10^6. keep class weight skewed to 1. "
      ],
      "metadata": {
        "id": "7P3wLkDDBDsf"
      }
    },
    {
      "cell_type": "code",
      "source": [
        "\n",
        "C_vals = [10000, 10**6]\n",
        "\n",
        "para_dict =dict()\n",
        "para_dict['C'] = C_vals\n",
        "\n",
        "\n",
        "# iterate over \n",
        "logreg2 = LogisticRegression(solver = 'lbfgs',max_iter=1000,penalty='l2',class_weight = {0:0.01,1:0.99})\n",
        "scoring_metrics = ['accuracy','f1','average_precision','roc_auc','recall']\n",
        "\n",
        "gridsearch_obj = GridSearchCV(logreg2, param_grid = para_dict,cv=2,scoring = scoring_metrics, verbose=15,refit=False,return_train_score=True)\n",
        "\n",
        "gridsearch_obj.fit(X_mm_train,y_train)"
      ],
      "metadata": {
        "colab": {
          "base_uri": "https://localhost:8080/"
        },
        "id": "dIsgP4lXBDXc",
        "outputId": "d667a1d8-b972-48f2-b39e-f89b9a95b8f8"
      },
      "execution_count": 22,
      "outputs": [
        {
          "output_type": "stream",
          "name": "stdout",
          "text": [
            "Fitting 2 folds for each of 2 candidates, totalling 4 fits\n",
            "[CV 1/2; 1/2] START C=10000.....................................................\n",
            "[CV 1/2; 1/2] END C=10000; accuracy: (train=0.161, test=0.161) average_precision: (train=0.207, test=0.208) f1: (train=0.278, test=0.278) recall: (train=1.000, test=1.000) roc_auc: (train=0.574, test=0.574) total time=  26.4s\n",
            "[CV 2/2; 1/2] START C=10000.....................................................\n",
            "[CV 2/2; 1/2] END C=10000; accuracy: (train=0.161, test=0.161) average_precision: (train=0.207, test=0.206) f1: (train=0.278, test=0.278) recall: (train=1.000, test=1.000) roc_auc: (train=0.573, test=0.573) total time=  32.9s\n",
            "[CV 1/2; 2/2] START C=1000000...................................................\n",
            "[CV 1/2; 2/2] END C=1000000; accuracy: (train=0.161, test=0.161) average_precision: (train=0.207, test=0.208) f1: (train=0.278, test=0.278) recall: (train=1.000, test=1.000) roc_auc: (train=0.574, test=0.575) total time=  27.9s\n",
            "[CV 2/2; 2/2] START C=1000000...................................................\n",
            "[CV 2/2; 2/2] END C=1000000; accuracy: (train=0.161, test=0.161) average_precision: (train=0.208, test=0.207) f1: (train=0.278, test=0.278) recall: (train=1.000, test=1.000) roc_auc: (train=0.574, test=0.574) total time=  34.2s\n"
          ]
        },
        {
          "output_type": "execute_result",
          "data": {
            "text/plain": [
              "GridSearchCV(cv=2,\n",
              "             estimator=LogisticRegression(class_weight={0: 0.01, 1: 0.99},\n",
              "                                          max_iter=1000),\n",
              "             param_grid={'C': [10000, 1000000]}, refit=False,\n",
              "             return_train_score=True,\n",
              "             scoring=['accuracy', 'f1', 'average_precision', 'roc_auc',\n",
              "                      'recall'],\n",
              "             verbose=15)"
            ]
          },
          "metadata": {},
          "execution_count": 22
        }
      ]
    },
    {
      "cell_type": "markdown",
      "source": [
        "Precision is maxed out at around 0.21, recall is 1.0. \n",
        "This can be considered the best performance for logistic regression. We can plot out the accuracy vs threshold curve, and look at the strength of coefficients. "
      ],
      "metadata": {
        "id": "usZ1uMq8C7hG"
      }
    },
    {
      "cell_type": "code",
      "source": [
        "logregbest = LogisticRegression(solver = 'lbfgs',max_iter=1000,penalty='l2',class_weight = {0:0.01,1:0.99},C=10000)\n",
        "logregbest.fit(X_mm_train,y_train)\n",
        "y_proba = logregbest.predict_proba(X_mm_test)"
      ],
      "metadata": {
        "id": "vgHmLLd9DM7q"
      },
      "execution_count": 23,
      "outputs": []
    },
    {
      "cell_type": "code",
      "source": [
        "threshold_range = range(0,10,1)\n",
        "acc_dict = dict()\n",
        "y_1_pred = y_proba[:,1]\n",
        "\n",
        "for threshold in threshold_range:\n",
        "  acc_dict[threshold/10] = accuracy_score(y_test,np.where(y_1_pred>threshold/10,1,0))"
      ],
      "metadata": {
        "id": "r2CfAvoNDePr"
      },
      "execution_count": 29,
      "outputs": []
    },
    {
      "cell_type": "code",
      "source": [
        "acc_threshold = pd.Series(acc_dict)\n",
        "plt.figure()\n",
        "plt.title(\"Accuracy vs boundary condition (threshold)\")\n",
        "plt.xlabel(\"Boundary condition\")\n",
        "plt.ylabel(\"Accuracy\")\n",
        "plt.plot(acc_threshold,'.-')\n",
        "plt.show()"
      ],
      "metadata": {
        "colab": {
          "base_uri": "https://localhost:8080/",
          "height": 295
        },
        "id": "LEmS8p2VEuNI",
        "outputId": "8ad237a2-36c0-4ff1-8ff9-0d93619277e5"
      },
      "execution_count": 31,
      "outputs": [
        {
          "output_type": "display_data",
          "data": {
            "text/plain": [
              "<Figure size 432x288 with 1 Axes>"
            ],
            "image/png": "[encoded data removed]"
          },
          "metadata": {
            "needs_background": "light"
          }
        }
      ]
    },
    {
      "cell_type": "markdown",
      "source": [
        "Accuracy doesn't change much across the boundary condition."
      ],
      "metadata": {
        "id": "VKpDSdR8FDYE"
      }
    },
    {
      "cell_type": "markdown",
      "source": [
        "Looking at coefficient values:"
      ],
      "metadata": {
        "id": "ugJoFR1dFJhO"
      }
    },
    {
      "cell_type": "code",
      "source": [
        "coefs = logregbest.coef_[0].tolist()\n",
        "cols = [col for col in X_train_unscaled.columns]\n",
        "coef_dict = dict(zip(cols,coefs))\n",
        "coefficients = pd.Series(coef_dict)\n",
        "\n",
        "coefficients.abs().sort_values(ascending=False)"
      ],
      "metadata": {
        "colab": {
          "base_uri": "https://localhost:8080/"
        },
        "id": "9TUliMv4FHfe",
        "outputId": "803585c8-6dad-439a-eab9-95704494752e"
      },
      "execution_count": 34,
      "outputs": [
        {
          "output_type": "execute_result",
          "data": {
            "text/plain": [
              "history_correct    351.315906\n",
              "history_seen       347.520719\n",
              "delta                1.394040\n",
              "UIL__en              0.917662\n",
              "LL__en               0.763926\n",
              "LL__fr               0.433847\n",
              "UIL__es              0.392760\n",
              "UIL__pt              0.371167\n",
              "LL__es               0.241267\n",
              "LL__it               0.139074\n",
              "LL__pt               0.103473\n",
              "dtype: float64"
            ]
          },
          "metadata": {},
          "execution_count": 34
        }
      ]
    },
    {
      "cell_type": "markdown",
      "source": [
        "As might be expected history correct and history seen are definitely the most important coefficients in the model. delta is next. \n",
        "\n",
        "Now we will see if decision trees will do better. "
      ],
      "metadata": {
        "id": "54G4nj2wFwxG"
      }
    },
    {
      "cell_type": "code",
      "source": [
        "from sklearn.metrics import accuracy_score\n",
        "from sklearn.tree import DecisionTreeClassifier\n",
        "\n",
        "\n",
        "dtree = DecisionTreeClassifier(max_depth = 6,class_weight={0:.05,1:0.95})\n",
        "\n",
        "dtree.fit(X_train_unscaled,y_train)\n",
        "\n",
        "y_test_predicted = dtree.predict(X_test_unscaled)\n",
        "y_train_predicted = dtree.predict(X_train_unscaled)\n",
        "# calculate accuracy\n",
        "test_acc = accuracy_score(y_test, y_test_predicted)\n",
        "train_acc = accuracy_score(y_train,y_train_predicted)\n",
        "\n",
        "print(f\"Test accuracy is : {test_acc}\")\n",
        "print(f\"Train accuracy is : {train_acc}\")\n"
      ],
      "metadata": {
        "colab": {
          "base_uri": "https://localhost:8080/"
        },
        "id": "mh4TSb2RFwNH",
        "outputId": "524d499e-9e25-432a-bb0f-b96bbeca7049"
      },
      "execution_count": 61,
      "outputs": [
        {
          "output_type": "stream",
          "name": "stdout",
          "text": [
            "Test accuracy is : 0.1611791031612714\n",
            "Train accuracy is : 0.16117468678443184\n"
          ]
        }
      ]
    },
    {
      "cell_type": "markdown",
      "source": [
        "An accuracy of 0.16 is equivalent to the logistic regression scores. Roughly 20s to train."
      ],
      "metadata": {
        "id": "L9XM3b_aHHDn"
      }
    },
    {
      "cell_type": "markdown",
      "source": [
        "Hyperparameter tuning: \n",
        "\n",
        "Pass 1 - class weights for 1-0.5 to 0.95, and max_depth 5-25"
      ],
      "metadata": {
        "id": "1AA4DSc3Q_zB"
      }
    },
    {
      "cell_type": "code",
      "source": [
        "max_depths = [5,10,15,20,25]\n",
        "class_weights = [{0:0.5,1:0.5},{0:0.3,1:0.7},{0:0.05,1:0.95}]\n",
        "\n",
        "para_dict =dict()\n",
        "para_dict['max_depth'] = max_depths\n",
        "para_dict['class_weight'] = class_weights\n",
        "\n",
        "\n",
        "# iterate over \n",
        "dtree1 = DecisionTreeClassifier(random_state=1)\n",
        "scoring_metrics = ['accuracy','f1','average_precision','roc_auc','recall']\n",
        "\n",
        "gridsearch_obj = GridSearchCV(dtree1, param_grid = para_dict,cv=3,scoring = scoring_metrics, verbose=15,refit=False,return_train_score=True)\n",
        "\n",
        "gridsearch_obj.fit(X_train_unscaled,y_train)"
      ],
      "metadata": {
        "colab": {
          "base_uri": "https://localhost:8080/"
        },
        "id": "cp7McH9AQhBJ",
        "outputId": "55bc69e2-88af-497a-8e97-fc2a0a523bf8"
      },
      "execution_count": 63,
      "outputs": [
        {
          "output_type": "stream",
          "name": "stdout",
          "text": [
            "Fitting 3 folds for each of 15 candidates, totalling 45 fits\n",
            "[CV 1/3; 1/15] START class_weight={0: 0.5, 1: 0.5}, max_depth=5.................\n",
            "[CV 1/3; 1/15] END class_weight={0: 0.5, 1: 0.5}, max_depth=5; accuracy: (train=0.839, test=0.839) average_precision: (train=0.194, test=0.194) f1: (train=0.003, test=0.003) recall: (train=0.001, test=0.001) roc_auc: (train=0.559, test=0.559) total time=  14.3s\n",
            "[CV 2/3; 1/15] START class_weight={0: 0.5, 1: 0.5}, max_depth=5.................\n",
            "[CV 2/3; 1/15] END class_weight={0: 0.5, 1: 0.5}, max_depth=5; accuracy: (train=0.839, test=0.839) average_precision: (train=0.194, test=0.193) f1: (train=0.002, test=0.003) recall: (train=0.001, test=0.001) roc_auc: (train=0.559, test=0.558) total time=  14.3s\n",
            "[CV 3/3; 1/15] START class_weight={0: 0.5, 1: 0.5}, max_depth=5.................\n",
            "[CV 3/3; 1/15] END class_weight={0: 0.5, 1: 0.5}, max_depth=5; accuracy: (train=0.839, test=0.839) average_precision: (train=0.194, test=0.194) f1: (train=0.003, test=0.003) recall: (train=0.001, test=0.001) roc_auc: (train=0.559, test=0.559) total time=  14.3s\n",
            "[CV 1/3; 2/15] START class_weight={0: 0.5, 1: 0.5}, max_depth=10................\n",
            "[CV 1/3; 2/15] END class_weight={0: 0.5, 1: 0.5}, max_depth=10; accuracy: (train=0.839, test=0.839) average_precision: (train=0.224, test=0.219) f1: (train=0.014, test=0.013) recall: (train=0.007, test=0.006) roc_auc: (train=0.587, test=0.584) total time=  22.3s\n",
            "[CV 2/3; 2/15] START class_weight={0: 0.5, 1: 0.5}, max_depth=10................\n",
            "[CV 2/3; 2/15] END class_weight={0: 0.5, 1: 0.5}, max_depth=10; accuracy: (train=0.839, test=0.839) average_precision: (train=0.224, test=0.218) f1: (train=0.015, test=0.013) recall: (train=0.007, test=0.006) roc_auc: (train=0.588, test=0.584) total time=  22.5s\n",
            "[CV 3/3; 2/15] START class_weight={0: 0.5, 1: 0.5}, max_depth=10................\n",
            "[CV 3/3; 2/15] END class_weight={0: 0.5, 1: 0.5}, max_depth=10; accuracy: (train=0.839, test=0.839) average_precision: (train=0.224, test=0.218) f1: (train=0.018, test=0.015) recall: (train=0.009, test=0.008) roc_auc: (train=0.586, test=0.583) total time=  22.3s\n",
            "[CV 1/3; 3/15] START class_weight={0: 0.5, 1: 0.5}, max_depth=15................\n",
            "[CV 1/3; 3/15] END class_weight={0: 0.5, 1: 0.5}, max_depth=15; accuracy: (train=0.841, test=0.838) average_precision: (train=0.256, test=0.220) f1: (train=0.042, test=0.024) recall: (train=0.021, test=0.012) roc_auc: (train=0.611, test=0.590) total time=  27.6s\n",
            "[CV 2/3; 3/15] START class_weight={0: 0.5, 1: 0.5}, max_depth=15................\n",
            "[CV 2/3; 3/15] END class_weight={0: 0.5, 1: 0.5}, max_depth=15; accuracy: (train=0.841, test=0.838) average_precision: (train=0.256, test=0.220) f1: (train=0.043, test=0.025) recall: (train=0.022, test=0.013) roc_auc: (train=0.611, test=0.590) total time=  28.4s\n",
            "[CV 3/3; 3/15] START class_weight={0: 0.5, 1: 0.5}, max_depth=15................\n",
            "[CV 3/3; 3/15] END class_weight={0: 0.5, 1: 0.5}, max_depth=15; accuracy: (train=0.841, test=0.838) average_precision: (train=0.258, test=0.220) f1: (train=0.045, test=0.025) recall: (train=0.023, test=0.013) roc_auc: (train=0.611, test=0.590) total time=  28.5s\n",
            "[CV 1/3; 4/15] START class_weight={0: 0.5, 1: 0.5}, max_depth=20................\n",
            "[CV 1/3; 4/15] END class_weight={0: 0.5, 1: 0.5}, max_depth=20; accuracy: (train=0.847, test=0.835) average_precision: (train=0.319, test=0.211) f1: (train=0.110, test=0.042) recall: (train=0.059, test=0.023) roc_auc: (train=0.651, test=0.580) total time=  31.9s\n",
            "[CV 2/3; 4/15] START class_weight={0: 0.5, 1: 0.5}, max_depth=20................\n",
            "[CV 2/3; 4/15] END class_weight={0: 0.5, 1: 0.5}, max_depth=20; accuracy: (train=0.847, test=0.835) average_precision: (train=0.318, test=0.212) f1: (train=0.110, test=0.042) recall: (train=0.059, test=0.023) roc_auc: (train=0.651, test=0.581) total time=  32.9s\n",
            "[CV 3/3; 4/15] START class_weight={0: 0.5, 1: 0.5}, max_depth=20................\n",
            "[CV 3/3; 4/15] END class_weight={0: 0.5, 1: 0.5}, max_depth=20; accuracy: (train=0.847, test=0.835) average_precision: (train=0.322, test=0.210) f1: (train=0.115, test=0.044) recall: (train=0.061, test=0.023) roc_auc: (train=0.653, test=0.579) total time=  32.5s\n",
            "[CV 1/3; 5/15] START class_weight={0: 0.5, 1: 0.5}, max_depth=25................\n",
            "[CV 1/3; 5/15] END class_weight={0: 0.5, 1: 0.5}, max_depth=25; accuracy: (train=0.858, test=0.828) average_precision: (train=0.415, test=0.201) f1: (train=0.225, test=0.070) recall: (train=0.128, test=0.040) roc_auc: (train=0.712, test=0.563) total time=  35.1s\n",
            "[CV 2/3; 5/15] START class_weight={0: 0.5, 1: 0.5}, max_depth=25................\n",
            "[CV 2/3; 5/15] END class_weight={0: 0.5, 1: 0.5}, max_depth=25; accuracy: (train=0.858, test=0.828) average_precision: (train=0.413, test=0.201) f1: (train=0.222, test=0.068) recall: (train=0.126, test=0.039) roc_auc: (train=0.712, test=0.564) total time=  36.3s\n",
            "[CV 3/3; 5/15] START class_weight={0: 0.5, 1: 0.5}, max_depth=25................\n",
            "[CV 3/3; 5/15] END class_weight={0: 0.5, 1: 0.5}, max_depth=25; accuracy: (train=0.858, test=0.827) average_precision: (train=0.420, test=0.200) f1: (train=0.230, test=0.070) recall: (train=0.131, test=0.040) roc_auc: (train=0.716, test=0.562) total time=  36.4s\n",
            "[CV 1/3; 6/15] START class_weight={0: 0.3, 1: 0.7}, max_depth=5.................\n",
            "[CV 1/3; 6/15] END class_weight={0: 0.3, 1: 0.7}, max_depth=5; accuracy: (train=0.838, test=0.838) average_precision: (train=0.194, test=0.194) f1: (train=0.020, test=0.021) recall: (train=0.010, test=0.011) roc_auc: (train=0.559, test=0.559) total time=  14.4s\n",
            "[CV 2/3; 6/15] START class_weight={0: 0.3, 1: 0.7}, max_depth=5.................\n",
            "[CV 2/3; 6/15] END class_weight={0: 0.3, 1: 0.7}, max_depth=5; accuracy: (train=0.838, test=0.838) average_precision: (train=0.194, test=0.193) f1: (train=0.021, test=0.020) recall: (train=0.011, test=0.010) roc_auc: (train=0.560, test=0.558) total time=  14.5s\n",
            "[CV 3/3; 6/15] START class_weight={0: 0.3, 1: 0.7}, max_depth=5.................\n",
            "[CV 3/3; 6/15] END class_weight={0: 0.3, 1: 0.7}, max_depth=5; accuracy: (train=0.838, test=0.838) average_precision: (train=0.194, test=0.193) f1: (train=0.021, test=0.020) recall: (train=0.011, test=0.010) roc_auc: (train=0.559, test=0.559) total time=  14.6s\n",
            "[CV 1/3; 7/15] START class_weight={0: 0.3, 1: 0.7}, max_depth=10................\n",
            "[CV 1/3; 7/15] END class_weight={0: 0.3, 1: 0.7}, max_depth=10; accuracy: (train=0.835, test=0.835) average_precision: (train=0.224, test=0.219) f1: (train=0.064, test=0.061) recall: (train=0.035, test=0.033) roc_auc: (train=0.587, test=0.584) total time=  22.6s\n",
            "[CV 2/3; 7/15] START class_weight={0: 0.3, 1: 0.7}, max_depth=10................\n",
            "[CV 2/3; 7/15] END class_weight={0: 0.3, 1: 0.7}, max_depth=10; accuracy: (train=0.836, test=0.835) average_precision: (train=0.225, test=0.219) f1: (train=0.063, test=0.058) recall: (train=0.034, test=0.031) roc_auc: (train=0.588, test=0.585) total time=  22.9s\n",
            "[CV 3/3; 7/15] START class_weight={0: 0.3, 1: 0.7}, max_depth=10................\n",
            "[CV 3/3; 7/15] END class_weight={0: 0.3, 1: 0.7}, max_depth=10; accuracy: (train=0.835, test=0.834) average_precision: (train=0.225, test=0.219) f1: (train=0.071, test=0.066) recall: (train=0.039, test=0.037) roc_auc: (train=0.587, test=0.584) total time=  22.9s\n",
            "[CV 1/3; 8/15] START class_weight={0: 0.3, 1: 0.7}, max_depth=15................\n",
            "[CV 1/3; 8/15] END class_weight={0: 0.3, 1: 0.7}, max_depth=15; accuracy: (train=0.836, test=0.831) average_precision: (train=0.257, test=0.219) f1: (train=0.108, test=0.081) recall: (train=0.061, test=0.046) roc_auc: (train=0.612, test=0.588) total time=  28.0s\n",
            "[CV 2/3; 8/15] START class_weight={0: 0.3, 1: 0.7}, max_depth=15................\n",
            "[CV 2/3; 8/15] END class_weight={0: 0.3, 1: 0.7}, max_depth=15; accuracy: (train=0.836, test=0.831) average_precision: (train=0.257, test=0.220) f1: (train=0.108, test=0.080) recall: (train=0.061, test=0.046) roc_auc: (train=0.613, test=0.590) total time=  28.7s\n",
            "[CV 3/3; 8/15] START class_weight={0: 0.3, 1: 0.7}, max_depth=15................\n",
            "[CV 3/3; 8/15] END class_weight={0: 0.3, 1: 0.7}, max_depth=15; accuracy: (train=0.837, test=0.832) average_precision: (train=0.257, test=0.219) f1: (train=0.103, test=0.076) recall: (train=0.058, test=0.043) roc_auc: (train=0.611, test=0.588) total time=  28.9s\n",
            "[CV 1/3; 9/15] START class_weight={0: 0.3, 1: 0.7}, max_depth=20................\n",
            "[CV 1/3; 9/15] END class_weight={0: 0.3, 1: 0.7}, max_depth=20; accuracy: (train=0.841, test=0.823) average_precision: (train=0.324, test=0.210) f1: (train=0.193, test=0.101) recall: (train=0.118, test=0.062) roc_auc: (train=0.655, test=0.578) total time=  32.3s\n",
            "[CV 2/3; 9/15] START class_weight={0: 0.3, 1: 0.7}, max_depth=20................\n",
            "[CV 2/3; 9/15] END class_weight={0: 0.3, 1: 0.7}, max_depth=20; accuracy: (train=0.840, test=0.823) average_precision: (train=0.321, test=0.211) f1: (train=0.190, test=0.102) recall: (train=0.116, test=0.062) roc_auc: (train=0.654, test=0.580) total time=  33.1s\n",
            "[CV 3/3; 9/15] START class_weight={0: 0.3, 1: 0.7}, max_depth=20................\n",
            "[CV 3/3; 9/15] END class_weight={0: 0.3, 1: 0.7}, max_depth=20; accuracy: (train=0.841, test=0.824) average_precision: (train=0.321, test=0.210) f1: (train=0.188, test=0.099) recall: (train=0.114, test=0.060) roc_auc: (train=0.652, test=0.578) total time=  33.4s\n",
            "[CV 1/3; 10/15] START class_weight={0: 0.3, 1: 0.7}, max_depth=25...............\n",
            "[CV 1/3; 10/15] END class_weight={0: 0.3, 1: 0.7}, max_depth=25; accuracy: (train=0.851, test=0.811) average_precision: (train=0.422, test=0.199) f1: (train=0.309, test=0.123) recall: (train=0.207, test=0.083) roc_auc: (train=0.719, test=0.561) total time=  36.9s\n",
            "[CV 2/3; 10/15] START class_weight={0: 0.3, 1: 0.7}, max_depth=25...............\n",
            "[CV 2/3; 10/15] END class_weight={0: 0.3, 1: 0.7}, max_depth=25; accuracy: (train=0.850, test=0.811) average_precision: (train=0.417, test=0.200) f1: (train=0.306, test=0.125) recall: (train=0.205, test=0.084) roc_auc: (train=0.716, test=0.563) total time=  37.1s\n",
            "[CV 3/3; 10/15] START class_weight={0: 0.3, 1: 0.7}, max_depth=25...............\n",
            "[CV 3/3; 10/15] END class_weight={0: 0.3, 1: 0.7}, max_depth=25; accuracy: (train=0.850, test=0.812) average_precision: (train=0.414, test=0.200) f1: (train=0.299, test=0.120) recall: (train=0.198, test=0.079) roc_auc: (train=0.711, test=0.563) total time=  36.9s\n",
            "[CV 1/3; 11/15] START class_weight={0: 0.05, 1: 0.95}, max_depth=5..............\n",
            "[CV 1/3; 11/15] END class_weight={0: 0.05, 1: 0.95}, max_depth=5; accuracy: (train=0.161, test=0.161) average_precision: (train=0.194, test=0.194) f1: (train=0.278, test=0.278) recall: (train=1.000, test=1.000) roc_auc: (train=0.560, test=0.559) total time=  14.4s\n",
            "[CV 2/3; 11/15] START class_weight={0: 0.05, 1: 0.95}, max_depth=5..............\n",
            "[CV 2/3; 11/15] END class_weight={0: 0.05, 1: 0.95}, max_depth=5; accuracy: (train=0.161, test=0.161) average_precision: (train=0.194, test=0.193) f1: (train=0.278, test=0.278) recall: (train=1.000, test=1.000) roc_auc: (train=0.560, test=0.559) total time=  14.6s\n",
            "[CV 3/3; 11/15] START class_weight={0: 0.05, 1: 0.95}, max_depth=5..............\n",
            "[CV 3/3; 11/15] END class_weight={0: 0.05, 1: 0.95}, max_depth=5; accuracy: (train=0.161, test=0.161) average_precision: (train=0.194, test=0.193) f1: (train=0.278, test=0.278) recall: (train=1.000, test=1.000) roc_auc: (train=0.560, test=0.559) total time=  14.6s\n",
            "[CV 1/3; 12/15] START class_weight={0: 0.05, 1: 0.95}, max_depth=10.............\n",
            "[CV 1/3; 12/15] END class_weight={0: 0.05, 1: 0.95}, max_depth=10; accuracy: (train=0.162, test=0.162) average_precision: (train=0.222, test=0.219) f1: (train=0.278, test=0.278) recall: (train=1.000, test=0.999) roc_auc: (train=0.587, test=0.585) total time=  22.8s\n",
            "[CV 2/3; 12/15] START class_weight={0: 0.05, 1: 0.95}, max_depth=10.............\n",
            "[CV 2/3; 12/15] END class_weight={0: 0.05, 1: 0.95}, max_depth=10; accuracy: (train=0.162, test=0.162) average_precision: (train=0.223, test=0.219) f1: (train=0.278, test=0.278) recall: (train=1.000, test=0.999) roc_auc: (train=0.588, test=0.585) total time=  22.9s\n",
            "[CV 3/3; 12/15] START class_weight={0: 0.05, 1: 0.95}, max_depth=10.............\n",
            "[CV 3/3; 12/15] END class_weight={0: 0.05, 1: 0.95}, max_depth=10; accuracy: (train=0.162, test=0.162) average_precision: (train=0.222, test=0.218) f1: (train=0.278, test=0.278) recall: (train=1.000, test=0.999) roc_auc: (train=0.586, test=0.583) total time=  22.9s\n",
            "[CV 1/3; 13/15] START class_weight={0: 0.05, 1: 0.95}, max_depth=15.............\n",
            "[CV 1/3; 13/15] END class_weight={0: 0.05, 1: 0.95}, max_depth=15; accuracy: (train=0.173, test=0.169) average_precision: (train=0.248, test=0.221) f1: (train=0.280, test=0.277) recall: (train=0.999, test=0.989) roc_auc: (train=0.610, test=0.590) total time=  27.9s\n",
            "[CV 2/3; 13/15] START class_weight={0: 0.05, 1: 0.95}, max_depth=15.............\n",
            "[CV 2/3; 13/15] END class_weight={0: 0.05, 1: 0.95}, max_depth=15; accuracy: (train=0.172, test=0.169) average_precision: (train=0.248, test=0.221) f1: (train=0.280, test=0.277) recall: (train=0.999, test=0.989) roc_auc: (train=0.609, test=0.591) total time=  28.5s\n",
            "[CV 3/3; 13/15] START class_weight={0: 0.05, 1: 0.95}, max_depth=15.............\n",
            "[CV 3/3; 13/15] END class_weight={0: 0.05, 1: 0.95}, max_depth=15; accuracy: (train=0.172, test=0.169) average_precision: (train=0.247, test=0.220) f1: (train=0.280, test=0.277) recall: (train=0.999, test=0.990) roc_auc: (train=0.607, test=0.589) total time=  28.8s\n",
            "[CV 1/3; 14/15] START class_weight={0: 0.05, 1: 0.95}, max_depth=20.............\n",
            "[CV 1/3; 14/15] END class_weight={0: 0.05, 1: 0.95}, max_depth=20; accuracy: (train=0.211, test=0.197) average_precision: (train=0.305, test=0.212) f1: (train=0.290, test=0.276) recall: (train=0.998, test=0.949) roc_auc: (train=0.649, test=0.581) total time=  32.2s\n",
            "[CV 2/3; 14/15] START class_weight={0: 0.05, 1: 0.95}, max_depth=20.............\n",
            "[CV 2/3; 14/15] END class_weight={0: 0.05, 1: 0.95}, max_depth=20; accuracy: (train=0.209, test=0.195) average_precision: (train=0.301, test=0.213) f1: (train=0.289, test=0.276) recall: (train=0.998, test=0.952) roc_auc: (train=0.646, test=0.583) total time=  33.2s\n",
            "[CV 3/3; 14/15] START class_weight={0: 0.05, 1: 0.95}, max_depth=20.............\n",
            "[CV 3/3; 14/15] END class_weight={0: 0.05, 1: 0.95}, max_depth=20; accuracy: (train=0.207, test=0.194) average_precision: (train=0.300, test=0.212) f1: (train=0.289, test=0.276) recall: (train=0.998, test=0.954) roc_auc: (train=0.644, test=0.583) total time=  33.8s\n",
            "[CV 1/3; 15/15] START class_weight={0: 0.05, 1: 0.95}, max_depth=25.............\n",
            "[CV 1/3; 15/15] END class_weight={0: 0.05, 1: 0.95}, max_depth=25; accuracy: (train=0.286, test=0.251) average_precision: (train=0.398, test=0.201) f1: (train=0.310, test=0.273) recall: (train=0.997, test=0.873) roc_auc: (train=0.710, test=0.565) total time=  35.9s\n",
            "[CV 2/3; 15/15] START class_weight={0: 0.05, 1: 0.95}, max_depth=25.............\n",
            "[CV 2/3; 15/15] END class_weight={0: 0.05, 1: 0.95}, max_depth=25; accuracy: (train=0.279, test=0.245) average_precision: (train=0.392, test=0.202) f1: (train=0.308, test=0.273) recall: (train=0.997, test=0.880) roc_auc: (train=0.705, test=0.567) total time=  36.8s\n",
            "[CV 3/3; 15/15] START class_weight={0: 0.05, 1: 0.95}, max_depth=25.............\n",
            "[CV 3/3; 15/15] END class_weight={0: 0.05, 1: 0.95}, max_depth=25; accuracy: (train=0.274, test=0.242) average_precision: (train=0.389, test=0.202) f1: (train=0.307, test=0.273) recall: (train=0.997, test=0.884) roc_auc: (train=0.702, test=0.567) total time=  37.2s\n"
          ]
        },
        {
          "output_type": "execute_result",
          "data": {
            "text/plain": [
              "GridSearchCV(cv=3, estimator=DecisionTreeClassifier(random_state=1),\n",
              "             param_grid={'class_weight': [{0: 0.5, 1: 0.5}, {0: 0.3, 1: 0.7},\n",
              "                                          {0: 0.05, 1: 0.95}],\n",
              "                         'max_depth': [5, 10, 15, 20, 25]},\n",
              "             refit=False, return_train_score=True,\n",
              "             scoring=['accuracy', 'f1', 'average_precision', 'roc_auc',\n",
              "                      'recall'],\n",
              "             verbose=15)"
            ]
          },
          "metadata": {},
          "execution_count": 63
        }
      ]
    },
    {
      "cell_type": "markdown",
      "source": [
        "Performance is barely better than logistic regression, and it overfits very quickly. \n",
        "\n",
        "Best model is max_depth=15, class weights 1= 0.95"
      ],
      "metadata": {
        "id": "bdzuV-7FX1jL"
      }
    },
    {
      "cell_type": "code",
      "source": [
        "dtreebest = DecisionTreeClassifier(max_depth = 15,class_weight={0:.0001,1:0.9999})\n",
        "dtreebest.fit(X_train_unscaled,y_train)\n",
        "y_pred = dtreebest.predict(X_test_unscaled)\n",
        "\n",
        "print(classification_report(y_test,y_pred))"
      ],
      "metadata": {
        "colab": {
          "base_uri": "https://localhost:8080/"
        },
        "id": "uoemNUDrHZ8x",
        "outputId": "4284e7c5-af6f-4d34-e394-4c63cf843253"
      },
      "execution_count": 66,
      "outputs": [
        {
          "output_type": "stream",
          "name": "stdout",
          "text": [
            "              precision    recall  f1-score   support\n",
            "\n",
            "           0       0.85      0.00      0.00   1226968\n",
            "           1       0.16      1.00      0.28    235703\n",
            "\n",
            "    accuracy                           0.16   1462671\n",
            "   macro avg       0.51      0.50      0.14   1462671\n",
            "weighted avg       0.74      0.16      0.05   1462671\n",
            "\n"
          ]
        }
      ]
    },
    {
      "cell_type": "code",
      "source": [
        "\n",
        "# creating dictionaries to store metrics for different knn models\n",
        "valid_acc = dict()\n",
        "train_acc = dict()\n",
        "\n",
        "valid_AUC = dict()\n",
        "train_AUC = dict()\n",
        "\n",
        "train_cm = dict()\n",
        "valid_cm = dict()\n",
        "\n",
        "train_f1 = dict()\n",
        "valid_f1 = dict()\n",
        "\n",
        "train_prc = dict()\n",
        "valid_prc = dict()\n",
        "\n",
        "train_proba1 = dict()\n",
        "valid_proba1 = dict()\n",
        "\n",
        "\n",
        "# create subplots\n",
        "figs, axes = plt.subplots(1, 2, figsize=(20, 10))\n",
        "\n",
        "\n",
        "depths = range(20,61,10)\n",
        "\n",
        "for d in depths:\n",
        "  print(f\"Using max depth = {d}\")\n",
        "  DTCmodel = DecisionTreeClassifier(max_depth = d,class_weight={0:.0001,1:0.9999}) # intitalize a DTCmodel with a new max depth\n",
        "  DTCmodel.fit(X_train_unscaled,y_train) # fit the model to unscaled train data\n",
        "\n",
        "  # predicting on training and validation sets\n",
        "  y_train_predicted = DTCmodel.predict(X_train_unscaled) \n",
        "  y_test_predicted = DTCmodel.predict(X_test_unscaled) \n",
        "\n",
        "  # soft predictions on training and validation data\n",
        "  y_train_proba = DTCmodel.predict_proba(X_train_unscaled) \n",
        "  y_test_proba = DTCmodel.predict_proba(X_test_unscaled) \n",
        "\n",
        "  # saving metrics for training and validayion data\n",
        "  # calculate accuracy\n",
        "  valid_acc[d] = accuracy_score(y_test, y_test_predicted)\n",
        "  train_acc[d] = accuracy_score(y_train,y_train_predicted)\n",
        "\n",
        "  # getting roc_auc scores for training and validation sets \n",
        "  valid_AUC[d] = roc_auc_score(y_test, y_test_proba[:,1])\n",
        "  train_AUC[d] = roc_auc_score(y_train,y_train_proba[:,1])\n",
        "\n",
        "  # getting confusion matrices\n",
        "  valid_cm[d] = confusion_matrix(y_test, y_test_predicted)\n",
        "  train_cm[d] = confusion_matrix(y_train, y_train_predicted)\n",
        "\n",
        "  # F1 -scores\n",
        "  valid_f1[d] = f1_score(y_test, y_test_predicted)\n",
        "  train_f1[d] = f1_score(y_train, y_train_predicted)\n",
        "\n",
        "  # precision recall curves\n",
        "  valid_prc[d] = precision_recall_curve(y_test, y_test_proba[:,1])\n",
        "  train_prc[d] = precision_recall_curve(y_train, y_train_proba[:,1])\n",
        "\n",
        "  # saving probabilities of positive class\n",
        "  valid_proba1[d] = y_test_proba[:,1]\n",
        "  train_proba1[d] = y_train_proba[:,1]\n",
        "\n",
        "  # plot ROC curve for training and validation sets\n",
        "  plot_roc_curve(DTCmodel, X_train_unscaled, y_train, ax=axes[0],name=f\"maxdepth = {d}\")\n",
        "  plot_roc_curve(DTCmodel, X_test_unscaled, y_test, ax=axes[1],name=f\"maxdepth = {d}\")\n",
        "\n",
        "  # Add line y=x and titls\n",
        "  for axis_num, plot_title in enumerate(['Training set', 'Validation set']):\n",
        "    axes[axis_num].plot([0,1], [0,1], color='black', linestyle='--')\n",
        "    axes[axis_num].set_title(plot_title)\n",
        "\n",
        "plt.show()\n"
      ],
      "metadata": {
        "colab": {
          "base_uri": "https://localhost:8080/",
          "height": 1000
        },
        "id": "HuGPBsR_KXmS",
        "outputId": "34870dc6-1cec-4721-b5ca-66910791b177"
      },
      "execution_count": 72,
      "outputs": [
        {
          "output_type": "stream",
          "name": "stdout",
          "text": [
            "Using max depth = 20\n"
          ]
        },
        {
          "output_type": "stream",
          "name": "stderr",
          "text": [
            "/usr/local/lib/python3.7/dist-packages/sklearn/utils/deprecation.py:87: FutureWarning: Function plot_roc_curve is deprecated; Function :func:`plot_roc_curve` is deprecated in 1.0 and will be removed in 1.2. Use one of the class methods: :meth:`sklearn.metric.RocCurveDisplay.from_predictions` or :meth:`sklearn.metric.RocCurveDisplay.from_estimator`.\n",
            "  warnings.warn(msg, category=FutureWarning)\n",
            "/usr/local/lib/python3.7/dist-packages/sklearn/utils/deprecation.py:87: FutureWarning: Function plot_roc_curve is deprecated; Function :func:`plot_roc_curve` is deprecated in 1.0 and will be removed in 1.2. Use one of the class methods: :meth:`sklearn.metric.RocCurveDisplay.from_predictions` or :meth:`sklearn.metric.RocCurveDisplay.from_estimator`.\n",
            "  warnings.warn(msg, category=FutureWarning)\n"
          ]
        },
        {
          "output_type": "stream",
          "name": "stdout",
          "text": [
            "Using max depth = 30\n"
          ]
        },
        {
          "output_type": "stream",
          "name": "stderr",
          "text": [
            "/usr/local/lib/python3.7/dist-packages/sklearn/utils/deprecation.py:87: FutureWarning: Function plot_roc_curve is deprecated; Function :func:`plot_roc_curve` is deprecated in 1.0 and will be removed in 1.2. Use one of the class methods: :meth:`sklearn.metric.RocCurveDisplay.from_predictions` or :meth:`sklearn.metric.RocCurveDisplay.from_estimator`.\n",
            "  warnings.warn(msg, category=FutureWarning)\n",
            "/usr/local/lib/python3.7/dist-packages/sklearn/utils/deprecation.py:87: FutureWarning: Function plot_roc_curve is deprecated; Function :func:`plot_roc_curve` is deprecated in 1.0 and will be removed in 1.2. Use one of the class methods: :meth:`sklearn.metric.RocCurveDisplay.from_predictions` or :meth:`sklearn.metric.RocCurveDisplay.from_estimator`.\n",
            "  warnings.warn(msg, category=FutureWarning)\n"
          ]
        },
        {
          "output_type": "stream",
          "name": "stdout",
          "text": [
            "Using max depth = 40\n"
          ]
        },
        {
          "output_type": "stream",
          "name": "stderr",
          "text": [
            "/usr/local/lib/python3.7/dist-packages/sklearn/utils/deprecation.py:87: FutureWarning: Function plot_roc_curve is deprecated; Function :func:`plot_roc_curve` is deprecated in 1.0 and will be removed in 1.2. Use one of the class methods: :meth:`sklearn.metric.RocCurveDisplay.from_predictions` or :meth:`sklearn.metric.RocCurveDisplay.from_estimator`.\n",
            "  warnings.warn(msg, category=FutureWarning)\n",
            "/usr/local/lib/python3.7/dist-packages/sklearn/utils/deprecation.py:87: FutureWarning: Function plot_roc_curve is deprecated; Function :func:`plot_roc_curve` is deprecated in 1.0 and will be removed in 1.2. Use one of the class methods: :meth:`sklearn.metric.RocCurveDisplay.from_predictions` or :meth:`sklearn.metric.RocCurveDisplay.from_estimator`.\n",
            "  warnings.warn(msg, category=FutureWarning)\n"
          ]
        },
        {
          "output_type": "stream",
          "name": "stdout",
          "text": [
            "Using max depth = 50\n"
          ]
        },
        {
          "output_type": "stream",
          "name": "stderr",
          "text": [
            "/usr/local/lib/python3.7/dist-packages/sklearn/utils/deprecation.py:87: FutureWarning: Function plot_roc_curve is deprecated; Function :func:`plot_roc_curve` is deprecated in 1.0 and will be removed in 1.2. Use one of the class methods: :meth:`sklearn.metric.RocCurveDisplay.from_predictions` or :meth:`sklearn.metric.RocCurveDisplay.from_estimator`.\n",
            "  warnings.warn(msg, category=FutureWarning)\n",
            "/usr/local/lib/python3.7/dist-packages/sklearn/utils/deprecation.py:87: FutureWarning: Function plot_roc_curve is deprecated; Function :func:`plot_roc_curve` is deprecated in 1.0 and will be removed in 1.2. Use one of the class methods: :meth:`sklearn.metric.RocCurveDisplay.from_predictions` or :meth:`sklearn.metric.RocCurveDisplay.from_estimator`.\n",
            "  warnings.warn(msg, category=FutureWarning)\n"
          ]
        },
        {
          "output_type": "stream",
          "name": "stdout",
          "text": [
            "Using max depth = 60\n"
          ]
        },
        {
          "output_type": "stream",
          "name": "stderr",
          "text": [
            "/usr/local/lib/python3.7/dist-packages/sklearn/utils/deprecation.py:87: FutureWarning: Function plot_roc_curve is deprecated; Function :func:`plot_roc_curve` is deprecated in 1.0 and will be removed in 1.2. Use one of the class methods: :meth:`sklearn.metric.RocCurveDisplay.from_predictions` or :meth:`sklearn.metric.RocCurveDisplay.from_estimator`.\n",
            "  warnings.warn(msg, category=FutureWarning)\n",
            "/usr/local/lib/python3.7/dist-packages/sklearn/utils/deprecation.py:87: FutureWarning: Function plot_roc_curve is deprecated; Function :func:`plot_roc_curve` is deprecated in 1.0 and will be removed in 1.2. Use one of the class methods: :meth:`sklearn.metric.RocCurveDisplay.from_predictions` or :meth:`sklearn.metric.RocCurveDisplay.from_estimator`.\n",
            "  warnings.warn(msg, category=FutureWarning)\n"
          ]
        },
        {
          "output_type": "display_data",
          "data": {
            "text/plain": [
              "<Figure size 1440x720 with 2 Axes>"
            ],
            "image/png": "[encoded data removed]"
          },
          "metadata": {
            "needs_background": "light"
          }
        }
      ]
    },
    {
      "cell_type": "markdown",
      "source": [
        "Decision tree validation set ROC AUC maxes out around 0.59. for a training ROC AUC of 0.59 at a max_depth of 12. This is a minor improvement over the best logistic regression with a ROC AUC of 0.54. \n",
        "\n",
        "Let's plot the accuracy, precision, and ROC AUC with depth."
      ],
      "metadata": {
        "id": "KW_PEi0bMmXy"
      }
    },
    {
      "cell_type": "code",
      "source": [
        "dtree_metrics = pd.DataFrame()\n",
        "dtree_metrics['valid_accuracy'] = pd.Series(valid_acc)\n",
        "dtree_metrics['train_accuracy'] = pd.Series(train_acc)\n",
        "dtree_metrics['valid_AUC'] = pd.Series(valid_AUC)\n",
        "dtree_metrics['train_AUC'] = pd.Series(train_AUC)\n",
        "dtree_metrics['valid_f1'] = pd.Series(valid_f1)\n",
        "dtree_metrics['train_f1'] = pd.Series(train_f1)\n",
        "\n",
        "display(np.around(dtree_metrics,2))"
      ],
      "metadata": {
        "colab": {
          "base_uri": "https://localhost:8080/",
          "height": 206
        },
        "id": "OBDarBS4Kc-S",
        "outputId": "2510da82-12c3-40be-ce3b-5e7fb34243f1"
      },
      "execution_count": 73,
      "outputs": [
        {
          "output_type": "display_data",
          "data": {
            "text/plain": [
              "    valid_accuracy  train_accuracy  valid_AUC  train_AUC  valid_f1  train_f1\n",
              "20            0.16            0.17       0.59       0.60      0.28      0.28\n",
              "30            0.21            0.23       0.58       0.67      0.27      0.29\n",
              "40            0.31            0.37       0.55       0.78      0.27      0.34\n",
              "50            0.43            0.54       0.53       0.88      0.26      0.41\n",
              "60            0.52            0.67       0.52       0.94      0.25      0.49"
            ],
            "text/html": [
              "\n",
              "  <div id=\"df-f88e408a-ba10-4e09-aad5-f0dd14bfa1e5\">\n",
              "    <div class=\"colab-df-container\">\n",
              "      <div>\n",
              "<style scoped>\n",
              "    .dataframe tbody tr th:only-of-type {\n",
              "        vertical-align: middle;\n",
              "    }\n",
              "\n",
              "    .dataframe tbody tr th {\n",
              "        vertical-align: top;\n",
              "    }\n",
              "\n",
              "    .dataframe thead th {\n",
              "        text-align: right;\n",
              "    }\n",
              "</style>\n",
              "<table border=\"1\" class=\"dataframe\">\n",
              "  <thead>\n",
              "    <tr style=\"text-align: right;\">\n",
              "      <th></th>\n",
              "      <th>valid_accuracy</th>\n",
              "      <th>train_accuracy</th>\n",
              "      <th>valid_AUC</th>\n",
              "      <th>train_AUC</th>\n",
              "      <th>valid_f1</th>\n",
              "      <th>train_f1</th>\n",
              "    </tr>\n",
              "  </thead>\n",
              "  <tbody>\n",
              "    <tr>\n",
              "      <th>20</th>\n",
              "      <td>0.16</td>\n",
              "      <td>0.17</td>\n",
              "      <td>0.59</td>\n",
              "      <td>0.60</td>\n",
              "      <td>0.28</td>\n",
              "      <td>0.28</td>\n",
              "    </tr>\n",
              "    <tr>\n",
              "      <th>30</th>\n",
              "      <td>0.21</td>\n",
              "      <td>0.23</td>\n",
              "      <td>0.58</td>\n",
              "      <td>0.67</td>\n",
              "      <td>0.27</td>\n",
              "      <td>0.29</td>\n",
              "    </tr>\n",
              "    <tr>\n",
              "      <th>40</th>\n",
              "      <td>0.31</td>\n",
              "      <td>0.37</td>\n",
              "      <td>0.55</td>\n",
              "      <td>0.78</td>\n",
              "      <td>0.27</td>\n",
              "      <td>0.34</td>\n",
              "    </tr>\n",
              "    <tr>\n",
              "      <th>50</th>\n",
              "      <td>0.43</td>\n",
              "      <td>0.54</td>\n",
              "      <td>0.53</td>\n",
              "      <td>0.88</td>\n",
              "      <td>0.26</td>\n",
              "      <td>0.41</td>\n",
              "    </tr>\n",
              "    <tr>\n",
              "      <th>60</th>\n",
              "      <td>0.52</td>\n",
              "      <td>0.67</td>\n",
              "      <td>0.52</td>\n",
              "      <td>0.94</td>\n",
              "      <td>0.25</td>\n",
              "      <td>0.49</td>\n",
              "    </tr>\n",
              "  </tbody>\n",
              "</table>\n",
              "</div>\n",
              "      <button class=\"colab-df-convert\" onclick=\"convertToInteractive('df-f88e408a-ba10-4e09-aad5-f0dd14bfa1e5')\"\n",
              "              title=\"Convert this dataframe to an interactive table.\"\n",
              "              style=\"display:none;\">\n",
              "        \n",
              "  <svg xmlns=\"http://www.w3.org/2000/svg\" height=\"24px\"viewBox=\"0 0 24 24\"\n",
              "       width=\"24px\">\n",
              "    <path d=\"M0 0h24v24H0V0z\" fill=\"none\"/>\n",
              "    <path d=\"M18.56 5.44l.94 2.06.94-2.06 2.06-.94-2.06-.94-.94-2.06-.94 2.06-2.06.94zm-11 1L8.5 8.5l.94-2.06 2.06-.94-2.06-.94L8.5 2.5l-.94 2.06-2.06.94zm10 10l.94 2.06.94-2.06 2.06-.94-2.06-.94-.94-2.06-.94 2.06-2.06.94z\"/><path d=\"M17.41 7.96l-1.37-1.37c-.4-.4-.92-.59-1.43-.59-.52 0-1.04.2-1.43.59L10.3 9.45l-7.72 7.72c-.78.78-.78 2.05 0 2.83L4 21.41c.39.39.9.59 1.41.59.51 0 1.02-.2 1.41-.59l7.78-7.78 2.81-2.81c.8-.78.8-2.07 0-2.86zM5.41 20L4 18.59l7.72-7.72 1.47 1.35L5.41 20z\"/>\n",
              "  </svg>\n",
              "      </button>\n",
              "      \n",
              "  <style>\n",
              "    .colab-df-container {\n",
              "      display:flex;\n",
              "      flex-wrap:wrap;\n",
              "      gap: 12px;\n",
              "    }\n",
              "\n",
              "    .colab-df-convert {\n",
              "      background-color: #E8F0FE;\n",
              "      border: none;\n",
              "      border-radius: 50%;\n",
              "      cursor: pointer;\n",
              "      display: none;\n",
              "      fill: #1967D2;\n",
              "      height: 32px;\n",
              "      padding: 0 0 0 0;\n",
              "      width: 32px;\n",
              "    }\n",
              "\n",
              "    .colab-df-convert:hover {\n",
              "      background-color: #E2EBFA;\n",
              "      box-shadow: 0px 1px 2px rgba(60, 64, 67, 0.3), 0px 1px 3px 1px rgba(60, 64, 67, 0.15);\n",
              "      fill: #174EA6;\n",
              "    }\n",
              "\n",
              "    [theme=dark] .colab-df-convert {\n",
              "      background-color: #3B4455;\n",
              "      fill: #D2E3FC;\n",
              "    }\n",
              "\n",
              "    [theme=dark] .colab-df-convert:hover {\n",
              "      background-color: #434B5C;\n",
              "      box-shadow: 0px 1px 3px 1px rgba(0, 0, 0, 0.15);\n",
              "      filter: drop-shadow(0px 1px 2px rgba(0, 0, 0, 0.3));\n",
              "      fill: #FFFFFF;\n",
              "    }\n",
              "  </style>\n",
              "\n",
              "      <script>\n",
              "        const buttonEl =\n",
              "          document.querySelector('#df-f88e408a-ba10-4e09-aad5-f0dd14bfa1e5 button.colab-df-convert');\n",
              "        buttonEl.style.display =\n",
              "          google.colab.kernel.accessAllowed ? 'block' : 'none';\n",
              "\n",
              "        async function convertToInteractive(key) {\n",
              "          const element = document.querySelector('#df-f88e408a-ba10-4e09-aad5-f0dd14bfa1e5');\n",
              "          const dataTable =\n",
              "            await google.colab.kernel.invokeFunction('convertToInteractive',\n",
              "                                                     [key], {});\n",
              "          if (!dataTable) return;\n",
              "\n",
              "          const docLinkHtml = 'Like what you see? Visit the ' +\n",
              "            '<a target=\"_blank\" href=https://colab.research.google.com/notebooks/data_table.ipynb>data table notebook</a>'\n",
              "            + ' to learn more about interactive tables.';\n",
              "          element.innerHTML = '';\n",
              "          dataTable['output_type'] = 'display_data';\n",
              "          await google.colab.output.renderOutput(dataTable, element);\n",
              "          const docLink = document.createElement('div');\n",
              "          docLink.innerHTML = docLinkHtml;\n",
              "          element.appendChild(docLink);\n",
              "        }\n",
              "      </script>\n",
              "    </div>\n",
              "  </div>\n",
              "  "
            ]
          },
          "metadata": {}
        }
      ]
    },
    {
      "cell_type": "code",
      "source": [
        "plt.subplots(1,3,figsize=(20,5))\n",
        "\n",
        "plt.subplot(1,3,1)\n",
        "plt.plot(dtree_metrics['train_AUC'],'.-',label='Train_AUC')\n",
        "plt.plot(dtree_metrics['valid_AUC'],'.-',label='Validation_AUC')\n",
        "plt.title(\"Figure 1:AUC vs Max depth\")\n",
        "plt.xlabel(\"Max depth\")\n",
        "plt.ylabel(\"ROC Area under curve\")\n",
        "plt.legend()\n",
        "\n",
        "plt.subplot(1,3,2)\n",
        "plt.plot(dtree_metrics['train_f1'],'.-',label='Train_F1score')\n",
        "plt.plot(dtree_metrics['valid_f1'],'.-',label='Validation_F1score')\n",
        "# getting accuracy for baseline model that always predicts 1 no matter what.\n",
        "baseline1_f1 = accuracy_score(y_test, [1]*y_test.shape[0])\n",
        "# getting accuracy for baseline model that always predicts 0 no matter what.\n",
        "baseline0_f1 = accuracy_score(y_test, [0]*y_test.shape[0])\n",
        "plt.axhline(baseline1_f1,color = 'red',linestyle = '--',label=\"always 1 baseline\")\n",
        "plt.axhline(baseline0_f1,color = 'black',linestyle = '--',label=\"always 0 baseline\")\n",
        "plt.xlabel(\"Max depth\")\n",
        "plt.ylabel(\"F1 score\")\n",
        "plt.title(\"Figure 2: F1score vs Max depth\")\n",
        "plt.legend()\n",
        "\n",
        "plt.subplot(1,3,3)\n",
        "plt.plot(dtree_metrics['train_accuracy'],'.-',label='Train_Accuracy')\n",
        "plt.plot(dtree_metrics['valid_accuracy'],'.-',label='Validation_Accuracy')\n",
        "# getting accuracy for baseline model that always predicts 1 no matter what.\n",
        "baseline1_acc = accuracy_score(y_test, [1]*y_test.shape[0])\n",
        "# getting accuracy for baseline model that always predicts 0 no matter what.\n",
        "baseline0_acc = accuracy_score(y_test, [0]*y_test.shape[0])\n",
        "plt.axhline(baseline1_acc,color = 'red',linestyle = '--',label=\"always 1 baseline\")\n",
        "plt.axhline(baseline1_acc,color = 'black',linestyle = '--',label=\"always 1 baseline\")\n",
        "plt.xlabel(\"Max depth\")\n",
        "plt.ylabel(\"Accuracy, \")\n",
        "plt.title(\"Figure 3: Accuracy  vs Max depth\")\n",
        "plt.legend()\n",
        "\n",
        "plt.show()"
      ],
      "metadata": {
        "colab": {
          "base_uri": "https://localhost:8080/",
          "height": 311
        },
        "id": "zj9kDkRYNU9d",
        "outputId": "517e4e17-0129-4861-8a58-4d5e30ebf769"
      },
      "execution_count": 74,
      "outputs": [
        {
          "output_type": "display_data",
          "data": {
            "text/plain": [
              "<Figure size 1440x360 with 3 Axes>"
            ],
            "image/png": "[encoded data removed]"
          },
          "metadata": {
            "needs_background": "light"
          }
        }
      ]
    },
    {
      "cell_type": "markdown",
      "source": [
        "Max_depth of 10 and 12 is chosen for further analysis:\n",
        "confusion matrix and precision recall curve"
      ],
      "metadata": {
        "id": "0dePbx1NOMhM"
      }
    },
    {
      "cell_type": "code",
      "source": [
        "plt.subplots(2,2,figsize=(8,3))\n",
        "d1 = 20\n",
        "d2 = 30\n",
        "\n",
        "plt.subplot(1,2,1)\n",
        "sns.heatmap(train_cm[d1],cmap=\"coolwarm\",annot=True,fmt='g')\n",
        "plt.title(f\"Training confusion matrix at depth = {d1}\")\n",
        "plt.xlabel(\"Predicted class\")\n",
        "plt.ylabel(\"True class\")\n",
        "\n",
        "plt.subplot(1,2,2)\n",
        "sns.heatmap(valid_cm[d1],cmap=\"coolwarm\",annot=True,fmt='g')\n",
        "plt.title(f\"Validation confusion matrix at depth={d1}\")\n",
        "plt.xlabel(\"Predicted class\")\n",
        "plt.ylabel(\"True class\")\n",
        "\n",
        "plt.show()\n",
        "\n",
        "\n",
        "plt.subplots(2,2,figsize=(8,3))\n",
        "\n",
        "plt.subplot(1,2,1)\n",
        "sns.heatmap(train_cm[d2],cmap=\"coolwarm\",annot=True,fmt='g')\n",
        "plt.title(f\"Training confusion matrix at depth={d2}\")\n",
        "plt.xlabel(\"Predicted class\")\n",
        "plt.ylabel(\"True class\")\n",
        "\n",
        "plt.subplot(1,2,2)\n",
        "sns.heatmap(valid_cm[d2],cmap=\"coolwarm\",annot=True,fmt='g')\n",
        "plt.title(f\"Validation confusion matrix at depth={d2}\")\n",
        "plt.xlabel(\"Predicted class\")\n",
        "plt.ylabel(\"True class\")\n",
        "\n",
        "plt.show()"
      ],
      "metadata": {
        "colab": {
          "base_uri": "https://localhost:8080/",
          "height": 465
        },
        "id": "vnd_MaqfOCDv",
        "outputId": "0b8e9412-f992-4520-89d2-377ce5c91fe2"
      },
      "execution_count": 75,
      "outputs": [
        {
          "output_type": "display_data",
          "data": {
            "text/plain": [
              "<Figure size 576x216 with 4 Axes>"
            ],
            "image/png": "[encoded data removed]"
          },
          "metadata": {
            "needs_background": "light"
          }
        },
        {
          "output_type": "display_data",
          "data": {
            "text/plain": [
              "<Figure size 576x216 with 4 Axes>"
            ],
            "image/png": "[encoded data removed]"
          },
          "metadata": {
            "needs_background": "light"
          }
        }
      ]
    },
    {
      "cell_type": "markdown",
      "source": [
        "Precision and recall for both decision trees are low. There are a lot of false negatives."
      ],
      "metadata": {
        "id": "KCtsZxuoPF7m"
      }
    },
    {
      "cell_type": "code",
      "source": [
        "from sklearn.metrics import precision_recall_curve\n",
        "\n",
        "from sklearn.metrics import precision_recall_curve\n",
        "from sklearn.metrics import PrecisionRecallDisplay\n",
        "\n",
        "precision3, recall3, thresholds3 = precision_recall_curve(y_test, valid_proba1[d1])\n",
        "precision5, recall5, thresholds5 = precision_recall_curve(y_test, valid_proba1[d2])\n",
        "\n",
        "# create subplots\n",
        "plt.figure()\n",
        "ax = plt.gca()\n",
        "#plt.step(recall3,precision3,where='mid',label=\"d=3\")\n",
        "#plt.step(recall5,precision5,where = 'mid',label=\"d=5\")\n",
        "\n",
        "# precision_recall_curve(y_valid,valid_proba1[21],ax=ax,name=\"k=21\")\n",
        "PrecisionRecallDisplay.from_predictions(y_test,valid_proba1[d1],ax=ax,name=f\"d={d1}\")\n",
        "PrecisionRecallDisplay.from_predictions(y_test,valid_proba1[d2],ax=ax,name=f\"d={d2}\")\n",
        "plt.legend()\n",
        "plt.title(f\"Validation set, decision tree Precision-Recall curves for d={d1}, d={d2}\")\n",
        "plt.show()"
      ],
      "metadata": {
        "colab": {
          "base_uri": "https://localhost:8080/",
          "height": 295
        },
        "id": "97sFtFilPPQb",
        "outputId": "729044fd-dee5-4602-fc5b-a7c628f8b3d2"
      },
      "execution_count": 76,
      "outputs": [
        {
          "output_type": "display_data",
          "data": {
            "text/plain": [
              "<Figure size 432x288 with 1 Axes>"
            ],
            "image/png": "[encoded data removed]"
          },
          "metadata": {
            "needs_background": "light"
          }
        }
      ]
    },
    {
      "cell_type": "markdown",
      "source": [
        "Trying downsampling to a balanced dataset. "
      ],
      "metadata": {
        "id": "jRnlBPgRVX9D"
      }
    },
    {
      "cell_type": "code",
      "source": [
        "y_train.value_counts()"
      ],
      "metadata": {
        "colab": {
          "base_uri": "https://localhost:8080/"
        },
        "id": "OEzi15kunndq",
        "outputId": "ae1069a1-e877-4a27-db2a-6ce6dca333f2"
      },
      "execution_count": 12,
      "outputs": [
        {
          "output_type": "execute_result",
          "data": {
            "text/plain": [
              "0    4907870\n",
              "1     942813\n",
              "Name: p_forgot_bin, dtype: int64"
            ]
          },
          "metadata": {},
          "execution_count": 12
        }
      ]
    },
    {
      "cell_type": "markdown",
      "source": [
        "We will reduce the counts of 0s to be the same as the counts of 1."
      ],
      "metadata": {
        "id": "VBWg_1XjoMhQ"
      }
    },
    {
      "cell_type": "code",
      "source": [
        "\n",
        "\n",
        "\n",
        "\n",
        "\n",
        "# importing resampling\n",
        "from sklearn.utils import resample\n",
        "\n",
        "def downsample(X_train_unscaled,y_train,frac_ones,random_state):\n",
        "  \"\"\"\n",
        "  Downsample the training Xy concatenated data to the fraction of ones wanted. \n",
        "  \n",
        "  Inputs:\n",
        "  X_train_unscaled : the dataframe with features\n",
        "  y_train : the series with target variable corresponding to X_train_unscaled containing 0 adn 1 only.\n",
        "  frac_ones: the fraction of y=1 in the dataset\n",
        "  random_state: the random seed number to use when sampling from the zeros.\n",
        "  Outputs:\n",
        "  x_train_downsampled, y_train_downsampled\n",
        "\n",
        "  \n",
        "  Example: if frac_ones = 0.5, then we will downsample the zeros so that it is half the dataset.\n",
        "  \"\"\"\n",
        "  # getting the number of ones and zeros in target variable\n",
        "  num_zeros = y_train[y_train==0].shape[0]\n",
        "  num_ones = y_train[y_train==1].shape[0]\n",
        "\n",
        "  # what should be our final counts of zeros to achieve the frac_ones in arguments.\n",
        "  final_numzeros = np.around(num_ones*(1-frac_ones)/frac_ones,0).astype(int)\n",
        "\n",
        "  # joining X and y training before downsampling\n",
        "  Xy = pd.concat([X_train_unscaled,y_train],axis=1)\n",
        "\n",
        "  # filtering out the rows with y==0\n",
        "  Xyzeros = Xy[y_train==0]\n",
        "\n",
        "  #fraction to sample from zeros data\n",
        "  fractionzeros = final_numzeros/num_zeros\n",
        "\n",
        "  #sampling from Xyzeros using the random seed number:\n",
        "  final_Xyzeros = Xyzeros.sample(n = final_numzeros,random_state=random_state)\n",
        "\n",
        "  # concatenating with Xyones\n",
        "  Xyones = Xy[y_train==1]\n",
        "  final_Xy = pd.concat([Xyones,final_Xyzeros],axis=0)\n",
        "\n",
        "  #splitting into X and y\n",
        "  y_train_downsampled = final_Xy[y_train.name]\n",
        "  X_train_downsampled = final_Xy.drop(y_train.name,axis=1)\n",
        "\n",
        "  return X_train_downsampled,y_train_downsampled\n",
        "\n",
        "\n",
        "\n",
        "\n",
        "# grateful for the fact that i am here now.\n",
        "# grateful for my marks being good\n",
        "# grateful for Vai's support\n",
        "# grateful for beautiful weather\n",
        "# grateful for money to buy whatever i need.\n",
        "# grateful for all the people who have been so prompt in replying on LinkedIn\n",
        "# grateful for mental health resources and medication\n",
        "# grateful for space from my parents.\n",
        "# grateful for \n"
      ],
      "metadata": {
        "id": "MQuVujdRb2ei"
      },
      "execution_count": 30,
      "outputs": []
    },
    {
      "cell_type": "code",
      "source": [
        "X_train_downsampled,y_train_downsampled = downsample(X_train_unscaled,y_train,frac_ones=0.5,random_state=1)"
      ],
      "metadata": {
        "id": "nsaKVd6QxTL2"
      },
      "execution_count": 31,
      "outputs": []
    },
    {
      "cell_type": "code",
      "source": [
        "X_train_unscaled.shape,X_train_downsampled.shape"
      ],
      "metadata": {
        "colab": {
          "base_uri": "https://localhost:8080/"
        },
        "id": "aA3KyNE92Qev",
        "outputId": "38cd602d-49c4-4173-c62e-58401cd75f7e"
      },
      "execution_count": 32,
      "outputs": [
        {
          "output_type": "execute_result",
          "data": {
            "text/plain": [
              "((5850683, 11), (1885626, 11))"
            ]
          },
          "metadata": {},
          "execution_count": 32
        }
      ]
    },
    {
      "cell_type": "markdown",
      "source": [
        "SVM with different solvers (linear and radial) - try downsampling, mostly down and a little up and so on."
      ],
      "metadata": {
        "id": "drskb_pXUV7h"
      }
    },
    {
      "cell_type": "code",
      "source": [
        "#from sklearn.svm import LinearSVC\n",
        "from sklearn.pipeline import make_pipeline\n",
        "from sklearn.preprocessing import StandardScaler\n",
        "from sklearn.pca import PCA\n",
        "from sklearn.svm import SVC\n",
        "pipe1 = make_pipeline(StandardScaler(), SVC(gamma='auto'))\n",
        "clf.fit(X_train_unscaled, y_train)\n"
      ],
      "metadata": {
        "id": "gIj3zrJBUVH8"
      },
      "execution_count": null,
      "outputs": []
    },
    {
      "cell_type": "markdown",
      "source": [
        "Break and try PCA. \n",
        "then try SGD classifier."
      ],
      "metadata": {
        "id": "bLgwmBvye4Bu"
      }
    }
  ]
}