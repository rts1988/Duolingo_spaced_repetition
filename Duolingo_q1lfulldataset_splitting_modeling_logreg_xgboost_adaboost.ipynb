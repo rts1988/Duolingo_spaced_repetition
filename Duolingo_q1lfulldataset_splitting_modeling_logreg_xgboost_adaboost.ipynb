{
  "cells": [
    {
      "cell_type": "markdown",
      "metadata": {
        "id": "view-in-github",
        "colab_type": "text"
      },
      "source": [
        "<a href=\"https://colab.research.google.com/github/rts1988/Duolingo_spaced_repetition/blob/main/Duolingo_q1lfulldataset_splitting_modeling_logreg_xgboost_adaboost.ipynb\" target=\"_parent\"><img src=\"https://colab.research.google.com/assets/colab-badge.svg\" alt=\"Open In Colab\"/></a>"
      ]
    },
    {
      "cell_type": "markdown",
      "metadata": {
        "id": "E5X6w6X5PQcc"
      },
      "source": [
        "Approach: \n",
        "Split Xq1 and yq1 into 80-20 train validation split.\n",
        "save them as separate. \n",
        "\n",
        "looking at\n",
        "1. log reg\n",
        "2. decision tree\n",
        "3. skipping svm and knn.\n",
        "4. random forest\n",
        "5. adaboost\n",
        "6. xgboost\n",
        "7. neural net dense in keras\n",
        "\n",
        "compare best performances for each type of model. "
      ]
    },
    {
      "cell_type": "markdown",
      "metadata": {
        "id": "KnpvNDT7lpB6"
      },
      "source": [
        "Getting yq1 and Xq1:\n",
        "\n",
        "Getting yq1 from datadfq1"
      ]
    },
    {
      "cell_type": "code",
      "execution_count": null,
      "metadata": {
        "colab": {
          "base_uri": "https://localhost:8080/"
        },
        "id": "R-WTApfQPI6o",
        "outputId": "f10b19b2-cf27-4e43-a384-6ffc819df405"
      },
      "outputs": [
        {
          "name": "stdout",
          "output_type": "stream",
          "text": [
            "Drive already mounted at /content/drive; to attempt to forcibly remount, call drive.mount(\"/content/drive\", force_remount=True).\n"
          ]
        }
      ],
      "source": [
        "import bz2\n",
        "import pickle\n",
        "import _pickle as cPickle\n",
        "import pandas as pd\n",
        "import seaborn as sns\n",
        "import matplotlib.pyplot as plt\n",
        "import numpy as np\n",
        "\n",
        "from google.colab import drive\n",
        "drive.mount('/content/drive')\n",
        "\n",
        "def decompress_pickle(file):\n",
        " data = bz2.BZ2File(file, 'rb')\n",
        " data = cPickle.load(data)\n",
        " return data\n",
        "\n",
        "def compressed_pickle(title, data):  # do not add extension in filename\n",
        " with bz2.BZ2File(title + '.pbz2', 'w') as f: \n",
        "  cPickle.dump(data, f)\n",
        "\n",
        "path_name = '/content/drive/MyDrive/'"
      ]
    },
    {
      "cell_type": "code",
      "execution_count": null,
      "metadata": {
        "id": "EWDuQfNJPuhp"
      },
      "outputs": [],
      "source": [
        "datadfq1 = decompress_pickle(path_name+\"Unseen_words_training_set.pbz2\") "
      ]
    },
    {
      "cell_type": "code",
      "execution_count": null,
      "metadata": {
        "colab": {
          "base_uri": "https://localhost:8080/",
          "height": 357
        },
        "id": "vhl6x5D-PvMh",
        "outputId": "c74ccf35-586b-416b-8175-7a59effaa854"
      },
      "outputs": [
        {
          "data": {
            "text/html": [
              "\n",
              "  <div id=\"df-3e4f7255-6093-469a-a8be-07041c0ad328\">\n",
              "    <div class=\"colab-df-container\">\n",
              "      <div>\n",
              "<style scoped>\n",
              "    .dataframe tbody tr th:only-of-type {\n",
              "        vertical-align: middle;\n",
              "    }\n",
              "\n",
              "    .dataframe tbody tr th {\n",
              "        vertical-align: top;\n",
              "    }\n",
              "\n",
              "    .dataframe thead th {\n",
              "        text-align: right;\n",
              "    }\n",
              "</style>\n",
              "<table border=\"1\" class=\"dataframe\">\n",
              "  <thead>\n",
              "    <tr style=\"text-align: right;\">\n",
              "      <th></th>\n",
              "      <th>p_recall</th>\n",
              "      <th>timestamp</th>\n",
              "      <th>delta</th>\n",
              "      <th>user_id</th>\n",
              "      <th>learning_language</th>\n",
              "      <th>ui_language</th>\n",
              "      <th>lexeme_id</th>\n",
              "      <th>lexeme_string</th>\n",
              "      <th>history_seen</th>\n",
              "      <th>history_correct</th>\n",
              "      <th>session_seen</th>\n",
              "      <th>session_correct</th>\n",
              "      <th>student_word</th>\n",
              "      <th>student_lang</th>\n",
              "    </tr>\n",
              "  </thead>\n",
              "  <tbody>\n",
              "    <tr>\n",
              "      <th>7</th>\n",
              "      <td>1.0</td>\n",
              "      <td>1362082032</td>\n",
              "      <td>444407</td>\n",
              "      <td>u:dDwF</td>\n",
              "      <td>es</td>\n",
              "      <td>en</td>\n",
              "      <td>73eecb492ca758ddab5371cf7b5cca32</td>\n",
              "      <td>bajo/bajo&lt;pr&gt;</td>\n",
              "      <td>3</td>\n",
              "      <td>3</td>\n",
              "      <td>1</td>\n",
              "      <td>1</td>\n",
              "      <td>(u:dDwF, 73eecb492ca758ddab5371cf7b5cca32)</td>\n",
              "      <td>(u:dDwF, en)</td>\n",
              "    </tr>\n",
              "    <tr>\n",
              "      <th>15</th>\n",
              "      <td>1.0</td>\n",
              "      <td>1362082130</td>\n",
              "      <td>77</td>\n",
              "      <td>u:dDwF</td>\n",
              "      <td>es</td>\n",
              "      <td>en</td>\n",
              "      <td>73eecb492ca758ddab5371cf7b5cca32</td>\n",
              "      <td>bajo/bajo&lt;pr&gt;</td>\n",
              "      <td>5</td>\n",
              "      <td>5</td>\n",
              "      <td>1</td>\n",
              "      <td>1</td>\n",
              "      <td>(u:dDwF, 73eecb492ca758ddab5371cf7b5cca32)</td>\n",
              "      <td>(u:dDwF, en)</td>\n",
              "    </tr>\n",
              "    <tr>\n",
              "      <th>20</th>\n",
              "      <td>1.0</td>\n",
              "      <td>1362082274</td>\n",
              "      <td>1634777</td>\n",
              "      <td>u:dDwF</td>\n",
              "      <td>es</td>\n",
              "      <td>en</td>\n",
              "      <td>c84476c460737d9fb905dca3d35ec995</td>\n",
              "      <td>niños/niño&lt;n&gt;&lt;m&gt;&lt;pl&gt;</td>\n",
              "      <td>9</td>\n",
              "      <td>8</td>\n",
              "      <td>2</td>\n",
              "      <td>2</td>\n",
              "      <td>(u:dDwF, c84476c460737d9fb905dca3d35ec995)</td>\n",
              "      <td>(u:dDwF, en)</td>\n",
              "    </tr>\n",
              "    <tr>\n",
              "      <th>21</th>\n",
              "      <td>1.0</td>\n",
              "      <td>1362082274</td>\n",
              "      <td>1708699</td>\n",
              "      <td>u:dDwF</td>\n",
              "      <td>es</td>\n",
              "      <td>en</td>\n",
              "      <td>1a913f2ded424985b9c02d0436008511</td>\n",
              "      <td>leo/leer&lt;vblex&gt;&lt;pri&gt;&lt;p1&gt;&lt;sg&gt;</td>\n",
              "      <td>7</td>\n",
              "      <td>5</td>\n",
              "      <td>2</td>\n",
              "      <td>2</td>\n",
              "      <td>(u:dDwF, 1a913f2ded424985b9c02d0436008511)</td>\n",
              "      <td>(u:dDwF, en)</td>\n",
              "    </tr>\n",
              "    <tr>\n",
              "      <th>22</th>\n",
              "      <td>1.0</td>\n",
              "      <td>1362082274</td>\n",
              "      <td>1708699</td>\n",
              "      <td>u:dDwF</td>\n",
              "      <td>es</td>\n",
              "      <td>en</td>\n",
              "      <td>38b770e66595fea718366523b4f7db3f</td>\n",
              "      <td>libro/libro&lt;n&gt;&lt;m&gt;&lt;sg&gt;</td>\n",
              "      <td>8</td>\n",
              "      <td>8</td>\n",
              "      <td>4</td>\n",
              "      <td>4</td>\n",
              "      <td>(u:dDwF, 38b770e66595fea718366523b4f7db3f)</td>\n",
              "      <td>(u:dDwF, en)</td>\n",
              "    </tr>\n",
              "  </tbody>\n",
              "</table>\n",
              "</div>\n",
              "      <button class=\"colab-df-convert\" onclick=\"convertToInteractive('df-3e4f7255-6093-469a-a8be-07041c0ad328')\"\n",
              "              title=\"Convert this dataframe to an interactive table.\"\n",
              "              style=\"display:none;\">\n",
              "        \n",
              "  <svg xmlns=\"http://www.w3.org/2000/svg\" height=\"24px\"viewBox=\"0 0 24 24\"\n",
              "       width=\"24px\">\n",
              "    <path d=\"M0 0h24v24H0V0z\" fill=\"none\"/>\n",
              "    <path d=\"M18.56 5.44l.94 2.06.94-2.06 2.06-.94-2.06-.94-.94-2.06-.94 2.06-2.06.94zm-11 1L8.5 8.5l.94-2.06 2.06-.94-2.06-.94L8.5 2.5l-.94 2.06-2.06.94zm10 10l.94 2.06.94-2.06 2.06-.94-2.06-.94-.94-2.06-.94 2.06-2.06.94z\"/><path d=\"M17.41 7.96l-1.37-1.37c-.4-.4-.92-.59-1.43-.59-.52 0-1.04.2-1.43.59L10.3 9.45l-7.72 7.72c-.78.78-.78 2.05 0 2.83L4 21.41c.39.39.9.59 1.41.59.51 0 1.02-.2 1.41-.59l7.78-7.78 2.81-2.81c.8-.78.8-2.07 0-2.86zM5.41 20L4 18.59l7.72-7.72 1.47 1.35L5.41 20z\"/>\n",
              "  </svg>\n",
              "      </button>\n",
              "      \n",
              "  <style>\n",
              "    .colab-df-container {\n",
              "      display:flex;\n",
              "      flex-wrap:wrap;\n",
              "      gap: 12px;\n",
              "    }\n",
              "\n",
              "    .colab-df-convert {\n",
              "      background-color: #E8F0FE;\n",
              "      border: none;\n",
              "      border-radius: 50%;\n",
              "      cursor: pointer;\n",
              "      display: none;\n",
              "      fill: #1967D2;\n",
              "      height: 32px;\n",
              "      padding: 0 0 0 0;\n",
              "      width: 32px;\n",
              "    }\n",
              "\n",
              "    .colab-df-convert:hover {\n",
              "      background-color: #E2EBFA;\n",
              "      box-shadow: 0px 1px 2px rgba(60, 64, 67, 0.3), 0px 1px 3px 1px rgba(60, 64, 67, 0.15);\n",
              "      fill: #174EA6;\n",
              "    }\n",
              "\n",
              "    [theme=dark] .colab-df-convert {\n",
              "      background-color: #3B4455;\n",
              "      fill: #D2E3FC;\n",
              "    }\n",
              "\n",
              "    [theme=dark] .colab-df-convert:hover {\n",
              "      background-color: #434B5C;\n",
              "      box-shadow: 0px 1px 3px 1px rgba(0, 0, 0, 0.15);\n",
              "      filter: drop-shadow(0px 1px 2px rgba(0, 0, 0, 0.3));\n",
              "      fill: #FFFFFF;\n",
              "    }\n",
              "  </style>\n",
              "\n",
              "      <script>\n",
              "        const buttonEl =\n",
              "          document.querySelector('#df-3e4f7255-6093-469a-a8be-07041c0ad328 button.colab-df-convert');\n",
              "        buttonEl.style.display =\n",
              "          google.colab.kernel.accessAllowed ? 'block' : 'none';\n",
              "\n",
              "        async function convertToInteractive(key) {\n",
              "          const element = document.querySelector('#df-3e4f7255-6093-469a-a8be-07041c0ad328');\n",
              "          const dataTable =\n",
              "            await google.colab.kernel.invokeFunction('convertToInteractive',\n",
              "                                                     [key], {});\n",
              "          if (!dataTable) return;\n",
              "\n",
              "          const docLinkHtml = 'Like what you see? Visit the ' +\n",
              "            '<a target=\"_blank\" href=https://colab.research.google.com/notebooks/data_table.ipynb>data table notebook</a>'\n",
              "            + ' to learn more about interactive tables.';\n",
              "          element.innerHTML = '';\n",
              "          dataTable['output_type'] = 'display_data';\n",
              "          await google.colab.output.renderOutput(dataTable, element);\n",
              "          const docLink = document.createElement('div');\n",
              "          docLink.innerHTML = docLinkHtml;\n",
              "          element.appendChild(docLink);\n",
              "        }\n",
              "      </script>\n",
              "    </div>\n",
              "  </div>\n",
              "  "
            ],
            "text/plain": [
              "    p_recall   timestamp    delta user_id learning_language ui_language  \\\n",
              "7        1.0  1362082032   444407  u:dDwF                es          en   \n",
              "15       1.0  1362082130       77  u:dDwF                es          en   \n",
              "20       1.0  1362082274  1634777  u:dDwF                es          en   \n",
              "21       1.0  1362082274  1708699  u:dDwF                es          en   \n",
              "22       1.0  1362082274  1708699  u:dDwF                es          en   \n",
              "\n",
              "                           lexeme_id                 lexeme_string  \\\n",
              "7   73eecb492ca758ddab5371cf7b5cca32                 bajo/bajo<pr>   \n",
              "15  73eecb492ca758ddab5371cf7b5cca32                 bajo/bajo<pr>   \n",
              "20  c84476c460737d9fb905dca3d35ec995          niños/niño<n><m><pl>   \n",
              "21  1a913f2ded424985b9c02d0436008511  leo/leer<vblex><pri><p1><sg>   \n",
              "22  38b770e66595fea718366523b4f7db3f         libro/libro<n><m><sg>   \n",
              "\n",
              "    history_seen  history_correct  session_seen  session_correct  \\\n",
              "7              3                3             1                1   \n",
              "15             5                5             1                1   \n",
              "20             9                8             2                2   \n",
              "21             7                5             2                2   \n",
              "22             8                8             4                4   \n",
              "\n",
              "                                  student_word  student_lang  \n",
              "7   (u:dDwF, 73eecb492ca758ddab5371cf7b5cca32)  (u:dDwF, en)  \n",
              "15  (u:dDwF, 73eecb492ca758ddab5371cf7b5cca32)  (u:dDwF, en)  \n",
              "20  (u:dDwF, c84476c460737d9fb905dca3d35ec995)  (u:dDwF, en)  \n",
              "21  (u:dDwF, 1a913f2ded424985b9c02d0436008511)  (u:dDwF, en)  \n",
              "22  (u:dDwF, 38b770e66595fea718366523b4f7db3f)  (u:dDwF, en)  "
            ]
          },
          "execution_count": 5,
          "metadata": {},
          "output_type": "execute_result"
        }
      ],
      "source": [
        "datadfq1.head()"
      ]
    },
    {
      "cell_type": "code",
      "execution_count": null,
      "metadata": {
        "colab": {
          "base_uri": "https://localhost:8080/"
        },
        "id": "99aJzcBtyEt8",
        "outputId": "496d7f7c-4613-4e93-aeb5-b3f06dae547f"
      },
      "outputs": [
        {
          "data": {
            "text/plain": [
              "((7313354, 14), 102.386956)"
            ]
          },
          "execution_count": 6,
          "metadata": {},
          "output_type": "execute_result"
        }
      ],
      "source": [
        "datadfq1.shape, datadfq1.size/10**6"
      ]
    },
    {
      "cell_type": "code",
      "execution_count": null,
      "metadata": {
        "id": "jrqBiUJQmLYc"
      },
      "outputs": [],
      "source": [
        "datadfq1['p_forgot_bin'] = np.where(1 - datadfq1['p_recall'] >0,1,0).astype(int)"
      ]
    },
    {
      "cell_type": "code",
      "execution_count": null,
      "metadata": {
        "id": "aiFCxr-ImTI6"
      },
      "outputs": [],
      "source": [
        "yq1 = datadfq1['p_forgot_bin']"
      ]
    },
    {
      "cell_type": "code",
      "execution_count": null,
      "metadata": {
        "id": "OnFwx4eMmepV"
      },
      "outputs": [],
      "source": [
        "compressed_pickle(path_name+\"yq1all\",yq1)"
      ]
    },
    {
      "cell_type": "markdown",
      "metadata": {
        "id": "JRRJQTRsvDQm"
      },
      "source": [
        "Getting saved yq1 from drive:"
      ]
    },
    {
      "cell_type": "markdown",
      "metadata": {
        "id": "D6YprWvGmWgx"
      },
      "source": [
        "Gatting Xq1 from drive"
      ]
    },
    {
      "cell_type": "code",
      "execution_count": null,
      "metadata": {
        "id": "xiXT2KTQmV5Y"
      },
      "outputs": [],
      "source": [
        "Xq1 = decompress_pickle(path_name+\"Xq1all.pbz2\") \n",
        "yq1 = decompress_pickle(path_name+\"yq1all.pbz2\") "
      ]
    },
    {
      "cell_type": "code",
      "execution_count": null,
      "metadata": {
        "colab": {
          "base_uri": "https://localhost:8080/"
        },
        "id": "G9QMPnwGmpPT",
        "outputId": "94f95a41-c0db-4d42-ddd7-8db3d4d2ff3d"
      },
      "outputs": [
        {
          "data": {
            "text/plain": [
              "(scipy.sparse.coo.coo_matrix, pandas.core.series.Series)"
            ]
          },
          "execution_count": 3,
          "metadata": {},
          "output_type": "execute_result"
        }
      ],
      "source": [
        "type(Xq1), type(yq1)"
      ]
    },
    {
      "cell_type": "code",
      "execution_count": null,
      "metadata": {
        "id": "Mzwo-xM9nAQn"
      },
      "outputs": [],
      "source": [
        "from scipy.sparse import coo_matrix"
      ]
    },
    {
      "cell_type": "code",
      "execution_count": null,
      "metadata": {
        "colab": {
          "base_uri": "https://localhost:8080/"
        },
        "id": "MP9Rke5lnXG_",
        "outputId": "47360236-cfa0-459b-bd45-dde92c565372"
      },
      "outputs": [
        {
          "data": {
            "text/plain": [
              "((7313354, 2233), (7313354,))"
            ]
          },
          "execution_count": 5,
          "metadata": {},
          "output_type": "execute_result"
        }
      ],
      "source": [
        "Xq1.shape, yq1.shape"
      ]
    },
    {
      "cell_type": "markdown",
      "metadata": {
        "id": "xnaMooTbn_2O"
      },
      "source": [
        "splitting into 80-20 training and validation set with a random state = 5. (had to remove stratify argument, because it doesn't work for sparse arrays)"
      ]
    },
    {
      "cell_type": "code",
      "execution_count": null,
      "metadata": {
        "id": "ZRtwPyivnH9X"
      },
      "outputs": [],
      "source": [
        "from sklearn.model_selection import train_test_split\n",
        "\n",
        "Xq1_train, Xq1_valid, yq1_train, yq1_valid = train_test_split(Xq1,yq1,test_size=0.2,random_state=5)"
      ]
    },
    {
      "cell_type": "code",
      "execution_count": null,
      "metadata": {
        "colab": {
          "base_uri": "https://localhost:8080/"
        },
        "id": "nMhbmTs9oHd0",
        "outputId": "8de2de0c-4a4a-4c27-fe82-90ae5ebf02ba"
      },
      "outputs": [
        {
          "data": {
            "text/plain": [
              "((5850683, 2233), (1462671, 2233), (5850683,), (1462671,))"
            ]
          },
          "execution_count": 7,
          "metadata": {},
          "output_type": "execute_result"
        }
      ],
      "source": [
        "Xq1_train.shape, Xq1_valid.shape, yq1_train.shape, yq1_valid.shape"
      ]
    },
    {
      "cell_type": "markdown",
      "metadata": {
        "id": "3uYfRNqVpjFt"
      },
      "source": [
        "Fraction of ones in the train and validation sets"
      ]
    },
    {
      "cell_type": "code",
      "execution_count": null,
      "metadata": {
        "colab": {
          "base_uri": "https://localhost:8080/"
        },
        "id": "yrRvYfHeoNrA",
        "outputId": "f395c305-1bc6-4f86-bf5e-e96c198d8ca2"
      },
      "outputs": [
        {
          "data": {
            "text/plain": [
              "(0.1611603294863181, 0.16108748994134703)"
            ]
          },
          "execution_count": 8,
          "metadata": {},
          "output_type": "execute_result"
        }
      ],
      "source": [
        "yq1_train.sum()/yq1_train.shape[0], yq1_valid.sum()/yq1_valid.shape[0]"
      ]
    },
    {
      "cell_type": "markdown",
      "metadata": {
        "id": "DWZtKI4Cppws"
      },
      "source": [
        "They are about the same, we will use this split to test a number of models. They are saved below:\n",
        "\n",
        "First, we scale and transform the data using the min-max scaler. "
      ]
    },
    {
      "cell_type": "code",
      "execution_count": null,
      "metadata": {
        "id": "Rchgc0dFqH_C"
      },
      "outputs": [],
      "source": [
        "from sklearn.preprocessing import MaxAbsScaler # used because sparse array not supported by MinMaxScaler\n",
        "mm_scaler = MaxAbsScaler()\n",
        "\n",
        "mm_scaler.fit(Xq1_train)\n",
        "Xq1_mm_train = mm_scaler.transform(Xq1_train)\n",
        "Xq1_mm_valid = mm_scaler.transform(Xq1_valid)\n"
      ]
    },
    {
      "cell_type": "markdown",
      "metadata": {
        "id": "4Tz2u-0Cq-jR"
      },
      "source": [
        "### Logistic regression\n",
        "\n",
        "Hyperparamters:\n",
        "1. C\n",
        "2. class weights\n",
        "3. penalty - starting with l1 to see which features are important, and then l2 for fitting. \n"
      ]
    },
    {
      "cell_type": "code",
      "execution_count": null,
      "metadata": {
        "colab": {
          "base_uri": "https://localhost:8080/"
        },
        "id": "NlDb6k0rqpAt",
        "outputId": "aea842e3-a583-43f1-d93a-b7e759ed6c11"
      },
      "outputs": [
        {
          "name": "stdout",
          "output_type": "stream",
          "text": [
            "[LibLinear]"
          ]
        }
      ],
      "source": [
        "from sklearn.model_selection import ShuffleSplit\n",
        "#cv = KFold(n_splits=5, test_size=0.3, random_state=0)\n",
        "\n",
        "from sklearn.linear_model import LogisticRegression\n",
        "logreg = LogisticRegression()\n",
        "\n",
        "from sklearn.model_selection import cross_validate\n",
        "\n",
        "from sklearn.metrics import make_scorer # to define a list of scoring metrics to use\n",
        "\n",
        "from sklearn.model_selection import GridSearchCV\n",
        "\n",
        "# iterate over \n",
        "logreg = LogisticRegression(max_iter = 100,solver='liblinear',verbose=10,penalty='l1')\n",
        "logreg.fit(Xq1_mm_train,yq1_train)\n",
        "yq1_train_preds = logreg.predict(Xq1_mm_train)\n",
        "\n",
        "#scoring_metrics = ['accuracy','f1','average_precision','roc_auc','recall']\n",
        "\n",
        "#cv_results = cross_validate(logreg,Xq1_mm_train,yq1_train,cv=cv,scoring=scoring_metrics,verbose=10,return_estimator = True)\n",
        "\n",
        "#sorted(cv_results.keys())"
      ]
    },
    {
      "cell_type": "code",
      "execution_count": null,
      "metadata": {
        "id": "QsCfayKDsMtN"
      },
      "outputs": [],
      "source": [
        "from sklearn.metrics import accuracy_score, PrecisionRecallDisplay, roc_auc_score"
      ]
    },
    {
      "cell_type": "code",
      "execution_count": null,
      "metadata": {
        "colab": {
          "base_uri": "https://localhost:8080/"
        },
        "id": "CYIz2D_TejYe",
        "outputId": "0ed5e8ec-3dff-430a-ae6a-1b9770f53f00"
      },
      "outputs": [
        {
          "data": {
            "text/plain": [
              "0.8397665708430965"
            ]
          },
          "execution_count": 13,
          "metadata": {},
          "output_type": "execute_result"
        }
      ],
      "source": [
        "accuracy_score(yq1_train,yq1_train_preds)"
      ]
    },
    {
      "cell_type": "code",
      "source": [
        "yq1_valid_preds_proba_logreg = logreg.predict_proba(Xq1_mm_valid)[:,1]"
      ],
      "metadata": {
        "id": "b1I4789B4ta5"
      },
      "execution_count": 55,
      "outputs": []
    },
    {
      "cell_type": "code",
      "execution_count": 56,
      "metadata": {
        "colab": {
          "base_uri": "https://localhost:8080/",
          "height": 297
        },
        "id": "3CNoeenveq01",
        "outputId": "6280ab8b-c2e6-45db-c6d8-48fbad9dc090"
      },
      "outputs": [
        {
          "output_type": "execute_result",
          "data": {
            "text/plain": [
              "<sklearn.metrics._plot.precision_recall_curve.PrecisionRecallDisplay at 0x7f7f29d8c890>"
            ]
          },
          "metadata": {},
          "execution_count": 56
        },
        {
          "output_type": "display_data",
          "data": {
            "text/plain": [
              "<Figure size 432x288 with 1 Axes>"
            ],
            "image/png": "[encoded data removed]"
          },
          "metadata": {
            "needs_background": "light"
          }
        }
      ],
      "source": [
        "PrecisionRecallDisplay.from_predictions(yq1_valid,yq1_valid_preds_proba_logreg)"
      ]
    },
    {
      "cell_type": "code",
      "execution_count": 57,
      "metadata": {
        "colab": {
          "base_uri": "https://localhost:8080/"
        },
        "id": "V8PG1NzTexcd",
        "outputId": "ebceb1d1-21e9-4905-ff76-86afc36f657e"
      },
      "outputs": [
        {
          "output_type": "execute_result",
          "data": {
            "text/plain": [
              "0.6673687369775704"
            ]
          },
          "metadata": {},
          "execution_count": 57
        }
      ],
      "source": [
        "roc_auc_score(yq1_valid,yq1_valid_preds_proba_logreg)"
      ]
    },
    {
      "cell_type": "code",
      "execution_count": null,
      "metadata": {
        "id": "c34G7GmjiGex"
      },
      "outputs": [],
      "source": [
        "column_names = decompress_pickle(path_name+\"q1_1_columnnames.pbz2\")"
      ]
    },
    {
      "cell_type": "code",
      "execution_count": null,
      "metadata": {
        "id": "X9ebvFAae651"
      },
      "outputs": [],
      "source": [
        "coefficients = logreg.coef_.reshape(2233,)"
      ]
    },
    {
      "cell_type": "code",
      "execution_count": null,
      "metadata": {
        "id": "3QoNwrdqfP1P"
      },
      "outputs": [],
      "source": [
        "coefficients = pd.Series(logreg.coef_.reshape(2233,),index=column_names)"
      ]
    },
    {
      "cell_type": "code",
      "execution_count": null,
      "metadata": {
        "colab": {
          "base_uri": "https://localhost:8080/"
        },
        "id": "OJMwe0txfVSL",
        "outputId": "4730f19c-8ddb-4f4a-db32-623722134f69"
      },
      "outputs": [
        {
          "data": {
            "text/plain": [
              "delta                1.228215\n",
              "history_seen       131.564006\n",
              "history_correct   -148.787487\n",
              "session_seen         6.654343\n",
              "LL_es               -1.050063\n",
              "LL_fr               -0.910518\n",
              "LL_it               -1.144337\n",
              "LL_pt               -1.160102\n",
              "UIL_es              -1.157980\n",
              "UIL_pt              -1.179814\n",
              "dtype: float64"
            ]
          },
          "execution_count": 35,
          "metadata": {},
          "output_type": "execute_result"
        }
      ],
      "source": [
        "coefficients.head(10)"
      ]
    },
    {
      "cell_type": "code",
      "execution_count": null,
      "metadata": {
        "colab": {
          "base_uri": "https://localhost:8080/"
        },
        "id": "DmgDm9eEgFGg",
        "outputId": "1c344f80-a00a-4969-e43c-0b7b65ff38e4"
      },
      "outputs": [
        {
          "data": {
            "text/plain": [
              "history_correct    148.787487\n",
              "history_seen       131.564006\n",
              "session_seen         6.654343\n",
              "nfor                 3.087332\n",
              "ext                  2.808001\n",
              "nado                 2.359969\n",
              "etu                  2.272635\n",
              "xt                   2.114067\n",
              "xa                   2.030466\n",
              "ende                 2.005279\n",
              "dade                 2.003677\n",
              "éri                  1.992205\n",
              "eff                  1.973663\n",
              "iga                  1.853825\n",
              "ef                   1.839187\n",
              "siti                 1.830802\n",
              "ecti                 1.825933\n",
              "imie                 1.741529\n",
              "cé                   1.732884\n",
              "ctor                 1.729729\n",
              "dtype: float64"
            ]
          },
          "execution_count": 36,
          "metadata": {},
          "output_type": "execute_result"
        }
      ],
      "source": [
        "coefficients.abs().sort_values(ascending=False).head(20)"
      ]
    },
    {
      "cell_type": "markdown",
      "metadata": {
        "id": "E7RLV91AjMLP"
      },
      "source": [
        "Positive coefficients:"
      ]
    },
    {
      "cell_type": "code",
      "execution_count": null,
      "metadata": {
        "colab": {
          "base_uri": "https://localhost:8080/"
        },
        "id": "sWvIcRBbjBqb",
        "outputId": "a75d4e01-e544-4df5-b224-9ea19c7b7a2f"
      },
      "outputs": [
        {
          "data": {
            "text/plain": [
              "history_seen        131.564006\n",
              "session_seen          6.654343\n",
              "nfor                  3.087332\n",
              "xt                    2.114067\n",
              "dade                  2.003677\n",
              "éri                   1.992205\n",
              "eff                   1.973663\n",
              "ecti                  1.825933\n",
              "imie                  1.741529\n",
              "cé                    1.732884\n",
              "ctor                  1.729729\n",
              "lef                   1.724543\n",
              "spa                   1.626593\n",
              "ore                   1.610337\n",
              "oute                  1.609101\n",
              "mod_@prn:ce_dont      1.582707\n",
              "lect                  1.551519\n",
              "tel                   1.550547\n",
              "ref                   1.508821\n",
              "itu                   1.493109\n",
              "dtype: float64"
            ]
          },
          "execution_count": 41,
          "metadata": {},
          "output_type": "execute_result"
        }
      ],
      "source": [
        "coefficients.sort_values(ascending=False).head(20)"
      ]
    },
    {
      "cell_type": "markdown",
      "metadata": {
        "id": "IFN_0utVjOOe"
      },
      "source": [
        "Negative coefficients"
      ]
    },
    {
      "cell_type": "code",
      "execution_count": null,
      "metadata": {
        "colab": {
          "base_uri": "https://localhost:8080/"
        },
        "id": "JWag1cwLij9S",
        "outputId": "bf789c80-1443-4b42-e127-3640f18bd822"
      },
      "outputs": [
        {
          "data": {
            "text/plain": [
              "history_correct   -148.787487\n",
              "ext                 -2.808001\n",
              "nado                -2.359969\n",
              "etu                 -2.272635\n",
              "xa                  -2.030466\n",
              "ende                -2.005279\n",
              "iga                 -1.853825\n",
              "ef                  -1.839187\n",
              "siti                -1.830802\n",
              "sec                 -1.711384\n",
              "nfo                 -1.681989\n",
              "cl                  -1.649686\n",
              "ontr                -1.635850\n",
              "titu                -1.593241\n",
              "reu                 -1.561752\n",
              "once                -1.553242\n",
              "nada                -1.539405\n",
              "erra                -1.522568\n",
              "tten                -1.431785\n",
              "esc                 -1.405241\n",
              "dtype: float64"
            ]
          },
          "execution_count": 43,
          "metadata": {},
          "output_type": "execute_result"
        }
      ],
      "source": [
        "coefficients.sort_values().head(20)"
      ]
    },
    {
      "cell_type": "code",
      "execution_count": null,
      "metadata": {
        "id": "0JqAoq0gkKtA"
      },
      "outputs": [],
      "source": [
        "coefficients.to_csv(path_name+\"Logreg_L1_q1fulldataset_coefficients.csv\")"
      ]
    },
    {
      "cell_type": "code",
      "execution_count": null,
      "metadata": {
        "id": "PZ2wKeVkkQiz"
      },
      "outputs": [],
      "source": [
        ""
      ]
    },
    {
      "cell_type": "markdown",
      "metadata": {
        "id": "foPGYkbXjS7z"
      },
      "source": [
        "Makes sense that lower history correct gives a greater chance of forgetting the word. "
      ]
    },
    {
      "cell_type": "markdown",
      "metadata": {
        "id": "fXBFf_E_io_E"
      },
      "source": [
        "Of the 2223 features, 2037 had non-zero coefficients. "
      ]
    },
    {
      "cell_type": "code",
      "execution_count": null,
      "metadata": {
        "colab": {
          "background_save": true,
          "base_uri": "https://localhost:8080/"
        },
        "id": "vrxhrNl_zMWp",
        "outputId": "f2c74dfb-14ee-48eb-8619-03e2b7f5e55a"
      },
      "outputs": [
        {
          "name": "stdout",
          "output_type": "stream",
          "text": [
            "[03:34:15] WARNING: /workspace/src/learner.cc:686: Tree method is automatically selected to be 'approx' for faster speed. To use old behavior (exact greedy algorithm on single machine), set tree_method to 'exact'.\n",
            "XG Boost train set score: 0.839674273926651\n",
            "XG Boost test set score: 0.8397001102777043\n"
          ]
        }
      ],
      "source": [
        "from xgboost import XGBClassifier\n",
        "from sklearn.preprocessing import MinMaxScaler\n",
        "\n",
        "\n",
        "XGB_model = XGBClassifier(num_feature = 800,subsample = 0.8)\n",
        "XGB_model.fit(Xq1_mm_train, yq1_train)\n",
        "print(f\"XG Boost train set score: {XGB_model.score(Xq1_mm_train, yq1_train)}\")\n",
        "print(f\"XG Boost test set score: {XGB_model.score(Xq1_mm_valid, yq1_valid)}\")"
      ]
    },
    {
      "cell_type": "code",
      "source": [
        "yq1_train_preds_probs_xgb = XGB_model.predict_proba(Xq1_mm_train)[:,1]\n",
        "yq1_valid_preds_probs_xgb = XGB_model.predict_proba(Xq1_mm_valid)[:,1]\n",
        "PrecisionRecallDisplay.from_predictions(yq1_valid,yq1_valid_preds_probs_xgb)"
      ],
      "metadata": {
        "colab": {
          "base_uri": "https://localhost:8080/",
          "height": 297
        },
        "id": "n9wFYT043lFI",
        "outputId": "f8ac5356-7e5e-4b53-c207-aa9f2413ca7f"
      },
      "execution_count": 58,
      "outputs": [
        {
          "output_type": "execute_result",
          "data": {
            "text/plain": [
              "<sklearn.metrics._plot.precision_recall_curve.PrecisionRecallDisplay at 0x7f7f29d5f690>"
            ]
          },
          "metadata": {},
          "execution_count": 58
        },
        {
          "output_type": "display_data",
          "data": {
            "text/plain": [
              "<Figure size 432x288 with 1 Axes>"
            ],
            "image/png": "[encoded data removed]"
          },
          "metadata": {
            "needs_background": "light"
          }
        }
      ]
    },
    {
      "cell_type": "code",
      "source": [
        "XGB_feature_importances = pd.Series(XGB_model.feature_importances_,index=column_names)"
      ],
      "metadata": {
        "id": "soNuYazf4pvL"
      },
      "execution_count": 60,
      "outputs": []
    },
    {
      "cell_type": "code",
      "source": [
        "XGB_feature_importances.abs().sort_values(ascending=False).head(20)"
      ],
      "metadata": {
        "colab": {
          "base_uri": "https://localhost:8080/"
        },
        "id": "LdzsrYSN6DXp",
        "outputId": "34f8c412-dee5-4352-b624-e982efd2831e"
      },
      "execution_count": 62,
      "outputs": [
        {
          "output_type": "execute_result",
          "data": {
            "text/plain": [
              "session_seen    0.134212\n",
              "ea              0.022487\n",
              "men             0.019882\n",
              "mod_sg          0.019517\n",
              "sf_length       0.018720\n",
              "history_seen    0.017995\n",
              "LL_fr           0.017645\n",
              "la              0.017528\n",
              "delta           0.017373\n",
              "re              0.015732\n",
              "ol              0.015566\n",
              "mod_*numb       0.014464\n",
              "ts              0.014176\n",
              "et              0.014092\n",
              "eat             0.013311\n",
              "en              0.013096\n",
              "wi              0.012582\n",
              "ello            0.012455\n",
              "ast             0.012427\n",
              "th              0.012368\n",
              "dtype: float32"
            ]
          },
          "metadata": {},
          "execution_count": 62
        }
      ]
    },
    {
      "cell_type": "code",
      "source": [
        "XGB_feature_importances.to_csv(path_name+\"XGB_feature_importances_q1_1.csv\")"
      ],
      "metadata": {
        "id": "q7blN1Uj6SJy"
      },
      "execution_count": 63,
      "outputs": []
    },
    {
      "cell_type": "code",
      "execution_count": 64,
      "metadata": {
        "id": "TAnUwRIU84TZ"
      },
      "outputs": [],
      "source": [
        "compressed_pickle(\"XGB_model_q1_1\",XGB_model)"
      ]
    },
    {
      "cell_type": "code",
      "source": [
        "compressed_pickle(\"logreg_q1_1\",logreg)"
      ],
      "metadata": {
        "id": "-FifdYus60dg"
      },
      "execution_count": 65,
      "outputs": []
    },
    {
      "cell_type": "code",
      "execution_count": null,
      "metadata": {
        "id": "omVX8S9tzMWp"
      },
      "outputs": [],
      "source": [
        "y_probaXGB = XGB_model.predict_proba(X_mm_test)[:,1]"
      ]
    },
    {
      "cell_type": "code",
      "execution_count": null,
      "metadata": {
        "colab": {
          "base_uri": "https://localhost:8080/",
          "height": 297
        },
        "id": "sANHRri2zMWp",
        "outputId": "fd6a57c9-dcd9-446a-95ba-93b19cbfc524"
      },
      "outputs": [
        {
          "data": {
            "text/plain": [
              "<sklearn.metrics._plot.precision_recall_curve.PrecisionRecallDisplay at 0x7f64eadea350>"
            ]
          },
          "execution_count": 50,
          "metadata": {},
          "output_type": "execute_result"
        },
        {
          "data": {
            "image/png": "[encoded data removed]",
            "text/plain": [
              "<Figure size 432x288 with 1 Axes>"
            ]
          },
          "metadata": {},
          "output_type": "display_data"
        }
      ],
      "source": [
        "from sklearn.metrics import PrecisionRecallDisplay\n",
        "PrecisionRecallDisplay.from_predictions(y_test,y_probaXGB)"
      ]
    },
    {
      "cell_type": "code",
      "execution_count": 66,
      "metadata": {
        "id": "WD1dTYGLzwo6",
        "colab": {
          "base_uri": "https://localhost:8080/",
          "height": 387
        },
        "outputId": "a069cd6c-1a6e-44ee-dbd4-a71048192e41"
      },
      "outputs": [
        {
          "output_type": "error",
          "ename": "KeyboardInterrupt",
          "evalue": "ignored",
          "traceback": [
            "\u001b[0;31m---------------------------------------------------------------------------\u001b[0m",
            "\u001b[0;31mKeyboardInterrupt\u001b[0m                         Traceback (most recent call last)",
            "\u001b[0;32m<ipython-input-66-cd7abb9d1fe2>\u001b[0m in \u001b[0;36m<module>\u001b[0;34m()\u001b[0m\n\u001b[1;32m      2\u001b[0m \u001b[0mAB_model\u001b[0m \u001b[0;34m=\u001b[0m \u001b[0mAdaBoostClassifier\u001b[0m\u001b[0;34m(\u001b[0m\u001b[0mn_estimators\u001b[0m\u001b[0;34m=\u001b[0m\u001b[0;36m150\u001b[0m\u001b[0;34m,\u001b[0m \u001b[0mlearning_rate\u001b[0m\u001b[0;34m=\u001b[0m\u001b[0;36m.1\u001b[0m\u001b[0;34m)\u001b[0m\u001b[0;34m\u001b[0m\u001b[0;34m\u001b[0m\u001b[0m\n\u001b[1;32m      3\u001b[0m \u001b[0;34m\u001b[0m\u001b[0m\n\u001b[0;32m----> 4\u001b[0;31m \u001b[0mAB_model\u001b[0m\u001b[0;34m.\u001b[0m\u001b[0mfit\u001b[0m\u001b[0;34m(\u001b[0m\u001b[0mXq1_mm_train\u001b[0m\u001b[0;34m,\u001b[0m\u001b[0myq1_train\u001b[0m\u001b[0;34m)\u001b[0m\u001b[0;34m\u001b[0m\u001b[0;34m\u001b[0m\u001b[0m\n\u001b[0m\u001b[1;32m      5\u001b[0m \u001b[0my_probaAB\u001b[0m \u001b[0;34m=\u001b[0m \u001b[0mAB_model\u001b[0m\u001b[0;34m.\u001b[0m\u001b[0mpredict_proba\u001b[0m\u001b[0;34m(\u001b[0m\u001b[0mXq1_mm_valid\u001b[0m\u001b[0;34m)\u001b[0m\u001b[0;34m[\u001b[0m\u001b[0;34m:\u001b[0m\u001b[0;34m,\u001b[0m\u001b[0;36m1\u001b[0m\u001b[0;34m]\u001b[0m\u001b[0;34m\u001b[0m\u001b[0;34m\u001b[0m\u001b[0m\n",
            "\u001b[0;32m/usr/local/lib/python3.7/dist-packages/sklearn/ensemble/_weight_boosting.py\u001b[0m in \u001b[0;36mfit\u001b[0;34m(self, X, y, sample_weight)\u001b[0m\n\u001b[1;32m    484\u001b[0m \u001b[0;34m\u001b[0m\u001b[0m\n\u001b[1;32m    485\u001b[0m         \u001b[0;31m# Fit\u001b[0m\u001b[0;34m\u001b[0m\u001b[0;34m\u001b[0m\u001b[0;34m\u001b[0m\u001b[0m\n\u001b[0;32m--> 486\u001b[0;31m         \u001b[0;32mreturn\u001b[0m \u001b[0msuper\u001b[0m\u001b[0;34m(\u001b[0m\u001b[0;34m)\u001b[0m\u001b[0;34m.\u001b[0m\u001b[0mfit\u001b[0m\u001b[0;34m(\u001b[0m\u001b[0mX\u001b[0m\u001b[0;34m,\u001b[0m \u001b[0my\u001b[0m\u001b[0;34m,\u001b[0m \u001b[0msample_weight\u001b[0m\u001b[0;34m)\u001b[0m\u001b[0;34m\u001b[0m\u001b[0;34m\u001b[0m\u001b[0m\n\u001b[0m\u001b[1;32m    487\u001b[0m \u001b[0;34m\u001b[0m\u001b[0m\n\u001b[1;32m    488\u001b[0m     \u001b[0;32mdef\u001b[0m \u001b[0m_validate_estimator\u001b[0m\u001b[0;34m(\u001b[0m\u001b[0mself\u001b[0m\u001b[0;34m)\u001b[0m\u001b[0;34m:\u001b[0m\u001b[0;34m\u001b[0m\u001b[0;34m\u001b[0m\u001b[0m\n",
            "\u001b[0;32m/usr/local/lib/python3.7/dist-packages/sklearn/ensemble/_weight_boosting.py\u001b[0m in \u001b[0;36mfit\u001b[0;34m(self, X, y, sample_weight)\u001b[0m\n\u001b[1;32m    144\u001b[0m             \u001b[0;31m# Boosting step\u001b[0m\u001b[0;34m\u001b[0m\u001b[0;34m\u001b[0m\u001b[0;34m\u001b[0m\u001b[0m\n\u001b[1;32m    145\u001b[0m             sample_weight, estimator_weight, estimator_error = self._boost(\n\u001b[0;32m--> 146\u001b[0;31m                 \u001b[0miboost\u001b[0m\u001b[0;34m,\u001b[0m \u001b[0mX\u001b[0m\u001b[0;34m,\u001b[0m \u001b[0my\u001b[0m\u001b[0;34m,\u001b[0m \u001b[0msample_weight\u001b[0m\u001b[0;34m,\u001b[0m \u001b[0mrandom_state\u001b[0m\u001b[0;34m\u001b[0m\u001b[0;34m\u001b[0m\u001b[0m\n\u001b[0m\u001b[1;32m    147\u001b[0m             )\n\u001b[1;32m    148\u001b[0m \u001b[0;34m\u001b[0m\u001b[0m\n",
            "\u001b[0;32m/usr/local/lib/python3.7/dist-packages/sklearn/ensemble/_weight_boosting.py\u001b[0m in \u001b[0;36m_boost\u001b[0;34m(self, iboost, X, y, sample_weight, random_state)\u001b[0m\n\u001b[1;32m    546\u001b[0m         \"\"\"\n\u001b[1;32m    547\u001b[0m         \u001b[0;32mif\u001b[0m \u001b[0mself\u001b[0m\u001b[0;34m.\u001b[0m\u001b[0malgorithm\u001b[0m \u001b[0;34m==\u001b[0m \u001b[0;34m\"SAMME.R\"\u001b[0m\u001b[0;34m:\u001b[0m\u001b[0;34m\u001b[0m\u001b[0;34m\u001b[0m\u001b[0m\n\u001b[0;32m--> 548\u001b[0;31m             \u001b[0;32mreturn\u001b[0m \u001b[0mself\u001b[0m\u001b[0;34m.\u001b[0m\u001b[0m_boost_real\u001b[0m\u001b[0;34m(\u001b[0m\u001b[0miboost\u001b[0m\u001b[0;34m,\u001b[0m \u001b[0mX\u001b[0m\u001b[0;34m,\u001b[0m \u001b[0my\u001b[0m\u001b[0;34m,\u001b[0m \u001b[0msample_weight\u001b[0m\u001b[0;34m,\u001b[0m \u001b[0mrandom_state\u001b[0m\u001b[0;34m)\u001b[0m\u001b[0;34m\u001b[0m\u001b[0;34m\u001b[0m\u001b[0m\n\u001b[0m\u001b[1;32m    549\u001b[0m \u001b[0;34m\u001b[0m\u001b[0m\n\u001b[1;32m    550\u001b[0m         \u001b[0;32melse\u001b[0m\u001b[0;34m:\u001b[0m  \u001b[0;31m# elif self.algorithm == \"SAMME\":\u001b[0m\u001b[0;34m\u001b[0m\u001b[0;34m\u001b[0m\u001b[0m\n",
            "\u001b[0;32m/usr/local/lib/python3.7/dist-packages/sklearn/ensemble/_weight_boosting.py\u001b[0m in \u001b[0;36m_boost_real\u001b[0;34m(self, iboost, X, y, sample_weight, random_state)\u001b[0m\n\u001b[1;32m    555\u001b[0m         \u001b[0mestimator\u001b[0m \u001b[0;34m=\u001b[0m \u001b[0mself\u001b[0m\u001b[0;34m.\u001b[0m\u001b[0m_make_estimator\u001b[0m\u001b[0;34m(\u001b[0m\u001b[0mrandom_state\u001b[0m\u001b[0;34m=\u001b[0m\u001b[0mrandom_state\u001b[0m\u001b[0;34m)\u001b[0m\u001b[0;34m\u001b[0m\u001b[0;34m\u001b[0m\u001b[0m\n\u001b[1;32m    556\u001b[0m \u001b[0;34m\u001b[0m\u001b[0m\n\u001b[0;32m--> 557\u001b[0;31m         \u001b[0mestimator\u001b[0m\u001b[0;34m.\u001b[0m\u001b[0mfit\u001b[0m\u001b[0;34m(\u001b[0m\u001b[0mX\u001b[0m\u001b[0;34m,\u001b[0m \u001b[0my\u001b[0m\u001b[0;34m,\u001b[0m \u001b[0msample_weight\u001b[0m\u001b[0;34m=\u001b[0m\u001b[0msample_weight\u001b[0m\u001b[0;34m)\u001b[0m\u001b[0;34m\u001b[0m\u001b[0;34m\u001b[0m\u001b[0m\n\u001b[0m\u001b[1;32m    558\u001b[0m \u001b[0;34m\u001b[0m\u001b[0m\n\u001b[1;32m    559\u001b[0m         \u001b[0my_predict_proba\u001b[0m \u001b[0;34m=\u001b[0m \u001b[0mestimator\u001b[0m\u001b[0;34m.\u001b[0m\u001b[0mpredict_proba\u001b[0m\u001b[0;34m(\u001b[0m\u001b[0mX\u001b[0m\u001b[0;34m)\u001b[0m\u001b[0;34m\u001b[0m\u001b[0;34m\u001b[0m\u001b[0m\n",
            "\u001b[0;32m/usr/local/lib/python3.7/dist-packages/sklearn/tree/_classes.py\u001b[0m in \u001b[0;36mfit\u001b[0;34m(self, X, y, sample_weight, check_input, X_idx_sorted)\u001b[0m\n\u001b[1;32m    940\u001b[0m             \u001b[0msample_weight\u001b[0m\u001b[0;34m=\u001b[0m\u001b[0msample_weight\u001b[0m\u001b[0;34m,\u001b[0m\u001b[0;34m\u001b[0m\u001b[0;34m\u001b[0m\u001b[0m\n\u001b[1;32m    941\u001b[0m             \u001b[0mcheck_input\u001b[0m\u001b[0;34m=\u001b[0m\u001b[0mcheck_input\u001b[0m\u001b[0;34m,\u001b[0m\u001b[0;34m\u001b[0m\u001b[0;34m\u001b[0m\u001b[0m\n\u001b[0;32m--> 942\u001b[0;31m             \u001b[0mX_idx_sorted\u001b[0m\u001b[0;34m=\u001b[0m\u001b[0mX_idx_sorted\u001b[0m\u001b[0;34m,\u001b[0m\u001b[0;34m\u001b[0m\u001b[0;34m\u001b[0m\u001b[0m\n\u001b[0m\u001b[1;32m    943\u001b[0m         )\n\u001b[1;32m    944\u001b[0m         \u001b[0;32mreturn\u001b[0m \u001b[0mself\u001b[0m\u001b[0;34m\u001b[0m\u001b[0;34m\u001b[0m\u001b[0m\n",
            "\u001b[0;32m/usr/local/lib/python3.7/dist-packages/sklearn/tree/_classes.py\u001b[0m in \u001b[0;36mfit\u001b[0;34m(self, X, y, sample_weight, check_input, X_idx_sorted)\u001b[0m\n\u001b[1;32m    418\u001b[0m             )\n\u001b[1;32m    419\u001b[0m \u001b[0;34m\u001b[0m\u001b[0m\n\u001b[0;32m--> 420\u001b[0;31m         \u001b[0mbuilder\u001b[0m\u001b[0;34m.\u001b[0m\u001b[0mbuild\u001b[0m\u001b[0;34m(\u001b[0m\u001b[0mself\u001b[0m\u001b[0;34m.\u001b[0m\u001b[0mtree_\u001b[0m\u001b[0;34m,\u001b[0m \u001b[0mX\u001b[0m\u001b[0;34m,\u001b[0m \u001b[0my\u001b[0m\u001b[0;34m,\u001b[0m \u001b[0msample_weight\u001b[0m\u001b[0;34m)\u001b[0m\u001b[0;34m\u001b[0m\u001b[0;34m\u001b[0m\u001b[0m\n\u001b[0m\u001b[1;32m    421\u001b[0m \u001b[0;34m\u001b[0m\u001b[0m\n\u001b[1;32m    422\u001b[0m         \u001b[0;32mif\u001b[0m \u001b[0mself\u001b[0m\u001b[0;34m.\u001b[0m\u001b[0mn_outputs_\u001b[0m \u001b[0;34m==\u001b[0m \u001b[0;36m1\u001b[0m \u001b[0;32mand\u001b[0m \u001b[0mis_classifier\u001b[0m\u001b[0;34m(\u001b[0m\u001b[0mself\u001b[0m\u001b[0;34m)\u001b[0m\u001b[0;34m:\u001b[0m\u001b[0;34m\u001b[0m\u001b[0;34m\u001b[0m\u001b[0m\n",
            "\u001b[0;31mKeyboardInterrupt\u001b[0m: "
          ]
        }
      ],
      "source": [
        "from sklearn.ensemble import AdaBoostClassifier\n",
        "AB_model = AdaBoostClassifier(n_estimators=150, learning_rate=.1)\n",
        "\n",
        "AB_model.fit(Xq1_mm_train,yq1_train)\n",
        "y_probaAB = AB_model.predict_proba(Xq1_mm_valid)[:,1]"
      ]
    },
    {
      "cell_type": "code",
      "execution_count": null,
      "metadata": {
        "colab": {
          "base_uri": "https://localhost:8080/",
          "height": 279
        },
        "id": "a1Kz22lnzwo7",
        "outputId": "3d036ebd-8dcd-4611-9f59-02924637ef84"
      },
      "outputs": [
        {
          "data": {
            "image/png": "[encoded data removed]",
            "text/plain": [
              "<Figure size 432x288 with 1 Axes>"
            ]
          },
          "metadata": {},
          "output_type": "display_data"
        }
      ],
      "source": [
        "from sklearn.metrics import accuracy_score, PrecisionRecallDisplay\n",
        "plt.figure()\n",
        "ax = plt.gca()\n",
        "PrecisionRecallDisplay.from_predictions(y_test,y_probaAB,ax=ax,label=\"AdaBoost\")\n",
        "PrecisionRecallDisplay.from_predictions(y_test,y_probaXGB,ax=ax,label=\"XGBoost\")\n",
        "plt.legend()\n",
        "plt.show()"
      ]
    },
    {
      "cell_type": "code",
      "execution_count": null,
      "metadata": {
        "colab": {
          "base_uri": "https://localhost:8080/"
        },
        "id": "b3A7PoJ30gSG",
        "outputId": "329faf50-bdf9-4341-d563-6211c62f9cff"
      },
      "outputs": [
        {
          "data": {
            "text/plain": [
              "delta           0.046667\n",
              "session_seen    0.046667\n",
              "history_frac    0.040000\n",
              "history_seen    0.020000\n",
              "dos             0.013333\n",
              "fa              0.006667\n",
              "form            0.006667\n",
              "ff              0.006667\n",
              "fes             0.006667\n",
              "fami            0.006667\n",
              "dtype: float64"
            ]
          },
          "execution_count": 52,
          "metadata": {},
          "output_type": "execute_result"
        }
      ],
      "source": [
        "pd.Series(dict(zip(X_test_unscaled.columns,AB_model.feature_importances_))).sort_values(ascending=False).head(10)"
      ]
    },
    {
      "cell_type": "markdown",
      "metadata": {
        "id": "fxmlJII52he0"
      },
      "source": [
        "Take a subset of 20,000, and use all features. expect around baseline accuracy. "
      ]
    },
    {
      "cell_type": "code",
      "execution_count": null,
      "metadata": {
        "colab": {
          "base_uri": "https://localhost:8080/"
        },
        "id": "AX2HmqkaFDq9",
        "outputId": "8825466d-c113-4cf2-c22a-0ba4192450c7"
      },
      "outputs": [
        {
          "data": {
            "text/plain": [
              "0         4\n",
              "1         5\n",
              "2         3\n",
              "3         5\n",
              "4         1\n",
              "         ..\n",
              "12155     5\n",
              "12156    10\n",
              "12157     5\n",
              "12158     3\n",
              "12159     9\n",
              "Name: sf_length, Length: 12160, dtype: int64"
            ]
          },
          "execution_count": 21,
          "metadata": {},
          "output_type": "execute_result"
        }
      ],
      "source": [
        "q1lexemes['sf_length']"
      ]
    },
    {
      "cell_type": "code",
      "execution_count": null,
      "metadata": {
        "id": "x2P-AkDKFH5a"
      },
      "outputs": [],
      "source": [
        "dataffq1 = pd.merge(left = datadfq1, right = q1lexemes[['lexeme_id','sf_length']],how=\"left\",left_on='lexeme_id',right_on='lexeme_id')"
      ]
    },
    {
      "cell_type": "code",
      "execution_count": null,
      "metadata": {
        "id": "vA7QcladFYd5"
      },
      "outputs": [],
      "source": [
        "dataffq1['p_forgot_bin'] = np.where(1 - dataffq1['p_recall']>0,1,0)"
      ]
    },
    {
      "cell_type": "code",
      "execution_count": null,
      "metadata": {
        "colab": {
          "base_uri": "https://localhost:8080/",
          "height": 353
        },
        "id": "bUtZDpYLFsOi",
        "outputId": "063e097e-cdc8-4dc7-ac40-e87b96a6ee32"
      },
      "outputs": [
        {
          "name": "stderr",
          "output_type": "stream",
          "text": [
            "/usr/local/lib/python3.7/dist-packages/seaborn/_decorators.py:43: FutureWarning: Pass the following variables as keyword args: x, y. From version 0.12, the only valid positional argument will be `data`, and passing other arguments without an explicit keyword will result in an error or misinterpretation.\n",
            "  FutureWarning\n"
          ]
        },
        {
          "data": {
            "text/plain": [
              "<matplotlib.axes._subplots.AxesSubplot at 0x7f942fab82d0>"
            ]
          },
          "execution_count": 27,
          "metadata": {},
          "output_type": "execute_result"
        },
        {
          "data": {
            "image/png": "[encoded data removed]",
            "text/plain": [
              "<Figure size 432x288 with 1 Axes>"
            ]
          },
          "metadata": {},
          "output_type": "display_data"
        }
      ],
      "source": [
        "sns.boxplot(dataffq1['p_forgot_bin'],dataffq1['sf_length'])"
      ]
    },
    {
      "cell_type": "code",
      "execution_count": null,
      "metadata": {
        "id": "QOg7Emqhk-6_"
      },
      "outputs": [],
      "source": [
        ""
      ]
    }
  ],
  "metadata": {
    "colab": {
      "collapsed_sections": [],
      "machine_shape": "hm",
      "name": "Duolingo_q1lfulldataset_splitting_modeling_logreg_xgboost_adaboost.ipynb",
      "provenance": [],
      "authorship_tag": "ABX9TyMcFziUU9Mtjq70BzmWA9Zb",
      "include_colab_link": true
    },
    "gpuClass": "standard",
    "kernelspec": {
      "display_name": "Python 3",
      "name": "python3"
    },
    "language_info": {
      "name": "python"
    }
  },
  "nbformat": 4,
  "nbformat_minor": 0
}