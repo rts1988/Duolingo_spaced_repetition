{
  "nbformat": 4,
  "nbformat_minor": 0,
  "metadata": {
    "colab": {
      "name": "1_Introduction_basicEDA_Duolingo_spaced_repetition.ipynb",
      "provenance": [],
      "collapsed_sections": [],
      "machine_shape": "hm",
      "authorship_tag": "ABX9TyNARHpUkwfqoD6jNvoAL8sq",
      "include_colab_link": true
    },
    "kernelspec": {
      "name": "python3",
      "display_name": "Python 3"
    },
    "language_info": {
      "name": "python"
    }
  },
  "cells": [
    {
      "cell_type": "markdown",
      "metadata": {
        "id": "view-in-github",
        "colab_type": "text"
      },
      "source": [
        "<a href=\"https://colab.research.google.com/github/rts1988/Duolingo_spaced_repetition/blob/main/1_Introduction_basicEDA_Duolingo_spaced_repetition.ipynb\" target=\"_parent\"><img src=\"https://colab.research.google.com/assets/colab-badge.svg\" alt=\"Open In Colab\"/></a>"
      ]
    },
    {
      "cell_type": "markdown",
      "source": [
        "## <font color = 'cornflowerblue' size=4>Introduction</font>"
      ],
      "metadata": {
        "id": "ITBxe5CZ3YN1"
      }
    },
    {
      "cell_type": "markdown",
      "source": [
        "\n",
        "\n",
        "Duolingo is a popular ed-tech company that gamifies language learning. It has a freemium business model, so increasing student engagement is vital. \n",
        "\n",
        "As part of its plan for increasing student engagement, Duolingo predicts how well a student might have retained the meanings and usage of words, and constructs a model of student’s understanding to produce targeted practice sessions that review words before are forgotten, and maximize retention (see below image). These indicators allows learners to better plan their study time, encouraging better retention, and therefore increasing motivation to continue using Duolingo.  \n",
        "\n",
        "**ADD image here**\n",
        "<figcaption align = \"left\"><b>Fig.1 -Duolingo strength meter</b></figcaption>\n",
        "\n",
        "This series of notebooks is the code for a capstone project in predicting how well a student has remembered a word to fill in the strength meters for every word the student has learned, based on a replication dataset published by B. Settles and B. Meeder. 2016. [A Trainable Spaced Repetition Model for Language Learning](https://github.com/duolingo/halflife-regression/blob/master/settles.acl16.pdf). In _Proceedings of the Association for Computational Linguistics (ACL)_, pages 1848-1858.\n",
        "\n",
        "In my capstone, using the dataset provided, the following questions are explored:\n",
        "\n",
        "<font color='cornflowerblue' size=1>\n",
        "Q1) What makes words difficult or easy for a student to remember?</font>\n",
        "\n",
        "In addition to the sparse lexeme tags provided in the dataset, a number of word-based features are considered, such as the IDF of the word in English, the lexical similarity of the word in the language being learned, and the learner's native language, and word embeddings.\n",
        "\n",
        "Classical machine learning techniques such as logistic regression, SVM, kNN, decision trees, ensemble techniques such as random forests, XGBoost, and finally, neural nets are trained and compared.\n",
        "\n",
        "The test set for Q1 consists of words not seen in the training data. \n",
        "\n",
        "<font color='cornflowerblue' size=1>\n",
        "Q2) What learning habits increase a student's retention?\n",
        "</font>\n",
        "\n",
        "Although the dataset only spans a short time, student performance as a function of time is encoded in daily average features in a manner similar to a time series, and added to the best model of Q1 to see how prediction performance improves. \n",
        "\n",
        "The test set for Q2 consists of students not seen in the training data. \n",
        "\n",
        "<font color='cornflowerblue' size=1>\n",
        "Q3) The cold-start problem: Duolingo is always adding new language courses, might good predictions based on learnings from Q1 and Q2 be possible for a NEW LANGUAGE?\n",
        "</font> \n",
        "\n",
        "The best model from Q2 is tested on two new languages courses unseen by the model.\n",
        "\n",
        "The dataset spans 14 days of students learning second languages through Duolingo’s gamified system and has 12.8 million records and 12 variables.\n",
        "\n",
        "**Feature sets:**\n",
        "\n",
        "How well a word is retained depends on the word itself, and the student’s individual learning pace and capacity. The following features were provided in the dataset. \n",
        "\n",
        "**_Interaction features:_**\n",
        "includes total number of times a student has seen the word $x_n$, the number of times it was correctly recalled, the number of times incorrectly recalled. \n",
        "\n",
        "**_Lexeme tag features:_** meant to capture the inherent difficulty of each particular word.\n",
        "\n",
        "In the dataset, the lexeme string has a format like below: \n",
        "```\"surface form/lemma<pos><modifiers>\"```\n",
        "\n",
        "For instance ```\n",
        "hombre/hombre<n><m><sg>``` - where hombre ('man' in Spanish) has a lemmatized form 'hombre', is a noun (```<n>```), and has modifier tags ```<m>``` and ```<sg>```\n",
        "\n",
        "Link for dataset download:\n",
        "https://paperswithcode.com/dataset/duolingo-spaced-repetition-data\n",
        "\n",
        "Data dictionary: \n",
        "\n",
        "-   `p_recall` - proportion of exercises from this lesson/practice where the word/lexeme was correctly recalled\n",
        "-   `timestamp` - UNIX timestamp of the current lesson/practice\n",
        "-   `delta` - time (in seconds) since the last lesson/practice that included this word/lexeme\n",
        "-   `user_id` - student user ID who did the lesson/practice (anonymized)\n",
        "-   `learning_language` - language being learned\n",
        "-   `ui_language` - user interface language (presumably native to the student)\n",
        "-   `lexeme_id` - system ID for the lexeme tag (i.e., word)\n",
        "-   `lexeme_string` - lexeme tag (see below)\n",
        "-   `history_seen` - total times user has seen the word/lexeme prior to this lesson/practice\n",
        "-   `history_correct` - total times user has been correct for the word/lexeme prior to this lesson/practice\n",
        "-   `session_seen` - times the user saw the word/lexeme during this lesson/practice\n",
        "-   `session_correct` - times the user got the word/lexeme correct during this lesson/practice\n",
        "\n",
        "Here $p\\_recall = \\frac{session\\ correct}{session\\ seen}$\n",
        "\n",
        "In the rest of this notebook, we will clean the downloaded dataset, and do some preliminary EDA to understand the breadth and depth of the data. \n",
        "\n",
        "The dataset was downloaded to my Google drive, and is now copied to the notebook. "
      ],
      "metadata": {
        "id": "3VvXhd3Sft_p"
      }
    },
    {
      "cell_type": "markdown",
      "source": [
        "#### <font color = 'cornflowerblue' size = 3>Reading data:</font>"
      ],
      "metadata": {
        "id": "TvJfCwFy3Jfc"
      }
    },
    {
      "cell_type": "code",
      "execution_count": 2,
      "metadata": {
        "id": "JjWMLs1EQ8R6"
      },
      "outputs": [],
      "source": [
        "from pydrive.auth import GoogleAuth\n",
        "from pydrive.drive import GoogleDrive\n",
        "from google.colab import auth\n",
        "from oauth2client.client import GoogleCredentials\n",
        "\n",
        "# Authenticate and create the PyDrive client.\n",
        "auth.authenticate_user()\n",
        "gauth = GoogleAuth()\n",
        "gauth.credentials = GoogleCredentials.get_application_default()\n",
        "drive = GoogleDrive(gauth)\n",
        "\n",
        "fileid = \"1MdLRV3GQ76-xqSGkH1QUDQ1MHrg_JtU_\"\n",
        "filename = \"settles.acl16.learning_traces.13m.csv.gz\"\n",
        "\n",
        "# download the file to notebook\n",
        "downloaded = drive.CreateFile({'id':fileid}) \n",
        "downloaded.GetContentFile(filename)"
      ]
    },
    {
      "cell_type": "markdown",
      "source": [
        "The file is unzipped to get a csv file, and data processing libraries are imported below. "
      ],
      "metadata": {
        "id": "vL5fNFXiWxdp"
      }
    },
    {
      "cell_type": "code",
      "source": [
        "# from https://www.tutorialspoint.com/python-support-for-gzip-files-gzip\n",
        "import gzip\n",
        "import shutil\n",
        "import pandas as pd\n",
        "import seaborn as sns\n",
        "import matplotlib.pyplot as plt\n",
        "import numpy as np\n",
        "import itertools\n",
        "datacsv = []\n",
        "with gzip.open(\"settles.acl16.learning_traces.13m.csv.gz\", 'rb') as f_in:\n",
        "  with open(\"settles.acl16.learning_traces.13m.csv\", 'wb') as f_out:\n",
        "    shutil.copyfileobj(f_in, f_out)"
      ],
      "metadata": {
        "id": "ffn51ky9Vmir"
      },
      "execution_count": 3,
      "outputs": []
    },
    {
      "cell_type": "markdown",
      "source": [
        "Reading into a pandas dataframe:"
      ],
      "metadata": {
        "id": "lbjS5AsuW_d1"
      }
    },
    {
      "cell_type": "code",
      "source": [
        "datadf = pd.read_csv(\"settles.acl16.learning_traces.13m.csv\")"
      ],
      "metadata": {
        "id": "1d3K9ybIe9TC"
      },
      "execution_count": 4,
      "outputs": []
    },
    {
      "cell_type": "markdown",
      "source": [
        "## <font color='cornflowerblue' size = 4>Basic EDA</font>"
      ],
      "metadata": {
        "id": "uYccBGuOFpOx"
      }
    },
    {
      "cell_type": "markdown",
      "source": [
        "### <font color = 'cornflowerblue' size=3>Sanity Checks</font>"
      ],
      "metadata": {
        "id": "D_pEThQE760T"
      }
    },
    {
      "cell_type": "markdown",
      "source": [
        "Dimensions of the dataset:"
      ],
      "metadata": {
        "id": "hb3hJYAxcJ2p"
      }
    },
    {
      "cell_type": "code",
      "source": [
        "datadf.shape"
      ],
      "metadata": {
        "colab": {
          "base_uri": "https://localhost:8080/"
        },
        "id": "Gackd97kcMWc",
        "outputId": "488c3bc2-bfa2-4666-bbc5-1f8d8ecf8d5e"
      },
      "execution_count": 5,
      "outputs": [
        {
          "output_type": "execute_result",
          "data": {
            "text/plain": [
              "(12854226, 12)"
            ]
          },
          "metadata": {},
          "execution_count": 5
        }
      ]
    },
    {
      "cell_type": "markdown",
      "source": [
        "The size of the dataframe in memory:"
      ],
      "metadata": {
        "id": "re4azXFSl8Ma"
      }
    },
    {
      "cell_type": "code",
      "source": [
        "print(f\"Size of dataframe: {datadf.size/10**6} MB\")"
      ],
      "metadata": {
        "colab": {
          "base_uri": "https://localhost:8080/"
        },
        "id": "w59Z_RYOl_an",
        "outputId": "5ead64df-317f-4efe-af6e-2003360b05a1"
      },
      "execution_count": 6,
      "outputs": [
        {
          "output_type": "stream",
          "name": "stdout",
          "text": [
            "Size of dataframe: 154.250712 MB\n"
          ]
        }
      ]
    },
    {
      "cell_type": "markdown",
      "source": [
        "There are 12.85 million records and 12 columns, taking up 154.2 MB of memory. \n",
        "\n",
        "The first few records are displayed below: "
      ],
      "metadata": {
        "id": "1cSxLYhFXZPF"
      }
    },
    {
      "cell_type": "code",
      "source": [
        "datadf.head(4)"
      ],
      "metadata": {
        "colab": {
          "base_uri": "https://localhost:8080/",
          "height": 175
        },
        "id": "RZXL7ow4fEg7",
        "outputId": "1849fcc4-a537-41d1-dd30-07a6f53b3466"
      },
      "execution_count": 7,
      "outputs": [
        {
          "output_type": "execute_result",
          "data": {
            "text/plain": [
              "   p_recall   timestamp     delta user_id learning_language ui_language  \\\n",
              "0       1.0  1362076081  27649635    u:FO                de          en   \n",
              "1       0.5  1362076081  27649635    u:FO                de          en   \n",
              "2       1.0  1362076081  27649635    u:FO                de          en   \n",
              "3       0.5  1362076081  27649635    u:FO                de          en   \n",
              "\n",
              "                          lexeme_id                     lexeme_string  \\\n",
              "0  76390c1350a8dac31186187e2fe1e178  lernt/lernen<vblex><pri><p3><sg>   \n",
              "1  7dfd7086f3671685e2cf1c1da72796d7     die/die<det><def><f><sg><nom>   \n",
              "2  35a54c25a2cda8127343f6a82e6f6b7d          mann/mann<n><m><sg><nom>   \n",
              "3  0cf63ffe3dda158bc3dbd55682b355ae          frau/frau<n><f><sg><nom>   \n",
              "\n",
              "   history_seen  history_correct  session_seen  session_correct  \n",
              "0             6                4             2                2  \n",
              "1             4                4             2                1  \n",
              "2             5                4             1                1  \n",
              "3             6                5             2                1  "
            ],
            "text/html": [
              "\n",
              "  <div id=\"df-0771d2eb-793e-4001-b8c7-3e49a783678e\">\n",
              "    <div class=\"colab-df-container\">\n",
              "      <div>\n",
              "<style scoped>\n",
              "    .dataframe tbody tr th:only-of-type {\n",
              "        vertical-align: middle;\n",
              "    }\n",
              "\n",
              "    .dataframe tbody tr th {\n",
              "        vertical-align: top;\n",
              "    }\n",
              "\n",
              "    .dataframe thead th {\n",
              "        text-align: right;\n",
              "    }\n",
              "</style>\n",
              "<table border=\"1\" class=\"dataframe\">\n",
              "  <thead>\n",
              "    <tr style=\"text-align: right;\">\n",
              "      <th></th>\n",
              "      <th>p_recall</th>\n",
              "      <th>timestamp</th>\n",
              "      <th>delta</th>\n",
              "      <th>user_id</th>\n",
              "      <th>learning_language</th>\n",
              "      <th>ui_language</th>\n",
              "      <th>lexeme_id</th>\n",
              "      <th>lexeme_string</th>\n",
              "      <th>history_seen</th>\n",
              "      <th>history_correct</th>\n",
              "      <th>session_seen</th>\n",
              "      <th>session_correct</th>\n",
              "    </tr>\n",
              "  </thead>\n",
              "  <tbody>\n",
              "    <tr>\n",
              "      <th>0</th>\n",
              "      <td>1.0</td>\n",
              "      <td>1362076081</td>\n",
              "      <td>27649635</td>\n",
              "      <td>u:FO</td>\n",
              "      <td>de</td>\n",
              "      <td>en</td>\n",
              "      <td>76390c1350a8dac31186187e2fe1e178</td>\n",
              "      <td>lernt/lernen&lt;vblex&gt;&lt;pri&gt;&lt;p3&gt;&lt;sg&gt;</td>\n",
              "      <td>6</td>\n",
              "      <td>4</td>\n",
              "      <td>2</td>\n",
              "      <td>2</td>\n",
              "    </tr>\n",
              "    <tr>\n",
              "      <th>1</th>\n",
              "      <td>0.5</td>\n",
              "      <td>1362076081</td>\n",
              "      <td>27649635</td>\n",
              "      <td>u:FO</td>\n",
              "      <td>de</td>\n",
              "      <td>en</td>\n",
              "      <td>7dfd7086f3671685e2cf1c1da72796d7</td>\n",
              "      <td>die/die&lt;det&gt;&lt;def&gt;&lt;f&gt;&lt;sg&gt;&lt;nom&gt;</td>\n",
              "      <td>4</td>\n",
              "      <td>4</td>\n",
              "      <td>2</td>\n",
              "      <td>1</td>\n",
              "    </tr>\n",
              "    <tr>\n",
              "      <th>2</th>\n",
              "      <td>1.0</td>\n",
              "      <td>1362076081</td>\n",
              "      <td>27649635</td>\n",
              "      <td>u:FO</td>\n",
              "      <td>de</td>\n",
              "      <td>en</td>\n",
              "      <td>35a54c25a2cda8127343f6a82e6f6b7d</td>\n",
              "      <td>mann/mann&lt;n&gt;&lt;m&gt;&lt;sg&gt;&lt;nom&gt;</td>\n",
              "      <td>5</td>\n",
              "      <td>4</td>\n",
              "      <td>1</td>\n",
              "      <td>1</td>\n",
              "    </tr>\n",
              "    <tr>\n",
              "      <th>3</th>\n",
              "      <td>0.5</td>\n",
              "      <td>1362076081</td>\n",
              "      <td>27649635</td>\n",
              "      <td>u:FO</td>\n",
              "      <td>de</td>\n",
              "      <td>en</td>\n",
              "      <td>0cf63ffe3dda158bc3dbd55682b355ae</td>\n",
              "      <td>frau/frau&lt;n&gt;&lt;f&gt;&lt;sg&gt;&lt;nom&gt;</td>\n",
              "      <td>6</td>\n",
              "      <td>5</td>\n",
              "      <td>2</td>\n",
              "      <td>1</td>\n",
              "    </tr>\n",
              "  </tbody>\n",
              "</table>\n",
              "</div>\n",
              "      <button class=\"colab-df-convert\" onclick=\"convertToInteractive('df-0771d2eb-793e-4001-b8c7-3e49a783678e')\"\n",
              "              title=\"Convert this dataframe to an interactive table.\"\n",
              "              style=\"display:none;\">\n",
              "        \n",
              "  <svg xmlns=\"http://www.w3.org/2000/svg\" height=\"24px\"viewBox=\"0 0 24 24\"\n",
              "       width=\"24px\">\n",
              "    <path d=\"M0 0h24v24H0V0z\" fill=\"none\"/>\n",
              "    <path d=\"M18.56 5.44l.94 2.06.94-2.06 2.06-.94-2.06-.94-.94-2.06-.94 2.06-2.06.94zm-11 1L8.5 8.5l.94-2.06 2.06-.94-2.06-.94L8.5 2.5l-.94 2.06-2.06.94zm10 10l.94 2.06.94-2.06 2.06-.94-2.06-.94-.94-2.06-.94 2.06-2.06.94z\"/><path d=\"M17.41 7.96l-1.37-1.37c-.4-.4-.92-.59-1.43-.59-.52 0-1.04.2-1.43.59L10.3 9.45l-7.72 7.72c-.78.78-.78 2.05 0 2.83L4 21.41c.39.39.9.59 1.41.59.51 0 1.02-.2 1.41-.59l7.78-7.78 2.81-2.81c.8-.78.8-2.07 0-2.86zM5.41 20L4 18.59l7.72-7.72 1.47 1.35L5.41 20z\"/>\n",
              "  </svg>\n",
              "      </button>\n",
              "      \n",
              "  <style>\n",
              "    .colab-df-container {\n",
              "      display:flex;\n",
              "      flex-wrap:wrap;\n",
              "      gap: 12px;\n",
              "    }\n",
              "\n",
              "    .colab-df-convert {\n",
              "      background-color: #E8F0FE;\n",
              "      border: none;\n",
              "      border-radius: 50%;\n",
              "      cursor: pointer;\n",
              "      display: none;\n",
              "      fill: #1967D2;\n",
              "      height: 32px;\n",
              "      padding: 0 0 0 0;\n",
              "      width: 32px;\n",
              "    }\n",
              "\n",
              "    .colab-df-convert:hover {\n",
              "      background-color: #E2EBFA;\n",
              "      box-shadow: 0px 1px 2px rgba(60, 64, 67, 0.3), 0px 1px 3px 1px rgba(60, 64, 67, 0.15);\n",
              "      fill: #174EA6;\n",
              "    }\n",
              "\n",
              "    [theme=dark] .colab-df-convert {\n",
              "      background-color: #3B4455;\n",
              "      fill: #D2E3FC;\n",
              "    }\n",
              "\n",
              "    [theme=dark] .colab-df-convert:hover {\n",
              "      background-color: #434B5C;\n",
              "      box-shadow: 0px 1px 3px 1px rgba(0, 0, 0, 0.15);\n",
              "      filter: drop-shadow(0px 1px 2px rgba(0, 0, 0, 0.3));\n",
              "      fill: #FFFFFF;\n",
              "    }\n",
              "  </style>\n",
              "\n",
              "      <script>\n",
              "        const buttonEl =\n",
              "          document.querySelector('#df-0771d2eb-793e-4001-b8c7-3e49a783678e button.colab-df-convert');\n",
              "        buttonEl.style.display =\n",
              "          google.colab.kernel.accessAllowed ? 'block' : 'none';\n",
              "\n",
              "        async function convertToInteractive(key) {\n",
              "          const element = document.querySelector('#df-0771d2eb-793e-4001-b8c7-3e49a783678e');\n",
              "          const dataTable =\n",
              "            await google.colab.kernel.invokeFunction('convertToInteractive',\n",
              "                                                     [key], {});\n",
              "          if (!dataTable) return;\n",
              "\n",
              "          const docLinkHtml = 'Like what you see? Visit the ' +\n",
              "            '<a target=\"_blank\" href=https://colab.research.google.com/notebooks/data_table.ipynb>data table notebook</a>'\n",
              "            + ' to learn more about interactive tables.';\n",
              "          element.innerHTML = '';\n",
              "          dataTable['output_type'] = 'display_data';\n",
              "          await google.colab.output.renderOutput(dataTable, element);\n",
              "          const docLink = document.createElement('div');\n",
              "          docLink.innerHTML = docLinkHtml;\n",
              "          element.appendChild(docLink);\n",
              "        }\n",
              "      </script>\n",
              "    </div>\n",
              "  </div>\n",
              "  "
            ]
          },
          "metadata": {},
          "execution_count": 7
        }
      ]
    },
    {
      "cell_type": "markdown",
      "source": [
        "It appears that each record is for one user learning one word, with the history of that word for that user, and particulars of language, and the number of questions for that word in that session.\n",
        "\n",
        "From looking at the first few values of timestamp (all the same values), it probably marks the beginning of a learning session where each word learned in that session is listed in a separate record. \n",
        "\n",
        "Getting more information on the contents:"
      ],
      "metadata": {
        "id": "LQUHGjjmX3HJ"
      }
    },
    {
      "cell_type": "code",
      "source": [
        "datadf.info()"
      ],
      "metadata": {
        "colab": {
          "base_uri": "https://localhost:8080/"
        },
        "id": "wSCVPpdDX9z_",
        "outputId": "96e83847-0ff5-41ff-882f-9fcf92b03a89"
      },
      "execution_count": 8,
      "outputs": [
        {
          "output_type": "stream",
          "name": "stdout",
          "text": [
            "<class 'pandas.core.frame.DataFrame'>\n",
            "RangeIndex: 12854226 entries, 0 to 12854225\n",
            "Data columns (total 12 columns):\n",
            " #   Column             Dtype  \n",
            "---  ------             -----  \n",
            " 0   p_recall           float64\n",
            " 1   timestamp          int64  \n",
            " 2   delta              int64  \n",
            " 3   user_id            object \n",
            " 4   learning_language  object \n",
            " 5   ui_language        object \n",
            " 6   lexeme_id          object \n",
            " 7   lexeme_string      object \n",
            " 8   history_seen       int64  \n",
            " 9   history_correct    int64  \n",
            " 10  session_seen       int64  \n",
            " 11  session_correct    int64  \n",
            "dtypes: float64(1), int64(6), object(5)\n",
            "memory usage: 1.1+ GB\n"
          ]
        }
      ]
    },
    {
      "cell_type": "markdown",
      "source": [
        "The columns are listed on basis of datatype in the table below:\n",
        "\n",
        "| Categorical       \t| Numerical         \t| Time based \t|\n",
        "|-------------------\t|-------------------\t|------------\t|\n",
        "| lexeme_id         \t| p_recall (target) \t| Timestamp  \t|\n",
        "| lexeme_tag        \t| history_correct   \t| delta      \t|\n",
        "| learning_language \t| history_seen      \t|            \t|\n",
        "| ui_language       \t| session_correct   \t|            \t|\n",
        "| user_id           \t| session_seen      \t|            \t|"
      ],
      "metadata": {
        "id": "YuchC0cjYBCs"
      }
    },
    {
      "cell_type": "markdown",
      "source": [
        "Basic descriptive statistics for the numerical columns are below:"
      ],
      "metadata": {
        "id": "n_0pC4yyarHL"
      }
    },
    {
      "cell_type": "code",
      "source": [
        "datadf.describe().T"
      ],
      "metadata": {
        "colab": {
          "base_uri": "https://localhost:8080/",
          "height": 269
        },
        "id": "N0tQ49Y0YAnn",
        "outputId": "a07010fc-d5e4-440b-8edd-053c6d86adc8"
      },
      "execution_count": 9,
      "outputs": [
        {
          "output_type": "execute_result",
          "data": {
            "text/plain": [
              "                      count          mean           std           min  \\\n",
              "p_recall         12854226.0  8.961056e-01  2.714048e-01  0.000000e+00   \n",
              "timestamp        12854226.0  1.362589e+09  2.932082e+05  1.362076e+09   \n",
              "delta            12854226.0  7.295811e+05  2.246499e+06  1.000000e+00   \n",
              "history_seen     12854226.0  2.198109e+01  1.295508e+02  1.000000e+00   \n",
              "history_correct  12854226.0  1.935025e+01  1.119681e+02  1.000000e+00   \n",
              "session_seen     12854226.0  1.817686e+00  1.360180e+00  1.000000e+00   \n",
              "session_correct  12854226.0  1.644134e+00  1.318794e+00  0.000000e+00   \n",
              "\n",
              "                          25%           50%           75%           max  \n",
              "p_recall         1.000000e+00  1.000000e+00  1.000000e+00  1.000000e+00  \n",
              "timestamp        1.362343e+09  1.362591e+09  1.362846e+09  1.363105e+09  \n",
              "delta            5.320000e+02  7.713400e+04  4.425070e+05  4.032836e+07  \n",
              "history_seen     3.000000e+00  6.000000e+00  1.500000e+01  1.351800e+04  \n",
              "history_correct  3.000000e+00  6.000000e+00  1.300000e+01  1.288800e+04  \n",
              "session_seen     1.000000e+00  1.000000e+00  2.000000e+00  2.000000e+01  \n",
              "session_correct  1.000000e+00  1.000000e+00  2.000000e+00  2.000000e+01  "
            ],
            "text/html": [
              "\n",
              "  <div id=\"df-969d3e68-5c97-40e7-b26b-d8634dddcc61\">\n",
              "    <div class=\"colab-df-container\">\n",
              "      <div>\n",
              "<style scoped>\n",
              "    .dataframe tbody tr th:only-of-type {\n",
              "        vertical-align: middle;\n",
              "    }\n",
              "\n",
              "    .dataframe tbody tr th {\n",
              "        vertical-align: top;\n",
              "    }\n",
              "\n",
              "    .dataframe thead th {\n",
              "        text-align: right;\n",
              "    }\n",
              "</style>\n",
              "<table border=\"1\" class=\"dataframe\">\n",
              "  <thead>\n",
              "    <tr style=\"text-align: right;\">\n",
              "      <th></th>\n",
              "      <th>count</th>\n",
              "      <th>mean</th>\n",
              "      <th>std</th>\n",
              "      <th>min</th>\n",
              "      <th>25%</th>\n",
              "      <th>50%</th>\n",
              "      <th>75%</th>\n",
              "      <th>max</th>\n",
              "    </tr>\n",
              "  </thead>\n",
              "  <tbody>\n",
              "    <tr>\n",
              "      <th>p_recall</th>\n",
              "      <td>12854226.0</td>\n",
              "      <td>8.961056e-01</td>\n",
              "      <td>2.714048e-01</td>\n",
              "      <td>0.000000e+00</td>\n",
              "      <td>1.000000e+00</td>\n",
              "      <td>1.000000e+00</td>\n",
              "      <td>1.000000e+00</td>\n",
              "      <td>1.000000e+00</td>\n",
              "    </tr>\n",
              "    <tr>\n",
              "      <th>timestamp</th>\n",
              "      <td>12854226.0</td>\n",
              "      <td>1.362589e+09</td>\n",
              "      <td>2.932082e+05</td>\n",
              "      <td>1.362076e+09</td>\n",
              "      <td>1.362343e+09</td>\n",
              "      <td>1.362591e+09</td>\n",
              "      <td>1.362846e+09</td>\n",
              "      <td>1.363105e+09</td>\n",
              "    </tr>\n",
              "    <tr>\n",
              "      <th>delta</th>\n",
              "      <td>12854226.0</td>\n",
              "      <td>7.295811e+05</td>\n",
              "      <td>2.246499e+06</td>\n",
              "      <td>1.000000e+00</td>\n",
              "      <td>5.320000e+02</td>\n",
              "      <td>7.713400e+04</td>\n",
              "      <td>4.425070e+05</td>\n",
              "      <td>4.032836e+07</td>\n",
              "    </tr>\n",
              "    <tr>\n",
              "      <th>history_seen</th>\n",
              "      <td>12854226.0</td>\n",
              "      <td>2.198109e+01</td>\n",
              "      <td>1.295508e+02</td>\n",
              "      <td>1.000000e+00</td>\n",
              "      <td>3.000000e+00</td>\n",
              "      <td>6.000000e+00</td>\n",
              "      <td>1.500000e+01</td>\n",
              "      <td>1.351800e+04</td>\n",
              "    </tr>\n",
              "    <tr>\n",
              "      <th>history_correct</th>\n",
              "      <td>12854226.0</td>\n",
              "      <td>1.935025e+01</td>\n",
              "      <td>1.119681e+02</td>\n",
              "      <td>1.000000e+00</td>\n",
              "      <td>3.000000e+00</td>\n",
              "      <td>6.000000e+00</td>\n",
              "      <td>1.300000e+01</td>\n",
              "      <td>1.288800e+04</td>\n",
              "    </tr>\n",
              "    <tr>\n",
              "      <th>session_seen</th>\n",
              "      <td>12854226.0</td>\n",
              "      <td>1.817686e+00</td>\n",
              "      <td>1.360180e+00</td>\n",
              "      <td>1.000000e+00</td>\n",
              "      <td>1.000000e+00</td>\n",
              "      <td>1.000000e+00</td>\n",
              "      <td>2.000000e+00</td>\n",
              "      <td>2.000000e+01</td>\n",
              "    </tr>\n",
              "    <tr>\n",
              "      <th>session_correct</th>\n",
              "      <td>12854226.0</td>\n",
              "      <td>1.644134e+00</td>\n",
              "      <td>1.318794e+00</td>\n",
              "      <td>0.000000e+00</td>\n",
              "      <td>1.000000e+00</td>\n",
              "      <td>1.000000e+00</td>\n",
              "      <td>2.000000e+00</td>\n",
              "      <td>2.000000e+01</td>\n",
              "    </tr>\n",
              "  </tbody>\n",
              "</table>\n",
              "</div>\n",
              "      <button class=\"colab-df-convert\" onclick=\"convertToInteractive('df-969d3e68-5c97-40e7-b26b-d8634dddcc61')\"\n",
              "              title=\"Convert this dataframe to an interactive table.\"\n",
              "              style=\"display:none;\">\n",
              "        \n",
              "  <svg xmlns=\"http://www.w3.org/2000/svg\" height=\"24px\"viewBox=\"0 0 24 24\"\n",
              "       width=\"24px\">\n",
              "    <path d=\"M0 0h24v24H0V0z\" fill=\"none\"/>\n",
              "    <path d=\"M18.56 5.44l.94 2.06.94-2.06 2.06-.94-2.06-.94-.94-2.06-.94 2.06-2.06.94zm-11 1L8.5 8.5l.94-2.06 2.06-.94-2.06-.94L8.5 2.5l-.94 2.06-2.06.94zm10 10l.94 2.06.94-2.06 2.06-.94-2.06-.94-.94-2.06-.94 2.06-2.06.94z\"/><path d=\"M17.41 7.96l-1.37-1.37c-.4-.4-.92-.59-1.43-.59-.52 0-1.04.2-1.43.59L10.3 9.45l-7.72 7.72c-.78.78-.78 2.05 0 2.83L4 21.41c.39.39.9.59 1.41.59.51 0 1.02-.2 1.41-.59l7.78-7.78 2.81-2.81c.8-.78.8-2.07 0-2.86zM5.41 20L4 18.59l7.72-7.72 1.47 1.35L5.41 20z\"/>\n",
              "  </svg>\n",
              "      </button>\n",
              "      \n",
              "  <style>\n",
              "    .colab-df-container {\n",
              "      display:flex;\n",
              "      flex-wrap:wrap;\n",
              "      gap: 12px;\n",
              "    }\n",
              "\n",
              "    .colab-df-convert {\n",
              "      background-color: #E8F0FE;\n",
              "      border: none;\n",
              "      border-radius: 50%;\n",
              "      cursor: pointer;\n",
              "      display: none;\n",
              "      fill: #1967D2;\n",
              "      height: 32px;\n",
              "      padding: 0 0 0 0;\n",
              "      width: 32px;\n",
              "    }\n",
              "\n",
              "    .colab-df-convert:hover {\n",
              "      background-color: #E2EBFA;\n",
              "      box-shadow: 0px 1px 2px rgba(60, 64, 67, 0.3), 0px 1px 3px 1px rgba(60, 64, 67, 0.15);\n",
              "      fill: #174EA6;\n",
              "    }\n",
              "\n",
              "    [theme=dark] .colab-df-convert {\n",
              "      background-color: #3B4455;\n",
              "      fill: #D2E3FC;\n",
              "    }\n",
              "\n",
              "    [theme=dark] .colab-df-convert:hover {\n",
              "      background-color: #434B5C;\n",
              "      box-shadow: 0px 1px 3px 1px rgba(0, 0, 0, 0.15);\n",
              "      filter: drop-shadow(0px 1px 2px rgba(0, 0, 0, 0.3));\n",
              "      fill: #FFFFFF;\n",
              "    }\n",
              "  </style>\n",
              "\n",
              "      <script>\n",
              "        const buttonEl =\n",
              "          document.querySelector('#df-969d3e68-5c97-40e7-b26b-d8634dddcc61 button.colab-df-convert');\n",
              "        buttonEl.style.display =\n",
              "          google.colab.kernel.accessAllowed ? 'block' : 'none';\n",
              "\n",
              "        async function convertToInteractive(key) {\n",
              "          const element = document.querySelector('#df-969d3e68-5c97-40e7-b26b-d8634dddcc61');\n",
              "          const dataTable =\n",
              "            await google.colab.kernel.invokeFunction('convertToInteractive',\n",
              "                                                     [key], {});\n",
              "          if (!dataTable) return;\n",
              "\n",
              "          const docLinkHtml = 'Like what you see? Visit the ' +\n",
              "            '<a target=\"_blank\" href=https://colab.research.google.com/notebooks/data_table.ipynb>data table notebook</a>'\n",
              "            + ' to learn more about interactive tables.';\n",
              "          element.innerHTML = '';\n",
              "          dataTable['output_type'] = 'display_data';\n",
              "          await google.colab.output.renderOutput(dataTable, element);\n",
              "          const docLink = document.createElement('div');\n",
              "          docLink.innerHTML = docLinkHtml;\n",
              "          element.appendChild(docLink);\n",
              "        }\n",
              "      </script>\n",
              "    </div>\n",
              "  </div>\n",
              "  "
            ]
          },
          "metadata": {},
          "execution_count": 9
        }
      ]
    },
    {
      "cell_type": "markdown",
      "source": [
        "From count, there are no null values in the numerical columns. The min and max values show no strange, improbable values. \n",
        "\n",
        "Checking for null values:"
      ],
      "metadata": {
        "id": "SrHISVJXazVL"
      }
    },
    {
      "cell_type": "code",
      "source": [
        "datadf.isna().any()"
      ],
      "metadata": {
        "colab": {
          "base_uri": "https://localhost:8080/"
        },
        "id": "LidR-jOJbtjD",
        "outputId": "d4d9bc94-3776-4634-ead4-93d3e5b9a6c8"
      },
      "execution_count": 10,
      "outputs": [
        {
          "output_type": "execute_result",
          "data": {
            "text/plain": [
              "p_recall             False\n",
              "timestamp            False\n",
              "delta                False\n",
              "user_id              False\n",
              "learning_language    False\n",
              "ui_language          False\n",
              "lexeme_id            False\n",
              "lexeme_string        False\n",
              "history_seen         False\n",
              "history_correct      False\n",
              "session_seen         False\n",
              "session_correct      False\n",
              "dtype: bool"
            ]
          },
          "metadata": {},
          "execution_count": 10
        }
      ]
    },
    {
      "cell_type": "markdown",
      "source": [
        "There are no null values. \n",
        "\n",
        "Checking for duplicates:"
      ],
      "metadata": {
        "id": "0O7aYnLmbwl8"
      }
    },
    {
      "cell_type": "code",
      "source": [
        "datadf[datadf.duplicated()]"
      ],
      "metadata": {
        "colab": {
          "base_uri": "https://localhost:8080/",
          "height": 424
        },
        "id": "c02YLhEkbzW7",
        "outputId": "406a6aba-a7f8-4372-bca8-5c293f75cb1b"
      },
      "execution_count": 11,
      "outputs": [
        {
          "output_type": "execute_result",
          "data": {
            "text/plain": [
              "         p_recall   timestamp    delta user_id learning_language ui_language  \\\n",
              "3067848      0.75  1362334650  6037137  u:fyCE                es          en   \n",
              "3067849      0.80  1362334650  6037137  u:fyCE                es          en   \n",
              "3402349      0.50  1362353111   426085   u:zD_                fr          en   \n",
              "3402354      0.00  1362353111  3906547   u:zD_                fr          en   \n",
              "3402355      1.00  1362353111   435992   u:zD_                fr          en   \n",
              "...           ...         ...      ...     ...               ...         ...   \n",
              "7702861      1.00  1362683117       82  u:i5X3                en          es   \n",
              "7722347      1.00  1362684186   331356  u:gMHD                en          es   \n",
              "7722348      0.00  1362684186   330165  u:gMHD                en          es   \n",
              "7722349      0.00  1362684186    77803  u:gMHD                en          es   \n",
              "7722350      0.00  1362684186   696547  u:gMHD                en          es   \n",
              "\n",
              "                                lexeme_id  \\\n",
              "3067848  86584daef5933b284384453795bbf0ed   \n",
              "3067849  605a1c36da2cf22706eaad95b0b7eeee   \n",
              "3402349  c5059c4d9d73f25a415904bade8a1337   \n",
              "3402354  22ba409694ae64f3768d993f4b81708f   \n",
              "3402355  c4d97966fdca70e0964004f50ff50d66   \n",
              "...                                   ...   \n",
              "7702861  c52ab45d4e22ee7580041911159e3c0c   \n",
              "7722347  1849080c74cfc80bb39a5a493e85efe8   \n",
              "7722348  019e69c0c7349a49fff531b7c5fc263c   \n",
              "7722349  e09b138d58a98c83f120ffbc898ce818   \n",
              "7722350  563cc940cf4f3edeecc73ee5e6ab45d1   \n",
              "\n",
              "                                        lexeme_string  history_seen  \\\n",
              "3067848                       hombre/hombre<n><m><sg>             4   \n",
              "3067849                           niño/niño<n><m><sg>             3   \n",
              "3402349  posé/poser<vblex><pp><m><sg><@compound_past>            25   \n",
              "3402354            parliez/parler<vblex><pii><p2><pl>             1   \n",
              "3402355                  entièrement/entièrement<adv>            20   \n",
              "...                                               ...           ...   \n",
              "7702861                            water/water<n><sg>             5   \n",
              "7722347                           see/see<vblex><inf>            17   \n",
              "7722348    have/have<vbhaver><pres><@present_perfect>            73   \n",
              "7722349                                     at/at<pr>            61   \n",
              "7722350                        tuesday/tuesday<n><sg>            12   \n",
              "\n",
              "         history_correct  session_seen  session_correct  \n",
              "3067848                3             4                3  \n",
              "3067849                3             5                4  \n",
              "3402349               12             2                1  \n",
              "3402354                1             1                0  \n",
              "3402355               11             1                1  \n",
              "...                  ...           ...              ...  \n",
              "7702861                4             1                1  \n",
              "7722347               15             1                1  \n",
              "7722348               66             1                0  \n",
              "7722349               54             1                0  \n",
              "7722350                9             1                0  \n",
              "\n",
              "[81 rows x 12 columns]"
            ],
            "text/html": [
              "\n",
              "  <div id=\"df-4c9e2588-c84d-4d77-ba90-c587c6f47780\">\n",
              "    <div class=\"colab-df-container\">\n",
              "      <div>\n",
              "<style scoped>\n",
              "    .dataframe tbody tr th:only-of-type {\n",
              "        vertical-align: middle;\n",
              "    }\n",
              "\n",
              "    .dataframe tbody tr th {\n",
              "        vertical-align: top;\n",
              "    }\n",
              "\n",
              "    .dataframe thead th {\n",
              "        text-align: right;\n",
              "    }\n",
              "</style>\n",
              "<table border=\"1\" class=\"dataframe\">\n",
              "  <thead>\n",
              "    <tr style=\"text-align: right;\">\n",
              "      <th></th>\n",
              "      <th>p_recall</th>\n",
              "      <th>timestamp</th>\n",
              "      <th>delta</th>\n",
              "      <th>user_id</th>\n",
              "      <th>learning_language</th>\n",
              "      <th>ui_language</th>\n",
              "      <th>lexeme_id</th>\n",
              "      <th>lexeme_string</th>\n",
              "      <th>history_seen</th>\n",
              "      <th>history_correct</th>\n",
              "      <th>session_seen</th>\n",
              "      <th>session_correct</th>\n",
              "    </tr>\n",
              "  </thead>\n",
              "  <tbody>\n",
              "    <tr>\n",
              "      <th>3067848</th>\n",
              "      <td>0.75</td>\n",
              "      <td>1362334650</td>\n",
              "      <td>6037137</td>\n",
              "      <td>u:fyCE</td>\n",
              "      <td>es</td>\n",
              "      <td>en</td>\n",
              "      <td>86584daef5933b284384453795bbf0ed</td>\n",
              "      <td>hombre/hombre&lt;n&gt;&lt;m&gt;&lt;sg&gt;</td>\n",
              "      <td>4</td>\n",
              "      <td>3</td>\n",
              "      <td>4</td>\n",
              "      <td>3</td>\n",
              "    </tr>\n",
              "    <tr>\n",
              "      <th>3067849</th>\n",
              "      <td>0.80</td>\n",
              "      <td>1362334650</td>\n",
              "      <td>6037137</td>\n",
              "      <td>u:fyCE</td>\n",
              "      <td>es</td>\n",
              "      <td>en</td>\n",
              "      <td>605a1c36da2cf22706eaad95b0b7eeee</td>\n",
              "      <td>niño/niño&lt;n&gt;&lt;m&gt;&lt;sg&gt;</td>\n",
              "      <td>3</td>\n",
              "      <td>3</td>\n",
              "      <td>5</td>\n",
              "      <td>4</td>\n",
              "    </tr>\n",
              "    <tr>\n",
              "      <th>3402349</th>\n",
              "      <td>0.50</td>\n",
              "      <td>1362353111</td>\n",
              "      <td>426085</td>\n",
              "      <td>u:zD_</td>\n",
              "      <td>fr</td>\n",
              "      <td>en</td>\n",
              "      <td>c5059c4d9d73f25a415904bade8a1337</td>\n",
              "      <td>posé/poser&lt;vblex&gt;&lt;pp&gt;&lt;m&gt;&lt;sg&gt;&lt;@compound_past&gt;</td>\n",
              "      <td>25</td>\n",
              "      <td>12</td>\n",
              "      <td>2</td>\n",
              "      <td>1</td>\n",
              "    </tr>\n",
              "    <tr>\n",
              "      <th>3402354</th>\n",
              "      <td>0.00</td>\n",
              "      <td>1362353111</td>\n",
              "      <td>3906547</td>\n",
              "      <td>u:zD_</td>\n",
              "      <td>fr</td>\n",
              "      <td>en</td>\n",
              "      <td>22ba409694ae64f3768d993f4b81708f</td>\n",
              "      <td>parliez/parler&lt;vblex&gt;&lt;pii&gt;&lt;p2&gt;&lt;pl&gt;</td>\n",
              "      <td>1</td>\n",
              "      <td>1</td>\n",
              "      <td>1</td>\n",
              "      <td>0</td>\n",
              "    </tr>\n",
              "    <tr>\n",
              "      <th>3402355</th>\n",
              "      <td>1.00</td>\n",
              "      <td>1362353111</td>\n",
              "      <td>435992</td>\n",
              "      <td>u:zD_</td>\n",
              "      <td>fr</td>\n",
              "      <td>en</td>\n",
              "      <td>c4d97966fdca70e0964004f50ff50d66</td>\n",
              "      <td>entièrement/entièrement&lt;adv&gt;</td>\n",
              "      <td>20</td>\n",
              "      <td>11</td>\n",
              "      <td>1</td>\n",
              "      <td>1</td>\n",
              "    </tr>\n",
              "    <tr>\n",
              "      <th>...</th>\n",
              "      <td>...</td>\n",
              "      <td>...</td>\n",
              "      <td>...</td>\n",
              "      <td>...</td>\n",
              "      <td>...</td>\n",
              "      <td>...</td>\n",
              "      <td>...</td>\n",
              "      <td>...</td>\n",
              "      <td>...</td>\n",
              "      <td>...</td>\n",
              "      <td>...</td>\n",
              "      <td>...</td>\n",
              "    </tr>\n",
              "    <tr>\n",
              "      <th>7702861</th>\n",
              "      <td>1.00</td>\n",
              "      <td>1362683117</td>\n",
              "      <td>82</td>\n",
              "      <td>u:i5X3</td>\n",
              "      <td>en</td>\n",
              "      <td>es</td>\n",
              "      <td>c52ab45d4e22ee7580041911159e3c0c</td>\n",
              "      <td>water/water&lt;n&gt;&lt;sg&gt;</td>\n",
              "      <td>5</td>\n",
              "      <td>4</td>\n",
              "      <td>1</td>\n",
              "      <td>1</td>\n",
              "    </tr>\n",
              "    <tr>\n",
              "      <th>7722347</th>\n",
              "      <td>1.00</td>\n",
              "      <td>1362684186</td>\n",
              "      <td>331356</td>\n",
              "      <td>u:gMHD</td>\n",
              "      <td>en</td>\n",
              "      <td>es</td>\n",
              "      <td>1849080c74cfc80bb39a5a493e85efe8</td>\n",
              "      <td>see/see&lt;vblex&gt;&lt;inf&gt;</td>\n",
              "      <td>17</td>\n",
              "      <td>15</td>\n",
              "      <td>1</td>\n",
              "      <td>1</td>\n",
              "    </tr>\n",
              "    <tr>\n",
              "      <th>7722348</th>\n",
              "      <td>0.00</td>\n",
              "      <td>1362684186</td>\n",
              "      <td>330165</td>\n",
              "      <td>u:gMHD</td>\n",
              "      <td>en</td>\n",
              "      <td>es</td>\n",
              "      <td>019e69c0c7349a49fff531b7c5fc263c</td>\n",
              "      <td>have/have&lt;vbhaver&gt;&lt;pres&gt;&lt;@present_perfect&gt;</td>\n",
              "      <td>73</td>\n",
              "      <td>66</td>\n",
              "      <td>1</td>\n",
              "      <td>0</td>\n",
              "    </tr>\n",
              "    <tr>\n",
              "      <th>7722349</th>\n",
              "      <td>0.00</td>\n",
              "      <td>1362684186</td>\n",
              "      <td>77803</td>\n",
              "      <td>u:gMHD</td>\n",
              "      <td>en</td>\n",
              "      <td>es</td>\n",
              "      <td>e09b138d58a98c83f120ffbc898ce818</td>\n",
              "      <td>at/at&lt;pr&gt;</td>\n",
              "      <td>61</td>\n",
              "      <td>54</td>\n",
              "      <td>1</td>\n",
              "      <td>0</td>\n",
              "    </tr>\n",
              "    <tr>\n",
              "      <th>7722350</th>\n",
              "      <td>0.00</td>\n",
              "      <td>1362684186</td>\n",
              "      <td>696547</td>\n",
              "      <td>u:gMHD</td>\n",
              "      <td>en</td>\n",
              "      <td>es</td>\n",
              "      <td>563cc940cf4f3edeecc73ee5e6ab45d1</td>\n",
              "      <td>tuesday/tuesday&lt;n&gt;&lt;sg&gt;</td>\n",
              "      <td>12</td>\n",
              "      <td>9</td>\n",
              "      <td>1</td>\n",
              "      <td>0</td>\n",
              "    </tr>\n",
              "  </tbody>\n",
              "</table>\n",
              "<p>81 rows × 12 columns</p>\n",
              "</div>\n",
              "      <button class=\"colab-df-convert\" onclick=\"convertToInteractive('df-4c9e2588-c84d-4d77-ba90-c587c6f47780')\"\n",
              "              title=\"Convert this dataframe to an interactive table.\"\n",
              "              style=\"display:none;\">\n",
              "        \n",
              "  <svg xmlns=\"http://www.w3.org/2000/svg\" height=\"24px\"viewBox=\"0 0 24 24\"\n",
              "       width=\"24px\">\n",
              "    <path d=\"M0 0h24v24H0V0z\" fill=\"none\"/>\n",
              "    <path d=\"M18.56 5.44l.94 2.06.94-2.06 2.06-.94-2.06-.94-.94-2.06-.94 2.06-2.06.94zm-11 1L8.5 8.5l.94-2.06 2.06-.94-2.06-.94L8.5 2.5l-.94 2.06-2.06.94zm10 10l.94 2.06.94-2.06 2.06-.94-2.06-.94-.94-2.06-.94 2.06-2.06.94z\"/><path d=\"M17.41 7.96l-1.37-1.37c-.4-.4-.92-.59-1.43-.59-.52 0-1.04.2-1.43.59L10.3 9.45l-7.72 7.72c-.78.78-.78 2.05 0 2.83L4 21.41c.39.39.9.59 1.41.59.51 0 1.02-.2 1.41-.59l7.78-7.78 2.81-2.81c.8-.78.8-2.07 0-2.86zM5.41 20L4 18.59l7.72-7.72 1.47 1.35L5.41 20z\"/>\n",
              "  </svg>\n",
              "      </button>\n",
              "      \n",
              "  <style>\n",
              "    .colab-df-container {\n",
              "      display:flex;\n",
              "      flex-wrap:wrap;\n",
              "      gap: 12px;\n",
              "    }\n",
              "\n",
              "    .colab-df-convert {\n",
              "      background-color: #E8F0FE;\n",
              "      border: none;\n",
              "      border-radius: 50%;\n",
              "      cursor: pointer;\n",
              "      display: none;\n",
              "      fill: #1967D2;\n",
              "      height: 32px;\n",
              "      padding: 0 0 0 0;\n",
              "      width: 32px;\n",
              "    }\n",
              "\n",
              "    .colab-df-convert:hover {\n",
              "      background-color: #E2EBFA;\n",
              "      box-shadow: 0px 1px 2px rgba(60, 64, 67, 0.3), 0px 1px 3px 1px rgba(60, 64, 67, 0.15);\n",
              "      fill: #174EA6;\n",
              "    }\n",
              "\n",
              "    [theme=dark] .colab-df-convert {\n",
              "      background-color: #3B4455;\n",
              "      fill: #D2E3FC;\n",
              "    }\n",
              "\n",
              "    [theme=dark] .colab-df-convert:hover {\n",
              "      background-color: #434B5C;\n",
              "      box-shadow: 0px 1px 3px 1px rgba(0, 0, 0, 0.15);\n",
              "      filter: drop-shadow(0px 1px 2px rgba(0, 0, 0, 0.3));\n",
              "      fill: #FFFFFF;\n",
              "    }\n",
              "  </style>\n",
              "\n",
              "      <script>\n",
              "        const buttonEl =\n",
              "          document.querySelector('#df-4c9e2588-c84d-4d77-ba90-c587c6f47780 button.colab-df-convert');\n",
              "        buttonEl.style.display =\n",
              "          google.colab.kernel.accessAllowed ? 'block' : 'none';\n",
              "\n",
              "        async function convertToInteractive(key) {\n",
              "          const element = document.querySelector('#df-4c9e2588-c84d-4d77-ba90-c587c6f47780');\n",
              "          const dataTable =\n",
              "            await google.colab.kernel.invokeFunction('convertToInteractive',\n",
              "                                                     [key], {});\n",
              "          if (!dataTable) return;\n",
              "\n",
              "          const docLinkHtml = 'Like what you see? Visit the ' +\n",
              "            '<a target=\"_blank\" href=https://colab.research.google.com/notebooks/data_table.ipynb>data table notebook</a>'\n",
              "            + ' to learn more about interactive tables.';\n",
              "          element.innerHTML = '';\n",
              "          dataTable['output_type'] = 'display_data';\n",
              "          await google.colab.output.renderOutput(dataTable, element);\n",
              "          const docLink = document.createElement('div');\n",
              "          docLink.innerHTML = docLinkHtml;\n",
              "          element.appendChild(docLink);\n",
              "        }\n",
              "      </script>\n",
              "    </div>\n",
              "  </div>\n",
              "  "
            ]
          },
          "metadata": {},
          "execution_count": 11
        }
      ]
    },
    {
      "cell_type": "markdown",
      "source": [
        "There are 81 duplicate rows. \n",
        "\n",
        "Deleting duplicate rows:"
      ],
      "metadata": {
        "id": "nlzdpGcTcDtd"
      }
    },
    {
      "cell_type": "code",
      "source": [
        "datadf = datadf.drop_duplicates()"
      ],
      "metadata": {
        "id": "UDy-iLF6cVZ-"
      },
      "execution_count": 12,
      "outputs": []
    },
    {
      "cell_type": "code",
      "source": [
        "datadf.shape"
      ],
      "metadata": {
        "colab": {
          "base_uri": "https://localhost:8080/"
        },
        "id": "sbaCqSgfcb5g",
        "outputId": "6a6a4161-dd90-476e-d363-6b28deb8fe57"
      },
      "execution_count": 13,
      "outputs": [
        {
          "output_type": "execute_result",
          "data": {
            "text/plain": [
              "(12854145, 12)"
            ]
          },
          "metadata": {},
          "execution_count": 13
        }
      ]
    },
    {
      "cell_type": "markdown",
      "source": [
        "A quick look at the distributions of numerical and time based columns:"
      ],
      "metadata": {
        "id": "whgZFJLScldS"
      }
    },
    {
      "cell_type": "code",
      "source": [
        "plt.subplots(2,4,figsize = (20,9))\n",
        "plt.suptitle(\"Distributions of numerical columns\")\n",
        "plot_num = 1\n",
        "for col in datadf.select_dtypes(exclude= ['object']).columns: # filtering out 'object' datatypes to only numerical columns\n",
        "  plt.subplot(2,4,plot_num)\n",
        "  plt.xlabel(f\"binned {col}\")\n",
        "  plt.ylabel(f\"Frequency counts\")\n",
        "  plt.hist(datadf[col],bins=20)\n",
        "  plt.title(f\"Figure {plot_num}:{col} distribution\")\n",
        "  plot_num +=1"
      ],
      "metadata": {
        "colab": {
          "base_uri": "https://localhost:8080/",
          "height": 617
        },
        "id": "3w44OfmFcp6S",
        "outputId": "00a1bba2-e1a9-44f6-e165-625323cfce4f"
      },
      "execution_count": 14,
      "outputs": [
        {
          "output_type": "display_data",
          "data": {
            "text/plain": [
              "<Figure size 1440x648 with 8 Axes>"
            ],
            "image/png": "[encoded data removed]"
          },
          "metadata": {
            "needs_background": "light"
          }
        }
      ]
    },
    {
      "cell_type": "markdown",
      "source": [
        "**Observations**: \n",
        "1. From Figure 1, we see that in the overwhelming majority of p_recall = 1, meaning that the word was perfectly retained. This is a **highly imbalanced dataset**.\n",
        "2. Timestamp (Figure 2) is fairly uniformly distributed - meaning that there are close to the same number of records for each day.  \n",
        "3. Figure 3 shows that delta is skewed heavily to the right, with most values being close to zero.\n",
        "4. Figures 4 and 5 (history seen and history correct) are heavily skewed to the right. Most values are low, showing that many new words are being learned. \n",
        "5. Figures 6 and 7 (session seen and session correct) show that the number of times a word is encountered in a session is typically ~ 1. "
      ],
      "metadata": {
        "id": "SOkFFw0cc54c"
      }
    },
    {
      "cell_type": "markdown",
      "source": [
        "Basic information on the categorical columns is obtained using the wrapper function defined below:"
      ],
      "metadata": {
        "id": "qIytoQDPf9A5"
      }
    },
    {
      "cell_type": "code",
      "source": [
        "def categorical_describe(df_cat): # function to take in the df containing categrical columns \n",
        "    # and return information in a dataframe format for display\n",
        "\n",
        "  datatype = dict()\n",
        "  most_common = dict()\n",
        "  most_common_frac = dict()\n",
        "  num_unique = dict()\n",
        "  num_null_vals = dict()\n",
        "  num_empty_vals = dict()\n",
        "\n",
        "  for col in df_cat.columns: # go through each column \n",
        "    datatype[col] = type(df_cat[col].head(1).values[0]) # get datatype\n",
        "    \n",
        "    # get the most frequent value and its corresponding percentage counts in column\n",
        "    top_val = df_cat[col].value_counts(normalize=True).sort_values(ascending=False).head(1) \n",
        "    most_common[col] = top_val.index[0]\n",
        "    most_common_frac[col] = top_val.values[0]\n",
        "    \n",
        "    # get number of unique values\n",
        "    num_unique[col] = len(df_cat[col].unique())\n",
        "    \n",
        "    # get number of null values\n",
        "    num_null_vals[col] = df_cat[col].isna().sum()\n",
        "    \n",
        "    # get number of empty strings\n",
        "    # strip spaces and then count characters- if 0, then it is 'empty string'\n",
        "    if datatype[col]==str:\n",
        "        num_empty_vals[col] = df_cat[col].apply(lambda x: len(x.rstrip().lstrip())==0).sum() \n",
        "    else:\n",
        "        num_empty_vals[col] = 0\n",
        "\n",
        "  return pd.DataFrame({'datatype':pd.Series(datatype), 'most_common':pd.Series(most_common),\n",
        "                       'most_common_fraction':pd.Series(most_common_frac),\n",
        "                       'number_unique_values': pd.Series(num_unique),\n",
        "                       'number_null_values':pd.Series(num_null_vals),\n",
        "                      'number_empty_vals': pd.Series(num_empty_vals)})\n",
        "  \n"
      ],
      "metadata": {
        "id": "BXZSYE2QgHj3"
      },
      "execution_count": 15,
      "outputs": []
    },
    {
      "cell_type": "code",
      "source": [
        "df_cat = datadf.select_dtypes(include=['object']) # creating view of dataframe with categoricals only"
      ],
      "metadata": {
        "id": "R-VFDmQ6gPSF"
      },
      "execution_count": 16,
      "outputs": []
    },
    {
      "cell_type": "code",
      "source": [
        "categorical_describe(df_cat)"
      ],
      "metadata": {
        "colab": {
          "base_uri": "https://localhost:8080/",
          "height": 206
        },
        "id": "O4DsDfTlgTFh",
        "outputId": "32930248-789e-42e1-8c26-459142a40a8c"
      },
      "execution_count": 17,
      "outputs": [
        {
          "output_type": "execute_result",
          "data": {
            "text/plain": [
              "                        datatype                       most_common  \\\n",
              "user_id            <class 'str'>                            u:bcH_   \n",
              "learning_language  <class 'str'>                                en   \n",
              "ui_language        <class 'str'>                                en   \n",
              "lexeme_id          <class 'str'>  827a8ecb89f9b59ac5c29b620a5d3ed6   \n",
              "lexeme_string      <class 'str'>                 a/a<det><ind><sg>   \n",
              "\n",
              "                   most_common_fraction  number_unique_values  \\\n",
              "user_id                        0.001493                115222   \n",
              "learning_language              0.390129                     6   \n",
              "ui_language                    0.609871                     4   \n",
              "lexeme_id                      0.009577                 19279   \n",
              "lexeme_string                  0.009577                 18781   \n",
              "\n",
              "                   number_null_values  number_empty_vals  \n",
              "user_id                             0                  0  \n",
              "learning_language                   0                  0  \n",
              "ui_language                         0                  0  \n",
              "lexeme_id                           0                  0  \n",
              "lexeme_string                       0                  0  "
            ],
            "text/html": [
              "\n",
              "  <div id=\"df-9c62bdb3-39a7-4ec2-ae0d-38fa3f31ad2a\">\n",
              "    <div class=\"colab-df-container\">\n",
              "      <div>\n",
              "<style scoped>\n",
              "    .dataframe tbody tr th:only-of-type {\n",
              "        vertical-align: middle;\n",
              "    }\n",
              "\n",
              "    .dataframe tbody tr th {\n",
              "        vertical-align: top;\n",
              "    }\n",
              "\n",
              "    .dataframe thead th {\n",
              "        text-align: right;\n",
              "    }\n",
              "</style>\n",
              "<table border=\"1\" class=\"dataframe\">\n",
              "  <thead>\n",
              "    <tr style=\"text-align: right;\">\n",
              "      <th></th>\n",
              "      <th>datatype</th>\n",
              "      <th>most_common</th>\n",
              "      <th>most_common_fraction</th>\n",
              "      <th>number_unique_values</th>\n",
              "      <th>number_null_values</th>\n",
              "      <th>number_empty_vals</th>\n",
              "    </tr>\n",
              "  </thead>\n",
              "  <tbody>\n",
              "    <tr>\n",
              "      <th>user_id</th>\n",
              "      <td>&lt;class 'str'&gt;</td>\n",
              "      <td>u:bcH_</td>\n",
              "      <td>0.001493</td>\n",
              "      <td>115222</td>\n",
              "      <td>0</td>\n",
              "      <td>0</td>\n",
              "    </tr>\n",
              "    <tr>\n",
              "      <th>learning_language</th>\n",
              "      <td>&lt;class 'str'&gt;</td>\n",
              "      <td>en</td>\n",
              "      <td>0.390129</td>\n",
              "      <td>6</td>\n",
              "      <td>0</td>\n",
              "      <td>0</td>\n",
              "    </tr>\n",
              "    <tr>\n",
              "      <th>ui_language</th>\n",
              "      <td>&lt;class 'str'&gt;</td>\n",
              "      <td>en</td>\n",
              "      <td>0.609871</td>\n",
              "      <td>4</td>\n",
              "      <td>0</td>\n",
              "      <td>0</td>\n",
              "    </tr>\n",
              "    <tr>\n",
              "      <th>lexeme_id</th>\n",
              "      <td>&lt;class 'str'&gt;</td>\n",
              "      <td>827a8ecb89f9b59ac5c29b620a5d3ed6</td>\n",
              "      <td>0.009577</td>\n",
              "      <td>19279</td>\n",
              "      <td>0</td>\n",
              "      <td>0</td>\n",
              "    </tr>\n",
              "    <tr>\n",
              "      <th>lexeme_string</th>\n",
              "      <td>&lt;class 'str'&gt;</td>\n",
              "      <td>a/a&lt;det&gt;&lt;ind&gt;&lt;sg&gt;</td>\n",
              "      <td>0.009577</td>\n",
              "      <td>18781</td>\n",
              "      <td>0</td>\n",
              "      <td>0</td>\n",
              "    </tr>\n",
              "  </tbody>\n",
              "</table>\n",
              "</div>\n",
              "      <button class=\"colab-df-convert\" onclick=\"convertToInteractive('df-9c62bdb3-39a7-4ec2-ae0d-38fa3f31ad2a')\"\n",
              "              title=\"Convert this dataframe to an interactive table.\"\n",
              "              style=\"display:none;\">\n",
              "        \n",
              "  <svg xmlns=\"http://www.w3.org/2000/svg\" height=\"24px\"viewBox=\"0 0 24 24\"\n",
              "       width=\"24px\">\n",
              "    <path d=\"M0 0h24v24H0V0z\" fill=\"none\"/>\n",
              "    <path d=\"M18.56 5.44l.94 2.06.94-2.06 2.06-.94-2.06-.94-.94-2.06-.94 2.06-2.06.94zm-11 1L8.5 8.5l.94-2.06 2.06-.94-2.06-.94L8.5 2.5l-.94 2.06-2.06.94zm10 10l.94 2.06.94-2.06 2.06-.94-2.06-.94-.94-2.06-.94 2.06-2.06.94z\"/><path d=\"M17.41 7.96l-1.37-1.37c-.4-.4-.92-.59-1.43-.59-.52 0-1.04.2-1.43.59L10.3 9.45l-7.72 7.72c-.78.78-.78 2.05 0 2.83L4 21.41c.39.39.9.59 1.41.59.51 0 1.02-.2 1.41-.59l7.78-7.78 2.81-2.81c.8-.78.8-2.07 0-2.86zM5.41 20L4 18.59l7.72-7.72 1.47 1.35L5.41 20z\"/>\n",
              "  </svg>\n",
              "      </button>\n",
              "      \n",
              "  <style>\n",
              "    .colab-df-container {\n",
              "      display:flex;\n",
              "      flex-wrap:wrap;\n",
              "      gap: 12px;\n",
              "    }\n",
              "\n",
              "    .colab-df-convert {\n",
              "      background-color: #E8F0FE;\n",
              "      border: none;\n",
              "      border-radius: 50%;\n",
              "      cursor: pointer;\n",
              "      display: none;\n",
              "      fill: #1967D2;\n",
              "      height: 32px;\n",
              "      padding: 0 0 0 0;\n",
              "      width: 32px;\n",
              "    }\n",
              "\n",
              "    .colab-df-convert:hover {\n",
              "      background-color: #E2EBFA;\n",
              "      box-shadow: 0px 1px 2px rgba(60, 64, 67, 0.3), 0px 1px 3px 1px rgba(60, 64, 67, 0.15);\n",
              "      fill: #174EA6;\n",
              "    }\n",
              "\n",
              "    [theme=dark] .colab-df-convert {\n",
              "      background-color: #3B4455;\n",
              "      fill: #D2E3FC;\n",
              "    }\n",
              "\n",
              "    [theme=dark] .colab-df-convert:hover {\n",
              "      background-color: #434B5C;\n",
              "      box-shadow: 0px 1px 3px 1px rgba(0, 0, 0, 0.15);\n",
              "      filter: drop-shadow(0px 1px 2px rgba(0, 0, 0, 0.3));\n",
              "      fill: #FFFFFF;\n",
              "    }\n",
              "  </style>\n",
              "\n",
              "      <script>\n",
              "        const buttonEl =\n",
              "          document.querySelector('#df-9c62bdb3-39a7-4ec2-ae0d-38fa3f31ad2a button.colab-df-convert');\n",
              "        buttonEl.style.display =\n",
              "          google.colab.kernel.accessAllowed ? 'block' : 'none';\n",
              "\n",
              "        async function convertToInteractive(key) {\n",
              "          const element = document.querySelector('#df-9c62bdb3-39a7-4ec2-ae0d-38fa3f31ad2a');\n",
              "          const dataTable =\n",
              "            await google.colab.kernel.invokeFunction('convertToInteractive',\n",
              "                                                     [key], {});\n",
              "          if (!dataTable) return;\n",
              "\n",
              "          const docLinkHtml = 'Like what you see? Visit the ' +\n",
              "            '<a target=\"_blank\" href=https://colab.research.google.com/notebooks/data_table.ipynb>data table notebook</a>'\n",
              "            + ' to learn more about interactive tables.';\n",
              "          element.innerHTML = '';\n",
              "          dataTable['output_type'] = 'display_data';\n",
              "          await google.colab.output.renderOutput(dataTable, element);\n",
              "          const docLink = document.createElement('div');\n",
              "          docLink.innerHTML = docLinkHtml;\n",
              "          element.appendChild(docLink);\n",
              "        }\n",
              "      </script>\n",
              "    </div>\n",
              "  </div>\n",
              "  "
            ]
          },
          "metadata": {},
          "execution_count": 17
        }
      ]
    },
    {
      "cell_type": "markdown",
      "source": [
        "**Observations**:\n",
        "\n",
        "1. There are 115,222 unique users in the dataset. \n",
        "2. There are 6 learning languages, and 4 native languages in the dataset. \n",
        "3. English makes up 39% of the languages being learned, and 61% of the native language of learners. \n",
        "4. There are 19,279 individual lexeme_ids, but only 18,781 lexeme strings. This might be because there are words that are common to more than one language and therefore have the same lexeme string. The lexeme ```\"a\"``` is the most commonly encountered one, making up almost 1% of the dataset. \n",
        "5. There are no null or empty string values. \n"
      ],
      "metadata": {
        "id": "W9DKvDNfgtdR"
      }
    },
    {
      "cell_type": "markdown",
      "source": [
        "### <font color = 'cornflowerblue' size=3>Target variable analysis and transformation:</font>\n",
        "\n",
        "Previously, it was seen that the distribution of recall probability was highly imbalanced. The histogram is reproduced below:"
      ],
      "metadata": {
        "id": "JAY_6XooGxMo"
      }
    },
    {
      "cell_type": "code",
      "source": [
        "plt.figure()\n",
        "plt.title(\"Distribution of p_recall\")\n",
        "plt.xlabel(\"p_recall\")\n",
        "plt.ylabel(\"Frequency counts\")\n",
        "plt.hist(datadf['p_recall'],bins=20)\n",
        "plt.show()"
      ],
      "metadata": {
        "colab": {
          "base_uri": "https://localhost:8080/",
          "height": 0
        },
        "outputId": "ec6b8db1-93c8-4e09-de9b-4387351e2cd4",
        "id": "LaSsn1FZGxMo"
      },
      "execution_count": 18,
      "outputs": [
        {
          "output_type": "display_data",
          "data": {
            "text/plain": [
              "<Figure size 432x288 with 1 Axes>"
            ],
            "image/png": "[encoded data removed]"
          },
          "metadata": {
            "needs_background": "light"
          }
        }
      ]
    },
    {
      "cell_type": "markdown",
      "source": [
        "The values of p_recall are discretely distributed because they are computed from session correct and session_seen columns, which in turn are integers. \n",
        "\n",
        "p_recall is being calculated as the fraction of the number of questions in the session related to that word answered correctly. "
      ],
      "metadata": {
        "id": "J53dv3I5GxMo"
      }
    },
    {
      "cell_type": "markdown",
      "source": [
        "Plotting the distribution of p_recall as a function of session_seen:"
      ],
      "metadata": {
        "id": "nrg2ILW6GxMo"
      }
    },
    {
      "cell_type": "code",
      "source": [
        "plt.figure()\n",
        "plt.title(\"Distribution of p_recall as a function of session_seen\")\n",
        "plt.xlabel(\"p_recall\")\n",
        "plt.ylabel(\"Frequency counts\")\n",
        "for n in range(1,6): # this range is chosen since the most common bracket of session_seen values was between 1-5. \n",
        "  plt.hist(datadf.loc[datadf['session_seen']==n,'p_recall'],bins=20,label=f\"Session_seen = {n}\",alpha=0.4)\n",
        "plt.legend()\n",
        "plt.show()"
      ],
      "metadata": {
        "colab": {
          "base_uri": "https://localhost:8080/",
          "height": 0
        },
        "outputId": "2d541466-723b-4c9b-8107-d703131bf296",
        "id": "nYCVEWKiGxMp"
      },
      "execution_count": 19,
      "outputs": [
        {
          "output_type": "display_data",
          "data": {
            "text/plain": [
              "<Figure size 432x288 with 1 Axes>"
            ],
            "image/png": "[encoded data removed]"
          },
          "metadata": {
            "needs_background": "light"
          }
        }
      ]
    },
    {
      "cell_type": "markdown",
      "source": [
        "There is an interesting relationship between the distribution of recall probability, and the number of questions seen in the session related to a word. \n",
        "\n",
        "For a session_seen = 1, the recall probability has only 2 values: 0 and 1.\n",
        "\n",
        "For session_seen = 2, p_recall is almost never zero, and is either 0.5 (or $\\frac{1}{2}$) or 1. \n",
        "\n",
        "For session_seen = 3, p_recall is almost never zero, and is either 0.66 (or $\\frac{2}{3}$) or 1.\n",
        "\n",
        "For session_seen = 4, p_recall is almost never zero, and is either 0.75 (or $\\frac{3}{4}$) or 1.\n",
        "\n",
        "For session_seen = 5, p_recall is almost never zero, and is either 0.80 (or $\\frac{4}{5}$) or 1.\n",
        "\n",
        "<font color = 'cornflowerblue' size=0.9>\n",
        "As a Duolingo user myself, I know that if I answer a question incorrectly, feedback in the form of the correct answer is provided immediately. Effectively, delta (duration between word encounters) is set to 0 the moment feedback is provided.</font>\n",
        "\n",
        "\n",
        "It appears that students are able to retain the immediate feedback, and answer all but one questions of a word they had forgotten, correctly. \n",
        "\n",
        "The target variable is therefore transformed so that if a single question is answered incorrectly, it is assumed to have been forgotten. \n",
        "\n",
        "$p\\_forgot = 1 - p\\_recall$<br>\n",
        "$p\\_forgot\\_bin = 1\\ if\\ p\\_forgot\\ >\\ 0,\\ otherwise\\ 0$<br>\n"
      ],
      "metadata": {
        "id": "1d1MXGxmGxMp"
      }
    },
    {
      "cell_type": "code",
      "source": [
        "# transforming target variable\n",
        "datadf['p_forgot'] = 1 - datadf['p_recall']\n",
        "datadf['p_forgot_bin'] = np.where(datadf['p_forgot']>0,1,0) # conservative approach - if p_forgot is not zero, it must be 1. "
      ],
      "metadata": {
        "id": "ahj2gVCWGxMp"
      },
      "execution_count": 20,
      "outputs": []
    },
    {
      "cell_type": "markdown",
      "source": [
        "Distribution of tranformed target variable:"
      ],
      "metadata": {
        "id": "1V6zT6ItGxMp"
      }
    },
    {
      "cell_type": "code",
      "source": [
        "counts = np.around(datadf['p_forgot_bin'].value_counts(normalize=True)*100,2)\n",
        "plt.figure(figsize=(6,5))\n",
        "plt.bar(counts.index,counts)\n",
        "plt.xticks([0,1],fontsize=12,labels = ['No','Yes'])\n",
        "plt.yticks(fontsize=12)\n",
        "plt.ylabel(\"Frequency counts (%)\",fontsize=14)\n",
        "plt.xlabel(\"Word was forgotten\",fontsize=14)\n",
        "plt.title(\"Distribution of target variable p_forgot_bin; highly imbalanced\",fontsize=16)\n",
        "plt.annotate(\"83.9%\",(0-.15,78),fontsize=18,c='black')\n",
        "plt.annotate(\"16.1%\",(1-.15,10),fontsize=18,c='black')\n",
        "plt.show()"
      ],
      "metadata": {
        "colab": {
          "base_uri": "https://localhost:8080/",
          "height": 0
        },
        "outputId": "451a78d1-423d-4d5b-e2ff-8350e23ee1e9",
        "id": "NVzBogatGxMp"
      },
      "execution_count": 21,
      "outputs": [
        {
          "output_type": "display_data",
          "data": {
            "text/plain": [
              "<Figure size 432x360 with 1 Axes>"
            ],
            "image/png": "[encoded data removed]"
          },
          "metadata": {
            "needs_background": "light"
          }
        }
      ]
    },
    {
      "cell_type": "markdown",
      "source": [
        "In spite of the conservative approach of marking a word as forgotten if even one question was answered incorrectly in the session, there are only 16.1% records where a word is forgotten. As a binary classification problem, the dataset is **imbalanced**. \n",
        "\n",
        "This might be because Duolingo (at the time this dataset was collected), was **underpredicting retention**, and assuming students have forgotten words when they have not, making students practice words they already know many times over.  \n",
        "\n",
        "A more accurate model will help to reduce boredom in students (and increase engagement) by pinpointing only words that are truly forgotten. Therefore, for a metric for classification model performance and comparison, **average precision** will be used, and prioritized over perfect recall. \n"
      ],
      "metadata": {
        "id": "of-E_pOdGxMp"
      }
    },
    {
      "cell_type": "markdown",
      "source": [
        "### <font color = 'cornflowerblue' size=3>What language courses are offered?</font>\n",
        "\n",
        "To look at the language courses being offered, learning language and native language are cross-tabulated below:"
      ],
      "metadata": {
        "id": "m_TYa7r_la4W"
      }
    },
    {
      "cell_type": "code",
      "source": [
        "import numpy.ma as ma\n",
        "ctable = pd.crosstab(datadf['ui_language'],datadf['learning_language'])\n",
        "# INSERT HERE add a mask for zero values. \n",
        "plt.figure(figsize=(11,5))\n",
        "sns.heatmap(ctable.where(ctable>0),cmap=\"coolwarm\",annot=True,fmt='g')\n",
        "plt.show()"
      ],
      "metadata": {
        "colab": {
          "base_uri": "https://localhost:8080/",
          "height": 0
        },
        "outputId": "a268bede-bfe9-418c-ab33-965fad2f1af4",
        "id": "QyThukz8le3H"
      },
      "execution_count": 41,
      "outputs": [
        {
          "output_type": "display_data",
          "data": {
            "text/plain": [
              "<Figure size 792x360 with 2 Axes>"
            ],
            "image/png": "[encoded data removed]"
          },
          "metadata": {
            "needs_background": "light"
          }
        }
      ]
    },
    {
      "cell_type": "markdown",
      "source": [
        "The numbers in the table above show the number of records for each course. \n",
        "\n",
        "The dataset has Spanish, Italian and Portugese speaking students learning English.\n",
        "\n",
        "English speaking students are learning German, Spanish, Italian, Portugese, and French.\n",
        "\n",
        "There are no odd values like learning language and native language being the same."
      ],
      "metadata": {
        "id": "2vbrja2Fle3J"
      }
    },
    {
      "cell_type": "markdown",
      "source": [
        "#### Unique words in each language"
      ],
      "metadata": {
        "id": "ddm0ZjqUmmxI"
      }
    },
    {
      "cell_type": "code",
      "source": [
        " # count of number of unique words in each learning language\n",
        "numwords_perlang = datadf.groupby('learning_language')['lexeme_id'].unique().apply(len).sort_values(ascending=False)"
      ],
      "metadata": {
        "id": "ABJihsnmmqQc"
      },
      "execution_count": 42,
      "outputs": []
    },
    {
      "cell_type": "code",
      "source": [
        "numwords_perlang"
      ],
      "metadata": {
        "colab": {
          "base_uri": "https://localhost:8080/"
        },
        "id": "1QoCKWcLrTD3",
        "outputId": "9f1e14b8-541c-4046-a569-c88744ff989f"
      },
      "execution_count": 43,
      "outputs": [
        {
          "output_type": "execute_result",
          "data": {
            "text/plain": [
              "learning_language\n",
              "fr    4184\n",
              "de    3809\n",
              "es    3302\n",
              "en    2983\n",
              "pt    2815\n",
              "it    2186\n",
              "Name: lexeme_id, dtype: int64"
            ]
          },
          "metadata": {},
          "execution_count": 43
        }
      ]
    },
    {
      "cell_type": "code",
      "source": [
        "# plotting bar chart of number of unique words per language. \n",
        "plt.figure()\n",
        "plt.bar(numwords_perlang.index,numwords_perlang,color='cornflowerblue')\n",
        "plt.title(\"Number of unique words per language in dataset\")\n",
        "plt.xlabel(\"Learning language\")\n",
        "plt.ylabel(\"Number of unique words\")\n",
        "plt.show()"
      ],
      "metadata": {
        "colab": {
          "base_uri": "https://localhost:8080/",
          "height": 0
        },
        "id": "svTfITX-rFqA",
        "outputId": "42697934-1141-42f5-baa7-8a127d9b1dc9"
      },
      "execution_count": 44,
      "outputs": [
        {
          "output_type": "display_data",
          "data": {
            "text/plain": [
              "<Figure size 432x288 with 1 Axes>"
            ],
            "image/png": "[encoded data removed]"
          },
          "metadata": {
            "needs_background": "light"
          }
        }
      ]
    },
    {
      "cell_type": "markdown",
      "source": [
        "The dataset has 4184 unique French words being learned, followed by 3809 German words, and 3302 Spanish words. "
      ],
      "metadata": {
        "id": "6BGod1-Lmza-"
      }
    },
    {
      "cell_type": "markdown",
      "source": [
        "###<font color = 'cornflowerblue' size=3>Lexical similarity: Are languages with more shared vocabulary with English easier to learn?</font>\n",
        "\n",
        "Previously, it was seen that there were more unique values of lexeme_id than lexeme_string, (in other words, not a one-to-one mapping). This is possibly because of words that are common to two or more languages, having unique ids, but the same lexeme strings. \n",
        "\n",
        "Listing the lexeme_string values with more than one language below:"
      ],
      "metadata": {
        "id": "lygLwB8snZCX"
      }
    },
    {
      "cell_type": "code",
      "source": [
        "# getting number of languages for each lexeme string\n",
        "lexeme_numlanguages = datadf.groupby('lexeme_string')['learning_language'].unique().apply(len).sort_values(ascending=False) \n",
        "\n",
        "# counting the number of lexeme strings with more than one language\n",
        "lexeme_numlanguages[lexeme_numlanguages>1].shape[0]"
      ],
      "metadata": {
        "colab": {
          "base_uri": "https://localhost:8080/"
        },
        "id": "ephIEmNsnxCK",
        "outputId": "6e73a43d-f474-4db0-e131-86c7b796939e"
      },
      "execution_count": 45,
      "outputs": [
        {
          "output_type": "execute_result",
          "data": {
            "text/plain": [
              "462"
            ]
          },
          "metadata": {},
          "execution_count": 45
        }
      ]
    },
    {
      "cell_type": "markdown",
      "source": [
        "There are 462 words that are common to two or more languages in the dataset. \n",
        "\n",
        "This leads to a **hypothesis that if native and learning languages have words in common, those words are highly likely to be remembered correctly.**\n",
        "\n",
        "In later notebooks, string distance measures are investigated as potential predictors of recall probability. \n",
        "\n",
        "A rough value of lexical similarity (how similar the vocabularies of two languages are) might also be computed from the pandas series above. It might partially explain the inherent difficulty of learning a language A while being a language B speaker. \n",
        "\n",
        "In the code block below, a ratio of common words and different words in each language pair is calculated. "
      ],
      "metadata": {
        "id": "O1gszhCWov9M"
      }
    },
    {
      "cell_type": "code",
      "source": [
        "# For each pair of languages, the number of words that are common to them.\n",
        "\n",
        "similar_over_different = dict()\n",
        "\n",
        "# list of learning languages\n",
        "learnlang_list = datadf['learning_language'].unique()\n",
        "\n",
        "for (L1,L2) in itertools.combinations(learnlang_list, 2): # iterating over every pair of learning languages\n",
        "  # set of lexeme strings in L1\n",
        "  L1strings = set(datadf.loc[datadf['learning_language']==L1,'lexeme_string'])\n",
        "  # set of lexeme strings in L1\n",
        "  L2strings = set(datadf.loc[datadf['learning_language']==L2,'lexeme_string'])\n",
        "  # compute the number of common words between Languages L1 and L2\n",
        "  commonwords =  L1strings.intersection(L2strings)\n",
        "  num_commonwords = len(commonwords)\n",
        "\n",
        "  # number of words only in 1 of the languages \n",
        "  not_in_commonwords = L1strings.symmetric_difference(L2strings)\n",
        "  num_not_in_commonwords = len(not_in_commonwords)\n",
        "\n",
        "  # computing and saving lexical similarity to dictionary\n",
        "  similar_over_different[(L1,L2)] = num_commonwords/num_not_in_commonwords\n"
      ],
      "metadata": {
        "id": "r2yylR4wr8z9"
      },
      "execution_count": 46,
      "outputs": []
    },
    {
      "cell_type": "code",
      "source": [
        "similar_over_different = pd.Series(similar_over_different)\n",
        "similar_over_different.sort_values(ascending=False)"
      ],
      "metadata": {
        "colab": {
          "base_uri": "https://localhost:8080/"
        },
        "id": "tzB-gpfivVSi",
        "outputId": "64b0d75e-fba0-4930-f373-8cc52a95f561"
      },
      "execution_count": 50,
      "outputs": [
        {
          "output_type": "execute_result",
          "data": {
            "text/plain": [
              "es  pt    0.046649\n",
              "pt  it    0.022571\n",
              "es  it    0.012706\n",
              "pt  fr    0.004614\n",
              "es  fr    0.004447\n",
              "fr  it    0.003160\n",
              "de  fr    0.000752\n",
              "en  it    0.000581\n",
              "es  en    0.000159\n",
              "de  pt    0.000151\n",
              "    en    0.000147\n",
              "    es    0.000000\n",
              "    it    0.000000\n",
              "pt  en    0.000000\n",
              "en  fr    0.000000\n",
              "dtype: float64"
            ]
          },
          "metadata": {},
          "execution_count": 50
        }
      ]
    },
    {
      "cell_type": "markdown",
      "source": [
        "Spanish, Italian and Portuguese share a significant number of words. French to a lesser extent shares words with the Latin languages. On the other hand, English and French share no words, nor do Portuguese and English, German and Spanish and German and Italian. \n",
        "\n",
        "This is aligned with computations of lexical similarity as seen in the table reproduced below from [wikipedia](https://en.wikipedia.org/wiki/Lexical_similarity)"
      ],
      "metadata": {
        "id": "laF4gzJMxcdq"
      }
    },
    {
      "cell_type": "code",
      "source": [
        "lexical_simwiki = pd.DataFrame([[1,0.27,0.6,None,None,None],\\\n",
        "                                [0.27,1,0.29,0.89,0.75,0.75],\\\n",
        "                                [0.6,0.29,1,None,None,None],\\\n",
        "                                [None,0.89,None,1,None, 0.82],\\\n",
        "                                [None,0.75,None,None,1,0.89],\\\n",
        "                                [None,0.75,None,0.82,0.89,1]],index= ['English','French','German','Italian','Portuguese','Spanish'],columns = ['English','French','German','Italian','Portuguese','Spanish'])"
      ],
      "metadata": {
        "id": "bQWjvY2a0z4W"
      },
      "execution_count": 51,
      "outputs": []
    },
    {
      "cell_type": "code",
      "source": [
        "plt.figure()\n",
        "plt.title(\"Lexical similarity coefficients from wikipedia\")\n",
        "sns.heatmap(lexical_simwiki,cmap=\"coolwarm\",vmin=0,vmax=1,annot=True)\n",
        "plt.show()"
      ],
      "metadata": {
        "colab": {
          "base_uri": "https://localhost:8080/",
          "height": 328
        },
        "id": "LjppcOAU1YZ_",
        "outputId": "ed9a5233-9eea-4ad5-8f16-60a3d95a67c8"
      },
      "execution_count": 52,
      "outputs": [
        {
          "output_type": "display_data",
          "data": {
            "text/plain": [
              "<Figure size 432x288 with 2 Axes>"
            ],
            "image/png": "[encoded data removed]"
          },
          "metadata": {
            "needs_background": "light"
          }
        }
      ]
    },
    {
      "cell_type": "markdown",
      "source": [
        "An image from graphical analysis of lexical similarity is below: \n",
        "\n",
        "INSERT HERE. "
      ],
      "metadata": {
        "id": "nD6_FDv1ET43"
      }
    },
    {
      "cell_type": "markdown",
      "source": [
        "The relative percentage of records with forgotten words is plotted by learning language below in a bar chart. The annotations are the percentage of forgotten words for each language."
      ],
      "metadata": {
        "id": "qcvoMJOMzOf_"
      }
    },
    {
      "cell_type": "code",
      "source": [
        "# Tabulating the WNV test results across the different mosquito species. \n",
        "ctable = pd.crosstab(datadf['learning_language'],datadf['p_forgot_bin']).apply(lambda x:x/sum(x)*100,axis = 1)\n",
        "\n",
        "#display(HTML('<b>Relative percentage of WNV positive mosquito samples by species'))\n",
        "plt.figure(figsize=(12,6))\n",
        "ctable.plot(kind ='bar',stacked=True)\n",
        "plt.title('Relative percentage of forgotten words by learning language')\n",
        "plt.legend(bbox_to_anchor=(1.04,1),labels = ['Remembered','Forgot'])\n",
        "plt.xticks(rotation = 45)\n",
        "\n",
        "for i,ind in enumerate(ctable.index):\n",
        "  plt.annotate(str(ctable.loc[ind,1].round(1))+\"%\",(i-0.2,90),fontsize=11,c='black')\n",
        "plt.show()"
      ],
      "metadata": {
        "colab": {
          "base_uri": "https://localhost:8080/",
          "height": 571
        },
        "id": "wiV06jUZBptN",
        "outputId": "01c97140-38d8-4191-8982-17bd567715c0"
      },
      "execution_count": 53,
      "outputs": [
        {
          "output_type": "display_data",
          "data": {
            "text/plain": [
              "<Figure size 864x432 with 0 Axes>"
            ]
          },
          "metadata": {}
        },
        {
          "output_type": "display_data",
          "data": {
            "text/plain": [
              "<Figure size 432x288 with 1 Axes>"
            ],
            "image/png": "[encoded data removed]"
          },
          "metadata": {
            "needs_background": "light"
          }
        },
        {
          "output_type": "display_data",
          "data": {
            "text/plain": [
              "p_forgot_bin          0     1\n",
              "learning_language            \n",
              "de                 84.1  15.9\n",
              "en                 83.9  16.1\n",
              "es                 84.4  15.6\n",
              "fr                 81.6  18.4\n",
              "it                 85.9  14.1\n",
              "pt                 85.9  14.1"
            ],
            "text/html": [
              "\n",
              "  <div id=\"df-56573541-5037-4bcc-9519-0a724b5654bb\">\n",
              "    <div class=\"colab-df-container\">\n",
              "      <div>\n",
              "<style scoped>\n",
              "    .dataframe tbody tr th:only-of-type {\n",
              "        vertical-align: middle;\n",
              "    }\n",
              "\n",
              "    .dataframe tbody tr th {\n",
              "        vertical-align: top;\n",
              "    }\n",
              "\n",
              "    .dataframe thead th {\n",
              "        text-align: right;\n",
              "    }\n",
              "</style>\n",
              "<table border=\"1\" class=\"dataframe\">\n",
              "  <thead>\n",
              "    <tr style=\"text-align: right;\">\n",
              "      <th>p_forgot_bin</th>\n",
              "      <th>0</th>\n",
              "      <th>1</th>\n",
              "    </tr>\n",
              "    <tr>\n",
              "      <th>learning_language</th>\n",
              "      <th></th>\n",
              "      <th></th>\n",
              "    </tr>\n",
              "  </thead>\n",
              "  <tbody>\n",
              "    <tr>\n",
              "      <th>de</th>\n",
              "      <td>84.1</td>\n",
              "      <td>15.9</td>\n",
              "    </tr>\n",
              "    <tr>\n",
              "      <th>en</th>\n",
              "      <td>83.9</td>\n",
              "      <td>16.1</td>\n",
              "    </tr>\n",
              "    <tr>\n",
              "      <th>es</th>\n",
              "      <td>84.4</td>\n",
              "      <td>15.6</td>\n",
              "    </tr>\n",
              "    <tr>\n",
              "      <th>fr</th>\n",
              "      <td>81.6</td>\n",
              "      <td>18.4</td>\n",
              "    </tr>\n",
              "    <tr>\n",
              "      <th>it</th>\n",
              "      <td>85.9</td>\n",
              "      <td>14.1</td>\n",
              "    </tr>\n",
              "    <tr>\n",
              "      <th>pt</th>\n",
              "      <td>85.9</td>\n",
              "      <td>14.1</td>\n",
              "    </tr>\n",
              "  </tbody>\n",
              "</table>\n",
              "</div>\n",
              "      <button class=\"colab-df-convert\" onclick=\"convertToInteractive('df-56573541-5037-4bcc-9519-0a724b5654bb')\"\n",
              "              title=\"Convert this dataframe to an interactive table.\"\n",
              "              style=\"display:none;\">\n",
              "        \n",
              "  <svg xmlns=\"http://www.w3.org/2000/svg\" height=\"24px\"viewBox=\"0 0 24 24\"\n",
              "       width=\"24px\">\n",
              "    <path d=\"M0 0h24v24H0V0z\" fill=\"none\"/>\n",
              "    <path d=\"M18.56 5.44l.94 2.06.94-2.06 2.06-.94-2.06-.94-.94-2.06-.94 2.06-2.06.94zm-11 1L8.5 8.5l.94-2.06 2.06-.94-2.06-.94L8.5 2.5l-.94 2.06-2.06.94zm10 10l.94 2.06.94-2.06 2.06-.94-2.06-.94-.94-2.06-.94 2.06-2.06.94z\"/><path d=\"M17.41 7.96l-1.37-1.37c-.4-.4-.92-.59-1.43-.59-.52 0-1.04.2-1.43.59L10.3 9.45l-7.72 7.72c-.78.78-.78 2.05 0 2.83L4 21.41c.39.39.9.59 1.41.59.51 0 1.02-.2 1.41-.59l7.78-7.78 2.81-2.81c.8-.78.8-2.07 0-2.86zM5.41 20L4 18.59l7.72-7.72 1.47 1.35L5.41 20z\"/>\n",
              "  </svg>\n",
              "      </button>\n",
              "      \n",
              "  <style>\n",
              "    .colab-df-container {\n",
              "      display:flex;\n",
              "      flex-wrap:wrap;\n",
              "      gap: 12px;\n",
              "    }\n",
              "\n",
              "    .colab-df-convert {\n",
              "      background-color: #E8F0FE;\n",
              "      border: none;\n",
              "      border-radius: 50%;\n",
              "      cursor: pointer;\n",
              "      display: none;\n",
              "      fill: #1967D2;\n",
              "      height: 32px;\n",
              "      padding: 0 0 0 0;\n",
              "      width: 32px;\n",
              "    }\n",
              "\n",
              "    .colab-df-convert:hover {\n",
              "      background-color: #E2EBFA;\n",
              "      box-shadow: 0px 1px 2px rgba(60, 64, 67, 0.3), 0px 1px 3px 1px rgba(60, 64, 67, 0.15);\n",
              "      fill: #174EA6;\n",
              "    }\n",
              "\n",
              "    [theme=dark] .colab-df-convert {\n",
              "      background-color: #3B4455;\n",
              "      fill: #D2E3FC;\n",
              "    }\n",
              "\n",
              "    [theme=dark] .colab-df-convert:hover {\n",
              "      background-color: #434B5C;\n",
              "      box-shadow: 0px 1px 3px 1px rgba(0, 0, 0, 0.15);\n",
              "      filter: drop-shadow(0px 1px 2px rgba(0, 0, 0, 0.3));\n",
              "      fill: #FFFFFF;\n",
              "    }\n",
              "  </style>\n",
              "\n",
              "      <script>\n",
              "        const buttonEl =\n",
              "          document.querySelector('#df-56573541-5037-4bcc-9519-0a724b5654bb button.colab-df-convert');\n",
              "        buttonEl.style.display =\n",
              "          google.colab.kernel.accessAllowed ? 'block' : 'none';\n",
              "\n",
              "        async function convertToInteractive(key) {\n",
              "          const element = document.querySelector('#df-56573541-5037-4bcc-9519-0a724b5654bb');\n",
              "          const dataTable =\n",
              "            await google.colab.kernel.invokeFunction('convertToInteractive',\n",
              "                                                     [key], {});\n",
              "          if (!dataTable) return;\n",
              "\n",
              "          const docLinkHtml = 'Like what you see? Visit the ' +\n",
              "            '<a target=\"_blank\" href=https://colab.research.google.com/notebooks/data_table.ipynb>data table notebook</a>'\n",
              "            + ' to learn more about interactive tables.';\n",
              "          element.innerHTML = '';\n",
              "          dataTable['output_type'] = 'display_data';\n",
              "          await google.colab.output.renderOutput(dataTable, element);\n",
              "          const docLink = document.createElement('div');\n",
              "          docLink.innerHTML = docLinkHtml;\n",
              "          element.appendChild(docLink);\n",
              "        }\n",
              "      </script>\n",
              "    </div>\n",
              "  </div>\n",
              "  "
            ]
          },
          "metadata": {}
        }
      ]
    },
    {
      "cell_type": "markdown",
      "source": [
        "INSERT HERE: chi-square test, for languages. consider "
      ],
      "metadata": {
        "id": "xC4z6ZyTy-xG"
      }
    },
    {
      "cell_type": "markdown",
      "source": [
        "French with a lexical similarity of 0.27 with English has a higher percentage of forgotten words compared to German, which has a lexical similarity of 0.6 with English. \n",
        "\n",
        "For the **cold-start problem** with new languages, the above analysis might be useful. "
      ],
      "metadata": {
        "id": "PAeoZ20TDU9e"
      }
    },
    {
      "cell_type": "markdown",
      "source": [
        "### <font color='cornflowerblue' size=3>Transforming time variables:</font>\n",
        "\n",
        "Converting timestamp to a datetime object:"
      ],
      "metadata": {
        "id": "bwTjzCaiG-PU"
      }
    },
    {
      "cell_type": "code",
      "source": [
        "# converting timestamp to datetime object\n",
        "from datetime import datetime\n",
        "datadf['Datetime'] = datadf['timestamp'].apply(lambda x: datetime.fromtimestamp(x))\n",
        "datadf['Datetime'].head()"
      ],
      "metadata": {
        "colab": {
          "base_uri": "https://localhost:8080/"
        },
        "outputId": "4911d332-34b3-40d6-c0ff-88e9adc86370",
        "id": "lPB1PHBTG-PV"
      },
      "execution_count": 54,
      "outputs": [
        {
          "output_type": "execute_result",
          "data": {
            "text/plain": [
              "0   2013-02-28 18:28:01\n",
              "1   2013-02-28 18:28:01\n",
              "2   2013-02-28 18:28:01\n",
              "3   2013-02-28 18:28:01\n",
              "4   2013-02-28 18:28:01\n",
              "Name: Datetime, dtype: datetime64[ns]"
            ]
          },
          "metadata": {},
          "execution_count": 54
        }
      ]
    },
    {
      "cell_type": "code",
      "source": [
        "datadf['Datetime'].describe()"
      ],
      "metadata": {
        "colab": {
          "base_uri": "https://localhost:8080/"
        },
        "outputId": "f721f937-4af1-4636-f515-f8441dd933e9",
        "id": "Z9eHAlvWG-PV"
      },
      "execution_count": 55,
      "outputs": [
        {
          "output_type": "stream",
          "name": "stderr",
          "text": [
            "/usr/local/lib/python3.7/dist-packages/ipykernel_launcher.py:1: FutureWarning: Treating datetime data as categorical rather than numeric in `.describe` is deprecated and will be removed in a future version of pandas. Specify `datetime_is_numeric=True` to silence this warning and adopt the future behavior now.\n",
            "  \"\"\"Entry point for launching an IPython kernel.\n"
          ]
        },
        {
          "output_type": "execute_result",
          "data": {
            "text/plain": [
              "count                12854145\n",
              "unique                 574814\n",
              "top       2013-03-05 21:09:36\n",
              "freq                      217\n",
              "first     2013-02-28 18:28:01\n",
              "last      2013-03-12 16:14:57\n",
              "Name: Datetime, dtype: object"
            ]
          },
          "metadata": {},
          "execution_count": 55
        }
      ]
    },
    {
      "cell_type": "markdown",
      "source": [
        "The dataset spans 13 days from 28 Feb, 2013 to 12 Mar, 2013. "
      ],
      "metadata": {
        "id": "aqCMZTWGG-PV"
      }
    },
    {
      "cell_type": "markdown",
      "source": [
        "The distribution of delta in the histograms above show that there are a large number of low values. Looking at the counts of the 15 lowest values of delta."
      ],
      "metadata": {
        "id": "fawyo0cLJ_A8"
      }
    },
    {
      "cell_type": "code",
      "source": [
        "datadf['delta'].value_counts().sort_index(ascending=True).head(15)"
      ],
      "metadata": {
        "id": "p1vG8eyjKOsj"
      },
      "execution_count": null,
      "outputs": []
    },
    {
      "cell_type": "markdown",
      "source": [
        "There are surprosingly records with delta as low as 1 - 15 seconds! No wonder the dataset is imbalanced. One would expect that differing results in two session records <=15 seconds apart is more a function of the student either not paying focused attention or not understanding the concept, rather than an effect of memory.  "
      ],
      "metadata": {
        "id": "eTobwZxqK5rn"
      }
    },
    {
      "cell_type": "markdown",
      "source": [
        "Transforming delta to days for visualization:"
      ],
      "metadata": {
        "id": "L0xRKXRWueQc"
      }
    },
    {
      "cell_type": "code",
      "source": [
        "datadf['delta_days'] = datadf['delta']/60/60/24\n",
        "\n",
        "# How many records have delta < 1 day?\n",
        "datadf[datadf['delta_days']<1].shape[0]/datadf.shape[0]*100"
      ],
      "metadata": {
        "colab": {
          "base_uri": "https://localhost:8080/"
        },
        "id": "h6PYMqKCiHFA",
        "outputId": "84a24fba-ee34-4c75-eecd-092256e8bc81"
      },
      "execution_count": 56,
      "outputs": [
        {
          "output_type": "execute_result",
          "data": {
            "text/plain": [
              "52.97252364898638"
            ]
          },
          "metadata": {},
          "execution_count": 56
        }
      ]
    },
    {
      "cell_type": "markdown",
      "source": [
        "The percentage of records that have delta < 1 day (reviewed on the same day) is 53%. This might also partially explain why the target variable p_forgot_bin is so heavily skewed towards remembering words perfectly."
      ],
      "metadata": {
        "id": "hQypc_Mzup9m"
      }
    },
    {
      "cell_type": "markdown",
      "source": [
        "### <font color = 'cornflowerblue' size = 3>How does time since last review impact probability of forgetting a word?</font>\n",
        "\n",
        "One would expect that forgotten words would on average have been reviewed a longer time ago. \n",
        "\n",
        "Delta is in seconds, and so is transformed to days for easier visualization:"
      ],
      "metadata": {
        "id": "uGPRc8VdDw0w"
      }
    },
    {
      "cell_type": "code",
      "source": [
        "# How many records have delta < 1 day?\n",
        "datadf[datadf['delta_days']<1].shape[0]/datadf.shape[0]*100"
      ],
      "metadata": {
        "colab": {
          "base_uri": "https://localhost:8080/"
        },
        "id": "tCH1d8C3MJh5",
        "outputId": "99696d0d-3a2d-4eb6-8bac-bf02e3910c63"
      },
      "execution_count": 57,
      "outputs": [
        {
          "output_type": "execute_result",
          "data": {
            "text/plain": [
              "52.97252364898638"
            ]
          },
          "metadata": {},
          "execution_count": 57
        }
      ]
    },
    {
      "cell_type": "markdown",
      "source": [
        "The percentage of records that have delta < 1 day (reviewed on the same day) is 53%. This might also partially explain why the target variable p_forgot_bin is so heavily skewed. "
      ],
      "metadata": {
        "id": "YPQlGTkzMXdi"
      }
    },
    {
      "cell_type": "markdown",
      "source": [
        "The distributions for delta in days for forgotten words and remembered words is plotted below: (blue is remembered words, orange is forgotten)"
      ],
      "metadata": {
        "id": "hFcD_iR__o7-"
      }
    },
    {
      "cell_type": "code",
      "source": [
        "plt.figure()\n",
        "plt.hist(datadf.loc[datadf['p_forgot_bin']==0,'delta_days'],bins=50,label=\"Remembered\",alpha=0.45)\n",
        "plt.hist(datadf.loc[datadf['p_forgot_bin']==1,'delta_days'],bins=50,label=\"Forgotten\",alpha=0.45)\n",
        "plt.legend()\n",
        "plt.xlabel(\"delta (days)\")\n",
        "plt.ylabel(\"Frequency counts\")\n",
        "plt.title(\"Distribution of delta (days) for remembered and forgotten words\")\n",
        "plt.xlim((0,100))"
      ],
      "metadata": {
        "colab": {
          "base_uri": "https://localhost:8080/",
          "height": 0
        },
        "id": "M4EOKQ2_JhoX",
        "outputId": "39aed1ac-87f2-4e42-a067-670e9f8abe3b"
      },
      "execution_count": 58,
      "outputs": [
        {
          "output_type": "execute_result",
          "data": {
            "text/plain": [
              "(0.0, 100.0)"
            ]
          },
          "metadata": {},
          "execution_count": 58
        },
        {
          "output_type": "display_data",
          "data": {
            "text/plain": [
              "<Figure size 432x288 with 1 Axes>"
            ],
            "image/png": "[encoded data removed]"
          },
          "metadata": {
            "needs_background": "light"
          }
        }
      ]
    },
    {
      "cell_type": "markdown",
      "source": [
        "The shapes of the distributions are similar: skewed to the right. "
      ],
      "metadata": {
        "id": "zQCGPY-1UCCK"
      }
    },
    {
      "cell_type": "code",
      "source": [
        "plt.figure()\n",
        "plt.title(\"Are longer deltas related to a higher chance of forgetting a word?\")\n",
        "sns.boxplot(datadf['p_forgot_bin'],datadf['delta_days'],color='cornflowerblue')\n",
        "plt.ylim((0,8))\n",
        "plt.show()"
      ],
      "metadata": {
        "colab": {
          "base_uri": "https://localhost:8080/",
          "height": 0
        },
        "id": "5xPA2wAsBhkj",
        "outputId": "60e47123-70cd-4244-9b79-c70196d8c121"
      },
      "execution_count": 59,
      "outputs": [
        {
          "output_type": "stream",
          "name": "stderr",
          "text": [
            "/usr/local/lib/python3.7/dist-packages/seaborn/_decorators.py:43: FutureWarning: Pass the following variables as keyword args: x, y. From version 0.12, the only valid positional argument will be `data`, and passing other arguments without an explicit keyword will result in an error or misinterpretation.\n",
            "  FutureWarning\n"
          ]
        },
        {
          "output_type": "display_data",
          "data": {
            "text/plain": [
              "<Figure size 432x288 with 1 Axes>"
            ],
            "image/png": "[encoded data removed]"
          },
          "metadata": {
            "needs_background": "light"
          }
        }
      ]
    },
    {
      "cell_type": "markdown",
      "source": [
        "At a glance, there is not much difference in the mean values of delta for forgotten words and remembered words. There is a great deal of overlap. "
      ],
      "metadata": {
        "id": "hfSeRb2iLy3O"
      }
    },
    {
      "cell_type": "markdown",
      "source": [
        "Since delta is not normally distributed for either group, Kruskal-Wallis test is used to check if the two groups are significantly different. \n",
        "**INSERT HERE**\n",
        "Assumptions:\n",
        "\n",
        "Null hypothesis:\n",
        "Alternate hypothesis: "
      ],
      "metadata": {
        "id": "aQ4w8IM0NN7n"
      }
    },
    {
      "cell_type": "code",
      "source": [
        "from scipy import stats\n",
        "stats.kruskal(datadf.loc[datadf['p_forgot_bin']==0,'delta_days'], datadf.loc[datadf['p_forgot_bin']==1,'delta_days'])"
      ],
      "metadata": {
        "colab": {
          "base_uri": "https://localhost:8080/"
        },
        "id": "-19lajKwBnUL",
        "outputId": "e153cc08-c971-49a4-ad42-96920df5522a"
      },
      "execution_count": 60,
      "outputs": [
        {
          "output_type": "execute_result",
          "data": {
            "text/plain": [
              "KruskalResult(statistic=26094.40170342701, pvalue=0.0)"
            ]
          },
          "metadata": {},
          "execution_count": 60
        }
      ]
    },
    {
      "cell_type": "markdown",
      "source": [
        "Another way of visualizing the effect of delta is the fraction of words forgotten for binned intervals of delta_days. "
      ],
      "metadata": {
        "id": "U5-6u9dAOrct"
      }
    },
    {
      "cell_type": "markdown",
      "source": [
        "INSERT HERE: make binned mean graphs into a function (DRY)"
      ],
      "metadata": {
        "id": "ArIpAN1z3Lr3"
      }
    },
    {
      "cell_type": "code",
      "execution_count": 61,
      "metadata": {
        "id": "8mczMPmZrt-B",
        "colab": {
          "base_uri": "https://localhost:8080/",
          "height": 0
        },
        "outputId": "2e72c293-5d62-4505-c138-5bb36f6c9aba"
      },
      "outputs": [
        {
          "output_type": "display_data",
          "data": {
            "text/plain": [
              "<Figure size 792x360 with 2 Axes>"
            ],
            "image/png": "[encoded data removed]"
          },
          "metadata": {
            "needs_background": "light"
          }
        }
      ],
      "source": [
        "# binning values of delta\n",
        "datadf['binned_deltadays'] = pd.cut(datadf['delta_days'],30)\n",
        "\n",
        "# for each bin of delta, gettin the percentage of records with words forgotten\n",
        "meanp_delta = datadf.groupby('binned_deltadays').agg(fraction_forgotten = ('p_forgot_bin','mean'), totalcount = ('p_forgot_bin','count'))\n",
        "meanp_delta = meanp_delta.reset_index()\n",
        "# getting the middle value of each bin interval\n",
        "meanp_delta['binned_deltadays_mid'] = meanp_delta['binned_deltadays'].apply(lambda x: x.mid)\n",
        "\n",
        "# plotting mid of interval and percentage of words forgotten within that interval\n",
        "plt.subplots(1,2,figsize=(11,5))\n",
        "#ax = plt.gca()\n",
        "plt.subplot(1,2,1)\n",
        "plt.plot(meanp_delta['binned_deltadays_mid'],meanp_delta['fraction_forgotten'],'.-')\n",
        "plt.xlabel(\"delta (days)\")\n",
        "plt.ylabel(\"Fraction of records where word is forgotten\")\n",
        "plt.title(\"Frequency of forgetting a word vs delta (days)\")\n",
        "\n",
        "#ax = plt.gca()\n",
        "plt.subplot(1,2,2)\n",
        "plt.plot(meanp_delta['binned_deltadays_mid'],meanp_delta['totalcount'],'.-')\n",
        "plt.xlabel(\"delta (days)\")\n",
        "plt.ylabel(\"Number of records with a value of delta (days)\")\n",
        "plt.ylim(0,20000)\n",
        "plt.title(\"Number of records vs delta (days)\")\n",
        "plt.show()\n",
        "\n",
        "plt.show()"
      ]
    },
    {
      "cell_type": "markdown",
      "source": [
        "- In the lineplot above, the fraction of forgotten words steadily increases with delta, as might be expected. However, there is a sharp drop at around 400 days. when the total count of records is reduced to < 200. For the majority of the records, probability of forgetting increases with delta.\n",
        "\n",
        "At extremely low deltas (1-15 seconds), the mean probability of 'forgetting' is calculated below:"
      ],
      "metadata": {
        "id": "0tmwXvuPQphQ"
      }
    },
    {
      "cell_type": "code",
      "source": [
        "meanp_lowdelta = datadf.loc[datadf['delta']<=600,['delta','p_forgot_bin']].groupby('delta')['p_forgot_bin'].mean()\n",
        "plt.figure()\n",
        "plt.xlabel(\"delta (seconds)\")\n",
        "plt.ylabel(\"Fraction of records where word is forgotten\")\n",
        "plt.title(\"Frequency of forgetting a word for low deltas (s)\")\n",
        "plt.axvline(x=120,color='black',linestyle='--')\n",
        "plt.plot(meanp_lowdelta.index,meanp_lowdelta)\n",
        "plt.show()"
      ],
      "metadata": {
        "colab": {
          "base_uri": "https://localhost:8080/",
          "height": 0
        },
        "id": "MqPtQfF4Jaka",
        "outputId": "4a6203ed-0e07-494d-ee94-9964fe0bb1a8"
      },
      "execution_count": 62,
      "outputs": [
        {
          "output_type": "display_data",
          "data": {
            "text/plain": [
              "<Figure size 432x288 with 1 Axes>"
            ],
            "image/png": "[encoded data removed]"
          },
          "metadata": {
            "needs_background": "light"
          }
        }
      ]
    },
    {
      "cell_type": "markdown",
      "source": [
        "The above plot is interesting and might be capturing real-time memory transfer phenomena. At very low delta values (0-50 seconds), probability of forgetting is quite low, possibly because the learned information is still in the learner's working memory. \n",
        "\n",
        "As the learner continues to learn other words, at some point the word might leave working memory and be transferred to long term memory with some initial probability of recalling it. \n",
        "\n",
        "There is then a period where probability of forgetting actually decreases, which is an interesting phenomenon. \n",
        "\n",
        "Past around 120 seconds, probability of forgetting slowly increases with increasing delta. \n",
        "\n",
        "The span of delta is huge (1 second to > 400 days). \n",
        "\n"
      ],
      "metadata": {
        "id": "-PboggcKNSsE"
      }
    },
    {
      "cell_type": "code",
      "source": [
        "print(\"The percentage of records with delta < 15 minutes: \")\n",
        "np.around(datadf.loc[datadf['delta']<900,:].shape[0]/datadf.shape[0]*100,1)"
      ],
      "metadata": {
        "colab": {
          "base_uri": "https://localhost:8080/"
        },
        "id": "C9Tnj5XeRiHS",
        "outputId": "1381e8eb-4fb7-4d63-dc01-2b1eef709b77"
      },
      "execution_count": 63,
      "outputs": [
        {
          "output_type": "stream",
          "name": "stdout",
          "text": [
            "The percentage of records with delta < 15 minutes: \n"
          ]
        },
        {
          "output_type": "execute_result",
          "data": {
            "text/plain": [
              "30.9"
            ]
          },
          "metadata": {},
          "execution_count": 63
        }
      ]
    },
    {
      "cell_type": "markdown",
      "source": [
        "A whopping 31 % of records have delta < 15 minutes.\n",
        "\n",
        "If students are checking the retention strength meters as they are deciding what to study next, and are looking for a high retention reading to be satisfied that they have practiced a word enough, the model needs to account for the lower deltas as well as longer deltas. "
      ],
      "metadata": {
        "id": "TswUbhdvRzQc"
      }
    },
    {
      "cell_type": "markdown",
      "source": [
        "### <font color = \"cornflowerblue\" size=3>Is a learner's history with a word related to the probability of forgetting it in a session?</font>\n",
        "\n",
        "A box plot of history_seen vs p_forgot_bin is below:"
      ],
      "metadata": {
        "id": "zMJQ4nxHu3Kl"
      }
    },
    {
      "cell_type": "code",
      "source": [
        "plt.figure()\n",
        "plt.title(\"How does practice change the probability of forgetting a word?\")\n",
        "sns.boxplot(datadf['p_forgot_bin'],datadf['history_seen'],color='cornflowerblue')\n",
        "plt.ylim((0,20))\n",
        "plt.show()"
      ],
      "metadata": {
        "colab": {
          "base_uri": "https://localhost:8080/",
          "height": 0
        },
        "id": "LJxb5f-3vI5v",
        "outputId": "19a19c0b-7412-482d-dc67-0841fda1b541"
      },
      "execution_count": 64,
      "outputs": [
        {
          "output_type": "stream",
          "name": "stderr",
          "text": [
            "/usr/local/lib/python3.7/dist-packages/seaborn/_decorators.py:43: FutureWarning: Pass the following variables as keyword args: x, y. From version 0.12, the only valid positional argument will be `data`, and passing other arguments without an explicit keyword will result in an error or misinterpretation.\n",
            "  FutureWarning\n"
          ]
        },
        {
          "output_type": "display_data",
          "data": {
            "text/plain": [
              "<Figure size 432x288 with 1 Axes>"
            ],
            "image/png": "[encoded data removed]"
          },
          "metadata": {
            "needs_background": "light"
          }
        }
      ]
    },
    {
      "cell_type": "markdown",
      "source": [
        "There is virtually no difference between the mean value of history_seen for records with forgotten or remembered words. \n",
        "\n",
        "Since the distribution of history_seen is not normal (figure reproduced below), Kruskal-Wallis test is done\n",
        "\n",
        "Null hypothesis\n",
        "Alternate Hypothesis\n",
        "\n",
        "**INSERT HERE**"
      ],
      "metadata": {
        "id": "ok053UpkvcYF"
      }
    },
    {
      "cell_type": "code",
      "source": [
        "stats.kruskal(datadf.loc[datadf['p_forgot_bin']==0,'history_seen'], datadf.loc[datadf['p_forgot_bin']==1,'history_seen'])"
      ],
      "metadata": {
        "colab": {
          "base_uri": "https://localhost:8080/"
        },
        "id": "Z3cnBFIJvIrn",
        "outputId": "cdcda17a-0b27-40ab-802e-9eb399a7a1d1"
      },
      "execution_count": 65,
      "outputs": [
        {
          "output_type": "execute_result",
          "data": {
            "text/plain": [
              "KruskalResult(statistic=101.7866889220487, pvalue=6.183426957396604e-24)"
            ]
          },
          "metadata": {},
          "execution_count": 65
        }
      ]
    },
    {
      "cell_type": "markdown",
      "source": [
        "pvalue is << 0.05, indicating that the two groups have different means.\n",
        "\n",
        "Looking at fraction of records with forgotten words for each interval of binned history_seen."
      ],
      "metadata": {
        "id": "ZsGwJk5Cv219"
      }
    },
    {
      "cell_type": "code",
      "source": [
        "# binning values of delta\n",
        "datadf['binned_hseen'] = pd.cut(datadf['history_seen'],30)\n",
        "\n",
        "# for each bin of delta, gettin the percentage of records with words forgotten\n",
        "meanp_hseen = datadf.groupby('binned_hseen').agg(fraction_forgotten = ('p_forgot_bin','mean'), totalcount = ('p_forgot_bin','count'))\n",
        "meanp_hseen = meanp_hseen.reset_index()\n",
        "# getting the middle value of each bin interval\n",
        "meanp_hseen['binned_hseen_mid'] = meanp_hseen['binned_hseen'].apply(lambda x: x.mid)\n",
        "\n",
        "# plotting mid of interval and percentage of words forgotten within that interval\n",
        "plt.subplots(1,2,figsize=(11,5))\n",
        "#ax = plt.gca()\n",
        "plt.subplot(1,2,1)\n",
        "plt.plot(meanp_hseen['binned_hseen_mid'],meanp_hseen['fraction_forgotten'],'.-')\n",
        "plt.xlabel(\"History seen)\")\n",
        "#plt.xlim((0,4500))\n",
        "plt.ylabel(\"Fraction of records where word is forgotten\")\n",
        "plt.title(\"Frequency of forgetting a word vs history seen\")\n",
        "\n",
        "#ax = plt.gca()\n",
        "plt.subplot(1,2,2)\n",
        "plt.plot(meanp_hseen['binned_hseen_mid'],meanp_hseen['totalcount'],'.-')\n",
        "plt.xlabel(\"History seen\")\n",
        "plt.ylabel(\"Number of records with a value of history seen\")\n",
        "plt.ylim(0,20000)\n",
        "plt.title(\"Number of records vs delta (days)\")\n",
        "plt.show()\n",
        "\n",
        "plt.show()"
      ],
      "metadata": {
        "colab": {
          "base_uri": "https://localhost:8080/",
          "height": 0
        },
        "id": "4R0LSa_wwCke",
        "outputId": "bb6597f0-9e2a-421f-ad60-65d0076f2f70"
      },
      "execution_count": 66,
      "outputs": [
        {
          "output_type": "display_data",
          "data": {
            "text/plain": [
              "<Figure size 792x360 with 2 Axes>"
            ],
            "image/png": "[encoded data removed]"
          },
          "metadata": {
            "needs_background": "light"
          }
        }
      ]
    },
    {
      "cell_type": "markdown",
      "source": [
        "There is no clear relationship between history_seen and probability of forgetting a word. \n",
        "\n",
        "Exploring a derived feature:\n",
        "\n",
        "$history\\_frac = \\frac{history\\_correct}{history\\_seen}$"
      ],
      "metadata": {
        "id": "NloFw8B59o-X"
      }
    },
    {
      "cell_type": "code",
      "source": [
        "datadf['history_frac'] = datadf['history_correct']/datadf['history_seen']\n",
        "\n",
        "datadf['binned_hfrac'] = pd.cut(datadf['history_frac'],30)\n",
        "\n",
        "# for each bin of history fraction, getting the percentage of records with words forgotten\n",
        "meanp_hfrac = datadf.groupby('binned_hfrac').agg(fraction_forgotten = ('p_forgot_bin','mean'), totalcount = ('p_forgot_bin','count'))\n",
        "meanp_hfrac = meanp_hfrac.reset_index()\n",
        "# getting the middle value of each bin interval\n",
        "meanp_hfrac['binned_hfrac_mid'] = meanp_hfrac['binned_hfrac'].apply(lambda x: x.mid)\n",
        "\n",
        "# plotting mid of interval and percentage of words forgotten within that interval\n",
        "plt.subplots(1,2,figsize=(12,6))\n",
        "#ax = plt.gca()\n",
        "plt.subplot(1,2,1)\n",
        "plt.plot(meanp_hfrac['binned_hfrac_mid'],meanp_hfrac['fraction_forgotten'],'.-')\n",
        "plt.xlabel(\"History fraction corrrect)\")\n",
        "plt.ylabel(\"Fraction of records where word is forgotten\")\n",
        "plt.title(\"Frequency of forgetting a word vs fraction of questions answered correctly\")\n",
        "\n",
        "#ax = plt.gca()\n",
        "plt.subplot(1,2,2)\n",
        "plt.plot(meanp_hfrac['binned_hfrac_mid'],meanp_hfrac['totalcount'],'.-')\n",
        "plt.xlabel(\"History fraction correct\")\n",
        "plt.ylabel(\"Number of records with a value of history fraction correct\")\n",
        "plt.title(\"Number of records vs history fraction\")\n",
        "plt.show()"
      ],
      "metadata": {
        "colab": {
          "base_uri": "https://localhost:8080/",
          "height": 0
        },
        "id": "OMHXt7hl13uD",
        "outputId": "5a1d4793-3d14-4bcf-fefc-1d6bb3a50537"
      },
      "execution_count": 67,
      "outputs": [
        {
          "output_type": "display_data",
          "data": {
            "text/plain": [
              "<Figure size 864x432 with 2 Axes>"
            ],
            "image/png": "[encoded data removed]"
          },
          "metadata": {
            "needs_background": "light"
          }
        }
      ]
    },
    {
      "cell_type": "markdown",
      "source": [
        "Fraction of records with forgotten words shows a rough downward trend with increasing fraction of previous correct answers in history. This would be expected - at lower fractions, when a word is new, the changes of forgetting it are higher than when it has been encountered a number of times.  \n"
      ],
      "metadata": {
        "id": "iDdP2LzP2tmU"
      }
    },
    {
      "cell_type": "markdown",
      "source": [
        "### <font color=\"cornflowerblue\" size=3>How long are individual time traces of one student learning one word?</font>\n",
        "\n",
        "Looking at the number of individual time traces with one learner practicing one word over the duration of the dataset. "
      ],
      "metadata": {
        "id": "kUSOJQT9_Yyh"
      }
    },
    {
      "cell_type": "code",
      "source": [
        "timetraces = datadf.groupby(['user_id','lexeme_id'])['timestamp'].count()\n",
        "timetraces.head(10)"
      ],
      "metadata": {
        "colab": {
          "base_uri": "https://localhost:8080/"
        },
        "id": "94xidf5X_-sU",
        "outputId": "70c59f45-ed90-4d87-ca54-0a8f97425cdf"
      },
      "execution_count": 68,
      "outputs": [
        {
          "output_type": "execute_result",
          "data": {
            "text/plain": [
              "user_id  lexeme_id                       \n",
              "u:--N    01a14ea3963721a9d545dce1acc30f2f    1\n",
              "         087d9d0736df444d7ef826a313b613da    1\n",
              "         0cf63ffe3dda158bc3dbd55682b355ae    1\n",
              "         20dde14c9907e353804d0de13f198543    1\n",
              "         219c91b94b90fec1d764a61b8011cf33    1\n",
              "         4635584da9ff676724eca4ade50daa8b    1\n",
              "         495f763ef6027e020c53431484aa5ede    1\n",
              "         55f59c70aebebb0d12d8651daf33d9c7    1\n",
              "         598a41cd84310715e45b6192564592a1    1\n",
              "         68b3cc8b3dd20813c27711cbf0fc5f15    1\n",
              "Name: timestamp, dtype: int64"
            ]
          },
          "metadata": {},
          "execution_count": 68
        }
      ]
    },
    {
      "cell_type": "code",
      "source": [
        "timetraces.shape[0]"
      ],
      "metadata": {
        "colab": {
          "base_uri": "https://localhost:8080/"
        },
        "id": "b6EbzH4MLWEv",
        "outputId": "c7d62ac0-365a-41ea-e8da-f5bc85c4317f"
      },
      "execution_count": 69,
      "outputs": [
        {
          "output_type": "execute_result",
          "data": {
            "text/plain": [
              "5861629"
            ]
          },
          "metadata": {},
          "execution_count": 69
        }
      ]
    },
    {
      "cell_type": "markdown",
      "source": [
        "There are 5.86 million timetraces, with a number of traces with just one record. "
      ],
      "metadata": {
        "id": "gPsDK8hFLOGp"
      }
    },
    {
      "cell_type": "code",
      "source": [
        "timetraces[timetraces<=2].shape[0]/timetraces.shape[0]*100"
      ],
      "metadata": {
        "colab": {
          "base_uri": "https://localhost:8080/"
        },
        "id": "FkJz7WwHLIZ7",
        "outputId": "a5d5599d-a8b3-4a7b-d8fb-56c2267f7de2"
      },
      "execution_count": 70,
      "outputs": [
        {
          "output_type": "execute_result",
          "data": {
            "text/plain": [
              "76.0229110371878"
            ]
          },
          "metadata": {},
          "execution_count": 70
        }
      ]
    },
    {
      "cell_type": "markdown",
      "source": [
        "Around 76% of the dataset is traces with just 2 or fewer records. The plot below is a distribution of number of records of traces (records of one word being reviewed by one student). "
      ],
      "metadata": {
        "id": "pMSzkVKRLlhj"
      }
    },
    {
      "cell_type": "code",
      "source": [
        "plt.figure()\n",
        "plt.title(\"Distribution of length of time traces\")\n",
        "plt.xlabel(\"Number of records in time trace\")\n",
        "plt.ylabel(\"log (Frequency counts)\")\n",
        "plt.hist(timetraces,log=True,bins=20)\n",
        "plt.axvline(10,color='black',linestyle='--')\n",
        "plt.show()"
      ],
      "metadata": {
        "colab": {
          "base_uri": "https://localhost:8080/",
          "height": 0
        },
        "id": "fizORdmMN3v4",
        "outputId": "9b83fe8e-9461-4b73-8d3f-f6dd2d02e34d"
      },
      "execution_count": 71,
      "outputs": [
        {
          "output_type": "display_data",
          "data": {
            "text/plain": [
              "<Figure size 432x288 with 1 Axes>"
            ],
            "image/png": "[encoded data removed]"
          },
          "metadata": {
            "needs_background": "light"
          }
        }
      ]
    },
    {
      "cell_type": "code",
      "source": [
        "timetraces.sort_values(ascending=False)"
      ],
      "metadata": {
        "colab": {
          "base_uri": "https://localhost:8080/"
        },
        "id": "AYNaVQEw-onW",
        "outputId": "26fcb3af-f4c3-417a-e5bb-9b7050bff1fa"
      },
      "execution_count": 104,
      "outputs": [
        {
          "output_type": "execute_result",
          "data": {
            "text/plain": [
              "user_id  lexeme_id                       \n",
              "u:bcH_   1e1f8d730c4ba99ad2873a7608324cf6    352\n",
              "         6d4c572af8022cb4784ce0f8898d1905    328\n",
              "         33a7fd42f74b2d2b1110f1b0c8b6db38    316\n",
              "         827a8ecb89f9b59ac5c29b620a5d3ed6    295\n",
              "         97e922f780d628eac638bea7a02bf496    278\n",
              "                                            ... \n",
              "u:h2vI   62a090db014ab03963712da6c4a76f13      1\n",
              "         631d297c324518ea97ac01fd2abd6e46      1\n",
              "         65675f993b9cdc38918837f561a70625      1\n",
              "         690243b9e6d1652ba20cf78adad15b20      1\n",
              "u:hKyL   64fb4435d0bd27297be2771ef6f09865      1\n",
              "Name: timestamp, Length: 5861629, dtype: int64"
            ]
          },
          "metadata": {},
          "execution_count": 104
        }
      ]
    },
    {
      "cell_type": "markdown",
      "source": [
        "Although the majority of traces involve 2 or fewer records, there are a substantial number of traces with >10 records. \n",
        "\n",
        "Traces from one student (INSERT HERE) learning three different words INSERT HERE are visualized below:"
      ],
      "metadata": {
        "id": "3FyL66aDRgny"
      }
    },
    {
      "cell_type": "code",
      "source": [
        "datadf.loc[datadf['lexeme_id']=='827a8ecb89f9b59ac5c29b620a5d3ed6','lexeme_string'].head(1)"
      ],
      "metadata": {
        "colab": {
          "base_uri": "https://localhost:8080/"
        },
        "id": "XH1fNVJ-1zHs",
        "outputId": "3ad01380-97d1-421d-9fb9-dde11de104b3"
      },
      "execution_count": 112,
      "outputs": [
        {
          "output_type": "execute_result",
          "data": {
            "text/plain": [
              "176    a/a<det><ind><sg>\n",
              "Name: lexeme_string, dtype: object"
            ]
          },
          "metadata": {},
          "execution_count": 112
        }
      ]
    },
    {
      "cell_type": "code",
      "source": [
        "trace_1 = datadf.loc[(datadf['user_id']=='u:bcH_') & (datadf['lexeme_id']=='1e1f8d730c4ba99ad2873a7608324cf6'),['Datetime','p_forgot_bin']].sort_values(by='Datetime',ascending=True)\n",
        "trace_2 = datadf.loc[(datadf['user_id']=='u:bcH_') & (datadf['lexeme_id']=='6d4c572af8022cb4784ce0f8898d1905'),['Datetime','p_forgot_bin']].sort_values(by='Datetime',ascending=True)\n",
        "trace_3 = datadf.loc[(datadf['user_id']=='u:bcH_') & (datadf['lexeme_id']=='827a8ecb89f9b59ac5c29b620a5d3ed6'),['Datetime','p_forgot_bin']].sort_values(by='Datetime',ascending=True)\n",
        "\n"
      ],
      "metadata": {
        "id": "HEJ-wvuMR9OP"
      },
      "execution_count": 105,
      "outputs": []
    },
    {
      "cell_type": "code",
      "source": [
        "# INSERT HERE : change the names of the series based on the words., change labels in legend\n",
        "forgotten_1 = trace_his.loc[trace_his['p_forgot_bin']==1,'Datetime']\n",
        "remembered_1 = trace_his.loc[trace_his['p_forgot_bin']==0,'Datetime']\n",
        "plt.figure(figsize=(50,5))\n",
        "plt.plot(forgotten_1.values,[0]*(forgotten_1.shape[0]),markerfacecolor='red',marker='o',color='black')\n",
        "plt.plot(remembered_1.values,[0]*(remembered_1.shape[0]),markerfacecolor='green',markeredgecolor = 'green',markersize=8,marker='o',color = 'black',label='his')\n",
        "\n",
        "forgotten_2 = trace_2.loc[trace_2['p_forgot_bin']==1,'Datetime']\n",
        "remembered_2 = trace_2.loc[trace_2['p_forgot_bin']==0,'Datetime']\n",
        "plt.plot(forgotten_2.values,[1]*(forgotten_2.shape[0]),markerfacecolor='red',marker='o',color='black')\n",
        "plt.plot(remembered_2.values,[1]*(remembered_2.shape[0]),markerfacecolor='green',markeredgecolor = 'green',markersize=8,marker='o',color = 'black',linestyle='--',label='reads')\n",
        "\n",
        "forgotten_3 = trace_3.loc[trace_3['p_forgot_bin']==1,'Datetime']\n",
        "remembered_3 = trace_3.loc[trace_3['p_forgot_bin']==0,'Datetime']\n",
        "plt.plot(forgotten_3.values,[2]*(forgotten_3.shape[0]),markerfacecolor='red',marker='o',markeredgecolor = 'red',markersize = 10,color = 'black',linestyle=':')\n",
        "plt.plot(remembered_3.values,[2]*(remembered_3.shape[0]),markerfacecolor='green',markeredgecolor = 'green',markersize=8,marker='o',color = 'black',linestyle=':',label='milk')\n",
        "plt.legend()\n",
        "plt.show()"
      ],
      "metadata": {
        "colab": {
          "base_uri": "https://localhost:8080/",
          "height": 0
        },
        "id": "vbNhmnVk6Eyl",
        "outputId": "2ab7726d-0b60-467f-d1b1-296b9f777b91"
      },
      "execution_count": 108,
      "outputs": [
        {
          "output_type": "display_data",
          "data": {
            "text/plain": [
              "<Figure size 3600x360 with 1 Axes>"
            ],
            "image/png": "[encoded data removed]"
          },
          "metadata": {
            "needs_background": "light"
          }
        }
      ]
    },
    {
      "cell_type": "markdown",
      "source": [
        "### <font color = 'cornflowerblue' size= 3>Are students learning more than one language at once?</font>\n",
        "\n",
        "Summing up the number of languages each user is actively learning in the time-span of the dataset:"
      ],
      "metadata": {
        "id": "C-WFl6154a4m"
      }
    },
    {
      "cell_type": "code",
      "source": [
        "num_langs_learning = pd.crosstab(datadf['user_id'],datadf['learning_language']).astype(bool).sum(axis=1).sort_values(ascending=False)"
      ],
      "metadata": {
        "id": "Aueht45V4a4n"
      },
      "execution_count": 113,
      "outputs": []
    },
    {
      "cell_type": "code",
      "source": [
        "plt.figure()\n",
        "plt.title(\"Distribution of number of languages being learned by student\")\n",
        "plt.xlabel(\"Number of languages\")\n",
        "plt.ylabel(\"Frequency counts\")\n",
        "plt.bar(num_langs_learning.value_counts().index,num_langs_learning.value_counts(),log=True)\n",
        "plt.show()"
      ],
      "metadata": {
        "colab": {
          "base_uri": "https://localhost:8080/",
          "height": 295
        },
        "id": "wFfZ8imF4vwV",
        "outputId": "c1d5b2d8-4fbb-4f62-a8f6-b33f125194a9"
      },
      "execution_count": 146,
      "outputs": [
        {
          "output_type": "display_data",
          "data": {
            "text/plain": [
              "<Figure size 432x288 with 1 Axes>"
            ],
            "image/png": "[encoded data removed]"
          },
          "metadata": {
            "needs_background": "light"
          }
        }
      ]
    },
    {
      "cell_type": "markdown",
      "source": [
        "There are some users who are learning multiple languages at the same time. "
      ],
      "metadata": {
        "id": "PH7fdt6_4a4n"
      }
    },
    {
      "cell_type": "code",
      "source": [
        "# learners learning more than one language \n",
        "morethan1_langlearners = num_langs_learning[num_langs_learning>1].index\n",
        "\n",
        "# getting how many users are learning more than one languages?\n",
        "print(f\"Number of users learning more than one language at once: {len(list(morethan1_langlearners))}\")"
      ],
      "metadata": {
        "colab": {
          "base_uri": "https://localhost:8080/"
        },
        "id": "BHjp7s6P6YtQ",
        "outputId": "eca5b0f2-3902-47b2-d838-7cd0a6e88dc2"
      },
      "execution_count": 143,
      "outputs": [
        {
          "output_type": "stream",
          "name": "stdout",
          "text": [
            "Number of users learning more than one language at once: 2849\n"
          ]
        }
      ]
    },
    {
      "cell_type": "markdown",
      "source": [
        "#### Which languages are being learned together?"
      ],
      "metadata": {
        "id": "aX6vDFRx-XHF"
      }
    },
    {
      "cell_type": "code",
      "source": [
        "# subsetting data for users learning more than one language:\n",
        "datadf_sub = datadf.loc[datadf['user_id'].isin(morethan1_langlearners),:]\n",
        "# set of languages being learned by each user\n",
        "lang_sets = datadf_sub.groupby('user_id')['learning_language'].unique().apply(frozenset)\n",
        "# counts of sets of langauges commonly being learned together:\n",
        "langs_commonly_learned_together = lang_sets.value_counts()"
      ],
      "metadata": {
        "id": "SCTCpb9O6ril"
      },
      "execution_count": 141,
      "outputs": []
    },
    {
      "cell_type": "code",
      "source": [
        "langs_commonly_learned_together.head(10)"
      ],
      "metadata": {
        "colab": {
          "base_uri": "https://localhost:8080/"
        },
        "id": "5rdLOb_I7L5E",
        "outputId": "92ad72a5-cfc2-4937-be2f-e51609c9bb12"
      },
      "execution_count": 142,
      "outputs": [
        {
          "output_type": "execute_result",
          "data": {
            "text/plain": [
              "(es, fr)        660\n",
              "(de, fr)        484\n",
              "(de, es)        460\n",
              "(it, fr)        186\n",
              "(es, it)        145\n",
              "(de, it)        139\n",
              "(es, de, fr)     96\n",
              "(es, pt)         85\n",
              "(de, en)         64\n",
              "(en, fr)         60\n",
              "Name: learning_language, dtype: int64"
            ]
          },
          "metadata": {},
          "execution_count": 142
        }
      ]
    },
    {
      "cell_type": "markdown",
      "source": [
        "Spanish and French are learned together by 660 users, while German and French are being learned together by 484 users. \n",
        "\n",
        "#### Is learning more than one language related to different performance?"
      ],
      "metadata": {
        "id": "R8k9fA-Y-bP7"
      }
    },
    {
      "cell_type": "code",
      "source": [
        "#Records of Users learning only Spanish \n",
        "learning_es_only = datadf.loc[(datadf['user_id'].isin(num_langs_learning[num_langs_learning==1].index)) & (datadf['learning_language']=='es')]\n",
        "\n",
        "# Records of Users learning only French\n",
        "learning_fr_only = datadf.loc[(datadf['user_id'].isin(num_langs_learning[num_langs_learning==1].index)) & (datadf['learning_language']=='fr')]\n",
        "\n",
        "# Records of Users learning both:\n",
        "learning_esandfr = datadf.loc[(datadf['user_id'].isin(num_langs_learning[num_langs_learning==2].index)) & (datadf['learning_language'].isin(['fr','es']))]"
      ],
      "metadata": {
        "id": "ahyb21_X-x1K"
      },
      "execution_count": 149,
      "outputs": []
    },
    {
      "cell_type": "code",
      "source": [
        "learning_es_only['p_forgot_bin'].mean(), learning_fr_only['p_forgot_bin'].mean(), learning_esandfr['p_forgot_bin'].mean()"
      ],
      "metadata": {
        "colab": {
          "base_uri": "https://localhost:8080/"
        },
        "id": "AFL-pQ26vJ_Y",
        "outputId": "877c2054-5e83-4f77-fa58-eecee0b7977f"
      },
      "execution_count": 151,
      "outputs": [
        {
          "output_type": "execute_result",
          "data": {
            "text/plain": [
              "(0.1569166198120006, 0.18497565266262864, 0.1574391977132272)"
            ]
          },
          "metadata": {},
          "execution_count": 151
        }
      ]
    },
    {
      "cell_type": "code",
      "source": [
        "ctable_es = pd.concat([learning_es_only['p_forgot_bin'].value_counts(), learning_esandfr.loc[learning_esandfr['learning_language']=='es','p_forgot_bin'].value_counts()],axis=1)\n",
        "ctable_es.columns = ['Spanish_peformance_spanishonly_learners','Spanish_performance_frandes_learners']\n",
        "\n",
        "ctable_fr = pd.concat([learning_es_only['p_forgot_bin'].value_counts(), learning_esandfr.loc[learning_esandfr['learning_language']=='fr','p_forgot_bin'].value_counts()],axis=1)\n",
        "ctable_es.columns = ['French_peformance_frenchonly_learners','Fpanish_performance_frandes_learners']"
      ],
      "metadata": {
        "id": "8iBbLOhyxXmx"
      },
      "execution_count": 169,
      "outputs": []
    },
    {
      "cell_type": "code",
      "source": [
        "# Chi-squared test\n",
        "#display(HTML(\"<h4>Contingency table of WNV Presence and Mosquito Species</h4>\"))\n",
        "display(ctable_es)\n",
        "\n",
        "# chi-squared test for independence\n",
        "chi2stat, p_val, dof,expected = stats.chi2_contingency(ctable_es)\n",
        "print(f'Chi-squared statistic: {chi2stat}')\n",
        "print(f'p-value: {p_val}')\n",
        "print('Expected frequencies (for independence):')\n",
        "print(expected)"
      ],
      "metadata": {
        "colab": {
          "base_uri": "https://localhost:8080/",
          "height": 199
        },
        "id": "4a8Awdy-waeW",
        "outputId": "06445f9a-1be8-4f2c-8098-3556d8d66f29"
      },
      "execution_count": 170,
      "outputs": [
        {
          "output_type": "display_data",
          "data": {
            "text/plain": [
              "   French_peformance_frenchonly_learners  Fpanish_performance_frandes_learners\n",
              "0                                2661551                                176285\n",
              "1                                 495374                                 28753"
            ],
            "text/html": [
              "\n",
              "  <div id=\"df-0c2c7cee-3808-46b9-9e30-4f66a70d452a\">\n",
              "    <div class=\"colab-df-container\">\n",
              "      <div>\n",
              "<style scoped>\n",
              "    .dataframe tbody tr th:only-of-type {\n",
              "        vertical-align: middle;\n",
              "    }\n",
              "\n",
              "    .dataframe tbody tr th {\n",
              "        vertical-align: top;\n",
              "    }\n",
              "\n",
              "    .dataframe thead th {\n",
              "        text-align: right;\n",
              "    }\n",
              "</style>\n",
              "<table border=\"1\" class=\"dataframe\">\n",
              "  <thead>\n",
              "    <tr style=\"text-align: right;\">\n",
              "      <th></th>\n",
              "      <th>French_peformance_frenchonly_learners</th>\n",
              "      <th>Fpanish_performance_frandes_learners</th>\n",
              "    </tr>\n",
              "  </thead>\n",
              "  <tbody>\n",
              "    <tr>\n",
              "      <th>0</th>\n",
              "      <td>2661551</td>\n",
              "      <td>176285</td>\n",
              "    </tr>\n",
              "    <tr>\n",
              "      <th>1</th>\n",
              "      <td>495374</td>\n",
              "      <td>28753</td>\n",
              "    </tr>\n",
              "  </tbody>\n",
              "</table>\n",
              "</div>\n",
              "      <button class=\"colab-df-convert\" onclick=\"convertToInteractive('df-0c2c7cee-3808-46b9-9e30-4f66a70d452a')\"\n",
              "              title=\"Convert this dataframe to an interactive table.\"\n",
              "              style=\"display:none;\">\n",
              "        \n",
              "  <svg xmlns=\"http://www.w3.org/2000/svg\" height=\"24px\"viewBox=\"0 0 24 24\"\n",
              "       width=\"24px\">\n",
              "    <path d=\"M0 0h24v24H0V0z\" fill=\"none\"/>\n",
              "    <path d=\"M18.56 5.44l.94 2.06.94-2.06 2.06-.94-2.06-.94-.94-2.06-.94 2.06-2.06.94zm-11 1L8.5 8.5l.94-2.06 2.06-.94-2.06-.94L8.5 2.5l-.94 2.06-2.06.94zm10 10l.94 2.06.94-2.06 2.06-.94-2.06-.94-.94-2.06-.94 2.06-2.06.94z\"/><path d=\"M17.41 7.96l-1.37-1.37c-.4-.4-.92-.59-1.43-.59-.52 0-1.04.2-1.43.59L10.3 9.45l-7.72 7.72c-.78.78-.78 2.05 0 2.83L4 21.41c.39.39.9.59 1.41.59.51 0 1.02-.2 1.41-.59l7.78-7.78 2.81-2.81c.8-.78.8-2.07 0-2.86zM5.41 20L4 18.59l7.72-7.72 1.47 1.35L5.41 20z\"/>\n",
              "  </svg>\n",
              "      </button>\n",
              "      \n",
              "  <style>\n",
              "    .colab-df-container {\n",
              "      display:flex;\n",
              "      flex-wrap:wrap;\n",
              "      gap: 12px;\n",
              "    }\n",
              "\n",
              "    .colab-df-convert {\n",
              "      background-color: #E8F0FE;\n",
              "      border: none;\n",
              "      border-radius: 50%;\n",
              "      cursor: pointer;\n",
              "      display: none;\n",
              "      fill: #1967D2;\n",
              "      height: 32px;\n",
              "      padding: 0 0 0 0;\n",
              "      width: 32px;\n",
              "    }\n",
              "\n",
              "    .colab-df-convert:hover {\n",
              "      background-color: #E2EBFA;\n",
              "      box-shadow: 0px 1px 2px rgba(60, 64, 67, 0.3), 0px 1px 3px 1px rgba(60, 64, 67, 0.15);\n",
              "      fill: #174EA6;\n",
              "    }\n",
              "\n",
              "    [theme=dark] .colab-df-convert {\n",
              "      background-color: #3B4455;\n",
              "      fill: #D2E3FC;\n",
              "    }\n",
              "\n",
              "    [theme=dark] .colab-df-convert:hover {\n",
              "      background-color: #434B5C;\n",
              "      box-shadow: 0px 1px 3px 1px rgba(0, 0, 0, 0.15);\n",
              "      filter: drop-shadow(0px 1px 2px rgba(0, 0, 0, 0.3));\n",
              "      fill: #FFFFFF;\n",
              "    }\n",
              "  </style>\n",
              "\n",
              "      <script>\n",
              "        const buttonEl =\n",
              "          document.querySelector('#df-0c2c7cee-3808-46b9-9e30-4f66a70d452a button.colab-df-convert');\n",
              "        buttonEl.style.display =\n",
              "          google.colab.kernel.accessAllowed ? 'block' : 'none';\n",
              "\n",
              "        async function convertToInteractive(key) {\n",
              "          const element = document.querySelector('#df-0c2c7cee-3808-46b9-9e30-4f66a70d452a');\n",
              "          const dataTable =\n",
              "            await google.colab.kernel.invokeFunction('convertToInteractive',\n",
              "                                                     [key], {});\n",
              "          if (!dataTable) return;\n",
              "\n",
              "          const docLinkHtml = 'Like what you see? Visit the ' +\n",
              "            '<a target=\"_blank\" href=https://colab.research.google.com/notebooks/data_table.ipynb>data table notebook</a>'\n",
              "            + ' to learn more about interactive tables.';\n",
              "          element.innerHTML = '';\n",
              "          dataTable['output_type'] = 'display_data';\n",
              "          await google.colab.output.renderOutput(dataTable, element);\n",
              "          const docLink = document.createElement('div');\n",
              "          docLink.innerHTML = docLinkHtml;\n",
              "          element.appendChild(docLink);\n",
              "        }\n",
              "      </script>\n",
              "    </div>\n",
              "  </div>\n",
              "  "
            ]
          },
          "metadata": {}
        },
        {
          "output_type": "stream",
          "name": "stdout",
          "text": [
            "Chi-squared statistic: 407.13357036240404\n",
            "p-value: 1.54198397805898e-90\n",
            "Expected frequencies (for independence):\n",
            "[[2664763.23930394  173072.76069606]\n",
            " [ 492161.76069606   31965.23930394]]\n"
          ]
        }
      ]
    },
    {
      "cell_type": "markdown",
      "source": [
        "The p-value is << 0.05 so we can reject the null hypothesis that the Spanish perofrmance of students learning only Spanish is the same as the Spanish performance of students learning both Spanish and French. "
      ],
      "metadata": {
        "id": "7X55p20802wq"
      }
    },
    {
      "cell_type": "code",
      "source": [
        "# Chi-squared test\n",
        "#display(HTML(\"<h4>Contingency table of WNV Presence and Mosquito Species</h4>\"))\n",
        "display(ctable_fr)\n",
        "\n",
        "# chi-squared test for independence\n",
        "chi2stat, p_val, dof,expected = stats.chi2_contingency(ctable_fr)\n",
        "print(f'Chi-squared statistic: {chi2stat}')\n",
        "print(f'p-value: {p_val}')\n",
        "print('Expected frequencies (for independence):')\n",
        "print(expected)"
      ],
      "metadata": {
        "colab": {
          "base_uri": "https://localhost:8080/",
          "height": 199
        },
        "id": "expIGYAH0yKH",
        "outputId": "ca650dcc-c1e3-4302-aa7e-0ff4f110658b"
      },
      "execution_count": 171,
      "outputs": [
        {
          "output_type": "display_data",
          "data": {
            "text/plain": [
              "   p_forgot_bin  p_forgot_bin\n",
              "0       2661551        140287\n",
              "1        495374         30401"
            ],
            "text/html": [
              "\n",
              "  <div id=\"df-a1cfd01f-e2b6-44fa-b3a3-374a48a4aa8d\">\n",
              "    <div class=\"colab-df-container\">\n",
              "      <div>\n",
              "<style scoped>\n",
              "    .dataframe tbody tr th:only-of-type {\n",
              "        vertical-align: middle;\n",
              "    }\n",
              "\n",
              "    .dataframe tbody tr th {\n",
              "        vertical-align: top;\n",
              "    }\n",
              "\n",
              "    .dataframe thead th {\n",
              "        text-align: right;\n",
              "    }\n",
              "</style>\n",
              "<table border=\"1\" class=\"dataframe\">\n",
              "  <thead>\n",
              "    <tr style=\"text-align: right;\">\n",
              "      <th></th>\n",
              "      <th>p_forgot_bin</th>\n",
              "      <th>p_forgot_bin</th>\n",
              "    </tr>\n",
              "  </thead>\n",
              "  <tbody>\n",
              "    <tr>\n",
              "      <th>0</th>\n",
              "      <td>2661551</td>\n",
              "      <td>140287</td>\n",
              "    </tr>\n",
              "    <tr>\n",
              "      <th>1</th>\n",
              "      <td>495374</td>\n",
              "      <td>30401</td>\n",
              "    </tr>\n",
              "  </tbody>\n",
              "</table>\n",
              "</div>\n",
              "      <button class=\"colab-df-convert\" onclick=\"convertToInteractive('df-a1cfd01f-e2b6-44fa-b3a3-374a48a4aa8d')\"\n",
              "              title=\"Convert this dataframe to an interactive table.\"\n",
              "              style=\"display:none;\">\n",
              "        \n",
              "  <svg xmlns=\"http://www.w3.org/2000/svg\" height=\"24px\"viewBox=\"0 0 24 24\"\n",
              "       width=\"24px\">\n",
              "    <path d=\"M0 0h24v24H0V0z\" fill=\"none\"/>\n",
              "    <path d=\"M18.56 5.44l.94 2.06.94-2.06 2.06-.94-2.06-.94-.94-2.06-.94 2.06-2.06.94zm-11 1L8.5 8.5l.94-2.06 2.06-.94-2.06-.94L8.5 2.5l-.94 2.06-2.06.94zm10 10l.94 2.06.94-2.06 2.06-.94-2.06-.94-.94-2.06-.94 2.06-2.06.94z\"/><path d=\"M17.41 7.96l-1.37-1.37c-.4-.4-.92-.59-1.43-.59-.52 0-1.04.2-1.43.59L10.3 9.45l-7.72 7.72c-.78.78-.78 2.05 0 2.83L4 21.41c.39.39.9.59 1.41.59.51 0 1.02-.2 1.41-.59l7.78-7.78 2.81-2.81c.8-.78.8-2.07 0-2.86zM5.41 20L4 18.59l7.72-7.72 1.47 1.35L5.41 20z\"/>\n",
              "  </svg>\n",
              "      </button>\n",
              "      \n",
              "  <style>\n",
              "    .colab-df-container {\n",
              "      display:flex;\n",
              "      flex-wrap:wrap;\n",
              "      gap: 12px;\n",
              "    }\n",
              "\n",
              "    .colab-df-convert {\n",
              "      background-color: #E8F0FE;\n",
              "      border: none;\n",
              "      border-radius: 50%;\n",
              "      cursor: pointer;\n",
              "      display: none;\n",
              "      fill: #1967D2;\n",
              "      height: 32px;\n",
              "      padding: 0 0 0 0;\n",
              "      width: 32px;\n",
              "    }\n",
              "\n",
              "    .colab-df-convert:hover {\n",
              "      background-color: #E2EBFA;\n",
              "      box-shadow: 0px 1px 2px rgba(60, 64, 67, 0.3), 0px 1px 3px 1px rgba(60, 64, 67, 0.15);\n",
              "      fill: #174EA6;\n",
              "    }\n",
              "\n",
              "    [theme=dark] .colab-df-convert {\n",
              "      background-color: #3B4455;\n",
              "      fill: #D2E3FC;\n",
              "    }\n",
              "\n",
              "    [theme=dark] .colab-df-convert:hover {\n",
              "      background-color: #434B5C;\n",
              "      box-shadow: 0px 1px 3px 1px rgba(0, 0, 0, 0.15);\n",
              "      filter: drop-shadow(0px 1px 2px rgba(0, 0, 0, 0.3));\n",
              "      fill: #FFFFFF;\n",
              "    }\n",
              "  </style>\n",
              "\n",
              "      <script>\n",
              "        const buttonEl =\n",
              "          document.querySelector('#df-a1cfd01f-e2b6-44fa-b3a3-374a48a4aa8d button.colab-df-convert');\n",
              "        buttonEl.style.display =\n",
              "          google.colab.kernel.accessAllowed ? 'block' : 'none';\n",
              "\n",
              "        async function convertToInteractive(key) {\n",
              "          const element = document.querySelector('#df-a1cfd01f-e2b6-44fa-b3a3-374a48a4aa8d');\n",
              "          const dataTable =\n",
              "            await google.colab.kernel.invokeFunction('convertToInteractive',\n",
              "                                                     [key], {});\n",
              "          if (!dataTable) return;\n",
              "\n",
              "          const docLinkHtml = 'Like what you see? Visit the ' +\n",
              "            '<a target=\"_blank\" href=https://colab.research.google.com/notebooks/data_table.ipynb>data table notebook</a>'\n",
              "            + ' to learn more about interactive tables.';\n",
              "          element.innerHTML = '';\n",
              "          dataTable['output_type'] = 'display_data';\n",
              "          await google.colab.output.renderOutput(dataTable, element);\n",
              "          const docLink = document.createElement('div');\n",
              "          docLink.innerHTML = docLinkHtml;\n",
              "          element.appendChild(docLink);\n",
              "        }\n",
              "      </script>\n",
              "    </div>\n",
              "  </div>\n",
              "  "
            ]
          },
          "metadata": {}
        },
        {
          "output_type": "stream",
          "name": "stdout",
          "text": [
            "Chi-squared statistic: 546.4789723077567\n",
            "p-value: 7.344481617981593e-121\n",
            "Expected frequencies (for independence):\n",
            "[[2658119.3270221  143718.6729779]\n",
            " [ 498805.6729779   26969.3270221]]\n"
          ]
        }
      ]
    },
    {
      "cell_type": "markdown",
      "source": [
        "The p-value is << 0.05 so we can reject the null hypothesis that the French perofrmance of students learning only French is the same as the French performance of students learning both Spanish and French. "
      ],
      "metadata": {
        "id": "mQshGDBi1pCp"
      }
    },
    {
      "cell_type": "markdown",
      "source": [
        "## <font color = 'cornflowerblue' size= 4>Conclusions and Next Steps</font>\n"
      ],
      "metadata": {
        "id": "Pjbxk6Pb2pOJ"
      }
    },
    {
      "cell_type": "markdown",
      "source": [
        "#### Conclusions\n",
        "\n",
        "- The score of the dataset has been explored. \n",
        "\n",
        "- Duplicate rows have been deleted. \n",
        "\n",
        "- The dataset has been checked for null values; none were found. \n",
        "\n",
        "- The target variable provided in the original dataset, probability of recall, has been analyzed, and based on our findings has been transformed to a conservative binary column marking if a word was forgotten or not. \n",
        "\n",
        " - The effect of variables such as time since last review, language being learned, number of languages being learned, and historical performance have been investigated. Statistical significance tests have been done where applicable.\n",
        "\n",
        "#### Next Steps:\n",
        "\n",
        "1. Clean the lexeme string column to individual features. \n",
        "\n",
        "2. EDA on word-based features."
      ],
      "metadata": {
        "id": "XpvXPMK4BDk1"
      }
    },
    {
      "cell_type": "markdown",
      "source": [
        "## <font color = 'cornflowerblue' size=4>Appendix</font>\n",
        "\n",
        "- Details of the work published by Duolingo's machine learning team\n",
        "- Relevant images are included\n",
        "\n"
      ],
      "metadata": {
        "id": "SimRQxQC3DyT"
      }
    },
    {
      "cell_type": "markdown",
      "source": [
        "B. Settles and B. Meeder. 2016. [A Trainable Spaced Repetition Model for Language Learning](https://github.com/duolingo/halflife-regression/blob/master/settles.acl16.pdf). In _Proceedings of the Association for Computational Linguistics (ACL)_, pages 1848-1858.\n",
        "\n",
        "\n",
        "\n",
        "Learning sessions are segmented in the form of a skill tree, with each skill consisting of a few words belonging to a certain theme (e.g greetings, common foods etc.). Students work their way up the skill tree, and need to have proficiency with the basics before moving onto more advanced lessons.\n",
        "\n",
        "My capstone project is a spaced repetition [dataset from Duolingo](https://github.com/duolingo/halflife-regression). It spans 14 days of students learning second languages through Duolingo’s gamified system and has almost 13 million records and 12 variables. As part of its plan for engagement, Duolingo predicts how well a student might have retained the meanings and usage of words, and constructs a model of student’s understanding to produce targeted practice sessions that review words before are forgotten, and maximize retention. How well a word is retained depends on the word itself, its similarity to words in the language a student knows, and the student’s individual learning pace, and memory capacity. \n",
        "\n",
        "Duolingo’s machine learning team released a solution for predicting a student’s recall of a word with a parameterized half-life regression model based on psychological theory: Ebbinghaus’ model for forgetting, and combines it with machine learning. The main equation is:\n",
        "****$p = 2^{\\frac{-\\Delta}{h}}$** \n",
        "where $p$ is the probability of a student remembering a word correctly, delta is how much time has passed since the student last reviewed the word, and $h$ is the **_half-life_** parameter, which represents the strength of retention in the student's mind. \n",
        "\n",
        "The Duolingo team makes an additional assumption that the half-life parameter increases exponentially with each repeated exposure to the word. \n",
        "\n",
        "$\\hat{h} = 2^{\\theta.x}$\n",
        "\n",
        "where $\\hat{h}$ is the predicted half-life, $x$ is a vector of features describing previous exposures, and $\\theta$ is the parameter vector containing weights corresponding to the features in $x$. \n",
        "\n",
        "Loss function used was L2 regularized loss function (to avoid over-fitting).\n",
        "\n",
        "They fit half-life and p_recall simulataneously with the final loss function:\n",
        "$(p - \\hat{p}_{\\theta})^2 + \\alpha(h-\\hat{h}_{\\theta})^2+ \\lambda|\\theta|^2$\n",
        "\n",
        "where $\\alpha$ is a parameter to control the relative importance of the half-life term in the overall objective function.\n",
        "\n",
        "Since loss function is smooth with respect to theta, weights were fit using gradient descent. \n",
        "\n",
        "**Feature sets:**\n",
        "\n",
        "_Interaction features:_\n",
        "includes total number of times a student has seen the word $x_n$, the number of times it was correctly recalled, the number of times incorrectly recalled. sometimes square root of these count fatures yielded better results than raw counts.\n",
        "\n",
        "(Does this mean some sort of log-log model might work well?)\n",
        "Lexeme tag features: meant to capture the inherent difficulty of each particular word.\n",
        "\n",
        "Ablation studies were done: removing certain components to understand the contribution of the component to the overall system. Ablation requires that a system exhibit \"graceful degradation\" - the system must continue to function even when certain components are missing or degraded. Is useful for investigating a model's durability to structural damages. investigates possible outcomes of system failure. \n",
        "\n",
        "Models tested:\n",
        "1. just HLR as described above\n",
        "2. HLR + lexeme features\n",
        "3. HLR without half-life in loss function\n",
        "\n",
        "Compared against baseline models: \n",
        "1. Leitner\n",
        "2. Pimsleur\n",
        "3. Logistic - with and without lexeme. lag time was an additional feature with either exponential or polynomial transformations. raw lag time worked best. \n",
        "\n",
        "They tried a handful of values and settled on lambda =1, alpha = 0.01, and learning rate = 0.001 (gradient descent)\n",
        "\n",
        "Model evaluation:\n",
        "\n",
        "1. Mean absolute error in p_recall.\n",
        "2. Area under ROC curve (Wilcoxon rank-sum test) - \n",
        "3. Half-life correlation (Spearkman rank correlation between halflife predicted and the algenbraic estimate h)\n",
        "\n",
        "HLR with lexeme tag features was the best or second best approach wrt the above evaluation metrics. "
      ],
      "metadata": {
        "id": "3vA7vljfCGvG"
      }
    },
    {
      "cell_type": "markdown",
      "source": [
        "Image 1: Graphing lexical similarity of languages from this [link](https://community.wolfram.com/groups/-/m/t/2033869)\n",
        "\n",
        "![image.png](data:image/png;base64,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)"
      ],
      "metadata": {
        "id": "e8zHM5_WLcbK"
      }
    }
  ]
}