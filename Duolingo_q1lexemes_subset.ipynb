{
  "nbformat": 4,
  "nbformat_minor": 0,
  "metadata": {
    "colab": {
      "name": "Duolingo_q1lexemes_subset.ipynb",
      "provenance": [],
      "machine_shape": "hm",
      "authorship_tag": "ABX9TyOQJLazbczfy+JwTdB/alIA",
      "include_colab_link": true
    },
    "kernelspec": {
      "name": "python3",
      "display_name": "Python 3"
    },
    "language_info": {
      "name": "python"
    },
    "gpuClass": "standard"
  },
  "cells": [
    {
      "cell_type": "markdown",
      "metadata": {
        "id": "view-in-github",
        "colab_type": "text"
      },
      "source": [
        "<a href=\"https://colab.research.google.com/github/rts1988/Duolingo_spaced_repetition/blob/main/Duolingo_q1lexemes_subset.ipynb\" target=\"_parent\"><img src=\"https://colab.research.google.com/assets/colab-badge.svg\" alt=\"Open In Colab\"/></a>"
      ]
    },
    {
      "cell_type": "markdown",
      "source": [
        "Approach: \n",
        "1. group by delta, history fraction for every student, see if you can see who are the top performers, bottom performers. Is there a way to cluster them?\n",
        "\n",
        "after trying in prev notebook, we now add session seen, and replace history correct with history fraction correct. "
      ],
      "metadata": {
        "id": "E5X6w6X5PQcc"
      }
    },
    {
      "cell_type": "code",
      "execution_count": 2,
      "metadata": {
        "id": "R-WTApfQPI6o",
        "colab": {
          "base_uri": "https://localhost:8080/"
        },
        "outputId": "eb39c2f0-1046-4f1e-8f48-5a80fdc43a5c"
      },
      "outputs": [
        {
          "output_type": "stream",
          "name": "stdout",
          "text": [
            "Mounted at /content/drive\n"
          ]
        }
      ],
      "source": [
        "import bz2\n",
        "import pickle\n",
        "import _pickle as cPickle\n",
        "import pandas as pd\n",
        "import seaborn as sns\n",
        "import matplotlib.pyplot as plt\n",
        "import numpy as np\n",
        "\n",
        "from google.colab import drive\n",
        "drive.mount('/content/drive')\n",
        "\n",
        "def decompress_pickle(file):\n",
        " data = bz2.BZ2File(file, 'rb')\n",
        " data = cPickle.load(data)\n",
        " return data\n",
        "\n",
        "def compressed_pickle(title, data):  # do not add extension in filename\n",
        " with bz2.BZ2File(title + '.pbz2', 'w') as f: \n",
        "  cPickle.dump(data, f)\n",
        "\n",
        "path_name = '/content/drive/MyDrive/'"
      ]
    },
    {
      "cell_type": "code",
      "source": [
        "datadfq1 = decompress_pickle(path_name+\"Unseen_words_training_set.pbz2\") "
      ],
      "metadata": {
        "id": "EWDuQfNJPuhp"
      },
      "execution_count": 3,
      "outputs": []
    },
    {
      "cell_type": "code",
      "source": [
        "datadfq1.head()"
      ],
      "metadata": {
        "colab": {
          "base_uri": "https://localhost:8080/",
          "height": 357
        },
        "id": "vhl6x5D-PvMh",
        "outputId": "127de7a8-81de-4743-98e0-fb22dde3fd95"
      },
      "execution_count": 4,
      "outputs": [
        {
          "output_type": "execute_result",
          "data": {
            "text/plain": [
              "    p_recall   timestamp    delta user_id learning_language ui_language  \\\n",
              "7        1.0  1362082032   444407  u:dDwF                es          en   \n",
              "15       1.0  1362082130       77  u:dDwF                es          en   \n",
              "20       1.0  1362082274  1634777  u:dDwF                es          en   \n",
              "21       1.0  1362082274  1708699  u:dDwF                es          en   \n",
              "22       1.0  1362082274  1708699  u:dDwF                es          en   \n",
              "\n",
              "                           lexeme_id                 lexeme_string  \\\n",
              "7   73eecb492ca758ddab5371cf7b5cca32                 bajo/bajo<pr>   \n",
              "15  73eecb492ca758ddab5371cf7b5cca32                 bajo/bajo<pr>   \n",
              "20  c84476c460737d9fb905dca3d35ec995          niños/niño<n><m><pl>   \n",
              "21  1a913f2ded424985b9c02d0436008511  leo/leer<vblex><pri><p1><sg>   \n",
              "22  38b770e66595fea718366523b4f7db3f         libro/libro<n><m><sg>   \n",
              "\n",
              "    history_seen  history_correct  session_seen  session_correct  \\\n",
              "7              3                3             1                1   \n",
              "15             5                5             1                1   \n",
              "20             9                8             2                2   \n",
              "21             7                5             2                2   \n",
              "22             8                8             4                4   \n",
              "\n",
              "                                  student_word  student_lang  \n",
              "7   (u:dDwF, 73eecb492ca758ddab5371cf7b5cca32)  (u:dDwF, en)  \n",
              "15  (u:dDwF, 73eecb492ca758ddab5371cf7b5cca32)  (u:dDwF, en)  \n",
              "20  (u:dDwF, c84476c460737d9fb905dca3d35ec995)  (u:dDwF, en)  \n",
              "21  (u:dDwF, 1a913f2ded424985b9c02d0436008511)  (u:dDwF, en)  \n",
              "22  (u:dDwF, 38b770e66595fea718366523b4f7db3f)  (u:dDwF, en)  "
            ],
            "text/html": [
              "\n",
              "  <div id=\"df-8a60cffe-9eef-4625-a97d-ed313c0609f8\">\n",
              "    <div class=\"colab-df-container\">\n",
              "      <div>\n",
              "<style scoped>\n",
              "    .dataframe tbody tr th:only-of-type {\n",
              "        vertical-align: middle;\n",
              "    }\n",
              "\n",
              "    .dataframe tbody tr th {\n",
              "        vertical-align: top;\n",
              "    }\n",
              "\n",
              "    .dataframe thead th {\n",
              "        text-align: right;\n",
              "    }\n",
              "</style>\n",
              "<table border=\"1\" class=\"dataframe\">\n",
              "  <thead>\n",
              "    <tr style=\"text-align: right;\">\n",
              "      <th></th>\n",
              "      <th>p_recall</th>\n",
              "      <th>timestamp</th>\n",
              "      <th>delta</th>\n",
              "      <th>user_id</th>\n",
              "      <th>learning_language</th>\n",
              "      <th>ui_language</th>\n",
              "      <th>lexeme_id</th>\n",
              "      <th>lexeme_string</th>\n",
              "      <th>history_seen</th>\n",
              "      <th>history_correct</th>\n",
              "      <th>session_seen</th>\n",
              "      <th>session_correct</th>\n",
              "      <th>student_word</th>\n",
              "      <th>student_lang</th>\n",
              "    </tr>\n",
              "  </thead>\n",
              "  <tbody>\n",
              "    <tr>\n",
              "      <th>7</th>\n",
              "      <td>1.0</td>\n",
              "      <td>1362082032</td>\n",
              "      <td>444407</td>\n",
              "      <td>u:dDwF</td>\n",
              "      <td>es</td>\n",
              "      <td>en</td>\n",
              "      <td>73eecb492ca758ddab5371cf7b5cca32</td>\n",
              "      <td>bajo/bajo&lt;pr&gt;</td>\n",
              "      <td>3</td>\n",
              "      <td>3</td>\n",
              "      <td>1</td>\n",
              "      <td>1</td>\n",
              "      <td>(u:dDwF, 73eecb492ca758ddab5371cf7b5cca32)</td>\n",
              "      <td>(u:dDwF, en)</td>\n",
              "    </tr>\n",
              "    <tr>\n",
              "      <th>15</th>\n",
              "      <td>1.0</td>\n",
              "      <td>1362082130</td>\n",
              "      <td>77</td>\n",
              "      <td>u:dDwF</td>\n",
              "      <td>es</td>\n",
              "      <td>en</td>\n",
              "      <td>73eecb492ca758ddab5371cf7b5cca32</td>\n",
              "      <td>bajo/bajo&lt;pr&gt;</td>\n",
              "      <td>5</td>\n",
              "      <td>5</td>\n",
              "      <td>1</td>\n",
              "      <td>1</td>\n",
              "      <td>(u:dDwF, 73eecb492ca758ddab5371cf7b5cca32)</td>\n",
              "      <td>(u:dDwF, en)</td>\n",
              "    </tr>\n",
              "    <tr>\n",
              "      <th>20</th>\n",
              "      <td>1.0</td>\n",
              "      <td>1362082274</td>\n",
              "      <td>1634777</td>\n",
              "      <td>u:dDwF</td>\n",
              "      <td>es</td>\n",
              "      <td>en</td>\n",
              "      <td>c84476c460737d9fb905dca3d35ec995</td>\n",
              "      <td>niños/niño&lt;n&gt;&lt;m&gt;&lt;pl&gt;</td>\n",
              "      <td>9</td>\n",
              "      <td>8</td>\n",
              "      <td>2</td>\n",
              "      <td>2</td>\n",
              "      <td>(u:dDwF, c84476c460737d9fb905dca3d35ec995)</td>\n",
              "      <td>(u:dDwF, en)</td>\n",
              "    </tr>\n",
              "    <tr>\n",
              "      <th>21</th>\n",
              "      <td>1.0</td>\n",
              "      <td>1362082274</td>\n",
              "      <td>1708699</td>\n",
              "      <td>u:dDwF</td>\n",
              "      <td>es</td>\n",
              "      <td>en</td>\n",
              "      <td>1a913f2ded424985b9c02d0436008511</td>\n",
              "      <td>leo/leer&lt;vblex&gt;&lt;pri&gt;&lt;p1&gt;&lt;sg&gt;</td>\n",
              "      <td>7</td>\n",
              "      <td>5</td>\n",
              "      <td>2</td>\n",
              "      <td>2</td>\n",
              "      <td>(u:dDwF, 1a913f2ded424985b9c02d0436008511)</td>\n",
              "      <td>(u:dDwF, en)</td>\n",
              "    </tr>\n",
              "    <tr>\n",
              "      <th>22</th>\n",
              "      <td>1.0</td>\n",
              "      <td>1362082274</td>\n",
              "      <td>1708699</td>\n",
              "      <td>u:dDwF</td>\n",
              "      <td>es</td>\n",
              "      <td>en</td>\n",
              "      <td>38b770e66595fea718366523b4f7db3f</td>\n",
              "      <td>libro/libro&lt;n&gt;&lt;m&gt;&lt;sg&gt;</td>\n",
              "      <td>8</td>\n",
              "      <td>8</td>\n",
              "      <td>4</td>\n",
              "      <td>4</td>\n",
              "      <td>(u:dDwF, 38b770e66595fea718366523b4f7db3f)</td>\n",
              "      <td>(u:dDwF, en)</td>\n",
              "    </tr>\n",
              "  </tbody>\n",
              "</table>\n",
              "</div>\n",
              "      <button class=\"colab-df-convert\" onclick=\"convertToInteractive('df-8a60cffe-9eef-4625-a97d-ed313c0609f8')\"\n",
              "              title=\"Convert this dataframe to an interactive table.\"\n",
              "              style=\"display:none;\">\n",
              "        \n",
              "  <svg xmlns=\"http://www.w3.org/2000/svg\" height=\"24px\"viewBox=\"0 0 24 24\"\n",
              "       width=\"24px\">\n",
              "    <path d=\"M0 0h24v24H0V0z\" fill=\"none\"/>\n",
              "    <path d=\"M18.56 5.44l.94 2.06.94-2.06 2.06-.94-2.06-.94-.94-2.06-.94 2.06-2.06.94zm-11 1L8.5 8.5l.94-2.06 2.06-.94-2.06-.94L8.5 2.5l-.94 2.06-2.06.94zm10 10l.94 2.06.94-2.06 2.06-.94-2.06-.94-.94-2.06-.94 2.06-2.06.94z\"/><path d=\"M17.41 7.96l-1.37-1.37c-.4-.4-.92-.59-1.43-.59-.52 0-1.04.2-1.43.59L10.3 9.45l-7.72 7.72c-.78.78-.78 2.05 0 2.83L4 21.41c.39.39.9.59 1.41.59.51 0 1.02-.2 1.41-.59l7.78-7.78 2.81-2.81c.8-.78.8-2.07 0-2.86zM5.41 20L4 18.59l7.72-7.72 1.47 1.35L5.41 20z\"/>\n",
              "  </svg>\n",
              "      </button>\n",
              "      \n",
              "  <style>\n",
              "    .colab-df-container {\n",
              "      display:flex;\n",
              "      flex-wrap:wrap;\n",
              "      gap: 12px;\n",
              "    }\n",
              "\n",
              "    .colab-df-convert {\n",
              "      background-color: #E8F0FE;\n",
              "      border: none;\n",
              "      border-radius: 50%;\n",
              "      cursor: pointer;\n",
              "      display: none;\n",
              "      fill: #1967D2;\n",
              "      height: 32px;\n",
              "      padding: 0 0 0 0;\n",
              "      width: 32px;\n",
              "    }\n",
              "\n",
              "    .colab-df-convert:hover {\n",
              "      background-color: #E2EBFA;\n",
              "      box-shadow: 0px 1px 2px rgba(60, 64, 67, 0.3), 0px 1px 3px 1px rgba(60, 64, 67, 0.15);\n",
              "      fill: #174EA6;\n",
              "    }\n",
              "\n",
              "    [theme=dark] .colab-df-convert {\n",
              "      background-color: #3B4455;\n",
              "      fill: #D2E3FC;\n",
              "    }\n",
              "\n",
              "    [theme=dark] .colab-df-convert:hover {\n",
              "      background-color: #434B5C;\n",
              "      box-shadow: 0px 1px 3px 1px rgba(0, 0, 0, 0.15);\n",
              "      filter: drop-shadow(0px 1px 2px rgba(0, 0, 0, 0.3));\n",
              "      fill: #FFFFFF;\n",
              "    }\n",
              "  </style>\n",
              "\n",
              "      <script>\n",
              "        const buttonEl =\n",
              "          document.querySelector('#df-8a60cffe-9eef-4625-a97d-ed313c0609f8 button.colab-df-convert');\n",
              "        buttonEl.style.display =\n",
              "          google.colab.kernel.accessAllowed ? 'block' : 'none';\n",
              "\n",
              "        async function convertToInteractive(key) {\n",
              "          const element = document.querySelector('#df-8a60cffe-9eef-4625-a97d-ed313c0609f8');\n",
              "          const dataTable =\n",
              "            await google.colab.kernel.invokeFunction('convertToInteractive',\n",
              "                                                     [key], {});\n",
              "          if (!dataTable) return;\n",
              "\n",
              "          const docLinkHtml = 'Like what you see? Visit the ' +\n",
              "            '<a target=\"_blank\" href=https://colab.research.google.com/notebooks/data_table.ipynb>data table notebook</a>'\n",
              "            + ' to learn more about interactive tables.';\n",
              "          element.innerHTML = '';\n",
              "          dataTable['output_type'] = 'display_data';\n",
              "          await google.colab.output.renderOutput(dataTable, element);\n",
              "          const docLink = document.createElement('div');\n",
              "          docLink.innerHTML = docLinkHtml;\n",
              "          element.appendChild(docLink);\n",
              "        }\n",
              "      </script>\n",
              "    </div>\n",
              "  </div>\n",
              "  "
            ]
          },
          "metadata": {},
          "execution_count": 4
        }
      ]
    },
    {
      "cell_type": "markdown",
      "source": [
        "For now, without looking at individual time traces of student-word, we will just look at student id, delta, history fraction, and see if we can predict if they forgot the word. (the difficulty of the word being captured in history fraction)"
      ],
      "metadata": {
        "id": "zUzZsL_0QPHv"
      }
    },
    {
      "cell_type": "code",
      "source": [
        "datadfq1['user_id'].value_counts().sort_values(ascending=False).head(3)"
      ],
      "metadata": {
        "colab": {
          "base_uri": "https://localhost:8080/"
        },
        "id": "u8fjcB6JQOfJ",
        "outputId": "e0199572-ffcf-41d4-e438-9ebcafff0f26"
      },
      "execution_count": 36,
      "outputs": [
        {
          "output_type": "execute_result",
          "data": {
            "text/plain": [
              "u:bcH_    12629\n",
              "u:IY_      5528\n",
              "u:hDLF     5147\n",
              "Name: user_id, dtype: int64"
            ]
          },
          "metadata": {},
          "execution_count": 36
        }
      ]
    },
    {
      "cell_type": "markdown",
      "source": [
        "We can use u:bcH_ as an example to train on. "
      ],
      "metadata": {
        "id": "IxkR1bQYZ9NS"
      }
    },
    {
      "cell_type": "code",
      "source": [
        "q1lexemes = decompress_pickle(path_name+\"q1_lexeme_features.pbz2\")"
      ],
      "metadata": {
        "id": "fwgyZrDg5Pj8"
      },
      "execution_count": 37,
      "outputs": []
    },
    {
      "cell_type": "code",
      "source": [
        "user1 = datadfq1.sample(frac = 0.005)\n",
        "user1.shape[0]"
      ],
      "metadata": {
        "colab": {
          "base_uri": "https://localhost:8080/"
        },
        "id": "ZLcJgAEh4pZY",
        "outputId": "56b5bed7-667c-4221-de4d-02af580f1196"
      },
      "execution_count": 38,
      "outputs": [
        {
          "output_type": "execute_result",
          "data": {
            "text/plain": [
              "36567"
            ]
          },
          "metadata": {},
          "execution_count": 38
        }
      ]
    },
    {
      "cell_type": "code",
      "source": [
        "user1.head()"
      ],
      "metadata": {
        "colab": {
          "base_uri": "https://localhost:8080/",
          "height": 357
        },
        "id": "V0OHwEtB5Tt-",
        "outputId": "b161018c-da03-483b-88b7-52ac531ecf40"
      },
      "execution_count": 39,
      "outputs": [
        {
          "output_type": "execute_result",
          "data": {
            "text/plain": [
              "         p_recall   timestamp    delta user_id learning_language ui_language  \\\n",
              "5443174       1.0  1362515220      894  u:hV3_                it          en   \n",
              "8182373       1.0  1362709519  4881311  u:gbmG                en          pt   \n",
              "9272344       1.0  1362800928      151  u:iM2C                fr          en   \n",
              "3443791       1.0  1362356098   153802  u:iu7q                fr          en   \n",
              "6121377       1.0  1362567928      255  u:h2wS                it          en   \n",
              "\n",
              "                                lexeme_id                  lexeme_string  \\\n",
              "5443174  60ca04f13f84bd807301e4407f7b6f18  loro/lui<prn><tn><p3><mf><pl>   \n",
              "8182373  ca886bc339ea78c58abea6250665ad49           orange/orange<n><sg>   \n",
              "9272344  af9481e863fdda9560e1d5020b9cd9a0              bol/bol<n><m><sg>   \n",
              "3443791  7d5c9c888f97a47883c8c0065efd1cde                   oui/oui<adv>   \n",
              "6121377  3ac396fd4e13c7952bafa99fcfd02d29            mela/mela<n><f><sg>   \n",
              "\n",
              "         history_seen  history_correct  session_seen  session_correct  \\\n",
              "5443174            38               33             2                2   \n",
              "8182373            13                9             1                1   \n",
              "9272344             5                5             3                3   \n",
              "3443791             3                2             3                3   \n",
              "6121377            26               24             2                2   \n",
              "\n",
              "                                       student_word  student_lang  \n",
              "5443174  (u:hV3_, 60ca04f13f84bd807301e4407f7b6f18)  (u:hV3_, en)  \n",
              "8182373  (u:gbmG, ca886bc339ea78c58abea6250665ad49)  (u:gbmG, pt)  \n",
              "9272344  (u:iM2C, af9481e863fdda9560e1d5020b9cd9a0)  (u:iM2C, en)  \n",
              "3443791  (u:iu7q, 7d5c9c888f97a47883c8c0065efd1cde)  (u:iu7q, en)  \n",
              "6121377  (u:h2wS, 3ac396fd4e13c7952bafa99fcfd02d29)  (u:h2wS, en)  "
            ],
            "text/html": [
              "\n",
              "  <div id=\"df-4963d19a-362f-41af-8082-65c9c6bab0dd\">\n",
              "    <div class=\"colab-df-container\">\n",
              "      <div>\n",
              "<style scoped>\n",
              "    .dataframe tbody tr th:only-of-type {\n",
              "        vertical-align: middle;\n",
              "    }\n",
              "\n",
              "    .dataframe tbody tr th {\n",
              "        vertical-align: top;\n",
              "    }\n",
              "\n",
              "    .dataframe thead th {\n",
              "        text-align: right;\n",
              "    }\n",
              "</style>\n",
              "<table border=\"1\" class=\"dataframe\">\n",
              "  <thead>\n",
              "    <tr style=\"text-align: right;\">\n",
              "      <th></th>\n",
              "      <th>p_recall</th>\n",
              "      <th>timestamp</th>\n",
              "      <th>delta</th>\n",
              "      <th>user_id</th>\n",
              "      <th>learning_language</th>\n",
              "      <th>ui_language</th>\n",
              "      <th>lexeme_id</th>\n",
              "      <th>lexeme_string</th>\n",
              "      <th>history_seen</th>\n",
              "      <th>history_correct</th>\n",
              "      <th>session_seen</th>\n",
              "      <th>session_correct</th>\n",
              "      <th>student_word</th>\n",
              "      <th>student_lang</th>\n",
              "    </tr>\n",
              "  </thead>\n",
              "  <tbody>\n",
              "    <tr>\n",
              "      <th>5443174</th>\n",
              "      <td>1.0</td>\n",
              "      <td>1362515220</td>\n",
              "      <td>894</td>\n",
              "      <td>u:hV3_</td>\n",
              "      <td>it</td>\n",
              "      <td>en</td>\n",
              "      <td>60ca04f13f84bd807301e4407f7b6f18</td>\n",
              "      <td>loro/lui&lt;prn&gt;&lt;tn&gt;&lt;p3&gt;&lt;mf&gt;&lt;pl&gt;</td>\n",
              "      <td>38</td>\n",
              "      <td>33</td>\n",
              "      <td>2</td>\n",
              "      <td>2</td>\n",
              "      <td>(u:hV3_, 60ca04f13f84bd807301e4407f7b6f18)</td>\n",
              "      <td>(u:hV3_, en)</td>\n",
              "    </tr>\n",
              "    <tr>\n",
              "      <th>8182373</th>\n",
              "      <td>1.0</td>\n",
              "      <td>1362709519</td>\n",
              "      <td>4881311</td>\n",
              "      <td>u:gbmG</td>\n",
              "      <td>en</td>\n",
              "      <td>pt</td>\n",
              "      <td>ca886bc339ea78c58abea6250665ad49</td>\n",
              "      <td>orange/orange&lt;n&gt;&lt;sg&gt;</td>\n",
              "      <td>13</td>\n",
              "      <td>9</td>\n",
              "      <td>1</td>\n",
              "      <td>1</td>\n",
              "      <td>(u:gbmG, ca886bc339ea78c58abea6250665ad49)</td>\n",
              "      <td>(u:gbmG, pt)</td>\n",
              "    </tr>\n",
              "    <tr>\n",
              "      <th>9272344</th>\n",
              "      <td>1.0</td>\n",
              "      <td>1362800928</td>\n",
              "      <td>151</td>\n",
              "      <td>u:iM2C</td>\n",
              "      <td>fr</td>\n",
              "      <td>en</td>\n",
              "      <td>af9481e863fdda9560e1d5020b9cd9a0</td>\n",
              "      <td>bol/bol&lt;n&gt;&lt;m&gt;&lt;sg&gt;</td>\n",
              "      <td>5</td>\n",
              "      <td>5</td>\n",
              "      <td>3</td>\n",
              "      <td>3</td>\n",
              "      <td>(u:iM2C, af9481e863fdda9560e1d5020b9cd9a0)</td>\n",
              "      <td>(u:iM2C, en)</td>\n",
              "    </tr>\n",
              "    <tr>\n",
              "      <th>3443791</th>\n",
              "      <td>1.0</td>\n",
              "      <td>1362356098</td>\n",
              "      <td>153802</td>\n",
              "      <td>u:iu7q</td>\n",
              "      <td>fr</td>\n",
              "      <td>en</td>\n",
              "      <td>7d5c9c888f97a47883c8c0065efd1cde</td>\n",
              "      <td>oui/oui&lt;adv&gt;</td>\n",
              "      <td>3</td>\n",
              "      <td>2</td>\n",
              "      <td>3</td>\n",
              "      <td>3</td>\n",
              "      <td>(u:iu7q, 7d5c9c888f97a47883c8c0065efd1cde)</td>\n",
              "      <td>(u:iu7q, en)</td>\n",
              "    </tr>\n",
              "    <tr>\n",
              "      <th>6121377</th>\n",
              "      <td>1.0</td>\n",
              "      <td>1362567928</td>\n",
              "      <td>255</td>\n",
              "      <td>u:h2wS</td>\n",
              "      <td>it</td>\n",
              "      <td>en</td>\n",
              "      <td>3ac396fd4e13c7952bafa99fcfd02d29</td>\n",
              "      <td>mela/mela&lt;n&gt;&lt;f&gt;&lt;sg&gt;</td>\n",
              "      <td>26</td>\n",
              "      <td>24</td>\n",
              "      <td>2</td>\n",
              "      <td>2</td>\n",
              "      <td>(u:h2wS, 3ac396fd4e13c7952bafa99fcfd02d29)</td>\n",
              "      <td>(u:h2wS, en)</td>\n",
              "    </tr>\n",
              "  </tbody>\n",
              "</table>\n",
              "</div>\n",
              "      <button class=\"colab-df-convert\" onclick=\"convertToInteractive('df-4963d19a-362f-41af-8082-65c9c6bab0dd')\"\n",
              "              title=\"Convert this dataframe to an interactive table.\"\n",
              "              style=\"display:none;\">\n",
              "        \n",
              "  <svg xmlns=\"http://www.w3.org/2000/svg\" height=\"24px\"viewBox=\"0 0 24 24\"\n",
              "       width=\"24px\">\n",
              "    <path d=\"M0 0h24v24H0V0z\" fill=\"none\"/>\n",
              "    <path d=\"M18.56 5.44l.94 2.06.94-2.06 2.06-.94-2.06-.94-.94-2.06-.94 2.06-2.06.94zm-11 1L8.5 8.5l.94-2.06 2.06-.94-2.06-.94L8.5 2.5l-.94 2.06-2.06.94zm10 10l.94 2.06.94-2.06 2.06-.94-2.06-.94-.94-2.06-.94 2.06-2.06.94z\"/><path d=\"M17.41 7.96l-1.37-1.37c-.4-.4-.92-.59-1.43-.59-.52 0-1.04.2-1.43.59L10.3 9.45l-7.72 7.72c-.78.78-.78 2.05 0 2.83L4 21.41c.39.39.9.59 1.41.59.51 0 1.02-.2 1.41-.59l7.78-7.78 2.81-2.81c.8-.78.8-2.07 0-2.86zM5.41 20L4 18.59l7.72-7.72 1.47 1.35L5.41 20z\"/>\n",
              "  </svg>\n",
              "      </button>\n",
              "      \n",
              "  <style>\n",
              "    .colab-df-container {\n",
              "      display:flex;\n",
              "      flex-wrap:wrap;\n",
              "      gap: 12px;\n",
              "    }\n",
              "\n",
              "    .colab-df-convert {\n",
              "      background-color: #E8F0FE;\n",
              "      border: none;\n",
              "      border-radius: 50%;\n",
              "      cursor: pointer;\n",
              "      display: none;\n",
              "      fill: #1967D2;\n",
              "      height: 32px;\n",
              "      padding: 0 0 0 0;\n",
              "      width: 32px;\n",
              "    }\n",
              "\n",
              "    .colab-df-convert:hover {\n",
              "      background-color: #E2EBFA;\n",
              "      box-shadow: 0px 1px 2px rgba(60, 64, 67, 0.3), 0px 1px 3px 1px rgba(60, 64, 67, 0.15);\n",
              "      fill: #174EA6;\n",
              "    }\n",
              "\n",
              "    [theme=dark] .colab-df-convert {\n",
              "      background-color: #3B4455;\n",
              "      fill: #D2E3FC;\n",
              "    }\n",
              "\n",
              "    [theme=dark] .colab-df-convert:hover {\n",
              "      background-color: #434B5C;\n",
              "      box-shadow: 0px 1px 3px 1px rgba(0, 0, 0, 0.15);\n",
              "      filter: drop-shadow(0px 1px 2px rgba(0, 0, 0, 0.3));\n",
              "      fill: #FFFFFF;\n",
              "    }\n",
              "  </style>\n",
              "\n",
              "      <script>\n",
              "        const buttonEl =\n",
              "          document.querySelector('#df-4963d19a-362f-41af-8082-65c9c6bab0dd button.colab-df-convert');\n",
              "        buttonEl.style.display =\n",
              "          google.colab.kernel.accessAllowed ? 'block' : 'none';\n",
              "\n",
              "        async function convertToInteractive(key) {\n",
              "          const element = document.querySelector('#df-4963d19a-362f-41af-8082-65c9c6bab0dd');\n",
              "          const dataTable =\n",
              "            await google.colab.kernel.invokeFunction('convertToInteractive',\n",
              "                                                     [key], {});\n",
              "          if (!dataTable) return;\n",
              "\n",
              "          const docLinkHtml = 'Like what you see? Visit the ' +\n",
              "            '<a target=\"_blank\" href=https://colab.research.google.com/notebooks/data_table.ipynb>data table notebook</a>'\n",
              "            + ' to learn more about interactive tables.';\n",
              "          element.innerHTML = '';\n",
              "          dataTable['output_type'] = 'display_data';\n",
              "          await google.colab.output.renderOutput(dataTable, element);\n",
              "          const docLink = document.createElement('div');\n",
              "          docLink.innerHTML = docLinkHtml;\n",
              "          element.appendChild(docLink);\n",
              "        }\n",
              "      </script>\n",
              "    </div>\n",
              "  </div>\n",
              "  "
            ]
          },
          "metadata": {},
          "execution_count": 39
        }
      ]
    },
    {
      "cell_type": "code",
      "source": [
        "user1['history_frac'] = user1['history_correct']/user1['history_seen']\n",
        "user1 = user1[['delta','history_frac','p_recall','history_seen','session_seen','lexeme_id','timestamp']] # added session seen.\n",
        "user1['p_forgot'] = 1 - user1['p_recall']\n",
        "user1['p_forgot_bin'] = np.where(user1['p_forgot']>0,1,0).astype(int)\n",
        "user1 = user1.drop(['p_forgot'],axis=1)\n",
        "\n",
        "q1lexemes_sub = q1lexemes#q1lexemes[['lexeme_id','learning_language','sf_length','pos']+[col for col in q1lexemes.columns if (q1lexemes[col].dtype!='object')]]\n",
        "user1_1 = pd.merge(left = user1, right = q1lexemes_sub,left_on = 'lexeme_id',right_on = 'lexeme_id',how='left')\n",
        "user1_1 = user1_1.drop(['p_recall','lexeme_id','timestamp'],axis=1)"
      ],
      "metadata": {
        "colab": {
          "base_uri": "https://localhost:8080/"
        },
        "outputId": "b37d353f-bbc1-4e00-c1f3-dd8fd3318ba2",
        "id": "FF9kxB0VyWXC"
      },
      "execution_count": 40,
      "outputs": [
        {
          "output_type": "stream",
          "name": "stderr",
          "text": [
            "/usr/local/lib/python3.7/dist-packages/ipykernel_launcher.py:3: SettingWithCopyWarning: \n",
            "A value is trying to be set on a copy of a slice from a DataFrame.\n",
            "Try using .loc[row_indexer,col_indexer] = value instead\n",
            "\n",
            "See the caveats in the documentation: https://pandas.pydata.org/pandas-docs/stable/user_guide/indexing.html#returning-a-view-versus-a-copy\n",
            "  This is separate from the ipykernel package so we can avoid doing imports until\n",
            "/usr/local/lib/python3.7/dist-packages/ipykernel_launcher.py:4: SettingWithCopyWarning: \n",
            "A value is trying to be set on a copy of a slice from a DataFrame.\n",
            "Try using .loc[row_indexer,col_indexer] = value instead\n",
            "\n",
            "See the caveats in the documentation: https://pandas.pydata.org/pandas-docs/stable/user_guide/indexing.html#returning-a-view-versus-a-copy\n",
            "  after removing the cwd from sys.path.\n"
          ]
        }
      ]
    },
    {
      "cell_type": "code",
      "source": [
        "user1_1['partofspeech'] = [user1_1['pos'].loc[i][0] for i in range(user1_1['pos'].shape[0])]\n",
        "posdummies = pd.get_dummies(user1_1['partofspeech'],drop_first=True,prefix='POS')\n",
        "lldummies = pd.get_dummies(user1_1['learning_language'],drop_first=True, prefix= 'LL')\n",
        "uildummies = pd.get_dummies(user1_1['learning_language'],drop_first=True, prefix= 'UIL')\n",
        "user1_1 = pd.concat([user1_1,posdummies,lldummies,uildummies],axis=1)\n",
        "user1_1 = user1_1.drop(['partofspeech','pos','index'],axis=1)\n",
        "user1_1.head()\n",
        "\n"
      ],
      "metadata": {
        "colab": {
          "base_uri": "https://localhost:8080/",
          "height": 369
        },
        "outputId": "161a77b2-2605-4066-bfca-33f90ded857a",
        "id": "hewtC7usyWXC"
      },
      "execution_count": 41,
      "outputs": [
        {
          "output_type": "execute_result",
          "data": {
            "text/plain": [
              "     delta  history_frac  history_seen  session_seen  p_forgot_bin  \\\n",
              "0      894      0.868421            38             2             0   \n",
              "1  4881311      0.692308            13             1             0   \n",
              "2      151      1.000000             5             3             0   \n",
              "3   153802      0.666667             3             3             0   \n",
              "4      255      0.923077            26             2             0   \n",
              "\n",
              "  learning_language                  lexeme_string surface_form lemma_form  \\\n",
              "0                it  loro/lui<prn><tn><p3><mf><pl>         loro        lui   \n",
              "1                en           orange/orange<n><sg>       orange     orange   \n",
              "2                fr              bol/bol<n><m><sg>          bol        bol   \n",
              "3                fr                   oui/oui<adv>          oui        oui   \n",
              "4                it            mela/mela<n><f><sg>         mela       mela   \n",
              "\n",
              "         modstrings  ...  POS_vbmod  POS_vbser  LL_es  LL_fr  LL_it  LL_pt  \\\n",
              "0  [tn, p3, mf, pl]  ...          0          0      0      0      1      0   \n",
              "1              [sg]  ...          0          0      0      0      0      0   \n",
              "2           [m, sg]  ...          0          0      0      1      0      0   \n",
              "3                []  ...          0          0      0      1      0      0   \n",
              "4           [f, sg]  ...          0          0      0      0      1      0   \n",
              "\n",
              "   UIL_es  UIL_fr  UIL_it  UIL_pt  \n",
              "0       0       0       1       0  \n",
              "1       0       0       0       0  \n",
              "2       0       1       0       0  \n",
              "3       0       1       0       0  \n",
              "4       0       0       1       0  \n",
              "\n",
              "[5 rows x 2291 columns]"
            ],
            "text/html": [
              "\n",
              "  <div id=\"df-1f8368de-ce19-415b-9211-3b42ffe53e4e\">\n",
              "    <div class=\"colab-df-container\">\n",
              "      <div>\n",
              "<style scoped>\n",
              "    .dataframe tbody tr th:only-of-type {\n",
              "        vertical-align: middle;\n",
              "    }\n",
              "\n",
              "    .dataframe tbody tr th {\n",
              "        vertical-align: top;\n",
              "    }\n",
              "\n",
              "    .dataframe thead th {\n",
              "        text-align: right;\n",
              "    }\n",
              "</style>\n",
              "<table border=\"1\" class=\"dataframe\">\n",
              "  <thead>\n",
              "    <tr style=\"text-align: right;\">\n",
              "      <th></th>\n",
              "      <th>delta</th>\n",
              "      <th>history_frac</th>\n",
              "      <th>history_seen</th>\n",
              "      <th>session_seen</th>\n",
              "      <th>p_forgot_bin</th>\n",
              "      <th>learning_language</th>\n",
              "      <th>lexeme_string</th>\n",
              "      <th>surface_form</th>\n",
              "      <th>lemma_form</th>\n",
              "      <th>modstrings</th>\n",
              "      <th>...</th>\n",
              "      <th>POS_vbmod</th>\n",
              "      <th>POS_vbser</th>\n",
              "      <th>LL_es</th>\n",
              "      <th>LL_fr</th>\n",
              "      <th>LL_it</th>\n",
              "      <th>LL_pt</th>\n",
              "      <th>UIL_es</th>\n",
              "      <th>UIL_fr</th>\n",
              "      <th>UIL_it</th>\n",
              "      <th>UIL_pt</th>\n",
              "    </tr>\n",
              "  </thead>\n",
              "  <tbody>\n",
              "    <tr>\n",
              "      <th>0</th>\n",
              "      <td>894</td>\n",
              "      <td>0.868421</td>\n",
              "      <td>38</td>\n",
              "      <td>2</td>\n",
              "      <td>0</td>\n",
              "      <td>it</td>\n",
              "      <td>loro/lui&lt;prn&gt;&lt;tn&gt;&lt;p3&gt;&lt;mf&gt;&lt;pl&gt;</td>\n",
              "      <td>loro</td>\n",
              "      <td>lui</td>\n",
              "      <td>[tn, p3, mf, pl]</td>\n",
              "      <td>...</td>\n",
              "      <td>0</td>\n",
              "      <td>0</td>\n",
              "      <td>0</td>\n",
              "      <td>0</td>\n",
              "      <td>1</td>\n",
              "      <td>0</td>\n",
              "      <td>0</td>\n",
              "      <td>0</td>\n",
              "      <td>1</td>\n",
              "      <td>0</td>\n",
              "    </tr>\n",
              "    <tr>\n",
              "      <th>1</th>\n",
              "      <td>4881311</td>\n",
              "      <td>0.692308</td>\n",
              "      <td>13</td>\n",
              "      <td>1</td>\n",
              "      <td>0</td>\n",
              "      <td>en</td>\n",
              "      <td>orange/orange&lt;n&gt;&lt;sg&gt;</td>\n",
              "      <td>orange</td>\n",
              "      <td>orange</td>\n",
              "      <td>[sg]</td>\n",
              "      <td>...</td>\n",
              "      <td>0</td>\n",
              "      <td>0</td>\n",
              "      <td>0</td>\n",
              "      <td>0</td>\n",
              "      <td>0</td>\n",
              "      <td>0</td>\n",
              "      <td>0</td>\n",
              "      <td>0</td>\n",
              "      <td>0</td>\n",
              "      <td>0</td>\n",
              "    </tr>\n",
              "    <tr>\n",
              "      <th>2</th>\n",
              "      <td>151</td>\n",
              "      <td>1.000000</td>\n",
              "      <td>5</td>\n",
              "      <td>3</td>\n",
              "      <td>0</td>\n",
              "      <td>fr</td>\n",
              "      <td>bol/bol&lt;n&gt;&lt;m&gt;&lt;sg&gt;</td>\n",
              "      <td>bol</td>\n",
              "      <td>bol</td>\n",
              "      <td>[m, sg]</td>\n",
              "      <td>...</td>\n",
              "      <td>0</td>\n",
              "      <td>0</td>\n",
              "      <td>0</td>\n",
              "      <td>1</td>\n",
              "      <td>0</td>\n",
              "      <td>0</td>\n",
              "      <td>0</td>\n",
              "      <td>1</td>\n",
              "      <td>0</td>\n",
              "      <td>0</td>\n",
              "    </tr>\n",
              "    <tr>\n",
              "      <th>3</th>\n",
              "      <td>153802</td>\n",
              "      <td>0.666667</td>\n",
              "      <td>3</td>\n",
              "      <td>3</td>\n",
              "      <td>0</td>\n",
              "      <td>fr</td>\n",
              "      <td>oui/oui&lt;adv&gt;</td>\n",
              "      <td>oui</td>\n",
              "      <td>oui</td>\n",
              "      <td>[]</td>\n",
              "      <td>...</td>\n",
              "      <td>0</td>\n",
              "      <td>0</td>\n",
              "      <td>0</td>\n",
              "      <td>1</td>\n",
              "      <td>0</td>\n",
              "      <td>0</td>\n",
              "      <td>0</td>\n",
              "      <td>1</td>\n",
              "      <td>0</td>\n",
              "      <td>0</td>\n",
              "    </tr>\n",
              "    <tr>\n",
              "      <th>4</th>\n",
              "      <td>255</td>\n",
              "      <td>0.923077</td>\n",
              "      <td>26</td>\n",
              "      <td>2</td>\n",
              "      <td>0</td>\n",
              "      <td>it</td>\n",
              "      <td>mela/mela&lt;n&gt;&lt;f&gt;&lt;sg&gt;</td>\n",
              "      <td>mela</td>\n",
              "      <td>mela</td>\n",
              "      <td>[f, sg]</td>\n",
              "      <td>...</td>\n",
              "      <td>0</td>\n",
              "      <td>0</td>\n",
              "      <td>0</td>\n",
              "      <td>0</td>\n",
              "      <td>1</td>\n",
              "      <td>0</td>\n",
              "      <td>0</td>\n",
              "      <td>0</td>\n",
              "      <td>1</td>\n",
              "      <td>0</td>\n",
              "    </tr>\n",
              "  </tbody>\n",
              "</table>\n",
              "<p>5 rows × 2291 columns</p>\n",
              "</div>\n",
              "      <button class=\"colab-df-convert\" onclick=\"convertToInteractive('df-1f8368de-ce19-415b-9211-3b42ffe53e4e')\"\n",
              "              title=\"Convert this dataframe to an interactive table.\"\n",
              "              style=\"display:none;\">\n",
              "        \n",
              "  <svg xmlns=\"http://www.w3.org/2000/svg\" height=\"24px\"viewBox=\"0 0 24 24\"\n",
              "       width=\"24px\">\n",
              "    <path d=\"M0 0h24v24H0V0z\" fill=\"none\"/>\n",
              "    <path d=\"M18.56 5.44l.94 2.06.94-2.06 2.06-.94-2.06-.94-.94-2.06-.94 2.06-2.06.94zm-11 1L8.5 8.5l.94-2.06 2.06-.94-2.06-.94L8.5 2.5l-.94 2.06-2.06.94zm10 10l.94 2.06.94-2.06 2.06-.94-2.06-.94-.94-2.06-.94 2.06-2.06.94z\"/><path d=\"M17.41 7.96l-1.37-1.37c-.4-.4-.92-.59-1.43-.59-.52 0-1.04.2-1.43.59L10.3 9.45l-7.72 7.72c-.78.78-.78 2.05 0 2.83L4 21.41c.39.39.9.59 1.41.59.51 0 1.02-.2 1.41-.59l7.78-7.78 2.81-2.81c.8-.78.8-2.07 0-2.86zM5.41 20L4 18.59l7.72-7.72 1.47 1.35L5.41 20z\"/>\n",
              "  </svg>\n",
              "      </button>\n",
              "      \n",
              "  <style>\n",
              "    .colab-df-container {\n",
              "      display:flex;\n",
              "      flex-wrap:wrap;\n",
              "      gap: 12px;\n",
              "    }\n",
              "\n",
              "    .colab-df-convert {\n",
              "      background-color: #E8F0FE;\n",
              "      border: none;\n",
              "      border-radius: 50%;\n",
              "      cursor: pointer;\n",
              "      display: none;\n",
              "      fill: #1967D2;\n",
              "      height: 32px;\n",
              "      padding: 0 0 0 0;\n",
              "      width: 32px;\n",
              "    }\n",
              "\n",
              "    .colab-df-convert:hover {\n",
              "      background-color: #E2EBFA;\n",
              "      box-shadow: 0px 1px 2px rgba(60, 64, 67, 0.3), 0px 1px 3px 1px rgba(60, 64, 67, 0.15);\n",
              "      fill: #174EA6;\n",
              "    }\n",
              "\n",
              "    [theme=dark] .colab-df-convert {\n",
              "      background-color: #3B4455;\n",
              "      fill: #D2E3FC;\n",
              "    }\n",
              "\n",
              "    [theme=dark] .colab-df-convert:hover {\n",
              "      background-color: #434B5C;\n",
              "      box-shadow: 0px 1px 3px 1px rgba(0, 0, 0, 0.15);\n",
              "      filter: drop-shadow(0px 1px 2px rgba(0, 0, 0, 0.3));\n",
              "      fill: #FFFFFF;\n",
              "    }\n",
              "  </style>\n",
              "\n",
              "      <script>\n",
              "        const buttonEl =\n",
              "          document.querySelector('#df-1f8368de-ce19-415b-9211-3b42ffe53e4e button.colab-df-convert');\n",
              "        buttonEl.style.display =\n",
              "          google.colab.kernel.accessAllowed ? 'block' : 'none';\n",
              "\n",
              "        async function convertToInteractive(key) {\n",
              "          const element = document.querySelector('#df-1f8368de-ce19-415b-9211-3b42ffe53e4e');\n",
              "          const dataTable =\n",
              "            await google.colab.kernel.invokeFunction('convertToInteractive',\n",
              "                                                     [key], {});\n",
              "          if (!dataTable) return;\n",
              "\n",
              "          const docLinkHtml = 'Like what you see? Visit the ' +\n",
              "            '<a target=\"_blank\" href=https://colab.research.google.com/notebooks/data_table.ipynb>data table notebook</a>'\n",
              "            + ' to learn more about interactive tables.';\n",
              "          element.innerHTML = '';\n",
              "          dataTable['output_type'] = 'display_data';\n",
              "          await google.colab.output.renderOutput(dataTable, element);\n",
              "          const docLink = document.createElement('div');\n",
              "          docLink.innerHTML = docLinkHtml;\n",
              "          element.appendChild(docLink);\n",
              "        }\n",
              "      </script>\n",
              "    </div>\n",
              "  </div>\n",
              "  "
            ]
          },
          "metadata": {},
          "execution_count": 41
        }
      ]
    },
    {
      "cell_type": "code",
      "source": [
        "user1_1 = user1_1.select_dtypes(exclude='object')"
      ],
      "metadata": {
        "id": "RF69NL_Ky7BM"
      },
      "execution_count": 42,
      "outputs": []
    },
    {
      "cell_type": "code",
      "source": [
        "from sklearn.model_selection import train_test_split\n",
        "\n",
        "X = user1_1.drop('p_forgot_bin',axis=1)\n",
        "y = user1_1['p_forgot_bin']\n",
        "\n",
        "X_train_unscaled, X_test_unscaled, y_train, y_test = train_test_split(X,y,test_size=.1,stratify=y)"
      ],
      "metadata": {
        "id": "WN4GCrZAzMWo"
      },
      "execution_count": 43,
      "outputs": []
    },
    {
      "cell_type": "code",
      "source": [
        "from xgboost import XGBClassifier\n",
        "from sklearn.preprocessing import MinMaxScaler\n",
        "\n",
        "mm_scaler = MinMaxScaler()\n",
        "mm_scaler.fit(X_train_unscaled)\n",
        "X_mm_train = mm_scaler.transform(X_train_unscaled)\n",
        "X_mm_test = mm_scaler.transform(X_test_unscaled)\n",
        "XGB_model = XGBClassifier(num_feature = 5,subsample = 0.5)\n",
        "XGB_model.fit(X_mm_train, y_train)\n",
        "print(f\"XG Boost train set score: {XGB_model.score(X_mm_train, y_train)}\")\n",
        "print(f\"XG Boost test set score: {XGB_model.score(X_mm_test, y_test)}\")"
      ],
      "metadata": {
        "colab": {
          "base_uri": "https://localhost:8080/"
        },
        "outputId": "21256f2d-22d5-4960-ca59-44089268375c",
        "id": "vrxhrNl_zMWp"
      },
      "execution_count": 44,
      "outputs": [
        {
          "output_type": "stream",
          "name": "stdout",
          "text": [
            "XG Boost train set score: 0.8408690367669401\n",
            "XG Boost test set score: 0.8364779874213837\n"
          ]
        }
      ]
    },
    {
      "cell_type": "code",
      "source": [
        "y_train.value_counts(normalize=True)"
      ],
      "metadata": {
        "colab": {
          "base_uri": "https://localhost:8080/"
        },
        "id": "TAnUwRIU84TZ",
        "outputId": "9c1c1eae-edf2-4dea-d48c-b978cd14df02"
      },
      "execution_count": 48,
      "outputs": [
        {
          "output_type": "execute_result",
          "data": {
            "text/plain": [
              "0    0.838074\n",
              "1    0.161926\n",
              "Name: p_forgot_bin, dtype: float64"
            ]
          },
          "metadata": {},
          "execution_count": 48
        }
      ]
    },
    {
      "cell_type": "code",
      "source": [
        "y_probaXGB = XGB_model.predict_proba(X_mm_test)[:,1]"
      ],
      "metadata": {
        "id": "omVX8S9tzMWp"
      },
      "execution_count": 49,
      "outputs": []
    },
    {
      "cell_type": "code",
      "source": [
        "from sklearn.metrics import PrecisionRecallDisplay\n",
        "PrecisionRecallDisplay.from_predictions(y_test,y_probaXGB)"
      ],
      "metadata": {
        "colab": {
          "base_uri": "https://localhost:8080/",
          "height": 297
        },
        "outputId": "fd6a57c9-dcd9-446a-95ba-93b19cbfc524",
        "id": "sANHRri2zMWp"
      },
      "execution_count": 50,
      "outputs": [
        {
          "output_type": "execute_result",
          "data": {
            "text/plain": [
              "<sklearn.metrics._plot.precision_recall_curve.PrecisionRecallDisplay at 0x7f64eadea350>"
            ]
          },
          "metadata": {},
          "execution_count": 50
        },
        {
          "output_type": "display_data",
          "data": {
            "text/plain": [
              "<Figure size 432x288 with 1 Axes>"
            ],
            "image/png": "[encoded data removed]"
          },
          "metadata": {
            "needs_background": "light"
          }
        }
      ]
    },
    {
      "cell_type": "code",
      "source": [
        "from sklearn.ensemble import AdaBoostClassifier\n",
        "AB_model = AdaBoostClassifier(n_estimators=150, learning_rate=1)\n",
        "\n",
        "AB_model.fit(X_train_unscaled,y_train)\n",
        "y_probaAB = AB_model.predict_proba(X_test_unscaled)[:,1]"
      ],
      "metadata": {
        "id": "WD1dTYGLzwo6"
      },
      "execution_count": 51,
      "outputs": []
    },
    {
      "cell_type": "code",
      "source": [
        "from sklearn.metrics import accuracy_score, PrecisionRecallDisplay\n",
        "plt.figure()\n",
        "ax = plt.gca()\n",
        "PrecisionRecallDisplay.from_predictions(y_test,y_probaAB,ax=ax,label=\"AdaBoost\")\n",
        "PrecisionRecallDisplay.from_predictions(y_test,y_probaXGB,ax=ax,label=\"XGBoost\")\n",
        "plt.legend()\n",
        "plt.show()"
      ],
      "metadata": {
        "colab": {
          "base_uri": "https://localhost:8080/",
          "height": 279
        },
        "outputId": "3d036ebd-8dcd-4611-9f59-02924637ef84",
        "id": "a1Kz22lnzwo7"
      },
      "execution_count": 33,
      "outputs": [
        {
          "output_type": "display_data",
          "data": {
            "text/plain": [
              "<Figure size 432x288 with 1 Axes>"
            ],
            "image/png": "[encoded data removed]"
          },
          "metadata": {
            "needs_background": "light"
          }
        }
      ]
    },
    {
      "cell_type": "code",
      "source": [
        "pd.Series(dict(zip(X_test_unscaled.columns,AB_model.feature_importances_))).sort_values(ascending=False).head(10)"
      ],
      "metadata": {
        "colab": {
          "base_uri": "https://localhost:8080/"
        },
        "id": "b3A7PoJ30gSG",
        "outputId": "329faf50-bdf9-4341-d563-6211c62f9cff"
      },
      "execution_count": 52,
      "outputs": [
        {
          "output_type": "execute_result",
          "data": {
            "text/plain": [
              "delta           0.046667\n",
              "session_seen    0.046667\n",
              "history_frac    0.040000\n",
              "history_seen    0.020000\n",
              "dos             0.013333\n",
              "fa              0.006667\n",
              "form            0.006667\n",
              "ff              0.006667\n",
              "fes             0.006667\n",
              "fami            0.006667\n",
              "dtype: float64"
            ]
          },
          "metadata": {},
          "execution_count": 52
        }
      ]
    },
    {
      "cell_type": "markdown",
      "source": [
        "Take a subset of 20,000, and use all features. expect around baseline accuracy. "
      ],
      "metadata": {
        "id": "fxmlJII52he0"
      }
    }
  ]
}