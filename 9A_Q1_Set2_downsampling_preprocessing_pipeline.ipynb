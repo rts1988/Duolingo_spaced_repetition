{
  "nbformat": 4,
  "nbformat_minor": 0,
  "metadata": {
    "colab": {
      "provenance": [],
      "machine_shape": "hm",
      "collapsed_sections": [],
      "authorship_tag": "ABX9TyMuIQb3QwQpWL/OychxNzHM",
      "include_colab_link": true
    },
    "kernelspec": {
      "name": "python3",
      "display_name": "Python 3"
    },
    "language_info": {
      "name": "python"
    },
    "gpuClass": "standard"
  },
  "cells": [
    {
      "cell_type": "markdown",
      "metadata": {
        "id": "view-in-github",
        "colab_type": "text"
      },
      "source": [
        "<a href=\"https://colab.research.google.com/github/rts1988/Duolingo_spaced_repetition/blob/main/9A_Q1_Set2_downsampling_preprocessing_pipeline.ipynb\" target=\"_parent\"><img src=\"https://colab.research.google.com/assets/colab-badge.svg\" alt=\"Open In Colab\"/></a>"
      ]
    },
    {
      "cell_type": "markdown",
      "source": [
        "## <font color = 'cornflowerblue' size=4>Introduction</font>\n",
        "\n",
        "In this notebook, word vectors in addition to the lexeme strings and word features derived in previous notebooks are used as a feature set.\n",
        "\n",
        "Dataset is downsamples for balanced class weights. \n",
        "\n",
        "After, the  features are joined to the main Q1 training set.\n",
        "\n",
        "The same preprocessing pipeline will be used to transform the Q1test set. \n",
        "\n",
        "This will make both datasets ready for modeling. \n",
        "\n",
        "Since larger dimensions are being dealt with, high-RAM option is selected:"
      ],
      "metadata": {
        "id": "VlsUIwyQ5Dsr"
      }
    },
    {
      "cell_type": "code",
      "execution_count": null,
      "metadata": {
        "colab": {
          "base_uri": "https://localhost:8080/"
        },
        "id": "gUfGiXccKpih",
        "outputId": "c497130d-216c-4071-f40d-d105e815b0d2"
      },
      "outputs": [
        {
          "output_type": "stream",
          "name": "stdout",
          "text": [
            "Your runtime has 54.8 gigabytes of available RAM\n",
            "\n"
          ]
        }
      ],
      "source": [
        "from psutil import virtual_memory\n",
        "ram_gb = virtual_memory().total / 1e9\n",
        "print('Your runtime has {:.1f} gigabytes of available RAM\\n'.format(ram_gb))"
      ]
    },
    {
      "cell_type": "markdown",
      "source": [
        "Importing libraries and mounting google drive:"
      ],
      "metadata": {
        "id": "KXHUqwRH6SUz"
      }
    },
    {
      "cell_type": "code",
      "source": [
        "import bz2\n",
        "import pickle\n",
        "import _pickle as cPickle\n",
        "import pandas as pd\n",
        "import seaborn as sns\n",
        "import matplotlib.pyplot as plt\n",
        "import numpy as np\n",
        "\n",
        "from google.colab import drive\n",
        "drive.mount('/content/drive')\n",
        "\n",
        "def decompress_pickle(file):\n",
        " data = bz2.BZ2File(file, 'rb')\n",
        " data = cPickle.load(data)\n",
        " return data\n",
        "\n",
        "def compressed_pickle(title, data):  # do not add extension in filename\n",
        " with bz2.BZ2File(title + '.pbz2', 'w') as f: \n",
        "  cPickle.dump(data, f)\n",
        "\n",
        "path_name = '/content/drive/MyDrive/'"
      ],
      "metadata": {
        "colab": {
          "base_uri": "https://localhost:8080/"
        },
        "id": "UA8ZfcqKLCX9",
        "outputId": "72c750ad-a2a5-4789-ed72-c9acc4c4cbe1"
      },
      "execution_count": null,
      "outputs": [
        {
          "output_type": "stream",
          "name": "stdout",
          "text": [
            "Drive already mounted at /content/drive; to attempt to forcibly remount, call drive.mount(\"/content/drive\", force_remount=True).\n"
          ]
        }
      ]
    },
    {
      "cell_type": "markdown",
      "source": [
        "Loading Q1 train set:"
      ],
      "metadata": {
        "id": "zkV1ZUvZ6c-X"
      }
    },
    {
      "cell_type": "code",
      "source": [
        "q1train = decompress_pickle(path_name+\"Q1TRAIN.pbz2\") "
      ],
      "metadata": {
        "id": "dtSXcCK2LLU0"
      },
      "execution_count": null,
      "outputs": []
    },
    {
      "cell_type": "code",
      "source": [
        "q1train.head()"
      ],
      "metadata": {
        "colab": {
          "base_uri": "https://localhost:8080/",
          "height": 444
        },
        "id": "3cSN-QQl7KFL",
        "outputId": "23614c76-20af-4495-a882-3940c3f41adc"
      },
      "execution_count": null,
      "outputs": [
        {
          "output_type": "execute_result",
          "data": {
            "text/plain": [
              "     timestamp    delta user_id learning_language ui_language  \\\n",
              "7   1362082032   444407  u:dDwF                es          en   \n",
              "15  1362082130       77  u:dDwF                es          en   \n",
              "20  1362082274  1634777  u:dDwF                es          en   \n",
              "21  1362082274  1708699  u:dDwF                es          en   \n",
              "22  1362082274  1708699  u:dDwF                es          en   \n",
              "\n",
              "                           lexeme_id                 lexeme_string  \\\n",
              "7   73eecb492ca758ddab5371cf7b5cca32                 bajo/bajo<pr>   \n",
              "15  73eecb492ca758ddab5371cf7b5cca32                 bajo/bajo<pr>   \n",
              "20  c84476c460737d9fb905dca3d35ec995          niños/niño<n><m><pl>   \n",
              "21  1a913f2ded424985b9c02d0436008511  leo/leer<vblex><pri><p1><sg>   \n",
              "22  38b770e66595fea718366523b4f7db3f         libro/libro<n><m><sg>   \n",
              "\n",
              "    history_seen  history_correct  session_seen  session_correct  \\\n",
              "7              3                3             1                1   \n",
              "15             5                5             1                1   \n",
              "20             9                8             2                2   \n",
              "21             7                5             2                2   \n",
              "22             8                8             4                4   \n",
              "\n",
              "    p_forgot_bin  simoverdiff lang_frozenset            Datetime  delta_days  \\\n",
              "7              0     0.000159       (en, es) 2013-02-28 20:07:12    5.143600   \n",
              "15             0     0.000159       (en, es) 2013-02-28 20:08:50    0.000891   \n",
              "20             0     0.000159       (en, es) 2013-02-28 20:11:14   18.921030   \n",
              "21             0     0.000159       (en, es) 2013-02-28 20:11:14   19.776609   \n",
              "22             0     0.000159       (en, es) 2013-02-28 20:11:14   19.776609   \n",
              "\n",
              "    history_frac  \n",
              "7       1.000000  \n",
              "15      1.000000  \n",
              "20      0.888889  \n",
              "21      0.714286  \n",
              "22      1.000000  "
            ],
            "text/html": [
              "\n",
              "  <div id=\"df-7e76630d-9b64-4fcf-af1b-2beae8ed4452\">\n",
              "    <div class=\"colab-df-container\">\n",
              "      <div>\n",
              "<style scoped>\n",
              "    .dataframe tbody tr th:only-of-type {\n",
              "        vertical-align: middle;\n",
              "    }\n",
              "\n",
              "    .dataframe tbody tr th {\n",
              "        vertical-align: top;\n",
              "    }\n",
              "\n",
              "    .dataframe thead th {\n",
              "        text-align: right;\n",
              "    }\n",
              "</style>\n",
              "<table border=\"1\" class=\"dataframe\">\n",
              "  <thead>\n",
              "    <tr style=\"text-align: right;\">\n",
              "      <th></th>\n",
              "      <th>timestamp</th>\n",
              "      <th>delta</th>\n",
              "      <th>user_id</th>\n",
              "      <th>learning_language</th>\n",
              "      <th>ui_language</th>\n",
              "      <th>lexeme_id</th>\n",
              "      <th>lexeme_string</th>\n",
              "      <th>history_seen</th>\n",
              "      <th>history_correct</th>\n",
              "      <th>session_seen</th>\n",
              "      <th>session_correct</th>\n",
              "      <th>p_forgot_bin</th>\n",
              "      <th>simoverdiff</th>\n",
              "      <th>lang_frozenset</th>\n",
              "      <th>Datetime</th>\n",
              "      <th>delta_days</th>\n",
              "      <th>history_frac</th>\n",
              "    </tr>\n",
              "  </thead>\n",
              "  <tbody>\n",
              "    <tr>\n",
              "      <th>7</th>\n",
              "      <td>1362082032</td>\n",
              "      <td>444407</td>\n",
              "      <td>u:dDwF</td>\n",
              "      <td>es</td>\n",
              "      <td>en</td>\n",
              "      <td>73eecb492ca758ddab5371cf7b5cca32</td>\n",
              "      <td>bajo/bajo&lt;pr&gt;</td>\n",
              "      <td>3</td>\n",
              "      <td>3</td>\n",
              "      <td>1</td>\n",
              "      <td>1</td>\n",
              "      <td>0</td>\n",
              "      <td>0.000159</td>\n",
              "      <td>(en, es)</td>\n",
              "      <td>2013-02-28 20:07:12</td>\n",
              "      <td>5.143600</td>\n",
              "      <td>1.000000</td>\n",
              "    </tr>\n",
              "    <tr>\n",
              "      <th>15</th>\n",
              "      <td>1362082130</td>\n",
              "      <td>77</td>\n",
              "      <td>u:dDwF</td>\n",
              "      <td>es</td>\n",
              "      <td>en</td>\n",
              "      <td>73eecb492ca758ddab5371cf7b5cca32</td>\n",
              "      <td>bajo/bajo&lt;pr&gt;</td>\n",
              "      <td>5</td>\n",
              "      <td>5</td>\n",
              "      <td>1</td>\n",
              "      <td>1</td>\n",
              "      <td>0</td>\n",
              "      <td>0.000159</td>\n",
              "      <td>(en, es)</td>\n",
              "      <td>2013-02-28 20:08:50</td>\n",
              "      <td>0.000891</td>\n",
              "      <td>1.000000</td>\n",
              "    </tr>\n",
              "    <tr>\n",
              "      <th>20</th>\n",
              "      <td>1362082274</td>\n",
              "      <td>1634777</td>\n",
              "      <td>u:dDwF</td>\n",
              "      <td>es</td>\n",
              "      <td>en</td>\n",
              "      <td>c84476c460737d9fb905dca3d35ec995</td>\n",
              "      <td>niños/niño&lt;n&gt;&lt;m&gt;&lt;pl&gt;</td>\n",
              "      <td>9</td>\n",
              "      <td>8</td>\n",
              "      <td>2</td>\n",
              "      <td>2</td>\n",
              "      <td>0</td>\n",
              "      <td>0.000159</td>\n",
              "      <td>(en, es)</td>\n",
              "      <td>2013-02-28 20:11:14</td>\n",
              "      <td>18.921030</td>\n",
              "      <td>0.888889</td>\n",
              "    </tr>\n",
              "    <tr>\n",
              "      <th>21</th>\n",
              "      <td>1362082274</td>\n",
              "      <td>1708699</td>\n",
              "      <td>u:dDwF</td>\n",
              "      <td>es</td>\n",
              "      <td>en</td>\n",
              "      <td>1a913f2ded424985b9c02d0436008511</td>\n",
              "      <td>leo/leer&lt;vblex&gt;&lt;pri&gt;&lt;p1&gt;&lt;sg&gt;</td>\n",
              "      <td>7</td>\n",
              "      <td>5</td>\n",
              "      <td>2</td>\n",
              "      <td>2</td>\n",
              "      <td>0</td>\n",
              "      <td>0.000159</td>\n",
              "      <td>(en, es)</td>\n",
              "      <td>2013-02-28 20:11:14</td>\n",
              "      <td>19.776609</td>\n",
              "      <td>0.714286</td>\n",
              "    </tr>\n",
              "    <tr>\n",
              "      <th>22</th>\n",
              "      <td>1362082274</td>\n",
              "      <td>1708699</td>\n",
              "      <td>u:dDwF</td>\n",
              "      <td>es</td>\n",
              "      <td>en</td>\n",
              "      <td>38b770e66595fea718366523b4f7db3f</td>\n",
              "      <td>libro/libro&lt;n&gt;&lt;m&gt;&lt;sg&gt;</td>\n",
              "      <td>8</td>\n",
              "      <td>8</td>\n",
              "      <td>4</td>\n",
              "      <td>4</td>\n",
              "      <td>0</td>\n",
              "      <td>0.000159</td>\n",
              "      <td>(en, es)</td>\n",
              "      <td>2013-02-28 20:11:14</td>\n",
              "      <td>19.776609</td>\n",
              "      <td>1.000000</td>\n",
              "    </tr>\n",
              "  </tbody>\n",
              "</table>\n",
              "</div>\n",
              "      <button class=\"colab-df-convert\" onclick=\"convertToInteractive('df-7e76630d-9b64-4fcf-af1b-2beae8ed4452')\"\n",
              "              title=\"Convert this dataframe to an interactive table.\"\n",
              "              style=\"display:none;\">\n",
              "        \n",
              "  <svg xmlns=\"http://www.w3.org/2000/svg\" height=\"24px\"viewBox=\"0 0 24 24\"\n",
              "       width=\"24px\">\n",
              "    <path d=\"M0 0h24v24H0V0z\" fill=\"none\"/>\n",
              "    <path d=\"M18.56 5.44l.94 2.06.94-2.06 2.06-.94-2.06-.94-.94-2.06-.94 2.06-2.06.94zm-11 1L8.5 8.5l.94-2.06 2.06-.94-2.06-.94L8.5 2.5l-.94 2.06-2.06.94zm10 10l.94 2.06.94-2.06 2.06-.94-2.06-.94-.94-2.06-.94 2.06-2.06.94z\"/><path d=\"M17.41 7.96l-1.37-1.37c-.4-.4-.92-.59-1.43-.59-.52 0-1.04.2-1.43.59L10.3 9.45l-7.72 7.72c-.78.78-.78 2.05 0 2.83L4 21.41c.39.39.9.59 1.41.59.51 0 1.02-.2 1.41-.59l7.78-7.78 2.81-2.81c.8-.78.8-2.07 0-2.86zM5.41 20L4 18.59l7.72-7.72 1.47 1.35L5.41 20z\"/>\n",
              "  </svg>\n",
              "      </button>\n",
              "      \n",
              "  <style>\n",
              "    .colab-df-container {\n",
              "      display:flex;\n",
              "      flex-wrap:wrap;\n",
              "      gap: 12px;\n",
              "    }\n",
              "\n",
              "    .colab-df-convert {\n",
              "      background-color: #E8F0FE;\n",
              "      border: none;\n",
              "      border-radius: 50%;\n",
              "      cursor: pointer;\n",
              "      display: none;\n",
              "      fill: #1967D2;\n",
              "      height: 32px;\n",
              "      padding: 0 0 0 0;\n",
              "      width: 32px;\n",
              "    }\n",
              "\n",
              "    .colab-df-convert:hover {\n",
              "      background-color: #E2EBFA;\n",
              "      box-shadow: 0px 1px 2px rgba(60, 64, 67, 0.3), 0px 1px 3px 1px rgba(60, 64, 67, 0.15);\n",
              "      fill: #174EA6;\n",
              "    }\n",
              "\n",
              "    [theme=dark] .colab-df-convert {\n",
              "      background-color: #3B4455;\n",
              "      fill: #D2E3FC;\n",
              "    }\n",
              "\n",
              "    [theme=dark] .colab-df-convert:hover {\n",
              "      background-color: #434B5C;\n",
              "      box-shadow: 0px 1px 3px 1px rgba(0, 0, 0, 0.15);\n",
              "      filter: drop-shadow(0px 1px 2px rgba(0, 0, 0, 0.3));\n",
              "      fill: #FFFFFF;\n",
              "    }\n",
              "  </style>\n",
              "\n",
              "      <script>\n",
              "        const buttonEl =\n",
              "          document.querySelector('#df-7e76630d-9b64-4fcf-af1b-2beae8ed4452 button.colab-df-convert');\n",
              "        buttonEl.style.display =\n",
              "          google.colab.kernel.accessAllowed ? 'block' : 'none';\n",
              "\n",
              "        async function convertToInteractive(key) {\n",
              "          const element = document.querySelector('#df-7e76630d-9b64-4fcf-af1b-2beae8ed4452');\n",
              "          const dataTable =\n",
              "            await google.colab.kernel.invokeFunction('convertToInteractive',\n",
              "                                                     [key], {});\n",
              "          if (!dataTable) return;\n",
              "\n",
              "          const docLinkHtml = 'Like what you see? Visit the ' +\n",
              "            '<a target=\"_blank\" href=https://colab.research.google.com/notebooks/data_table.ipynb>data table notebook</a>'\n",
              "            + ' to learn more about interactive tables.';\n",
              "          element.innerHTML = '';\n",
              "          dataTable['output_type'] = 'display_data';\n",
              "          await google.colab.output.renderOutput(dataTable, element);\n",
              "          const docLink = document.createElement('div');\n",
              "          docLink.innerHTML = docLinkHtml;\n",
              "          element.appendChild(docLink);\n",
              "        }\n",
              "      </script>\n",
              "    </div>\n",
              "  </div>\n",
              "  "
            ]
          },
          "metadata": {},
          "execution_count": 4
        }
      ]
    },
    {
      "cell_type": "markdown",
      "source": [
        "Downsampling to reasonable size:"
      ],
      "metadata": {
        "id": "MU_nDQwtXkt7"
      }
    },
    {
      "cell_type": "code",
      "source": [
        "# creating dataframe from sparse matrix\n",
        "df = q1train.drop('p_forgot_bin',axis=1)\n",
        "# combining with y\n",
        "df['y'] = q1train['p_forgot_bin']\n",
        "\n",
        "# nsplitting sparse dataframe by class values\n",
        "df0 = df[df['y']==0]\n",
        "df1 = df[df['y']==1]\n",
        "\n",
        "# number of positive samples\n",
        "numdf1 = df1.shape[0]\n",
        "\n",
        "# what fraction of df0 do we need to equal the numbers of df1?\n",
        "fractiondf0 = numdf1/df0.shape[0]\n",
        "\n",
        "# sampling from negative class samples to get only the fraction needed \n",
        "df0_ = df0.sample(frac = fractiondf0,random_state = 15)\n",
        "\n",
        "# recombine and shuffle downsampled negative samples df0_ and all of positive samples df1:\n",
        "df_downsampled = pd.concat([df0_, df1],axis=0).sample(frac=1,random_state=20)\n",
        "\n",
        "df_downsampled = df_downsampled.sample(frac=0.5,random_state=25)"
      ],
      "metadata": {
        "id": "b27zX0afyQrB"
      },
      "execution_count": null,
      "outputs": []
    },
    {
      "cell_type": "code",
      "source": [
        "# create the sparse matrices ready for training\n",
        "q1trainy = df_downsampled['y']\n",
        "q1trainX = df_downsampled.drop('y',axis=1)\n",
        "\n",
        "q1trainX['p_forgot_bin'] = q1trainy\n",
        "q1train = q1trainX"
      ],
      "metadata": {
        "id": "0HrMjwbb3xHI"
      },
      "execution_count": null,
      "outputs": []
    },
    {
      "cell_type": "code",
      "source": [
        "q1trainX.shape"
      ],
      "metadata": {
        "colab": {
          "base_uri": "https://localhost:8080/"
        },
        "id": "pN7J4QOkYTv6",
        "outputId": "13d60b59-d6a6-44f1-8086-8a7309f3374c"
      },
      "execution_count": null,
      "outputs": [
        {
          "output_type": "execute_result",
          "data": {
            "text/plain": [
              "(1319735, 17)"
            ]
          },
          "metadata": {},
          "execution_count": 7
        }
      ]
    },
    {
      "cell_type": "code",
      "source": [
        "q1trainy.sum()/q1trainy.shape[0]"
      ],
      "metadata": {
        "colab": {
          "base_uri": "https://localhost:8080/"
        },
        "id": "e3_GeSfziKUh",
        "outputId": "3a0d9fce-9b91-45c6-8017-4f7302e56c17"
      },
      "execution_count": null,
      "outputs": [
        {
          "output_type": "execute_result",
          "data": {
            "text/plain": [
              "0.49990566287929017"
            ]
          },
          "metadata": {},
          "execution_count": 8
        }
      ]
    },
    {
      "cell_type": "markdown",
      "source": [
        "To recap, above is a quick look at the contents of Q1TRAIN, the main dataframe. \n"
      ],
      "metadata": {
        "id": "BvfeHiEjtjmK"
      }
    },
    {
      "cell_type": "markdown",
      "source": [
        "Loading Q1 test set:"
      ],
      "metadata": {
        "id": "J49yAIM6_eqV"
      }
    },
    {
      "cell_type": "code",
      "source": [
        "q1test = decompress_pickle(path_name+\"Q1TEST.pbz2\")"
      ],
      "metadata": {
        "id": "3G8jzcA-_gEn"
      },
      "execution_count": null,
      "outputs": []
    },
    {
      "cell_type": "code",
      "source": [
        "q1test.head()"
      ],
      "metadata": {
        "colab": {
          "base_uri": "https://localhost:8080/",
          "height": 444
        },
        "id": "NoX878F47MAC",
        "outputId": "b66e6f2f-64aa-46e3-9fa3-7a2bfeb2930f"
      },
      "execution_count": null,
      "outputs": [
        {
          "output_type": "execute_result",
          "data": {
            "text/plain": [
              "     timestamp    delta user_id learning_language ui_language  \\\n",
              "23  1362082274   444649  u:dDwF                es          en   \n",
              "26  1362082274   678813  u:dDwF                es          en   \n",
              "30  1362082274  8562343  u:dDwF                es          en   \n",
              "41  1362082274  6645723  u:dDwF                es          en   \n",
              "50  1362082274  7239420  u:dDwF                es          en   \n",
              "\n",
              "                           lexeme_id                       lexeme_string  \\\n",
              "23  4bdb859f599fa07dd5eecdab0acc2d34                             a/a<pr>   \n",
              "26  64f2b1bdc5c91bb3f6ca1bb7a808b60a  quieres/querer<vblex><pri><p2><sg>   \n",
              "30  edf5a0ef6c836c4df4f3b3de76ca63ba             diario/diario<n><m><sg>   \n",
              "41  c2c8a202a12411858f87d4dcef5b2998                          no/no<adv>   \n",
              "50  81fe07635e2aa79cd36709cf1bdd81be               limón/limón<n><m><sg>   \n",
              "\n",
              "    history_seen  history_correct  session_seen  session_correct  \\\n",
              "23             3                3             1                1   \n",
              "26             3                3             1                1   \n",
              "30             3                3             3                3   \n",
              "41             5                5             1                1   \n",
              "50             3                2             2                2   \n",
              "\n",
              "    p_forgot_bin  simoverdiff lang_frozenset            Datetime  delta_days  \\\n",
              "23             0     0.000159       (en, es) 2013-02-28 20:11:14    5.146400   \n",
              "26             0     0.000159       (en, es) 2013-02-28 20:11:14    7.856632   \n",
              "30             0     0.000159       (en, es) 2013-02-28 20:11:14   99.101192   \n",
              "41             0     0.000159       (en, es) 2013-02-28 20:11:14   76.918090   \n",
              "50             0     0.000159       (en, es) 2013-02-28 20:11:14   83.789583   \n",
              "\n",
              "    history_frac  \n",
              "23      1.000000  \n",
              "26      1.000000  \n",
              "30      1.000000  \n",
              "41      1.000000  \n",
              "50      0.666667  "
            ],
            "text/html": [
              "\n",
              "  <div id=\"df-2c4564b1-96f2-4e7b-9ad7-d00617a22055\">\n",
              "    <div class=\"colab-df-container\">\n",
              "      <div>\n",
              "<style scoped>\n",
              "    .dataframe tbody tr th:only-of-type {\n",
              "        vertical-align: middle;\n",
              "    }\n",
              "\n",
              "    .dataframe tbody tr th {\n",
              "        vertical-align: top;\n",
              "    }\n",
              "\n",
              "    .dataframe thead th {\n",
              "        text-align: right;\n",
              "    }\n",
              "</style>\n",
              "<table border=\"1\" class=\"dataframe\">\n",
              "  <thead>\n",
              "    <tr style=\"text-align: right;\">\n",
              "      <th></th>\n",
              "      <th>timestamp</th>\n",
              "      <th>delta</th>\n",
              "      <th>user_id</th>\n",
              "      <th>learning_language</th>\n",
              "      <th>ui_language</th>\n",
              "      <th>lexeme_id</th>\n",
              "      <th>lexeme_string</th>\n",
              "      <th>history_seen</th>\n",
              "      <th>history_correct</th>\n",
              "      <th>session_seen</th>\n",
              "      <th>session_correct</th>\n",
              "      <th>p_forgot_bin</th>\n",
              "      <th>simoverdiff</th>\n",
              "      <th>lang_frozenset</th>\n",
              "      <th>Datetime</th>\n",
              "      <th>delta_days</th>\n",
              "      <th>history_frac</th>\n",
              "    </tr>\n",
              "  </thead>\n",
              "  <tbody>\n",
              "    <tr>\n",
              "      <th>23</th>\n",
              "      <td>1362082274</td>\n",
              "      <td>444649</td>\n",
              "      <td>u:dDwF</td>\n",
              "      <td>es</td>\n",
              "      <td>en</td>\n",
              "      <td>4bdb859f599fa07dd5eecdab0acc2d34</td>\n",
              "      <td>a/a&lt;pr&gt;</td>\n",
              "      <td>3</td>\n",
              "      <td>3</td>\n",
              "      <td>1</td>\n",
              "      <td>1</td>\n",
              "      <td>0</td>\n",
              "      <td>0.000159</td>\n",
              "      <td>(en, es)</td>\n",
              "      <td>2013-02-28 20:11:14</td>\n",
              "      <td>5.146400</td>\n",
              "      <td>1.000000</td>\n",
              "    </tr>\n",
              "    <tr>\n",
              "      <th>26</th>\n",
              "      <td>1362082274</td>\n",
              "      <td>678813</td>\n",
              "      <td>u:dDwF</td>\n",
              "      <td>es</td>\n",
              "      <td>en</td>\n",
              "      <td>64f2b1bdc5c91bb3f6ca1bb7a808b60a</td>\n",
              "      <td>quieres/querer&lt;vblex&gt;&lt;pri&gt;&lt;p2&gt;&lt;sg&gt;</td>\n",
              "      <td>3</td>\n",
              "      <td>3</td>\n",
              "      <td>1</td>\n",
              "      <td>1</td>\n",
              "      <td>0</td>\n",
              "      <td>0.000159</td>\n",
              "      <td>(en, es)</td>\n",
              "      <td>2013-02-28 20:11:14</td>\n",
              "      <td>7.856632</td>\n",
              "      <td>1.000000</td>\n",
              "    </tr>\n",
              "    <tr>\n",
              "      <th>30</th>\n",
              "      <td>1362082274</td>\n",
              "      <td>8562343</td>\n",
              "      <td>u:dDwF</td>\n",
              "      <td>es</td>\n",
              "      <td>en</td>\n",
              "      <td>edf5a0ef6c836c4df4f3b3de76ca63ba</td>\n",
              "      <td>diario/diario&lt;n&gt;&lt;m&gt;&lt;sg&gt;</td>\n",
              "      <td>3</td>\n",
              "      <td>3</td>\n",
              "      <td>3</td>\n",
              "      <td>3</td>\n",
              "      <td>0</td>\n",
              "      <td>0.000159</td>\n",
              "      <td>(en, es)</td>\n",
              "      <td>2013-02-28 20:11:14</td>\n",
              "      <td>99.101192</td>\n",
              "      <td>1.000000</td>\n",
              "    </tr>\n",
              "    <tr>\n",
              "      <th>41</th>\n",
              "      <td>1362082274</td>\n",
              "      <td>6645723</td>\n",
              "      <td>u:dDwF</td>\n",
              "      <td>es</td>\n",
              "      <td>en</td>\n",
              "      <td>c2c8a202a12411858f87d4dcef5b2998</td>\n",
              "      <td>no/no&lt;adv&gt;</td>\n",
              "      <td>5</td>\n",
              "      <td>5</td>\n",
              "      <td>1</td>\n",
              "      <td>1</td>\n",
              "      <td>0</td>\n",
              "      <td>0.000159</td>\n",
              "      <td>(en, es)</td>\n",
              "      <td>2013-02-28 20:11:14</td>\n",
              "      <td>76.918090</td>\n",
              "      <td>1.000000</td>\n",
              "    </tr>\n",
              "    <tr>\n",
              "      <th>50</th>\n",
              "      <td>1362082274</td>\n",
              "      <td>7239420</td>\n",
              "      <td>u:dDwF</td>\n",
              "      <td>es</td>\n",
              "      <td>en</td>\n",
              "      <td>81fe07635e2aa79cd36709cf1bdd81be</td>\n",
              "      <td>limón/limón&lt;n&gt;&lt;m&gt;&lt;sg&gt;</td>\n",
              "      <td>3</td>\n",
              "      <td>2</td>\n",
              "      <td>2</td>\n",
              "      <td>2</td>\n",
              "      <td>0</td>\n",
              "      <td>0.000159</td>\n",
              "      <td>(en, es)</td>\n",
              "      <td>2013-02-28 20:11:14</td>\n",
              "      <td>83.789583</td>\n",
              "      <td>0.666667</td>\n",
              "    </tr>\n",
              "  </tbody>\n",
              "</table>\n",
              "</div>\n",
              "      <button class=\"colab-df-convert\" onclick=\"convertToInteractive('df-2c4564b1-96f2-4e7b-9ad7-d00617a22055')\"\n",
              "              title=\"Convert this dataframe to an interactive table.\"\n",
              "              style=\"display:none;\">\n",
              "        \n",
              "  <svg xmlns=\"http://www.w3.org/2000/svg\" height=\"24px\"viewBox=\"0 0 24 24\"\n",
              "       width=\"24px\">\n",
              "    <path d=\"M0 0h24v24H0V0z\" fill=\"none\"/>\n",
              "    <path d=\"M18.56 5.44l.94 2.06.94-2.06 2.06-.94-2.06-.94-.94-2.06-.94 2.06-2.06.94zm-11 1L8.5 8.5l.94-2.06 2.06-.94-2.06-.94L8.5 2.5l-.94 2.06-2.06.94zm10 10l.94 2.06.94-2.06 2.06-.94-2.06-.94-.94-2.06-.94 2.06-2.06.94z\"/><path d=\"M17.41 7.96l-1.37-1.37c-.4-.4-.92-.59-1.43-.59-.52 0-1.04.2-1.43.59L10.3 9.45l-7.72 7.72c-.78.78-.78 2.05 0 2.83L4 21.41c.39.39.9.59 1.41.59.51 0 1.02-.2 1.41-.59l7.78-7.78 2.81-2.81c.8-.78.8-2.07 0-2.86zM5.41 20L4 18.59l7.72-7.72 1.47 1.35L5.41 20z\"/>\n",
              "  </svg>\n",
              "      </button>\n",
              "      \n",
              "  <style>\n",
              "    .colab-df-container {\n",
              "      display:flex;\n",
              "      flex-wrap:wrap;\n",
              "      gap: 12px;\n",
              "    }\n",
              "\n",
              "    .colab-df-convert {\n",
              "      background-color: #E8F0FE;\n",
              "      border: none;\n",
              "      border-radius: 50%;\n",
              "      cursor: pointer;\n",
              "      display: none;\n",
              "      fill: #1967D2;\n",
              "      height: 32px;\n",
              "      padding: 0 0 0 0;\n",
              "      width: 32px;\n",
              "    }\n",
              "\n",
              "    .colab-df-convert:hover {\n",
              "      background-color: #E2EBFA;\n",
              "      box-shadow: 0px 1px 2px rgba(60, 64, 67, 0.3), 0px 1px 3px 1px rgba(60, 64, 67, 0.15);\n",
              "      fill: #174EA6;\n",
              "    }\n",
              "\n",
              "    [theme=dark] .colab-df-convert {\n",
              "      background-color: #3B4455;\n",
              "      fill: #D2E3FC;\n",
              "    }\n",
              "\n",
              "    [theme=dark] .colab-df-convert:hover {\n",
              "      background-color: #434B5C;\n",
              "      box-shadow: 0px 1px 3px 1px rgba(0, 0, 0, 0.15);\n",
              "      filter: drop-shadow(0px 1px 2px rgba(0, 0, 0, 0.3));\n",
              "      fill: #FFFFFF;\n",
              "    }\n",
              "  </style>\n",
              "\n",
              "      <script>\n",
              "        const buttonEl =\n",
              "          document.querySelector('#df-2c4564b1-96f2-4e7b-9ad7-d00617a22055 button.colab-df-convert');\n",
              "        buttonEl.style.display =\n",
              "          google.colab.kernel.accessAllowed ? 'block' : 'none';\n",
              "\n",
              "        async function convertToInteractive(key) {\n",
              "          const element = document.querySelector('#df-2c4564b1-96f2-4e7b-9ad7-d00617a22055');\n",
              "          const dataTable =\n",
              "            await google.colab.kernel.invokeFunction('convertToInteractive',\n",
              "                                                     [key], {});\n",
              "          if (!dataTable) return;\n",
              "\n",
              "          const docLinkHtml = 'Like what you see? Visit the ' +\n",
              "            '<a target=\"_blank\" href=https://colab.research.google.com/notebooks/data_table.ipynb>data table notebook</a>'\n",
              "            + ' to learn more about interactive tables.';\n",
              "          element.innerHTML = '';\n",
              "          dataTable['output_type'] = 'display_data';\n",
              "          await google.colab.output.renderOutput(dataTable, element);\n",
              "          const docLink = document.createElement('div');\n",
              "          docLink.innerHTML = docLinkHtml;\n",
              "          element.appendChild(docLink);\n",
              "        }\n",
              "      </script>\n",
              "    </div>\n",
              "  </div>\n",
              "  "
            ]
          },
          "metadata": {},
          "execution_count": 10
        }
      ]
    },
    {
      "cell_type": "markdown",
      "source": [
        "Confirming the shapes:"
      ],
      "metadata": {
        "id": "JwJIA6Fv6mnj"
      }
    },
    {
      "cell_type": "code",
      "source": [
        "q1train.shape, q1test.shape"
      ],
      "metadata": {
        "colab": {
          "base_uri": "https://localhost:8080/"
        },
        "id": "TJXD-QmwLNve",
        "outputId": "abf118c7-2015-4754-dd24-5c944050bffe"
      },
      "execution_count": null,
      "outputs": [
        {
          "output_type": "execute_result",
          "data": {
            "text/plain": [
              "((1319735, 17), (1795528, 17))"
            ]
          },
          "metadata": {},
          "execution_count": 11
        }
      ]
    },
    {
      "cell_type": "code",
      "source": [
        "q1train.size/10**6, q1test.size/10**6"
      ],
      "metadata": {
        "colab": {
          "base_uri": "https://localhost:8080/"
        },
        "id": "JtF6GiR3Lgxd",
        "outputId": "894ff0d5-69ec-4e4d-80d2-7067aa9ad86b"
      },
      "execution_count": null,
      "outputs": [
        {
          "output_type": "execute_result",
          "data": {
            "text/plain": [
              "(22.435495, 30.523976)"
            ]
          },
          "metadata": {},
          "execution_count": 12
        }
      ]
    },
    {
      "cell_type": "markdown",
      "source": [
        "List of lexeme ids in q1train dataframe:"
      ],
      "metadata": {
        "id": "vIzfbEK57CQS"
      }
    },
    {
      "cell_type": "code",
      "source": [
        "q1train_lexemelist = q1train['lexeme_id'].unique()"
      ],
      "metadata": {
        "id": "fbrcMnSj7EmP"
      },
      "execution_count": null,
      "outputs": []
    },
    {
      "cell_type": "code",
      "source": [
        "all_lexemes = decompress_pickle(path_name+\"Duolingo_all_lexemes.pbz2\")"
      ],
      "metadata": {
        "id": "DPG56uwYLPzE"
      },
      "execution_count": null,
      "outputs": []
    },
    {
      "cell_type": "code",
      "source": [
        "all_lexemes.shape"
      ],
      "metadata": {
        "colab": {
          "base_uri": "https://localhost:8080/"
        },
        "id": "ySoYJV_4Lcyz",
        "outputId": "d6f04cc4-43b1-43c9-c60d-e45aed8dbd9a"
      },
      "execution_count": null,
      "outputs": [
        {
          "output_type": "execute_result",
          "data": {
            "text/plain": [
              "(19279, 17)"
            ]
          },
          "metadata": {},
          "execution_count": 15
        }
      ]
    },
    {
      "cell_type": "markdown",
      "source": [
        "Filtering to only the words in the training set "
      ],
      "metadata": {
        "id": "24M_qimM64r0"
      }
    },
    {
      "cell_type": "code",
      "source": [
        "q1trainlexemes = all_lexemes.loc[all_lexemes['lexeme_id'].isin(q1train_lexemelist),:]"
      ],
      "metadata": {
        "id": "KSFtS9sMLe6m"
      },
      "execution_count": null,
      "outputs": []
    },
    {
      "cell_type": "code",
      "source": [
        "q1trainlexemes.columns, q1trainlexemes.shape"
      ],
      "metadata": {
        "colab": {
          "base_uri": "https://localhost:8080/"
        },
        "id": "1rkDyqxT9C1J",
        "outputId": "38eac1d1-34c4-4de4-c4a8-000574fb415a"
      },
      "execution_count": null,
      "outputs": [
        {
          "output_type": "execute_result",
          "data": {
            "text/plain": [
              "(Index(['lexeme_id', 'learning_language', 'lexeme_string', 'surface_form',\n",
              "        'lemma_form', 'pos', 'modstrings', 'sf_length', 'sf_translation',\n",
              "        'lf_translation', 'surface_form_no_accents', 'lemma_form_no_accents',\n",
              "        'L_dist_word_tup_sf_noaccents', 'L_dist_sf_noaccents',\n",
              "        'L_dist_sf_noaccents_norm', 'IDFword', 'EnglishIDF'],\n",
              "       dtype='object'), (9580, 17))"
            ]
          },
          "metadata": {},
          "execution_count": 17
        }
      ]
    },
    {
      "cell_type": "markdown",
      "source": [
        "Filtering out test set lexemes dataframe for transformation:"
      ],
      "metadata": {
        "id": "lpwzVtVUIq_I"
      }
    },
    {
      "cell_type": "code",
      "source": [
        "q1test_lexemelist = q1test['lexeme_id'].unique()\n",
        "q1testlexemes = all_lexemes.loc[all_lexemes['lexeme_id'].isin(q1test_lexemelist),:]"
      ],
      "metadata": {
        "id": "2u7AuHk6It7i"
      },
      "execution_count": null,
      "outputs": []
    },
    {
      "cell_type": "code",
      "source": [
        "q1testlexemes.shape"
      ],
      "metadata": {
        "colab": {
          "base_uri": "https://localhost:8080/"
        },
        "id": "4evzTh5lI-OR",
        "outputId": "ae0057f0-88f1-4fea-ca5c-34c6bb6a3826"
      },
      "execution_count": null,
      "outputs": [
        {
          "output_type": "execute_result",
          "data": {
            "text/plain": [
              "(2776, 17)"
            ]
          },
          "metadata": {},
          "execution_count": 19
        }
      ]
    },
    {
      "cell_type": "markdown",
      "source": [
        "Getting wordvectors."
      ],
      "metadata": {
        "id": "oZSyNfv3mAKY"
      }
    },
    {
      "cell_type": "code",
      "source": [
        "wordvecs = decompress_pickle(path_name+\"Duolingo_wordvectors.pbz2\")"
      ],
      "metadata": {
        "id": "vuogH73hl_nz"
      },
      "execution_count": null,
      "outputs": []
    },
    {
      "cell_type": "code",
      "source": [
        "wordvecs.head()"
      ],
      "metadata": {
        "colab": {
          "base_uri": "https://localhost:8080/",
          "height": 206
        },
        "id": "OFYCbVi34DFf",
        "outputId": "dfe40dab-d1b3-4eeb-91f0-d75a6b186ea2"
      },
      "execution_count": null,
      "outputs": [
        {
          "output_type": "execute_result",
          "data": {
            "text/plain": [
              "                          lexeme_id  \\\n",
              "0  76390c1350a8dac31186187e2fe1e178   \n",
              "1  7dfd7086f3671685e2cf1c1da72796d7   \n",
              "2  35a54c25a2cda8127343f6a82e6f6b7d   \n",
              "3  0cf63ffe3dda158bc3dbd55682b355ae   \n",
              "4  84920990d78044db53c1b012f5bf9ab5   \n",
              "\n",
              "                                          vectorlist  \n",
              "0  [-0.12485239869, 0.403838020553, -0.3502961037...  \n",
              "1  [0.0432688036856, -0.0914570974226, -0.1884847...  \n",
              "2  [-0.0895643525954, 0.208577167333, -0.06067782...  \n",
              "3  [0.0156379608103, 0.37910027723, -0.2013124868...  \n",
              "4  [0.0388741864242, 0.160898776301, -0.105828861...  "
            ],
            "text/html": [
              "\n",
              "  <div id=\"df-ebbe73e0-9fdf-47bb-a235-36fa0046b90a\">\n",
              "    <div class=\"colab-df-container\">\n",
              "      <div>\n",
              "<style scoped>\n",
              "    .dataframe tbody tr th:only-of-type {\n",
              "        vertical-align: middle;\n",
              "    }\n",
              "\n",
              "    .dataframe tbody tr th {\n",
              "        vertical-align: top;\n",
              "    }\n",
              "\n",
              "    .dataframe thead th {\n",
              "        text-align: right;\n",
              "    }\n",
              "</style>\n",
              "<table border=\"1\" class=\"dataframe\">\n",
              "  <thead>\n",
              "    <tr style=\"text-align: right;\">\n",
              "      <th></th>\n",
              "      <th>lexeme_id</th>\n",
              "      <th>vectorlist</th>\n",
              "    </tr>\n",
              "  </thead>\n",
              "  <tbody>\n",
              "    <tr>\n",
              "      <th>0</th>\n",
              "      <td>76390c1350a8dac31186187e2fe1e178</td>\n",
              "      <td>[-0.12485239869, 0.403838020553, -0.3502961037...</td>\n",
              "    </tr>\n",
              "    <tr>\n",
              "      <th>1</th>\n",
              "      <td>7dfd7086f3671685e2cf1c1da72796d7</td>\n",
              "      <td>[0.0432688036856, -0.0914570974226, -0.1884847...</td>\n",
              "    </tr>\n",
              "    <tr>\n",
              "      <th>2</th>\n",
              "      <td>35a54c25a2cda8127343f6a82e6f6b7d</td>\n",
              "      <td>[-0.0895643525954, 0.208577167333, -0.06067782...</td>\n",
              "    </tr>\n",
              "    <tr>\n",
              "      <th>3</th>\n",
              "      <td>0cf63ffe3dda158bc3dbd55682b355ae</td>\n",
              "      <td>[0.0156379608103, 0.37910027723, -0.2013124868...</td>\n",
              "    </tr>\n",
              "    <tr>\n",
              "      <th>4</th>\n",
              "      <td>84920990d78044db53c1b012f5bf9ab5</td>\n",
              "      <td>[0.0388741864242, 0.160898776301, -0.105828861...</td>\n",
              "    </tr>\n",
              "  </tbody>\n",
              "</table>\n",
              "</div>\n",
              "      <button class=\"colab-df-convert\" onclick=\"convertToInteractive('df-ebbe73e0-9fdf-47bb-a235-36fa0046b90a')\"\n",
              "              title=\"Convert this dataframe to an interactive table.\"\n",
              "              style=\"display:none;\">\n",
              "        \n",
              "  <svg xmlns=\"http://www.w3.org/2000/svg\" height=\"24px\"viewBox=\"0 0 24 24\"\n",
              "       width=\"24px\">\n",
              "    <path d=\"M0 0h24v24H0V0z\" fill=\"none\"/>\n",
              "    <path d=\"M18.56 5.44l.94 2.06.94-2.06 2.06-.94-2.06-.94-.94-2.06-.94 2.06-2.06.94zm-11 1L8.5 8.5l.94-2.06 2.06-.94-2.06-.94L8.5 2.5l-.94 2.06-2.06.94zm10 10l.94 2.06.94-2.06 2.06-.94-2.06-.94-.94-2.06-.94 2.06-2.06.94z\"/><path d=\"M17.41 7.96l-1.37-1.37c-.4-.4-.92-.59-1.43-.59-.52 0-1.04.2-1.43.59L10.3 9.45l-7.72 7.72c-.78.78-.78 2.05 0 2.83L4 21.41c.39.39.9.59 1.41.59.51 0 1.02-.2 1.41-.59l7.78-7.78 2.81-2.81c.8-.78.8-2.07 0-2.86zM5.41 20L4 18.59l7.72-7.72 1.47 1.35L5.41 20z\"/>\n",
              "  </svg>\n",
              "      </button>\n",
              "      \n",
              "  <style>\n",
              "    .colab-df-container {\n",
              "      display:flex;\n",
              "      flex-wrap:wrap;\n",
              "      gap: 12px;\n",
              "    }\n",
              "\n",
              "    .colab-df-convert {\n",
              "      background-color: #E8F0FE;\n",
              "      border: none;\n",
              "      border-radius: 50%;\n",
              "      cursor: pointer;\n",
              "      display: none;\n",
              "      fill: #1967D2;\n",
              "      height: 32px;\n",
              "      padding: 0 0 0 0;\n",
              "      width: 32px;\n",
              "    }\n",
              "\n",
              "    .colab-df-convert:hover {\n",
              "      background-color: #E2EBFA;\n",
              "      box-shadow: 0px 1px 2px rgba(60, 64, 67, 0.3), 0px 1px 3px 1px rgba(60, 64, 67, 0.15);\n",
              "      fill: #174EA6;\n",
              "    }\n",
              "\n",
              "    [theme=dark] .colab-df-convert {\n",
              "      background-color: #3B4455;\n",
              "      fill: #D2E3FC;\n",
              "    }\n",
              "\n",
              "    [theme=dark] .colab-df-convert:hover {\n",
              "      background-color: #434B5C;\n",
              "      box-shadow: 0px 1px 3px 1px rgba(0, 0, 0, 0.15);\n",
              "      filter: drop-shadow(0px 1px 2px rgba(0, 0, 0, 0.3));\n",
              "      fill: #FFFFFF;\n",
              "    }\n",
              "  </style>\n",
              "\n",
              "      <script>\n",
              "        const buttonEl =\n",
              "          document.querySelector('#df-ebbe73e0-9fdf-47bb-a235-36fa0046b90a button.colab-df-convert');\n",
              "        buttonEl.style.display =\n",
              "          google.colab.kernel.accessAllowed ? 'block' : 'none';\n",
              "\n",
              "        async function convertToInteractive(key) {\n",
              "          const element = document.querySelector('#df-ebbe73e0-9fdf-47bb-a235-36fa0046b90a');\n",
              "          const dataTable =\n",
              "            await google.colab.kernel.invokeFunction('convertToInteractive',\n",
              "                                                     [key], {});\n",
              "          if (!dataTable) return;\n",
              "\n",
              "          const docLinkHtml = 'Like what you see? Visit the ' +\n",
              "            '<a target=\"_blank\" href=https://colab.research.google.com/notebooks/data_table.ipynb>data table notebook</a>'\n",
              "            + ' to learn more about interactive tables.';\n",
              "          element.innerHTML = '';\n",
              "          dataTable['output_type'] = 'display_data';\n",
              "          await google.colab.output.renderOutput(dataTable, element);\n",
              "          const docLink = document.createElement('div');\n",
              "          docLink.innerHTML = docLinkHtml;\n",
              "          element.appendChild(docLink);\n",
              "        }\n",
              "      </script>\n",
              "    </div>\n",
              "  </div>\n",
              "  "
            ]
          },
          "metadata": {},
          "execution_count": 21
        }
      ]
    },
    {
      "cell_type": "markdown",
      "source": [
        "The vectors are currently contained in a single column holding numpy arrays. \n",
        "There are also some null values"
      ],
      "metadata": {
        "id": "1WeG7WuBvV-B"
      }
    },
    {
      "cell_type": "code",
      "source": [
        "wordvecs.isna().sum()"
      ],
      "metadata": {
        "colab": {
          "base_uri": "https://localhost:8080/"
        },
        "id": "8VNrsijRvdSk",
        "outputId": "af6de234-7086-4b56-f2ad-4d449c4246b9"
      },
      "execution_count": null,
      "outputs": [
        {
          "output_type": "execute_result",
          "data": {
            "text/plain": [
              "lexeme_id       0\n",
              "vectorlist    176\n",
              "dtype: int64"
            ]
          },
          "metadata": {},
          "execution_count": 22
        }
      ]
    },
    {
      "cell_type": "code",
      "source": [
        "176/wordvecs.shape[0]*100"
      ],
      "metadata": {
        "colab": {
          "base_uri": "https://localhost:8080/"
        },
        "id": "EVhBewwAvjQ9",
        "outputId": "6da27f7e-bb99-4198-9290-8e1b62e5b062"
      },
      "execution_count": null,
      "outputs": [
        {
          "output_type": "execute_result",
          "data": {
            "text/plain": [
              "0.9129104206649722"
            ]
          },
          "metadata": {},
          "execution_count": 23
        }
      ]
    },
    {
      "cell_type": "markdown",
      "source": [
        "Almost 1% of the vectors are null. \n",
        "They will be imputed within the train and test splits. "
      ],
      "metadata": {
        "id": "YljXhl9-vmtc"
      }
    },
    {
      "cell_type": "code",
      "source": [
        "q1trainvecs = wordvecs.loc[wordvecs['lexeme_id'].isin(q1train_lexemelist),:]\n",
        "\n",
        "# for non-na values\n",
        "notna = q1trainvecs.loc[~q1trainvecs['vectorlist'].isna(),:]\n",
        "q1trainvecs_notna_expanded = pd.DataFrame(notna['vectorlist'].tolist(),index = notna['lexeme_id'])\n",
        "\n",
        "\n",
        "# computing centroid for imputation of nulls \n",
        "q1trainvecs_centroid = q1trainvecs_notna_expanded.mean(axis=0)\n",
        "\n",
        "# separating out null valued rows\n",
        "is_na = q1trainvecs.loc[q1trainvecs['vectorlist'].isna(),:]\n",
        "is_na.index = is_na['lexeme_id']\n",
        "\n",
        "numnulls = is_na.shape[0]\n",
        "\n",
        "# imputing with centroid\n",
        "q1trainvecs_na_expanded = pd.concat([pd.DataFrame(q1trainvecs_centroid).transpose()]*numnulls,axis=0)\n",
        "q1trainvecs_na_expanded.index = is_na.index\n",
        "\n",
        "# joining imputed null with the rest, keeping index consistent\n",
        "q1trainvecs_expanded = pd.concat([q1trainvecs_na_expanded,q1trainvecs_notna_expanded],axis=0)\n",
        "\n",
        "# viewing first few rows:\n",
        "q1trainvecs_expanded.head()"
      ],
      "metadata": {
        "colab": {
          "base_uri": "https://localhost:8080/",
          "height": 331
        },
        "id": "cYCbFC7S4NeV",
        "outputId": "d6dbc84c-0295-42b1-bfe5-25ceb2e161cf"
      },
      "execution_count": null,
      "outputs": [
        {
          "output_type": "execute_result",
          "data": {
            "text/plain": [
              "                                       0         1         2       3    \\\n",
              "lexeme_id                                                                \n",
              "5377c84560aaf45988067be11302d1d8  0.143007  0.168539 -0.171652 -0.0112   \n",
              "eca9cad5e0a5d96f5db19271e2e3e122  0.143007  0.168539 -0.171652 -0.0112   \n",
              "5d09ea8ec2581f32fbfd1ce09fc21221  0.143007  0.168539 -0.171652 -0.0112   \n",
              "26133676f75f829992c823dd7402f9a3  0.143007  0.168539 -0.171652 -0.0112   \n",
              "276598aa526cf531bf27a78173452baf  0.143007  0.168539 -0.171652 -0.0112   \n",
              "\n",
              "                                       4         5         6         7    \\\n",
              "lexeme_id                                                                  \n",
              "5377c84560aaf45988067be11302d1d8  0.121196  0.002074 -0.018806 -0.072593   \n",
              "eca9cad5e0a5d96f5db19271e2e3e122  0.121196  0.002074 -0.018806 -0.072593   \n",
              "5d09ea8ec2581f32fbfd1ce09fc21221  0.121196  0.002074 -0.018806 -0.072593   \n",
              "26133676f75f829992c823dd7402f9a3  0.121196  0.002074 -0.018806 -0.072593   \n",
              "276598aa526cf531bf27a78173452baf  0.121196  0.002074 -0.018806 -0.072593   \n",
              "\n",
              "                                       8         9    ...       290       291  \\\n",
              "lexeme_id                                             ...                       \n",
              "5377c84560aaf45988067be11302d1d8  0.085114  1.221576  ... -0.154037  0.076133   \n",
              "eca9cad5e0a5d96f5db19271e2e3e122  0.085114  1.221576  ... -0.154037  0.076133   \n",
              "5d09ea8ec2581f32fbfd1ce09fc21221  0.085114  1.221576  ... -0.154037  0.076133   \n",
              "26133676f75f829992c823dd7402f9a3  0.085114  1.221576  ... -0.154037  0.076133   \n",
              "276598aa526cf531bf27a78173452baf  0.085114  1.221576  ... -0.154037  0.076133   \n",
              "\n",
              "                                       292       293     294       295  \\\n",
              "lexeme_id                                                                \n",
              "5377c84560aaf45988067be11302d1d8 -0.119719 -0.048785 -0.0055 -0.002385   \n",
              "eca9cad5e0a5d96f5db19271e2e3e122 -0.119719 -0.048785 -0.0055 -0.002385   \n",
              "5d09ea8ec2581f32fbfd1ce09fc21221 -0.119719 -0.048785 -0.0055 -0.002385   \n",
              "26133676f75f829992c823dd7402f9a3 -0.119719 -0.048785 -0.0055 -0.002385   \n",
              "276598aa526cf531bf27a78173452baf -0.119719 -0.048785 -0.0055 -0.002385   \n",
              "\n",
              "                                       296       297       298       299  \n",
              "lexeme_id                                                                 \n",
              "5377c84560aaf45988067be11302d1d8 -0.034318  0.013183 -0.071152  0.048246  \n",
              "eca9cad5e0a5d96f5db19271e2e3e122 -0.034318  0.013183 -0.071152  0.048246  \n",
              "5d09ea8ec2581f32fbfd1ce09fc21221 -0.034318  0.013183 -0.071152  0.048246  \n",
              "26133676f75f829992c823dd7402f9a3 -0.034318  0.013183 -0.071152  0.048246  \n",
              "276598aa526cf531bf27a78173452baf -0.034318  0.013183 -0.071152  0.048246  \n",
              "\n",
              "[5 rows x 300 columns]"
            ],
            "text/html": [
              "\n",
              "  <div id=\"df-e13aa264-5aa3-4d4b-a5a9-9aaa5002b103\">\n",
              "    <div class=\"colab-df-container\">\n",
              "      <div>\n",
              "<style scoped>\n",
              "    .dataframe tbody tr th:only-of-type {\n",
              "        vertical-align: middle;\n",
              "    }\n",
              "\n",
              "    .dataframe tbody tr th {\n",
              "        vertical-align: top;\n",
              "    }\n",
              "\n",
              "    .dataframe thead th {\n",
              "        text-align: right;\n",
              "    }\n",
              "</style>\n",
              "<table border=\"1\" class=\"dataframe\">\n",
              "  <thead>\n",
              "    <tr style=\"text-align: right;\">\n",
              "      <th></th>\n",
              "      <th>0</th>\n",
              "      <th>1</th>\n",
              "      <th>2</th>\n",
              "      <th>3</th>\n",
              "      <th>4</th>\n",
              "      <th>5</th>\n",
              "      <th>6</th>\n",
              "      <th>7</th>\n",
              "      <th>8</th>\n",
              "      <th>9</th>\n",
              "      <th>...</th>\n",
              "      <th>290</th>\n",
              "      <th>291</th>\n",
              "      <th>292</th>\n",
              "      <th>293</th>\n",
              "      <th>294</th>\n",
              "      <th>295</th>\n",
              "      <th>296</th>\n",
              "      <th>297</th>\n",
              "      <th>298</th>\n",
              "      <th>299</th>\n",
              "    </tr>\n",
              "    <tr>\n",
              "      <th>lexeme_id</th>\n",
              "      <th></th>\n",
              "      <th></th>\n",
              "      <th></th>\n",
              "      <th></th>\n",
              "      <th></th>\n",
              "      <th></th>\n",
              "      <th></th>\n",
              "      <th></th>\n",
              "      <th></th>\n",
              "      <th></th>\n",
              "      <th></th>\n",
              "      <th></th>\n",
              "      <th></th>\n",
              "      <th></th>\n",
              "      <th></th>\n",
              "      <th></th>\n",
              "      <th></th>\n",
              "      <th></th>\n",
              "      <th></th>\n",
              "      <th></th>\n",
              "      <th></th>\n",
              "    </tr>\n",
              "  </thead>\n",
              "  <tbody>\n",
              "    <tr>\n",
              "      <th>5377c84560aaf45988067be11302d1d8</th>\n",
              "      <td>0.143007</td>\n",
              "      <td>0.168539</td>\n",
              "      <td>-0.171652</td>\n",
              "      <td>-0.0112</td>\n",
              "      <td>0.121196</td>\n",
              "      <td>0.002074</td>\n",
              "      <td>-0.018806</td>\n",
              "      <td>-0.072593</td>\n",
              "      <td>0.085114</td>\n",
              "      <td>1.221576</td>\n",
              "      <td>...</td>\n",
              "      <td>-0.154037</td>\n",
              "      <td>0.076133</td>\n",
              "      <td>-0.119719</td>\n",
              "      <td>-0.048785</td>\n",
              "      <td>-0.0055</td>\n",
              "      <td>-0.002385</td>\n",
              "      <td>-0.034318</td>\n",
              "      <td>0.013183</td>\n",
              "      <td>-0.071152</td>\n",
              "      <td>0.048246</td>\n",
              "    </tr>\n",
              "    <tr>\n",
              "      <th>eca9cad5e0a5d96f5db19271e2e3e122</th>\n",
              "      <td>0.143007</td>\n",
              "      <td>0.168539</td>\n",
              "      <td>-0.171652</td>\n",
              "      <td>-0.0112</td>\n",
              "      <td>0.121196</td>\n",
              "      <td>0.002074</td>\n",
              "      <td>-0.018806</td>\n",
              "      <td>-0.072593</td>\n",
              "      <td>0.085114</td>\n",
              "      <td>1.221576</td>\n",
              "      <td>...</td>\n",
              "      <td>-0.154037</td>\n",
              "      <td>0.076133</td>\n",
              "      <td>-0.119719</td>\n",
              "      <td>-0.048785</td>\n",
              "      <td>-0.0055</td>\n",
              "      <td>-0.002385</td>\n",
              "      <td>-0.034318</td>\n",
              "      <td>0.013183</td>\n",
              "      <td>-0.071152</td>\n",
              "      <td>0.048246</td>\n",
              "    </tr>\n",
              "    <tr>\n",
              "      <th>5d09ea8ec2581f32fbfd1ce09fc21221</th>\n",
              "      <td>0.143007</td>\n",
              "      <td>0.168539</td>\n",
              "      <td>-0.171652</td>\n",
              "      <td>-0.0112</td>\n",
              "      <td>0.121196</td>\n",
              "      <td>0.002074</td>\n",
              "      <td>-0.018806</td>\n",
              "      <td>-0.072593</td>\n",
              "      <td>0.085114</td>\n",
              "      <td>1.221576</td>\n",
              "      <td>...</td>\n",
              "      <td>-0.154037</td>\n",
              "      <td>0.076133</td>\n",
              "      <td>-0.119719</td>\n",
              "      <td>-0.048785</td>\n",
              "      <td>-0.0055</td>\n",
              "      <td>-0.002385</td>\n",
              "      <td>-0.034318</td>\n",
              "      <td>0.013183</td>\n",
              "      <td>-0.071152</td>\n",
              "      <td>0.048246</td>\n",
              "    </tr>\n",
              "    <tr>\n",
              "      <th>26133676f75f829992c823dd7402f9a3</th>\n",
              "      <td>0.143007</td>\n",
              "      <td>0.168539</td>\n",
              "      <td>-0.171652</td>\n",
              "      <td>-0.0112</td>\n",
              "      <td>0.121196</td>\n",
              "      <td>0.002074</td>\n",
              "      <td>-0.018806</td>\n",
              "      <td>-0.072593</td>\n",
              "      <td>0.085114</td>\n",
              "      <td>1.221576</td>\n",
              "      <td>...</td>\n",
              "      <td>-0.154037</td>\n",
              "      <td>0.076133</td>\n",
              "      <td>-0.119719</td>\n",
              "      <td>-0.048785</td>\n",
              "      <td>-0.0055</td>\n",
              "      <td>-0.002385</td>\n",
              "      <td>-0.034318</td>\n",
              "      <td>0.013183</td>\n",
              "      <td>-0.071152</td>\n",
              "      <td>0.048246</td>\n",
              "    </tr>\n",
              "    <tr>\n",
              "      <th>276598aa526cf531bf27a78173452baf</th>\n",
              "      <td>0.143007</td>\n",
              "      <td>0.168539</td>\n",
              "      <td>-0.171652</td>\n",
              "      <td>-0.0112</td>\n",
              "      <td>0.121196</td>\n",
              "      <td>0.002074</td>\n",
              "      <td>-0.018806</td>\n",
              "      <td>-0.072593</td>\n",
              "      <td>0.085114</td>\n",
              "      <td>1.221576</td>\n",
              "      <td>...</td>\n",
              "      <td>-0.154037</td>\n",
              "      <td>0.076133</td>\n",
              "      <td>-0.119719</td>\n",
              "      <td>-0.048785</td>\n",
              "      <td>-0.0055</td>\n",
              "      <td>-0.002385</td>\n",
              "      <td>-0.034318</td>\n",
              "      <td>0.013183</td>\n",
              "      <td>-0.071152</td>\n",
              "      <td>0.048246</td>\n",
              "    </tr>\n",
              "  </tbody>\n",
              "</table>\n",
              "<p>5 rows × 300 columns</p>\n",
              "</div>\n",
              "      <button class=\"colab-df-convert\" onclick=\"convertToInteractive('df-e13aa264-5aa3-4d4b-a5a9-9aaa5002b103')\"\n",
              "              title=\"Convert this dataframe to an interactive table.\"\n",
              "              style=\"display:none;\">\n",
              "        \n",
              "  <svg xmlns=\"http://www.w3.org/2000/svg\" height=\"24px\"viewBox=\"0 0 24 24\"\n",
              "       width=\"24px\">\n",
              "    <path d=\"M0 0h24v24H0V0z\" fill=\"none\"/>\n",
              "    <path d=\"M18.56 5.44l.94 2.06.94-2.06 2.06-.94-2.06-.94-.94-2.06-.94 2.06-2.06.94zm-11 1L8.5 8.5l.94-2.06 2.06-.94-2.06-.94L8.5 2.5l-.94 2.06-2.06.94zm10 10l.94 2.06.94-2.06 2.06-.94-2.06-.94-.94-2.06-.94 2.06-2.06.94z\"/><path d=\"M17.41 7.96l-1.37-1.37c-.4-.4-.92-.59-1.43-.59-.52 0-1.04.2-1.43.59L10.3 9.45l-7.72 7.72c-.78.78-.78 2.05 0 2.83L4 21.41c.39.39.9.59 1.41.59.51 0 1.02-.2 1.41-.59l7.78-7.78 2.81-2.81c.8-.78.8-2.07 0-2.86zM5.41 20L4 18.59l7.72-7.72 1.47 1.35L5.41 20z\"/>\n",
              "  </svg>\n",
              "      </button>\n",
              "      \n",
              "  <style>\n",
              "    .colab-df-container {\n",
              "      display:flex;\n",
              "      flex-wrap:wrap;\n",
              "      gap: 12px;\n",
              "    }\n",
              "\n",
              "    .colab-df-convert {\n",
              "      background-color: #E8F0FE;\n",
              "      border: none;\n",
              "      border-radius: 50%;\n",
              "      cursor: pointer;\n",
              "      display: none;\n",
              "      fill: #1967D2;\n",
              "      height: 32px;\n",
              "      padding: 0 0 0 0;\n",
              "      width: 32px;\n",
              "    }\n",
              "\n",
              "    .colab-df-convert:hover {\n",
              "      background-color: #E2EBFA;\n",
              "      box-shadow: 0px 1px 2px rgba(60, 64, 67, 0.3), 0px 1px 3px 1px rgba(60, 64, 67, 0.15);\n",
              "      fill: #174EA6;\n",
              "    }\n",
              "\n",
              "    [theme=dark] .colab-df-convert {\n",
              "      background-color: #3B4455;\n",
              "      fill: #D2E3FC;\n",
              "    }\n",
              "\n",
              "    [theme=dark] .colab-df-convert:hover {\n",
              "      background-color: #434B5C;\n",
              "      box-shadow: 0px 1px 3px 1px rgba(0, 0, 0, 0.15);\n",
              "      filter: drop-shadow(0px 1px 2px rgba(0, 0, 0, 0.3));\n",
              "      fill: #FFFFFF;\n",
              "    }\n",
              "  </style>\n",
              "\n",
              "      <script>\n",
              "        const buttonEl =\n",
              "          document.querySelector('#df-e13aa264-5aa3-4d4b-a5a9-9aaa5002b103 button.colab-df-convert');\n",
              "        buttonEl.style.display =\n",
              "          google.colab.kernel.accessAllowed ? 'block' : 'none';\n",
              "\n",
              "        async function convertToInteractive(key) {\n",
              "          const element = document.querySelector('#df-e13aa264-5aa3-4d4b-a5a9-9aaa5002b103');\n",
              "          const dataTable =\n",
              "            await google.colab.kernel.invokeFunction('convertToInteractive',\n",
              "                                                     [key], {});\n",
              "          if (!dataTable) return;\n",
              "\n",
              "          const docLinkHtml = 'Like what you see? Visit the ' +\n",
              "            '<a target=\"_blank\" href=https://colab.research.google.com/notebooks/data_table.ipynb>data table notebook</a>'\n",
              "            + ' to learn more about interactive tables.';\n",
              "          element.innerHTML = '';\n",
              "          dataTable['output_type'] = 'display_data';\n",
              "          await google.colab.output.renderOutput(dataTable, element);\n",
              "          const docLink = document.createElement('div');\n",
              "          docLink.innerHTML = docLinkHtml;\n",
              "          element.appendChild(docLink);\n",
              "        }\n",
              "      </script>\n",
              "    </div>\n",
              "  </div>\n",
              "  "
            ]
          },
          "metadata": {},
          "execution_count": 24
        }
      ]
    },
    {
      "cell_type": "markdown",
      "source": [
        "The first few rows contain the now imputed with centroid rows.\n",
        "\n",
        "The wordvectors are combined with the train lexemes set to make feature set 2. "
      ],
      "metadata": {
        "id": "sTWT9M2UwF2D"
      }
    },
    {
      "cell_type": "code",
      "source": [
        "q1trainvecs = pd.merge(left = q1trainlexemes, right = q1trainvecs_expanded, how = \"left\",left_on = 'lexeme_id',right_index = True)\n",
        "q1trainvecs.shape"
      ],
      "metadata": {
        "colab": {
          "base_uri": "https://localhost:8080/"
        },
        "id": "IXCq6_WGpyW3",
        "outputId": "59b786c9-4760-4f3b-86d6-f53c6fdf12e0"
      },
      "execution_count": null,
      "outputs": [
        {
          "output_type": "execute_result",
          "data": {
            "text/plain": [
              "(9580, 317)"
            ]
          },
          "metadata": {},
          "execution_count": 25
        }
      ]
    },
    {
      "cell_type": "markdown",
      "source": [
        "The rest of the preprocessing is similar to that done in feature set 1: \n",
        "one-hot-encoding the language, part of speech and modifiers. \n",
        "\n",
        "A look at the current columns of q1trainlexemes:"
      ],
      "metadata": {
        "id": "SfaKc3-mwQg_"
      }
    },
    {
      "cell_type": "code",
      "source": [
        "q1trainlexemes = q1trainvecs\n",
        "q1trainlexemes.columns"
      ],
      "metadata": {
        "colab": {
          "base_uri": "https://localhost:8080/"
        },
        "id": "Uf3RQtpkqGvS",
        "outputId": "9f049909-1f71-4df2-b26a-6a50f54fd666"
      },
      "execution_count": null,
      "outputs": [
        {
          "output_type": "execute_result",
          "data": {
            "text/plain": [
              "Index([        'lexeme_id', 'learning_language',     'lexeme_string',\n",
              "            'surface_form',        'lemma_form',               'pos',\n",
              "              'modstrings',         'sf_length',    'sf_translation',\n",
              "          'lf_translation',\n",
              "       ...\n",
              "                       290,                 291,                 292,\n",
              "                       293,                 294,                 295,\n",
              "                       296,                 297,                 298,\n",
              "                       299],\n",
              "      dtype='object', length=317)"
            ]
          },
          "metadata": {},
          "execution_count": 26
        }
      ]
    },
    {
      "cell_type": "markdown",
      "source": [
        "At this point, Test set word vectors are prepared in the same way.\n",
        "\n",
        "The centroid computed above frmo the train set is used to impute missing vectors in the test set. "
      ],
      "metadata": {
        "id": "diGbgbOV79SS"
      }
    },
    {
      "cell_type": "code",
      "source": [
        "q1testvecs = wordvecs.loc[wordvecs['lexeme_id'].isin(q1test_lexemelist),:]\n",
        "\n",
        "# for non-na values, expanding the vectorlist columns so that one value is in one column: \n",
        "notna = q1testvecs.loc[~q1testvecs['vectorlist'].isna(),:]\n",
        "q1testvecs_notna_expanded = pd.DataFrame(notna['vectorlist'].tolist(),index = notna['lexeme_id'])\n",
        "\n",
        "\n",
        "# separating the null valued vectors\n",
        "is_na = q1testvecs.loc[q1testvecs['vectorlist'].isna(),:]\n",
        "numnulls = is_na.shape[0]\n",
        "print(numnulls)\n",
        "is_na.index = is_na['lexeme_id']\n",
        "\n",
        "# imputing null valued vector rows with centroid\n",
        "q1testvecs_na_expanded = pd.concat([pd.DataFrame(q1trainvecs_centroid).transpose()]*numnulls,axis=0)\n",
        "q1testvecs_na_expanded.index = is_na.index\n",
        "\n",
        "q1testvecs_expanded = pd.concat([q1testvecs_na_expanded,q1testvecs_notna_expanded],axis=0)\n",
        "\n",
        "# look at the first few rows:\n",
        "q1testvecs_expanded.head()"
      ],
      "metadata": {
        "colab": {
          "base_uri": "https://localhost:8080/",
          "height": 348
        },
        "outputId": "169cf8e2-4a80-49b4-a12f-54c8e8c68071",
        "id": "tlKa5NBr7_fi"
      },
      "execution_count": null,
      "outputs": [
        {
          "output_type": "stream",
          "name": "stdout",
          "text": [
            "19\n"
          ]
        },
        {
          "output_type": "execute_result",
          "data": {
            "text/plain": [
              "                                       0         1         2       3    \\\n",
              "lexeme_id                                                                \n",
              "3baca3559289e14345edc0c53f516033  0.143007  0.168539 -0.171652 -0.0112   \n",
              "883996f36cc186da5983b13384230a9f  0.143007  0.168539 -0.171652 -0.0112   \n",
              "fc1b93172eef30156a0b8c388c72571c  0.143007  0.168539 -0.171652 -0.0112   \n",
              "0c7c00989ed4b87cc6e704712beec291  0.143007  0.168539 -0.171652 -0.0112   \n",
              "a45c0dfd77553cf466546d8f42f2d34a  0.143007  0.168539 -0.171652 -0.0112   \n",
              "\n",
              "                                       4         5         6         7    \\\n",
              "lexeme_id                                                                  \n",
              "3baca3559289e14345edc0c53f516033  0.121196  0.002074 -0.018806 -0.072593   \n",
              "883996f36cc186da5983b13384230a9f  0.121196  0.002074 -0.018806 -0.072593   \n",
              "fc1b93172eef30156a0b8c388c72571c  0.121196  0.002074 -0.018806 -0.072593   \n",
              "0c7c00989ed4b87cc6e704712beec291  0.121196  0.002074 -0.018806 -0.072593   \n",
              "a45c0dfd77553cf466546d8f42f2d34a  0.121196  0.002074 -0.018806 -0.072593   \n",
              "\n",
              "                                       8         9    ...       290       291  \\\n",
              "lexeme_id                                             ...                       \n",
              "3baca3559289e14345edc0c53f516033  0.085114  1.221576  ... -0.154037  0.076133   \n",
              "883996f36cc186da5983b13384230a9f  0.085114  1.221576  ... -0.154037  0.076133   \n",
              "fc1b93172eef30156a0b8c388c72571c  0.085114  1.221576  ... -0.154037  0.076133   \n",
              "0c7c00989ed4b87cc6e704712beec291  0.085114  1.221576  ... -0.154037  0.076133   \n",
              "a45c0dfd77553cf466546d8f42f2d34a  0.085114  1.221576  ... -0.154037  0.076133   \n",
              "\n",
              "                                       292       293     294       295  \\\n",
              "lexeme_id                                                                \n",
              "3baca3559289e14345edc0c53f516033 -0.119719 -0.048785 -0.0055 -0.002385   \n",
              "883996f36cc186da5983b13384230a9f -0.119719 -0.048785 -0.0055 -0.002385   \n",
              "fc1b93172eef30156a0b8c388c72571c -0.119719 -0.048785 -0.0055 -0.002385   \n",
              "0c7c00989ed4b87cc6e704712beec291 -0.119719 -0.048785 -0.0055 -0.002385   \n",
              "a45c0dfd77553cf466546d8f42f2d34a -0.119719 -0.048785 -0.0055 -0.002385   \n",
              "\n",
              "                                       296       297       298       299  \n",
              "lexeme_id                                                                 \n",
              "3baca3559289e14345edc0c53f516033 -0.034318  0.013183 -0.071152  0.048246  \n",
              "883996f36cc186da5983b13384230a9f -0.034318  0.013183 -0.071152  0.048246  \n",
              "fc1b93172eef30156a0b8c388c72571c -0.034318  0.013183 -0.071152  0.048246  \n",
              "0c7c00989ed4b87cc6e704712beec291 -0.034318  0.013183 -0.071152  0.048246  \n",
              "a45c0dfd77553cf466546d8f42f2d34a -0.034318  0.013183 -0.071152  0.048246  \n",
              "\n",
              "[5 rows x 300 columns]"
            ],
            "text/html": [
              "\n",
              "  <div id=\"df-3f494a16-7776-4b54-9ebb-18f3c6aa439f\">\n",
              "    <div class=\"colab-df-container\">\n",
              "      <div>\n",
              "<style scoped>\n",
              "    .dataframe tbody tr th:only-of-type {\n",
              "        vertical-align: middle;\n",
              "    }\n",
              "\n",
              "    .dataframe tbody tr th {\n",
              "        vertical-align: top;\n",
              "    }\n",
              "\n",
              "    .dataframe thead th {\n",
              "        text-align: right;\n",
              "    }\n",
              "</style>\n",
              "<table border=\"1\" class=\"dataframe\">\n",
              "  <thead>\n",
              "    <tr style=\"text-align: right;\">\n",
              "      <th></th>\n",
              "      <th>0</th>\n",
              "      <th>1</th>\n",
              "      <th>2</th>\n",
              "      <th>3</th>\n",
              "      <th>4</th>\n",
              "      <th>5</th>\n",
              "      <th>6</th>\n",
              "      <th>7</th>\n",
              "      <th>8</th>\n",
              "      <th>9</th>\n",
              "      <th>...</th>\n",
              "      <th>290</th>\n",
              "      <th>291</th>\n",
              "      <th>292</th>\n",
              "      <th>293</th>\n",
              "      <th>294</th>\n",
              "      <th>295</th>\n",
              "      <th>296</th>\n",
              "      <th>297</th>\n",
              "      <th>298</th>\n",
              "      <th>299</th>\n",
              "    </tr>\n",
              "    <tr>\n",
              "      <th>lexeme_id</th>\n",
              "      <th></th>\n",
              "      <th></th>\n",
              "      <th></th>\n",
              "      <th></th>\n",
              "      <th></th>\n",
              "      <th></th>\n",
              "      <th></th>\n",
              "      <th></th>\n",
              "      <th></th>\n",
              "      <th></th>\n",
              "      <th></th>\n",
              "      <th></th>\n",
              "      <th></th>\n",
              "      <th></th>\n",
              "      <th></th>\n",
              "      <th></th>\n",
              "      <th></th>\n",
              "      <th></th>\n",
              "      <th></th>\n",
              "      <th></th>\n",
              "      <th></th>\n",
              "    </tr>\n",
              "  </thead>\n",
              "  <tbody>\n",
              "    <tr>\n",
              "      <th>3baca3559289e14345edc0c53f516033</th>\n",
              "      <td>0.143007</td>\n",
              "      <td>0.168539</td>\n",
              "      <td>-0.171652</td>\n",
              "      <td>-0.0112</td>\n",
              "      <td>0.121196</td>\n",
              "      <td>0.002074</td>\n",
              "      <td>-0.018806</td>\n",
              "      <td>-0.072593</td>\n",
              "      <td>0.085114</td>\n",
              "      <td>1.221576</td>\n",
              "      <td>...</td>\n",
              "      <td>-0.154037</td>\n",
              "      <td>0.076133</td>\n",
              "      <td>-0.119719</td>\n",
              "      <td>-0.048785</td>\n",
              "      <td>-0.0055</td>\n",
              "      <td>-0.002385</td>\n",
              "      <td>-0.034318</td>\n",
              "      <td>0.013183</td>\n",
              "      <td>-0.071152</td>\n",
              "      <td>0.048246</td>\n",
              "    </tr>\n",
              "    <tr>\n",
              "      <th>883996f36cc186da5983b13384230a9f</th>\n",
              "      <td>0.143007</td>\n",
              "      <td>0.168539</td>\n",
              "      <td>-0.171652</td>\n",
              "      <td>-0.0112</td>\n",
              "      <td>0.121196</td>\n",
              "      <td>0.002074</td>\n",
              "      <td>-0.018806</td>\n",
              "      <td>-0.072593</td>\n",
              "      <td>0.085114</td>\n",
              "      <td>1.221576</td>\n",
              "      <td>...</td>\n",
              "      <td>-0.154037</td>\n",
              "      <td>0.076133</td>\n",
              "      <td>-0.119719</td>\n",
              "      <td>-0.048785</td>\n",
              "      <td>-0.0055</td>\n",
              "      <td>-0.002385</td>\n",
              "      <td>-0.034318</td>\n",
              "      <td>0.013183</td>\n",
              "      <td>-0.071152</td>\n",
              "      <td>0.048246</td>\n",
              "    </tr>\n",
              "    <tr>\n",
              "      <th>fc1b93172eef30156a0b8c388c72571c</th>\n",
              "      <td>0.143007</td>\n",
              "      <td>0.168539</td>\n",
              "      <td>-0.171652</td>\n",
              "      <td>-0.0112</td>\n",
              "      <td>0.121196</td>\n",
              "      <td>0.002074</td>\n",
              "      <td>-0.018806</td>\n",
              "      <td>-0.072593</td>\n",
              "      <td>0.085114</td>\n",
              "      <td>1.221576</td>\n",
              "      <td>...</td>\n",
              "      <td>-0.154037</td>\n",
              "      <td>0.076133</td>\n",
              "      <td>-0.119719</td>\n",
              "      <td>-0.048785</td>\n",
              "      <td>-0.0055</td>\n",
              "      <td>-0.002385</td>\n",
              "      <td>-0.034318</td>\n",
              "      <td>0.013183</td>\n",
              "      <td>-0.071152</td>\n",
              "      <td>0.048246</td>\n",
              "    </tr>\n",
              "    <tr>\n",
              "      <th>0c7c00989ed4b87cc6e704712beec291</th>\n",
              "      <td>0.143007</td>\n",
              "      <td>0.168539</td>\n",
              "      <td>-0.171652</td>\n",
              "      <td>-0.0112</td>\n",
              "      <td>0.121196</td>\n",
              "      <td>0.002074</td>\n",
              "      <td>-0.018806</td>\n",
              "      <td>-0.072593</td>\n",
              "      <td>0.085114</td>\n",
              "      <td>1.221576</td>\n",
              "      <td>...</td>\n",
              "      <td>-0.154037</td>\n",
              "      <td>0.076133</td>\n",
              "      <td>-0.119719</td>\n",
              "      <td>-0.048785</td>\n",
              "      <td>-0.0055</td>\n",
              "      <td>-0.002385</td>\n",
              "      <td>-0.034318</td>\n",
              "      <td>0.013183</td>\n",
              "      <td>-0.071152</td>\n",
              "      <td>0.048246</td>\n",
              "    </tr>\n",
              "    <tr>\n",
              "      <th>a45c0dfd77553cf466546d8f42f2d34a</th>\n",
              "      <td>0.143007</td>\n",
              "      <td>0.168539</td>\n",
              "      <td>-0.171652</td>\n",
              "      <td>-0.0112</td>\n",
              "      <td>0.121196</td>\n",
              "      <td>0.002074</td>\n",
              "      <td>-0.018806</td>\n",
              "      <td>-0.072593</td>\n",
              "      <td>0.085114</td>\n",
              "      <td>1.221576</td>\n",
              "      <td>...</td>\n",
              "      <td>-0.154037</td>\n",
              "      <td>0.076133</td>\n",
              "      <td>-0.119719</td>\n",
              "      <td>-0.048785</td>\n",
              "      <td>-0.0055</td>\n",
              "      <td>-0.002385</td>\n",
              "      <td>-0.034318</td>\n",
              "      <td>0.013183</td>\n",
              "      <td>-0.071152</td>\n",
              "      <td>0.048246</td>\n",
              "    </tr>\n",
              "  </tbody>\n",
              "</table>\n",
              "<p>5 rows × 300 columns</p>\n",
              "</div>\n",
              "      <button class=\"colab-df-convert\" onclick=\"convertToInteractive('df-3f494a16-7776-4b54-9ebb-18f3c6aa439f')\"\n",
              "              title=\"Convert this dataframe to an interactive table.\"\n",
              "              style=\"display:none;\">\n",
              "        \n",
              "  <svg xmlns=\"http://www.w3.org/2000/svg\" height=\"24px\"viewBox=\"0 0 24 24\"\n",
              "       width=\"24px\">\n",
              "    <path d=\"M0 0h24v24H0V0z\" fill=\"none\"/>\n",
              "    <path d=\"M18.56 5.44l.94 2.06.94-2.06 2.06-.94-2.06-.94-.94-2.06-.94 2.06-2.06.94zm-11 1L8.5 8.5l.94-2.06 2.06-.94-2.06-.94L8.5 2.5l-.94 2.06-2.06.94zm10 10l.94 2.06.94-2.06 2.06-.94-2.06-.94-.94-2.06-.94 2.06-2.06.94z\"/><path d=\"M17.41 7.96l-1.37-1.37c-.4-.4-.92-.59-1.43-.59-.52 0-1.04.2-1.43.59L10.3 9.45l-7.72 7.72c-.78.78-.78 2.05 0 2.83L4 21.41c.39.39.9.59 1.41.59.51 0 1.02-.2 1.41-.59l7.78-7.78 2.81-2.81c.8-.78.8-2.07 0-2.86zM5.41 20L4 18.59l7.72-7.72 1.47 1.35L5.41 20z\"/>\n",
              "  </svg>\n",
              "      </button>\n",
              "      \n",
              "  <style>\n",
              "    .colab-df-container {\n",
              "      display:flex;\n",
              "      flex-wrap:wrap;\n",
              "      gap: 12px;\n",
              "    }\n",
              "\n",
              "    .colab-df-convert {\n",
              "      background-color: #E8F0FE;\n",
              "      border: none;\n",
              "      border-radius: 50%;\n",
              "      cursor: pointer;\n",
              "      display: none;\n",
              "      fill: #1967D2;\n",
              "      height: 32px;\n",
              "      padding: 0 0 0 0;\n",
              "      width: 32px;\n",
              "    }\n",
              "\n",
              "    .colab-df-convert:hover {\n",
              "      background-color: #E2EBFA;\n",
              "      box-shadow: 0px 1px 2px rgba(60, 64, 67, 0.3), 0px 1px 3px 1px rgba(60, 64, 67, 0.15);\n",
              "      fill: #174EA6;\n",
              "    }\n",
              "\n",
              "    [theme=dark] .colab-df-convert {\n",
              "      background-color: #3B4455;\n",
              "      fill: #D2E3FC;\n",
              "    }\n",
              "\n",
              "    [theme=dark] .colab-df-convert:hover {\n",
              "      background-color: #434B5C;\n",
              "      box-shadow: 0px 1px 3px 1px rgba(0, 0, 0, 0.15);\n",
              "      filter: drop-shadow(0px 1px 2px rgba(0, 0, 0, 0.3));\n",
              "      fill: #FFFFFF;\n",
              "    }\n",
              "  </style>\n",
              "\n",
              "      <script>\n",
              "        const buttonEl =\n",
              "          document.querySelector('#df-3f494a16-7776-4b54-9ebb-18f3c6aa439f button.colab-df-convert');\n",
              "        buttonEl.style.display =\n",
              "          google.colab.kernel.accessAllowed ? 'block' : 'none';\n",
              "\n",
              "        async function convertToInteractive(key) {\n",
              "          const element = document.querySelector('#df-3f494a16-7776-4b54-9ebb-18f3c6aa439f');\n",
              "          const dataTable =\n",
              "            await google.colab.kernel.invokeFunction('convertToInteractive',\n",
              "                                                     [key], {});\n",
              "          if (!dataTable) return;\n",
              "\n",
              "          const docLinkHtml = 'Like what you see? Visit the ' +\n",
              "            '<a target=\"_blank\" href=https://colab.research.google.com/notebooks/data_table.ipynb>data table notebook</a>'\n",
              "            + ' to learn more about interactive tables.';\n",
              "          element.innerHTML = '';\n",
              "          dataTable['output_type'] = 'display_data';\n",
              "          await google.colab.output.renderOutput(dataTable, element);\n",
              "          const docLink = document.createElement('div');\n",
              "          docLink.innerHTML = docLinkHtml;\n",
              "          element.appendChild(docLink);\n",
              "        }\n",
              "      </script>\n",
              "    </div>\n",
              "  </div>\n",
              "  "
            ]
          },
          "metadata": {},
          "execution_count": 27
        }
      ]
    },
    {
      "cell_type": "markdown",
      "source": [
        "Combining the test set expanded vectors with the q1testlexemes"
      ],
      "metadata": {
        "id": "2gpG-JOOxZPX"
      }
    },
    {
      "cell_type": "code",
      "source": [
        "q1testvecs = pd.merge(left = q1testlexemes, right = q1testvecs_expanded, how = \"left\",left_on = 'lexeme_id',right_index = True)\n",
        "q1testvecs.shape"
      ],
      "metadata": {
        "colab": {
          "base_uri": "https://localhost:8080/"
        },
        "outputId": "c1468df9-b91c-4272-8e09-4d4c03eaebc6",
        "id": "gQ11siDx7_fi"
      },
      "execution_count": null,
      "outputs": [
        {
          "output_type": "execute_result",
          "data": {
            "text/plain": [
              "(2776, 317)"
            ]
          },
          "metadata": {},
          "execution_count": 28
        }
      ]
    },
    {
      "cell_type": "code",
      "source": [
        "q1testlexemes = q1testvecs\n",
        "q1testlexemes.columns"
      ],
      "metadata": {
        "colab": {
          "base_uri": "https://localhost:8080/"
        },
        "outputId": "aaa9b536-709b-4875-a16d-2f6c066b709c",
        "id": "0WoYGSr_7_fi"
      },
      "execution_count": null,
      "outputs": [
        {
          "output_type": "execute_result",
          "data": {
            "text/plain": [
              "Index([        'lexeme_id', 'learning_language',     'lexeme_string',\n",
              "            'surface_form',        'lemma_form',               'pos',\n",
              "              'modstrings',         'sf_length',    'sf_translation',\n",
              "          'lf_translation',\n",
              "       ...\n",
              "                       290,                 291,                 292,\n",
              "                       293,                 294,                 295,\n",
              "                       296,                 297,                 298,\n",
              "                       299],\n",
              "      dtype='object', length=317)"
            ]
          },
          "metadata": {},
          "execution_count": 29
        }
      ]
    },
    {
      "cell_type": "markdown",
      "source": [
        "## <font color = 'cornflowerblue' size=4>Preprocessing and PCA</font>"
      ],
      "metadata": {
        "id": "PJE84YdT8DEl"
      }
    },
    {
      "cell_type": "markdown",
      "source": [
        "### <font color = 'cornflowerblue' size=3>One hot encoding of categoricals</font>\n",
        "The learning language, pos and mostrings are further converted to binary dummies: "
      ],
      "metadata": {
        "id": "lA1zFUID7ZnB"
      }
    },
    {
      "cell_type": "code",
      "source": [
        "from sklearn.preprocessing import OneHotEncoder\n",
        "\n",
        "enc_lang = OneHotEncoder(sparse=False,handle_unknown='ignore')\n",
        "enc_pos = OneHotEncoder(sparse = False,handle_unknown = 'ignore')\n",
        "enc_mods = OneHotEncoder(sparse=False,handle_unknown='ignore')\n",
        "\n",
        "# get one hot encoded learning language\n",
        "enc_lang.fit(np.array(q1trainlexemes['learning_language']).reshape(-1, 1))\n",
        "q1train_lang = pd.DataFrame(enc_lang.transform(np.array(q1trainlexemes['learning_language']).reshape(-1, 1)),index=q1trainlexemes.index)\n",
        "\n",
        "# get one hot encoded part of speech:\n",
        "enc_pos.fit(np.array(q1trainlexemes['pos']).reshape(-1, 1))\n",
        "q1train_pos = pd.DataFrame(enc_pos.transform(np.array(q1trainlexemes['pos']).reshape(-1, 1)),index=q1trainlexemes.index)\n"
      ],
      "metadata": {
        "id": "OT8Nh5XT94dZ"
      },
      "execution_count": null,
      "outputs": []
    },
    {
      "cell_type": "code",
      "source": [
        "# get one hot encoded modstrings\n",
        "q1trainlexemes['modstrings'].head()"
      ],
      "metadata": {
        "colab": {
          "base_uri": "https://localhost:8080/"
        },
        "id": "1xJtlMPRAxyM",
        "outputId": "c0cd7b9b-9575-4fe0-f764-98f2bf975e6d"
      },
      "execution_count": null,
      "outputs": [
        {
          "output_type": "execute_result",
          "data": {
            "text/plain": [
              "7                []\n",
              "20          [m, pl]\n",
              "21    [pri, p1, sg]\n",
              "22          [m, sg]\n",
              "24    [pri, p3, sg]\n",
              "Name: modstrings, dtype: object"
            ]
          },
          "metadata": {},
          "execution_count": 31
        }
      ]
    },
    {
      "cell_type": "markdown",
      "source": [
        "Since modstrings are saved as a list of strings, some more processing needs to be done before passing to the one hot encoder. "
      ],
      "metadata": {
        "id": "dOLCdf5pA1SV"
      }
    },
    {
      "cell_type": "code",
      "source": [
        "# explode values of list so a separate record is created for each element of the list. \n",
        "q1trainlexemes['modstrings'].explode()\n",
        "enc_mods.fit(np.array(q1trainlexemes['modstrings'].explode()).reshape(-1,1))\n",
        "q1train_mods_exploded =enc_mods.transform(np.array(q1trainlexemes['modstrings'].explode()).reshape(-1,1))\n",
        "\n",
        "q1train_modsdf_exploded = pd.DataFrame(q1train_mods_exploded, index = q1trainlexemes['modstrings'].explode().index)\n",
        "\n",
        "# group the exploded one-hot dataframe by the q1lexemes index, sum up the exploded records (since one word can have many modifiers in its list)\n",
        "q1train_modsdf = q1train_modsdf_exploded.groupby(q1train_modsdf_exploded.index).sum()\n",
        "#np.concatenate([np.array(q1trainlexemes['modstrings'].explode().index).reshape(-1,1),q1train_mods],axis=1)"
      ],
      "metadata": {
        "id": "5MnQB_n9_7zf"
      },
      "execution_count": null,
      "outputs": []
    },
    {
      "cell_type": "code",
      "source": [
        "q1train_modsdf.shape, q1trainlexemes.shape"
      ],
      "metadata": {
        "colab": {
          "base_uri": "https://localhost:8080/"
        },
        "id": "YSf7EfBND8P7",
        "outputId": "ad0c49c4-4d7b-440b-d9ee-1457de3d1185"
      },
      "execution_count": null,
      "outputs": [
        {
          "output_type": "execute_result",
          "data": {
            "text/plain": [
              "((9580, 84), (9580, 317))"
            ]
          },
          "metadata": {},
          "execution_count": 33
        }
      ]
    },
    {
      "cell_type": "markdown",
      "source": [
        "The summed shape of the mods dataframe is the same length as the q1trainlexemes dataframe. \n",
        "\n",
        "Now the language, pos and mod sparse columns are combined along with numerical word features to make the first feature set. "
      ],
      "metadata": {
        "id": "SuIB3cPXFUxp"
      }
    },
    {
      "cell_type": "code",
      "source": [
        "q1trainlexemes[['sf_length', 'L_dist_sf_noaccents_norm', 'EnglishIDF','lexeme_id']+list(range(0,300))].shape"
      ],
      "metadata": {
        "colab": {
          "base_uri": "https://localhost:8080/"
        },
        "id": "Jg5-TVGy7b_Z",
        "outputId": "c16ef7b6-1f2d-4f52-a3c7-493d82ca68c6"
      },
      "execution_count": null,
      "outputs": [
        {
          "output_type": "execute_result",
          "data": {
            "text/plain": [
              "(9580, 304)"
            ]
          },
          "metadata": {},
          "execution_count": 34
        }
      ]
    },
    {
      "cell_type": "code",
      "source": [
        "q1trainfeatureset2 = pd.concat([q1trainlexemes[['sf_length', 'L_dist_sf_noaccents_norm', 'EnglishIDF','lexeme_id']+list(range(0,300))],\n",
        "                                q1train_lang, \n",
        "                                q1train_pos, \n",
        "                                q1train_modsdf, \n",
        "                                ],axis=1)"
      ],
      "metadata": {
        "id": "w97c1rnUFinJ"
      },
      "execution_count": null,
      "outputs": []
    },
    {
      "cell_type": "code",
      "source": [
        "q1trainfeatureset2.shape"
      ],
      "metadata": {
        "colab": {
          "base_uri": "https://localhost:8080/"
        },
        "id": "66xiW_TAGn9H",
        "outputId": "eee00ac8-e7a9-40a0-b4a0-ebcf7d89971f"
      },
      "execution_count": null,
      "outputs": [
        {
          "output_type": "execute_result",
          "data": {
            "text/plain": [
              "(9580, 464)"
            ]
          },
          "metadata": {},
          "execution_count": 36
        }
      ]
    },
    {
      "cell_type": "code",
      "source": [
        "q1trainfeatureset2.columns = ['sf_length', 'L_dist_sf_noaccents_norm', 'EnglishIDF','lexeme_id'] + list(range(0,300)) + ['lang_'+c for c in list(enc_lang.get_feature_names_out())] + ['pos_' + c for c in list(enc_pos.get_feature_names_out())] + ['mod_' + c for c in list(enc_mods.get_feature_names_out())]"
      ],
      "metadata": {
        "id": "Jx4xT0Zx7_54"
      },
      "execution_count": null,
      "outputs": []
    },
    {
      "cell_type": "markdown",
      "source": [
        "Checking if there are generated column names that are duplicates:"
      ],
      "metadata": {
        "id": "KifTkOkfxwF9"
      }
    },
    {
      "cell_type": "code",
      "source": [
        "len(list(q1trainfeatureset2.columns)) - len(set(q1trainfeatureset2.columns))"
      ],
      "metadata": {
        "colab": {
          "base_uri": "https://localhost:8080/"
        },
        "id": "L42lWP3J8WV0",
        "outputId": "3fad32fe-ca81-4e90-f8eb-46b6237a729a"
      },
      "execution_count": null,
      "outputs": [
        {
          "output_type": "execute_result",
          "data": {
            "text/plain": [
              "0"
            ]
          },
          "metadata": {},
          "execution_count": 38
        }
      ]
    },
    {
      "cell_type": "code",
      "source": [
        "q1trainfeatureset2.head()"
      ],
      "metadata": {
        "colab": {
          "base_uri": "https://localhost:8080/",
          "height": 299
        },
        "id": "Q1F5YrAW745w",
        "outputId": "cb2b1c03-7c21-428c-afa4-8ee87f370816"
      },
      "execution_count": null,
      "outputs": [
        {
          "output_type": "execute_result",
          "data": {
            "text/plain": [
              "    sf_length  L_dist_sf_noaccents_norm  EnglishIDF  \\\n",
              "7           4                       0.5    3.733996   \n",
              "20          5                       0.6   10.981924   \n",
              "21          3                       0.0    4.051187   \n",
              "22          5                       0.8    0.438409   \n",
              "24          3                       1.0    0.502649   \n",
              "\n",
              "                           lexeme_id         0         1         2         3  \\\n",
              "7   73eecb492ca758ddab5371cf7b5cca32 -0.269015 -0.041727 -0.045045  0.069940   \n",
              "20  c84476c460737d9fb905dca3d35ec995 -0.007808  0.188679 -0.264520 -0.134410   \n",
              "21  1a913f2ded424985b9c02d0436008511  0.820083  0.677704 -0.500191 -0.140807   \n",
              "22  38b770e66595fea718366523b4f7db3f  0.020896  0.318951 -0.269169  0.024149   \n",
              "24  faa6fd18132b358958e440322ee82b4b  0.129024  0.423030 -0.457697  0.013778   \n",
              "\n",
              "           4         5  ...  mod_x0_prs  mod_x0_qnt  mod_x0_ref  mod_x0_sg  \\\n",
              "7   0.067316  0.135177  ...         0.0         0.0         0.0        0.0   \n",
              "20  0.025235 -0.095146  ...         0.0         0.0         0.0        0.0   \n",
              "21  0.549122  0.634742  ...         0.0         0.0         0.0        1.0   \n",
              "22  0.415287  0.331545  ...         0.0         0.0         0.0        1.0   \n",
              "24  0.316385  0.414319  ...         0.0         0.0         0.0        1.0   \n",
              "\n",
              "    mod_x0_sint  mod_x0_sp  mod_x0_subj  mod_x0_sup  mod_x0_tn  mod_x0_nan  \n",
              "7           0.0        0.0          0.0         0.0        0.0         1.0  \n",
              "20          0.0        0.0          0.0         0.0        0.0         0.0  \n",
              "21          0.0        0.0          0.0         0.0        0.0         0.0  \n",
              "22          0.0        0.0          0.0         0.0        0.0         0.0  \n",
              "24          0.0        0.0          0.0         0.0        0.0         0.0  \n",
              "\n",
              "[5 rows x 464 columns]"
            ],
            "text/html": [
              "\n",
              "  <div id=\"df-753eaaa4-e99a-466d-ab88-eb9e068ae93b\">\n",
              "    <div class=\"colab-df-container\">\n",
              "      <div>\n",
              "<style scoped>\n",
              "    .dataframe tbody tr th:only-of-type {\n",
              "        vertical-align: middle;\n",
              "    }\n",
              "\n",
              "    .dataframe tbody tr th {\n",
              "        vertical-align: top;\n",
              "    }\n",
              "\n",
              "    .dataframe thead th {\n",
              "        text-align: right;\n",
              "    }\n",
              "</style>\n",
              "<table border=\"1\" class=\"dataframe\">\n",
              "  <thead>\n",
              "    <tr style=\"text-align: right;\">\n",
              "      <th></th>\n",
              "      <th>sf_length</th>\n",
              "      <th>L_dist_sf_noaccents_norm</th>\n",
              "      <th>EnglishIDF</th>\n",
              "      <th>lexeme_id</th>\n",
              "      <th>0</th>\n",
              "      <th>1</th>\n",
              "      <th>2</th>\n",
              "      <th>3</th>\n",
              "      <th>4</th>\n",
              "      <th>5</th>\n",
              "      <th>...</th>\n",
              "      <th>mod_x0_prs</th>\n",
              "      <th>mod_x0_qnt</th>\n",
              "      <th>mod_x0_ref</th>\n",
              "      <th>mod_x0_sg</th>\n",
              "      <th>mod_x0_sint</th>\n",
              "      <th>mod_x0_sp</th>\n",
              "      <th>mod_x0_subj</th>\n",
              "      <th>mod_x0_sup</th>\n",
              "      <th>mod_x0_tn</th>\n",
              "      <th>mod_x0_nan</th>\n",
              "    </tr>\n",
              "  </thead>\n",
              "  <tbody>\n",
              "    <tr>\n",
              "      <th>7</th>\n",
              "      <td>4</td>\n",
              "      <td>0.5</td>\n",
              "      <td>3.733996</td>\n",
              "      <td>73eecb492ca758ddab5371cf7b5cca32</td>\n",
              "      <td>-0.269015</td>\n",
              "      <td>-0.041727</td>\n",
              "      <td>-0.045045</td>\n",
              "      <td>0.069940</td>\n",
              "      <td>0.067316</td>\n",
              "      <td>0.135177</td>\n",
              "      <td>...</td>\n",
              "      <td>0.0</td>\n",
              "      <td>0.0</td>\n",
              "      <td>0.0</td>\n",
              "      <td>0.0</td>\n",
              "      <td>0.0</td>\n",
              "      <td>0.0</td>\n",
              "      <td>0.0</td>\n",
              "      <td>0.0</td>\n",
              "      <td>0.0</td>\n",
              "      <td>1.0</td>\n",
              "    </tr>\n",
              "    <tr>\n",
              "      <th>20</th>\n",
              "      <td>5</td>\n",
              "      <td>0.6</td>\n",
              "      <td>10.981924</td>\n",
              "      <td>c84476c460737d9fb905dca3d35ec995</td>\n",
              "      <td>-0.007808</td>\n",
              "      <td>0.188679</td>\n",
              "      <td>-0.264520</td>\n",
              "      <td>-0.134410</td>\n",
              "      <td>0.025235</td>\n",
              "      <td>-0.095146</td>\n",
              "      <td>...</td>\n",
              "      <td>0.0</td>\n",
              "      <td>0.0</td>\n",
              "      <td>0.0</td>\n",
              "      <td>0.0</td>\n",
              "      <td>0.0</td>\n",
              "      <td>0.0</td>\n",
              "      <td>0.0</td>\n",
              "      <td>0.0</td>\n",
              "      <td>0.0</td>\n",
              "      <td>0.0</td>\n",
              "    </tr>\n",
              "    <tr>\n",
              "      <th>21</th>\n",
              "      <td>3</td>\n",
              "      <td>0.0</td>\n",
              "      <td>4.051187</td>\n",
              "      <td>1a913f2ded424985b9c02d0436008511</td>\n",
              "      <td>0.820083</td>\n",
              "      <td>0.677704</td>\n",
              "      <td>-0.500191</td>\n",
              "      <td>-0.140807</td>\n",
              "      <td>0.549122</td>\n",
              "      <td>0.634742</td>\n",
              "      <td>...</td>\n",
              "      <td>0.0</td>\n",
              "      <td>0.0</td>\n",
              "      <td>0.0</td>\n",
              "      <td>1.0</td>\n",
              "      <td>0.0</td>\n",
              "      <td>0.0</td>\n",
              "      <td>0.0</td>\n",
              "      <td>0.0</td>\n",
              "      <td>0.0</td>\n",
              "      <td>0.0</td>\n",
              "    </tr>\n",
              "    <tr>\n",
              "      <th>22</th>\n",
              "      <td>5</td>\n",
              "      <td>0.8</td>\n",
              "      <td>0.438409</td>\n",
              "      <td>38b770e66595fea718366523b4f7db3f</td>\n",
              "      <td>0.020896</td>\n",
              "      <td>0.318951</td>\n",
              "      <td>-0.269169</td>\n",
              "      <td>0.024149</td>\n",
              "      <td>0.415287</td>\n",
              "      <td>0.331545</td>\n",
              "      <td>...</td>\n",
              "      <td>0.0</td>\n",
              "      <td>0.0</td>\n",
              "      <td>0.0</td>\n",
              "      <td>1.0</td>\n",
              "      <td>0.0</td>\n",
              "      <td>0.0</td>\n",
              "      <td>0.0</td>\n",
              "      <td>0.0</td>\n",
              "      <td>0.0</td>\n",
              "      <td>0.0</td>\n",
              "    </tr>\n",
              "    <tr>\n",
              "      <th>24</th>\n",
              "      <td>3</td>\n",
              "      <td>1.0</td>\n",
              "      <td>0.502649</td>\n",
              "      <td>faa6fd18132b358958e440322ee82b4b</td>\n",
              "      <td>0.129024</td>\n",
              "      <td>0.423030</td>\n",
              "      <td>-0.457697</td>\n",
              "      <td>0.013778</td>\n",
              "      <td>0.316385</td>\n",
              "      <td>0.414319</td>\n",
              "      <td>...</td>\n",
              "      <td>0.0</td>\n",
              "      <td>0.0</td>\n",
              "      <td>0.0</td>\n",
              "      <td>1.0</td>\n",
              "      <td>0.0</td>\n",
              "      <td>0.0</td>\n",
              "      <td>0.0</td>\n",
              "      <td>0.0</td>\n",
              "      <td>0.0</td>\n",
              "      <td>0.0</td>\n",
              "    </tr>\n",
              "  </tbody>\n",
              "</table>\n",
              "<p>5 rows × 464 columns</p>\n",
              "</div>\n",
              "      <button class=\"colab-df-convert\" onclick=\"convertToInteractive('df-753eaaa4-e99a-466d-ab88-eb9e068ae93b')\"\n",
              "              title=\"Convert this dataframe to an interactive table.\"\n",
              "              style=\"display:none;\">\n",
              "        \n",
              "  <svg xmlns=\"http://www.w3.org/2000/svg\" height=\"24px\"viewBox=\"0 0 24 24\"\n",
              "       width=\"24px\">\n",
              "    <path d=\"M0 0h24v24H0V0z\" fill=\"none\"/>\n",
              "    <path d=\"M18.56 5.44l.94 2.06.94-2.06 2.06-.94-2.06-.94-.94-2.06-.94 2.06-2.06.94zm-11 1L8.5 8.5l.94-2.06 2.06-.94-2.06-.94L8.5 2.5l-.94 2.06-2.06.94zm10 10l.94 2.06.94-2.06 2.06-.94-2.06-.94-.94-2.06-.94 2.06-2.06.94z\"/><path d=\"M17.41 7.96l-1.37-1.37c-.4-.4-.92-.59-1.43-.59-.52 0-1.04.2-1.43.59L10.3 9.45l-7.72 7.72c-.78.78-.78 2.05 0 2.83L4 21.41c.39.39.9.59 1.41.59.51 0 1.02-.2 1.41-.59l7.78-7.78 2.81-2.81c.8-.78.8-2.07 0-2.86zM5.41 20L4 18.59l7.72-7.72 1.47 1.35L5.41 20z\"/>\n",
              "  </svg>\n",
              "      </button>\n",
              "      \n",
              "  <style>\n",
              "    .colab-df-container {\n",
              "      display:flex;\n",
              "      flex-wrap:wrap;\n",
              "      gap: 12px;\n",
              "    }\n",
              "\n",
              "    .colab-df-convert {\n",
              "      background-color: #E8F0FE;\n",
              "      border: none;\n",
              "      border-radius: 50%;\n",
              "      cursor: pointer;\n",
              "      display: none;\n",
              "      fill: #1967D2;\n",
              "      height: 32px;\n",
              "      padding: 0 0 0 0;\n",
              "      width: 32px;\n",
              "    }\n",
              "\n",
              "    .colab-df-convert:hover {\n",
              "      background-color: #E2EBFA;\n",
              "      box-shadow: 0px 1px 2px rgba(60, 64, 67, 0.3), 0px 1px 3px 1px rgba(60, 64, 67, 0.15);\n",
              "      fill: #174EA6;\n",
              "    }\n",
              "\n",
              "    [theme=dark] .colab-df-convert {\n",
              "      background-color: #3B4455;\n",
              "      fill: #D2E3FC;\n",
              "    }\n",
              "\n",
              "    [theme=dark] .colab-df-convert:hover {\n",
              "      background-color: #434B5C;\n",
              "      box-shadow: 0px 1px 3px 1px rgba(0, 0, 0, 0.15);\n",
              "      filter: drop-shadow(0px 1px 2px rgba(0, 0, 0, 0.3));\n",
              "      fill: #FFFFFF;\n",
              "    }\n",
              "  </style>\n",
              "\n",
              "      <script>\n",
              "        const buttonEl =\n",
              "          document.querySelector('#df-753eaaa4-e99a-466d-ab88-eb9e068ae93b button.colab-df-convert');\n",
              "        buttonEl.style.display =\n",
              "          google.colab.kernel.accessAllowed ? 'block' : 'none';\n",
              "\n",
              "        async function convertToInteractive(key) {\n",
              "          const element = document.querySelector('#df-753eaaa4-e99a-466d-ab88-eb9e068ae93b');\n",
              "          const dataTable =\n",
              "            await google.colab.kernel.invokeFunction('convertToInteractive',\n",
              "                                                     [key], {});\n",
              "          if (!dataTable) return;\n",
              "\n",
              "          const docLinkHtml = 'Like what you see? Visit the ' +\n",
              "            '<a target=\"_blank\" href=https://colab.research.google.com/notebooks/data_table.ipynb>data table notebook</a>'\n",
              "            + ' to learn more about interactive tables.';\n",
              "          element.innerHTML = '';\n",
              "          dataTable['output_type'] = 'display_data';\n",
              "          await google.colab.output.renderOutput(dataTable, element);\n",
              "          const docLink = document.createElement('div');\n",
              "          docLink.innerHTML = docLinkHtml;\n",
              "          element.appendChild(docLink);\n",
              "        }\n",
              "      </script>\n",
              "    </div>\n",
              "  </div>\n",
              "  "
            ]
          },
          "metadata": {},
          "execution_count": 39
        }
      ]
    },
    {
      "cell_type": "markdown",
      "source": [
        "The feature set has 466 columns, containing derived word features such as sf_length, EnglishIDF and the word vectors, followed by one-hot encoded values of the cateogorical columns provided in the duolingo dataset. \n",
        "\n",
        "Checking for any null values:"
      ],
      "metadata": {
        "id": "0w9M0GziG5RK"
      }
    },
    {
      "cell_type": "code",
      "source": [
        "q1trainfeatureset2.isna().sum()"
      ],
      "metadata": {
        "colab": {
          "base_uri": "https://localhost:8080/"
        },
        "outputId": "10efa8ed-b5d7-4a5c-bc0c-6d03d73eb1df",
        "id": "1VL1X0aEyYXj"
      },
      "execution_count": null,
      "outputs": [
        {
          "output_type": "execute_result",
          "data": {
            "text/plain": [
              "sf_length                     0\n",
              "L_dist_sf_noaccents_norm      0\n",
              "EnglishIDF                  110\n",
              "lexeme_id                     0\n",
              "0                             0\n",
              "                           ... \n",
              "mod_x0_sp                     0\n",
              "mod_x0_subj                   0\n",
              "mod_x0_sup                    0\n",
              "mod_x0_tn                     0\n",
              "mod_x0_nan                    0\n",
              "Length: 464, dtype: int64"
            ]
          },
          "metadata": {},
          "execution_count": 40
        }
      ]
    },
    {
      "cell_type": "markdown",
      "source": [
        "EnglishIDF has null values. These are imputed with the median IDF value. "
      ],
      "metadata": {
        "id": "J52xo6u7yfk5"
      }
    },
    {
      "cell_type": "code",
      "source": [
        "plt.figure()\n",
        "plt.title(\"Distribution of EnglishIDF\")\n",
        "plt.xlabel(\"English IDF value from BNC corpus\")\n",
        "plt.ylabel(\"Frequency counts\")\n",
        "q1trainfeatureset2['EnglishIDF'].hist()\n",
        "plt.axvline(q1trainfeatureset2['EnglishIDF'].median(),color='black')\n",
        "plt.show()"
      ],
      "metadata": {
        "colab": {
          "base_uri": "https://localhost:8080/",
          "height": 295
        },
        "outputId": "e32c74d6-9e4b-465d-cc3f-93c73eee5fda",
        "id": "xQPshLy6yYXk"
      },
      "execution_count": null,
      "outputs": [
        {
          "output_type": "display_data",
          "data": {
            "text/plain": [
              "<Figure size 432x288 with 1 Axes>"
            ],
            "image/png": "[encoded data removed]"
          },
          "metadata": {
            "needs_background": "light"
          }
        }
      ]
    },
    {
      "cell_type": "markdown",
      "source": [
        "Imputing:"
      ],
      "metadata": {
        "id": "FeTVxop0yYXk"
      }
    },
    {
      "cell_type": "code",
      "source": [
        "medianIDF = q1trainfeatureset2['EnglishIDF'].median()\n",
        "q1trainfeatureset2.loc[q1trainfeatureset2['EnglishIDF'].isna(),'EnglishIDF'] = medianIDF"
      ],
      "metadata": {
        "id": "jmvJC5lfyYXk"
      },
      "execution_count": null,
      "outputs": []
    },
    {
      "cell_type": "markdown",
      "source": [
        "Checking for any null values left post imputing:"
      ],
      "metadata": {
        "id": "Hs5fmEuDyz8N"
      }
    },
    {
      "cell_type": "code",
      "source": [
        "q1trainfeatureset2.isna().sum().sum()"
      ],
      "metadata": {
        "colab": {
          "base_uri": "https://localhost:8080/"
        },
        "outputId": "d0607eeb-c800-48c8-c102-3aa7f02f62d7",
        "id": "GaSsf1eiyYXk"
      },
      "execution_count": null,
      "outputs": [
        {
          "output_type": "execute_result",
          "data": {
            "text/plain": [
              "0"
            ]
          },
          "metadata": {},
          "execution_count": 43
        }
      ]
    },
    {
      "cell_type": "markdown",
      "source": [
        "\n",
        "Applying the same transformations to the test set lexemes:"
      ],
      "metadata": {
        "id": "yq2_WTUbybji"
      }
    },
    {
      "cell_type": "code",
      "source": [
        "len(q1test_lexemelist)"
      ],
      "metadata": {
        "colab": {
          "base_uri": "https://localhost:8080/"
        },
        "id": "IxDHPPvj2Vk6",
        "outputId": "b390b0fb-aec6-429a-c40e-f73a0e557923"
      },
      "execution_count": null,
      "outputs": [
        {
          "output_type": "execute_result",
          "data": {
            "text/plain": [
              "2776"
            ]
          },
          "metadata": {},
          "execution_count": 44
        }
      ]
    },
    {
      "cell_type": "code",
      "source": [
        "# transforming the language column based on already fit one hot encoder:\n",
        "q1test_lang = pd.DataFrame(enc_lang.transform(np.array(q1testlexemes['learning_language']).reshape(-1, 1)),index=q1testlexemes.index)\n",
        "\n",
        "# get one hot encoded part of speech:\n",
        "q1test_pos = pd.DataFrame(enc_pos.transform(np.array(q1testlexemes['pos']).reshape(-1, 1)),index=q1testlexemes.index)\n"
      ],
      "metadata": {
        "id": "dGIkcT4BJVX_"
      },
      "execution_count": null,
      "outputs": []
    },
    {
      "cell_type": "code",
      "source": [
        "# explode values of list so a separate record is created for each element of the list. \n",
        "q1testlexemes['modstrings'].explode()\n",
        "#enc_mods.fit(np.array(q1trainlexemes['modstrings'].explode()).reshape(-1,1))\n",
        "q1test_mods_exploded =enc_mods.transform(np.array(q1testlexemes['modstrings'].explode()).reshape(-1,1))\n",
        "\n",
        "q1test_modsdf_exploded = pd.DataFrame(q1test_mods_exploded, index = q1testlexemes['modstrings'].explode().index)\n",
        "\n",
        "# group the exploded one-hot dataframe by the q1lexemes index, sum up the exploded records (since one word can have many modifiers in its list)\n",
        "q1test_modsdf = q1test_modsdf_exploded.groupby(q1test_modsdf_exploded.index).sum()\n",
        "#np.concatenate([np.array(q1trainlexemes['modstrings'].explode().index).reshape(-1,1),q1train_mods],axis=1)"
      ],
      "metadata": {
        "id": "RB4SE2EPJVYB"
      },
      "execution_count": null,
      "outputs": []
    },
    {
      "cell_type": "code",
      "source": [
        "q1test_modsdf.shape, q1testlexemes.shape"
      ],
      "metadata": {
        "colab": {
          "base_uri": "https://localhost:8080/"
        },
        "outputId": "cf43825c-f8e1-4a3a-bf18-adbadb7fbcad",
        "id": "14mK8h_PJVYB"
      },
      "execution_count": null,
      "outputs": [
        {
          "output_type": "execute_result",
          "data": {
            "text/plain": [
              "((2776, 84), (2776, 317))"
            ]
          },
          "metadata": {},
          "execution_count": 47
        }
      ]
    },
    {
      "cell_type": "markdown",
      "source": [
        "The summed shape of the mods dataframe is the same length as the q1trainlexemes dataframe. \n",
        "\n",
        "Now the language, pos and mod sparse columns are combined along with numerical word features to make the first feature set. "
      ],
      "metadata": {
        "id": "DXgOm8y0JVYB"
      }
    },
    {
      "cell_type": "code",
      "source": [
        "q1testfeatureset2 = pd.concat([q1testlexemes[['sf_length', 'L_dist_sf_noaccents_norm', 'EnglishIDF','lexeme_id'] + list(range(0,300))],\n",
        "                                q1test_lang, \n",
        "                                q1test_pos, \n",
        "                                q1test_modsdf, \n",
        "                                ],axis=1)"
      ],
      "metadata": {
        "id": "GtDW4vRMJVYB"
      },
      "execution_count": null,
      "outputs": []
    },
    {
      "cell_type": "code",
      "source": [
        "q1testfeatureset2.shape"
      ],
      "metadata": {
        "colab": {
          "base_uri": "https://localhost:8080/"
        },
        "outputId": "dc37b34e-8495-4876-8dce-f76534b6b50f",
        "id": "H2OecOY0JVYB"
      },
      "execution_count": null,
      "outputs": [
        {
          "output_type": "execute_result",
          "data": {
            "text/plain": [
              "(2776, 464)"
            ]
          },
          "metadata": {},
          "execution_count": 49
        }
      ]
    },
    {
      "cell_type": "code",
      "source": [
        "q1testfeatureset2.columns = q1trainfeatureset2.columns"
      ],
      "metadata": {
        "id": "Docu9vsR9Eox"
      },
      "execution_count": null,
      "outputs": []
    },
    {
      "cell_type": "code",
      "source": [
        "# checking for null values \n",
        "q1testfeatureset2.isna().sum()"
      ],
      "metadata": {
        "colab": {
          "base_uri": "https://localhost:8080/"
        },
        "id": "Eyp2AHQty9mf",
        "outputId": "4ba498fc-41f4-4b80-e682-fbc0c354a50d"
      },
      "execution_count": null,
      "outputs": [
        {
          "output_type": "execute_result",
          "data": {
            "text/plain": [
              "sf_length                    0\n",
              "L_dist_sf_noaccents_norm     0\n",
              "EnglishIDF                  55\n",
              "lexeme_id                    0\n",
              "0                            0\n",
              "                            ..\n",
              "mod_x0_sp                    0\n",
              "mod_x0_subj                  0\n",
              "mod_x0_sup                   0\n",
              "mod_x0_tn                    0\n",
              "mod_x0_nan                   0\n",
              "Length: 464, dtype: int64"
            ]
          },
          "metadata": {},
          "execution_count": 51
        }
      ]
    },
    {
      "cell_type": "markdown",
      "source": [
        "Imputing the 55 missing values of EnglishIDF with the train set median:"
      ],
      "metadata": {
        "id": "ZnJ0uy4f2zMt"
      }
    },
    {
      "cell_type": "code",
      "source": [
        "q1testfeatureset2.loc[q1testfeatureset2['EnglishIDF'].isna(),'EnglishIDF'] = medianIDF"
      ],
      "metadata": {
        "id": "NQhPXEPH26zl"
      },
      "execution_count": null,
      "outputs": []
    },
    {
      "cell_type": "markdown",
      "source": [
        "Checking for any null values left post imputing:"
      ],
      "metadata": {
        "id": "HBy35K3p26zl"
      }
    },
    {
      "cell_type": "code",
      "source": [
        "q1testfeatureset2.isna().sum().sum()"
      ],
      "metadata": {
        "colab": {
          "base_uri": "https://localhost:8080/"
        },
        "outputId": "f99ba5a2-ba27-47e6-ac3e-141ca0e3c3c0",
        "id": "X6TkHd6_26zl"
      },
      "execution_count": null,
      "outputs": [
        {
          "output_type": "execute_result",
          "data": {
            "text/plain": [
              "0"
            ]
          },
          "metadata": {},
          "execution_count": 53
        }
      ]
    },
    {
      "cell_type": "markdown",
      "source": [
        "Saving both feature sets:"
      ],
      "metadata": {
        "id": "b0SvgRi04BB1"
      }
    },
    {
      "cell_type": "code",
      "source": [
        "compressed_pickle(path_name+\"Q1TRAIN_lexemesFS2\",q1trainfeatureset2)\n",
        "compressed_pickle(path_name+\"Q1TEST_lexemesFS2\",q1testfeatureset2)"
      ],
      "metadata": {
        "id": "V42QKqKR4Asz"
      },
      "execution_count": null,
      "outputs": []
    },
    {
      "cell_type": "code",
      "source": [
        "q1trainfeatureset2 = decompress_pickle(path_name+\"Q1TRAIN_lexemesFS2.pbz2\")\n",
        "q1testfeatureset2 = decompress_pickle(path_name+\"Q1TEST_lexemesFS2.pbz2\")"
      ],
      "metadata": {
        "id": "HJB4qhY1cR8h"
      },
      "execution_count": null,
      "outputs": []
    },
    {
      "cell_type": "markdown",
      "source": [
        "The number of dimensions matches for train and test post binarizing categorical columns. They are saved as compressed pickle files. "
      ],
      "metadata": {
        "id": "WFoRQubnLblE"
      }
    },
    {
      "cell_type": "code",
      "source": [
        "q1trainfeatureset2.shape, q1testfeatureset2.shape"
      ],
      "metadata": {
        "id": "WmmZmhPZLjrk",
        "colab": {
          "base_uri": "https://localhost:8080/"
        },
        "outputId": "5f4653c4-3114-4a08-a98b-aac090aafcf6"
      },
      "execution_count": null,
      "outputs": [
        {
          "output_type": "execute_result",
          "data": {
            "text/plain": [
              "((9580, 464), (2776, 464))"
            ]
          },
          "metadata": {},
          "execution_count": 55
        }
      ]
    },
    {
      "cell_type": "markdown",
      "source": [
        "Estimate of total size of dataset once joined. "
      ],
      "metadata": {
        "id": "qLaQu-zkLwMJ"
      }
    },
    {
      "cell_type": "code",
      "source": [
        "(q1trainfeatureset2.size/10**6)/q1trainfeatureset2.shape[0]*q1train.shape[0] + q1train.size/10**6"
      ],
      "metadata": {
        "colab": {
          "base_uri": "https://localhost:8080/"
        },
        "id": "4CT573OULmzp",
        "outputId": "4e6af96e-f97f-40c7-b18c-0a129f185e15"
      },
      "execution_count": null,
      "outputs": [
        {
          "output_type": "execute_result",
          "data": {
            "text/plain": [
              "634.7925349999999"
            ]
          },
          "metadata": {},
          "execution_count": 58
        }
      ]
    },
    {
      "cell_type": "markdown",
      "source": [
        "Estimated size is 634 MB"
      ],
      "metadata": {
        "id": "223kYgrrFC9J"
      }
    },
    {
      "cell_type": "code",
      "source": [
        "q1trainfeatureset2.head()"
      ],
      "metadata": {
        "colab": {
          "base_uri": "https://localhost:8080/",
          "height": 299
        },
        "id": "lVqRvQGCGuO_",
        "outputId": "8b686890-0445-4ad6-c95d-7210458889fe"
      },
      "execution_count": null,
      "outputs": [
        {
          "output_type": "execute_result",
          "data": {
            "text/plain": [
              "    sf_length  L_dist_sf_noaccents_norm  EnglishIDF  \\\n",
              "7           4                       0.5    3.733996   \n",
              "20          5                       0.6   10.981924   \n",
              "21          3                       0.0    4.051187   \n",
              "22          5                       0.8    0.438409   \n",
              "24          3                       1.0    0.502649   \n",
              "\n",
              "                           lexeme_id         0         1         2         3  \\\n",
              "7   73eecb492ca758ddab5371cf7b5cca32 -0.269015 -0.041727 -0.045045  0.069940   \n",
              "20  c84476c460737d9fb905dca3d35ec995 -0.007808  0.188679 -0.264520 -0.134410   \n",
              "21  1a913f2ded424985b9c02d0436008511  0.820083  0.677704 -0.500191 -0.140807   \n",
              "22  38b770e66595fea718366523b4f7db3f  0.020896  0.318951 -0.269169  0.024149   \n",
              "24  faa6fd18132b358958e440322ee82b4b  0.129024  0.423030 -0.457697  0.013778   \n",
              "\n",
              "           4         5  ...  mod_x0_prs  mod_x0_qnt  mod_x0_ref  mod_x0_sg  \\\n",
              "7   0.067316  0.135177  ...         0.0         0.0         0.0        0.0   \n",
              "20  0.025235 -0.095146  ...         0.0         0.0         0.0        0.0   \n",
              "21  0.549122  0.634742  ...         0.0         0.0         0.0        1.0   \n",
              "22  0.415287  0.331545  ...         0.0         0.0         0.0        1.0   \n",
              "24  0.316385  0.414319  ...         0.0         0.0         0.0        1.0   \n",
              "\n",
              "    mod_x0_sint  mod_x0_sp  mod_x0_subj  mod_x0_sup  mod_x0_tn  mod_x0_nan  \n",
              "7           0.0        0.0          0.0         0.0        0.0         1.0  \n",
              "20          0.0        0.0          0.0         0.0        0.0         0.0  \n",
              "21          0.0        0.0          0.0         0.0        0.0         0.0  \n",
              "22          0.0        0.0          0.0         0.0        0.0         0.0  \n",
              "24          0.0        0.0          0.0         0.0        0.0         0.0  \n",
              "\n",
              "[5 rows x 464 columns]"
            ],
            "text/html": [
              "\n",
              "  <div id=\"df-410c0762-7ff1-4ec6-83c7-24bc4c398b6a\">\n",
              "    <div class=\"colab-df-container\">\n",
              "      <div>\n",
              "<style scoped>\n",
              "    .dataframe tbody tr th:only-of-type {\n",
              "        vertical-align: middle;\n",
              "    }\n",
              "\n",
              "    .dataframe tbody tr th {\n",
              "        vertical-align: top;\n",
              "    }\n",
              "\n",
              "    .dataframe thead th {\n",
              "        text-align: right;\n",
              "    }\n",
              "</style>\n",
              "<table border=\"1\" class=\"dataframe\">\n",
              "  <thead>\n",
              "    <tr style=\"text-align: right;\">\n",
              "      <th></th>\n",
              "      <th>sf_length</th>\n",
              "      <th>L_dist_sf_noaccents_norm</th>\n",
              "      <th>EnglishIDF</th>\n",
              "      <th>lexeme_id</th>\n",
              "      <th>0</th>\n",
              "      <th>1</th>\n",
              "      <th>2</th>\n",
              "      <th>3</th>\n",
              "      <th>4</th>\n",
              "      <th>5</th>\n",
              "      <th>...</th>\n",
              "      <th>mod_x0_prs</th>\n",
              "      <th>mod_x0_qnt</th>\n",
              "      <th>mod_x0_ref</th>\n",
              "      <th>mod_x0_sg</th>\n",
              "      <th>mod_x0_sint</th>\n",
              "      <th>mod_x0_sp</th>\n",
              "      <th>mod_x0_subj</th>\n",
              "      <th>mod_x0_sup</th>\n",
              "      <th>mod_x0_tn</th>\n",
              "      <th>mod_x0_nan</th>\n",
              "    </tr>\n",
              "  </thead>\n",
              "  <tbody>\n",
              "    <tr>\n",
              "      <th>7</th>\n",
              "      <td>4</td>\n",
              "      <td>0.5</td>\n",
              "      <td>3.733996</td>\n",
              "      <td>73eecb492ca758ddab5371cf7b5cca32</td>\n",
              "      <td>-0.269015</td>\n",
              "      <td>-0.041727</td>\n",
              "      <td>-0.045045</td>\n",
              "      <td>0.069940</td>\n",
              "      <td>0.067316</td>\n",
              "      <td>0.135177</td>\n",
              "      <td>...</td>\n",
              "      <td>0.0</td>\n",
              "      <td>0.0</td>\n",
              "      <td>0.0</td>\n",
              "      <td>0.0</td>\n",
              "      <td>0.0</td>\n",
              "      <td>0.0</td>\n",
              "      <td>0.0</td>\n",
              "      <td>0.0</td>\n",
              "      <td>0.0</td>\n",
              "      <td>1.0</td>\n",
              "    </tr>\n",
              "    <tr>\n",
              "      <th>20</th>\n",
              "      <td>5</td>\n",
              "      <td>0.6</td>\n",
              "      <td>10.981924</td>\n",
              "      <td>c84476c460737d9fb905dca3d35ec995</td>\n",
              "      <td>-0.007808</td>\n",
              "      <td>0.188679</td>\n",
              "      <td>-0.264520</td>\n",
              "      <td>-0.134410</td>\n",
              "      <td>0.025235</td>\n",
              "      <td>-0.095146</td>\n",
              "      <td>...</td>\n",
              "      <td>0.0</td>\n",
              "      <td>0.0</td>\n",
              "      <td>0.0</td>\n",
              "      <td>0.0</td>\n",
              "      <td>0.0</td>\n",
              "      <td>0.0</td>\n",
              "      <td>0.0</td>\n",
              "      <td>0.0</td>\n",
              "      <td>0.0</td>\n",
              "      <td>0.0</td>\n",
              "    </tr>\n",
              "    <tr>\n",
              "      <th>21</th>\n",
              "      <td>3</td>\n",
              "      <td>0.0</td>\n",
              "      <td>4.051187</td>\n",
              "      <td>1a913f2ded424985b9c02d0436008511</td>\n",
              "      <td>0.820083</td>\n",
              "      <td>0.677704</td>\n",
              "      <td>-0.500191</td>\n",
              "      <td>-0.140807</td>\n",
              "      <td>0.549122</td>\n",
              "      <td>0.634742</td>\n",
              "      <td>...</td>\n",
              "      <td>0.0</td>\n",
              "      <td>0.0</td>\n",
              "      <td>0.0</td>\n",
              "      <td>1.0</td>\n",
              "      <td>0.0</td>\n",
              "      <td>0.0</td>\n",
              "      <td>0.0</td>\n",
              "      <td>0.0</td>\n",
              "      <td>0.0</td>\n",
              "      <td>0.0</td>\n",
              "    </tr>\n",
              "    <tr>\n",
              "      <th>22</th>\n",
              "      <td>5</td>\n",
              "      <td>0.8</td>\n",
              "      <td>0.438409</td>\n",
              "      <td>38b770e66595fea718366523b4f7db3f</td>\n",
              "      <td>0.020896</td>\n",
              "      <td>0.318951</td>\n",
              "      <td>-0.269169</td>\n",
              "      <td>0.024149</td>\n",
              "      <td>0.415287</td>\n",
              "      <td>0.331545</td>\n",
              "      <td>...</td>\n",
              "      <td>0.0</td>\n",
              "      <td>0.0</td>\n",
              "      <td>0.0</td>\n",
              "      <td>1.0</td>\n",
              "      <td>0.0</td>\n",
              "      <td>0.0</td>\n",
              "      <td>0.0</td>\n",
              "      <td>0.0</td>\n",
              "      <td>0.0</td>\n",
              "      <td>0.0</td>\n",
              "    </tr>\n",
              "    <tr>\n",
              "      <th>24</th>\n",
              "      <td>3</td>\n",
              "      <td>1.0</td>\n",
              "      <td>0.502649</td>\n",
              "      <td>faa6fd18132b358958e440322ee82b4b</td>\n",
              "      <td>0.129024</td>\n",
              "      <td>0.423030</td>\n",
              "      <td>-0.457697</td>\n",
              "      <td>0.013778</td>\n",
              "      <td>0.316385</td>\n",
              "      <td>0.414319</td>\n",
              "      <td>...</td>\n",
              "      <td>0.0</td>\n",
              "      <td>0.0</td>\n",
              "      <td>0.0</td>\n",
              "      <td>1.0</td>\n",
              "      <td>0.0</td>\n",
              "      <td>0.0</td>\n",
              "      <td>0.0</td>\n",
              "      <td>0.0</td>\n",
              "      <td>0.0</td>\n",
              "      <td>0.0</td>\n",
              "    </tr>\n",
              "  </tbody>\n",
              "</table>\n",
              "<p>5 rows × 464 columns</p>\n",
              "</div>\n",
              "      <button class=\"colab-df-convert\" onclick=\"convertToInteractive('df-410c0762-7ff1-4ec6-83c7-24bc4c398b6a')\"\n",
              "              title=\"Convert this dataframe to an interactive table.\"\n",
              "              style=\"display:none;\">\n",
              "        \n",
              "  <svg xmlns=\"http://www.w3.org/2000/svg\" height=\"24px\"viewBox=\"0 0 24 24\"\n",
              "       width=\"24px\">\n",
              "    <path d=\"M0 0h24v24H0V0z\" fill=\"none\"/>\n",
              "    <path d=\"M18.56 5.44l.94 2.06.94-2.06 2.06-.94-2.06-.94-.94-2.06-.94 2.06-2.06.94zm-11 1L8.5 8.5l.94-2.06 2.06-.94-2.06-.94L8.5 2.5l-.94 2.06-2.06.94zm10 10l.94 2.06.94-2.06 2.06-.94-2.06-.94-.94-2.06-.94 2.06-2.06.94z\"/><path d=\"M17.41 7.96l-1.37-1.37c-.4-.4-.92-.59-1.43-.59-.52 0-1.04.2-1.43.59L10.3 9.45l-7.72 7.72c-.78.78-.78 2.05 0 2.83L4 21.41c.39.39.9.59 1.41.59.51 0 1.02-.2 1.41-.59l7.78-7.78 2.81-2.81c.8-.78.8-2.07 0-2.86zM5.41 20L4 18.59l7.72-7.72 1.47 1.35L5.41 20z\"/>\n",
              "  </svg>\n",
              "      </button>\n",
              "      \n",
              "  <style>\n",
              "    .colab-df-container {\n",
              "      display:flex;\n",
              "      flex-wrap:wrap;\n",
              "      gap: 12px;\n",
              "    }\n",
              "\n",
              "    .colab-df-convert {\n",
              "      background-color: #E8F0FE;\n",
              "      border: none;\n",
              "      border-radius: 50%;\n",
              "      cursor: pointer;\n",
              "      display: none;\n",
              "      fill: #1967D2;\n",
              "      height: 32px;\n",
              "      padding: 0 0 0 0;\n",
              "      width: 32px;\n",
              "    }\n",
              "\n",
              "    .colab-df-convert:hover {\n",
              "      background-color: #E2EBFA;\n",
              "      box-shadow: 0px 1px 2px rgba(60, 64, 67, 0.3), 0px 1px 3px 1px rgba(60, 64, 67, 0.15);\n",
              "      fill: #174EA6;\n",
              "    }\n",
              "\n",
              "    [theme=dark] .colab-df-convert {\n",
              "      background-color: #3B4455;\n",
              "      fill: #D2E3FC;\n",
              "    }\n",
              "\n",
              "    [theme=dark] .colab-df-convert:hover {\n",
              "      background-color: #434B5C;\n",
              "      box-shadow: 0px 1px 3px 1px rgba(0, 0, 0, 0.15);\n",
              "      filter: drop-shadow(0px 1px 2px rgba(0, 0, 0, 0.3));\n",
              "      fill: #FFFFFF;\n",
              "    }\n",
              "  </style>\n",
              "\n",
              "      <script>\n",
              "        const buttonEl =\n",
              "          document.querySelector('#df-410c0762-7ff1-4ec6-83c7-24bc4c398b6a button.colab-df-convert');\n",
              "        buttonEl.style.display =\n",
              "          google.colab.kernel.accessAllowed ? 'block' : 'none';\n",
              "\n",
              "        async function convertToInteractive(key) {\n",
              "          const element = document.querySelector('#df-410c0762-7ff1-4ec6-83c7-24bc4c398b6a');\n",
              "          const dataTable =\n",
              "            await google.colab.kernel.invokeFunction('convertToInteractive',\n",
              "                                                     [key], {});\n",
              "          if (!dataTable) return;\n",
              "\n",
              "          const docLinkHtml = 'Like what you see? Visit the ' +\n",
              "            '<a target=\"_blank\" href=https://colab.research.google.com/notebooks/data_table.ipynb>data table notebook</a>'\n",
              "            + ' to learn more about interactive tables.';\n",
              "          element.innerHTML = '';\n",
              "          dataTable['output_type'] = 'display_data';\n",
              "          await google.colab.output.renderOutput(dataTable, element);\n",
              "          const docLink = document.createElement('div');\n",
              "          docLink.innerHTML = docLinkHtml;\n",
              "          element.appendChild(docLink);\n",
              "        }\n",
              "      </script>\n",
              "    </div>\n",
              "  </div>\n",
              "  "
            ]
          },
          "metadata": {},
          "execution_count": 57
        }
      ]
    },
    {
      "cell_type": "markdown",
      "source": [
        "Attempts to combine it all at once failed even with high RAM.\n",
        "\n",
        "```\n",
        "# getting lexeme id for the full feature set 1\n",
        "q1trainfeatureset1['lexeme_id'] = q1trainlexemes.loc[q1trainfeatureset1.index,'lexeme_id']\n",
        "\n",
        "# joining with main dataframe on lexeme id\n",
        "q1train_withfs1 = pd.merge(left= q1train,right=q1train,left_on='lexeme_id',right_on = 'lexeme_id',how=\"left\")\n",
        "```"
      ],
      "metadata": {
        "id": "pGkVOi0DMJJR"
      }
    },
    {
      "cell_type": "code",
      "source": [
        "q1train_X = q1train[['lexeme_id','delta','history_seen','history_frac','simoverdiff',]]\n",
        "\n",
        "q1train_y = q1train['p_forgot_bin']"
      ],
      "metadata": {
        "id": "r2HIKwEIF_2B"
      },
      "execution_count": null,
      "outputs": []
    },
    {
      "cell_type": "code",
      "source": [
        "# joining with main dataframe on lexeme id\n",
        "q1train_withfs2 = pd.merge(left= q1train_X,right=q1trainfeatureset2,left_on='lexeme_id',right_on = 'lexeme_id',how=\"left\")"
      ],
      "metadata": {
        "id": "GATd65lFao4F"
      },
      "execution_count": null,
      "outputs": []
    },
    {
      "cell_type": "code",
      "source": [
        "q1train_withfs2.size/10**6"
      ],
      "metadata": {
        "colab": {
          "base_uri": "https://localhost:8080/"
        },
        "id": "-mUJhQeceWCq",
        "outputId": "398e7f32-0042-4ac1-f308-4d1c25c8fc66"
      },
      "execution_count": null,
      "outputs": [
        {
          "output_type": "execute_result",
          "data": {
            "text/plain": [
              "617.63598"
            ]
          },
          "metadata": {},
          "execution_count": 61
        }
      ]
    },
    {
      "cell_type": "code",
      "source": [
        "q1train_withfs2 = q1train_withfs2.drop('lexeme_id',axis=1)"
      ],
      "metadata": {
        "id": "why6EhgCeqWa"
      },
      "execution_count": null,
      "outputs": []
    },
    {
      "cell_type": "code",
      "source": [
        "all_lexemes = pd.DataFrame()\n",
        "q1trainlexemes = pd.DataFrame()\n"
      ],
      "metadata": {
        "id": "qHkeU7z7gK05"
      },
      "execution_count": null,
      "outputs": []
    },
    {
      "cell_type": "code",
      "source": [
        "q1train_X.shape"
      ],
      "metadata": {
        "colab": {
          "base_uri": "https://localhost:8080/"
        },
        "id": "Z6h5tEnxgdlc",
        "outputId": "fed37d39-5267-49bc-a897-8cbf5255419d"
      },
      "execution_count": null,
      "outputs": [
        {
          "output_type": "execute_result",
          "data": {
            "text/plain": [
              "(1319735, 5)"
            ]
          },
          "metadata": {},
          "execution_count": 64
        }
      ]
    },
    {
      "cell_type": "code",
      "source": [
        "# further reduction\n"
      ],
      "metadata": {
        "id": "qBloI_M-hVMg"
      },
      "execution_count": null,
      "outputs": []
    },
    {
      "cell_type": "code",
      "source": [
        "# # converting to sparse matrix\n",
        "# from scipy.sparse import coo_matrix, vstack\n",
        "\n",
        "# count = 0\n",
        "# step = 100000\n",
        "# for i in range(0,q1train_X.shape[0],step):\n",
        "#   if count%2:\n",
        "#     print(count)\n",
        "  \n",
        "#   subdata = q1train_X.iloc[i:min(i+step,q1train_X.shape[0]),:]\n",
        "#   subdata = pd.merge(left = subdata, right = q1trainfeatureset2,left_on = 'lexeme_id',right_on = 'lexeme_id',how=\"left\")\n",
        "#   subdata = subdata.drop('lexeme_id',axis=1)\n",
        "#   #print('size: ',subdata.size/10**6)\n",
        "\n",
        "#   mat = coo_matrix(subdata)\n",
        "#   #print('size after compression: ',mat.size/10**6)\n",
        "#   if i >1:\n",
        "#     print('stacking: ')\n",
        "#     Xq1 = vstack([Xq1,mat])\n",
        "#     #print('saving: ',\"Xq1_\"+str(count))\n",
        "#     #compressed_pickle(path_name+\"Xq1_\"+str(count), mat)\n",
        "#   else:\n",
        "#     Xq1 = mat\n",
        "#     #compressed_pickle(path_name+\"Xq1_\"+str(count), mat)\n",
        "#   del subdata, mat\n",
        "#   count +=1\n",
        "# #print('Saved all, size Xq1: ',Xq1.size/10**6)\n",
        "# compressed_pickle(path_name+\"q1train_ds1\", Xq1)"
      ],
      "metadata": {
        "colab": {
          "base_uri": "https://localhost:8080/"
        },
        "id": "eEHJ7XBTeKYk",
        "outputId": "de156a1c-f21b-4327-9fee-3aa72248d9cc"
      },
      "execution_count": null,
      "outputs": [
        {
          "output_type": "stream",
          "name": "stdout",
          "text": [
            "1\n",
            "stacking: \n",
            "stacking: \n",
            "3\n",
            "stacking: \n",
            "stacking: \n",
            "5\n",
            "stacking: \n",
            "stacking: \n",
            "7\n",
            "stacking: \n",
            "stacking: \n",
            "9\n",
            "stacking: \n",
            "stacking: \n",
            "11\n",
            "stacking: \n",
            "stacking: \n",
            "13\n",
            "stacking: \n"
          ]
        }
      ]
    },
    {
      "cell_type": "code",
      "source": [],
      "metadata": {
        "id": "q3l6FGhheaN_"
      },
      "execution_count": null,
      "outputs": []
    },
    {
      "cell_type": "code",
      "source": [
        "q1test_X = q1test[['lexeme_id','delta','history_seen','history_frac','simoverdiff',]]\n",
        "\n",
        "q1test_y = q1test['p_forgot_bin']"
      ],
      "metadata": {
        "id": "nHOdu7mra6Ek"
      },
      "execution_count": null,
      "outputs": []
    },
    {
      "cell_type": "code",
      "source": [
        "q1test_withfs2 = pd.merge(left= q1test_X,right=q1testfeatureset2,left_on='lexeme_id',right_on = 'lexeme_id',how=\"left\")"
      ],
      "metadata": {
        "id": "fSFMuRUsbEXM"
      },
      "execution_count": null,
      "outputs": []
    },
    {
      "cell_type": "code",
      "source": [
        "#removing lexeme_id\n",
        "#q1train_withfs2 = q1train_withfs2.drop('lexeme_id',axis=1)\n",
        "q1test_withfs2 = q1test_withfs2.drop('lexeme_id',axis=1)\n"
      ],
      "metadata": {
        "id": "naTBvtxOboV3"
      },
      "execution_count": null,
      "outputs": []
    },
    {
      "cell_type": "code",
      "source": [
        "compressed_pickle(path_name+\"q1train_X_fs2_ds\",q1train_withfs2)\n",
        "compressed_pickle(path_name+\"q1test_X_fs2_ds\",q1test_withfs2)"
      ],
      "metadata": {
        "id": "CK10JqNxbMFb"
      },
      "execution_count": null,
      "outputs": []
    },
    {
      "cell_type": "code",
      "source": [
        "compressed_pickle(path_name+\"q1train_y_fs2_ds\",q1test_withfs2)\n",
        "compressed_pickle(path_name+\"q1test_y_fs2_ds\",q1train_withfs2)"
      ],
      "metadata": {
        "id": "t13ohhgfbXjq"
      },
      "execution_count": null,
      "outputs": []
    },
    {
      "cell_type": "markdown",
      "source": [
        "## PCA\n"
      ],
      "metadata": {
        "id": "fRrU5JyI3zT_"
      }
    },
    {
      "cell_type": "code",
      "source": [
        "q1trainfeatureset2 = q1trainfeatureset2.set_index('lexeme_id')\n",
        "q1testfeatureset2 = q1testfeatureset2.set_index('lexeme_id')"
      ],
      "metadata": {
        "id": "e9r8boVI4S-o"
      },
      "execution_count": null,
      "outputs": []
    },
    {
      "cell_type": "code",
      "source": [
        "q1trainfeatureset2.head()"
      ],
      "metadata": {
        "colab": {
          "base_uri": "https://localhost:8080/",
          "height": 331
        },
        "id": "5alOCnwr4b51",
        "outputId": "bc5e8c71-f471-49b6-c39f-d3acbfca61e4"
      },
      "execution_count": null,
      "outputs": [
        {
          "output_type": "execute_result",
          "data": {
            "text/plain": [
              "                                  sf_length  L_dist_sf_noaccents_norm  \\\n",
              "lexeme_id                                                               \n",
              "73eecb492ca758ddab5371cf7b5cca32          4                       0.5   \n",
              "c84476c460737d9fb905dca3d35ec995          5                       0.6   \n",
              "1a913f2ded424985b9c02d0436008511          3                       0.0   \n",
              "38b770e66595fea718366523b4f7db3f          5                       0.8   \n",
              "faa6fd18132b358958e440322ee82b4b          3                       1.0   \n",
              "\n",
              "                                  EnglishIDF         0         1         2  \\\n",
              "lexeme_id                                                                    \n",
              "73eecb492ca758ddab5371cf7b5cca32    3.733996 -0.269015 -0.041727 -0.045045   \n",
              "c84476c460737d9fb905dca3d35ec995   10.981924 -0.007808  0.188679 -0.264520   \n",
              "1a913f2ded424985b9c02d0436008511    4.051187  0.820083  0.677704 -0.500191   \n",
              "38b770e66595fea718366523b4f7db3f    0.438409  0.020896  0.318951 -0.269169   \n",
              "faa6fd18132b358958e440322ee82b4b    0.502649  0.129024  0.423030 -0.457697   \n",
              "\n",
              "                                         3         4         5         6  ...  \\\n",
              "lexeme_id                                                                 ...   \n",
              "73eecb492ca758ddab5371cf7b5cca32  0.069940  0.067316  0.135177 -0.383724  ...   \n",
              "c84476c460737d9fb905dca3d35ec995 -0.134410  0.025235 -0.095146  0.455226  ...   \n",
              "1a913f2ded424985b9c02d0436008511 -0.140807  0.549122  0.634742 -0.355794  ...   \n",
              "38b770e66595fea718366523b4f7db3f  0.024149  0.415287  0.331545 -0.228645  ...   \n",
              "faa6fd18132b358958e440322ee82b4b  0.013778  0.316385  0.414319  0.270645  ...   \n",
              "\n",
              "                                  mod_x0_prs  mod_x0_qnt  mod_x0_ref  \\\n",
              "lexeme_id                                                              \n",
              "73eecb492ca758ddab5371cf7b5cca32         0.0         0.0         0.0   \n",
              "c84476c460737d9fb905dca3d35ec995         0.0         0.0         0.0   \n",
              "1a913f2ded424985b9c02d0436008511         0.0         0.0         0.0   \n",
              "38b770e66595fea718366523b4f7db3f         0.0         0.0         0.0   \n",
              "faa6fd18132b358958e440322ee82b4b         0.0         0.0         0.0   \n",
              "\n",
              "                                  mod_x0_sg  mod_x0_sint  mod_x0_sp  \\\n",
              "lexeme_id                                                             \n",
              "73eecb492ca758ddab5371cf7b5cca32        0.0          0.0        0.0   \n",
              "c84476c460737d9fb905dca3d35ec995        0.0          0.0        0.0   \n",
              "1a913f2ded424985b9c02d0436008511        1.0          0.0        0.0   \n",
              "38b770e66595fea718366523b4f7db3f        1.0          0.0        0.0   \n",
              "faa6fd18132b358958e440322ee82b4b        1.0          0.0        0.0   \n",
              "\n",
              "                                  mod_x0_subj  mod_x0_sup  mod_x0_tn  \\\n",
              "lexeme_id                                                              \n",
              "73eecb492ca758ddab5371cf7b5cca32          0.0         0.0        0.0   \n",
              "c84476c460737d9fb905dca3d35ec995          0.0         0.0        0.0   \n",
              "1a913f2ded424985b9c02d0436008511          0.0         0.0        0.0   \n",
              "38b770e66595fea718366523b4f7db3f          0.0         0.0        0.0   \n",
              "faa6fd18132b358958e440322ee82b4b          0.0         0.0        0.0   \n",
              "\n",
              "                                  mod_x0_nan  \n",
              "lexeme_id                                     \n",
              "73eecb492ca758ddab5371cf7b5cca32         1.0  \n",
              "c84476c460737d9fb905dca3d35ec995         0.0  \n",
              "1a913f2ded424985b9c02d0436008511         0.0  \n",
              "38b770e66595fea718366523b4f7db3f         0.0  \n",
              "faa6fd18132b358958e440322ee82b4b         0.0  \n",
              "\n",
              "[5 rows x 463 columns]"
            ],
            "text/html": [
              "\n",
              "  <div id=\"df-02c32531-9701-495a-b4bc-c21cf7fd6d45\">\n",
              "    <div class=\"colab-df-container\">\n",
              "      <div>\n",
              "<style scoped>\n",
              "    .dataframe tbody tr th:only-of-type {\n",
              "        vertical-align: middle;\n",
              "    }\n",
              "\n",
              "    .dataframe tbody tr th {\n",
              "        vertical-align: top;\n",
              "    }\n",
              "\n",
              "    .dataframe thead th {\n",
              "        text-align: right;\n",
              "    }\n",
              "</style>\n",
              "<table border=\"1\" class=\"dataframe\">\n",
              "  <thead>\n",
              "    <tr style=\"text-align: right;\">\n",
              "      <th></th>\n",
              "      <th>sf_length</th>\n",
              "      <th>L_dist_sf_noaccents_norm</th>\n",
              "      <th>EnglishIDF</th>\n",
              "      <th>0</th>\n",
              "      <th>1</th>\n",
              "      <th>2</th>\n",
              "      <th>3</th>\n",
              "      <th>4</th>\n",
              "      <th>5</th>\n",
              "      <th>6</th>\n",
              "      <th>...</th>\n",
              "      <th>mod_x0_prs</th>\n",
              "      <th>mod_x0_qnt</th>\n",
              "      <th>mod_x0_ref</th>\n",
              "      <th>mod_x0_sg</th>\n",
              "      <th>mod_x0_sint</th>\n",
              "      <th>mod_x0_sp</th>\n",
              "      <th>mod_x0_subj</th>\n",
              "      <th>mod_x0_sup</th>\n",
              "      <th>mod_x0_tn</th>\n",
              "      <th>mod_x0_nan</th>\n",
              "    </tr>\n",
              "    <tr>\n",
              "      <th>lexeme_id</th>\n",
              "      <th></th>\n",
              "      <th></th>\n",
              "      <th></th>\n",
              "      <th></th>\n",
              "      <th></th>\n",
              "      <th></th>\n",
              "      <th></th>\n",
              "      <th></th>\n",
              "      <th></th>\n",
              "      <th></th>\n",
              "      <th></th>\n",
              "      <th></th>\n",
              "      <th></th>\n",
              "      <th></th>\n",
              "      <th></th>\n",
              "      <th></th>\n",
              "      <th></th>\n",
              "      <th></th>\n",
              "      <th></th>\n",
              "      <th></th>\n",
              "      <th></th>\n",
              "    </tr>\n",
              "  </thead>\n",
              "  <tbody>\n",
              "    <tr>\n",
              "      <th>73eecb492ca758ddab5371cf7b5cca32</th>\n",
              "      <td>4</td>\n",
              "      <td>0.5</td>\n",
              "      <td>3.733996</td>\n",
              "      <td>-0.269015</td>\n",
              "      <td>-0.041727</td>\n",
              "      <td>-0.045045</td>\n",
              "      <td>0.069940</td>\n",
              "      <td>0.067316</td>\n",
              "      <td>0.135177</td>\n",
              "      <td>-0.383724</td>\n",
              "      <td>...</td>\n",
              "      <td>0.0</td>\n",
              "      <td>0.0</td>\n",
              "      <td>0.0</td>\n",
              "      <td>0.0</td>\n",
              "      <td>0.0</td>\n",
              "      <td>0.0</td>\n",
              "      <td>0.0</td>\n",
              "      <td>0.0</td>\n",
              "      <td>0.0</td>\n",
              "      <td>1.0</td>\n",
              "    </tr>\n",
              "    <tr>\n",
              "      <th>c84476c460737d9fb905dca3d35ec995</th>\n",
              "      <td>5</td>\n",
              "      <td>0.6</td>\n",
              "      <td>10.981924</td>\n",
              "      <td>-0.007808</td>\n",
              "      <td>0.188679</td>\n",
              "      <td>-0.264520</td>\n",
              "      <td>-0.134410</td>\n",
              "      <td>0.025235</td>\n",
              "      <td>-0.095146</td>\n",
              "      <td>0.455226</td>\n",
              "      <td>...</td>\n",
              "      <td>0.0</td>\n",
              "      <td>0.0</td>\n",
              "      <td>0.0</td>\n",
              "      <td>0.0</td>\n",
              "      <td>0.0</td>\n",
              "      <td>0.0</td>\n",
              "      <td>0.0</td>\n",
              "      <td>0.0</td>\n",
              "      <td>0.0</td>\n",
              "      <td>0.0</td>\n",
              "    </tr>\n",
              "    <tr>\n",
              "      <th>1a913f2ded424985b9c02d0436008511</th>\n",
              "      <td>3</td>\n",
              "      <td>0.0</td>\n",
              "      <td>4.051187</td>\n",
              "      <td>0.820083</td>\n",
              "      <td>0.677704</td>\n",
              "      <td>-0.500191</td>\n",
              "      <td>-0.140807</td>\n",
              "      <td>0.549122</td>\n",
              "      <td>0.634742</td>\n",
              "      <td>-0.355794</td>\n",
              "      <td>...</td>\n",
              "      <td>0.0</td>\n",
              "      <td>0.0</td>\n",
              "      <td>0.0</td>\n",
              "      <td>1.0</td>\n",
              "      <td>0.0</td>\n",
              "      <td>0.0</td>\n",
              "      <td>0.0</td>\n",
              "      <td>0.0</td>\n",
              "      <td>0.0</td>\n",
              "      <td>0.0</td>\n",
              "    </tr>\n",
              "    <tr>\n",
              "      <th>38b770e66595fea718366523b4f7db3f</th>\n",
              "      <td>5</td>\n",
              "      <td>0.8</td>\n",
              "      <td>0.438409</td>\n",
              "      <td>0.020896</td>\n",
              "      <td>0.318951</td>\n",
              "      <td>-0.269169</td>\n",
              "      <td>0.024149</td>\n",
              "      <td>0.415287</td>\n",
              "      <td>0.331545</td>\n",
              "      <td>-0.228645</td>\n",
              "      <td>...</td>\n",
              "      <td>0.0</td>\n",
              "      <td>0.0</td>\n",
              "      <td>0.0</td>\n",
              "      <td>1.0</td>\n",
              "      <td>0.0</td>\n",
              "      <td>0.0</td>\n",
              "      <td>0.0</td>\n",
              "      <td>0.0</td>\n",
              "      <td>0.0</td>\n",
              "      <td>0.0</td>\n",
              "    </tr>\n",
              "    <tr>\n",
              "      <th>faa6fd18132b358958e440322ee82b4b</th>\n",
              "      <td>3</td>\n",
              "      <td>1.0</td>\n",
              "      <td>0.502649</td>\n",
              "      <td>0.129024</td>\n",
              "      <td>0.423030</td>\n",
              "      <td>-0.457697</td>\n",
              "      <td>0.013778</td>\n",
              "      <td>0.316385</td>\n",
              "      <td>0.414319</td>\n",
              "      <td>0.270645</td>\n",
              "      <td>...</td>\n",
              "      <td>0.0</td>\n",
              "      <td>0.0</td>\n",
              "      <td>0.0</td>\n",
              "      <td>1.0</td>\n",
              "      <td>0.0</td>\n",
              "      <td>0.0</td>\n",
              "      <td>0.0</td>\n",
              "      <td>0.0</td>\n",
              "      <td>0.0</td>\n",
              "      <td>0.0</td>\n",
              "    </tr>\n",
              "  </tbody>\n",
              "</table>\n",
              "<p>5 rows × 463 columns</p>\n",
              "</div>\n",
              "      <button class=\"colab-df-convert\" onclick=\"convertToInteractive('df-02c32531-9701-495a-b4bc-c21cf7fd6d45')\"\n",
              "              title=\"Convert this dataframe to an interactive table.\"\n",
              "              style=\"display:none;\">\n",
              "        \n",
              "  <svg xmlns=\"http://www.w3.org/2000/svg\" height=\"24px\"viewBox=\"0 0 24 24\"\n",
              "       width=\"24px\">\n",
              "    <path d=\"M0 0h24v24H0V0z\" fill=\"none\"/>\n",
              "    <path d=\"M18.56 5.44l.94 2.06.94-2.06 2.06-.94-2.06-.94-.94-2.06-.94 2.06-2.06.94zm-11 1L8.5 8.5l.94-2.06 2.06-.94-2.06-.94L8.5 2.5l-.94 2.06-2.06.94zm10 10l.94 2.06.94-2.06 2.06-.94-2.06-.94-.94-2.06-.94 2.06-2.06.94z\"/><path d=\"M17.41 7.96l-1.37-1.37c-.4-.4-.92-.59-1.43-.59-.52 0-1.04.2-1.43.59L10.3 9.45l-7.72 7.72c-.78.78-.78 2.05 0 2.83L4 21.41c.39.39.9.59 1.41.59.51 0 1.02-.2 1.41-.59l7.78-7.78 2.81-2.81c.8-.78.8-2.07 0-2.86zM5.41 20L4 18.59l7.72-7.72 1.47 1.35L5.41 20z\"/>\n",
              "  </svg>\n",
              "      </button>\n",
              "      \n",
              "  <style>\n",
              "    .colab-df-container {\n",
              "      display:flex;\n",
              "      flex-wrap:wrap;\n",
              "      gap: 12px;\n",
              "    }\n",
              "\n",
              "    .colab-df-convert {\n",
              "      background-color: #E8F0FE;\n",
              "      border: none;\n",
              "      border-radius: 50%;\n",
              "      cursor: pointer;\n",
              "      display: none;\n",
              "      fill: #1967D2;\n",
              "      height: 32px;\n",
              "      padding: 0 0 0 0;\n",
              "      width: 32px;\n",
              "    }\n",
              "\n",
              "    .colab-df-convert:hover {\n",
              "      background-color: #E2EBFA;\n",
              "      box-shadow: 0px 1px 2px rgba(60, 64, 67, 0.3), 0px 1px 3px 1px rgba(60, 64, 67, 0.15);\n",
              "      fill: #174EA6;\n",
              "    }\n",
              "\n",
              "    [theme=dark] .colab-df-convert {\n",
              "      background-color: #3B4455;\n",
              "      fill: #D2E3FC;\n",
              "    }\n",
              "\n",
              "    [theme=dark] .colab-df-convert:hover {\n",
              "      background-color: #434B5C;\n",
              "      box-shadow: 0px 1px 3px 1px rgba(0, 0, 0, 0.15);\n",
              "      filter: drop-shadow(0px 1px 2px rgba(0, 0, 0, 0.3));\n",
              "      fill: #FFFFFF;\n",
              "    }\n",
              "  </style>\n",
              "\n",
              "      <script>\n",
              "        const buttonEl =\n",
              "          document.querySelector('#df-02c32531-9701-495a-b4bc-c21cf7fd6d45 button.colab-df-convert');\n",
              "        buttonEl.style.display =\n",
              "          google.colab.kernel.accessAllowed ? 'block' : 'none';\n",
              "\n",
              "        async function convertToInteractive(key) {\n",
              "          const element = document.querySelector('#df-02c32531-9701-495a-b4bc-c21cf7fd6d45');\n",
              "          const dataTable =\n",
              "            await google.colab.kernel.invokeFunction('convertToInteractive',\n",
              "                                                     [key], {});\n",
              "          if (!dataTable) return;\n",
              "\n",
              "          const docLinkHtml = 'Like what you see? Visit the ' +\n",
              "            '<a target=\"_blank\" href=https://colab.research.google.com/notebooks/data_table.ipynb>data table notebook</a>'\n",
              "            + ' to learn more about interactive tables.';\n",
              "          element.innerHTML = '';\n",
              "          dataTable['output_type'] = 'display_data';\n",
              "          await google.colab.output.renderOutput(dataTable, element);\n",
              "          const docLink = document.createElement('div');\n",
              "          docLink.innerHTML = docLinkHtml;\n",
              "          element.appendChild(docLink);\n",
              "        }\n",
              "      </script>\n",
              "    </div>\n",
              "  </div>\n",
              "  "
            ]
          },
          "metadata": {},
          "execution_count": 69
        }
      ]
    },
    {
      "cell_type": "markdown",
      "source": [
        "Checking for any non-numeric columns left:"
      ],
      "metadata": {
        "id": "0yxWkyw94m0X"
      }
    },
    {
      "cell_type": "code",
      "source": [
        "q1trainfeatureset2.select_dtypes('object').columns"
      ],
      "metadata": {
        "colab": {
          "base_uri": "https://localhost:8080/"
        },
        "id": "nuBzkTek4lvg",
        "outputId": "c74b3531-43e8-48a0-ea1d-5f94c8539a54"
      },
      "execution_count": null,
      "outputs": [
        {
          "output_type": "execute_result",
          "data": {
            "text/plain": [
              "Index([], dtype='object')"
            ]
          },
          "metadata": {},
          "execution_count": 70
        }
      ]
    },
    {
      "cell_type": "code",
      "source": [
        "q1trainfeatureset2.shape"
      ],
      "metadata": {
        "colab": {
          "base_uri": "https://localhost:8080/"
        },
        "id": "SIIPVGPg7Ehb",
        "outputId": "f256f060-a196-418e-b7a0-c948ae5dd017"
      },
      "execution_count": null,
      "outputs": [
        {
          "output_type": "execute_result",
          "data": {
            "text/plain": [
              "(9580, 463)"
            ]
          },
          "metadata": {},
          "execution_count": 71
        }
      ]
    },
    {
      "cell_type": "markdown",
      "source": [
        "Data is first scaled to make it mean-centered to prepare it for PCA. "
      ],
      "metadata": {
        "id": "_274ftqz4JE7"
      }
    },
    {
      "cell_type": "code",
      "source": [
        "from sklearn.preprocessing import StandardScaler\n",
        "stdscaler = StandardScaler()\n",
        "q1trainfearureset2_ss = stdscaler.fit_transform(q1trainfeatureset2)\n",
        "\n",
        "\n",
        "from sklearn.decomposition import PCA\n",
        "pca9 = PCA(n_components=0.9)\n",
        "\n",
        "# fitting\n",
        "q1trainfeatureset2_red9 = pca9.fit_transform(q1trainfearureset2_ss)"
      ],
      "metadata": {
        "colab": {
          "base_uri": "https://localhost:8080/"
        },
        "id": "WAxLWfem36uT",
        "outputId": "5017dab9-8550-4c1d-ae8c-68d9d7d88c82"
      },
      "execution_count": null,
      "outputs": [
        {
          "output_type": "stream",
          "name": "stderr",
          "text": [
            "/usr/local/lib/python3.7/dist-packages/sklearn/utils/validation.py:1692: FutureWarning: Feature names only support names that are all strings. Got feature names with dtypes: ['int', 'str']. An error will be raised in 1.2.\n",
            "  FutureWarning,\n",
            "/usr/local/lib/python3.7/dist-packages/sklearn/utils/validation.py:1692: FutureWarning: Feature names only support names that are all strings. Got feature names with dtypes: ['int', 'str']. An error will be raised in 1.2.\n",
            "  FutureWarning,\n"
          ]
        }
      ]
    },
    {
      "cell_type": "code",
      "source": [
        "q1trainfeatureset2_red9.shape"
      ],
      "metadata": {
        "colab": {
          "base_uri": "https://localhost:8080/"
        },
        "id": "YZXL_hDI4vQk",
        "outputId": "1e0408ba-df2c-4095-b559-ca2d2f69cce9"
      },
      "execution_count": null,
      "outputs": [
        {
          "output_type": "execute_result",
          "data": {
            "text/plain": [
              "(9580, 271)"
            ]
          },
          "metadata": {},
          "execution_count": 73
        }
      ]
    },
    {
      "cell_type": "markdown",
      "source": [
        "90% variance explained by 271 columns. \n",
        "\n",
        "The loadings are investigated below:"
      ],
      "metadata": {
        "id": "98wVX0W-4xk9"
      }
    },
    {
      "cell_type": "code",
      "source": [
        "loadings = pd.DataFrame(pca9.components_, columns=q1trainfeatureset2.columns)\n",
        "loadings"
      ],
      "metadata": {
        "colab": {
          "base_uri": "https://localhost:8080/",
          "height": 488
        },
        "id": "Eanyyjpy5QY3",
        "outputId": "aa54eceb-cc9c-4447-8d28-458f9698bf05"
      },
      "execution_count": null,
      "outputs": [
        {
          "output_type": "execute_result",
          "data": {
            "text/plain": [
              "     sf_length  L_dist_sf_noaccents_norm  EnglishIDF         0         1  \\\n",
              "0     0.017849                 -0.031132    0.059877  0.030451 -0.078079   \n",
              "1     0.004827                 -0.013681   -0.012546  0.098755 -0.066511   \n",
              "2     0.004775                 -0.001418    0.012195  0.047188  0.037138   \n",
              "3    -0.052165                  0.055742   -0.002425 -0.066930  0.023099   \n",
              "4    -0.059022                  0.053721    0.007841  0.097626  0.030037   \n",
              "..         ...                       ...         ...       ...       ...   \n",
              "266  -0.001649                 -0.016163   -0.116243  0.030690 -0.030508   \n",
              "267   0.057014                  0.032477   -0.017495  0.051156  0.006122   \n",
              "268  -0.061264                 -0.053264   -0.006183  0.069093  0.097740   \n",
              "269   0.045792                  0.042629    0.062948 -0.050038  0.118034   \n",
              "270  -0.053177                 -0.085525   -0.057733  0.074360  0.113557   \n",
              "\n",
              "            2         3         4         5         6  ...  mod_x0_prs  \\\n",
              "0    0.099147 -0.012676 -0.039878  0.049507 -0.003042  ...   -0.018696   \n",
              "1   -0.020740  0.084763 -0.051498 -0.012067 -0.040077  ...   -0.003618   \n",
              "2   -0.095112 -0.035519  0.075761  0.054660 -0.003341  ...    0.003012   \n",
              "3   -0.004606 -0.135722 -0.032789  0.084563  0.035475  ...   -0.004042   \n",
              "4   -0.031822 -0.029534  0.053815  0.022076  0.016516  ...    0.005990   \n",
              "..        ...       ...       ...       ...       ...  ...         ...   \n",
              "266 -0.027006 -0.040885 -0.021890  0.018626 -0.109399  ...    0.027017   \n",
              "267  0.024443 -0.059754 -0.002965 -0.107505 -0.111863  ...   -0.003496   \n",
              "268 -0.008988  0.077385 -0.054187  0.019313  0.067915  ...   -0.012111   \n",
              "269 -0.045549  0.007037  0.019161  0.008344  0.059530  ...    0.036244   \n",
              "270 -0.047758 -0.063645  0.053105  0.039151 -0.119588  ...   -0.017855   \n",
              "\n",
              "     mod_x0_qnt  mod_x0_ref  mod_x0_sg  mod_x0_sint  mod_x0_sp  mod_x0_subj  \\\n",
              "0     -0.004833   -0.003021   0.046398    -0.000822   0.014426    -0.006265   \n",
              "1     -0.000626   -0.003140   0.003872    -0.004956  -0.009103    -0.000683   \n",
              "2     -0.003209   -0.003405  -0.003353    -0.014182  -0.001410    -0.006549   \n",
              "3      0.015552    0.008573   0.029254     0.015375   0.018216     0.010250   \n",
              "4      0.003328   -0.002332   0.018608    -0.003373   0.002715     0.008244   \n",
              "..          ...         ...        ...          ...        ...          ...   \n",
              "266    0.026813    0.013161  -0.021365     0.032894  -0.120362    -0.007556   \n",
              "267   -0.019090    0.046365   0.032862     0.070689  -0.073182     0.005049   \n",
              "268    0.006929    0.044115   0.016977    -0.027756  -0.045692     0.008388   \n",
              "269    0.031277    0.007650   0.029252     0.080739  -0.055345    -0.011745   \n",
              "270   -0.026571   -0.015090  -0.006555    -0.047750   0.031953    -0.004517   \n",
              "\n",
              "     mod_x0_sup  mod_x0_tn  mod_x0_nan  \n",
              "0     -0.000819  -0.013409   -0.022588  \n",
              "1     -0.001385  -0.004851   -0.019140  \n",
              "2     -0.001942  -0.000419   -0.005840  \n",
              "3      0.002162   0.030015    0.073431  \n",
              "4     -0.003924   0.008861   -0.010914  \n",
              "..          ...        ...         ...  \n",
              "266   -0.016944  -0.016154   -0.034606  \n",
              "267   -0.015593  -0.006549   -0.012985  \n",
              "268    0.007976   0.001814    0.049403  \n",
              "269   -0.022239  -0.008965   -0.026618  \n",
              "270    0.024008  -0.006161   -0.005057  \n",
              "\n",
              "[271 rows x 463 columns]"
            ],
            "text/html": [
              "\n",
              "  <div id=\"df-89b91fe8-dd19-4008-b2b1-81ee0ffee724\">\n",
              "    <div class=\"colab-df-container\">\n",
              "      <div>\n",
              "<style scoped>\n",
              "    .dataframe tbody tr th:only-of-type {\n",
              "        vertical-align: middle;\n",
              "    }\n",
              "\n",
              "    .dataframe tbody tr th {\n",
              "        vertical-align: top;\n",
              "    }\n",
              "\n",
              "    .dataframe thead th {\n",
              "        text-align: right;\n",
              "    }\n",
              "</style>\n",
              "<table border=\"1\" class=\"dataframe\">\n",
              "  <thead>\n",
              "    <tr style=\"text-align: right;\">\n",
              "      <th></th>\n",
              "      <th>sf_length</th>\n",
              "      <th>L_dist_sf_noaccents_norm</th>\n",
              "      <th>EnglishIDF</th>\n",
              "      <th>0</th>\n",
              "      <th>1</th>\n",
              "      <th>2</th>\n",
              "      <th>3</th>\n",
              "      <th>4</th>\n",
              "      <th>5</th>\n",
              "      <th>6</th>\n",
              "      <th>...</th>\n",
              "      <th>mod_x0_prs</th>\n",
              "      <th>mod_x0_qnt</th>\n",
              "      <th>mod_x0_ref</th>\n",
              "      <th>mod_x0_sg</th>\n",
              "      <th>mod_x0_sint</th>\n",
              "      <th>mod_x0_sp</th>\n",
              "      <th>mod_x0_subj</th>\n",
              "      <th>mod_x0_sup</th>\n",
              "      <th>mod_x0_tn</th>\n",
              "      <th>mod_x0_nan</th>\n",
              "    </tr>\n",
              "  </thead>\n",
              "  <tbody>\n",
              "    <tr>\n",
              "      <th>0</th>\n",
              "      <td>0.017849</td>\n",
              "      <td>-0.031132</td>\n",
              "      <td>0.059877</td>\n",
              "      <td>0.030451</td>\n",
              "      <td>-0.078079</td>\n",
              "      <td>0.099147</td>\n",
              "      <td>-0.012676</td>\n",
              "      <td>-0.039878</td>\n",
              "      <td>0.049507</td>\n",
              "      <td>-0.003042</td>\n",
              "      <td>...</td>\n",
              "      <td>-0.018696</td>\n",
              "      <td>-0.004833</td>\n",
              "      <td>-0.003021</td>\n",
              "      <td>0.046398</td>\n",
              "      <td>-0.000822</td>\n",
              "      <td>0.014426</td>\n",
              "      <td>-0.006265</td>\n",
              "      <td>-0.000819</td>\n",
              "      <td>-0.013409</td>\n",
              "      <td>-0.022588</td>\n",
              "    </tr>\n",
              "    <tr>\n",
              "      <th>1</th>\n",
              "      <td>0.004827</td>\n",
              "      <td>-0.013681</td>\n",
              "      <td>-0.012546</td>\n",
              "      <td>0.098755</td>\n",
              "      <td>-0.066511</td>\n",
              "      <td>-0.020740</td>\n",
              "      <td>0.084763</td>\n",
              "      <td>-0.051498</td>\n",
              "      <td>-0.012067</td>\n",
              "      <td>-0.040077</td>\n",
              "      <td>...</td>\n",
              "      <td>-0.003618</td>\n",
              "      <td>-0.000626</td>\n",
              "      <td>-0.003140</td>\n",
              "      <td>0.003872</td>\n",
              "      <td>-0.004956</td>\n",
              "      <td>-0.009103</td>\n",
              "      <td>-0.000683</td>\n",
              "      <td>-0.001385</td>\n",
              "      <td>-0.004851</td>\n",
              "      <td>-0.019140</td>\n",
              "    </tr>\n",
              "    <tr>\n",
              "      <th>2</th>\n",
              "      <td>0.004775</td>\n",
              "      <td>-0.001418</td>\n",
              "      <td>0.012195</td>\n",
              "      <td>0.047188</td>\n",
              "      <td>0.037138</td>\n",
              "      <td>-0.095112</td>\n",
              "      <td>-0.035519</td>\n",
              "      <td>0.075761</td>\n",
              "      <td>0.054660</td>\n",
              "      <td>-0.003341</td>\n",
              "      <td>...</td>\n",
              "      <td>0.003012</td>\n",
              "      <td>-0.003209</td>\n",
              "      <td>-0.003405</td>\n",
              "      <td>-0.003353</td>\n",
              "      <td>-0.014182</td>\n",
              "      <td>-0.001410</td>\n",
              "      <td>-0.006549</td>\n",
              "      <td>-0.001942</td>\n",
              "      <td>-0.000419</td>\n",
              "      <td>-0.005840</td>\n",
              "    </tr>\n",
              "    <tr>\n",
              "      <th>3</th>\n",
              "      <td>-0.052165</td>\n",
              "      <td>0.055742</td>\n",
              "      <td>-0.002425</td>\n",
              "      <td>-0.066930</td>\n",
              "      <td>0.023099</td>\n",
              "      <td>-0.004606</td>\n",
              "      <td>-0.135722</td>\n",
              "      <td>-0.032789</td>\n",
              "      <td>0.084563</td>\n",
              "      <td>0.035475</td>\n",
              "      <td>...</td>\n",
              "      <td>-0.004042</td>\n",
              "      <td>0.015552</td>\n",
              "      <td>0.008573</td>\n",
              "      <td>0.029254</td>\n",
              "      <td>0.015375</td>\n",
              "      <td>0.018216</td>\n",
              "      <td>0.010250</td>\n",
              "      <td>0.002162</td>\n",
              "      <td>0.030015</td>\n",
              "      <td>0.073431</td>\n",
              "    </tr>\n",
              "    <tr>\n",
              "      <th>4</th>\n",
              "      <td>-0.059022</td>\n",
              "      <td>0.053721</td>\n",
              "      <td>0.007841</td>\n",
              "      <td>0.097626</td>\n",
              "      <td>0.030037</td>\n",
              "      <td>-0.031822</td>\n",
              "      <td>-0.029534</td>\n",
              "      <td>0.053815</td>\n",
              "      <td>0.022076</td>\n",
              "      <td>0.016516</td>\n",
              "      <td>...</td>\n",
              "      <td>0.005990</td>\n",
              "      <td>0.003328</td>\n",
              "      <td>-0.002332</td>\n",
              "      <td>0.018608</td>\n",
              "      <td>-0.003373</td>\n",
              "      <td>0.002715</td>\n",
              "      <td>0.008244</td>\n",
              "      <td>-0.003924</td>\n",
              "      <td>0.008861</td>\n",
              "      <td>-0.010914</td>\n",
              "    </tr>\n",
              "    <tr>\n",
              "      <th>...</th>\n",
              "      <td>...</td>\n",
              "      <td>...</td>\n",
              "      <td>...</td>\n",
              "      <td>...</td>\n",
              "      <td>...</td>\n",
              "      <td>...</td>\n",
              "      <td>...</td>\n",
              "      <td>...</td>\n",
              "      <td>...</td>\n",
              "      <td>...</td>\n",
              "      <td>...</td>\n",
              "      <td>...</td>\n",
              "      <td>...</td>\n",
              "      <td>...</td>\n",
              "      <td>...</td>\n",
              "      <td>...</td>\n",
              "      <td>...</td>\n",
              "      <td>...</td>\n",
              "      <td>...</td>\n",
              "      <td>...</td>\n",
              "      <td>...</td>\n",
              "    </tr>\n",
              "    <tr>\n",
              "      <th>266</th>\n",
              "      <td>-0.001649</td>\n",
              "      <td>-0.016163</td>\n",
              "      <td>-0.116243</td>\n",
              "      <td>0.030690</td>\n",
              "      <td>-0.030508</td>\n",
              "      <td>-0.027006</td>\n",
              "      <td>-0.040885</td>\n",
              "      <td>-0.021890</td>\n",
              "      <td>0.018626</td>\n",
              "      <td>-0.109399</td>\n",
              "      <td>...</td>\n",
              "      <td>0.027017</td>\n",
              "      <td>0.026813</td>\n",
              "      <td>0.013161</td>\n",
              "      <td>-0.021365</td>\n",
              "      <td>0.032894</td>\n",
              "      <td>-0.120362</td>\n",
              "      <td>-0.007556</td>\n",
              "      <td>-0.016944</td>\n",
              "      <td>-0.016154</td>\n",
              "      <td>-0.034606</td>\n",
              "    </tr>\n",
              "    <tr>\n",
              "      <th>267</th>\n",
              "      <td>0.057014</td>\n",
              "      <td>0.032477</td>\n",
              "      <td>-0.017495</td>\n",
              "      <td>0.051156</td>\n",
              "      <td>0.006122</td>\n",
              "      <td>0.024443</td>\n",
              "      <td>-0.059754</td>\n",
              "      <td>-0.002965</td>\n",
              "      <td>-0.107505</td>\n",
              "      <td>-0.111863</td>\n",
              "      <td>...</td>\n",
              "      <td>-0.003496</td>\n",
              "      <td>-0.019090</td>\n",
              "      <td>0.046365</td>\n",
              "      <td>0.032862</td>\n",
              "      <td>0.070689</td>\n",
              "      <td>-0.073182</td>\n",
              "      <td>0.005049</td>\n",
              "      <td>-0.015593</td>\n",
              "      <td>-0.006549</td>\n",
              "      <td>-0.012985</td>\n",
              "    </tr>\n",
              "    <tr>\n",
              "      <th>268</th>\n",
              "      <td>-0.061264</td>\n",
              "      <td>-0.053264</td>\n",
              "      <td>-0.006183</td>\n",
              "      <td>0.069093</td>\n",
              "      <td>0.097740</td>\n",
              "      <td>-0.008988</td>\n",
              "      <td>0.077385</td>\n",
              "      <td>-0.054187</td>\n",
              "      <td>0.019313</td>\n",
              "      <td>0.067915</td>\n",
              "      <td>...</td>\n",
              "      <td>-0.012111</td>\n",
              "      <td>0.006929</td>\n",
              "      <td>0.044115</td>\n",
              "      <td>0.016977</td>\n",
              "      <td>-0.027756</td>\n",
              "      <td>-0.045692</td>\n",
              "      <td>0.008388</td>\n",
              "      <td>0.007976</td>\n",
              "      <td>0.001814</td>\n",
              "      <td>0.049403</td>\n",
              "    </tr>\n",
              "    <tr>\n",
              "      <th>269</th>\n",
              "      <td>0.045792</td>\n",
              "      <td>0.042629</td>\n",
              "      <td>0.062948</td>\n",
              "      <td>-0.050038</td>\n",
              "      <td>0.118034</td>\n",
              "      <td>-0.045549</td>\n",
              "      <td>0.007037</td>\n",
              "      <td>0.019161</td>\n",
              "      <td>0.008344</td>\n",
              "      <td>0.059530</td>\n",
              "      <td>...</td>\n",
              "      <td>0.036244</td>\n",
              "      <td>0.031277</td>\n",
              "      <td>0.007650</td>\n",
              "      <td>0.029252</td>\n",
              "      <td>0.080739</td>\n",
              "      <td>-0.055345</td>\n",
              "      <td>-0.011745</td>\n",
              "      <td>-0.022239</td>\n",
              "      <td>-0.008965</td>\n",
              "      <td>-0.026618</td>\n",
              "    </tr>\n",
              "    <tr>\n",
              "      <th>270</th>\n",
              "      <td>-0.053177</td>\n",
              "      <td>-0.085525</td>\n",
              "      <td>-0.057733</td>\n",
              "      <td>0.074360</td>\n",
              "      <td>0.113557</td>\n",
              "      <td>-0.047758</td>\n",
              "      <td>-0.063645</td>\n",
              "      <td>0.053105</td>\n",
              "      <td>0.039151</td>\n",
              "      <td>-0.119588</td>\n",
              "      <td>...</td>\n",
              "      <td>-0.017855</td>\n",
              "      <td>-0.026571</td>\n",
              "      <td>-0.015090</td>\n",
              "      <td>-0.006555</td>\n",
              "      <td>-0.047750</td>\n",
              "      <td>0.031953</td>\n",
              "      <td>-0.004517</td>\n",
              "      <td>0.024008</td>\n",
              "      <td>-0.006161</td>\n",
              "      <td>-0.005057</td>\n",
              "    </tr>\n",
              "  </tbody>\n",
              "</table>\n",
              "<p>271 rows × 463 columns</p>\n",
              "</div>\n",
              "      <button class=\"colab-df-convert\" onclick=\"convertToInteractive('df-89b91fe8-dd19-4008-b2b1-81ee0ffee724')\"\n",
              "              title=\"Convert this dataframe to an interactive table.\"\n",
              "              style=\"display:none;\">\n",
              "        \n",
              "  <svg xmlns=\"http://www.w3.org/2000/svg\" height=\"24px\"viewBox=\"0 0 24 24\"\n",
              "       width=\"24px\">\n",
              "    <path d=\"M0 0h24v24H0V0z\" fill=\"none\"/>\n",
              "    <path d=\"M18.56 5.44l.94 2.06.94-2.06 2.06-.94-2.06-.94-.94-2.06-.94 2.06-2.06.94zm-11 1L8.5 8.5l.94-2.06 2.06-.94-2.06-.94L8.5 2.5l-.94 2.06-2.06.94zm10 10l.94 2.06.94-2.06 2.06-.94-2.06-.94-.94-2.06-.94 2.06-2.06.94z\"/><path d=\"M17.41 7.96l-1.37-1.37c-.4-.4-.92-.59-1.43-.59-.52 0-1.04.2-1.43.59L10.3 9.45l-7.72 7.72c-.78.78-.78 2.05 0 2.83L4 21.41c.39.39.9.59 1.41.59.51 0 1.02-.2 1.41-.59l7.78-7.78 2.81-2.81c.8-.78.8-2.07 0-2.86zM5.41 20L4 18.59l7.72-7.72 1.47 1.35L5.41 20z\"/>\n",
              "  </svg>\n",
              "      </button>\n",
              "      \n",
              "  <style>\n",
              "    .colab-df-container {\n",
              "      display:flex;\n",
              "      flex-wrap:wrap;\n",
              "      gap: 12px;\n",
              "    }\n",
              "\n",
              "    .colab-df-convert {\n",
              "      background-color: #E8F0FE;\n",
              "      border: none;\n",
              "      border-radius: 50%;\n",
              "      cursor: pointer;\n",
              "      display: none;\n",
              "      fill: #1967D2;\n",
              "      height: 32px;\n",
              "      padding: 0 0 0 0;\n",
              "      width: 32px;\n",
              "    }\n",
              "\n",
              "    .colab-df-convert:hover {\n",
              "      background-color: #E2EBFA;\n",
              "      box-shadow: 0px 1px 2px rgba(60, 64, 67, 0.3), 0px 1px 3px 1px rgba(60, 64, 67, 0.15);\n",
              "      fill: #174EA6;\n",
              "    }\n",
              "\n",
              "    [theme=dark] .colab-df-convert {\n",
              "      background-color: #3B4455;\n",
              "      fill: #D2E3FC;\n",
              "    }\n",
              "\n",
              "    [theme=dark] .colab-df-convert:hover {\n",
              "      background-color: #434B5C;\n",
              "      box-shadow: 0px 1px 3px 1px rgba(0, 0, 0, 0.15);\n",
              "      filter: drop-shadow(0px 1px 2px rgba(0, 0, 0, 0.3));\n",
              "      fill: #FFFFFF;\n",
              "    }\n",
              "  </style>\n",
              "\n",
              "      <script>\n",
              "        const buttonEl =\n",
              "          document.querySelector('#df-89b91fe8-dd19-4008-b2b1-81ee0ffee724 button.colab-df-convert');\n",
              "        buttonEl.style.display =\n",
              "          google.colab.kernel.accessAllowed ? 'block' : 'none';\n",
              "\n",
              "        async function convertToInteractive(key) {\n",
              "          const element = document.querySelector('#df-89b91fe8-dd19-4008-b2b1-81ee0ffee724');\n",
              "          const dataTable =\n",
              "            await google.colab.kernel.invokeFunction('convertToInteractive',\n",
              "                                                     [key], {});\n",
              "          if (!dataTable) return;\n",
              "\n",
              "          const docLinkHtml = 'Like what you see? Visit the ' +\n",
              "            '<a target=\"_blank\" href=https://colab.research.google.com/notebooks/data_table.ipynb>data table notebook</a>'\n",
              "            + ' to learn more about interactive tables.';\n",
              "          element.innerHTML = '';\n",
              "          dataTable['output_type'] = 'display_data';\n",
              "          await google.colab.output.renderOutput(dataTable, element);\n",
              "          const docLink = document.createElement('div');\n",
              "          docLink.innerHTML = docLinkHtml;\n",
              "          element.appendChild(docLink);\n",
              "        }\n",
              "      </script>\n",
              "    </div>\n",
              "  </div>\n",
              "  "
            ]
          },
          "metadata": {},
          "execution_count": 74
        }
      ]
    },
    {
      "cell_type": "markdown",
      "source": [
        "In the above dataframe, each row represents a principal component, starting from the directin of highest variance decreasing to the lowest, until 90% of the variance in the original dataset is explained. \n",
        "\n",
        "The loadings in each principal component of each feature in the original dataset is summed up in the series below:"
      ],
      "metadata": {
        "id": "kaAySGKk7KN_"
      }
    },
    {
      "cell_type": "code",
      "source": [
        "loadingsum = loadings.sum(axis=0)\n",
        "loadingsum"
      ],
      "metadata": {
        "colab": {
          "base_uri": "https://localhost:8080/"
        },
        "id": "0tRLtNg17wml",
        "outputId": "b3a85a4e-8e18-4f9c-a509-885e8ade613a"
      },
      "execution_count": null,
      "outputs": [
        {
          "output_type": "execute_result",
          "data": {
            "text/plain": [
              "sf_length                   0.522613\n",
              "L_dist_sf_noaccents_norm   -0.517891\n",
              "EnglishIDF                  0.217577\n",
              "0                           0.659843\n",
              "1                           0.524927\n",
              "                              ...   \n",
              "mod_x0_sp                  -1.594164\n",
              "mod_x0_subj                 0.882928\n",
              "mod_x0_sup                  1.692304\n",
              "mod_x0_tn                   0.695434\n",
              "mod_x0_nan                  0.448133\n",
              "Length: 463, dtype: float64"
            ]
          },
          "metadata": {},
          "execution_count": 75
        }
      ]
    },
    {
      "cell_type": "code",
      "source": [
        "loadingsum.abs().sort_values(ascending=False).head(20)"
      ],
      "metadata": {
        "colab": {
          "base_uri": "https://localhost:8080/"
        },
        "id": "HhpiAFzE79-L",
        "outputId": "527188ec-f66e-4c57-a44e-6e3684d6578e"
      },
      "execution_count": null,
      "outputs": [
        {
          "output_type": "execute_result",
          "data": {
            "text/plain": [
              "mod_x0_@prn:quelque_chose          3.359849\n",
              "mod_x0_@det:a_le                   3.144091\n",
              "mod_x0_@subjunctive_perfect        2.857307\n",
              "pos_x0_vaux                        2.652168\n",
              "pos_x0_@common_phrases:a_demain    2.595704\n",
              "mod_x0_pron                        2.436056\n",
              "pos_x0_@ij:au_revoir               2.172931\n",
              "mod_x0_@ref                        2.103404\n",
              "mod_x0_@pos                        2.097157\n",
              "pos_x0_@adv:a_priori               1.892714\n",
              "171                                1.852390\n",
              "pos_x0_@cnj:pendant_que            1.849413\n",
              "pos_x0_@ij:buenos_dias             1.798597\n",
              "mod_x0_@prn:quelque_un             1.755661\n",
              "mod_x0_prn                         1.725476\n",
              "pos_x0_@cnj:bien_que               1.703490\n",
              "mod_x0_sup                         1.692304\n",
              "mod_x0_@prn:le_mien                1.674840\n",
              "mod_x0_@past_inf                   1.643226\n",
              "mod_x0_enc                         1.640443\n",
              "dtype: float64"
            ]
          },
          "metadata": {},
          "execution_count": 76
        }
      ]
    },
    {
      "cell_type": "markdown",
      "source": [
        "The components have higher loadings for the part of speech and modifer binary columns, and a few vectr words. \n",
        "\n",
        "Derived word vectors don't seem to show too much variance in values in the dataset. "
      ],
      "metadata": {
        "id": "xy7JjugU8Otl"
      }
    },
    {
      "cell_type": "code",
      "source": [
        "pca7 = PCA(n_components=0.7)\n",
        "# fitting\n",
        "q1trainfeatureset2_red7 = pca7.fit_transform(q1trainfearureset2_ss)"
      ],
      "metadata": {
        "id": "3arsNZYq83v2"
      },
      "execution_count": null,
      "outputs": []
    },
    {
      "cell_type": "code",
      "source": [
        "q1trainfeatureset2_red7.shape"
      ],
      "metadata": {
        "id": "105Mkxng8_B4"
      },
      "execution_count": null,
      "outputs": []
    },
    {
      "cell_type": "code",
      "source": [
        "q1trainfeatureset2_red9 = pd.DataFrame(q1trainfeatureset2_red9,index=q1trainfeatureset2.index)"
      ],
      "metadata": {
        "id": "aUQH-MLxIl2D"
      },
      "execution_count": null,
      "outputs": []
    },
    {
      "cell_type": "code",
      "source": [
        "q1trainfeatureset2_red9.shape"
      ],
      "metadata": {
        "id": "weR-jgCaJT1W"
      },
      "execution_count": null,
      "outputs": []
    },
    {
      "cell_type": "code",
      "source": [
        "try: \n",
        "  del Xq1\n",
        "except:\n",
        "  pass"
      ],
      "metadata": {
        "id": "RSM52LpPoMqZ"
      },
      "execution_count": null,
      "outputs": []
    },
    {
      "cell_type": "code",
      "source": [
        "from scipy.sparse import coo_matrix, vstack\n",
        "count = 0\n",
        "step = 300000\n",
        "\n",
        "array_list = []\n",
        "\n",
        "for i in range(0,q1train_X.shape[0],step):\n",
        "  if count%2:\n",
        "    print(count)\n",
        "  \n",
        "  subdata = q1train_X.iloc[i:min(i+step,q1train_X.shape[0]),:]\n",
        "  subdata = pd.merge(left = subdata, right = q1trainfeatureset2_red9,left_on = 'lexeme_id',right_on = 'lexeme_id',how=\"left\")\n",
        "  subdata = subdata.drop('lexeme_id',axis=1)\n",
        "  #print('size: ',subdata.size/10**6)\n",
        "\n",
        "  mat = coo_matrix(subdata)\n",
        "  #print('size after compression: ',mat.size/10**6)\n",
        "  if i >1:\n",
        "    print('stacking: ')\n",
        "    array_list = array_list + [mat]\n",
        "    #print('saving: ',\"Xq1_\"+str(count))\n",
        "    #compressed_pickle(path_name+\"Xq1_\"+str(count), mat)\n",
        "  else:\n",
        "    array_list = [mat]\n",
        "    #compressed_pickle(path_name+\"Xq1_\"+str(count), mat)\n",
        "  subdata = pd.DataFrame()\n",
        "  del mat\n",
        "  count +=1\n",
        "#print('Saved all, size Xq1: ',Xq1.size/10**6)\n",
        "#compressed_pickle(path_name+\"q1train_pipe1\", Xq1)"
      ],
      "metadata": {
        "id": "i6XgbdsULtpU"
      },
      "execution_count": null,
      "outputs": []
    },
    {
      "cell_type": "code",
      "source": [
        "Xq1 = vstack(array_list)"
      ],
      "metadata": {
        "id": "XuYvIgCNLI48"
      },
      "execution_count": null,
      "outputs": []
    },
    {
      "cell_type": "code",
      "source": [
        "compressed_pickle(path_name+\"array_listQ1set2\",array_list)"
      ],
      "metadata": {
        "id": "M2_ILCbMNjQL"
      },
      "execution_count": null,
      "outputs": []
    },
    {
      "cell_type": "markdown",
      "source": [
        "Alternate featureset with just word vectors and derived word features:"
      ],
      "metadata": {
        "id": "e5D3BJqHIiNZ"
      }
    },
    {
      "cell_type": "code",
      "source": [
        "q1trainfeatureset3 = q1trainfeatureset2[[col for col in q1trainfeatureset2 if not (str(col).startswith('mod_') or str(col).startswith('pos_'))]]\n",
        "q1trainfeatureset3.shape"
      ],
      "metadata": {
        "colab": {
          "base_uri": "https://localhost:8080/"
        },
        "id": "DhjP7w0O-bU7",
        "outputId": "305f3c66-6811-4065-891f-b755996db548"
      },
      "execution_count": null,
      "outputs": [
        {
          "output_type": "execute_result",
          "data": {
            "text/plain": [
              "(9580, 308)"
            ]
          },
          "metadata": {},
          "execution_count": 77
        }
      ]
    },
    {
      "cell_type": "markdown",
      "source": [
        "Form the original 466 columns, there are 380 columns left after removing the modifier binary columns. \n",
        "\n",
        "PCA is done on this third feature set:"
      ],
      "metadata": {
        "id": "dIfNwklq-r-t"
      }
    },
    {
      "cell_type": "code",
      "source": [
        "stdscaler = StandardScaler()\n",
        "q1trainfearureset3_ss = stdscaler.fit_transform(q1trainfeatureset3)\n",
        "\n",
        "\n",
        "from sklearn.decomposition import PCA\n",
        "pca9 = PCA(n_components=100)\n",
        "\n",
        "# fitting\n",
        "q1trainfeatureset3_red9 = pca9.fit_transform(q1trainfearureset3_ss)"
      ],
      "metadata": {
        "colab": {
          "base_uri": "https://localhost:8080/"
        },
        "id": "5YO_cON_DxEr",
        "outputId": "864660b3-b193-486a-891c-2eee4501ce60"
      },
      "execution_count": null,
      "outputs": [
        {
          "output_type": "stream",
          "name": "stderr",
          "text": [
            "/usr/local/lib/python3.7/dist-packages/sklearn/utils/validation.py:1692: FutureWarning: Feature names only support names that are all strings. Got feature names with dtypes: ['int', 'str']. An error will be raised in 1.2.\n",
            "  FutureWarning,\n",
            "/usr/local/lib/python3.7/dist-packages/sklearn/utils/validation.py:1692: FutureWarning: Feature names only support names that are all strings. Got feature names with dtypes: ['int', 'str']. An error will be raised in 1.2.\n",
            "  FutureWarning,\n"
          ]
        }
      ]
    },
    {
      "cell_type": "code",
      "source": [
        "q1trainfeatureset3_red9.shape"
      ],
      "metadata": {
        "colab": {
          "base_uri": "https://localhost:8080/"
        },
        "id": "hgJv2OSzD04e",
        "outputId": "0021cca1-6e26-45a7-ac3f-5f82fd1a8fcc"
      },
      "execution_count": null,
      "outputs": [
        {
          "output_type": "execute_result",
          "data": {
            "text/plain": [
              "(9580, 100)"
            ]
          },
          "metadata": {},
          "execution_count": 79
        }
      ]
    },
    {
      "cell_type": "code",
      "source": [
        "pca9.explained_variance_ratio_"
      ],
      "metadata": {
        "colab": {
          "base_uri": "https://localhost:8080/"
        },
        "id": "JEq4otU4Gbto",
        "outputId": "657679df-dc55-42c5-e509-78df66e211c9"
      },
      "execution_count": null,
      "outputs": [
        {
          "output_type": "execute_result",
          "data": {
            "text/plain": [
              "array([0.06619405, 0.05147106, 0.03919054, 0.03348598, 0.02658008,\n",
              "       0.02600953, 0.02165031, 0.02070371, 0.01886798, 0.01763809,\n",
              "       0.0159359 , 0.01584384, 0.0138158 , 0.01361024, 0.0123509 ,\n",
              "       0.01163668, 0.01153234, 0.01081242, 0.01049186, 0.00976742,\n",
              "       0.00953944, 0.00950598, 0.00923594, 0.00826866, 0.00808587,\n",
              "       0.00781048, 0.0075957 , 0.00747869, 0.00728891, 0.00701328,\n",
              "       0.00687421, 0.00646754, 0.0063799 , 0.00607767, 0.00591149,\n",
              "       0.0057029 , 0.00559362, 0.00549643, 0.00534206, 0.00524224,\n",
              "       0.0052056 , 0.00507495, 0.00499509, 0.00483487, 0.0047755 ,\n",
              "       0.00471447, 0.00463136, 0.00455475, 0.00445478, 0.00438062,\n",
              "       0.00431176, 0.00424635, 0.00416071, 0.00410891, 0.00402671,\n",
              "       0.00398424, 0.0039322 , 0.00387728, 0.00379481, 0.0037498 ,\n",
              "       0.00371037, 0.00367887, 0.00363707, 0.00352961, 0.00348647,\n",
              "       0.00334931, 0.00333054, 0.00325821, 0.00322166, 0.00320747,\n",
              "       0.00314034, 0.00312089, 0.00311576, 0.00302583, 0.00297969,\n",
              "       0.0029763 , 0.00291991, 0.00286755, 0.00284613, 0.00281806,\n",
              "       0.00278704, 0.00274531, 0.00268977, 0.00265558, 0.00261662,\n",
              "       0.00259529, 0.0025905 , 0.0025213 , 0.00248154, 0.00243945,\n",
              "       0.00240736, 0.00239404, 0.00234815, 0.0022941 , 0.00228419,\n",
              "       0.00227123, 0.00221072, 0.00219202, 0.00213274, 0.00208918])"
            ]
          },
          "metadata": {},
          "execution_count": 80
        }
      ]
    },
    {
      "cell_type": "markdown",
      "source": [
        "\n",
        "\n",
        "Looking at the loadings:"
      ],
      "metadata": {
        "id": "ofzaFwAqGsMN"
      }
    },
    {
      "cell_type": "code",
      "source": [
        "loading_first_component = pd.DataFrame(pca9.components_[0],index=q1trainfeatureset3.columns)\n",
        "loading_first_component\n"
      ],
      "metadata": {
        "colab": {
          "base_uri": "https://localhost:8080/",
          "height": 424
        },
        "id": "n2BYzwMuG9Fw",
        "outputId": "ddd32f91-bca5-45d3-da33-2cff98010b7a"
      },
      "execution_count": null,
      "outputs": [
        {
          "output_type": "execute_result",
          "data": {
            "text/plain": [
              "                                 0\n",
              "sf_length                 0.017220\n",
              "L_dist_sf_noaccents_norm -0.029503\n",
              "EnglishIDF                0.062207\n",
              "0                         0.028653\n",
              "1                        -0.078596\n",
              "...                            ...\n",
              "lang_x0_en                0.005167\n",
              "lang_x0_es                0.007362\n",
              "lang_x0_fr                0.000886\n",
              "lang_x0_it               -0.005197\n",
              "lang_x0_pt               -0.010906\n",
              "\n",
              "[308 rows x 1 columns]"
            ],
            "text/html": [
              "\n",
              "  <div id=\"df-efafee06-502e-4303-bfac-5d0788f84f5d\">\n",
              "    <div class=\"colab-df-container\">\n",
              "      <div>\n",
              "<style scoped>\n",
              "    .dataframe tbody tr th:only-of-type {\n",
              "        vertical-align: middle;\n",
              "    }\n",
              "\n",
              "    .dataframe tbody tr th {\n",
              "        vertical-align: top;\n",
              "    }\n",
              "\n",
              "    .dataframe thead th {\n",
              "        text-align: right;\n",
              "    }\n",
              "</style>\n",
              "<table border=\"1\" class=\"dataframe\">\n",
              "  <thead>\n",
              "    <tr style=\"text-align: right;\">\n",
              "      <th></th>\n",
              "      <th>0</th>\n",
              "    </tr>\n",
              "  </thead>\n",
              "  <tbody>\n",
              "    <tr>\n",
              "      <th>sf_length</th>\n",
              "      <td>0.017220</td>\n",
              "    </tr>\n",
              "    <tr>\n",
              "      <th>L_dist_sf_noaccents_norm</th>\n",
              "      <td>-0.029503</td>\n",
              "    </tr>\n",
              "    <tr>\n",
              "      <th>EnglishIDF</th>\n",
              "      <td>0.062207</td>\n",
              "    </tr>\n",
              "    <tr>\n",
              "      <th>0</th>\n",
              "      <td>0.028653</td>\n",
              "    </tr>\n",
              "    <tr>\n",
              "      <th>1</th>\n",
              "      <td>-0.078596</td>\n",
              "    </tr>\n",
              "    <tr>\n",
              "      <th>...</th>\n",
              "      <td>...</td>\n",
              "    </tr>\n",
              "    <tr>\n",
              "      <th>lang_x0_en</th>\n",
              "      <td>0.005167</td>\n",
              "    </tr>\n",
              "    <tr>\n",
              "      <th>lang_x0_es</th>\n",
              "      <td>0.007362</td>\n",
              "    </tr>\n",
              "    <tr>\n",
              "      <th>lang_x0_fr</th>\n",
              "      <td>0.000886</td>\n",
              "    </tr>\n",
              "    <tr>\n",
              "      <th>lang_x0_it</th>\n",
              "      <td>-0.005197</td>\n",
              "    </tr>\n",
              "    <tr>\n",
              "      <th>lang_x0_pt</th>\n",
              "      <td>-0.010906</td>\n",
              "    </tr>\n",
              "  </tbody>\n",
              "</table>\n",
              "<p>308 rows × 1 columns</p>\n",
              "</div>\n",
              "      <button class=\"colab-df-convert\" onclick=\"convertToInteractive('df-efafee06-502e-4303-bfac-5d0788f84f5d')\"\n",
              "              title=\"Convert this dataframe to an interactive table.\"\n",
              "              style=\"display:none;\">\n",
              "        \n",
              "  <svg xmlns=\"http://www.w3.org/2000/svg\" height=\"24px\"viewBox=\"0 0 24 24\"\n",
              "       width=\"24px\">\n",
              "    <path d=\"M0 0h24v24H0V0z\" fill=\"none\"/>\n",
              "    <path d=\"M18.56 5.44l.94 2.06.94-2.06 2.06-.94-2.06-.94-.94-2.06-.94 2.06-2.06.94zm-11 1L8.5 8.5l.94-2.06 2.06-.94-2.06-.94L8.5 2.5l-.94 2.06-2.06.94zm10 10l.94 2.06.94-2.06 2.06-.94-2.06-.94-.94-2.06-.94 2.06-2.06.94z\"/><path d=\"M17.41 7.96l-1.37-1.37c-.4-.4-.92-.59-1.43-.59-.52 0-1.04.2-1.43.59L10.3 9.45l-7.72 7.72c-.78.78-.78 2.05 0 2.83L4 21.41c.39.39.9.59 1.41.59.51 0 1.02-.2 1.41-.59l7.78-7.78 2.81-2.81c.8-.78.8-2.07 0-2.86zM5.41 20L4 18.59l7.72-7.72 1.47 1.35L5.41 20z\"/>\n",
              "  </svg>\n",
              "      </button>\n",
              "      \n",
              "  <style>\n",
              "    .colab-df-container {\n",
              "      display:flex;\n",
              "      flex-wrap:wrap;\n",
              "      gap: 12px;\n",
              "    }\n",
              "\n",
              "    .colab-df-convert {\n",
              "      background-color: #E8F0FE;\n",
              "      border: none;\n",
              "      border-radius: 50%;\n",
              "      cursor: pointer;\n",
              "      display: none;\n",
              "      fill: #1967D2;\n",
              "      height: 32px;\n",
              "      padding: 0 0 0 0;\n",
              "      width: 32px;\n",
              "    }\n",
              "\n",
              "    .colab-df-convert:hover {\n",
              "      background-color: #E2EBFA;\n",
              "      box-shadow: 0px 1px 2px rgba(60, 64, 67, 0.3), 0px 1px 3px 1px rgba(60, 64, 67, 0.15);\n",
              "      fill: #174EA6;\n",
              "    }\n",
              "\n",
              "    [theme=dark] .colab-df-convert {\n",
              "      background-color: #3B4455;\n",
              "      fill: #D2E3FC;\n",
              "    }\n",
              "\n",
              "    [theme=dark] .colab-df-convert:hover {\n",
              "      background-color: #434B5C;\n",
              "      box-shadow: 0px 1px 3px 1px rgba(0, 0, 0, 0.15);\n",
              "      filter: drop-shadow(0px 1px 2px rgba(0, 0, 0, 0.3));\n",
              "      fill: #FFFFFF;\n",
              "    }\n",
              "  </style>\n",
              "\n",
              "      <script>\n",
              "        const buttonEl =\n",
              "          document.querySelector('#df-efafee06-502e-4303-bfac-5d0788f84f5d button.colab-df-convert');\n",
              "        buttonEl.style.display =\n",
              "          google.colab.kernel.accessAllowed ? 'block' : 'none';\n",
              "\n",
              "        async function convertToInteractive(key) {\n",
              "          const element = document.querySelector('#df-efafee06-502e-4303-bfac-5d0788f84f5d');\n",
              "          const dataTable =\n",
              "            await google.colab.kernel.invokeFunction('convertToInteractive',\n",
              "                                                     [key], {});\n",
              "          if (!dataTable) return;\n",
              "\n",
              "          const docLinkHtml = 'Like what you see? Visit the ' +\n",
              "            '<a target=\"_blank\" href=https://colab.research.google.com/notebooks/data_table.ipynb>data table notebook</a>'\n",
              "            + ' to learn more about interactive tables.';\n",
              "          element.innerHTML = '';\n",
              "          dataTable['output_type'] = 'display_data';\n",
              "          await google.colab.output.renderOutput(dataTable, element);\n",
              "          const docLink = document.createElement('div');\n",
              "          docLink.innerHTML = docLinkHtml;\n",
              "          element.appendChild(docLink);\n",
              "        }\n",
              "      </script>\n",
              "    </div>\n",
              "  </div>\n",
              "  "
            ]
          },
          "metadata": {},
          "execution_count": 81
        }
      ]
    },
    {
      "cell_type": "markdown",
      "source": [
        "Loadings of language column in first component:"
      ],
      "metadata": {
        "id": "kvEWWnH2H7FO"
      }
    },
    {
      "cell_type": "code",
      "source": [
        "loading_first_component.loc[[ind for ind in loading_first_component.index if str(ind).startswith('lang_')],:]"
      ],
      "metadata": {
        "colab": {
          "base_uri": "https://localhost:8080/",
          "height": 206
        },
        "id": "vS3tdIUJHp5_",
        "outputId": "c14c360b-36ac-4060-ad53-b4d83335b92b"
      },
      "execution_count": null,
      "outputs": [
        {
          "output_type": "execute_result",
          "data": {
            "text/plain": [
              "                   0\n",
              "lang_x0_en  0.005167\n",
              "lang_x0_es  0.007362\n",
              "lang_x0_fr  0.000886\n",
              "lang_x0_it -0.005197\n",
              "lang_x0_pt -0.010906"
            ],
            "text/html": [
              "\n",
              "  <div id=\"df-9439368f-92a2-407e-b219-2baf159a4796\">\n",
              "    <div class=\"colab-df-container\">\n",
              "      <div>\n",
              "<style scoped>\n",
              "    .dataframe tbody tr th:only-of-type {\n",
              "        vertical-align: middle;\n",
              "    }\n",
              "\n",
              "    .dataframe tbody tr th {\n",
              "        vertical-align: top;\n",
              "    }\n",
              "\n",
              "    .dataframe thead th {\n",
              "        text-align: right;\n",
              "    }\n",
              "</style>\n",
              "<table border=\"1\" class=\"dataframe\">\n",
              "  <thead>\n",
              "    <tr style=\"text-align: right;\">\n",
              "      <th></th>\n",
              "      <th>0</th>\n",
              "    </tr>\n",
              "  </thead>\n",
              "  <tbody>\n",
              "    <tr>\n",
              "      <th>lang_x0_en</th>\n",
              "      <td>0.005167</td>\n",
              "    </tr>\n",
              "    <tr>\n",
              "      <th>lang_x0_es</th>\n",
              "      <td>0.007362</td>\n",
              "    </tr>\n",
              "    <tr>\n",
              "      <th>lang_x0_fr</th>\n",
              "      <td>0.000886</td>\n",
              "    </tr>\n",
              "    <tr>\n",
              "      <th>lang_x0_it</th>\n",
              "      <td>-0.005197</td>\n",
              "    </tr>\n",
              "    <tr>\n",
              "      <th>lang_x0_pt</th>\n",
              "      <td>-0.010906</td>\n",
              "    </tr>\n",
              "  </tbody>\n",
              "</table>\n",
              "</div>\n",
              "      <button class=\"colab-df-convert\" onclick=\"convertToInteractive('df-9439368f-92a2-407e-b219-2baf159a4796')\"\n",
              "              title=\"Convert this dataframe to an interactive table.\"\n",
              "              style=\"display:none;\">\n",
              "        \n",
              "  <svg xmlns=\"http://www.w3.org/2000/svg\" height=\"24px\"viewBox=\"0 0 24 24\"\n",
              "       width=\"24px\">\n",
              "    <path d=\"M0 0h24v24H0V0z\" fill=\"none\"/>\n",
              "    <path d=\"M18.56 5.44l.94 2.06.94-2.06 2.06-.94-2.06-.94-.94-2.06-.94 2.06-2.06.94zm-11 1L8.5 8.5l.94-2.06 2.06-.94-2.06-.94L8.5 2.5l-.94 2.06-2.06.94zm10 10l.94 2.06.94-2.06 2.06-.94-2.06-.94-.94-2.06-.94 2.06-2.06.94z\"/><path d=\"M17.41 7.96l-1.37-1.37c-.4-.4-.92-.59-1.43-.59-.52 0-1.04.2-1.43.59L10.3 9.45l-7.72 7.72c-.78.78-.78 2.05 0 2.83L4 21.41c.39.39.9.59 1.41.59.51 0 1.02-.2 1.41-.59l7.78-7.78 2.81-2.81c.8-.78.8-2.07 0-2.86zM5.41 20L4 18.59l7.72-7.72 1.47 1.35L5.41 20z\"/>\n",
              "  </svg>\n",
              "      </button>\n",
              "      \n",
              "  <style>\n",
              "    .colab-df-container {\n",
              "      display:flex;\n",
              "      flex-wrap:wrap;\n",
              "      gap: 12px;\n",
              "    }\n",
              "\n",
              "    .colab-df-convert {\n",
              "      background-color: #E8F0FE;\n",
              "      border: none;\n",
              "      border-radius: 50%;\n",
              "      cursor: pointer;\n",
              "      display: none;\n",
              "      fill: #1967D2;\n",
              "      height: 32px;\n",
              "      padding: 0 0 0 0;\n",
              "      width: 32px;\n",
              "    }\n",
              "\n",
              "    .colab-df-convert:hover {\n",
              "      background-color: #E2EBFA;\n",
              "      box-shadow: 0px 1px 2px rgba(60, 64, 67, 0.3), 0px 1px 3px 1px rgba(60, 64, 67, 0.15);\n",
              "      fill: #174EA6;\n",
              "    }\n",
              "\n",
              "    [theme=dark] .colab-df-convert {\n",
              "      background-color: #3B4455;\n",
              "      fill: #D2E3FC;\n",
              "    }\n",
              "\n",
              "    [theme=dark] .colab-df-convert:hover {\n",
              "      background-color: #434B5C;\n",
              "      box-shadow: 0px 1px 3px 1px rgba(0, 0, 0, 0.15);\n",
              "      filter: drop-shadow(0px 1px 2px rgba(0, 0, 0, 0.3));\n",
              "      fill: #FFFFFF;\n",
              "    }\n",
              "  </style>\n",
              "\n",
              "      <script>\n",
              "        const buttonEl =\n",
              "          document.querySelector('#df-9439368f-92a2-407e-b219-2baf159a4796 button.colab-df-convert');\n",
              "        buttonEl.style.display =\n",
              "          google.colab.kernel.accessAllowed ? 'block' : 'none';\n",
              "\n",
              "        async function convertToInteractive(key) {\n",
              "          const element = document.querySelector('#df-9439368f-92a2-407e-b219-2baf159a4796');\n",
              "          const dataTable =\n",
              "            await google.colab.kernel.invokeFunction('convertToInteractive',\n",
              "                                                     [key], {});\n",
              "          if (!dataTable) return;\n",
              "\n",
              "          const docLinkHtml = 'Like what you see? Visit the ' +\n",
              "            '<a target=\"_blank\" href=https://colab.research.google.com/notebooks/data_table.ipynb>data table notebook</a>'\n",
              "            + ' to learn more about interactive tables.';\n",
              "          element.innerHTML = '';\n",
              "          dataTable['output_type'] = 'display_data';\n",
              "          await google.colab.output.renderOutput(dataTable, element);\n",
              "          const docLink = document.createElement('div');\n",
              "          docLink.innerHTML = docLinkHtml;\n",
              "          element.appendChild(docLink);\n",
              "        }\n",
              "      </script>\n",
              "    </div>\n",
              "  </div>\n",
              "  "
            ]
          },
          "metadata": {},
          "execution_count": 82
        }
      ]
    },
    {
      "cell_type": "markdown",
      "source": [
        "Loadings of word vectors in first component:"
      ],
      "metadata": {
        "id": "w0BkT04XH9We"
      }
    },
    {
      "cell_type": "code",
      "source": [
        "loading_first_component.loc[[ind for ind in loading_first_component.index if type(ind)==int],:]"
      ],
      "metadata": {
        "colab": {
          "base_uri": "https://localhost:8080/",
          "height": 424
        },
        "id": "uGj1LhrUH_6g",
        "outputId": "1ed50b12-f763-4444-ee34-3a1090e705f7"
      },
      "execution_count": null,
      "outputs": [
        {
          "output_type": "execute_result",
          "data": {
            "text/plain": [
              "            0\n",
              "0    0.028653\n",
              "1   -0.078596\n",
              "2    0.101917\n",
              "3   -0.016131\n",
              "4   -0.039298\n",
              "..        ...\n",
              "295 -0.003118\n",
              "296  0.094454\n",
              "297  0.020516\n",
              "298 -0.122143\n",
              "299 -0.077525\n",
              "\n",
              "[300 rows x 1 columns]"
            ],
            "text/html": [
              "\n",
              "  <div id=\"df-95d2b7ec-46cb-4739-9cf9-efe8e9da216b\">\n",
              "    <div class=\"colab-df-container\">\n",
              "      <div>\n",
              "<style scoped>\n",
              "    .dataframe tbody tr th:only-of-type {\n",
              "        vertical-align: middle;\n",
              "    }\n",
              "\n",
              "    .dataframe tbody tr th {\n",
              "        vertical-align: top;\n",
              "    }\n",
              "\n",
              "    .dataframe thead th {\n",
              "        text-align: right;\n",
              "    }\n",
              "</style>\n",
              "<table border=\"1\" class=\"dataframe\">\n",
              "  <thead>\n",
              "    <tr style=\"text-align: right;\">\n",
              "      <th></th>\n",
              "      <th>0</th>\n",
              "    </tr>\n",
              "  </thead>\n",
              "  <tbody>\n",
              "    <tr>\n",
              "      <th>0</th>\n",
              "      <td>0.028653</td>\n",
              "    </tr>\n",
              "    <tr>\n",
              "      <th>1</th>\n",
              "      <td>-0.078596</td>\n",
              "    </tr>\n",
              "    <tr>\n",
              "      <th>2</th>\n",
              "      <td>0.101917</td>\n",
              "    </tr>\n",
              "    <tr>\n",
              "      <th>3</th>\n",
              "      <td>-0.016131</td>\n",
              "    </tr>\n",
              "    <tr>\n",
              "      <th>4</th>\n",
              "      <td>-0.039298</td>\n",
              "    </tr>\n",
              "    <tr>\n",
              "      <th>...</th>\n",
              "      <td>...</td>\n",
              "    </tr>\n",
              "    <tr>\n",
              "      <th>295</th>\n",
              "      <td>-0.003118</td>\n",
              "    </tr>\n",
              "    <tr>\n",
              "      <th>296</th>\n",
              "      <td>0.094454</td>\n",
              "    </tr>\n",
              "    <tr>\n",
              "      <th>297</th>\n",
              "      <td>0.020516</td>\n",
              "    </tr>\n",
              "    <tr>\n",
              "      <th>298</th>\n",
              "      <td>-0.122143</td>\n",
              "    </tr>\n",
              "    <tr>\n",
              "      <th>299</th>\n",
              "      <td>-0.077525</td>\n",
              "    </tr>\n",
              "  </tbody>\n",
              "</table>\n",
              "<p>300 rows × 1 columns</p>\n",
              "</div>\n",
              "      <button class=\"colab-df-convert\" onclick=\"convertToInteractive('df-95d2b7ec-46cb-4739-9cf9-efe8e9da216b')\"\n",
              "              title=\"Convert this dataframe to an interactive table.\"\n",
              "              style=\"display:none;\">\n",
              "        \n",
              "  <svg xmlns=\"http://www.w3.org/2000/svg\" height=\"24px\"viewBox=\"0 0 24 24\"\n",
              "       width=\"24px\">\n",
              "    <path d=\"M0 0h24v24H0V0z\" fill=\"none\"/>\n",
              "    <path d=\"M18.56 5.44l.94 2.06.94-2.06 2.06-.94-2.06-.94-.94-2.06-.94 2.06-2.06.94zm-11 1L8.5 8.5l.94-2.06 2.06-.94-2.06-.94L8.5 2.5l-.94 2.06-2.06.94zm10 10l.94 2.06.94-2.06 2.06-.94-2.06-.94-.94-2.06-.94 2.06-2.06.94z\"/><path d=\"M17.41 7.96l-1.37-1.37c-.4-.4-.92-.59-1.43-.59-.52 0-1.04.2-1.43.59L10.3 9.45l-7.72 7.72c-.78.78-.78 2.05 0 2.83L4 21.41c.39.39.9.59 1.41.59.51 0 1.02-.2 1.41-.59l7.78-7.78 2.81-2.81c.8-.78.8-2.07 0-2.86zM5.41 20L4 18.59l7.72-7.72 1.47 1.35L5.41 20z\"/>\n",
              "  </svg>\n",
              "      </button>\n",
              "      \n",
              "  <style>\n",
              "    .colab-df-container {\n",
              "      display:flex;\n",
              "      flex-wrap:wrap;\n",
              "      gap: 12px;\n",
              "    }\n",
              "\n",
              "    .colab-df-convert {\n",
              "      background-color: #E8F0FE;\n",
              "      border: none;\n",
              "      border-radius: 50%;\n",
              "      cursor: pointer;\n",
              "      display: none;\n",
              "      fill: #1967D2;\n",
              "      height: 32px;\n",
              "      padding: 0 0 0 0;\n",
              "      width: 32px;\n",
              "    }\n",
              "\n",
              "    .colab-df-convert:hover {\n",
              "      background-color: #E2EBFA;\n",
              "      box-shadow: 0px 1px 2px rgba(60, 64, 67, 0.3), 0px 1px 3px 1px rgba(60, 64, 67, 0.15);\n",
              "      fill: #174EA6;\n",
              "    }\n",
              "\n",
              "    [theme=dark] .colab-df-convert {\n",
              "      background-color: #3B4455;\n",
              "      fill: #D2E3FC;\n",
              "    }\n",
              "\n",
              "    [theme=dark] .colab-df-convert:hover {\n",
              "      background-color: #434B5C;\n",
              "      box-shadow: 0px 1px 3px 1px rgba(0, 0, 0, 0.15);\n",
              "      filter: drop-shadow(0px 1px 2px rgba(0, 0, 0, 0.3));\n",
              "      fill: #FFFFFF;\n",
              "    }\n",
              "  </style>\n",
              "\n",
              "      <script>\n",
              "        const buttonEl =\n",
              "          document.querySelector('#df-95d2b7ec-46cb-4739-9cf9-efe8e9da216b button.colab-df-convert');\n",
              "        buttonEl.style.display =\n",
              "          google.colab.kernel.accessAllowed ? 'block' : 'none';\n",
              "\n",
              "        async function convertToInteractive(key) {\n",
              "          const element = document.querySelector('#df-95d2b7ec-46cb-4739-9cf9-efe8e9da216b');\n",
              "          const dataTable =\n",
              "            await google.colab.kernel.invokeFunction('convertToInteractive',\n",
              "                                                     [key], {});\n",
              "          if (!dataTable) return;\n",
              "\n",
              "          const docLinkHtml = 'Like what you see? Visit the ' +\n",
              "            '<a target=\"_blank\" href=https://colab.research.google.com/notebooks/data_table.ipynb>data table notebook</a>'\n",
              "            + ' to learn more about interactive tables.';\n",
              "          element.innerHTML = '';\n",
              "          dataTable['output_type'] = 'display_data';\n",
              "          await google.colab.output.renderOutput(dataTable, element);\n",
              "          const docLink = document.createElement('div');\n",
              "          docLink.innerHTML = docLinkHtml;\n",
              "          element.appendChild(docLink);\n",
              "        }\n",
              "      </script>\n",
              "    </div>\n",
              "  </div>\n",
              "  "
            ]
          },
          "metadata": {},
          "execution_count": 83
        }
      ]
    },
    {
      "cell_type": "code",
      "source": [
        "loading_first_component.loc[['EnglishIDF','sf_length','L_dist_sf_noaccents_norm'],:]"
      ],
      "metadata": {
        "colab": {
          "base_uri": "https://localhost:8080/",
          "height": 143
        },
        "id": "2lLP5wrwIUAd",
        "outputId": "90067535-fade-4b69-a8c8-a7de2b65cd2c"
      },
      "execution_count": null,
      "outputs": [
        {
          "output_type": "execute_result",
          "data": {
            "text/plain": [
              "                                 0\n",
              "EnglishIDF                0.062207\n",
              "sf_length                 0.017220\n",
              "L_dist_sf_noaccents_norm -0.029503"
            ],
            "text/html": [
              "\n",
              "  <div id=\"df-dc97f6ad-035b-4be9-8733-11637bc3073e\">\n",
              "    <div class=\"colab-df-container\">\n",
              "      <div>\n",
              "<style scoped>\n",
              "    .dataframe tbody tr th:only-of-type {\n",
              "        vertical-align: middle;\n",
              "    }\n",
              "\n",
              "    .dataframe tbody tr th {\n",
              "        vertical-align: top;\n",
              "    }\n",
              "\n",
              "    .dataframe thead th {\n",
              "        text-align: right;\n",
              "    }\n",
              "</style>\n",
              "<table border=\"1\" class=\"dataframe\">\n",
              "  <thead>\n",
              "    <tr style=\"text-align: right;\">\n",
              "      <th></th>\n",
              "      <th>0</th>\n",
              "    </tr>\n",
              "  </thead>\n",
              "  <tbody>\n",
              "    <tr>\n",
              "      <th>EnglishIDF</th>\n",
              "      <td>0.062207</td>\n",
              "    </tr>\n",
              "    <tr>\n",
              "      <th>sf_length</th>\n",
              "      <td>0.017220</td>\n",
              "    </tr>\n",
              "    <tr>\n",
              "      <th>L_dist_sf_noaccents_norm</th>\n",
              "      <td>-0.029503</td>\n",
              "    </tr>\n",
              "  </tbody>\n",
              "</table>\n",
              "</div>\n",
              "      <button class=\"colab-df-convert\" onclick=\"convertToInteractive('df-dc97f6ad-035b-4be9-8733-11637bc3073e')\"\n",
              "              title=\"Convert this dataframe to an interactive table.\"\n",
              "              style=\"display:none;\">\n",
              "        \n",
              "  <svg xmlns=\"http://www.w3.org/2000/svg\" height=\"24px\"viewBox=\"0 0 24 24\"\n",
              "       width=\"24px\">\n",
              "    <path d=\"M0 0h24v24H0V0z\" fill=\"none\"/>\n",
              "    <path d=\"M18.56 5.44l.94 2.06.94-2.06 2.06-.94-2.06-.94-.94-2.06-.94 2.06-2.06.94zm-11 1L8.5 8.5l.94-2.06 2.06-.94-2.06-.94L8.5 2.5l-.94 2.06-2.06.94zm10 10l.94 2.06.94-2.06 2.06-.94-2.06-.94-.94-2.06-.94 2.06-2.06.94z\"/><path d=\"M17.41 7.96l-1.37-1.37c-.4-.4-.92-.59-1.43-.59-.52 0-1.04.2-1.43.59L10.3 9.45l-7.72 7.72c-.78.78-.78 2.05 0 2.83L4 21.41c.39.39.9.59 1.41.59.51 0 1.02-.2 1.41-.59l7.78-7.78 2.81-2.81c.8-.78.8-2.07 0-2.86zM5.41 20L4 18.59l7.72-7.72 1.47 1.35L5.41 20z\"/>\n",
              "  </svg>\n",
              "      </button>\n",
              "      \n",
              "  <style>\n",
              "    .colab-df-container {\n",
              "      display:flex;\n",
              "      flex-wrap:wrap;\n",
              "      gap: 12px;\n",
              "    }\n",
              "\n",
              "    .colab-df-convert {\n",
              "      background-color: #E8F0FE;\n",
              "      border: none;\n",
              "      border-radius: 50%;\n",
              "      cursor: pointer;\n",
              "      display: none;\n",
              "      fill: #1967D2;\n",
              "      height: 32px;\n",
              "      padding: 0 0 0 0;\n",
              "      width: 32px;\n",
              "    }\n",
              "\n",
              "    .colab-df-convert:hover {\n",
              "      background-color: #E2EBFA;\n",
              "      box-shadow: 0px 1px 2px rgba(60, 64, 67, 0.3), 0px 1px 3px 1px rgba(60, 64, 67, 0.15);\n",
              "      fill: #174EA6;\n",
              "    }\n",
              "\n",
              "    [theme=dark] .colab-df-convert {\n",
              "      background-color: #3B4455;\n",
              "      fill: #D2E3FC;\n",
              "    }\n",
              "\n",
              "    [theme=dark] .colab-df-convert:hover {\n",
              "      background-color: #434B5C;\n",
              "      box-shadow: 0px 1px 3px 1px rgba(0, 0, 0, 0.15);\n",
              "      filter: drop-shadow(0px 1px 2px rgba(0, 0, 0, 0.3));\n",
              "      fill: #FFFFFF;\n",
              "    }\n",
              "  </style>\n",
              "\n",
              "      <script>\n",
              "        const buttonEl =\n",
              "          document.querySelector('#df-dc97f6ad-035b-4be9-8733-11637bc3073e button.colab-df-convert');\n",
              "        buttonEl.style.display =\n",
              "          google.colab.kernel.accessAllowed ? 'block' : 'none';\n",
              "\n",
              "        async function convertToInteractive(key) {\n",
              "          const element = document.querySelector('#df-dc97f6ad-035b-4be9-8733-11637bc3073e');\n",
              "          const dataTable =\n",
              "            await google.colab.kernel.invokeFunction('convertToInteractive',\n",
              "                                                     [key], {});\n",
              "          if (!dataTable) return;\n",
              "\n",
              "          const docLinkHtml = 'Like what you see? Visit the ' +\n",
              "            '<a target=\"_blank\" href=https://colab.research.google.com/notebooks/data_table.ipynb>data table notebook</a>'\n",
              "            + ' to learn more about interactive tables.';\n",
              "          element.innerHTML = '';\n",
              "          dataTable['output_type'] = 'display_data';\n",
              "          await google.colab.output.renderOutput(dataTable, element);\n",
              "          const docLink = document.createElement('div');\n",
              "          docLink.innerHTML = docLinkHtml;\n",
              "          element.appendChild(docLink);\n",
              "        }\n",
              "      </script>\n",
              "    </div>\n",
              "  </div>\n",
              "  "
            ]
          },
          "metadata": {},
          "execution_count": 85
        }
      ]
    },
    {
      "cell_type": "markdown",
      "source": [
        "It appears that just the word vectors are being represented. \n",
        "\n",
        "We will reduce just the word vectors to around 50 columns, and combined with the derived word features of IDF, levenshtein and word length, for the second featureset. "
      ],
      "metadata": {
        "id": "Dh3AblWDI0Q8"
      }
    },
    {
      "cell_type": "code",
      "source": [
        "q1train_vectors_only = q1trainfeatureset2[[col for col in q1trainfeatureset2.columns if type(col)==int]]"
      ],
      "metadata": {
        "id": "OjSnGbHxJ1wc"
      },
      "execution_count": null,
      "outputs": []
    },
    {
      "cell_type": "code",
      "source": [
        "q1train_vectors_only.shape"
      ],
      "metadata": {
        "colab": {
          "base_uri": "https://localhost:8080/"
        },
        "id": "H4GEWiB2KI_n",
        "outputId": "a29ddb3e-e0cc-489c-eb7f-de5d9c852b1c"
      },
      "execution_count": null,
      "outputs": [
        {
          "output_type": "execute_result",
          "data": {
            "text/plain": [
              "(9580, 300)"
            ]
          },
          "metadata": {},
          "execution_count": 87
        }
      ]
    },
    {
      "cell_type": "markdown",
      "source": [
        "PCA to reduce to 20 components."
      ],
      "metadata": {
        "id": "R-fSTQz9KMne"
      }
    },
    {
      "cell_type": "code",
      "source": [
        "from sklearn.preprocessing import StandardScaler\n",
        "stdscaler_ = StandardScaler()\n",
        "q1train_vectors_only_ss = stdscaler_.fit_transform(q1train_vectors_only)\n",
        "\n",
        "\n",
        "from sklearn.decomposition import PCA\n",
        "pca_vectors_only = PCA(n_components=20)\n",
        "\n",
        "# fitting\n",
        "q1train_vecs = pca_vectors_only.fit_transform(q1train_vectors_only_ss)\n",
        "q1train_vecs = pd.DataFrame(q1train_vecs,index=q1train_vectors_only.index)\n",
        "q1train_vecs.head()"
      ],
      "metadata": {
        "colab": {
          "base_uri": "https://localhost:8080/",
          "height": 301
        },
        "id": "uw7N2X60KLKi",
        "outputId": "5699adcf-8fc3-4654-c94c-e695cf06f71b"
      },
      "execution_count": null,
      "outputs": [
        {
          "output_type": "execute_result",
          "data": {
            "text/plain": [
              "                                        0         1         2         3   \\\n",
              "lexeme_id                                                                  \n",
              "73eecb492ca758ddab5371cf7b5cca32 -0.452710 -0.558236 -0.639567  2.269826   \n",
              "c84476c460737d9fb905dca3d35ec995  2.611754 -1.571788 -0.504870 -1.644202   \n",
              "1a913f2ded424985b9c02d0436008511 -0.675037 -7.008998  1.839328 -0.117723   \n",
              "38b770e66595fea718366523b4f7db3f -0.494681  4.057475  2.285355  2.261522   \n",
              "faa6fd18132b358958e440322ee82b4b  3.266690 -0.605462  6.796345  0.834556   \n",
              "\n",
              "                                        4          5         6         7   \\\n",
              "lexeme_id                                                                   \n",
              "73eecb492ca758ddab5371cf7b5cca32 -0.844804   0.175355 -0.576253 -1.668955   \n",
              "c84476c460737d9fb905dca3d35ec995  0.576935  -1.323444  4.898269 -0.849353   \n",
              "1a913f2ded424985b9c02d0436008511  1.347551 -10.244642 -3.146619  4.500447   \n",
              "38b770e66595fea718366523b4f7db3f  0.946912  -0.062971 -1.538923  3.194151   \n",
              "faa6fd18132b358958e440322ee82b4b -1.375737   2.578764 -1.538290  2.527200   \n",
              "\n",
              "                                        8         9         10        11  \\\n",
              "lexeme_id                                                                  \n",
              "73eecb492ca758ddab5371cf7b5cca32 -0.453624 -0.374955  0.342216  0.617846   \n",
              "c84476c460737d9fb905dca3d35ec995  1.268854  1.735331 -2.129070  0.589688   \n",
              "1a913f2ded424985b9c02d0436008511  3.091799  5.076135  4.141311 -5.518284   \n",
              "38b770e66595fea718366523b4f7db3f -0.078913  2.396988  0.378433 -2.428070   \n",
              "faa6fd18132b358958e440322ee82b4b  1.230444 -1.144847 -2.011828 -2.615437   \n",
              "\n",
              "                                        12        13        14        15  \\\n",
              "lexeme_id                                                                  \n",
              "73eecb492ca758ddab5371cf7b5cca32 -0.378276 -2.656673  0.123361  0.696359   \n",
              "c84476c460737d9fb905dca3d35ec995  0.861232  0.271718 -2.195074  0.851241   \n",
              "1a913f2ded424985b9c02d0436008511  1.471674 -1.202059  3.441252 -0.464350   \n",
              "38b770e66595fea718366523b4f7db3f  1.231027  0.269840 -1.034426 -3.267227   \n",
              "faa6fd18132b358958e440322ee82b4b -1.076162 -0.307319  1.785026 -1.426639   \n",
              "\n",
              "                                        16        17        18        19  \n",
              "lexeme_id                                                                 \n",
              "73eecb492ca758ddab5371cf7b5cca32 -1.884635 -0.708624  0.737728 -0.489549  \n",
              "c84476c460737d9fb905dca3d35ec995  1.552951  0.351710 -0.898086 -0.269394  \n",
              "1a913f2ded424985b9c02d0436008511 -1.766045 -0.721544 -3.276126  0.021318  \n",
              "38b770e66595fea718366523b4f7db3f -1.955547 -0.509287 -0.158977 -0.067786  \n",
              "faa6fd18132b358958e440322ee82b4b -2.087948 -1.746518 -0.009074 -2.009065  "
            ],
            "text/html": [
              "\n",
              "  <div id=\"df-f909ed28-56c1-481f-891f-999278228b75\">\n",
              "    <div class=\"colab-df-container\">\n",
              "      <div>\n",
              "<style scoped>\n",
              "    .dataframe tbody tr th:only-of-type {\n",
              "        vertical-align: middle;\n",
              "    }\n",
              "\n",
              "    .dataframe tbody tr th {\n",
              "        vertical-align: top;\n",
              "    }\n",
              "\n",
              "    .dataframe thead th {\n",
              "        text-align: right;\n",
              "    }\n",
              "</style>\n",
              "<table border=\"1\" class=\"dataframe\">\n",
              "  <thead>\n",
              "    <tr style=\"text-align: right;\">\n",
              "      <th></th>\n",
              "      <th>0</th>\n",
              "      <th>1</th>\n",
              "      <th>2</th>\n",
              "      <th>3</th>\n",
              "      <th>4</th>\n",
              "      <th>5</th>\n",
              "      <th>6</th>\n",
              "      <th>7</th>\n",
              "      <th>8</th>\n",
              "      <th>9</th>\n",
              "      <th>10</th>\n",
              "      <th>11</th>\n",
              "      <th>12</th>\n",
              "      <th>13</th>\n",
              "      <th>14</th>\n",
              "      <th>15</th>\n",
              "      <th>16</th>\n",
              "      <th>17</th>\n",
              "      <th>18</th>\n",
              "      <th>19</th>\n",
              "    </tr>\n",
              "    <tr>\n",
              "      <th>lexeme_id</th>\n",
              "      <th></th>\n",
              "      <th></th>\n",
              "      <th></th>\n",
              "      <th></th>\n",
              "      <th></th>\n",
              "      <th></th>\n",
              "      <th></th>\n",
              "      <th></th>\n",
              "      <th></th>\n",
              "      <th></th>\n",
              "      <th></th>\n",
              "      <th></th>\n",
              "      <th></th>\n",
              "      <th></th>\n",
              "      <th></th>\n",
              "      <th></th>\n",
              "      <th></th>\n",
              "      <th></th>\n",
              "      <th></th>\n",
              "      <th></th>\n",
              "    </tr>\n",
              "  </thead>\n",
              "  <tbody>\n",
              "    <tr>\n",
              "      <th>73eecb492ca758ddab5371cf7b5cca32</th>\n",
              "      <td>-0.452710</td>\n",
              "      <td>-0.558236</td>\n",
              "      <td>-0.639567</td>\n",
              "      <td>2.269826</td>\n",
              "      <td>-0.844804</td>\n",
              "      <td>0.175355</td>\n",
              "      <td>-0.576253</td>\n",
              "      <td>-1.668955</td>\n",
              "      <td>-0.453624</td>\n",
              "      <td>-0.374955</td>\n",
              "      <td>0.342216</td>\n",
              "      <td>0.617846</td>\n",
              "      <td>-0.378276</td>\n",
              "      <td>-2.656673</td>\n",
              "      <td>0.123361</td>\n",
              "      <td>0.696359</td>\n",
              "      <td>-1.884635</td>\n",
              "      <td>-0.708624</td>\n",
              "      <td>0.737728</td>\n",
              "      <td>-0.489549</td>\n",
              "    </tr>\n",
              "    <tr>\n",
              "      <th>c84476c460737d9fb905dca3d35ec995</th>\n",
              "      <td>2.611754</td>\n",
              "      <td>-1.571788</td>\n",
              "      <td>-0.504870</td>\n",
              "      <td>-1.644202</td>\n",
              "      <td>0.576935</td>\n",
              "      <td>-1.323444</td>\n",
              "      <td>4.898269</td>\n",
              "      <td>-0.849353</td>\n",
              "      <td>1.268854</td>\n",
              "      <td>1.735331</td>\n",
              "      <td>-2.129070</td>\n",
              "      <td>0.589688</td>\n",
              "      <td>0.861232</td>\n",
              "      <td>0.271718</td>\n",
              "      <td>-2.195074</td>\n",
              "      <td>0.851241</td>\n",
              "      <td>1.552951</td>\n",
              "      <td>0.351710</td>\n",
              "      <td>-0.898086</td>\n",
              "      <td>-0.269394</td>\n",
              "    </tr>\n",
              "    <tr>\n",
              "      <th>1a913f2ded424985b9c02d0436008511</th>\n",
              "      <td>-0.675037</td>\n",
              "      <td>-7.008998</td>\n",
              "      <td>1.839328</td>\n",
              "      <td>-0.117723</td>\n",
              "      <td>1.347551</td>\n",
              "      <td>-10.244642</td>\n",
              "      <td>-3.146619</td>\n",
              "      <td>4.500447</td>\n",
              "      <td>3.091799</td>\n",
              "      <td>5.076135</td>\n",
              "      <td>4.141311</td>\n",
              "      <td>-5.518284</td>\n",
              "      <td>1.471674</td>\n",
              "      <td>-1.202059</td>\n",
              "      <td>3.441252</td>\n",
              "      <td>-0.464350</td>\n",
              "      <td>-1.766045</td>\n",
              "      <td>-0.721544</td>\n",
              "      <td>-3.276126</td>\n",
              "      <td>0.021318</td>\n",
              "    </tr>\n",
              "    <tr>\n",
              "      <th>38b770e66595fea718366523b4f7db3f</th>\n",
              "      <td>-0.494681</td>\n",
              "      <td>4.057475</td>\n",
              "      <td>2.285355</td>\n",
              "      <td>2.261522</td>\n",
              "      <td>0.946912</td>\n",
              "      <td>-0.062971</td>\n",
              "      <td>-1.538923</td>\n",
              "      <td>3.194151</td>\n",
              "      <td>-0.078913</td>\n",
              "      <td>2.396988</td>\n",
              "      <td>0.378433</td>\n",
              "      <td>-2.428070</td>\n",
              "      <td>1.231027</td>\n",
              "      <td>0.269840</td>\n",
              "      <td>-1.034426</td>\n",
              "      <td>-3.267227</td>\n",
              "      <td>-1.955547</td>\n",
              "      <td>-0.509287</td>\n",
              "      <td>-0.158977</td>\n",
              "      <td>-0.067786</td>\n",
              "    </tr>\n",
              "    <tr>\n",
              "      <th>faa6fd18132b358958e440322ee82b4b</th>\n",
              "      <td>3.266690</td>\n",
              "      <td>-0.605462</td>\n",
              "      <td>6.796345</td>\n",
              "      <td>0.834556</td>\n",
              "      <td>-1.375737</td>\n",
              "      <td>2.578764</td>\n",
              "      <td>-1.538290</td>\n",
              "      <td>2.527200</td>\n",
              "      <td>1.230444</td>\n",
              "      <td>-1.144847</td>\n",
              "      <td>-2.011828</td>\n",
              "      <td>-2.615437</td>\n",
              "      <td>-1.076162</td>\n",
              "      <td>-0.307319</td>\n",
              "      <td>1.785026</td>\n",
              "      <td>-1.426639</td>\n",
              "      <td>-2.087948</td>\n",
              "      <td>-1.746518</td>\n",
              "      <td>-0.009074</td>\n",
              "      <td>-2.009065</td>\n",
              "    </tr>\n",
              "  </tbody>\n",
              "</table>\n",
              "</div>\n",
              "      <button class=\"colab-df-convert\" onclick=\"convertToInteractive('df-f909ed28-56c1-481f-891f-999278228b75')\"\n",
              "              title=\"Convert this dataframe to an interactive table.\"\n",
              "              style=\"display:none;\">\n",
              "        \n",
              "  <svg xmlns=\"http://www.w3.org/2000/svg\" height=\"24px\"viewBox=\"0 0 24 24\"\n",
              "       width=\"24px\">\n",
              "    <path d=\"M0 0h24v24H0V0z\" fill=\"none\"/>\n",
              "    <path d=\"M18.56 5.44l.94 2.06.94-2.06 2.06-.94-2.06-.94-.94-2.06-.94 2.06-2.06.94zm-11 1L8.5 8.5l.94-2.06 2.06-.94-2.06-.94L8.5 2.5l-.94 2.06-2.06.94zm10 10l.94 2.06.94-2.06 2.06-.94-2.06-.94-.94-2.06-.94 2.06-2.06.94z\"/><path d=\"M17.41 7.96l-1.37-1.37c-.4-.4-.92-.59-1.43-.59-.52 0-1.04.2-1.43.59L10.3 9.45l-7.72 7.72c-.78.78-.78 2.05 0 2.83L4 21.41c.39.39.9.59 1.41.59.51 0 1.02-.2 1.41-.59l7.78-7.78 2.81-2.81c.8-.78.8-2.07 0-2.86zM5.41 20L4 18.59l7.72-7.72 1.47 1.35L5.41 20z\"/>\n",
              "  </svg>\n",
              "      </button>\n",
              "      \n",
              "  <style>\n",
              "    .colab-df-container {\n",
              "      display:flex;\n",
              "      flex-wrap:wrap;\n",
              "      gap: 12px;\n",
              "    }\n",
              "\n",
              "    .colab-df-convert {\n",
              "      background-color: #E8F0FE;\n",
              "      border: none;\n",
              "      border-radius: 50%;\n",
              "      cursor: pointer;\n",
              "      display: none;\n",
              "      fill: #1967D2;\n",
              "      height: 32px;\n",
              "      padding: 0 0 0 0;\n",
              "      width: 32px;\n",
              "    }\n",
              "\n",
              "    .colab-df-convert:hover {\n",
              "      background-color: #E2EBFA;\n",
              "      box-shadow: 0px 1px 2px rgba(60, 64, 67, 0.3), 0px 1px 3px 1px rgba(60, 64, 67, 0.15);\n",
              "      fill: #174EA6;\n",
              "    }\n",
              "\n",
              "    [theme=dark] .colab-df-convert {\n",
              "      background-color: #3B4455;\n",
              "      fill: #D2E3FC;\n",
              "    }\n",
              "\n",
              "    [theme=dark] .colab-df-convert:hover {\n",
              "      background-color: #434B5C;\n",
              "      box-shadow: 0px 1px 3px 1px rgba(0, 0, 0, 0.15);\n",
              "      filter: drop-shadow(0px 1px 2px rgba(0, 0, 0, 0.3));\n",
              "      fill: #FFFFFF;\n",
              "    }\n",
              "  </style>\n",
              "\n",
              "      <script>\n",
              "        const buttonEl =\n",
              "          document.querySelector('#df-f909ed28-56c1-481f-891f-999278228b75 button.colab-df-convert');\n",
              "        buttonEl.style.display =\n",
              "          google.colab.kernel.accessAllowed ? 'block' : 'none';\n",
              "\n",
              "        async function convertToInteractive(key) {\n",
              "          const element = document.querySelector('#df-f909ed28-56c1-481f-891f-999278228b75');\n",
              "          const dataTable =\n",
              "            await google.colab.kernel.invokeFunction('convertToInteractive',\n",
              "                                                     [key], {});\n",
              "          if (!dataTable) return;\n",
              "\n",
              "          const docLinkHtml = 'Like what you see? Visit the ' +\n",
              "            '<a target=\"_blank\" href=https://colab.research.google.com/notebooks/data_table.ipynb>data table notebook</a>'\n",
              "            + ' to learn more about interactive tables.';\n",
              "          element.innerHTML = '';\n",
              "          dataTable['output_type'] = 'display_data';\n",
              "          await google.colab.output.renderOutput(dataTable, element);\n",
              "          const docLink = document.createElement('div');\n",
              "          docLink.innerHTML = docLinkHtml;\n",
              "          element.appendChild(docLink);\n",
              "        }\n",
              "      </script>\n",
              "    </div>\n",
              "  </div>\n",
              "  "
            ]
          },
          "metadata": {},
          "execution_count": 88
        }
      ]
    },
    {
      "cell_type": "code",
      "source": [
        "pca_vectors_only.explained_variance_ratio_.sum()"
      ],
      "metadata": {
        "colab": {
          "base_uri": "https://localhost:8080/"
        },
        "id": "FbfLAOrqRE2F",
        "outputId": "ea010117-b515-4c34-cf99-12d4771ec36e"
      },
      "execution_count": null,
      "outputs": [
        {
          "output_type": "execute_result",
          "data": {
            "text/plain": [
              "0.4563050658934774"
            ]
          },
          "metadata": {},
          "execution_count": 98
        }
      ]
    },
    {
      "cell_type": "code",
      "source": [
        "loadings = pd.DataFrame(pca_vectors_only.components_.transpose())\n",
        "loadings"
      ],
      "metadata": {
        "colab": {
          "base_uri": "https://localhost:8080/",
          "height": 488
        },
        "id": "X88xpHZeGEvl",
        "outputId": "7b6283aa-e3c1-4e7c-df5f-aa50e0fa622a"
      },
      "execution_count": null,
      "outputs": [
        {
          "output_type": "execute_result",
          "data": {
            "text/plain": [
              "           0         1         2         3         4         5         6   \\\n",
              "0    0.028688  0.100457  0.041576 -0.071745  0.048934 -0.086737 -0.103661   \n",
              "1   -0.078703 -0.072907  0.034396  0.025292  0.048342 -0.001445  0.012993   \n",
              "2    0.102143 -0.014828 -0.094963  0.005723 -0.025079  0.023153 -0.014135   \n",
              "3   -0.016092  0.082499 -0.043867 -0.137609  0.036199  0.085526 -0.078095   \n",
              "4   -0.039243 -0.055648  0.069908 -0.039631  0.090605  0.005984 -0.015561   \n",
              "..        ...       ...       ...       ...       ...       ...       ...   \n",
              "295 -0.003075 -0.003663  0.033907  0.027174  0.009939 -0.022491  0.071134   \n",
              "296  0.094760  0.012866  0.004324 -0.055517  0.047887 -0.097561  0.023385   \n",
              "297  0.020603  0.071122  0.002992 -0.084274 -0.050928 -0.136766 -0.098724   \n",
              "298 -0.122520 -0.045790 -0.062905  0.022588  0.020135 -0.020824  0.082470   \n",
              "299 -0.077740  0.072053 -0.007270 -0.034504  0.045563 -0.015589 -0.013319   \n",
              "\n",
              "           7         8         9         10        11        12        13  \\\n",
              "0    0.046037 -0.047956  0.040752  0.065820  0.016182 -0.019185 -0.020744   \n",
              "1    0.090825 -0.085591  0.102866 -0.009495 -0.009216 -0.091719  0.054395   \n",
              "2   -0.087200 -0.085106  0.053554  0.055205 -0.018110  0.030817 -0.009903   \n",
              "3    0.012945  0.052840 -0.036314 -0.060911 -0.038786 -0.079751 -0.028616   \n",
              "4    0.068456 -0.042021  0.067245 -0.018152 -0.013696  0.073973 -0.117003   \n",
              "..        ...       ...       ...       ...       ...       ...       ...   \n",
              "295  0.010774 -0.009228 -0.041871  0.046954 -0.039964 -0.014544 -0.056660   \n",
              "296  0.005466  0.095201 -0.087048 -0.027784  0.001976 -0.019340 -0.077203   \n",
              "297  0.092433  0.003288  0.010120 -0.016107 -0.010626 -0.106281 -0.065732   \n",
              "298 -0.066310  0.076385 -0.025696  0.035636  0.020276  0.002360 -0.046128   \n",
              "299  0.002570  0.025456 -0.010959  0.082373 -0.046756  0.121457 -0.113634   \n",
              "\n",
              "           14        15        16        17        18        19  \n",
              "0   -0.008045  0.024158  0.052381 -0.049748  0.039291  0.030017  \n",
              "1    0.016732 -0.030888  0.046880  0.036618 -0.031555 -0.087997  \n",
              "2    0.029610 -0.122325  0.017762  0.061573  0.069630 -0.000047  \n",
              "3   -0.063006 -0.042116 -0.042627  0.027509 -0.078804  0.066240  \n",
              "4    0.033176 -0.026485  0.016812 -0.080728  0.039345 -0.008810  \n",
              "..        ...       ...       ...       ...       ...       ...  \n",
              "295 -0.047519  0.122072  0.052829 -0.016683 -0.021625  0.045069  \n",
              "296  0.027793 -0.071054 -0.113176 -0.053646 -0.054202  0.037154  \n",
              "297 -0.099243  0.071138  0.016909  0.006055  0.034912  0.000730  \n",
              "298  0.032278 -0.003660 -0.051688  0.028090 -0.015415 -0.013648  \n",
              "299  0.097266 -0.073205 -0.015745 -0.040749 -0.032279 -0.024189  \n",
              "\n",
              "[300 rows x 20 columns]"
            ],
            "text/html": [
              "\n",
              "  <div id=\"df-17aac674-9ee6-4f47-a03f-a02a94c46a3b\">\n",
              "    <div class=\"colab-df-container\">\n",
              "      <div>\n",
              "<style scoped>\n",
              "    .dataframe tbody tr th:only-of-type {\n",
              "        vertical-align: middle;\n",
              "    }\n",
              "\n",
              "    .dataframe tbody tr th {\n",
              "        vertical-align: top;\n",
              "    }\n",
              "\n",
              "    .dataframe thead th {\n",
              "        text-align: right;\n",
              "    }\n",
              "</style>\n",
              "<table border=\"1\" class=\"dataframe\">\n",
              "  <thead>\n",
              "    <tr style=\"text-align: right;\">\n",
              "      <th></th>\n",
              "      <th>0</th>\n",
              "      <th>1</th>\n",
              "      <th>2</th>\n",
              "      <th>3</th>\n",
              "      <th>4</th>\n",
              "      <th>5</th>\n",
              "      <th>6</th>\n",
              "      <th>7</th>\n",
              "      <th>8</th>\n",
              "      <th>9</th>\n",
              "      <th>10</th>\n",
              "      <th>11</th>\n",
              "      <th>12</th>\n",
              "      <th>13</th>\n",
              "      <th>14</th>\n",
              "      <th>15</th>\n",
              "      <th>16</th>\n",
              "      <th>17</th>\n",
              "      <th>18</th>\n",
              "      <th>19</th>\n",
              "    </tr>\n",
              "  </thead>\n",
              "  <tbody>\n",
              "    <tr>\n",
              "      <th>0</th>\n",
              "      <td>0.028688</td>\n",
              "      <td>0.100457</td>\n",
              "      <td>0.041576</td>\n",
              "      <td>-0.071745</td>\n",
              "      <td>0.048934</td>\n",
              "      <td>-0.086737</td>\n",
              "      <td>-0.103661</td>\n",
              "      <td>0.046037</td>\n",
              "      <td>-0.047956</td>\n",
              "      <td>0.040752</td>\n",
              "      <td>0.065820</td>\n",
              "      <td>0.016182</td>\n",
              "      <td>-0.019185</td>\n",
              "      <td>-0.020744</td>\n",
              "      <td>-0.008045</td>\n",
              "      <td>0.024158</td>\n",
              "      <td>0.052381</td>\n",
              "      <td>-0.049748</td>\n",
              "      <td>0.039291</td>\n",
              "      <td>0.030017</td>\n",
              "    </tr>\n",
              "    <tr>\n",
              "      <th>1</th>\n",
              "      <td>-0.078703</td>\n",
              "      <td>-0.072907</td>\n",
              "      <td>0.034396</td>\n",
              "      <td>0.025292</td>\n",
              "      <td>0.048342</td>\n",
              "      <td>-0.001445</td>\n",
              "      <td>0.012993</td>\n",
              "      <td>0.090825</td>\n",
              "      <td>-0.085591</td>\n",
              "      <td>0.102866</td>\n",
              "      <td>-0.009495</td>\n",
              "      <td>-0.009216</td>\n",
              "      <td>-0.091719</td>\n",
              "      <td>0.054395</td>\n",
              "      <td>0.016732</td>\n",
              "      <td>-0.030888</td>\n",
              "      <td>0.046880</td>\n",
              "      <td>0.036618</td>\n",
              "      <td>-0.031555</td>\n",
              "      <td>-0.087997</td>\n",
              "    </tr>\n",
              "    <tr>\n",
              "      <th>2</th>\n",
              "      <td>0.102143</td>\n",
              "      <td>-0.014828</td>\n",
              "      <td>-0.094963</td>\n",
              "      <td>0.005723</td>\n",
              "      <td>-0.025079</td>\n",
              "      <td>0.023153</td>\n",
              "      <td>-0.014135</td>\n",
              "      <td>-0.087200</td>\n",
              "      <td>-0.085106</td>\n",
              "      <td>0.053554</td>\n",
              "      <td>0.055205</td>\n",
              "      <td>-0.018110</td>\n",
              "      <td>0.030817</td>\n",
              "      <td>-0.009903</td>\n",
              "      <td>0.029610</td>\n",
              "      <td>-0.122325</td>\n",
              "      <td>0.017762</td>\n",
              "      <td>0.061573</td>\n",
              "      <td>0.069630</td>\n",
              "      <td>-0.000047</td>\n",
              "    </tr>\n",
              "    <tr>\n",
              "      <th>3</th>\n",
              "      <td>-0.016092</td>\n",
              "      <td>0.082499</td>\n",
              "      <td>-0.043867</td>\n",
              "      <td>-0.137609</td>\n",
              "      <td>0.036199</td>\n",
              "      <td>0.085526</td>\n",
              "      <td>-0.078095</td>\n",
              "      <td>0.012945</td>\n",
              "      <td>0.052840</td>\n",
              "      <td>-0.036314</td>\n",
              "      <td>-0.060911</td>\n",
              "      <td>-0.038786</td>\n",
              "      <td>-0.079751</td>\n",
              "      <td>-0.028616</td>\n",
              "      <td>-0.063006</td>\n",
              "      <td>-0.042116</td>\n",
              "      <td>-0.042627</td>\n",
              "      <td>0.027509</td>\n",
              "      <td>-0.078804</td>\n",
              "      <td>0.066240</td>\n",
              "    </tr>\n",
              "    <tr>\n",
              "      <th>4</th>\n",
              "      <td>-0.039243</td>\n",
              "      <td>-0.055648</td>\n",
              "      <td>0.069908</td>\n",
              "      <td>-0.039631</td>\n",
              "      <td>0.090605</td>\n",
              "      <td>0.005984</td>\n",
              "      <td>-0.015561</td>\n",
              "      <td>0.068456</td>\n",
              "      <td>-0.042021</td>\n",
              "      <td>0.067245</td>\n",
              "      <td>-0.018152</td>\n",
              "      <td>-0.013696</td>\n",
              "      <td>0.073973</td>\n",
              "      <td>-0.117003</td>\n",
              "      <td>0.033176</td>\n",
              "      <td>-0.026485</td>\n",
              "      <td>0.016812</td>\n",
              "      <td>-0.080728</td>\n",
              "      <td>0.039345</td>\n",
              "      <td>-0.008810</td>\n",
              "    </tr>\n",
              "    <tr>\n",
              "      <th>...</th>\n",
              "      <td>...</td>\n",
              "      <td>...</td>\n",
              "      <td>...</td>\n",
              "      <td>...</td>\n",
              "      <td>...</td>\n",
              "      <td>...</td>\n",
              "      <td>...</td>\n",
              "      <td>...</td>\n",
              "      <td>...</td>\n",
              "      <td>...</td>\n",
              "      <td>...</td>\n",
              "      <td>...</td>\n",
              "      <td>...</td>\n",
              "      <td>...</td>\n",
              "      <td>...</td>\n",
              "      <td>...</td>\n",
              "      <td>...</td>\n",
              "      <td>...</td>\n",
              "      <td>...</td>\n",
              "      <td>...</td>\n",
              "    </tr>\n",
              "    <tr>\n",
              "      <th>295</th>\n",
              "      <td>-0.003075</td>\n",
              "      <td>-0.003663</td>\n",
              "      <td>0.033907</td>\n",
              "      <td>0.027174</td>\n",
              "      <td>0.009939</td>\n",
              "      <td>-0.022491</td>\n",
              "      <td>0.071134</td>\n",
              "      <td>0.010774</td>\n",
              "      <td>-0.009228</td>\n",
              "      <td>-0.041871</td>\n",
              "      <td>0.046954</td>\n",
              "      <td>-0.039964</td>\n",
              "      <td>-0.014544</td>\n",
              "      <td>-0.056660</td>\n",
              "      <td>-0.047519</td>\n",
              "      <td>0.122072</td>\n",
              "      <td>0.052829</td>\n",
              "      <td>-0.016683</td>\n",
              "      <td>-0.021625</td>\n",
              "      <td>0.045069</td>\n",
              "    </tr>\n",
              "    <tr>\n",
              "      <th>296</th>\n",
              "      <td>0.094760</td>\n",
              "      <td>0.012866</td>\n",
              "      <td>0.004324</td>\n",
              "      <td>-0.055517</td>\n",
              "      <td>0.047887</td>\n",
              "      <td>-0.097561</td>\n",
              "      <td>0.023385</td>\n",
              "      <td>0.005466</td>\n",
              "      <td>0.095201</td>\n",
              "      <td>-0.087048</td>\n",
              "      <td>-0.027784</td>\n",
              "      <td>0.001976</td>\n",
              "      <td>-0.019340</td>\n",
              "      <td>-0.077203</td>\n",
              "      <td>0.027793</td>\n",
              "      <td>-0.071054</td>\n",
              "      <td>-0.113176</td>\n",
              "      <td>-0.053646</td>\n",
              "      <td>-0.054202</td>\n",
              "      <td>0.037154</td>\n",
              "    </tr>\n",
              "    <tr>\n",
              "      <th>297</th>\n",
              "      <td>0.020603</td>\n",
              "      <td>0.071122</td>\n",
              "      <td>0.002992</td>\n",
              "      <td>-0.084274</td>\n",
              "      <td>-0.050928</td>\n",
              "      <td>-0.136766</td>\n",
              "      <td>-0.098724</td>\n",
              "      <td>0.092433</td>\n",
              "      <td>0.003288</td>\n",
              "      <td>0.010120</td>\n",
              "      <td>-0.016107</td>\n",
              "      <td>-0.010626</td>\n",
              "      <td>-0.106281</td>\n",
              "      <td>-0.065732</td>\n",
              "      <td>-0.099243</td>\n",
              "      <td>0.071138</td>\n",
              "      <td>0.016909</td>\n",
              "      <td>0.006055</td>\n",
              "      <td>0.034912</td>\n",
              "      <td>0.000730</td>\n",
              "    </tr>\n",
              "    <tr>\n",
              "      <th>298</th>\n",
              "      <td>-0.122520</td>\n",
              "      <td>-0.045790</td>\n",
              "      <td>-0.062905</td>\n",
              "      <td>0.022588</td>\n",
              "      <td>0.020135</td>\n",
              "      <td>-0.020824</td>\n",
              "      <td>0.082470</td>\n",
              "      <td>-0.066310</td>\n",
              "      <td>0.076385</td>\n",
              "      <td>-0.025696</td>\n",
              "      <td>0.035636</td>\n",
              "      <td>0.020276</td>\n",
              "      <td>0.002360</td>\n",
              "      <td>-0.046128</td>\n",
              "      <td>0.032278</td>\n",
              "      <td>-0.003660</td>\n",
              "      <td>-0.051688</td>\n",
              "      <td>0.028090</td>\n",
              "      <td>-0.015415</td>\n",
              "      <td>-0.013648</td>\n",
              "    </tr>\n",
              "    <tr>\n",
              "      <th>299</th>\n",
              "      <td>-0.077740</td>\n",
              "      <td>0.072053</td>\n",
              "      <td>-0.007270</td>\n",
              "      <td>-0.034504</td>\n",
              "      <td>0.045563</td>\n",
              "      <td>-0.015589</td>\n",
              "      <td>-0.013319</td>\n",
              "      <td>0.002570</td>\n",
              "      <td>0.025456</td>\n",
              "      <td>-0.010959</td>\n",
              "      <td>0.082373</td>\n",
              "      <td>-0.046756</td>\n",
              "      <td>0.121457</td>\n",
              "      <td>-0.113634</td>\n",
              "      <td>0.097266</td>\n",
              "      <td>-0.073205</td>\n",
              "      <td>-0.015745</td>\n",
              "      <td>-0.040749</td>\n",
              "      <td>-0.032279</td>\n",
              "      <td>-0.024189</td>\n",
              "    </tr>\n",
              "  </tbody>\n",
              "</table>\n",
              "<p>300 rows × 20 columns</p>\n",
              "</div>\n",
              "      <button class=\"colab-df-convert\" onclick=\"convertToInteractive('df-17aac674-9ee6-4f47-a03f-a02a94c46a3b')\"\n",
              "              title=\"Convert this dataframe to an interactive table.\"\n",
              "              style=\"display:none;\">\n",
              "        \n",
              "  <svg xmlns=\"http://www.w3.org/2000/svg\" height=\"24px\"viewBox=\"0 0 24 24\"\n",
              "       width=\"24px\">\n",
              "    <path d=\"M0 0h24v24H0V0z\" fill=\"none\"/>\n",
              "    <path d=\"M18.56 5.44l.94 2.06.94-2.06 2.06-.94-2.06-.94-.94-2.06-.94 2.06-2.06.94zm-11 1L8.5 8.5l.94-2.06 2.06-.94-2.06-.94L8.5 2.5l-.94 2.06-2.06.94zm10 10l.94 2.06.94-2.06 2.06-.94-2.06-.94-.94-2.06-.94 2.06-2.06.94z\"/><path d=\"M17.41 7.96l-1.37-1.37c-.4-.4-.92-.59-1.43-.59-.52 0-1.04.2-1.43.59L10.3 9.45l-7.72 7.72c-.78.78-.78 2.05 0 2.83L4 21.41c.39.39.9.59 1.41.59.51 0 1.02-.2 1.41-.59l7.78-7.78 2.81-2.81c.8-.78.8-2.07 0-2.86zM5.41 20L4 18.59l7.72-7.72 1.47 1.35L5.41 20z\"/>\n",
              "  </svg>\n",
              "      </button>\n",
              "      \n",
              "  <style>\n",
              "    .colab-df-container {\n",
              "      display:flex;\n",
              "      flex-wrap:wrap;\n",
              "      gap: 12px;\n",
              "    }\n",
              "\n",
              "    .colab-df-convert {\n",
              "      background-color: #E8F0FE;\n",
              "      border: none;\n",
              "      border-radius: 50%;\n",
              "      cursor: pointer;\n",
              "      display: none;\n",
              "      fill: #1967D2;\n",
              "      height: 32px;\n",
              "      padding: 0 0 0 0;\n",
              "      width: 32px;\n",
              "    }\n",
              "\n",
              "    .colab-df-convert:hover {\n",
              "      background-color: #E2EBFA;\n",
              "      box-shadow: 0px 1px 2px rgba(60, 64, 67, 0.3), 0px 1px 3px 1px rgba(60, 64, 67, 0.15);\n",
              "      fill: #174EA6;\n",
              "    }\n",
              "\n",
              "    [theme=dark] .colab-df-convert {\n",
              "      background-color: #3B4455;\n",
              "      fill: #D2E3FC;\n",
              "    }\n",
              "\n",
              "    [theme=dark] .colab-df-convert:hover {\n",
              "      background-color: #434B5C;\n",
              "      box-shadow: 0px 1px 3px 1px rgba(0, 0, 0, 0.15);\n",
              "      filter: drop-shadow(0px 1px 2px rgba(0, 0, 0, 0.3));\n",
              "      fill: #FFFFFF;\n",
              "    }\n",
              "  </style>\n",
              "\n",
              "      <script>\n",
              "        const buttonEl =\n",
              "          document.querySelector('#df-17aac674-9ee6-4f47-a03f-a02a94c46a3b button.colab-df-convert');\n",
              "        buttonEl.style.display =\n",
              "          google.colab.kernel.accessAllowed ? 'block' : 'none';\n",
              "\n",
              "        async function convertToInteractive(key) {\n",
              "          const element = document.querySelector('#df-17aac674-9ee6-4f47-a03f-a02a94c46a3b');\n",
              "          const dataTable =\n",
              "            await google.colab.kernel.invokeFunction('convertToInteractive',\n",
              "                                                     [key], {});\n",
              "          if (!dataTable) return;\n",
              "\n",
              "          const docLinkHtml = 'Like what you see? Visit the ' +\n",
              "            '<a target=\"_blank\" href=https://colab.research.google.com/notebooks/data_table.ipynb>data table notebook</a>'\n",
              "            + ' to learn more about interactive tables.';\n",
              "          element.innerHTML = '';\n",
              "          dataTable['output_type'] = 'display_data';\n",
              "          await google.colab.output.renderOutput(dataTable, element);\n",
              "          const docLink = document.createElement('div');\n",
              "          docLink.innerHTML = docLinkHtml;\n",
              "          element.appendChild(docLink);\n",
              "        }\n",
              "      </script>\n",
              "    </div>\n",
              "  </div>\n",
              "  "
            ]
          },
          "metadata": {},
          "execution_count": 92
        }
      ]
    },
    {
      "cell_type": "markdown",
      "source": [
        "Dropping extraneous columns from q1train, and q1trainfeatureset1"
      ],
      "metadata": {
        "id": "sPAvRSs8ONNi"
      }
    },
    {
      "cell_type": "code",
      "source": [
        "q1trainfeatureset4 = pd.merge(left = q1trainfeatureset2[['EnglishIDF','sf_length','L_dist_sf_noaccents_norm']],right=q1train_vecs,how=\"left\",right_index=True, left_index=True)"
      ],
      "metadata": {
        "id": "f4cIwlq3LSN7"
      },
      "execution_count": null,
      "outputs": []
    },
    {
      "cell_type": "code",
      "source": [
        "q1trainfeatureset4.shape"
      ],
      "metadata": {
        "colab": {
          "base_uri": "https://localhost:8080/"
        },
        "id": "w64fPeIJMXQ6",
        "outputId": "2e686047-9325-4b91-c2ff-bc5a2b7bbb2e"
      },
      "execution_count": null,
      "outputs": [
        {
          "output_type": "execute_result",
          "data": {
            "text/plain": [
              "(9580, 23)"
            ]
          },
          "metadata": {},
          "execution_count": 94
        }
      ]
    },
    {
      "cell_type": "markdown",
      "source": [
        "The columns needed for merging with lexemes for q1train_X: delta, lexeme_id, history_seen, history_frac, simoverdiff, \n",
        "\n",
        "The columns needed for q1train_y: p_forgot_bin\n"
      ],
      "metadata": {
        "id": "6NG3Yrs8PLUM"
      }
    },
    {
      "cell_type": "code",
      "source": [
        "q1train_X = q1train[['lexeme_id','delta','history_seen','history_frac','simoverdiff',]]\n",
        "\n",
        "q1train_y = q1train['p_forgot_bin']"
      ],
      "metadata": {
        "id": "043tTOlkPKtV"
      },
      "execution_count": null,
      "outputs": []
    },
    {
      "cell_type": "code",
      "source": [
        "q1train_X.columns"
      ],
      "metadata": {
        "colab": {
          "base_uri": "https://localhost:8080/"
        },
        "id": "zXkr7CctnCV4",
        "outputId": "c5d47cf8-004c-4dbe-cfc6-d7b44364b62c"
      },
      "execution_count": null,
      "outputs": [
        {
          "output_type": "execute_result",
          "data": {
            "text/plain": [
              "Index(['lexeme_id', 'delta', 'history_seen', 'history_frac', 'simoverdiff'], dtype='object')"
            ]
          },
          "metadata": {},
          "execution_count": 100
        }
      ]
    },
    {
      "cell_type": "code",
      "source": [
        "q1train_X.isna().sum()"
      ],
      "metadata": {
        "colab": {
          "base_uri": "https://localhost:8080/"
        },
        "id": "Pmm1_uVa6O12",
        "outputId": "f45506d7-8fa8-4df3-83e7-7bd6a6e607ca"
      },
      "execution_count": null,
      "outputs": [
        {
          "output_type": "execute_result",
          "data": {
            "text/plain": [
              "lexeme_id       0\n",
              "delta           0\n",
              "history_seen    0\n",
              "history_frac    0\n",
              "simoverdiff     0\n",
              "dtype: int64"
            ]
          },
          "metadata": {},
          "execution_count": 101
        }
      ]
    },
    {
      "cell_type": "markdown",
      "source": [
        "All other non-numerical columns have been dropped. \n",
        "\n",
        "Merging q1train_X and q1trainfeatureset4"
      ],
      "metadata": {
        "id": "u3d2Oi8fnFz8"
      }
    },
    {
      "cell_type": "code",
      "source": [
        "q1train_X4 = pd.merge(left = q1train_X,right=q1trainfeatureset4,how=\"left\",left_on = 'lexeme_id',right_index=True)"
      ],
      "metadata": {
        "id": "_oNKExg0mRzI"
      },
      "execution_count": null,
      "outputs": []
    },
    {
      "cell_type": "code",
      "source": [
        "q1train_X4.shape"
      ],
      "metadata": {
        "colab": {
          "base_uri": "https://localhost:8080/"
        },
        "id": "xKcvNbpHNHoH",
        "outputId": "709ee167-d4f8-4c2b-b1f5-be0fd3223dcc"
      },
      "execution_count": null,
      "outputs": [
        {
          "output_type": "execute_result",
          "data": {
            "text/plain": [
              "(1319735, 28)"
            ]
          },
          "metadata": {},
          "execution_count": 103
        }
      ]
    },
    {
      "cell_type": "markdown",
      "source": [
        "Combining test set similarly:"
      ],
      "metadata": {
        "id": "SHWav1nBNLke"
      }
    },
    {
      "cell_type": "code",
      "source": [
        "q1test_vectors_only = q1testfeatureset2[[col for col in q1testfeatureset2.columns if type(col)==int]]"
      ],
      "metadata": {
        "id": "8HexVzEsNdeU"
      },
      "execution_count": null,
      "outputs": []
    },
    {
      "cell_type": "code",
      "source": [
        "q1test_vectors_only.shape"
      ],
      "metadata": {
        "outputId": "a84c6f30-6d57-470a-af37-04f337f63946",
        "colab": {
          "base_uri": "https://localhost:8080/"
        },
        "id": "5mTX-YU2NdeU"
      },
      "execution_count": null,
      "outputs": [
        {
          "output_type": "execute_result",
          "data": {
            "text/plain": [
              "(2776, 300)"
            ]
          },
          "metadata": {},
          "execution_count": 105
        }
      ]
    },
    {
      "cell_type": "code",
      "source": [
        "# transform with std scaler and PCA\n",
        "\n",
        "q1test_vectors_only_ss = stdscaler_.transform(q1test_vectors_only)\n",
        "\n",
        "q1test_vecs = pca_vectors_only.transform(q1test_vectors_only_ss)\n",
        "q1test_vecs = pd.DataFrame(q1test_vecs,index=q1test_vectors_only.index)\n",
        "q1test_vecs.head()"
      ],
      "metadata": {
        "id": "dTvPB4AKNLK5"
      },
      "execution_count": null,
      "outputs": []
    },
    {
      "cell_type": "code",
      "source": [
        "q1testfeatureset4 = pd.merge(left = q1testfeatureset2[['EnglishIDF','sf_length','L_dist_sf_noaccents_norm']],right=q1test_vecs,how=\"left\",right_index=True, left_index=True)"
      ],
      "metadata": {
        "id": "wW3A4uSHNvko"
      },
      "execution_count": null,
      "outputs": []
    },
    {
      "cell_type": "code",
      "source": [
        "q1testfeatureset4.shape"
      ],
      "metadata": {
        "id": "ogodpEzxNvko"
      },
      "execution_count": null,
      "outputs": []
    },
    {
      "cell_type": "code",
      "source": [
        "q1testfeatureset4"
      ],
      "metadata": {
        "id": "P8n17db1-f3_"
      },
      "execution_count": null,
      "outputs": []
    },
    {
      "cell_type": "markdown",
      "source": [
        "The columns needed for merging with lexemes for q1train_X: delta, lexeme_id, history_seen, history_frac, simoverdiff, \n",
        "\n",
        "The columns needed for q1train_y: p_forgot_bin\n"
      ],
      "metadata": {
        "id": "hCM8fURMNvko"
      }
    },
    {
      "cell_type": "code",
      "source": [
        "q1test_X = q1test[['lexeme_id','delta','history_seen','history_frac','simoverdiff',]]\n",
        "\n",
        "q1test_y = q1test['p_forgot_bin']"
      ],
      "metadata": {
        "id": "Ua2uc8phNvko"
      },
      "execution_count": null,
      "outputs": []
    },
    {
      "cell_type": "code",
      "source": [
        "q1test_X.columns"
      ],
      "metadata": {
        "id": "UOr1VvtzNvko"
      },
      "execution_count": null,
      "outputs": []
    },
    {
      "cell_type": "code",
      "source": [
        "q1test_X.isna().sum()"
      ],
      "metadata": {
        "id": "0GH8AOsZNvko"
      },
      "execution_count": null,
      "outputs": []
    },
    {
      "cell_type": "markdown",
      "source": [
        "All other non-numerical columns have been dropped. \n",
        "\n",
        "Merging q1train_X and q1trainfeatureset4"
      ],
      "metadata": {
        "id": "A7-kQDtVNvko"
      }
    },
    {
      "cell_type": "code",
      "source": [
        "q1testfeatureset4.head()"
      ],
      "metadata": {
        "id": "ioGGS07l-82E"
      },
      "execution_count": null,
      "outputs": []
    },
    {
      "cell_type": "code",
      "source": [
        "q1test_X4 = pd.merge(left = q1test_X,right=q1testfeatureset4,how=\"left\",left_on = 'lexeme_id',right_index=True)"
      ],
      "metadata": {
        "id": "CU1EhrNJNvkp"
      },
      "execution_count": null,
      "outputs": []
    },
    {
      "cell_type": "code",
      "source": [
        "q1test_X4.shape"
      ],
      "metadata": {
        "id": "u5PDqv51Nvkp"
      },
      "execution_count": null,
      "outputs": []
    },
    {
      "cell_type": "code",
      "source": [
        "compressed_pickle(path_name+\"Q1TRAIN_pipe4\",q1train_X4)\n",
        "compressed_pickle(path_name+\"Q1TEST_pipe4\",q1test_X4)\n",
        "\n",
        "compressed_pickle(path_name+\"Q1TRAIN_Y_pipe4\",q1train_y)\n",
        "compressed_pickle(path_name+\"Q1TEST_Y_pipe4\",q1test_y)\n"
      ],
      "metadata": {
        "id": "LUT_HZ2pOAxX"
      },
      "execution_count": null,
      "outputs": []
    },
    {
      "cell_type": "code",
      "source": [
        "compressed_pickle(path_name+\"q1fs4_column_names\",q1trainfeatureset4.columns)"
      ],
      "metadata": {
        "id": "pwoR6KhvyaYF"
      },
      "execution_count": null,
      "outputs": []
    },
    {
      "cell_type": "code",
      "source": [
        "q1train_X4.size/10**6, q1test_X4.size/10**6"
      ],
      "metadata": {
        "id": "8ix-IUguPaDw"
      },
      "execution_count": null,
      "outputs": []
    },
    {
      "cell_type": "markdown",
      "source": [
        "## <font color = 'cornflowerblue' size=4>Conclusions and Next Steps</font>\n",
        "\n",
        "Word based features have been joined to the Q1 train and test dataframes, and stored as compressed sparse matrices. \n",
        "\n",
        "scaling will be done before modeling. \n",
        "\n",
        "Next steps:\n",
        "\n",
        "For pipe1:\n",
        "\n",
        "Further split q1train_featureset1 into training and validation sets (90-10) split. \n",
        "\n",
        "1. Model with classical machine learning techniques\n",
        "- downsample or upsample or adjust class weight hyperparameter\n",
        "- logistic regression\n",
        "- decision tree\n",
        "- Naive Bayes classification\n",
        "- downsampled kNN\n",
        "- doensampled SVM\n",
        "\n",
        "2. Ensemble techniques\n",
        "- Random Forest\n",
        "- AdaBoost\n",
        "- XGBoost\n",
        "\n",
        "3. Neural net\n",
        "- Dense neural net. \n",
        "\n",
        "Model performance of pipe1 will be compared with validation set performance average precision and ROC AUC, with a baseline model with no word based features. \n",
        "\n"
      ],
      "metadata": {
        "id": "jNQSCoofsDWT"
      }
    }
  ]
}