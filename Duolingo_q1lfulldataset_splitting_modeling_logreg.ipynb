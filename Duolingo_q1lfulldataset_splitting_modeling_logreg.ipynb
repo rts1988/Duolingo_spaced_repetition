{
  "nbformat": 4,
  "nbformat_minor": 0,
  "metadata": {
    "colab": {
      "name": "Duolingo_q1lfulldataset_splitting_modeling_logreg.ipynb",
      "provenance": [],
      "machine_shape": "hm",
      "collapsed_sections": [],
      "authorship_tag": "ABX9TyPcpb3pacSMTJGmayNZc7kw",
      "include_colab_link": true
    },
    "kernelspec": {
      "name": "python3",
      "display_name": "Python 3"
    },
    "language_info": {
      "name": "python"
    },
    "gpuClass": "standard"
  },
  "cells": [
    {
      "cell_type": "markdown",
      "metadata": {
        "id": "view-in-github",
        "colab_type": "text"
      },
      "source": [
        "<a href=\"https://colab.research.google.com/github/rts1988/Duolingo_spaced_repetition/blob/main/Duolingo_q1lfulldataset_splitting_modeling_logreg.ipynb\" target=\"_parent\"><img src=\"https://colab.research.google.com/assets/colab-badge.svg\" alt=\"Open In Colab\"/></a>"
      ]
    },
    {
      "cell_type": "markdown",
      "source": [
        "Approach: \n",
        "Split Xq1 and yq1 into 80-20 train validation split.\n",
        "save them as separate. \n",
        "\n",
        "looking at\n",
        "1. log reg\n",
        "2. decision tree\n",
        "3. skipping svm and knn.\n",
        "4. random forest\n",
        "5. adaboost\n",
        "6. xgboost\n",
        "7. neural net dense in keras\n",
        "\n",
        "compare best performances for each type of model. "
      ],
      "metadata": {
        "id": "E5X6w6X5PQcc"
      }
    },
    {
      "cell_type": "markdown",
      "source": [
        "Getting yq1 and Xq1:\n",
        "\n",
        "Getting yq1 from datadfq1"
      ],
      "metadata": {
        "id": "KnpvNDT7lpB6"
      }
    },
    {
      "cell_type": "code",
      "execution_count": 1,
      "metadata": {
        "id": "R-WTApfQPI6o",
        "colab": {
          "base_uri": "https://localhost:8080/"
        },
        "outputId": "f10b19b2-cf27-4e43-a384-6ffc819df405"
      },
      "outputs": [
        {
          "output_type": "stream",
          "name": "stdout",
          "text": [
            "Drive already mounted at /content/drive; to attempt to forcibly remount, call drive.mount(\"/content/drive\", force_remount=True).\n"
          ]
        }
      ],
      "source": [
        "import bz2\n",
        "import pickle\n",
        "import _pickle as cPickle\n",
        "import pandas as pd\n",
        "import seaborn as sns\n",
        "import matplotlib.pyplot as plt\n",
        "import numpy as np\n",
        "\n",
        "from google.colab import drive\n",
        "drive.mount('/content/drive')\n",
        "\n",
        "def decompress_pickle(file):\n",
        " data = bz2.BZ2File(file, 'rb')\n",
        " data = cPickle.load(data)\n",
        " return data\n",
        "\n",
        "def compressed_pickle(title, data):  # do not add extension in filename\n",
        " with bz2.BZ2File(title + '.pbz2', 'w') as f: \n",
        "  cPickle.dump(data, f)\n",
        "\n",
        "path_name = '/content/drive/MyDrive/'"
      ]
    },
    {
      "cell_type": "code",
      "source": [
        "datadfq1 = decompress_pickle(path_name+\"Unseen_words_training_set.pbz2\") "
      ],
      "metadata": {
        "id": "EWDuQfNJPuhp"
      },
      "execution_count": 4,
      "outputs": []
    },
    {
      "cell_type": "code",
      "source": [
        "datadfq1.head()"
      ],
      "metadata": {
        "colab": {
          "base_uri": "https://localhost:8080/",
          "height": 357
        },
        "id": "vhl6x5D-PvMh",
        "outputId": "c74ccf35-586b-416b-8175-7a59effaa854"
      },
      "execution_count": 5,
      "outputs": [
        {
          "output_type": "execute_result",
          "data": {
            "text/plain": [
              "    p_recall   timestamp    delta user_id learning_language ui_language  \\\n",
              "7        1.0  1362082032   444407  u:dDwF                es          en   \n",
              "15       1.0  1362082130       77  u:dDwF                es          en   \n",
              "20       1.0  1362082274  1634777  u:dDwF                es          en   \n",
              "21       1.0  1362082274  1708699  u:dDwF                es          en   \n",
              "22       1.0  1362082274  1708699  u:dDwF                es          en   \n",
              "\n",
              "                           lexeme_id                 lexeme_string  \\\n",
              "7   73eecb492ca758ddab5371cf7b5cca32                 bajo/bajo<pr>   \n",
              "15  73eecb492ca758ddab5371cf7b5cca32                 bajo/bajo<pr>   \n",
              "20  c84476c460737d9fb905dca3d35ec995          niños/niño<n><m><pl>   \n",
              "21  1a913f2ded424985b9c02d0436008511  leo/leer<vblex><pri><p1><sg>   \n",
              "22  38b770e66595fea718366523b4f7db3f         libro/libro<n><m><sg>   \n",
              "\n",
              "    history_seen  history_correct  session_seen  session_correct  \\\n",
              "7              3                3             1                1   \n",
              "15             5                5             1                1   \n",
              "20             9                8             2                2   \n",
              "21             7                5             2                2   \n",
              "22             8                8             4                4   \n",
              "\n",
              "                                  student_word  student_lang  \n",
              "7   (u:dDwF, 73eecb492ca758ddab5371cf7b5cca32)  (u:dDwF, en)  \n",
              "15  (u:dDwF, 73eecb492ca758ddab5371cf7b5cca32)  (u:dDwF, en)  \n",
              "20  (u:dDwF, c84476c460737d9fb905dca3d35ec995)  (u:dDwF, en)  \n",
              "21  (u:dDwF, 1a913f2ded424985b9c02d0436008511)  (u:dDwF, en)  \n",
              "22  (u:dDwF, 38b770e66595fea718366523b4f7db3f)  (u:dDwF, en)  "
            ],
            "text/html": [
              "\n",
              "  <div id=\"df-3e4f7255-6093-469a-a8be-07041c0ad328\">\n",
              "    <div class=\"colab-df-container\">\n",
              "      <div>\n",
              "<style scoped>\n",
              "    .dataframe tbody tr th:only-of-type {\n",
              "        vertical-align: middle;\n",
              "    }\n",
              "\n",
              "    .dataframe tbody tr th {\n",
              "        vertical-align: top;\n",
              "    }\n",
              "\n",
              "    .dataframe thead th {\n",
              "        text-align: right;\n",
              "    }\n",
              "</style>\n",
              "<table border=\"1\" class=\"dataframe\">\n",
              "  <thead>\n",
              "    <tr style=\"text-align: right;\">\n",
              "      <th></th>\n",
              "      <th>p_recall</th>\n",
              "      <th>timestamp</th>\n",
              "      <th>delta</th>\n",
              "      <th>user_id</th>\n",
              "      <th>learning_language</th>\n",
              "      <th>ui_language</th>\n",
              "      <th>lexeme_id</th>\n",
              "      <th>lexeme_string</th>\n",
              "      <th>history_seen</th>\n",
              "      <th>history_correct</th>\n",
              "      <th>session_seen</th>\n",
              "      <th>session_correct</th>\n",
              "      <th>student_word</th>\n",
              "      <th>student_lang</th>\n",
              "    </tr>\n",
              "  </thead>\n",
              "  <tbody>\n",
              "    <tr>\n",
              "      <th>7</th>\n",
              "      <td>1.0</td>\n",
              "      <td>1362082032</td>\n",
              "      <td>444407</td>\n",
              "      <td>u:dDwF</td>\n",
              "      <td>es</td>\n",
              "      <td>en</td>\n",
              "      <td>73eecb492ca758ddab5371cf7b5cca32</td>\n",
              "      <td>bajo/bajo&lt;pr&gt;</td>\n",
              "      <td>3</td>\n",
              "      <td>3</td>\n",
              "      <td>1</td>\n",
              "      <td>1</td>\n",
              "      <td>(u:dDwF, 73eecb492ca758ddab5371cf7b5cca32)</td>\n",
              "      <td>(u:dDwF, en)</td>\n",
              "    </tr>\n",
              "    <tr>\n",
              "      <th>15</th>\n",
              "      <td>1.0</td>\n",
              "      <td>1362082130</td>\n",
              "      <td>77</td>\n",
              "      <td>u:dDwF</td>\n",
              "      <td>es</td>\n",
              "      <td>en</td>\n",
              "      <td>73eecb492ca758ddab5371cf7b5cca32</td>\n",
              "      <td>bajo/bajo&lt;pr&gt;</td>\n",
              "      <td>5</td>\n",
              "      <td>5</td>\n",
              "      <td>1</td>\n",
              "      <td>1</td>\n",
              "      <td>(u:dDwF, 73eecb492ca758ddab5371cf7b5cca32)</td>\n",
              "      <td>(u:dDwF, en)</td>\n",
              "    </tr>\n",
              "    <tr>\n",
              "      <th>20</th>\n",
              "      <td>1.0</td>\n",
              "      <td>1362082274</td>\n",
              "      <td>1634777</td>\n",
              "      <td>u:dDwF</td>\n",
              "      <td>es</td>\n",
              "      <td>en</td>\n",
              "      <td>c84476c460737d9fb905dca3d35ec995</td>\n",
              "      <td>niños/niño&lt;n&gt;&lt;m&gt;&lt;pl&gt;</td>\n",
              "      <td>9</td>\n",
              "      <td>8</td>\n",
              "      <td>2</td>\n",
              "      <td>2</td>\n",
              "      <td>(u:dDwF, c84476c460737d9fb905dca3d35ec995)</td>\n",
              "      <td>(u:dDwF, en)</td>\n",
              "    </tr>\n",
              "    <tr>\n",
              "      <th>21</th>\n",
              "      <td>1.0</td>\n",
              "      <td>1362082274</td>\n",
              "      <td>1708699</td>\n",
              "      <td>u:dDwF</td>\n",
              "      <td>es</td>\n",
              "      <td>en</td>\n",
              "      <td>1a913f2ded424985b9c02d0436008511</td>\n",
              "      <td>leo/leer&lt;vblex&gt;&lt;pri&gt;&lt;p1&gt;&lt;sg&gt;</td>\n",
              "      <td>7</td>\n",
              "      <td>5</td>\n",
              "      <td>2</td>\n",
              "      <td>2</td>\n",
              "      <td>(u:dDwF, 1a913f2ded424985b9c02d0436008511)</td>\n",
              "      <td>(u:dDwF, en)</td>\n",
              "    </tr>\n",
              "    <tr>\n",
              "      <th>22</th>\n",
              "      <td>1.0</td>\n",
              "      <td>1362082274</td>\n",
              "      <td>1708699</td>\n",
              "      <td>u:dDwF</td>\n",
              "      <td>es</td>\n",
              "      <td>en</td>\n",
              "      <td>38b770e66595fea718366523b4f7db3f</td>\n",
              "      <td>libro/libro&lt;n&gt;&lt;m&gt;&lt;sg&gt;</td>\n",
              "      <td>8</td>\n",
              "      <td>8</td>\n",
              "      <td>4</td>\n",
              "      <td>4</td>\n",
              "      <td>(u:dDwF, 38b770e66595fea718366523b4f7db3f)</td>\n",
              "      <td>(u:dDwF, en)</td>\n",
              "    </tr>\n",
              "  </tbody>\n",
              "</table>\n",
              "</div>\n",
              "      <button class=\"colab-df-convert\" onclick=\"convertToInteractive('df-3e4f7255-6093-469a-a8be-07041c0ad328')\"\n",
              "              title=\"Convert this dataframe to an interactive table.\"\n",
              "              style=\"display:none;\">\n",
              "        \n",
              "  <svg xmlns=\"http://www.w3.org/2000/svg\" height=\"24px\"viewBox=\"0 0 24 24\"\n",
              "       width=\"24px\">\n",
              "    <path d=\"M0 0h24v24H0V0z\" fill=\"none\"/>\n",
              "    <path d=\"M18.56 5.44l.94 2.06.94-2.06 2.06-.94-2.06-.94-.94-2.06-.94 2.06-2.06.94zm-11 1L8.5 8.5l.94-2.06 2.06-.94-2.06-.94L8.5 2.5l-.94 2.06-2.06.94zm10 10l.94 2.06.94-2.06 2.06-.94-2.06-.94-.94-2.06-.94 2.06-2.06.94z\"/><path d=\"M17.41 7.96l-1.37-1.37c-.4-.4-.92-.59-1.43-.59-.52 0-1.04.2-1.43.59L10.3 9.45l-7.72 7.72c-.78.78-.78 2.05 0 2.83L4 21.41c.39.39.9.59 1.41.59.51 0 1.02-.2 1.41-.59l7.78-7.78 2.81-2.81c.8-.78.8-2.07 0-2.86zM5.41 20L4 18.59l7.72-7.72 1.47 1.35L5.41 20z\"/>\n",
              "  </svg>\n",
              "      </button>\n",
              "      \n",
              "  <style>\n",
              "    .colab-df-container {\n",
              "      display:flex;\n",
              "      flex-wrap:wrap;\n",
              "      gap: 12px;\n",
              "    }\n",
              "\n",
              "    .colab-df-convert {\n",
              "      background-color: #E8F0FE;\n",
              "      border: none;\n",
              "      border-radius: 50%;\n",
              "      cursor: pointer;\n",
              "      display: none;\n",
              "      fill: #1967D2;\n",
              "      height: 32px;\n",
              "      padding: 0 0 0 0;\n",
              "      width: 32px;\n",
              "    }\n",
              "\n",
              "    .colab-df-convert:hover {\n",
              "      background-color: #E2EBFA;\n",
              "      box-shadow: 0px 1px 2px rgba(60, 64, 67, 0.3), 0px 1px 3px 1px rgba(60, 64, 67, 0.15);\n",
              "      fill: #174EA6;\n",
              "    }\n",
              "\n",
              "    [theme=dark] .colab-df-convert {\n",
              "      background-color: #3B4455;\n",
              "      fill: #D2E3FC;\n",
              "    }\n",
              "\n",
              "    [theme=dark] .colab-df-convert:hover {\n",
              "      background-color: #434B5C;\n",
              "      box-shadow: 0px 1px 3px 1px rgba(0, 0, 0, 0.15);\n",
              "      filter: drop-shadow(0px 1px 2px rgba(0, 0, 0, 0.3));\n",
              "      fill: #FFFFFF;\n",
              "    }\n",
              "  </style>\n",
              "\n",
              "      <script>\n",
              "        const buttonEl =\n",
              "          document.querySelector('#df-3e4f7255-6093-469a-a8be-07041c0ad328 button.colab-df-convert');\n",
              "        buttonEl.style.display =\n",
              "          google.colab.kernel.accessAllowed ? 'block' : 'none';\n",
              "\n",
              "        async function convertToInteractive(key) {\n",
              "          const element = document.querySelector('#df-3e4f7255-6093-469a-a8be-07041c0ad328');\n",
              "          const dataTable =\n",
              "            await google.colab.kernel.invokeFunction('convertToInteractive',\n",
              "                                                     [key], {});\n",
              "          if (!dataTable) return;\n",
              "\n",
              "          const docLinkHtml = 'Like what you see? Visit the ' +\n",
              "            '<a target=\"_blank\" href=https://colab.research.google.com/notebooks/data_table.ipynb>data table notebook</a>'\n",
              "            + ' to learn more about interactive tables.';\n",
              "          element.innerHTML = '';\n",
              "          dataTable['output_type'] = 'display_data';\n",
              "          await google.colab.output.renderOutput(dataTable, element);\n",
              "          const docLink = document.createElement('div');\n",
              "          docLink.innerHTML = docLinkHtml;\n",
              "          element.appendChild(docLink);\n",
              "        }\n",
              "      </script>\n",
              "    </div>\n",
              "  </div>\n",
              "  "
            ]
          },
          "metadata": {},
          "execution_count": 5
        }
      ]
    },
    {
      "cell_type": "code",
      "source": [
        "datadfq1.shape, datadfq1.size/10**6"
      ],
      "metadata": {
        "colab": {
          "base_uri": "https://localhost:8080/"
        },
        "id": "99aJzcBtyEt8",
        "outputId": "496d7f7c-4613-4e93-aeb5-b3f06dae547f"
      },
      "execution_count": 6,
      "outputs": [
        {
          "output_type": "execute_result",
          "data": {
            "text/plain": [
              "((7313354, 14), 102.386956)"
            ]
          },
          "metadata": {},
          "execution_count": 6
        }
      ]
    },
    {
      "cell_type": "code",
      "source": [
        "datadfq1['p_forgot_bin'] = np.where(1 - datadfq1['p_recall'] >0,1,0).astype(int)"
      ],
      "metadata": {
        "id": "jrqBiUJQmLYc"
      },
      "execution_count": 7,
      "outputs": []
    },
    {
      "cell_type": "code",
      "source": [
        "yq1 = datadfq1['p_forgot_bin']"
      ],
      "metadata": {
        "id": "aiFCxr-ImTI6"
      },
      "execution_count": 32,
      "outputs": []
    },
    {
      "cell_type": "code",
      "source": [
        "compressed_pickle(path_name+\"yq1all\",yq1)"
      ],
      "metadata": {
        "id": "OnFwx4eMmepV"
      },
      "execution_count": 9,
      "outputs": []
    },
    {
      "cell_type": "markdown",
      "source": [
        "Getting saved yq1 from drive:"
      ],
      "metadata": {
        "id": "JRRJQTRsvDQm"
      }
    },
    {
      "cell_type": "markdown",
      "source": [
        "Gatting Xq1 from drive"
      ],
      "metadata": {
        "id": "D6YprWvGmWgx"
      }
    },
    {
      "cell_type": "code",
      "source": [
        "Xq1 = decompress_pickle(path_name+\"Xq1all.pbz2\") \n",
        "yq1 = decompress_pickle(path_name+\"yq1all.pbz2\") "
      ],
      "metadata": {
        "id": "xiXT2KTQmV5Y"
      },
      "execution_count": 2,
      "outputs": []
    },
    {
      "cell_type": "code",
      "source": [
        "type(Xq1), type(yq1)"
      ],
      "metadata": {
        "colab": {
          "base_uri": "https://localhost:8080/"
        },
        "id": "G9QMPnwGmpPT",
        "outputId": "94f95a41-c0db-4d42-ddd7-8db3d4d2ff3d"
      },
      "execution_count": 3,
      "outputs": [
        {
          "output_type": "execute_result",
          "data": {
            "text/plain": [
              "(scipy.sparse.coo.coo_matrix, pandas.core.series.Series)"
            ]
          },
          "metadata": {},
          "execution_count": 3
        }
      ]
    },
    {
      "cell_type": "code",
      "source": [
        "from scipy.sparse import coo_matrix"
      ],
      "metadata": {
        "id": "Mzwo-xM9nAQn"
      },
      "execution_count": 4,
      "outputs": []
    },
    {
      "cell_type": "code",
      "source": [
        "Xq1.shape, yq1.shape"
      ],
      "metadata": {
        "colab": {
          "base_uri": "https://localhost:8080/"
        },
        "id": "MP9Rke5lnXG_",
        "outputId": "47360236-cfa0-459b-bd45-dde92c565372"
      },
      "execution_count": 5,
      "outputs": [
        {
          "output_type": "execute_result",
          "data": {
            "text/plain": [
              "((7313354, 2233), (7313354,))"
            ]
          },
          "metadata": {},
          "execution_count": 5
        }
      ]
    },
    {
      "cell_type": "markdown",
      "source": [
        "splitting into 80-20 training and validation set with a random state = 5. (had to remove stratify argument, because it doesn't work for sparse arrays)"
      ],
      "metadata": {
        "id": "xnaMooTbn_2O"
      }
    },
    {
      "cell_type": "code",
      "source": [
        "from sklearn.model_selection import train_test_split\n",
        "\n",
        "Xq1_train, Xq1_valid, yq1_train, yq1_valid = train_test_split(Xq1,yq1,test_size=0.2,random_state=5)"
      ],
      "metadata": {
        "id": "ZRtwPyivnH9X"
      },
      "execution_count": 6,
      "outputs": []
    },
    {
      "cell_type": "code",
      "source": [
        "Xq1_train.shape, Xq1_valid.shape, yq1_train.shape, yq1_valid.shape"
      ],
      "metadata": {
        "colab": {
          "base_uri": "https://localhost:8080/"
        },
        "id": "nMhbmTs9oHd0",
        "outputId": "8de2de0c-4a4a-4c27-fe82-90ae5ebf02ba"
      },
      "execution_count": 7,
      "outputs": [
        {
          "output_type": "execute_result",
          "data": {
            "text/plain": [
              "((5850683, 2233), (1462671, 2233), (5850683,), (1462671,))"
            ]
          },
          "metadata": {},
          "execution_count": 7
        }
      ]
    },
    {
      "cell_type": "markdown",
      "source": [
        "Fraction of ones in the train and validation sets"
      ],
      "metadata": {
        "id": "3uYfRNqVpjFt"
      }
    },
    {
      "cell_type": "code",
      "source": [
        "yq1_train.sum()/yq1_train.shape[0], yq1_valid.sum()/yq1_valid.shape[0]"
      ],
      "metadata": {
        "colab": {
          "base_uri": "https://localhost:8080/"
        },
        "id": "yrRvYfHeoNrA",
        "outputId": "f395c305-1bc6-4f86-bf5e-e96c198d8ca2"
      },
      "execution_count": 8,
      "outputs": [
        {
          "output_type": "execute_result",
          "data": {
            "text/plain": [
              "(0.1611603294863181, 0.16108748994134703)"
            ]
          },
          "metadata": {},
          "execution_count": 8
        }
      ]
    },
    {
      "cell_type": "markdown",
      "source": [
        "They are about the same, we will use this split to test a number of models. They are saved below:\n",
        "\n",
        "First, we scale and transform the data using the min-max scaler. "
      ],
      "metadata": {
        "id": "DWZtKI4Cppws"
      }
    },
    {
      "cell_type": "code",
      "source": [
        "from sklearn.preprocessing import MaxAbsScaler # used because sparse array not supported by MinMaxScaler\n",
        "mm_scaler = MaxAbsScaler()\n",
        "\n",
        "mm_scaler.fit(Xq1_train)\n",
        "Xq1_mm_train = mm_scaler.transform(Xq1_train)\n",
        "Xq1_mm_valid = mm_scaler.transform(Xq1_valid)\n"
      ],
      "metadata": {
        "id": "Rchgc0dFqH_C"
      },
      "execution_count": 9,
      "outputs": []
    },
    {
      "cell_type": "markdown",
      "source": [
        "### Logistic regression\n",
        "\n",
        "Hyperparamters:\n",
        "1. C\n",
        "2. class weights\n",
        "3. penalty - starting with l1 to see which features are important, and then l2 for fitting. \n"
      ],
      "metadata": {
        "id": "4Tz2u-0Cq-jR"
      }
    },
    {
      "cell_type": "code",
      "source": [
        "from sklearn.model_selection import ShuffleSplit\n",
        "#cv = KFold(n_splits=5, test_size=0.3, random_state=0)\n",
        "\n",
        "from sklearn.linear_model import LogisticRegression\n",
        "logreg = LogisticRegression()\n",
        "\n",
        "from sklearn.model_selection import cross_validate\n",
        "\n",
        "from sklearn.metrics import make_scorer # to define a list of scoring metrics to use\n",
        "\n",
        "from sklearn.model_selection import GridSearchCV\n",
        "\n",
        "# iterate over \n",
        "logreg = LogisticRegression(max_iter = 100,solver='liblinear',verbose=10,penalty='l1')\n",
        "logreg.fit(Xq1_mm_train,yq1_train)\n",
        "yq1_train_preds = logreg.predict(Xq1_mm_train)\n",
        "\n",
        "#scoring_metrics = ['accuracy','f1','average_precision','roc_auc','recall']\n",
        "\n",
        "#cv_results = cross_validate(logreg,Xq1_mm_train,yq1_train,cv=cv,scoring=scoring_metrics,verbose=10,return_estimator = True)\n",
        "\n",
        "#sorted(cv_results.keys())"
      ],
      "metadata": {
        "colab": {
          "base_uri": "https://localhost:8080/"
        },
        "id": "NlDb6k0rqpAt",
        "outputId": "aea842e3-a583-43f1-d93a-b7e759ed6c11"
      },
      "execution_count": 10,
      "outputs": [
        {
          "output_type": "stream",
          "name": "stdout",
          "text": [
            "[LibLinear]"
          ]
        }
      ]
    },
    {
      "cell_type": "code",
      "source": [
        "from sklearn.metrics import accuracy_score, PrecisionRecallDisplay, roc_auc_score"
      ],
      "metadata": {
        "id": "QsCfayKDsMtN"
      },
      "execution_count": 12,
      "outputs": []
    },
    {
      "cell_type": "code",
      "source": [
        "accuracy_score(yq1_train,yq1_train_preds)"
      ],
      "metadata": {
        "colab": {
          "base_uri": "https://localhost:8080/"
        },
        "id": "CYIz2D_TejYe",
        "outputId": "0ed5e8ec-3dff-430a-ae6a-1b9770f53f00"
      },
      "execution_count": 13,
      "outputs": [
        {
          "output_type": "execute_result",
          "data": {
            "text/plain": [
              "0.8397665708430965"
            ]
          },
          "metadata": {},
          "execution_count": 13
        }
      ]
    },
    {
      "cell_type": "code",
      "source": [
        "PrecisionRecallDisplay.from_predictions(yq1_train,yq1_train_preds)"
      ],
      "metadata": {
        "colab": {
          "base_uri": "https://localhost:8080/",
          "height": 297
        },
        "id": "3CNoeenveq01",
        "outputId": "4d8f6fd0-ec68-4843-cc3e-07ffc26ec03b"
      },
      "execution_count": 14,
      "outputs": [
        {
          "output_type": "execute_result",
          "data": {
            "text/plain": [
              "<sklearn.metrics._plot.precision_recall_curve.PrecisionRecallDisplay at 0x7f7f35a5bad0>"
            ]
          },
          "metadata": {},
          "execution_count": 14
        },
        {
          "output_type": "display_data",
          "data": {
            "text/plain": [
              "<Figure size 432x288 with 1 Axes>"
            ],
            "image/png": "[encoded data removed]"
          },
          "metadata": {
            "needs_background": "light"
          }
        }
      ]
    },
    {
      "cell_type": "code",
      "source": [
        "roc_auc_score(yq1_train,yq1_train_preds)"
      ],
      "metadata": {
        "colab": {
          "base_uri": "https://localhost:8080/"
        },
        "id": "V8PG1NzTexcd",
        "outputId": "5608e928-c95e-499a-f445-b52654a286f1"
      },
      "execution_count": 15,
      "outputs": [
        {
          "output_type": "execute_result",
          "data": {
            "text/plain": [
              "0.5153751675544869"
            ]
          },
          "metadata": {},
          "execution_count": 15
        }
      ]
    },
    {
      "cell_type": "code",
      "source": [
        "column_names = decompress_pickle(path_name+\"q1_1_columnnames.pbz2\")"
      ],
      "metadata": {
        "id": "c34G7GmjiGex"
      },
      "execution_count": 30,
      "outputs": []
    },
    {
      "cell_type": "code",
      "source": [
        "coefficients = logreg.coef_.reshape(2233,)"
      ],
      "metadata": {
        "id": "X9ebvFAae651"
      },
      "execution_count": 33,
      "outputs": []
    },
    {
      "cell_type": "code",
      "source": [
        "coefficients = pd.Series(logreg.coef_.reshape(2233,),index=column_names)"
      ],
      "metadata": {
        "id": "3QoNwrdqfP1P"
      },
      "execution_count": 34,
      "outputs": []
    },
    {
      "cell_type": "code",
      "source": [
        "coefficients.head(10)"
      ],
      "metadata": {
        "colab": {
          "base_uri": "https://localhost:8080/"
        },
        "id": "OJMwe0txfVSL",
        "outputId": "4730f19c-8ddb-4f4a-db32-623722134f69"
      },
      "execution_count": 35,
      "outputs": [
        {
          "output_type": "execute_result",
          "data": {
            "text/plain": [
              "delta                1.228215\n",
              "history_seen       131.564006\n",
              "history_correct   -148.787487\n",
              "session_seen         6.654343\n",
              "LL_es               -1.050063\n",
              "LL_fr               -0.910518\n",
              "LL_it               -1.144337\n",
              "LL_pt               -1.160102\n",
              "UIL_es              -1.157980\n",
              "UIL_pt              -1.179814\n",
              "dtype: float64"
            ]
          },
          "metadata": {},
          "execution_count": 35
        }
      ]
    },
    {
      "cell_type": "code",
      "source": [
        "coefficients.abs().sort_values(ascending=False).head(20)"
      ],
      "metadata": {
        "colab": {
          "base_uri": "https://localhost:8080/"
        },
        "id": "DmgDm9eEgFGg",
        "outputId": "1c344f80-a00a-4969-e43c-0b7b65ff38e4"
      },
      "execution_count": 36,
      "outputs": [
        {
          "output_type": "execute_result",
          "data": {
            "text/plain": [
              "history_correct    148.787487\n",
              "history_seen       131.564006\n",
              "session_seen         6.654343\n",
              "nfor                 3.087332\n",
              "ext                  2.808001\n",
              "nado                 2.359969\n",
              "etu                  2.272635\n",
              "xt                   2.114067\n",
              "xa                   2.030466\n",
              "ende                 2.005279\n",
              "dade                 2.003677\n",
              "éri                  1.992205\n",
              "eff                  1.973663\n",
              "iga                  1.853825\n",
              "ef                   1.839187\n",
              "siti                 1.830802\n",
              "ecti                 1.825933\n",
              "imie                 1.741529\n",
              "cé                   1.732884\n",
              "ctor                 1.729729\n",
              "dtype: float64"
            ]
          },
          "metadata": {},
          "execution_count": 36
        }
      ]
    },
    {
      "cell_type": "markdown",
      "source": [
        "Positive coefficients:"
      ],
      "metadata": {
        "id": "E7RLV91AjMLP"
      }
    },
    {
      "cell_type": "code",
      "source": [
        "coefficients.sort_values(ascending=False).head(20)"
      ],
      "metadata": {
        "colab": {
          "base_uri": "https://localhost:8080/"
        },
        "id": "sWvIcRBbjBqb",
        "outputId": "a75d4e01-e544-4df5-b224-9ea19c7b7a2f"
      },
      "execution_count": 41,
      "outputs": [
        {
          "output_type": "execute_result",
          "data": {
            "text/plain": [
              "history_seen        131.564006\n",
              "session_seen          6.654343\n",
              "nfor                  3.087332\n",
              "xt                    2.114067\n",
              "dade                  2.003677\n",
              "éri                   1.992205\n",
              "eff                   1.973663\n",
              "ecti                  1.825933\n",
              "imie                  1.741529\n",
              "cé                    1.732884\n",
              "ctor                  1.729729\n",
              "lef                   1.724543\n",
              "spa                   1.626593\n",
              "ore                   1.610337\n",
              "oute                  1.609101\n",
              "mod_@prn:ce_dont      1.582707\n",
              "lect                  1.551519\n",
              "tel                   1.550547\n",
              "ref                   1.508821\n",
              "itu                   1.493109\n",
              "dtype: float64"
            ]
          },
          "metadata": {},
          "execution_count": 41
        }
      ]
    },
    {
      "cell_type": "markdown",
      "source": [
        "Negative coefficients"
      ],
      "metadata": {
        "id": "IFN_0utVjOOe"
      }
    },
    {
      "cell_type": "code",
      "source": [
        "coefficients.sort_values().head(20)"
      ],
      "metadata": {
        "colab": {
          "base_uri": "https://localhost:8080/"
        },
        "id": "JWag1cwLij9S",
        "outputId": "bf789c80-1443-4b42-e127-3640f18bd822"
      },
      "execution_count": 43,
      "outputs": [
        {
          "output_type": "execute_result",
          "data": {
            "text/plain": [
              "history_correct   -148.787487\n",
              "ext                 -2.808001\n",
              "nado                -2.359969\n",
              "etu                 -2.272635\n",
              "xa                  -2.030466\n",
              "ende                -2.005279\n",
              "iga                 -1.853825\n",
              "ef                  -1.839187\n",
              "siti                -1.830802\n",
              "sec                 -1.711384\n",
              "nfo                 -1.681989\n",
              "cl                  -1.649686\n",
              "ontr                -1.635850\n",
              "titu                -1.593241\n",
              "reu                 -1.561752\n",
              "once                -1.553242\n",
              "nada                -1.539405\n",
              "erra                -1.522568\n",
              "tten                -1.431785\n",
              "esc                 -1.405241\n",
              "dtype: float64"
            ]
          },
          "metadata": {},
          "execution_count": 43
        }
      ]
    },
    {
      "cell_type": "code",
      "source": [
        "coefficients.to_csv(path_name+\"Logreg_L1_q1fulldataset_coefficients.csv\")"
      ],
      "metadata": {
        "id": "0JqAoq0gkKtA"
      },
      "execution_count": 45,
      "outputs": []
    },
    {
      "cell_type": "code",
      "source": [
        ""
      ],
      "metadata": {
        "id": "PZ2wKeVkkQiz"
      },
      "execution_count": null,
      "outputs": []
    },
    {
      "cell_type": "markdown",
      "source": [
        "Makes sense that lower history correct gives a greater chance of forgetting the word. "
      ],
      "metadata": {
        "id": "foPGYkbXjS7z"
      }
    },
    {
      "cell_type": "markdown",
      "source": [
        "Of the 2223 features, 2037 had non-zero coefficients. "
      ],
      "metadata": {
        "id": "fXBFf_E_io_E"
      }
    },
    {
      "cell_type": "code",
      "source": [
        "from xgboost import XGBClassifier\n",
        "from sklearn.preprocessing import MinMaxScaler\n",
        "\n",
        "mm_scaler = MinMaxScaler()\n",
        "mm_scaler.fit(X_train_unscaled)\n",
        "X_mm_train = mm_scaler.transform(X_train_unscaled)\n",
        "X_mm_test = mm_scaler.transform(X_test_unscaled)\n",
        "XGB_model = XGBClassifier(num_feature = 5,subsample = 0.5)\n",
        "XGB_model.fit(X_mm_train, y_train)\n",
        "print(f\"XG Boost train set score: {XGB_model.score(X_mm_train, y_train)}\")\n",
        "print(f\"XG Boost test set score: {XGB_model.score(X_mm_test, y_test)}\")"
      ],
      "metadata": {
        "colab": {
          "base_uri": "https://localhost:8080/"
        },
        "outputId": "21256f2d-22d5-4960-ca59-44089268375c",
        "id": "vrxhrNl_zMWp"
      },
      "execution_count": null,
      "outputs": [
        {
          "output_type": "stream",
          "name": "stdout",
          "text": [
            "XG Boost train set score: 0.8408690367669401\n",
            "XG Boost test set score: 0.8364779874213837\n"
          ]
        }
      ]
    },
    {
      "cell_type": "code",
      "source": [
        "y_train.value_counts(normalize=True)"
      ],
      "metadata": {
        "colab": {
          "base_uri": "https://localhost:8080/"
        },
        "id": "TAnUwRIU84TZ",
        "outputId": "9c1c1eae-edf2-4dea-d48c-b978cd14df02"
      },
      "execution_count": null,
      "outputs": [
        {
          "output_type": "execute_result",
          "data": {
            "text/plain": [
              "0    0.838074\n",
              "1    0.161926\n",
              "Name: p_forgot_bin, dtype: float64"
            ]
          },
          "metadata": {},
          "execution_count": 48
        }
      ]
    },
    {
      "cell_type": "code",
      "source": [
        "y_probaXGB = XGB_model.predict_proba(X_mm_test)[:,1]"
      ],
      "metadata": {
        "id": "omVX8S9tzMWp"
      },
      "execution_count": null,
      "outputs": []
    },
    {
      "cell_type": "code",
      "source": [
        "from sklearn.metrics import PrecisionRecallDisplay\n",
        "PrecisionRecallDisplay.from_predictions(y_test,y_probaXGB)"
      ],
      "metadata": {
        "colab": {
          "base_uri": "https://localhost:8080/",
          "height": 297
        },
        "outputId": "fd6a57c9-dcd9-446a-95ba-93b19cbfc524",
        "id": "sANHRri2zMWp"
      },
      "execution_count": null,
      "outputs": [
        {
          "output_type": "execute_result",
          "data": {
            "text/plain": [
              "<sklearn.metrics._plot.precision_recall_curve.PrecisionRecallDisplay at 0x7f64eadea350>"
            ]
          },
          "metadata": {},
          "execution_count": 50
        },
        {
          "output_type": "display_data",
          "data": {
            "text/plain": [
              "<Figure size 432x288 with 1 Axes>"
            ],
            "image/png": "[encoded data removed]"
          },
          "metadata": {
            "needs_background": "light"
          }
        }
      ]
    },
    {
      "cell_type": "code",
      "source": [
        "from sklearn.ensemble import AdaBoostClassifier\n",
        "AB_model = AdaBoostClassifier(n_estimators=150, learning_rate=1)\n",
        "\n",
        "AB_model.fit(X_train_unscaled,y_train)\n",
        "y_probaAB = AB_model.predict_proba(X_test_unscaled)[:,1]"
      ],
      "metadata": {
        "id": "WD1dTYGLzwo6"
      },
      "execution_count": null,
      "outputs": []
    },
    {
      "cell_type": "code",
      "source": [
        "from sklearn.metrics import accuracy_score, PrecisionRecallDisplay\n",
        "plt.figure()\n",
        "ax = plt.gca()\n",
        "PrecisionRecallDisplay.from_predictions(y_test,y_probaAB,ax=ax,label=\"AdaBoost\")\n",
        "PrecisionRecallDisplay.from_predictions(y_test,y_probaXGB,ax=ax,label=\"XGBoost\")\n",
        "plt.legend()\n",
        "plt.show()"
      ],
      "metadata": {
        "colab": {
          "base_uri": "https://localhost:8080/",
          "height": 279
        },
        "outputId": "3d036ebd-8dcd-4611-9f59-02924637ef84",
        "id": "a1Kz22lnzwo7"
      },
      "execution_count": null,
      "outputs": [
        {
          "output_type": "display_data",
          "data": {
            "text/plain": [
              "<Figure size 432x288 with 1 Axes>"
            ],
            "image/png": "[encoded data removed]"
          },
          "metadata": {
            "needs_background": "light"
          }
        }
      ]
    },
    {
      "cell_type": "code",
      "source": [
        "pd.Series(dict(zip(X_test_unscaled.columns,AB_model.feature_importances_))).sort_values(ascending=False).head(10)"
      ],
      "metadata": {
        "colab": {
          "base_uri": "https://localhost:8080/"
        },
        "id": "b3A7PoJ30gSG",
        "outputId": "329faf50-bdf9-4341-d563-6211c62f9cff"
      },
      "execution_count": null,
      "outputs": [
        {
          "output_type": "execute_result",
          "data": {
            "text/plain": [
              "delta           0.046667\n",
              "session_seen    0.046667\n",
              "history_frac    0.040000\n",
              "history_seen    0.020000\n",
              "dos             0.013333\n",
              "fa              0.006667\n",
              "form            0.006667\n",
              "ff              0.006667\n",
              "fes             0.006667\n",
              "fami            0.006667\n",
              "dtype: float64"
            ]
          },
          "metadata": {},
          "execution_count": 52
        }
      ]
    },
    {
      "cell_type": "markdown",
      "source": [
        "Take a subset of 20,000, and use all features. expect around baseline accuracy. "
      ],
      "metadata": {
        "id": "fxmlJII52he0"
      }
    },
    {
      "cell_type": "code",
      "source": [
        "q1lexemes['sf_length']"
      ],
      "metadata": {
        "colab": {
          "base_uri": "https://localhost:8080/"
        },
        "id": "AX2HmqkaFDq9",
        "outputId": "8825466d-c113-4cf2-c22a-0ba4192450c7"
      },
      "execution_count": null,
      "outputs": [
        {
          "output_type": "execute_result",
          "data": {
            "text/plain": [
              "0         4\n",
              "1         5\n",
              "2         3\n",
              "3         5\n",
              "4         1\n",
              "         ..\n",
              "12155     5\n",
              "12156    10\n",
              "12157     5\n",
              "12158     3\n",
              "12159     9\n",
              "Name: sf_length, Length: 12160, dtype: int64"
            ]
          },
          "metadata": {},
          "execution_count": 21
        }
      ]
    },
    {
      "cell_type": "code",
      "source": [
        "dataffq1 = pd.merge(left = datadfq1, right = q1lexemes[['lexeme_id','sf_length']],how=\"left\",left_on='lexeme_id',right_on='lexeme_id')"
      ],
      "metadata": {
        "id": "x2P-AkDKFH5a"
      },
      "execution_count": null,
      "outputs": []
    },
    {
      "cell_type": "code",
      "source": [
        "dataffq1['p_forgot_bin'] = np.where(1 - dataffq1['p_recall']>0,1,0)"
      ],
      "metadata": {
        "id": "vA7QcladFYd5"
      },
      "execution_count": null,
      "outputs": []
    },
    {
      "cell_type": "code",
      "source": [
        "sns.boxplot(dataffq1['p_forgot_bin'],dataffq1['sf_length'])"
      ],
      "metadata": {
        "colab": {
          "base_uri": "https://localhost:8080/",
          "height": 353
        },
        "id": "bUtZDpYLFsOi",
        "outputId": "063e097e-cdc8-4dc7-ac40-e87b96a6ee32"
      },
      "execution_count": null,
      "outputs": [
        {
          "output_type": "stream",
          "name": "stderr",
          "text": [
            "/usr/local/lib/python3.7/dist-packages/seaborn/_decorators.py:43: FutureWarning: Pass the following variables as keyword args: x, y. From version 0.12, the only valid positional argument will be `data`, and passing other arguments without an explicit keyword will result in an error or misinterpretation.\n",
            "  FutureWarning\n"
          ]
        },
        {
          "output_type": "execute_result",
          "data": {
            "text/plain": [
              "<matplotlib.axes._subplots.AxesSubplot at 0x7f942fab82d0>"
            ]
          },
          "metadata": {},
          "execution_count": 27
        },
        {
          "output_type": "display_data",
          "data": {
            "text/plain": [
              "<Figure size 432x288 with 1 Axes>"
            ],
            "image/png": "[encoded data removed]"
          },
          "metadata": {
            "needs_background": "light"
          }
        }
      ]
    },
    {
      "cell_type": "code",
      "source": [
        ""
      ],
      "metadata": {
        "id": "QOg7Emqhk-6_"
      },
      "execution_count": null,
      "outputs": []
    }
  ]
}