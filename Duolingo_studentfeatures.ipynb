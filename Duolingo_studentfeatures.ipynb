{
  "nbformat": 4,
  "nbformat_minor": 0,
  "metadata": {
    "colab": {
      "name": "Duolingo_studentfeatures.ipynb",
      "provenance": [],
      "collapsed_sections": [],
      "machine_shape": "hm",
      "authorship_tag": "ABX9TyOgiQN2wepuniNQhd/ofQvE",
      "include_colab_link": true
    },
    "kernelspec": {
      "name": "python3",
      "display_name": "Python 3"
    },
    "language_info": {
      "name": "python"
    },
    "gpuClass": "standard"
  },
  "cells": [
    {
      "cell_type": "markdown",
      "metadata": {
        "id": "view-in-github",
        "colab_type": "text"
      },
      "source": [
        "<a href=\"https://colab.research.google.com/github/rts1988/Duolingo_spaced_repetition/blob/main/Duolingo_studentfeatures.ipynb\" target=\"_parent\"><img src=\"https://colab.research.google.com/assets/colab-badge.svg\" alt=\"Open In Colab\"/></a>"
      ]
    },
    {
      "cell_type": "markdown",
      "source": [
        "In this notebook we will look at student based features:\n",
        "Caveat: we only have data that spans 2 weeks. So we will need to leave the beginning few days out (as they will need to be the basis for the first row)\n",
        "\n",
        "Also. some of these features will change based on the student's choices. \n",
        "\n",
        "1. Average delta (running 3-5 and total)\n",
        "2. Variance in delta (are they regular?)\n",
        "2. average words in a day\n",
        "3. total history correct fraction (basically the mean)\n",
        "4. number of languages actively learning\n",
        "5. time active in session - how would we get this?.\n",
        "6. number of records for this student so far. (session-word pairs)\n",
        "8. number of records in this day so far?\n",
        "9. number of new words learned in the last so many days?\n",
        "\n",
        "\n",
        "All these features are up to the individual timestamps for each record. (cumulative)\n",
        "\n",
        "First we will get these features for each student. then we will look at how these features help predict performance of two different words. \n",
        "\n",
        "There are some issues here because we have some unseen words in the test set. So we will refit when we're ready to get there. \n",
        "\n",
        "New plan Jun 25:\n",
        "Combine with q1 testing dataset. \n",
        "Filter to students who have log ins in the last day of the dataset. \n",
        "\n",
        "Run models for one word, many students, and see what performance you get (no word features). (delta, history seen, history correct. no session seen included)\n",
        "\n",
        "Feature engineering:\n",
        "Get aggregated average from previous days of the dataset. Include feature of number of logins in the last so many days of dataset. \n",
        "\n",
        "Run models for one word, many students, and see what performance you get (no word features) - compare with model with only delta, history seen, history correct. \n",
        "\n",
        "There's also the one-hot encoding-ish option: get each day's aggregates and make features from those. (14 days * each feature).\n",
        "\n"
      ],
      "metadata": {
        "id": "hQgIm9UrfUWV"
      }
    },
    {
      "cell_type": "code",
      "source": [
        "from psutil import virtual_memory\n",
        "ram_gb = virtual_memory().total / 1e9\n",
        "print('Your runtime has {:.1f} gigabytes of available RAM\\n'.format(ram_gb))"
      ],
      "metadata": {
        "colab": {
          "base_uri": "https://localhost:8080/"
        },
        "id": "-AC8zWs41s5S",
        "outputId": "ebefe73b-c22b-4b72-9cd5-e529ebc87f17"
      },
      "execution_count": null,
      "outputs": [
        {
          "output_type": "stream",
          "name": "stdout",
          "text": [
            "Your runtime has 54.8 gigabytes of available RAM\n",
            "\n"
          ]
        }
      ]
    },
    {
      "cell_type": "code",
      "execution_count": null,
      "metadata": {
        "colab": {
          "base_uri": "https://localhost:8080/"
        },
        "id": "3TRtS05yfEEO",
        "outputId": "a32090c9-904f-4a7e-85a3-f07eae7736a0"
      },
      "outputs": [
        {
          "output_type": "stream",
          "name": "stdout",
          "text": [
            "Drive already mounted at /content/drive; to attempt to forcibly remount, call drive.mount(\"/content/drive\", force_remount=True).\n"
          ]
        }
      ],
      "source": [
        "import bz2\n",
        "import pickle\n",
        "import _pickle as cPickle\n",
        "import pandas as pd\n",
        "import seaborn as sns\n",
        "import matplotlib.pyplot as plt\n",
        "import numpy as np\n",
        "\n",
        "from google.colab import drive\n",
        "drive.mount('/content/drive')\n",
        "\n",
        "def decompress_pickle(file):\n",
        " data = bz2.BZ2File(file, 'rb')\n",
        " data = cPickle.load(data)\n",
        " return data\n",
        "\n",
        "def compressed_pickle(title, data):  # do not add extension in filename\n",
        " with bz2.BZ2File(title + '.pbz2', 'w') as f: \n",
        "  cPickle.dump(data, f)\n",
        "\n",
        "path_name = '/content/drive/MyDrive/'"
      ]
    },
    {
      "cell_type": "code",
      "source": [
        "datadfq1 = decompress_pickle(path_name+\"Unseen_words_training_set.pbz2\") "
      ],
      "metadata": {
        "id": "iC-JipSKlbNC"
      },
      "execution_count": null,
      "outputs": []
    },
    {
      "cell_type": "code",
      "source": [
        "datadfq1_test = decompress_pickle(path_name+\"Unseen_words_test_set.pbz2\") "
      ],
      "metadata": {
        "id": "qBjR13ilKwXx"
      },
      "execution_count": null,
      "outputs": []
    },
    {
      "cell_type": "code",
      "source": [
        "datadfq2 = pd.concat([datadfq1,datadfq1_test],axis=0)"
      ],
      "metadata": {
        "id": "b0ro2le5K6Br"
      },
      "execution_count": null,
      "outputs": []
    },
    {
      "cell_type": "code",
      "source": [
        "datadfq2.shape"
      ],
      "metadata": {
        "colab": {
          "base_uri": "https://localhost:8080/"
        },
        "id": "v3QlIBi-K_Zu",
        "outputId": "db904ede-5d6e-425e-ac9d-968707b4050f"
      },
      "execution_count": null,
      "outputs": [
        {
          "output_type": "execute_result",
          "data": {
            "text/plain": [
              "(9919875, 14)"
            ]
          },
          "metadata": {},
          "execution_count": 21
        }
      ]
    },
    {
      "cell_type": "markdown",
      "source": [
        "Quick sanity checks to ensure no duplication after i joined the training and test sets. (There shouldn't be any, but still..)"
      ],
      "metadata": {
        "id": "yMsDP-VdLK8r"
      }
    },
    {
      "cell_type": "code",
      "source": [
        "datadfq2.duplicated().sum()"
      ],
      "metadata": {
        "colab": {
          "base_uri": "https://localhost:8080/"
        },
        "id": "ln_y2YrZLEsT",
        "outputId": "10a3a789-70d8-4ae2-ad24-cac730ef7d6d"
      },
      "execution_count": null,
      "outputs": [
        {
          "output_type": "execute_result",
          "data": {
            "text/plain": [
              "0"
            ]
          },
          "metadata": {},
          "execution_count": 22
        }
      ]
    },
    {
      "cell_type": "code",
      "source": [
        "del datadfq1, datadfq1_test"
      ],
      "metadata": {
        "id": "BWg6Jh-8LpJd"
      },
      "execution_count": null,
      "outputs": []
    },
    {
      "cell_type": "markdown",
      "source": [
        "Saving for future downloads:"
      ],
      "metadata": {
        "id": "meNZM00oMFC0"
      }
    },
    {
      "cell_type": "code",
      "source": [
        "compressed_pickle(path_name+\"Unseen_students_training_set\",datadfq2)"
      ],
      "metadata": {
        "id": "q-dDmxpwLtF-"
      },
      "execution_count": 142,
      "outputs": []
    },
    {
      "cell_type": "markdown",
      "source": [
        "# Preliminary model with existing features\n",
        " (no word features, just delta, history_correct, history_seen, learning language and ui_language)"
      ],
      "metadata": {
        "id": "5TiFVsoBLzAc"
      }
    },
    {
      "cell_type": "code",
      "source": [
        "#datadfq2 = decompress_pickle(\"Unseen_students_training_set\")"
      ],
      "metadata": {
        "id": "UHK28_25Q6WM"
      },
      "execution_count": null,
      "outputs": []
    },
    {
      "cell_type": "code",
      "source": [
        "datadfq2.head()"
      ],
      "metadata": {
        "colab": {
          "base_uri": "https://localhost:8080/",
          "height": 357
        },
        "id": "pX3qel9jU_LW",
        "outputId": "22f81767-06b2-424e-ab2d-c789ce2f556f"
      },
      "execution_count": null,
      "outputs": [
        {
          "output_type": "execute_result",
          "data": {
            "text/plain": [
              "    p_recall   timestamp    delta user_id learning_language ui_language  \\\n",
              "7        1.0  1362082032   444407  u:dDwF                es          en   \n",
              "15       1.0  1362082130       77  u:dDwF                es          en   \n",
              "20       1.0  1362082274  1634777  u:dDwF                es          en   \n",
              "21       1.0  1362082274  1708699  u:dDwF                es          en   \n",
              "22       1.0  1362082274  1708699  u:dDwF                es          en   \n",
              "\n",
              "                           lexeme_id                 lexeme_string  \\\n",
              "7   73eecb492ca758ddab5371cf7b5cca32                 bajo/bajo<pr>   \n",
              "15  73eecb492ca758ddab5371cf7b5cca32                 bajo/bajo<pr>   \n",
              "20  c84476c460737d9fb905dca3d35ec995          niños/niño<n><m><pl>   \n",
              "21  1a913f2ded424985b9c02d0436008511  leo/leer<vblex><pri><p1><sg>   \n",
              "22  38b770e66595fea718366523b4f7db3f         libro/libro<n><m><sg>   \n",
              "\n",
              "    history_seen  history_correct  session_seen  session_correct  \\\n",
              "7              3                3             1                1   \n",
              "15             5                5             1                1   \n",
              "20             9                8             2                2   \n",
              "21             7                5             2                2   \n",
              "22             8                8             4                4   \n",
              "\n",
              "                                  student_word  student_lang  \n",
              "7   (u:dDwF, 73eecb492ca758ddab5371cf7b5cca32)  (u:dDwF, en)  \n",
              "15  (u:dDwF, 73eecb492ca758ddab5371cf7b5cca32)  (u:dDwF, en)  \n",
              "20  (u:dDwF, c84476c460737d9fb905dca3d35ec995)  (u:dDwF, en)  \n",
              "21  (u:dDwF, 1a913f2ded424985b9c02d0436008511)  (u:dDwF, en)  \n",
              "22  (u:dDwF, 38b770e66595fea718366523b4f7db3f)  (u:dDwF, en)  "
            ],
            "text/html": [
              "\n",
              "  <div id=\"df-f37de726-7397-4589-b54e-e851baa40cbe\">\n",
              "    <div class=\"colab-df-container\">\n",
              "      <div>\n",
              "<style scoped>\n",
              "    .dataframe tbody tr th:only-of-type {\n",
              "        vertical-align: middle;\n",
              "    }\n",
              "\n",
              "    .dataframe tbody tr th {\n",
              "        vertical-align: top;\n",
              "    }\n",
              "\n",
              "    .dataframe thead th {\n",
              "        text-align: right;\n",
              "    }\n",
              "</style>\n",
              "<table border=\"1\" class=\"dataframe\">\n",
              "  <thead>\n",
              "    <tr style=\"text-align: right;\">\n",
              "      <th></th>\n",
              "      <th>p_recall</th>\n",
              "      <th>timestamp</th>\n",
              "      <th>delta</th>\n",
              "      <th>user_id</th>\n",
              "      <th>learning_language</th>\n",
              "      <th>ui_language</th>\n",
              "      <th>lexeme_id</th>\n",
              "      <th>lexeme_string</th>\n",
              "      <th>history_seen</th>\n",
              "      <th>history_correct</th>\n",
              "      <th>session_seen</th>\n",
              "      <th>session_correct</th>\n",
              "      <th>student_word</th>\n",
              "      <th>student_lang</th>\n",
              "    </tr>\n",
              "  </thead>\n",
              "  <tbody>\n",
              "    <tr>\n",
              "      <th>7</th>\n",
              "      <td>1.0</td>\n",
              "      <td>1362082032</td>\n",
              "      <td>444407</td>\n",
              "      <td>u:dDwF</td>\n",
              "      <td>es</td>\n",
              "      <td>en</td>\n",
              "      <td>73eecb492ca758ddab5371cf7b5cca32</td>\n",
              "      <td>bajo/bajo&lt;pr&gt;</td>\n",
              "      <td>3</td>\n",
              "      <td>3</td>\n",
              "      <td>1</td>\n",
              "      <td>1</td>\n",
              "      <td>(u:dDwF, 73eecb492ca758ddab5371cf7b5cca32)</td>\n",
              "      <td>(u:dDwF, en)</td>\n",
              "    </tr>\n",
              "    <tr>\n",
              "      <th>15</th>\n",
              "      <td>1.0</td>\n",
              "      <td>1362082130</td>\n",
              "      <td>77</td>\n",
              "      <td>u:dDwF</td>\n",
              "      <td>es</td>\n",
              "      <td>en</td>\n",
              "      <td>73eecb492ca758ddab5371cf7b5cca32</td>\n",
              "      <td>bajo/bajo&lt;pr&gt;</td>\n",
              "      <td>5</td>\n",
              "      <td>5</td>\n",
              "      <td>1</td>\n",
              "      <td>1</td>\n",
              "      <td>(u:dDwF, 73eecb492ca758ddab5371cf7b5cca32)</td>\n",
              "      <td>(u:dDwF, en)</td>\n",
              "    </tr>\n",
              "    <tr>\n",
              "      <th>20</th>\n",
              "      <td>1.0</td>\n",
              "      <td>1362082274</td>\n",
              "      <td>1634777</td>\n",
              "      <td>u:dDwF</td>\n",
              "      <td>es</td>\n",
              "      <td>en</td>\n",
              "      <td>c84476c460737d9fb905dca3d35ec995</td>\n",
              "      <td>niños/niño&lt;n&gt;&lt;m&gt;&lt;pl&gt;</td>\n",
              "      <td>9</td>\n",
              "      <td>8</td>\n",
              "      <td>2</td>\n",
              "      <td>2</td>\n",
              "      <td>(u:dDwF, c84476c460737d9fb905dca3d35ec995)</td>\n",
              "      <td>(u:dDwF, en)</td>\n",
              "    </tr>\n",
              "    <tr>\n",
              "      <th>21</th>\n",
              "      <td>1.0</td>\n",
              "      <td>1362082274</td>\n",
              "      <td>1708699</td>\n",
              "      <td>u:dDwF</td>\n",
              "      <td>es</td>\n",
              "      <td>en</td>\n",
              "      <td>1a913f2ded424985b9c02d0436008511</td>\n",
              "      <td>leo/leer&lt;vblex&gt;&lt;pri&gt;&lt;p1&gt;&lt;sg&gt;</td>\n",
              "      <td>7</td>\n",
              "      <td>5</td>\n",
              "      <td>2</td>\n",
              "      <td>2</td>\n",
              "      <td>(u:dDwF, 1a913f2ded424985b9c02d0436008511)</td>\n",
              "      <td>(u:dDwF, en)</td>\n",
              "    </tr>\n",
              "    <tr>\n",
              "      <th>22</th>\n",
              "      <td>1.0</td>\n",
              "      <td>1362082274</td>\n",
              "      <td>1708699</td>\n",
              "      <td>u:dDwF</td>\n",
              "      <td>es</td>\n",
              "      <td>en</td>\n",
              "      <td>38b770e66595fea718366523b4f7db3f</td>\n",
              "      <td>libro/libro&lt;n&gt;&lt;m&gt;&lt;sg&gt;</td>\n",
              "      <td>8</td>\n",
              "      <td>8</td>\n",
              "      <td>4</td>\n",
              "      <td>4</td>\n",
              "      <td>(u:dDwF, 38b770e66595fea718366523b4f7db3f)</td>\n",
              "      <td>(u:dDwF, en)</td>\n",
              "    </tr>\n",
              "  </tbody>\n",
              "</table>\n",
              "</div>\n",
              "      <button class=\"colab-df-convert\" onclick=\"convertToInteractive('df-f37de726-7397-4589-b54e-e851baa40cbe')\"\n",
              "              title=\"Convert this dataframe to an interactive table.\"\n",
              "              style=\"display:none;\">\n",
              "        \n",
              "  <svg xmlns=\"http://www.w3.org/2000/svg\" height=\"24px\"viewBox=\"0 0 24 24\"\n",
              "       width=\"24px\">\n",
              "    <path d=\"M0 0h24v24H0V0z\" fill=\"none\"/>\n",
              "    <path d=\"M18.56 5.44l.94 2.06.94-2.06 2.06-.94-2.06-.94-.94-2.06-.94 2.06-2.06.94zm-11 1L8.5 8.5l.94-2.06 2.06-.94-2.06-.94L8.5 2.5l-.94 2.06-2.06.94zm10 10l.94 2.06.94-2.06 2.06-.94-2.06-.94-.94-2.06-.94 2.06-2.06.94z\"/><path d=\"M17.41 7.96l-1.37-1.37c-.4-.4-.92-.59-1.43-.59-.52 0-1.04.2-1.43.59L10.3 9.45l-7.72 7.72c-.78.78-.78 2.05 0 2.83L4 21.41c.39.39.9.59 1.41.59.51 0 1.02-.2 1.41-.59l7.78-7.78 2.81-2.81c.8-.78.8-2.07 0-2.86zM5.41 20L4 18.59l7.72-7.72 1.47 1.35L5.41 20z\"/>\n",
              "  </svg>\n",
              "      </button>\n",
              "      \n",
              "  <style>\n",
              "    .colab-df-container {\n",
              "      display:flex;\n",
              "      flex-wrap:wrap;\n",
              "      gap: 12px;\n",
              "    }\n",
              "\n",
              "    .colab-df-convert {\n",
              "      background-color: #E8F0FE;\n",
              "      border: none;\n",
              "      border-radius: 50%;\n",
              "      cursor: pointer;\n",
              "      display: none;\n",
              "      fill: #1967D2;\n",
              "      height: 32px;\n",
              "      padding: 0 0 0 0;\n",
              "      width: 32px;\n",
              "    }\n",
              "\n",
              "    .colab-df-convert:hover {\n",
              "      background-color: #E2EBFA;\n",
              "      box-shadow: 0px 1px 2px rgba(60, 64, 67, 0.3), 0px 1px 3px 1px rgba(60, 64, 67, 0.15);\n",
              "      fill: #174EA6;\n",
              "    }\n",
              "\n",
              "    [theme=dark] .colab-df-convert {\n",
              "      background-color: #3B4455;\n",
              "      fill: #D2E3FC;\n",
              "    }\n",
              "\n",
              "    [theme=dark] .colab-df-convert:hover {\n",
              "      background-color: #434B5C;\n",
              "      box-shadow: 0px 1px 3px 1px rgba(0, 0, 0, 0.15);\n",
              "      filter: drop-shadow(0px 1px 2px rgba(0, 0, 0, 0.3));\n",
              "      fill: #FFFFFF;\n",
              "    }\n",
              "  </style>\n",
              "\n",
              "      <script>\n",
              "        const buttonEl =\n",
              "          document.querySelector('#df-f37de726-7397-4589-b54e-e851baa40cbe button.colab-df-convert');\n",
              "        buttonEl.style.display =\n",
              "          google.colab.kernel.accessAllowed ? 'block' : 'none';\n",
              "\n",
              "        async function convertToInteractive(key) {\n",
              "          const element = document.querySelector('#df-f37de726-7397-4589-b54e-e851baa40cbe');\n",
              "          const dataTable =\n",
              "            await google.colab.kernel.invokeFunction('convertToInteractive',\n",
              "                                                     [key], {});\n",
              "          if (!dataTable) return;\n",
              "\n",
              "          const docLinkHtml = 'Like what you see? Visit the ' +\n",
              "            '<a target=\"_blank\" href=https://colab.research.google.com/notebooks/data_table.ipynb>data table notebook</a>'\n",
              "            + ' to learn more about interactive tables.';\n",
              "          element.innerHTML = '';\n",
              "          dataTable['output_type'] = 'display_data';\n",
              "          await google.colab.output.renderOutput(dataTable, element);\n",
              "          const docLink = document.createElement('div');\n",
              "          docLink.innerHTML = docLinkHtml;\n",
              "          element.appendChild(docLink);\n",
              "        }\n",
              "      </script>\n",
              "    </div>\n",
              "  </div>\n",
              "  "
            ]
          },
          "metadata": {},
          "execution_count": 25
        }
      ]
    },
    {
      "cell_type": "markdown",
      "source": [
        "Preprocessing and dividing into training and validation sets, so we can compare models. "
      ],
      "metadata": {
        "id": "hZAQXIenMgjI"
      }
    },
    {
      "cell_type": "code",
      "source": [
        "ll_dummies = pd.get_dummies(datadfq2['learning_language'],prefix = 'LL',drop_first=True)"
      ],
      "metadata": {
        "id": "yjPagjWGMeKs"
      },
      "execution_count": null,
      "outputs": []
    },
    {
      "cell_type": "code",
      "source": [
        "uil_dummies = pd.get_dummies(datadfq2['ui_language'],prefix = 'UIL',drop_first=True)"
      ],
      "metadata": {
        "id": "CrTVAgW_NYpH"
      },
      "execution_count": null,
      "outputs": []
    },
    {
      "cell_type": "code",
      "source": [
        "datadfq2 = datadfq2.drop(['learning_language','ui_language'],axis=1)"
      ],
      "metadata": {
        "id": "YFfzGq15Ndrt"
      },
      "execution_count": null,
      "outputs": []
    },
    {
      "cell_type": "code",
      "source": [
        "datadfq2 = pd.concat([datadfq2,ll_dummies,uil_dummies],axis=1)"
      ],
      "metadata": {
        "id": "scEPZ7g2OJ4R"
      },
      "execution_count": null,
      "outputs": []
    },
    {
      "cell_type": "code",
      "source": [
        "datadfq2.shape"
      ],
      "metadata": {
        "colab": {
          "base_uri": "https://localhost:8080/"
        },
        "id": "OGmibQsCPCBK",
        "outputId": "77bdbe20-10e8-45c9-ccaf-1c5dd4a2f3f2"
      },
      "execution_count": null,
      "outputs": [
        {
          "output_type": "execute_result",
          "data": {
            "text/plain": [
              "(9919875, 18)"
            ]
          },
          "metadata": {},
          "execution_count": 31
        }
      ]
    },
    {
      "cell_type": "code",
      "source": [
        "datadfq2['p_forgot'] = 1 - datadfq2['p_recall']\n",
        "datadfq2['p_forgot_bin'] = np.where(datadfq2['p_forgot']>0,1,0)"
      ],
      "metadata": {
        "id": "_ttetnJNPZD9"
      },
      "execution_count": null,
      "outputs": []
    },
    {
      "cell_type": "markdown",
      "source": [
        "First model: one word, many students - divide into training and validation 90-10. do this for one more word, to see if student based features are providing enough information. "
      ],
      "metadata": {
        "id": "CsTP6yx9PIzl"
      }
    },
    {
      "cell_type": "code",
      "source": [
        "datadfq2['lexeme_string'].value_counts().head(5)"
      ],
      "metadata": {
        "colab": {
          "base_uri": "https://localhost:8080/"
        },
        "id": "K9sAZkVMPpDL",
        "outputId": "be948467-c6e2-4f92-e99b-cb24727eb44d"
      },
      "execution_count": null,
      "outputs": [
        {
          "output_type": "execute_result",
          "data": {
            "text/plain": [
              "a/a<det><ind><sg>                   102534\n",
              "is/be<vbser><pri><p3><sg>            81360\n",
              "eats/eat<vblex><pri><p3><sg>         76594\n",
              "we/prpers<prn><subj><p1><mf><pl>     62387\n",
              "are/be<vbser><pres>                  57338\n",
              "Name: lexeme_string, dtype: int64"
            ]
          },
          "metadata": {},
          "execution_count": 37
        }
      ]
    },
    {
      "cell_type": "markdown",
      "source": [
        "The top words are very common, so we will only choose one of them. We will go further down for a slightly longer/ more inherently 'difficult' word."
      ],
      "metadata": {
        "id": "VTuhgOcEPz8U"
      }
    },
    {
      "cell_type": "code",
      "source": [
        "datadfq2['lexeme_string'].value_counts()[200:220]"
      ],
      "metadata": {
        "colab": {
          "base_uri": "https://localhost:8080/"
        },
        "id": "KfcEobDLP7mm",
        "outputId": "a0506fb2-ed20-4230-ff03-5a868a2af69c"
      },
      "execution_count": null,
      "outputs": [
        {
          "output_type": "execute_result",
          "data": {
            "text/plain": [
              "aime/aimer<vblex><pri><p1><sg>        11185\n",
              "taste/taste<n><sg>                    11124\n",
              "turtle/turtle<n><sg>                  11093\n",
              "en/en<pr>                             11065\n",
              "black/black<adj>                      11057\n",
              "tengo/tener<vblex><pri><p1><sg>       10905\n",
              "a/a<pr>                               10877\n",
              "non/non<adv>                          10827\n",
              "diario/diario<n><m><sg>               10809\n",
              "cebolla/cebolla<n><f><sg>             10792\n",
              "spider/spider<n><sg>                  10747\n",
              "comida/comida<n><f><sg>               10723\n",
              "newspapers/newspaper<n><pl>           10689\n",
              "who/who<prn><itg><m><sp>              10680\n",
              "cocino/cocinar<vblex><pri><p1><sg>    10580\n",
              "elephants/elephant<n><pl>             10579\n",
              "animal/animal<n><m><sg>               10575\n",
              "caballo/caballo<n><m><sg>             10544\n",
              "horses/horse<n><pl>                   10525\n",
              "elefantes/elefante<n><m><pl>          10473\n",
              "Name: lexeme_string, dtype: int64"
            ]
          },
          "metadata": {},
          "execution_count": 41
        }
      ]
    },
    {
      "cell_type": "markdown",
      "source": [
        "We can choose newspaper: \n",
        "```newspaper/newspaper<n><sg>``` and \n",
        "```\n",
        "turtle/turtle<n><sg>\n",
        "```"
      ],
      "metadata": {
        "id": "mJg-rZzSQIU7"
      }
    },
    {
      "cell_type": "markdown",
      "source": [
        "Number of students who learned 'newspaper':"
      ],
      "metadata": {
        "id": "b0HWeUp4Q0z0"
      }
    },
    {
      "cell_type": "code",
      "source": [
        "len(datadfq2.loc[datadfq2['lexeme_string']==\"newspaper/newspaper<n><sg>\",'user_id'].unique())"
      ],
      "metadata": {
        "colab": {
          "base_uri": "https://localhost:8080/"
        },
        "id": "J7yWrD92Q3S1",
        "outputId": "820d918f-eee9-43ee-e320-c756818ae178"
      },
      "execution_count": null,
      "outputs": [
        {
          "output_type": "execute_result",
          "data": {
            "text/plain": [
              "11145"
            ]
          },
          "metadata": {},
          "execution_count": 43
        }
      ]
    },
    {
      "cell_type": "markdown",
      "source": [
        "11145 unique students learned the word newspaper. We will use this as a first model. We don't want the same students in the training and validation set. So we will partition the students first, then use the separate student lists to make the traiing and validation set. "
      ],
      "metadata": {
        "id": "dPOvqC6VRFg1"
      }
    },
    {
      "cell_type": "code",
      "source": [
        "newspaper_students = datadfq2.loc[datadfq2['lexeme_string']==\"newspaper/newspaper<n><sg>\",'user_id'].unique()"
      ],
      "metadata": {
        "id": "7tM2ys8tQvmB"
      },
      "execution_count": null,
      "outputs": []
    },
    {
      "cell_type": "code",
      "source": [
        "newspaper_training_students = np.random.choice(newspaper_students,int(0.9*len(newspaper_students)),replace=False)"
      ],
      "metadata": {
        "id": "AEI1BLvTRg40"
      },
      "execution_count": null,
      "outputs": []
    },
    {
      "cell_type": "code",
      "source": [
        "newspaper_valid_students = set(newspaper_students).difference(set(newspaper_training_students))"
      ],
      "metadata": {
        "id": "aPTdVffzSKKI"
      },
      "execution_count": null,
      "outputs": []
    },
    {
      "cell_type": "code",
      "source": [
        "len(newspaper_training_students), len(newspaper_valid_students)"
      ],
      "metadata": {
        "colab": {
          "base_uri": "https://localhost:8080/"
        },
        "id": "PIqp2oASSRSS",
        "outputId": "3c24c3ca-3871-4001-9ca1-af931c70d991"
      },
      "execution_count": null,
      "outputs": [
        {
          "output_type": "execute_result",
          "data": {
            "text/plain": [
              "(10030, 1115)"
            ]
          },
          "metadata": {},
          "execution_count": 47
        }
      ]
    },
    {
      "cell_type": "markdown",
      "source": [
        "Now that the students are divided, we just need to divvy up the dataframe datadfq2 to make the training and test sets. "
      ],
      "metadata": {
        "id": "amjuYlyMSWUd"
      }
    },
    {
      "cell_type": "code",
      "source": [
        "newspapertrain = datadfq2.loc[(datadfq2['lexeme_string']==\"newspaper/newspaper<n><sg>\") &\\\n",
        "                              datadfq2['user_id'].isin(newspaper_training_students),:]\n",
        "newspapervalid = datadfq2.loc[(datadfq2['lexeme_string']==\"newspaper/newspaper<n><sg>\") &\\\n",
        "                              datadfq2['user_id'].isin(newspaper_valid_students),:]"
      ],
      "metadata": {
        "id": "eD2UUtsISVct"
      },
      "execution_count": null,
      "outputs": []
    },
    {
      "cell_type": "code",
      "source": [
        "newspapertrain.info()"
      ],
      "metadata": {
        "colab": {
          "base_uri": "https://localhost:8080/"
        },
        "id": "3DcYbBZpUXCD",
        "outputId": "0cab7385-1db2-432e-bcbd-f0299be5c123"
      },
      "execution_count": null,
      "outputs": [
        {
          "output_type": "stream",
          "name": "stdout",
          "text": [
            "<class 'pandas.core.frame.DataFrame'>\n",
            "Int64Index: 22294 entries, 289 to 12854146\n",
            "Data columns (total 20 columns):\n",
            " #   Column           Non-Null Count  Dtype  \n",
            "---  ------           --------------  -----  \n",
            " 0   p_recall         22294 non-null  float64\n",
            " 1   timestamp        22294 non-null  int64  \n",
            " 2   delta            22294 non-null  int64  \n",
            " 3   user_id          22294 non-null  object \n",
            " 4   lexeme_id        22294 non-null  object \n",
            " 5   lexeme_string    22294 non-null  object \n",
            " 6   history_seen     22294 non-null  int64  \n",
            " 7   history_correct  22294 non-null  int64  \n",
            " 8   session_seen     22294 non-null  int64  \n",
            " 9   session_correct  22294 non-null  int64  \n",
            " 10  student_word     22294 non-null  object \n",
            " 11  student_lang     22294 non-null  object \n",
            " 12  LL_es            22294 non-null  uint8  \n",
            " 13  LL_fr            22294 non-null  uint8  \n",
            " 14  LL_it            22294 non-null  uint8  \n",
            " 15  LL_pt            22294 non-null  uint8  \n",
            " 16  UIL_es           22294 non-null  uint8  \n",
            " 17  UIL_pt           22294 non-null  uint8  \n",
            " 18  p_forgot         22294 non-null  float64\n",
            " 19  p_forgot_bin     22294 non-null  int64  \n",
            "dtypes: float64(2), int64(7), object(5), uint8(6)\n",
            "memory usage: 2.7+ MB\n"
          ]
        }
      ]
    },
    {
      "cell_type": "code",
      "source": [
        "newspapertrain.columns"
      ],
      "metadata": {
        "colab": {
          "base_uri": "https://localhost:8080/"
        },
        "id": "OQbIaSxbUpCC",
        "outputId": "1cde868b-de7b-4cb4-dcd4-efc0a0b5ccbe"
      },
      "execution_count": null,
      "outputs": [
        {
          "output_type": "execute_result",
          "data": {
            "text/plain": [
              "Index(['p_recall', 'timestamp', 'delta', 'user_id', 'lexeme_id',\n",
              "       'lexeme_string', 'history_seen', 'history_correct', 'session_seen',\n",
              "       'session_correct', 'student_word', 'student_lang', 'LL_es', 'LL_fr',\n",
              "       'LL_it', 'LL_pt', 'UIL_es', 'UIL_pt', 'p_forgot', 'p_forgot_bin'],\n",
              "      dtype='object')"
            ]
          },
          "metadata": {},
          "execution_count": 50
        }
      ]
    },
    {
      "cell_type": "markdown",
      "source": [
        "Getting X,y for train and validation:"
      ],
      "metadata": {
        "id": "5zAClLJBUdoq"
      }
    },
    {
      "cell_type": "code",
      "source": [
        "Xnewspapertrain = newspapertrain[['delta','history_correct','history_seen']+\\\n",
        "                                 [col for col in newspapertrain.columns if col.startswith('LL_')]+\\\n",
        "                                 [col for col in newspapertrain.columns if col.startswith('UIL_')]]\n",
        "ynewspapertrain = newspapertrain['p_forgot_bin']"
      ],
      "metadata": {
        "id": "TZPNm-KBUg-s"
      },
      "execution_count": null,
      "outputs": []
    },
    {
      "cell_type": "code",
      "source": [
        "Xnewspapervalid = newspapervalid[['delta','history_correct','history_seen']+\\\n",
        "                                 [col for col in newspapertrain.columns if col.startswith('LL_')]+\\\n",
        "                                 [col for col in newspapertrain.columns if col.startswith('UIL_')]]\n",
        "ynewspapervalid = newspapervalid['p_forgot_bin']"
      ],
      "metadata": {
        "id": "lMrlccF5VNPY"
      },
      "execution_count": null,
      "outputs": []
    },
    {
      "cell_type": "code",
      "source": [
        "Xnewspapertrain.shape, ynewspapertrain.shape, Xnewspapervalid.shape, ynewspapervalid.shape"
      ],
      "metadata": {
        "colab": {
          "base_uri": "https://localhost:8080/"
        },
        "id": "k5cJsbcUVbP1",
        "outputId": "ddf2eadc-1c2b-4baf-a46e-c7611ce2adbe"
      },
      "execution_count": null,
      "outputs": [
        {
          "output_type": "execute_result",
          "data": {
            "text/plain": [
              "((22294, 9), (22294,), (2378, 9), (2378,))"
            ]
          },
          "metadata": {},
          "execution_count": 57
        }
      ]
    },
    {
      "cell_type": "markdown",
      "source": [
        "Checking for class imbalance:"
      ],
      "metadata": {
        "id": "Gpx_jEJLW1lj"
      }
    },
    {
      "cell_type": "code",
      "source": [
        "ynewspapertrain.sum()/ynewspapertrain.shape[0], ynewspapervalid.sum()/ynewspapervalid.shape[0]"
      ],
      "metadata": {
        "colab": {
          "base_uri": "https://localhost:8080/"
        },
        "id": "1vGfi1giW1Sb",
        "outputId": "3571f24b-3f8e-45ba-bcac-a2506690da0b"
      },
      "execution_count": null,
      "outputs": [
        {
          "output_type": "execute_result",
          "data": {
            "text/plain": [
              "(0.21875841033461918, 0.21783010933557612)"
            ]
          },
          "metadata": {},
          "execution_count": 60
        }
      ]
    },
    {
      "cell_type": "markdown",
      "source": [
        "By serendipity, the class imbalance is about the same in both training and testing even though we didn't explicitly stratify. (Both training and testing have ~21.7% records with target variable = 1)"
      ],
      "metadata": {
        "id": "q0gV-z0YXCLN"
      }
    },
    {
      "cell_type": "markdown",
      "source": [
        "Scaling data:"
      ],
      "metadata": {
        "id": "D3cTHypdVsP6"
      }
    },
    {
      "cell_type": "code",
      "source": [
        "from sklearn.preprocessing import MinMaxScaler\n",
        "mmscaler = MinMaxScaler()\n",
        "Xnewspapertrain_mm = mmscaler.fit(Xnewspapertrain)\n",
        "\n",
        "Xnewspapertrain_mm = mmscaler.transform(Xnewspapertrain)\n",
        "Xnewspapervalid_mm = mmscaler.transform(Xnewspapervalid)\n",
        "\n"
      ],
      "metadata": {
        "id": "hkxrQnveVm3F"
      },
      "execution_count": null,
      "outputs": []
    },
    {
      "cell_type": "code",
      "source": [
        "from sklearn.linear_model import LogisticRegression\n",
        "logreg = LogisticRegression(class_weight = 'balanced',C=1)\n",
        "logreg.fit(Xnewspapertrain_mm,ynewspapertrain)"
      ],
      "metadata": {
        "colab": {
          "base_uri": "https://localhost:8080/"
        },
        "id": "_TBsYYOEWvMs",
        "outputId": "6b14a6a4-3f9a-498b-ef5c-bc552fdd6c70"
      },
      "execution_count": null,
      "outputs": [
        {
          "output_type": "execute_result",
          "data": {
            "text/plain": [
              "LogisticRegression(C=1, class_weight='balanced')"
            ]
          },
          "metadata": {},
          "execution_count": 61
        }
      ]
    },
    {
      "cell_type": "code",
      "source": [
        "ynewspapervalid_predprobs = logreg.predict_proba(Xnewspapervalid_mm)[:,1]\n",
        "ynewspapertrain_predprobs = logreg.predict_proba(Xnewspapertrain_mm)[:,1]"
      ],
      "metadata": {
        "id": "6xAM_OPEXmfB"
      },
      "execution_count": null,
      "outputs": []
    },
    {
      "cell_type": "code",
      "source": [
        "from sklearn.metrics import accuracy_score, PrecisionRecallDisplay\n",
        "\n",
        "print(accuracy_score(ynewspapertrain, np.where(ynewspapertrain_predprobs>=0.5,1,0)))\n",
        "print(accuracy_score(ynewspapervalid, np.where(ynewspapervalid_predprobs>=0.5,1,0)))"
      ],
      "metadata": {
        "colab": {
          "base_uri": "https://localhost:8080/"
        },
        "id": "hnbwf-T6XxIy",
        "outputId": "9ce45258-4d3f-4ac3-bf9b-29ffe74552f7"
      },
      "execution_count": null,
      "outputs": [
        {
          "output_type": "stream",
          "name": "stdout",
          "text": [
            "0.3953081546604468\n",
            "0.3599663582842725\n"
          ]
        }
      ]
    },
    {
      "cell_type": "markdown",
      "source": [
        "Only 36% accuracy. seems worse than the baseline of guessing all zeros. "
      ],
      "metadata": {
        "id": "YWFEP8UxX_5k"
      }
    },
    {
      "cell_type": "code",
      "source": [
        "PrecisionRecallDisplay.from_predictions(ynewspapervalid,ynewspapervalid_predprobs)\n",
        "plt.title(\"Logistic regression Precision Recall Curve\")"
      ],
      "metadata": {
        "colab": {
          "base_uri": "https://localhost:8080/",
          "height": 313
        },
        "id": "3dEM5e4PX_aZ",
        "outputId": "0a23b693-8705-450d-ec1b-003679e0adb6"
      },
      "execution_count": null,
      "outputs": [
        {
          "output_type": "execute_result",
          "data": {
            "text/plain": [
              "Text(0.5, 1.0, 'Logistic regression Precision Recall Curve')"
            ]
          },
          "metadata": {},
          "execution_count": 67
        },
        {
          "output_type": "display_data",
          "data": {
            "text/plain": [
              "<Figure size 432x288 with 1 Axes>"
            ],
            "image/png": "[encoded data removed]"
          },
          "metadata": {
            "needs_background": "light"
          }
        }
      ]
    },
    {
      "cell_type": "markdown",
      "source": [
        "Poor accuracy and precision with logistic regression. \n",
        "Trying XGBoost:"
      ],
      "metadata": {
        "id": "ZPWCPcyoYkpq"
      }
    },
    {
      "cell_type": "code",
      "execution_count": null,
      "metadata": {
        "colab": {
          "base_uri": "https://localhost:8080/"
        },
        "id": "vrxhrNl_zMWp",
        "outputId": "e7c31836-4a25-44d1-e225-9d6e22d48046"
      },
      "outputs": [
        {
          "output_type": "stream",
          "name": "stdout",
          "text": [
            "XG Boost train set score: 0.7813761550192877\n",
            "XG Boost test set score: 0.7821698906644239\n"
          ]
        }
      ],
      "source": [
        "from xgboost import XGBClassifier\n",
        "from sklearn.preprocessing import MinMaxScaler\n",
        "\n",
        "\n",
        "XGB_model = XGBClassifier(num_feature = 5,subsample = 0.5)\n",
        "XGB_model.fit(Xnewspapertrain_mm, ynewspapertrain)\n",
        "print(f\"XG Boost train set score: {XGB_model.score(Xnewspapertrain_mm, ynewspapertrain)}\")\n",
        "print(f\"XG Boost test set score: {XGB_model.score(Xnewspapervalid_mm, ynewspapervalid)}\")"
      ]
    },
    {
      "cell_type": "markdown",
      "source": [
        "This gives a better accuracy, but essentially around the baseline of all zeros. Potting Precision Recall Curve for validation set:"
      ],
      "metadata": {
        "id": "uyxqEQzTa-Qd"
      }
    },
    {
      "cell_type": "code",
      "source": [
        "ynewspapervalid_preds_probs_xgb = XGB_model.predict_proba(Xnewspapervalid_mm)[:,1]\n",
        "PrecisionRecallDisplay.from_predictions(ynewspapervalid,ynewspapervalid_preds_probs_xgb)"
      ],
      "metadata": {
        "colab": {
          "base_uri": "https://localhost:8080/",
          "height": 297
        },
        "id": "n9wFYT043lFI",
        "outputId": "37a353a8-6674-48d1-99a6-1089fe4503a0"
      },
      "execution_count": null,
      "outputs": [
        {
          "output_type": "execute_result",
          "data": {
            "text/plain": [
              "<sklearn.metrics._plot.precision_recall_curve.PrecisionRecallDisplay at 0x7f023188f850>"
            ]
          },
          "metadata": {},
          "execution_count": 71
        },
        {
          "output_type": "display_data",
          "data": {
            "text/plain": [
              "<Figure size 432x288 with 1 Axes>"
            ],
            "image/png": "[encoded data removed]"
          },
          "metadata": {
            "needs_background": "light"
          }
        }
      ]
    },
    {
      "cell_type": "code",
      "source": [
        "np.where(ynewspapervalid_preds_probs_xgb>=0.5,1,0).sum()"
      ],
      "metadata": {
        "colab": {
          "base_uri": "https://localhost:8080/"
        },
        "id": "jGFjngXEbeAf",
        "outputId": "c70db586-d2de-4af9-f46a-978c47759cec"
      },
      "execution_count": null,
      "outputs": [
        {
          "output_type": "execute_result",
          "data": {
            "text/plain": [
              "0"
            ]
          },
          "metadata": {},
          "execution_count": 72
        }
      ]
    },
    {
      "cell_type": "markdown",
      "source": [
        "There are no ones. We have basically got the all zero baseline. \n",
        "\n",
        "This set of features does not suffice to predict student performance. \n",
        "\n",
        "Previously we tried a many-word one student model and were able to achieve 0.78 precision with 0.87 recall. This points to student based features being more important than word based features to predicting forgetting a word. \n",
        "\n",
        "Plan: \n",
        "1. Parse out which students have log ins on the last day of the dataset.\n",
        "2. Get aggregated student feature data for them alone.\n",
        "3. split those students into training and testing\n",
        "4. add those aggregated features to the last date dataset, and split dataset into training and testing.  \n"
      ],
      "metadata": {
        "id": "hzKEZNroboTg"
      }
    },
    {
      "cell_type": "markdown",
      "source": [
        "Converting timestamp to datetime objects [link](https://stackoverflow.com/questions/9744775/how-to-convert-integer-timestamp-into-a-datetime)"
      ],
      "metadata": {
        "id": "bSyTf4HngMn-"
      }
    },
    {
      "cell_type": "code",
      "source": [
        "from datetime import datetime\n",
        "datadfq2['Datetime'] = datadfq2['timestamp'].apply(lambda x: datetime.fromtimestamp(x))"
      ],
      "metadata": {
        "id": "h5VC6Tfpd6Gh"
      },
      "execution_count": null,
      "outputs": []
    },
    {
      "cell_type": "code",
      "source": [
        "datadfq2['Datetime'].head()"
      ],
      "metadata": {
        "colab": {
          "base_uri": "https://localhost:8080/"
        },
        "id": "IFmWXC38fqZE",
        "outputId": "bd1e2596-74f8-4920-ba5e-2fb86681b289"
      },
      "execution_count": null,
      "outputs": [
        {
          "output_type": "execute_result",
          "data": {
            "text/plain": [
              "7    2013-02-28 20:07:12\n",
              "15   2013-02-28 20:08:50\n",
              "20   2013-02-28 20:11:14\n",
              "21   2013-02-28 20:11:14\n",
              "22   2013-02-28 20:11:14\n",
              "Name: Datetime, dtype: datetime64[ns]"
            ]
          },
          "metadata": {},
          "execution_count": 80
        }
      ]
    },
    {
      "cell_type": "code",
      "source": [
        "datadfq2['Datetime'].describe()"
      ],
      "metadata": {
        "colab": {
          "base_uri": "https://localhost:8080/"
        },
        "id": "6aQchXhPftVr",
        "outputId": "08179b6c-5ea7-4853-fc48-b8879851c2c2"
      },
      "execution_count": null,
      "outputs": [
        {
          "output_type": "stream",
          "name": "stderr",
          "text": [
            "/usr/local/lib/python3.7/dist-packages/ipykernel_launcher.py:1: FutureWarning: Treating datetime data as categorical rather than numeric in `.describe` is deprecated and will be removed in a future version of pandas. Specify `datetime_is_numeric=True` to silence this warning and adopt the future behavior now.\n",
            "  \"\"\"Entry point for launching an IPython kernel.\n"
          ]
        },
        {
          "output_type": "execute_result",
          "data": {
            "text/plain": [
              "count                 9919875\n",
              "unique                 477749\n",
              "top       2013-03-01 20:07:14\n",
              "freq                      192\n",
              "first     2013-02-28 20:07:12\n",
              "last      2013-03-12 16:14:54\n",
              "Name: Datetime, dtype: object"
            ]
          },
          "metadata": {},
          "execution_count": 82
        }
      ]
    },
    {
      "cell_type": "markdown",
      "source": [
        "Last day is Mar 12, 2013. Let us count the students who logged in that day. "
      ],
      "metadata": {
        "id": "CA_XI_nlfxaj"
      }
    },
    {
      "cell_type": "code",
      "source": [
        "datadfq2['Date'] = datadfq2['Datetime'].dt.date"
      ],
      "metadata": {
        "id": "PMGOD5hYf189"
      },
      "execution_count": null,
      "outputs": []
    },
    {
      "cell_type": "code",
      "source": [
        "datadfq2['Date'].head()"
      ],
      "metadata": {
        "colab": {
          "base_uri": "https://localhost:8080/"
        },
        "id": "AMfqBa3if_8A",
        "outputId": "0869ed36-d282-466e-c484-005f5a38410a"
      },
      "execution_count": null,
      "outputs": [
        {
          "output_type": "execute_result",
          "data": {
            "text/plain": [
              "7     2013-02-28\n",
              "15    2013-02-28\n",
              "20    2013-02-28\n",
              "21    2013-02-28\n",
              "22    2013-02-28\n",
              "Name: Date, dtype: object"
            ]
          },
          "metadata": {},
          "execution_count": 84
        }
      ]
    },
    {
      "cell_type": "code",
      "source": [
        "lastdaylogs = datadfq2.loc[datadfq2['Date']==datetime.strptime('12032013', \"%d%m%Y\").date(),:]"
      ],
      "metadata": {
        "id": "PmWY4446f7cg"
      },
      "execution_count": null,
      "outputs": []
    },
    {
      "cell_type": "code",
      "source": [
        "lastdaylogs.shape"
      ],
      "metadata": {
        "colab": {
          "base_uri": "https://localhost:8080/"
        },
        "id": "nhYL9tayhJls",
        "outputId": "3d190599-742b-449a-b34a-bc9426931971"
      },
      "execution_count": null,
      "outputs": [
        {
          "output_type": "execute_result",
          "data": {
            "text/plain": [
              "(492966, 22)"
            ]
          },
          "metadata": {},
          "execution_count": 95
        }
      ]
    },
    {
      "cell_type": "code",
      "source": [
        "lastdayusers = lastdaylogs['user_id'].unique()"
      ],
      "metadata": {
        "id": "yZ0q7uB9g3c1"
      },
      "execution_count": null,
      "outputs": []
    },
    {
      "cell_type": "code",
      "source": [
        "len(lastdayusers)"
      ],
      "metadata": {
        "colab": {
          "base_uri": "https://localhost:8080/"
        },
        "id": "y-CqarxJg-tA",
        "outputId": "b1467754-5d3a-4587-96b9-e08411cd3489"
      },
      "execution_count": null,
      "outputs": [
        {
          "output_type": "execute_result",
          "data": {
            "text/plain": [
              "11411"
            ]
          },
          "metadata": {},
          "execution_count": 94
        }
      ]
    },
    {
      "cell_type": "markdown",
      "source": [
        "Only 11411 students logged in on the last day, with 492966 total records. This is a substantially smaller dataset. I just hope at least some students in the q2 testing set have logged in on the last day if we decide to go with these features. \n",
        "\n"
      ],
      "metadata": {
        "id": "LDDSuiXfhA_N"
      }
    },
    {
      "cell_type": "markdown",
      "source": [
        "Let us split the last day students into training and testing, since we do not want to see the same students in the validation set.  "
      ],
      "metadata": {
        "id": "kn2EFaHBizrD"
      }
    },
    {
      "cell_type": "code",
      "source": [
        "np.random.seed(123)\n",
        "lduserstrain = np.random.choice(lastdayusers,int(0.9*len(lastdayusers)),replace=False) # sample from list without replacement\n",
        "ldusersvalid = set(lastdayusers).difference(lduserstrain)"
      ],
      "metadata": {
        "id": "4cqE_RWbixQp"
      },
      "execution_count": null,
      "outputs": []
    },
    {
      "cell_type": "code",
      "source": [
        "len(lduserstrain),len(ldusersvalid)"
      ],
      "metadata": {
        "colab": {
          "base_uri": "https://localhost:8080/"
        },
        "id": "L55Jenm8ixOL",
        "outputId": "8f19f12b-8295-4574-9107-95b96d394b3e"
      },
      "execution_count": null,
      "outputs": [
        {
          "output_type": "execute_result",
          "data": {
            "text/plain": [
              "(10269, 1142)"
            ]
          },
          "metadata": {},
          "execution_count": 100
        }
      ]
    },
    {
      "cell_type": "code",
      "source": [
        "datadfq2.shape"
      ],
      "metadata": {
        "colab": {
          "base_uri": "https://localhost:8080/"
        },
        "id": "2lmF941G5aNK",
        "outputId": "18a5bbba-b509-4f85-d787-9f2629448ee8"
      },
      "execution_count": 222,
      "outputs": [
        {
          "output_type": "execute_result",
          "data": {
            "text/plain": [
              "(9919875, 22)"
            ]
          },
          "metadata": {},
          "execution_count": 222
        }
      ]
    },
    {
      "cell_type": "code",
      "source": [
        "datadfq2['Date'].values[0]"
      ],
      "metadata": {
        "colab": {
          "base_uri": "https://localhost:8080/"
        },
        "id": "7oHB35RJ5e03",
        "outputId": "21c8544e-714a-4980-d080-d4226a3b0480"
      },
      "execution_count": 225,
      "outputs": [
        {
          "output_type": "execute_result",
          "data": {
            "text/plain": [
              "datetime.date(2013, 2, 28)"
            ]
          },
          "metadata": {},
          "execution_count": 225
        }
      ]
    },
    {
      "cell_type": "code",
      "source": [
        "datetime.strptime('12032013',\"%d%m%Y\").date()"
      ],
      "metadata": {
        "colab": {
          "base_uri": "https://localhost:8080/"
        },
        "id": "9ruCEffV5oOO",
        "outputId": "5924f734-96be-4bdb-a662-eb4bc122ba6d"
      },
      "execution_count": 229,
      "outputs": [
        {
          "output_type": "execute_result",
          "data": {
            "text/plain": [
              "datetime.date(2013, 3, 12)"
            ]
          },
          "metadata": {},
          "execution_count": 229
        }
      ]
    },
    {
      "cell_type": "code",
      "source": [
        "datadfq2dates = datadfq2.loc[datadfq2['Date']!=datetime.strptime('12032013', \"%d%m%Y\").date()]\n",
        "datadfq2dates.shape"
      ],
      "metadata": {
        "colab": {
          "base_uri": "https://localhost:8080/"
        },
        "id": "qYUzkf9R5RcL",
        "outputId": "e47b32c5-bafa-4787-9ab9-f4d004da2170"
      },
      "execution_count": 230,
      "outputs": [
        {
          "output_type": "execute_result",
          "data": {
            "text/plain": [
              "(9426909, 22)"
            ]
          },
          "metadata": {},
          "execution_count": 230
        }
      ]
    },
    {
      "cell_type": "code",
      "source": [
        "userdates = datadfq2.loc[(datadfq2['Date']!=datetime.strptime('12032013', \"%d%m%Y\").date()) & \\\n",
        "                         (datadfq2['user_id'].isin(lastdayusers))].groupby(['user_id','Date']).agg(numseen_day = ('session_seen','sum'), avgp_recall_day = ('p_recall','mean'),numwordspracticed_day = ('lexeme_id',lambda x: len(x.unique())), numcorrect_day = ('session_correct','sum'), numquizzes_day = ('session_seen','count'), avgdelta_day = ('delta','mean'), avgactivesessions = ('timestamp',lambda x: len(x.unique())), \n",
        "                                     mintimestamp = ('timestamp','min'),maxtimestamp = ('timestamp','max'))"
      ],
      "metadata": {
        "id": "rhfRCI5Xt15t"
      },
      "execution_count": 231,
      "outputs": []
    },
    {
      "cell_type": "code",
      "source": [
        "userdates['duration'] = userdates['maxtimestamp'] - userdates['mintimestamp']"
      ],
      "metadata": {
        "id": "hzCbN2un4yyx"
      },
      "execution_count": 232,
      "outputs": []
    },
    {
      "cell_type": "code",
      "source": [
        "studentfeatures1 = userdates.transpose().stack().fillna(0)"
      ],
      "metadata": {
        "id": "-58zyWav11p9"
      },
      "execution_count": 233,
      "outputs": []
    },
    {
      "cell_type": "code",
      "source": [
        "studentfeatures2 = studentfeatures1.transpose()"
      ],
      "metadata": {
        "id": "vtSatyN24S9K"
      },
      "execution_count": 234,
      "outputs": []
    },
    {
      "cell_type": "code",
      "source": [
        "studentfeatures2 = studentfeatures2.reset_index()"
      ],
      "metadata": {
        "id": "DXChzas27vug"
      },
      "execution_count": 247,
      "outputs": []
    },
    {
      "cell_type": "code",
      "source": [
        "studentfeatures2.head()"
      ],
      "metadata": {
        "colab": {
          "base_uri": "https://localhost:8080/",
          "height": 348
        },
        "id": "SMYRlxJH70km",
        "outputId": "3c5610d0-1004-49b6-b57b-2434e883f097"
      },
      "execution_count": 248,
      "outputs": [
        {
          "output_type": "execute_result",
          "data": {
            "text/plain": [
              "     user_id numseen_day                                              \\\n",
              "Date          2013-02-28 2013-03-01 2013-03-02 2013-03-03 2013-03-04   \n",
              "0      u:-Md         0.0        0.0      150.0       58.0       68.0   \n",
              "1      u:-Ou         0.0        0.0        0.0        0.0       50.0   \n",
              "2      u:-TS         0.0        0.0        0.0        0.0       29.0   \n",
              "3       u:-b         0.0       63.0      563.0     1026.0      138.0   \n",
              "4      u:-f2         0.0        0.0        0.0        0.0        0.0   \n",
              "\n",
              "                                                  ...   duration             \\\n",
              "Date 2013-03-05 2013-03-06 2013-03-07 2013-03-08  ... 2013-03-02 2013-03-03   \n",
              "0          43.0        0.0        0.0       92.0  ...     2953.0     1394.0   \n",
              "1          29.0        0.0        0.0        0.0  ...        0.0        0.0   \n",
              "2           0.0       16.0        0.0       28.0  ...        0.0        0.0   \n",
              "3         204.0      513.0        0.0      330.0  ...    78035.0    85701.0   \n",
              "4           0.0        0.0       54.0      103.0  ...        0.0        0.0   \n",
              "\n",
              "                                                                        \\\n",
              "Date 2013-03-04 2013-03-05 2013-03-06 2013-03-07 2013-03-08 2013-03-09   \n",
              "0         656.0      190.0        0.0        0.0    49198.0        0.0   \n",
              "1           0.0        0.0        0.0        0.0        0.0        0.0   \n",
              "2         378.0        0.0        0.0        0.0      321.0        0.0   \n",
              "3         241.0     1553.0    75182.0        0.0     6550.0    85506.0   \n",
              "4           0.0        0.0        0.0      284.0     1073.0        0.0   \n",
              "\n",
              "                            \n",
              "Date 2013-03-10 2013-03-11  \n",
              "0       60209.0     4091.0  \n",
              "1           0.0        0.0  \n",
              "2         664.0        0.0  \n",
              "3       83424.0    85559.0  \n",
              "4           0.0     2913.0  \n",
              "\n",
              "[5 rows x 121 columns]"
            ],
            "text/html": [
              "\n",
              "  <div id=\"df-dbc03bec-5ed7-4579-b5d4-42063ec8823e\">\n",
              "    <div class=\"colab-df-container\">\n",
              "      <div>\n",
              "<style scoped>\n",
              "    .dataframe tbody tr th:only-of-type {\n",
              "        vertical-align: middle;\n",
              "    }\n",
              "\n",
              "    .dataframe tbody tr th {\n",
              "        vertical-align: top;\n",
              "    }\n",
              "\n",
              "    .dataframe thead tr th {\n",
              "        text-align: left;\n",
              "    }\n",
              "</style>\n",
              "<table border=\"1\" class=\"dataframe\">\n",
              "  <thead>\n",
              "    <tr>\n",
              "      <th></th>\n",
              "      <th>user_id</th>\n",
              "      <th colspan=\"9\" halign=\"left\">numseen_day</th>\n",
              "      <th>...</th>\n",
              "      <th colspan=\"10\" halign=\"left\">duration</th>\n",
              "    </tr>\n",
              "    <tr>\n",
              "      <th>Date</th>\n",
              "      <th></th>\n",
              "      <th>2013-02-28</th>\n",
              "      <th>2013-03-01</th>\n",
              "      <th>2013-03-02</th>\n",
              "      <th>2013-03-03</th>\n",
              "      <th>2013-03-04</th>\n",
              "      <th>2013-03-05</th>\n",
              "      <th>2013-03-06</th>\n",
              "      <th>2013-03-07</th>\n",
              "      <th>2013-03-08</th>\n",
              "      <th>...</th>\n",
              "      <th>2013-03-02</th>\n",
              "      <th>2013-03-03</th>\n",
              "      <th>2013-03-04</th>\n",
              "      <th>2013-03-05</th>\n",
              "      <th>2013-03-06</th>\n",
              "      <th>2013-03-07</th>\n",
              "      <th>2013-03-08</th>\n",
              "      <th>2013-03-09</th>\n",
              "      <th>2013-03-10</th>\n",
              "      <th>2013-03-11</th>\n",
              "    </tr>\n",
              "  </thead>\n",
              "  <tbody>\n",
              "    <tr>\n",
              "      <th>0</th>\n",
              "      <td>u:-Md</td>\n",
              "      <td>0.0</td>\n",
              "      <td>0.0</td>\n",
              "      <td>150.0</td>\n",
              "      <td>58.0</td>\n",
              "      <td>68.0</td>\n",
              "      <td>43.0</td>\n",
              "      <td>0.0</td>\n",
              "      <td>0.0</td>\n",
              "      <td>92.0</td>\n",
              "      <td>...</td>\n",
              "      <td>2953.0</td>\n",
              "      <td>1394.0</td>\n",
              "      <td>656.0</td>\n",
              "      <td>190.0</td>\n",
              "      <td>0.0</td>\n",
              "      <td>0.0</td>\n",
              "      <td>49198.0</td>\n",
              "      <td>0.0</td>\n",
              "      <td>60209.0</td>\n",
              "      <td>4091.0</td>\n",
              "    </tr>\n",
              "    <tr>\n",
              "      <th>1</th>\n",
              "      <td>u:-Ou</td>\n",
              "      <td>0.0</td>\n",
              "      <td>0.0</td>\n",
              "      <td>0.0</td>\n",
              "      <td>0.0</td>\n",
              "      <td>50.0</td>\n",
              "      <td>29.0</td>\n",
              "      <td>0.0</td>\n",
              "      <td>0.0</td>\n",
              "      <td>0.0</td>\n",
              "      <td>...</td>\n",
              "      <td>0.0</td>\n",
              "      <td>0.0</td>\n",
              "      <td>0.0</td>\n",
              "      <td>0.0</td>\n",
              "      <td>0.0</td>\n",
              "      <td>0.0</td>\n",
              "      <td>0.0</td>\n",
              "      <td>0.0</td>\n",
              "      <td>0.0</td>\n",
              "      <td>0.0</td>\n",
              "    </tr>\n",
              "    <tr>\n",
              "      <th>2</th>\n",
              "      <td>u:-TS</td>\n",
              "      <td>0.0</td>\n",
              "      <td>0.0</td>\n",
              "      <td>0.0</td>\n",
              "      <td>0.0</td>\n",
              "      <td>29.0</td>\n",
              "      <td>0.0</td>\n",
              "      <td>16.0</td>\n",
              "      <td>0.0</td>\n",
              "      <td>28.0</td>\n",
              "      <td>...</td>\n",
              "      <td>0.0</td>\n",
              "      <td>0.0</td>\n",
              "      <td>378.0</td>\n",
              "      <td>0.0</td>\n",
              "      <td>0.0</td>\n",
              "      <td>0.0</td>\n",
              "      <td>321.0</td>\n",
              "      <td>0.0</td>\n",
              "      <td>664.0</td>\n",
              "      <td>0.0</td>\n",
              "    </tr>\n",
              "    <tr>\n",
              "      <th>3</th>\n",
              "      <td>u:-b</td>\n",
              "      <td>0.0</td>\n",
              "      <td>63.0</td>\n",
              "      <td>563.0</td>\n",
              "      <td>1026.0</td>\n",
              "      <td>138.0</td>\n",
              "      <td>204.0</td>\n",
              "      <td>513.0</td>\n",
              "      <td>0.0</td>\n",
              "      <td>330.0</td>\n",
              "      <td>...</td>\n",
              "      <td>78035.0</td>\n",
              "      <td>85701.0</td>\n",
              "      <td>241.0</td>\n",
              "      <td>1553.0</td>\n",
              "      <td>75182.0</td>\n",
              "      <td>0.0</td>\n",
              "      <td>6550.0</td>\n",
              "      <td>85506.0</td>\n",
              "      <td>83424.0</td>\n",
              "      <td>85559.0</td>\n",
              "    </tr>\n",
              "    <tr>\n",
              "      <th>4</th>\n",
              "      <td>u:-f2</td>\n",
              "      <td>0.0</td>\n",
              "      <td>0.0</td>\n",
              "      <td>0.0</td>\n",
              "      <td>0.0</td>\n",
              "      <td>0.0</td>\n",
              "      <td>0.0</td>\n",
              "      <td>0.0</td>\n",
              "      <td>54.0</td>\n",
              "      <td>103.0</td>\n",
              "      <td>...</td>\n",
              "      <td>0.0</td>\n",
              "      <td>0.0</td>\n",
              "      <td>0.0</td>\n",
              "      <td>0.0</td>\n",
              "      <td>0.0</td>\n",
              "      <td>284.0</td>\n",
              "      <td>1073.0</td>\n",
              "      <td>0.0</td>\n",
              "      <td>0.0</td>\n",
              "      <td>2913.0</td>\n",
              "    </tr>\n",
              "  </tbody>\n",
              "</table>\n",
              "<p>5 rows × 121 columns</p>\n",
              "</div>\n",
              "      <button class=\"colab-df-convert\" onclick=\"convertToInteractive('df-dbc03bec-5ed7-4579-b5d4-42063ec8823e')\"\n",
              "              title=\"Convert this dataframe to an interactive table.\"\n",
              "              style=\"display:none;\">\n",
              "        \n",
              "  <svg xmlns=\"http://www.w3.org/2000/svg\" height=\"24px\"viewBox=\"0 0 24 24\"\n",
              "       width=\"24px\">\n",
              "    <path d=\"M0 0h24v24H0V0z\" fill=\"none\"/>\n",
              "    <path d=\"M18.56 5.44l.94 2.06.94-2.06 2.06-.94-2.06-.94-.94-2.06-.94 2.06-2.06.94zm-11 1L8.5 8.5l.94-2.06 2.06-.94-2.06-.94L8.5 2.5l-.94 2.06-2.06.94zm10 10l.94 2.06.94-2.06 2.06-.94-2.06-.94-.94-2.06-.94 2.06-2.06.94z\"/><path d=\"M17.41 7.96l-1.37-1.37c-.4-.4-.92-.59-1.43-.59-.52 0-1.04.2-1.43.59L10.3 9.45l-7.72 7.72c-.78.78-.78 2.05 0 2.83L4 21.41c.39.39.9.59 1.41.59.51 0 1.02-.2 1.41-.59l7.78-7.78 2.81-2.81c.8-.78.8-2.07 0-2.86zM5.41 20L4 18.59l7.72-7.72 1.47 1.35L5.41 20z\"/>\n",
              "  </svg>\n",
              "      </button>\n",
              "      \n",
              "  <style>\n",
              "    .colab-df-container {\n",
              "      display:flex;\n",
              "      flex-wrap:wrap;\n",
              "      gap: 12px;\n",
              "    }\n",
              "\n",
              "    .colab-df-convert {\n",
              "      background-color: #E8F0FE;\n",
              "      border: none;\n",
              "      border-radius: 50%;\n",
              "      cursor: pointer;\n",
              "      display: none;\n",
              "      fill: #1967D2;\n",
              "      height: 32px;\n",
              "      padding: 0 0 0 0;\n",
              "      width: 32px;\n",
              "    }\n",
              "\n",
              "    .colab-df-convert:hover {\n",
              "      background-color: #E2EBFA;\n",
              "      box-shadow: 0px 1px 2px rgba(60, 64, 67, 0.3), 0px 1px 3px 1px rgba(60, 64, 67, 0.15);\n",
              "      fill: #174EA6;\n",
              "    }\n",
              "\n",
              "    [theme=dark] .colab-df-convert {\n",
              "      background-color: #3B4455;\n",
              "      fill: #D2E3FC;\n",
              "    }\n",
              "\n",
              "    [theme=dark] .colab-df-convert:hover {\n",
              "      background-color: #434B5C;\n",
              "      box-shadow: 0px 1px 3px 1px rgba(0, 0, 0, 0.15);\n",
              "      filter: drop-shadow(0px 1px 2px rgba(0, 0, 0, 0.3));\n",
              "      fill: #FFFFFF;\n",
              "    }\n",
              "  </style>\n",
              "\n",
              "      <script>\n",
              "        const buttonEl =\n",
              "          document.querySelector('#df-dbc03bec-5ed7-4579-b5d4-42063ec8823e button.colab-df-convert');\n",
              "        buttonEl.style.display =\n",
              "          google.colab.kernel.accessAllowed ? 'block' : 'none';\n",
              "\n",
              "        async function convertToInteractive(key) {\n",
              "          const element = document.querySelector('#df-dbc03bec-5ed7-4579-b5d4-42063ec8823e');\n",
              "          const dataTable =\n",
              "            await google.colab.kernel.invokeFunction('convertToInteractive',\n",
              "                                                     [key], {});\n",
              "          if (!dataTable) return;\n",
              "\n",
              "          const docLinkHtml = 'Like what you see? Visit the ' +\n",
              "            '<a target=\"_blank\" href=https://colab.research.google.com/notebooks/data_table.ipynb>data table notebook</a>'\n",
              "            + ' to learn more about interactive tables.';\n",
              "          element.innerHTML = '';\n",
              "          dataTable['output_type'] = 'display_data';\n",
              "          await google.colab.output.renderOutput(dataTable, element);\n",
              "          const docLink = document.createElement('div');\n",
              "          docLink.innerHTML = docLinkHtml;\n",
              "          element.appendChild(docLink);\n",
              "        }\n",
              "      </script>\n",
              "    </div>\n",
              "  </div>\n",
              "  "
            ]
          },
          "metadata": {},
          "execution_count": 248
        }
      ]
    },
    {
      "cell_type": "code",
      "source": [
        "newcolumns = [str(x[0])+'_'+str(x[1]) for x in studentfeatures2.columns]"
      ],
      "metadata": {
        "id": "S9-6MU1b4qrl"
      },
      "execution_count": 236,
      "outputs": []
    },
    {
      "cell_type": "markdown",
      "source": [
        "\n",
        "Now we will join the studentfeatures to the Mar 12 dataset. Then we will join the word features, then split, then convert to sparse arrays.  "
      ],
      "metadata": {
        "id": "DuTtI68K6U1O"
      }
    },
    {
      "cell_type": "code",
      "source": [
        "compressed_pickle(path_name+\"studentfeatures2\",studentfeatures2)"
      ],
      "metadata": {
        "id": "Hq-ObkPU6P0K"
      },
      "execution_count": 237,
      "outputs": []
    },
    {
      "cell_type": "markdown",
      "source": [
        "Getting Mar 12 dataset"
      ],
      "metadata": {
        "id": "lp3zbarv6zgb"
      }
    },
    {
      "cell_type": "code",
      "source": [
        "lastdayq2 = datadfq2.loc[(datadfq2['Date']==datetime.strptime('12032013', \"%d%m%Y\").date()),:]"
      ],
      "metadata": {
        "id": "O1upu6hB618Y"
      },
      "execution_count": 240,
      "outputs": []
    },
    {
      "cell_type": "code",
      "source": [
        "lastdayq2.shape"
      ],
      "metadata": {
        "colab": {
          "base_uri": "https://localhost:8080/"
        },
        "id": "pQt_B5Kz6_4h",
        "outputId": "fb5beb35-4502-4d9b-8633-b356c4a3e892"
      },
      "execution_count": 241,
      "outputs": [
        {
          "output_type": "execute_result",
          "data": {
            "text/plain": [
              "(492966, 22)"
            ]
          },
          "metadata": {},
          "execution_count": 241
        }
      ]
    },
    {
      "cell_type": "code",
      "source": [
        "lastdayq2wstfeatures = pd.merge(left = lastdayq2,right = studentfeatures2,left_on='user_id',right_on = 'user_id',how=\"left\")"
      ],
      "metadata": {
        "colab": {
          "base_uri": "https://localhost:8080/"
        },
        "id": "GOibvWp_7iMp",
        "outputId": "f29261b7-29be-42fd-b461-31bd1e5d353a"
      },
      "execution_count": 249,
      "outputs": [
        {
          "output_type": "stream",
          "name": "stderr",
          "text": [
            "/usr/local/lib/python3.7/dist-packages/ipykernel_launcher.py:1: FutureWarning: merging between different levels is deprecated and will be removed in a future version. (1 levels on the left,2 on the right)\n",
            "  \"\"\"Entry point for launching an IPython kernel.\n",
            "/usr/local/lib/python3.7/dist-packages/pandas/core/generic.py:4150: PerformanceWarning: dropping on a non-lexsorted multi-index without a level parameter may impact performance.\n",
            "  obj = obj._drop_axis(labels, axis, level=level, errors=errors)\n"
          ]
        }
      ]
    },
    {
      "cell_type": "code",
      "source": [
        "lastdayq2wstfeatures.shape"
      ],
      "metadata": {
        "colab": {
          "base_uri": "https://localhost:8080/"
        },
        "id": "Rt_v3pyH78OV",
        "outputId": "3e19ca18-5329-4f48-94db-1069d2f999a3"
      },
      "execution_count": 250,
      "outputs": [
        {
          "output_type": "execute_result",
          "data": {
            "text/plain": [
              "(492966, 142)"
            ]
          },
          "metadata": {},
          "execution_count": 250
        }
      ]
    },
    {
      "cell_type": "markdown",
      "source": [
        "Now we get q1lexeme features and attach them, then we get rid of unnecessary columns. then we split by students into train and test. "
      ],
      "metadata": {
        "id": "wmmyFVXc8M32"
      }
    },
    {
      "cell_type": "code",
      "source": [
        "lastdayq2"
      ],
      "metadata": {
        "colab": {
          "base_uri": "https://localhost:8080/",
          "height": 421
        },
        "id": "Os4ZUWFp8A2I",
        "outputId": "8f22731a-5daf-48e4-b526-6d1362f78198"
      },
      "execution_count": 251,
      "outputs": [
        {
          "output_type": "execute_result",
          "data": {
            "text/plain": [
              "   p_recall   timestamp    delta user_id                         lexeme_id  \\\n",
              "0       1.0  1363046401  1123854  u:inBD  4452601308c9aeb4f25f01fb6710ed16   \n",
              "1       1.0  1363046401  1125308  u:inBD  bdb10c2d4f793986f32986d746051a59   \n",
              "2       0.0  1363046401  1123854  u:inBD  890f121972386ce1dbb811304e774f3f   \n",
              "3       1.0  1363046401    73543  u:inBD  a52bc2771bde31d4d5e80bd29f350714   \n",
              "4       1.0  1363046401  1125985  u:inBD  08bb4120ecb09c3cc4a544af3f119f6d   \n",
              "\n",
              "               lexeme_string  history_seen  history_correct  session_seen  \\\n",
              "0      salsa/salsa<n><f><sg>             2                2             1   \n",
              "1     fresas/fresa<n><f><pl>             3                3             1   \n",
              "2    comida/comida<n><f><sg>             2                2             1   \n",
              "3  manzana/manzana<n><f><sg>             6                6             1   \n",
              "4      pasta/pasta<n><f><sg>             3                3             1   \n",
              "\n",
              "   session_correct  ... (duration, 2013-03-02) (duration, 2013-03-03)  \\\n",
              "0                1  ...                    0.0                    0.0   \n",
              "1                1  ...                    0.0                    0.0   \n",
              "2                0  ...                    0.0                    0.0   \n",
              "3                1  ...                    0.0                    0.0   \n",
              "4                1  ...                    0.0                    0.0   \n",
              "\n",
              "   (duration, 2013-03-04)  (duration, 2013-03-05)  (duration, 2013-03-06)  \\\n",
              "0                   983.0                     0.0                     0.0   \n",
              "1                   983.0                     0.0                     0.0   \n",
              "2                   983.0                     0.0                     0.0   \n",
              "3                   983.0                     0.0                     0.0   \n",
              "4                   983.0                     0.0                     0.0   \n",
              "\n",
              "   (duration, 2013-03-07)  (duration, 2013-03-08)  (duration, 2013-03-09)  \\\n",
              "0                     0.0                     0.0                     0.0   \n",
              "1                     0.0                     0.0                     0.0   \n",
              "2                     0.0                     0.0                     0.0   \n",
              "3                     0.0                     0.0                     0.0   \n",
              "4                     0.0                     0.0                     0.0   \n",
              "\n",
              "   (duration, 2013-03-10)  (duration, 2013-03-11)  \n",
              "0                     0.0                  3605.0  \n",
              "1                     0.0                  3605.0  \n",
              "2                     0.0                  3605.0  \n",
              "3                     0.0                  3605.0  \n",
              "4                     0.0                  3605.0  \n",
              "\n",
              "[5 rows x 142 columns]"
            ],
            "text/html": [
              "\n",
              "  <div id=\"df-434a834c-f8a6-48ae-98a1-80a08c551a09\">\n",
              "    <div class=\"colab-df-container\">\n",
              "      <div>\n",
              "<style scoped>\n",
              "    .dataframe tbody tr th:only-of-type {\n",
              "        vertical-align: middle;\n",
              "    }\n",
              "\n",
              "    .dataframe tbody tr th {\n",
              "        vertical-align: top;\n",
              "    }\n",
              "\n",
              "    .dataframe thead th {\n",
              "        text-align: right;\n",
              "    }\n",
              "</style>\n",
              "<table border=\"1\" class=\"dataframe\">\n",
              "  <thead>\n",
              "    <tr style=\"text-align: right;\">\n",
              "      <th></th>\n",
              "      <th>p_recall</th>\n",
              "      <th>timestamp</th>\n",
              "      <th>delta</th>\n",
              "      <th>user_id</th>\n",
              "      <th>lexeme_id</th>\n",
              "      <th>lexeme_string</th>\n",
              "      <th>history_seen</th>\n",
              "      <th>history_correct</th>\n",
              "      <th>session_seen</th>\n",
              "      <th>session_correct</th>\n",
              "      <th>...</th>\n",
              "      <th>(duration, 2013-03-02)</th>\n",
              "      <th>(duration, 2013-03-03)</th>\n",
              "      <th>(duration, 2013-03-04)</th>\n",
              "      <th>(duration, 2013-03-05)</th>\n",
              "      <th>(duration, 2013-03-06)</th>\n",
              "      <th>(duration, 2013-03-07)</th>\n",
              "      <th>(duration, 2013-03-08)</th>\n",
              "      <th>(duration, 2013-03-09)</th>\n",
              "      <th>(duration, 2013-03-10)</th>\n",
              "      <th>(duration, 2013-03-11)</th>\n",
              "    </tr>\n",
              "  </thead>\n",
              "  <tbody>\n",
              "    <tr>\n",
              "      <th>0</th>\n",
              "      <td>1.0</td>\n",
              "      <td>1363046401</td>\n",
              "      <td>1123854</td>\n",
              "      <td>u:inBD</td>\n",
              "      <td>4452601308c9aeb4f25f01fb6710ed16</td>\n",
              "      <td>salsa/salsa&lt;n&gt;&lt;f&gt;&lt;sg&gt;</td>\n",
              "      <td>2</td>\n",
              "      <td>2</td>\n",
              "      <td>1</td>\n",
              "      <td>1</td>\n",
              "      <td>...</td>\n",
              "      <td>0.0</td>\n",
              "      <td>0.0</td>\n",
              "      <td>983.0</td>\n",
              "      <td>0.0</td>\n",
              "      <td>0.0</td>\n",
              "      <td>0.0</td>\n",
              "      <td>0.0</td>\n",
              "      <td>0.0</td>\n",
              "      <td>0.0</td>\n",
              "      <td>3605.0</td>\n",
              "    </tr>\n",
              "    <tr>\n",
              "      <th>1</th>\n",
              "      <td>1.0</td>\n",
              "      <td>1363046401</td>\n",
              "      <td>1125308</td>\n",
              "      <td>u:inBD</td>\n",
              "      <td>bdb10c2d4f793986f32986d746051a59</td>\n",
              "      <td>fresas/fresa&lt;n&gt;&lt;f&gt;&lt;pl&gt;</td>\n",
              "      <td>3</td>\n",
              "      <td>3</td>\n",
              "      <td>1</td>\n",
              "      <td>1</td>\n",
              "      <td>...</td>\n",
              "      <td>0.0</td>\n",
              "      <td>0.0</td>\n",
              "      <td>983.0</td>\n",
              "      <td>0.0</td>\n",
              "      <td>0.0</td>\n",
              "      <td>0.0</td>\n",
              "      <td>0.0</td>\n",
              "      <td>0.0</td>\n",
              "      <td>0.0</td>\n",
              "      <td>3605.0</td>\n",
              "    </tr>\n",
              "    <tr>\n",
              "      <th>2</th>\n",
              "      <td>0.0</td>\n",
              "      <td>1363046401</td>\n",
              "      <td>1123854</td>\n",
              "      <td>u:inBD</td>\n",
              "      <td>890f121972386ce1dbb811304e774f3f</td>\n",
              "      <td>comida/comida&lt;n&gt;&lt;f&gt;&lt;sg&gt;</td>\n",
              "      <td>2</td>\n",
              "      <td>2</td>\n",
              "      <td>1</td>\n",
              "      <td>0</td>\n",
              "      <td>...</td>\n",
              "      <td>0.0</td>\n",
              "      <td>0.0</td>\n",
              "      <td>983.0</td>\n",
              "      <td>0.0</td>\n",
              "      <td>0.0</td>\n",
              "      <td>0.0</td>\n",
              "      <td>0.0</td>\n",
              "      <td>0.0</td>\n",
              "      <td>0.0</td>\n",
              "      <td>3605.0</td>\n",
              "    </tr>\n",
              "    <tr>\n",
              "      <th>3</th>\n",
              "      <td>1.0</td>\n",
              "      <td>1363046401</td>\n",
              "      <td>73543</td>\n",
              "      <td>u:inBD</td>\n",
              "      <td>a52bc2771bde31d4d5e80bd29f350714</td>\n",
              "      <td>manzana/manzana&lt;n&gt;&lt;f&gt;&lt;sg&gt;</td>\n",
              "      <td>6</td>\n",
              "      <td>6</td>\n",
              "      <td>1</td>\n",
              "      <td>1</td>\n",
              "      <td>...</td>\n",
              "      <td>0.0</td>\n",
              "      <td>0.0</td>\n",
              "      <td>983.0</td>\n",
              "      <td>0.0</td>\n",
              "      <td>0.0</td>\n",
              "      <td>0.0</td>\n",
              "      <td>0.0</td>\n",
              "      <td>0.0</td>\n",
              "      <td>0.0</td>\n",
              "      <td>3605.0</td>\n",
              "    </tr>\n",
              "    <tr>\n",
              "      <th>4</th>\n",
              "      <td>1.0</td>\n",
              "      <td>1363046401</td>\n",
              "      <td>1125985</td>\n",
              "      <td>u:inBD</td>\n",
              "      <td>08bb4120ecb09c3cc4a544af3f119f6d</td>\n",
              "      <td>pasta/pasta&lt;n&gt;&lt;f&gt;&lt;sg&gt;</td>\n",
              "      <td>3</td>\n",
              "      <td>3</td>\n",
              "      <td>1</td>\n",
              "      <td>1</td>\n",
              "      <td>...</td>\n",
              "      <td>0.0</td>\n",
              "      <td>0.0</td>\n",
              "      <td>983.0</td>\n",
              "      <td>0.0</td>\n",
              "      <td>0.0</td>\n",
              "      <td>0.0</td>\n",
              "      <td>0.0</td>\n",
              "      <td>0.0</td>\n",
              "      <td>0.0</td>\n",
              "      <td>3605.0</td>\n",
              "    </tr>\n",
              "  </tbody>\n",
              "</table>\n",
              "<p>5 rows × 142 columns</p>\n",
              "</div>\n",
              "      <button class=\"colab-df-convert\" onclick=\"convertToInteractive('df-434a834c-f8a6-48ae-98a1-80a08c551a09')\"\n",
              "              title=\"Convert this dataframe to an interactive table.\"\n",
              "              style=\"display:none;\">\n",
              "        \n",
              "  <svg xmlns=\"http://www.w3.org/2000/svg\" height=\"24px\"viewBox=\"0 0 24 24\"\n",
              "       width=\"24px\">\n",
              "    <path d=\"M0 0h24v24H0V0z\" fill=\"none\"/>\n",
              "    <path d=\"M18.56 5.44l.94 2.06.94-2.06 2.06-.94-2.06-.94-.94-2.06-.94 2.06-2.06.94zm-11 1L8.5 8.5l.94-2.06 2.06-.94-2.06-.94L8.5 2.5l-.94 2.06-2.06.94zm10 10l.94 2.06.94-2.06 2.06-.94-2.06-.94-.94-2.06-.94 2.06-2.06.94z\"/><path d=\"M17.41 7.96l-1.37-1.37c-.4-.4-.92-.59-1.43-.59-.52 0-1.04.2-1.43.59L10.3 9.45l-7.72 7.72c-.78.78-.78 2.05 0 2.83L4 21.41c.39.39.9.59 1.41.59.51 0 1.02-.2 1.41-.59l7.78-7.78 2.81-2.81c.8-.78.8-2.07 0-2.86zM5.41 20L4 18.59l7.72-7.72 1.47 1.35L5.41 20z\"/>\n",
              "  </svg>\n",
              "      </button>\n",
              "      \n",
              "  <style>\n",
              "    .colab-df-container {\n",
              "      display:flex;\n",
              "      flex-wrap:wrap;\n",
              "      gap: 12px;\n",
              "    }\n",
              "\n",
              "    .colab-df-convert {\n",
              "      background-color: #E8F0FE;\n",
              "      border: none;\n",
              "      border-radius: 50%;\n",
              "      cursor: pointer;\n",
              "      display: none;\n",
              "      fill: #1967D2;\n",
              "      height: 32px;\n",
              "      padding: 0 0 0 0;\n",
              "      width: 32px;\n",
              "    }\n",
              "\n",
              "    .colab-df-convert:hover {\n",
              "      background-color: #E2EBFA;\n",
              "      box-shadow: 0px 1px 2px rgba(60, 64, 67, 0.3), 0px 1px 3px 1px rgba(60, 64, 67, 0.15);\n",
              "      fill: #174EA6;\n",
              "    }\n",
              "\n",
              "    [theme=dark] .colab-df-convert {\n",
              "      background-color: #3B4455;\n",
              "      fill: #D2E3FC;\n",
              "    }\n",
              "\n",
              "    [theme=dark] .colab-df-convert:hover {\n",
              "      background-color: #434B5C;\n",
              "      box-shadow: 0px 1px 3px 1px rgba(0, 0, 0, 0.15);\n",
              "      filter: drop-shadow(0px 1px 2px rgba(0, 0, 0, 0.3));\n",
              "      fill: #FFFFFF;\n",
              "    }\n",
              "  </style>\n",
              "\n",
              "      <script>\n",
              "        const buttonEl =\n",
              "          document.querySelector('#df-434a834c-f8a6-48ae-98a1-80a08c551a09 button.colab-df-convert');\n",
              "        buttonEl.style.display =\n",
              "          google.colab.kernel.accessAllowed ? 'block' : 'none';\n",
              "\n",
              "        async function convertToInteractive(key) {\n",
              "          const element = document.querySelector('#df-434a834c-f8a6-48ae-98a1-80a08c551a09');\n",
              "          const dataTable =\n",
              "            await google.colab.kernel.invokeFunction('convertToInteractive',\n",
              "                                                     [key], {});\n",
              "          if (!dataTable) return;\n",
              "\n",
              "          const docLinkHtml = 'Like what you see? Visit the ' +\n",
              "            '<a target=\"_blank\" href=https://colab.research.google.com/notebooks/data_table.ipynb>data table notebook</a>'\n",
              "            + ' to learn more about interactive tables.';\n",
              "          element.innerHTML = '';\n",
              "          dataTable['output_type'] = 'display_data';\n",
              "          await google.colab.output.renderOutput(dataTable, element);\n",
              "          const docLink = document.createElement('div');\n",
              "          docLink.innerHTML = docLinkHtml;\n",
              "          element.appendChild(docLink);\n",
              "        }\n",
              "      </script>\n",
              "    </div>\n",
              "  </div>\n",
              "  "
            ]
          },
          "metadata": {},
          "execution_count": 251
        }
      ]
    },
    {
      "cell_type": "markdown",
      "source": [
        "numseen_day: how many individual questions were done in the day\n",
        "avgp_recall_day: the average number of questions answered correctly (should word out to be derivable)\n",
        "numwordspraciced_day: how many individual words were practiced in that day.\n",
        "numcorrect_day: how many questions were asnwered correctly in that day\n",
        "numsessions_day: how many individual sessions\n"
      ],
      "metadata": {
        "id": "-8zKAgl_bZ0_"
      }
    },
    {
      "cell_type": "markdown",
      "source": [
        "As EDA, we can try to cluster the students based on their behavior. or look at their performance on certain words, and what separates students who forget vs students who don't for around the same delta and history seen. \n",
        "\n",
        "For now, we can add the previous learning day's features to each record of the next learning day. if there is none, maybe we can impute the total average although that would be data leakage. maybe do a time based split?\n",
        "\n",
        "1. get all users up to first 10 days or so, then see if you can predict performance on the next 4 days?"
      ],
      "metadata": {
        "id": "pHql8QBf6PBV"
      }
    },
    {
      "cell_type": "markdown",
      "source": [
        "Clustering students:"
      ],
      "metadata": {
        "id": "XP4pQpPYXoPW"
      }
    },
    {
      "cell_type": "code",
      "source": [
        ""
      ],
      "metadata": {
        "id": "jA_gOMmV6Oh_"
      },
      "execution_count": null,
      "outputs": []
    },
    {
      "cell_type": "code",
      "source": [
        ""
      ],
      "metadata": {
        "id": "F8xlYz1lXqAA"
      },
      "execution_count": null,
      "outputs": []
    },
    {
      "cell_type": "markdown",
      "source": [
        "We may have to look at features for only a subset of the data where we have enough - but this would disproportionately get rid of 'irregular' students. so we shouldn't.\n",
        "\n",
        "numseen_day: number of questions seen that day\n",
        "avgp_recall_day - average p_recall per word-session (not the same as numcorrect_day/numseen_day)\n",
        "numwordspracticed_day: number of unique words practiced that day\n",
        "numcorrect_day : number of questions answered correctly that day\n",
        "numquizzes_day: number of quizzes taken per word (number of records that day)\n",
        "avgdelta_day: the average interval since the last quiz - this is an aggregate measure of the choice made by the student - if avgdelta is low, then they mostly reviewed recent words, if avgdelta is high, then they mostly reviewed words that were learned a while ago. \n",
        "avgactivesessions - might be an artefact of how timestamps are recorded, but essentially the number of unique timestamps - if this number is high, student was active during \n"
      ],
      "metadata": {
        "id": "ZbIMGI-Lfn4_"
      }
    },
    {
      "cell_type": "code",
      "source": [
        "310/446"
      ],
      "metadata": {
        "colab": {
          "base_uri": "https://localhost:8080/"
        },
        "id": "0_sSDqB3fzpG",
        "outputId": "09af3832-08df-4f53-e2da-27d8fb21c165"
      },
      "execution_count": null,
      "outputs": [
        {
          "output_type": "execute_result",
          "data": {
            "text/plain": [
              "0.695067264573991"
            ]
          },
          "metadata": {},
          "execution_count": 17
        }
      ]
    },
    {
      "cell_type": "code",
      "source": [
        "lexemeids = datadfq1['lexeme_id']\n",
        "lexemeids = pd.DataFrame(lexemeids)"
      ],
      "metadata": {
        "id": "jUdBXKXIn1e8"
      },
      "execution_count": null,
      "outputs": []
    },
    {
      "cell_type": "markdown",
      "source": [
        "Getting q1lexemes, getting indices of lexeme id. then joining just those. "
      ],
      "metadata": {
        "id": "7CwZmjknoiBl"
      }
    },
    {
      "cell_type": "code",
      "source": [
        "q1lexemes = decompress_pickle(path_name+\"q1_lexeme_features.pbz2\")"
      ],
      "metadata": {
        "id": "d2SAS70qoA5i"
      },
      "execution_count": null,
      "outputs": []
    },
    {
      "cell_type": "code",
      "source": [
        "q1lexemes.shape"
      ],
      "metadata": {
        "colab": {
          "base_uri": "https://localhost:8080/"
        },
        "id": "d7zck58dpept",
        "outputId": "3ae21abc-61e7-49e0-e0fc-498864cd4ab4"
      },
      "execution_count": null,
      "outputs": [
        {
          "output_type": "execute_result",
          "data": {
            "text/plain": [
              "(12160, 2292)"
            ]
          },
          "metadata": {},
          "execution_count": 96
        }
      ]
    },
    {
      "cell_type": "code",
      "source": [
        "q1lexemeids=pd.DataFrame(q1lexemes['lexeme_id'])"
      ],
      "metadata": {
        "id": "N54eSstCpg4s"
      },
      "execution_count": null,
      "outputs": []
    },
    {
      "cell_type": "code",
      "source": [
        "q1lexemeids = q1lexemeids.reset_index()\n",
        "q1lexemeids.head()"
      ],
      "metadata": {
        "colab": {
          "base_uri": "https://localhost:8080/",
          "height": 206
        },
        "id": "kHo_hXjFp-Fi",
        "outputId": "ccad19a8-dfba-472a-ed9b-94762fa030bb"
      },
      "execution_count": null,
      "outputs": [
        {
          "output_type": "execute_result",
          "data": {
            "text/plain": [
              "   index                         lexeme_id\n",
              "0      0  73eecb492ca758ddab5371cf7b5cca32\n",
              "1      1  c84476c460737d9fb905dca3d35ec995\n",
              "2      2  1a913f2ded424985b9c02d0436008511\n",
              "3      3  38b770e66595fea718366523b4f7db3f\n",
              "4      4  4bdb859f599fa07dd5eecdab0acc2d34"
            ],
            "text/html": [
              "\n",
              "  <div id=\"df-e39281a2-fbed-450a-8693-7c4b4e4e7fd8\">\n",
              "    <div class=\"colab-df-container\">\n",
              "      <div>\n",
              "<style scoped>\n",
              "    .dataframe tbody tr th:only-of-type {\n",
              "        vertical-align: middle;\n",
              "    }\n",
              "\n",
              "    .dataframe tbody tr th {\n",
              "        vertical-align: top;\n",
              "    }\n",
              "\n",
              "    .dataframe thead th {\n",
              "        text-align: right;\n",
              "    }\n",
              "</style>\n",
              "<table border=\"1\" class=\"dataframe\">\n",
              "  <thead>\n",
              "    <tr style=\"text-align: right;\">\n",
              "      <th></th>\n",
              "      <th>index</th>\n",
              "      <th>lexeme_id</th>\n",
              "    </tr>\n",
              "  </thead>\n",
              "  <tbody>\n",
              "    <tr>\n",
              "      <th>0</th>\n",
              "      <td>0</td>\n",
              "      <td>73eecb492ca758ddab5371cf7b5cca32</td>\n",
              "    </tr>\n",
              "    <tr>\n",
              "      <th>1</th>\n",
              "      <td>1</td>\n",
              "      <td>c84476c460737d9fb905dca3d35ec995</td>\n",
              "    </tr>\n",
              "    <tr>\n",
              "      <th>2</th>\n",
              "      <td>2</td>\n",
              "      <td>1a913f2ded424985b9c02d0436008511</td>\n",
              "    </tr>\n",
              "    <tr>\n",
              "      <th>3</th>\n",
              "      <td>3</td>\n",
              "      <td>38b770e66595fea718366523b4f7db3f</td>\n",
              "    </tr>\n",
              "    <tr>\n",
              "      <th>4</th>\n",
              "      <td>4</td>\n",
              "      <td>4bdb859f599fa07dd5eecdab0acc2d34</td>\n",
              "    </tr>\n",
              "  </tbody>\n",
              "</table>\n",
              "</div>\n",
              "      <button class=\"colab-df-convert\" onclick=\"convertToInteractive('df-e39281a2-fbed-450a-8693-7c4b4e4e7fd8')\"\n",
              "              title=\"Convert this dataframe to an interactive table.\"\n",
              "              style=\"display:none;\">\n",
              "        \n",
              "  <svg xmlns=\"http://www.w3.org/2000/svg\" height=\"24px\"viewBox=\"0 0 24 24\"\n",
              "       width=\"24px\">\n",
              "    <path d=\"M0 0h24v24H0V0z\" fill=\"none\"/>\n",
              "    <path d=\"M18.56 5.44l.94 2.06.94-2.06 2.06-.94-2.06-.94-.94-2.06-.94 2.06-2.06.94zm-11 1L8.5 8.5l.94-2.06 2.06-.94-2.06-.94L8.5 2.5l-.94 2.06-2.06.94zm10 10l.94 2.06.94-2.06 2.06-.94-2.06-.94-.94-2.06-.94 2.06-2.06.94z\"/><path d=\"M17.41 7.96l-1.37-1.37c-.4-.4-.92-.59-1.43-.59-.52 0-1.04.2-1.43.59L10.3 9.45l-7.72 7.72c-.78.78-.78 2.05 0 2.83L4 21.41c.39.39.9.59 1.41.59.51 0 1.02-.2 1.41-.59l7.78-7.78 2.81-2.81c.8-.78.8-2.07 0-2.86zM5.41 20L4 18.59l7.72-7.72 1.47 1.35L5.41 20z\"/>\n",
              "  </svg>\n",
              "      </button>\n",
              "      \n",
              "  <style>\n",
              "    .colab-df-container {\n",
              "      display:flex;\n",
              "      flex-wrap:wrap;\n",
              "      gap: 12px;\n",
              "    }\n",
              "\n",
              "    .colab-df-convert {\n",
              "      background-color: #E8F0FE;\n",
              "      border: none;\n",
              "      border-radius: 50%;\n",
              "      cursor: pointer;\n",
              "      display: none;\n",
              "      fill: #1967D2;\n",
              "      height: 32px;\n",
              "      padding: 0 0 0 0;\n",
              "      width: 32px;\n",
              "    }\n",
              "\n",
              "    .colab-df-convert:hover {\n",
              "      background-color: #E2EBFA;\n",
              "      box-shadow: 0px 1px 2px rgba(60, 64, 67, 0.3), 0px 1px 3px 1px rgba(60, 64, 67, 0.15);\n",
              "      fill: #174EA6;\n",
              "    }\n",
              "\n",
              "    [theme=dark] .colab-df-convert {\n",
              "      background-color: #3B4455;\n",
              "      fill: #D2E3FC;\n",
              "    }\n",
              "\n",
              "    [theme=dark] .colab-df-convert:hover {\n",
              "      background-color: #434B5C;\n",
              "      box-shadow: 0px 1px 3px 1px rgba(0, 0, 0, 0.15);\n",
              "      filter: drop-shadow(0px 1px 2px rgba(0, 0, 0, 0.3));\n",
              "      fill: #FFFFFF;\n",
              "    }\n",
              "  </style>\n",
              "\n",
              "      <script>\n",
              "        const buttonEl =\n",
              "          document.querySelector('#df-e39281a2-fbed-450a-8693-7c4b4e4e7fd8 button.colab-df-convert');\n",
              "        buttonEl.style.display =\n",
              "          google.colab.kernel.accessAllowed ? 'block' : 'none';\n",
              "\n",
              "        async function convertToInteractive(key) {\n",
              "          const element = document.querySelector('#df-e39281a2-fbed-450a-8693-7c4b4e4e7fd8');\n",
              "          const dataTable =\n",
              "            await google.colab.kernel.invokeFunction('convertToInteractive',\n",
              "                                                     [key], {});\n",
              "          if (!dataTable) return;\n",
              "\n",
              "          const docLinkHtml = 'Like what you see? Visit the ' +\n",
              "            '<a target=\"_blank\" href=https://colab.research.google.com/notebooks/data_table.ipynb>data table notebook</a>'\n",
              "            + ' to learn more about interactive tables.';\n",
              "          element.innerHTML = '';\n",
              "          dataTable['output_type'] = 'display_data';\n",
              "          await google.colab.output.renderOutput(dataTable, element);\n",
              "          const docLink = document.createElement('div');\n",
              "          docLink.innerHTML = docLinkHtml;\n",
              "          element.appendChild(docLink);\n",
              "        }\n",
              "      </script>\n",
              "    </div>\n",
              "  </div>\n",
              "  "
            ]
          },
          "metadata": {},
          "execution_count": 63
        }
      ]
    },
    {
      "cell_type": "code",
      "source": [
        "lexemeids.shape, q1lexemeids.shape"
      ],
      "metadata": {
        "colab": {
          "base_uri": "https://localhost:8080/"
        },
        "id": "FnzXw3eapsqW",
        "outputId": "d2686d65-e4b8-42ea-975b-02de7d303e24"
      },
      "execution_count": null,
      "outputs": [
        {
          "output_type": "execute_result",
          "data": {
            "text/plain": [
              "((7313354, 1), (12160, 2))"
            ]
          },
          "metadata": {},
          "execution_count": 15
        }
      ]
    },
    {
      "cell_type": "markdown",
      "source": [
        "Now we will map the main dataframe indices to the lexeme features indices."
      ],
      "metadata": {
        "id": "DvQZDvE6pxZc"
      }
    },
    {
      "cell_type": "code",
      "source": [
        "lexeme_map = pd.merge(left=lexemeids,right=q1lexemeids, how='left',left_on = 'lexeme_id',right_on = 'lexeme_id')"
      ],
      "metadata": {
        "id": "klHphUL7pvqh"
      },
      "execution_count": null,
      "outputs": []
    },
    {
      "cell_type": "code",
      "source": [
        "lexeme_map.head()"
      ],
      "metadata": {
        "colab": {
          "base_uri": "https://localhost:8080/",
          "height": 206
        },
        "id": "HAl9L037qPe8",
        "outputId": "5f81af03-1b86-4c53-fcf2-ce7fd4f6ca4f"
      },
      "execution_count": null,
      "outputs": [
        {
          "output_type": "execute_result",
          "data": {
            "text/plain": [
              "                          lexeme_id  index\n",
              "0  73eecb492ca758ddab5371cf7b5cca32      0\n",
              "1  73eecb492ca758ddab5371cf7b5cca32      0\n",
              "2  c84476c460737d9fb905dca3d35ec995      1\n",
              "3  1a913f2ded424985b9c02d0436008511      2\n",
              "4  38b770e66595fea718366523b4f7db3f      3"
            ],
            "text/html": [
              "\n",
              "  <div id=\"df-3f7754d6-3117-4bbb-a0e7-5d69934e74e7\">\n",
              "    <div class=\"colab-df-container\">\n",
              "      <div>\n",
              "<style scoped>\n",
              "    .dataframe tbody tr th:only-of-type {\n",
              "        vertical-align: middle;\n",
              "    }\n",
              "\n",
              "    .dataframe tbody tr th {\n",
              "        vertical-align: top;\n",
              "    }\n",
              "\n",
              "    .dataframe thead th {\n",
              "        text-align: right;\n",
              "    }\n",
              "</style>\n",
              "<table border=\"1\" class=\"dataframe\">\n",
              "  <thead>\n",
              "    <tr style=\"text-align: right;\">\n",
              "      <th></th>\n",
              "      <th>lexeme_id</th>\n",
              "      <th>index</th>\n",
              "    </tr>\n",
              "  </thead>\n",
              "  <tbody>\n",
              "    <tr>\n",
              "      <th>0</th>\n",
              "      <td>73eecb492ca758ddab5371cf7b5cca32</td>\n",
              "      <td>0</td>\n",
              "    </tr>\n",
              "    <tr>\n",
              "      <th>1</th>\n",
              "      <td>73eecb492ca758ddab5371cf7b5cca32</td>\n",
              "      <td>0</td>\n",
              "    </tr>\n",
              "    <tr>\n",
              "      <th>2</th>\n",
              "      <td>c84476c460737d9fb905dca3d35ec995</td>\n",
              "      <td>1</td>\n",
              "    </tr>\n",
              "    <tr>\n",
              "      <th>3</th>\n",
              "      <td>1a913f2ded424985b9c02d0436008511</td>\n",
              "      <td>2</td>\n",
              "    </tr>\n",
              "    <tr>\n",
              "      <th>4</th>\n",
              "      <td>38b770e66595fea718366523b4f7db3f</td>\n",
              "      <td>3</td>\n",
              "    </tr>\n",
              "  </tbody>\n",
              "</table>\n",
              "</div>\n",
              "      <button class=\"colab-df-convert\" onclick=\"convertToInteractive('df-3f7754d6-3117-4bbb-a0e7-5d69934e74e7')\"\n",
              "              title=\"Convert this dataframe to an interactive table.\"\n",
              "              style=\"display:none;\">\n",
              "        \n",
              "  <svg xmlns=\"http://www.w3.org/2000/svg\" height=\"24px\"viewBox=\"0 0 24 24\"\n",
              "       width=\"24px\">\n",
              "    <path d=\"M0 0h24v24H0V0z\" fill=\"none\"/>\n",
              "    <path d=\"M18.56 5.44l.94 2.06.94-2.06 2.06-.94-2.06-.94-.94-2.06-.94 2.06-2.06.94zm-11 1L8.5 8.5l.94-2.06 2.06-.94-2.06-.94L8.5 2.5l-.94 2.06-2.06.94zm10 10l.94 2.06.94-2.06 2.06-.94-2.06-.94-.94-2.06-.94 2.06-2.06.94z\"/><path d=\"M17.41 7.96l-1.37-1.37c-.4-.4-.92-.59-1.43-.59-.52 0-1.04.2-1.43.59L10.3 9.45l-7.72 7.72c-.78.78-.78 2.05 0 2.83L4 21.41c.39.39.9.59 1.41.59.51 0 1.02-.2 1.41-.59l7.78-7.78 2.81-2.81c.8-.78.8-2.07 0-2.86zM5.41 20L4 18.59l7.72-7.72 1.47 1.35L5.41 20z\"/>\n",
              "  </svg>\n",
              "      </button>\n",
              "      \n",
              "  <style>\n",
              "    .colab-df-container {\n",
              "      display:flex;\n",
              "      flex-wrap:wrap;\n",
              "      gap: 12px;\n",
              "    }\n",
              "\n",
              "    .colab-df-convert {\n",
              "      background-color: #E8F0FE;\n",
              "      border: none;\n",
              "      border-radius: 50%;\n",
              "      cursor: pointer;\n",
              "      display: none;\n",
              "      fill: #1967D2;\n",
              "      height: 32px;\n",
              "      padding: 0 0 0 0;\n",
              "      width: 32px;\n",
              "    }\n",
              "\n",
              "    .colab-df-convert:hover {\n",
              "      background-color: #E2EBFA;\n",
              "      box-shadow: 0px 1px 2px rgba(60, 64, 67, 0.3), 0px 1px 3px 1px rgba(60, 64, 67, 0.15);\n",
              "      fill: #174EA6;\n",
              "    }\n",
              "\n",
              "    [theme=dark] .colab-df-convert {\n",
              "      background-color: #3B4455;\n",
              "      fill: #D2E3FC;\n",
              "    }\n",
              "\n",
              "    [theme=dark] .colab-df-convert:hover {\n",
              "      background-color: #434B5C;\n",
              "      box-shadow: 0px 1px 3px 1px rgba(0, 0, 0, 0.15);\n",
              "      filter: drop-shadow(0px 1px 2px rgba(0, 0, 0, 0.3));\n",
              "      fill: #FFFFFF;\n",
              "    }\n",
              "  </style>\n",
              "\n",
              "      <script>\n",
              "        const buttonEl =\n",
              "          document.querySelector('#df-3f7754d6-3117-4bbb-a0e7-5d69934e74e7 button.colab-df-convert');\n",
              "        buttonEl.style.display =\n",
              "          google.colab.kernel.accessAllowed ? 'block' : 'none';\n",
              "\n",
              "        async function convertToInteractive(key) {\n",
              "          const element = document.querySelector('#df-3f7754d6-3117-4bbb-a0e7-5d69934e74e7');\n",
              "          const dataTable =\n",
              "            await google.colab.kernel.invokeFunction('convertToInteractive',\n",
              "                                                     [key], {});\n",
              "          if (!dataTable) return;\n",
              "\n",
              "          const docLinkHtml = 'Like what you see? Visit the ' +\n",
              "            '<a target=\"_blank\" href=https://colab.research.google.com/notebooks/data_table.ipynb>data table notebook</a>'\n",
              "            + ' to learn more about interactive tables.';\n",
              "          element.innerHTML = '';\n",
              "          dataTable['output_type'] = 'display_data';\n",
              "          await google.colab.output.renderOutput(dataTable, element);\n",
              "          const docLink = document.createElement('div');\n",
              "          docLink.innerHTML = docLinkHtml;\n",
              "          element.appendChild(docLink);\n",
              "        }\n",
              "      </script>\n",
              "    </div>\n",
              "  </div>\n",
              "  "
            ]
          },
          "metadata": {},
          "execution_count": 19
        }
      ]
    },
    {
      "cell_type": "markdown",
      "source": [
        "index column here contains the row of the q1lexemes dataframe that needs to be concatenated to the main dataframe.\n",
        "\n",
        "\n",
        "Row-wise concatenation using getrow() was taking too long (see below commented cells), so we will instead convert q1lexemes to a coo matrix - > get a dictionary of keys, and use that to construct the bigger matrix. "
      ],
      "metadata": {
        "id": "L8eBCcd3qUW7"
      }
    },
    {
      "cell_type": "markdown",
      "source": [
        "There are still some non-numeric columns that need to be converted to binaries or deleted. we will do this first. "
      ],
      "metadata": {
        "id": "fgOmW6M8q6Ye"
      }
    },
    {
      "cell_type": "code",
      "source": [
        "compressed_pickle(path_name+\"lexeme_map\",lexeme_map)"
      ],
      "metadata": {
        "id": "aw6Zge5YMvIt"
      },
      "execution_count": null,
      "outputs": []
    },
    {
      "cell_type": "code",
      "source": [
        "q1lexemes.select_dtypes('object').head()"
      ],
      "metadata": {
        "colab": {
          "base_uri": "https://localhost:8080/",
          "height": 322
        },
        "id": "6SgTmlCQq0zg",
        "outputId": "6ab61727-fef6-46b8-e7bc-061c17355d0c"
      },
      "execution_count": null,
      "outputs": [
        {
          "output_type": "execute_result",
          "data": {
            "text/plain": [
              "                          lexeme_id learning_language  \\\n",
              "0  73eecb492ca758ddab5371cf7b5cca32                es   \n",
              "1  c84476c460737d9fb905dca3d35ec995                es   \n",
              "2  1a913f2ded424985b9c02d0436008511                es   \n",
              "3  38b770e66595fea718366523b4f7db3f                es   \n",
              "4  4bdb859f599fa07dd5eecdab0acc2d34                es   \n",
              "\n",
              "                  lexeme_string surface_form lemma_form    pos     modstrings  \n",
              "0                 bajo/bajo<pr>         bajo       bajo     pr             []  \n",
              "1          niños/niño<n><m><pl>        niños       niño      n        [m, pl]  \n",
              "2  leo/leer<vblex><pri><p1><sg>          leo       leer  vblex  [pri, p1, sg]  \n",
              "3         libro/libro<n><m><sg>        libro      libro      n        [m, sg]  \n",
              "4                       a/a<pr>            a          a     pr             []  "
            ],
            "text/html": [
              "\n",
              "  <div id=\"df-5d546493-2768-4be1-9f26-2afc3811da02\">\n",
              "    <div class=\"colab-df-container\">\n",
              "      <div>\n",
              "<style scoped>\n",
              "    .dataframe tbody tr th:only-of-type {\n",
              "        vertical-align: middle;\n",
              "    }\n",
              "\n",
              "    .dataframe tbody tr th {\n",
              "        vertical-align: top;\n",
              "    }\n",
              "\n",
              "    .dataframe thead th {\n",
              "        text-align: right;\n",
              "    }\n",
              "</style>\n",
              "<table border=\"1\" class=\"dataframe\">\n",
              "  <thead>\n",
              "    <tr style=\"text-align: right;\">\n",
              "      <th></th>\n",
              "      <th>lexeme_id</th>\n",
              "      <th>learning_language</th>\n",
              "      <th>lexeme_string</th>\n",
              "      <th>surface_form</th>\n",
              "      <th>lemma_form</th>\n",
              "      <th>pos</th>\n",
              "      <th>modstrings</th>\n",
              "    </tr>\n",
              "  </thead>\n",
              "  <tbody>\n",
              "    <tr>\n",
              "      <th>0</th>\n",
              "      <td>73eecb492ca758ddab5371cf7b5cca32</td>\n",
              "      <td>es</td>\n",
              "      <td>bajo/bajo&lt;pr&gt;</td>\n",
              "      <td>bajo</td>\n",
              "      <td>bajo</td>\n",
              "      <td>pr</td>\n",
              "      <td>[]</td>\n",
              "    </tr>\n",
              "    <tr>\n",
              "      <th>1</th>\n",
              "      <td>c84476c460737d9fb905dca3d35ec995</td>\n",
              "      <td>es</td>\n",
              "      <td>niños/niño&lt;n&gt;&lt;m&gt;&lt;pl&gt;</td>\n",
              "      <td>niños</td>\n",
              "      <td>niño</td>\n",
              "      <td>n</td>\n",
              "      <td>[m, pl]</td>\n",
              "    </tr>\n",
              "    <tr>\n",
              "      <th>2</th>\n",
              "      <td>1a913f2ded424985b9c02d0436008511</td>\n",
              "      <td>es</td>\n",
              "      <td>leo/leer&lt;vblex&gt;&lt;pri&gt;&lt;p1&gt;&lt;sg&gt;</td>\n",
              "      <td>leo</td>\n",
              "      <td>leer</td>\n",
              "      <td>vblex</td>\n",
              "      <td>[pri, p1, sg]</td>\n",
              "    </tr>\n",
              "    <tr>\n",
              "      <th>3</th>\n",
              "      <td>38b770e66595fea718366523b4f7db3f</td>\n",
              "      <td>es</td>\n",
              "      <td>libro/libro&lt;n&gt;&lt;m&gt;&lt;sg&gt;</td>\n",
              "      <td>libro</td>\n",
              "      <td>libro</td>\n",
              "      <td>n</td>\n",
              "      <td>[m, sg]</td>\n",
              "    </tr>\n",
              "    <tr>\n",
              "      <th>4</th>\n",
              "      <td>4bdb859f599fa07dd5eecdab0acc2d34</td>\n",
              "      <td>es</td>\n",
              "      <td>a/a&lt;pr&gt;</td>\n",
              "      <td>a</td>\n",
              "      <td>a</td>\n",
              "      <td>pr</td>\n",
              "      <td>[]</td>\n",
              "    </tr>\n",
              "  </tbody>\n",
              "</table>\n",
              "</div>\n",
              "      <button class=\"colab-df-convert\" onclick=\"convertToInteractive('df-5d546493-2768-4be1-9f26-2afc3811da02')\"\n",
              "              title=\"Convert this dataframe to an interactive table.\"\n",
              "              style=\"display:none;\">\n",
              "        \n",
              "  <svg xmlns=\"http://www.w3.org/2000/svg\" height=\"24px\"viewBox=\"0 0 24 24\"\n",
              "       width=\"24px\">\n",
              "    <path d=\"M0 0h24v24H0V0z\" fill=\"none\"/>\n",
              "    <path d=\"M18.56 5.44l.94 2.06.94-2.06 2.06-.94-2.06-.94-.94-2.06-.94 2.06-2.06.94zm-11 1L8.5 8.5l.94-2.06 2.06-.94-2.06-.94L8.5 2.5l-.94 2.06-2.06.94zm10 10l.94 2.06.94-2.06 2.06-.94-2.06-.94-.94-2.06-.94 2.06-2.06.94z\"/><path d=\"M17.41 7.96l-1.37-1.37c-.4-.4-.92-.59-1.43-.59-.52 0-1.04.2-1.43.59L10.3 9.45l-7.72 7.72c-.78.78-.78 2.05 0 2.83L4 21.41c.39.39.9.59 1.41.59.51 0 1.02-.2 1.41-.59l7.78-7.78 2.81-2.81c.8-.78.8-2.07 0-2.86zM5.41 20L4 18.59l7.72-7.72 1.47 1.35L5.41 20z\"/>\n",
              "  </svg>\n",
              "      </button>\n",
              "      \n",
              "  <style>\n",
              "    .colab-df-container {\n",
              "      display:flex;\n",
              "      flex-wrap:wrap;\n",
              "      gap: 12px;\n",
              "    }\n",
              "\n",
              "    .colab-df-convert {\n",
              "      background-color: #E8F0FE;\n",
              "      border: none;\n",
              "      border-radius: 50%;\n",
              "      cursor: pointer;\n",
              "      display: none;\n",
              "      fill: #1967D2;\n",
              "      height: 32px;\n",
              "      padding: 0 0 0 0;\n",
              "      width: 32px;\n",
              "    }\n",
              "\n",
              "    .colab-df-convert:hover {\n",
              "      background-color: #E2EBFA;\n",
              "      box-shadow: 0px 1px 2px rgba(60, 64, 67, 0.3), 0px 1px 3px 1px rgba(60, 64, 67, 0.15);\n",
              "      fill: #174EA6;\n",
              "    }\n",
              "\n",
              "    [theme=dark] .colab-df-convert {\n",
              "      background-color: #3B4455;\n",
              "      fill: #D2E3FC;\n",
              "    }\n",
              "\n",
              "    [theme=dark] .colab-df-convert:hover {\n",
              "      background-color: #434B5C;\n",
              "      box-shadow: 0px 1px 3px 1px rgba(0, 0, 0, 0.15);\n",
              "      filter: drop-shadow(0px 1px 2px rgba(0, 0, 0, 0.3));\n",
              "      fill: #FFFFFF;\n",
              "    }\n",
              "  </style>\n",
              "\n",
              "      <script>\n",
              "        const buttonEl =\n",
              "          document.querySelector('#df-5d546493-2768-4be1-9f26-2afc3811da02 button.colab-df-convert');\n",
              "        buttonEl.style.display =\n",
              "          google.colab.kernel.accessAllowed ? 'block' : 'none';\n",
              "\n",
              "        async function convertToInteractive(key) {\n",
              "          const element = document.querySelector('#df-5d546493-2768-4be1-9f26-2afc3811da02');\n",
              "          const dataTable =\n",
              "            await google.colab.kernel.invokeFunction('convertToInteractive',\n",
              "                                                     [key], {});\n",
              "          if (!dataTable) return;\n",
              "\n",
              "          const docLinkHtml = 'Like what you see? Visit the ' +\n",
              "            '<a target=\"_blank\" href=https://colab.research.google.com/notebooks/data_table.ipynb>data table notebook</a>'\n",
              "            + ' to learn more about interactive tables.';\n",
              "          element.innerHTML = '';\n",
              "          dataTable['output_type'] = 'display_data';\n",
              "          await google.colab.output.renderOutput(dataTable, element);\n",
              "          const docLink = document.createElement('div');\n",
              "          docLink.innerHTML = docLinkHtml;\n",
              "          element.appendChild(docLink);\n",
              "        }\n",
              "      </script>\n",
              "    </div>\n",
              "  </div>\n",
              "  "
            ]
          },
          "metadata": {},
          "execution_count": 64
        }
      ]
    },
    {
      "cell_type": "markdown",
      "source": [
        "Converting pos to binaries. "
      ],
      "metadata": {
        "id": "AmCfkJcEs59Y"
      }
    },
    {
      "cell_type": "code",
      "source": [
        "pos_dummies = pd.get_dummies(q1lexemes['pos'],prefix='pos')\n",
        "q1lexemes = pd.concat([q1lexemes,pos_dummies],axis=1)"
      ],
      "metadata": {
        "id": "qKEijsTjs8DQ"
      },
      "execution_count": null,
      "outputs": []
    },
    {
      "cell_type": "code",
      "source": [
        "q1lexemes['pos']"
      ],
      "metadata": {
        "colab": {
          "base_uri": "https://localhost:8080/",
          "height": 424
        },
        "id": "YP_ix6xnGAjX",
        "outputId": "389ef588-8c92-4d4c-8ec3-bb1014126e27"
      },
      "execution_count": null,
      "outputs": [
        {
          "output_type": "execute_result",
          "data": {
            "text/plain": [
              "         pos  pos  pos\n",
              "0         pr  0.0  0.0\n",
              "1          n  0.0  0.0\n",
              "2      vblex  0.0  0.0\n",
              "3          n  0.0  0.0\n",
              "4         pr  0.0  0.0\n",
              "...      ...  ...  ...\n",
              "12155  vblex  0.0  0.0\n",
              "12156      n  0.0  0.0\n",
              "12157      n  0.0  0.0\n",
              "12158  vblex  0.0  0.0\n",
              "12159      n  0.0  0.0\n",
              "\n",
              "[12160 rows x 3 columns]"
            ],
            "text/html": [
              "\n",
              "  <div id=\"df-b7d2e3bd-f111-444e-b585-a6df4d9ba5f5\">\n",
              "    <div class=\"colab-df-container\">\n",
              "      <div>\n",
              "<style scoped>\n",
              "    .dataframe tbody tr th:only-of-type {\n",
              "        vertical-align: middle;\n",
              "    }\n",
              "\n",
              "    .dataframe tbody tr th {\n",
              "        vertical-align: top;\n",
              "    }\n",
              "\n",
              "    .dataframe thead th {\n",
              "        text-align: right;\n",
              "    }\n",
              "</style>\n",
              "<table border=\"1\" class=\"dataframe\">\n",
              "  <thead>\n",
              "    <tr style=\"text-align: right;\">\n",
              "      <th></th>\n",
              "      <th>pos</th>\n",
              "      <th>pos</th>\n",
              "      <th>pos</th>\n",
              "    </tr>\n",
              "  </thead>\n",
              "  <tbody>\n",
              "    <tr>\n",
              "      <th>0</th>\n",
              "      <td>pr</td>\n",
              "      <td>0.0</td>\n",
              "      <td>0.0</td>\n",
              "    </tr>\n",
              "    <tr>\n",
              "      <th>1</th>\n",
              "      <td>n</td>\n",
              "      <td>0.0</td>\n",
              "      <td>0.0</td>\n",
              "    </tr>\n",
              "    <tr>\n",
              "      <th>2</th>\n",
              "      <td>vblex</td>\n",
              "      <td>0.0</td>\n",
              "      <td>0.0</td>\n",
              "    </tr>\n",
              "    <tr>\n",
              "      <th>3</th>\n",
              "      <td>n</td>\n",
              "      <td>0.0</td>\n",
              "      <td>0.0</td>\n",
              "    </tr>\n",
              "    <tr>\n",
              "      <th>4</th>\n",
              "      <td>pr</td>\n",
              "      <td>0.0</td>\n",
              "      <td>0.0</td>\n",
              "    </tr>\n",
              "    <tr>\n",
              "      <th>...</th>\n",
              "      <td>...</td>\n",
              "      <td>...</td>\n",
              "      <td>...</td>\n",
              "    </tr>\n",
              "    <tr>\n",
              "      <th>12155</th>\n",
              "      <td>vblex</td>\n",
              "      <td>0.0</td>\n",
              "      <td>0.0</td>\n",
              "    </tr>\n",
              "    <tr>\n",
              "      <th>12156</th>\n",
              "      <td>n</td>\n",
              "      <td>0.0</td>\n",
              "      <td>0.0</td>\n",
              "    </tr>\n",
              "    <tr>\n",
              "      <th>12157</th>\n",
              "      <td>n</td>\n",
              "      <td>0.0</td>\n",
              "      <td>0.0</td>\n",
              "    </tr>\n",
              "    <tr>\n",
              "      <th>12158</th>\n",
              "      <td>vblex</td>\n",
              "      <td>0.0</td>\n",
              "      <td>0.0</td>\n",
              "    </tr>\n",
              "    <tr>\n",
              "      <th>12159</th>\n",
              "      <td>n</td>\n",
              "      <td>0.0</td>\n",
              "      <td>0.0</td>\n",
              "    </tr>\n",
              "  </tbody>\n",
              "</table>\n",
              "<p>12160 rows × 3 columns</p>\n",
              "</div>\n",
              "      <button class=\"colab-df-convert\" onclick=\"convertToInteractive('df-b7d2e3bd-f111-444e-b585-a6df4d9ba5f5')\"\n",
              "              title=\"Convert this dataframe to an interactive table.\"\n",
              "              style=\"display:none;\">\n",
              "        \n",
              "  <svg xmlns=\"http://www.w3.org/2000/svg\" height=\"24px\"viewBox=\"0 0 24 24\"\n",
              "       width=\"24px\">\n",
              "    <path d=\"M0 0h24v24H0V0z\" fill=\"none\"/>\n",
              "    <path d=\"M18.56 5.44l.94 2.06.94-2.06 2.06-.94-2.06-.94-.94-2.06-.94 2.06-2.06.94zm-11 1L8.5 8.5l.94-2.06 2.06-.94-2.06-.94L8.5 2.5l-.94 2.06-2.06.94zm10 10l.94 2.06.94-2.06 2.06-.94-2.06-.94-.94-2.06-.94 2.06-2.06.94z\"/><path d=\"M17.41 7.96l-1.37-1.37c-.4-.4-.92-.59-1.43-.59-.52 0-1.04.2-1.43.59L10.3 9.45l-7.72 7.72c-.78.78-.78 2.05 0 2.83L4 21.41c.39.39.9.59 1.41.59.51 0 1.02-.2 1.41-.59l7.78-7.78 2.81-2.81c.8-.78.8-2.07 0-2.86zM5.41 20L4 18.59l7.72-7.72 1.47 1.35L5.41 20z\"/>\n",
              "  </svg>\n",
              "      </button>\n",
              "      \n",
              "  <style>\n",
              "    .colab-df-container {\n",
              "      display:flex;\n",
              "      flex-wrap:wrap;\n",
              "      gap: 12px;\n",
              "    }\n",
              "\n",
              "    .colab-df-convert {\n",
              "      background-color: #E8F0FE;\n",
              "      border: none;\n",
              "      border-radius: 50%;\n",
              "      cursor: pointer;\n",
              "      display: none;\n",
              "      fill: #1967D2;\n",
              "      height: 32px;\n",
              "      padding: 0 0 0 0;\n",
              "      width: 32px;\n",
              "    }\n",
              "\n",
              "    .colab-df-convert:hover {\n",
              "      background-color: #E2EBFA;\n",
              "      box-shadow: 0px 1px 2px rgba(60, 64, 67, 0.3), 0px 1px 3px 1px rgba(60, 64, 67, 0.15);\n",
              "      fill: #174EA6;\n",
              "    }\n",
              "\n",
              "    [theme=dark] .colab-df-convert {\n",
              "      background-color: #3B4455;\n",
              "      fill: #D2E3FC;\n",
              "    }\n",
              "\n",
              "    [theme=dark] .colab-df-convert:hover {\n",
              "      background-color: #434B5C;\n",
              "      box-shadow: 0px 1px 3px 1px rgba(0, 0, 0, 0.15);\n",
              "      filter: drop-shadow(0px 1px 2px rgba(0, 0, 0, 0.3));\n",
              "      fill: #FFFFFF;\n",
              "    }\n",
              "  </style>\n",
              "\n",
              "      <script>\n",
              "        const buttonEl =\n",
              "          document.querySelector('#df-b7d2e3bd-f111-444e-b585-a6df4d9ba5f5 button.colab-df-convert');\n",
              "        buttonEl.style.display =\n",
              "          google.colab.kernel.accessAllowed ? 'block' : 'none';\n",
              "\n",
              "        async function convertToInteractive(key) {\n",
              "          const element = document.querySelector('#df-b7d2e3bd-f111-444e-b585-a6df4d9ba5f5');\n",
              "          const dataTable =\n",
              "            await google.colab.kernel.invokeFunction('convertToInteractive',\n",
              "                                                     [key], {});\n",
              "          if (!dataTable) return;\n",
              "\n",
              "          const docLinkHtml = 'Like what you see? Visit the ' +\n",
              "            '<a target=\"_blank\" href=https://colab.research.google.com/notebooks/data_table.ipynb>data table notebook</a>'\n",
              "            + ' to learn more about interactive tables.';\n",
              "          element.innerHTML = '';\n",
              "          dataTable['output_type'] = 'display_data';\n",
              "          await google.colab.output.renderOutput(dataTable, element);\n",
              "          const docLink = document.createElement('div');\n",
              "          docLink.innerHTML = docLinkHtml;\n",
              "          element.appendChild(docLink);\n",
              "        }\n",
              "      </script>\n",
              "    </div>\n",
              "  </div>\n",
              "  "
            ]
          },
          "metadata": {},
          "execution_count": 66
        }
      ]
    },
    {
      "cell_type": "code",
      "source": [
        "q1lexemes['pos1'] = pd.Series([q1lexemes['pos'].loc[i][1] for i in range(q1lexemes['pos'].shape[0])])"
      ],
      "metadata": {
        "id": "4nvP1vywGH8f"
      },
      "execution_count": null,
      "outputs": []
    },
    {
      "cell_type": "code",
      "source": [
        "q1lexemes = q1lexemes.drop(['lexeme_id','lexeme_string','learning_language','surface_form','lemma_form','pos','modstrings'],axis=1)"
      ],
      "metadata": {
        "id": "hFC9v66PtJgS"
      },
      "execution_count": null,
      "outputs": []
    },
    {
      "cell_type": "code",
      "source": [
        "q1lexemes.select_dtypes('object')"
      ],
      "metadata": {
        "colab": {
          "base_uri": "https://localhost:8080/",
          "height": 406
        },
        "id": "0AKKWwdlt3Hv",
        "outputId": "7a45b625-7098-4805-f643-7bd147bf3e94"
      },
      "execution_count": null,
      "outputs": [
        {
          "output_type": "execute_result",
          "data": {
            "text/plain": [
              "Empty DataFrame\n",
              "Columns: []\n",
              "Index: [0, 1, 2, 3, 4, 5, 6, 7, 8, 9, 10, 11, 12, 13, 14, 15, 16, 17, 18, 19, 20, 21, 22, 23, 24, 25, 26, 27, 28, 29, 30, 31, 32, 33, 34, 35, 36, 37, 38, 39, 40, 41, 42, 43, 44, 45, 46, 47, 48, 49, 50, 51, 52, 53, 54, 55, 56, 57, 58, 59, 60, 61, 62, 63, 64, 65, 66, 67, 68, 69, 70, 71, 72, 73, 74, 75, 76, 77, 78, 79, 80, 81, 82, 83, 84, 85, 86, 87, 88, 89, 90, 91, 92, 93, 94, 95, 96, 97, 98, 99, ...]\n",
              "\n",
              "[12160 rows x 0 columns]"
            ],
            "text/html": [
              "\n",
              "  <div id=\"df-81f849ae-8a4c-437b-93bd-b7192f153dbe\">\n",
              "    <div class=\"colab-df-container\">\n",
              "      <div>\n",
              "<style scoped>\n",
              "    .dataframe tbody tr th:only-of-type {\n",
              "        vertical-align: middle;\n",
              "    }\n",
              "\n",
              "    .dataframe tbody tr th {\n",
              "        vertical-align: top;\n",
              "    }\n",
              "\n",
              "    .dataframe thead th {\n",
              "        text-align: right;\n",
              "    }\n",
              "</style>\n",
              "<table border=\"1\" class=\"dataframe\">\n",
              "  <thead>\n",
              "    <tr style=\"text-align: right;\">\n",
              "      <th></th>\n",
              "    </tr>\n",
              "  </thead>\n",
              "  <tbody>\n",
              "    <tr>\n",
              "      <th>0</th>\n",
              "    </tr>\n",
              "    <tr>\n",
              "      <th>1</th>\n",
              "    </tr>\n",
              "    <tr>\n",
              "      <th>2</th>\n",
              "    </tr>\n",
              "    <tr>\n",
              "      <th>3</th>\n",
              "    </tr>\n",
              "    <tr>\n",
              "      <th>4</th>\n",
              "    </tr>\n",
              "    <tr>\n",
              "      <th>...</th>\n",
              "    </tr>\n",
              "    <tr>\n",
              "      <th>12155</th>\n",
              "    </tr>\n",
              "    <tr>\n",
              "      <th>12156</th>\n",
              "    </tr>\n",
              "    <tr>\n",
              "      <th>12157</th>\n",
              "    </tr>\n",
              "    <tr>\n",
              "      <th>12158</th>\n",
              "    </tr>\n",
              "    <tr>\n",
              "      <th>12159</th>\n",
              "    </tr>\n",
              "  </tbody>\n",
              "</table>\n",
              "<p>12160 rows × 0 columns</p>\n",
              "</div>\n",
              "      <button class=\"colab-df-convert\" onclick=\"convertToInteractive('df-81f849ae-8a4c-437b-93bd-b7192f153dbe')\"\n",
              "              title=\"Convert this dataframe to an interactive table.\"\n",
              "              style=\"display:none;\">\n",
              "        \n",
              "  <svg xmlns=\"http://www.w3.org/2000/svg\" height=\"24px\"viewBox=\"0 0 24 24\"\n",
              "       width=\"24px\">\n",
              "    <path d=\"M0 0h24v24H0V0z\" fill=\"none\"/>\n",
              "    <path d=\"M18.56 5.44l.94 2.06.94-2.06 2.06-.94-2.06-.94-.94-2.06-.94 2.06-2.06.94zm-11 1L8.5 8.5l.94-2.06 2.06-.94-2.06-.94L8.5 2.5l-.94 2.06-2.06.94zm10 10l.94 2.06.94-2.06 2.06-.94-2.06-.94-.94-2.06-.94 2.06-2.06.94z\"/><path d=\"M17.41 7.96l-1.37-1.37c-.4-.4-.92-.59-1.43-.59-.52 0-1.04.2-1.43.59L10.3 9.45l-7.72 7.72c-.78.78-.78 2.05 0 2.83L4 21.41c.39.39.9.59 1.41.59.51 0 1.02-.2 1.41-.59l7.78-7.78 2.81-2.81c.8-.78.8-2.07 0-2.86zM5.41 20L4 18.59l7.72-7.72 1.47 1.35L5.41 20z\"/>\n",
              "  </svg>\n",
              "      </button>\n",
              "      \n",
              "  <style>\n",
              "    .colab-df-container {\n",
              "      display:flex;\n",
              "      flex-wrap:wrap;\n",
              "      gap: 12px;\n",
              "    }\n",
              "\n",
              "    .colab-df-convert {\n",
              "      background-color: #E8F0FE;\n",
              "      border: none;\n",
              "      border-radius: 50%;\n",
              "      cursor: pointer;\n",
              "      display: none;\n",
              "      fill: #1967D2;\n",
              "      height: 32px;\n",
              "      padding: 0 0 0 0;\n",
              "      width: 32px;\n",
              "    }\n",
              "\n",
              "    .colab-df-convert:hover {\n",
              "      background-color: #E2EBFA;\n",
              "      box-shadow: 0px 1px 2px rgba(60, 64, 67, 0.3), 0px 1px 3px 1px rgba(60, 64, 67, 0.15);\n",
              "      fill: #174EA6;\n",
              "    }\n",
              "\n",
              "    [theme=dark] .colab-df-convert {\n",
              "      background-color: #3B4455;\n",
              "      fill: #D2E3FC;\n",
              "    }\n",
              "\n",
              "    [theme=dark] .colab-df-convert:hover {\n",
              "      background-color: #434B5C;\n",
              "      box-shadow: 0px 1px 3px 1px rgba(0, 0, 0, 0.15);\n",
              "      filter: drop-shadow(0px 1px 2px rgba(0, 0, 0, 0.3));\n",
              "      fill: #FFFFFF;\n",
              "    }\n",
              "  </style>\n",
              "\n",
              "      <script>\n",
              "        const buttonEl =\n",
              "          document.querySelector('#df-81f849ae-8a4c-437b-93bd-b7192f153dbe button.colab-df-convert');\n",
              "        buttonEl.style.display =\n",
              "          google.colab.kernel.accessAllowed ? 'block' : 'none';\n",
              "\n",
              "        async function convertToInteractive(key) {\n",
              "          const element = document.querySelector('#df-81f849ae-8a4c-437b-93bd-b7192f153dbe');\n",
              "          const dataTable =\n",
              "            await google.colab.kernel.invokeFunction('convertToInteractive',\n",
              "                                                     [key], {});\n",
              "          if (!dataTable) return;\n",
              "\n",
              "          const docLinkHtml = 'Like what you see? Visit the ' +\n",
              "            '<a target=\"_blank\" href=https://colab.research.google.com/notebooks/data_table.ipynb>data table notebook</a>'\n",
              "            + ' to learn more about interactive tables.';\n",
              "          element.innerHTML = '';\n",
              "          dataTable['output_type'] = 'display_data';\n",
              "          await google.colab.output.renderOutput(dataTable, element);\n",
              "          const docLink = document.createElement('div');\n",
              "          docLink.innerHTML = docLinkHtml;\n",
              "          element.appendChild(docLink);\n",
              "        }\n",
              "      </script>\n",
              "    </div>\n",
              "  </div>\n",
              "  "
            ]
          },
          "metadata": {},
          "execution_count": 70
        }
      ]
    },
    {
      "cell_type": "markdown",
      "source": [
        "No strings left in the q1lexemes dataframe. We can now convert to coo matrix. "
      ],
      "metadata": {
        "id": "u6U2BWFdhmLN"
      }
    },
    {
      "cell_type": "code",
      "source": [
        "q1lexemes.size/1000000"
      ],
      "metadata": {
        "colab": {
          "base_uri": "https://localhost:8080/"
        },
        "id": "8g4VhzeqtdF6",
        "outputId": "5fbe353e-3859-4746-9ef0-bb9f5464b090"
      },
      "execution_count": null,
      "outputs": [
        {
          "output_type": "execute_result",
          "data": {
            "text/plain": [
              "27.87072"
            ]
          },
          "metadata": {},
          "execution_count": 71
        }
      ]
    },
    {
      "cell_type": "code",
      "source": [
        "q1lexemecoo = coo_matrix(np.array(q1lexemes))"
      ],
      "metadata": {
        "id": "UHzia6W8qb1H"
      },
      "execution_count": null,
      "outputs": []
    },
    {
      "cell_type": "code",
      "source": [
        "q1lexemecoo.size/1000000"
      ],
      "metadata": {
        "colab": {
          "base_uri": "https://localhost:8080/"
        },
        "id": "AAo8vKxMtfO4",
        "outputId": "5bd98ed4-1ab6-479e-9934-63b09a03fbe0"
      },
      "execution_count": null,
      "outputs": [
        {
          "output_type": "execute_result",
          "data": {
            "text/plain": [
              "0.151624"
            ]
          },
          "metadata": {},
          "execution_count": 73
        }
      ]
    },
    {
      "cell_type": "markdown",
      "source": [
        "Failed attempt at row-wise concatenation:"
      ],
      "metadata": {
        "id": "Ui1ZeYhetism"
      }
    },
    {
      "cell_type": "code",
      "source": [
        "#Very sparse matrix. now we will index a row.\n",
        "#q1lexemecoo.getrow(0)\n",
        "\n",
        "#Will go row_wise in lexeme_map, and get the row from the indices, and concatenate. \n",
        "# from scipy.sparse import hstack\n",
        "\n",
        "# lexemes_coo  = q1lexemecoo.getrow(lexeme_map.iloc[0,1])\n",
        "\n",
        "# for i,row in lexeme_map.tail(-1).iterrows():\n",
        "#   if i%1000 == 0:\n",
        "#     print(i,' rows done',end='\\r')\n",
        "#   lexemes_coo = hstack((lexemes_coo,q1lexemecoo.getrow(row['index'])))\n",
        "# lexemes_coo.shape"
      ],
      "metadata": {
        "colab": {
          "base_uri": "https://localhost:8080/"
        },
        "id": "5sdTxHRPtlNL",
        "outputId": "49418e30-70fa-482a-aefd-dba6865d44a6"
      },
      "execution_count": null,
      "outputs": [
        {
          "output_type": "execute_result",
          "data": {
            "text/plain": [
              "<1x2291 sparse matrix of type '<class 'numpy.float64'>'\n",
              "\twith 9 stored elements in Compressed Sparse Row format>"
            ]
          },
          "metadata": {},
          "execution_count": 56
        }
      ]
    },
    {
      "cell_type": "markdown",
      "source": [
        "Converting to dictionary of keys"
      ],
      "metadata": {
        "id": "hwRHPxIxupK3"
      }
    },
    {
      "cell_type": "code",
      "source": [
        "q1lexemecoo_dok = q1lexemecoo.todok(copy=True)"
      ],
      "metadata": {
        "id": "iKw91dghuOpV"
      },
      "execution_count": null,
      "outputs": []
    },
    {
      "cell_type": "markdown",
      "source": [
        "Let's look at the first 10 values of the ductionary. "
      ],
      "metadata": {
        "id": "NICeXVcPjR8L"
      }
    },
    {
      "cell_type": "code",
      "source": [
        "list(q1lexemecoo_dok.items())[0:10]"
      ],
      "metadata": {
        "colab": {
          "base_uri": "https://localhost:8080/"
        },
        "id": "F-_jleApidDq",
        "outputId": "e153b5f3-5e0d-4e96-d0f0-88cc1e2fbe29"
      },
      "execution_count": null,
      "outputs": [
        {
          "output_type": "execute_result",
          "data": {
            "text/plain": [
              "[((0, 0), 7.0),\n",
              " ((0, 1), 4.0),\n",
              " ((0, 87), 1.0),\n",
              " ((0, 141), 0.35263237459267294),\n",
              " ((0, 144), 0.4122115155582215),\n",
              " ((0, 275), 0.28469397919105377),\n",
              " ((0, 276), 0.3929244102341387),\n",
              " ((0, 1027), 0.32488787493717813),\n",
              " ((0, 2280), 1.0),\n",
              " ((1, 0), 20.0)]"
            ]
          },
          "metadata": {},
          "execution_count": 75
        }
      ]
    },
    {
      "cell_type": "markdown",
      "source": [
        "We can return the first row as: "
      ],
      "metadata": {
        "id": "VgIdRu5UjqAz"
      }
    },
    {
      "cell_type": "code",
      "source": [
        "list(q1lexemecoo_dok[0].items())"
      ],
      "metadata": {
        "colab": {
          "base_uri": "https://localhost:8080/"
        },
        "id": "Y0CGPZ1kjboy",
        "outputId": "9c86f37b-0ab3-43af-f6df-5939256c1bb2"
      },
      "execution_count": null,
      "outputs": [
        {
          "output_type": "execute_result",
          "data": {
            "text/plain": [
              "[((0, 0), 7.0),\n",
              " ((0, 1), 4.0),\n",
              " ((0, 87), 1.0),\n",
              " ((0, 141), 0.35263237459267294),\n",
              " ((0, 144), 0.4122115155582215),\n",
              " ((0, 275), 0.28469397919105377),\n",
              " ((0, 276), 0.3929244102341387),\n",
              " ((0, 1027), 0.32488787493717813),\n",
              " ((0, 2280), 1.0)]"
            ]
          },
          "metadata": {},
          "execution_count": 84
        }
      ]
    },
    {
      "cell_type": "markdown",
      "source": [
        "We can create a new coo matrix from a dictionary of keys we defined."
      ],
      "metadata": {
        "id": "YW7aHgUOmNOa"
      }
    },
    {
      "cell_type": "code",
      "source": [
        "keyvals = [(key,val) for (key,val) in q1lexemecoo_dok[0].items()]\n",
        "vals = [val for (key,val) in keyvals]\n",
        "rows = [key[0] for (key,val) in keyvals]\n",
        "cols = [key[1] for (key,val) in keyvals]\n",
        "\n",
        "coo = coo_matrix((vals, (rows, cols)))\n",
        "\n",
        "spmatrix = coo.toarray()\n",
        "spmatrix"
      ],
      "metadata": {
        "colab": {
          "base_uri": "https://localhost:8080/"
        },
        "id": "GVfJo5wXmLMR",
        "outputId": "a6f898ac-828a-4506-da1c-69ad5b763828"
      },
      "execution_count": null,
      "outputs": [
        {
          "output_type": "execute_result",
          "data": {
            "text/plain": [
              "array([[7., 4., 0., ..., 0., 0., 1.]])"
            ]
          },
          "metadata": {},
          "execution_count": 85
        }
      ]
    },
    {
      "cell_type": "markdown",
      "source": [
        "add a row to a dictionary, with the row number updated with the main dataframe row. "
      ],
      "metadata": {
        "id": "myTK73TKHJ5A"
      }
    },
    {
      "cell_type": "code",
      "source": [
        "vals = []\n",
        "rows = []\n",
        "cols = []\n",
        "\n",
        "count = 0\n",
        "for i in lexeme_map['index']:\n",
        "  if count%1000 == 0:\n",
        "    print(count,\" rows done\")\n",
        "  keyvals = [(key,val) for (key,val) in q1lexemecoo_dok[i].items()]\n",
        "  vals = vals + [val for (key,val) in keyvals]\n",
        "  cols = cols + [key[1] for (key,val) in keyvals]\n",
        "  rows = rows + [i]*len(keyvals)\n",
        "  count +=1 "
      ],
      "metadata": {
        "colab": {
          "base_uri": "https://localhost:8080/",
          "height": 1000
        },
        "id": "WZIwcFLpHQta",
        "outputId": "48439ecf-10fe-4024-b1d6-79459dca741a"
      },
      "execution_count": null,
      "outputs": [
        {
          "output_type": "stream",
          "name": "stdout",
          "text": [
            "0  rows done\n",
            "1000  rows done\n",
            "2000  rows done\n",
            "3000  rows done\n",
            "4000  rows done\n",
            "5000  rows done\n",
            "6000  rows done\n",
            "7000  rows done\n",
            "8000  rows done\n",
            "9000  rows done\n",
            "10000  rows done\n",
            "11000  rows done\n",
            "12000  rows done\n",
            "13000  rows done\n",
            "14000  rows done\n",
            "15000  rows done\n",
            "16000  rows done\n",
            "17000  rows done\n",
            "18000  rows done\n",
            "19000  rows done\n",
            "20000  rows done\n",
            "21000  rows done\n",
            "22000  rows done\n",
            "23000  rows done\n",
            "24000  rows done\n",
            "25000  rows done\n",
            "26000  rows done\n",
            "27000  rows done\n",
            "28000  rows done\n",
            "29000  rows done\n",
            "30000  rows done\n",
            "31000  rows done\n",
            "32000  rows done\n",
            "33000  rows done\n",
            "34000  rows done\n",
            "35000  rows done\n",
            "36000  rows done\n",
            "37000  rows done\n",
            "38000  rows done\n",
            "39000  rows done\n",
            "40000  rows done\n"
          ]
        },
        {
          "output_type": "error",
          "ename": "KeyboardInterrupt",
          "evalue": "ignored",
          "traceback": [
            "\u001b[0;31m---------------------------------------------------------------------------\u001b[0m",
            "\u001b[0;31mKeyboardInterrupt\u001b[0m                         Traceback (most recent call last)",
            "\u001b[0;32m<ipython-input-94-44164cbd924b>\u001b[0m in \u001b[0;36m<module>\u001b[0;34m()\u001b[0m\n\u001b[1;32m      9\u001b[0m   \u001b[0mkeyvals\u001b[0m \u001b[0;34m=\u001b[0m \u001b[0;34m[\u001b[0m\u001b[0;34m(\u001b[0m\u001b[0mkey\u001b[0m\u001b[0;34m,\u001b[0m\u001b[0mval\u001b[0m\u001b[0;34m)\u001b[0m \u001b[0;32mfor\u001b[0m \u001b[0;34m(\u001b[0m\u001b[0mkey\u001b[0m\u001b[0;34m,\u001b[0m\u001b[0mval\u001b[0m\u001b[0;34m)\u001b[0m \u001b[0;32min\u001b[0m \u001b[0mq1lexemecoo_dok\u001b[0m\u001b[0;34m[\u001b[0m\u001b[0mi\u001b[0m\u001b[0;34m]\u001b[0m\u001b[0;34m.\u001b[0m\u001b[0mitems\u001b[0m\u001b[0;34m(\u001b[0m\u001b[0;34m)\u001b[0m\u001b[0;34m]\u001b[0m\u001b[0;34m\u001b[0m\u001b[0;34m\u001b[0m\u001b[0m\n\u001b[1;32m     10\u001b[0m   \u001b[0mvals\u001b[0m \u001b[0;34m=\u001b[0m \u001b[0mvals\u001b[0m \u001b[0;34m+\u001b[0m \u001b[0;34m[\u001b[0m\u001b[0mval\u001b[0m \u001b[0;32mfor\u001b[0m \u001b[0;34m(\u001b[0m\u001b[0mkey\u001b[0m\u001b[0;34m,\u001b[0m\u001b[0mval\u001b[0m\u001b[0;34m)\u001b[0m \u001b[0;32min\u001b[0m \u001b[0mkeyvals\u001b[0m\u001b[0;34m]\u001b[0m\u001b[0;34m\u001b[0m\u001b[0;34m\u001b[0m\u001b[0m\n\u001b[0;32m---> 11\u001b[0;31m   \u001b[0mcols\u001b[0m \u001b[0;34m=\u001b[0m \u001b[0mcols\u001b[0m \u001b[0;34m+\u001b[0m \u001b[0;34m[\u001b[0m\u001b[0mkey\u001b[0m\u001b[0;34m[\u001b[0m\u001b[0;36m1\u001b[0m\u001b[0;34m]\u001b[0m \u001b[0;32mfor\u001b[0m \u001b[0;34m(\u001b[0m\u001b[0mkey\u001b[0m\u001b[0;34m,\u001b[0m\u001b[0mval\u001b[0m\u001b[0;34m)\u001b[0m \u001b[0;32min\u001b[0m \u001b[0mkeyvals\u001b[0m\u001b[0;34m]\u001b[0m\u001b[0;34m\u001b[0m\u001b[0;34m\u001b[0m\u001b[0m\n\u001b[0m\u001b[1;32m     12\u001b[0m   \u001b[0mrows\u001b[0m \u001b[0;34m=\u001b[0m \u001b[0mrows\u001b[0m \u001b[0;34m+\u001b[0m \u001b[0;34m[\u001b[0m\u001b[0mi\u001b[0m\u001b[0;34m]\u001b[0m\u001b[0;34m*\u001b[0m\u001b[0mlen\u001b[0m\u001b[0;34m(\u001b[0m\u001b[0mkeyvals\u001b[0m\u001b[0;34m)\u001b[0m\u001b[0;34m\u001b[0m\u001b[0;34m\u001b[0m\u001b[0m\n\u001b[1;32m     13\u001b[0m   \u001b[0mcount\u001b[0m \u001b[0;34m+=\u001b[0m\u001b[0;36m1\u001b[0m\u001b[0;34m\u001b[0m\u001b[0;34m\u001b[0m\u001b[0m\n",
            "\u001b[0;31mKeyboardInterrupt\u001b[0m: "
          ]
        }
      ]
    },
    {
      "cell_type": "markdown",
      "source": [
        "We can construct the dictionary so that we use the 'index' column in the main dataframe change the row numbers to match the row of the main dataframe. \n",
        "\n",
        "The pseudocode is below:\n",
        "\n",
        "initialize a dictionary that will be the sparse matrix:\n",
        "word_features = dict()\n",
        "\n",
        "For each row in the lexemes dataframe:<br>\n",
        "  >indexnumbers = Get the rows of the main dataframe with that word from the 'index' column<br>\n",
        "  >for each number in indexnumbers:<br>\n",
        "  >>copy the row of q1lexemes, and change the row number to be same as main dataframe row. \n",
        "    \n",
        "Convert the dictionary to a sparse matrix. "
      ],
      "metadata": {
        "id": "nwwU3VSoj2IH"
      }
    },
    {
      "cell_type": "code",
      "source": [
        ""
      ],
      "metadata": {
        "id": "i7KqUDsIj1s-"
      },
      "execution_count": null,
      "outputs": []
    },
    {
      "cell_type": "code",
      "source": [
        ""
      ],
      "metadata": {
        "id": "z9b3IOHSjyqF"
      },
      "execution_count": null,
      "outputs": []
    },
    {
      "cell_type": "markdown",
      "source": [
        "Another alternative is to get counts of p_forgot_bin and number of sessions for each word, and model just the word features. this is another possibility for reducing size: feature selection. \n",
        "\n",
        "Pseudocode:\n",
        "transform delta for finer granularity, and get bins, \n",
        "groupby the lexeme_id, and bins and get p_forgot counts for 1 and 0. also num students for each delta? and total? should we also get bin by history correct/ history and group by both delta and fraction history correct? \n",
        "\n",
        "table:\n",
        "lexeme id, lexeme id features, p_forgot_1_counts list, p_forgot_0_counts list, delta_bins_list, history_frac_list "
      ],
      "metadata": {
        "id": "a3BHaeLvneWO"
      }
    },
    {
      "cell_type": "code",
      "source": [
        ""
      ],
      "metadata": {
        "id": "O0Vjq8g_nT6h"
      },
      "execution_count": null,
      "outputs": []
    }
  ]
}