{
  "nbformat": 4,
  "nbformat_minor": 0,
  "metadata": {
    "colab": {
      "name": "4_SplittingDatasets_Duolingo_spaced_repetition.ipynb",
      "provenance": [],
      "authorship_tag": "ABX9TyOLB/Zfi4lOGy9IXtENuCbT",
      "include_colab_link": true
    },
    "kernelspec": {
      "name": "python3",
      "display_name": "Python 3"
    },
    "language_info": {
      "name": "python"
    }
  },
  "cells": [
    {
      "cell_type": "markdown",
      "metadata": {
        "id": "view-in-github",
        "colab_type": "text"
      },
      "source": [
        "<a href=\"https://colab.research.google.com/github/rts1988/Duolingo_spaced_repetition/blob/main/4_SplittingDatasets_Duolingo_spaced_repetition.ipynb\" target=\"_parent\"><img src=\"https://colab.research.google.com/assets/colab-badge.svg\" alt=\"Open In Colab\"/></a>"
      ]
    },
    {
      "cell_type": "markdown",
      "source": [
        "<font color = 'cornflowerblue' size=4>Dataset splitting plan</font>\n",
        "\n",
        "Previous notebooks covers data acquisition, deriving word and student based features, and in-depth EDA to understand how eah factor affects whether a word is forgotten in a review session.\n",
        "\n",
        "To tackle the three questions asked in this project (listed below), the whole dataset is now split into 4 parts. \n",
        "\n"
      ],
      "metadata": {
        "id": "hg92T939Rfe0"
      }
    },
    {
      "cell_type": "markdown",
      "source": [
        "To answer the following questions in order.\n",
        "\n",
        "Q1) What makes words difficult or easy for a student to remember?\n",
        "\n",
        "- The training set for Q1 is a closed set of some words and some students\n",
        "- The test set for Q1 should consist of words not seen in the training data, but no new students.\n",
        "\n",
        "Q2) What learning habits increase a student's retention?\n",
        "\n",
        "- The training set for Q2 is a closed set of students, including all words from Q1 test and train. \n",
        "- The test set for Q2 should consist of students not seen in the training data\n",
        "\n",
        "Q3) The cold-start problem: Duolingo is always adding new language courses, might good predictions based on learnings from Q1 and Q2 be possible for a NEW LANGUAGE?\n",
        "\n",
        "- The test set for Q3 should consist of languages not seen in the training data, and may include new students, and will of course be made up of new words. \n",
        "\n",
        "The dataset will be split in the following manner (refer to image below)\n",
        "INSERT HERE\n",
        "\n",
        "\n",
        "Splitting the dataset will be done in reverse order:\n",
        "\n",
        "1. first split - for Q3 testing - keep two languages aside for cold-start testing in Q3\n",
        "2. second split -for Q2 testing -  keep some unseen students aside for testing on seen words. (10%). include some regular and irregular students.\n",
        "3. third split - for Q1 testing - keep some unseen words aside for testing on a closed set of  students. include some words that are sporadically practiced, and some heavily practiced (20%).\n",
        "4. the rest. - for Q1 training -student word pairings left for Q1 training.   \n",
        "\n",
        "Loading data:"
      ],
      "metadata": {
        "id": "eQnIq1TQbwFu"
      }
    },
    {
      "cell_type": "code",
      "execution_count": 1,
      "metadata": {
        "colab": {
          "base_uri": "https://localhost:8080/"
        },
        "id": "xa4bH5j6Hd6M",
        "outputId": "4ad044ae-b971-4803-c93c-cd9f2c735a79"
      },
      "outputs": [
        {
          "output_type": "stream",
          "name": "stdout",
          "text": [
            "Mounted at /content/drive\n"
          ]
        }
      ],
      "source": [
        "import bz2\n",
        "import pickle\n",
        "import _pickle as cPickle\n",
        "import pandas as pd\n",
        "import seaborn as sns\n",
        "import matplotlib.pyplot as plt\n",
        "import numpy as np\n",
        "\n",
        "from google.colab import drive\n",
        "drive.mount('/content/drive')\n",
        "\n",
        "def decompress_pickle(file):\n",
        " data = bz2.BZ2File(file, 'rb')\n",
        " data = cPickle.load(data)\n",
        " return data\n",
        "\n",
        "def compressed_pickle(title, data):  # do not add extension in filename\n",
        " with bz2.BZ2File(title + '.pbz2', 'w') as f: \n",
        "  cPickle.dump(data, f)\n",
        "\n",
        "path_name = '/content/drive/MyDrive/'"
      ]
    },
    {
      "cell_type": "code",
      "source": [
        "# Downloading the dataframe created and saved in notebook title: INSERT HERE\n",
        "datadf = decompress_pickle(path_name+\"Duolingo_pforgotbin.pbz2\") "
      ],
      "metadata": {
        "id": "mKk5XDNax0fS"
      },
      "execution_count": 2,
      "outputs": []
    },
    {
      "cell_type": "code",
      "source": [
        "datadf.shape"
      ],
      "metadata": {
        "colab": {
          "base_uri": "https://localhost:8080/"
        },
        "id": "Ua4Nw-X-WQuo",
        "outputId": "8d523f44-4530-472f-a878-45b94ad04339"
      },
      "execution_count": 3,
      "outputs": [
        {
          "output_type": "execute_result",
          "data": {
            "text/plain": [
              "(12854145, 16)"
            ]
          },
          "metadata": {},
          "execution_count": 3
        }
      ]
    },
    {
      "cell_type": "markdown",
      "source": [
        "## <font color = 'cornflowerblue' size=4>Splitting Q3 - unseen languages</font>\n",
        "\n",
        "Which languages are being learnt and by native speakers of which language?"
      ],
      "metadata": {
        "id": "7gq5otny2ogx"
      }
    },
    {
      "cell_type": "code",
      "source": [
        "pd.crosstab(datadf['ui_language'],datadf['learning_language'])"
      ],
      "metadata": {
        "colab": {
          "base_uri": "https://localhost:8080/",
          "height": 206
        },
        "id": "sUyPS5SYU3Ku",
        "outputId": "6ee3eb80-22cb-469d-fdc6-1f52e781cdec"
      },
      "execution_count": 4,
      "outputs": [
        {
          "output_type": "execute_result",
          "data": {
            "text/plain": [
              "learning_language       de       en       es       fr      it      pt\n",
              "ui_language                                                          \n",
              "en                 1452597        0  3407654  1873716  793919  311480\n",
              "es                       0  3641167        0        0       0       0\n",
              "it                       0   424152        0        0       0       0\n",
              "pt                       0   949460        0        0       0       0"
            ],
            "text/html": [
              "\n",
              "  <div id=\"df-6cf68f6a-0b69-470d-a11c-ad5bab37dbd2\">\n",
              "    <div class=\"colab-df-container\">\n",
              "      <div>\n",
              "<style scoped>\n",
              "    .dataframe tbody tr th:only-of-type {\n",
              "        vertical-align: middle;\n",
              "    }\n",
              "\n",
              "    .dataframe tbody tr th {\n",
              "        vertical-align: top;\n",
              "    }\n",
              "\n",
              "    .dataframe thead th {\n",
              "        text-align: right;\n",
              "    }\n",
              "</style>\n",
              "<table border=\"1\" class=\"dataframe\">\n",
              "  <thead>\n",
              "    <tr style=\"text-align: right;\">\n",
              "      <th>learning_language</th>\n",
              "      <th>de</th>\n",
              "      <th>en</th>\n",
              "      <th>es</th>\n",
              "      <th>fr</th>\n",
              "      <th>it</th>\n",
              "      <th>pt</th>\n",
              "    </tr>\n",
              "    <tr>\n",
              "      <th>ui_language</th>\n",
              "      <th></th>\n",
              "      <th></th>\n",
              "      <th></th>\n",
              "      <th></th>\n",
              "      <th></th>\n",
              "      <th></th>\n",
              "    </tr>\n",
              "  </thead>\n",
              "  <tbody>\n",
              "    <tr>\n",
              "      <th>en</th>\n",
              "      <td>1452597</td>\n",
              "      <td>0</td>\n",
              "      <td>3407654</td>\n",
              "      <td>1873716</td>\n",
              "      <td>793919</td>\n",
              "      <td>311480</td>\n",
              "    </tr>\n",
              "    <tr>\n",
              "      <th>es</th>\n",
              "      <td>0</td>\n",
              "      <td>3641167</td>\n",
              "      <td>0</td>\n",
              "      <td>0</td>\n",
              "      <td>0</td>\n",
              "      <td>0</td>\n",
              "    </tr>\n",
              "    <tr>\n",
              "      <th>it</th>\n",
              "      <td>0</td>\n",
              "      <td>424152</td>\n",
              "      <td>0</td>\n",
              "      <td>0</td>\n",
              "      <td>0</td>\n",
              "      <td>0</td>\n",
              "    </tr>\n",
              "    <tr>\n",
              "      <th>pt</th>\n",
              "      <td>0</td>\n",
              "      <td>949460</td>\n",
              "      <td>0</td>\n",
              "      <td>0</td>\n",
              "      <td>0</td>\n",
              "      <td>0</td>\n",
              "    </tr>\n",
              "  </tbody>\n",
              "</table>\n",
              "</div>\n",
              "      <button class=\"colab-df-convert\" onclick=\"convertToInteractive('df-6cf68f6a-0b69-470d-a11c-ad5bab37dbd2')\"\n",
              "              title=\"Convert this dataframe to an interactive table.\"\n",
              "              style=\"display:none;\">\n",
              "        \n",
              "  <svg xmlns=\"http://www.w3.org/2000/svg\" height=\"24px\"viewBox=\"0 0 24 24\"\n",
              "       width=\"24px\">\n",
              "    <path d=\"M0 0h24v24H0V0z\" fill=\"none\"/>\n",
              "    <path d=\"M18.56 5.44l.94 2.06.94-2.06 2.06-.94-2.06-.94-.94-2.06-.94 2.06-2.06.94zm-11 1L8.5 8.5l.94-2.06 2.06-.94-2.06-.94L8.5 2.5l-.94 2.06-2.06.94zm10 10l.94 2.06.94-2.06 2.06-.94-2.06-.94-.94-2.06-.94 2.06-2.06.94z\"/><path d=\"M17.41 7.96l-1.37-1.37c-.4-.4-.92-.59-1.43-.59-.52 0-1.04.2-1.43.59L10.3 9.45l-7.72 7.72c-.78.78-.78 2.05 0 2.83L4 21.41c.39.39.9.59 1.41.59.51 0 1.02-.2 1.41-.59l7.78-7.78 2.81-2.81c.8-.78.8-2.07 0-2.86zM5.41 20L4 18.59l7.72-7.72 1.47 1.35L5.41 20z\"/>\n",
              "  </svg>\n",
              "      </button>\n",
              "      \n",
              "  <style>\n",
              "    .colab-df-container {\n",
              "      display:flex;\n",
              "      flex-wrap:wrap;\n",
              "      gap: 12px;\n",
              "    }\n",
              "\n",
              "    .colab-df-convert {\n",
              "      background-color: #E8F0FE;\n",
              "      border: none;\n",
              "      border-radius: 50%;\n",
              "      cursor: pointer;\n",
              "      display: none;\n",
              "      fill: #1967D2;\n",
              "      height: 32px;\n",
              "      padding: 0 0 0 0;\n",
              "      width: 32px;\n",
              "    }\n",
              "\n",
              "    .colab-df-convert:hover {\n",
              "      background-color: #E2EBFA;\n",
              "      box-shadow: 0px 1px 2px rgba(60, 64, 67, 0.3), 0px 1px 3px 1px rgba(60, 64, 67, 0.15);\n",
              "      fill: #174EA6;\n",
              "    }\n",
              "\n",
              "    [theme=dark] .colab-df-convert {\n",
              "      background-color: #3B4455;\n",
              "      fill: #D2E3FC;\n",
              "    }\n",
              "\n",
              "    [theme=dark] .colab-df-convert:hover {\n",
              "      background-color: #434B5C;\n",
              "      box-shadow: 0px 1px 3px 1px rgba(0, 0, 0, 0.15);\n",
              "      filter: drop-shadow(0px 1px 2px rgba(0, 0, 0, 0.3));\n",
              "      fill: #FFFFFF;\n",
              "    }\n",
              "  </style>\n",
              "\n",
              "      <script>\n",
              "        const buttonEl =\n",
              "          document.querySelector('#df-6cf68f6a-0b69-470d-a11c-ad5bab37dbd2 button.colab-df-convert');\n",
              "        buttonEl.style.display =\n",
              "          google.colab.kernel.accessAllowed ? 'block' : 'none';\n",
              "\n",
              "        async function convertToInteractive(key) {\n",
              "          const element = document.querySelector('#df-6cf68f6a-0b69-470d-a11c-ad5bab37dbd2');\n",
              "          const dataTable =\n",
              "            await google.colab.kernel.invokeFunction('convertToInteractive',\n",
              "                                                     [key], {});\n",
              "          if (!dataTable) return;\n",
              "\n",
              "          const docLinkHtml = 'Like what you see? Visit the ' +\n",
              "            '<a target=\"_blank\" href=https://colab.research.google.com/notebooks/data_table.ipynb>data table notebook</a>'\n",
              "            + ' to learn more about interactive tables.';\n",
              "          element.innerHTML = '';\n",
              "          dataTable['output_type'] = 'display_data';\n",
              "          await google.colab.output.renderOutput(dataTable, element);\n",
              "          const docLink = document.createElement('div');\n",
              "          docLink.innerHTML = docLinkHtml;\n",
              "          element.appendChild(docLink);\n",
              "        }\n",
              "      </script>\n",
              "    </div>\n",
              "  </div>\n",
              "  "
            ]
          },
          "metadata": {},
          "execution_count": 4
        }
      ]
    },
    {
      "cell_type": "markdown",
      "source": [
        "Lexical similarity - similarity of vocabulary, structure of sentences etc. \n",
        "\n",
        "English and German have a 60% lexical similarity, while English to Spanish is around 30% similar. On the other hand, the other languages are all fairly similar - French and Italian have 89% lexical similarity, Spanish and Portuguese are 89% similar, French and Portugese are 75% similar. So we need to split one language that is somewhat similar to the others, and one that is somewhat different, to see how learning one language's words can transfer to another when lexical similarities are low and high. \n",
        "\n",
        "The following lexical similarity values were taken from Wikipedia.\n",
        "\n",
        "|    \t| en      \t| de   \t| fr   \t| es   \t| it \t| pt \t|\n",
        "|----\t|---------\t|------\t|------\t|------\t|----\t|----\t|\n",
        "| en \t| 1       \t|      \t|      \t|      \t|    \t|    \t|\n",
        "| de \t| 0.6     \t| 1    \t|      \t|      \t|    \t|    \t|\n",
        "| fr \t| 0.27    \t| 0.29 \t| 1    \t|      \t|    \t|    \t|\n",
        "| es \t| ~   0.3 \t|      \t| 0.75 \t| 1    \t|    \t|    \t|\n",
        "| it \t| ~   0.3 \t|      \t| 0.89 \t| 0.82 \t| 1  \t|    \t|\n",
        "| pt \t| ~   0.3 \t|      \t| 0.75 \t| 0.89 \t|    \t| 1  \t|\n",
        "\n",
        "For an example of a language not sharing too many words with the training set - keeping aside English to German.\n",
        "\n",
        "Then we can keep aside one that is similar to the native languages - setting aside Italian to English."
      ],
      "metadata": {
        "id": "yjG1g1BFWZEo"
      }
    },
    {
      "cell_type": "code",
      "source": [
        "# separating out English to German:\n",
        "coldstart_entode_df = datadf.loc[(datadf['learning_language']=='de') & (datadf['ui_language']=='en'),:]\n",
        "coldstart_entode_df.shape"
      ],
      "metadata": {
        "colab": {
          "base_uri": "https://localhost:8080/"
        },
        "id": "HbaDBTznVoTL",
        "outputId": "1576a3ad-240f-44d8-c8de-5d89ae839b5a"
      },
      "execution_count": 5,
      "outputs": [
        {
          "output_type": "execute_result",
          "data": {
            "text/plain": [
              "(1452597, 16)"
            ]
          },
          "metadata": {},
          "execution_count": 5
        }
      ]
    },
    {
      "cell_type": "markdown",
      "source": [
        "The shape matches the number in the languages cross tab above. We will save this as a separate file."
      ],
      "metadata": {
        "id": "E7u94kOf3jiP"
      }
    },
    {
      "cell_type": "markdown",
      "source": [
        "Saving English (en) to German (de) as a separate test set."
      ],
      "metadata": {
        "id": "vjRYDITgV7cL"
      }
    },
    {
      "cell_type": "code",
      "source": [
        "# coldstart_entode_df.to_csv(\"Coldstart_testset_entode.csv\")\n",
        "# from google.colab import files\n",
        "# files.download(\"Coldstart_testset_entode.csv\")\n",
        "compressed_pickle(path_name+\"Q3TEST_en_to_de\",coldstart_entode_df)"
      ],
      "metadata": {
        "id": "7lkVs4o_V2yH"
      },
      "execution_count": 7,
      "outputs": []
    },
    {
      "cell_type": "markdown",
      "source": [
        "Now we can delete it from the current set"
      ],
      "metadata": {
        "id": "KGJ09YgaV-ZL"
      }
    },
    {
      "cell_type": "code",
      "source": [
        "datadf = datadf.drop(coldstart_entode_df.index)"
      ],
      "metadata": {
        "id": "EFXOlPhoWBVL"
      },
      "execution_count": 8,
      "outputs": []
    },
    {
      "cell_type": "markdown",
      "source": [
        "Next we separate out Italian to English. "
      ],
      "metadata": {
        "id": "NDKR1B0R4OyW"
      }
    },
    {
      "cell_type": "code",
      "source": [
        "coldstart_ittoen_df = datadf.loc[(datadf['learning_language']=='en') & (datadf['ui_language']=='it'),:]"
      ],
      "metadata": {
        "id": "A3ebWXz7WJI8"
      },
      "execution_count": 9,
      "outputs": []
    },
    {
      "cell_type": "code",
      "source": [
        "coldstart_ittoen_df.shape"
      ],
      "metadata": {
        "id": "soETZVPCWyj0",
        "colab": {
          "base_uri": "https://localhost:8080/"
        },
        "outputId": "34486ff6-5963-4afd-f910-38cb92b0544b"
      },
      "execution_count": 10,
      "outputs": [
        {
          "output_type": "execute_result",
          "data": {
            "text/plain": [
              "(424152, 16)"
            ]
          },
          "metadata": {},
          "execution_count": 10
        }
      ]
    },
    {
      "cell_type": "markdown",
      "source": [
        "The shape matches the number in the cross tab above. Now we save this as a separate test file, and delete those rows. "
      ],
      "metadata": {
        "id": "vRrElWaC6f6P"
      }
    },
    {
      "cell_type": "code",
      "source": [
        "compressed_pickle(path_name+\"Q3TEST_it_to_en\",coldstart_ittoen_df)"
      ],
      "metadata": {
        "id": "zBjs4tAP669_"
      },
      "execution_count": 11,
      "outputs": []
    },
    {
      "cell_type": "markdown",
      "source": [
        "The indices of Italian to English are deleted. "
      ],
      "metadata": {
        "id": "Ez6g3oVzjgpO"
      }
    },
    {
      "cell_type": "code",
      "source": [
        "datadf = datadf.drop(coldstart_ittoen_df.index)"
      ],
      "metadata": {
        "id": "Cuu33szg7cpD"
      },
      "execution_count": 12,
      "outputs": []
    },
    {
      "cell_type": "code",
      "source": [
        "datadf.shape"
      ],
      "metadata": {
        "colab": {
          "base_uri": "https://localhost:8080/"
        },
        "id": "33mWeLX87j0A",
        "outputId": "1b7fcaee-705e-4ff8-86c0-8917c885aca6"
      },
      "execution_count": 13,
      "outputs": [
        {
          "output_type": "execute_result",
          "data": {
            "text/plain": [
              "(10977396, 16)"
            ]
          },
          "metadata": {},
          "execution_count": 13
        }
      ]
    },
    {
      "cell_type": "markdown",
      "source": [
        "Checking that the split dimensions add up:"
      ],
      "metadata": {
        "id": "gB2hqjEyjr65"
      }
    },
    {
      "cell_type": "code",
      "source": [
        "datadf.shape[0] + coldstart_ittoen_df.shape[0] + coldstart_entode_df.shape[0]"
      ],
      "metadata": {
        "colab": {
          "base_uri": "https://localhost:8080/"
        },
        "id": "pqqDQZkw7nN1",
        "outputId": "1bdffdef-6493-4a8f-d787-cf27e2b936c6"
      },
      "execution_count": 14,
      "outputs": [
        {
          "output_type": "execute_result",
          "data": {
            "text/plain": [
              "12854145"
            ]
          },
          "metadata": {},
          "execution_count": 14
        }
      ]
    },
    {
      "cell_type": "markdown",
      "source": [
        "The dimensions add up to the shape of the original dataframe. The remainder will be the training set for the cold start question. \n",
        "\n",
        "Q3 TRAIN: 10977396\n",
        "Q3 TEST EN_TO_DE : 1452597\n",
        "Q3 TEST IT_TO_EN : "
      ],
      "metadata": {
        "id": "Ux5OgQ_v8G2u"
      }
    },
    {
      "cell_type": "code",
      "source": [
        "compressed_pickle(path_name+\"Q3TRAIN\",datadf)"
      ],
      "metadata": {
        "id": "v01gyI_4j1wk"
      },
      "execution_count": 16,
      "outputs": []
    },
    {
      "cell_type": "markdown",
      "source": [
        "The Q3 test sets are no longer needed for splitting, so they are deleted:"
      ],
      "metadata": {
        "id": "lfiW-Ue7-1E7"
      }
    },
    {
      "cell_type": "code",
      "source": [
        "del coldstart_ittoen_df, coldstart_entode_df"
      ],
      "metadata": {
        "id": "y12TCxOi-3jJ"
      },
      "execution_count": 17,
      "outputs": []
    },
    {
      "cell_type": "markdown",
      "source": [
        "## <font color = 'cornflowerblue' size=4>Splitting for Q2 - unseen students</font>"
      ],
      "metadata": {
        "id": "_EgcPzPAk4am"
      }
    },
    {
      "cell_type": "code",
      "source": [
        ""
      ],
      "metadata": {
        "id": "AtVUxT94lIV0"
      },
      "execution_count": null,
      "outputs": []
    },
    {
      "cell_type": "code",
      "source": [
        ""
      ],
      "metadata": {
        "id": "Hgl6ORcKlIQg"
      },
      "execution_count": null,
      "outputs": []
    },
    {
      "cell_type": "markdown",
      "source": [
        ""
      ],
      "metadata": {
        "id": "Ry2dpOzAk4Xm"
      }
    },
    {
      "cell_type": "markdown",
      "source": [
        ""
      ],
      "metadata": {
        "id": "4BWmRhT9k4T2"
      }
    },
    {
      "cell_type": "markdown",
      "source": [
        ""
      ],
      "metadata": {
        "id": "Z7BvgWBUk4Q0"
      }
    },
    {
      "cell_type": "markdown",
      "source": [
        ""
      ],
      "metadata": {
        "id": "b0uwhnRsk4Gb"
      }
    },
    {
      "cell_type": "markdown",
      "source": [
        "INSERT HERE: modify image to add one more slab, and black out Q3, Q3 and Q2, and so on. "
      ],
      "metadata": {
        "id": "mLjXmTFMilI8"
      }
    },
    {
      "cell_type": "markdown",
      "source": [
        "![image.png](data:image/png;base64,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)"
      ],
      "metadata": {
        "id": "103uFQ86aWYv"
      }
    },
    {
      "cell_type": "markdown",
      "source": [
        ""
      ],
      "metadata": {
        "id": "X30q58fCk2pX"
      }
    },
    {
      "cell_type": "code",
      "source": [
        ""
      ],
      "metadata": {
        "id": "Sl6LsYsbk1bZ"
      },
      "execution_count": null,
      "outputs": []
    }
  ]
}