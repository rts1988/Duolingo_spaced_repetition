{
  "cells": [
    {
      "cell_type": "markdown",
      "metadata": {
        "id": "view-in-github",
        "colab_type": "text"
      },
      "source": [
        "<a href=\"https://colab.research.google.com/github/rts1988/Duolingo_spaced_repetition/blob/main/6_Duolingo_q1lpipe1_MLsplitting_modeling.ipynb\" target=\"_parent\"><img src=\"https://colab.research.google.com/assets/colab-badge.svg\" alt=\"Open In Colab\"/></a>"
      ]
    },
    {
      "cell_type": "markdown",
      "source": [
        "<font color='cornflowerblue' size=4>Introduction</font>\n",
        "\n",
        "Featureset1 for addressing Q1 (what makes a word easy or difficult to remember)with word based features has been preprocessed and converted to a compressed sparse array for modeling.\n",
        "\n",
        "The training set contains around 8 million records with 16% records with forgotten words. Since the dataset is imbalanced, and the dataset is large enough, some downsampling will be done.\n",
        "\n",
        "Plan:\n",
        "\n",
        "1. Split datasets into training and validation with 80-20. \n",
        "2. Downsample training set to equal class proportions.\n",
        "\n",
        "Classical ML models: understanding overall feature importances.\n",
        "Prep: from the downsampled training set, select at most 1 million records, and fit the following models\n",
        "\n",
        "1. Logistic Regression (L2 penalty, vary C and class weight)\n",
        "2. Decision Tree (vary max_depth, class_weight)\n",
        "\n",
        "\n",
        "Ensemble techniques:\n",
        "Prep: Use the full downsampled dataset\n",
        "1. Random Forest (vary n_estimators, )\n",
        "2. XGBoost\n",
        "3. AdaBoost\n",
        "\n",
        "Neural Net (keras)\n",
        "1. Dense architecture\n",
        "2\n"
      ],
      "metadata": {
        "id": "O70b2pW5u66c"
      }
    },
    {
      "cell_type": "markdown",
      "source": [
        "## <font color = 'cornflowerblue' size=4>Splitting trainingset into train and validation sets</font>"
      ],
      "metadata": {
        "id": "Jr38LEKQxR9z"
      }
    },
    {
      "cell_type": "markdown",
      "metadata": {
        "id": "KnpvNDT7lpB6"
      },
      "source": [
        "Importing libraries, mounting google drive, and getting Q1TRAIN pipe1 set. "
      ]
    },
    {
      "cell_type": "code",
      "execution_count": 1,
      "metadata": {
        "colab": {
          "base_uri": "https://localhost:8080/"
        },
        "id": "R-WTApfQPI6o",
        "outputId": "1b17d76c-ab4c-4f3b-81da-16103b001abc"
      },
      "outputs": [
        {
          "output_type": "stream",
          "name": "stdout",
          "text": [
            "Mounted at /content/drive\n"
          ]
        }
      ],
      "source": [
        "import bz2\n",
        "import pickle\n",
        "import _pickle as cPickle\n",
        "import pandas as pd\n",
        "import seaborn as sns\n",
        "import matplotlib.pyplot as plt\n",
        "import numpy as np\n",
        "\n",
        "from google.colab import drive\n",
        "drive.mount('/content/drive')\n",
        "\n",
        "def decompress_pickle(file):\n",
        " data = bz2.BZ2File(file, 'rb')\n",
        " data = cPickle.load(data)\n",
        " return data\n",
        "\n",
        "def compressed_pickle(title, data):  # do not add extension in filename\n",
        " with bz2.BZ2File(title + '.pbz2', 'w') as f: \n",
        "  cPickle.dump(data, f)\n",
        "\n",
        "path_name = '/content/drive/MyDrive/'"
      ]
    },
    {
      "cell_type": "code",
      "execution_count": 2,
      "metadata": {
        "id": "EWDuQfNJPuhp"
      },
      "outputs": [],
      "source": [
        "q1trainXsp = decompress_pickle(path_name+\"q1train_pipe1.pbz2\") "
      ]
    },
    {
      "cell_type": "code",
      "execution_count": 3,
      "metadata": {
        "colab": {
          "base_uri": "https://localhost:8080/"
        },
        "id": "vhl6x5D-PvMh",
        "outputId": "a7049079-8c8d-44ca-abe2-472dfd8f1a02"
      },
      "outputs": [
        {
          "output_type": "execute_result",
          "data": {
            "text/plain": [
              "((8070561, 170), 86.851987)"
            ]
          },
          "metadata": {},
          "execution_count": 3
        }
      ],
      "source": [
        "q1trainXsp.shape, q1trainXsp.size/10**6"
      ]
    },
    {
      "cell_type": "code",
      "source": [
        "q1train_y = decompress_pickle(path_name+\"q1train_y.pbz2\") "
      ],
      "metadata": {
        "id": "bj7cTP1sy-dY"
      },
      "execution_count": 4,
      "outputs": []
    },
    {
      "cell_type": "code",
      "execution_count": 5,
      "metadata": {
        "colab": {
          "base_uri": "https://localhost:8080/"
        },
        "id": "G9QMPnwGmpPT",
        "outputId": "cf961a2c-3ff2-4b5b-fcaa-d6d5a8e45b7c"
      },
      "outputs": [
        {
          "output_type": "execute_result",
          "data": {
            "text/plain": [
              "(scipy.sparse.coo.coo_matrix, pandas.core.series.Series)"
            ]
          },
          "metadata": {},
          "execution_count": 5
        }
      ],
      "source": [
        "type(q1trainXsp), type(q1train_y)"
      ]
    },
    {
      "cell_type": "code",
      "execution_count": null,
      "metadata": {
        "id": "Mzwo-xM9nAQn"
      },
      "outputs": [],
      "source": [
        "from scipy.sparse import coo_matrix"
      ]
    },
    {
      "cell_type": "markdown",
      "source": [
        "## Splitting into training and validation sets 90-10"
      ],
      "metadata": {
        "id": "BV2qGgX0zRQa"
      }
    },
    {
      "cell_type": "markdown",
      "metadata": {
        "id": "xnaMooTbn_2O"
      },
      "source": [
        "splitting into 80-20 training and validation set with a random state = 5. (had to remove stratify argument, because it doesn't work for sparse arrays)"
      ]
    },
    {
      "cell_type": "code",
      "execution_count": 6,
      "metadata": {
        "id": "ZRtwPyivnH9X"
      },
      "outputs": [],
      "source": [
        "from sklearn.model_selection import train_test_split\n",
        "\n",
        "Xq1_train, Xq1_valid, yq1_train, yq1_valid = train_test_split(q1trainXsp,q1train_y,test_size=0.1,random_state=5)"
      ]
    },
    {
      "cell_type": "code",
      "execution_count": 7,
      "metadata": {
        "colab": {
          "base_uri": "https://localhost:8080/"
        },
        "id": "nMhbmTs9oHd0",
        "outputId": "ed11dce2-ae0d-4e61-aafb-f75cfe7b2983"
      },
      "outputs": [
        {
          "output_type": "execute_result",
          "data": {
            "text/plain": [
              "((7263504, 170), (807057, 170), (7263504,), (807057,))"
            ]
          },
          "metadata": {},
          "execution_count": 7
        }
      ],
      "source": [
        "Xq1_train.shape, Xq1_valid.shape, yq1_train.shape, yq1_valid.shape"
      ]
    },
    {
      "cell_type": "markdown",
      "metadata": {
        "id": "3uYfRNqVpjFt"
      },
      "source": [
        "Fraction of ones in the train and validation sets"
      ]
    },
    {
      "cell_type": "code",
      "execution_count": 8,
      "metadata": {
        "colab": {
          "base_uri": "https://localhost:8080/"
        },
        "id": "yrRvYfHeoNrA",
        "outputId": "d4e1cb3b-a8b3-4220-ccfe-48db49fd9a1d"
      },
      "outputs": [
        {
          "output_type": "execute_result",
          "data": {
            "text/plain": [
              "(0.16344962431355445, 0.1641990590503521)"
            ]
          },
          "metadata": {},
          "execution_count": 8
        }
      ],
      "source": [
        "yq1_train.sum()/yq1_train.shape[0], yq1_valid.sum()/yq1_valid.shape[0]"
      ]
    },
    {
      "cell_type": "markdown",
      "source": [
        "## <font color = 'cornflowerblue' size=4>Classical models:\n",
        "\n",
        "The training set is now downsampled and reduced to 1 milion records for a quick run of classical models to see what the most important features are. "
      ],
      "metadata": {
        "id": "yZ6740n1yBxc"
      }
    },
    {
      "cell_type": "markdown",
      "source": [
        "### <font color = 'cornflowerblue' size=3>Downsampling training dataset</font>"
      ],
      "metadata": {
        "id": "_Wm1uNTRymID"
      }
    },
    {
      "cell_type": "code",
      "source": [
        "# creating sparse dataframe from sparse matrix\n",
        "df = pd.DataFrame.sparse.from_spmatrix(Xq1_train)\n",
        "# combining with y\n",
        "df['y'] = yq1_train\n",
        "\n",
        "# nsplitting sparse dataframe by class values\n",
        "df0 = df[df['y']==0]\n",
        "df1 = df[df['y']==1]\n",
        "\n",
        "# number of positive samples\n",
        "numdf1 = df1.shape[0]\n",
        "\n",
        "# what fraction of df0 do we need to equal the numbers of df1?\n",
        "fractiondf0 = numdf1/df0.shape[0]\n",
        "\n",
        "# sampling from negative class samples to get only the fraction needed \n",
        "df0_ = df0.sample(frac = fractiondf0,random_state = 15)\n",
        "\n",
        "# recombine and shuffle downsampled negative samples df0_ and all of positive samples df1:\n",
        "df_downsampled = pd.concat([df0_, df1],axis=0).sample(frac=1,random_state=20)\n",
        "\n"
      ],
      "metadata": {
        "colab": {
          "base_uri": "https://localhost:8080/"
        },
        "id": "b27zX0afyQrB",
        "outputId": "f1628c42-d51d-4175-8a92-b6e1c5d07803"
      },
      "execution_count": 9,
      "outputs": [
        {
          "output_type": "stream",
          "name": "stderr",
          "text": [
            "/usr/local/lib/python3.7/dist-packages/ipykernel_launcher.py:4: PerformanceWarning: DataFrame is highly fragmented.  This is usually the result of calling `frame.insert` many times, which has poor performance.  Consider joining all columns at once using pd.concat(axis=1) instead.  To get a de-fragmented frame, use `newframe = frame.copy()`\n",
            "  after removing the cwd from sys.path.\n"
          ]
        }
      ]
    },
    {
      "cell_type": "code",
      "source": [
        "# create the sparse matrices ready for training\n",
        "yq1_train_ds = df_downsampled['y']\n",
        "Xq1_train_ds = df_downsampled.drop('y',axis=1)\n",
        "\n"
      ],
      "metadata": {
        "id": "0HrMjwbb3xHI"
      },
      "execution_count": 10,
      "outputs": []
    },
    {
      "cell_type": "code",
      "source": [
        "Xq1_train_ds.shape, yq1_train_ds.shape, numdf1, df0_.shape, df1.shape, df0.shape, df.shape"
      ],
      "metadata": {
        "colab": {
          "base_uri": "https://localhost:8080/"
        },
        "id": "Wf6ans3p1Qrj",
        "outputId": "be12bc20-3c0b-4b38-ffac-4955d11ac2d0"
      },
      "execution_count": 11,
      "outputs": [
        {
          "output_type": "execute_result",
          "data": {
            "text/plain": [
              "((1338050, 170),\n",
              " (1338050,),\n",
              " 669025,\n",
              " (669025, 171),\n",
              " (669025, 171),\n",
              " (3450813, 171),\n",
              " (7263504, 171))"
            ]
          },
          "metadata": {},
          "execution_count": 11
        }
      ]
    },
    {
      "cell_type": "code",
      "source": [
        "yq1_train_ds.sum()/yq1_train_ds.shape[0]"
      ],
      "metadata": {
        "colab": {
          "base_uri": "https://localhost:8080/"
        },
        "id": "IC5Tj7aC8U73",
        "outputId": "08ef82b4-6a94-43c9-cff7-a5613a8e2fc8"
      },
      "execution_count": 12,
      "outputs": [
        {
          "output_type": "execute_result",
          "data": {
            "text/plain": [
              "0.5"
            ]
          },
          "metadata": {},
          "execution_count": 12
        }
      ]
    },
    {
      "cell_type": "markdown",
      "source": [
        "Since there are around 1.33 million records in the downsampled dataset, no more reduction is necessary. The number of positive and negative samples is equal. "
      ],
      "metadata": {
        "id": "Tv6CtVyV4PDo"
      }
    },
    {
      "cell_type": "markdown",
      "source": [
        "### <font color= 'cornflowerblue' size=3>Scaling downsampled dataset</font>"
      ],
      "metadata": {
        "id": "WNAeVzp15e7i"
      }
    },
    {
      "cell_type": "markdown",
      "metadata": {
        "id": "DWZtKI4Cppws"
      },
      "source": [
        "They are about the same, we will use this split to test a number of models. They are saved below:\n",
        "\n",
        "First, we scale and transform the data using the min-max scaler. "
      ]
    },
    {
      "cell_type": "code",
      "execution_count": 13,
      "metadata": {
        "id": "Rchgc0dFqH_C"
      },
      "outputs": [],
      "source": [
        "from sklearn.preprocessing import MaxAbsScaler # used because sparse array not supported by MinMaxScaler\n",
        "mm_scaler = MaxAbsScaler()\n",
        "\n",
        "mm_scaler.fit(Xq1_train_ds)\n",
        "Xq1_mm_train_ds = mm_scaler.transform(Xq1_train_ds)\n",
        "Xq1_mm_valid_ds = mm_scaler.transform(Xq1_valid) # downsampled scaler is applied. \n"
      ]
    },
    {
      "cell_type": "markdown",
      "metadata": {
        "id": "4Tz2u-0Cq-jR"
      },
      "source": [
        "###<font color = 'cornflowerblue' size= 3>Logistic regression</font>\n",
        "\n",
        "Hyperparamters:\n",
        "1. C\n",
        "2. class weights\n"
      ]
    },
    {
      "cell_type": "code",
      "source": [
        "from sklearn.linear_model import LogisticRegression\n",
        "\n",
        "from sklearn.model_selection import cross_validate # return scores for many metrics\n",
        "\n",
        "from sklearn.metrics import make_scorer # to define a list of scoring metrics to use\n",
        "\n",
        "from sklearn.model_selection import GridSearchCV # to search hyperparameters in a grid \n",
        "\n",
        "classweight_vals = [{0:0.9,1:0.1},{0:0.01,1:0.99}]\n",
        "C_vals = [10**(-3),1,10**3]\n",
        "\n",
        "para_dict =dict()\n",
        "para_dict['class_weight'] = classweight_vals\n",
        "para_dict['C'] = C_vals\n",
        "\n",
        "\n",
        "# iterate over \n",
        "logreg = LogisticRegression(solver = 'lbfgs',max_iter=50)\n",
        "scoring_metrics = ['accuracy','f1','average_precision','roc_auc','recall']\n",
        "\n",
        "gridsearch_obj = GridSearchCV(logreg, n_jobs = 4, param_grid = para_dict,cv=3,scoring = scoring_metrics, verbose=1,refit=False)\n",
        "\n",
        "gridsearch_obj.fit(Xq1_mm_train,yq1_train_ds)"
      ],
      "metadata": {
        "colab": {
          "base_uri": "https://localhost:8080/"
        },
        "id": "RgViWIk06f_n",
        "outputId": "d7f34177-1799-49f0-c774-a7d3c8ba2f27"
      },
      "execution_count": null,
      "outputs": [
        {
          "output_type": "stream",
          "name": "stdout",
          "text": [
            "Fitting 3 folds for each of 6 candidates, totalling 18 fits\n"
          ]
        },
        {
          "output_type": "execute_result",
          "data": {
            "text/plain": [
              "GridSearchCV(cv=3, estimator=LogisticRegression(max_iter=50), n_jobs=4,\n",
              "             param_grid={'C': [0.001, 1, 1000],\n",
              "                         'class_weight': [{0: 0.9, 1: 0.1},\n",
              "                                          {0: 0.01, 1: 0.99}]},\n",
              "             refit=False,\n",
              "             scoring=['accuracy', 'f1', 'average_precision', 'roc_auc',\n",
              "                      'recall'],\n",
              "             verbose=1)"
            ]
          },
          "metadata": {},
          "execution_count": 46
        }
      ]
    },
    {
      "cell_type": "code",
      "source": [
        "gridcv = pd.DataFrame(gridsearch_obj.cv_results_)\n",
        "np.around(gridcv[['param_class_weight','param_C','mean_fit_time',  'mean_score_time', \n",
        "       'mean_test_accuracy','mean_test_average_precision','mean_test_roc_auc','mean_test_f1','mean_test_recall']],2)"
      ],
      "metadata": {
        "colab": {
          "base_uri": "https://localhost:8080/",
          "height": 237
        },
        "id": "wewl2QoN77jD",
        "outputId": "2adf78cb-b16b-4b80-d823-58bc31806020"
      },
      "execution_count": null,
      "outputs": [
        {
          "output_type": "execute_result",
          "data": {
            "text/plain": [
              "   param_class_weight param_C  mean_fit_time  mean_score_time  \\\n",
              "0    {0: 0.9, 1: 0.1}   0.001           4.66             1.22   \n",
              "1  {0: 0.01, 1: 0.99}   0.001           2.67             1.11   \n",
              "2    {0: 0.9, 1: 0.1}       1           6.57             1.09   \n",
              "3  {0: 0.01, 1: 0.99}       1           6.21             1.11   \n",
              "4    {0: 0.9, 1: 0.1}    1000           6.52             1.10   \n",
              "5  {0: 0.01, 1: 0.99}    1000           6.39             1.09   \n",
              "\n",
              "   mean_test_accuracy  mean_test_average_precision  mean_test_roc_auc  \\\n",
              "0                 0.5                          0.5                0.5   \n",
              "1                 0.5                          0.5                0.5   \n",
              "2                 0.5                          0.5                0.5   \n",
              "3                 0.5                          0.5                0.5   \n",
              "4                 0.5                          0.5                0.5   \n",
              "5                 0.5                          0.5                0.5   \n",
              "\n",
              "   mean_test_f1  mean_test_recall  \n",
              "0          0.00               0.0  \n",
              "1          0.67               1.0  \n",
              "2          0.00               0.0  \n",
              "3          0.67               1.0  \n",
              "4          0.00               0.0  \n",
              "5          0.67               1.0  "
            ],
            "text/html": [
              "\n",
              "  <div id=\"df-b779b104-551e-4261-8547-ab7007858a31\">\n",
              "    <div class=\"colab-df-container\">\n",
              "      <div>\n",
              "<style scoped>\n",
              "    .dataframe tbody tr th:only-of-type {\n",
              "        vertical-align: middle;\n",
              "    }\n",
              "\n",
              "    .dataframe tbody tr th {\n",
              "        vertical-align: top;\n",
              "    }\n",
              "\n",
              "    .dataframe thead th {\n",
              "        text-align: right;\n",
              "    }\n",
              "</style>\n",
              "<table border=\"1\" class=\"dataframe\">\n",
              "  <thead>\n",
              "    <tr style=\"text-align: right;\">\n",
              "      <th></th>\n",
              "      <th>param_class_weight</th>\n",
              "      <th>param_C</th>\n",
              "      <th>mean_fit_time</th>\n",
              "      <th>mean_score_time</th>\n",
              "      <th>mean_test_accuracy</th>\n",
              "      <th>mean_test_average_precision</th>\n",
              "      <th>mean_test_roc_auc</th>\n",
              "      <th>mean_test_f1</th>\n",
              "      <th>mean_test_recall</th>\n",
              "    </tr>\n",
              "  </thead>\n",
              "  <tbody>\n",
              "    <tr>\n",
              "      <th>0</th>\n",
              "      <td>{0: 0.9, 1: 0.1}</td>\n",
              "      <td>0.001</td>\n",
              "      <td>4.66</td>\n",
              "      <td>1.22</td>\n",
              "      <td>0.5</td>\n",
              "      <td>0.5</td>\n",
              "      <td>0.5</td>\n",
              "      <td>0.00</td>\n",
              "      <td>0.0</td>\n",
              "    </tr>\n",
              "    <tr>\n",
              "      <th>1</th>\n",
              "      <td>{0: 0.01, 1: 0.99}</td>\n",
              "      <td>0.001</td>\n",
              "      <td>2.67</td>\n",
              "      <td>1.11</td>\n",
              "      <td>0.5</td>\n",
              "      <td>0.5</td>\n",
              "      <td>0.5</td>\n",
              "      <td>0.67</td>\n",
              "      <td>1.0</td>\n",
              "    </tr>\n",
              "    <tr>\n",
              "      <th>2</th>\n",
              "      <td>{0: 0.9, 1: 0.1}</td>\n",
              "      <td>1</td>\n",
              "      <td>6.57</td>\n",
              "      <td>1.09</td>\n",
              "      <td>0.5</td>\n",
              "      <td>0.5</td>\n",
              "      <td>0.5</td>\n",
              "      <td>0.00</td>\n",
              "      <td>0.0</td>\n",
              "    </tr>\n",
              "    <tr>\n",
              "      <th>3</th>\n",
              "      <td>{0: 0.01, 1: 0.99}</td>\n",
              "      <td>1</td>\n",
              "      <td>6.21</td>\n",
              "      <td>1.11</td>\n",
              "      <td>0.5</td>\n",
              "      <td>0.5</td>\n",
              "      <td>0.5</td>\n",
              "      <td>0.67</td>\n",
              "      <td>1.0</td>\n",
              "    </tr>\n",
              "    <tr>\n",
              "      <th>4</th>\n",
              "      <td>{0: 0.9, 1: 0.1}</td>\n",
              "      <td>1000</td>\n",
              "      <td>6.52</td>\n",
              "      <td>1.10</td>\n",
              "      <td>0.5</td>\n",
              "      <td>0.5</td>\n",
              "      <td>0.5</td>\n",
              "      <td>0.00</td>\n",
              "      <td>0.0</td>\n",
              "    </tr>\n",
              "    <tr>\n",
              "      <th>5</th>\n",
              "      <td>{0: 0.01, 1: 0.99}</td>\n",
              "      <td>1000</td>\n",
              "      <td>6.39</td>\n",
              "      <td>1.09</td>\n",
              "      <td>0.5</td>\n",
              "      <td>0.5</td>\n",
              "      <td>0.5</td>\n",
              "      <td>0.67</td>\n",
              "      <td>1.0</td>\n",
              "    </tr>\n",
              "  </tbody>\n",
              "</table>\n",
              "</div>\n",
              "      <button class=\"colab-df-convert\" onclick=\"convertToInteractive('df-b779b104-551e-4261-8547-ab7007858a31')\"\n",
              "              title=\"Convert this dataframe to an interactive table.\"\n",
              "              style=\"display:none;\">\n",
              "        \n",
              "  <svg xmlns=\"http://www.w3.org/2000/svg\" height=\"24px\"viewBox=\"0 0 24 24\"\n",
              "       width=\"24px\">\n",
              "    <path d=\"M0 0h24v24H0V0z\" fill=\"none\"/>\n",
              "    <path d=\"M18.56 5.44l.94 2.06.94-2.06 2.06-.94-2.06-.94-.94-2.06-.94 2.06-2.06.94zm-11 1L8.5 8.5l.94-2.06 2.06-.94-2.06-.94L8.5 2.5l-.94 2.06-2.06.94zm10 10l.94 2.06.94-2.06 2.06-.94-2.06-.94-.94-2.06-.94 2.06-2.06.94z\"/><path d=\"M17.41 7.96l-1.37-1.37c-.4-.4-.92-.59-1.43-.59-.52 0-1.04.2-1.43.59L10.3 9.45l-7.72 7.72c-.78.78-.78 2.05 0 2.83L4 21.41c.39.39.9.59 1.41.59.51 0 1.02-.2 1.41-.59l7.78-7.78 2.81-2.81c.8-.78.8-2.07 0-2.86zM5.41 20L4 18.59l7.72-7.72 1.47 1.35L5.41 20z\"/>\n",
              "  </svg>\n",
              "      </button>\n",
              "      \n",
              "  <style>\n",
              "    .colab-df-container {\n",
              "      display:flex;\n",
              "      flex-wrap:wrap;\n",
              "      gap: 12px;\n",
              "    }\n",
              "\n",
              "    .colab-df-convert {\n",
              "      background-color: #E8F0FE;\n",
              "      border: none;\n",
              "      border-radius: 50%;\n",
              "      cursor: pointer;\n",
              "      display: none;\n",
              "      fill: #1967D2;\n",
              "      height: 32px;\n",
              "      padding: 0 0 0 0;\n",
              "      width: 32px;\n",
              "    }\n",
              "\n",
              "    .colab-df-convert:hover {\n",
              "      background-color: #E2EBFA;\n",
              "      box-shadow: 0px 1px 2px rgba(60, 64, 67, 0.3), 0px 1px 3px 1px rgba(60, 64, 67, 0.15);\n",
              "      fill: #174EA6;\n",
              "    }\n",
              "\n",
              "    [theme=dark] .colab-df-convert {\n",
              "      background-color: #3B4455;\n",
              "      fill: #D2E3FC;\n",
              "    }\n",
              "\n",
              "    [theme=dark] .colab-df-convert:hover {\n",
              "      background-color: #434B5C;\n",
              "      box-shadow: 0px 1px 3px 1px rgba(0, 0, 0, 0.15);\n",
              "      filter: drop-shadow(0px 1px 2px rgba(0, 0, 0, 0.3));\n",
              "      fill: #FFFFFF;\n",
              "    }\n",
              "  </style>\n",
              "\n",
              "      <script>\n",
              "        const buttonEl =\n",
              "          document.querySelector('#df-b779b104-551e-4261-8547-ab7007858a31 button.colab-df-convert');\n",
              "        buttonEl.style.display =\n",
              "          google.colab.kernel.accessAllowed ? 'block' : 'none';\n",
              "\n",
              "        async function convertToInteractive(key) {\n",
              "          const element = document.querySelector('#df-b779b104-551e-4261-8547-ab7007858a31');\n",
              "          const dataTable =\n",
              "            await google.colab.kernel.invokeFunction('convertToInteractive',\n",
              "                                                     [key], {});\n",
              "          if (!dataTable) return;\n",
              "\n",
              "          const docLinkHtml = 'Like what you see? Visit the ' +\n",
              "            '<a target=\"_blank\" href=https://colab.research.google.com/notebooks/data_table.ipynb>data table notebook</a>'\n",
              "            + ' to learn more about interactive tables.';\n",
              "          element.innerHTML = '';\n",
              "          dataTable['output_type'] = 'display_data';\n",
              "          await google.colab.output.renderOutput(dataTable, element);\n",
              "          const docLink = document.createElement('div');\n",
              "          docLink.innerHTML = docLinkHtml;\n",
              "          element.appendChild(docLink);\n",
              "        }\n",
              "      </script>\n",
              "    </div>\n",
              "  </div>\n",
              "  "
            ]
          },
          "metadata": {},
          "execution_count": 47
        }
      ]
    },
    {
      "cell_type": "markdown",
      "source": [
        "Changing C had no real impact on the accuracy, which is still at the baseline value. Recall is either 1 or 0, indicating that the models either predict all 1s or all 0s.\n",
        "\n",
        "Logistic regression does not seem promising to train on the full dataset, nor is it likely at 0.5 accuracy to give any information of feature importance. \n",
        "\n",
        "Decision trees are tried next. "
      ],
      "metadata": {
        "id": "jAN6hlww8Kqz"
      }
    },
    {
      "cell_type": "markdown",
      "source": [
        "### <font color='cornflowerblue' size=3>Decision Trees</font>\n",
        "\n",
        "The downsampled dataset is trained on decision trees with varying class weight and max_depth."
      ],
      "metadata": {
        "id": "_sQ9h4WV9Ac0"
      }
    },
    {
      "cell_type": "code",
      "source": [
        "from sklearn.tree import DecisionTreeClassifier\n",
        "\n",
        "dtree = DecisionTreeClassifier()\n",
        "\n",
        "classweight_vals = [{0:0.45,1:0.55},{0:0.55,1:0.45}]\n",
        "maxdepth_vals = [5,30]\n",
        "\n",
        "para_dict =dict()\n",
        "para_dict['class_weight'] = classweight_vals\n",
        "para_dict['max_depth'] = maxdepth_vals\n",
        "\n",
        "\n",
        "scoring_metrics = ['accuracy','f1','average_precision','roc_auc','recall']\n",
        "\n",
        "gridsearch_obj = GridSearchCV(dtree, param_grid = para_dict,cv=3,scoring = scoring_metrics, verbose=3,refit=False)\n",
        "\n",
        "gridsearch_obj.fit(Xq1_mm_train,yq1_train_ds)"
      ],
      "metadata": {
        "colab": {
          "base_uri": "https://localhost:8080/"
        },
        "id": "p63N_BS19N81",
        "outputId": "0a1f1c7f-2b1e-43e6-8b5a-6f42d7101477"
      },
      "execution_count": null,
      "outputs": [
        {
          "output_type": "stream",
          "name": "stdout",
          "text": [
            "Fitting 3 folds for each of 4 candidates, totalling 12 fits\n",
            "[CV 1/3] END class_weight={0: 0.45, 1: 0.55}, max_depth=5; accuracy: (test=0.500) average_precision: (test=0.500) f1: (test=0.667) recall: (test=1.000) roc_auc: (test=0.500) total time=   7.3s\n",
            "[CV 2/3] END class_weight={0: 0.45, 1: 0.55}, max_depth=5; accuracy: (test=0.500) average_precision: (test=0.499) f1: (test=0.667) recall: (test=1.000) roc_auc: (test=0.499) total time=   7.1s\n",
            "[CV 3/3] END class_weight={0: 0.45, 1: 0.55}, max_depth=5; accuracy: (test=0.500) average_precision: (test=0.500) f1: (test=0.666) recall: (test=0.999) roc_auc: (test=0.500) total time=   7.0s\n",
            "[CV 1/3] END class_weight={0: 0.45, 1: 0.55}, max_depth=30; accuracy: (test=0.499) average_precision: (test=0.499) f1: (test=0.635) recall: (test=0.870) roc_auc: (test=0.499) total time= 2.5min\n",
            "[CV 2/3] END class_weight={0: 0.45, 1: 0.55}, max_depth=30; accuracy: (test=0.501) average_precision: (test=0.500) f1: (test=0.649) recall: (test=0.925) roc_auc: (test=0.501) total time= 1.6min\n",
            "[CV 3/3] END class_weight={0: 0.45, 1: 0.55}, max_depth=30; accuracy: (test=0.500) average_precision: (test=0.499) f1: (test=0.647) recall: (test=0.915) roc_auc: (test=0.500) total time= 1.7min\n",
            "[CV 1/3] END class_weight={0: 0.55, 1: 0.45}, max_depth=5; accuracy: (test=0.500) average_precision: (test=0.500) f1: (test=0.001) recall: (test=0.000) roc_auc: (test=0.500) total time=   7.2s\n",
            "[CV 2/3] END class_weight={0: 0.55, 1: 0.45}, max_depth=5; accuracy: (test=0.500) average_precision: (test=0.499) f1: (test=0.002) recall: (test=0.001) roc_auc: (test=0.499) total time=   6.9s\n",
            "[CV 3/3] END class_weight={0: 0.55, 1: 0.45}, max_depth=5; accuracy: (test=0.500) average_precision: (test=0.500) f1: (test=0.002) recall: (test=0.001) roc_auc: (test=0.500) total time=   7.1s\n",
            "[CV 1/3] END class_weight={0: 0.55, 1: 0.45}, max_depth=30; accuracy: (test=0.501) average_precision: (test=0.501) f1: (test=0.223) recall: (test=0.143) roc_auc: (test=0.500) total time= 2.6min\n",
            "[CV 2/3] END class_weight={0: 0.55, 1: 0.45}, max_depth=30; accuracy: (test=0.499) average_precision: (test=0.499) f1: (test=0.141) recall: (test=0.082) roc_auc: (test=0.500) total time= 1.7min\n",
            "[CV 3/3] END class_weight={0: 0.55, 1: 0.45}, max_depth=30; accuracy: (test=0.500) average_precision: (test=0.500) f1: (test=0.151) recall: (test=0.089) roc_auc: (test=0.501) total time= 1.7min\n"
          ]
        },
        {
          "output_type": "execute_result",
          "data": {
            "text/plain": [
              "GridSearchCV(cv=3, estimator=DecisionTreeClassifier(),\n",
              "             param_grid={'class_weight': [{0: 0.45, 1: 0.55},\n",
              "                                          {0: 0.55, 1: 0.45}],\n",
              "                         'max_depth': [5, 30]},\n",
              "             refit=False,\n",
              "             scoring=['accuracy', 'f1', 'average_precision', 'roc_auc',\n",
              "                      'recall'],\n",
              "             verbose=3)"
            ]
          },
          "metadata": {},
          "execution_count": 50
        }
      ]
    },
    {
      "cell_type": "code",
      "source": [
        "gridcv = pd.DataFrame(gridsearch_obj.cv_results_)\n",
        "np.around(gridcv[['param_class_weight','param_max_depth','mean_fit_time',  'mean_score_time', \n",
        "       'mean_test_accuracy','mean_test_average_precision','mean_test_roc_auc','mean_test_f1','mean_test_recall']],2)"
      ],
      "metadata": {
        "colab": {
          "base_uri": "https://localhost:8080/",
          "height": 175
        },
        "id": "CC9B-XDv9rtY",
        "outputId": "312843ef-e1cc-416d-c6a2-2ede6f48be47"
      },
      "execution_count": null,
      "outputs": [
        {
          "output_type": "execute_result",
          "data": {
            "text/plain": [
              "   param_class_weight param_max_depth  mean_fit_time  mean_score_time  \\\n",
              "0  {0: 0.45, 1: 0.55}               5           6.08             1.05   \n",
              "1  {0: 0.45, 1: 0.55}              30         115.32             1.28   \n",
              "2  {0: 0.55, 1: 0.45}               5           6.04             1.04   \n",
              "3  {0: 0.55, 1: 0.45}              30         117.30             1.26   \n",
              "\n",
              "   mean_test_accuracy  mean_test_average_precision  mean_test_roc_auc  \\\n",
              "0                 0.5                          0.5                0.5   \n",
              "1                 0.5                          0.5                0.5   \n",
              "2                 0.5                          0.5                0.5   \n",
              "3                 0.5                          0.5                0.5   \n",
              "\n",
              "   mean_test_f1  mean_test_recall  \n",
              "0          0.67               1.0  \n",
              "1          0.64               0.9  \n",
              "2          0.00               0.0  \n",
              "3          0.17               0.1  "
            ],
            "text/html": [
              "\n",
              "  <div id=\"df-7ef77556-293a-4d88-9d89-94497836534f\">\n",
              "    <div class=\"colab-df-container\">\n",
              "      <div>\n",
              "<style scoped>\n",
              "    .dataframe tbody tr th:only-of-type {\n",
              "        vertical-align: middle;\n",
              "    }\n",
              "\n",
              "    .dataframe tbody tr th {\n",
              "        vertical-align: top;\n",
              "    }\n",
              "\n",
              "    .dataframe thead th {\n",
              "        text-align: right;\n",
              "    }\n",
              "</style>\n",
              "<table border=\"1\" class=\"dataframe\">\n",
              "  <thead>\n",
              "    <tr style=\"text-align: right;\">\n",
              "      <th></th>\n",
              "      <th>param_class_weight</th>\n",
              "      <th>param_max_depth</th>\n",
              "      <th>mean_fit_time</th>\n",
              "      <th>mean_score_time</th>\n",
              "      <th>mean_test_accuracy</th>\n",
              "      <th>mean_test_average_precision</th>\n",
              "      <th>mean_test_roc_auc</th>\n",
              "      <th>mean_test_f1</th>\n",
              "      <th>mean_test_recall</th>\n",
              "    </tr>\n",
              "  </thead>\n",
              "  <tbody>\n",
              "    <tr>\n",
              "      <th>0</th>\n",
              "      <td>{0: 0.45, 1: 0.55}</td>\n",
              "      <td>5</td>\n",
              "      <td>6.08</td>\n",
              "      <td>1.05</td>\n",
              "      <td>0.5</td>\n",
              "      <td>0.5</td>\n",
              "      <td>0.5</td>\n",
              "      <td>0.67</td>\n",
              "      <td>1.0</td>\n",
              "    </tr>\n",
              "    <tr>\n",
              "      <th>1</th>\n",
              "      <td>{0: 0.45, 1: 0.55}</td>\n",
              "      <td>30</td>\n",
              "      <td>115.32</td>\n",
              "      <td>1.28</td>\n",
              "      <td>0.5</td>\n",
              "      <td>0.5</td>\n",
              "      <td>0.5</td>\n",
              "      <td>0.64</td>\n",
              "      <td>0.9</td>\n",
              "    </tr>\n",
              "    <tr>\n",
              "      <th>2</th>\n",
              "      <td>{0: 0.55, 1: 0.45}</td>\n",
              "      <td>5</td>\n",
              "      <td>6.04</td>\n",
              "      <td>1.04</td>\n",
              "      <td>0.5</td>\n",
              "      <td>0.5</td>\n",
              "      <td>0.5</td>\n",
              "      <td>0.00</td>\n",
              "      <td>0.0</td>\n",
              "    </tr>\n",
              "    <tr>\n",
              "      <th>3</th>\n",
              "      <td>{0: 0.55, 1: 0.45}</td>\n",
              "      <td>30</td>\n",
              "      <td>117.30</td>\n",
              "      <td>1.26</td>\n",
              "      <td>0.5</td>\n",
              "      <td>0.5</td>\n",
              "      <td>0.5</td>\n",
              "      <td>0.17</td>\n",
              "      <td>0.1</td>\n",
              "    </tr>\n",
              "  </tbody>\n",
              "</table>\n",
              "</div>\n",
              "      <button class=\"colab-df-convert\" onclick=\"convertToInteractive('df-7ef77556-293a-4d88-9d89-94497836534f')\"\n",
              "              title=\"Convert this dataframe to an interactive table.\"\n",
              "              style=\"display:none;\">\n",
              "        \n",
              "  <svg xmlns=\"http://www.w3.org/2000/svg\" height=\"24px\"viewBox=\"0 0 24 24\"\n",
              "       width=\"24px\">\n",
              "    <path d=\"M0 0h24v24H0V0z\" fill=\"none\"/>\n",
              "    <path d=\"M18.56 5.44l.94 2.06.94-2.06 2.06-.94-2.06-.94-.94-2.06-.94 2.06-2.06.94zm-11 1L8.5 8.5l.94-2.06 2.06-.94-2.06-.94L8.5 2.5l-.94 2.06-2.06.94zm10 10l.94 2.06.94-2.06 2.06-.94-2.06-.94-.94-2.06-.94 2.06-2.06.94z\"/><path d=\"M17.41 7.96l-1.37-1.37c-.4-.4-.92-.59-1.43-.59-.52 0-1.04.2-1.43.59L10.3 9.45l-7.72 7.72c-.78.78-.78 2.05 0 2.83L4 21.41c.39.39.9.59 1.41.59.51 0 1.02-.2 1.41-.59l7.78-7.78 2.81-2.81c.8-.78.8-2.07 0-2.86zM5.41 20L4 18.59l7.72-7.72 1.47 1.35L5.41 20z\"/>\n",
              "  </svg>\n",
              "      </button>\n",
              "      \n",
              "  <style>\n",
              "    .colab-df-container {\n",
              "      display:flex;\n",
              "      flex-wrap:wrap;\n",
              "      gap: 12px;\n",
              "    }\n",
              "\n",
              "    .colab-df-convert {\n",
              "      background-color: #E8F0FE;\n",
              "      border: none;\n",
              "      border-radius: 50%;\n",
              "      cursor: pointer;\n",
              "      display: none;\n",
              "      fill: #1967D2;\n",
              "      height: 32px;\n",
              "      padding: 0 0 0 0;\n",
              "      width: 32px;\n",
              "    }\n",
              "\n",
              "    .colab-df-convert:hover {\n",
              "      background-color: #E2EBFA;\n",
              "      box-shadow: 0px 1px 2px rgba(60, 64, 67, 0.3), 0px 1px 3px 1px rgba(60, 64, 67, 0.15);\n",
              "      fill: #174EA6;\n",
              "    }\n",
              "\n",
              "    [theme=dark] .colab-df-convert {\n",
              "      background-color: #3B4455;\n",
              "      fill: #D2E3FC;\n",
              "    }\n",
              "\n",
              "    [theme=dark] .colab-df-convert:hover {\n",
              "      background-color: #434B5C;\n",
              "      box-shadow: 0px 1px 3px 1px rgba(0, 0, 0, 0.15);\n",
              "      filter: drop-shadow(0px 1px 2px rgba(0, 0, 0, 0.3));\n",
              "      fill: #FFFFFF;\n",
              "    }\n",
              "  </style>\n",
              "\n",
              "      <script>\n",
              "        const buttonEl =\n",
              "          document.querySelector('#df-7ef77556-293a-4d88-9d89-94497836534f button.colab-df-convert');\n",
              "        buttonEl.style.display =\n",
              "          google.colab.kernel.accessAllowed ? 'block' : 'none';\n",
              "\n",
              "        async function convertToInteractive(key) {\n",
              "          const element = document.querySelector('#df-7ef77556-293a-4d88-9d89-94497836534f');\n",
              "          const dataTable =\n",
              "            await google.colab.kernel.invokeFunction('convertToInteractive',\n",
              "                                                     [key], {});\n",
              "          if (!dataTable) return;\n",
              "\n",
              "          const docLinkHtml = 'Like what you see? Visit the ' +\n",
              "            '<a target=\"_blank\" href=https://colab.research.google.com/notebooks/data_table.ipynb>data table notebook</a>'\n",
              "            + ' to learn more about interactive tables.';\n",
              "          element.innerHTML = '';\n",
              "          dataTable['output_type'] = 'display_data';\n",
              "          await google.colab.output.renderOutput(dataTable, element);\n",
              "          const docLink = document.createElement('div');\n",
              "          docLink.innerHTML = docLinkHtml;\n",
              "          element.appendChild(docLink);\n",
              "        }\n",
              "      </script>\n",
              "    </div>\n",
              "  </div>\n",
              "  "
            ]
          },
          "metadata": {},
          "execution_count": 53
        }
      ]
    },
    {
      "cell_type": "code",
      "source": [
        "dtree = DecisionTreeClassifier(max_features=100)\n",
        "\n",
        "\n",
        "maxdepth_vals = [6,10,15]\n",
        "\n",
        "para_dict =dict()\n",
        "\n",
        "para_dict['max_depth'] = maxdepth_vals\n",
        "\n",
        "\n",
        "scoring_metrics = ['accuracy','f1','average_precision','roc_auc','recall']\n",
        "\n",
        "gridsearch_obj = GridSearchCV(dtree, param_grid = para_dict,cv=3,scoring = scoring_metrics, verbose=3,refit=False)\n",
        "\n",
        "gridsearch_obj.fit(Xq1_mm_train,yq1_train_ds)"
      ],
      "metadata": {
        "colab": {
          "base_uri": "https://localhost:8080/",
          "height": 201
        },
        "id": "IJWR4dOOCIR7",
        "outputId": "ef3e0697-07dd-4b45-f9f3-fcf85e513101"
      },
      "execution_count": null,
      "outputs": [
        {
          "output_type": "error",
          "ename": "NameError",
          "evalue": "ignored",
          "traceback": [
            "\u001b[0;31m---------------------------------------------------------------------------\u001b[0m",
            "\u001b[0;31mNameError\u001b[0m                                 Traceback (most recent call last)",
            "\u001b[0;32m<ipython-input-63-e2e2ab06ca8a>\u001b[0m in \u001b[0;36m<module>\u001b[0;34m()\u001b[0m\n\u001b[1;32m     13\u001b[0m \u001b[0mgridsearch_obj\u001b[0m \u001b[0;34m=\u001b[0m \u001b[0mGridSearchCV\u001b[0m\u001b[0;34m(\u001b[0m\u001b[0mdtree\u001b[0m\u001b[0;34m,\u001b[0m \u001b[0mparam_grid\u001b[0m \u001b[0;34m=\u001b[0m \u001b[0mpara_dict\u001b[0m\u001b[0;34m,\u001b[0m\u001b[0mcv\u001b[0m\u001b[0;34m=\u001b[0m\u001b[0;36m3\u001b[0m\u001b[0;34m,\u001b[0m\u001b[0mscoring\u001b[0m \u001b[0;34m=\u001b[0m \u001b[0mscoring_metrics\u001b[0m\u001b[0;34m,\u001b[0m \u001b[0mverbose\u001b[0m\u001b[0;34m=\u001b[0m\u001b[0;36m3\u001b[0m\u001b[0;34m,\u001b[0m\u001b[0mrefit\u001b[0m\u001b[0;34m=\u001b[0m\u001b[0;32mFalse\u001b[0m\u001b[0;34m)\u001b[0m\u001b[0;34m\u001b[0m\u001b[0;34m\u001b[0m\u001b[0m\n\u001b[1;32m     14\u001b[0m \u001b[0;34m\u001b[0m\u001b[0m\n\u001b[0;32m---> 15\u001b[0;31m \u001b[0mgridsearch_obj\u001b[0m\u001b[0;34m.\u001b[0m\u001b[0mfit\u001b[0m\u001b[0;34m(\u001b[0m\u001b[0mXq1_mm_train_ds\u001b[0m\u001b[0;34m,\u001b[0m\u001b[0myq1_train_ds\u001b[0m\u001b[0;34m)\u001b[0m\u001b[0;34m\u001b[0m\u001b[0;34m\u001b[0m\u001b[0m\n\u001b[0m",
            "\u001b[0;31mNameError\u001b[0m: name 'Xq1_mm_train_ds' is not defined"
          ]
        }
      ]
    },
    {
      "cell_type": "code",
      "source": [
        "gridcv = pd.DataFrame(gridsearch_obj.cv_results_)\n",
        "np.around(gridcv[['param_max_depth','mean_fit_time',  'mean_score_time', \n",
        "       'mean_test_accuracy','mean_test_average_precision','mean_test_roc_auc','mean_test_f1','mean_test_recall']],2)"
      ],
      "metadata": {
        "colab": {
          "base_uri": "https://localhost:8080/",
          "height": 143
        },
        "id": "xQhbE_nADmko",
        "outputId": "49fd8a29-91aa-420f-da27-d8aecbf0ac53"
      },
      "execution_count": null,
      "outputs": [
        {
          "output_type": "execute_result",
          "data": {
            "text/plain": [
              "  param_max_depth  mean_fit_time  mean_score_time  mean_test_accuracy  \\\n",
              "0               6           4.25             1.09                 0.5   \n",
              "1              10           7.66             1.13                 0.5   \n",
              "2              15          14.17             1.15                 0.5   \n",
              "\n",
              "   mean_test_average_precision  mean_test_roc_auc  mean_test_f1  \\\n",
              "0                          0.5                0.5          0.52   \n",
              "1                          0.5                0.5          0.45   \n",
              "2                          0.5                0.5          0.44   \n",
              "\n",
              "   mean_test_recall  \n",
              "0              0.60  \n",
              "1              0.41  \n",
              "2              0.42  "
            ],
            "text/html": [
              "\n",
              "  <div id=\"df-c1aeeb7c-70e3-4689-8cee-5bc65421454c\">\n",
              "    <div class=\"colab-df-container\">\n",
              "      <div>\n",
              "<style scoped>\n",
              "    .dataframe tbody tr th:only-of-type {\n",
              "        vertical-align: middle;\n",
              "    }\n",
              "\n",
              "    .dataframe tbody tr th {\n",
              "        vertical-align: top;\n",
              "    }\n",
              "\n",
              "    .dataframe thead th {\n",
              "        text-align: right;\n",
              "    }\n",
              "</style>\n",
              "<table border=\"1\" class=\"dataframe\">\n",
              "  <thead>\n",
              "    <tr style=\"text-align: right;\">\n",
              "      <th></th>\n",
              "      <th>param_max_depth</th>\n",
              "      <th>mean_fit_time</th>\n",
              "      <th>mean_score_time</th>\n",
              "      <th>mean_test_accuracy</th>\n",
              "      <th>mean_test_average_precision</th>\n",
              "      <th>mean_test_roc_auc</th>\n",
              "      <th>mean_test_f1</th>\n",
              "      <th>mean_test_recall</th>\n",
              "    </tr>\n",
              "  </thead>\n",
              "  <tbody>\n",
              "    <tr>\n",
              "      <th>0</th>\n",
              "      <td>6</td>\n",
              "      <td>4.25</td>\n",
              "      <td>1.09</td>\n",
              "      <td>0.5</td>\n",
              "      <td>0.5</td>\n",
              "      <td>0.5</td>\n",
              "      <td>0.52</td>\n",
              "      <td>0.60</td>\n",
              "    </tr>\n",
              "    <tr>\n",
              "      <th>1</th>\n",
              "      <td>10</td>\n",
              "      <td>7.66</td>\n",
              "      <td>1.13</td>\n",
              "      <td>0.5</td>\n",
              "      <td>0.5</td>\n",
              "      <td>0.5</td>\n",
              "      <td>0.45</td>\n",
              "      <td>0.41</td>\n",
              "    </tr>\n",
              "    <tr>\n",
              "      <th>2</th>\n",
              "      <td>15</td>\n",
              "      <td>14.17</td>\n",
              "      <td>1.15</td>\n",
              "      <td>0.5</td>\n",
              "      <td>0.5</td>\n",
              "      <td>0.5</td>\n",
              "      <td>0.44</td>\n",
              "      <td>0.42</td>\n",
              "    </tr>\n",
              "  </tbody>\n",
              "</table>\n",
              "</div>\n",
              "      <button class=\"colab-df-convert\" onclick=\"convertToInteractive('df-c1aeeb7c-70e3-4689-8cee-5bc65421454c')\"\n",
              "              title=\"Convert this dataframe to an interactive table.\"\n",
              "              style=\"display:none;\">\n",
              "        \n",
              "  <svg xmlns=\"http://www.w3.org/2000/svg\" height=\"24px\"viewBox=\"0 0 24 24\"\n",
              "       width=\"24px\">\n",
              "    <path d=\"M0 0h24v24H0V0z\" fill=\"none\"/>\n",
              "    <path d=\"M18.56 5.44l.94 2.06.94-2.06 2.06-.94-2.06-.94-.94-2.06-.94 2.06-2.06.94zm-11 1L8.5 8.5l.94-2.06 2.06-.94-2.06-.94L8.5 2.5l-.94 2.06-2.06.94zm10 10l.94 2.06.94-2.06 2.06-.94-2.06-.94-.94-2.06-.94 2.06-2.06.94z\"/><path d=\"M17.41 7.96l-1.37-1.37c-.4-.4-.92-.59-1.43-.59-.52 0-1.04.2-1.43.59L10.3 9.45l-7.72 7.72c-.78.78-.78 2.05 0 2.83L4 21.41c.39.39.9.59 1.41.59.51 0 1.02-.2 1.41-.59l7.78-7.78 2.81-2.81c.8-.78.8-2.07 0-2.86zM5.41 20L4 18.59l7.72-7.72 1.47 1.35L5.41 20z\"/>\n",
              "  </svg>\n",
              "      </button>\n",
              "      \n",
              "  <style>\n",
              "    .colab-df-container {\n",
              "      display:flex;\n",
              "      flex-wrap:wrap;\n",
              "      gap: 12px;\n",
              "    }\n",
              "\n",
              "    .colab-df-convert {\n",
              "      background-color: #E8F0FE;\n",
              "      border: none;\n",
              "      border-radius: 50%;\n",
              "      cursor: pointer;\n",
              "      display: none;\n",
              "      fill: #1967D2;\n",
              "      height: 32px;\n",
              "      padding: 0 0 0 0;\n",
              "      width: 32px;\n",
              "    }\n",
              "\n",
              "    .colab-df-convert:hover {\n",
              "      background-color: #E2EBFA;\n",
              "      box-shadow: 0px 1px 2px rgba(60, 64, 67, 0.3), 0px 1px 3px 1px rgba(60, 64, 67, 0.15);\n",
              "      fill: #174EA6;\n",
              "    }\n",
              "\n",
              "    [theme=dark] .colab-df-convert {\n",
              "      background-color: #3B4455;\n",
              "      fill: #D2E3FC;\n",
              "    }\n",
              "\n",
              "    [theme=dark] .colab-df-convert:hover {\n",
              "      background-color: #434B5C;\n",
              "      box-shadow: 0px 1px 3px 1px rgba(0, 0, 0, 0.15);\n",
              "      filter: drop-shadow(0px 1px 2px rgba(0, 0, 0, 0.3));\n",
              "      fill: #FFFFFF;\n",
              "    }\n",
              "  </style>\n",
              "\n",
              "      <script>\n",
              "        const buttonEl =\n",
              "          document.querySelector('#df-c1aeeb7c-70e3-4689-8cee-5bc65421454c button.colab-df-convert');\n",
              "        buttonEl.style.display =\n",
              "          google.colab.kernel.accessAllowed ? 'block' : 'none';\n",
              "\n",
              "        async function convertToInteractive(key) {\n",
              "          const element = document.querySelector('#df-c1aeeb7c-70e3-4689-8cee-5bc65421454c');\n",
              "          const dataTable =\n",
              "            await google.colab.kernel.invokeFunction('convertToInteractive',\n",
              "                                                     [key], {});\n",
              "          if (!dataTable) return;\n",
              "\n",
              "          const docLinkHtml = 'Like what you see? Visit the ' +\n",
              "            '<a target=\"_blank\" href=https://colab.research.google.com/notebooks/data_table.ipynb>data table notebook</a>'\n",
              "            + ' to learn more about interactive tables.';\n",
              "          element.innerHTML = '';\n",
              "          dataTable['output_type'] = 'display_data';\n",
              "          await google.colab.output.renderOutput(dataTable, element);\n",
              "          const docLink = document.createElement('div');\n",
              "          docLink.innerHTML = docLinkHtml;\n",
              "          element.appendChild(docLink);\n",
              "        }\n",
              "      </script>\n",
              "    </div>\n",
              "  </div>\n",
              "  "
            ]
          },
          "metadata": {},
          "execution_count": 59
        }
      ]
    },
    {
      "cell_type": "markdown",
      "source": [
        "No improvement in precision is obtained from varying max_depth. "
      ],
      "metadata": {
        "id": "d0apoViwDr5S"
      }
    },
    {
      "cell_type": "code",
      "source": [
        "coefficients['EnglishIDF'], coefficients['sf_length'],coefficients['L_dist_sf_noaccents_norm']"
      ],
      "metadata": {
        "colab": {
          "base_uri": "https://localhost:8080/"
        },
        "id": "w7Q_3ndYDYd5",
        "outputId": "3c41c79e-60c5-4edc-c352-8c71ceaaa12e"
      },
      "execution_count": null,
      "outputs": [
        {
          "output_type": "execute_result",
          "data": {
            "text/plain": [
              "(-0.10264018301608246, -0.39245070230713114, 0.3866483915452818)"
            ]
          },
          "metadata": {},
          "execution_count": 29
        }
      ]
    },
    {
      "cell_type": "code",
      "execution_count": null,
      "metadata": {
        "id": "0JqAoq0gkKtA"
      },
      "outputs": [],
      "source": [
        "coefficients.to_csv(path_name+\"Logreg_L1_q1fulldataset_coefficients.csv\")"
      ]
    },
    {
      "cell_type": "markdown",
      "metadata": {
        "id": "foPGYkbXjS7z"
      },
      "source": [
        "Makes sense that lower history correct gives a greater chance of forgetting the word. "
      ]
    },
    {
      "cell_type": "code",
      "source": [
        "coefficients[coefficients<0.05].shape"
      ],
      "metadata": {
        "id": "R7OV4_2iEupD"
      },
      "execution_count": null,
      "outputs": []
    },
    {
      "cell_type": "markdown",
      "metadata": {
        "id": "fXBFf_E_io_E"
      },
      "source": [
        "Of the 2223 features, 2037 had non-zero coefficients. "
      ]
    },
    {
      "cell_type": "markdown",
      "source": [
        "## <font color = 'cornflowerblue' size=4>Ensemble models</font>"
      ],
      "metadata": {
        "id": "nO8p8MfEVqEj"
      }
    },
    {
      "cell_type": "markdown",
      "source": [
        "## <font color = 'cornflowerblue' size=3>Random Forest</font>"
      ],
      "metadata": {
        "id": "FqUeUcZLIb9N"
      }
    },
    {
      "cell_type": "markdown",
      "source": [
        "### <font color = 'cornflowerblue' size = 3>XGBoost</font>"
      ],
      "metadata": {
        "id": "jrIwVc4AN-X3"
      }
    },
    {
      "cell_type": "code",
      "execution_count": null,
      "metadata": {
        "colab": {
          "base_uri": "https://localhost:8080/"
        },
        "id": "vrxhrNl_zMWp",
        "outputId": "a52de697-3590-4d0d-bca8-9950620d06cc"
      },
      "outputs": [
        {
          "output_type": "stream",
          "name": "stdout",
          "text": [
            "XG Boost train set score: 0.5078464930309032\n",
            "XG Boost test set score: 0.5039507742327989\n"
          ]
        }
      ],
      "source": [
        "from xgboost import XGBClassifier\n",
        "\n",
        "\n",
        "XGB_model = XGBClassifier(num_feature = 60,subsample = 0.7)\n",
        "XGB_model.fit(Xq1_mm_train, yq1_train_ds)\n",
        "print(f\"XG Boost train set score: {XGB_model.score(Xq1_mm_train, yq1_train_ds)}\")\n",
        "print(f\"XG Boost test set score: {XGB_model.score(Xq1_mm_valid, yq1_valid)}\")"
      ]
    },
    {
      "cell_type": "code",
      "source": [
        "yq1_train_preds_probs_xgb = XGB_model.predict_proba(Xq1_mm_train)[:,1]\n",
        "yq1_valid_preds_probs_xgb = XGB_model.predict_proba(Xq1_mm_valid)[:,1]\n"
      ],
      "metadata": {
        "colab": {
          "base_uri": "https://localhost:8080/",
          "height": 201
        },
        "id": "n9wFYT043lFI",
        "outputId": "ae1df385-ac44-4d8e-ab49-32de4d596110"
      },
      "execution_count": null,
      "outputs": [
        {
          "output_type": "error",
          "ename": "NameError",
          "evalue": "ignored",
          "traceback": [
            "\u001b[0;31m---------------------------------------------------------------------------\u001b[0m",
            "\u001b[0;31mNameError\u001b[0m                                 Traceback (most recent call last)",
            "\u001b[0;32m<ipython-input-69-1c50c2212a7c>\u001b[0m in \u001b[0;36m<module>\u001b[0;34m()\u001b[0m\n\u001b[1;32m      1\u001b[0m \u001b[0myq1_train_preds_probs_xgb\u001b[0m \u001b[0;34m=\u001b[0m \u001b[0mXGB_model\u001b[0m\u001b[0;34m.\u001b[0m\u001b[0mpredict_proba\u001b[0m\u001b[0;34m(\u001b[0m\u001b[0mXq1_mm_train\u001b[0m\u001b[0;34m)\u001b[0m\u001b[0;34m[\u001b[0m\u001b[0;34m:\u001b[0m\u001b[0;34m,\u001b[0m\u001b[0;36m1\u001b[0m\u001b[0;34m]\u001b[0m\u001b[0;34m\u001b[0m\u001b[0;34m\u001b[0m\u001b[0m\n\u001b[1;32m      2\u001b[0m \u001b[0myq1_valid_preds_probs_xgb\u001b[0m \u001b[0;34m=\u001b[0m \u001b[0mXGB_model\u001b[0m\u001b[0;34m.\u001b[0m\u001b[0mpredict_proba\u001b[0m\u001b[0;34m(\u001b[0m\u001b[0mXq1_mm_valid\u001b[0m\u001b[0;34m)\u001b[0m\u001b[0;34m[\u001b[0m\u001b[0;34m:\u001b[0m\u001b[0;34m,\u001b[0m\u001b[0;36m1\u001b[0m\u001b[0;34m]\u001b[0m\u001b[0;34m\u001b[0m\u001b[0;34m\u001b[0m\u001b[0m\n\u001b[0;32m----> 3\u001b[0;31m \u001b[0mPrecisionRecallDisplay\u001b[0m\u001b[0;34m.\u001b[0m\u001b[0mfrom_predictions\u001b[0m\u001b[0;34m(\u001b[0m\u001b[0myq1_valid\u001b[0m\u001b[0;34m,\u001b[0m\u001b[0myq1_valid_preds_probs_xgb\u001b[0m\u001b[0;34m)\u001b[0m\u001b[0;34m\u001b[0m\u001b[0;34m\u001b[0m\u001b[0m\n\u001b[0m",
            "\u001b[0;31mNameError\u001b[0m: name 'PrecisionRecallDisplay' is not defined"
          ]
        }
      ]
    },
    {
      "cell_type": "code",
      "source": [
        "from sklearn.metrics import PrecisionRecallDisplay\n",
        "PrecisionRecallDisplay.from_predictions(yq1_valid,yq1_valid_preds_probs_xgb)"
      ],
      "metadata": {
        "colab": {
          "base_uri": "https://localhost:8080/",
          "height": 296
        },
        "id": "tCCWKYZ8KCgf",
        "outputId": "63913793-e5cd-4697-fa99-6c20eecdd634"
      },
      "execution_count": null,
      "outputs": [
        {
          "output_type": "execute_result",
          "data": {
            "text/plain": [
              "<sklearn.metrics._plot.precision_recall_curve.PrecisionRecallDisplay at 0x7f5f38281d50>"
            ]
          },
          "metadata": {},
          "execution_count": 70
        },
        {
          "output_type": "display_data",
          "data": {
            "text/plain": [
              "<Figure size 432x288 with 1 Axes>"
            ],
            "image/png": "[encoded data removed]"
          },
          "metadata": {
            "needs_background": "light"
          }
        }
      ]
    },
    {
      "cell_type": "code",
      "source": [
        "feature_names = decompress_pickle(path_name+\"q1fs1_column_names.pbz2\")\n",
        "XGBfeature_importances = pd.Series(XGB_model.feature_importances_,index=feature_names)\n",
        "XGBfeature_importances.sort_values(ascending=False).head(20)"
      ],
      "metadata": {
        "colab": {
          "base_uri": "https://localhost:8080/"
        },
        "id": "LdzsrYSN6DXp",
        "outputId": "1081d352-be87-4c84-9b11-4e67a2ce3cb9"
      },
      "execution_count": null,
      "outputs": [
        {
          "output_type": "execute_result",
          "data": {
            "text/plain": [
              "mod_x0_sint      0.021982\n",
              "mod_x0_*pers     0.021281\n",
              "mod_x0_itg       0.020207\n",
              "mod_x0_pp        0.020172\n",
              "pos_x0_cnjcoo    0.019916\n",
              "mod_x0_def       0.019458\n",
              "mod_x0_obj       0.018834\n",
              "lang_x0_en       0.018438\n",
              "mod_x0_mf        0.018357\n",
              "mod_x0_sp        0.017005\n",
              "mod_x0_enc       0.016570\n",
              "pos_x0_adv       0.015750\n",
              "mod_x0_*numb     0.015594\n",
              "pos_x0_cnjsub    0.015531\n",
              "simoverdiff      0.015501\n",
              "mod_x0_fti       0.015397\n",
              "mod_x0_tn        0.015206\n",
              "mod_x0_pro       0.015134\n",
              "pos_x0_adj       0.015110\n",
              "pos_x0_n         0.015038\n",
              "dtype: float32"
            ]
          },
          "metadata": {},
          "execution_count": 78
        }
      ]
    },
    {
      "cell_type": "code",
      "source": [
        "XGBfeature_importances.to_csv(path_name+\"XGB_feature_importances_q1_1.csv\")"
      ],
      "metadata": {
        "id": "q7blN1Uj6SJy"
      },
      "execution_count": null,
      "outputs": []
    },
    {
      "cell_type": "markdown",
      "source": [
        "## AdaBoost"
      ],
      "metadata": {
        "id": "Uhg3-9-QbdV9"
      }
    },
    {
      "cell_type": "code",
      "execution_count": null,
      "metadata": {
        "id": "WD1dTYGLzwo6"
      },
      "outputs": [],
      "source": [
        "from sklearn.ensemble import AdaBoostClassifier\n",
        "AB_model = AdaBoostClassifier(n_estimators=100, learning_rate=1)\n",
        "\n",
        "AB_model.fit(Xq1_mm_train,yq1_train)\n",
        "y_probaAB = AB_model.predict_proba(Xq1_mm_valid)[:,1]"
      ]
    },
    {
      "cell_type": "code",
      "source": [
        "yq1_train_preds_probs_AB = AB_model.predict_proba(Xq1_mm_train)[:,1]\n",
        "yq1_valid_preds_probs_AB = AB_model.predict_proba(Xq1_mm_valid)[:,1]\n",
        "PrecisionRecallDisplay.from_predictions(yq1_valid,yq1_valid_preds_probs_AB)"
      ],
      "metadata": {
        "id": "rOGp8rr3Faz5"
      },
      "execution_count": null,
      "outputs": []
    },
    {
      "cell_type": "code",
      "source": [
        "PrecisionRecallDisplay.from_predictions(yq1_train,yq1_train_preds_probs_AB)"
      ],
      "metadata": {
        "id": "w1TQvxCFG5gQ"
      },
      "execution_count": null,
      "outputs": []
    },
    {
      "cell_type": "code",
      "source": [
        "compressed_pickle(path_name+\"AB_modeln150_lr1\",AB_model)"
      ],
      "metadata": {
        "id": "ceeJhA-bF_93"
      },
      "execution_count": null,
      "outputs": []
    },
    {
      "cell_type": "code",
      "source": [
        "ABmodel_feature_importances = pd.Series(AB_model.feature_importances_,index=column_names)"
      ],
      "metadata": {
        "id": "BEXqfML9HG1K"
      },
      "execution_count": null,
      "outputs": []
    },
    {
      "cell_type": "code",
      "source": [
        "ABmodel_feature_importances.sort_values(ascending=False).head(10)"
      ],
      "metadata": {
        "colab": {
          "base_uri": "https://localhost:8080/"
        },
        "id": "ZMHHVVKyHUip",
        "outputId": "38bd6d38-4fca-4df3-dd17-e96084ab1364"
      },
      "execution_count": null,
      "outputs": [
        {
          "output_type": "execute_result",
          "data": {
            "text/plain": [
              "history_correct    0.173333\n",
              "history_seen       0.160000\n",
              "session_seen       0.080000\n",
              "delta              0.020000\n",
              "index              0.013333\n",
              "im                 0.013333\n",
              "du                 0.006667\n",
              "err                0.006667\n",
              "mo                 0.006667\n",
              "ug                 0.006667\n",
              "dtype: float64"
            ]
          },
          "metadata": {},
          "execution_count": 76
        }
      ]
    },
    {
      "cell_type": "code",
      "source": [
        "ABmodel_feature_importances.to_csv(path_name+\"ABmodelq1_1.csv\")"
      ],
      "metadata": {
        "id": "Vzo2Nz_FHgyE"
      },
      "execution_count": null,
      "outputs": []
    },
    {
      "cell_type": "markdown",
      "source": [
        "## <font color = 'cornflowerblue' size = 4>Nueral Nets</font>\n",
        "\n",
        "The runtime is restarted with GPU to run with CUDA.\n",
        "\n",
        "Since random_state is set during splitting, redoing it should give the same train and validation sets.\n",
        "\n",
        "Downsampling and scaling will have to be repeated. \n",
        "\n",
        "Both the downsampled and non-downsampled train sets will be tried."
      ],
      "metadata": {
        "id": "Kxcmw9cqW3Iz"
      }
    },
    {
      "cell_type": "markdown",
      "source": [
        "### <font color = 'cornflowerblue' size=3>Scaling non-downsampled train set</font>"
      ],
      "metadata": {
        "id": "-JozShsFYn0n"
      }
    },
    {
      "cell_type": "code",
      "source": [
        "from sklearn.preprocessing import MaxAbsScaler # used because sparse array not supported by MinMaxScaler\n",
        "mm_scaler1 = MaxAbsScaler()\n",
        "\n",
        "mm_scaler1.fit(Xq1_train_ds)\n",
        "Xq1_mm_train = mm_scaler1.transform(Xq1_train)\n",
        "Xq1_mm_valid = mm_scaler1.transform(Xq1_valid) # "
      ],
      "metadata": {
        "id": "kaAkd1QiXYDC"
      },
      "execution_count": null,
      "outputs": []
    },
    {
      "cell_type": "code",
      "source": [
        "#!nvidia-smi\n",
        "!nvcc --version"
      ],
      "metadata": {
        "colab": {
          "base_uri": "https://localhost:8080/"
        },
        "id": "05rjSTqzY_rm",
        "outputId": "e48c4d2c-4706-45f3-db7f-5206e9bda82c"
      },
      "execution_count": 19,
      "outputs": [
        {
          "output_type": "stream",
          "name": "stdout",
          "text": [
            "nvcc: NVIDIA (R) Cuda compiler driver\n",
            "Copyright (c) 2005-2020 NVIDIA Corporation\n",
            "Built on Mon_Oct_12_20:09:46_PDT_2020\n",
            "Cuda compilation tools, release 11.1, V11.1.105\n",
            "Build cuda_11.1.TC455_06.29190527_0\n"
          ]
        }
      ]
    },
    {
      "cell_type": "code",
      "source": [
        "import tensorflow as tf\n",
        "tf.test.gpu_device_name()"
      ],
      "metadata": {
        "colab": {
          "base_uri": "https://localhost:8080/",
          "height": 41
        },
        "id": "EaztSVjaY8XK",
        "outputId": "0b9198ca-5df9-4820-95dd-69d31752f319"
      },
      "execution_count": 20,
      "outputs": [
        {
          "output_type": "execute_result",
          "data": {
            "text/plain": [
              "'/device:GPU:0'"
            ],
            "application/vnd.google.colaboratory.intrinsic+json": {
              "type": "string"
            }
          },
          "metadata": {},
          "execution_count": 20
        }
      ]
    },
    {
      "cell_type": "code",
      "source": [
        "!cat /usr/local/lib/python3.6/dist-packages/external/local_config_cuda/cuda/cuda/cuda_config.h |\\\n",
        "grep TF_CUDA_VERSION"
      ],
      "metadata": {
        "colab": {
          "base_uri": "https://localhost:8080/"
        },
        "id": "dOx0P2-FayJ9",
        "outputId": "f751aac7-cf85-43cb-e4ac-d6fba7f3ada9"
      },
      "execution_count": 21,
      "outputs": [
        {
          "output_type": "stream",
          "name": "stdout",
          "text": [
            "cat: /usr/local/lib/python3.6/dist-packages/external/local_config_cuda/cuda/cuda/cuda_config.h: No such file or directory\n"
          ]
        }
      ]
    },
    {
      "cell_type": "code",
      "source": [
        "from tensorflow import keras\n",
        "from tensorflow.keras import layers"
      ],
      "metadata": {
        "id": "pIWxTHm3ZR7M"
      },
      "execution_count": 22,
      "outputs": []
    },
    {
      "cell_type": "markdown",
      "source": [
        "Converting Xq1_mm_train, and Xq1_mm_valid to sparse tensorflow tensor"
      ],
      "metadata": {
        "id": "-gVzo3XYaAA-"
      }
    },
    {
      "cell_type": "code",
      "source": [
        "Xq1_mm_train = Xq1_mm_train.tocoo()\n",
        "Xq1_mm_valid = Xq1_mm_valid.tocoo()"
      ],
      "metadata": {
        "id": "P_7uikInZoNd"
      },
      "execution_count": null,
      "outputs": []
    },
    {
      "cell_type": "code",
      "source": [
        "indices_train = [[u,v] for u,v in zip(Xq1_mm_train.row,Xq1_mm_train.col)]\n",
        "indices_valid = [[u,v] for u,v in zip(Xq1_mm_valid.row,Xq1_mm_valid.col)]"
      ],
      "metadata": {
        "id": "76-NRl6uLZIe"
      },
      "execution_count": null,
      "outputs": []
    },
    {
      "cell_type": "code",
      "source": [
        "values_train = Xq1_mm_train.data\n",
        "values_valid = Xq1_mm_valid.data"
      ],
      "metadata": {
        "id": "rwxA6tIwUZx5"
      },
      "execution_count": null,
      "outputs": []
    },
    {
      "cell_type": "code",
      "source": [
        "dense_shape_train = [Xq1_mm_train.shape[0],Xq1_mm_train.shape[1]]\n",
        "dense_shape_valid = [Xq1_mm_valid.shape[0],Xq1_mm_valid.shape[1]]"
      ],
      "metadata": {
        "id": "iQkEQ3lyUrB6"
      },
      "execution_count": null,
      "outputs": []
    },
    {
      "cell_type": "code",
      "source": [
        "Xq1_mm_train_tf = tf.sparse.SparseTensor(indices=indices_train,\n",
        "                      values=values_train,\n",
        "                      dense_shape=dense_shape_train)"
      ],
      "metadata": {
        "id": "s96wXAS2U1kU"
      },
      "execution_count": null,
      "outputs": []
    },
    {
      "cell_type": "code",
      "source": [
        "Xq1_mm_valid_tf = tf.sparse.SparseTensor(indices=indices_valid,\n",
        "                      values=values_valid,\n",
        "                      dense_shape=dense_shape_valid)"
      ],
      "metadata": {
        "id": "upNJatwl8zAh"
      },
      "execution_count": null,
      "outputs": []
    },
    {
      "cell_type": "code",
      "source": [
        "yq1_train_np = np.array(yq1_train)\n",
        "yq1_valid_np = np.array(yq1_valid)"
      ],
      "metadata": {
        "id": "8eBH4iXhaJuw"
      },
      "execution_count": null,
      "outputs": []
    },
    {
      "cell_type": "code",
      "source": [
        "# Create a new sequential model\n",
        "model = keras.Sequential()\n",
        "\n",
        "# Declare the hidden layers\n",
        "model.add(layers.Dense(2233, activation=\"relu\"))\n",
        "model.add(layers.Dense(2233, activation=\"relu\"))\n",
        "model.add(layers.Dense(1024, activation=\"relu\"))\n",
        "model.add(layers.Dense(256, activation=\"relu\"))\n",
        "model.add(layers.Dense(64, activation=\"relu\"))\n",
        "model.add(layers.Dense(16, activation=\"relu\"))\n",
        "\n",
        "# Declare the output layer\n",
        "model.add(layers.Dense(1, activation=\"sigmoid\"))"
      ],
      "metadata": {
        "id": "s_LTwHwDIdxP"
      },
      "execution_count": 30,
      "outputs": []
    },
    {
      "cell_type": "code",
      "source": [
        "model.compile(\n",
        "    # Optimizer\n",
        "    optimizer=keras.optimizers.Adam(),  \n",
        "    # Loss function to minimize\n",
        "    loss=keras.losses.BinaryCrossentropy(),\n",
        "    # Metric used to evaluate model\n",
        "    metrics=[keras.metrics.BinaryAccuracy()]\n",
        ")"
      ],
      "metadata": {
        "id": "oC9dbFiFJOeM"
      },
      "execution_count": 31,
      "outputs": []
    },
    {
      "cell_type": "code",
      "source": [
        "history = model.fit(Xq1_mm_train_tf, yq1_train_np, epochs=10, verbose=1, batch_size=40000,validation_data = (Xq1_mm_valid,yq1_valid_np))"
      ],
      "metadata": {
        "colab": {
          "base_uri": "https://localhost:8080/"
        },
        "id": "X460pCUkaSQU",
        "outputId": "0277a476-a8e0-483d-e08d-dab90078f3d6"
      },
      "execution_count": null,
      "outputs": [
        {
          "output_type": "stream",
          "name": "stdout",
          "text": [
            "Epoch 1/10\n",
            "182/182 [==============================] - 133s 646ms/step - loss: 0.4310 - binary_accuracy: 0.8371 - val_loss: 0.4317 - val_binary_accuracy: 0.8364\n",
            "Epoch 2/10\n",
            "182/182 [==============================] - 133s 646ms/step - loss: 0.4308 - binary_accuracy: 0.8372 - val_loss: 0.4315 - val_binary_accuracy: 0.8365\n",
            "Epoch 3/10\n",
            "182/182 [==============================] - 133s 647ms/step - loss: 0.4305 - binary_accuracy: 0.8372 - val_loss: 0.4314 - val_binary_accuracy: 0.8365\n",
            "Epoch 4/10\n",
            "182/182 [==============================] - 133s 647ms/step - loss: 0.4301 - binary_accuracy: 0.8372 - val_loss: 0.4312 - val_binary_accuracy: 0.8365\n",
            "Epoch 5/10\n",
            "182/182 [==============================] - 133s 647ms/step - loss: 0.4298 - binary_accuracy: 0.8373 - val_loss: 0.4318 - val_binary_accuracy: 0.8365\n",
            "Epoch 6/10\n",
            "182/182 [==============================] - 133s 648ms/step - loss: 0.4296 - binary_accuracy: 0.8373 - val_loss: 0.4305 - val_binary_accuracy: 0.8365\n",
            "Epoch 7/10\n",
            "182/182 [==============================] - 133s 648ms/step - loss: 0.4293 - binary_accuracy: 0.8373 - val_loss: 0.4301 - val_binary_accuracy: 0.8365\n",
            "Epoch 8/10\n",
            "182/182 [==============================] - 133s 648ms/step - loss: 0.4290 - binary_accuracy: 0.8373 - val_loss: 0.4302 - val_binary_accuracy: 0.8366\n",
            "Epoch 9/10\n",
            "182/182 [==============================] - 133s 648ms/step - loss: 0.4287 - binary_accuracy: 0.8373 - val_loss: 0.4297 - val_binary_accuracy: 0.8365\n",
            "Epoch 10/10\n",
            "182/182 [==============================] - 133s 647ms/step - loss: 0.4284 - binary_accuracy: 0.8374 - val_loss: 0.4297 - val_binary_accuracy: 0.8365\n"
          ]
        }
      ]
    },
    {
      "cell_type": "code",
      "source": [
        "from sklearn.metrics import accuracy_score, PrecisionRecallDisplay, roc_auc_score\n",
        "yq1_valid_preds = model.predict(Xq1_mm_valid,batch_size=40000,verbose=2)\n",
        "PrecisionRecallDisplay.from_predictions(yq1_valid_np,yq1_valid_preds)"
      ],
      "metadata": {
        "colab": {
          "base_uri": "https://localhost:8080/",
          "height": 314
        },
        "id": "QjOcXHPngy6j",
        "outputId": "8042ca02-5e6d-450e-ff41-2ac632e22afe"
      },
      "execution_count": null,
      "outputs": [
        {
          "output_type": "stream",
          "name": "stdout",
          "text": [
            "21/21 - 5s - 5s/epoch - 228ms/step\n"
          ]
        },
        {
          "output_type": "execute_result",
          "data": {
            "text/plain": [
              "<sklearn.metrics._plot.precision_recall_curve.PrecisionRecallDisplay at 0x7f0910fa4e90>"
            ]
          },
          "metadata": {},
          "execution_count": 38
        },
        {
          "output_type": "display_data",
          "data": {
            "text/plain": [
              "<Figure size 432x288 with 1 Axes>"
            ],
            "image/png": "[encoded data removed]"
          },
          "metadata": {
            "needs_background": "light"
          }
        }
      ]
    },
    {
      "cell_type": "markdown",
      "source": [
        "Create tensorflow tensor with downsampled dataset:"
      ],
      "metadata": {
        "id": "g6ovTEXlRXSz"
      }
    },
    {
      "cell_type": "code",
      "source": [
        "Xq1_mm_train_ds = Xq1_mm_train_ds.tocoo()\n",
        "Xq1_mm_valid_ds = Xq1_mm_valid_ds.tocoo()"
      ],
      "metadata": {
        "id": "Ol59vyR_Rdks"
      },
      "execution_count": 14,
      "outputs": []
    },
    {
      "cell_type": "code",
      "source": [
        "indices_train = [[u,v] for u,v in zip(Xq1_mm_train_ds.row,Xq1_mm_train_ds.col)]\n",
        "indices_valid = [[u,v] for u,v in zip(Xq1_mm_valid_ds.row,Xq1_mm_valid_ds.col)]"
      ],
      "metadata": {
        "id": "4pgw2bdnRdkt"
      },
      "execution_count": 15,
      "outputs": []
    },
    {
      "cell_type": "code",
      "source": [
        "values_train = Xq1_mm_train_ds.data\n",
        "values_valid = Xq1_mm_valid_ds.data"
      ],
      "metadata": {
        "id": "oonRI7cSRdkt"
      },
      "execution_count": 16,
      "outputs": []
    },
    {
      "cell_type": "code",
      "source": [
        "dense_shape_train_ds = [Xq1_mm_train_ds.shape[0],Xq1_mm_train_ds.shape[1]]\n",
        "dense_shape_valid_ds = [Xq1_mm_valid_ds.shape[0],Xq1_mm_valid_ds.shape[1]]"
      ],
      "metadata": {
        "id": "Sp4XuW08Rdkt"
      },
      "execution_count": 25,
      "outputs": []
    },
    {
      "cell_type": "code",
      "source": [
        "Xq1_mm_train_tf_ds = tf.sparse.SparseTensor(indices=indices_train,\n",
        "                      values=values_train,\n",
        "                      dense_shape=dense_shape_train_ds)"
      ],
      "metadata": {
        "id": "T14PH04FRdkt"
      },
      "execution_count": 26,
      "outputs": []
    },
    {
      "cell_type": "code",
      "source": [
        "Xq1_mm_valid_tf_ds = tf.sparse.SparseTensor(indices=indices_valid,\n",
        "                      values=values_valid,\n",
        "                      dense_shape=dense_shape_valid_ds)"
      ],
      "metadata": {
        "id": "ctKQOt6GRdkt"
      },
      "execution_count": 27,
      "outputs": []
    },
    {
      "cell_type": "code",
      "source": [
        "yq1_train_np_ds = np.array(yq1_train_ds)\n",
        "yq1_valid_np_ds = np.array(yq1_valid)"
      ],
      "metadata": {
        "id": "RA_ok-2bRdkt"
      },
      "execution_count": 34,
      "outputs": []
    },
    {
      "cell_type": "markdown",
      "source": [
        "The same architecture will be used:"
      ],
      "metadata": {
        "id": "iyL6kuQwSMGG"
      }
    },
    {
      "cell_type": "code",
      "source": [
        "history_ds = model.fit(Xq1_mm_train_tf_ds, yq1_train_np_ds, epochs=10, verbose=1, batch_size=40000,validation_data = (Xq1_mm_valid_ds,yq1_valid_np_ds))"
      ],
      "metadata": {
        "colab": {
          "base_uri": "https://localhost:8080/"
        },
        "id": "0pToa7khSJTk",
        "outputId": "aa8b4166-a772-4483-a3bc-4912ab37240e"
      },
      "execution_count": 35,
      "outputs": [
        {
          "output_type": "stream",
          "name": "stdout",
          "text": [
            "Epoch 1/10\n"
          ]
        },
        {
          "output_type": "stream",
          "name": "stderr",
          "text": [
            "/usr/local/lib/python3.7/dist-packages/tensorflow/python/framework/indexed_slices.py:446: UserWarning: Converting sparse IndexedSlices(IndexedSlices(indices=Tensor(\"gradient_tape/sequential/dense/embedding_lookup_sparse/Reshape_1:0\", shape=(None,), dtype=int32), values=Tensor(\"gradient_tape/sequential/dense/embedding_lookup_sparse/Reshape:0\", shape=(None, 2233), dtype=float32), dense_shape=Tensor(\"gradient_tape/sequential/dense/embedding_lookup_sparse/Cast:0\", shape=(2,), dtype=int32))) to a dense Tensor of unknown shape. This may consume a large amount of memory.\n",
            "  \"shape. This may consume a large amount of memory.\" % value)\n"
          ]
        },
        {
          "output_type": "stream",
          "name": "stdout",
          "text": [
            "34/34 [==============================] - 24s 492ms/step - loss: 0.6932 - binary_accuracy: 0.5008 - val_loss: 0.6922 - val_binary_accuracy: 0.8206\n",
            "Epoch 2/10\n",
            "34/34 [==============================] - 19s 475ms/step - loss: 0.6931 - binary_accuracy: 0.5003 - val_loss: 0.6932 - val_binary_accuracy: 0.4942\n",
            "Epoch 3/10\n",
            "34/34 [==============================] - 19s 482ms/step - loss: 0.6931 - binary_accuracy: 0.5012 - val_loss: 0.6919 - val_binary_accuracy: 0.5818\n",
            "Epoch 4/10\n",
            "34/34 [==============================] - 20s 482ms/step - loss: 0.6931 - binary_accuracy: 0.5023 - val_loss: 0.6929 - val_binary_accuracy: 0.4953\n",
            "Epoch 5/10\n",
            "34/34 [==============================] - 20s 484ms/step - loss: 0.6931 - binary_accuracy: 0.5018 - val_loss: 0.6944 - val_binary_accuracy: 0.4214\n",
            "Epoch 6/10\n",
            "34/34 [==============================] - 19s 480ms/step - loss: 0.6931 - binary_accuracy: 0.5024 - val_loss: 0.6902 - val_binary_accuracy: 0.7386\n",
            "Epoch 7/10\n",
            "34/34 [==============================] - 19s 478ms/step - loss: 0.6931 - binary_accuracy: 0.5026 - val_loss: 0.6939 - val_binary_accuracy: 0.4586\n",
            "Epoch 8/10\n",
            "34/34 [==============================] - 20s 479ms/step - loss: 0.6931 - binary_accuracy: 0.5032 - val_loss: 0.6913 - val_binary_accuracy: 0.5887\n",
            "Epoch 9/10\n",
            "34/34 [==============================] - 20s 484ms/step - loss: 0.6931 - binary_accuracy: 0.5038 - val_loss: 0.6898 - val_binary_accuracy: 0.7379\n",
            "Epoch 10/10\n",
            "34/34 [==============================] - 19s 481ms/step - loss: 0.6931 - binary_accuracy: 0.5030 - val_loss: 0.6934 - val_binary_accuracy: 0.5228\n"
          ]
        }
      ]
    },
    {
      "cell_type": "markdown",
      "source": [
        "Downsampling the dataset offered no advantage, in fact it substantially reduced the validation set accuracy to lower than the baseline (overfit to the downsampled training dataset very quickly)"
      ],
      "metadata": {
        "id": "LwCIWvUvSpiz"
      }
    }
  ],
  "metadata": {
    "colab": {
      "collapsed_sections": [],
      "machine_shape": "hm",
      "name": "6_Duolingo_q1lpipe1_MLsplitting_modeling.ipynb",
      "provenance": [],
      "authorship_tag": "ABX9TyMaEMDMStau6IZmE5fzOaeL",
      "include_colab_link": true
    },
    "gpuClass": "standard",
    "kernelspec": {
      "display_name": "Python 3",
      "name": "python3"
    },
    "language_info": {
      "name": "python"
    },
    "accelerator": "GPU"
  },
  "nbformat": 4,
  "nbformat_minor": 0
}