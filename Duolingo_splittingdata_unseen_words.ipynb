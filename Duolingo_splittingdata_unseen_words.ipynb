{
  "nbformat": 4,
  "nbformat_minor": 0,
  "metadata": {
    "colab": {
      "name": "Duolingo_splittingdata_unseen_words.ipynb",
      "provenance": [],
      "authorship_tag": "ABX9TyP8fFSpYq/v5ELx9Wm/L0Bz",
      "include_colab_link": true
    },
    "kernelspec": {
      "name": "python3",
      "display_name": "Python 3"
    },
    "language_info": {
      "name": "python"
    }
  },
  "cells": [
    {
      "cell_type": "markdown",
      "metadata": {
        "id": "view-in-github",
        "colab_type": "text"
      },
      "source": [
        "<a href=\"https://colab.research.google.com/github/rts1988/Duolingo_spaced_repetition/blob/main/Duolingo_splittingdata_unseen_words.ipynb\" target=\"_parent\"><img src=\"https://colab.research.google.com/assets/colab-badge.svg\" alt=\"Open In Colab\"/></a>"
      ]
    },
    {
      "cell_type": "markdown",
      "source": [
        "This notebook is for splitting data into train and test for the unseen words in known languages question.\n",
        "\n",
        "We will try to answer the following questions in order.\n",
        "\n",
        "1. Can we train a model to predict whether a student would have forgotten a certain word when they encounter is after some time? \n",
        "2. Based on their performance on one word for a known student, can we improve our prediction on other words? \n",
        "3. Can we extract word-based features that can predict the ease and difficulty of remembering them?\n",
        "4. Can we extract student and session based features that can predict if a word is forgotten?\n",
        "4. Can we predict how easy or difficult a word is to remember for a new language based on our learnings?\n",
        "\n",
        "Splitting the dataset:\n",
        "\n",
        "1. first split - keep two languages aside for cold-start testing - done\n",
        "2. second split - keep some unseen students aside for testing on seen words. include some low and high trace lengths (10%) - in this notebook. should include all the remaining languages. - done\n",
        "3. third split - keep some unseen words aside for testing on seen students. include some frequent and infrequent words. (20%) - in this notebook. \n",
        "4. the rest. - student word pairings left.   "
      ],
      "metadata": {
        "id": "hg92T939Rfe0"
      }
    },
    {
      "cell_type": "code",
      "execution_count": 4,
      "metadata": {
        "id": "-gOQAkVrRc6t",
        "colab": {
          "base_uri": "https://localhost:8080/"
        },
        "outputId": "64c44b57-2588-47be-95bc-d8afda0ada4e"
      },
      "outputs": [
        {
          "output_type": "stream",
          "name": "stdout",
          "text": [
            "Drive already mounted at /content/drive; to attempt to forcibly remount, call drive.mount(\"/content/drive\", force_remount=True).\n"
          ]
        }
      ],
      "source": [
        "import bz2\n",
        "import pickle\n",
        "import _pickle as cPickle\n",
        "import pandas as pd\n",
        "import seaborn as sns\n",
        "import matplotlib.pyplot as plt\n",
        "import numpy as np\n",
        "\n",
        "from google.colab import drive\n",
        "drive.mount('/content/drive')\n",
        "\n",
        "def decompress_pickle(file):\n",
        " data = bz2.BZ2File(file, 'rb')\n",
        " data = cPickle.load(data)\n",
        " return data\n",
        "\n",
        "def compressed_pickle(title, data):  # do not add extension in filename\n",
        " with bz2.BZ2File(title + '.pbz2', 'w') as f: \n",
        "  cPickle.dump(data, f)\n",
        "\n",
        "path_name = '/content/drive/MyDrive/'"
      ]
    },
    {
      "cell_type": "markdown",
      "source": [
        "We will start with what is leftover from separating out the cold start test sets and unseen test sets."
      ],
      "metadata": {
        "id": "MOzM7N7BDhwI"
      }
    },
    {
      "cell_type": "code",
      "source": [
        "datadf3 = decompress_pickle(path_name+\"Unseen_students_training_set.pbz2\")"
      ],
      "metadata": {
        "id": "092mhbh0AaPq"
      },
      "execution_count": 6,
      "outputs": []
    },
    {
      "cell_type": "code",
      "source": [
        "datadf3.shape"
      ],
      "metadata": {
        "colab": {
          "base_uri": "https://localhost:8080/"
        },
        "id": "lH9jzbynDc2q",
        "outputId": "cfa66ae3-838a-46d3-9df6-a5c63d746d0d"
      },
      "execution_count": 7,
      "outputs": [
        {
          "output_type": "execute_result",
          "data": {
            "text/plain": [
              "(9919875, 14)"
            ]
          },
          "metadata": {},
          "execution_count": 7
        }
      ]
    },
    {
      "cell_type": "markdown",
      "source": [
        "We will prepare the next split of unseen words in known langugaes in the following steps:\n",
        "\n",
        "1. get number of records per word, number of students per word, language pair. \n",
        "2. For each language pair, get a 20% split. "
      ],
      "metadata": {
        "id": "7TwEtBixDmYz"
      }
    },
    {
      "cell_type": "code",
      "source": [
        "num_lexemes = datadf3.groupby(['ui_language','learning_language'])['lexeme_string'].unique().apply(len)"
      ],
      "metadata": {
        "id": "xegRfqAW7Br-"
      },
      "execution_count": 8,
      "outputs": []
    },
    {
      "cell_type": "code",
      "source": [
        "num_lexemes"
      ],
      "metadata": {
        "colab": {
          "base_uri": "https://localhost:8080/"
        },
        "id": "Emf7L5eR7QkW",
        "outputId": "1cbcdc90-96b9-4067-c53b-58c0404fff93"
      },
      "execution_count": 10,
      "outputs": [
        {
          "output_type": "execute_result",
          "data": {
            "text/plain": [
              "ui_language  learning_language\n",
              "en           es                   3299\n",
              "             fr                   4133\n",
              "             it                   2173\n",
              "             pt                   2771\n",
              "es           en                   2878\n",
              "pt           en                   2810\n",
              "Name: lexeme_string, dtype: int64"
            ]
          },
          "metadata": {},
          "execution_count": 10
        }
      ]
    },
    {
      "cell_type": "code",
      "source": [
        "def uniquelen(ser):\n",
        "  return len(ser.unique())"
      ],
      "metadata": {
        "id": "HjIwDnlf8sX9"
      },
      "execution_count": 14,
      "outputs": []
    },
    {
      "cell_type": "code",
      "source": [
        "en_to_es = datadf3.loc[(datadf3['ui_language']=='en') & (datadf3['learning_language']=='es'),:].groupby(['lexeme_string']).agg(Num_students=pd.NamedAgg('user_id',uniquelen), Num_records = pd.NamedAgg('user_id','count'))\n",
        "en_to_es.head()"
      ],
      "metadata": {
        "colab": {
          "base_uri": "https://localhost:8080/",
          "height": 237
        },
        "id": "YUobohhB7XFB",
        "outputId": "dcdb9624-ebfd-42b9-8a7b-00e730268232"
      },
      "execution_count": 15,
      "outputs": [
        {
          "output_type": "execute_result",
          "data": {
            "text/plain": [
              "                              Num_students  Num_records\n",
              "lexeme_string                                          \n",
              "<*sf>/abogado<n><m><*numb>             571          882\n",
              "<*sf>/acción<n><f><*numb>               24           29\n",
              "<*sf>/actitud<n><f><*numb>              13           14\n",
              "<*sf>/actividad<n><f><*numb>            28           45\n",
              "<*sf>/acto<n><m><*numb>                 24           25"
            ],
            "text/html": [
              "\n",
              "  <div id=\"df-1ca4d69f-24a9-41e8-b5a3-e644273aa3d1\">\n",
              "    <div class=\"colab-df-container\">\n",
              "      <div>\n",
              "<style scoped>\n",
              "    .dataframe tbody tr th:only-of-type {\n",
              "        vertical-align: middle;\n",
              "    }\n",
              "\n",
              "    .dataframe tbody tr th {\n",
              "        vertical-align: top;\n",
              "    }\n",
              "\n",
              "    .dataframe thead th {\n",
              "        text-align: right;\n",
              "    }\n",
              "</style>\n",
              "<table border=\"1\" class=\"dataframe\">\n",
              "  <thead>\n",
              "    <tr style=\"text-align: right;\">\n",
              "      <th></th>\n",
              "      <th>Num_students</th>\n",
              "      <th>Num_records</th>\n",
              "    </tr>\n",
              "    <tr>\n",
              "      <th>lexeme_string</th>\n",
              "      <th></th>\n",
              "      <th></th>\n",
              "    </tr>\n",
              "  </thead>\n",
              "  <tbody>\n",
              "    <tr>\n",
              "      <th>&lt;*sf&gt;/abogado&lt;n&gt;&lt;m&gt;&lt;*numb&gt;</th>\n",
              "      <td>571</td>\n",
              "      <td>882</td>\n",
              "    </tr>\n",
              "    <tr>\n",
              "      <th>&lt;*sf&gt;/acción&lt;n&gt;&lt;f&gt;&lt;*numb&gt;</th>\n",
              "      <td>24</td>\n",
              "      <td>29</td>\n",
              "    </tr>\n",
              "    <tr>\n",
              "      <th>&lt;*sf&gt;/actitud&lt;n&gt;&lt;f&gt;&lt;*numb&gt;</th>\n",
              "      <td>13</td>\n",
              "      <td>14</td>\n",
              "    </tr>\n",
              "    <tr>\n",
              "      <th>&lt;*sf&gt;/actividad&lt;n&gt;&lt;f&gt;&lt;*numb&gt;</th>\n",
              "      <td>28</td>\n",
              "      <td>45</td>\n",
              "    </tr>\n",
              "    <tr>\n",
              "      <th>&lt;*sf&gt;/acto&lt;n&gt;&lt;m&gt;&lt;*numb&gt;</th>\n",
              "      <td>24</td>\n",
              "      <td>25</td>\n",
              "    </tr>\n",
              "  </tbody>\n",
              "</table>\n",
              "</div>\n",
              "      <button class=\"colab-df-convert\" onclick=\"convertToInteractive('df-1ca4d69f-24a9-41e8-b5a3-e644273aa3d1')\"\n",
              "              title=\"Convert this dataframe to an interactive table.\"\n",
              "              style=\"display:none;\">\n",
              "        \n",
              "  <svg xmlns=\"http://www.w3.org/2000/svg\" height=\"24px\"viewBox=\"0 0 24 24\"\n",
              "       width=\"24px\">\n",
              "    <path d=\"M0 0h24v24H0V0z\" fill=\"none\"/>\n",
              "    <path d=\"M18.56 5.44l.94 2.06.94-2.06 2.06-.94-2.06-.94-.94-2.06-.94 2.06-2.06.94zm-11 1L8.5 8.5l.94-2.06 2.06-.94-2.06-.94L8.5 2.5l-.94 2.06-2.06.94zm10 10l.94 2.06.94-2.06 2.06-.94-2.06-.94-.94-2.06-.94 2.06-2.06.94z\"/><path d=\"M17.41 7.96l-1.37-1.37c-.4-.4-.92-.59-1.43-.59-.52 0-1.04.2-1.43.59L10.3 9.45l-7.72 7.72c-.78.78-.78 2.05 0 2.83L4 21.41c.39.39.9.59 1.41.59.51 0 1.02-.2 1.41-.59l7.78-7.78 2.81-2.81c.8-.78.8-2.07 0-2.86zM5.41 20L4 18.59l7.72-7.72 1.47 1.35L5.41 20z\"/>\n",
              "  </svg>\n",
              "      </button>\n",
              "      \n",
              "  <style>\n",
              "    .colab-df-container {\n",
              "      display:flex;\n",
              "      flex-wrap:wrap;\n",
              "      gap: 12px;\n",
              "    }\n",
              "\n",
              "    .colab-df-convert {\n",
              "      background-color: #E8F0FE;\n",
              "      border: none;\n",
              "      border-radius: 50%;\n",
              "      cursor: pointer;\n",
              "      display: none;\n",
              "      fill: #1967D2;\n",
              "      height: 32px;\n",
              "      padding: 0 0 0 0;\n",
              "      width: 32px;\n",
              "    }\n",
              "\n",
              "    .colab-df-convert:hover {\n",
              "      background-color: #E2EBFA;\n",
              "      box-shadow: 0px 1px 2px rgba(60, 64, 67, 0.3), 0px 1px 3px 1px rgba(60, 64, 67, 0.15);\n",
              "      fill: #174EA6;\n",
              "    }\n",
              "\n",
              "    [theme=dark] .colab-df-convert {\n",
              "      background-color: #3B4455;\n",
              "      fill: #D2E3FC;\n",
              "    }\n",
              "\n",
              "    [theme=dark] .colab-df-convert:hover {\n",
              "      background-color: #434B5C;\n",
              "      box-shadow: 0px 1px 3px 1px rgba(0, 0, 0, 0.15);\n",
              "      filter: drop-shadow(0px 1px 2px rgba(0, 0, 0, 0.3));\n",
              "      fill: #FFFFFF;\n",
              "    }\n",
              "  </style>\n",
              "\n",
              "      <script>\n",
              "        const buttonEl =\n",
              "          document.querySelector('#df-1ca4d69f-24a9-41e8-b5a3-e644273aa3d1 button.colab-df-convert');\n",
              "        buttonEl.style.display =\n",
              "          google.colab.kernel.accessAllowed ? 'block' : 'none';\n",
              "\n",
              "        async function convertToInteractive(key) {\n",
              "          const element = document.querySelector('#df-1ca4d69f-24a9-41e8-b5a3-e644273aa3d1');\n",
              "          const dataTable =\n",
              "            await google.colab.kernel.invokeFunction('convertToInteractive',\n",
              "                                                     [key], {});\n",
              "          if (!dataTable) return;\n",
              "\n",
              "          const docLinkHtml = 'Like what you see? Visit the ' +\n",
              "            '<a target=\"_blank\" href=https://colab.research.google.com/notebooks/data_table.ipynb>data table notebook</a>'\n",
              "            + ' to learn more about interactive tables.';\n",
              "          element.innerHTML = '';\n",
              "          dataTable['output_type'] = 'display_data';\n",
              "          await google.colab.output.renderOutput(dataTable, element);\n",
              "          const docLink = document.createElement('div');\n",
              "          docLink.innerHTML = docLinkHtml;\n",
              "          element.appendChild(docLink);\n",
              "        }\n",
              "      </script>\n",
              "    </div>\n",
              "  </div>\n",
              "  "
            ]
          },
          "metadata": {},
          "execution_count": 15
        }
      ]
    },
    {
      "cell_type": "code",
      "source": [
        "en_to_es['Avg_rec_per_stud'] = en_to_es['Num_records']/en_to_es['Num_students']"
      ],
      "metadata": {
        "id": "amjb63FT9DRJ"
      },
      "execution_count": 16,
      "outputs": []
    },
    {
      "cell_type": "code",
      "source": [
        "en_to_es['Avg_rec_per_stud'].hist(log=True,bins=20)"
      ],
      "metadata": {
        "colab": {
          "base_uri": "https://localhost:8080/",
          "height": 283
        },
        "id": "jdk8ZTrw9LeG",
        "outputId": "013336ab-e25c-461d-86e0-160e5246f066"
      },
      "execution_count": 19,
      "outputs": [
        {
          "output_type": "execute_result",
          "data": {
            "text/plain": [
              "<matplotlib.axes._subplots.AxesSubplot at 0x7f25551bbd50>"
            ]
          },
          "metadata": {},
          "execution_count": 19
        },
        {
          "output_type": "display_data",
          "data": {
            "text/plain": [
              "<Figure size 432x288 with 1 Axes>"
            ],
            "image/png": "[encoded data removed]"
          },
          "metadata": {
            "needs_background": "light"
          }
        }
      ]
    },
    {
      "cell_type": "code",
      "source": [
        "from sklearn.model_selection import train_test_split\n",
        "\n",
        "en_to_es_remaining,en_to_es_unseen_words,y_remaining,y_unseen_words = train_test_split(en_to_es[['Num_students','Num_records']],en_to_es['Avg_rec_per_stud'],test_size=0.25)"
      ],
      "metadata": {
        "id": "ko5fGgHO9qEM"
      },
      "execution_count": 29,
      "outputs": []
    },
    {
      "cell_type": "code",
      "source": [
        "en_to_es_unseen_words['Avg_rec_per_stud'] = y_unseen_words\n"
      ],
      "metadata": {
        "id": "Zge2WroR-SwY"
      },
      "execution_count": 30,
      "outputs": []
    },
    {
      "cell_type": "code",
      "source": [
        "plt.subplots(1,2,figsize=(10,4))\n",
        "plt.subplot(1,2,1)\n",
        "plt.title(\"Original Average rec per student distribution\")\n",
        "plt.xlabel(\"Average rec per student\")\n",
        "plt.ylabel(\"Frequency counts\")\n",
        "en_to_es['Avg_rec_per_stud'].hist(log=True,bins=20)\n",
        "plt.subplot(1,2,2)\n",
        "plt.title(\"Test set Average rec per student distribution\")\n",
        "plt.xlabel(\"Average rec per student\")\n",
        "plt.ylabel(\"Frequency counts\")\n",
        "en_to_es_unseen_words['Avg_rec_per_stud'].hist(log=True,bins=20)"
      ],
      "metadata": {
        "colab": {
          "base_uri": "https://localhost:8080/",
          "height": 313
        },
        "id": "j2X7lAZM-tvw",
        "outputId": "12f3f568-3b67-40d0-fb3d-dc3eceea1842"
      },
      "execution_count": 31,
      "outputs": [
        {
          "output_type": "execute_result",
          "data": {
            "text/plain": [
              "<matplotlib.axes._subplots.AxesSubplot at 0x7f2554310450>"
            ]
          },
          "metadata": {},
          "execution_count": 31
        },
        {
          "output_type": "display_data",
          "data": {
            "text/plain": [
              "<Figure size 720x288 with 2 Axes>"
            ],
            "image/png": "[encoded data removed]"
          },
          "metadata": {
            "needs_background": "light"
          }
        }
      ]
    },
    {
      "cell_type": "markdown",
      "source": [
        "English to Spanish"
      ],
      "metadata": {
        "id": "mKMhYWV2B3kH"
      }
    },
    {
      "cell_type": "code",
      "source": [
        "en_to_es = datadf3.loc[(datadf3['ui_language']=='en') & (datadf3['learning_language']=='es'),:].groupby(['lexeme_string']).agg(Num_students=pd.NamedAgg('user_id',uniquelen), Num_records = pd.NamedAgg('user_id','count'))\n",
        "en_to_es['Avg_rec_per_stud'] = en_to_es['Num_records']/en_to_es['Num_students']\n",
        "en_to_es_remaining,en_to_es_unseen_words,y_remaining,y_unseen_words = train_test_split(en_to_es[['Num_students','Num_records']],en_to_es['Avg_rec_per_stud'],test_size=0.25)\n",
        "en_to_es_unseen_words['Avg_rec_per_stud'] = y_unseen_words\n",
        "plt.subplots(1,2,figsize=(10,4))\n",
        "plt.subplot(1,2,1)\n",
        "plt.title(\"Original Average rec per student distribution\")\n",
        "plt.xlabel(\"Average rec per student\")\n",
        "plt.ylabel(\"Frequency counts\")\n",
        "en_to_es['Avg_rec_per_stud'].hist(log=True,bins=20)\n",
        "plt.subplot(1,2,2)\n",
        "plt.title(\"Test set Average rec per student distribution\")\n",
        "plt.xlabel(\"Average rec per student\")\n",
        "plt.ylabel(\"Frequency counts\")\n",
        "en_to_es_unseen_words['Avg_rec_per_stud'].hist(log=True,bins=20)"
      ],
      "metadata": {
        "colab": {
          "base_uri": "https://localhost:8080/",
          "height": 313
        },
        "id": "AcooKYdqAE3D",
        "outputId": "e95ec5ca-203b-4676-c1ba-f35499fb65d0"
      },
      "execution_count": 33,
      "outputs": [
        {
          "output_type": "execute_result",
          "data": {
            "text/plain": [
              "<matplotlib.axes._subplots.AxesSubplot at 0x7f25540fc8d0>"
            ]
          },
          "metadata": {},
          "execution_count": 33
        },
        {
          "output_type": "display_data",
          "data": {
            "text/plain": [
              "<Figure size 720x288 with 2 Axes>"
            ],
            "image/png": "[encoded data removed]"
          },
          "metadata": {
            "needs_background": "light"
          }
        }
      ]
    },
    {
      "cell_type": "markdown",
      "source": [
        "English to French"
      ],
      "metadata": {
        "id": "7XMzqXobB5mU"
      }
    },
    {
      "cell_type": "code",
      "source": [
        "en_to_fr = datadf3.loc[(datadf3['ui_language']=='en') & (datadf3['learning_language']=='fr'),:].groupby(['lexeme_string']).agg(Num_students=pd.NamedAgg('user_id',uniquelen), Num_records = pd.NamedAgg('user_id','count'))\n",
        "en_to_fr['Avg_rec_per_stud'] = en_to_fr['Num_records']/en_to_fr['Num_students']\n",
        "en_to_fr_remaining,en_to_fr_unseen_words,y_remaining,y_unseen_words = train_test_split(en_to_fr[['Num_students','Num_records']],en_to_fr['Avg_rec_per_stud'],test_size=0.25)\n",
        "en_to_fr_unseen_words['Avg_rec_per_stud'] = y_unseen_words\n",
        "plt.subplots(1,2,figsize=(10,4))\n",
        "plt.subplot(1,2,1)\n",
        "plt.title(\"Original Average rec per student distribution\")\n",
        "plt.xlabel(\"Average rec per student\")\n",
        "plt.ylabel(\"Frequency counts\")\n",
        "en_to_fr['Avg_rec_per_stud'].hist(log=True,bins=20)\n",
        "plt.subplot(1,2,2)\n",
        "plt.title(\"Test set Average rec per student distribution\")\n",
        "plt.xlabel(\"Average rec per student\")\n",
        "plt.ylabel(\"Frequency counts\")\n",
        "en_to_fr_unseen_words['Avg_rec_per_stud'].hist(log=True,bins=20)"
      ],
      "metadata": {
        "colab": {
          "base_uri": "https://localhost:8080/",
          "height": 313
        },
        "id": "qSY1eGd5AjhM",
        "outputId": "45a05081-6c0f-4bed-a831-be309c8a6c24"
      },
      "execution_count": 36,
      "outputs": [
        {
          "output_type": "execute_result",
          "data": {
            "text/plain": [
              "<matplotlib.axes._subplots.AxesSubplot at 0x7f2553ca0dd0>"
            ]
          },
          "metadata": {},
          "execution_count": 36
        },
        {
          "output_type": "display_data",
          "data": {
            "text/plain": [
              "<Figure size 720x288 with 2 Axes>"
            ],
            "image/png": "[encoded data removed]"
          },
          "metadata": {
            "needs_background": "light"
          }
        }
      ]
    },
    {
      "cell_type": "markdown",
      "source": [
        "English to Italian"
      ],
      "metadata": {
        "id": "f5FtDYk4B7Km"
      }
    },
    {
      "cell_type": "code",
      "source": [
        "en_to_it = datadf3.loc[(datadf3['ui_language']=='en') & (datadf3['learning_language']=='it'),:].groupby(['lexeme_string']).agg(Num_students=pd.NamedAgg('user_id',uniquelen), Num_records = pd.NamedAgg('user_id','count'))\n",
        "en_to_it['Avg_rec_per_stud'] = en_to_it['Num_records']/en_to_it['Num_students']\n",
        "en_to_it_remaining,en_to_it_unseen_words,y_remaining,y_unseen_words = train_test_split(en_to_it[['Num_students','Num_records']],en_to_it['Avg_rec_per_stud'],test_size=0.25)\n",
        "en_to_it_unseen_words['Avg_rec_per_stud'] = y_unseen_words\n",
        "plt.subplots(1,2,figsize=(10,4))\n",
        "plt.subplot(1,2,1)\n",
        "plt.title(\"Original Average rec per student distribution\")\n",
        "plt.xlabel(\"Average rec per student\")\n",
        "plt.ylabel(\"Frequency counts\")\n",
        "en_to_it['Avg_rec_per_stud'].hist(log=True,bins=20)\n",
        "plt.subplot(1,2,2)\n",
        "plt.title(\"Test set Average rec per student distribution\")\n",
        "plt.xlabel(\"Average rec per student\")\n",
        "plt.ylabel(\"Frequency counts\")\n",
        "en_to_it_unseen_words['Avg_rec_per_stud'].hist(log=True,bins=20)"
      ],
      "metadata": {
        "colab": {
          "base_uri": "https://localhost:8080/",
          "height": 313
        },
        "id": "yPYZ__9VB05V",
        "outputId": "d597ee60-bf6e-4c5f-d855-e04b7fff236c"
      },
      "execution_count": 37,
      "outputs": [
        {
          "output_type": "execute_result",
          "data": {
            "text/plain": [
              "<matplotlib.axes._subplots.AxesSubplot at 0x7f25539b24d0>"
            ]
          },
          "metadata": {},
          "execution_count": 37
        },
        {
          "output_type": "display_data",
          "data": {
            "text/plain": [
              "<Figure size 720x288 with 2 Axes>"
            ],
            "image/png": "[encoded data removed]"
          },
          "metadata": {
            "needs_background": "light"
          }
        }
      ]
    },
    {
      "cell_type": "markdown",
      "source": [
        "English to Portuguese"
      ],
      "metadata": {
        "id": "WZC8hfEsB_PC"
      }
    },
    {
      "cell_type": "code",
      "source": [
        "en_to_pt = datadf3.loc[(datadf3['ui_language']=='en') & (datadf3['learning_language']=='pt'),:].groupby(['lexeme_string']).agg(Num_students=pd.NamedAgg('user_id',uniquelen), Num_records = pd.NamedAgg('user_id','count'))\n",
        "en_to_pt['Avg_rec_per_stud'] = en_to_pt['Num_records']/en_to_pt['Num_students']\n",
        "en_to_pt_remaining,en_to_pt_unseen_words,y_remaining,y_unseen_words = train_test_split(en_to_pt[['Num_students','Num_records']],en_to_pt['Avg_rec_per_stud'],test_size=0.25)\n",
        "en_to_pt_unseen_words['Avg_rec_per_stud'] = y_unseen_words\n",
        "plt.subplots(1,2,figsize=(10,4))\n",
        "plt.subplot(1,2,1)\n",
        "plt.title(\"Original Average rec per student distribution\")\n",
        "plt.xlabel(\"Average rec per student\")\n",
        "plt.ylabel(\"Frequency counts\")\n",
        "en_to_pt['Avg_rec_per_stud'].hist(log=True,bins=20)\n",
        "plt.subplot(1,2,2)\n",
        "plt.title(\"Test set Average rec per student distribution\")\n",
        "plt.xlabel(\"Average rec per student\")\n",
        "plt.ylabel(\"Frequency counts\")\n",
        "en_to_pt_unseen_words['Avg_rec_per_stud'].hist(log=True,bins=20)"
      ],
      "metadata": {
        "colab": {
          "base_uri": "https://localhost:8080/",
          "height": 313
        },
        "id": "AJZ8LvQHCLNG",
        "outputId": "087e9917-cf1c-49bf-d64b-79a9f5c19b8d"
      },
      "execution_count": 38,
      "outputs": [
        {
          "output_type": "execute_result",
          "data": {
            "text/plain": [
              "<matplotlib.axes._subplots.AxesSubplot at 0x7f2554513c50>"
            ]
          },
          "metadata": {},
          "execution_count": 38
        },
        {
          "output_type": "display_data",
          "data": {
            "text/plain": [
              "<Figure size 720x288 with 2 Axes>"
            ],
            "image/png": "[encoded data removed]"
          },
          "metadata": {
            "needs_background": "light"
          }
        }
      ]
    },
    {
      "cell_type": "markdown",
      "source": [
        "Portuguese to English"
      ],
      "metadata": {
        "id": "-dSPLvFECOa9"
      }
    },
    {
      "cell_type": "code",
      "source": [
        "pt_to_en = datadf3.loc[(datadf3['ui_language']=='pt') & (datadf3['learning_language']=='en'),:].groupby(['lexeme_string']).agg(Num_students=pd.NamedAgg('user_id',uniquelen), Num_records = pd.NamedAgg('user_id','count'))\n",
        "pt_to_en['Avg_rec_per_stud'] = pt_to_en['Num_records']/pt_to_en['Num_students']\n",
        "pt_to_en_remaining,pt_to_en_unseen_words,y_remaining,y_unseen_words = train_test_split(pt_to_en[['Num_students','Num_records']],pt_to_en['Avg_rec_per_stud'],test_size=0.25)\n",
        "pt_to_en_unseen_words['Avg_rec_per_stud'] = y_unseen_words\n",
        "plt.subplots(1,2,figsize=(10,4))\n",
        "plt.subplot(1,2,1)\n",
        "plt.title(\"Original Average rec per student distribution\")\n",
        "plt.xlabel(\"Average rec per student\")\n",
        "plt.ylabel(\"Frequency counts\")\n",
        "pt_to_en['Avg_rec_per_stud'].hist(log=True,bins=20)\n",
        "plt.subplot(1,2,2)\n",
        "plt.title(\"Test set Average rec per student distribution\")\n",
        "plt.xlabel(\"Average rec per student\")\n",
        "plt.ylabel(\"Frequency counts\")\n",
        "pt_to_en_unseen_words['Avg_rec_per_stud'].hist(log=True,bins=20)"
      ],
      "metadata": {
        "colab": {
          "base_uri": "https://localhost:8080/",
          "height": 313
        },
        "id": "XArS2tUACUvc",
        "outputId": "60c741d9-558e-415f-910f-7b95b1d4e96c"
      },
      "execution_count": 39,
      "outputs": [
        {
          "output_type": "execute_result",
          "data": {
            "text/plain": [
              "<matplotlib.axes._subplots.AxesSubplot at 0x7f2553f4a1d0>"
            ]
          },
          "metadata": {},
          "execution_count": 39
        },
        {
          "output_type": "display_data",
          "data": {
            "text/plain": [
              "<Figure size 720x288 with 2 Axes>"
            ],
            "image/png": "[encoded data removed]"
          },
          "metadata": {
            "needs_background": "light"
          }
        }
      ]
    },
    {
      "cell_type": "markdown",
      "source": [
        "Spanish to English"
      ],
      "metadata": {
        "id": "a8Yb-XF3CkW5"
      }
    },
    {
      "cell_type": "code",
      "source": [
        "es_to_en = datadf3.loc[(datadf3['ui_language']=='es') & (datadf3['learning_language']=='en'),:].groupby(['lexeme_string']).agg(Num_students=pd.NamedAgg('user_id',uniquelen), Num_records = pd.NamedAgg('user_id','count'))\n",
        "es_to_en['Avg_rec_per_stud'] = es_to_en['Num_records']/es_to_en['Num_students']\n",
        "es_to_en_remaining,es_to_en_unseen_words,y_remaining,y_unseen_words = train_test_split(es_to_en[['Num_students','Num_records']],es_to_en['Avg_rec_per_stud'],test_size=0.25)\n",
        "es_to_en_unseen_words['Avg_rec_per_stud'] = y_unseen_words\n",
        "plt.subplots(1,2,figsize=(10,4))\n",
        "plt.subplot(1,2,1)\n",
        "plt.title(\"Original Average rec per student distribution\")\n",
        "plt.xlabel(\"Average rec per student\")\n",
        "plt.ylabel(\"Frequency counts\")\n",
        "es_to_en['Avg_rec_per_stud'].hist(log=True,bins=20)\n",
        "plt.subplot(1,2,2)\n",
        "plt.title(\"Test set Average rec per student distribution\")\n",
        "plt.xlabel(\"Average rec per student\")\n",
        "plt.ylabel(\"Frequency counts\")\n",
        "es_to_en_unseen_words['Avg_rec_per_stud'].hist(log=True,bins=20)"
      ],
      "metadata": {
        "colab": {
          "base_uri": "https://localhost:8080/",
          "height": 313
        },
        "id": "O6PQTJhQCmWo",
        "outputId": "55ed1379-9753-4246-a554-d2f734768f84"
      },
      "execution_count": 40,
      "outputs": [
        {
          "output_type": "execute_result",
          "data": {
            "text/plain": [
              "<matplotlib.axes._subplots.AxesSubplot at 0x7f25535d0bd0>"
            ]
          },
          "metadata": {},
          "execution_count": 40
        },
        {
          "output_type": "display_data",
          "data": {
            "text/plain": [
              "<Figure size 720x288 with 2 Axes>"
            ],
            "image/png": "[encoded data removed]"
          },
          "metadata": {
            "needs_background": "light"
          }
        }
      ]
    },
    {
      "cell_type": "code",
      "source": [
        "unseen_words = list(en_to_es_unseen_words.index) + list(en_to_pt_unseen_words.index)\\\n",
        "+list(es_to_en_unseen_words.index) + list(en_to_fr_unseen_words.index)\\\n",
        "+list(en_to_it_unseen_words.index) + list(pt_to_en_unseen_words.index)"
      ],
      "metadata": {
        "id": "ivv0pRoyyVu0"
      },
      "execution_count": 46,
      "outputs": []
    },
    {
      "cell_type": "code",
      "source": [
        "unseen_words_set = datadf3.loc[datadf3['lexeme_string'].isin(unseen_words),:]"
      ],
      "metadata": {
        "id": "PuGpCUwJzbYT"
      },
      "execution_count": 48,
      "outputs": []
    },
    {
      "cell_type": "code",
      "source": [
        "unseen_words_set.shape"
      ],
      "metadata": {
        "colab": {
          "base_uri": "https://localhost:8080/"
        },
        "id": "p8JbgJr7Ds8K",
        "outputId": "c3ef9fa7-e3c7-42e1-a605-b166a888b0a3"
      },
      "execution_count": 49,
      "outputs": [
        {
          "output_type": "execute_result",
          "data": {
            "text/plain": [
              "(3695667, 14)"
            ]
          },
          "metadata": {},
          "execution_count": 49
        }
      ]
    },
    {
      "cell_type": "code",
      "source": [
        "unseen_words_set.shape[0]/datadf3.shape[0]*100"
      ],
      "metadata": {
        "colab": {
          "base_uri": "https://localhost:8080/"
        },
        "id": "7c-zqys5Dvd9",
        "outputId": "b7d6e535-9915-48dd-fba3-e2ca4002be40"
      },
      "execution_count": 51,
      "outputs": [
        {
          "output_type": "execute_result",
          "data": {
            "text/plain": [
              "37.255177106566364"
            ]
          },
          "metadata": {},
          "execution_count": 51
        }
      ]
    },
    {
      "cell_type": "markdown",
      "source": [
        "This is a bit higher than we want. Let's look at just 80% of the list unseen_words"
      ],
      "metadata": {
        "id": "8UlejwfdD2jL"
      }
    },
    {
      "cell_type": "code",
      "source": [
        "import random\n",
        "unseen_words = set(unseen_words)\n",
        "len_uw = int(0.7*len(unseen_words))\n",
        "unseen_words_set = datadf3.loc[datadf3['lexeme_string'].isin(random.sample(unseen_words,len_uw)),:]"
      ],
      "metadata": {
        "id": "u4vrBuZbD9D7"
      },
      "execution_count": 61,
      "outputs": []
    },
    {
      "cell_type": "code",
      "source": [
        "unseen_words_set.shape[0]/datadf3.shape[0]*100"
      ],
      "metadata": {
        "colab": {
          "base_uri": "https://localhost:8080/"
        },
        "id": "cqrkhSaTFNmF",
        "outputId": "c73bc14a-a055-496a-a0cd-b334db4e9cac"
      },
      "execution_count": 62,
      "outputs": [
        {
          "output_type": "execute_result",
          "data": {
            "text/plain": [
              "26.275744402021196"
            ]
          },
          "metadata": {},
          "execution_count": 62
        }
      ]
    },
    {
      "cell_type": "code",
      "source": [
        "datadf4 = datadf3.drop(unseen_words_set.index)"
      ],
      "metadata": {
        "id": "Pk3CGpjpFVSb"
      },
      "execution_count": 64,
      "outputs": []
    },
    {
      "cell_type": "code",
      "source": [
        "compressed_pickle(path_name+\"Unseen_words_test_set\",unseen_words_set)"
      ],
      "metadata": {
        "id": "RE7MfQAGFmNe"
      },
      "execution_count": 67,
      "outputs": []
    },
    {
      "cell_type": "code",
      "source": [
        "compressed_pickle(path_name+\"Unseen_words_training_set\",datadf4)"
      ],
      "metadata": {
        "id": "cPCXRsoQFs3S"
      },
      "execution_count": 68,
      "outputs": []
    },
    {
      "cell_type": "markdown",
      "source": [
        "We have 26% of the dataset set apart for unseen words. We have saved it as a compressed pickle file."
      ],
      "metadata": {
        "id": "8AtbmEsC0vnU"
      }
    }
  ]
}